{
 "cells": [
  {
   "cell_type": "code",
   "execution_count": 6,
   "metadata": {},
   "outputs": [
    {
     "data": {
      "text/html": [
       "<ol class=list-inline>\n",
       "\t<li>2917</li>\n",
       "\t<li>81</li>\n",
       "</ol>\n"
      ],
      "text/latex": [
       "\\begin{enumerate*}\n",
       "\\item 2917\n",
       "\\item 81\n",
       "\\end{enumerate*}\n"
      ],
      "text/markdown": [
       "1. 2917\n",
       "2. 81\n",
       "\n",
       "\n"
      ],
      "text/plain": [
       "[1] 2917   81"
      ]
     },
     "metadata": {},
     "output_type": "display_data"
    }
   ],
   "source": [
    "setwd(paste0(Sys.getenv('R_SOURCES'), '/house_prices'))\n",
    "\n",
    "house_prices <- source('main.R', local = TRUE)$value\n",
    "\n",
    "combined_dataset <-\n",
    "    house_prices$helpers$load_data() %>%\n",
    "    (house_prices$outliers$remove_outliers) %>%\n",
    "    (house_prices$missing$fix_all) %>%\n",
    "    select(-Id)\n",
    "\n",
    "test_that(\"should be no NA values except SalePrice column\", {\n",
    "    expect_equal(sum(is.na(combined_dataset %>% select(-SalePrice))), 0)\n",
    "})\n",
    "\n",
    "combined_dataset %>% dim"
   ]
  },
  {
   "cell_type": "markdown",
   "metadata": {},
   "source": [
    "### Passing named list to mutate (and probably other dplyr verbs)\n",
    "https://community.rstudio.com/t/passing-named-list-to-mutate-and-probably-other-dplyr-verbs/2553/6"
   ]
  },
  {
   "cell_type": "code",
   "execution_count": 2,
   "metadata": {},
   "outputs": [
    {
     "name": "stdout",
     "output_type": "stream",
     "text": [
      "[1] 1.609438\n",
      "[1] 2\n",
      "[1] 1.587401\n"
     ]
    },
    {
     "data": {
      "text/html": [
       "<table>\n",
       "<thead><tr><th scope=col>tran_name</th><th scope=col>tran_fn</th></tr></thead>\n",
       "<tbody>\n",
       "\t<tr><td>log                      </td><td>function (x) , log(x + 1)</td></tr>\n",
       "\t<tr><td>sqrt                  </td><td>function (x) , sqrt(x)</td></tr>\n",
       "\t<tr><td>inv3                  </td><td>function (x) , x^(1/3)</td></tr>\n",
       "</tbody>\n",
       "</table>\n"
      ],
      "text/latex": [
       "\\begin{tabular}{r|ll}\n",
       " tran\\_name & tran\\_fn\\\\\n",
       "\\hline\n",
       "\t log                       & function (x) , log(x + 1)\\\\\n",
       "\t sqrt                   & function (x) , sqrt(x)\\\\\n",
       "\t inv3                                     & function (x) , x\\textasciicircum{}(1/3)\\\\\n",
       "\\end{tabular}\n"
      ],
      "text/markdown": [
       "\n",
       "tran_name | tran_fn | \n",
       "|---|---|---|\n",
       "| log                       | function (x) , log(x + 1) | \n",
       "| sqrt                   | function (x) , sqrt(x) | \n",
       "| inv3                   | function (x) , x^(1/3) | \n",
       "\n",
       "\n"
      ],
      "text/plain": [
       "  tran_name tran_fn                  \n",
       "1 log       function (x) , log(x + 1)\n",
       "2 sqrt      function (x) , sqrt(x)   \n",
       "3 inv3      function (x) , x^(1/3)   "
      ]
     },
     "metadata": {},
     "output_type": "display_data"
    }
   ],
   "source": [
    "Trans <- tribble(\n",
    "    ~tran_name, ~tran_fn,\n",
    "    'log',      function(x) log(x+1),\n",
    "    'sqrt',     function(x) sqrt(x),\n",
    "    'inv3',  function(x) x**(1/3)\n",
    ")\n",
    "\n",
    "for (row in 1:nrow(Trans)) {\n",
    "    Trans[[row, \"tran_fn\"]](4) %>% print\n",
    "}\n",
    "        \n",
    "Trans"
   ]
  },
  {
   "cell_type": "code",
   "execution_count": 8,
   "metadata": {},
   "outputs": [
    {
     "data": {
      "text/html": [
       "<table>\n",
       "<thead><tr><th scope=col>var</th><th scope=col>x</th><th scope=col>log</th><th scope=col>sqrt</th><th scope=col>inv3</th></tr></thead>\n",
       "<tbody>\n",
       "\t<tr><td>LotFrontage</td><td>65         </td><td>4.189655   </td><td>8.062258   </td><td>4.020726   </td></tr>\n",
       "\t<tr><td>LotFrontage</td><td>80         </td><td>4.394449   </td><td>8.944272   </td><td>4.308869   </td></tr>\n",
       "\t<tr><td>LotFrontage</td><td>68         </td><td>4.234107   </td><td>8.246211   </td><td>4.081655   </td></tr>\n",
       "\t<tr><td>LotFrontage</td><td>60         </td><td>4.110874   </td><td>7.745967   </td><td>3.914868   </td></tr>\n",
       "\t<tr><td>LotFrontage</td><td>84         </td><td>4.442651   </td><td>9.165151   </td><td>4.379519   </td></tr>\n",
       "\t<tr><td>LotFrontage</td><td>85         </td><td>4.454347   </td><td>9.219544   </td><td>4.396830   </td></tr>\n",
       "</tbody>\n",
       "</table>\n"
      ],
      "text/latex": [
       "\\begin{tabular}{r|lllll}\n",
       " var & x & log & sqrt & inv3\\\\\n",
       "\\hline\n",
       "\t LotFrontage & 65          & 4.189655    & 8.062258    & 4.020726   \\\\\n",
       "\t LotFrontage & 80          & 4.394449    & 8.944272    & 4.308869   \\\\\n",
       "\t LotFrontage & 68          & 4.234107    & 8.246211    & 4.081655   \\\\\n",
       "\t LotFrontage & 60          & 4.110874    & 7.745967    & 3.914868   \\\\\n",
       "\t LotFrontage & 84          & 4.442651    & 9.165151    & 4.379519   \\\\\n",
       "\t LotFrontage & 85          & 4.454347    & 9.219544    & 4.396830   \\\\\n",
       "\\end{tabular}\n"
      ],
      "text/markdown": [
       "\n",
       "var | x | log | sqrt | inv3 | \n",
       "|---|---|---|---|---|---|\n",
       "| LotFrontage | 65          | 4.189655    | 8.062258    | 4.020726    | \n",
       "| LotFrontage | 80          | 4.394449    | 8.944272    | 4.308869    | \n",
       "| LotFrontage | 68          | 4.234107    | 8.246211    | 4.081655    | \n",
       "| LotFrontage | 60          | 4.110874    | 7.745967    | 3.914868    | \n",
       "| LotFrontage | 84          | 4.442651    | 9.165151    | 4.379519    | \n",
       "| LotFrontage | 85          | 4.454347    | 9.219544    | 4.396830    | \n",
       "\n",
       "\n"
      ],
      "text/plain": [
       "  var         x  log      sqrt     inv3    \n",
       "1 LotFrontage 65 4.189655 8.062258 4.020726\n",
       "2 LotFrontage 80 4.394449 8.944272 4.308869\n",
       "3 LotFrontage 68 4.234107 8.246211 4.081655\n",
       "4 LotFrontage 60 4.110874 7.745967 3.914868\n",
       "5 LotFrontage 84 4.442651 9.165151 4.379519\n",
       "6 LotFrontage 85 4.454347 9.219544 4.396830"
      ]
     },
     "metadata": {},
     "output_type": "display_data"
    }
   ],
   "source": [
    "TN <- source('transform_numeric_vars.R', local = TRUE)$value\n",
    "\n",
    "df1 <- TN$calc_tran_config_step1(\n",
    "    dataset = combined_dataset %>%\n",
    "              select(-SalePrice) %>%\n",
    "              select_if(is.numeric),\n",
    "    trans = Trans\n",
    ")\n",
    "\n",
    "df1 %>% head"
   ]
  },
  {
   "cell_type": "code",
   "execution_count": 9,
   "metadata": {},
   "outputs": [
    {
     "data": {
      "text/html": [
       "<table>\n",
       "<thead><tr><th scope=col>var</th><th scope=col>tran</th><th scope=col>value</th><th scope=col>value_normed</th></tr></thead>\n",
       "<tbody>\n",
       "\t<tr><td>LotArea    </td><td>x          </td><td>8450.000000</td><td>-0.21639955</td></tr>\n",
       "\t<tr><td>LotArea    </td><td>x          </td><td>9600.000000</td><td>-0.06909653</td></tr>\n",
       "\t<tr><td>LotArea    </td><td>log        </td><td>   9.042040</td><td>-0.10174374</td></tr>\n",
       "\t<tr><td>LotArea    </td><td>log        </td><td>   9.169623</td><td> 0.14940974</td></tr>\n",
       "\t<tr><td>LotArea    </td><td>sqrt       </td><td>  91.923882</td><td>-0.21081495</td></tr>\n",
       "\t<tr><td>LotArea    </td><td>sqrt       </td><td>  97.979590</td><td> 0.02444502</td></tr>\n",
       "\t<tr><td>LotArea    </td><td>inv3       </td><td>  20.368181</td><td>-0.18204458</td></tr>\n",
       "\t<tr><td>LotArea    </td><td>inv3       </td><td>  21.253171</td><td> 0.06700854</td></tr>\n",
       "</tbody>\n",
       "</table>\n"
      ],
      "text/latex": [
       "\\begin{tabular}{r|llll}\n",
       " var & tran & value & value\\_normed\\\\\n",
       "\\hline\n",
       "\t LotArea     & x           & 8450.000000 & -0.21639955\\\\\n",
       "\t LotArea     & x           & 9600.000000 & -0.06909653\\\\\n",
       "\t LotArea     & log         &    9.042040 & -0.10174374\\\\\n",
       "\t LotArea     & log         &    9.169623 &  0.14940974\\\\\n",
       "\t LotArea     & sqrt        &   91.923882 & -0.21081495\\\\\n",
       "\t LotArea     & sqrt        &   97.979590 &  0.02444502\\\\\n",
       "\t LotArea     & inv3        &   20.368181 & -0.18204458\\\\\n",
       "\t LotArea     & inv3        &   21.253171 &  0.06700854\\\\\n",
       "\\end{tabular}\n"
      ],
      "text/markdown": [
       "\n",
       "var | tran | value | value_normed | \n",
       "|---|---|---|---|---|---|---|---|\n",
       "| LotArea     | x           | 8450.000000 | -0.21639955 | \n",
       "| LotArea     | x           | 9600.000000 | -0.06909653 | \n",
       "| LotArea     | log         |    9.042040 | -0.10174374 | \n",
       "| LotArea     | log         |    9.169623 |  0.14940974 | \n",
       "| LotArea     | sqrt        |   91.923882 | -0.21081495 | \n",
       "| LotArea     | sqrt        |   97.979590 |  0.02444502 | \n",
       "| LotArea     | inv3        |   20.368181 | -0.18204458 | \n",
       "| LotArea     | inv3        |   21.253171 |  0.06700854 | \n",
       "\n",
       "\n"
      ],
      "text/plain": [
       "  var     tran value       value_normed\n",
       "1 LotArea x    8450.000000 -0.21639955 \n",
       "2 LotArea x    9600.000000 -0.06909653 \n",
       "3 LotArea log     9.042040 -0.10174374 \n",
       "4 LotArea log     9.169623  0.14940974 \n",
       "5 LotArea sqrt   91.923882 -0.21081495 \n",
       "6 LotArea sqrt   97.979590  0.02444502 \n",
       "7 LotArea inv3   20.368181 -0.18204458 \n",
       "8 LotArea inv3   21.253171  0.06700854 "
      ]
     },
     "metadata": {},
     "output_type": "display_data"
    }
   ],
   "source": [
    "df2 <- TN$calc_tran_config_step2(df1)\n",
    "\n",
    "df2 %>% \n",
    "filter(var == 'LotArea') %>% \n",
    "filter(row_number() < 3)"
   ]
  },
  {
   "cell_type": "code",
   "execution_count": 10,
   "metadata": {},
   "outputs": [
    {
     "data": {
      "text/html": [
       "<table>\n",
       "<thead><tr><th scope=col>var</th><th scope=col>tran</th><th scope=col>value_normed</th><th scope=col>k</th></tr></thead>\n",
       "<tbody>\n",
       "\t<tr><td>YrSold    </td><td>inv3      </td><td>-1.3633378</td><td>619       </td></tr>\n",
       "\t<tr><td>YrSold    </td><td>inv3      </td><td>-0.6027227</td><td>691       </td></tr>\n",
       "\t<tr><td>YrSold    </td><td>inv3      </td><td> 0.1576398</td><td>621       </td></tr>\n",
       "\t<tr><td>YrSold    </td><td>inv3      </td><td> 0.9177499</td><td>647       </td></tr>\n",
       "\t<tr><td>YrSold    </td><td>inv3      </td><td> 1.6776078</td><td>339       </td></tr>\n",
       "\t<tr><td>YrSold    </td><td>log       </td><td>-1.3634510</td><td>619       </td></tr>\n",
       "\t<tr><td>YrSold    </td><td>log       </td><td>-0.6026620</td><td>691       </td></tr>\n",
       "\t<tr><td>YrSold    </td><td>log       </td><td> 0.1577483</td><td>621       </td></tr>\n",
       "\t<tr><td>YrSold    </td><td>log       </td><td> 0.9177802</td><td>647       </td></tr>\n",
       "\t<tr><td>YrSold    </td><td>log       </td><td> 1.6774340</td><td>339       </td></tr>\n",
       "\t<tr><td>YrSold    </td><td>sqrt      </td><td>-1.3632811</td><td>619       </td></tr>\n",
       "\t<tr><td>YrSold    </td><td>sqrt      </td><td>-0.6027531</td><td>691       </td></tr>\n",
       "\t<tr><td>YrSold    </td><td>sqrt      </td><td> 0.1575854</td><td>621       </td></tr>\n",
       "\t<tr><td>YrSold    </td><td>sqrt      </td><td> 0.9177347</td><td>647       </td></tr>\n",
       "\t<tr><td>YrSold    </td><td>sqrt      </td><td> 1.6776948</td><td>339       </td></tr>\n",
       "\t<tr><td>YrSold    </td><td>x         </td><td>-1.3631111</td><td>619       </td></tr>\n",
       "\t<tr><td>YrSold    </td><td>x         </td><td>-0.6028444</td><td>691       </td></tr>\n",
       "\t<tr><td>YrSold    </td><td>x         </td><td> 0.1574224</td><td>621       </td></tr>\n",
       "\t<tr><td>YrSold    </td><td>x         </td><td> 0.9176891</td><td>647       </td></tr>\n",
       "\t<tr><td>YrSold    </td><td>x         </td><td> 1.6779559</td><td>339       </td></tr>\n",
       "</tbody>\n",
       "</table>\n"
      ],
      "text/latex": [
       "\\begin{tabular}{r|llll}\n",
       " var & tran & value\\_normed & k\\\\\n",
       "\\hline\n",
       "\t YrSold     & inv3       & -1.3633378 & 619       \\\\\n",
       "\t YrSold     & inv3       & -0.6027227 & 691       \\\\\n",
       "\t YrSold     & inv3       &  0.1576398 & 621       \\\\\n",
       "\t YrSold     & inv3       &  0.9177499 & 647       \\\\\n",
       "\t YrSold     & inv3       &  1.6776078 & 339       \\\\\n",
       "\t YrSold     & log        & -1.3634510 & 619       \\\\\n",
       "\t YrSold     & log        & -0.6026620 & 691       \\\\\n",
       "\t YrSold     & log        &  0.1577483 & 621       \\\\\n",
       "\t YrSold     & log        &  0.9177802 & 647       \\\\\n",
       "\t YrSold     & log        &  1.6774340 & 339       \\\\\n",
       "\t YrSold     & sqrt       & -1.3632811 & 619       \\\\\n",
       "\t YrSold     & sqrt       & -0.6027531 & 691       \\\\\n",
       "\t YrSold     & sqrt       &  0.1575854 & 621       \\\\\n",
       "\t YrSold     & sqrt       &  0.9177347 & 647       \\\\\n",
       "\t YrSold     & sqrt       &  1.6776948 & 339       \\\\\n",
       "\t YrSold     & x          & -1.3631111 & 619       \\\\\n",
       "\t YrSold     & x          & -0.6028444 & 691       \\\\\n",
       "\t YrSold     & x          &  0.1574224 & 621       \\\\\n",
       "\t YrSold     & x          &  0.9176891 & 647       \\\\\n",
       "\t YrSold     & x          &  1.6779559 & 339       \\\\\n",
       "\\end{tabular}\n"
      ],
      "text/markdown": [
       "\n",
       "var | tran | value_normed | k | \n",
       "|---|---|---|---|---|---|---|---|---|---|---|---|---|---|---|---|---|---|---|---|\n",
       "| YrSold     | inv3       | -1.3633378 | 619        | \n",
       "| YrSold     | inv3       | -0.6027227 | 691        | \n",
       "| YrSold     | inv3       |  0.1576398 | 621        | \n",
       "| YrSold     | inv3       |  0.9177499 | 647        | \n",
       "| YrSold     | inv3       |  1.6776078 | 339        | \n",
       "| YrSold     | log        | -1.3634510 | 619        | \n",
       "| YrSold     | log        | -0.6026620 | 691        | \n",
       "| YrSold     | log        |  0.1577483 | 621        | \n",
       "| YrSold     | log        |  0.9177802 | 647        | \n",
       "| YrSold     | log        |  1.6774340 | 339        | \n",
       "| YrSold     | sqrt       | -1.3632811 | 619        | \n",
       "| YrSold     | sqrt       | -0.6027531 | 691        | \n",
       "| YrSold     | sqrt       |  0.1575854 | 621        | \n",
       "| YrSold     | sqrt       |  0.9177347 | 647        | \n",
       "| YrSold     | sqrt       |  1.6776948 | 339        | \n",
       "| YrSold     | x          | -1.3631111 | 619        | \n",
       "| YrSold     | x          | -0.6028444 | 691        | \n",
       "| YrSold     | x          |  0.1574224 | 621        | \n",
       "| YrSold     | x          |  0.9176891 | 647        | \n",
       "| YrSold     | x          |  1.6779559 | 339        | \n",
       "\n",
       "\n"
      ],
      "text/plain": [
       "   var    tran value_normed k  \n",
       "1  YrSold inv3 -1.3633378   619\n",
       "2  YrSold inv3 -0.6027227   691\n",
       "3  YrSold inv3  0.1576398   621\n",
       "4  YrSold inv3  0.9177499   647\n",
       "5  YrSold inv3  1.6776078   339\n",
       "6  YrSold log  -1.3634510   619\n",
       "7  YrSold log  -0.6026620   691\n",
       "8  YrSold log   0.1577483   621\n",
       "9  YrSold log   0.9177802   647\n",
       "10 YrSold log   1.6774340   339\n",
       "11 YrSold sqrt -1.3632811   619\n",
       "12 YrSold sqrt -0.6027531   691\n",
       "13 YrSold sqrt  0.1575854   621\n",
       "14 YrSold sqrt  0.9177347   647\n",
       "15 YrSold sqrt  1.6776948   339\n",
       "16 YrSold x    -1.3631111   619\n",
       "17 YrSold x    -0.6028444   691\n",
       "18 YrSold x     0.1574224   621\n",
       "19 YrSold x     0.9176891   647\n",
       "20 YrSold x     1.6779559   339"
      ]
     },
     "metadata": {},
     "output_type": "display_data"
    }
   ],
   "source": [
    "df3 <- TN$calc_tran_config_step3(df2)\n",
    "\n",
    "df3 %>% filter(var == 'YrSold')"
   ]
  },
  {
   "cell_type": "code",
   "execution_count": 11,
   "metadata": {},
   "outputs": [
    {
     "data": {
      "text/html": [
       "<table>\n",
       "<thead><tr><th scope=col>var</th><th scope=col>tran</th><th scope=col>L2_distance</th></tr></thead>\n",
       "<tbody>\n",
       "\t<tr><td>LotArea </td><td>inv3    </td><td>10.78862</td></tr>\n",
       "\t<tr><td>LotArea </td><td>log     </td><td>13.31376</td></tr>\n",
       "\t<tr><td>LotArea </td><td>sqrt    </td><td>13.39006</td></tr>\n",
       "\t<tr><td>LotArea </td><td>x       </td><td>50.03278</td></tr>\n",
       "</tbody>\n",
       "</table>\n"
      ],
      "text/latex": [
       "\\begin{tabular}{r|lll}\n",
       " var & tran & L2\\_distance\\\\\n",
       "\\hline\n",
       "\t LotArea  & inv3     & 10.78862\\\\\n",
       "\t LotArea  & log      & 13.31376\\\\\n",
       "\t LotArea  & sqrt     & 13.39006\\\\\n",
       "\t LotArea  & x        & 50.03278\\\\\n",
       "\\end{tabular}\n"
      ],
      "text/markdown": [
       "\n",
       "var | tran | L2_distance | \n",
       "|---|---|---|---|\n",
       "| LotArea  | inv3     | 10.78862 | \n",
       "| LotArea  | log      | 13.31376 | \n",
       "| LotArea  | sqrt     | 13.39006 | \n",
       "| LotArea  | x        | 50.03278 | \n",
       "\n",
       "\n"
      ],
      "text/plain": [
       "  var     tran L2_distance\n",
       "1 LotArea inv3 10.78862   \n",
       "2 LotArea log  13.31376   \n",
       "3 LotArea sqrt 13.39006   \n",
       "4 LotArea x    50.03278   "
      ]
     },
     "metadata": {},
     "output_type": "display_data"
    }
   ],
   "source": [
    "df4 <- TN$calc_tran_config_step4(df3)\n",
    "\n",
    "df4 %>% filter(var == 'LotArea')"
   ]
  },
  {
   "cell_type": "code",
   "execution_count": 30,
   "metadata": {},
   "outputs": [
    {
     "data": {
      "text/html": [
       "<table>\n",
       "<thead><tr><th scope=col>var</th><th scope=col>best_tran</th></tr></thead>\n",
       "<tbody>\n",
       "\t<tr><td>GrLivArea                         </td><td>log             , 91.1579415746179</td></tr>\n",
       "\t<tr><td>LotArea                         </td><td>inv3           , 78.436890821096</td></tr>\n",
       "\t<tr><td>OverallQual                       </td><td>log             , 29.9443565176069</td></tr>\n",
       "</tbody>\n",
       "</table>\n"
      ],
      "text/latex": [
       "\\begin{tabular}{r|ll}\n",
       " var & best\\_tran\\\\\n",
       "\\hline\n",
       "\t GrLivArea                          & log             , 91.1579415746179\\\\\n",
       "\t LotArea                          & inv3           , 78.436890821096\\\\\n",
       "\t OverallQual                        & log             , 29.9443565176069\\\\\n",
       "\\end{tabular}\n"
      ],
      "text/markdown": [
       "\n",
       "var | best_tran | \n",
       "|---|---|---|\n",
       "| GrLivArea                          | log             , 91.1579415746179 | \n",
       "| LotArea                          | inv3           , 78.436890821096 | \n",
       "| OverallQual                        | log             , 29.9443565176069 | \n",
       "\n",
       "\n"
      ],
      "text/plain": [
       "  var         best_tran                         \n",
       "1 GrLivArea   log             , 91.1579415746179\n",
       "2 LotArea     inv3           , 78.436890821096  \n",
       "3 OverallQual log             , 29.9443565176069"
      ]
     },
     "metadata": {},
     "output_type": "display_data"
    }
   ],
   "source": [
    "df5 <- TN$calc_tran_config_step5(df4)\n",
    "\n",
    "df5 %>% filter(var %in% c('LotArea', 'GrLivArea', 'OverallQual'))"
   ]
  },
  {
   "cell_type": "code",
   "execution_count": 53,
   "metadata": {},
   "outputs": [
    {
     "data": {
      "text/html": [
       "<table>\n",
       "<thead><tr><th scope=col>var</th><th scope=col>tran_name</th><th scope=col>progress_score</th><th scope=col>tran_fn</th></tr></thead>\n",
       "<tbody>\n",
       "\t<tr><td>GrLivArea                </td><td>log                      </td><td>91.15794157              </td><td>function (x) , log(x + 1)</td></tr>\n",
       "\t<tr><td>X1stFlrSF                </td><td>log                      </td><td>90.77165686              </td><td>function (x) , log(x + 1)</td></tr>\n",
       "\t<tr><td>BsmtUnfSF             </td><td>sqrt                  </td><td>79.97603070           </td><td>function (x) , sqrt(x)</td></tr>\n",
       "\t<tr><td>LotArea               </td><td>inv3                  </td><td>78.43689082           </td><td>function (x) , x^(1/3)</td></tr>\n",
       "\t<tr><td>TotRmsAbvGrd             </td><td>log                      </td><td>30.68501506              </td><td>function (x) , log(x + 1)</td></tr>\n",
       "\t<tr><td>OverallQual              </td><td>log                      </td><td>29.94435652              </td><td>function (x) , log(x + 1)</td></tr>\n",
       "\t<tr><td>GarageCars               </td><td>log                      </td><td>24.95676474              </td><td>function (x) , log(x + 1)</td></tr>\n",
       "\t<tr><td>BedroomAbvGr             </td><td>log                      </td><td>22.37508601              </td><td>function (x) , log(x + 1)</td></tr>\n",
       "\t<tr><td>OverallCond              </td><td>log                      </td><td>16.24723935              </td><td>function (x) , log(x + 1)</td></tr>\n",
       "\t<tr><td>FullBath              </td><td>inv3                  </td><td> 8.79733251           </td><td>function (x) , x^(1/3)</td></tr>\n",
       "\t<tr><td>KitchenAbvGr          </td><td>inv3                  </td><td> 5.49562055           </td><td>function (x) , x^(1/3)</td></tr>\n",
       "\t<tr><td>Fireplaces            </td><td>inv3                  </td><td> 3.73970434           </td><td>function (x) , x^(1/3)</td></tr>\n",
       "\t<tr><td>YrSold                   </td><td>log                      </td><td> 0.05561352              </td><td>function (x) , log(x + 1)</td></tr>\n",
       "</tbody>\n",
       "</table>\n"
      ],
      "text/latex": [
       "\\begin{tabular}{r|llll}\n",
       " var & tran\\_name & progress\\_score & tran\\_fn\\\\\n",
       "\\hline\n",
       "\t GrLivArea                 & log                       & 91.15794157               & function (x) , log(x + 1)\\\\\n",
       "\t X1stFlrSF                 & log                       & 90.77165686               & function (x) , log(x + 1)\\\\\n",
       "\t BsmtUnfSF              & sqrt                   & 79.97603070            & function (x) , sqrt(x)\\\\\n",
       "\t LotArea                                  & inv3                                     & 78.43689082                              & function (x) , x\\textasciicircum{}(1/3)\\\\\n",
       "\t TotRmsAbvGrd              & log                       & 30.68501506               & function (x) , log(x + 1)\\\\\n",
       "\t OverallQual               & log                       & 29.94435652               & function (x) , log(x + 1)\\\\\n",
       "\t GarageCars                & log                       & 24.95676474               & function (x) , log(x + 1)\\\\\n",
       "\t BedroomAbvGr              & log                       & 22.37508601               & function (x) , log(x + 1)\\\\\n",
       "\t OverallCond               & log                       & 16.24723935               & function (x) , log(x + 1)\\\\\n",
       "\t FullBath                                 & inv3                                     &  8.79733251                              & function (x) , x\\textasciicircum{}(1/3)\\\\\n",
       "\t KitchenAbvGr                             & inv3                                     &  5.49562055                              & function (x) , x\\textasciicircum{}(1/3)\\\\\n",
       "\t Fireplaces                               & inv3                                     &  3.73970434                              & function (x) , x\\textasciicircum{}(1/3)\\\\\n",
       "\t YrSold                    & log                       &  0.05561352               & function (x) , log(x + 1)\\\\\n",
       "\\end{tabular}\n"
      ],
      "text/markdown": [
       "\n",
       "var | tran_name | progress_score | tran_fn | \n",
       "|---|---|---|---|---|---|---|---|---|---|---|---|---|\n",
       "| GrLivArea                 | log                       | 91.15794157               | function (x) , log(x + 1) | \n",
       "| X1stFlrSF                 | log                       | 90.77165686               | function (x) , log(x + 1) | \n",
       "| BsmtUnfSF              | sqrt                   | 79.97603070            | function (x) , sqrt(x) | \n",
       "| LotArea                | inv3                   | 78.43689082            | function (x) , x^(1/3) | \n",
       "| TotRmsAbvGrd              | log                       | 30.68501506               | function (x) , log(x + 1) | \n",
       "| OverallQual               | log                       | 29.94435652               | function (x) , log(x + 1) | \n",
       "| GarageCars                | log                       | 24.95676474               | function (x) , log(x + 1) | \n",
       "| BedroomAbvGr              | log                       | 22.37508601               | function (x) , log(x + 1) | \n",
       "| OverallCond               | log                       | 16.24723935               | function (x) , log(x + 1) | \n",
       "| FullBath               | inv3                   |  8.79733251            | function (x) , x^(1/3) | \n",
       "| KitchenAbvGr           | inv3                   |  5.49562055            | function (x) , x^(1/3) | \n",
       "| Fireplaces             | inv3                   |  3.73970434            | function (x) , x^(1/3) | \n",
       "| YrSold                    | log                       |  0.05561352               | function (x) , log(x + 1) | \n",
       "\n",
       "\n"
      ],
      "text/plain": [
       "   var          tran_name progress_score tran_fn                  \n",
       "1  GrLivArea    log       91.15794157    function (x) , log(x + 1)\n",
       "2  X1stFlrSF    log       90.77165686    function (x) , log(x + 1)\n",
       "3  BsmtUnfSF    sqrt      79.97603070    function (x) , sqrt(x)   \n",
       "4  LotArea      inv3      78.43689082    function (x) , x^(1/3)   \n",
       "5  TotRmsAbvGrd log       30.68501506    function (x) , log(x + 1)\n",
       "6  OverallQual  log       29.94435652    function (x) , log(x + 1)\n",
       "7  GarageCars   log       24.95676474    function (x) , log(x + 1)\n",
       "8  BedroomAbvGr log       22.37508601    function (x) , log(x + 1)\n",
       "9  OverallCond  log       16.24723935    function (x) , log(x + 1)\n",
       "10 FullBath     inv3       8.79733251    function (x) , x^(1/3)   \n",
       "11 KitchenAbvGr inv3       5.49562055    function (x) , x^(1/3)   \n",
       "12 Fireplaces   inv3       3.73970434    function (x) , x^(1/3)   \n",
       "13 YrSold       log        0.05561352    function (x) , log(x + 1)"
      ]
     },
     "metadata": {},
     "output_type": "display_data"
    },
    {
     "data": {
      "text/html": [
       "<table>\n",
       "<thead><tr><th scope=col>var</th><th scope=col>tran_name</th><th scope=col>progress_score</th><th scope=col>tran_fn</th><th scope=col>r2_x</th><th scope=col>r2_tran</th></tr></thead>\n",
       "<tbody>\n",
       "\t<tr><td>GrLivArea                </td><td>log                      </td><td>91.157942                </td><td>function (x) , log(x + 1)</td><td>0.52593095               </td><td>0.5438044                </td></tr>\n",
       "\t<tr><td>LotArea               </td><td>inv3                  </td><td>78.436891             </td><td>function (x) , x^(1/3)</td><td>0.06788313            </td><td>0.1543960             </td></tr>\n",
       "\t<tr><td>TotRmsAbvGrd             </td><td>log                      </td><td>30.685015                </td><td>function (x) , log(x + 1)</td><td>0.28912299               </td><td>0.2938676                </td></tr>\n",
       "\t<tr><td>Fireplaces            </td><td>inv3                  </td><td> 3.739704             </td><td>function (x) , x^(1/3)</td><td>0.24206172            </td><td>0.2655916             </td></tr>\n",
       "</tbody>\n",
       "</table>\n"
      ],
      "text/latex": [
       "\\begin{tabular}{r|llllll}\n",
       " var & tran\\_name & progress\\_score & tran\\_fn & r2\\_x & r2\\_tran\\\\\n",
       "\\hline\n",
       "\t GrLivArea                 & log                       & 91.157942                 & function (x) , log(x + 1) & 0.52593095                & 0.5438044                \\\\\n",
       "\t LotArea                                  & inv3                                     & 78.436891                                & function (x) , x\\textasciicircum{}(1/3) & 0.06788313                               & 0.1543960                               \\\\\n",
       "\t TotRmsAbvGrd              & log                       & 30.685015                 & function (x) , log(x + 1) & 0.28912299                & 0.2938676                \\\\\n",
       "\t Fireplaces                               & inv3                                     &  3.739704                                & function (x) , x\\textasciicircum{}(1/3) & 0.24206172                               & 0.2655916                               \\\\\n",
       "\\end{tabular}\n"
      ],
      "text/markdown": [
       "\n",
       "var | tran_name | progress_score | tran_fn | r2_x | r2_tran | \n",
       "|---|---|---|---|\n",
       "| GrLivArea                 | log                       | 91.157942                 | function (x) , log(x + 1) | 0.52593095                | 0.5438044                 | \n",
       "| LotArea                | inv3                   | 78.436891              | function (x) , x^(1/3) | 0.06788313             | 0.1543960              | \n",
       "| TotRmsAbvGrd              | log                       | 30.685015                 | function (x) , log(x + 1) | 0.28912299                | 0.2938676                 | \n",
       "| Fireplaces             | inv3                   |  3.739704              | function (x) , x^(1/3) | 0.24206172             | 0.2655916              | \n",
       "\n",
       "\n"
      ],
      "text/plain": [
       "  var          tran_name progress_score tran_fn                   r2_x      \n",
       "1 GrLivArea    log       91.157942      function (x) , log(x + 1) 0.52593095\n",
       "2 LotArea      inv3      78.436891      function (x) , x^(1/3)    0.06788313\n",
       "3 TotRmsAbvGrd log       30.685015      function (x) , log(x + 1) 0.28912299\n",
       "4 Fireplaces   inv3       3.739704      function (x) , x^(1/3)    0.24206172\n",
       "  r2_tran  \n",
       "1 0.5438044\n",
       "2 0.1543960\n",
       "3 0.2938676\n",
       "4 0.2655916"
      ]
     },
     "metadata": {},
     "output_type": "display_data"
    }
   ],
   "source": [
    "tranConfig1 <- TN$calc_tran_config_step6(df5, Trans)\n",
    "\n",
    "tranConfig2 <- TN$get_transformation_config(\n",
    "    dataset = combined_dataset %>%\n",
    "              select(-SalePrice) %>%\n",
    "              select_if(is.numeric),\n",
    "    trans = Trans\n",
    ")\n",
    "\n",
    "test_that(\"should be equal\", {\n",
    "    expect_equal(\n",
    "        tranConfig1 %>% select(-tran_fn), \n",
    "        tranConfig2 %>% select(-tran_fn)\n",
    "    )\n",
    "})\n",
    "\n",
    "tranConfig2\n",
    "\n",
    "tranConfig2 %>% \n",
    "TN$filter_tran_config_by_r2(\n",
    "    dataset = combined_dataset %>% mutate(price_log = log(SalePrice)), \n",
    "    target_var = price_log\n",
    ")"
   ]
  },
  {
   "cell_type": "code",
   "execution_count": 51,
   "metadata": {},
   "outputs": [
    {
     "data": {
      "text/html": [
       "<table>\n",
       "<thead><tr><th scope=col>tran_name</th><th scope=col>tran_fn</th></tr></thead>\n",
       "<tbody>\n",
       "\t<tr><td>log                      </td><td>function (x) , log(x + 1)</td></tr>\n",
       "\t<tr><td>sqrt                  </td><td>function (x) , sqrt(x)</td></tr>\n",
       "\t<tr><td>inv3                  </td><td>function (x) , x^(1/3)</td></tr>\n",
       "</tbody>\n",
       "</table>\n"
      ],
      "text/latex": [
       "\\begin{tabular}{r|ll}\n",
       " tran\\_name & tran\\_fn\\\\\n",
       "\\hline\n",
       "\t log                       & function (x) , log(x + 1)\\\\\n",
       "\t sqrt                   & function (x) , sqrt(x)\\\\\n",
       "\t inv3                                     & function (x) , x\\textasciicircum{}(1/3)\\\\\n",
       "\\end{tabular}\n"
      ],
      "text/markdown": [
       "\n",
       "tran_name | tran_fn | \n",
       "|---|---|---|\n",
       "| log                       | function (x) , log(x + 1) | \n",
       "| sqrt                   | function (x) , sqrt(x) | \n",
       "| inv3                   | function (x) , x^(1/3) | \n",
       "\n",
       "\n"
      ],
      "text/plain": [
       "  tran_name tran_fn                  \n",
       "1 log       function (x) , log(x + 1)\n",
       "2 sqrt      function (x) , sqrt(x)   \n",
       "3 inv3      function (x) , x^(1/3)   "
      ]
     },
     "metadata": {},
     "output_type": "display_data"
    },
    {
     "data": {
      "text/html": [
       "<table>\n",
       "<thead><tr><th scope=col>var</th><th scope=col>tran_name</th><th scope=col>progress_score</th><th scope=col>tran_fn</th><th scope=col>r2_x</th><th scope=col>r2_tran</th></tr></thead>\n",
       "<tbody>\n",
       "\t<tr><td>GrLivArea                </td><td>log                      </td><td>91.157942                </td><td>function (x) , log(x + 1)</td><td>0.52593095               </td><td>0.5438044                </td></tr>\n",
       "\t<tr><td>LotArea               </td><td>inv3                  </td><td>78.436891             </td><td>function (x) , x^(1/3)</td><td>0.06788313            </td><td>0.1543960             </td></tr>\n",
       "\t<tr><td>TotRmsAbvGrd             </td><td>log                      </td><td>30.685015                </td><td>function (x) , log(x + 1)</td><td>0.28912299               </td><td>0.2938676                </td></tr>\n",
       "\t<tr><td>Fireplaces            </td><td>inv3                  </td><td> 3.739704             </td><td>function (x) , x^(1/3)</td><td>0.24206172            </td><td>0.2655916             </td></tr>\n",
       "</tbody>\n",
       "</table>\n"
      ],
      "text/latex": [
       "\\begin{tabular}{r|llllll}\n",
       " var & tran\\_name & progress\\_score & tran\\_fn & r2\\_x & r2\\_tran\\\\\n",
       "\\hline\n",
       "\t GrLivArea                 & log                       & 91.157942                 & function (x) , log(x + 1) & 0.52593095                & 0.5438044                \\\\\n",
       "\t LotArea                                  & inv3                                     & 78.436891                                & function (x) , x\\textasciicircum{}(1/3) & 0.06788313                               & 0.1543960                               \\\\\n",
       "\t TotRmsAbvGrd              & log                       & 30.685015                 & function (x) , log(x + 1) & 0.28912299                & 0.2938676                \\\\\n",
       "\t Fireplaces                               & inv3                                     &  3.739704                                & function (x) , x\\textasciicircum{}(1/3) & 0.24206172                               & 0.2655916                               \\\\\n",
       "\\end{tabular}\n"
      ],
      "text/markdown": [
       "\n",
       "var | tran_name | progress_score | tran_fn | r2_x | r2_tran | \n",
       "|---|---|---|---|\n",
       "| GrLivArea                 | log                       | 91.157942                 | function (x) , log(x + 1) | 0.52593095                | 0.5438044                 | \n",
       "| LotArea                | inv3                   | 78.436891              | function (x) , x^(1/3) | 0.06788313             | 0.1543960              | \n",
       "| TotRmsAbvGrd              | log                       | 30.685015                 | function (x) , log(x + 1) | 0.28912299                | 0.2938676                 | \n",
       "| Fireplaces             | inv3                   |  3.739704              | function (x) , x^(1/3) | 0.24206172             | 0.2655916              | \n",
       "\n",
       "\n"
      ],
      "text/plain": [
       "  var          tran_name progress_score tran_fn                   r2_x      \n",
       "1 GrLivArea    log       91.157942      function (x) , log(x + 1) 0.52593095\n",
       "2 LotArea      inv3      78.436891      function (x) , x^(1/3)    0.06788313\n",
       "3 TotRmsAbvGrd log       30.685015      function (x) , log(x + 1) 0.28912299\n",
       "4 Fireplaces   inv3       3.739704      function (x) , x^(1/3)    0.24206172\n",
       "  r2_tran  \n",
       "1 0.5438044\n",
       "2 0.1543960\n",
       "3 0.2938676\n",
       "4 0.2655916"
      ]
     },
     "metadata": {},
     "output_type": "display_data"
    }
   ],
   "source": [
    "TN <- source('transform_numeric_vars.R', local = TRUE)$value\n",
    "house_prices <- source('main.R', local = TRUE)$value\n",
    "\n",
    "Trans\n",
    "\n",
    "tranConfig3 <- house_prices$trans$numeric$get_transformation_config(\n",
    "    data = combined_dataset %>% mutate(price_log = log(SalePrice)) %>% select(-SalePrice),\n",
    "    target_var = price_log,\n",
    "    trans = Trans,    \n",
    "    threshold = 0\n",
    ")\n",
    "\n",
    "tranConfig3"
   ]
  },
  {
   "cell_type": "code",
   "execution_count": 48,
   "metadata": {},
   "outputs": [
    {
     "data": {
      "text/plain": [
       "   user  system elapsed \n",
       "  0.642   0.000   0.642 "
      ]
     },
     "metadata": {},
     "output_type": "display_data"
    },
    {
     "data": {
      "text/plain": [
       "   user  system elapsed \n",
       "  0.003   0.000   0.003 "
      ]
     },
     "metadata": {},
     "output_type": "display_data"
    },
    {
     "data": {
      "text/plain": [
       "   user  system elapsed \n",
       "  0.019   0.000   0.019 "
      ]
     },
     "metadata": {},
     "output_type": "display_data"
    }
   ],
   "source": [
    "system.time({\n",
    "    tranConfig <- TN$get_transformation_config(\n",
    "        dataset = combined_dataset %>%\n",
    "                  select(-SalePrice) %>%\n",
    "                  select_if(is.numeric),\n",
    "        trans = Trans\n",
    "    )\n",
    "})\n",
    "\n",
    "system.time({\n",
    "    df1 <- TN$apply_transform(combined_dataset, tranConfig)\n",
    "})\n",
    "\n",
    "system.time({\n",
    "    df2 <- TN$apply_transform2(combined_dataset, tranConfig)\n",
    "})\n",
    "\n",
    "test_that(\"should be equal\", {\n",
    "    expect_equal(df1, df2)\n",
    "})"
   ]
  },
  {
   "cell_type": "code",
   "execution_count": 52,
   "metadata": {},
   "outputs": [
    {
     "data": {
      "text/html": [
       "<table>\n",
       "<thead><tr><th scope=col>GrLivArea</th><th scope=col>LotArea</th></tr></thead>\n",
       "<tbody>\n",
       "\t<tr><td>1710 </td><td> 8450</td></tr>\n",
       "\t<tr><td>1262 </td><td> 9600</td></tr>\n",
       "\t<tr><td>1786 </td><td>11250</td></tr>\n",
       "\t<tr><td>1717 </td><td> 9550</td></tr>\n",
       "\t<tr><td>2198 </td><td>14260</td></tr>\n",
       "\t<tr><td>1362 </td><td>14115</td></tr>\n",
       "</tbody>\n",
       "</table>\n"
      ],
      "text/latex": [
       "\\begin{tabular}{r|ll}\n",
       " GrLivArea & LotArea\\\\\n",
       "\\hline\n",
       "\t 1710  &  8450\\\\\n",
       "\t 1262  &  9600\\\\\n",
       "\t 1786  & 11250\\\\\n",
       "\t 1717  &  9550\\\\\n",
       "\t 2198  & 14260\\\\\n",
       "\t 1362  & 14115\\\\\n",
       "\\end{tabular}\n"
      ],
      "text/markdown": [
       "\n",
       "GrLivArea | LotArea | \n",
       "|---|---|---|---|---|---|\n",
       "| 1710  |  8450 | \n",
       "| 1262  |  9600 | \n",
       "| 1786  | 11250 | \n",
       "| 1717  |  9550 | \n",
       "| 2198  | 14260 | \n",
       "| 1362  | 14115 | \n",
       "\n",
       "\n"
      ],
      "text/plain": [
       "  GrLivArea LotArea\n",
       "1 1710       8450  \n",
       "2 1262       9600  \n",
       "3 1786      11250  \n",
       "4 1717       9550  \n",
       "5 2198      14260  \n",
       "6 1362      14115  "
      ]
     },
     "metadata": {},
     "output_type": "display_data"
    },
    {
     "data": {
      "text/html": [
       "<table>\n",
       "<thead><tr><th scope=col>GrLivArea</th><th scope=col>LotArea</th></tr></thead>\n",
       "<tbody>\n",
       "\t<tr><td>7.444833</td><td>20.36818</td></tr>\n",
       "\t<tr><td>7.141245</td><td>21.25317</td></tr>\n",
       "\t<tr><td>7.488294</td><td>22.40702</td></tr>\n",
       "\t<tr><td>7.448916</td><td>21.21621</td></tr>\n",
       "\t<tr><td>7.695758</td><td>24.24971</td></tr>\n",
       "\t<tr><td>7.217443</td><td>24.16723</td></tr>\n",
       "</tbody>\n",
       "</table>\n"
      ],
      "text/latex": [
       "\\begin{tabular}{r|ll}\n",
       " GrLivArea & LotArea\\\\\n",
       "\\hline\n",
       "\t 7.444833 & 20.36818\\\\\n",
       "\t 7.141245 & 21.25317\\\\\n",
       "\t 7.488294 & 22.40702\\\\\n",
       "\t 7.448916 & 21.21621\\\\\n",
       "\t 7.695758 & 24.24971\\\\\n",
       "\t 7.217443 & 24.16723\\\\\n",
       "\\end{tabular}\n"
      ],
      "text/markdown": [
       "\n",
       "GrLivArea | LotArea | \n",
       "|---|---|---|---|---|---|\n",
       "| 7.444833 | 20.36818 | \n",
       "| 7.141245 | 21.25317 | \n",
       "| 7.488294 | 22.40702 | \n",
       "| 7.448916 | 21.21621 | \n",
       "| 7.695758 | 24.24971 | \n",
       "| 7.217443 | 24.16723 | \n",
       "\n",
       "\n"
      ],
      "text/plain": [
       "  GrLivArea LotArea \n",
       "1 7.444833  20.36818\n",
       "2 7.141245  21.25317\n",
       "3 7.488294  22.40702\n",
       "4 7.448916  21.21621\n",
       "5 7.695758  24.24971\n",
       "6 7.217443  24.16723"
      ]
     },
     "metadata": {},
     "output_type": "display_data"
    }
   ],
   "source": [
    "df = combined_dataset %>% select(GrLivArea, LotArea)\n",
    "df %>% head\n",
    "\n",
    "TN$apply_transform(df, tranConfig) %>% head"
   ]
  },
  {
   "cell_type": "code",
   "execution_count": null,
   "metadata": {
    "collapsed": true
   },
   "outputs": [],
   "source": []
  },
  {
   "cell_type": "code",
   "execution_count": null,
   "metadata": {
    "collapsed": true
   },
   "outputs": [],
   "source": []
  },
  {
   "cell_type": "code",
   "execution_count": null,
   "metadata": {
    "collapsed": true
   },
   "outputs": [],
   "source": []
  },
  {
   "cell_type": "code",
   "execution_count": null,
   "metadata": {
    "collapsed": true
   },
   "outputs": [],
   "source": []
  },
  {
   "cell_type": "code",
   "execution_count": null,
   "metadata": {
    "collapsed": true
   },
   "outputs": [],
   "source": []
  },
  {
   "cell_type": "code",
   "execution_count": null,
   "metadata": {
    "collapsed": true
   },
   "outputs": [],
   "source": []
  },
  {
   "cell_type": "code",
   "execution_count": null,
   "metadata": {
    "collapsed": true
   },
   "outputs": [],
   "source": []
  },
  {
   "cell_type": "code",
   "execution_count": null,
   "metadata": {
    "collapsed": true
   },
   "outputs": [],
   "source": []
  }
 ],
 "metadata": {
  "kernelspec": {
   "display_name": "R",
   "language": "R",
   "name": "ir"
  },
  "language_info": {
   "codemirror_mode": "r",
   "file_extension": ".r",
   "mimetype": "text/x-r-source",
   "name": "R",
   "pygments_lexer": "r",
   "version": "3.4.2"
  }
 },
 "nbformat": 4,
 "nbformat_minor": 2
}
