{
 "cells": [
  {
   "cell_type": "code",
   "execution_count": 2,
   "metadata": {},
   "outputs": [],
   "source": [
    "setwd(paste0(Sys.getenv('R_SOURCES'), '/house_prices'))\n",
    "source('main.R')\n",
    "house_prices$helpers$import_libs()\n",
    "\n",
    "combined_dataset <-\n",
    "    house_prices$helpers$load_data() %>%\n",
    "    (house_prices$outliers$remove_outliers) %>%\n",
    "    (house_prices$missing$fix_all) %>%\n",
    "    select(-Id)\n",
    "\n",
    "test_that(\"should be no NA values except SalePrice column\", {\n",
    "    expect_equal(sum(is.na(combined_dataset %>% select(-SalePrice))), 0)\n",
    "})"
   ]
  },
  {
   "cell_type": "code",
   "execution_count": 8,
   "metadata": {},
   "outputs": [
    {
     "data": {
      "text/html": [
       "<table>\n",
       "<thead><tr><th scope=col>var</th><th scope=col>x</th><th scope=col>log</th><th scope=col>sqrt</th></tr></thead>\n",
       "<tbody>\n",
       "\t<tr><td>LotFrontage</td><td>65         </td><td>4.189655   </td><td>8.062258   </td></tr>\n",
       "\t<tr><td>LotFrontage</td><td>80         </td><td>4.394449   </td><td>8.944272   </td></tr>\n",
       "\t<tr><td>LotFrontage</td><td>68         </td><td>4.234107   </td><td>8.246211   </td></tr>\n",
       "\t<tr><td>LotFrontage</td><td>60         </td><td>4.110874   </td><td>7.745967   </td></tr>\n",
       "\t<tr><td>LotFrontage</td><td>84         </td><td>4.442651   </td><td>9.165151   </td></tr>\n",
       "\t<tr><td>LotFrontage</td><td>85         </td><td>4.454347   </td><td>9.219544   </td></tr>\n",
       "</tbody>\n",
       "</table>\n"
      ],
      "text/latex": [
       "\\begin{tabular}{r|llll}\n",
       " var & x & log & sqrt\\\\\n",
       "\\hline\n",
       "\t LotFrontage & 65          & 4.189655    & 8.062258   \\\\\n",
       "\t LotFrontage & 80          & 4.394449    & 8.944272   \\\\\n",
       "\t LotFrontage & 68          & 4.234107    & 8.246211   \\\\\n",
       "\t LotFrontage & 60          & 4.110874    & 7.745967   \\\\\n",
       "\t LotFrontage & 84          & 4.442651    & 9.165151   \\\\\n",
       "\t LotFrontage & 85          & 4.454347    & 9.219544   \\\\\n",
       "\\end{tabular}\n"
      ],
      "text/markdown": [
       "\n",
       "var | x | log | sqrt | \n",
       "|---|---|---|---|---|---|\n",
       "| LotFrontage | 65          | 4.189655    | 8.062258    | \n",
       "| LotFrontage | 80          | 4.394449    | 8.944272    | \n",
       "| LotFrontage | 68          | 4.234107    | 8.246211    | \n",
       "| LotFrontage | 60          | 4.110874    | 7.745967    | \n",
       "| LotFrontage | 84          | 4.442651    | 9.165151    | \n",
       "| LotFrontage | 85          | 4.454347    | 9.219544    | \n",
       "\n",
       "\n"
      ],
      "text/plain": [
       "  var         x  log      sqrt    \n",
       "1 LotFrontage 65 4.189655 8.062258\n",
       "2 LotFrontage 80 4.394449 8.944272\n",
       "3 LotFrontage 68 4.234107 8.246211\n",
       "4 LotFrontage 60 4.110874 7.745967\n",
       "5 LotFrontage 84 4.442651 9.165151\n",
       "6 LotFrontage 85 4.454347 9.219544"
      ]
     },
     "metadata": {},
     "output_type": "display_data"
    }
   ],
   "source": [
    "combined_dataset %>%\n",
    "select(-SalePrice) %>%\n",
    "select_if(is.numeric) %>%\n",
    "gather(var, x) %>%\n",
    "filter(!is.na(x)) %>%\n",
    "mutate(\n",
    "    log = log(x + 1),\n",
    "    sqrt = sqrt(x)\n",
    ") -> df1\n",
    "\n",
    "df1 %>% head"
   ]
  },
  {
   "cell_type": "code",
   "execution_count": 61,
   "metadata": {},
   "outputs": [
    {
     "data": {
      "text/html": [
       "<table>\n",
       "<thead><tr><th scope=col>var</th><th scope=col>tran</th><th scope=col>L2_distance</th></tr></thead>\n",
       "<tbody>\n",
       "\t<tr><td>BedroomAbvGr</td><td>log         </td><td>104.29266   </td></tr>\n",
       "\t<tr><td>BedroomAbvGr</td><td>sqrt        </td><td>111.96468   </td></tr>\n",
       "\t<tr><td>BedroomAbvGr</td><td>x           </td><td>134.35462   </td></tr>\n",
       "\t<tr><td>BsmtFinSF1  </td><td>log         </td><td> 95.80909   </td></tr>\n",
       "\t<tr><td>BsmtFinSF1  </td><td>sqrt        </td><td> 49.92343   </td></tr>\n",
       "\t<tr><td>BsmtFinSF1  </td><td>x           </td><td> 30.47639   </td></tr>\n",
       "</tbody>\n",
       "</table>\n"
      ],
      "text/latex": [
       "\\begin{tabular}{r|lll}\n",
       " var & tran & L2\\_distance\\\\\n",
       "\\hline\n",
       "\t BedroomAbvGr & log          & 104.29266   \\\\\n",
       "\t BedroomAbvGr & sqrt         & 111.96468   \\\\\n",
       "\t BedroomAbvGr & x            & 134.35462   \\\\\n",
       "\t BsmtFinSF1   & log          &  95.80909   \\\\\n",
       "\t BsmtFinSF1   & sqrt         &  49.92343   \\\\\n",
       "\t BsmtFinSF1   & x            &  30.47639   \\\\\n",
       "\\end{tabular}\n"
      ],
      "text/markdown": [
       "\n",
       "var | tran | L2_distance | \n",
       "|---|---|---|---|---|---|\n",
       "| BedroomAbvGr | log          | 104.29266    | \n",
       "| BedroomAbvGr | sqrt         | 111.96468    | \n",
       "| BedroomAbvGr | x            | 134.35462    | \n",
       "| BsmtFinSF1   | log          |  95.80909    | \n",
       "| BsmtFinSF1   | sqrt         |  49.92343    | \n",
       "| BsmtFinSF1   | x            |  30.47639    | \n",
       "\n",
       "\n"
      ],
      "text/plain": [
       "  var          tran L2_distance\n",
       "1 BedroomAbvGr log  104.29266  \n",
       "2 BedroomAbvGr sqrt 111.96468  \n",
       "3 BedroomAbvGr x    134.35462  \n",
       "4 BsmtFinSF1   log   95.80909  \n",
       "5 BsmtFinSF1   sqrt  49.92343  \n",
       "6 BsmtFinSF1   x     30.47639  "
      ]
     },
     "metadata": {},
     "output_type": "display_data"
    }
   ],
   "source": [
    "df1 %>%\n",
    "gather(tran, value, -var) %>%\n",
    "group_by(var, tran) %>%\n",
    "mutate(\n",
    "    value_normed = (value - mean(value)) / sd(value)\n",
    ") %>%\n",
    "select(-value) %>%\n",
    "group_by(var, tran, value_normed) %>%\n",
    "arrange(var, tran, value_normed) %>%\n",
    "summarise(\n",
    "    k = n()\n",
    ") %>%\n",
    "mutate(\n",
    "    empirical = cumsum(k) / sum(k),\n",
    "    theoretical = pnorm(value_normed),\n",
    "    diff_L2 = k*(empirical - theoretical)**2\n",
    ") %>%\n",
    "group_by(var, tran) %>%\n",
    "summarise(\n",
    "    L2_distance = sum(diff_L2)\n",
    ") -> df2\n",
    "\n",
    "df2 %>% head"
   ]
  },
  {
   "cell_type": "code",
   "execution_count": 71,
   "metadata": {},
   "outputs": [
    {
     "data": {
      "text/html": [
       "<table>\n",
       "<thead><tr><th scope=col>var</th><th scope=col>tran</th><th scope=col>progress_score</th></tr></thead>\n",
       "<tbody>\n",
       "\t<tr><td>GrLivArea   </td><td>log         </td><td>91.15794157 </td></tr>\n",
       "\t<tr><td>X1stFlrSF   </td><td>log         </td><td>90.77165686 </td></tr>\n",
       "\t<tr><td>BsmtUnfSF   </td><td>sqrt        </td><td>79.97603070 </td></tr>\n",
       "\t<tr><td>LotArea     </td><td>log         </td><td>73.38993454 </td></tr>\n",
       "\t<tr><td>TotRmsAbvGrd</td><td>log         </td><td>30.68501506 </td></tr>\n",
       "\t<tr><td>OverallQual </td><td>log         </td><td>29.94435652 </td></tr>\n",
       "\t<tr><td>GarageCars  </td><td>log         </td><td>24.95676474 </td></tr>\n",
       "\t<tr><td>BedroomAbvGr</td><td>log         </td><td>22.37508601 </td></tr>\n",
       "\t<tr><td>OverallCond </td><td>log         </td><td>16.24723935 </td></tr>\n",
       "\t<tr><td>FullBath    </td><td>sqrt        </td><td> 4.71886362 </td></tr>\n",
       "\t<tr><td>Fireplaces  </td><td>sqrt        </td><td> 3.33847135 </td></tr>\n",
       "\t<tr><td>KitchenAbvGr</td><td>sqrt        </td><td> 2.41047709 </td></tr>\n",
       "\t<tr><td>YrSold      </td><td>log         </td><td> 0.05561352 </td></tr>\n",
       "</tbody>\n",
       "</table>\n"
      ],
      "text/latex": [
       "\\begin{tabular}{r|lll}\n",
       " var & tran & progress\\_score\\\\\n",
       "\\hline\n",
       "\t GrLivArea    & log          & 91.15794157 \\\\\n",
       "\t X1stFlrSF    & log          & 90.77165686 \\\\\n",
       "\t BsmtUnfSF    & sqrt         & 79.97603070 \\\\\n",
       "\t LotArea      & log          & 73.38993454 \\\\\n",
       "\t TotRmsAbvGrd & log          & 30.68501506 \\\\\n",
       "\t OverallQual  & log          & 29.94435652 \\\\\n",
       "\t GarageCars   & log          & 24.95676474 \\\\\n",
       "\t BedroomAbvGr & log          & 22.37508601 \\\\\n",
       "\t OverallCond  & log          & 16.24723935 \\\\\n",
       "\t FullBath     & sqrt         &  4.71886362 \\\\\n",
       "\t Fireplaces   & sqrt         &  3.33847135 \\\\\n",
       "\t KitchenAbvGr & sqrt         &  2.41047709 \\\\\n",
       "\t YrSold       & log          &  0.05561352 \\\\\n",
       "\\end{tabular}\n"
      ],
      "text/markdown": [
       "\n",
       "var | tran | progress_score | \n",
       "|---|---|---|---|---|---|---|---|---|---|---|---|---|\n",
       "| GrLivArea    | log          | 91.15794157  | \n",
       "| X1stFlrSF    | log          | 90.77165686  | \n",
       "| BsmtUnfSF    | sqrt         | 79.97603070  | \n",
       "| LotArea      | log          | 73.38993454  | \n",
       "| TotRmsAbvGrd | log          | 30.68501506  | \n",
       "| OverallQual  | log          | 29.94435652  | \n",
       "| GarageCars   | log          | 24.95676474  | \n",
       "| BedroomAbvGr | log          | 22.37508601  | \n",
       "| OverallCond  | log          | 16.24723935  | \n",
       "| FullBath     | sqrt         |  4.71886362  | \n",
       "| Fireplaces   | sqrt         |  3.33847135  | \n",
       "| KitchenAbvGr | sqrt         |  2.41047709  | \n",
       "| YrSold       | log          |  0.05561352  | \n",
       "\n",
       "\n"
      ],
      "text/plain": [
       "   var          tran progress_score\n",
       "1  GrLivArea    log  91.15794157   \n",
       "2  X1stFlrSF    log  90.77165686   \n",
       "3  BsmtUnfSF    sqrt 79.97603070   \n",
       "4  LotArea      log  73.38993454   \n",
       "5  TotRmsAbvGrd log  30.68501506   \n",
       "6  OverallQual  log  29.94435652   \n",
       "7  GarageCars   log  24.95676474   \n",
       "8  BedroomAbvGr log  22.37508601   \n",
       "9  OverallCond  log  16.24723935   \n",
       "10 FullBath     sqrt  4.71886362   \n",
       "11 Fireplaces   sqrt  3.33847135   \n",
       "12 KitchenAbvGr sqrt  2.41047709   \n",
       "13 YrSold       log   0.05561352   "
      ]
     },
     "metadata": {},
     "output_type": "display_data"
    }
   ],
   "source": [
    "df2 %>%\n",
    "group_by(var) %>%\n",
    "nest %>%\n",
    "mutate(\n",
    "    best_tran = map(data, function(df) {\n",
    "        best <- df %>% arrange(L2_distance) %>% head(1)\n",
    "        vanilla <- df %>% filter(tran == 'x')\n",
    "        progress_score <- 100 * (vanilla$L2_distance - best$L2_distance) / vanilla$L2_distance\n",
    "        data_frame(tran = best$tran, progress_score = progress_score)\n",
    "    })\n",
    ") %>%\n",
    "select(var, best_tran) %>%\n",
    "unnest(best_tran) %>%\n",
    "filter(tran != 'x') %>%\n",
    "arrange(desc(progress_score)) -> df3\n",
    "\n",
    "df3"
   ]
  },
  {
   "cell_type": "code",
   "execution_count": null,
   "metadata": {
    "collapsed": true
   },
   "outputs": [],
   "source": []
  },
  {
   "cell_type": "code",
   "execution_count": null,
   "metadata": {
    "collapsed": true
   },
   "outputs": [],
   "source": []
  },
  {
   "cell_type": "code",
   "execution_count": null,
   "metadata": {
    "collapsed": true
   },
   "outputs": [],
   "source": []
  },
  {
   "cell_type": "code",
   "execution_count": null,
   "metadata": {
    "collapsed": true
   },
   "outputs": [],
   "source": []
  },
  {
   "cell_type": "code",
   "execution_count": null,
   "metadata": {
    "collapsed": true
   },
   "outputs": [],
   "source": []
  },
  {
   "cell_type": "code",
   "execution_count": null,
   "metadata": {
    "collapsed": true
   },
   "outputs": [],
   "source": []
  },
  {
   "cell_type": "code",
   "execution_count": null,
   "metadata": {
    "collapsed": true
   },
   "outputs": [],
   "source": []
  },
  {
   "cell_type": "code",
   "execution_count": null,
   "metadata": {
    "collapsed": true
   },
   "outputs": [],
   "source": []
  },
  {
   "cell_type": "code",
   "execution_count": null,
   "metadata": {
    "collapsed": true
   },
   "outputs": [],
   "source": []
  }
 ],
 "metadata": {
  "kernelspec": {
   "display_name": "R",
   "language": "R",
   "name": "ir"
  },
  "language_info": {
   "codemirror_mode": "r",
   "file_extension": ".r",
   "mimetype": "text/x-r-source",
   "name": "R",
   "pygments_lexer": "r",
   "version": "3.4.2"
  }
 },
 "nbformat": 4,
 "nbformat_minor": 2
}
