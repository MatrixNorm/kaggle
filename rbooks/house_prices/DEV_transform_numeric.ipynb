{
 "cells": [
  {
   "cell_type": "code",
   "execution_count": 2,
   "metadata": {},
   "outputs": [],
   "source": [
    "setwd(paste0(Sys.getenv('R_SOURCES'), '/house_prices'))\n",
    "source('main.R')\n",
    "house_prices$helpers$import_libs()\n",
    "\n",
    "combined_dataset <-\n",
    "    house_prices$helpers$load_data() %>%\n",
    "    (house_prices$outliers$remove_outliers) %>%\n",
    "    (house_prices$missing$fix_all) %>%\n",
    "    select(-Id)\n",
    "\n",
    "test_that(\"should be no NA values except SalePrice column\", {\n",
    "    expect_equal(sum(is.na(combined_dataset %>% select(-SalePrice))), 0)\n",
    "})"
   ]
  },
  {
   "cell_type": "markdown",
   "metadata": {},
   "source": [
    "### Passing named list to mutate (and probably other dplyr verbs)\n",
    "https://community.rstudio.com/t/passing-named-list-to-mutate-and-probably-other-dplyr-verbs/2553/6"
   ]
  },
  {
   "cell_type": "code",
   "execution_count": 7,
   "metadata": {},
   "outputs": [
    {
     "name": "stdout",
     "output_type": "stream",
     "text": [
      "[1] 0.6931472\n",
      "[1] 1\n",
      "[1] 1\n"
     ]
    }
   ],
   "source": [
    "fn_df <- tribble(\n",
    "    ~tran_name, ~tran_defin,\n",
    "    'log',      function(x) log(x+1),\n",
    "    'sqrt',     function(x) sqrt(x),\n",
    "    'invcube',  function(x) x**(1/3)\n",
    ")\n",
    "\n",
    "for (row in 1:nrow(fn_df)) {\n",
    "    fn_df[[row, \"tran_defin\"]](1) %>% print\n",
    "}"
   ]
  },
  {
   "cell_type": "code",
   "execution_count": 145,
   "metadata": {},
   "outputs": [
    {
     "data": {
      "text/html": [
       "<table>\n",
       "<thead><tr><th scope=col>var</th><th scope=col>x</th><th scope=col>log</th><th scope=col>sqrt</th><th scope=col>invcube</th></tr></thead>\n",
       "<tbody>\n",
       "\t<tr><td>LotFrontage</td><td>65         </td><td>4.189655   </td><td>8.062258   </td><td>4.020726   </td></tr>\n",
       "\t<tr><td>LotFrontage</td><td>80         </td><td>4.394449   </td><td>8.944272   </td><td>4.308869   </td></tr>\n",
       "\t<tr><td>LotFrontage</td><td>68         </td><td>4.234107   </td><td>8.246211   </td><td>4.081655   </td></tr>\n",
       "\t<tr><td>LotFrontage</td><td>60         </td><td>4.110874   </td><td>7.745967   </td><td>3.914868   </td></tr>\n",
       "\t<tr><td>LotFrontage</td><td>84         </td><td>4.442651   </td><td>9.165151   </td><td>4.379519   </td></tr>\n",
       "\t<tr><td>LotFrontage</td><td>85         </td><td>4.454347   </td><td>9.219544   </td><td>4.396830   </td></tr>\n",
       "</tbody>\n",
       "</table>\n"
      ],
      "text/latex": [
       "\\begin{tabular}{r|lllll}\n",
       " var & x & log & sqrt & invcube\\\\\n",
       "\\hline\n",
       "\t LotFrontage & 65          & 4.189655    & 8.062258    & 4.020726   \\\\\n",
       "\t LotFrontage & 80          & 4.394449    & 8.944272    & 4.308869   \\\\\n",
       "\t LotFrontage & 68          & 4.234107    & 8.246211    & 4.081655   \\\\\n",
       "\t LotFrontage & 60          & 4.110874    & 7.745967    & 3.914868   \\\\\n",
       "\t LotFrontage & 84          & 4.442651    & 9.165151    & 4.379519   \\\\\n",
       "\t LotFrontage & 85          & 4.454347    & 9.219544    & 4.396830   \\\\\n",
       "\\end{tabular}\n"
      ],
      "text/markdown": [
       "\n",
       "var | x | log | sqrt | invcube | \n",
       "|---|---|---|---|---|---|\n",
       "| LotFrontage | 65          | 4.189655    | 8.062258    | 4.020726    | \n",
       "| LotFrontage | 80          | 4.394449    | 8.944272    | 4.308869    | \n",
       "| LotFrontage | 68          | 4.234107    | 8.246211    | 4.081655    | \n",
       "| LotFrontage | 60          | 4.110874    | 7.745967    | 3.914868    | \n",
       "| LotFrontage | 84          | 4.442651    | 9.165151    | 4.379519    | \n",
       "| LotFrontage | 85          | 4.454347    | 9.219544    | 4.396830    | \n",
       "\n",
       "\n"
      ],
      "text/plain": [
       "  var         x  log      sqrt     invcube \n",
       "1 LotFrontage 65 4.189655 8.062258 4.020726\n",
       "2 LotFrontage 80 4.394449 8.944272 4.308869\n",
       "3 LotFrontage 68 4.234107 8.246211 4.081655\n",
       "4 LotFrontage 60 4.110874 7.745967 3.914868\n",
       "5 LotFrontage 84 4.442651 9.165151 4.379519\n",
       "6 LotFrontage 85 4.454347 9.219544 4.396830"
      ]
     },
     "metadata": {},
     "output_type": "display_data"
    }
   ],
   "source": [
    "combined_dataset %>%\n",
    "select(-SalePrice) %>%\n",
    "select_if(is.numeric) %>%\n",
    "gather(var, x) %>%\n",
    "filter(!is.na(x)) -> df1\n",
    "\n",
    "for (row in 1:nrow(fn_df)) {\n",
    "    df1[fn_df[row, \"tran_name\"]$tran_name] <- (fn_df[row, \"tran_defin\"]$tran_defin)[[1]](df1$x)\n",
    "}\n",
    "\n",
    "df1 %>% head"
   ]
  },
  {
   "cell_type": "code",
   "execution_count": 146,
   "metadata": {},
   "outputs": [
    {
     "data": {
      "text/html": [
       "<table>\n",
       "<thead><tr><th scope=col>var</th><th scope=col>tran</th><th scope=col>L2_distance</th></tr></thead>\n",
       "<tbody>\n",
       "\t<tr><td>BedroomAbvGr</td><td>invcube     </td><td>106.21667   </td></tr>\n",
       "\t<tr><td>BedroomAbvGr</td><td>log         </td><td>104.29266   </td></tr>\n",
       "\t<tr><td>BedroomAbvGr</td><td>sqrt        </td><td>111.96468   </td></tr>\n",
       "\t<tr><td>BedroomAbvGr</td><td>x           </td><td>134.35462   </td></tr>\n",
       "\t<tr><td>BsmtFinSF1  </td><td>invcube     </td><td> 66.20057   </td></tr>\n",
       "\t<tr><td>BsmtFinSF1  </td><td>log         </td><td> 95.80909   </td></tr>\n",
       "</tbody>\n",
       "</table>\n"
      ],
      "text/latex": [
       "\\begin{tabular}{r|lll}\n",
       " var & tran & L2\\_distance\\\\\n",
       "\\hline\n",
       "\t BedroomAbvGr & invcube      & 106.21667   \\\\\n",
       "\t BedroomAbvGr & log          & 104.29266   \\\\\n",
       "\t BedroomAbvGr & sqrt         & 111.96468   \\\\\n",
       "\t BedroomAbvGr & x            & 134.35462   \\\\\n",
       "\t BsmtFinSF1   & invcube      &  66.20057   \\\\\n",
       "\t BsmtFinSF1   & log          &  95.80909   \\\\\n",
       "\\end{tabular}\n"
      ],
      "text/markdown": [
       "\n",
       "var | tran | L2_distance | \n",
       "|---|---|---|---|---|---|\n",
       "| BedroomAbvGr | invcube      | 106.21667    | \n",
       "| BedroomAbvGr | log          | 104.29266    | \n",
       "| BedroomAbvGr | sqrt         | 111.96468    | \n",
       "| BedroomAbvGr | x            | 134.35462    | \n",
       "| BsmtFinSF1   | invcube      |  66.20057    | \n",
       "| BsmtFinSF1   | log          |  95.80909    | \n",
       "\n",
       "\n"
      ],
      "text/plain": [
       "  var          tran    L2_distance\n",
       "1 BedroomAbvGr invcube 106.21667  \n",
       "2 BedroomAbvGr log     104.29266  \n",
       "3 BedroomAbvGr sqrt    111.96468  \n",
       "4 BedroomAbvGr x       134.35462  \n",
       "5 BsmtFinSF1   invcube  66.20057  \n",
       "6 BsmtFinSF1   log      95.80909  "
      ]
     },
     "metadata": {},
     "output_type": "display_data"
    }
   ],
   "source": [
    "df1 %>%\n",
    "gather(tran, value, -var) %>%\n",
    "group_by(var, tran) %>%\n",
    "mutate(\n",
    "    value_normed = (value - mean(value)) / sd(value)\n",
    ") %>%\n",
    "select(-value) %>%\n",
    "group_by(var, tran, value_normed) %>%\n",
    "arrange(var, tran, value_normed) %>%\n",
    "summarise(\n",
    "    k = n()\n",
    ") %>%\n",
    "mutate(\n",
    "    empirical = cumsum(k) / sum(k),\n",
    "    theoretical = pnorm(value_normed),\n",
    "    diff_L2 = k*(empirical - theoretical)**2\n",
    ") %>%\n",
    "group_by(var, tran) %>%\n",
    "summarise(\n",
    "    L2_distance = sum(diff_L2)\n",
    ") -> df2\n",
    "\n",
    "df2 %>% head"
   ]
  },
  {
   "cell_type": "code",
   "execution_count": 153,
   "metadata": {},
   "outputs": [
    {
     "data": {
      "text/html": [
       "<table>\n",
       "<thead><tr><th scope=col>var</th><th scope=col>tran</th><th scope=col>progress_score</th><th scope=col>tran_defin</th></tr></thead>\n",
       "<tbody>\n",
       "\t<tr><td>GrLivArea                </td><td>log                      </td><td>91.15794157              </td><td>function (x) , log(x + 1)</td></tr>\n",
       "\t<tr><td>X1stFlrSF                </td><td>log                      </td><td>90.77165686              </td><td>function (x) , log(x + 1)</td></tr>\n",
       "\t<tr><td>BsmtUnfSF             </td><td>sqrt                  </td><td>79.97603070           </td><td>function (x) , sqrt(x)</td></tr>\n",
       "\t<tr><td>LotArea               </td><td>invcube               </td><td>78.43689082           </td><td>function (x) , x^(1/3)</td></tr>\n",
       "\t<tr><td>TotRmsAbvGrd             </td><td>log                      </td><td>30.68501506              </td><td>function (x) , log(x + 1)</td></tr>\n",
       "\t<tr><td>OverallQual              </td><td>log                      </td><td>29.94435652              </td><td>function (x) , log(x + 1)</td></tr>\n",
       "\t<tr><td>GarageCars               </td><td>log                      </td><td>24.95676474              </td><td>function (x) , log(x + 1)</td></tr>\n",
       "\t<tr><td>BedroomAbvGr             </td><td>log                      </td><td>22.37508601              </td><td>function (x) , log(x + 1)</td></tr>\n",
       "\t<tr><td>OverallCond              </td><td>log                      </td><td>16.24723935              </td><td>function (x) , log(x + 1)</td></tr>\n",
       "\t<tr><td>FullBath              </td><td>invcube               </td><td> 8.79733251           </td><td>function (x) , x^(1/3)</td></tr>\n",
       "\t<tr><td>KitchenAbvGr          </td><td>invcube               </td><td> 5.49562055           </td><td>function (x) , x^(1/3)</td></tr>\n",
       "\t<tr><td>Fireplaces            </td><td>invcube               </td><td> 3.73970434           </td><td>function (x) , x^(1/3)</td></tr>\n",
       "\t<tr><td>YrSold                   </td><td>log                      </td><td> 0.05561352              </td><td>function (x) , log(x + 1)</td></tr>\n",
       "</tbody>\n",
       "</table>\n"
      ],
      "text/latex": [
       "\\begin{tabular}{r|llll}\n",
       " var & tran & progress\\_score & tran\\_defin\\\\\n",
       "\\hline\n",
       "\t GrLivArea                 & log                       & 91.15794157               & function (x) , log(x + 1)\\\\\n",
       "\t X1stFlrSF                 & log                       & 90.77165686               & function (x) , log(x + 1)\\\\\n",
       "\t BsmtUnfSF              & sqrt                   & 79.97603070            & function (x) , sqrt(x)\\\\\n",
       "\t LotArea                                  & invcube                                  & 78.43689082                              & function (x) , x\\textasciicircum{}(1/3)\\\\\n",
       "\t TotRmsAbvGrd              & log                       & 30.68501506               & function (x) , log(x + 1)\\\\\n",
       "\t OverallQual               & log                       & 29.94435652               & function (x) , log(x + 1)\\\\\n",
       "\t GarageCars                & log                       & 24.95676474               & function (x) , log(x + 1)\\\\\n",
       "\t BedroomAbvGr              & log                       & 22.37508601               & function (x) , log(x + 1)\\\\\n",
       "\t OverallCond               & log                       & 16.24723935               & function (x) , log(x + 1)\\\\\n",
       "\t FullBath                                 & invcube                                  &  8.79733251                              & function (x) , x\\textasciicircum{}(1/3)\\\\\n",
       "\t KitchenAbvGr                             & invcube                                  &  5.49562055                              & function (x) , x\\textasciicircum{}(1/3)\\\\\n",
       "\t Fireplaces                               & invcube                                  &  3.73970434                              & function (x) , x\\textasciicircum{}(1/3)\\\\\n",
       "\t YrSold                    & log                       &  0.05561352               & function (x) , log(x + 1)\\\\\n",
       "\\end{tabular}\n"
      ],
      "text/markdown": [
       "\n",
       "var | tran | progress_score | tran_defin | \n",
       "|---|---|---|---|---|---|---|---|---|---|---|---|---|\n",
       "| GrLivArea                 | log                       | 91.15794157               | function (x) , log(x + 1) | \n",
       "| X1stFlrSF                 | log                       | 90.77165686               | function (x) , log(x + 1) | \n",
       "| BsmtUnfSF              | sqrt                   | 79.97603070            | function (x) , sqrt(x) | \n",
       "| LotArea                | invcube                | 78.43689082            | function (x) , x^(1/3) | \n",
       "| TotRmsAbvGrd              | log                       | 30.68501506               | function (x) , log(x + 1) | \n",
       "| OverallQual               | log                       | 29.94435652               | function (x) , log(x + 1) | \n",
       "| GarageCars                | log                       | 24.95676474               | function (x) , log(x + 1) | \n",
       "| BedroomAbvGr              | log                       | 22.37508601               | function (x) , log(x + 1) | \n",
       "| OverallCond               | log                       | 16.24723935               | function (x) , log(x + 1) | \n",
       "| FullBath               | invcube                |  8.79733251            | function (x) , x^(1/3) | \n",
       "| KitchenAbvGr           | invcube                |  5.49562055            | function (x) , x^(1/3) | \n",
       "| Fireplaces             | invcube                |  3.73970434            | function (x) , x^(1/3) | \n",
       "| YrSold                    | log                       |  0.05561352               | function (x) , log(x + 1) | \n",
       "\n",
       "\n"
      ],
      "text/plain": [
       "   var          tran    progress_score tran_defin               \n",
       "1  GrLivArea    log     91.15794157    function (x) , log(x + 1)\n",
       "2  X1stFlrSF    log     90.77165686    function (x) , log(x + 1)\n",
       "3  BsmtUnfSF    sqrt    79.97603070    function (x) , sqrt(x)   \n",
       "4  LotArea      invcube 78.43689082    function (x) , x^(1/3)   \n",
       "5  TotRmsAbvGrd log     30.68501506    function (x) , log(x + 1)\n",
       "6  OverallQual  log     29.94435652    function (x) , log(x + 1)\n",
       "7  GarageCars   log     24.95676474    function (x) , log(x + 1)\n",
       "8  BedroomAbvGr log     22.37508601    function (x) , log(x + 1)\n",
       "9  OverallCond  log     16.24723935    function (x) , log(x + 1)\n",
       "10 FullBath     invcube  8.79733251    function (x) , x^(1/3)   \n",
       "11 KitchenAbvGr invcube  5.49562055    function (x) , x^(1/3)   \n",
       "12 Fireplaces   invcube  3.73970434    function (x) , x^(1/3)   \n",
       "13 YrSold       log      0.05561352    function (x) , log(x + 1)"
      ]
     },
     "metadata": {},
     "output_type": "display_data"
    }
   ],
   "source": [
    "df2 %>%\n",
    "group_by(var) %>%\n",
    "nest %>%\n",
    "mutate(\n",
    "    best_tran = map(data, function(df) {\n",
    "        best <- df %>% arrange(L2_distance) %>% head(1)\n",
    "        vanilla <- df %>% filter(tran == 'x')\n",
    "        progress_score <- 100 * (vanilla$L2_distance - best$L2_distance) / vanilla$L2_distance\n",
    "        data_frame(tran = best$tran, progress_score = progress_score)\n",
    "    })\n",
    ") %>%\n",
    "select(var, best_tran) %>%\n",
    "unnest(best_tran) %>%\n",
    "filter(tran != 'x') %>%\n",
    "arrange(desc(progress_score)) %>%\n",
    "inner_join(fn_df, by=c(\"tran\" = \"tran_name\")) -> transformation_config\n",
    "\n",
    "transformation_config"
   ]
  },
  {
   "cell_type": "code",
   "execution_count": 167,
   "metadata": {},
   "outputs": [
    {
     "data": {
      "text/html": [
       "<table>\n",
       "<thead><tr><th scope=col>var</th><th scope=col>tran</th><th scope=col>value</th></tr></thead>\n",
       "<tbody>\n",
       "\t<tr><td>GrLivArea  </td><td>original   </td><td>1710.000000</td></tr>\n",
       "\t<tr><td>GrLivArea  </td><td>original   </td><td>1262.000000</td></tr>\n",
       "\t<tr><td>GrLivArea  </td><td>transformed</td><td>   7.444833</td></tr>\n",
       "\t<tr><td>GrLivArea  </td><td>transformed</td><td>   7.141245</td></tr>\n",
       "</tbody>\n",
       "</table>\n"
      ],
      "text/latex": [
       "\\begin{tabular}{r|lll}\n",
       " var & tran & value\\\\\n",
       "\\hline\n",
       "\t GrLivArea   & original    & 1710.000000\\\\\n",
       "\t GrLivArea   & original    & 1262.000000\\\\\n",
       "\t GrLivArea   & transformed &    7.444833\\\\\n",
       "\t GrLivArea   & transformed &    7.141245\\\\\n",
       "\\end{tabular}\n"
      ],
      "text/markdown": [
       "\n",
       "var | tran | value | \n",
       "|---|---|---|---|\n",
       "| GrLivArea   | original    | 1710.000000 | \n",
       "| GrLivArea   | original    | 1262.000000 | \n",
       "| GrLivArea   | transformed |    7.444833 | \n",
       "| GrLivArea   | transformed |    7.141245 | \n",
       "\n",
       "\n"
      ],
      "text/plain": [
       "  var       tran        value      \n",
       "1 GrLivArea original    1710.000000\n",
       "2 GrLivArea original    1262.000000\n",
       "3 GrLivArea transformed    7.444833\n",
       "4 GrLivArea transformed    7.141245"
      ]
     },
     "metadata": {},
     "output_type": "display_data"
    }
   ],
   "source": [
    "combined_dataset %>%\n",
    "select(one_of(transformation_config$var)) %>%\n",
    "gather(var, value) %>%\n",
    "filter(!is.na(value)) %>%\n",
    "inner_join(transformation_config %>% select(var, tran, tran_defin), by='var') %>%\n",
    "head(2) %>%\n",
    "mutate(\n",
    "    value_transformed = map2_dbl(value, tran_defin, function(val, fn) fn(val))\n",
    ") %>%\n",
    "select(var, value, value_transformed) %>%\n",
    "gather(tran, value, -var) %>%\n",
    "mutate(\n",
    "    tran = ifelse(tran == 'value', 'original', 'transformed')\n",
    ")"
   ]
  },
  {
   "cell_type": "code",
   "execution_count": null,
   "metadata": {
    "collapsed": true
   },
   "outputs": [],
   "source": []
  },
  {
   "cell_type": "code",
   "execution_count": null,
   "metadata": {
    "collapsed": true
   },
   "outputs": [],
   "source": []
  },
  {
   "cell_type": "code",
   "execution_count": null,
   "metadata": {
    "collapsed": true
   },
   "outputs": [],
   "source": []
  },
  {
   "cell_type": "code",
   "execution_count": null,
   "metadata": {
    "collapsed": true
   },
   "outputs": [],
   "source": []
  },
  {
   "cell_type": "code",
   "execution_count": null,
   "metadata": {
    "collapsed": true
   },
   "outputs": [],
   "source": []
  },
  {
   "cell_type": "code",
   "execution_count": null,
   "metadata": {
    "collapsed": true
   },
   "outputs": [],
   "source": []
  },
  {
   "cell_type": "code",
   "execution_count": null,
   "metadata": {
    "collapsed": true
   },
   "outputs": [],
   "source": []
  },
  {
   "cell_type": "code",
   "execution_count": null,
   "metadata": {
    "collapsed": true
   },
   "outputs": [],
   "source": []
  }
 ],
 "metadata": {
  "kernelspec": {
   "display_name": "R",
   "language": "R",
   "name": "ir"
  },
  "language_info": {
   "codemirror_mode": "r",
   "file_extension": ".r",
   "mimetype": "text/x-r-source",
   "name": "R",
   "pygments_lexer": "r",
   "version": "3.4.2"
  }
 },
 "nbformat": 4,
 "nbformat_minor": 2
}
