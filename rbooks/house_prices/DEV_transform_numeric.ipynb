{
 "cells": [
  {
   "cell_type": "code",
   "execution_count": 7,
   "metadata": {},
   "outputs": [
    {
     "data": {
      "text/html": [
       "<ol class=list-inline>\n",
       "\t<li>2917</li>\n",
       "\t<li>81</li>\n",
       "</ol>\n"
      ],
      "text/latex": [
       "\\begin{enumerate*}\n",
       "\\item 2917\n",
       "\\item 81\n",
       "\\end{enumerate*}\n"
      ],
      "text/markdown": [
       "1. 2917\n",
       "2. 81\n",
       "\n",
       "\n"
      ],
      "text/plain": [
       "[1] 2917   81"
      ]
     },
     "metadata": {},
     "output_type": "display_data"
    },
    {
     "data": {
      "text/html": [
       "<ol class=list-inline>\n",
       "\t<li>2919</li>\n",
       "\t<li>82</li>\n",
       "</ol>\n"
      ],
      "text/latex": [
       "\\begin{enumerate*}\n",
       "\\item 2919\n",
       "\\item 82\n",
       "\\end{enumerate*}\n"
      ],
      "text/markdown": [
       "1. 2919\n",
       "2. 82\n",
       "\n",
       "\n"
      ],
      "text/plain": [
       "[1] 2919   82"
      ]
     },
     "metadata": {},
     "output_type": "display_data"
    }
   ],
   "source": [
    "setwd(paste0(Sys.getenv('R_SOURCES'), '/house_prices'))\n",
    "source('main.R')\n",
    "house_prices$helpers$import_libs()\n",
    "\n",
    "combined_dataset <-\n",
    "    house_prices$helpers$load_data() %>%\n",
    "    (house_prices$outliers$remove_outliers) %>%\n",
    "    (house_prices$missing$fix_all) %>%\n",
    "    select(-Id)\n",
    "\n",
    "test_that(\"should be no NA values except SalePrice column\", {\n",
    "    expect_equal(sum(is.na(combined_dataset %>% select(-SalePrice))), 0)\n",
    "})\n",
    "\n",
    "combined_dataset %>% dim\n",
    "house_prices$helpers$load_data() %>% dim"
   ]
  },
  {
   "cell_type": "markdown",
   "metadata": {},
   "source": [
    "### Passing named list to mutate (and probably other dplyr verbs)\n",
    "https://community.rstudio.com/t/passing-named-list-to-mutate-and-probably-other-dplyr-verbs/2553/6"
   ]
  },
  {
   "cell_type": "code",
   "execution_count": 8,
   "metadata": {},
   "outputs": [
    {
     "name": "stdout",
     "output_type": "stream",
     "text": [
      "[1] 0.6931472\n",
      "[1] 1\n",
      "[1] 1\n"
     ]
    }
   ],
   "source": [
    "fn_df <- tribble(\n",
    "    ~tran_name, ~tran_defin,\n",
    "    'log',      function(x) log(x+1),\n",
    "    'sqrt',     function(x) sqrt(x),\n",
    "    'invcube',  function(x) x**(1/3)\n",
    ")\n",
    "\n",
    "for (row in 1:nrow(fn_df)) {\n",
    "    fn_df[[row, \"tran_defin\"]](1) %>% print\n",
    "}"
   ]
  },
  {
   "cell_type": "code",
   "execution_count": 9,
   "metadata": {},
   "outputs": [
    {
     "data": {
      "text/html": [
       "<table>\n",
       "<thead><tr><th scope=col>var</th><th scope=col>x</th></tr></thead>\n",
       "<tbody>\n",
       "\t<tr><td>LotFrontage</td><td>65         </td></tr>\n",
       "\t<tr><td>LotFrontage</td><td>80         </td></tr>\n",
       "\t<tr><td>LotFrontage</td><td>68         </td></tr>\n",
       "\t<tr><td>LotFrontage</td><td>60         </td></tr>\n",
       "\t<tr><td>LotFrontage</td><td>84         </td></tr>\n",
       "\t<tr><td>LotFrontage</td><td>85         </td></tr>\n",
       "</tbody>\n",
       "</table>\n"
      ],
      "text/latex": [
       "\\begin{tabular}{r|ll}\n",
       " var & x\\\\\n",
       "\\hline\n",
       "\t LotFrontage & 65         \\\\\n",
       "\t LotFrontage & 80         \\\\\n",
       "\t LotFrontage & 68         \\\\\n",
       "\t LotFrontage & 60         \\\\\n",
       "\t LotFrontage & 84         \\\\\n",
       "\t LotFrontage & 85         \\\\\n",
       "\\end{tabular}\n"
      ],
      "text/markdown": [
       "\n",
       "var | x | \n",
       "|---|---|---|---|---|---|\n",
       "| LotFrontage | 65          | \n",
       "| LotFrontage | 80          | \n",
       "| LotFrontage | 68          | \n",
       "| LotFrontage | 60          | \n",
       "| LotFrontage | 84          | \n",
       "| LotFrontage | 85          | \n",
       "\n",
       "\n"
      ],
      "text/plain": [
       "  var         x \n",
       "1 LotFrontage 65\n",
       "2 LotFrontage 80\n",
       "3 LotFrontage 68\n",
       "4 LotFrontage 60\n",
       "5 LotFrontage 84\n",
       "6 LotFrontage 85"
      ]
     },
     "metadata": {},
     "output_type": "display_data"
    },
    {
     "data": {
      "text/html": [
       "99178"
      ],
      "text/latex": [
       "99178"
      ],
      "text/markdown": [
       "99178"
      ],
      "text/plain": [
       "[1] 99178"
      ]
     },
     "metadata": {},
     "output_type": "display_data"
    },
    {
     "data": {
      "text/html": [
       "<table>\n",
       "<thead><tr><th scope=col>var</th><th scope=col>x</th><th scope=col>log</th><th scope=col>sqrt</th><th scope=col>invcube</th></tr></thead>\n",
       "<tbody>\n",
       "\t<tr><td>LotFrontage</td><td>65         </td><td>4.189655   </td><td>8.062258   </td><td>4.020726   </td></tr>\n",
       "\t<tr><td>LotFrontage</td><td>80         </td><td>4.394449   </td><td>8.944272   </td><td>4.308869   </td></tr>\n",
       "\t<tr><td>LotFrontage</td><td>68         </td><td>4.234107   </td><td>8.246211   </td><td>4.081655   </td></tr>\n",
       "\t<tr><td>LotFrontage</td><td>60         </td><td>4.110874   </td><td>7.745967   </td><td>3.914868   </td></tr>\n",
       "\t<tr><td>LotFrontage</td><td>84         </td><td>4.442651   </td><td>9.165151   </td><td>4.379519   </td></tr>\n",
       "\t<tr><td>LotFrontage</td><td>85         </td><td>4.454347   </td><td>9.219544   </td><td>4.396830   </td></tr>\n",
       "</tbody>\n",
       "</table>\n"
      ],
      "text/latex": [
       "\\begin{tabular}{r|lllll}\n",
       " var & x & log & sqrt & invcube\\\\\n",
       "\\hline\n",
       "\t LotFrontage & 65          & 4.189655    & 8.062258    & 4.020726   \\\\\n",
       "\t LotFrontage & 80          & 4.394449    & 8.944272    & 4.308869   \\\\\n",
       "\t LotFrontage & 68          & 4.234107    & 8.246211    & 4.081655   \\\\\n",
       "\t LotFrontage & 60          & 4.110874    & 7.745967    & 3.914868   \\\\\n",
       "\t LotFrontage & 84          & 4.442651    & 9.165151    & 4.379519   \\\\\n",
       "\t LotFrontage & 85          & 4.454347    & 9.219544    & 4.396830   \\\\\n",
       "\\end{tabular}\n"
      ],
      "text/markdown": [
       "\n",
       "var | x | log | sqrt | invcube | \n",
       "|---|---|---|---|---|---|\n",
       "| LotFrontage | 65          | 4.189655    | 8.062258    | 4.020726    | \n",
       "| LotFrontage | 80          | 4.394449    | 8.944272    | 4.308869    | \n",
       "| LotFrontage | 68          | 4.234107    | 8.246211    | 4.081655    | \n",
       "| LotFrontage | 60          | 4.110874    | 7.745967    | 3.914868    | \n",
       "| LotFrontage | 84          | 4.442651    | 9.165151    | 4.379519    | \n",
       "| LotFrontage | 85          | 4.454347    | 9.219544    | 4.396830    | \n",
       "\n",
       "\n"
      ],
      "text/plain": [
       "  var         x  log      sqrt     invcube \n",
       "1 LotFrontage 65 4.189655 8.062258 4.020726\n",
       "2 LotFrontage 80 4.394449 8.944272 4.308869\n",
       "3 LotFrontage 68 4.234107 8.246211 4.081655\n",
       "4 LotFrontage 60 4.110874 7.745967 3.914868\n",
       "5 LotFrontage 84 4.442651 9.165151 4.379519\n",
       "6 LotFrontage 85 4.454347 9.219544 4.396830"
      ]
     },
     "metadata": {},
     "output_type": "display_data"
    }
   ],
   "source": [
    "combined_dataset %>%\n",
    "select(-SalePrice) %>%\n",
    "select_if(is.numeric) %>%\n",
    "gather(var, x) %>%\n",
    "filter(!is.na(x)) -> df1\n",
    "\n",
    "df1 %>% head\n",
    "df1 %>% nrow\n",
    "\n",
    "for (row in 1:nrow(fn_df)) {\n",
    "    df1[fn_df[row, \"tran_name\"]$tran_name] <- (fn_df[row, \"tran_defin\"]$tran_defin)[[1]](df1$x)\n",
    "}\n",
    "\n",
    "df1 %>% head"
   ]
  },
  {
   "cell_type": "code",
   "execution_count": 26,
   "metadata": {},
   "outputs": [
    {
     "data": {
      "text/html": [
       "<table>\n",
       "<thead><tr><th scope=col>var</th><th scope=col>tran</th><th scope=col>value_normed</th></tr></thead>\n",
       "<tbody>\n",
       "\t<tr><td>LotArea    </td><td>x          </td><td>-0.21639955</td></tr>\n",
       "\t<tr><td>LotArea    </td><td>x          </td><td>-0.06909653</td></tr>\n",
       "\t<tr><td>LotArea    </td><td>log        </td><td>-0.10174374</td></tr>\n",
       "\t<tr><td>LotArea    </td><td>log        </td><td> 0.14940974</td></tr>\n",
       "\t<tr><td>LotArea    </td><td>sqrt       </td><td>-0.21081495</td></tr>\n",
       "\t<tr><td>LotArea    </td><td>sqrt       </td><td> 0.02444502</td></tr>\n",
       "\t<tr><td>LotArea    </td><td>invcube    </td><td>-0.18204458</td></tr>\n",
       "\t<tr><td>LotArea    </td><td>invcube    </td><td> 0.06700854</td></tr>\n",
       "</tbody>\n",
       "</table>\n"
      ],
      "text/latex": [
       "\\begin{tabular}{r|lll}\n",
       " var & tran & value\\_normed\\\\\n",
       "\\hline\n",
       "\t LotArea     & x           & -0.21639955\\\\\n",
       "\t LotArea     & x           & -0.06909653\\\\\n",
       "\t LotArea     & log         & -0.10174374\\\\\n",
       "\t LotArea     & log         &  0.14940974\\\\\n",
       "\t LotArea     & sqrt        & -0.21081495\\\\\n",
       "\t LotArea     & sqrt        &  0.02444502\\\\\n",
       "\t LotArea     & invcube     & -0.18204458\\\\\n",
       "\t LotArea     & invcube     &  0.06700854\\\\\n",
       "\\end{tabular}\n"
      ],
      "text/markdown": [
       "\n",
       "var | tran | value_normed | \n",
       "|---|---|---|---|---|---|---|---|\n",
       "| LotArea     | x           | -0.21639955 | \n",
       "| LotArea     | x           | -0.06909653 | \n",
       "| LotArea     | log         | -0.10174374 | \n",
       "| LotArea     | log         |  0.14940974 | \n",
       "| LotArea     | sqrt        | -0.21081495 | \n",
       "| LotArea     | sqrt        |  0.02444502 | \n",
       "| LotArea     | invcube     | -0.18204458 | \n",
       "| LotArea     | invcube     |  0.06700854 | \n",
       "\n",
       "\n"
      ],
      "text/plain": [
       "  var     tran    value_normed\n",
       "1 LotArea x       -0.21639955 \n",
       "2 LotArea x       -0.06909653 \n",
       "3 LotArea log     -0.10174374 \n",
       "4 LotArea log      0.14940974 \n",
       "5 LotArea sqrt    -0.21081495 \n",
       "6 LotArea sqrt     0.02444502 \n",
       "7 LotArea invcube -0.18204458 \n",
       "8 LotArea invcube  0.06700854 "
      ]
     },
     "metadata": {},
     "output_type": "display_data"
    }
   ],
   "source": [
    "df1 %>%\n",
    "gather(tran, value, -var) %>%\n",
    "group_by(var, tran) %>%\n",
    "mutate(\n",
    "    value_normed = (value - mean(value)) / sd(value)\n",
    ") %>%\n",
    "select(-value) -> df2\n",
    "\n",
    "df2 %>% \n",
    "filter(var == 'LotArea') %>% \n",
    "filter(row_number() < 3)"
   ]
  },
  {
   "cell_type": "code",
   "execution_count": 47,
   "metadata": {},
   "outputs": [
    {
     "data": {
      "text/html": [
       "<table>\n",
       "<thead><tr><th scope=col>var</th><th scope=col>tran</th><th scope=col>value_normed</th><th scope=col>k</th></tr></thead>\n",
       "<tbody>\n",
       "\t<tr><td>YrSold    </td><td>invcube   </td><td>-1.3633378</td><td>619       </td></tr>\n",
       "\t<tr><td>YrSold    </td><td>invcube   </td><td>-0.6027227</td><td>691       </td></tr>\n",
       "\t<tr><td>YrSold    </td><td>invcube   </td><td> 0.1576398</td><td>621       </td></tr>\n",
       "\t<tr><td>YrSold    </td><td>invcube   </td><td> 0.9177499</td><td>647       </td></tr>\n",
       "\t<tr><td>YrSold    </td><td>invcube   </td><td> 1.6776078</td><td>339       </td></tr>\n",
       "\t<tr><td>YrSold    </td><td>log       </td><td>-1.3634510</td><td>619       </td></tr>\n",
       "\t<tr><td>YrSold    </td><td>log       </td><td>-0.6026620</td><td>691       </td></tr>\n",
       "\t<tr><td>YrSold    </td><td>log       </td><td> 0.1577483</td><td>621       </td></tr>\n",
       "\t<tr><td>YrSold    </td><td>log       </td><td> 0.9177802</td><td>647       </td></tr>\n",
       "\t<tr><td>YrSold    </td><td>log       </td><td> 1.6774340</td><td>339       </td></tr>\n",
       "\t<tr><td>YrSold    </td><td>sqrt      </td><td>-1.3632811</td><td>619       </td></tr>\n",
       "\t<tr><td>YrSold    </td><td>sqrt      </td><td>-0.6027531</td><td>691       </td></tr>\n",
       "\t<tr><td>YrSold    </td><td>sqrt      </td><td> 0.1575854</td><td>621       </td></tr>\n",
       "\t<tr><td>YrSold    </td><td>sqrt      </td><td> 0.9177347</td><td>647       </td></tr>\n",
       "\t<tr><td>YrSold    </td><td>sqrt      </td><td> 1.6776948</td><td>339       </td></tr>\n",
       "\t<tr><td>YrSold    </td><td>x         </td><td>-1.3631111</td><td>619       </td></tr>\n",
       "\t<tr><td>YrSold    </td><td>x         </td><td>-0.6028444</td><td>691       </td></tr>\n",
       "\t<tr><td>YrSold    </td><td>x         </td><td> 0.1574224</td><td>621       </td></tr>\n",
       "\t<tr><td>YrSold    </td><td>x         </td><td> 0.9176891</td><td>647       </td></tr>\n",
       "\t<tr><td>YrSold    </td><td>x         </td><td> 1.6779559</td><td>339       </td></tr>\n",
       "</tbody>\n",
       "</table>\n"
      ],
      "text/latex": [
       "\\begin{tabular}{r|llll}\n",
       " var & tran & value\\_normed & k\\\\\n",
       "\\hline\n",
       "\t YrSold     & invcube    & -1.3633378 & 619       \\\\\n",
       "\t YrSold     & invcube    & -0.6027227 & 691       \\\\\n",
       "\t YrSold     & invcube    &  0.1576398 & 621       \\\\\n",
       "\t YrSold     & invcube    &  0.9177499 & 647       \\\\\n",
       "\t YrSold     & invcube    &  1.6776078 & 339       \\\\\n",
       "\t YrSold     & log        & -1.3634510 & 619       \\\\\n",
       "\t YrSold     & log        & -0.6026620 & 691       \\\\\n",
       "\t YrSold     & log        &  0.1577483 & 621       \\\\\n",
       "\t YrSold     & log        &  0.9177802 & 647       \\\\\n",
       "\t YrSold     & log        &  1.6774340 & 339       \\\\\n",
       "\t YrSold     & sqrt       & -1.3632811 & 619       \\\\\n",
       "\t YrSold     & sqrt       & -0.6027531 & 691       \\\\\n",
       "\t YrSold     & sqrt       &  0.1575854 & 621       \\\\\n",
       "\t YrSold     & sqrt       &  0.9177347 & 647       \\\\\n",
       "\t YrSold     & sqrt       &  1.6776948 & 339       \\\\\n",
       "\t YrSold     & x          & -1.3631111 & 619       \\\\\n",
       "\t YrSold     & x          & -0.6028444 & 691       \\\\\n",
       "\t YrSold     & x          &  0.1574224 & 621       \\\\\n",
       "\t YrSold     & x          &  0.9176891 & 647       \\\\\n",
       "\t YrSold     & x          &  1.6779559 & 339       \\\\\n",
       "\\end{tabular}\n"
      ],
      "text/markdown": [
       "\n",
       "var | tran | value_normed | k | \n",
       "|---|---|---|---|---|---|---|---|---|---|---|---|---|---|---|---|---|---|---|---|\n",
       "| YrSold     | invcube    | -1.3633378 | 619        | \n",
       "| YrSold     | invcube    | -0.6027227 | 691        | \n",
       "| YrSold     | invcube    |  0.1576398 | 621        | \n",
       "| YrSold     | invcube    |  0.9177499 | 647        | \n",
       "| YrSold     | invcube    |  1.6776078 | 339        | \n",
       "| YrSold     | log        | -1.3634510 | 619        | \n",
       "| YrSold     | log        | -0.6026620 | 691        | \n",
       "| YrSold     | log        |  0.1577483 | 621        | \n",
       "| YrSold     | log        |  0.9177802 | 647        | \n",
       "| YrSold     | log        |  1.6774340 | 339        | \n",
       "| YrSold     | sqrt       | -1.3632811 | 619        | \n",
       "| YrSold     | sqrt       | -0.6027531 | 691        | \n",
       "| YrSold     | sqrt       |  0.1575854 | 621        | \n",
       "| YrSold     | sqrt       |  0.9177347 | 647        | \n",
       "| YrSold     | sqrt       |  1.6776948 | 339        | \n",
       "| YrSold     | x          | -1.3631111 | 619        | \n",
       "| YrSold     | x          | -0.6028444 | 691        | \n",
       "| YrSold     | x          |  0.1574224 | 621        | \n",
       "| YrSold     | x          |  0.9176891 | 647        | \n",
       "| YrSold     | x          |  1.6779559 | 339        | \n",
       "\n",
       "\n"
      ],
      "text/plain": [
       "   var    tran    value_normed k  \n",
       "1  YrSold invcube -1.3633378   619\n",
       "2  YrSold invcube -0.6027227   691\n",
       "3  YrSold invcube  0.1576398   621\n",
       "4  YrSold invcube  0.9177499   647\n",
       "5  YrSold invcube  1.6776078   339\n",
       "6  YrSold log     -1.3634510   619\n",
       "7  YrSold log     -0.6026620   691\n",
       "8  YrSold log      0.1577483   621\n",
       "9  YrSold log      0.9177802   647\n",
       "10 YrSold log      1.6774340   339\n",
       "11 YrSold sqrt    -1.3632811   619\n",
       "12 YrSold sqrt    -0.6027531   691\n",
       "13 YrSold sqrt     0.1575854   621\n",
       "14 YrSold sqrt     0.9177347   647\n",
       "15 YrSold sqrt     1.6776948   339\n",
       "16 YrSold x       -1.3631111   619\n",
       "17 YrSold x       -0.6028444   691\n",
       "18 YrSold x        0.1574224   621\n",
       "19 YrSold x        0.9176891   647\n",
       "20 YrSold x        1.6779559   339"
      ]
     },
     "metadata": {},
     "output_type": "display_data"
    }
   ],
   "source": [
    "df2 %>%\n",
    "group_by(var, tran, value_normed) %>%\n",
    "summarise(\n",
    "    k = n()\n",
    ") %>%\n",
    "arrange(var, tran, value_normed) -> df3\n",
    "\n",
    "df3 %>% filter(var == 'YrSold')"
   ]
  },
  {
   "cell_type": "code",
   "execution_count": 51,
   "metadata": {},
   "outputs": [
    {
     "data": {
      "text/html": [
       "<table>\n",
       "<thead><tr><th scope=col>var</th><th scope=col>tran</th><th scope=col>value_normed</th><th scope=col>k</th><th scope=col>empirical</th><th scope=col>theoretical</th><th scope=col>diff_L2</th></tr></thead>\n",
       "<tbody>\n",
       "\t<tr><td>YrSold    </td><td>invcube   </td><td>-1.3633378</td><td>619       </td><td>0.2122043 </td><td>0.08638803</td><td> 9.7986077</td></tr>\n",
       "\t<tr><td>YrSold    </td><td>invcube   </td><td>-0.6027227</td><td>691       </td><td>0.4490915 </td><td>0.27334658</td><td>21.3424242</td></tr>\n",
       "\t<tr><td>YrSold    </td><td>invcube   </td><td> 0.1576398</td><td>621       </td><td>0.6619815 </td><td>0.56262967</td><td> 6.1297564</td></tr>\n",
       "\t<tr><td>YrSold    </td><td>invcube   </td><td> 0.9177499</td><td>647       </td><td>0.8837847 </td><td>0.82062508</td><td> 2.5809725</td></tr>\n",
       "\t<tr><td>YrSold    </td><td>invcube   </td><td> 1.6776078</td><td>339       </td><td>1.0000000 </td><td>0.95328815</td><td> 0.7396969</td></tr>\n",
       "\t<tr><td>YrSold    </td><td>log       </td><td>-1.3634510</td><td>619       </td><td>0.2122043 </td><td>0.08637021</td><td> 9.8013845</td></tr>\n",
       "\t<tr><td>YrSold    </td><td>log       </td><td>-0.6026620</td><td>691       </td><td>0.4490915 </td><td>0.27336680</td><td>21.3375152</td></tr>\n",
       "\t<tr><td>YrSold    </td><td>log       </td><td> 0.1577483</td><td>621       </td><td>0.6619815 </td><td>0.56267243</td><td> 6.1244811</td></tr>\n",
       "\t<tr><td>YrSold    </td><td>log       </td><td> 0.9177802</td><td>647       </td><td>0.8837847 </td><td>0.82063301</td><td> 2.5803244</td></tr>\n",
       "\t<tr><td>YrSold    </td><td>log       </td><td> 1.6774340</td><td>339       </td><td>1.0000000 </td><td>0.95327118</td><td> 0.7402346</td></tr>\n",
       "\t<tr><td>YrSold    </td><td>sqrt      </td><td>-1.3632811</td><td>619       </td><td>0.2122043 </td><td>0.08639696</td><td> 9.7972172</td></tr>\n",
       "\t<tr><td>YrSold    </td><td>sqrt      </td><td>-0.6027531</td><td>691       </td><td>0.4490915 </td><td>0.27333647</td><td>21.3448820</td></tr>\n",
       "\t<tr><td>YrSold    </td><td>sqrt      </td><td> 0.1575854</td><td>621       </td><td>0.6619815 </td><td>0.56260826</td><td> 6.1323989</td></tr>\n",
       "\t<tr><td>YrSold    </td><td>sqrt      </td><td> 0.9177347</td><td>647       </td><td>0.8837847 </td><td>0.82062111</td><td> 2.5812972</td></tr>\n",
       "\t<tr><td>YrSold    </td><td>sqrt      </td><td> 1.6776948</td><td>339       </td><td>1.0000000 </td><td>0.95329665</td><td> 0.7394277</td></tr>\n",
       "\t<tr><td>YrSold    </td><td>x         </td><td>-1.3631111</td><td>619       </td><td>0.2122043 </td><td>0.08642375</td><td> 9.7930452</td></tr>\n",
       "\t<tr><td>YrSold    </td><td>x         </td><td>-0.6028444</td><td>691       </td><td>0.4490915 </td><td>0.27330612</td><td>21.3522534</td></tr>\n",
       "\t<tr><td>YrSold    </td><td>x         </td><td> 0.1574224</td><td>621       </td><td>0.6619815 </td><td>0.56254402</td><td> 6.1403305</td></tr>\n",
       "\t<tr><td>YrSold    </td><td>x         </td><td> 0.9176891</td><td>647       </td><td>0.8837847 </td><td>0.82060918</td><td> 2.5822725</td></tr>\n",
       "\t<tr><td>YrSold    </td><td>x         </td><td> 1.6779559</td><td>339       </td><td>1.0000000 </td><td>0.95332214</td><td> 0.7386208</td></tr>\n",
       "</tbody>\n",
       "</table>\n"
      ],
      "text/latex": [
       "\\begin{tabular}{r|lllllll}\n",
       " var & tran & value\\_normed & k & empirical & theoretical & diff\\_L2\\\\\n",
       "\\hline\n",
       "\t YrSold     & invcube    & -1.3633378 & 619        & 0.2122043  & 0.08638803 &  9.7986077\\\\\n",
       "\t YrSold     & invcube    & -0.6027227 & 691        & 0.4490915  & 0.27334658 & 21.3424242\\\\\n",
       "\t YrSold     & invcube    &  0.1576398 & 621        & 0.6619815  & 0.56262967 &  6.1297564\\\\\n",
       "\t YrSold     & invcube    &  0.9177499 & 647        & 0.8837847  & 0.82062508 &  2.5809725\\\\\n",
       "\t YrSold     & invcube    &  1.6776078 & 339        & 1.0000000  & 0.95328815 &  0.7396969\\\\\n",
       "\t YrSold     & log        & -1.3634510 & 619        & 0.2122043  & 0.08637021 &  9.8013845\\\\\n",
       "\t YrSold     & log        & -0.6026620 & 691        & 0.4490915  & 0.27336680 & 21.3375152\\\\\n",
       "\t YrSold     & log        &  0.1577483 & 621        & 0.6619815  & 0.56267243 &  6.1244811\\\\\n",
       "\t YrSold     & log        &  0.9177802 & 647        & 0.8837847  & 0.82063301 &  2.5803244\\\\\n",
       "\t YrSold     & log        &  1.6774340 & 339        & 1.0000000  & 0.95327118 &  0.7402346\\\\\n",
       "\t YrSold     & sqrt       & -1.3632811 & 619        & 0.2122043  & 0.08639696 &  9.7972172\\\\\n",
       "\t YrSold     & sqrt       & -0.6027531 & 691        & 0.4490915  & 0.27333647 & 21.3448820\\\\\n",
       "\t YrSold     & sqrt       &  0.1575854 & 621        & 0.6619815  & 0.56260826 &  6.1323989\\\\\n",
       "\t YrSold     & sqrt       &  0.9177347 & 647        & 0.8837847  & 0.82062111 &  2.5812972\\\\\n",
       "\t YrSold     & sqrt       &  1.6776948 & 339        & 1.0000000  & 0.95329665 &  0.7394277\\\\\n",
       "\t YrSold     & x          & -1.3631111 & 619        & 0.2122043  & 0.08642375 &  9.7930452\\\\\n",
       "\t YrSold     & x          & -0.6028444 & 691        & 0.4490915  & 0.27330612 & 21.3522534\\\\\n",
       "\t YrSold     & x          &  0.1574224 & 621        & 0.6619815  & 0.56254402 &  6.1403305\\\\\n",
       "\t YrSold     & x          &  0.9176891 & 647        & 0.8837847  & 0.82060918 &  2.5822725\\\\\n",
       "\t YrSold     & x          &  1.6779559 & 339        & 1.0000000  & 0.95332214 &  0.7386208\\\\\n",
       "\\end{tabular}\n"
      ],
      "text/markdown": [
       "\n",
       "var | tran | value_normed | k | empirical | theoretical | diff_L2 | \n",
       "|---|---|---|---|---|---|---|---|---|---|---|---|---|---|---|---|---|---|---|---|\n",
       "| YrSold     | invcube    | -1.3633378 | 619        | 0.2122043  | 0.08638803 |  9.7986077 | \n",
       "| YrSold     | invcube    | -0.6027227 | 691        | 0.4490915  | 0.27334658 | 21.3424242 | \n",
       "| YrSold     | invcube    |  0.1576398 | 621        | 0.6619815  | 0.56262967 |  6.1297564 | \n",
       "| YrSold     | invcube    |  0.9177499 | 647        | 0.8837847  | 0.82062508 |  2.5809725 | \n",
       "| YrSold     | invcube    |  1.6776078 | 339        | 1.0000000  | 0.95328815 |  0.7396969 | \n",
       "| YrSold     | log        | -1.3634510 | 619        | 0.2122043  | 0.08637021 |  9.8013845 | \n",
       "| YrSold     | log        | -0.6026620 | 691        | 0.4490915  | 0.27336680 | 21.3375152 | \n",
       "| YrSold     | log        |  0.1577483 | 621        | 0.6619815  | 0.56267243 |  6.1244811 | \n",
       "| YrSold     | log        |  0.9177802 | 647        | 0.8837847  | 0.82063301 |  2.5803244 | \n",
       "| YrSold     | log        |  1.6774340 | 339        | 1.0000000  | 0.95327118 |  0.7402346 | \n",
       "| YrSold     | sqrt       | -1.3632811 | 619        | 0.2122043  | 0.08639696 |  9.7972172 | \n",
       "| YrSold     | sqrt       | -0.6027531 | 691        | 0.4490915  | 0.27333647 | 21.3448820 | \n",
       "| YrSold     | sqrt       |  0.1575854 | 621        | 0.6619815  | 0.56260826 |  6.1323989 | \n",
       "| YrSold     | sqrt       |  0.9177347 | 647        | 0.8837847  | 0.82062111 |  2.5812972 | \n",
       "| YrSold     | sqrt       |  1.6776948 | 339        | 1.0000000  | 0.95329665 |  0.7394277 | \n",
       "| YrSold     | x          | -1.3631111 | 619        | 0.2122043  | 0.08642375 |  9.7930452 | \n",
       "| YrSold     | x          | -0.6028444 | 691        | 0.4490915  | 0.27330612 | 21.3522534 | \n",
       "| YrSold     | x          |  0.1574224 | 621        | 0.6619815  | 0.56254402 |  6.1403305 | \n",
       "| YrSold     | x          |  0.9176891 | 647        | 0.8837847  | 0.82060918 |  2.5822725 | \n",
       "| YrSold     | x          |  1.6779559 | 339        | 1.0000000  | 0.95332214 |  0.7386208 | \n",
       "\n",
       "\n"
      ],
      "text/plain": [
       "   var    tran    value_normed k   empirical theoretical diff_L2   \n",
       "1  YrSold invcube -1.3633378   619 0.2122043 0.08638803   9.7986077\n",
       "2  YrSold invcube -0.6027227   691 0.4490915 0.27334658  21.3424242\n",
       "3  YrSold invcube  0.1576398   621 0.6619815 0.56262967   6.1297564\n",
       "4  YrSold invcube  0.9177499   647 0.8837847 0.82062508   2.5809725\n",
       "5  YrSold invcube  1.6776078   339 1.0000000 0.95328815   0.7396969\n",
       "6  YrSold log     -1.3634510   619 0.2122043 0.08637021   9.8013845\n",
       "7  YrSold log     -0.6026620   691 0.4490915 0.27336680  21.3375152\n",
       "8  YrSold log      0.1577483   621 0.6619815 0.56267243   6.1244811\n",
       "9  YrSold log      0.9177802   647 0.8837847 0.82063301   2.5803244\n",
       "10 YrSold log      1.6774340   339 1.0000000 0.95327118   0.7402346\n",
       "11 YrSold sqrt    -1.3632811   619 0.2122043 0.08639696   9.7972172\n",
       "12 YrSold sqrt    -0.6027531   691 0.4490915 0.27333647  21.3448820\n",
       "13 YrSold sqrt     0.1575854   621 0.6619815 0.56260826   6.1323989\n",
       "14 YrSold sqrt     0.9177347   647 0.8837847 0.82062111   2.5812972\n",
       "15 YrSold sqrt     1.6776948   339 1.0000000 0.95329665   0.7394277\n",
       "16 YrSold x       -1.3631111   619 0.2122043 0.08642375   9.7930452\n",
       "17 YrSold x       -0.6028444   691 0.4490915 0.27330612  21.3522534\n",
       "18 YrSold x        0.1574224   621 0.6619815 0.56254402   6.1403305\n",
       "19 YrSold x        0.9176891   647 0.8837847 0.82060918   2.5822725\n",
       "20 YrSold x        1.6779559   339 1.0000000 0.95332214   0.7386208"
      ]
     },
     "metadata": {},
     "output_type": "display_data"
    }
   ],
   "source": [
    "df3 %>%\n",
    "mutate(\n",
    "    empirical = cumsum(k) / sum(k),\n",
    "    theoretical = pnorm(value_normed),\n",
    "    diff_L2 = k*(empirical - theoretical)**2\n",
    ") -> df4\n",
    "\n",
    "df4 %>% filter(var == 'YrSold')"
   ]
  },
  {
   "cell_type": "code",
   "execution_count": 53,
   "metadata": {},
   "outputs": [
    {
     "data": {
      "text/html": [
       "<table>\n",
       "<thead><tr><th scope=col>var</th><th scope=col>tran</th><th scope=col>L2_distance</th></tr></thead>\n",
       "<tbody>\n",
       "\t<tr><td>LotArea </td><td>invcube </td><td>10.78862</td></tr>\n",
       "\t<tr><td>LotArea </td><td>log     </td><td>13.31376</td></tr>\n",
       "\t<tr><td>LotArea </td><td>sqrt    </td><td>13.39006</td></tr>\n",
       "\t<tr><td>LotArea </td><td>x       </td><td>50.03278</td></tr>\n",
       "</tbody>\n",
       "</table>\n"
      ],
      "text/latex": [
       "\\begin{tabular}{r|lll}\n",
       " var & tran & L2\\_distance\\\\\n",
       "\\hline\n",
       "\t LotArea  & invcube  & 10.78862\\\\\n",
       "\t LotArea  & log      & 13.31376\\\\\n",
       "\t LotArea  & sqrt     & 13.39006\\\\\n",
       "\t LotArea  & x        & 50.03278\\\\\n",
       "\\end{tabular}\n"
      ],
      "text/markdown": [
       "\n",
       "var | tran | L2_distance | \n",
       "|---|---|---|---|\n",
       "| LotArea  | invcube  | 10.78862 | \n",
       "| LotArea  | log      | 13.31376 | \n",
       "| LotArea  | sqrt     | 13.39006 | \n",
       "| LotArea  | x        | 50.03278 | \n",
       "\n",
       "\n"
      ],
      "text/plain": [
       "  var     tran    L2_distance\n",
       "1 LotArea invcube 10.78862   \n",
       "2 LotArea log     13.31376   \n",
       "3 LotArea sqrt    13.39006   \n",
       "4 LotArea x       50.03278   "
      ]
     },
     "metadata": {},
     "output_type": "display_data"
    }
   ],
   "source": [
    "df4 %>%\n",
    "group_by(var, tran) %>%\n",
    "summarise(\n",
    "    L2_distance = sum(diff_L2)\n",
    ") -> df5\n",
    "\n",
    "df5 %>% filter(var == 'LotArea')"
   ]
  },
  {
   "cell_type": "code",
   "execution_count": 58,
   "metadata": {},
   "outputs": [
    {
     "data": {
      "text/html": [
       "<table>\n",
       "<thead><tr><th scope=col>var</th><th scope=col>best_tran</th></tr></thead>\n",
       "<tbody>\n",
       "\t<tr><td>LotArea                         </td><td>invcube        , 78.436890821096</td></tr>\n",
       "</tbody>\n",
       "</table>\n"
      ],
      "text/latex": [
       "\\begin{tabular}{r|ll}\n",
       " var & best\\_tran\\\\\n",
       "\\hline\n",
       "\t LotArea                          & invcube        , 78.436890821096\\\\\n",
       "\\end{tabular}\n"
      ],
      "text/markdown": [
       "\n",
       "var | best_tran | \n",
       "|---|\n",
       "| LotArea                          | invcube        , 78.436890821096 | \n",
       "\n",
       "\n"
      ],
      "text/plain": [
       "  var     best_tran                       \n",
       "1 LotArea invcube        , 78.436890821096"
      ]
     },
     "metadata": {},
     "output_type": "display_data"
    }
   ],
   "source": [
    "df5 %>%\n",
    "group_by(var) %>%\n",
    "nest %>%\n",
    "mutate(\n",
    "    best_tran = map(data, function(df) {\n",
    "        best <- df %>% arrange(L2_distance) %>% head(1)\n",
    "        vanilla <- df %>% filter(tran == 'x')\n",
    "        progress_score <- 100 * (vanilla$L2_distance - best$L2_distance) / vanilla$L2_distance\n",
    "        data_frame(tran = best$tran, progress_score = progress_score)\n",
    "    })\n",
    ") %>%\n",
    "select(-data) -> df6\n",
    "\n",
    "df6 %>% filter(var == 'LotArea')"
   ]
  },
  {
   "cell_type": "code",
   "execution_count": 61,
   "metadata": {},
   "outputs": [
    {
     "data": {
      "text/html": [
       "<table>\n",
       "<thead><tr><th scope=col>var</th><th scope=col>tran</th><th scope=col>progress_score</th><th scope=col>tran_defin</th></tr></thead>\n",
       "<tbody>\n",
       "\t<tr><td>GrLivArea                </td><td>log                      </td><td>91.15794157              </td><td>function (x) , log(x + 1)</td></tr>\n",
       "\t<tr><td>X1stFlrSF                </td><td>log                      </td><td>90.77165686              </td><td>function (x) , log(x + 1)</td></tr>\n",
       "\t<tr><td>BsmtUnfSF             </td><td>sqrt                  </td><td>79.97603070           </td><td>function (x) , sqrt(x)</td></tr>\n",
       "\t<tr><td>LotArea               </td><td>invcube               </td><td>78.43689082           </td><td>function (x) , x^(1/3)</td></tr>\n",
       "\t<tr><td>TotRmsAbvGrd             </td><td>log                      </td><td>30.68501506              </td><td>function (x) , log(x + 1)</td></tr>\n",
       "\t<tr><td>OverallQual              </td><td>log                      </td><td>29.94435652              </td><td>function (x) , log(x + 1)</td></tr>\n",
       "\t<tr><td>GarageCars               </td><td>log                      </td><td>24.95676474              </td><td>function (x) , log(x + 1)</td></tr>\n",
       "\t<tr><td>BedroomAbvGr             </td><td>log                      </td><td>22.37508601              </td><td>function (x) , log(x + 1)</td></tr>\n",
       "\t<tr><td>OverallCond              </td><td>log                      </td><td>16.24723935              </td><td>function (x) , log(x + 1)</td></tr>\n",
       "\t<tr><td>FullBath              </td><td>invcube               </td><td> 8.79733251           </td><td>function (x) , x^(1/3)</td></tr>\n",
       "\t<tr><td>KitchenAbvGr          </td><td>invcube               </td><td> 5.49562055           </td><td>function (x) , x^(1/3)</td></tr>\n",
       "\t<tr><td>Fireplaces            </td><td>invcube               </td><td> 3.73970434           </td><td>function (x) , x^(1/3)</td></tr>\n",
       "\t<tr><td>YrSold                   </td><td>log                      </td><td> 0.05561352              </td><td>function (x) , log(x + 1)</td></tr>\n",
       "</tbody>\n",
       "</table>\n"
      ],
      "text/latex": [
       "\\begin{tabular}{r|llll}\n",
       " var & tran & progress\\_score & tran\\_defin\\\\\n",
       "\\hline\n",
       "\t GrLivArea                 & log                       & 91.15794157               & function (x) , log(x + 1)\\\\\n",
       "\t X1stFlrSF                 & log                       & 90.77165686               & function (x) , log(x + 1)\\\\\n",
       "\t BsmtUnfSF              & sqrt                   & 79.97603070            & function (x) , sqrt(x)\\\\\n",
       "\t LotArea                                  & invcube                                  & 78.43689082                              & function (x) , x\\textasciicircum{}(1/3)\\\\\n",
       "\t TotRmsAbvGrd              & log                       & 30.68501506               & function (x) , log(x + 1)\\\\\n",
       "\t OverallQual               & log                       & 29.94435652               & function (x) , log(x + 1)\\\\\n",
       "\t GarageCars                & log                       & 24.95676474               & function (x) , log(x + 1)\\\\\n",
       "\t BedroomAbvGr              & log                       & 22.37508601               & function (x) , log(x + 1)\\\\\n",
       "\t OverallCond               & log                       & 16.24723935               & function (x) , log(x + 1)\\\\\n",
       "\t FullBath                                 & invcube                                  &  8.79733251                              & function (x) , x\\textasciicircum{}(1/3)\\\\\n",
       "\t KitchenAbvGr                             & invcube                                  &  5.49562055                              & function (x) , x\\textasciicircum{}(1/3)\\\\\n",
       "\t Fireplaces                               & invcube                                  &  3.73970434                              & function (x) , x\\textasciicircum{}(1/3)\\\\\n",
       "\t YrSold                    & log                       &  0.05561352               & function (x) , log(x + 1)\\\\\n",
       "\\end{tabular}\n"
      ],
      "text/markdown": [
       "\n",
       "var | tran | progress_score | tran_defin | \n",
       "|---|---|---|---|---|---|---|---|---|---|---|---|---|\n",
       "| GrLivArea                 | log                       | 91.15794157               | function (x) , log(x + 1) | \n",
       "| X1stFlrSF                 | log                       | 90.77165686               | function (x) , log(x + 1) | \n",
       "| BsmtUnfSF              | sqrt                   | 79.97603070            | function (x) , sqrt(x) | \n",
       "| LotArea                | invcube                | 78.43689082            | function (x) , x^(1/3) | \n",
       "| TotRmsAbvGrd              | log                       | 30.68501506               | function (x) , log(x + 1) | \n",
       "| OverallQual               | log                       | 29.94435652               | function (x) , log(x + 1) | \n",
       "| GarageCars                | log                       | 24.95676474               | function (x) , log(x + 1) | \n",
       "| BedroomAbvGr              | log                       | 22.37508601               | function (x) , log(x + 1) | \n",
       "| OverallCond               | log                       | 16.24723935               | function (x) , log(x + 1) | \n",
       "| FullBath               | invcube                |  8.79733251            | function (x) , x^(1/3) | \n",
       "| KitchenAbvGr           | invcube                |  5.49562055            | function (x) , x^(1/3) | \n",
       "| Fireplaces             | invcube                |  3.73970434            | function (x) , x^(1/3) | \n",
       "| YrSold                    | log                       |  0.05561352               | function (x) , log(x + 1) | \n",
       "\n",
       "\n"
      ],
      "text/plain": [
       "   var          tran    progress_score tran_defin               \n",
       "1  GrLivArea    log     91.15794157    function (x) , log(x + 1)\n",
       "2  X1stFlrSF    log     90.77165686    function (x) , log(x + 1)\n",
       "3  BsmtUnfSF    sqrt    79.97603070    function (x) , sqrt(x)   \n",
       "4  LotArea      invcube 78.43689082    function (x) , x^(1/3)   \n",
       "5  TotRmsAbvGrd log     30.68501506    function (x) , log(x + 1)\n",
       "6  OverallQual  log     29.94435652    function (x) , log(x + 1)\n",
       "7  GarageCars   log     24.95676474    function (x) , log(x + 1)\n",
       "8  BedroomAbvGr log     22.37508601    function (x) , log(x + 1)\n",
       "9  OverallCond  log     16.24723935    function (x) , log(x + 1)\n",
       "10 FullBath     invcube  8.79733251    function (x) , x^(1/3)   \n",
       "11 KitchenAbvGr invcube  5.49562055    function (x) , x^(1/3)   \n",
       "12 Fireplaces   invcube  3.73970434    function (x) , x^(1/3)   \n",
       "13 YrSold       log      0.05561352    function (x) , log(x + 1)"
      ]
     },
     "metadata": {},
     "output_type": "display_data"
    }
   ],
   "source": [
    "df6 %>%\n",
    "unnest(best_tran) %>%\n",
    "filter(tran != 'x') %>%\n",
    "arrange(desc(progress_score)) %>%\n",
    "inner_join(fn_df, by=c(\"tran\" = \"tran_name\")) -> transformation_config\n",
    "\n",
    "transformation_config"
   ]
  },
  {
   "cell_type": "code",
   "execution_count": 167,
   "metadata": {},
   "outputs": [
    {
     "data": {
      "text/html": [
       "<table>\n",
       "<thead><tr><th scope=col>var</th><th scope=col>tran</th><th scope=col>value</th></tr></thead>\n",
       "<tbody>\n",
       "\t<tr><td>GrLivArea  </td><td>original   </td><td>1710.000000</td></tr>\n",
       "\t<tr><td>GrLivArea  </td><td>original   </td><td>1262.000000</td></tr>\n",
       "\t<tr><td>GrLivArea  </td><td>transformed</td><td>   7.444833</td></tr>\n",
       "\t<tr><td>GrLivArea  </td><td>transformed</td><td>   7.141245</td></tr>\n",
       "</tbody>\n",
       "</table>\n"
      ],
      "text/latex": [
       "\\begin{tabular}{r|lll}\n",
       " var & tran & value\\\\\n",
       "\\hline\n",
       "\t GrLivArea   & original    & 1710.000000\\\\\n",
       "\t GrLivArea   & original    & 1262.000000\\\\\n",
       "\t GrLivArea   & transformed &    7.444833\\\\\n",
       "\t GrLivArea   & transformed &    7.141245\\\\\n",
       "\\end{tabular}\n"
      ],
      "text/markdown": [
       "\n",
       "var | tran | value | \n",
       "|---|---|---|---|\n",
       "| GrLivArea   | original    | 1710.000000 | \n",
       "| GrLivArea   | original    | 1262.000000 | \n",
       "| GrLivArea   | transformed |    7.444833 | \n",
       "| GrLivArea   | transformed |    7.141245 | \n",
       "\n",
       "\n"
      ],
      "text/plain": [
       "  var       tran        value      \n",
       "1 GrLivArea original    1710.000000\n",
       "2 GrLivArea original    1262.000000\n",
       "3 GrLivArea transformed    7.444833\n",
       "4 GrLivArea transformed    7.141245"
      ]
     },
     "metadata": {},
     "output_type": "display_data"
    }
   ],
   "source": [
    "combined_dataset %>%\n",
    "select(one_of(transformation_config$var)) %>%\n",
    "gather(var, value) %>%\n",
    "filter(!is.na(value)) %>%\n",
    "inner_join(transformation_config %>% select(var, tran, tran_defin), by='var') %>%\n",
    "head(2) %>%\n",
    "mutate(\n",
    "    value_transformed = map2_dbl(value, tran_defin, function(val, fn) fn(val))\n",
    ") %>%\n",
    "select(var, value, value_transformed) %>%\n",
    "gather(tran, value, -var) %>%\n",
    "mutate(\n",
    "    tran = ifelse(tran == 'value', 'original', 'transformed')\n",
    ")"
   ]
  },
  {
   "cell_type": "code",
   "execution_count": null,
   "metadata": {
    "collapsed": true
   },
   "outputs": [],
   "source": []
  },
  {
   "cell_type": "code",
   "execution_count": null,
   "metadata": {
    "collapsed": true
   },
   "outputs": [],
   "source": []
  },
  {
   "cell_type": "code",
   "execution_count": null,
   "metadata": {
    "collapsed": true
   },
   "outputs": [],
   "source": []
  },
  {
   "cell_type": "code",
   "execution_count": null,
   "metadata": {
    "collapsed": true
   },
   "outputs": [],
   "source": []
  },
  {
   "cell_type": "code",
   "execution_count": null,
   "metadata": {
    "collapsed": true
   },
   "outputs": [],
   "source": []
  },
  {
   "cell_type": "code",
   "execution_count": null,
   "metadata": {
    "collapsed": true
   },
   "outputs": [],
   "source": []
  },
  {
   "cell_type": "code",
   "execution_count": null,
   "metadata": {
    "collapsed": true
   },
   "outputs": [],
   "source": []
  },
  {
   "cell_type": "code",
   "execution_count": null,
   "metadata": {
    "collapsed": true
   },
   "outputs": [],
   "source": []
  }
 ],
 "metadata": {
  "kernelspec": {
   "display_name": "R",
   "language": "R",
   "name": "ir"
  },
  "language_info": {
   "codemirror_mode": "r",
   "file_extension": ".r",
   "mimetype": "text/x-r-source",
   "name": "R",
   "pygments_lexer": "r",
   "version": "3.4.2"
  }
 },
 "nbformat": 4,
 "nbformat_minor": 2
}
