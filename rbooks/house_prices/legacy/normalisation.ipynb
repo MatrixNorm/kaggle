{
 "cells": [
  {
   "cell_type": "code",
   "execution_count": 1,
   "metadata": {},
   "outputs": [
    {
     "data": {
      "text/html": [
       "'/mnt/hdd/develop/kaggle/house-prices/R/R'"
      ],
      "text/latex": [
       "'/mnt/hdd/develop/kaggle/house-prices/R/R'"
      ],
      "text/markdown": [
       "'/mnt/hdd/develop/kaggle/house-prices/R/R'"
      ],
      "text/plain": [
       "[1] \"/mnt/hdd/develop/kaggle/house-prices/R/R\""
      ]
     },
     "metadata": {},
     "output_type": "display_data"
    }
   ],
   "source": [
    "setwd(paste0(Sys.getenv('ROOT'), '/R'))\n",
    "getwd()"
   ]
  },
  {
   "cell_type": "code",
   "execution_count": 11,
   "metadata": {},
   "outputs": [],
   "source": [
    "source('main.R')\n",
    "\n",
    "data <- kaggle.house$loadData()\n",
    "\n",
    "df.combined <- kaggle.house$getCombinedDataset(data$train, data$test) %>% (kaggle.house$na$fixAll)\n",
    "\n",
    "df.training <- \n",
    "    df.combined %>% \n",
    "    filter(dataSource == \"train\") %>% \n",
    "    mutate(sale_price_log = log(SalePrice)) %>%\n",
    "    select(-dataSource)\n",
    "\n",
    "trainset <- kaggle.house$trans$doItAll(df.training) %>% `$`('trainset')"
   ]
  },
  {
   "cell_type": "code",
   "execution_count": 18,
   "metadata": {},
   "outputs": [
    {
     "data": {
      "text/html": [
       "<table>\n",
       "<thead><tr><th scope=col>name</th><th scope=col>min</th><th scope=col>max</th><th scope=col>support</th><th scope=col>mean</th><th scope=col>median</th></tr></thead>\n",
       "<tbody>\n",
       "\t<tr><td>SalePrice    </td><td>34900        </td><td>755000       </td><td>720100       </td><td>1.809212e+05 </td><td>163000.0     </td></tr>\n",
       "\t<tr><td>LotArea      </td><td> 1300        </td><td>215245       </td><td>213945       </td><td>1.051683e+04 </td><td>  9478.5     </td></tr>\n",
       "\t<tr><td>MiscVal      </td><td>    0        </td><td> 15500       </td><td> 15500       </td><td>4.348904e+01 </td><td>     0.0     </td></tr>\n",
       "\t<tr><td>TotalBsmtSF  </td><td>    0        </td><td>  6110       </td><td>  6110       </td><td>1.057429e+03 </td><td>   991.5     </td></tr>\n",
       "\t<tr><td>BsmtFinSF1   </td><td>    0        </td><td>  5644       </td><td>  5644       </td><td>4.436397e+02 </td><td>   383.5     </td></tr>\n",
       "\t<tr><td>GrLivArea    </td><td>  334        </td><td>  5642       </td><td>  5308       </td><td>1.515464e+03 </td><td>  1464.0     </td></tr>\n",
       "\t<tr><td>X1stFlrSF    </td><td>  334        </td><td>  4692       </td><td>  4358       </td><td>1.162627e+03 </td><td>  1087.0     </td></tr>\n",
       "\t<tr><td>BsmtUnfSF    </td><td>    0        </td><td>  2336       </td><td>  2336       </td><td>5.672404e+02 </td><td>   477.5     </td></tr>\n",
       "\t<tr><td>X2ndFlrSF    </td><td>    0        </td><td>  2065       </td><td>  2065       </td><td>3.469925e+02 </td><td>     0.0     </td></tr>\n",
       "\t<tr><td>GarageYrBlt  </td><td>    0        </td><td>  2010       </td><td>  2010       </td><td>1.868740e+03 </td><td>  1977.0     </td></tr>\n",
       "\t<tr><td>MasVnrArea   </td><td>    0        </td><td>  1600       </td><td>  1600       </td><td>1.031171e+02 </td><td>     0.0     </td></tr>\n",
       "\t<tr><td>BsmtFinSF2   </td><td>    0        </td><td>  1474       </td><td>  1474       </td><td>4.654932e+01 </td><td>     0.0     </td></tr>\n",
       "\t<tr><td>GarageArea   </td><td>    0        </td><td>  1418       </td><td>  1418       </td><td>4.729801e+02 </td><td>   480.0     </td></tr>\n",
       "\t<tr><td>WoodDeckSF   </td><td>    0        </td><td>   857       </td><td>   857       </td><td>9.424452e+01 </td><td>     0.0     </td></tr>\n",
       "\t<tr><td>PoolArea     </td><td>    0        </td><td>   738       </td><td>   738       </td><td>2.758904e+00 </td><td>     0.0     </td></tr>\n",
       "\t<tr><td>LowQualFinSF </td><td>    0        </td><td>   572       </td><td>   572       </td><td>5.844521e+00 </td><td>     0.0     </td></tr>\n",
       "\t<tr><td>EnclosedPorch</td><td>    0        </td><td>   552       </td><td>   552       </td><td>2.195411e+01 </td><td>     0.0     </td></tr>\n",
       "\t<tr><td>OpenPorchSF  </td><td>    0        </td><td>   547       </td><td>   547       </td><td>4.666027e+01 </td><td>    25.0     </td></tr>\n",
       "\t<tr><td>X3SsnPorch   </td><td>    0        </td><td>   508       </td><td>   508       </td><td>3.409589e+00 </td><td>     0.0     </td></tr>\n",
       "\t<tr><td>ScreenPorch  </td><td>    0        </td><td>   480       </td><td>   480       </td><td>1.506096e+01 </td><td>     0.0     </td></tr>\n",
       "\t<tr><td>LotFrontage  </td><td>    0        </td><td>   313       </td><td>   313       </td><td>5.762329e+01 </td><td>    63.0     </td></tr>\n",
       "\t<tr><td>YearBuilt    </td><td> 1872        </td><td>  2010       </td><td>   138       </td><td>1.971268e+03 </td><td>  1973.0     </td></tr>\n",
       "\t<tr><td>YearRemodAdd </td><td> 1950        </td><td>  2010       </td><td>    60       </td><td>1.984866e+03 </td><td>  1994.0     </td></tr>\n",
       "\t<tr><td>TotRmsAbvGrd </td><td>    2        </td><td>    14       </td><td>    12       </td><td>6.517808e+00 </td><td>     6.0     </td></tr>\n",
       "\t<tr><td>MoSold       </td><td>    1        </td><td>    12       </td><td>    11       </td><td>6.321918e+00 </td><td>     6.0     </td></tr>\n",
       "\t<tr><td>OverallQual  </td><td>    1        </td><td>    10       </td><td>     9       </td><td>6.099315e+00 </td><td>     6.0     </td></tr>\n",
       "\t<tr><td>BedroomAbvGr </td><td>    0        </td><td>     8       </td><td>     8       </td><td>2.866438e+00 </td><td>     3.0     </td></tr>\n",
       "\t<tr><td>OverallCond  </td><td>    1        </td><td>     9       </td><td>     8       </td><td>5.575342e+00 </td><td>     5.0     </td></tr>\n",
       "\t<tr><td>GarageCars   </td><td>    0        </td><td>     4       </td><td>     4       </td><td>1.767123e+00 </td><td>     2.0     </td></tr>\n",
       "\t<tr><td>YrSold       </td><td> 2006        </td><td>  2010       </td><td>     4       </td><td>2.007816e+03 </td><td>  2008.0     </td></tr>\n",
       "\t<tr><td>⋮</td><td>⋮</td><td>⋮</td><td>⋮</td><td>⋮</td><td>⋮</td></tr>\n",
       "\t<tr><td>has_pool              </td><td> 0.00000              </td><td> 1.00000              </td><td>1.0000000             </td><td> 0.004794521          </td><td> 0.00000              </td></tr>\n",
       "\t<tr><td>heating_air_furnace   </td><td> 0.00000              </td><td> 1.00000              </td><td>1.0000000             </td><td> 0.978082192          </td><td> 1.00000              </td></tr>\n",
       "\t<tr><td>is_full_functional    </td><td> 0.00000              </td><td> 1.00000              </td><td>1.0000000             </td><td> 0.931506849          </td><td> 1.00000              </td></tr>\n",
       "\t<tr><td>is_land_level         </td><td> 0.00000              </td><td> 1.00000              </td><td>1.0000000             </td><td> 0.897945205          </td><td> 1.00000              </td></tr>\n",
       "\t<tr><td>is_lotshape_regular   </td><td> 0.00000              </td><td> 1.00000              </td><td>1.0000000             </td><td> 0.633561644          </td><td> 1.00000              </td></tr>\n",
       "\t<tr><td>is_slope              </td><td> 0.00000              </td><td> 1.00000              </td><td>1.0000000             </td><td> 0.053424658          </td><td> 0.00000              </td></tr>\n",
       "\t<tr><td>is_street_paved       </td><td> 0.00000              </td><td> 1.00000              </td><td>1.0000000             </td><td> 0.995890411          </td><td> 1.00000              </td></tr>\n",
       "\t<tr><td>standard_electrical   </td><td> 0.00000              </td><td> 1.00000              </td><td>1.0000000             </td><td> 0.914383562          </td><td> 1.00000              </td></tr>\n",
       "\t<tr><td>standard_roof_material</td><td> 0.00000              </td><td> 1.00000              </td><td>1.0000000             </td><td> 0.982191781          </td><td> 1.00000              </td></tr>\n",
       "\t<tr><td>MSSubClass.new        </td><td>11.39036              </td><td>12.27932              </td><td>0.8889644             </td><td>11.988608774          </td><td>11.97823              </td></tr>\n",
       "\t<tr><td>SaleCondition.new     </td><td>11.52926              </td><td>12.40738              </td><td>0.8781236             </td><td>12.001236821          </td><td>11.98293              </td></tr>\n",
       "\t<tr><td>FireplaceQu.new       </td><td>11.78658              </td><td>12.65794              </td><td>0.8713548             </td><td>12.011728024          </td><td>11.97035              </td></tr>\n",
       "\t<tr><td>SaleType.new          </td><td>11.66178              </td><td>12.48391              </td><td>0.8221345             </td><td>12.002718382          </td><td>11.97035              </td></tr>\n",
       "\t<tr><td>GarageType.new        </td><td>11.51293              </td><td>12.33485              </td><td>0.8219197             </td><td>12.005047589          </td><td>12.12811              </td></tr>\n",
       "\t<tr><td>HeatingQC.new         </td><td>11.37366              </td><td>12.17922              </td><td>0.8055518             </td><td>12.015170574          </td><td>12.17922              </td></tr>\n",
       "\t<tr><td>ExterCond.new         </td><td>11.24505              </td><td>12.02796              </td><td>0.7829159             </td><td>12.006467293          </td><td>12.02796              </td></tr>\n",
       "\t<tr><td>BsmtExposure.new      </td><td>11.55216              </td><td>12.33256              </td><td>0.7803996             </td><td>12.011772716          </td><td>11.94471              </td></tr>\n",
       "\t<tr><td>GarageQual.new        </td><td>11.47730              </td><td>12.24395              </td><td>0.7666474             </td><td>12.001431253          </td><td>12.04355              </td></tr>\n",
       "\t<tr><td>GarageFinish.new      </td><td>11.51293              </td><td>12.27839              </td><td>0.7654678             </td><td>12.007357176          </td><td>12.15478              </td></tr>\n",
       "\t<tr><td>BsmtFinType1.new      </td><td>11.53077              </td><td>12.27256              </td><td>0.7417963             </td><td>12.014921908          </td><td>11.99381              </td></tr>\n",
       "\t<tr><td>Foundation.new        </td><td>11.55333              </td><td>12.23077              </td><td>0.6774324             </td><td>12.006920290          </td><td>11.86005              </td></tr>\n",
       "\t<tr><td>BsmtFinType2.new      </td><td>11.55216              </td><td>12.22033              </td><td>0.6681752             </td><td>12.005546435          </td><td>12.02575              </td></tr>\n",
       "\t<tr><td>Condition1.new        </td><td>11.69149              </td><td>12.27373              </td><td>0.5822456             </td><td>12.006328266          </td><td>12.02275              </td></tr>\n",
       "\t<tr><td>MasVnrType.new        </td><td>11.84223              </td><td>12.41647              </td><td>0.5742442             </td><td>11.991918450          </td><td>11.87060              </td></tr>\n",
       "\t<tr><td>HouseStyle.new        </td><td>11.61941              </td><td>12.17549              </td><td>0.5560824             </td><td>11.991761808          </td><td>11.94956              </td></tr>\n",
       "\t<tr><td>GarageCond.new        </td><td>11.51293              </td><td>12.04355              </td><td>0.5306283             </td><td>12.001178874          </td><td>12.04355              </td></tr>\n",
       "\t<tr><td>RoofStyle.new         </td><td>11.84223              </td><td>12.31161              </td><td>0.4693789             </td><td>12.003267704          </td><td>11.98293              </td></tr>\n",
       "\t<tr><td>BldgType.new          </td><td>11.75587              </td><td>12.05641              </td><td>0.3005387             </td><td>12.013860874          </td><td>12.03112              </td></tr>\n",
       "\t<tr><td>Fence.new             </td><td>11.77529              </td><td>12.06105              </td><td>0.2857571             </td><td>12.024692152          </td><td>12.06105              </td></tr>\n",
       "\t<tr><td>LotConfig.new         </td><td>11.98104              </td><td>12.20235              </td><td>0.2213165             </td><td>11.997226331          </td><td>11.98104              </td></tr>\n",
       "</tbody>\n",
       "</table>\n"
      ],
      "text/latex": [
       "\\begin{tabular}{r|llllll}\n",
       " name & min & max & support & mean & median\\\\\n",
       "\\hline\n",
       "\t SalePrice     & 34900         & 755000        & 720100        & 1.809212e+05  & 163000.0     \\\\\n",
       "\t LotArea       &  1300         & 215245        & 213945        & 1.051683e+04  &   9478.5     \\\\\n",
       "\t MiscVal       &     0         &  15500        &  15500        & 4.348904e+01  &      0.0     \\\\\n",
       "\t TotalBsmtSF   &     0         &   6110        &   6110        & 1.057429e+03  &    991.5     \\\\\n",
       "\t BsmtFinSF1    &     0         &   5644        &   5644        & 4.436397e+02  &    383.5     \\\\\n",
       "\t GrLivArea     &   334         &   5642        &   5308        & 1.515464e+03  &   1464.0     \\\\\n",
       "\t X1stFlrSF     &   334         &   4692        &   4358        & 1.162627e+03  &   1087.0     \\\\\n",
       "\t BsmtUnfSF     &     0         &   2336        &   2336        & 5.672404e+02  &    477.5     \\\\\n",
       "\t X2ndFlrSF     &     0         &   2065        &   2065        & 3.469925e+02  &      0.0     \\\\\n",
       "\t GarageYrBlt   &     0         &   2010        &   2010        & 1.868740e+03  &   1977.0     \\\\\n",
       "\t MasVnrArea    &     0         &   1600        &   1600        & 1.031171e+02  &      0.0     \\\\\n",
       "\t BsmtFinSF2    &     0         &   1474        &   1474        & 4.654932e+01  &      0.0     \\\\\n",
       "\t GarageArea    &     0         &   1418        &   1418        & 4.729801e+02  &    480.0     \\\\\n",
       "\t WoodDeckSF    &     0         &    857        &    857        & 9.424452e+01  &      0.0     \\\\\n",
       "\t PoolArea      &     0         &    738        &    738        & 2.758904e+00  &      0.0     \\\\\n",
       "\t LowQualFinSF  &     0         &    572        &    572        & 5.844521e+00  &      0.0     \\\\\n",
       "\t EnclosedPorch &     0         &    552        &    552        & 2.195411e+01  &      0.0     \\\\\n",
       "\t OpenPorchSF   &     0         &    547        &    547        & 4.666027e+01  &     25.0     \\\\\n",
       "\t X3SsnPorch    &     0         &    508        &    508        & 3.409589e+00  &      0.0     \\\\\n",
       "\t ScreenPorch   &     0         &    480        &    480        & 1.506096e+01  &      0.0     \\\\\n",
       "\t LotFrontage   &     0         &    313        &    313        & 5.762329e+01  &     63.0     \\\\\n",
       "\t YearBuilt     &  1872         &   2010        &    138        & 1.971268e+03  &   1973.0     \\\\\n",
       "\t YearRemodAdd  &  1950         &   2010        &     60        & 1.984866e+03  &   1994.0     \\\\\n",
       "\t TotRmsAbvGrd  &     2         &     14        &     12        & 6.517808e+00  &      6.0     \\\\\n",
       "\t MoSold        &     1         &     12        &     11        & 6.321918e+00  &      6.0     \\\\\n",
       "\t OverallQual   &     1         &     10        &      9        & 6.099315e+00  &      6.0     \\\\\n",
       "\t BedroomAbvGr  &     0         &      8        &      8        & 2.866438e+00  &      3.0     \\\\\n",
       "\t OverallCond   &     1         &      9        &      8        & 5.575342e+00  &      5.0     \\\\\n",
       "\t GarageCars    &     0         &      4        &      4        & 1.767123e+00  &      2.0     \\\\\n",
       "\t YrSold        &  2006         &   2010        &      4        & 2.007816e+03  &   2008.0     \\\\\n",
       "\t ⋮ & ⋮ & ⋮ & ⋮ & ⋮ & ⋮\\\\\n",
       "\t has\\_pool               &  0.00000                 &  1.00000                 & 1.0000000                &  0.004794521             &  0.00000                \\\\\n",
       "\t heating\\_air\\_furnace    &  0.00000                   &  1.00000                   & 1.0000000                  &  0.978082192               &  1.00000                  \\\\\n",
       "\t is\\_full\\_functional     &  0.00000                   &  1.00000                   & 1.0000000                  &  0.931506849               &  1.00000                  \\\\\n",
       "\t is\\_land\\_level          &  0.00000                   &  1.00000                   & 1.0000000                  &  0.897945205               &  1.00000                  \\\\\n",
       "\t is\\_lotshape\\_regular    &  0.00000                   &  1.00000                   & 1.0000000                  &  0.633561644               &  1.00000                  \\\\\n",
       "\t is\\_slope               &  0.00000                 &  1.00000                 & 1.0000000                &  0.053424658             &  0.00000                \\\\\n",
       "\t is\\_street\\_paved        &  0.00000                   &  1.00000                   & 1.0000000                  &  0.995890411               &  1.00000                  \\\\\n",
       "\t standard\\_electrical    &  0.00000                 &  1.00000                 & 1.0000000                &  0.914383562             &  1.00000                \\\\\n",
       "\t standard\\_roof\\_material &  0.00000                   &  1.00000                   & 1.0000000                  &  0.982191781               &  1.00000                  \\\\\n",
       "\t MSSubClass.new         & 11.39036               & 12.27932               & 0.8889644              & 11.988608774           & 11.97823              \\\\\n",
       "\t SaleCondition.new      & 11.52926               & 12.40738               & 0.8781236              & 12.001236821           & 11.98293              \\\\\n",
       "\t FireplaceQu.new        & 11.78658               & 12.65794               & 0.8713548              & 12.011728024           & 11.97035              \\\\\n",
       "\t SaleType.new           & 11.66178               & 12.48391               & 0.8221345              & 12.002718382           & 11.97035              \\\\\n",
       "\t GarageType.new         & 11.51293               & 12.33485               & 0.8219197              & 12.005047589           & 12.12811              \\\\\n",
       "\t HeatingQC.new          & 11.37366               & 12.17922               & 0.8055518              & 12.015170574           & 12.17922              \\\\\n",
       "\t ExterCond.new          & 11.24505               & 12.02796               & 0.7829159              & 12.006467293           & 12.02796              \\\\\n",
       "\t BsmtExposure.new       & 11.55216               & 12.33256               & 0.7803996              & 12.011772716           & 11.94471              \\\\\n",
       "\t GarageQual.new         & 11.47730               & 12.24395               & 0.7666474              & 12.001431253           & 12.04355              \\\\\n",
       "\t GarageFinish.new       & 11.51293               & 12.27839               & 0.7654678              & 12.007357176           & 12.15478              \\\\\n",
       "\t BsmtFinType1.new       & 11.53077               & 12.27256               & 0.7417963              & 12.014921908           & 11.99381              \\\\\n",
       "\t Foundation.new         & 11.55333               & 12.23077               & 0.6774324              & 12.006920290           & 11.86005              \\\\\n",
       "\t BsmtFinType2.new       & 11.55216               & 12.22033               & 0.6681752              & 12.005546435           & 12.02575              \\\\\n",
       "\t Condition1.new         & 11.69149               & 12.27373               & 0.5822456              & 12.006328266           & 12.02275              \\\\\n",
       "\t MasVnrType.new         & 11.84223               & 12.41647               & 0.5742442              & 11.991918450           & 11.87060              \\\\\n",
       "\t HouseStyle.new         & 11.61941               & 12.17549               & 0.5560824              & 11.991761808           & 11.94956              \\\\\n",
       "\t GarageCond.new         & 11.51293               & 12.04355               & 0.5306283              & 12.001178874           & 12.04355              \\\\\n",
       "\t RoofStyle.new          & 11.84223               & 12.31161               & 0.4693789              & 12.003267704           & 11.98293              \\\\\n",
       "\t BldgType.new           & 11.75587               & 12.05641               & 0.3005387              & 12.013860874           & 12.03112              \\\\\n",
       "\t Fence.new              & 11.77529               & 12.06105               & 0.2857571              & 12.024692152           & 12.06105              \\\\\n",
       "\t LotConfig.new          & 11.98104               & 12.20235               & 0.2213165              & 11.997226331           & 11.98104              \\\\\n",
       "\\end{tabular}\n"
      ],
      "text/markdown": [
       "\n",
       "name | min | max | support | mean | median | \n",
       "|---|---|---|---|---|---|---|---|---|---|---|---|---|---|---|---|---|---|---|---|---|---|---|---|---|---|---|---|---|---|---|---|---|---|---|---|---|---|---|---|---|---|---|---|---|---|---|---|---|---|---|---|---|---|---|---|---|---|---|---|---|\n",
       "| SalePrice     | 34900         | 755000        | 720100        | 1.809212e+05  | 163000.0      | \n",
       "| LotArea       |  1300         | 215245        | 213945        | 1.051683e+04  |   9478.5      | \n",
       "| MiscVal       |     0         |  15500        |  15500        | 4.348904e+01  |      0.0      | \n",
       "| TotalBsmtSF   |     0         |   6110        |   6110        | 1.057429e+03  |    991.5      | \n",
       "| BsmtFinSF1    |     0         |   5644        |   5644        | 4.436397e+02  |    383.5      | \n",
       "| GrLivArea     |   334         |   5642        |   5308        | 1.515464e+03  |   1464.0      | \n",
       "| X1stFlrSF     |   334         |   4692        |   4358        | 1.162627e+03  |   1087.0      | \n",
       "| BsmtUnfSF     |     0         |   2336        |   2336        | 5.672404e+02  |    477.5      | \n",
       "| X2ndFlrSF     |     0         |   2065        |   2065        | 3.469925e+02  |      0.0      | \n",
       "| GarageYrBlt   |     0         |   2010        |   2010        | 1.868740e+03  |   1977.0      | \n",
       "| MasVnrArea    |     0         |   1600        |   1600        | 1.031171e+02  |      0.0      | \n",
       "| BsmtFinSF2    |     0         |   1474        |   1474        | 4.654932e+01  |      0.0      | \n",
       "| GarageArea    |     0         |   1418        |   1418        | 4.729801e+02  |    480.0      | \n",
       "| WoodDeckSF    |     0         |    857        |    857        | 9.424452e+01  |      0.0      | \n",
       "| PoolArea      |     0         |    738        |    738        | 2.758904e+00  |      0.0      | \n",
       "| LowQualFinSF  |     0         |    572        |    572        | 5.844521e+00  |      0.0      | \n",
       "| EnclosedPorch |     0         |    552        |    552        | 2.195411e+01  |      0.0      | \n",
       "| OpenPorchSF   |     0         |    547        |    547        | 4.666027e+01  |     25.0      | \n",
       "| X3SsnPorch    |     0         |    508        |    508        | 3.409589e+00  |      0.0      | \n",
       "| ScreenPorch   |     0         |    480        |    480        | 1.506096e+01  |      0.0      | \n",
       "| LotFrontage   |     0         |    313        |    313        | 5.762329e+01  |     63.0      | \n",
       "| YearBuilt     |  1872         |   2010        |    138        | 1.971268e+03  |   1973.0      | \n",
       "| YearRemodAdd  |  1950         |   2010        |     60        | 1.984866e+03  |   1994.0      | \n",
       "| TotRmsAbvGrd  |     2         |     14        |     12        | 6.517808e+00  |      6.0      | \n",
       "| MoSold        |     1         |     12        |     11        | 6.321918e+00  |      6.0      | \n",
       "| OverallQual   |     1         |     10        |      9        | 6.099315e+00  |      6.0      | \n",
       "| BedroomAbvGr  |     0         |      8        |      8        | 2.866438e+00  |      3.0      | \n",
       "| OverallCond   |     1         |      9        |      8        | 5.575342e+00  |      5.0      | \n",
       "| GarageCars    |     0         |      4        |      4        | 1.767123e+00  |      2.0      | \n",
       "| YrSold        |  2006         |   2010        |      4        | 2.007816e+03  |   2008.0      | \n",
       "| ⋮ | ⋮ | ⋮ | ⋮ | ⋮ | ⋮ | \n",
       "| has_pool               |  0.00000               |  1.00000               | 1.0000000              |  0.004794521           |  0.00000               | \n",
       "| heating_air_furnace    |  0.00000               |  1.00000               | 1.0000000              |  0.978082192           |  1.00000               | \n",
       "| is_full_functional     |  0.00000               |  1.00000               | 1.0000000              |  0.931506849           |  1.00000               | \n",
       "| is_land_level          |  0.00000               |  1.00000               | 1.0000000              |  0.897945205           |  1.00000               | \n",
       "| is_lotshape_regular    |  0.00000               |  1.00000               | 1.0000000              |  0.633561644           |  1.00000               | \n",
       "| is_slope               |  0.00000               |  1.00000               | 1.0000000              |  0.053424658           |  0.00000               | \n",
       "| is_street_paved        |  0.00000               |  1.00000               | 1.0000000              |  0.995890411           |  1.00000               | \n",
       "| standard_electrical    |  0.00000               |  1.00000               | 1.0000000              |  0.914383562           |  1.00000               | \n",
       "| standard_roof_material |  0.00000               |  1.00000               | 1.0000000              |  0.982191781           |  1.00000               | \n",
       "| MSSubClass.new         | 11.39036               | 12.27932               | 0.8889644              | 11.988608774           | 11.97823               | \n",
       "| SaleCondition.new      | 11.52926               | 12.40738               | 0.8781236              | 12.001236821           | 11.98293               | \n",
       "| FireplaceQu.new        | 11.78658               | 12.65794               | 0.8713548              | 12.011728024           | 11.97035               | \n",
       "| SaleType.new           | 11.66178               | 12.48391               | 0.8221345              | 12.002718382           | 11.97035               | \n",
       "| GarageType.new         | 11.51293               | 12.33485               | 0.8219197              | 12.005047589           | 12.12811               | \n",
       "| HeatingQC.new          | 11.37366               | 12.17922               | 0.8055518              | 12.015170574           | 12.17922               | \n",
       "| ExterCond.new          | 11.24505               | 12.02796               | 0.7829159              | 12.006467293           | 12.02796               | \n",
       "| BsmtExposure.new       | 11.55216               | 12.33256               | 0.7803996              | 12.011772716           | 11.94471               | \n",
       "| GarageQual.new         | 11.47730               | 12.24395               | 0.7666474              | 12.001431253           | 12.04355               | \n",
       "| GarageFinish.new       | 11.51293               | 12.27839               | 0.7654678              | 12.007357176           | 12.15478               | \n",
       "| BsmtFinType1.new       | 11.53077               | 12.27256               | 0.7417963              | 12.014921908           | 11.99381               | \n",
       "| Foundation.new         | 11.55333               | 12.23077               | 0.6774324              | 12.006920290           | 11.86005               | \n",
       "| BsmtFinType2.new       | 11.55216               | 12.22033               | 0.6681752              | 12.005546435           | 12.02575               | \n",
       "| Condition1.new         | 11.69149               | 12.27373               | 0.5822456              | 12.006328266           | 12.02275               | \n",
       "| MasVnrType.new         | 11.84223               | 12.41647               | 0.5742442              | 11.991918450           | 11.87060               | \n",
       "| HouseStyle.new         | 11.61941               | 12.17549               | 0.5560824              | 11.991761808           | 11.94956               | \n",
       "| GarageCond.new         | 11.51293               | 12.04355               | 0.5306283              | 12.001178874           | 12.04355               | \n",
       "| RoofStyle.new          | 11.84223               | 12.31161               | 0.4693789              | 12.003267704           | 11.98293               | \n",
       "| BldgType.new           | 11.75587               | 12.05641               | 0.3005387              | 12.013860874           | 12.03112               | \n",
       "| Fence.new              | 11.77529               | 12.06105               | 0.2857571              | 12.024692152           | 12.06105               | \n",
       "| LotConfig.new          | 11.98104               | 12.20235               | 0.2213165              | 11.997226331           | 11.98104               | \n",
       "\n",
       "\n"
      ],
      "text/plain": [
       "   name                   min      max      support   mean         median  \n",
       "1  SalePrice              34900    755000   720100    1.809212e+05 163000.0\n",
       "2  LotArea                 1300    215245   213945    1.051683e+04   9478.5\n",
       "3  MiscVal                    0     15500    15500    4.348904e+01      0.0\n",
       "4  TotalBsmtSF                0      6110     6110    1.057429e+03    991.5\n",
       "5  BsmtFinSF1                 0      5644     5644    4.436397e+02    383.5\n",
       "6  GrLivArea                334      5642     5308    1.515464e+03   1464.0\n",
       "7  X1stFlrSF                334      4692     4358    1.162627e+03   1087.0\n",
       "8  BsmtUnfSF                  0      2336     2336    5.672404e+02    477.5\n",
       "9  X2ndFlrSF                  0      2065     2065    3.469925e+02      0.0\n",
       "10 GarageYrBlt                0      2010     2010    1.868740e+03   1977.0\n",
       "11 MasVnrArea                 0      1600     1600    1.031171e+02      0.0\n",
       "12 BsmtFinSF2                 0      1474     1474    4.654932e+01      0.0\n",
       "13 GarageArea                 0      1418     1418    4.729801e+02    480.0\n",
       "14 WoodDeckSF                 0       857      857    9.424452e+01      0.0\n",
       "15 PoolArea                   0       738      738    2.758904e+00      0.0\n",
       "16 LowQualFinSF               0       572      572    5.844521e+00      0.0\n",
       "17 EnclosedPorch              0       552      552    2.195411e+01      0.0\n",
       "18 OpenPorchSF                0       547      547    4.666027e+01     25.0\n",
       "19 X3SsnPorch                 0       508      508    3.409589e+00      0.0\n",
       "20 ScreenPorch                0       480      480    1.506096e+01      0.0\n",
       "21 LotFrontage                0       313      313    5.762329e+01     63.0\n",
       "22 YearBuilt               1872      2010      138    1.971268e+03   1973.0\n",
       "23 YearRemodAdd            1950      2010       60    1.984866e+03   1994.0\n",
       "24 TotRmsAbvGrd               2        14       12    6.517808e+00      6.0\n",
       "25 MoSold                     1        12       11    6.321918e+00      6.0\n",
       "26 OverallQual                1        10        9    6.099315e+00      6.0\n",
       "27 BedroomAbvGr               0         8        8    2.866438e+00      3.0\n",
       "28 OverallCond                1         9        8    5.575342e+00      5.0\n",
       "29 GarageCars                 0         4        4    1.767123e+00      2.0\n",
       "30 YrSold                  2006      2010        4    2.007816e+03   2008.0\n",
       "⋮  ⋮                      ⋮        ⋮        ⋮         ⋮            ⋮       \n",
       "52 has_pool                0.00000  1.00000 1.0000000  0.004794521  0.00000\n",
       "53 heating_air_furnace     0.00000  1.00000 1.0000000  0.978082192  1.00000\n",
       "54 is_full_functional      0.00000  1.00000 1.0000000  0.931506849  1.00000\n",
       "55 is_land_level           0.00000  1.00000 1.0000000  0.897945205  1.00000\n",
       "56 is_lotshape_regular     0.00000  1.00000 1.0000000  0.633561644  1.00000\n",
       "57 is_slope                0.00000  1.00000 1.0000000  0.053424658  0.00000\n",
       "58 is_street_paved         0.00000  1.00000 1.0000000  0.995890411  1.00000\n",
       "59 standard_electrical     0.00000  1.00000 1.0000000  0.914383562  1.00000\n",
       "60 standard_roof_material  0.00000  1.00000 1.0000000  0.982191781  1.00000\n",
       "61 MSSubClass.new         11.39036 12.27932 0.8889644 11.988608774 11.97823\n",
       "62 SaleCondition.new      11.52926 12.40738 0.8781236 12.001236821 11.98293\n",
       "63 FireplaceQu.new        11.78658 12.65794 0.8713548 12.011728024 11.97035\n",
       "64 SaleType.new           11.66178 12.48391 0.8221345 12.002718382 11.97035\n",
       "65 GarageType.new         11.51293 12.33485 0.8219197 12.005047589 12.12811\n",
       "66 HeatingQC.new          11.37366 12.17922 0.8055518 12.015170574 12.17922\n",
       "67 ExterCond.new          11.24505 12.02796 0.7829159 12.006467293 12.02796\n",
       "68 BsmtExposure.new       11.55216 12.33256 0.7803996 12.011772716 11.94471\n",
       "69 GarageQual.new         11.47730 12.24395 0.7666474 12.001431253 12.04355\n",
       "70 GarageFinish.new       11.51293 12.27839 0.7654678 12.007357176 12.15478\n",
       "71 BsmtFinType1.new       11.53077 12.27256 0.7417963 12.014921908 11.99381\n",
       "72 Foundation.new         11.55333 12.23077 0.6774324 12.006920290 11.86005\n",
       "73 BsmtFinType2.new       11.55216 12.22033 0.6681752 12.005546435 12.02575\n",
       "74 Condition1.new         11.69149 12.27373 0.5822456 12.006328266 12.02275\n",
       "75 MasVnrType.new         11.84223 12.41647 0.5742442 11.991918450 11.87060\n",
       "76 HouseStyle.new         11.61941 12.17549 0.5560824 11.991761808 11.94956\n",
       "77 GarageCond.new         11.51293 12.04355 0.5306283 12.001178874 12.04355\n",
       "78 RoofStyle.new          11.84223 12.31161 0.4693789 12.003267704 11.98293\n",
       "79 BldgType.new           11.75587 12.05641 0.3005387 12.013860874 12.03112\n",
       "80 Fence.new              11.77529 12.06105 0.2857571 12.024692152 12.06105\n",
       "81 LotConfig.new          11.98104 12.20235 0.2213165 11.997226331 11.98104"
      ]
     },
     "metadata": {},
     "output_type": "display_data"
    }
   ],
   "source": [
    "trainset %>%\n",
    "    gather(name, value) %>%\n",
    "    group_by(name) %>%\n",
    "    summarise(\n",
    "        min = min(value),\n",
    "        max = max(value),\n",
    "        support = max - min,\n",
    "        mean = mean(value),\n",
    "        median = median(value)\n",
    "    ) %>%\n",
    "    arrange(desc(support))"
   ]
  },
  {
   "cell_type": "code",
   "execution_count": null,
   "metadata": {
    "collapsed": true
   },
   "outputs": [],
   "source": []
  },
  {
   "cell_type": "code",
   "execution_count": null,
   "metadata": {
    "collapsed": true
   },
   "outputs": [],
   "source": []
  },
  {
   "cell_type": "code",
   "execution_count": null,
   "metadata": {
    "collapsed": true
   },
   "outputs": [],
   "source": []
  },
  {
   "cell_type": "code",
   "execution_count": null,
   "metadata": {
    "collapsed": true
   },
   "outputs": [],
   "source": []
  },
  {
   "cell_type": "code",
   "execution_count": null,
   "metadata": {
    "collapsed": true
   },
   "outputs": [],
   "source": []
  },
  {
   "cell_type": "code",
   "execution_count": null,
   "metadata": {
    "collapsed": true
   },
   "outputs": [],
   "source": []
  },
  {
   "cell_type": "code",
   "execution_count": null,
   "metadata": {
    "collapsed": true
   },
   "outputs": [],
   "source": []
  },
  {
   "cell_type": "code",
   "execution_count": null,
   "metadata": {
    "collapsed": true
   },
   "outputs": [],
   "source": []
  },
  {
   "cell_type": "code",
   "execution_count": null,
   "metadata": {
    "collapsed": true
   },
   "outputs": [],
   "source": []
  },
  {
   "cell_type": "code",
   "execution_count": null,
   "metadata": {
    "collapsed": true
   },
   "outputs": [],
   "source": []
  },
  {
   "cell_type": "code",
   "execution_count": null,
   "metadata": {
    "collapsed": true
   },
   "outputs": [],
   "source": []
  },
  {
   "cell_type": "code",
   "execution_count": null,
   "metadata": {
    "collapsed": true
   },
   "outputs": [],
   "source": []
  },
  {
   "cell_type": "code",
   "execution_count": null,
   "metadata": {
    "collapsed": true
   },
   "outputs": [],
   "source": []
  },
  {
   "cell_type": "code",
   "execution_count": null,
   "metadata": {
    "collapsed": true
   },
   "outputs": [],
   "source": []
  }
 ],
 "metadata": {
  "kernelspec": {
   "display_name": "R",
   "language": "R",
   "name": "ir"
  },
  "language_info": {
   "codemirror_mode": "r",
   "file_extension": ".r",
   "mimetype": "text/x-r-source",
   "name": "R",
   "pygments_lexer": "r",
   "version": "3.4.2"
  }
 },
 "nbformat": 4,
 "nbformat_minor": 2
}
