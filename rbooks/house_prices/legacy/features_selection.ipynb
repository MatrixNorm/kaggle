{
 "cells": [
  {
   "cell_type": "code",
   "execution_count": 1,
   "metadata": {},
   "outputs": [
    {
     "data": {
      "text/html": [
       "'/mnt/hdd/develop/kaggle/house-prices/R/R'"
      ],
      "text/latex": [
       "'/mnt/hdd/develop/kaggle/house-prices/R/R'"
      ],
      "text/markdown": [
       "'/mnt/hdd/develop/kaggle/house-prices/R/R'"
      ],
      "text/plain": [
       "[1] \"/mnt/hdd/develop/kaggle/house-prices/R/R\""
      ]
     },
     "metadata": {},
     "output_type": "display_data"
    }
   ],
   "source": [
    "setwd(paste0(Sys.getenv('ROOT'), '/R'))\n",
    "getwd()"
   ]
  },
  {
   "cell_type": "code",
   "execution_count": 9,
   "metadata": {
    "collapsed": true
   },
   "outputs": [],
   "source": [
    "source('main.R')\n",
    "\n",
    "data <- kaggle.house$loadData()\n",
    "\n",
    "df.combined <- kaggle.house$getCombinedDataset(data$train, data$test) %>% (kaggle.house$na$fixAll)\n",
    "\n",
    "df.training <- \n",
    "    df.combined %>% \n",
    "    filter(dataSource == \"train\") %>% \n",
    "    mutate(sale_price_log = log(SalePrice)) %>%\n",
    "    select(-dataSource, -SalePrice)"
   ]
  },
  {
   "cell_type": "code",
   "execution_count": 10,
   "metadata": {
    "collapsed": true
   },
   "outputs": [],
   "source": [
    "source('main.R')\n",
    "trainset <- kaggle.house$trans$doItAll(df.training)\n",
    "# Should be only numeric columns\n",
    "stopifnot(0 == trainset %>% purrr::map(function (col) { !is.numeric(col) }) %>% unlist %>% sum)"
   ]
  },
  {
   "cell_type": "code",
   "execution_count": 20,
   "metadata": {},
   "outputs": [
    {
     "data": {
      "text/html": [
       "<table>\n",
       "<thead><tr><th scope=col>name</th><th scope=col>r2</th><th scope=col>r2.log</th><th scope=col>best.r2</th></tr></thead>\n",
       "<tbody>\n",
       "\t<tr><td>OverallQual      </td><td>0.66779037       </td><td>0.64331216       </td><td>0.6677904        </td></tr>\n",
       "\t<tr><td>Neighborhood.new </td><td>0.56401649       </td><td>0.56407646       </td><td>0.5640765        </td></tr>\n",
       "\t<tr><td>GrLivArea        </td><td>0.49129817       </td><td>0.53327044       </td><td>0.5332704        </td></tr>\n",
       "\t<tr><td>GarageCars       </td><td>0.46325013       </td><td>0.41160074       </td><td>0.4632501        </td></tr>\n",
       "\t<tr><td>ExterQual.new    </td><td>0.46037836       </td><td>0.46068150       </td><td>0.4606815        </td></tr>\n",
       "\t<tr><td>BsmtQual.new     </td><td>0.45120773       </td><td>0.45163675       </td><td>0.4516368        </td></tr>\n",
       "\t<tr><td>KitchenQual.new  </td><td>0.44377503       </td><td>0.44446922       </td><td>0.4444692        </td></tr>\n",
       "\t<tr><td>GarageArea       </td><td>0.42365461       </td><td>0.20693294       </td><td>0.4236546        </td></tr>\n",
       "\t<tr><td>GarageFinish.new </td><td>0.38079048       </td><td>0.38073806       </td><td>0.3807905        </td></tr>\n",
       "\t<tr><td>TotalBsmtSF      </td><td>0.37470800       </td><td>0.13900807       </td><td>0.3747080        </td></tr>\n",
       "\t<tr><td>X1stFlrSF        </td><td>0.35638637       </td><td>0.37082613       </td><td>0.3708261        </td></tr>\n",
       "\t<tr><td>FullBath         </td><td>0.35375200       </td><td>0.33674397       </td><td>0.3537520        </td></tr>\n",
       "\t<tr><td>YearBuilt        </td><td>0.34406465       </td><td>0.34157413       </td><td>0.3440646        </td></tr>\n",
       "\t<tr><td>GarageType.new   </td><td>0.33432823       </td><td>0.33430352       </td><td>0.3343282        </td></tr>\n",
       "\t<tr><td>YearRemodAdd     </td><td>0.31991222       </td><td>0.31989233       </td><td>0.3199122        </td></tr>\n",
       "\t<tr><td>MSSubClass.new   </td><td>0.31870327       </td><td>0.31897422       </td><td>0.3189742        </td></tr>\n",
       "\t<tr><td>FireplaceQu.new  </td><td>0.30940896       </td><td>0.30961428       </td><td>0.3096143        </td></tr>\n",
       "\t<tr><td>Foundation.new   </td><td>0.30248794       </td><td>0.30252039       </td><td>0.3025204        </td></tr>\n",
       "\t<tr><td>TotRmsAbvGrd     </td><td>0.28560709       </td><td>0.29159790       </td><td>0.2915979        </td></tr>\n",
       "\t<tr><td>Fireplaces       </td><td>0.23956074       </td><td>0.25900424       </td><td>0.2590042        </td></tr>\n",
       "\t<tr><td>HeatingQC.new    </td><td>0.23168865       </td><td>0.23166961       </td><td>0.2316887        </td></tr>\n",
       "\t<tr><td>BsmtFinType1.new </td><td>0.22278341       </td><td>0.22257111       </td><td>0.2227834        </td></tr>\n",
       "\t<tr><td>OpenPorchSF      </td><td>0.10307501       </td><td>0.21155193       </td><td>0.2115519        </td></tr>\n",
       "\t<tr><td>MasVnrType.new   </td><td>0.19257411       </td><td>0.19281842       </td><td>0.1928184        </td></tr>\n",
       "\t<tr><td>MasVnrArea       </td><td>0.18213701       </td><td>0.17083157       </td><td>0.1821370        </td></tr>\n",
       "\t<tr><td>MSZoning.new     </td><td>0.17523180       </td><td>0.17531782       </td><td>0.1753178        </td></tr>\n",
       "\t<tr><td>Exterior1st.new  </td><td>0.17272329       </td><td>0.17313294       </td><td>0.1731329        </td></tr>\n",
       "\t<tr><td>Exterior2nd.new  </td><td>0.16030438       </td><td>0.16064487       </td><td>0.1606449        </td></tr>\n",
       "\t<tr><td>LotArea          </td><td>0.06621353       </td><td>0.15993845       </td><td>0.1599384        </td></tr>\n",
       "\t<tr><td>GarageCond.new   </td><td>0.14424450       </td><td>0.14424225       </td><td>0.1442445        </td></tr>\n",
       "\t<tr><td>BsmtExposure.new </td><td>0.14186885       </td><td>0.14182203       </td><td>0.1418688        </td></tr>\n",
       "\t<tr><td>GarageQual.new   </td><td>0.13880182       </td><td>0.13888671       </td><td>0.1388867        </td></tr>\n",
       "\t<tr><td>BsmtFinSF1       </td><td>0.13840117       </td><td>0.04330514       </td><td>0.1384012        </td></tr>\n",
       "\t<tr><td>SaleCondition.new</td><td>0.12901482       </td><td>0.12900394       </td><td>0.1290148        </td></tr>\n",
       "\t<tr><td>has_central_air  </td><td>0.12362269       </td><td>0.12362269       </td><td>0.1236227        </td></tr>\n",
       "\t<tr><td>GarageYrBlt      </td><td>0.12181050       </td><td>0.10659296       </td><td>0.1218105        </td></tr>\n",
       "\t<tr><td>WoodDeckSF       </td><td>0.11164625       </td><td>0.11767549       </td><td>0.1176755        </td></tr>\n",
       "\t<tr><td>SaleType.new     </td><td>0.11734520       </td><td>0.11732228       </td><td>0.1173452        </td></tr>\n",
       "\t<tr><td>HalfBath         </td><td>0.09858485       </td><td>0.10299278       </td><td>0.1029928        </td></tr>\n",
       "\t<tr><td>X2ndFlrSF        </td><td>0.10195248       </td><td>0.03268065       </td><td>0.1019525        </td></tr>\n",
       "\t<tr><td>HouseStyle.new   </td><td>0.09997102       </td><td>0.10005209       </td><td>0.1000521        </td></tr>\n",
       "</tbody>\n",
       "</table>\n"
      ],
      "text/latex": [
       "\\begin{tabular}{r|llll}\n",
       " name & r2 & r2.log & best.r2\\\\\n",
       "\\hline\n",
       "\t OverallQual       & 0.66779037        & 0.64331216        & 0.6677904        \\\\\n",
       "\t Neighborhood.new  & 0.56401649        & 0.56407646        & 0.5640765        \\\\\n",
       "\t GrLivArea         & 0.49129817        & 0.53327044        & 0.5332704        \\\\\n",
       "\t GarageCars        & 0.46325013        & 0.41160074        & 0.4632501        \\\\\n",
       "\t ExterQual.new     & 0.46037836        & 0.46068150        & 0.4606815        \\\\\n",
       "\t BsmtQual.new      & 0.45120773        & 0.45163675        & 0.4516368        \\\\\n",
       "\t KitchenQual.new   & 0.44377503        & 0.44446922        & 0.4444692        \\\\\n",
       "\t GarageArea        & 0.42365461        & 0.20693294        & 0.4236546        \\\\\n",
       "\t GarageFinish.new  & 0.38079048        & 0.38073806        & 0.3807905        \\\\\n",
       "\t TotalBsmtSF       & 0.37470800        & 0.13900807        & 0.3747080        \\\\\n",
       "\t X1stFlrSF         & 0.35638637        & 0.37082613        & 0.3708261        \\\\\n",
       "\t FullBath          & 0.35375200        & 0.33674397        & 0.3537520        \\\\\n",
       "\t YearBuilt         & 0.34406465        & 0.34157413        & 0.3440646        \\\\\n",
       "\t GarageType.new    & 0.33432823        & 0.33430352        & 0.3343282        \\\\\n",
       "\t YearRemodAdd      & 0.31991222        & 0.31989233        & 0.3199122        \\\\\n",
       "\t MSSubClass.new    & 0.31870327        & 0.31897422        & 0.3189742        \\\\\n",
       "\t FireplaceQu.new   & 0.30940896        & 0.30961428        & 0.3096143        \\\\\n",
       "\t Foundation.new    & 0.30248794        & 0.30252039        & 0.3025204        \\\\\n",
       "\t TotRmsAbvGrd      & 0.28560709        & 0.29159790        & 0.2915979        \\\\\n",
       "\t Fireplaces        & 0.23956074        & 0.25900424        & 0.2590042        \\\\\n",
       "\t HeatingQC.new     & 0.23168865        & 0.23166961        & 0.2316887        \\\\\n",
       "\t BsmtFinType1.new  & 0.22278341        & 0.22257111        & 0.2227834        \\\\\n",
       "\t OpenPorchSF       & 0.10307501        & 0.21155193        & 0.2115519        \\\\\n",
       "\t MasVnrType.new    & 0.19257411        & 0.19281842        & 0.1928184        \\\\\n",
       "\t MasVnrArea        & 0.18213701        & 0.17083157        & 0.1821370        \\\\\n",
       "\t MSZoning.new      & 0.17523180        & 0.17531782        & 0.1753178        \\\\\n",
       "\t Exterior1st.new   & 0.17272329        & 0.17313294        & 0.1731329        \\\\\n",
       "\t Exterior2nd.new   & 0.16030438        & 0.16064487        & 0.1606449        \\\\\n",
       "\t LotArea           & 0.06621353        & 0.15993845        & 0.1599384        \\\\\n",
       "\t GarageCond.new    & 0.14424450        & 0.14424225        & 0.1442445        \\\\\n",
       "\t BsmtExposure.new  & 0.14186885        & 0.14182203        & 0.1418688        \\\\\n",
       "\t GarageQual.new    & 0.13880182        & 0.13888671        & 0.1388867        \\\\\n",
       "\t BsmtFinSF1        & 0.13840117        & 0.04330514        & 0.1384012        \\\\\n",
       "\t SaleCondition.new & 0.12901482        & 0.12900394        & 0.1290148        \\\\\n",
       "\t has\\_central\\_air   & 0.12362269            & 0.12362269            & 0.1236227            \\\\\n",
       "\t GarageYrBlt       & 0.12181050        & 0.10659296        & 0.1218105        \\\\\n",
       "\t WoodDeckSF        & 0.11164625        & 0.11767549        & 0.1176755        \\\\\n",
       "\t SaleType.new      & 0.11734520        & 0.11732228        & 0.1173452        \\\\\n",
       "\t HalfBath          & 0.09858485        & 0.10299278        & 0.1029928        \\\\\n",
       "\t X2ndFlrSF         & 0.10195248        & 0.03268065        & 0.1019525        \\\\\n",
       "\t HouseStyle.new    & 0.09997102        & 0.10005209        & 0.1000521        \\\\\n",
       "\\end{tabular}\n"
      ],
      "text/markdown": [
       "\n",
       "name | r2 | r2.log | best.r2 | \n",
       "|---|---|---|---|---|---|---|---|---|---|---|---|---|---|---|---|---|---|---|---|---|---|---|---|---|---|---|---|---|---|---|---|---|---|---|---|---|---|---|---|---|\n",
       "| OverallQual       | 0.66779037        | 0.64331216        | 0.6677904         | \n",
       "| Neighborhood.new  | 0.56401649        | 0.56407646        | 0.5640765         | \n",
       "| GrLivArea         | 0.49129817        | 0.53327044        | 0.5332704         | \n",
       "| GarageCars        | 0.46325013        | 0.41160074        | 0.4632501         | \n",
       "| ExterQual.new     | 0.46037836        | 0.46068150        | 0.4606815         | \n",
       "| BsmtQual.new      | 0.45120773        | 0.45163675        | 0.4516368         | \n",
       "| KitchenQual.new   | 0.44377503        | 0.44446922        | 0.4444692         | \n",
       "| GarageArea        | 0.42365461        | 0.20693294        | 0.4236546         | \n",
       "| GarageFinish.new  | 0.38079048        | 0.38073806        | 0.3807905         | \n",
       "| TotalBsmtSF       | 0.37470800        | 0.13900807        | 0.3747080         | \n",
       "| X1stFlrSF         | 0.35638637        | 0.37082613        | 0.3708261         | \n",
       "| FullBath          | 0.35375200        | 0.33674397        | 0.3537520         | \n",
       "| YearBuilt         | 0.34406465        | 0.34157413        | 0.3440646         | \n",
       "| GarageType.new    | 0.33432823        | 0.33430352        | 0.3343282         | \n",
       "| YearRemodAdd      | 0.31991222        | 0.31989233        | 0.3199122         | \n",
       "| MSSubClass.new    | 0.31870327        | 0.31897422        | 0.3189742         | \n",
       "| FireplaceQu.new   | 0.30940896        | 0.30961428        | 0.3096143         | \n",
       "| Foundation.new    | 0.30248794        | 0.30252039        | 0.3025204         | \n",
       "| TotRmsAbvGrd      | 0.28560709        | 0.29159790        | 0.2915979         | \n",
       "| Fireplaces        | 0.23956074        | 0.25900424        | 0.2590042         | \n",
       "| HeatingQC.new     | 0.23168865        | 0.23166961        | 0.2316887         | \n",
       "| BsmtFinType1.new  | 0.22278341        | 0.22257111        | 0.2227834         | \n",
       "| OpenPorchSF       | 0.10307501        | 0.21155193        | 0.2115519         | \n",
       "| MasVnrType.new    | 0.19257411        | 0.19281842        | 0.1928184         | \n",
       "| MasVnrArea        | 0.18213701        | 0.17083157        | 0.1821370         | \n",
       "| MSZoning.new      | 0.17523180        | 0.17531782        | 0.1753178         | \n",
       "| Exterior1st.new   | 0.17272329        | 0.17313294        | 0.1731329         | \n",
       "| Exterior2nd.new   | 0.16030438        | 0.16064487        | 0.1606449         | \n",
       "| LotArea           | 0.06621353        | 0.15993845        | 0.1599384         | \n",
       "| GarageCond.new    | 0.14424450        | 0.14424225        | 0.1442445         | \n",
       "| BsmtExposure.new  | 0.14186885        | 0.14182203        | 0.1418688         | \n",
       "| GarageQual.new    | 0.13880182        | 0.13888671        | 0.1388867         | \n",
       "| BsmtFinSF1        | 0.13840117        | 0.04330514        | 0.1384012         | \n",
       "| SaleCondition.new | 0.12901482        | 0.12900394        | 0.1290148         | \n",
       "| has_central_air   | 0.12362269        | 0.12362269        | 0.1236227         | \n",
       "| GarageYrBlt       | 0.12181050        | 0.10659296        | 0.1218105         | \n",
       "| WoodDeckSF        | 0.11164625        | 0.11767549        | 0.1176755         | \n",
       "| SaleType.new      | 0.11734520        | 0.11732228        | 0.1173452         | \n",
       "| HalfBath          | 0.09858485        | 0.10299278        | 0.1029928         | \n",
       "| X2ndFlrSF         | 0.10195248        | 0.03268065        | 0.1019525         | \n",
       "| HouseStyle.new    | 0.09997102        | 0.10005209        | 0.1000521         | \n",
       "\n",
       "\n"
      ],
      "text/plain": [
       "   name              r2         r2.log     best.r2  \n",
       "1  OverallQual       0.66779037 0.64331216 0.6677904\n",
       "2  Neighborhood.new  0.56401649 0.56407646 0.5640765\n",
       "3  GrLivArea         0.49129817 0.53327044 0.5332704\n",
       "4  GarageCars        0.46325013 0.41160074 0.4632501\n",
       "5  ExterQual.new     0.46037836 0.46068150 0.4606815\n",
       "6  BsmtQual.new      0.45120773 0.45163675 0.4516368\n",
       "7  KitchenQual.new   0.44377503 0.44446922 0.4444692\n",
       "8  GarageArea        0.42365461 0.20693294 0.4236546\n",
       "9  GarageFinish.new  0.38079048 0.38073806 0.3807905\n",
       "10 TotalBsmtSF       0.37470800 0.13900807 0.3747080\n",
       "11 X1stFlrSF         0.35638637 0.37082613 0.3708261\n",
       "12 FullBath          0.35375200 0.33674397 0.3537520\n",
       "13 YearBuilt         0.34406465 0.34157413 0.3440646\n",
       "14 GarageType.new    0.33432823 0.33430352 0.3343282\n",
       "15 YearRemodAdd      0.31991222 0.31989233 0.3199122\n",
       "16 MSSubClass.new    0.31870327 0.31897422 0.3189742\n",
       "17 FireplaceQu.new   0.30940896 0.30961428 0.3096143\n",
       "18 Foundation.new    0.30248794 0.30252039 0.3025204\n",
       "19 TotRmsAbvGrd      0.28560709 0.29159790 0.2915979\n",
       "20 Fireplaces        0.23956074 0.25900424 0.2590042\n",
       "21 HeatingQC.new     0.23168865 0.23166961 0.2316887\n",
       "22 BsmtFinType1.new  0.22278341 0.22257111 0.2227834\n",
       "23 OpenPorchSF       0.10307501 0.21155193 0.2115519\n",
       "24 MasVnrType.new    0.19257411 0.19281842 0.1928184\n",
       "25 MasVnrArea        0.18213701 0.17083157 0.1821370\n",
       "26 MSZoning.new      0.17523180 0.17531782 0.1753178\n",
       "27 Exterior1st.new   0.17272329 0.17313294 0.1731329\n",
       "28 Exterior2nd.new   0.16030438 0.16064487 0.1606449\n",
       "29 LotArea           0.06621353 0.15993845 0.1599384\n",
       "30 GarageCond.new    0.14424450 0.14424225 0.1442445\n",
       "31 BsmtExposure.new  0.14186885 0.14182203 0.1418688\n",
       "32 GarageQual.new    0.13880182 0.13888671 0.1388867\n",
       "33 BsmtFinSF1        0.13840117 0.04330514 0.1384012\n",
       "34 SaleCondition.new 0.12901482 0.12900394 0.1290148\n",
       "35 has_central_air   0.12362269 0.12362269 0.1236227\n",
       "36 GarageYrBlt       0.12181050 0.10659296 0.1218105\n",
       "37 WoodDeckSF        0.11164625 0.11767549 0.1176755\n",
       "38 SaleType.new      0.11734520 0.11732228 0.1173452\n",
       "39 HalfBath          0.09858485 0.10299278 0.1029928\n",
       "40 X2ndFlrSF         0.10195248 0.03268065 0.1019525\n",
       "41 HouseStyle.new    0.09997102 0.10005209 0.1000521"
      ]
     },
     "metadata": {},
     "output_type": "display_data"
    }
   ],
   "source": [
    "trainset %>% \n",
    "    gather(name, value, -sale_price_log) %>%\n",
    "    mutate(value.log = log(value + 1)) %>%\n",
    "    group_by(name) %>% nest %>%\n",
    "    mutate(\n",
    "        model =  map(data, ~lm(sale_price_log ~ value, .)),\n",
    "        glance = map(model, broom::glance),\n",
    "        r2 = map_dbl(glance, 'r.squared'),\n",
    "        \n",
    "        model.log =  map(data, ~lm(sale_price_log ~ value.log, .)),\n",
    "        glance.log = map(model.log, broom::glance),\n",
    "        r2.log = map_dbl(glance.log, 'r.squared'),\n",
    "        \n",
    "        best.r2 = pmax(r2, r2.log)\n",
    "    ) %>%\n",
    "    select(name, r2, r2.log, best.r2) %>%\n",
    "    arrange(desc(best.r2)) %>%\n",
    "    filter(best.r2 > 0.1)\n",
    "    "
   ]
  },
  {
   "cell_type": "code",
   "execution_count": null,
   "metadata": {
    "collapsed": true
   },
   "outputs": [],
   "source": []
  },
  {
   "cell_type": "code",
   "execution_count": null,
   "metadata": {
    "collapsed": true
   },
   "outputs": [],
   "source": []
  },
  {
   "cell_type": "code",
   "execution_count": null,
   "metadata": {
    "collapsed": true
   },
   "outputs": [],
   "source": []
  },
  {
   "cell_type": "code",
   "execution_count": null,
   "metadata": {
    "collapsed": true
   },
   "outputs": [],
   "source": []
  },
  {
   "cell_type": "code",
   "execution_count": null,
   "metadata": {
    "collapsed": true
   },
   "outputs": [],
   "source": []
  },
  {
   "cell_type": "code",
   "execution_count": null,
   "metadata": {
    "collapsed": true
   },
   "outputs": [],
   "source": []
  },
  {
   "cell_type": "code",
   "execution_count": null,
   "metadata": {
    "collapsed": true
   },
   "outputs": [],
   "source": []
  },
  {
   "cell_type": "code",
   "execution_count": null,
   "metadata": {
    "collapsed": true
   },
   "outputs": [],
   "source": []
  },
  {
   "cell_type": "code",
   "execution_count": null,
   "metadata": {
    "collapsed": true
   },
   "outputs": [],
   "source": []
  },
  {
   "cell_type": "code",
   "execution_count": null,
   "metadata": {
    "collapsed": true
   },
   "outputs": [],
   "source": []
  },
  {
   "cell_type": "code",
   "execution_count": null,
   "metadata": {
    "collapsed": true
   },
   "outputs": [],
   "source": []
  },
  {
   "cell_type": "code",
   "execution_count": null,
   "metadata": {
    "collapsed": true
   },
   "outputs": [],
   "source": []
  },
  {
   "cell_type": "code",
   "execution_count": null,
   "metadata": {
    "collapsed": true
   },
   "outputs": [],
   "source": []
  },
  {
   "cell_type": "code",
   "execution_count": null,
   "metadata": {
    "collapsed": true
   },
   "outputs": [],
   "source": []
  },
  {
   "cell_type": "code",
   "execution_count": null,
   "metadata": {
    "collapsed": true
   },
   "outputs": [],
   "source": []
  },
  {
   "cell_type": "code",
   "execution_count": null,
   "metadata": {
    "collapsed": true
   },
   "outputs": [],
   "source": []
  },
  {
   "cell_type": "code",
   "execution_count": null,
   "metadata": {
    "collapsed": true
   },
   "outputs": [],
   "source": []
  },
  {
   "cell_type": "code",
   "execution_count": null,
   "metadata": {
    "collapsed": true
   },
   "outputs": [],
   "source": []
  },
  {
   "cell_type": "code",
   "execution_count": null,
   "metadata": {
    "collapsed": true
   },
   "outputs": [],
   "source": []
  },
  {
   "cell_type": "code",
   "execution_count": null,
   "metadata": {
    "collapsed": true
   },
   "outputs": [],
   "source": []
  },
  {
   "cell_type": "code",
   "execution_count": null,
   "metadata": {
    "collapsed": true
   },
   "outputs": [],
   "source": []
  },
  {
   "cell_type": "code",
   "execution_count": null,
   "metadata": {
    "collapsed": true
   },
   "outputs": [],
   "source": []
  },
  {
   "cell_type": "code",
   "execution_count": null,
   "metadata": {
    "collapsed": true
   },
   "outputs": [],
   "source": []
  }
 ],
 "metadata": {
  "kernelspec": {
   "display_name": "R",
   "language": "R",
   "name": "ir"
  },
  "language_info": {
   "codemirror_mode": "r",
   "file_extension": ".r",
   "mimetype": "text/x-r-source",
   "name": "R",
   "pygments_lexer": "r",
   "version": "3.4.2"
  }
 },
 "nbformat": 4,
 "nbformat_minor": 2
}
