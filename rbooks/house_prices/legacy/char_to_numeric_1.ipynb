{
 "cells": [
  {
   "cell_type": "code",
   "execution_count": 1,
   "metadata": {},
   "outputs": [
    {
     "data": {
      "text/html": [
       "'/mnt/hdd/develop/kaggle/house-prices/R/R'"
      ],
      "text/latex": [
       "'/mnt/hdd/develop/kaggle/house-prices/R/R'"
      ],
      "text/markdown": [
       "'/mnt/hdd/develop/kaggle/house-prices/R/R'"
      ],
      "text/plain": [
       "[1] \"/mnt/hdd/develop/kaggle/house-prices/R/R\""
      ]
     },
     "metadata": {},
     "output_type": "display_data"
    }
   ],
   "source": [
    "setwd(paste0(Sys.getenv('ROOT'), '/R'))\n",
    "getwd()"
   ]
  },
  {
   "cell_type": "code",
   "execution_count": 106,
   "metadata": {},
   "outputs": [
    {
     "data": {
      "text/html": [
       "<table>\n",
       "<thead><tr><th scope=col>Alley</th><th scope=col>CentralAir</th><th scope=col>Electrical</th><th scope=col>Functional</th><th scope=col>Heating</th><th scope=col>LandContour</th><th scope=col>LandSlope</th><th scope=col>LotShape</th><th scope=col>MiscFeature</th><th scope=col>PavedDrive</th><th scope=col>PoolQC</th><th scope=col>RoofMatl</th><th scope=col>Street</th><th scope=col>Utilities</th><th scope=col>dataSource</th><th scope=col>Id</th></tr></thead>\n",
       "<tbody>\n",
       "\t<tr><td>0    </td><td>1    </td><td>1    </td><td>1    </td><td>1    </td><td>1    </td><td>0    </td><td>1    </td><td>0    </td><td>1    </td><td>0    </td><td>1    </td><td>1    </td><td>1    </td><td>train</td><td>1    </td></tr>\n",
       "\t<tr><td>0    </td><td>1    </td><td>1    </td><td>1    </td><td>1    </td><td>1    </td><td>0    </td><td>1    </td><td>0    </td><td>1    </td><td>0    </td><td>1    </td><td>1    </td><td>1    </td><td>train</td><td>2    </td></tr>\n",
       "</tbody>\n",
       "</table>\n"
      ],
      "text/latex": [
       "\\begin{tabular}{r|llllllllllllllll}\n",
       " Alley & CentralAir & Electrical & Functional & Heating & LandContour & LandSlope & LotShape & MiscFeature & PavedDrive & PoolQC & RoofMatl & Street & Utilities & dataSource & Id\\\\\n",
       "\\hline\n",
       "\t 0     & 1     & 1     & 1     & 1     & 1     & 0     & 1     & 0     & 1     & 0     & 1     & 1     & 1     & train & 1    \\\\\n",
       "\t 0     & 1     & 1     & 1     & 1     & 1     & 0     & 1     & 0     & 1     & 0     & 1     & 1     & 1     & train & 2    \\\\\n",
       "\\end{tabular}\n"
      ],
      "text/markdown": [
       "\n",
       "Alley | CentralAir | Electrical | Functional | Heating | LandContour | LandSlope | LotShape | MiscFeature | PavedDrive | PoolQC | RoofMatl | Street | Utilities | dataSource | Id | \n",
       "|---|---|\n",
       "| 0     | 1     | 1     | 1     | 1     | 1     | 0     | 1     | 0     | 1     | 0     | 1     | 1     | 1     | train | 1     | \n",
       "| 0     | 1     | 1     | 1     | 1     | 1     | 0     | 1     | 0     | 1     | 0     | 1     | 1     | 1     | train | 2     | \n",
       "\n",
       "\n"
      ],
      "text/plain": [
       "  Alley CentralAir Electrical Functional Heating LandContour LandSlope LotShape\n",
       "1 0     1          1          1          1       1           0         1       \n",
       "2 0     1          1          1          1       1           0         1       \n",
       "  MiscFeature PavedDrive PoolQC RoofMatl Street Utilities dataSource Id\n",
       "1 0           1          0      1        1      1         train      1 \n",
       "2 0           1          0      1        1      1         train      2 "
      ]
     },
     "metadata": {},
     "output_type": "display_data"
    },
    {
     "data": {
      "text/html": [
       "<table>\n",
       "<thead><tr><th scope=col>BldgType</th><th scope=col>BsmtCond</th><th scope=col>BsmtExposure</th><th scope=col>BsmtFinType1</th><th scope=col>BsmtFinType2</th><th scope=col>BsmtQual</th><th scope=col>Condition1</th><th scope=col>Condition2</th><th scope=col>ExterCond</th><th scope=col>Exterior1st</th><th scope=col>⋯</th><th scope=col>MasVnrType</th><th scope=col>MSSubClass</th><th scope=col>MSZoning</th><th scope=col>Neighborhood</th><th scope=col>RoofStyle</th><th scope=col>SaleCondition</th><th scope=col>SaleType</th><th scope=col>price.log</th><th scope=col>dataSource</th><th scope=col>Id</th></tr></thead>\n",
       "<tbody>\n",
       "\t<tr><td>1Fam    </td><td>TA      </td><td>No      </td><td>GLQ     </td><td>Unf     </td><td>Gd      </td><td>Norm    </td><td>Norm    </td><td>TA      </td><td>VinylSd </td><td>⋯       </td><td>BrkFace </td><td>60      </td><td>RL      </td><td>CollgCr </td><td>Gable   </td><td>Normal  </td><td>WD      </td><td>12.24769</td><td>train   </td><td>1       </td></tr>\n",
       "\t<tr><td>1Fam    </td><td>TA      </td><td>Gd      </td><td>ALQ     </td><td>Unf     </td><td>Gd      </td><td>Feedr   </td><td>Norm    </td><td>TA      </td><td>MetalSd </td><td>⋯       </td><td>None    </td><td>20      </td><td>RL      </td><td>Veenker </td><td>Gable   </td><td>Normal  </td><td>WD      </td><td>12.10901</td><td>train   </td><td>2       </td></tr>\n",
       "</tbody>\n",
       "</table>\n"
      ],
      "text/latex": [
       "\\begin{tabular}{r|lllllllllllllllllllllllllllllllll}\n",
       " BldgType & BsmtCond & BsmtExposure & BsmtFinType1 & BsmtFinType2 & BsmtQual & Condition1 & Condition2 & ExterCond & Exterior1st & ⋯ & MasVnrType & MSSubClass & MSZoning & Neighborhood & RoofStyle & SaleCondition & SaleType & price.log & dataSource & Id\\\\\n",
       "\\hline\n",
       "\t 1Fam     & TA       & No       & GLQ      & Unf      & Gd       & Norm     & Norm     & TA       & VinylSd  & ⋯        & BrkFace  & 60       & RL       & CollgCr  & Gable    & Normal   & WD       & 12.24769 & train    & 1       \\\\\n",
       "\t 1Fam     & TA       & Gd       & ALQ      & Unf      & Gd       & Feedr    & Norm     & TA       & MetalSd  & ⋯        & None     & 20       & RL       & Veenker  & Gable    & Normal   & WD       & 12.10901 & train    & 2       \\\\\n",
       "\\end{tabular}\n"
      ],
      "text/markdown": [
       "\n",
       "BldgType | BsmtCond | BsmtExposure | BsmtFinType1 | BsmtFinType2 | BsmtQual | Condition1 | Condition2 | ExterCond | Exterior1st | ⋯ | MasVnrType | MSSubClass | MSZoning | Neighborhood | RoofStyle | SaleCondition | SaleType | price.log | dataSource | Id | \n",
       "|---|---|\n",
       "| 1Fam     | TA       | No       | GLQ      | Unf      | Gd       | Norm     | Norm     | TA       | VinylSd  | ⋯        | BrkFace  | 60       | RL       | CollgCr  | Gable    | Normal   | WD       | 12.24769 | train    | 1        | \n",
       "| 1Fam     | TA       | Gd       | ALQ      | Unf      | Gd       | Feedr    | Norm     | TA       | MetalSd  | ⋯        | None     | 20       | RL       | Veenker  | Gable    | Normal   | WD       | 12.10901 | train    | 2        | \n",
       "\n",
       "\n"
      ],
      "text/plain": [
       "  BldgType BsmtCond BsmtExposure BsmtFinType1 BsmtFinType2 BsmtQual Condition1\n",
       "1 1Fam     TA       No           GLQ          Unf          Gd       Norm      \n",
       "2 1Fam     TA       Gd           ALQ          Unf          Gd       Feedr     \n",
       "  Condition2 ExterCond Exterior1st ⋯ MasVnrType MSSubClass MSZoning\n",
       "1 Norm       TA        VinylSd     ⋯ BrkFace    60         RL      \n",
       "2 Norm       TA        MetalSd     ⋯ None       20         RL      \n",
       "  Neighborhood RoofStyle SaleCondition SaleType price.log dataSource Id\n",
       "1 CollgCr      Gable     Normal        WD       12.24769  train      1 \n",
       "2 Veenker      Gable     Normal        WD       12.10901  train      2 "
      ]
     },
     "metadata": {},
     "output_type": "display_data"
    }
   ],
   "source": [
    "source('main.R')\n",
    "\n",
    "data <- kaggle.house$loadData()\n",
    "\n",
    "df.combined <- \n",
    "    kaggle.house$getCombinedDataset(data$train, data$test) %>% \n",
    "    (kaggle.house$na$fixAll) %>%\n",
    "    mutate(price.log = log(SalePrice)) %>%\n",
    "    select(-SalePrice)\n",
    "\n",
    "df.combined.after.binary <- kaggle.house$trans$binaryTransform(df.combined)\n",
    "\n",
    "binary.vars <- setdiff(\n",
    "    df.combined %>% (kaggle.house$getCategoricalColumnNames), \n",
    "    df.combined.after.binary %>% (kaggle.house$getCategoricalColumnNames)\n",
    ")\n",
    "\n",
    "averaging.vars <- df.combined.after.binary %>% select(-dataSource) %>% (kaggle.house$getCategoricalColumnNames)\n",
    "\n",
    "df.combined.after.binary %>%\n",
    "    select(one_of(binary.vars), dataSource, Id) %>%\n",
    "    head(2)\n",
    "\n",
    "df.combined.averaging.vars <- \n",
    "    df.combined.after.binary %>%\n",
    "    select(one_of(averaging.vars), price.log, dataSource, Id)\n",
    "\n",
    "df.combined.averaging.vars %>% head(2)"
   ]
  },
  {
   "cell_type": "code",
   "execution_count": 79,
   "metadata": {},
   "outputs": [
    {
     "data": {
      "text/html": [
       "<table>\n",
       "<thead><tr><th scope=col>dataSource</th><th scope=col>Id</th><th scope=col>BldgType</th><th scope=col>BsmtCond</th><th scope=col>BsmtExposure</th><th scope=col>BsmtFinType1</th><th scope=col>BsmtFinType2</th><th scope=col>BsmtQual</th><th scope=col>Condition1</th><th scope=col>Condition2</th><th scope=col>⋯</th><th scope=col>HouseStyle</th><th scope=col>KitchenQual</th><th scope=col>LotConfig</th><th scope=col>MasVnrType</th><th scope=col>MSSubClass</th><th scope=col>MSZoning</th><th scope=col>Neighborhood</th><th scope=col>RoofStyle</th><th scope=col>SaleCondition</th><th scope=col>SaleType</th></tr></thead>\n",
       "<tbody>\n",
       "\t<tr><td>train      </td><td>496        </td><td>0.02346151 </td><td>0.01856394 </td><td>-0.06839749</td><td>-0.1712046 </td><td>0.01968722 </td><td>-0.2131955 </td><td>0.01886523 </td><td>0.001844353</td><td>⋯          </td><td>-0.03036812</td><td>-0.2134591 </td><td>-0.02215127</td><td>-0.1311315 </td><td>-0.59024195</td><td>-0.9057919 </td><td>-0.5771619 </td><td>-0.03985115</td><td>-0.2352766 </td><td>-0.03299004</td></tr>\n",
       "\t<tr><td>train      </td><td>917        </td><td>0.02346151 </td><td>0.01856394 </td><td> 0.13421624</td><td>-0.1564165 </td><td>0.01968722 </td><td>-0.2131955 </td><td>0.01886523 </td><td>0.001844353</td><td>⋯          </td><td>-0.03036812</td><td>-0.2134591 </td><td>-0.02215127</td><td>-0.1311315 </td><td> 0.02873685</td><td>-0.9057919 </td><td>-0.5771619 </td><td>-0.03985115</td><td>-0.2352766 </td><td>-0.03299004</td></tr>\n",
       "</tbody>\n",
       "</table>\n"
      ],
      "text/latex": [
       "\\begin{tabular}{r|llllllllllllllllllllllllllllllll}\n",
       " dataSource & Id & BldgType & BsmtCond & BsmtExposure & BsmtFinType1 & BsmtFinType2 & BsmtQual & Condition1 & Condition2 & ⋯ & HouseStyle & KitchenQual & LotConfig & MasVnrType & MSSubClass & MSZoning & Neighborhood & RoofStyle & SaleCondition & SaleType\\\\\n",
       "\\hline\n",
       "\t train       & 496         & 0.02346151  & 0.01856394  & -0.06839749 & -0.1712046  & 0.01968722  & -0.2131955  & 0.01886523  & 0.001844353 & ⋯           & -0.03036812 & -0.2134591  & -0.02215127 & -0.1311315  & -0.59024195 & -0.9057919  & -0.5771619  & -0.03985115 & -0.2352766  & -0.03299004\\\\\n",
       "\t train       & 917         & 0.02346151  & 0.01856394  &  0.13421624 & -0.1564165  & 0.01968722  & -0.2131955  & 0.01886523  & 0.001844353 & ⋯           & -0.03036812 & -0.2134591  & -0.02215127 & -0.1311315  &  0.02873685 & -0.9057919  & -0.5771619  & -0.03985115 & -0.2352766  & -0.03299004\\\\\n",
       "\\end{tabular}\n"
      ],
      "text/markdown": [
       "\n",
       "dataSource | Id | BldgType | BsmtCond | BsmtExposure | BsmtFinType1 | BsmtFinType2 | BsmtQual | Condition1 | Condition2 | ⋯ | HouseStyle | KitchenQual | LotConfig | MasVnrType | MSSubClass | MSZoning | Neighborhood | RoofStyle | SaleCondition | SaleType | \n",
       "|---|---|\n",
       "| train       | 496         | 0.02346151  | 0.01856394  | -0.06839749 | -0.1712046  | 0.01968722  | -0.2131955  | 0.01886523  | 0.001844353 | ⋯           | -0.03036812 | -0.2134591  | -0.02215127 | -0.1311315  | -0.59024195 | -0.9057919  | -0.5771619  | -0.03985115 | -0.2352766  | -0.03299004 | \n",
       "| train       | 917         | 0.02346151  | 0.01856394  |  0.13421624 | -0.1564165  | 0.01968722  | -0.2131955  | 0.01886523  | 0.001844353 | ⋯           | -0.03036812 | -0.2134591  | -0.02215127 | -0.1311315  |  0.02873685 | -0.9057919  | -0.5771619  | -0.03985115 | -0.2352766  | -0.03299004 | \n",
       "\n",
       "\n"
      ],
      "text/plain": [
       "  dataSource Id  BldgType   BsmtCond   BsmtExposure BsmtFinType1 BsmtFinType2\n",
       "1 train      496 0.02346151 0.01856394 -0.06839749  -0.1712046   0.01968722  \n",
       "2 train      917 0.02346151 0.01856394  0.13421624  -0.1564165   0.01968722  \n",
       "  BsmtQual   Condition1 Condition2  ⋯ HouseStyle  KitchenQual LotConfig  \n",
       "1 -0.2131955 0.01886523 0.001844353 ⋯ -0.03036812 -0.2134591  -0.02215127\n",
       "2 -0.2131955 0.01886523 0.001844353 ⋯ -0.03036812 -0.2134591  -0.02215127\n",
       "  MasVnrType MSSubClass  MSZoning   Neighborhood RoofStyle   SaleCondition\n",
       "1 -0.1311315 -0.59024195 -0.9057919 -0.5771619   -0.03985115 -0.2352766   \n",
       "2 -0.1311315  0.02873685 -0.9057919 -0.5771619   -0.03985115 -0.2352766   \n",
       "  SaleType   \n",
       "1 -0.03299004\n",
       "2 -0.03299004"
      ]
     },
     "metadata": {},
     "output_type": "display_data"
    }
   ],
   "source": [
    "kaggle.house$trans$averagingTransform(\n",
    "    dataset = df.combined.averaging.vars, \n",
    "    y.var = price.log, \n",
    "    id.var = Id,\n",
    "    src.var=dataSource,\n",
    "    stat.fun = mean, \n",
    "    diff = TRUE\n",
    ") %>% select(-price.log) -> df.combined.after.averaging\n",
    "\n",
    "df.combined.after.averaging %>% head(2)"
   ]
  },
  {
   "cell_type": "code",
   "execution_count": 128,
   "metadata": {},
   "outputs": [
    {
     "data": {
      "text/html": [
       "<table>\n",
       "<thead><tr><th scope=col>Id</th><th scope=col>LotFrontage</th><th scope=col>LotArea</th><th scope=col>Street</th><th scope=col>Alley</th><th scope=col>LotShape</th><th scope=col>LandContour</th><th scope=col>Utilities</th><th scope=col>LandSlope</th><th scope=col>OverallQual</th><th scope=col>⋯</th><th scope=col>HouseStyle</th><th scope=col>KitchenQual</th><th scope=col>LotConfig</th><th scope=col>MasVnrType</th><th scope=col>MSSubClass</th><th scope=col>MSZoning</th><th scope=col>Neighborhood</th><th scope=col>RoofStyle</th><th scope=col>SaleCondition</th><th scope=col>SaleType</th></tr></thead>\n",
       "<tbody>\n",
       "\t<tr><td>1          </td><td>65         </td><td>8450       </td><td>1          </td><td>0          </td><td>1          </td><td>1          </td><td>1          </td><td>0          </td><td>7          </td><td>⋯          </td><td> 0.15863531</td><td> 0.1982858 </td><td>-0.02215127</td><td> 0.1395788 </td><td>0.31592375 </td><td>0.06183413 </td><td>0.1395904  </td><td>-0.03985115</td><td>-0.01901721</td><td>-0.03299004</td></tr>\n",
       "\t<tr><td>2          </td><td>80         </td><td>9600       </td><td>1          </td><td>0          </td><td>1          </td><td>1          </td><td>1          </td><td>0          </td><td>6          </td><td>⋯          </td><td>-0.03036812</td><td>-0.2134591 </td><td> 0.01069050</td><td>-0.1311315 </td><td>0.02873685 </td><td>0.06183413 </td><td>0.3201250  </td><td>-0.03985115</td><td>-0.01901721</td><td>-0.03299004</td></tr>\n",
       "</tbody>\n",
       "</table>\n"
      ],
      "text/latex": [
       "\\begin{tabular}{r|llllllllllllllllllllllllllllllllllllllllllllllllllllllllllllllllllllllllllllllllll}\n",
       " Id & LotFrontage & LotArea & Street & Alley & LotShape & LandContour & Utilities & LandSlope & OverallQual & ⋯ & HouseStyle & KitchenQual & LotConfig & MasVnrType & MSSubClass & MSZoning & Neighborhood & RoofStyle & SaleCondition & SaleType\\\\\n",
       "\\hline\n",
       "\t 1           & 65          & 8450        & 1           & 0           & 1           & 1           & 1           & 0           & 7           & ⋯           &  0.15863531 &  0.1982858  & -0.02215127 &  0.1395788  & 0.31592375  & 0.06183413  & 0.1395904   & -0.03985115 & -0.01901721 & -0.03299004\\\\\n",
       "\t 2           & 80          & 9600        & 1           & 0           & 1           & 1           & 1           & 0           & 6           & ⋯           & -0.03036812 & -0.2134591  &  0.01069050 & -0.1311315  & 0.02873685  & 0.06183413  & 0.3201250   & -0.03985115 & -0.01901721 & -0.03299004\\\\\n",
       "\\end{tabular}\n"
      ],
      "text/markdown": [
       "\n",
       "Id | LotFrontage | LotArea | Street | Alley | LotShape | LandContour | Utilities | LandSlope | OverallQual | ⋯ | HouseStyle | KitchenQual | LotConfig | MasVnrType | MSSubClass | MSZoning | Neighborhood | RoofStyle | SaleCondition | SaleType | \n",
       "|---|---|\n",
       "| 1           | 65          | 8450        | 1           | 0           | 1           | 1           | 1           | 0           | 7           | ⋯           |  0.15863531 |  0.1982858  | -0.02215127 |  0.1395788  | 0.31592375  | 0.06183413  | 0.1395904   | -0.03985115 | -0.01901721 | -0.03299004 | \n",
       "| 2           | 80          | 9600        | 1           | 0           | 1           | 1           | 1           | 0           | 6           | ⋯           | -0.03036812 | -0.2134591  |  0.01069050 | -0.1311315  | 0.02873685  | 0.06183413  | 0.3201250   | -0.03985115 | -0.01901721 | -0.03299004 | \n",
       "\n",
       "\n"
      ],
      "text/plain": [
       "  Id LotFrontage LotArea Street Alley LotShape LandContour Utilities LandSlope\n",
       "1 1  65          8450    1      0     1        1           1         0        \n",
       "2 2  80          9600    1      0     1        1           1         0        \n",
       "  OverallQual ⋯ HouseStyle  KitchenQual LotConfig   MasVnrType MSSubClass\n",
       "1 7           ⋯  0.15863531  0.1982858  -0.02215127  0.1395788 0.31592375\n",
       "2 6           ⋯ -0.03036812 -0.2134591   0.01069050 -0.1311315 0.02873685\n",
       "  MSZoning   Neighborhood RoofStyle   SaleCondition SaleType   \n",
       "1 0.06183413 0.1395904    -0.03985115 -0.01901721   -0.03299004\n",
       "2 0.06183413 0.3201250    -0.03985115 -0.01901721   -0.03299004"
      ]
     },
     "metadata": {},
     "output_type": "display_data"
    },
    {
     "data": {
      "text/html": [
       "<table>\n",
       "<thead><tr><th scope=col>Id</th><th scope=col>LotFrontage</th><th scope=col>LotArea</th><th scope=col>Street</th><th scope=col>Alley</th><th scope=col>LotShape</th><th scope=col>LandContour</th><th scope=col>Utilities</th><th scope=col>LandSlope</th><th scope=col>OverallQual</th><th scope=col>⋯</th><th scope=col>HouseStyle</th><th scope=col>KitchenQual</th><th scope=col>LotConfig</th><th scope=col>MasVnrType</th><th scope=col>MSSubClass</th><th scope=col>MSZoning</th><th scope=col>Neighborhood</th><th scope=col>RoofStyle</th><th scope=col>SaleCondition</th><th scope=col>SaleType</th></tr></thead>\n",
       "<tbody>\n",
       "\t<tr><td>1          </td><td>65         </td><td>8450       </td><td>1          </td><td>0          </td><td>1          </td><td>1          </td><td>1          </td><td>0          </td><td>7          </td><td>⋯          </td><td> 0.15863531</td><td> 0.1982858 </td><td>-0.02215127</td><td> 0.1395788 </td><td>0.31592375 </td><td>0.06183413 </td><td>0.1395904  </td><td>-0.03985115</td><td>-0.01901721</td><td>-0.03299004</td></tr>\n",
       "\t<tr><td>2          </td><td>80         </td><td>9600       </td><td>1          </td><td>0          </td><td>1          </td><td>1          </td><td>1          </td><td>0          </td><td>6          </td><td>⋯          </td><td>-0.03036812</td><td>-0.2134591 </td><td> 0.01069050</td><td>-0.1311315 </td><td>0.02873685 </td><td>0.06183413 </td><td>0.3201250  </td><td>-0.03985115</td><td>-0.01901721</td><td>-0.03299004</td></tr>\n",
       "</tbody>\n",
       "</table>\n"
      ],
      "text/latex": [
       "\\begin{tabular}{r|llllllllllllllllllllllllllllllllllllllllllllllllllllllllllllllllllllllllllllllllll}\n",
       " Id & LotFrontage & LotArea & Street & Alley & LotShape & LandContour & Utilities & LandSlope & OverallQual & ⋯ & HouseStyle & KitchenQual & LotConfig & MasVnrType & MSSubClass & MSZoning & Neighborhood & RoofStyle & SaleCondition & SaleType\\\\\n",
       "\\hline\n",
       "\t 1           & 65          & 8450        & 1           & 0           & 1           & 1           & 1           & 0           & 7           & ⋯           &  0.15863531 &  0.1982858  & -0.02215127 &  0.1395788  & 0.31592375  & 0.06183413  & 0.1395904   & -0.03985115 & -0.01901721 & -0.03299004\\\\\n",
       "\t 2           & 80          & 9600        & 1           & 0           & 1           & 1           & 1           & 0           & 6           & ⋯           & -0.03036812 & -0.2134591  &  0.01069050 & -0.1311315  & 0.02873685  & 0.06183413  & 0.3201250   & -0.03985115 & -0.01901721 & -0.03299004\\\\\n",
       "\\end{tabular}\n"
      ],
      "text/markdown": [
       "\n",
       "Id | LotFrontage | LotArea | Street | Alley | LotShape | LandContour | Utilities | LandSlope | OverallQual | ⋯ | HouseStyle | KitchenQual | LotConfig | MasVnrType | MSSubClass | MSZoning | Neighborhood | RoofStyle | SaleCondition | SaleType | \n",
       "|---|---|\n",
       "| 1           | 65          | 8450        | 1           | 0           | 1           | 1           | 1           | 0           | 7           | ⋯           |  0.15863531 |  0.1982858  | -0.02215127 |  0.1395788  | 0.31592375  | 0.06183413  | 0.1395904   | -0.03985115 | -0.01901721 | -0.03299004 | \n",
       "| 2           | 80          | 9600        | 1           | 0           | 1           | 1           | 1           | 0           | 6           | ⋯           | -0.03036812 | -0.2134591  |  0.01069050 | -0.1311315  | 0.02873685  | 0.06183413  | 0.3201250   | -0.03985115 | -0.01901721 | -0.03299004 | \n",
       "\n",
       "\n"
      ],
      "text/plain": [
       "  Id LotFrontage LotArea Street Alley LotShape LandContour Utilities LandSlope\n",
       "1 1  65          8450    1      0     1        1           1         0        \n",
       "2 2  80          9600    1      0     1        1           1         0        \n",
       "  OverallQual ⋯ HouseStyle  KitchenQual LotConfig   MasVnrType MSSubClass\n",
       "1 7           ⋯  0.15863531  0.1982858  -0.02215127  0.1395788 0.31592375\n",
       "2 6           ⋯ -0.03036812 -0.2134591   0.01069050 -0.1311315 0.02873685\n",
       "  MSZoning   Neighborhood RoofStyle   SaleCondition SaleType   \n",
       "1 0.06183413 0.1395904    -0.03985115 -0.01901721   -0.03299004\n",
       "2 0.06183413 0.3201250    -0.03985115 -0.01901721   -0.03299004"
      ]
     },
     "metadata": {},
     "output_type": "display_data"
    },
    {
     "data": {
      "text/html": [
       "TRUE"
      ],
      "text/latex": [
       "TRUE"
      ],
      "text/markdown": [
       "TRUE"
      ],
      "text/plain": [
       "[1] TRUE"
      ]
     },
     "metadata": {},
     "output_type": "display_data"
    }
   ],
   "source": [
    "source('main.R')\n",
    "\n",
    "df.combined.final <- inner_join(\n",
    "    df.combined.after.binary %>% select(-one_of(averaging.vars)),\n",
    "    df.combined.after.averaging,\n",
    "    by=c(\"dataSource\", \"Id\")\n",
    ")\n",
    "\n",
    "df.combined.final2 <- kaggle.house$trans$transformCombindedDataset(df.combined)\n",
    "\n",
    "df.combined.final %>% head(2)\n",
    "df.combined.final2 %>% head(2)\n",
    "\n",
    "all(df.combined.final %>% select(-price.log) == df.combined.final2 %>% select(-price.log))"
   ]
  },
  {
   "cell_type": "code",
   "execution_count": 93,
   "metadata": {},
   "outputs": [],
   "source": [
    "stopifnot(df.combined.final %>% colnames %>% sort == df.combined %>% colnames %>% sort)\n",
    "stopifnot(df.combined.final %>% nrow == df.combined %>% nrow)"
   ]
  },
  {
   "cell_type": "code",
   "execution_count": 111,
   "metadata": {},
   "outputs": [
    {
     "data": {
      "text/html": [
       "<table>\n",
       "<thead><tr><th scope=col>Id</th><th scope=col>dataSource</th><th scope=col>var.name</th><th scope=col>value.old</th></tr></thead>\n",
       "<tbody>\n",
       "\t<tr><td>1         </td><td>train     </td><td>MSSubClass</td><td>60        </td></tr>\n",
       "\t<tr><td>2         </td><td>train     </td><td>MSSubClass</td><td>20        </td></tr>\n",
       "</tbody>\n",
       "</table>\n"
      ],
      "text/latex": [
       "\\begin{tabular}{r|llll}\n",
       " Id & dataSource & var.name & value.old\\\\\n",
       "\\hline\n",
       "\t 1          & train      & MSSubClass & 60        \\\\\n",
       "\t 2          & train      & MSSubClass & 20        \\\\\n",
       "\\end{tabular}\n"
      ],
      "text/markdown": [
       "\n",
       "Id | dataSource | var.name | value.old | \n",
       "|---|---|\n",
       "| 1          | train      | MSSubClass | 60         | \n",
       "| 2          | train      | MSSubClass | 20         | \n",
       "\n",
       "\n"
      ],
      "text/plain": [
       "  Id dataSource var.name   value.old\n",
       "1 1  train      MSSubClass 60       \n",
       "2 2  train      MSSubClass 20       "
      ]
     },
     "metadata": {},
     "output_type": "display_data"
    },
    {
     "data": {
      "text/html": [
       "<table>\n",
       "<thead><tr><th scope=col>Id</th><th scope=col>dataSource</th><th scope=col>var.name</th><th scope=col>value.new</th></tr></thead>\n",
       "<tbody>\n",
       "\t<tr><td>1          </td><td>train      </td><td>LotFrontage</td><td>65         </td></tr>\n",
       "\t<tr><td>2          </td><td>train      </td><td>LotFrontage</td><td>80         </td></tr>\n",
       "</tbody>\n",
       "</table>\n"
      ],
      "text/latex": [
       "\\begin{tabular}{r|llll}\n",
       " Id & dataSource & var.name & value.new\\\\\n",
       "\\hline\n",
       "\t 1           & train       & LotFrontage & 65         \\\\\n",
       "\t 2           & train       & LotFrontage & 80         \\\\\n",
       "\\end{tabular}\n"
      ],
      "text/markdown": [
       "\n",
       "Id | dataSource | var.name | value.new | \n",
       "|---|---|\n",
       "| 1           | train       | LotFrontage | 65          | \n",
       "| 2           | train       | LotFrontage | 80          | \n",
       "\n",
       "\n"
      ],
      "text/plain": [
       "  Id dataSource var.name    value.new\n",
       "1 1  train      LotFrontage 65       \n",
       "2 2  train      LotFrontage 80       "
      ]
     },
     "metadata": {},
     "output_type": "display_data"
    },
    {
     "data": {
      "text/html": [
       "<table>\n",
       "<thead><tr><th scope=col>dataSource</th><th scope=col>var.name</th><th scope=col>value.new</th><th scope=col>value.old</th><th scope=col>n</th></tr></thead>\n",
       "<tbody>\n",
       "\t<tr><td>test  </td><td>Alley </td><td>0     </td><td>_none_</td><td>1352  </td></tr>\n",
       "\t<tr><td>test  </td><td>Alley </td><td>1     </td><td>Grvl  </td><td>  70  </td></tr>\n",
       "\t<tr><td>test  </td><td>Alley </td><td>1     </td><td>Pave  </td><td>  37  </td></tr>\n",
       "\t<tr><td>train </td><td>Alley </td><td>0     </td><td>_none_</td><td>1369  </td></tr>\n",
       "\t<tr><td>train </td><td>Alley </td><td>1     </td><td>Grvl  </td><td>  50  </td></tr>\n",
       "\t<tr><td>train </td><td>Alley </td><td>1     </td><td>Pave  </td><td>  41  </td></tr>\n",
       "</tbody>\n",
       "</table>\n"
      ],
      "text/latex": [
       "\\begin{tabular}{r|lllll}\n",
       " dataSource & var.name & value.new & value.old & n\\\\\n",
       "\\hline\n",
       "\t test       & Alley      & 0          & \\_none\\_ & 1352      \\\\\n",
       "\t test   & Alley  & 1      & Grvl   &   70  \\\\\n",
       "\t test   & Alley  & 1      & Pave   &   37  \\\\\n",
       "\t train      & Alley      & 0          & \\_none\\_ & 1369      \\\\\n",
       "\t train  & Alley  & 1      & Grvl   &   50  \\\\\n",
       "\t train  & Alley  & 1      & Pave   &   41  \\\\\n",
       "\\end{tabular}\n"
      ],
      "text/markdown": [
       "\n",
       "dataSource | var.name | value.new | value.old | n | \n",
       "|---|---|---|---|---|---|\n",
       "| test   | Alley  | 0      | _none_ | 1352   | \n",
       "| test   | Alley  | 1      | Grvl   |   70   | \n",
       "| test   | Alley  | 1      | Pave   |   37   | \n",
       "| train  | Alley  | 0      | _none_ | 1369   | \n",
       "| train  | Alley  | 1      | Grvl   |   50   | \n",
       "| train  | Alley  | 1      | Pave   |   41   | \n",
       "\n",
       "\n"
      ],
      "text/plain": [
       "  dataSource var.name value.new value.old n   \n",
       "1 test       Alley    0         _none_    1352\n",
       "2 test       Alley    1         Grvl        70\n",
       "3 test       Alley    1         Pave        37\n",
       "4 train      Alley    0         _none_    1369\n",
       "5 train      Alley    1         Grvl        50\n",
       "6 train      Alley    1         Pave        41"
      ]
     },
     "metadata": {},
     "output_type": "display_data"
    }
   ],
   "source": [
    "X <- df.combined %>%\n",
    "    gather(var.name, value.old, -dataSource, -Id, -price.log) %>%\n",
    "    select(-price.log)\n",
    "\n",
    "Y <- df.combined.final %>%\n",
    "    gather(var.name, value.new, -dataSource, -Id, -price.log) %>%\n",
    "    select(-price.log)\n",
    "\n",
    "X %>% head(2)\n",
    "Y %>% head(2)\n",
    "\n",
    "Z <- inner_join(X, Y, by=c(\"dataSource\", \"var.name\", \"Id\"))\n",
    "\n",
    "Z %>% \n",
    "    filter(var.name %in% binary.vars) %>%\n",
    "    group_by(dataSource, var.name, value.new, value.old) %>%\n",
    "    count %>%\n",
    "    arrange(var.name, dataSource) %>%\n",
    "    head    "
   ]
  },
  {
   "cell_type": "code",
   "execution_count": 122,
   "metadata": {},
   "outputs": [
    {
     "data": {
      "text/html": [
       "<table>\n",
       "<thead><tr><th scope=col>dataSource</th><th scope=col>var.name</th><th scope=col>value.old</th><th scope=col>min(value.new)</th><th scope=col>max(value.new)</th></tr></thead>\n",
       "<tbody>\n",
       "\t<tr><td>test       </td><td>RoofStyle  </td><td>Flat       </td><td> 0.09885963</td><td> 0.09885963</td></tr>\n",
       "\t<tr><td>test       </td><td>RoofStyle  </td><td>Gable      </td><td>-0.03985115</td><td>-0.03985115</td></tr>\n",
       "\t<tr><td>test       </td><td>RoofStyle  </td><td>Gambrel    </td><td>-0.22655512</td><td>-0.22655512</td></tr>\n",
       "\t<tr><td>test       </td><td>RoofStyle  </td><td>Hip        </td><td> 0.16037887</td><td> 0.16037887</td></tr>\n",
       "\t<tr><td>test       </td><td>RoofStyle  </td><td>Mansard    </td><td> 0.03337435</td><td> 0.03337435</td></tr>\n",
       "\t<tr><td>test       </td><td>RoofStyle  </td><td>Shed       </td><td> 0.28755723</td><td> 0.28755723</td></tr>\n",
       "\t<tr><td>train      </td><td>RoofStyle  </td><td>Flat       </td><td> 0.09885963</td><td> 0.09885963</td></tr>\n",
       "\t<tr><td>train      </td><td>RoofStyle  </td><td>Gable      </td><td>-0.03985115</td><td>-0.03985115</td></tr>\n",
       "\t<tr><td>train      </td><td>RoofStyle  </td><td>Gambrel    </td><td>-0.22655512</td><td>-0.22655512</td></tr>\n",
       "\t<tr><td>train      </td><td>RoofStyle  </td><td>Hip        </td><td> 0.16037887</td><td> 0.16037887</td></tr>\n",
       "\t<tr><td>train      </td><td>RoofStyle  </td><td>Mansard    </td><td> 0.03337435</td><td> 0.03337435</td></tr>\n",
       "\t<tr><td>train      </td><td>RoofStyle  </td><td>Shed       </td><td> 0.28755723</td><td> 0.28755723</td></tr>\n",
       "</tbody>\n",
       "</table>\n"
      ],
      "text/latex": [
       "\\begin{tabular}{r|lllll}\n",
       " dataSource & var.name & value.old & min(value.new) & max(value.new)\\\\\n",
       "\\hline\n",
       "\t test        & RoofStyle   & Flat        &  0.09885963 &  0.09885963\\\\\n",
       "\t test        & RoofStyle   & Gable       & -0.03985115 & -0.03985115\\\\\n",
       "\t test        & RoofStyle   & Gambrel     & -0.22655512 & -0.22655512\\\\\n",
       "\t test        & RoofStyle   & Hip         &  0.16037887 &  0.16037887\\\\\n",
       "\t test        & RoofStyle   & Mansard     &  0.03337435 &  0.03337435\\\\\n",
       "\t test        & RoofStyle   & Shed        &  0.28755723 &  0.28755723\\\\\n",
       "\t train       & RoofStyle   & Flat        &  0.09885963 &  0.09885963\\\\\n",
       "\t train       & RoofStyle   & Gable       & -0.03985115 & -0.03985115\\\\\n",
       "\t train       & RoofStyle   & Gambrel     & -0.22655512 & -0.22655512\\\\\n",
       "\t train       & RoofStyle   & Hip         &  0.16037887 &  0.16037887\\\\\n",
       "\t train       & RoofStyle   & Mansard     &  0.03337435 &  0.03337435\\\\\n",
       "\t train       & RoofStyle   & Shed        &  0.28755723 &  0.28755723\\\\\n",
       "\\end{tabular}\n"
      ],
      "text/markdown": [
       "\n",
       "dataSource | var.name | value.old | min(value.new) | max(value.new) | \n",
       "|---|---|---|---|---|---|---|---|---|---|---|---|\n",
       "| test        | RoofStyle   | Flat        |  0.09885963 |  0.09885963 | \n",
       "| test        | RoofStyle   | Gable       | -0.03985115 | -0.03985115 | \n",
       "| test        | RoofStyle   | Gambrel     | -0.22655512 | -0.22655512 | \n",
       "| test        | RoofStyle   | Hip         |  0.16037887 |  0.16037887 | \n",
       "| test        | RoofStyle   | Mansard     |  0.03337435 |  0.03337435 | \n",
       "| test        | RoofStyle   | Shed        |  0.28755723 |  0.28755723 | \n",
       "| train       | RoofStyle   | Flat        |  0.09885963 |  0.09885963 | \n",
       "| train       | RoofStyle   | Gable       | -0.03985115 | -0.03985115 | \n",
       "| train       | RoofStyle   | Gambrel     | -0.22655512 | -0.22655512 | \n",
       "| train       | RoofStyle   | Hip         |  0.16037887 |  0.16037887 | \n",
       "| train       | RoofStyle   | Mansard     |  0.03337435 |  0.03337435 | \n",
       "| train       | RoofStyle   | Shed        |  0.28755723 |  0.28755723 | \n",
       "\n",
       "\n"
      ],
      "text/plain": [
       "   dataSource var.name  value.old min(value.new) max(value.new)\n",
       "1  test       RoofStyle Flat       0.09885963     0.09885963   \n",
       "2  test       RoofStyle Gable     -0.03985115    -0.03985115   \n",
       "3  test       RoofStyle Gambrel   -0.22655512    -0.22655512   \n",
       "4  test       RoofStyle Hip        0.16037887     0.16037887   \n",
       "5  test       RoofStyle Mansard    0.03337435     0.03337435   \n",
       "6  test       RoofStyle Shed       0.28755723     0.28755723   \n",
       "7  train      RoofStyle Flat       0.09885963     0.09885963   \n",
       "8  train      RoofStyle Gable     -0.03985115    -0.03985115   \n",
       "9  train      RoofStyle Gambrel   -0.22655512    -0.22655512   \n",
       "10 train      RoofStyle Hip        0.16037887     0.16037887   \n",
       "11 train      RoofStyle Mansard    0.03337435     0.03337435   \n",
       "12 train      RoofStyle Shed       0.28755723     0.28755723   "
      ]
     },
     "metadata": {},
     "output_type": "display_data"
    },
    {
     "data": {
      "text/html": [
       "<table>\n",
       "<thead><tr><th scope=col>RoofStyle</th><th scope=col>min(avg)</th><th scope=col>max(avg)</th></tr></thead>\n",
       "<tbody>\n",
       "\t<tr><td>Flat       </td><td> 0.09885963</td><td> 0.09885963</td></tr>\n",
       "\t<tr><td>Gable      </td><td>-0.03985115</td><td>-0.03985115</td></tr>\n",
       "\t<tr><td>Gambrel    </td><td>-0.22655512</td><td>-0.22655512</td></tr>\n",
       "\t<tr><td>Hip        </td><td> 0.16037887</td><td> 0.16037887</td></tr>\n",
       "\t<tr><td>Mansard    </td><td> 0.03337435</td><td> 0.03337435</td></tr>\n",
       "\t<tr><td>Shed       </td><td> 0.28755723</td><td> 0.28755723</td></tr>\n",
       "</tbody>\n",
       "</table>\n"
      ],
      "text/latex": [
       "\\begin{tabular}{r|lll}\n",
       " RoofStyle & min(avg) & max(avg)\\\\\n",
       "\\hline\n",
       "\t Flat        &  0.09885963 &  0.09885963\\\\\n",
       "\t Gable       & -0.03985115 & -0.03985115\\\\\n",
       "\t Gambrel     & -0.22655512 & -0.22655512\\\\\n",
       "\t Hip         &  0.16037887 &  0.16037887\\\\\n",
       "\t Mansard     &  0.03337435 &  0.03337435\\\\\n",
       "\t Shed        &  0.28755723 &  0.28755723\\\\\n",
       "\\end{tabular}\n"
      ],
      "text/markdown": [
       "\n",
       "RoofStyle | min(avg) | max(avg) | \n",
       "|---|---|---|---|---|---|\n",
       "| Flat        |  0.09885963 |  0.09885963 | \n",
       "| Gable       | -0.03985115 | -0.03985115 | \n",
       "| Gambrel     | -0.22655512 | -0.22655512 | \n",
       "| Hip         |  0.16037887 |  0.16037887 | \n",
       "| Mansard     |  0.03337435 |  0.03337435 | \n",
       "| Shed        |  0.28755723 |  0.28755723 | \n",
       "\n",
       "\n"
      ],
      "text/plain": [
       "  RoofStyle min(avg)    max(avg)   \n",
       "1 Flat       0.09885963  0.09885963\n",
       "2 Gable     -0.03985115 -0.03985115\n",
       "3 Gambrel   -0.22655512 -0.22655512\n",
       "4 Hip        0.16037887  0.16037887\n",
       "5 Mansard    0.03337435  0.03337435\n",
       "6 Shed       0.28755723  0.28755723"
      ]
     },
     "metadata": {},
     "output_type": "display_data"
    }
   ],
   "source": [
    "Z %>% \n",
    "    filter(var.name %in% averaging.vars) %>%\n",
    "    group_by(dataSource, var.name, value.old) %>%\n",
    "    summarise(\n",
    "        min(value.new), \n",
    "        max(value.new)\n",
    "    ) %>%\n",
    "    filter(var.name == \"RoofStyle\")\n",
    "\n",
    "df.combined %>% \n",
    "    filter(dataSource == \"train\") %>%\n",
    "    group_by(RoofStyle) %>%\n",
    "    mutate(avg = mean(price.log)) %>%\n",
    "    ungroup %>%\n",
    "    mutate(avg = avg - mean(price.log)) %>%\n",
    "    group_by(RoofStyle) %>%\n",
    "    summarise(\n",
    "        min(avg), \n",
    "        max(avg)\n",
    "    )"
   ]
  },
  {
   "cell_type": "code",
   "execution_count": null,
   "metadata": {},
   "outputs": [],
   "source": []
  },
  {
   "cell_type": "code",
   "execution_count": null,
   "metadata": {
    "collapsed": true
   },
   "outputs": [],
   "source": []
  },
  {
   "cell_type": "code",
   "execution_count": null,
   "metadata": {
    "collapsed": true
   },
   "outputs": [],
   "source": []
  },
  {
   "cell_type": "code",
   "execution_count": null,
   "metadata": {
    "collapsed": true
   },
   "outputs": [],
   "source": []
  },
  {
   "cell_type": "code",
   "execution_count": null,
   "metadata": {
    "collapsed": true
   },
   "outputs": [],
   "source": []
  },
  {
   "cell_type": "code",
   "execution_count": null,
   "metadata": {
    "collapsed": true
   },
   "outputs": [],
   "source": []
  },
  {
   "cell_type": "code",
   "execution_count": null,
   "metadata": {
    "collapsed": true
   },
   "outputs": [],
   "source": []
  },
  {
   "cell_type": "code",
   "execution_count": null,
   "metadata": {
    "collapsed": true
   },
   "outputs": [],
   "source": []
  },
  {
   "cell_type": "code",
   "execution_count": null,
   "metadata": {
    "collapsed": true
   },
   "outputs": [],
   "source": []
  },
  {
   "cell_type": "code",
   "execution_count": null,
   "metadata": {
    "collapsed": true
   },
   "outputs": [],
   "source": []
  },
  {
   "cell_type": "code",
   "execution_count": null,
   "metadata": {
    "collapsed": true
   },
   "outputs": [],
   "source": []
  },
  {
   "cell_type": "code",
   "execution_count": null,
   "metadata": {
    "collapsed": true
   },
   "outputs": [],
   "source": []
  },
  {
   "cell_type": "code",
   "execution_count": null,
   "metadata": {
    "collapsed": true
   },
   "outputs": [],
   "source": []
  },
  {
   "cell_type": "code",
   "execution_count": null,
   "metadata": {
    "collapsed": true
   },
   "outputs": [],
   "source": []
  },
  {
   "cell_type": "code",
   "execution_count": null,
   "metadata": {
    "collapsed": true
   },
   "outputs": [],
   "source": []
  },
  {
   "cell_type": "code",
   "execution_count": null,
   "metadata": {
    "collapsed": true
   },
   "outputs": [],
   "source": []
  },
  {
   "cell_type": "code",
   "execution_count": null,
   "metadata": {
    "collapsed": true
   },
   "outputs": [],
   "source": []
  },
  {
   "cell_type": "code",
   "execution_count": null,
   "metadata": {
    "collapsed": true
   },
   "outputs": [],
   "source": []
  },
  {
   "cell_type": "code",
   "execution_count": null,
   "metadata": {
    "collapsed": true
   },
   "outputs": [],
   "source": []
  },
  {
   "cell_type": "code",
   "execution_count": null,
   "metadata": {
    "collapsed": true
   },
   "outputs": [],
   "source": []
  }
 ],
 "metadata": {
  "kernelspec": {
   "display_name": "R",
   "language": "R",
   "name": "ir"
  },
  "language_info": {
   "codemirror_mode": "r",
   "file_extension": ".r",
   "mimetype": "text/x-r-source",
   "name": "R",
   "pygments_lexer": "r",
   "version": "3.4.2"
  }
 },
 "nbformat": 4,
 "nbformat_minor": 2
}
