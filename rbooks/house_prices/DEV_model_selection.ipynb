{
 "cells": [
  {
   "cell_type": "code",
   "execution_count": 3,
   "metadata": {},
   "outputs": [
    {
     "data": {
      "text/html": [
       "<table>\n",
       "<thead><tr><th scope=col>var</th><th scope=col>tran_name</th><th scope=col>progress_score</th><th scope=col>tran_fn</th></tr></thead>\n",
       "<tbody>\n",
       "\t<tr><td>GrLivArea                </td><td>log                      </td><td>91.15794                 </td><td>function (x) , log(x + 1)</td></tr>\n",
       "\t<tr><td>X1stFlrSF                </td><td>log                      </td><td>90.77166                 </td><td>function (x) , log(x + 1)</td></tr>\n",
       "\t<tr><td>BsmtUnfSF             </td><td>sqrt                  </td><td>79.97603              </td><td>function (x) , sqrt(x)</td></tr>\n",
       "\t<tr><td>LotArea               </td><td>inv4                  </td><td>78.86403              </td><td>function (x) , x^(1/4)</td></tr>\n",
       "\t<tr><td>TotRmsAbvGrd             </td><td>log                      </td><td>30.68502                 </td><td>function (x) , log(x + 1)</td></tr>\n",
       "</tbody>\n",
       "</table>\n"
      ],
      "text/latex": [
       "\\begin{tabular}{r|llll}\n",
       " var & tran\\_name & progress\\_score & tran\\_fn\\\\\n",
       "\\hline\n",
       "\t GrLivArea                 & log                       & 91.15794                  & function (x) , log(x + 1)\\\\\n",
       "\t X1stFlrSF                 & log                       & 90.77166                  & function (x) , log(x + 1)\\\\\n",
       "\t BsmtUnfSF              & sqrt                   & 79.97603               & function (x) , sqrt(x)\\\\\n",
       "\t LotArea                                  & inv4                                     & 78.86403                                 & function (x) , x\\textasciicircum{}(1/4)\\\\\n",
       "\t TotRmsAbvGrd              & log                       & 30.68502                  & function (x) , log(x + 1)\\\\\n",
       "\\end{tabular}\n"
      ],
      "text/markdown": [
       "\n",
       "var | tran_name | progress_score | tran_fn | \n",
       "|---|---|---|---|---|\n",
       "| GrLivArea                 | log                       | 91.15794                  | function (x) , log(x + 1) | \n",
       "| X1stFlrSF                 | log                       | 90.77166                  | function (x) , log(x + 1) | \n",
       "| BsmtUnfSF              | sqrt                   | 79.97603               | function (x) , sqrt(x) | \n",
       "| LotArea                | inv4                   | 78.86403               | function (x) , x^(1/4) | \n",
       "| TotRmsAbvGrd              | log                       | 30.68502                  | function (x) , log(x + 1) | \n",
       "\n",
       "\n"
      ],
      "text/plain": [
       "  var          tran_name progress_score tran_fn                  \n",
       "1 GrLivArea    log       91.15794       function (x) , log(x + 1)\n",
       "2 X1stFlrSF    log       90.77166       function (x) , log(x + 1)\n",
       "3 BsmtUnfSF    sqrt      79.97603       function (x) , sqrt(x)   \n",
       "4 LotArea      inv4      78.86403       function (x) , x^(1/4)   \n",
       "5 TotRmsAbvGrd log       30.68502       function (x) , log(x + 1)"
      ]
     },
     "metadata": {},
     "output_type": "display_data"
    },
    {
     "data": {
      "text/html": [
       "<table>\n",
       "<thead><tr><th scope=col>BsmtUnfSF.1</th><th scope=col>BsmtUnfSF.2</th><th scope=col>GrLivArea.1</th><th scope=col>GrLivArea.2</th><th scope=col>LotArea.1</th><th scope=col>LotArea.2</th><th scope=col>TotRmsAbvGrd.1</th><th scope=col>TotRmsAbvGrd.2</th><th scope=col>X1stFlrSF.1</th><th scope=col>X1stFlrSF.2</th></tr></thead>\n",
       "<tbody>\n",
       "\t<tr><td>150      </td><td>12.24745 </td><td>1710     </td><td>7.444833 </td><td> 8450    </td><td> 9.587694</td><td>8        </td><td>2.197225 </td><td> 856     </td><td>6.753438 </td></tr>\n",
       "\t<tr><td>284      </td><td>16.85230 </td><td>1262     </td><td>7.141245 </td><td> 9600    </td><td> 9.898464</td><td>6        </td><td>1.945910 </td><td>1262     </td><td>7.141245 </td></tr>\n",
       "\t<tr><td>434      </td><td>20.83267 </td><td>1786     </td><td>7.488294 </td><td>11250    </td><td>10.298836</td><td>6        </td><td>1.945910 </td><td> 920     </td><td>6.825460 </td></tr>\n",
       "\t<tr><td>540      </td><td>23.23790 </td><td>1717     </td><td>7.448916 </td><td> 9550    </td><td> 9.885550</td><td>7        </td><td>2.079442 </td><td> 961     </td><td>6.869014 </td></tr>\n",
       "\t<tr><td>490      </td><td>22.13594 </td><td>2198     </td><td>7.695758 </td><td>14260    </td><td>10.927728</td><td>9        </td><td>2.302585 </td><td>1145     </td><td>7.044033 </td></tr>\n",
       "\t<tr><td> 64      </td><td> 8.00000 </td><td>1362     </td><td>7.217443 </td><td>14115    </td><td>10.899842</td><td>5        </td><td>1.791759 </td><td> 796     </td><td>6.680855 </td></tr>\n",
       "</tbody>\n",
       "</table>\n"
      ],
      "text/latex": [
       "\\begin{tabular}{r|llllllllll}\n",
       " BsmtUnfSF.1 & BsmtUnfSF.2 & GrLivArea.1 & GrLivArea.2 & LotArea.1 & LotArea.2 & TotRmsAbvGrd.1 & TotRmsAbvGrd.2 & X1stFlrSF.1 & X1stFlrSF.2\\\\\n",
       "\\hline\n",
       "\t 150       & 12.24745  & 1710      & 7.444833  &  8450     &  9.587694 & 8         & 2.197225  &  856      & 6.753438 \\\\\n",
       "\t 284       & 16.85230  & 1262      & 7.141245  &  9600     &  9.898464 & 6         & 1.945910  & 1262      & 7.141245 \\\\\n",
       "\t 434       & 20.83267  & 1786      & 7.488294  & 11250     & 10.298836 & 6         & 1.945910  &  920      & 6.825460 \\\\\n",
       "\t 540       & 23.23790  & 1717      & 7.448916  &  9550     &  9.885550 & 7         & 2.079442  &  961      & 6.869014 \\\\\n",
       "\t 490       & 22.13594  & 2198      & 7.695758  & 14260     & 10.927728 & 9         & 2.302585  & 1145      & 7.044033 \\\\\n",
       "\t  64       &  8.00000  & 1362      & 7.217443  & 14115     & 10.899842 & 5         & 1.791759  &  796      & 6.680855 \\\\\n",
       "\\end{tabular}\n"
      ],
      "text/markdown": [
       "\n",
       "BsmtUnfSF.1 | BsmtUnfSF.2 | GrLivArea.1 | GrLivArea.2 | LotArea.1 | LotArea.2 | TotRmsAbvGrd.1 | TotRmsAbvGrd.2 | X1stFlrSF.1 | X1stFlrSF.2 | \n",
       "|---|---|---|---|---|---|\n",
       "| 150       | 12.24745  | 1710      | 7.444833  |  8450     |  9.587694 | 8         | 2.197225  |  856      | 6.753438  | \n",
       "| 284       | 16.85230  | 1262      | 7.141245  |  9600     |  9.898464 | 6         | 1.945910  | 1262      | 7.141245  | \n",
       "| 434       | 20.83267  | 1786      | 7.488294  | 11250     | 10.298836 | 6         | 1.945910  |  920      | 6.825460  | \n",
       "| 540       | 23.23790  | 1717      | 7.448916  |  9550     |  9.885550 | 7         | 2.079442  |  961      | 6.869014  | \n",
       "| 490       | 22.13594  | 2198      | 7.695758  | 14260     | 10.927728 | 9         | 2.302585  | 1145      | 7.044033  | \n",
       "|  64       |  8.00000  | 1362      | 7.217443  | 14115     | 10.899842 | 5         | 1.791759  |  796      | 6.680855  | \n",
       "\n",
       "\n"
      ],
      "text/plain": [
       "  BsmtUnfSF.1 BsmtUnfSF.2 GrLivArea.1 GrLivArea.2 LotArea.1 LotArea.2\n",
       "1 150         12.24745    1710        7.444833     8450      9.587694\n",
       "2 284         16.85230    1262        7.141245     9600      9.898464\n",
       "3 434         20.83267    1786        7.488294    11250     10.298836\n",
       "4 540         23.23790    1717        7.448916     9550      9.885550\n",
       "5 490         22.13594    2198        7.695758    14260     10.927728\n",
       "6  64          8.00000    1362        7.217443    14115     10.899842\n",
       "  TotRmsAbvGrd.1 TotRmsAbvGrd.2 X1stFlrSF.1 X1stFlrSF.2\n",
       "1 8              2.197225        856        6.753438   \n",
       "2 6              1.945910       1262        7.141245   \n",
       "3 6              1.945910        920        6.825460   \n",
       "4 7              2.079442        961        6.869014   \n",
       "5 9              2.302585       1145        7.044033   \n",
       "6 5              1.791759        796        6.680855   "
      ]
     },
     "metadata": {},
     "output_type": "display_data"
    },
    {
     "data": {
      "text/html": [
       "<table>\n",
       "<thead><tr><th scope=col>Alley.1</th><th scope=col>Alley.2</th><th scope=col>BldgType.1</th><th scope=col>BldgType.2</th><th scope=col>BsmtCond.1</th><th scope=col>BsmtCond.2</th><th scope=col>BsmtExposure.1</th><th scope=col>BsmtExposure.2</th><th scope=col>BsmtFinType1.1</th><th scope=col>BsmtFinType1.2</th><th scope=col>⋯</th><th scope=col>RoofStyle.1</th><th scope=col>RoofStyle.2</th><th scope=col>SaleCondition.1</th><th scope=col>SaleCondition.2</th><th scope=col>SaleType.1</th><th scope=col>SaleType.2</th><th scope=col>Street.1</th><th scope=col>Street.2</th><th scope=col>Utilities.1</th><th scope=col>Utilities.2</th></tr></thead>\n",
       "<tbody>\n",
       "\t<tr><td>_none_  </td><td>2.531822</td><td>1Fam    </td><td>2.564039</td><td>TA      </td><td>2.540871</td><td>No      </td><td>2.320042</td><td>GLQ     </td><td>3.262019</td><td>⋯       </td><td>Gable   </td><td>2.418054</td><td>Normal  </td><td>2.451586</td><td>WD      </td><td>2.421468</td><td>Pave    </td><td>2.499311</td><td>AllPub  </td><td>2.496911</td></tr>\n",
       "\t<tr><td>_none_  </td><td>2.531822</td><td>1Fam    </td><td>2.564039</td><td>TA      </td><td>2.540871</td><td>Gd      </td><td>3.295455</td><td>ALQ     </td><td>2.231818</td><td>⋯       </td><td>Gable   </td><td>2.418054</td><td>Normal  </td><td>2.451586</td><td>WD      </td><td>2.421468</td><td>Pave    </td><td>2.499311</td><td>AllPub  </td><td>2.496911</td></tr>\n",
       "\t<tr><td>_none_  </td><td>2.531822</td><td>1Fam    </td><td>2.564039</td><td>TA      </td><td>2.540871</td><td>Mn      </td><td>2.675439</td><td>GLQ     </td><td>3.262019</td><td>⋯       </td><td>Gable   </td><td>2.418054</td><td>Normal  </td><td>2.451586</td><td>WD      </td><td>2.421468</td><td>Pave    </td><td>2.499311</td><td>AllPub  </td><td>2.496911</td></tr>\n",
       "\t<tr><td>_none_  </td><td>2.531822</td><td>1Fam    </td><td>2.564039</td><td>Gd      </td><td>3.046154</td><td>No      </td><td>2.320042</td><td>ALQ     </td><td>2.231818</td><td>⋯       </td><td>Gable   </td><td>2.418054</td><td>Abnorml </td><td>1.920792</td><td>WD      </td><td>2.421468</td><td>Pave    </td><td>2.499311</td><td>AllPub  </td><td>2.496911</td></tr>\n",
       "\t<tr><td>_none_  </td><td>2.531822</td><td>1Fam    </td><td>2.564039</td><td>TA      </td><td>2.540871</td><td>Av      </td><td>2.900452</td><td>GLQ     </td><td>3.262019</td><td>⋯       </td><td>Gable   </td><td>2.418054</td><td>Normal  </td><td>2.451586</td><td>WD      </td><td>2.421468</td><td>Pave    </td><td>2.499311</td><td>AllPub  </td><td>2.496911</td></tr>\n",
       "\t<tr><td>_none_  </td><td>2.531822</td><td>1Fam    </td><td>2.564039</td><td>TA      </td><td>2.540871</td><td>No      </td><td>2.320042</td><td>GLQ     </td><td>3.262019</td><td>⋯       </td><td>Gable   </td><td>2.418054</td><td>Normal  </td><td>2.451586</td><td>WD      </td><td>2.421468</td><td>Pave    </td><td>2.499311</td><td>AllPub  </td><td>2.496911</td></tr>\n",
       "</tbody>\n",
       "</table>\n"
      ],
      "text/latex": [
       "\\begin{tabular}{r|llllllllllllllllllllllllllllllllllllllllllllllllllllllllllllllllllllllllllllllllllllllllll}\n",
       " Alley.1 & Alley.2 & BldgType.1 & BldgType.2 & BsmtCond.1 & BsmtCond.2 & BsmtExposure.1 & BsmtExposure.2 & BsmtFinType1.1 & BsmtFinType1.2 & ⋯ & RoofStyle.1 & RoofStyle.2 & SaleCondition.1 & SaleCondition.2 & SaleType.1 & SaleType.2 & Street.1 & Street.2 & Utilities.1 & Utilities.2\\\\\n",
       "\\hline\n",
       "\t \\_none\\_ & 2.531822   & 1Fam       & 2.564039   & TA         & 2.540871   & No         & 2.320042   & GLQ        & 3.262019   & ⋯          & Gable      & 2.418054   & Normal     & 2.451586   & WD         & 2.421468   & Pave       & 2.499311   & AllPub     & 2.496911  \\\\\n",
       "\t \\_none\\_ & 2.531822   & 1Fam       & 2.564039   & TA         & 2.540871   & Gd         & 3.295455   & ALQ        & 2.231818   & ⋯          & Gable      & 2.418054   & Normal     & 2.451586   & WD         & 2.421468   & Pave       & 2.499311   & AllPub     & 2.496911  \\\\\n",
       "\t \\_none\\_ & 2.531822   & 1Fam       & 2.564039   & TA         & 2.540871   & Mn         & 2.675439   & GLQ        & 3.262019   & ⋯          & Gable      & 2.418054   & Normal     & 2.451586   & WD         & 2.421468   & Pave       & 2.499311   & AllPub     & 2.496911  \\\\\n",
       "\t \\_none\\_ & 2.531822   & 1Fam       & 2.564039   & Gd         & 3.046154   & No         & 2.320042   & ALQ        & 2.231818   & ⋯          & Gable      & 2.418054   & Abnorml    & 1.920792   & WD         & 2.421468   & Pave       & 2.499311   & AllPub     & 2.496911  \\\\\n",
       "\t \\_none\\_ & 2.531822   & 1Fam       & 2.564039   & TA         & 2.540871   & Av         & 2.900452   & GLQ        & 3.262019   & ⋯          & Gable      & 2.418054   & Normal     & 2.451586   & WD         & 2.421468   & Pave       & 2.499311   & AllPub     & 2.496911  \\\\\n",
       "\t \\_none\\_ & 2.531822   & 1Fam       & 2.564039   & TA         & 2.540871   & No         & 2.320042   & GLQ        & 3.262019   & ⋯          & Gable      & 2.418054   & Normal     & 2.451586   & WD         & 2.421468   & Pave       & 2.499311   & AllPub     & 2.496911  \\\\\n",
       "\\end{tabular}\n"
      ],
      "text/markdown": [
       "\n",
       "Alley.1 | Alley.2 | BldgType.1 | BldgType.2 | BsmtCond.1 | BsmtCond.2 | BsmtExposure.1 | BsmtExposure.2 | BsmtFinType1.1 | BsmtFinType1.2 | ⋯ | RoofStyle.1 | RoofStyle.2 | SaleCondition.1 | SaleCondition.2 | SaleType.1 | SaleType.2 | Street.1 | Street.2 | Utilities.1 | Utilities.2 | \n",
       "|---|---|---|---|---|---|\n",
       "| _none_   | 2.531822 | 1Fam     | 2.564039 | TA       | 2.540871 | No       | 2.320042 | GLQ      | 3.262019 | ⋯        | Gable    | 2.418054 | Normal   | 2.451586 | WD       | 2.421468 | Pave     | 2.499311 | AllPub   | 2.496911 | \n",
       "| _none_   | 2.531822 | 1Fam     | 2.564039 | TA       | 2.540871 | Gd       | 3.295455 | ALQ      | 2.231818 | ⋯        | Gable    | 2.418054 | Normal   | 2.451586 | WD       | 2.421468 | Pave     | 2.499311 | AllPub   | 2.496911 | \n",
       "| _none_   | 2.531822 | 1Fam     | 2.564039 | TA       | 2.540871 | Mn       | 2.675439 | GLQ      | 3.262019 | ⋯        | Gable    | 2.418054 | Normal   | 2.451586 | WD       | 2.421468 | Pave     | 2.499311 | AllPub   | 2.496911 | \n",
       "| _none_   | 2.531822 | 1Fam     | 2.564039 | Gd       | 3.046154 | No       | 2.320042 | ALQ      | 2.231818 | ⋯        | Gable    | 2.418054 | Abnorml  | 1.920792 | WD       | 2.421468 | Pave     | 2.499311 | AllPub   | 2.496911 | \n",
       "| _none_   | 2.531822 | 1Fam     | 2.564039 | TA       | 2.540871 | Av       | 2.900452 | GLQ      | 3.262019 | ⋯        | Gable    | 2.418054 | Normal   | 2.451586 | WD       | 2.421468 | Pave     | 2.499311 | AllPub   | 2.496911 | \n",
       "| _none_   | 2.531822 | 1Fam     | 2.564039 | TA       | 2.540871 | No       | 2.320042 | GLQ      | 3.262019 | ⋯        | Gable    | 2.418054 | Normal   | 2.451586 | WD       | 2.421468 | Pave     | 2.499311 | AllPub   | 2.496911 | \n",
       "\n",
       "\n"
      ],
      "text/plain": [
       "  Alley.1 Alley.2  BldgType.1 BldgType.2 BsmtCond.1 BsmtCond.2 BsmtExposure.1\n",
       "1 _none_  2.531822 1Fam       2.564039   TA         2.540871   No            \n",
       "2 _none_  2.531822 1Fam       2.564039   TA         2.540871   Gd            \n",
       "3 _none_  2.531822 1Fam       2.564039   TA         2.540871   Mn            \n",
       "4 _none_  2.531822 1Fam       2.564039   Gd         3.046154   No            \n",
       "5 _none_  2.531822 1Fam       2.564039   TA         2.540871   Av            \n",
       "6 _none_  2.531822 1Fam       2.564039   TA         2.540871   No            \n",
       "  BsmtExposure.2 BsmtFinType1.1 BsmtFinType1.2 ⋯ RoofStyle.1 RoofStyle.2\n",
       "1 2.320042       GLQ            3.262019       ⋯ Gable       2.418054   \n",
       "2 3.295455       ALQ            2.231818       ⋯ Gable       2.418054   \n",
       "3 2.675439       GLQ            3.262019       ⋯ Gable       2.418054   \n",
       "4 2.320042       ALQ            2.231818       ⋯ Gable       2.418054   \n",
       "5 2.900452       GLQ            3.262019       ⋯ Gable       2.418054   \n",
       "6 2.320042       GLQ            3.262019       ⋯ Gable       2.418054   \n",
       "  SaleCondition.1 SaleCondition.2 SaleType.1 SaleType.2 Street.1 Street.2\n",
       "1 Normal          2.451586        WD         2.421468   Pave     2.499311\n",
       "2 Normal          2.451586        WD         2.421468   Pave     2.499311\n",
       "3 Normal          2.451586        WD         2.421468   Pave     2.499311\n",
       "4 Abnorml         1.920792        WD         2.421468   Pave     2.499311\n",
       "5 Normal          2.451586        WD         2.421468   Pave     2.499311\n",
       "6 Normal          2.451586        WD         2.421468   Pave     2.499311\n",
       "  Utilities.1 Utilities.2\n",
       "1 AllPub      2.496911   \n",
       "2 AllPub      2.496911   \n",
       "3 AllPub      2.496911   \n",
       "4 AllPub      2.496911   \n",
       "5 AllPub      2.496911   \n",
       "6 AllPub      2.496911   "
      ]
     },
     "metadata": {},
     "output_type": "display_data"
    }
   ],
   "source": [
    "setwd(paste0(Sys.getenv('R_SOURCES'), '/house_prices'))\n",
    "house_prices <- source('main.R', local = TRUE)$value\n",
    "\n",
    "combined_dataset_step1 <-\n",
    "    # load data\n",
    "    house_prices$helpers$load_data() %>%\n",
    "    # remove outliers\n",
    "    (house_prices$outliers$remove_outliers) %>%\n",
    "    # fix NA values\n",
    "    (house_prices$missing$fix_all) %>%\n",
    "    # transform Y-variable\n",
    "    mutate(\n",
    "        price_log = log(SalePrice)\n",
    "    ) %>%\n",
    "    # remove redundant variables\n",
    "    select(-SalePrice, -Id) %>%\n",
    "    select(order(colnames(.)))\n",
    "\n",
    "################################\n",
    "# transform numeric predictors #\n",
    "################################\n",
    "\n",
    "c(combined_dataset_step2, trans_config) %<-%\n",
    "    house_prices$trans$numeric$functional_transform(\n",
    "        data = combined_dataset_step1,\n",
    "        trans = tribble(\n",
    "            ~tran_name,  ~tran_fn,\n",
    "            'log',       function(x) log(x+1),\n",
    "            'sqrt',      function(x) sqrt(x),\n",
    "            'inv3',      function(x) x**(1/3),\n",
    "            'inv4',      function(x) x**(1/4)\n",
    "        ),\n",
    "        target_var = price_log,        \n",
    "        threshold = 30\n",
    "    )    \n",
    "combined_dataset_step2 <- combined_dataset_step2 %>% select(order(colnames(.)))\n",
    "                \n",
    "trans_config\n",
    "\n",
    "house_prices$helpers$utils$frames_diff(\n",
    "    combined_dataset_step1, \n",
    "    combined_dataset_step2\n",
    ") %>% head\n",
    "\n",
    "####################################                \n",
    "# transform categorical predictors #\n",
    "####################################\n",
    "combined_dataset_step3 <- \n",
    "    house_prices$trans$categ$rating_transform(\n",
    "        data = combined_dataset_step2, \n",
    "        target_var = price_log\n",
    "    ) %>% \n",
    "    select(order(colnames(.)))\n",
    "\n",
    "house_prices$helpers$utils$frames_diff(\n",
    "    combined_dataset_step2, \n",
    "    combined_dataset_step3\n",
    ") %>% head"
   ]
  },
  {
   "cell_type": "code",
   "execution_count": 6,
   "metadata": {},
   "outputs": [
    {
     "data": {
      "text/html": [
       "<table>\n",
       "<thead><tr><th scope=col>Alley</th><th scope=col>BedroomAbvGr</th><th scope=col>BldgType</th><th scope=col>BsmtCond</th><th scope=col>BsmtExposure</th><th scope=col>BsmtFinSF1</th><th scope=col>BsmtFinSF2</th><th scope=col>BsmtFinType1</th><th scope=col>BsmtFinType2</th><th scope=col>BsmtFullBath</th><th scope=col>⋯</th><th scope=col>TotalBsmtSF</th><th scope=col>TotRmsAbvGrd</th><th scope=col>Utilities</th><th scope=col>WoodDeckSF</th><th scope=col>X1stFlrSF</th><th scope=col>X2ndFlrSF</th><th scope=col>X3SsnPorch</th><th scope=col>YearBuilt</th><th scope=col>YearRemodAdd</th><th scope=col>YrSold</th></tr></thead>\n",
       "<tbody>\n",
       "\t<tr><td>2.531822</td><td>3       </td><td>2.564039</td><td>2.540871</td><td>2.320042</td><td>706     </td><td>0       </td><td>3.262019</td><td>2.553429</td><td>1       </td><td>⋯       </td><td> 856    </td><td>2.197225</td><td>2.496911</td><td>  0     </td><td>6.753438</td><td>854     </td><td>0       </td><td>2003    </td><td>2003    </td><td>2008    </td></tr>\n",
       "\t<tr><td>2.531822</td><td>3       </td><td>2.564039</td><td>2.540871</td><td>3.295455</td><td>978     </td><td>0       </td><td>2.231818</td><td>2.553429</td><td>0       </td><td>⋯       </td><td>1262    </td><td>1.945910</td><td>2.496911</td><td>298     </td><td>7.141245</td><td>  0     </td><td>0       </td><td>1976    </td><td>1976    </td><td>2007    </td></tr>\n",
       "\t<tr><td>2.531822</td><td>3       </td><td>2.564039</td><td>2.540871</td><td>2.675439</td><td>486     </td><td>0       </td><td>3.262019</td><td>2.553429</td><td>1       </td><td>⋯       </td><td> 920    </td><td>1.945910</td><td>2.496911</td><td>  0     </td><td>6.825460</td><td>866     </td><td>0       </td><td>2001    </td><td>2002    </td><td>2008    </td></tr>\n",
       "\t<tr><td>2.531822</td><td>3       </td><td>2.564039</td><td>3.046154</td><td>2.320042</td><td>216     </td><td>0       </td><td>2.231818</td><td>2.553429</td><td>1       </td><td>⋯       </td><td> 756    </td><td>2.079442</td><td>2.496911</td><td>  0     </td><td>6.869014</td><td>756     </td><td>0       </td><td>1915    </td><td>1970    </td><td>2006    </td></tr>\n",
       "</tbody>\n",
       "</table>\n"
      ],
      "text/latex": [
       "\\begin{tabular}{r|llllllllllllllllllllllllllllllllllllllllllllllllllllllllllllllllllllllllllllllll}\n",
       " Alley & BedroomAbvGr & BldgType & BsmtCond & BsmtExposure & BsmtFinSF1 & BsmtFinSF2 & BsmtFinType1 & BsmtFinType2 & BsmtFullBath & ⋯ & TotalBsmtSF & TotRmsAbvGrd & Utilities & WoodDeckSF & X1stFlrSF & X2ndFlrSF & X3SsnPorch & YearBuilt & YearRemodAdd & YrSold\\\\\n",
       "\\hline\n",
       "\t 2.531822 & 3        & 2.564039 & 2.540871 & 2.320042 & 706      & 0        & 3.262019 & 2.553429 & 1        & ⋯        &  856     & 2.197225 & 2.496911 &   0      & 6.753438 & 854      & 0        & 2003     & 2003     & 2008    \\\\\n",
       "\t 2.531822 & 3        & 2.564039 & 2.540871 & 3.295455 & 978      & 0        & 2.231818 & 2.553429 & 0        & ⋯        & 1262     & 1.945910 & 2.496911 & 298      & 7.141245 &   0      & 0        & 1976     & 1976     & 2007    \\\\\n",
       "\t 2.531822 & 3        & 2.564039 & 2.540871 & 2.675439 & 486      & 0        & 3.262019 & 2.553429 & 1        & ⋯        &  920     & 1.945910 & 2.496911 &   0      & 6.825460 & 866      & 0        & 2001     & 2002     & 2008    \\\\\n",
       "\t 2.531822 & 3        & 2.564039 & 3.046154 & 2.320042 & 216      & 0        & 2.231818 & 2.553429 & 1        & ⋯        &  756     & 2.079442 & 2.496911 &   0      & 6.869014 & 756      & 0        & 1915     & 1970     & 2006    \\\\\n",
       "\\end{tabular}\n"
      ],
      "text/markdown": [
       "\n",
       "Alley | BedroomAbvGr | BldgType | BsmtCond | BsmtExposure | BsmtFinSF1 | BsmtFinSF2 | BsmtFinType1 | BsmtFinType2 | BsmtFullBath | ⋯ | TotalBsmtSF | TotRmsAbvGrd | Utilities | WoodDeckSF | X1stFlrSF | X2ndFlrSF | X3SsnPorch | YearBuilt | YearRemodAdd | YrSold | \n",
       "|---|---|---|---|\n",
       "| 2.531822 | 3        | 2.564039 | 2.540871 | 2.320042 | 706      | 0        | 3.262019 | 2.553429 | 1        | ⋯        |  856     | 2.197225 | 2.496911 |   0      | 6.753438 | 854      | 0        | 2003     | 2003     | 2008     | \n",
       "| 2.531822 | 3        | 2.564039 | 2.540871 | 3.295455 | 978      | 0        | 2.231818 | 2.553429 | 0        | ⋯        | 1262     | 1.945910 | 2.496911 | 298      | 7.141245 |   0      | 0        | 1976     | 1976     | 2007     | \n",
       "| 2.531822 | 3        | 2.564039 | 2.540871 | 2.675439 | 486      | 0        | 3.262019 | 2.553429 | 1        | ⋯        |  920     | 1.945910 | 2.496911 |   0      | 6.825460 | 866      | 0        | 2001     | 2002     | 2008     | \n",
       "| 2.531822 | 3        | 2.564039 | 3.046154 | 2.320042 | 216      | 0        | 2.231818 | 2.553429 | 1        | ⋯        |  756     | 2.079442 | 2.496911 |   0      | 6.869014 | 756      | 0        | 1915     | 1970     | 2006     | \n",
       "\n",
       "\n"
      ],
      "text/plain": [
       "  Alley    BedroomAbvGr BldgType BsmtCond BsmtExposure BsmtFinSF1 BsmtFinSF2\n",
       "1 2.531822 3            2.564039 2.540871 2.320042     706        0         \n",
       "2 2.531822 3            2.564039 2.540871 3.295455     978        0         \n",
       "3 2.531822 3            2.564039 2.540871 2.675439     486        0         \n",
       "4 2.531822 3            2.564039 3.046154 2.320042     216        0         \n",
       "  BsmtFinType1 BsmtFinType2 BsmtFullBath ⋯ TotalBsmtSF TotRmsAbvGrd Utilities\n",
       "1 3.262019     2.553429     1            ⋯  856        2.197225     2.496911 \n",
       "2 2.231818     2.553429     0            ⋯ 1262        1.945910     2.496911 \n",
       "3 3.262019     2.553429     1            ⋯  920        1.945910     2.496911 \n",
       "4 2.231818     2.553429     1            ⋯  756        2.079442     2.496911 \n",
       "  WoodDeckSF X1stFlrSF X2ndFlrSF X3SsnPorch YearBuilt YearRemodAdd YrSold\n",
       "1   0        6.753438  854       0          2003      2003         2008  \n",
       "2 298        7.141245    0       0          1976      1976         2007  \n",
       "3   0        6.825460  866       0          2001      2002         2008  \n",
       "4   0        6.869014  756       0          1915      1970         2006  "
      ]
     },
     "metadata": {},
     "output_type": "display_data"
    }
   ],
   "source": [
    "train_data <-\n",
    "    combined_dataset_step3 %>% \n",
    "    filter(dataSource == 'train') %>% \n",
    "    select(-dataSource)\n",
    "\n",
    "train_data %>% head(4)"
   ]
  },
  {
   "cell_type": "code",
   "execution_count": 135,
   "metadata": {},
   "outputs": [
    {
     "data": {
      "text/html": [
       "<table>\n",
       "<thead><tr><th scope=col>predictor</th><th scope=col>formula</th><th scope=col>r2</th></tr></thead>\n",
       "<tbody>\n",
       "\t<tr><td>OverallQual             </td><td>price_log ~ OverallQual </td><td>0.6747053               </td></tr>\n",
       "\t<tr><td>Neighborhood            </td><td>price_log ~ Neighborhood</td><td>0.5477089               </td></tr>\n",
       "\t<tr><td>GrLivArea               </td><td>price_log ~ GrLivArea   </td><td>0.5438044               </td></tr>\n",
       "\t<tr><td>GarageCars              </td><td>price_log ~ GarageCars  </td><td>0.4638054               </td></tr>\n",
       "\t<tr><td>ExterQual               </td><td>price_log ~ ExterQual   </td><td>0.4452394               </td></tr>\n",
       "\t<tr><td>BsmtQual                </td><td>price_log ~ BsmtQual    </td><td>0.4353085               </td></tr>\n",
       "</tbody>\n",
       "</table>\n"
      ],
      "text/latex": [
       "\\begin{tabular}{r|lll}\n",
       " predictor & formula & r2\\\\\n",
       "\\hline\n",
       "\t OverallQual                                 & price\\_log \\textasciitilde{} OverallQual  & 0.6747053                                  \\\\\n",
       "\t Neighborhood                                & price\\_log \\textasciitilde{} Neighborhood & 0.5477089                                  \\\\\n",
       "\t GrLivArea                                   & price\\_log \\textasciitilde{} GrLivArea    & 0.5438044                                  \\\\\n",
       "\t GarageCars                                  & price\\_log \\textasciitilde{} GarageCars   & 0.4638054                                  \\\\\n",
       "\t ExterQual                                   & price\\_log \\textasciitilde{} ExterQual    & 0.4452394                                  \\\\\n",
       "\t BsmtQual                                    & price\\_log \\textasciitilde{} BsmtQual     & 0.4353085                                  \\\\\n",
       "\\end{tabular}\n"
      ],
      "text/markdown": [
       "\n",
       "predictor | formula | r2 | \n",
       "|---|---|---|---|---|---|\n",
       "| OverallQual              | price_log ~ OverallQual  | 0.6747053                | \n",
       "| Neighborhood             | price_log ~ Neighborhood | 0.5477089                | \n",
       "| GrLivArea                | price_log ~ GrLivArea    | 0.5438044                | \n",
       "| GarageCars               | price_log ~ GarageCars   | 0.4638054                | \n",
       "| ExterQual                | price_log ~ ExterQual    | 0.4452394                | \n",
       "| BsmtQual                 | price_log ~ BsmtQual     | 0.4353085                | \n",
       "\n",
       "\n"
      ],
      "text/plain": [
       "  predictor    formula                  r2       \n",
       "1 OverallQual  price_log ~ OverallQual  0.6747053\n",
       "2 Neighborhood price_log ~ Neighborhood 0.5477089\n",
       "3 GrLivArea    price_log ~ GrLivArea    0.5438044\n",
       "4 GarageCars   price_log ~ GarageCars   0.4638054\n",
       "5 ExterQual    price_log ~ ExterQual    0.4452394\n",
       "6 BsmtQual     price_log ~ BsmtQual     0.4353085"
      ]
     },
     "metadata": {},
     "output_type": "display_data"
    }
   ],
   "source": [
    "house_prices <- source('main.R', local = TRUE)$value\n",
    "\n",
    "step1 <- house_prices$model_selection$lm$find_initial_best_r2_predictor(\n",
    "    data = train_data,\n",
    "    target_var = price_log, \n",
    "    r2_discard_level = 0.02\n",
    ")\n",
    "\n",
    "step1 %>% head"
   ]
  },
  {
   "cell_type": "code",
   "execution_count": 141,
   "metadata": {},
   "outputs": [
    {
     "name": "stdout",
     "output_type": "stream",
     "text": [
      "[1] \"OverallQual\"\n",
      " [1] \"Neighborhood\"  \"GrLivArea\"     \"GarageCars\"    \"ExterQual\"    \n",
      " [5] \"BsmtQual\"      \"KitchenQual\"   \"GarageArea\"    \"TotalBsmtSF\"  \n",
      " [9] \"X1stFlrSF\"     \"GarageFinish\"  \"FullBath\"      \"YearBuilt\"    \n",
      "[13] \"GarageType\"    \"MSSubClass\"    \"YearRemodAdd\"  \"FireplaceQu\"  \n",
      "[17] \"Foundation\"    \"TotRmsAbvGrd\"  \"Fireplaces\"    \"HeatingQC\"    \n",
      "[21] \"BsmtFinType1\"  \"MasVnrType\"    \"MasVnrArea\"    \"Exterior1st\"  \n",
      "[25] \"Exterior2nd\"   \"MSZoning\"      \"LotArea\"       \"BsmtFinSF1\"   \n",
      "[29] \"GarageCond\"    \"BsmtExposure\"  \"GarageQual\"    \"SaleCondition\"\n",
      "[33] \"CentralAir\"    \"GarageYrBlt\"   \"SaleType\"      \"WoodDeckSF\"   \n",
      "[37] \"OpenPorchSF\"   \"X2ndFlrSF\"     \"HouseStyle\"    \"HalfBath\"     \n",
      "[41] \"Electrical\"    \"PavedDrive\"    \"LotShape\"      \"BsmtCond\"     \n",
      "[45] \"BsmtFullBath\"  \"BsmtUnfSF\"     \"ExterCond\"     \"BedroomAbvGr\" \n",
      "[49] \"BsmtFinType2\"  \"Fence\"         \"RoofStyle\"     \"Condition1\"   \n",
      "[53] \"BldgType\"      \"LotFrontage\"   \"Heating\"       \"Alley\"        \n",
      "[57] \"LandContour\"   \"LotConfig\"     \"Functional\"    \"EnclosedPorch\"\n",
      "[61] \"KitchenAbvGr\" \n"
     ]
    },
    {
     "data": {
      "text/html": [
       "<table>\n",
       "<thead><tr><th scope=col>predictor</th><th scope=col>formula</th><th scope=col>base_r2</th><th scope=col>r2</th><th scope=col>r2_gain</th><th scope=col>cor_abs_max</th><th scope=col>cor_abs_avg</th><th scope=col>r2_gain_adj</th></tr></thead>\n",
       "<tbody>\n",
       "\t<tr><td>GrLivArea                             </td><td>price_log ~ OverallQual + GrLivArea   </td><td>0.6747053                             </td><td>0.7641906                             </td><td>13.262860                             </td><td>0.6088750                             </td><td>0.6088750                             </td><td>13.262860                             </td></tr>\n",
       "\t<tr><td>X1stFlrSF                             </td><td>price_log ~ OverallQual + X1stFlrSF   </td><td>0.6747053                             </td><td>0.7512111                             </td><td>11.339139                             </td><td>0.4481937                             </td><td>0.4481937                             </td><td>11.339139                             </td></tr>\n",
       "\t<tr><td>LotArea                               </td><td>price_log ~ OverallQual + LotArea     </td><td>0.6747053                             </td><td>0.7462617                             </td><td>10.605577                             </td><td>0.1645073                             </td><td>0.1645073                             </td><td>10.605577                             </td></tr>\n",
       "\t<tr><td>Neighborhood                          </td><td>price_log ~ OverallQual + Neighborhood</td><td>0.6747053                             </td><td>0.7363907                             </td><td> 9.142558                             </td><td>0.6790092                             </td><td>0.6790092                             </td><td> 9.142558                             </td></tr>\n",
       "\t<tr><td>TotalBsmtSF                           </td><td>price_log ~ OverallQual + TotalBsmtSF </td><td>0.6747053                             </td><td>0.7339942                             </td><td> 8.787371                             </td><td>0.5385945                             </td><td>0.5385945                             </td><td> 8.787371                             </td></tr>\n",
       "\t<tr><td>GarageArea                            </td><td>price_log ~ OverallQual + GarageArea  </td><td>0.6747053                             </td><td>0.7318042                             </td><td> 8.462784                             </td><td>0.5572300                             </td><td>0.5572300                             </td><td> 8.462784                             </td></tr>\n",
       "</tbody>\n",
       "</table>\n"
      ],
      "text/latex": [
       "\\begin{tabular}{r|llllllll}\n",
       " predictor & formula & base\\_r2 & r2 & r2\\_gain & cor\\_abs\\_max & cor\\_abs\\_avg & r2\\_gain\\_adj\\\\\n",
       "\\hline\n",
       "\t GrLivArea                                                 & price\\_log \\textasciitilde{} OverallQual + GrLivArea    & 0.6747053                                                 & 0.7641906                                                 & 13.262860                                                 & 0.6088750                                                 & 0.6088750                                                 & 13.262860                                                \\\\\n",
       "\t X1stFlrSF                                                 & price\\_log \\textasciitilde{} OverallQual + X1stFlrSF    & 0.6747053                                                 & 0.7512111                                                 & 11.339139                                                 & 0.4481937                                                 & 0.4481937                                                 & 11.339139                                                \\\\\n",
       "\t LotArea                                                   & price\\_log \\textasciitilde{} OverallQual + LotArea      & 0.6747053                                                 & 0.7462617                                                 & 10.605577                                                 & 0.1645073                                                 & 0.1645073                                                 & 10.605577                                                \\\\\n",
       "\t Neighborhood                                              & price\\_log \\textasciitilde{} OverallQual + Neighborhood & 0.6747053                                                 & 0.7363907                                                 &  9.142558                                                 & 0.6790092                                                 & 0.6790092                                                 &  9.142558                                                \\\\\n",
       "\t TotalBsmtSF                                               & price\\_log \\textasciitilde{} OverallQual + TotalBsmtSF  & 0.6747053                                                 & 0.7339942                                                 &  8.787371                                                 & 0.5385945                                                 & 0.5385945                                                 &  8.787371                                                \\\\\n",
       "\t GarageArea                                                & price\\_log \\textasciitilde{} OverallQual + GarageArea   & 0.6747053                                                 & 0.7318042                                                 &  8.462784                                                 & 0.5572300                                                 & 0.5572300                                                 &  8.462784                                                \\\\\n",
       "\\end{tabular}\n"
      ],
      "text/markdown": [
       "\n",
       "predictor | formula | base_r2 | r2 | r2_gain | cor_abs_max | cor_abs_avg | r2_gain_adj | \n",
       "|---|---|---|---|---|---|\n",
       "| GrLivArea                              | price_log ~ OverallQual + GrLivArea    | 0.6747053                              | 0.7641906                              | 13.262860                              | 0.6088750                              | 0.6088750                              | 13.262860                              | \n",
       "| X1stFlrSF                              | price_log ~ OverallQual + X1stFlrSF    | 0.6747053                              | 0.7512111                              | 11.339139                              | 0.4481937                              | 0.4481937                              | 11.339139                              | \n",
       "| LotArea                                | price_log ~ OverallQual + LotArea      | 0.6747053                              | 0.7462617                              | 10.605577                              | 0.1645073                              | 0.1645073                              | 10.605577                              | \n",
       "| Neighborhood                           | price_log ~ OverallQual + Neighborhood | 0.6747053                              | 0.7363907                              |  9.142558                              | 0.6790092                              | 0.6790092                              |  9.142558                              | \n",
       "| TotalBsmtSF                            | price_log ~ OverallQual + TotalBsmtSF  | 0.6747053                              | 0.7339942                              |  8.787371                              | 0.5385945                              | 0.5385945                              |  8.787371                              | \n",
       "| GarageArea                             | price_log ~ OverallQual + GarageArea   | 0.6747053                              | 0.7318042                              |  8.462784                              | 0.5572300                              | 0.5572300                              |  8.462784                              | \n",
       "\n",
       "\n"
      ],
      "text/plain": [
       "  predictor    formula                                base_r2   r2       \n",
       "1 GrLivArea    price_log ~ OverallQual + GrLivArea    0.6747053 0.7641906\n",
       "2 X1stFlrSF    price_log ~ OverallQual + X1stFlrSF    0.6747053 0.7512111\n",
       "3 LotArea      price_log ~ OverallQual + LotArea      0.6747053 0.7462617\n",
       "4 Neighborhood price_log ~ OverallQual + Neighborhood 0.6747053 0.7363907\n",
       "5 TotalBsmtSF  price_log ~ OverallQual + TotalBsmtSF  0.6747053 0.7339942\n",
       "6 GarageArea   price_log ~ OverallQual + GarageArea   0.6747053 0.7318042\n",
       "  r2_gain   cor_abs_max cor_abs_avg r2_gain_adj\n",
       "1 13.262860 0.6088750   0.6088750   13.262860  \n",
       "2 11.339139 0.4481937   0.4481937   11.339139  \n",
       "3 10.605577 0.1645073   0.1645073   10.605577  \n",
       "4  9.142558 0.6790092   0.6790092    9.142558  \n",
       "5  8.787371 0.5385945   0.5385945    8.787371  \n",
       "6  8.462784 0.5572300   0.5572300    8.462784  "
      ]
     },
     "metadata": {},
     "output_type": "display_data"
    }
   ],
   "source": [
    "house_prices <- source('main.R', local = TRUE)$value\n",
    "\n",
    "step2 <- house_prices$model_selection$lm$find_next_best_r2_predictor(\n",
    "    data = train_data, \n",
    "    base_formula_str = step1[[1, 'formula']], \n",
    "    predictors = step1$predictor,\n",
    "    r2_gain_discard_level = 0.5,\n",
    "    a_max = 0, \n",
    "    a_avg = 0\n",
    ")\n",
    "\n",
    "step2 %>% head"
   ]
  },
  {
   "cell_type": "code",
   "execution_count": 152,
   "metadata": {},
   "outputs": [
    {
     "data": {
      "text/html": [
       "<table>\n",
       "<thead><tr><th scope=col>predictor</th><th scope=col>formula</th><th scope=col>r2</th><th scope=col>step</th><th scope=col>base_r2</th><th scope=col>r2_gain</th><th scope=col>cor_abs_max</th><th scope=col>cor_abs_avg</th><th scope=col>r2_gain_adj</th></tr></thead>\n",
       "<tbody>\n",
       "\t<tr><td>OverallQual                                                                                                                     </td><td>price_log ~ OverallQual                                                                                                         </td><td>0.6747053                                                                                                                       </td><td>1                                                                                                                               </td><td>       NA                                                                                                                       </td><td>        NA                                                                                                                      </td><td>       NA                                                                                                                       </td><td>       NA                                                                                                                       </td><td>        NA                                                                                                                      </td></tr>\n",
       "\t<tr><td>GrLivArea                                                                                                                       </td><td>price_log ~ OverallQual + GrLivArea                                                                                             </td><td>0.7641906                                                                                                                       </td><td>2                                                                                                                               </td><td>0.6747053                                                                                                                       </td><td>13.2628602                                                                                                                      </td><td>0.6088750                                                                                                                       </td><td>0.6088750                                                                                                                       </td><td>13.2628602                                                                                                                      </td></tr>\n",
       "\t<tr><td>Neighborhood                                                                                                                    </td><td>price_log ~ OverallQual + GrLivArea + Neighborhood                                                                              </td><td>0.8132790                                                                                                                       </td><td>3                                                                                                                               </td><td>0.7641906                                                                                                                       </td><td> 6.4235833                                                                                                                      </td><td>0.6790092                                                                                                                       </td><td>0.5732441                                                                                                                       </td><td> 6.4235833                                                                                                                      </td></tr>\n",
       "\t<tr><td>BsmtFinSF1                                                                                                                      </td><td>price_log ~ OverallQual + GrLivArea + Neighborhood + BsmtFinSF1                                                                 </td><td>0.8493875                                                                                                                       </td><td>4                                                                                                                               </td><td>0.8132790                                                                                                                       </td><td> 4.4398744                                                                                                                      </td><td>0.2426179                                                                                                                       </td><td>0.1983661                                                                                                                       </td><td> 4.4398744                                                                                                                      </td></tr>\n",
       "\t<tr><td>GarageArea                                                                                                                      </td><td>price_log ~ OverallQual + GrLivArea + Neighborhood + BsmtFinSF1 + GarageArea                                                    </td><td>0.8611900                                                                                                                       </td><td>5                                                                                                                               </td><td>0.8493875                                                                                                                       </td><td> 1.3895276                                                                                                                      </td><td>0.5572300                                                                                                                       </td><td>0.4547195                                                                                                                       </td><td> 1.3895276                                                                                                                      </td></tr>\n",
       "\t<tr><td>CentralAir                                                                                                                      </td><td>price_log ~ OverallQual + GrLivArea + Neighborhood + BsmtFinSF1 + GarageArea + CentralAir                                       </td><td>0.8702618                                                                                                                       </td><td>6                                                                                                                               </td><td>0.8611900                                                                                                                       </td><td> 1.0533979                                                                                                                      </td><td>0.2725223                                                                                                                       </td><td>0.2138656                                                                                                                       </td><td> 1.0533979                                                                                                                      </td></tr>\n",
       "\t<tr><td>LotArea                                                                                                                         </td><td>price_log ~ OverallQual + GrLivArea + Neighborhood + BsmtFinSF1 + GarageArea + CentralAir + LotArea                             </td><td>0.8776064                                                                                                                       </td><td>7                                                                                                                               </td><td>0.8702618                                                                                                                       </td><td> 0.8439511                                                                                                                      </td><td>0.3697551                                                                                                                       </td><td>0.2320913                                                                                                                       </td><td> 0.8439511                                                                                                                      </td></tr>\n",
       "\t<tr><td>YearRemodAdd                                                                                                                    </td><td>price_log ~ OverallQual + GrLivArea + Neighborhood + BsmtFinSF1 + GarageArea + CentralAir + LotArea + YearRemodAdd              </td><td>0.8859860                                                                                                                       </td><td>8                                                                                                                               </td><td>0.8776064                                                                                                                       </td><td> 0.9548328                                                                                                                      </td><td>0.5498273                                                                                                                       </td><td>0.3163918                                                                                                                       </td><td> 0.9548328                                                                                                                      </td></tr>\n",
       "\t<tr><td>TotalBsmtSF                                                                                                                     </td><td>price_log ~ OverallQual + GrLivArea + Neighborhood + BsmtFinSF1 + GarageArea + CentralAir + LotArea + YearRemodAdd + TotalBsmtSF</td><td>0.8914477                                                                                                                       </td><td>9                                                                                                                               </td><td>0.8859860                                                                                                                       </td><td> 0.6164546                                                                                                                      </td><td>0.5385945                                                                                                                       </td><td>0.4008991                                                                                                                       </td><td> 0.6164546                                                                                                                      </td></tr>\n",
       "</tbody>\n",
       "</table>\n"
      ],
      "text/latex": [
       "\\begin{tabular}{r|lllllllll}\n",
       " predictor & formula & r2 & step & base\\_r2 & r2\\_gain & cor\\_abs\\_max & cor\\_abs\\_avg & r2\\_gain\\_adj\\\\\n",
       "\\hline\n",
       "\t OverallQual                                                                                                                                         & price\\_log \\textasciitilde{} OverallQual                                                                                                          & 0.6747053                                                                                                                                           & 1                                                                                                                                                   &        NA                                                                                                                                           &         NA                                                                                                                                          &        NA                                                                                                                                           &        NA                                                                                                                                           &         NA                                                                                                                                         \\\\\n",
       "\t GrLivArea                                                                                                                                           & price\\_log \\textasciitilde{} OverallQual + GrLivArea                                                                                              & 0.7641906                                                                                                                                           & 2                                                                                                                                                   & 0.6747053                                                                                                                                           & 13.2628602                                                                                                                                          & 0.6088750                                                                                                                                           & 0.6088750                                                                                                                                           & 13.2628602                                                                                                                                         \\\\\n",
       "\t Neighborhood                                                                                                                                        & price\\_log \\textasciitilde{} OverallQual + GrLivArea + Neighborhood                                                                               & 0.8132790                                                                                                                                           & 3                                                                                                                                                   & 0.7641906                                                                                                                                           &  6.4235833                                                                                                                                          & 0.6790092                                                                                                                                           & 0.5732441                                                                                                                                           &  6.4235833                                                                                                                                         \\\\\n",
       "\t BsmtFinSF1                                                                                                                                          & price\\_log \\textasciitilde{} OverallQual + GrLivArea + Neighborhood + BsmtFinSF1                                                                  & 0.8493875                                                                                                                                           & 4                                                                                                                                                   & 0.8132790                                                                                                                                           &  4.4398744                                                                                                                                          & 0.2426179                                                                                                                                           & 0.1983661                                                                                                                                           &  4.4398744                                                                                                                                         \\\\\n",
       "\t GarageArea                                                                                                                                          & price\\_log \\textasciitilde{} OverallQual + GrLivArea + Neighborhood + BsmtFinSF1 + GarageArea                                                     & 0.8611900                                                                                                                                           & 5                                                                                                                                                   & 0.8493875                                                                                                                                           &  1.3895276                                                                                                                                          & 0.5572300                                                                                                                                           & 0.4547195                                                                                                                                           &  1.3895276                                                                                                                                         \\\\\n",
       "\t CentralAir                                                                                                                                          & price\\_log \\textasciitilde{} OverallQual + GrLivArea + Neighborhood + BsmtFinSF1 + GarageArea + CentralAir                                        & 0.8702618                                                                                                                                           & 6                                                                                                                                                   & 0.8611900                                                                                                                                           &  1.0533979                                                                                                                                          & 0.2725223                                                                                                                                           & 0.2138656                                                                                                                                           &  1.0533979                                                                                                                                         \\\\\n",
       "\t LotArea                                                                                                                                             & price\\_log \\textasciitilde{} OverallQual + GrLivArea + Neighborhood + BsmtFinSF1 + GarageArea + CentralAir + LotArea                              & 0.8776064                                                                                                                                           & 7                                                                                                                                                   & 0.8702618                                                                                                                                           &  0.8439511                                                                                                                                          & 0.3697551                                                                                                                                           & 0.2320913                                                                                                                                           &  0.8439511                                                                                                                                         \\\\\n",
       "\t YearRemodAdd                                                                                                                                        & price\\_log \\textasciitilde{} OverallQual + GrLivArea + Neighborhood + BsmtFinSF1 + GarageArea + CentralAir + LotArea + YearRemodAdd               & 0.8859860                                                                                                                                           & 8                                                                                                                                                   & 0.8776064                                                                                                                                           &  0.9548328                                                                                                                                          & 0.5498273                                                                                                                                           & 0.3163918                                                                                                                                           &  0.9548328                                                                                                                                         \\\\\n",
       "\t TotalBsmtSF                                                                                                                                         & price\\_log \\textasciitilde{} OverallQual + GrLivArea + Neighborhood + BsmtFinSF1 + GarageArea + CentralAir + LotArea + YearRemodAdd + TotalBsmtSF & 0.8914477                                                                                                                                           & 9                                                                                                                                                   & 0.8859860                                                                                                                                           &  0.6164546                                                                                                                                          & 0.5385945                                                                                                                                           & 0.4008991                                                                                                                                           &  0.6164546                                                                                                                                         \\\\\n",
       "\\end{tabular}\n"
      ],
      "text/markdown": [
       "\n",
       "predictor | formula | r2 | step | base_r2 | r2_gain | cor_abs_max | cor_abs_avg | r2_gain_adj | \n",
       "|---|---|---|---|---|---|---|---|---|\n",
       "| OverallQual                                                                                                                      | price_log ~ OverallQual                                                                                                          | 0.6747053                                                                                                                        | 1                                                                                                                                |        NA                                                                                                                        |         NA                                                                                                                       |        NA                                                                                                                        |        NA                                                                                                                        |         NA                                                                                                                       | \n",
       "| GrLivArea                                                                                                                        | price_log ~ OverallQual + GrLivArea                                                                                              | 0.7641906                                                                                                                        | 2                                                                                                                                | 0.6747053                                                                                                                        | 13.2628602                                                                                                                       | 0.6088750                                                                                                                        | 0.6088750                                                                                                                        | 13.2628602                                                                                                                       | \n",
       "| Neighborhood                                                                                                                     | price_log ~ OverallQual + GrLivArea + Neighborhood                                                                               | 0.8132790                                                                                                                        | 3                                                                                                                                | 0.7641906                                                                                                                        |  6.4235833                                                                                                                       | 0.6790092                                                                                                                        | 0.5732441                                                                                                                        |  6.4235833                                                                                                                       | \n",
       "| BsmtFinSF1                                                                                                                       | price_log ~ OverallQual + GrLivArea + Neighborhood + BsmtFinSF1                                                                  | 0.8493875                                                                                                                        | 4                                                                                                                                | 0.8132790                                                                                                                        |  4.4398744                                                                                                                       | 0.2426179                                                                                                                        | 0.1983661                                                                                                                        |  4.4398744                                                                                                                       | \n",
       "| GarageArea                                                                                                                       | price_log ~ OverallQual + GrLivArea + Neighborhood + BsmtFinSF1 + GarageArea                                                     | 0.8611900                                                                                                                        | 5                                                                                                                                | 0.8493875                                                                                                                        |  1.3895276                                                                                                                       | 0.5572300                                                                                                                        | 0.4547195                                                                                                                        |  1.3895276                                                                                                                       | \n",
       "| CentralAir                                                                                                                       | price_log ~ OverallQual + GrLivArea + Neighborhood + BsmtFinSF1 + GarageArea + CentralAir                                        | 0.8702618                                                                                                                        | 6                                                                                                                                | 0.8611900                                                                                                                        |  1.0533979                                                                                                                       | 0.2725223                                                                                                                        | 0.2138656                                                                                                                        |  1.0533979                                                                                                                       | \n",
       "| LotArea                                                                                                                          | price_log ~ OverallQual + GrLivArea + Neighborhood + BsmtFinSF1 + GarageArea + CentralAir + LotArea                              | 0.8776064                                                                                                                        | 7                                                                                                                                | 0.8702618                                                                                                                        |  0.8439511                                                                                                                       | 0.3697551                                                                                                                        | 0.2320913                                                                                                                        |  0.8439511                                                                                                                       | \n",
       "| YearRemodAdd                                                                                                                     | price_log ~ OverallQual + GrLivArea + Neighborhood + BsmtFinSF1 + GarageArea + CentralAir + LotArea + YearRemodAdd               | 0.8859860                                                                                                                        | 8                                                                                                                                | 0.8776064                                                                                                                        |  0.9548328                                                                                                                       | 0.5498273                                                                                                                        | 0.3163918                                                                                                                        |  0.9548328                                                                                                                       | \n",
       "| TotalBsmtSF                                                                                                                      | price_log ~ OverallQual + GrLivArea + Neighborhood + BsmtFinSF1 + GarageArea + CentralAir + LotArea + YearRemodAdd + TotalBsmtSF | 0.8914477                                                                                                                        | 9                                                                                                                                | 0.8859860                                                                                                                        |  0.6164546                                                                                                                       | 0.5385945                                                                                                                        | 0.4008991                                                                                                                        |  0.6164546                                                                                                                       | \n",
       "\n",
       "\n"
      ],
      "text/plain": [
       "  predictor   \n",
       "1 OverallQual \n",
       "2 GrLivArea   \n",
       "3 Neighborhood\n",
       "4 BsmtFinSF1  \n",
       "5 GarageArea  \n",
       "6 CentralAir  \n",
       "7 LotArea     \n",
       "8 YearRemodAdd\n",
       "9 TotalBsmtSF \n",
       "  formula                                                                                                                         \n",
       "1 price_log ~ OverallQual                                                                                                         \n",
       "2 price_log ~ OverallQual + GrLivArea                                                                                             \n",
       "3 price_log ~ OverallQual + GrLivArea + Neighborhood                                                                              \n",
       "4 price_log ~ OverallQual + GrLivArea + Neighborhood + BsmtFinSF1                                                                 \n",
       "5 price_log ~ OverallQual + GrLivArea + Neighborhood + BsmtFinSF1 + GarageArea                                                    \n",
       "6 price_log ~ OverallQual + GrLivArea + Neighborhood + BsmtFinSF1 + GarageArea + CentralAir                                       \n",
       "7 price_log ~ OverallQual + GrLivArea + Neighborhood + BsmtFinSF1 + GarageArea + CentralAir + LotArea                             \n",
       "8 price_log ~ OverallQual + GrLivArea + Neighborhood + BsmtFinSF1 + GarageArea + CentralAir + LotArea + YearRemodAdd              \n",
       "9 price_log ~ OverallQual + GrLivArea + Neighborhood + BsmtFinSF1 + GarageArea + CentralAir + LotArea + YearRemodAdd + TotalBsmtSF\n",
       "  r2        step base_r2   r2_gain    cor_abs_max cor_abs_avg r2_gain_adj\n",
       "1 0.6747053 1           NA         NA        NA          NA           NA \n",
       "2 0.7641906 2    0.6747053 13.2628602 0.6088750   0.6088750   13.2628602 \n",
       "3 0.8132790 3    0.7641906  6.4235833 0.6790092   0.5732441    6.4235833 \n",
       "4 0.8493875 4    0.8132790  4.4398744 0.2426179   0.1983661    4.4398744 \n",
       "5 0.8611900 5    0.8493875  1.3895276 0.5572300   0.4547195    1.3895276 \n",
       "6 0.8702618 6    0.8611900  1.0533979 0.2725223   0.2138656    1.0533979 \n",
       "7 0.8776064 7    0.8702618  0.8439511 0.3697551   0.2320913    0.8439511 \n",
       "8 0.8859860 8    0.8776064  0.9548328 0.5498273   0.3163918    0.9548328 \n",
       "9 0.8914477 9    0.8859860  0.6164546 0.5385945   0.4008991    0.6164546 "
      ]
     },
     "metadata": {},
     "output_type": "display_data"
    }
   ],
   "source": [
    "house_prices <- source('main.R', local = TRUE)$value\n",
    "\n",
    "report <- house_prices$model_selection$lm$greedy_r2_gain_adj(\n",
    "    data = train_data, \n",
    "    target_var = price_log, \n",
    "    r2_gain_discard_level = 0.5,\n",
    "    r2_discard_level = 0.02, \n",
    "    a_max = 0, a_avg = 0\n",
    ")\n",
    "\n",
    "report %>% group_by(step) %>% filter(row_number() == 1)"
   ]
  },
  {
   "cell_type": "code",
   "execution_count": 153,
   "metadata": {},
   "outputs": [
    {
     "ename": "ERROR",
     "evalue": "Error: Column `predictor` must be length 1 or 1, not 0\n",
     "output_type": "error",
     "traceback": [
      "Error: Column `predictor` must be length 1 or 1, not 0\nTraceback:\n",
      "1. house_prices$model_selection$lm$greedy_r2_gain_adj(data = train_data, \n .     target_var = price_log, r2_gain_discard_level = 0.5, r2_discard_level = 0.02, \n .     a_max = 1, a_avg = 1)",
      "2. find_next_best_r2_predictor(data = data, base_formula_str = base_formula_str, \n .     r2_gain_discard_level = r2_gain_discard_level, predictors = predictors, \n .     a_max = a_max, a_avg = a_avg)",
      "3. data_frame(predictor = predictors, formula = paste0(base_formula_str, \n .     \" + \", predictors), base_r2 = base_r2) %>% mutate(model = map(formula, \n .     ~lm(as.formula(.), data = train_data)), r2 = map_dbl(model, \n .     function(mod) {\n .         summary(mod)$r.squared\n .     }), r2_gain = 100 * (r2 - base_r2)/base_r2, cors = map(predictor, \n .     function(predictor) {\n .         cor(train_data[base_predictors], train_data[predictor]) %>% \n .             as.vector\n .     }), cor_abs_max = map_dbl(cors, function(cors) {\n .     max(abs(cors))\n . }), cor_abs_avg = map_dbl(cors, function(cors) {\n .     mean(abs(cors))\n . }), r2_gain_adj = r2_gain/(1 + a_max * cor_abs_max + a_avg * \n .     cor_abs_avg)) %>% select(predictor, formula, base_r2, r2, \n .     r2_gain, cor_abs_max, cor_abs_avg, r2_gain_adj) %>% filter(r2_gain > \n .     r2_gain_discard_level) %>% arrange(desc(r2_gain_adj))",
      "4. eval(lhs, parent, parent)",
      "5. eval(lhs, parent, parent)",
      "6. data_frame(predictor = predictors, formula = paste0(base_formula_str, \n .     \" + \", predictors), base_r2 = base_r2)",
      "7. as_tibble(lst(...))",
      "8. as_tibble.list(lst(...))",
      "9. list_to_tibble(x, validate)",
      "10. recycle_columns(x)",
      "11. invalid_df_msg(paste0(\"must be length 1 or \", max, \", not \"), \n  .     x, bad_len, lengths[bad_len])",
      "12. stopc(pluralise_msg(\"Column(s) \", vars), \" \", pluralise_msg(problem, \n  .     extra))",
      "13. abort(paste0(...))"
     ]
    }
   ],
   "source": [
    "house_prices <- source('main.R', local = TRUE)$value\n",
    "\n",
    "report <- house_prices$model_selection$lm$greedy_r2_gain_adj(\n",
    "    data = train_data, \n",
    "    target_var = price_log, \n",
    "    r2_gain_discard_level = 0.5,\n",
    "    r2_discard_level = 0.02, \n",
    "    a_max = 1, a_avg = 1\n",
    ")\n",
    "\n",
    "report %>% group_by(step) %>% filter(row_number() == 1)"
   ]
  },
  {
   "cell_type": "code",
   "execution_count": null,
   "metadata": {
    "collapsed": true
   },
   "outputs": [],
   "source": []
  },
  {
   "cell_type": "code",
   "execution_count": null,
   "metadata": {
    "collapsed": true
   },
   "outputs": [],
   "source": []
  },
  {
   "cell_type": "code",
   "execution_count": null,
   "metadata": {
    "collapsed": true
   },
   "outputs": [],
   "source": []
  },
  {
   "cell_type": "code",
   "execution_count": null,
   "metadata": {
    "collapsed": true
   },
   "outputs": [],
   "source": []
  },
  {
   "cell_type": "code",
   "execution_count": null,
   "metadata": {
    "collapsed": true
   },
   "outputs": [],
   "source": []
  },
  {
   "cell_type": "code",
   "execution_count": null,
   "metadata": {
    "collapsed": true
   },
   "outputs": [],
   "source": []
  },
  {
   "cell_type": "code",
   "execution_count": null,
   "metadata": {
    "collapsed": true
   },
   "outputs": [],
   "source": []
  },
  {
   "cell_type": "code",
   "execution_count": null,
   "metadata": {
    "collapsed": true
   },
   "outputs": [],
   "source": []
  },
  {
   "cell_type": "code",
   "execution_count": null,
   "metadata": {
    "collapsed": true
   },
   "outputs": [],
   "source": []
  },
  {
   "cell_type": "code",
   "execution_count": null,
   "metadata": {
    "collapsed": true
   },
   "outputs": [],
   "source": []
  },
  {
   "cell_type": "code",
   "execution_count": null,
   "metadata": {
    "collapsed": true
   },
   "outputs": [],
   "source": []
  }
 ],
 "metadata": {
  "kernelspec": {
   "display_name": "R",
   "language": "R",
   "name": "ir"
  },
  "language_info": {
   "codemirror_mode": "r",
   "file_extension": ".r",
   "mimetype": "text/x-r-source",
   "name": "R",
   "pygments_lexer": "r",
   "version": "3.4.2"
  }
 },
 "nbformat": 4,
 "nbformat_minor": 2
}
