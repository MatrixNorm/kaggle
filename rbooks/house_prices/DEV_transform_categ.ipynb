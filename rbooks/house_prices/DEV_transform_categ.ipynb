{
 "cells": [
  {
   "cell_type": "code",
   "execution_count": 2,
   "metadata": {},
   "outputs": [
    {
     "data": {
      "text/html": [
       "<ol class=list-inline>\n",
       "\t<li>2917</li>\n",
       "\t<li>81</li>\n",
       "</ol>\n"
      ],
      "text/latex": [
       "\\begin{enumerate*}\n",
       "\\item 2917\n",
       "\\item 81\n",
       "\\end{enumerate*}\n"
      ],
      "text/markdown": [
       "1. 2917\n",
       "2. 81\n",
       "\n",
       "\n"
      ],
      "text/plain": [
       "[1] 2917   81"
      ]
     },
     "metadata": {},
     "output_type": "display_data"
    }
   ],
   "source": [
    "setwd(paste0(Sys.getenv('R_SOURCES'), '/house_prices'))\n",
    "source('main.R')\n",
    "house_prices$helpers$import_libs()\n",
    "\n",
    "combined_dataset <-\n",
    "    house_prices$helpers$load_data() %>%\n",
    "    (house_prices$outliers$remove_outliers) %>%\n",
    "    (house_prices$missing$fix_all) %>%\n",
    "    mutate(\n",
    "        price_log = log(SalePrice)\n",
    "    ) %>%\n",
    "    select(-SalePrice, -Id)\n",
    "\n",
    "combined_dataset %>% dim\n",
    "\n",
    "test_that(\"should be no NA values except SalePrice column\", {\n",
    "    expect_equal(sum(is.na(combined_dataset %>% select(-price_log))), 0)\n",
    "})"
   ]
  },
  {
   "cell_type": "code",
   "execution_count": 38,
   "metadata": {},
   "outputs": [
    {
     "data": {
      "text/html": [
       "<table>\n",
       "<thead><tr><th scope=col>var</th><th scope=col>value</th><th scope=col>rating</th></tr></thead>\n",
       "<tbody>\n",
       "\t<tr><td>Alley   </td><td>_none_  </td><td>2.531822</td></tr>\n",
       "\t<tr><td>Alley   </td><td>Grvl    </td><td>1.500000</td></tr>\n",
       "\t<tr><td>Alley   </td><td>Pave    </td><td>2.536585</td></tr>\n",
       "\t<tr><td>BldgType</td><td>1Fam    </td><td>2.564039</td></tr>\n",
       "\t<tr><td>BldgType</td><td>2fmCon  </td><td>1.580645</td></tr>\n",
       "\t<tr><td>BldgType</td><td>Duplex  </td><td>1.692308</td></tr>\n",
       "\t<tr><td>BldgType</td><td>TwnhsE  </td><td>2.622807</td></tr>\n",
       "</tbody>\n",
       "</table>\n"
      ],
      "text/latex": [
       "\\begin{tabular}{r|lll}\n",
       " var & value & rating\\\\\n",
       "\\hline\n",
       "\t Alley      & \\_none\\_ & 2.531822  \\\\\n",
       "\t Alley    & Grvl     & 1.500000\\\\\n",
       "\t Alley    & Pave     & 2.536585\\\\\n",
       "\t BldgType & 1Fam     & 2.564039\\\\\n",
       "\t BldgType & 2fmCon   & 1.580645\\\\\n",
       "\t BldgType & Duplex   & 1.692308\\\\\n",
       "\t BldgType & TwnhsE   & 2.622807\\\\\n",
       "\\end{tabular}\n"
      ],
      "text/markdown": [
       "\n",
       "var | value | rating | \n",
       "|---|---|---|---|---|---|---|\n",
       "| Alley    | _none_   | 2.531822 | \n",
       "| Alley    | Grvl     | 1.500000 | \n",
       "| Alley    | Pave     | 2.536585 | \n",
       "| BldgType | 1Fam     | 2.564039 | \n",
       "| BldgType | 2fmCon   | 1.580645 | \n",
       "| BldgType | Duplex   | 1.692308 | \n",
       "| BldgType | TwnhsE   | 2.622807 | \n",
       "\n",
       "\n"
      ],
      "text/plain": [
       "  var      value  rating  \n",
       "1 Alley    _none_ 2.531822\n",
       "2 Alley    Grvl   1.500000\n",
       "3 Alley    Pave   2.536585\n",
       "4 BldgType 1Fam   2.564039\n",
       "5 BldgType 2fmCon 1.580645\n",
       "6 BldgType Duplex 1.692308\n",
       "7 BldgType TwnhsE 2.622807"
      ]
     },
     "metadata": {},
     "output_type": "display_data"
    }
   ],
   "source": [
    "QuantileRating <- house_prices$trans$categ$QuantileRating\n",
    "\n",
    "ratings <- QuantileRating$calc_ratings(\n",
    "    df = combined_dataset,\n",
    "    target_var = price_log,\n",
    "    rating_quantiles = QuantileRating$calc_quantiles(\n",
    "        sample = combined_dataset[['price_log']],\n",
    "        probs = c(0.25, 0.5, 0.75)\n",
    "    ),\n",
    "    categ_vars = house_prices$helpers$get_character_colnames(combined_dataset)\n",
    ")\n",
    "\n",
    "ratings %>% head(7)"
   ]
  },
  {
   "cell_type": "code",
   "execution_count": 13,
   "metadata": {},
   "outputs": [
    {
     "data": {
      "text/html": [
       "2.5"
      ],
      "text/latex": [
       "2.5"
      ],
      "text/markdown": [
       "2.5"
      ],
      "text/plain": [
       "[1] 2.5"
      ]
     },
     "metadata": {},
     "output_type": "display_data"
    }
   ],
   "source": [
    "default_rating <- ratings[is.na(ratings$var),]$rating\n",
    "default_rating"
   ]
  },
  {
   "cell_type": "code",
   "execution_count": 16,
   "metadata": {},
   "outputs": [
    {
     "data": {
      "text/html": [
       "<table>\n",
       "<thead><tr><th scope=col>var</th><th scope=col>value</th></tr></thead>\n",
       "<tbody>\n",
       "\t<tr><td>Alley </td><td>_none_</td></tr>\n",
       "\t<tr><td>Alley </td><td>_none_</td></tr>\n",
       "\t<tr><td>Alley </td><td>_none_</td></tr>\n",
       "\t<tr><td>Alley </td><td>_none_</td></tr>\n",
       "\t<tr><td>Alley </td><td>_none_</td></tr>\n",
       "\t<tr><td>Alley </td><td>_none_</td></tr>\n",
       "</tbody>\n",
       "</table>\n"
      ],
      "text/latex": [
       "\\begin{tabular}{r|ll}\n",
       " var & value\\\\\n",
       "\\hline\n",
       "\t Alley      & \\_none\\_\\\\\n",
       "\t Alley      & \\_none\\_\\\\\n",
       "\t Alley      & \\_none\\_\\\\\n",
       "\t Alley      & \\_none\\_\\\\\n",
       "\t Alley      & \\_none\\_\\\\\n",
       "\t Alley      & \\_none\\_\\\\\n",
       "\\end{tabular}\n"
      ],
      "text/markdown": [
       "\n",
       "var | value | \n",
       "|---|---|---|---|---|---|\n",
       "| Alley  | _none_ | \n",
       "| Alley  | _none_ | \n",
       "| Alley  | _none_ | \n",
       "| Alley  | _none_ | \n",
       "| Alley  | _none_ | \n",
       "| Alley  | _none_ | \n",
       "\n",
       "\n"
      ],
      "text/plain": [
       "  var   value \n",
       "1 Alley _none_\n",
       "2 Alley _none_\n",
       "3 Alley _none_\n",
       "4 Alley _none_\n",
       "5 Alley _none_\n",
       "6 Alley _none_"
      ]
     },
     "metadata": {},
     "output_type": "display_data"
    }
   ],
   "source": [
    "step1 <-\n",
    "    combined_dataset %>% \n",
    "    select(house_prices$helpers$get_character_colnames(combined_dataset)) %>%\n",
    "    gather(var, value) \n",
    "\n",
    "step1 %>% head"
   ]
  },
  {
   "cell_type": "code",
   "execution_count": 17,
   "metadata": {},
   "outputs": [
    {
     "data": {
      "text/html": [
       "<table>\n",
       "<thead><tr><th scope=col>var</th><th scope=col>value</th><th scope=col>rating</th></tr></thead>\n",
       "<tbody>\n",
       "\t<tr><td>Alley   </td><td>_none_  </td><td>2.531822</td></tr>\n",
       "\t<tr><td>Alley   </td><td>_none_  </td><td>2.531822</td></tr>\n",
       "\t<tr><td>Alley   </td><td>_none_  </td><td>2.531822</td></tr>\n",
       "\t<tr><td>Alley   </td><td>_none_  </td><td>2.531822</td></tr>\n",
       "\t<tr><td>Alley   </td><td>_none_  </td><td>2.531822</td></tr>\n",
       "\t<tr><td>Alley   </td><td>_none_  </td><td>2.531822</td></tr>\n",
       "</tbody>\n",
       "</table>\n"
      ],
      "text/latex": [
       "\\begin{tabular}{r|lll}\n",
       " var & value & rating\\\\\n",
       "\\hline\n",
       "\t Alley      & \\_none\\_ & 2.531822  \\\\\n",
       "\t Alley      & \\_none\\_ & 2.531822  \\\\\n",
       "\t Alley      & \\_none\\_ & 2.531822  \\\\\n",
       "\t Alley      & \\_none\\_ & 2.531822  \\\\\n",
       "\t Alley      & \\_none\\_ & 2.531822  \\\\\n",
       "\t Alley      & \\_none\\_ & 2.531822  \\\\\n",
       "\\end{tabular}\n"
      ],
      "text/markdown": [
       "\n",
       "var | value | rating | \n",
       "|---|---|---|---|---|---|\n",
       "| Alley    | _none_   | 2.531822 | \n",
       "| Alley    | _none_   | 2.531822 | \n",
       "| Alley    | _none_   | 2.531822 | \n",
       "| Alley    | _none_   | 2.531822 | \n",
       "| Alley    | _none_   | 2.531822 | \n",
       "| Alley    | _none_   | 2.531822 | \n",
       "\n",
       "\n"
      ],
      "text/plain": [
       "  var   value  rating  \n",
       "1 Alley _none_ 2.531822\n",
       "2 Alley _none_ 2.531822\n",
       "3 Alley _none_ 2.531822\n",
       "4 Alley _none_ 2.531822\n",
       "5 Alley _none_ 2.531822\n",
       "6 Alley _none_ 2.531822"
      ]
     },
     "metadata": {},
     "output_type": "display_data"
    }
   ],
   "source": [
    "step2 <-\n",
    "    step1 %>%\n",
    "    left_join(ratings, by=c('var', 'value'))\n",
    "\n",
    "step2 %>% head"
   ]
  },
  {
   "cell_type": "code",
   "execution_count": 31,
   "metadata": {},
   "outputs": [
    {
     "data": {
      "text/html": [
       "<table>\n",
       "<thead><tr><th scope=col>var</th><th scope=col>value</th><th scope=col>rating</th></tr></thead>\n",
       "<tbody>\n",
       "\t<tr><td>MSSubClass</td><td>150       </td><td>NA        </td></tr>\n",
       "\t<tr><td>Utilities </td><td>_none_    </td><td>NA        </td></tr>\n",
       "\t<tr><td>Utilities </td><td>_none_    </td><td>NA        </td></tr>\n",
       "</tbody>\n",
       "</table>\n"
      ],
      "text/latex": [
       "\\begin{tabular}{r|lll}\n",
       " var & value & rating\\\\\n",
       "\\hline\n",
       "\t MSSubClass & 150        & NA        \\\\\n",
       "\t Utilities  & \\_none\\_ & NA        \\\\\n",
       "\t Utilities  & \\_none\\_ & NA        \\\\\n",
       "\\end{tabular}\n"
      ],
      "text/markdown": [
       "\n",
       "var | value | rating | \n",
       "|---|---|---|\n",
       "| MSSubClass | 150        | NA         | \n",
       "| Utilities  | _none_     | NA         | \n",
       "| Utilities  | _none_     | NA         | \n",
       "\n",
       "\n"
      ],
      "text/plain": [
       "  var        value  rating\n",
       "1 MSSubClass 150    NA    \n",
       "2 Utilities  _none_ NA    \n",
       "3 Utilities  _none_ NA    "
      ]
     },
     "metadata": {},
     "output_type": "display_data"
    },
    {
     "data": {
      "text/html": [
       "<table>\n",
       "<thead><tr><th scope=col>var</th><th scope=col>value</th><th scope=col>rating</th></tr></thead>\n",
       "<tbody>\n",
       "\t<tr><td>MSSubClass</td><td>120       </td><td>2.954023  </td></tr>\n",
       "\t<tr><td>MSSubClass</td><td>160       </td><td>1.904762  </td></tr>\n",
       "\t<tr><td>MSSubClass</td><td>180       </td><td>1.300000  </td></tr>\n",
       "\t<tr><td>MSSubClass</td><td>190       </td><td>1.600000  </td></tr>\n",
       "\t<tr><td>MSSubClass</td><td>20        </td><td>2.522388  </td></tr>\n",
       "\t<tr><td>MSSubClass</td><td>30        </td><td>1.086957  </td></tr>\n",
       "\t<tr><td>MSSubClass</td><td>40        </td><td>2.250000  </td></tr>\n",
       "\t<tr><td>MSSubClass</td><td>45        </td><td>1.250000  </td></tr>\n",
       "\t<tr><td>MSSubClass</td><td>50        </td><td>1.833333  </td></tr>\n",
       "\t<tr><td>MSSubClass</td><td>60        </td><td>3.454545  </td></tr>\n",
       "\t<tr><td>MSSubClass</td><td>70        </td><td>2.366667  </td></tr>\n",
       "\t<tr><td>MSSubClass</td><td>75        </td><td>2.437500  </td></tr>\n",
       "\t<tr><td>MSSubClass</td><td>80        </td><td>2.586207  </td></tr>\n",
       "\t<tr><td>MSSubClass</td><td>85        </td><td>2.100000  </td></tr>\n",
       "\t<tr><td>MSSubClass</td><td>90        </td><td>1.692308  </td></tr>\n",
       "\t<tr><td>Utilities </td><td>AllPub    </td><td>2.496911  </td></tr>\n",
       "\t<tr><td>Utilities </td><td>NoSeWa    </td><td>2.000000  </td></tr>\n",
       "</tbody>\n",
       "</table>\n"
      ],
      "text/latex": [
       "\\begin{tabular}{r|lll}\n",
       " var & value & rating\\\\\n",
       "\\hline\n",
       "\t MSSubClass & 120        & 2.954023  \\\\\n",
       "\t MSSubClass & 160        & 1.904762  \\\\\n",
       "\t MSSubClass & 180        & 1.300000  \\\\\n",
       "\t MSSubClass & 190        & 1.600000  \\\\\n",
       "\t MSSubClass & 20         & 2.522388  \\\\\n",
       "\t MSSubClass & 30         & 1.086957  \\\\\n",
       "\t MSSubClass & 40         & 2.250000  \\\\\n",
       "\t MSSubClass & 45         & 1.250000  \\\\\n",
       "\t MSSubClass & 50         & 1.833333  \\\\\n",
       "\t MSSubClass & 60         & 3.454545  \\\\\n",
       "\t MSSubClass & 70         & 2.366667  \\\\\n",
       "\t MSSubClass & 75         & 2.437500  \\\\\n",
       "\t MSSubClass & 80         & 2.586207  \\\\\n",
       "\t MSSubClass & 85         & 2.100000  \\\\\n",
       "\t MSSubClass & 90         & 1.692308  \\\\\n",
       "\t Utilities  & AllPub     & 2.496911  \\\\\n",
       "\t Utilities  & NoSeWa     & 2.000000  \\\\\n",
       "\\end{tabular}\n"
      ],
      "text/markdown": [
       "\n",
       "var | value | rating | \n",
       "|---|---|---|---|---|---|---|---|---|---|---|---|---|---|---|---|---|\n",
       "| MSSubClass | 120        | 2.954023   | \n",
       "| MSSubClass | 160        | 1.904762   | \n",
       "| MSSubClass | 180        | 1.300000   | \n",
       "| MSSubClass | 190        | 1.600000   | \n",
       "| MSSubClass | 20         | 2.522388   | \n",
       "| MSSubClass | 30         | 1.086957   | \n",
       "| MSSubClass | 40         | 2.250000   | \n",
       "| MSSubClass | 45         | 1.250000   | \n",
       "| MSSubClass | 50         | 1.833333   | \n",
       "| MSSubClass | 60         | 3.454545   | \n",
       "| MSSubClass | 70         | 2.366667   | \n",
       "| MSSubClass | 75         | 2.437500   | \n",
       "| MSSubClass | 80         | 2.586207   | \n",
       "| MSSubClass | 85         | 2.100000   | \n",
       "| MSSubClass | 90         | 1.692308   | \n",
       "| Utilities  | AllPub     | 2.496911   | \n",
       "| Utilities  | NoSeWa     | 2.000000   | \n",
       "\n",
       "\n"
      ],
      "text/plain": [
       "   var        value  rating  \n",
       "1  MSSubClass 120    2.954023\n",
       "2  MSSubClass 160    1.904762\n",
       "3  MSSubClass 180    1.300000\n",
       "4  MSSubClass 190    1.600000\n",
       "5  MSSubClass 20     2.522388\n",
       "6  MSSubClass 30     1.086957\n",
       "7  MSSubClass 40     2.250000\n",
       "8  MSSubClass 45     1.250000\n",
       "9  MSSubClass 50     1.833333\n",
       "10 MSSubClass 60     3.454545\n",
       "11 MSSubClass 70     2.366667\n",
       "12 MSSubClass 75     2.437500\n",
       "13 MSSubClass 80     2.586207\n",
       "14 MSSubClass 85     2.100000\n",
       "15 MSSubClass 90     1.692308\n",
       "16 Utilities  AllPub 2.496911\n",
       "17 Utilities  NoSeWa 2.000000"
      ]
     },
     "metadata": {},
     "output_type": "display_data"
    }
   ],
   "source": [
    "step2 %>% filter(is.na(rating))\n",
    "\n",
    "ratings %>% filter(var == 'MSSubClass' | var == 'Utilities') %>% arrange(var, value)"
   ]
  },
  {
   "cell_type": "code",
   "execution_count": 32,
   "metadata": {
    "collapsed": true
   },
   "outputs": [],
   "source": [
    "?replace_na"
   ]
  },
  {
   "cell_type": "code",
   "execution_count": 35,
   "metadata": {},
   "outputs": [
    {
     "data": {
      "text/html": [
       "<table>\n",
       "<thead><tr><th scope=col>var</th><th scope=col>value</th><th scope=col>rating</th></tr></thead>\n",
       "<tbody>\n",
       "\t<tr><td>Alley   </td><td>_none_  </td><td>2.531822</td></tr>\n",
       "\t<tr><td>Alley   </td><td>_none_  </td><td>2.531822</td></tr>\n",
       "\t<tr><td>Alley   </td><td>_none_  </td><td>2.531822</td></tr>\n",
       "\t<tr><td>Alley   </td><td>_none_  </td><td>2.531822</td></tr>\n",
       "\t<tr><td>Alley   </td><td>_none_  </td><td>2.531822</td></tr>\n",
       "\t<tr><td>Alley   </td><td>_none_  </td><td>2.531822</td></tr>\n",
       "</tbody>\n",
       "</table>\n"
      ],
      "text/latex": [
       "\\begin{tabular}{r|lll}\n",
       " var & value & rating\\\\\n",
       "\\hline\n",
       "\t Alley      & \\_none\\_ & 2.531822  \\\\\n",
       "\t Alley      & \\_none\\_ & 2.531822  \\\\\n",
       "\t Alley      & \\_none\\_ & 2.531822  \\\\\n",
       "\t Alley      & \\_none\\_ & 2.531822  \\\\\n",
       "\t Alley      & \\_none\\_ & 2.531822  \\\\\n",
       "\t Alley      & \\_none\\_ & 2.531822  \\\\\n",
       "\\end{tabular}\n"
      ],
      "text/markdown": [
       "\n",
       "var | value | rating | \n",
       "|---|---|---|---|---|---|\n",
       "| Alley    | _none_   | 2.531822 | \n",
       "| Alley    | _none_   | 2.531822 | \n",
       "| Alley    | _none_   | 2.531822 | \n",
       "| Alley    | _none_   | 2.531822 | \n",
       "| Alley    | _none_   | 2.531822 | \n",
       "| Alley    | _none_   | 2.531822 | \n",
       "\n",
       "\n"
      ],
      "text/plain": [
       "  var   value  rating  \n",
       "1 Alley _none_ 2.531822\n",
       "2 Alley _none_ 2.531822\n",
       "3 Alley _none_ 2.531822\n",
       "4 Alley _none_ 2.531822\n",
       "5 Alley _none_ 2.531822\n",
       "6 Alley _none_ 2.531822"
      ]
     },
     "metadata": {},
     "output_type": "display_data"
    },
    {
     "data": {
      "text/html": [
       "0"
      ],
      "text/latex": [
       "0"
      ],
      "text/markdown": [
       "0"
      ],
      "text/plain": [
       "[1] 0"
      ]
     },
     "metadata": {},
     "output_type": "display_data"
    }
   ],
   "source": [
    "step2 <-\n",
    "    step1 %>%\n",
    "    left_join(ratings, by=c('var', 'value')) %>%\n",
    "    replace_na(list(rating=default_rating))\n",
    "\n",
    "step2 %>% head\n",
    "\n",
    "step2 %>% filter(is.na(rating)) %>% nrow"
   ]
  },
  {
   "cell_type": "code",
   "execution_count": 39,
   "metadata": {},
   "outputs": [
    {
     "data": {
      "text/html": [
       "<table>\n",
       "<thead><tr><th scope=col>Alley</th><th scope=col>BldgType</th><th scope=col>BsmtCond</th><th scope=col>BsmtExposure</th><th scope=col>BsmtFinType1</th><th scope=col>BsmtFinType2</th><th scope=col>BsmtQual</th><th scope=col>CentralAir</th><th scope=col>Condition1</th><th scope=col>Condition2</th><th scope=col>⋯</th><th scope=col>MSZoning</th><th scope=col>Neighborhood</th><th scope=col>PavedDrive</th><th scope=col>PoolQC</th><th scope=col>RoofMatl</th><th scope=col>RoofStyle</th><th scope=col>SaleCondition</th><th scope=col>SaleType</th><th scope=col>Street</th><th scope=col>Utilities</th></tr></thead>\n",
       "<tbody>\n",
       "\t<tr><td>2.531822</td><td>2.564039</td><td>2.540871</td><td>2.320042</td><td>3.262019</td><td>2.553429</td><td>3.066343</td><td>2.57887 </td><td>2.547619</td><td>2.50277 </td><td>⋯       </td><td>2.665796</td><td>2.966667</td><td>2.584454</td><td>2.491736</td><td>2.483601</td><td>2.418054</td><td>2.451586</td><td>2.421468</td><td>2.499311</td><td>2.496911</td></tr>\n",
       "\t<tr><td>2.531822</td><td>2.564039</td><td>2.540871</td><td>3.295455</td><td>2.231818</td><td>2.553429</td><td>3.066343</td><td>2.57887 </td><td>1.987500</td><td>2.50277 </td><td>⋯       </td><td>2.665796</td><td>3.454545</td><td>2.584454</td><td>2.491736</td><td>2.483601</td><td>2.418054</td><td>2.451586</td><td>2.421468</td><td>2.499311</td><td>2.496911</td></tr>\n",
       "\t<tr><td>2.531822</td><td>2.564039</td><td>2.540871</td><td>2.675439</td><td>3.262019</td><td>2.553429</td><td>3.066343</td><td>2.57887 </td><td>2.547619</td><td>2.50277 </td><td>⋯       </td><td>2.665796</td><td>2.966667</td><td>2.584454</td><td>2.491736</td><td>2.483601</td><td>2.418054</td><td>2.451586</td><td>2.421468</td><td>2.499311</td><td>2.496911</td></tr>\n",
       "\t<tr><td>2.531822</td><td>2.564039</td><td>3.046154</td><td>2.320042</td><td>2.231818</td><td>2.553429</td><td>1.847458</td><td>2.57887 </td><td>2.547619</td><td>2.50277 </td><td>⋯       </td><td>2.665796</td><td>3.156863</td><td>2.584454</td><td>2.491736</td><td>2.483601</td><td>2.418054</td><td>1.920792</td><td>2.421468</td><td>2.499311</td><td>2.496911</td></tr>\n",
       "\t<tr><td>2.531822</td><td>2.564039</td><td>2.540871</td><td>2.900452</td><td>3.262019</td><td>2.553429</td><td>3.066343</td><td>2.57887 </td><td>2.547619</td><td>2.50277 </td><td>⋯       </td><td>2.665796</td><td>3.975610</td><td>2.584454</td><td>2.491736</td><td>2.483601</td><td>2.418054</td><td>2.451586</td><td>2.421468</td><td>2.499311</td><td>2.496911</td></tr>\n",
       "\t<tr><td>2.531822</td><td>2.564039</td><td>2.540871</td><td>2.320042</td><td>3.262019</td><td>2.553429</td><td>3.066343</td><td>2.57887 </td><td>2.547619</td><td>2.50277 </td><td>⋯       </td><td>2.665796</td><td>2.265306</td><td>2.584454</td><td>2.491736</td><td>2.483601</td><td>2.418054</td><td>2.451586</td><td>2.421468</td><td>2.499311</td><td>2.496911</td></tr>\n",
       "</tbody>\n",
       "</table>\n"
      ],
      "text/latex": [
       "\\begin{tabular}{r|lllllllllllllllllllllllllllllllllllllllllllll}\n",
       " Alley & BldgType & BsmtCond & BsmtExposure & BsmtFinType1 & BsmtFinType2 & BsmtQual & CentralAir & Condition1 & Condition2 & ⋯ & MSZoning & Neighborhood & PavedDrive & PoolQC & RoofMatl & RoofStyle & SaleCondition & SaleType & Street & Utilities\\\\\n",
       "\\hline\n",
       "\t 2.531822 & 2.564039 & 2.540871 & 2.320042 & 3.262019 & 2.553429 & 3.066343 & 2.57887  & 2.547619 & 2.50277  & ⋯        & 2.665796 & 2.966667 & 2.584454 & 2.491736 & 2.483601 & 2.418054 & 2.451586 & 2.421468 & 2.499311 & 2.496911\\\\\n",
       "\t 2.531822 & 2.564039 & 2.540871 & 3.295455 & 2.231818 & 2.553429 & 3.066343 & 2.57887  & 1.987500 & 2.50277  & ⋯        & 2.665796 & 3.454545 & 2.584454 & 2.491736 & 2.483601 & 2.418054 & 2.451586 & 2.421468 & 2.499311 & 2.496911\\\\\n",
       "\t 2.531822 & 2.564039 & 2.540871 & 2.675439 & 3.262019 & 2.553429 & 3.066343 & 2.57887  & 2.547619 & 2.50277  & ⋯        & 2.665796 & 2.966667 & 2.584454 & 2.491736 & 2.483601 & 2.418054 & 2.451586 & 2.421468 & 2.499311 & 2.496911\\\\\n",
       "\t 2.531822 & 2.564039 & 3.046154 & 2.320042 & 2.231818 & 2.553429 & 1.847458 & 2.57887  & 2.547619 & 2.50277  & ⋯        & 2.665796 & 3.156863 & 2.584454 & 2.491736 & 2.483601 & 2.418054 & 1.920792 & 2.421468 & 2.499311 & 2.496911\\\\\n",
       "\t 2.531822 & 2.564039 & 2.540871 & 2.900452 & 3.262019 & 2.553429 & 3.066343 & 2.57887  & 2.547619 & 2.50277  & ⋯        & 2.665796 & 3.975610 & 2.584454 & 2.491736 & 2.483601 & 2.418054 & 2.451586 & 2.421468 & 2.499311 & 2.496911\\\\\n",
       "\t 2.531822 & 2.564039 & 2.540871 & 2.320042 & 3.262019 & 2.553429 & 3.066343 & 2.57887  & 2.547619 & 2.50277  & ⋯        & 2.665796 & 2.265306 & 2.584454 & 2.491736 & 2.483601 & 2.418054 & 2.451586 & 2.421468 & 2.499311 & 2.496911\\\\\n",
       "\\end{tabular}\n"
      ],
      "text/markdown": [
       "\n",
       "Alley | BldgType | BsmtCond | BsmtExposure | BsmtFinType1 | BsmtFinType2 | BsmtQual | CentralAir | Condition1 | Condition2 | ⋯ | MSZoning | Neighborhood | PavedDrive | PoolQC | RoofMatl | RoofStyle | SaleCondition | SaleType | Street | Utilities | \n",
       "|---|---|---|---|---|---|\n",
       "| 2.531822 | 2.564039 | 2.540871 | 2.320042 | 3.262019 | 2.553429 | 3.066343 | 2.57887  | 2.547619 | 2.50277  | ⋯        | 2.665796 | 2.966667 | 2.584454 | 2.491736 | 2.483601 | 2.418054 | 2.451586 | 2.421468 | 2.499311 | 2.496911 | \n",
       "| 2.531822 | 2.564039 | 2.540871 | 3.295455 | 2.231818 | 2.553429 | 3.066343 | 2.57887  | 1.987500 | 2.50277  | ⋯        | 2.665796 | 3.454545 | 2.584454 | 2.491736 | 2.483601 | 2.418054 | 2.451586 | 2.421468 | 2.499311 | 2.496911 | \n",
       "| 2.531822 | 2.564039 | 2.540871 | 2.675439 | 3.262019 | 2.553429 | 3.066343 | 2.57887  | 2.547619 | 2.50277  | ⋯        | 2.665796 | 2.966667 | 2.584454 | 2.491736 | 2.483601 | 2.418054 | 2.451586 | 2.421468 | 2.499311 | 2.496911 | \n",
       "| 2.531822 | 2.564039 | 3.046154 | 2.320042 | 2.231818 | 2.553429 | 1.847458 | 2.57887  | 2.547619 | 2.50277  | ⋯        | 2.665796 | 3.156863 | 2.584454 | 2.491736 | 2.483601 | 2.418054 | 1.920792 | 2.421468 | 2.499311 | 2.496911 | \n",
       "| 2.531822 | 2.564039 | 2.540871 | 2.900452 | 3.262019 | 2.553429 | 3.066343 | 2.57887  | 2.547619 | 2.50277  | ⋯        | 2.665796 | 3.975610 | 2.584454 | 2.491736 | 2.483601 | 2.418054 | 2.451586 | 2.421468 | 2.499311 | 2.496911 | \n",
       "| 2.531822 | 2.564039 | 2.540871 | 2.320042 | 3.262019 | 2.553429 | 3.066343 | 2.57887  | 2.547619 | 2.50277  | ⋯        | 2.665796 | 2.265306 | 2.584454 | 2.491736 | 2.483601 | 2.418054 | 2.451586 | 2.421468 | 2.499311 | 2.496911 | \n",
       "\n",
       "\n"
      ],
      "text/plain": [
       "  Alley    BldgType BsmtCond BsmtExposure BsmtFinType1 BsmtFinType2 BsmtQual\n",
       "1 2.531822 2.564039 2.540871 2.320042     3.262019     2.553429     3.066343\n",
       "2 2.531822 2.564039 2.540871 3.295455     2.231818     2.553429     3.066343\n",
       "3 2.531822 2.564039 2.540871 2.675439     3.262019     2.553429     3.066343\n",
       "4 2.531822 2.564039 3.046154 2.320042     2.231818     2.553429     1.847458\n",
       "5 2.531822 2.564039 2.540871 2.900452     3.262019     2.553429     3.066343\n",
       "6 2.531822 2.564039 2.540871 2.320042     3.262019     2.553429     3.066343\n",
       "  CentralAir Condition1 Condition2 ⋯ MSZoning Neighborhood PavedDrive PoolQC  \n",
       "1 2.57887    2.547619   2.50277    ⋯ 2.665796 2.966667     2.584454   2.491736\n",
       "2 2.57887    1.987500   2.50277    ⋯ 2.665796 3.454545     2.584454   2.491736\n",
       "3 2.57887    2.547619   2.50277    ⋯ 2.665796 2.966667     2.584454   2.491736\n",
       "4 2.57887    2.547619   2.50277    ⋯ 2.665796 3.156863     2.584454   2.491736\n",
       "5 2.57887    2.547619   2.50277    ⋯ 2.665796 3.975610     2.584454   2.491736\n",
       "6 2.57887    2.547619   2.50277    ⋯ 2.665796 2.265306     2.584454   2.491736\n",
       "  RoofMatl RoofStyle SaleCondition SaleType Street   Utilities\n",
       "1 2.483601 2.418054  2.451586      2.421468 2.499311 2.496911 \n",
       "2 2.483601 2.418054  2.451586      2.421468 2.499311 2.496911 \n",
       "3 2.483601 2.418054  2.451586      2.421468 2.499311 2.496911 \n",
       "4 2.483601 2.418054  1.920792      2.421468 2.499311 2.496911 \n",
       "5 2.483601 2.418054  2.451586      2.421468 2.499311 2.496911 \n",
       "6 2.483601 2.418054  2.451586      2.421468 2.499311 2.496911 "
      ]
     },
     "metadata": {},
     "output_type": "display_data"
    }
   ],
   "source": [
    "step3 <-\n",
    "    step2 %>%\n",
    "    select(var, rating) %>%\n",
    "    group_by(var) %>%\n",
    "    mutate(id = row_number()) %>%\n",
    "    spread(var, rating) %>%\n",
    "    select(-id)\n",
    "\n",
    "step3 %>% head"
   ]
  },
  {
   "cell_type": "code",
   "execution_count": null,
   "metadata": {},
   "outputs": [],
   "source": []
  },
  {
   "cell_type": "code",
   "execution_count": null,
   "metadata": {
    "collapsed": true
   },
   "outputs": [],
   "source": []
  },
  {
   "cell_type": "code",
   "execution_count": null,
   "metadata": {
    "collapsed": true
   },
   "outputs": [],
   "source": []
  },
  {
   "cell_type": "code",
   "execution_count": null,
   "metadata": {
    "collapsed": true
   },
   "outputs": [],
   "source": []
  }
 ],
 "metadata": {
  "kernelspec": {
   "display_name": "R",
   "language": "R",
   "name": "ir"
  },
  "language_info": {
   "codemirror_mode": "r",
   "file_extension": ".r",
   "mimetype": "text/x-r-source",
   "name": "R",
   "pygments_lexer": "r",
   "version": "3.4.2"
  }
 },
 "nbformat": 4,
 "nbformat_minor": 2
}
