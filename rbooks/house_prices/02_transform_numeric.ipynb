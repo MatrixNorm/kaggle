{
 "cells": [
  {
   "cell_type": "code",
   "execution_count": 1,
   "metadata": {},
   "outputs": [
    {
     "data": {
      "text/html": [
       "'/mnt/hdd/develop/kaggle/R_sources/house_prices'"
      ],
      "text/latex": [
       "'/mnt/hdd/develop/kaggle/R\\_sources/house\\_prices'"
      ],
      "text/markdown": [
       "'/mnt/hdd/develop/kaggle/R_sources/house_prices'"
      ],
      "text/plain": [
       "[1] \"/mnt/hdd/develop/kaggle/R_sources/house_prices\""
      ]
     },
     "metadata": {},
     "output_type": "display_data"
    }
   ],
   "source": [
    "setwd(paste0(Sys.getenv('R_SOURCES'), '/house_prices'))\n",
    "getwd()"
   ]
  },
  {
   "cell_type": "code",
   "execution_count": 13,
   "metadata": {},
   "outputs": [
    {
     "data": {
      "text/html": [
       "<ol class=list-inline>\n",
       "\t<li>'BedroomAbvGr'</li>\n",
       "\t<li>'BsmtFinSF1'</li>\n",
       "\t<li>'BsmtFullBath'</li>\n",
       "\t<li>'BsmtUnfSF'</li>\n",
       "\t<li>'Fireplaces'</li>\n",
       "\t<li>'FullBath'</li>\n",
       "\t<li>'GarageArea'</li>\n",
       "\t<li>'GarageCars'</li>\n",
       "\t<li>'GarageYrBlt'</li>\n",
       "\t<li>'GrLivArea'</li>\n",
       "\t<li>'HalfBath'</li>\n",
       "\t<li>'LotArea'</li>\n",
       "\t<li>'LotFrontage'</li>\n",
       "\t<li>'MasVnrArea'</li>\n",
       "\t<li>'MoSold'</li>\n",
       "\t<li>'OpenPorchSF'</li>\n",
       "\t<li>'OverallCond'</li>\n",
       "\t<li>'OverallQual'</li>\n",
       "\t<li>'SalePrice'</li>\n",
       "\t<li>'TotalBsmtSF'</li>\n",
       "\t<li>'TotRmsAbvGrd'</li>\n",
       "\t<li>'WoodDeckSF'</li>\n",
       "\t<li>'X1stFlrSF'</li>\n",
       "\t<li>'X2ndFlrSF'</li>\n",
       "\t<li>'YearBuilt'</li>\n",
       "\t<li>'YearRemodAdd'</li>\n",
       "\t<li>'YrSold'</li>\n",
       "</ol>\n"
      ],
      "text/latex": [
       "\\begin{enumerate*}\n",
       "\\item 'BedroomAbvGr'\n",
       "\\item 'BsmtFinSF1'\n",
       "\\item 'BsmtFullBath'\n",
       "\\item 'BsmtUnfSF'\n",
       "\\item 'Fireplaces'\n",
       "\\item 'FullBath'\n",
       "\\item 'GarageArea'\n",
       "\\item 'GarageCars'\n",
       "\\item 'GarageYrBlt'\n",
       "\\item 'GrLivArea'\n",
       "\\item 'HalfBath'\n",
       "\\item 'LotArea'\n",
       "\\item 'LotFrontage'\n",
       "\\item 'MasVnrArea'\n",
       "\\item 'MoSold'\n",
       "\\item 'OpenPorchSF'\n",
       "\\item 'OverallCond'\n",
       "\\item 'OverallQual'\n",
       "\\item 'SalePrice'\n",
       "\\item 'TotalBsmtSF'\n",
       "\\item 'TotRmsAbvGrd'\n",
       "\\item 'WoodDeckSF'\n",
       "\\item 'X1stFlrSF'\n",
       "\\item 'X2ndFlrSF'\n",
       "\\item 'YearBuilt'\n",
       "\\item 'YearRemodAdd'\n",
       "\\item 'YrSold'\n",
       "\\end{enumerate*}\n"
      ],
      "text/markdown": [
       "1. 'BedroomAbvGr'\n",
       "2. 'BsmtFinSF1'\n",
       "3. 'BsmtFullBath'\n",
       "4. 'BsmtUnfSF'\n",
       "5. 'Fireplaces'\n",
       "6. 'FullBath'\n",
       "7. 'GarageArea'\n",
       "8. 'GarageCars'\n",
       "9. 'GarageYrBlt'\n",
       "10. 'GrLivArea'\n",
       "11. 'HalfBath'\n",
       "12. 'LotArea'\n",
       "13. 'LotFrontage'\n",
       "14. 'MasVnrArea'\n",
       "15. 'MoSold'\n",
       "16. 'OpenPorchSF'\n",
       "17. 'OverallCond'\n",
       "18. 'OverallQual'\n",
       "19. 'SalePrice'\n",
       "20. 'TotalBsmtSF'\n",
       "21. 'TotRmsAbvGrd'\n",
       "22. 'WoodDeckSF'\n",
       "23. 'X1stFlrSF'\n",
       "24. 'X2ndFlrSF'\n",
       "25. 'YearBuilt'\n",
       "26. 'YearRemodAdd'\n",
       "27. 'YrSold'\n",
       "\n",
       "\n"
      ],
      "text/plain": [
       " [1] \"BedroomAbvGr\" \"BsmtFinSF1\"   \"BsmtFullBath\" \"BsmtUnfSF\"    \"Fireplaces\"  \n",
       " [6] \"FullBath\"     \"GarageArea\"   \"GarageCars\"   \"GarageYrBlt\"  \"GrLivArea\"   \n",
       "[11] \"HalfBath\"     \"LotArea\"      \"LotFrontage\"  \"MasVnrArea\"   \"MoSold\"      \n",
       "[16] \"OpenPorchSF\"  \"OverallCond\"  \"OverallQual\"  \"SalePrice\"    \"TotalBsmtSF\" \n",
       "[21] \"TotRmsAbvGrd\" \"WoodDeckSF\"   \"X1stFlrSF\"    \"X2ndFlrSF\"    \"YearBuilt\"   \n",
       "[26] \"YearRemodAdd\" \"YrSold\"      "
      ]
     },
     "metadata": {},
     "output_type": "display_data"
    }
   ],
   "source": [
    "source('main.R')\n",
    "\n",
    "house_prices$helpers$import_libs()\n",
    "\n",
    "combined_dataset <- house_prices$helpers$load_data()\n",
    "\n",
    "numeric_data <- \n",
    "    combined_dataset %>% \n",
    "    select(house_prices$helpers$get_numeric_colnames(combined_dataset), -Id) %>%\n",
    "    select(-one_of(house_prices$attributes_selection$discared_num_vars))\n",
    "\n",
    "numeric_data %>% colnames %>% sort"
   ]
  },
  {
   "cell_type": "code",
   "execution_count": null,
   "metadata": {},
   "outputs": [],
   "source": [
    "numeric_data %>%\n",
    "gather(var, x) %>%\n",
    "mutate(\n",
    "    log = log(x + 1),\n",
    "    sqrt = sqrt(x)\n",
    ") %>%\n",
    "gather(predictor, value, -var) %>%\n",
    "filter(!is.na(value)) %>%\n",
    "group_by(var, predictor) %>%\n",
    "mutate(\n",
    "    value_normed = (value - mean(value)) / sd(value)\n",
    ") %>%\n",
    "group_by(var, predictor, value_normed) %>%\n",
    "arrange(var, predictor, value_normed) %>%\n",
    "summarise(\n",
    "    k = n()\n",
    ") %>%\n",
    "mutate(\n",
    "    empirical = cumsum(k) / sum(k),\n",
    "    theoretical = pnorm(value_normed),\n",
    "    diff_L2 = k*(empirical - theoretical)**2\n",
    ") %>%\n",
    "group_by(var, predictor) %>%\n",
    "summarise(\n",
    "    L2_distance = sum(diff_L2)\n",
    ") %>%\n",
    "arrange(var, L2_distance) %>%\n",
    "mutate(\n",
    "    gain = 100 * (nth(L2_distance, 3) - nth(L2_distance, 1)) / nth(L2_distance, 3)\n",
    ") %>%\n",
    "filter(nth(predictor, 1) == 'x' | gain > 20) %>%\n",
    "filter(row_number() == 1) %>%\n",
    "arrange(L2_distance)"
   ]
  },
  {
   "cell_type": "code",
   "execution_count": null,
   "metadata": {
    "collapsed": true
   },
   "outputs": [],
   "source": []
  },
  {
   "cell_type": "code",
   "execution_count": null,
   "metadata": {
    "collapsed": true
   },
   "outputs": [],
   "source": []
  },
  {
   "cell_type": "code",
   "execution_count": null,
   "metadata": {
    "collapsed": true
   },
   "outputs": [],
   "source": []
  },
  {
   "cell_type": "code",
   "execution_count": null,
   "metadata": {
    "collapsed": true
   },
   "outputs": [],
   "source": []
  },
  {
   "cell_type": "code",
   "execution_count": null,
   "metadata": {
    "collapsed": true
   },
   "outputs": [],
   "source": []
  },
  {
   "cell_type": "code",
   "execution_count": null,
   "metadata": {
    "collapsed": true
   },
   "outputs": [],
   "source": []
  },
  {
   "cell_type": "code",
   "execution_count": null,
   "metadata": {
    "collapsed": true
   },
   "outputs": [],
   "source": []
  },
  {
   "cell_type": "code",
   "execution_count": null,
   "metadata": {
    "collapsed": true
   },
   "outputs": [],
   "source": []
  },
  {
   "cell_type": "code",
   "execution_count": null,
   "metadata": {
    "collapsed": true
   },
   "outputs": [],
   "source": []
  },
  {
   "cell_type": "code",
   "execution_count": null,
   "metadata": {
    "collapsed": true
   },
   "outputs": [],
   "source": []
  },
  {
   "cell_type": "code",
   "execution_count": null,
   "metadata": {
    "collapsed": true
   },
   "outputs": [],
   "source": []
  },
  {
   "cell_type": "code",
   "execution_count": null,
   "metadata": {
    "collapsed": true
   },
   "outputs": [],
   "source": []
  },
  {
   "cell_type": "code",
   "execution_count": null,
   "metadata": {
    "collapsed": true
   },
   "outputs": [],
   "source": []
  },
  {
   "cell_type": "code",
   "execution_count": null,
   "metadata": {
    "collapsed": true
   },
   "outputs": [],
   "source": []
  },
  {
   "cell_type": "code",
   "execution_count": null,
   "metadata": {
    "collapsed": true
   },
   "outputs": [],
   "source": []
  },
  {
   "cell_type": "code",
   "execution_count": null,
   "metadata": {
    "collapsed": true
   },
   "outputs": [],
   "source": []
  },
  {
   "cell_type": "code",
   "execution_count": null,
   "metadata": {
    "collapsed": true
   },
   "outputs": [],
   "source": []
  },
  {
   "cell_type": "code",
   "execution_count": null,
   "metadata": {
    "collapsed": true
   },
   "outputs": [],
   "source": []
  },
  {
   "cell_type": "code",
   "execution_count": null,
   "metadata": {
    "collapsed": true
   },
   "outputs": [],
   "source": []
  }
 ],
 "metadata": {
  "kernelspec": {
   "display_name": "R",
   "language": "R",
   "name": "ir"
  },
  "language_info": {
   "codemirror_mode": "r",
   "file_extension": ".r",
   "mimetype": "text/x-r-source",
   "name": "R",
   "pygments_lexer": "r",
   "version": "3.4.2"
  }
 },
 "nbformat": 4,
 "nbformat_minor": 2
}
