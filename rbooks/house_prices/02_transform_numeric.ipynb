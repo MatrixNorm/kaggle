{
 "cells": [
  {
   "cell_type": "code",
   "execution_count": 1,
   "metadata": {},
   "outputs": [
    {
     "data": {
      "text/html": [
       "'/mnt/hdd/develop/kaggle/R_sources/house_prices'"
      ],
      "text/latex": [
       "'/mnt/hdd/develop/kaggle/R\\_sources/house\\_prices'"
      ],
      "text/markdown": [
       "'/mnt/hdd/develop/kaggle/R_sources/house_prices'"
      ],
      "text/plain": [
       "[1] \"/mnt/hdd/develop/kaggle/R_sources/house_prices\""
      ]
     },
     "metadata": {},
     "output_type": "display_data"
    }
   ],
   "source": [
    "setwd(paste0(Sys.getenv('R_SOURCES'), '/house_prices'))\n",
    "getwd()"
   ]
  },
  {
   "cell_type": "code",
   "execution_count": 13,
   "metadata": {},
   "outputs": [
    {
     "data": {
      "text/html": [
       "<ol class=list-inline>\n",
       "\t<li>'BedroomAbvGr'</li>\n",
       "\t<li>'BsmtFinSF1'</li>\n",
       "\t<li>'BsmtFullBath'</li>\n",
       "\t<li>'BsmtUnfSF'</li>\n",
       "\t<li>'Fireplaces'</li>\n",
       "\t<li>'FullBath'</li>\n",
       "\t<li>'GarageArea'</li>\n",
       "\t<li>'GarageCars'</li>\n",
       "\t<li>'GarageYrBlt'</li>\n",
       "\t<li>'GrLivArea'</li>\n",
       "\t<li>'HalfBath'</li>\n",
       "\t<li>'LotArea'</li>\n",
       "\t<li>'LotFrontage'</li>\n",
       "\t<li>'MasVnrArea'</li>\n",
       "\t<li>'MoSold'</li>\n",
       "\t<li>'OpenPorchSF'</li>\n",
       "\t<li>'OverallCond'</li>\n",
       "\t<li>'OverallQual'</li>\n",
       "\t<li>'SalePrice'</li>\n",
       "\t<li>'TotalBsmtSF'</li>\n",
       "\t<li>'TotRmsAbvGrd'</li>\n",
       "\t<li>'WoodDeckSF'</li>\n",
       "\t<li>'X1stFlrSF'</li>\n",
       "\t<li>'X2ndFlrSF'</li>\n",
       "\t<li>'YearBuilt'</li>\n",
       "\t<li>'YearRemodAdd'</li>\n",
       "\t<li>'YrSold'</li>\n",
       "</ol>\n"
      ],
      "text/latex": [
       "\\begin{enumerate*}\n",
       "\\item 'BedroomAbvGr'\n",
       "\\item 'BsmtFinSF1'\n",
       "\\item 'BsmtFullBath'\n",
       "\\item 'BsmtUnfSF'\n",
       "\\item 'Fireplaces'\n",
       "\\item 'FullBath'\n",
       "\\item 'GarageArea'\n",
       "\\item 'GarageCars'\n",
       "\\item 'GarageYrBlt'\n",
       "\\item 'GrLivArea'\n",
       "\\item 'HalfBath'\n",
       "\\item 'LotArea'\n",
       "\\item 'LotFrontage'\n",
       "\\item 'MasVnrArea'\n",
       "\\item 'MoSold'\n",
       "\\item 'OpenPorchSF'\n",
       "\\item 'OverallCond'\n",
       "\\item 'OverallQual'\n",
       "\\item 'SalePrice'\n",
       "\\item 'TotalBsmtSF'\n",
       "\\item 'TotRmsAbvGrd'\n",
       "\\item 'WoodDeckSF'\n",
       "\\item 'X1stFlrSF'\n",
       "\\item 'X2ndFlrSF'\n",
       "\\item 'YearBuilt'\n",
       "\\item 'YearRemodAdd'\n",
       "\\item 'YrSold'\n",
       "\\end{enumerate*}\n"
      ],
      "text/markdown": [
       "1. 'BedroomAbvGr'\n",
       "2. 'BsmtFinSF1'\n",
       "3. 'BsmtFullBath'\n",
       "4. 'BsmtUnfSF'\n",
       "5. 'Fireplaces'\n",
       "6. 'FullBath'\n",
       "7. 'GarageArea'\n",
       "8. 'GarageCars'\n",
       "9. 'GarageYrBlt'\n",
       "10. 'GrLivArea'\n",
       "11. 'HalfBath'\n",
       "12. 'LotArea'\n",
       "13. 'LotFrontage'\n",
       "14. 'MasVnrArea'\n",
       "15. 'MoSold'\n",
       "16. 'OpenPorchSF'\n",
       "17. 'OverallCond'\n",
       "18. 'OverallQual'\n",
       "19. 'SalePrice'\n",
       "20. 'TotalBsmtSF'\n",
       "21. 'TotRmsAbvGrd'\n",
       "22. 'WoodDeckSF'\n",
       "23. 'X1stFlrSF'\n",
       "24. 'X2ndFlrSF'\n",
       "25. 'YearBuilt'\n",
       "26. 'YearRemodAdd'\n",
       "27. 'YrSold'\n",
       "\n",
       "\n"
      ],
      "text/plain": [
       " [1] \"BedroomAbvGr\" \"BsmtFinSF1\"   \"BsmtFullBath\" \"BsmtUnfSF\"    \"Fireplaces\"  \n",
       " [6] \"FullBath\"     \"GarageArea\"   \"GarageCars\"   \"GarageYrBlt\"  \"GrLivArea\"   \n",
       "[11] \"HalfBath\"     \"LotArea\"      \"LotFrontage\"  \"MasVnrArea\"   \"MoSold\"      \n",
       "[16] \"OpenPorchSF\"  \"OverallCond\"  \"OverallQual\"  \"SalePrice\"    \"TotalBsmtSF\" \n",
       "[21] \"TotRmsAbvGrd\" \"WoodDeckSF\"   \"X1stFlrSF\"    \"X2ndFlrSF\"    \"YearBuilt\"   \n",
       "[26] \"YearRemodAdd\" \"YrSold\"      "
      ]
     },
     "metadata": {},
     "output_type": "display_data"
    }
   ],
   "source": [
    "source('main.R')\n",
    "\n",
    "house_prices$helpers$import_libs()\n",
    "\n",
    "combined_dataset <- house_prices$helpers$load_data()\n",
    "\n",
    "numeric_data <- \n",
    "    combined_dataset %>% \n",
    "    select(house_prices$helpers$get_numeric_colnames(combined_dataset), -Id) %>%\n",
    "    select(-one_of(house_prices$attributes_selection$discared_num_vars))\n",
    "\n",
    "numeric_data %>% colnames %>% sort"
   ]
  },
  {
   "cell_type": "code",
   "execution_count": 68,
   "metadata": {},
   "outputs": [],
   "source": [
    "best_transformation <-\n",
    "    numeric_data %>%\n",
    "    gather(var, x) %>%\n",
    "    filter(!is.na(x)) %>%\n",
    "    mutate(\n",
    "        log = log(x + 1),\n",
    "        sqrt = sqrt(x)\n",
    "    ) %>%\n",
    "    gather(predictor, value, -var) %>%\n",
    "    group_by(var, predictor) %>%\n",
    "    mutate(\n",
    "         value_normed = (value - mean(value)) / sd(value)\n",
    "    ) %>%\n",
    "    group_by(var, predictor, value_normed) %>%\n",
    "    arrange(var, predictor, value_normed) %>%\n",
    "    summarise(\n",
    "        k = n()\n",
    "    ) %>%\n",
    "    mutate(\n",
    "        empirical = cumsum(k) / sum(k),\n",
    "        theoretical = pnorm(value_normed),\n",
    "        diff_L2 = k*(empirical - theoretical)**2\n",
    "    ) %>%\n",
    "    group_by(var, predictor) %>%\n",
    "    summarise(\n",
    "        L2_distance = sum(diff_L2)\n",
    "    ) %>%\n",
    "    group_by(var) %>%\n",
    "    nest %>%\n",
    "    mutate(\n",
    "        best_predictor = map(data, function(df) {\n",
    "            best <- df %>% arrange(L2_distance) %>% head(1)\n",
    "            x <- df %>% filter(predictor == 'x')\n",
    "            score <- 100 * (x$L2_distance - best$L2_distance) / x$L2_distance\n",
    "            data_frame(predictor = best$predictor, score = score)\n",
    "        })\n",
    "    ) %>%\n",
    "    select(var, best_predictor) %>%\n",
    "    unnest(best_predictor) %>%\n",
    "    filter(predictor != 'x' & score > 5)"
   ]
  },
  {
   "cell_type": "code",
   "execution_count": 69,
   "metadata": {
    "cell_style": "split"
   },
   "outputs": [
    {
     "data": {
      "text/html": [
       "<table>\n",
       "<thead><tr><th scope=col>var</th><th scope=col>predictor</th><th scope=col>score</th></tr></thead>\n",
       "<tbody>\n",
       "\t<tr><td>BedroomAbvGr</td><td>log         </td><td>22.36315    </td></tr>\n",
       "\t<tr><td>BsmtUnfSF   </td><td>sqrt        </td><td>80.12889    </td></tr>\n",
       "\t<tr><td>GarageCars  </td><td>log         </td><td>24.95101    </td></tr>\n",
       "\t<tr><td>GrLivArea   </td><td>log         </td><td>92.16162    </td></tr>\n",
       "\t<tr><td>LotArea     </td><td>log         </td><td>73.81288    </td></tr>\n",
       "\t<tr><td>LotFrontage </td><td>sqrt        </td><td>44.25830    </td></tr>\n",
       "\t<tr><td>MoSold      </td><td>log         </td><td>70.75453    </td></tr>\n",
       "\t<tr><td>OverallCond </td><td>log         </td><td>16.23102    </td></tr>\n",
       "\t<tr><td>OverallQual </td><td>log         </td><td>29.98095    </td></tr>\n",
       "\t<tr><td>SalePrice   </td><td>log         </td><td>91.29422    </td></tr>\n",
       "\t<tr><td>TotRmsAbvGrd</td><td>log         </td><td>30.73480    </td></tr>\n",
       "\t<tr><td>X1stFlrSF   </td><td>log         </td><td>91.16598    </td></tr>\n",
       "</tbody>\n",
       "</table>\n"
      ],
      "text/latex": [
       "\\begin{tabular}{r|lll}\n",
       " var & predictor & score\\\\\n",
       "\\hline\n",
       "\t BedroomAbvGr & log          & 22.36315    \\\\\n",
       "\t BsmtUnfSF    & sqrt         & 80.12889    \\\\\n",
       "\t GarageCars   & log          & 24.95101    \\\\\n",
       "\t GrLivArea    & log          & 92.16162    \\\\\n",
       "\t LotArea      & log          & 73.81288    \\\\\n",
       "\t LotFrontage  & sqrt         & 44.25830    \\\\\n",
       "\t MoSold       & log          & 70.75453    \\\\\n",
       "\t OverallCond  & log          & 16.23102    \\\\\n",
       "\t OverallQual  & log          & 29.98095    \\\\\n",
       "\t SalePrice    & log          & 91.29422    \\\\\n",
       "\t TotRmsAbvGrd & log          & 30.73480    \\\\\n",
       "\t X1stFlrSF    & log          & 91.16598    \\\\\n",
       "\\end{tabular}\n"
      ],
      "text/markdown": [
       "\n",
       "var | predictor | score | \n",
       "|---|---|---|---|---|---|---|---|---|---|---|---|\n",
       "| BedroomAbvGr | log          | 22.36315     | \n",
       "| BsmtUnfSF    | sqrt         | 80.12889     | \n",
       "| GarageCars   | log          | 24.95101     | \n",
       "| GrLivArea    | log          | 92.16162     | \n",
       "| LotArea      | log          | 73.81288     | \n",
       "| LotFrontage  | sqrt         | 44.25830     | \n",
       "| MoSold       | log          | 70.75453     | \n",
       "| OverallCond  | log          | 16.23102     | \n",
       "| OverallQual  | log          | 29.98095     | \n",
       "| SalePrice    | log          | 91.29422     | \n",
       "| TotRmsAbvGrd | log          | 30.73480     | \n",
       "| X1stFlrSF    | log          | 91.16598     | \n",
       "\n",
       "\n"
      ],
      "text/plain": [
       "   var          predictor score   \n",
       "1  BedroomAbvGr log       22.36315\n",
       "2  BsmtUnfSF    sqrt      80.12889\n",
       "3  GarageCars   log       24.95101\n",
       "4  GrLivArea    log       92.16162\n",
       "5  LotArea      log       73.81288\n",
       "6  LotFrontage  sqrt      44.25830\n",
       "7  MoSold       log       70.75453\n",
       "8  OverallCond  log       16.23102\n",
       "9  OverallQual  log       29.98095\n",
       "10 SalePrice    log       91.29422\n",
       "11 TotRmsAbvGrd log       30.73480\n",
       "12 X1stFlrSF    log       91.16598"
      ]
     },
     "metadata": {},
     "output_type": "display_data"
    }
   ],
   "source": [
    "best_transformation"
   ]
  },
  {
   "cell_type": "code",
   "execution_count": 70,
   "metadata": {
    "cell_style": "split"
   },
   "outputs": [
    {
     "data": {
      "text/html": [
       "<ol class=list-inline>\n",
       "\t<li>'BedroomAbvGr'</li>\n",
       "\t<li>'BsmtUnfSF'</li>\n",
       "\t<li>'GarageCars'</li>\n",
       "\t<li>'GrLivArea'</li>\n",
       "\t<li>'LotArea'</li>\n",
       "\t<li>'LotFrontage'</li>\n",
       "\t<li>'MoSold'</li>\n",
       "\t<li>'OverallCond'</li>\n",
       "\t<li>'OverallQual'</li>\n",
       "\t<li>'SalePrice'</li>\n",
       "\t<li>'TotRmsAbvGrd'</li>\n",
       "\t<li>'X1stFlrSF'</li>\n",
       "</ol>\n"
      ],
      "text/latex": [
       "\\begin{enumerate*}\n",
       "\\item 'BedroomAbvGr'\n",
       "\\item 'BsmtUnfSF'\n",
       "\\item 'GarageCars'\n",
       "\\item 'GrLivArea'\n",
       "\\item 'LotArea'\n",
       "\\item 'LotFrontage'\n",
       "\\item 'MoSold'\n",
       "\\item 'OverallCond'\n",
       "\\item 'OverallQual'\n",
       "\\item 'SalePrice'\n",
       "\\item 'TotRmsAbvGrd'\n",
       "\\item 'X1stFlrSF'\n",
       "\\end{enumerate*}\n"
      ],
      "text/markdown": [
       "1. 'BedroomAbvGr'\n",
       "2. 'BsmtUnfSF'\n",
       "3. 'GarageCars'\n",
       "4. 'GrLivArea'\n",
       "5. 'LotArea'\n",
       "6. 'LotFrontage'\n",
       "7. 'MoSold'\n",
       "8. 'OverallCond'\n",
       "9. 'OverallQual'\n",
       "10. 'SalePrice'\n",
       "11. 'TotRmsAbvGrd'\n",
       "12. 'X1stFlrSF'\n",
       "\n",
       "\n"
      ],
      "text/plain": [
       " [1] \"BedroomAbvGr\" \"BsmtUnfSF\"    \"GarageCars\"   \"GrLivArea\"    \"LotArea\"     \n",
       " [6] \"LotFrontage\"  \"MoSold\"       \"OverallCond\"  \"OverallQual\"  \"SalePrice\"   \n",
       "[11] \"TotRmsAbvGrd\" \"X1stFlrSF\"   "
      ]
     },
     "metadata": {},
     "output_type": "display_data"
    }
   ],
   "source": [
    "best_transformation$var"
   ]
  },
  {
   "cell_type": "code",
   "execution_count": 72,
   "metadata": {},
   "outputs": [
    {
     "data": {
      "text/html": [
       "<table>\n",
       "<thead><tr><th scope=col>var</th><th scope=col>value</th></tr></thead>\n",
       "<tbody>\n",
       "\t<tr><td>BedroomAbvGr</td><td>3           </td></tr>\n",
       "\t<tr><td>BedroomAbvGr</td><td>3           </td></tr>\n",
       "\t<tr><td>BedroomAbvGr</td><td>3           </td></tr>\n",
       "\t<tr><td>BedroomAbvGr</td><td>3           </td></tr>\n",
       "\t<tr><td>BedroomAbvGr</td><td>4           </td></tr>\n",
       "\t<tr><td>BedroomAbvGr</td><td>1           </td></tr>\n",
       "\t<tr><td>BedroomAbvGr</td><td>3           </td></tr>\n",
       "\t<tr><td>BedroomAbvGr</td><td>3           </td></tr>\n",
       "\t<tr><td>BedroomAbvGr</td><td>2           </td></tr>\n",
       "\t<tr><td>BedroomAbvGr</td><td>2           </td></tr>\n",
       "\t<tr><td>BedroomAbvGr</td><td>3           </td></tr>\n",
       "\t<tr><td>BedroomAbvGr</td><td>4           </td></tr>\n",
       "\t<tr><td>BedroomAbvGr</td><td>2           </td></tr>\n",
       "\t<tr><td>BedroomAbvGr</td><td>3           </td></tr>\n",
       "\t<tr><td>BedroomAbvGr</td><td>2           </td></tr>\n",
       "\t<tr><td>BedroomAbvGr</td><td>2           </td></tr>\n",
       "\t<tr><td>BedroomAbvGr</td><td>2           </td></tr>\n",
       "\t<tr><td>BedroomAbvGr</td><td>2           </td></tr>\n",
       "\t<tr><td>BedroomAbvGr</td><td>3           </td></tr>\n",
       "\t<tr><td>BedroomAbvGr</td><td>3           </td></tr>\n",
       "\t<tr><td>BedroomAbvGr</td><td>4           </td></tr>\n",
       "\t<tr><td>BedroomAbvGr</td><td>3           </td></tr>\n",
       "\t<tr><td>BedroomAbvGr</td><td>3           </td></tr>\n",
       "\t<tr><td>BedroomAbvGr</td><td>3           </td></tr>\n",
       "\t<tr><td>BedroomAbvGr</td><td>3           </td></tr>\n",
       "\t<tr><td>BedroomAbvGr</td><td>3           </td></tr>\n",
       "\t<tr><td>BedroomAbvGr</td><td>3           </td></tr>\n",
       "\t<tr><td>BedroomAbvGr</td><td>3           </td></tr>\n",
       "\t<tr><td>BedroomAbvGr</td><td>2           </td></tr>\n",
       "\t<tr><td>BedroomAbvGr</td><td>1           </td></tr>\n",
       "\t<tr><td>⋮</td><td>⋮</td></tr>\n",
       "\t<tr><td>X1stFlrSF</td><td> 641     </td></tr>\n",
       "\t<tr><td>X1stFlrSF</td><td> 967     </td></tr>\n",
       "\t<tr><td>X1stFlrSF</td><td> 729     </td></tr>\n",
       "\t<tr><td>X1stFlrSF</td><td>1060     </td></tr>\n",
       "\t<tr><td>X1stFlrSF</td><td> 576     </td></tr>\n",
       "\t<tr><td>X1stFlrSF</td><td>1778     </td></tr>\n",
       "\t<tr><td>X1stFlrSF</td><td>1646     </td></tr>\n",
       "\t<tr><td>X1stFlrSF</td><td>1625     </td></tr>\n",
       "\t<tr><td>X1stFlrSF</td><td>1664     </td></tr>\n",
       "\t<tr><td>X1stFlrSF</td><td>1491     </td></tr>\n",
       "\t<tr><td>X1stFlrSF</td><td>1210     </td></tr>\n",
       "\t<tr><td>X1stFlrSF</td><td>1650     </td></tr>\n",
       "\t<tr><td>X1stFlrSF</td><td>1403     </td></tr>\n",
       "\t<tr><td>X1stFlrSF</td><td>1960     </td></tr>\n",
       "\t<tr><td>X1stFlrSF</td><td>1838     </td></tr>\n",
       "\t<tr><td>X1stFlrSF</td><td>1600     </td></tr>\n",
       "\t<tr><td>X1stFlrSF</td><td>1368     </td></tr>\n",
       "\t<tr><td>X1stFlrSF</td><td> 616     </td></tr>\n",
       "\t<tr><td>X1stFlrSF</td><td> 874     </td></tr>\n",
       "\t<tr><td>X1stFlrSF</td><td>1652     </td></tr>\n",
       "\t<tr><td>X1stFlrSF</td><td> 630     </td></tr>\n",
       "\t<tr><td>X1stFlrSF</td><td> 546     </td></tr>\n",
       "\t<tr><td>X1stFlrSF</td><td>1360     </td></tr>\n",
       "\t<tr><td>X1stFlrSF</td><td> 546     </td></tr>\n",
       "\t<tr><td>X1stFlrSF</td><td> 546     </td></tr>\n",
       "\t<tr><td>X1stFlrSF</td><td> 546     </td></tr>\n",
       "\t<tr><td>X1stFlrSF</td><td> 546     </td></tr>\n",
       "\t<tr><td>X1stFlrSF</td><td>1224     </td></tr>\n",
       "\t<tr><td>X1stFlrSF</td><td> 970     </td></tr>\n",
       "\t<tr><td>X1stFlrSF</td><td> 996     </td></tr>\n",
       "</tbody>\n",
       "</table>\n"
      ],
      "text/latex": [
       "\\begin{tabular}{r|ll}\n",
       " var & value\\\\\n",
       "\\hline\n",
       "\t BedroomAbvGr & 3           \\\\\n",
       "\t BedroomAbvGr & 3           \\\\\n",
       "\t BedroomAbvGr & 3           \\\\\n",
       "\t BedroomAbvGr & 3           \\\\\n",
       "\t BedroomAbvGr & 4           \\\\\n",
       "\t BedroomAbvGr & 1           \\\\\n",
       "\t BedroomAbvGr & 3           \\\\\n",
       "\t BedroomAbvGr & 3           \\\\\n",
       "\t BedroomAbvGr & 2           \\\\\n",
       "\t BedroomAbvGr & 2           \\\\\n",
       "\t BedroomAbvGr & 3           \\\\\n",
       "\t BedroomAbvGr & 4           \\\\\n",
       "\t BedroomAbvGr & 2           \\\\\n",
       "\t BedroomAbvGr & 3           \\\\\n",
       "\t BedroomAbvGr & 2           \\\\\n",
       "\t BedroomAbvGr & 2           \\\\\n",
       "\t BedroomAbvGr & 2           \\\\\n",
       "\t BedroomAbvGr & 2           \\\\\n",
       "\t BedroomAbvGr & 3           \\\\\n",
       "\t BedroomAbvGr & 3           \\\\\n",
       "\t BedroomAbvGr & 4           \\\\\n",
       "\t BedroomAbvGr & 3           \\\\\n",
       "\t BedroomAbvGr & 3           \\\\\n",
       "\t BedroomAbvGr & 3           \\\\\n",
       "\t BedroomAbvGr & 3           \\\\\n",
       "\t BedroomAbvGr & 3           \\\\\n",
       "\t BedroomAbvGr & 3           \\\\\n",
       "\t BedroomAbvGr & 3           \\\\\n",
       "\t BedroomAbvGr & 2           \\\\\n",
       "\t BedroomAbvGr & 1           \\\\\n",
       "\t ⋮ & ⋮\\\\\n",
       "\t X1stFlrSF &  641     \\\\\n",
       "\t X1stFlrSF &  967     \\\\\n",
       "\t X1stFlrSF &  729     \\\\\n",
       "\t X1stFlrSF & 1060     \\\\\n",
       "\t X1stFlrSF &  576     \\\\\n",
       "\t X1stFlrSF & 1778     \\\\\n",
       "\t X1stFlrSF & 1646     \\\\\n",
       "\t X1stFlrSF & 1625     \\\\\n",
       "\t X1stFlrSF & 1664     \\\\\n",
       "\t X1stFlrSF & 1491     \\\\\n",
       "\t X1stFlrSF & 1210     \\\\\n",
       "\t X1stFlrSF & 1650     \\\\\n",
       "\t X1stFlrSF & 1403     \\\\\n",
       "\t X1stFlrSF & 1960     \\\\\n",
       "\t X1stFlrSF & 1838     \\\\\n",
       "\t X1stFlrSF & 1600     \\\\\n",
       "\t X1stFlrSF & 1368     \\\\\n",
       "\t X1stFlrSF &  616     \\\\\n",
       "\t X1stFlrSF &  874     \\\\\n",
       "\t X1stFlrSF & 1652     \\\\\n",
       "\t X1stFlrSF &  630     \\\\\n",
       "\t X1stFlrSF &  546     \\\\\n",
       "\t X1stFlrSF & 1360     \\\\\n",
       "\t X1stFlrSF &  546     \\\\\n",
       "\t X1stFlrSF &  546     \\\\\n",
       "\t X1stFlrSF &  546     \\\\\n",
       "\t X1stFlrSF &  546     \\\\\n",
       "\t X1stFlrSF & 1224     \\\\\n",
       "\t X1stFlrSF &  970     \\\\\n",
       "\t X1stFlrSF &  996     \\\\\n",
       "\\end{tabular}\n"
      ],
      "text/markdown": [
       "\n",
       "var | value | \n",
       "|---|---|---|---|---|---|---|---|---|---|---|---|---|---|---|---|---|---|---|---|---|---|---|---|---|---|---|---|---|---|---|---|---|---|---|---|---|---|---|---|---|---|---|---|---|---|---|---|---|---|---|---|---|---|---|---|---|---|---|---|---|\n",
       "| BedroomAbvGr | 3            | \n",
       "| BedroomAbvGr | 3            | \n",
       "| BedroomAbvGr | 3            | \n",
       "| BedroomAbvGr | 3            | \n",
       "| BedroomAbvGr | 4            | \n",
       "| BedroomAbvGr | 1            | \n",
       "| BedroomAbvGr | 3            | \n",
       "| BedroomAbvGr | 3            | \n",
       "| BedroomAbvGr | 2            | \n",
       "| BedroomAbvGr | 2            | \n",
       "| BedroomAbvGr | 3            | \n",
       "| BedroomAbvGr | 4            | \n",
       "| BedroomAbvGr | 2            | \n",
       "| BedroomAbvGr | 3            | \n",
       "| BedroomAbvGr | 2            | \n",
       "| BedroomAbvGr | 2            | \n",
       "| BedroomAbvGr | 2            | \n",
       "| BedroomAbvGr | 2            | \n",
       "| BedroomAbvGr | 3            | \n",
       "| BedroomAbvGr | 3            | \n",
       "| BedroomAbvGr | 4            | \n",
       "| BedroomAbvGr | 3            | \n",
       "| BedroomAbvGr | 3            | \n",
       "| BedroomAbvGr | 3            | \n",
       "| BedroomAbvGr | 3            | \n",
       "| BedroomAbvGr | 3            | \n",
       "| BedroomAbvGr | 3            | \n",
       "| BedroomAbvGr | 3            | \n",
       "| BedroomAbvGr | 2            | \n",
       "| BedroomAbvGr | 1            | \n",
       "| ⋮ | ⋮ | \n",
       "| X1stFlrSF |  641      | \n",
       "| X1stFlrSF |  967      | \n",
       "| X1stFlrSF |  729      | \n",
       "| X1stFlrSF | 1060      | \n",
       "| X1stFlrSF |  576      | \n",
       "| X1stFlrSF | 1778      | \n",
       "| X1stFlrSF | 1646      | \n",
       "| X1stFlrSF | 1625      | \n",
       "| X1stFlrSF | 1664      | \n",
       "| X1stFlrSF | 1491      | \n",
       "| X1stFlrSF | 1210      | \n",
       "| X1stFlrSF | 1650      | \n",
       "| X1stFlrSF | 1403      | \n",
       "| X1stFlrSF | 1960      | \n",
       "| X1stFlrSF | 1838      | \n",
       "| X1stFlrSF | 1600      | \n",
       "| X1stFlrSF | 1368      | \n",
       "| X1stFlrSF |  616      | \n",
       "| X1stFlrSF |  874      | \n",
       "| X1stFlrSF | 1652      | \n",
       "| X1stFlrSF |  630      | \n",
       "| X1stFlrSF |  546      | \n",
       "| X1stFlrSF | 1360      | \n",
       "| X1stFlrSF |  546      | \n",
       "| X1stFlrSF |  546      | \n",
       "| X1stFlrSF |  546      | \n",
       "| X1stFlrSF |  546      | \n",
       "| X1stFlrSF | 1224      | \n",
       "| X1stFlrSF |  970      | \n",
       "| X1stFlrSF |  996      | \n",
       "\n",
       "\n"
      ],
      "text/plain": [
       "      var          value\n",
       "1     BedroomAbvGr 3    \n",
       "2     BedroomAbvGr 3    \n",
       "3     BedroomAbvGr 3    \n",
       "4     BedroomAbvGr 3    \n",
       "5     BedroomAbvGr 4    \n",
       "6     BedroomAbvGr 1    \n",
       "7     BedroomAbvGr 3    \n",
       "8     BedroomAbvGr 3    \n",
       "9     BedroomAbvGr 2    \n",
       "10    BedroomAbvGr 2    \n",
       "11    BedroomAbvGr 3    \n",
       "12    BedroomAbvGr 4    \n",
       "13    BedroomAbvGr 2    \n",
       "14    BedroomAbvGr 3    \n",
       "15    BedroomAbvGr 2    \n",
       "16    BedroomAbvGr 2    \n",
       "17    BedroomAbvGr 2    \n",
       "18    BedroomAbvGr 2    \n",
       "19    BedroomAbvGr 3    \n",
       "20    BedroomAbvGr 3    \n",
       "21    BedroomAbvGr 4    \n",
       "22    BedroomAbvGr 3    \n",
       "23    BedroomAbvGr 3    \n",
       "24    BedroomAbvGr 3    \n",
       "25    BedroomAbvGr 3    \n",
       "26    BedroomAbvGr 3    \n",
       "27    BedroomAbvGr 3    \n",
       "28    BedroomAbvGr 3    \n",
       "29    BedroomAbvGr 2    \n",
       "30    BedroomAbvGr 1    \n",
       "⋮     ⋮            ⋮    \n",
       "34999 X1stFlrSF     641 \n",
       "35000 X1stFlrSF     967 \n",
       "35001 X1stFlrSF     729 \n",
       "35002 X1stFlrSF    1060 \n",
       "35003 X1stFlrSF     576 \n",
       "35004 X1stFlrSF    1778 \n",
       "35005 X1stFlrSF    1646 \n",
       "35006 X1stFlrSF    1625 \n",
       "35007 X1stFlrSF    1664 \n",
       "35008 X1stFlrSF    1491 \n",
       "35009 X1stFlrSF    1210 \n",
       "35010 X1stFlrSF    1650 \n",
       "35011 X1stFlrSF    1403 \n",
       "35012 X1stFlrSF    1960 \n",
       "35013 X1stFlrSF    1838 \n",
       "35014 X1stFlrSF    1600 \n",
       "35015 X1stFlrSF    1368 \n",
       "35016 X1stFlrSF     616 \n",
       "35017 X1stFlrSF     874 \n",
       "35018 X1stFlrSF    1652 \n",
       "35019 X1stFlrSF     630 \n",
       "35020 X1stFlrSF     546 \n",
       "35021 X1stFlrSF    1360 \n",
       "35022 X1stFlrSF     546 \n",
       "35023 X1stFlrSF     546 \n",
       "35024 X1stFlrSF     546 \n",
       "35025 X1stFlrSF     546 \n",
       "35026 X1stFlrSF    1224 \n",
       "35027 X1stFlrSF     970 \n",
       "35028 X1stFlrSF     996 "
      ]
     },
     "metadata": {},
     "output_type": "display_data"
    }
   ],
   "source": [
    "numeric_data %>%\n",
    "    select(one_of(best_transformation$var)) %>%\n",
    "    gather(var, value)"
   ]
  },
  {
   "cell_type": "code",
   "execution_count": null,
   "metadata": {
    "collapsed": true
   },
   "outputs": [],
   "source": []
  },
  {
   "cell_type": "code",
   "execution_count": null,
   "metadata": {
    "collapsed": true
   },
   "outputs": [],
   "source": []
  },
  {
   "cell_type": "code",
   "execution_count": null,
   "metadata": {
    "collapsed": true
   },
   "outputs": [],
   "source": []
  },
  {
   "cell_type": "code",
   "execution_count": null,
   "metadata": {
    "collapsed": true
   },
   "outputs": [],
   "source": []
  },
  {
   "cell_type": "code",
   "execution_count": null,
   "metadata": {
    "collapsed": true
   },
   "outputs": [],
   "source": []
  },
  {
   "cell_type": "code",
   "execution_count": null,
   "metadata": {
    "collapsed": true
   },
   "outputs": [],
   "source": []
  },
  {
   "cell_type": "code",
   "execution_count": null,
   "metadata": {
    "collapsed": true
   },
   "outputs": [],
   "source": []
  },
  {
   "cell_type": "code",
   "execution_count": null,
   "metadata": {
    "collapsed": true
   },
   "outputs": [],
   "source": []
  },
  {
   "cell_type": "code",
   "execution_count": null,
   "metadata": {
    "collapsed": true
   },
   "outputs": [],
   "source": []
  },
  {
   "cell_type": "code",
   "execution_count": null,
   "metadata": {
    "collapsed": true
   },
   "outputs": [],
   "source": []
  },
  {
   "cell_type": "code",
   "execution_count": null,
   "metadata": {
    "collapsed": true
   },
   "outputs": [],
   "source": []
  },
  {
   "cell_type": "code",
   "execution_count": null,
   "metadata": {
    "collapsed": true
   },
   "outputs": [],
   "source": []
  },
  {
   "cell_type": "code",
   "execution_count": null,
   "metadata": {
    "collapsed": true
   },
   "outputs": [],
   "source": []
  },
  {
   "cell_type": "code",
   "execution_count": null,
   "metadata": {
    "collapsed": true
   },
   "outputs": [],
   "source": []
  },
  {
   "cell_type": "code",
   "execution_count": null,
   "metadata": {
    "collapsed": true
   },
   "outputs": [],
   "source": []
  },
  {
   "cell_type": "code",
   "execution_count": null,
   "metadata": {
    "collapsed": true
   },
   "outputs": [],
   "source": []
  }
 ],
 "metadata": {
  "kernelspec": {
   "display_name": "R",
   "language": "R",
   "name": "ir"
  },
  "language_info": {
   "codemirror_mode": "r",
   "file_extension": ".r",
   "mimetype": "text/x-r-source",
   "name": "R",
   "pygments_lexer": "r",
   "version": "3.4.2"
  }
 },
 "nbformat": 4,
 "nbformat_minor": 2
}
