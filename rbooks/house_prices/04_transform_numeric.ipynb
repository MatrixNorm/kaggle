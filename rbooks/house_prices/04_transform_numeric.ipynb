{
 "cells": [
  {
   "cell_type": "code",
   "execution_count": 35,
   "metadata": {
    "collapsed": true
   },
   "outputs": [],
   "source": [
    "setwd(paste0(Sys.getenv('R_SOURCES'), '/house_prices'))\n",
    "source('main.R')\n",
    "house_prices$helpers$import_libs()\n",
    "\n",
    "combined_dataset <-\n",
    "    house_prices$helpers$load_data() %>%\n",
    "    (house_prices$outliers$remove_outliers) %>%\n",
    "    (house_prices$missing$fix_all) %>%\n",
    "    select(-Id)\n",
    "\n",
    "test_that(\"should be no NA values except SalePrice column\", {\n",
    "    expect_equal(sum(is.na(combined_dataset %>% select(-SalePrice))), 0)\n",
    "})"
   ]
  },
  {
   "cell_type": "code",
   "execution_count": 46,
   "metadata": {
    "scrolled": false
   },
   "outputs": [
    {
     "ename": "ERROR",
     "evalue": "Error in tbl_vars(y): object 'fn_df' not found\n",
     "output_type": "error",
     "traceback": [
      "Error in tbl_vars(y): object 'fn_df' not found\nTraceback:\n",
      "1. house_prices$trans$numeric$get_transformation_config(dataset = combined_dataset, \n .     trans = trans) %>% filter(progress_score > 40)",
      "2. eval(lhs, parent, parent)",
      "3. eval(lhs, parent, parent)",
      "4. house_prices$trans$numeric$get_transformation_config(dataset = combined_dataset, \n .     trans = trans)",
      "5. calc_tran_config_step1(dataset, columns, trans) %>% calc_tran_config_step2 %>% \n .     calc_tran_config_step3",
      "6. withVisible(eval(quote(`_fseq`(`_lhs`)), env, env))",
      "7. eval(quote(`_fseq`(`_lhs`)), env, env)",
      "8. eval(quote(`_fseq`(`_lhs`)), env, env)",
      "9. `_fseq`(`_lhs`)",
      "10. freduce(value, `_function_list`)",
      "11. withVisible(function_list[[k]](value))",
      "12. function_list[[k]](value)",
      "13. calc_tran_config_step3(.)",
      "14. dataset %>% group_by(var) %>% nest %>% mutate(best_tran = map(data, \n  .     function(df) {\n  .         best <- df %>% arrange(L2_distance) %>% head(1)\n  .         vanilla <- df %>% filter(tran == \"x\")\n  .         progress_score <- 100 * (vanilla$L2_distance - best$L2_distance)/vanilla$L2_distance\n  .         data_frame(tran = best$tran, progress_score = progress_score)\n  .     })) %>% select(var, best_tran) %>% unnest(best_tran) %>% \n  .     filter(tran != \"x\") %>% arrange(desc(progress_score)) %>% \n  .     inner_join(fn_df, by = c(tran = \"tran_name\"))",
      "15. withVisible(eval(quote(`_fseq`(`_lhs`)), env, env))",
      "16. eval(quote(`_fseq`(`_lhs`)), env, env)",
      "17. eval(quote(`_fseq`(`_lhs`)), env, env)",
      "18. `_fseq`(`_lhs`)",
      "19. freduce(value, `_function_list`)",
      "20. withVisible(function_list[[k]](value))",
      "21. function_list[[k]](value)",
      "22. inner_join(., fn_df, by = c(tran = \"tran_name\"))",
      "23. inner_join.tbl_df(., fn_df, by = c(tran = \"tran_name\"))",
      "24. common_by(by, x, y)",
      "25. common_by.character(by, x, y)",
      "26. common_by.list(by, x, y)",
      "27. tbl_vars(y)"
     ]
    }
   ],
   "source": [
    "options(repr.plot.width = 16, repr.plot.height = 14, repr.plot.res=280)\n",
    "source('main.R')\n",
    "\n",
    "trans <- tribble(\n",
    "    ~tran_name, ~tran_defin,\n",
    "    'log',      function(x) log(x+1),\n",
    "    'sqrt',     function(x) sqrt(x),\n",
    "    'invcube',  function(x) x**(1/3)\n",
    ")\n",
    "\n",
    "transformation_config <- \n",
    "    house_prices$trans$numeric$get_transformation_config(\n",
    "        dataset=combined_dataset,\n",
    "        trans=trans\n",
    "    ) %>% \n",
    "    filter(progress_score > 40)\n",
    "\n",
    "transformation_config \n",
    "\n",
    "# df <- house_prices$trans$numeric$for_qq_plot(combined_dataset, transformation_config)\n",
    "\n",
    "# df %>%\n",
    "# ggplot() +\n",
    "# geom_qq(aes(sample=normed_value), alpha=0.2) +\n",
    "# facet_wrap(var~tran, ncol=4, scales=\"free\") +\n",
    "# geom_abline(slope=1) +\n",
    "# theme_bw()"
   ]
  },
  {
   "cell_type": "code",
   "execution_count": 18,
   "metadata": {
    "collapsed": true
   },
   "outputs": [],
   "source": [
    "source('main.R')\n",
    "\n",
    "transformation_config <- house_prices$trans$numeric$get_transformation_config(combined_dataset)\n",
    "\n",
    "combined_dataset_transformed <-\n",
    "    house_prices$trans$numeric$apply_transform(combined_dataset, transformation_config)\n",
    "\n",
    "\n",
    "test_that(\"should be equal\", {\n",
    "    expect_equal(\n",
    "        combined_dataset_transformed %>% select(-one_of(transformation_config$var)), \n",
    "        combined_dataset %>% select(-one_of(transformation_config$var))\n",
    "    )\n",
    "})\n",
    "\n",
    "test_that(\"GrLivArea\", {\n",
    "    expect_equal(\n",
    "        combined_dataset_transformed$GrLivArea, \n",
    "        log(combined_dataset$GrLivArea + 1)\n",
    "    )\n",
    "})\n",
    "\n",
    "test_that(\"BsmtUnfSF\", {\n",
    "    expect_equal(\n",
    "        combined_dataset_transformed$BsmtUnfSF, \n",
    "        sqrt(combined_dataset$BsmtUnfSF)\n",
    "    )\n",
    "})"
   ]
  },
  {
   "cell_type": "code",
   "execution_count": null,
   "metadata": {
    "collapsed": true
   },
   "outputs": [],
   "source": []
  },
  {
   "cell_type": "code",
   "execution_count": null,
   "metadata": {
    "collapsed": true
   },
   "outputs": [],
   "source": []
  },
  {
   "cell_type": "code",
   "execution_count": null,
   "metadata": {
    "collapsed": true
   },
   "outputs": [],
   "source": []
  },
  {
   "cell_type": "code",
   "execution_count": null,
   "metadata": {
    "collapsed": true
   },
   "outputs": [],
   "source": []
  },
  {
   "cell_type": "code",
   "execution_count": null,
   "metadata": {
    "collapsed": true
   },
   "outputs": [],
   "source": []
  },
  {
   "cell_type": "code",
   "execution_count": null,
   "metadata": {
    "collapsed": true
   },
   "outputs": [],
   "source": []
  },
  {
   "cell_type": "code",
   "execution_count": null,
   "metadata": {
    "collapsed": true
   },
   "outputs": [],
   "source": []
  },
  {
   "cell_type": "code",
   "execution_count": null,
   "metadata": {
    "collapsed": true
   },
   "outputs": [],
   "source": []
  },
  {
   "cell_type": "code",
   "execution_count": null,
   "metadata": {
    "collapsed": true
   },
   "outputs": [],
   "source": []
  },
  {
   "cell_type": "code",
   "execution_count": null,
   "metadata": {
    "collapsed": true
   },
   "outputs": [],
   "source": []
  },
  {
   "cell_type": "code",
   "execution_count": null,
   "metadata": {
    "collapsed": true
   },
   "outputs": [],
   "source": []
  },
  {
   "cell_type": "code",
   "execution_count": null,
   "metadata": {
    "collapsed": true
   },
   "outputs": [],
   "source": []
  },
  {
   "cell_type": "code",
   "execution_count": null,
   "metadata": {
    "collapsed": true
   },
   "outputs": [],
   "source": []
  },
  {
   "cell_type": "code",
   "execution_count": null,
   "metadata": {
    "collapsed": true
   },
   "outputs": [],
   "source": []
  }
 ],
 "metadata": {
  "kernelspec": {
   "display_name": "R",
   "language": "R",
   "name": "ir"
  },
  "language_info": {
   "codemirror_mode": "r",
   "file_extension": ".r",
   "mimetype": "text/x-r-source",
   "name": "R",
   "pygments_lexer": "r",
   "version": "3.4.2"
  }
 },
 "nbformat": 4,
 "nbformat_minor": 2
}
