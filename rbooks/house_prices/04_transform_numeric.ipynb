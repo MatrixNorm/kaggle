{
 "cells": [
  {
   "cell_type": "code",
   "execution_count": 45,
   "metadata": {},
   "outputs": [],
   "source": [
    "setwd(paste0(Sys.getenv('R_SOURCES'), '/house_prices'))\n",
    "source('main.R')\n",
    "house_prices$helpers$import_libs()\n",
    "\n",
    "combined_dataset <-\n",
    "    house_prices$helpers$load_data() %>%\n",
    "    (house_prices$outliers$remove_outliers) %>%\n",
    "    (house_prices$missing$fix_all) %>%\n",
    "    select(-Id)\n",
    "\n",
    "test_that(\"should be no NA values except SalePrice column\", {\n",
    "    expect_equal(sum(is.na(combined_dataset %>% select(-SalePrice))), 0)\n",
    "})"
   ]
  },
  {
   "cell_type": "code",
   "execution_count": null,
   "metadata": {
    "scrolled": false
   },
   "outputs": [
    {
     "data": {
      "text/html": [
       "<table>\n",
       "<thead><tr><th scope=col>var</th><th scope=col>tran</th><th scope=col>progress_score</th><th scope=col>tran_defin</th></tr></thead>\n",
       "<tbody>\n",
       "\t<tr><td>SalePrice                </td><td>log                      </td><td>91.29809                 </td><td>function (x) , log(x + 1)</td></tr>\n",
       "\t<tr><td>GrLivArea                </td><td>log                      </td><td>91.15794                 </td><td>function (x) , log(x + 1)</td></tr>\n",
       "\t<tr><td>X1stFlrSF                </td><td>log                      </td><td>90.77166                 </td><td>function (x) , log(x + 1)</td></tr>\n",
       "\t<tr><td>BsmtUnfSF             </td><td>sqrt                  </td><td>79.97603              </td><td>function (x) , sqrt(x)</td></tr>\n",
       "\t<tr><td>LotArea               </td><td>invcube               </td><td>78.43689              </td><td>function (x) , x^(1/3)</td></tr>\n",
       "\t<tr><td>TotRmsAbvGrd             </td><td>log                      </td><td>30.68502                 </td><td>function (x) , log(x + 1)</td></tr>\n",
       "</tbody>\n",
       "</table>\n"
      ],
      "text/latex": [
       "\\begin{tabular}{r|llll}\n",
       " var & tran & progress\\_score & tran\\_defin\\\\\n",
       "\\hline\n",
       "\t SalePrice                 & log                       & 91.29809                  & function (x) , log(x + 1)\\\\\n",
       "\t GrLivArea                 & log                       & 91.15794                  & function (x) , log(x + 1)\\\\\n",
       "\t X1stFlrSF                 & log                       & 90.77166                  & function (x) , log(x + 1)\\\\\n",
       "\t BsmtUnfSF              & sqrt                   & 79.97603               & function (x) , sqrt(x)\\\\\n",
       "\t LotArea                                  & invcube                                  & 78.43689                                 & function (x) , x\\textasciicircum{}(1/3)\\\\\n",
       "\t TotRmsAbvGrd              & log                       & 30.68502                  & function (x) , log(x + 1)\\\\\n",
       "\\end{tabular}\n"
      ],
      "text/markdown": [
       "\n",
       "var | tran | progress_score | tran_defin | \n",
       "|---|---|---|---|---|---|\n",
       "| SalePrice                 | log                       | 91.29809                  | function (x) , log(x + 1) | \n",
       "| GrLivArea                 | log                       | 91.15794                  | function (x) , log(x + 1) | \n",
       "| X1stFlrSF                 | log                       | 90.77166                  | function (x) , log(x + 1) | \n",
       "| BsmtUnfSF              | sqrt                   | 79.97603               | function (x) , sqrt(x) | \n",
       "| LotArea                | invcube                | 78.43689               | function (x) , x^(1/3) | \n",
       "| TotRmsAbvGrd              | log                       | 30.68502                  | function (x) , log(x + 1) | \n",
       "\n",
       "\n"
      ],
      "text/plain": [
       "  var          tran    progress_score tran_defin               \n",
       "1 SalePrice    log     91.29809       function (x) , log(x + 1)\n",
       "2 GrLivArea    log     91.15794       function (x) , log(x + 1)\n",
       "3 X1stFlrSF    log     90.77166       function (x) , log(x + 1)\n",
       "4 BsmtUnfSF    sqrt    79.97603       function (x) , sqrt(x)   \n",
       "5 LotArea      invcube 78.43689       function (x) , x^(1/3)   \n",
       "6 TotRmsAbvGrd log     30.68502       function (x) , log(x + 1)"
      ]
     },
     "metadata": {},
     "output_type": "display_data"
    }
   ],
   "source": [
    "options(repr.plot.width = 16, repr.plot.height = 14, repr.plot.res=280)\n",
    "source('main.R')\n",
    "\n",
    "trans <- tribble(\n",
    "    ~tran_name, ~tran_defin,\n",
    "    'log',      function(x) log(x+1),\n",
    "    'sqrt',     function(x) sqrt(x),\n",
    "    'invcube',  function(x) x**(1/3)\n",
    ")\n",
    "\n",
    "transformation_config <- \n",
    "    house_prices$trans$numeric$get_transformation_config(\n",
    "        dataset=combined_dataset,\n",
    "        trans=trans\n",
    "    ) %>% \n",
    "    filter(progress_score > 30)\n",
    "\n",
    "transformation_config \n",
    "\n",
    "df <- house_prices$trans$numeric$for_qq_plot(combined_dataset, transformation_config)\n",
    "df %>%\n",
    "ggplot() +\n",
    "geom_qq(aes(sample=normed_value), alpha=0.2) +\n",
    "facet_wrap(var~tran, ncol=4, scales=\"free\") +\n",
    "geom_abline(slope=1) +\n",
    "theme_bw()"
   ]
  },
  {
   "cell_type": "code",
   "execution_count": 26,
   "metadata": {},
   "outputs": [],
   "source": [
    "source('main.R')\n",
    "\n",
    "transformation_config <- house_prices$trans$numeric$get_transformation_config(\n",
    "    dataset=combined_dataset,\n",
    "    trans=trans\n",
    ")\n",
    "\n",
    "combined_dataset_transformed <-\n",
    "    house_prices$trans$numeric$apply_transform(combined_dataset, transformation_config)\n",
    "\n",
    "\n",
    "test_that(\"should be equal\", {\n",
    "    expect_equal(\n",
    "        combined_dataset_transformed %>% select(-one_of(transformation_config$var)), \n",
    "        combined_dataset %>% select(-one_of(transformation_config$var))\n",
    "    )\n",
    "})\n",
    "\n",
    "test_that(\"GrLivArea\", {\n",
    "    expect_equal(\n",
    "        combined_dataset_transformed$GrLivArea, \n",
    "        log(combined_dataset$GrLivArea + 1)\n",
    "    )\n",
    "})\n",
    "\n",
    "test_that(\"BsmtUnfSF\", {\n",
    "    expect_equal(\n",
    "        combined_dataset_transformed$BsmtUnfSF, \n",
    "        sqrt(combined_dataset$BsmtUnfSF)\n",
    "    )\n",
    "})"
   ]
  },
  {
   "cell_type": "code",
   "execution_count": 44,
   "metadata": {},
   "outputs": [],
   "source": []
  },
  {
   "cell_type": "code",
   "execution_count": null,
   "metadata": {},
   "outputs": [],
   "source": []
  },
  {
   "cell_type": "code",
   "execution_count": null,
   "metadata": {
    "collapsed": true
   },
   "outputs": [],
   "source": []
  },
  {
   "cell_type": "code",
   "execution_count": null,
   "metadata": {
    "collapsed": true
   },
   "outputs": [],
   "source": []
  },
  {
   "cell_type": "code",
   "execution_count": null,
   "metadata": {
    "collapsed": true
   },
   "outputs": [],
   "source": []
  },
  {
   "cell_type": "code",
   "execution_count": null,
   "metadata": {
    "collapsed": true
   },
   "outputs": [],
   "source": []
  },
  {
   "cell_type": "code",
   "execution_count": null,
   "metadata": {
    "collapsed": true
   },
   "outputs": [],
   "source": []
  },
  {
   "cell_type": "code",
   "execution_count": null,
   "metadata": {
    "collapsed": true
   },
   "outputs": [],
   "source": []
  },
  {
   "cell_type": "code",
   "execution_count": null,
   "metadata": {
    "collapsed": true
   },
   "outputs": [],
   "source": []
  },
  {
   "cell_type": "code",
   "execution_count": null,
   "metadata": {
    "collapsed": true
   },
   "outputs": [],
   "source": []
  },
  {
   "cell_type": "code",
   "execution_count": null,
   "metadata": {
    "collapsed": true
   },
   "outputs": [],
   "source": []
  },
  {
   "cell_type": "code",
   "execution_count": null,
   "metadata": {
    "collapsed": true
   },
   "outputs": [],
   "source": []
  },
  {
   "cell_type": "code",
   "execution_count": null,
   "metadata": {
    "collapsed": true
   },
   "outputs": [],
   "source": []
  },
  {
   "cell_type": "code",
   "execution_count": null,
   "metadata": {
    "collapsed": true
   },
   "outputs": [],
   "source": []
  }
 ],
 "metadata": {
  "kernelspec": {
   "display_name": "R",
   "language": "R",
   "name": "ir"
  },
  "language_info": {
   "codemirror_mode": "r",
   "file_extension": ".r",
   "mimetype": "text/x-r-source",
   "name": "R",
   "pygments_lexer": "r",
   "version": "3.4.2"
  }
 },
 "nbformat": 4,
 "nbformat_minor": 2
}
