{
 "cells": [
  {
   "cell_type": "code",
   "execution_count": 6,
   "metadata": {
    "collapsed": true
   },
   "outputs": [],
   "source": [
    "setwd(paste0(Sys.getenv('R_SOURCES'), '/house_prices'))\n",
    "source('main.R')\n",
    "house_prices$helpers$import_libs()\n",
    "\n",
    "combined_dataset <-\n",
    "    house_prices$helpers$load_data() %>%\n",
    "    (house_prices$outliers$remove_outliers) %>%\n",
    "    (house_prices$missing$fix_all) %>%\n",
    "    select(-Id)\n",
    "\n",
    "test_that(\"should be no NA values except SalePrice column\", {\n",
    "    expect_equal(sum(is.na(combined_dataset %>% select(-SalePrice))), 0)\n",
    "})"
   ]
  },
  {
   "cell_type": "code",
   "execution_count": 32,
   "metadata": {},
   "outputs": [
    {
     "data": {
      "text/html": [
       "1.42108041279429"
      ],
      "text/latex": [
       "1.42108041279429"
      ],
      "text/markdown": [
       "1.42108041279429"
      ],
      "text/plain": [
       "[1] 1.42108"
      ]
     },
     "metadata": {},
     "output_type": "display_data"
    },
    {
     "data": {
      "text/html": [
       "<table>\n",
       "<thead><tr><th scope=col>fun</th></tr></thead>\n",
       "<tbody>\n",
       "\t<tr><td>function (x) , log(x + 1)</td></tr>\n",
       "</tbody>\n",
       "</table>\n"
      ],
      "text/latex": [
       "\\begin{tabular}{r|l}\n",
       " fun\\\\\n",
       "\\hline\n",
       "\t function (x) , log(x + 1)\\\\\n",
       "\\end{tabular}\n"
      ],
      "text/markdown": [
       "\n",
       "fun | \n",
       "|---|\n",
       "| function (x) , log(x + 1) | \n",
       "\n",
       "\n"
      ],
      "text/plain": [
       "  fun                      \n",
       "1 function (x) , log(x + 1)"
      ]
     },
     "metadata": {},
     "output_type": "display_data"
    }
   ],
   "source": [
    "f = function(x) log(x + 1)\n",
    "    \n",
    "f(pi)\n",
    "    \n",
    "data_frame(\n",
    "    fun = c(f)\n",
    ")"
   ]
  },
  {
   "cell_type": "code",
   "execution_count": 25,
   "metadata": {
    "scrolled": false
   },
   "outputs": [
    {
     "data": {
      "text/html": [
       "<table>\n",
       "<thead><tr><th scope=col>var</th><th scope=col>tran</th><th scope=col>progress_score</th></tr></thead>\n",
       "<tbody>\n",
       "\t<tr><td>SalePrice   </td><td>log         </td><td>91.29809    </td></tr>\n",
       "\t<tr><td>GrLivArea   </td><td>log         </td><td>91.15794    </td></tr>\n",
       "\t<tr><td>X1stFlrSF   </td><td>log         </td><td>90.77166    </td></tr>\n",
       "\t<tr><td>BsmtUnfSF   </td><td>sqrt        </td><td>79.97603    </td></tr>\n",
       "\t<tr><td>LotArea     </td><td>log         </td><td>73.38993    </td></tr>\n",
       "\t<tr><td>TotRmsAbvGrd</td><td>log         </td><td>30.68502    </td></tr>\n",
       "\t<tr><td>OverallQual </td><td>log         </td><td>29.94436    </td></tr>\n",
       "\t<tr><td>GarageCars  </td><td>log         </td><td>24.95676    </td></tr>\n",
       "\t<tr><td>BedroomAbvGr</td><td>log         </td><td>22.37509    </td></tr>\n",
       "</tbody>\n",
       "</table>\n"
      ],
      "text/latex": [
       "\\begin{tabular}{r|lll}\n",
       " var & tran & progress\\_score\\\\\n",
       "\\hline\n",
       "\t SalePrice    & log          & 91.29809    \\\\\n",
       "\t GrLivArea    & log          & 91.15794    \\\\\n",
       "\t X1stFlrSF    & log          & 90.77166    \\\\\n",
       "\t BsmtUnfSF    & sqrt         & 79.97603    \\\\\n",
       "\t LotArea      & log          & 73.38993    \\\\\n",
       "\t TotRmsAbvGrd & log          & 30.68502    \\\\\n",
       "\t OverallQual  & log          & 29.94436    \\\\\n",
       "\t GarageCars   & log          & 24.95676    \\\\\n",
       "\t BedroomAbvGr & log          & 22.37509    \\\\\n",
       "\\end{tabular}\n"
      ],
      "text/markdown": [
       "\n",
       "var | tran | progress_score | \n",
       "|---|---|---|---|---|---|---|---|---|\n",
       "| SalePrice    | log          | 91.29809     | \n",
       "| GrLivArea    | log          | 91.15794     | \n",
       "| X1stFlrSF    | log          | 90.77166     | \n",
       "| BsmtUnfSF    | sqrt         | 79.97603     | \n",
       "| LotArea      | log          | 73.38993     | \n",
       "| TotRmsAbvGrd | log          | 30.68502     | \n",
       "| OverallQual  | log          | 29.94436     | \n",
       "| GarageCars   | log          | 24.95676     | \n",
       "| BedroomAbvGr | log          | 22.37509     | \n",
       "\n",
       "\n"
      ],
      "text/plain": [
       "  var          tran progress_score\n",
       "1 SalePrice    log  91.29809      \n",
       "2 GrLivArea    log  91.15794      \n",
       "3 X1stFlrSF    log  90.77166      \n",
       "4 BsmtUnfSF    sqrt 79.97603      \n",
       "5 LotArea      log  73.38993      \n",
       "6 TotRmsAbvGrd log  30.68502      \n",
       "7 OverallQual  log  29.94436      \n",
       "8 GarageCars   log  24.95676      \n",
       "9 BedroomAbvGr log  22.37509      "
      ]
     },
     "metadata": {},
     "output_type": "display_data"
    },
    {
     "ename": "ERROR",
     "evalue": "Error in overscope_eval_next(overscope, expr): object 'predictor' not found\n",
     "output_type": "error",
     "traceback": [
      "Error in overscope_eval_next(overscope, expr): object 'predictor' not found\nTraceback:\n",
      "1. house_prices$trans$numeric$for_qq_plot(combined_dataset, transformation_config)",
      "2. dataset %>% select(one_of(transformation_config$var)) %>% gather(var, \n .     value) %>% filter(!is.na(value)) %>% inner_join(transformation_config %>% \n .     select(var, predictor), by = \"var\") %>% mutate(value_transformed = recode(predictor, \n .     log = log(value + 1), sqrt = sqrt(value))) %>% select(var, \n .     value, value_transformed) %>% gather(tran, value, -var) %>% \n .     mutate(tran = ifelse(tran == \"value\", \"vanilla\", \"transformed\")) %>% \n .     group_by(var, tran) %>% mutate(normed_value = (value - mean(value))/sd(value))",
      "3. withVisible(eval(quote(`_fseq`(`_lhs`)), env, env))",
      "4. eval(quote(`_fseq`(`_lhs`)), env, env)",
      "5. eval(quote(`_fseq`(`_lhs`)), env, env)",
      "6. `_fseq`(`_lhs`)",
      "7. freduce(value, `_function_list`)",
      "8. function_list[[i]](value)",
      "9. inner_join(., transformation_config %>% select(var, predictor), \n .     by = \"var\")",
      "10. inner_join.tbl_df(., transformation_config %>% select(var, predictor), \n  .     by = \"var\")",
      "11. common_by(by, x, y)",
      "12. common_by.character(by, x, y)",
      "13. common_by.list(by, x, y)",
      "14. tbl_vars(y)",
      "15. transformation_config %>% select(var, predictor)",
      "16. withVisible(eval(quote(`_fseq`(`_lhs`)), env, env))",
      "17. eval(quote(`_fseq`(`_lhs`)), env, env)",
      "18. eval(quote(`_fseq`(`_lhs`)), env, env)",
      "19. `_fseq`(`_lhs`)",
      "20. freduce(value, `_function_list`)",
      "21. withVisible(function_list[[k]](value))",
      "22. function_list[[k]](value)",
      "23. select(., var, predictor)",
      "24. select.data.frame(., var, predictor)",
      "25. select_vars(names(.data), !(!(!quos(...))))",
      "26. map_if(ind_list, !is_helper, eval_tidy, data = names_list)",
      "27. map(.x[matches], .f, ...)",
      "28. lapply(.x, .f, ...)",
      "29. FUN(X[[i]], ...)",
      "30. overscope_eval_next(overscope, expr)"
     ]
    }
   ],
   "source": [
    "options(repr.plot.width = 16, repr.plot.height = 14, repr.plot.res=280)\n",
    "\n",
    "transformation_config <- \n",
    "    house_prices$trans$numeric$get_transformation_config(combined_dataset) %>% \n",
    "    filter(progress_score > 20)\n",
    "\n",
    "transformation_config \n",
    "\n",
    "df <- house_prices$trans$numeric$for_qq_plot(combined_dataset, transformation_config)\n",
    "\n",
    "df %>%\n",
    "ggplot() +\n",
    "geom_qq(aes(sample=normed_value), alpha=0.2) +\n",
    "facet_wrap(var~tran, ncol=4, scales=\"free\") +\n",
    "geom_abline(slope=1) +\n",
    "theme_bw()"
   ]
  },
  {
   "cell_type": "code",
   "execution_count": 18,
   "metadata": {
    "collapsed": true
   },
   "outputs": [],
   "source": [
    "source('main.R')\n",
    "\n",
    "transformation_config <- house_prices$trans$numeric$get_transformation_config(combined_dataset)\n",
    "\n",
    "combined_dataset_transformed <-\n",
    "    house_prices$trans$numeric$apply_transform(combined_dataset, transformation_config)\n",
    "\n",
    "\n",
    "test_that(\"should be equal\", {\n",
    "    expect_equal(\n",
    "        combined_dataset_transformed %>% select(-one_of(transformation_config$var)), \n",
    "        combined_dataset %>% select(-one_of(transformation_config$var))\n",
    "    )\n",
    "})\n",
    "\n",
    "test_that(\"GrLivArea\", {\n",
    "    expect_equal(\n",
    "        combined_dataset_transformed$GrLivArea, \n",
    "        log(combined_dataset$GrLivArea + 1)\n",
    "    )\n",
    "})\n",
    "\n",
    "test_that(\"BsmtUnfSF\", {\n",
    "    expect_equal(\n",
    "        combined_dataset_transformed$BsmtUnfSF, \n",
    "        sqrt(combined_dataset$BsmtUnfSF)\n",
    "    )\n",
    "})"
   ]
  },
  {
   "cell_type": "code",
   "execution_count": null,
   "metadata": {
    "collapsed": true
   },
   "outputs": [],
   "source": []
  },
  {
   "cell_type": "code",
   "execution_count": null,
   "metadata": {
    "collapsed": true
   },
   "outputs": [],
   "source": []
  },
  {
   "cell_type": "code",
   "execution_count": null,
   "metadata": {
    "collapsed": true
   },
   "outputs": [],
   "source": []
  },
  {
   "cell_type": "code",
   "execution_count": null,
   "metadata": {
    "collapsed": true
   },
   "outputs": [],
   "source": []
  },
  {
   "cell_type": "code",
   "execution_count": null,
   "metadata": {
    "collapsed": true
   },
   "outputs": [],
   "source": []
  },
  {
   "cell_type": "code",
   "execution_count": null,
   "metadata": {
    "collapsed": true
   },
   "outputs": [],
   "source": []
  },
  {
   "cell_type": "code",
   "execution_count": null,
   "metadata": {
    "collapsed": true
   },
   "outputs": [],
   "source": []
  },
  {
   "cell_type": "code",
   "execution_count": null,
   "metadata": {
    "collapsed": true
   },
   "outputs": [],
   "source": []
  },
  {
   "cell_type": "code",
   "execution_count": null,
   "metadata": {
    "collapsed": true
   },
   "outputs": [],
   "source": []
  },
  {
   "cell_type": "code",
   "execution_count": null,
   "metadata": {
    "collapsed": true
   },
   "outputs": [],
   "source": []
  },
  {
   "cell_type": "code",
   "execution_count": null,
   "metadata": {
    "collapsed": true
   },
   "outputs": [],
   "source": []
  },
  {
   "cell_type": "code",
   "execution_count": null,
   "metadata": {
    "collapsed": true
   },
   "outputs": [],
   "source": []
  },
  {
   "cell_type": "code",
   "execution_count": null,
   "metadata": {
    "collapsed": true
   },
   "outputs": [],
   "source": []
  },
  {
   "cell_type": "code",
   "execution_count": null,
   "metadata": {
    "collapsed": true
   },
   "outputs": [],
   "source": []
  }
 ],
 "metadata": {
  "kernelspec": {
   "display_name": "R",
   "language": "R",
   "name": "ir"
  },
  "language_info": {
   "codemirror_mode": "r",
   "file_extension": ".r",
   "mimetype": "text/x-r-source",
   "name": "R",
   "pygments_lexer": "r",
   "version": "3.4.2"
  }
 },
 "nbformat": 4,
 "nbformat_minor": 2
}
