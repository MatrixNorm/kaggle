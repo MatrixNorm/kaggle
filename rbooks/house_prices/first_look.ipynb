{
 "cells": [
  {
   "cell_type": "code",
   "execution_count": 1,
   "metadata": {},
   "outputs": [
    {
     "data": {
      "text/html": [
       "'/mnt/hdd/develop/kaggle/R_sources/house_prices'"
      ],
      "text/latex": [
       "'/mnt/hdd/develop/kaggle/R\\_sources/house\\_prices'"
      ],
      "text/markdown": [
       "'/mnt/hdd/develop/kaggle/R_sources/house_prices'"
      ],
      "text/plain": [
       "[1] \"/mnt/hdd/develop/kaggle/R_sources/house_prices\""
      ]
     },
     "metadata": {},
     "output_type": "display_data"
    }
   ],
   "source": [
    "setwd(paste0(Sys.getenv('R_SOURCES'), '/house_prices'))\n",
    "getwd()"
   ]
  },
  {
   "cell_type": "code",
   "execution_count": 18,
   "metadata": {},
   "outputs": [],
   "source": [
    "source('main.R')\n",
    "\n",
    "house_prices$helpers$import_libs()\n",
    "\n",
    "combined_dataset <- house_prices$helpers$load_data()"
   ]
  },
  {
   "cell_type": "code",
   "execution_count": 23,
   "metadata": {},
   "outputs": [
    {
     "data": {
      "text/html": [
       "<ol class=list-inline>\n",
       "\t<li>2919</li>\n",
       "\t<li>82</li>\n",
       "</ol>\n"
      ],
      "text/latex": [
       "\\begin{enumerate*}\n",
       "\\item 2919\n",
       "\\item 82\n",
       "\\end{enumerate*}\n"
      ],
      "text/markdown": [
       "1. 2919\n",
       "2. 82\n",
       "\n",
       "\n"
      ],
      "text/plain": [
       "[1] 2919   82"
      ]
     },
     "metadata": {},
     "output_type": "display_data"
    },
    {
     "data": {
      "text/html": [
       "<ol class=list-inline>\n",
       "\t<li>1460</li>\n",
       "\t<li>82</li>\n",
       "</ol>\n"
      ],
      "text/latex": [
       "\\begin{enumerate*}\n",
       "\\item 1460\n",
       "\\item 82\n",
       "\\end{enumerate*}\n"
      ],
      "text/markdown": [
       "1. 1460\n",
       "2. 82\n",
       "\n",
       "\n"
      ],
      "text/plain": [
       "[1] 1460   82"
      ]
     },
     "metadata": {},
     "output_type": "display_data"
    },
    {
     "data": {
      "text/html": [
       "<ol class=list-inline>\n",
       "\t<li>1459</li>\n",
       "\t<li>82</li>\n",
       "</ol>\n"
      ],
      "text/latex": [
       "\\begin{enumerate*}\n",
       "\\item 1459\n",
       "\\item 82\n",
       "\\end{enumerate*}\n"
      ],
      "text/markdown": [
       "1. 1459\n",
       "2. 82\n",
       "\n",
       "\n"
      ],
      "text/plain": [
       "[1] 1459   82"
      ]
     },
     "metadata": {},
     "output_type": "display_data"
    }
   ],
   "source": [
    "combined_dataset %>% dim\n",
    "combined_dataset %>% filter(dataSource == \"train\") %>% dim\n",
    "combined_dataset %>% filter(dataSource == \"test\") %>% dim"
   ]
  },
  {
   "cell_type": "code",
   "execution_count": 25,
   "metadata": {
    "cell_style": "center"
   },
   "outputs": [],
   "source": [
    "categ_data <- \n",
    "    combined_dataset %>% \n",
    "    select(house_prices$helpers$get_character_colnames(combined_dataset))\n",
    "\n",
    "numeric_data <- \n",
    "    combined_dataset %>% \n",
    "    select(house_prices$helpers$get_numeric_colnames(combined_dataset))"
   ]
  },
  {
   "cell_type": "code",
   "execution_count": 26,
   "metadata": {
    "cell_style": "split"
   },
   "outputs": [
    {
     "name": "stdout",
     "output_type": "stream",
     "text": [
      "Observations: 2,919\n",
      "Variables: 45\n",
      "$ Alley         <chr> NA, NA, NA, NA, NA, NA,...\n",
      "$ BldgType      <chr> \"1Fam\", \"1Fam\", \"1Fam\",...\n",
      "$ BsmtCond      <chr> \"TA\", \"TA\", \"TA\", \"Gd\",...\n",
      "$ BsmtExposure  <chr> \"No\", \"Gd\", \"Mn\", \"No\",...\n",
      "$ BsmtFinType1  <chr> \"GLQ\", \"ALQ\", \"GLQ\", \"A...\n",
      "$ BsmtFinType2  <chr> \"Unf\", \"Unf\", \"Unf\", \"U...\n",
      "$ BsmtQual      <chr> \"Gd\", \"Gd\", \"Gd\", \"TA\",...\n",
      "$ CentralAir    <chr> \"Y\", \"Y\", \"Y\", \"Y\", \"Y\"...\n",
      "$ Condition1    <chr> \"Norm\", \"Feedr\", \"Norm\"...\n",
      "$ Condition2    <chr> \"Norm\", \"Norm\", \"Norm\",...\n",
      "$ dataSource    <chr> \"train\", \"train\", \"trai...\n",
      "$ Electrical    <chr> \"SBrkr\", \"SBrkr\", \"SBrk...\n",
      "$ ExterCond     <chr> \"TA\", \"TA\", \"TA\", \"TA\",...\n",
      "$ Exterior1st   <chr> \"VinylSd\", \"MetalSd\", \"...\n",
      "$ Exterior2nd   <chr> \"VinylSd\", \"MetalSd\", \"...\n",
      "$ ExterQual     <chr> \"Gd\", \"TA\", \"Gd\", \"TA\",...\n",
      "$ Fence         <chr> NA, NA, NA, NA, NA, \"Mn...\n",
      "$ FireplaceQu   <chr> NA, \"TA\", \"TA\", \"Gd\", \"...\n",
      "$ Foundation    <chr> \"PConc\", \"CBlock\", \"PCo...\n",
      "$ Functional    <chr> \"Typ\", \"Typ\", \"Typ\", \"T...\n",
      "$ GarageCond    <chr> \"TA\", \"TA\", \"TA\", \"TA\",...\n",
      "$ GarageFinish  <chr> \"RFn\", \"RFn\", \"RFn\", \"U...\n",
      "$ GarageQual    <chr> \"TA\", \"TA\", \"TA\", \"TA\",...\n",
      "$ GarageType    <chr> \"Attchd\", \"Attchd\", \"At...\n",
      "$ Heating       <chr> \"GasA\", \"GasA\", \"GasA\",...\n",
      "$ HeatingQC     <chr> \"Ex\", \"Ex\", \"Ex\", \"Gd\",...\n",
      "$ HouseStyle    <chr> \"2Story\", \"1Story\", \"2S...\n",
      "$ KitchenQual   <chr> \"Gd\", \"TA\", \"Gd\", \"Gd\",...\n",
      "$ LandContour   <chr> \"Lvl\", \"Lvl\", \"Lvl\", \"L...\n",
      "$ LandSlope     <chr> \"Gtl\", \"Gtl\", \"Gtl\", \"G...\n",
      "$ LotConfig     <chr> \"Inside\", \"FR2\", \"Insid...\n",
      "$ LotShape      <chr> \"Reg\", \"Reg\", \"IR1\", \"I...\n",
      "$ MasVnrType    <chr> \"BrkFace\", \"None\", \"Brk...\n",
      "$ MiscFeature   <chr> NA, NA, NA, NA, NA, \"Sh...\n",
      "$ MSSubClass    <chr> \"60\", \"20\", \"60\", \"70\",...\n",
      "$ MSZoning      <chr> \"RL\", \"RL\", \"RL\", \"RL\",...\n",
      "$ Neighborhood  <chr> \"CollgCr\", \"Veenker\", \"...\n",
      "$ PavedDrive    <chr> \"Y\", \"Y\", \"Y\", \"Y\", \"Y\"...\n",
      "$ PoolQC        <chr> NA, NA, NA, NA, NA, NA,...\n",
      "$ RoofMatl      <chr> \"CompShg\", \"CompShg\", \"...\n",
      "$ RoofStyle     <chr> \"Gable\", \"Gable\", \"Gabl...\n",
      "$ SaleCondition <chr> \"Normal\", \"Normal\", \"No...\n",
      "$ SaleType      <chr> \"WD\", \"WD\", \"WD\", \"WD\",...\n",
      "$ Street        <chr> \"Pave\", \"Pave\", \"Pave\",...\n",
      "$ Utilities     <chr> \"AllPub\", \"AllPub\", \"Al...\n"
     ]
    }
   ],
   "source": [
    "categ_data %>% glimpse(50)"
   ]
  },
  {
   "cell_type": "code",
   "execution_count": 27,
   "metadata": {
    "cell_style": "split"
   },
   "outputs": [
    {
     "name": "stdout",
     "output_type": "stream",
     "text": [
      "Observations: 2,919\n",
      "Variables: 37\n",
      "$ BedroomAbvGr  <int> 3, 3, 3, 3, 4, 1, 3, 3,...\n",
      "$ BsmtFinSF1    <int> 706, 978, 486, 216, 655...\n",
      "$ BsmtFinSF2    <int> 0, 0, 0, 0, 0, 0, 0, 32...\n",
      "$ BsmtFullBath  <int> 1, 0, 1, 1, 1, 1, 1, 1,...\n",
      "$ BsmtHalfBath  <int> 0, 1, 0, 0, 0, 0, 0, 0,...\n",
      "$ BsmtUnfSF     <int> 150, 284, 434, 540, 490...\n",
      "$ EnclosedPorch <int> 0, 0, 0, 272, 0, 0, 0, ...\n",
      "$ Fireplaces    <int> 0, 1, 1, 1, 1, 0, 1, 2,...\n",
      "$ FullBath      <int> 2, 2, 2, 1, 2, 1, 2, 2,...\n",
      "$ GarageArea    <int> 548, 460, 608, 642, 836...\n",
      "$ GarageCars    <int> 2, 2, 2, 3, 3, 2, 2, 2,...\n",
      "$ GarageYrBlt   <int> 2003, 1976, 2001, 1998,...\n",
      "$ GrLivArea     <int> 1710, 1262, 1786, 1717,...\n",
      "$ HalfBath      <int> 1, 0, 1, 0, 1, 1, 0, 1,...\n",
      "$ Id            <int> 1, 2, 3, 4, 5, 6, 7, 8,...\n",
      "$ KitchenAbvGr  <int> 1, 1, 1, 1, 1, 1, 1, 1,...\n",
      "$ LotArea       <int> 8450, 9600, 11250, 9550...\n",
      "$ LotFrontage   <int> 65, 80, 68, 60, 84, 85,...\n",
      "$ LowQualFinSF  <int> 0, 0, 0, 0, 0, 0, 0, 0,...\n",
      "$ MasVnrArea    <int> 196, 0, 162, 0, 350, 0,...\n",
      "$ MiscVal       <int> 0, 0, 0, 0, 0, 700, 0, ...\n",
      "$ MoSold        <int> 2, 5, 9, 2, 12, 10, 8, ...\n",
      "$ OpenPorchSF   <int> 61, 0, 42, 35, 84, 30, ...\n",
      "$ OverallCond   <int> 5, 8, 5, 5, 5, 5, 5, 6,...\n",
      "$ OverallQual   <int> 7, 6, 7, 7, 8, 5, 8, 7,...\n",
      "$ PoolArea      <int> 0, 0, 0, 0, 0, 0, 0, 0,...\n",
      "$ SalePrice     <int> 208500, 181500, 223500,...\n",
      "$ ScreenPorch   <int> 0, 0, 0, 0, 0, 0, 0, 0,...\n",
      "$ TotalBsmtSF   <int> 856, 1262, 920, 756, 11...\n",
      "$ TotRmsAbvGrd  <int> 8, 6, 6, 7, 9, 5, 7, 7,...\n",
      "$ WoodDeckSF    <int> 0, 298, 0, 0, 192, 40, ...\n",
      "$ X1stFlrSF     <int> 856, 1262, 920, 961, 11...\n",
      "$ X2ndFlrSF     <int> 854, 0, 866, 756, 1053,...\n",
      "$ X3SsnPorch    <int> 0, 0, 0, 0, 0, 320, 0, ...\n",
      "$ YearBuilt     <int> 2003, 1976, 2001, 1915,...\n",
      "$ YearRemodAdd  <int> 2003, 1976, 2002, 1970,...\n",
      "$ YrSold        <int> 2008, 2007, 2008, 2006,...\n"
     ]
    }
   ],
   "source": [
    "numeric_data %>% glimpse(50)"
   ]
  },
  {
   "cell_type": "code",
   "execution_count": null,
   "metadata": {
    "collapsed": true
   },
   "outputs": [],
   "source": []
  },
  {
   "cell_type": "code",
   "execution_count": null,
   "metadata": {
    "collapsed": true
   },
   "outputs": [],
   "source": []
  },
  {
   "cell_type": "code",
   "execution_count": null,
   "metadata": {
    "collapsed": true
   },
   "outputs": [],
   "source": []
  },
  {
   "cell_type": "code",
   "execution_count": null,
   "metadata": {
    "collapsed": true
   },
   "outputs": [],
   "source": []
  },
  {
   "cell_type": "code",
   "execution_count": null,
   "metadata": {
    "collapsed": true
   },
   "outputs": [],
   "source": []
  },
  {
   "cell_type": "code",
   "execution_count": null,
   "metadata": {
    "collapsed": true
   },
   "outputs": [],
   "source": []
  },
  {
   "cell_type": "code",
   "execution_count": null,
   "metadata": {
    "collapsed": true
   },
   "outputs": [],
   "source": []
  },
  {
   "cell_type": "code",
   "execution_count": null,
   "metadata": {
    "collapsed": true
   },
   "outputs": [],
   "source": []
  },
  {
   "cell_type": "code",
   "execution_count": null,
   "metadata": {
    "collapsed": true
   },
   "outputs": [],
   "source": []
  },
  {
   "cell_type": "code",
   "execution_count": null,
   "metadata": {
    "collapsed": true
   },
   "outputs": [],
   "source": []
  },
  {
   "cell_type": "code",
   "execution_count": null,
   "metadata": {
    "collapsed": true
   },
   "outputs": [],
   "source": []
  },
  {
   "cell_type": "code",
   "execution_count": null,
   "metadata": {
    "collapsed": true
   },
   "outputs": [],
   "source": []
  },
  {
   "cell_type": "code",
   "execution_count": null,
   "metadata": {
    "collapsed": true
   },
   "outputs": [],
   "source": []
  },
  {
   "cell_type": "code",
   "execution_count": null,
   "metadata": {
    "collapsed": true
   },
   "outputs": [],
   "source": []
  }
 ],
 "metadata": {
  "kernelspec": {
   "display_name": "R",
   "language": "R",
   "name": "ir"
  },
  "language_info": {
   "codemirror_mode": "r",
   "file_extension": ".r",
   "mimetype": "text/x-r-source",
   "name": "R",
   "pygments_lexer": "r",
   "version": "3.4.2"
  }
 },
 "nbformat": 4,
 "nbformat_minor": 2
}
