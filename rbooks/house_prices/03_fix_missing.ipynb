{
 "cells": [
  {
   "cell_type": "code",
   "execution_count": 2,
   "metadata": {},
   "outputs": [
    {
     "data": {
      "text/html": [
       "<ol class=list-inline>\n",
       "\t<li>2919</li>\n",
       "\t<li>82</li>\n",
       "</ol>\n"
      ],
      "text/latex": [
       "\\begin{enumerate*}\n",
       "\\item 2919\n",
       "\\item 82\n",
       "\\end{enumerate*}\n"
      ],
      "text/markdown": [
       "1. 2919\n",
       "2. 82\n",
       "\n",
       "\n"
      ],
      "text/plain": [
       "[1] 2919   82"
      ]
     },
     "metadata": {},
     "output_type": "display_data"
    }
   ],
   "source": [
    "setwd(paste0(Sys.getenv('R_SOURCES'), '/house_prices'))\n",
    "source('main.R')\n",
    "house_prices$helpers$import_libs()\n",
    "combined_dataset <- house_prices$helpers$load_data()\n",
    "combined_dataset %>% dim"
   ]
  },
  {
   "cell_type": "code",
   "execution_count": 3,
   "metadata": {
    "collapsed": true
   },
   "outputs": [],
   "source": [
    "# testing replace_with_most_common\n",
    "#\n",
    "\n",
    "fix_by_most_common <- combined_dataset %>% (house_prices$missing$categ$replace_with_most_common)\n",
    "\n",
    "test_that(\"numeric columns should not be affected\", {\n",
    "    expect_equal(\n",
    "        combined_dataset %>% select_if(is.numeric),\n",
    "        fix_by_most_common %>% select_if(is.numeric)\n",
    "    )\n",
    "})\n",
    "\n",
    "test_that(\"categ columns with `good` NAs should not be affected\", {\n",
    "    expect_equal(\n",
    "        combined_dataset %>% select(one_of(house_prices$missing$colums_with_valid_na)),\n",
    "        fix_by_most_common %>% select(one_of(house_prices$missing$colums_with_valid_na))\n",
    "    )\n",
    "})\n",
    "\n",
    "test_that(\"there should not be NAs in processed columns\", {\n",
    "    \n",
    "    affected_columns <- \n",
    "        setdiff(\n",
    "            house_prices$helpers$get_character_colnames(combined_dataset),\n",
    "            house_prices$missing$colums_with_valid_na\n",
    "        )\n",
    "    \n",
    "    expect_equal(\n",
    "        sum(is.na(fix_by_most_common %>% select(one_of(affected_columns)))),\n",
    "        0\n",
    "    )\n",
    "})"
   ]
  },
  {
   "cell_type": "code",
   "execution_count": 4,
   "metadata": {
    "collapsed": true
   },
   "outputs": [],
   "source": [
    "# testing fix_valid\n",
    "#\n",
    "\n",
    "fix_valid <- combined_dataset %>% (house_prices$missing$categ$fix_valid)\n",
    "\n",
    "test_that(\"numeric columns should not be affected\", {\n",
    "    expect_equal(\n",
    "        combined_dataset %>% select_if(is.numeric),\n",
    "        fix_valid %>% select_if(is.numeric)\n",
    "    )\n",
    "})\n",
    "\n",
    "test_that(\"categ columns with `bad` NAs should not be affected\", {\n",
    "    \n",
    "     bad_columns <- \n",
    "        setdiff(\n",
    "            house_prices$helpers$get_character_colnames(combined_dataset),\n",
    "            house_prices$missing$colums_with_valid_na\n",
    "        )\n",
    "    \n",
    "    expect_equal(\n",
    "        combined_dataset %>% select(one_of(bad_columns)),\n",
    "        fix_valid %>% select(one_of(bad_columns))\n",
    "    )\n",
    "})\n",
    "\n",
    "test_that(\"there should not be NAs in processed columns\", {\n",
    "    \n",
    "    expect_equal(\n",
    "        sum(is.na(fix_valid %>% select(one_of(house_prices$missing$colums_with_valid_na)))),\n",
    "        0\n",
    "    )\n",
    "})"
   ]
  },
  {
   "cell_type": "code",
   "execution_count": 5,
   "metadata": {
    "collapsed": true
   },
   "outputs": [],
   "source": [
    "# testing replace_with_zero\n",
    "#\n",
    "\n",
    "fix_by_zero <- combined_dataset %>% (house_prices$missing$numeric$replace_with_zero)\n",
    "\n",
    "test_that(\"categ columns should not be affected\", {\n",
    "    expect_equal(\n",
    "        combined_dataset %>% select_if(is.character),\n",
    "        fix_by_zero %>% select_if(is.character)\n",
    "    )\n",
    "})\n",
    "\n",
    "test_that(\"SalePrice should not be affected\", {\n",
    "    \n",
    "    expect_equal(\n",
    "        combined_dataset['SalePrice'],\n",
    "        fix_by_zero['SalePrice']\n",
    "    )\n",
    "})\n",
    "\n",
    "test_that(\"there should not be NAs in processed columns\", {\n",
    "    \n",
    "    expect_equal(\n",
    "        sum(is.na(fix_by_zero %>% select_if(is.numeric) %>% select(-SalePrice))),\n",
    "        0\n",
    "    )\n",
    "})"
   ]
  },
  {
   "cell_type": "code",
   "execution_count": 7,
   "metadata": {
    "collapsed": true
   },
   "outputs": [],
   "source": [
    "source('main.R')\n",
    "# testing all together\n",
    "#\n",
    "fixed <- house_prices$missing$fix_all(combined_dataset)\n",
    "\n",
    "test_that(\"should be no NA values except SalePrice column\", {\n",
    "    expect_equal(sum(is.na(fixed %>% select(-SalePrice))), 0)\n",
    "})\n",
    "\n",
    "test_that(\"SalePrice should not be affected\", {\n",
    "    \n",
    "    expect_equal(\n",
    "        combined_dataset['SalePrice'],\n",
    "        fix_by_zero['SalePrice']\n",
    "    )\n",
    "})"
   ]
  },
  {
   "cell_type": "code",
   "execution_count": null,
   "metadata": {
    "collapsed": true
   },
   "outputs": [],
   "source": []
  },
  {
   "cell_type": "code",
   "execution_count": null,
   "metadata": {
    "collapsed": true
   },
   "outputs": [],
   "source": []
  },
  {
   "cell_type": "code",
   "execution_count": null,
   "metadata": {
    "collapsed": true
   },
   "outputs": [],
   "source": []
  },
  {
   "cell_type": "code",
   "execution_count": null,
   "metadata": {
    "collapsed": true
   },
   "outputs": [],
   "source": []
  },
  {
   "cell_type": "code",
   "execution_count": null,
   "metadata": {
    "collapsed": true
   },
   "outputs": [],
   "source": []
  },
  {
   "cell_type": "code",
   "execution_count": null,
   "metadata": {
    "collapsed": true
   },
   "outputs": [],
   "source": []
  },
  {
   "cell_type": "code",
   "execution_count": null,
   "metadata": {
    "collapsed": true
   },
   "outputs": [],
   "source": []
  },
  {
   "cell_type": "code",
   "execution_count": null,
   "metadata": {
    "collapsed": true
   },
   "outputs": [],
   "source": []
  },
  {
   "cell_type": "code",
   "execution_count": null,
   "metadata": {
    "collapsed": true
   },
   "outputs": [],
   "source": []
  },
  {
   "cell_type": "code",
   "execution_count": null,
   "metadata": {
    "collapsed": true
   },
   "outputs": [],
   "source": []
  },
  {
   "cell_type": "code",
   "execution_count": null,
   "metadata": {
    "collapsed": true
   },
   "outputs": [],
   "source": []
  },
  {
   "cell_type": "code",
   "execution_count": null,
   "metadata": {
    "collapsed": true
   },
   "outputs": [],
   "source": []
  },
  {
   "cell_type": "code",
   "execution_count": null,
   "metadata": {
    "collapsed": true
   },
   "outputs": [],
   "source": []
  },
  {
   "cell_type": "code",
   "execution_count": null,
   "metadata": {
    "collapsed": true
   },
   "outputs": [],
   "source": []
  },
  {
   "cell_type": "code",
   "execution_count": null,
   "metadata": {
    "collapsed": true
   },
   "outputs": [],
   "source": []
  },
  {
   "cell_type": "code",
   "execution_count": null,
   "metadata": {
    "collapsed": true
   },
   "outputs": [],
   "source": []
  }
 ],
 "metadata": {
  "kernelspec": {
   "display_name": "R",
   "language": "R",
   "name": "ir"
  },
  "language_info": {
   "codemirror_mode": "r",
   "file_extension": ".r",
   "mimetype": "text/x-r-source",
   "name": "R",
   "pygments_lexer": "r",
   "version": "3.4.2"
  }
 },
 "nbformat": 4,
 "nbformat_minor": 2
}
