{
 "cells": [
  {
   "cell_type": "code",
   "execution_count": 13,
   "metadata": {},
   "outputs": [
    {
     "data": {
      "text/html": [
       "<ol class=list-inline>\n",
       "\t<li>2917</li>\n",
       "\t<li>81</li>\n",
       "</ol>\n"
      ],
      "text/latex": [
       "\\begin{enumerate*}\n",
       "\\item 2917\n",
       "\\item 81\n",
       "\\end{enumerate*}\n"
      ],
      "text/markdown": [
       "1. 2917\n",
       "2. 81\n",
       "\n",
       "\n"
      ],
      "text/plain": [
       "[1] 2917   81"
      ]
     },
     "metadata": {},
     "output_type": "display_data"
    }
   ],
   "source": [
    "setwd(paste0(Sys.getenv('R_SOURCES'), '/house_prices'))\n",
    "source('main.R')\n",
    "house_prices$helpers$import_libs()\n",
    "\n",
    "combined_dataset <-\n",
    "    house_prices$helpers$load_data() %>%\n",
    "    (house_prices$outliers$remove_outliers) %>%\n",
    "    (house_prices$missing$fix_all) %>%\n",
    "    mutate(\n",
    "        price_log = log(SalePrice)\n",
    "    ) %>%\n",
    "    select(-SalePrice, -Id)\n",
    "\n",
    "combined_dataset %>% dim\n",
    "\n",
    "test_that(\"should be no NA values except SalePrice column\", {\n",
    "    expect_equal(sum(is.na(combined_dataset %>% select(-price_log))), 0)\n",
    "})"
   ]
  },
  {
   "cell_type": "code",
   "execution_count": 15,
   "metadata": {},
   "outputs": [
    {
     "data": {
      "text/html": [
       "<dl class=dl-horizontal>\n",
       "\t<dt>25%</dt>\n",
       "\t\t<dd>11.7747125843534</dd>\n",
       "\t<dt>50%</dt>\n",
       "\t\t<dd>12.0015054797889</dd>\n",
       "\t<dt>75%</dt>\n",
       "\t\t<dd>12.273731294004</dd>\n",
       "</dl>\n"
      ],
      "text/latex": [
       "\\begin{description*}\n",
       "\\item[25\\textbackslash{}\\%] 11.7747125843534\n",
       "\\item[50\\textbackslash{}\\%] 12.0015054797889\n",
       "\\item[75\\textbackslash{}\\%] 12.273731294004\n",
       "\\end{description*}\n"
      ],
      "text/markdown": [
       "25%\n",
       ":   11.774712584353450%\n",
       ":   12.001505479788975%\n",
       ":   12.273731294004\n",
       "\n"
      ],
      "text/plain": [
       "     25%      50%      75% \n",
       "11.77471 12.00151 12.27373 "
      ]
     },
     "metadata": {},
     "output_type": "display_data"
    }
   ],
   "source": [
    "calc_quantiles <- function(sample, probs = NULL) {\n",
    "    if (is.null(probs)) {\n",
    "        probs <- c(.25, .5, .75)\n",
    "    }\n",
    "    quantile(sample, probs, na.rm=TRUE)\n",
    "}\n",
    "\n",
    "calc_quantiles(combined_dataset[['price_log']])"
   ]
  },
  {
   "cell_type": "code",
   "execution_count": 46,
   "metadata": {},
   "outputs": [
    {
     "data": {
      "text/html": [
       "2.5"
      ],
      "text/latex": [
       "2.5"
      ],
      "text/markdown": [
       "2.5"
      ],
      "text/plain": [
       "[1] 2.5"
      ]
     },
     "metadata": {},
     "output_type": "display_data"
    }
   ],
   "source": [
    "#calc_rating_for_sample\n",
    "\n",
    "calc_rating_for_sample <- function(sample, quantiles) {\n",
    "    sample <- sample[!is.na(sample)]\n",
    "    cdf = ecdf(sample)\n",
    "    cdf_points <- c(0, cdf(quantiles), 1)\n",
    "    probs <- tail(cdf_points, -1) - head(cdf_points, -1)\n",
    "    rating <- sum(probs * c(1:length(probs)))\n",
    "    rating\n",
    "}\n",
    "\n",
    "calc_rating_for_sample(\n",
    "    c(1, 2, 3, 4, 5, 6, 7, 8), \n",
    "    c(2.5, 4.5, 6.5))"
   ]
  },
  {
   "cell_type": "code",
   "execution_count": 11,
   "metadata": {},
   "outputs": [
    {
     "data": {
      "text/html": [
       "<table>\n",
       "<thead><tr><th scope=col>var</th><th scope=col>value</th><th scope=col>rating</th></tr></thead>\n",
       "<tbody>\n",
       "\t<tr><td>Alley   </td><td>_none_  </td><td>2.531822</td></tr>\n",
       "\t<tr><td>Alley   </td><td>Grvl    </td><td>1.500000</td></tr>\n",
       "\t<tr><td>Alley   </td><td>Pave    </td><td>2.536585</td></tr>\n",
       "\t<tr><td>BldgType</td><td>1Fam    </td><td>2.564039</td></tr>\n",
       "\t<tr><td>BldgType</td><td>2fmCon  </td><td>1.580645</td></tr>\n",
       "\t<tr><td>BldgType</td><td>Duplex  </td><td>1.692308</td></tr>\n",
       "\t<tr><td>BldgType</td><td>TwnhsE  </td><td>2.622807</td></tr>\n",
       "\t<tr><td>BldgType</td><td>Twnhs   </td><td>1.883721</td></tr>\n",
       "\t<tr><td>NA      </td><td>NA      </td><td>2.500000</td></tr>\n",
       "</tbody>\n",
       "</table>\n"
      ],
      "text/latex": [
       "\\begin{tabular}{r|lll}\n",
       " var & value & rating\\\\\n",
       "\\hline\n",
       "\t Alley      & \\_none\\_ & 2.531822  \\\\\n",
       "\t Alley    & Grvl     & 1.500000\\\\\n",
       "\t Alley    & Pave     & 2.536585\\\\\n",
       "\t BldgType & 1Fam     & 2.564039\\\\\n",
       "\t BldgType & 2fmCon   & 1.580645\\\\\n",
       "\t BldgType & Duplex   & 1.692308\\\\\n",
       "\t BldgType & TwnhsE   & 2.622807\\\\\n",
       "\t BldgType & Twnhs    & 1.883721\\\\\n",
       "\t NA       & NA       & 2.500000\\\\\n",
       "\\end{tabular}\n"
      ],
      "text/markdown": [
       "\n",
       "var | value | rating | \n",
       "|---|---|---|---|---|---|---|---|---|\n",
       "| Alley    | _none_   | 2.531822 | \n",
       "| Alley    | Grvl     | 1.500000 | \n",
       "| Alley    | Pave     | 2.536585 | \n",
       "| BldgType | 1Fam     | 2.564039 | \n",
       "| BldgType | 2fmCon   | 1.580645 | \n",
       "| BldgType | Duplex   | 1.692308 | \n",
       "| BldgType | TwnhsE   | 2.622807 | \n",
       "| BldgType | Twnhs    | 1.883721 | \n",
       "| NA       | NA       | 2.500000 | \n",
       "\n",
       "\n"
      ],
      "text/plain": [
       "  var      value  rating  \n",
       "1 Alley    _none_ 2.531822\n",
       "2 Alley    Grvl   1.500000\n",
       "3 Alley    Pave   2.536585\n",
       "4 BldgType 1Fam   2.564039\n",
       "5 BldgType 2fmCon 1.580645\n",
       "6 BldgType Duplex 1.692308\n",
       "7 BldgType TwnhsE 2.622807\n",
       "8 BldgType Twnhs  1.883721\n",
       "9 NA       NA     2.500000"
      ]
     },
     "metadata": {},
     "output_type": "display_data"
    }
   ],
   "source": [
    "calc_rating_for_groups <- function(df) {\n",
    "    df <- \n",
    "        df %>%\n",
    "        select(Alley, BldgType, price_log) %>%\n",
    "        filter(!is.na(price_log))\n",
    "\n",
    "    global_quantiles <- calc_global_quantiles(df)\n",
    "\n",
    "    df %>%\n",
    "    gather(var, value, -price_log) %>%\n",
    "    group_by(var, value) %>%\n",
    "    nest %>%\n",
    "    mutate(\n",
    "       rating = map_dbl(data, function (df) {\n",
    "           calc_rating_for_sample(df[['price_log']], global_quantiles)\n",
    "       })\n",
    "    ) %>%\n",
    "    select(-data) %>%\n",
    "    rbind(list(NA, NA, 0.25*(1+2+3+4)))\n",
    "}\n",
    "\n",
    "calc_rating_for_groups(combined_dataset)"
   ]
  },
  {
   "cell_type": "code",
   "execution_count": null,
   "metadata": {
    "collapsed": true
   },
   "outputs": [],
   "source": []
  },
  {
   "cell_type": "code",
   "execution_count": null,
   "metadata": {
    "collapsed": true
   },
   "outputs": [],
   "source": []
  },
  {
   "cell_type": "code",
   "execution_count": null,
   "metadata": {
    "collapsed": true
   },
   "outputs": [],
   "source": []
  },
  {
   "cell_type": "code",
   "execution_count": null,
   "metadata": {
    "collapsed": true
   },
   "outputs": [],
   "source": []
  },
  {
   "cell_type": "code",
   "execution_count": null,
   "metadata": {
    "collapsed": true
   },
   "outputs": [],
   "source": []
  },
  {
   "cell_type": "code",
   "execution_count": null,
   "metadata": {
    "collapsed": true
   },
   "outputs": [],
   "source": []
  },
  {
   "cell_type": "code",
   "execution_count": null,
   "metadata": {
    "collapsed": true
   },
   "outputs": [],
   "source": []
  },
  {
   "cell_type": "code",
   "execution_count": null,
   "metadata": {
    "collapsed": true
   },
   "outputs": [],
   "source": []
  },
  {
   "cell_type": "code",
   "execution_count": null,
   "metadata": {
    "collapsed": true
   },
   "outputs": [],
   "source": []
  },
  {
   "cell_type": "code",
   "execution_count": null,
   "metadata": {
    "collapsed": true
   },
   "outputs": [],
   "source": []
  },
  {
   "cell_type": "code",
   "execution_count": null,
   "metadata": {
    "collapsed": true
   },
   "outputs": [],
   "source": []
  },
  {
   "cell_type": "code",
   "execution_count": null,
   "metadata": {
    "collapsed": true
   },
   "outputs": [],
   "source": []
  },
  {
   "cell_type": "code",
   "execution_count": null,
   "metadata": {
    "collapsed": true
   },
   "outputs": [],
   "source": []
  }
 ],
 "metadata": {
  "kernelspec": {
   "display_name": "R",
   "language": "R",
   "name": "ir"
  },
  "language_info": {
   "codemirror_mode": "r",
   "file_extension": ".r",
   "mimetype": "text/x-r-source",
   "name": "R",
   "pygments_lexer": "r",
   "version": "3.4.2"
  }
 },
 "nbformat": 4,
 "nbformat_minor": 2
}
