{
 "cells": [
  {
   "cell_type": "code",
   "execution_count": 1,
   "metadata": {},
   "outputs": [
    {
     "data": {
      "text/html": [
       "'/mnt/hdd/develop/kaggle/R_sources/house_prices'"
      ],
      "text/latex": [
       "'/mnt/hdd/develop/kaggle/R\\_sources/house\\_prices'"
      ],
      "text/markdown": [
       "'/mnt/hdd/develop/kaggle/R_sources/house_prices'"
      ],
      "text/plain": [
       "[1] \"/mnt/hdd/develop/kaggle/R_sources/house_prices\""
      ]
     },
     "metadata": {},
     "output_type": "display_data"
    }
   ],
   "source": [
    "setwd(paste0(Sys.getenv('R_SOURCES'), '/house_prices'))\n",
    "getwd()"
   ]
  },
  {
   "cell_type": "code",
   "execution_count": 24,
   "metadata": {},
   "outputs": [
    {
     "data": {
      "text/html": [
       "<table>\n",
       "<thead><tr><th scope=col>var</th><th scope=col>predictor</th><th scope=col>score</th></tr></thead>\n",
       "<tbody>\n",
       "\t<tr><td>BsmtUnfSF   </td><td>sqrt        </td><td>79.97603    </td></tr>\n",
       "\t<tr><td>GrLivArea   </td><td>log         </td><td>91.15794    </td></tr>\n",
       "\t<tr><td>LotArea     </td><td>log         </td><td>73.38993    </td></tr>\n",
       "\t<tr><td>TotRmsAbvGrd</td><td>log         </td><td>30.68502    </td></tr>\n",
       "\t<tr><td>X1stFlrSF   </td><td>log         </td><td>90.77166    </td></tr>\n",
       "</tbody>\n",
       "</table>\n"
      ],
      "text/latex": [
       "\\begin{tabular}{r|lll}\n",
       " var & predictor & score\\\\\n",
       "\\hline\n",
       "\t BsmtUnfSF    & sqrt         & 79.97603    \\\\\n",
       "\t GrLivArea    & log          & 91.15794    \\\\\n",
       "\t LotArea      & log          & 73.38993    \\\\\n",
       "\t TotRmsAbvGrd & log          & 30.68502    \\\\\n",
       "\t X1stFlrSF    & log          & 90.77166    \\\\\n",
       "\\end{tabular}\n"
      ],
      "text/markdown": [
       "\n",
       "var | predictor | score | \n",
       "|---|---|---|---|---|\n",
       "| BsmtUnfSF    | sqrt         | 79.97603     | \n",
       "| GrLivArea    | log          | 91.15794     | \n",
       "| LotArea      | log          | 73.38993     | \n",
       "| TotRmsAbvGrd | log          | 30.68502     | \n",
       "| X1stFlrSF    | log          | 90.77166     | \n",
       "\n",
       "\n"
      ],
      "text/plain": [
       "  var          predictor score   \n",
       "1 BsmtUnfSF    sqrt      79.97603\n",
       "2 GrLivArea    log       91.15794\n",
       "3 LotArea      log       73.38993\n",
       "4 TotRmsAbvGrd log       30.68502\n",
       "5 X1stFlrSF    log       90.77166"
      ]
     },
     "metadata": {},
     "output_type": "display_data"
    }
   ],
   "source": [
    "source('main.R')\n",
    "house_prices$helpers$import_libs()\n",
    "\n",
    "combined_dataset <-\n",
    "    # load data\n",
    "    house_prices$helpers$load_data() %>%\n",
    "    # remove outliers\n",
    "    (house_prices$outliers$remove_outliers) %>%\n",
    "    # fix NA values\n",
    "    (house_prices$missing$categ$replace_with_most_common) %>%\n",
    "    (house_prices$missing$categ$fix_valid) %>%\n",
    "    (house_prices$missing$numeric$replace_with_zero) %>%\n",
    "    mutate(\n",
    "        price_log = log(SalePrice)\n",
    "    ) %>%\n",
    "    select(-SalePrice, -Id)\n",
    "\n",
    "#####################\n",
    "# transform numeric #\n",
    "#####################\n",
    "\n",
    "transformation_config <- house_prices$trans$numeric$get_transformation_config(combined_dataset)\n",
    "\n",
    "transformation_config\n",
    "\n",
    "combined_dataset <-\n",
    "    house_prices$trans$numeric$apply_transform(combined_dataset, transformation_config)"
   ]
  },
  {
   "cell_type": "code",
   "execution_count": 4,
   "metadata": {
    "collapsed": true
   },
   "outputs": [],
   "source": [
    "L2Loss = function (vec) {\n",
    "    sum(vec**2) / length(vec)\n",
    "}"
   ]
  },
  {
   "cell_type": "code",
   "execution_count": 22,
   "metadata": {},
   "outputs": [
    {
     "data": {
      "text/html": [
       "<table>\n",
       "<thead><tr><th scope=col>formula</th><th scope=col>formula_num</th></tr></thead>\n",
       "<tbody>\n",
       "\t<tr><td>price_log ~ GrLivArea                                                                                                                                        </td><td> 1                                                                                                                                                           </td></tr>\n",
       "\t<tr><td>price_log ~ GrLivArea + OverallQual                                                                                                                          </td><td> 2                                                                                                                                                           </td></tr>\n",
       "\t<tr><td>price_log ~ GrLivArea + OverallQual + BsmtFinSF1                                                                                                             </td><td> 3                                                                                                                                                           </td></tr>\n",
       "\t<tr><td>price_log ~ GrLivArea + OverallQual + BsmtFinSF1 + Neighborhood                                                                                              </td><td> 4                                                                                                                                                           </td></tr>\n",
       "\t<tr><td>price_log ~ GrLivArea + OverallQual + BsmtFinSF1 + Neighborhood + GarageArea                                                                                 </td><td> 5                                                                                                                                                           </td></tr>\n",
       "\t<tr><td>price_log ~ GrLivArea + OverallQual + BsmtFinSF1 + Neighborhood + GarageArea + OverallCond                                                                   </td><td> 6                                                                                                                                                           </td></tr>\n",
       "\t<tr><td>price_log ~ GrLivArea + OverallQual + BsmtFinSF1 + Neighborhood + GarageArea + OverallCond + TotalBsmtSF                                                     </td><td> 7                                                                                                                                                           </td></tr>\n",
       "\t<tr><td>price_log ~ GrLivArea + OverallQual + BsmtFinSF1 + Neighborhood + GarageArea + OverallCond + TotalBsmtSF + SaleCondition                                     </td><td> 8                                                                                                                                                           </td></tr>\n",
       "\t<tr><td>price_log ~ GrLivArea + OverallQual + BsmtFinSF1 + Neighborhood + GarageArea + OverallCond + TotalBsmtSF + SaleCondition + CentralAir                        </td><td> 9                                                                                                                                                           </td></tr>\n",
       "\t<tr><td>price_log ~ GrLivArea + OverallQual + BsmtFinSF1 + Neighborhood + GarageArea + OverallCond + TotalBsmtSF + SaleCondition + CentralAir + LotArea              </td><td>10                                                                                                                                                           </td></tr>\n",
       "\t<tr><td>price_log ~ GrLivArea + OverallQual + BsmtFinSF1 + Neighborhood + GarageArea + OverallCond + TotalBsmtSF + SaleCondition + CentralAir + LotArea + KitchenQual</td><td>11                                                                                                                                                           </td></tr>\n",
       "\t<tr><td>price_log ~ .                                                                                                                                                </td><td>12                                                                                                                                                           </td></tr>\n",
       "</tbody>\n",
       "</table>\n"
      ],
      "text/latex": [
       "\\begin{tabular}{r|ll}\n",
       " formula & formula\\_num\\\\\n",
       "\\hline\n",
       "\t price\\_log \\textasciitilde{} GrLivArea                                                                                                                                         &  1                                                                                                                                                                              \\\\\n",
       "\t price\\_log \\textasciitilde{} GrLivArea + OverallQual                                                                                                                           &  2                                                                                                                                                                              \\\\\n",
       "\t price\\_log \\textasciitilde{} GrLivArea + OverallQual + BsmtFinSF1                                                                                                              &  3                                                                                                                                                                              \\\\\n",
       "\t price\\_log \\textasciitilde{} GrLivArea + OverallQual + BsmtFinSF1 + Neighborhood                                                                                               &  4                                                                                                                                                                              \\\\\n",
       "\t price\\_log \\textasciitilde{} GrLivArea + OverallQual + BsmtFinSF1 + Neighborhood + GarageArea                                                                                  &  5                                                                                                                                                                              \\\\\n",
       "\t price\\_log \\textasciitilde{} GrLivArea + OverallQual + BsmtFinSF1 + Neighborhood + GarageArea + OverallCond                                                                    &  6                                                                                                                                                                              \\\\\n",
       "\t price\\_log \\textasciitilde{} GrLivArea + OverallQual + BsmtFinSF1 + Neighborhood + GarageArea + OverallCond + TotalBsmtSF                                                      &  7                                                                                                                                                                              \\\\\n",
       "\t price\\_log \\textasciitilde{} GrLivArea + OverallQual + BsmtFinSF1 + Neighborhood + GarageArea + OverallCond + TotalBsmtSF + SaleCondition                                      &  8                                                                                                                                                                              \\\\\n",
       "\t price\\_log \\textasciitilde{} GrLivArea + OverallQual + BsmtFinSF1 + Neighborhood + GarageArea + OverallCond + TotalBsmtSF + SaleCondition + CentralAir                         &  9                                                                                                                                                                              \\\\\n",
       "\t price\\_log \\textasciitilde{} GrLivArea + OverallQual + BsmtFinSF1 + Neighborhood + GarageArea + OverallCond + TotalBsmtSF + SaleCondition + CentralAir + LotArea               & 10                                                                                                                                                                              \\\\\n",
       "\t price\\_log \\textasciitilde{} GrLivArea + OverallQual + BsmtFinSF1 + Neighborhood + GarageArea + OverallCond + TotalBsmtSF + SaleCondition + CentralAir + LotArea + KitchenQual & 11                                                                                                                                                                              \\\\\n",
       "\t price\\_log \\textasciitilde{} .                                                                                                                                                 & 12                                                                                                                                                                              \\\\\n",
       "\\end{tabular}\n"
      ],
      "text/markdown": [
       "\n",
       "formula | formula_num | \n",
       "|---|---|---|---|---|---|---|---|---|---|---|---|\n",
       "| price_log ~ GrLivArea                                                                                                                                         |  1                                                                                                                                                            | \n",
       "| price_log ~ GrLivArea + OverallQual                                                                                                                           |  2                                                                                                                                                            | \n",
       "| price_log ~ GrLivArea + OverallQual + BsmtFinSF1                                                                                                              |  3                                                                                                                                                            | \n",
       "| price_log ~ GrLivArea + OverallQual + BsmtFinSF1 + Neighborhood                                                                                               |  4                                                                                                                                                            | \n",
       "| price_log ~ GrLivArea + OverallQual + BsmtFinSF1 + Neighborhood + GarageArea                                                                                  |  5                                                                                                                                                            | \n",
       "| price_log ~ GrLivArea + OverallQual + BsmtFinSF1 + Neighborhood + GarageArea + OverallCond                                                                    |  6                                                                                                                                                            | \n",
       "| price_log ~ GrLivArea + OverallQual + BsmtFinSF1 + Neighborhood + GarageArea + OverallCond + TotalBsmtSF                                                      |  7                                                                                                                                                            | \n",
       "| price_log ~ GrLivArea + OverallQual + BsmtFinSF1 + Neighborhood + GarageArea + OverallCond + TotalBsmtSF + SaleCondition                                      |  8                                                                                                                                                            | \n",
       "| price_log ~ GrLivArea + OverallQual + BsmtFinSF1 + Neighborhood + GarageArea + OverallCond + TotalBsmtSF + SaleCondition + CentralAir                         |  9                                                                                                                                                            | \n",
       "| price_log ~ GrLivArea + OverallQual + BsmtFinSF1 + Neighborhood + GarageArea + OverallCond + TotalBsmtSF + SaleCondition + CentralAir + LotArea               | 10                                                                                                                                                            | \n",
       "| price_log ~ GrLivArea + OverallQual + BsmtFinSF1 + Neighborhood + GarageArea + OverallCond + TotalBsmtSF + SaleCondition + CentralAir + LotArea + KitchenQual | 11                                                                                                                                                            | \n",
       "| price_log ~ .                                                                                                                                                 | 12                                                                                                                                                            | \n",
       "\n",
       "\n"
      ],
      "text/plain": [
       "   formula                                                                                                                                                      \n",
       "1  price_log ~ GrLivArea                                                                                                                                        \n",
       "2  price_log ~ GrLivArea + OverallQual                                                                                                                          \n",
       "3  price_log ~ GrLivArea + OverallQual + BsmtFinSF1                                                                                                             \n",
       "4  price_log ~ GrLivArea + OverallQual + BsmtFinSF1 + Neighborhood                                                                                              \n",
       "5  price_log ~ GrLivArea + OverallQual + BsmtFinSF1 + Neighborhood + GarageArea                                                                                 \n",
       "6  price_log ~ GrLivArea + OverallQual + BsmtFinSF1 + Neighborhood + GarageArea + OverallCond                                                                   \n",
       "7  price_log ~ GrLivArea + OverallQual + BsmtFinSF1 + Neighborhood + GarageArea + OverallCond + TotalBsmtSF                                                     \n",
       "8  price_log ~ GrLivArea + OverallQual + BsmtFinSF1 + Neighborhood + GarageArea + OverallCond + TotalBsmtSF + SaleCondition                                     \n",
       "9  price_log ~ GrLivArea + OverallQual + BsmtFinSF1 + Neighborhood + GarageArea + OverallCond + TotalBsmtSF + SaleCondition + CentralAir                        \n",
       "10 price_log ~ GrLivArea + OverallQual + BsmtFinSF1 + Neighborhood + GarageArea + OverallCond + TotalBsmtSF + SaleCondition + CentralAir + LotArea              \n",
       "11 price_log ~ GrLivArea + OverallQual + BsmtFinSF1 + Neighborhood + GarageArea + OverallCond + TotalBsmtSF + SaleCondition + CentralAir + LotArea + KitchenQual\n",
       "12 price_log ~ .                                                                                                                                                \n",
       "   formula_num\n",
       "1   1         \n",
       "2   2         \n",
       "3   3         \n",
       "4   4         \n",
       "5   5         \n",
       "6   6         \n",
       "7   7         \n",
       "8   8         \n",
       "9   9         \n",
       "10 10         \n",
       "11 11         \n",
       "12 12         "
      ]
     },
     "metadata": {},
     "output_type": "display_data"
    }
   ],
   "source": [
    "formulas_for_validation = data_frame(\n",
    "    \n",
    "    formula = c(\n",
    "        'price_log ~ GrLivArea',\n",
    "        'price_log ~ GrLivArea + OverallQual',\n",
    "        'price_log ~ GrLivArea + OverallQual + BsmtFinSF1',\n",
    "        'price_log ~ GrLivArea + OverallQual + BsmtFinSF1 + Neighborhood',\n",
    "        'price_log ~ GrLivArea + OverallQual + BsmtFinSF1 + Neighborhood + GarageArea',\n",
    "        'price_log ~ GrLivArea + OverallQual + BsmtFinSF1 + Neighborhood + GarageArea + OverallCond',\n",
    "        'price_log ~ GrLivArea + OverallQual + BsmtFinSF1 + Neighborhood + GarageArea + OverallCond + TotalBsmtSF',\n",
    "        'price_log ~ GrLivArea + OverallQual + BsmtFinSF1 + Neighborhood + GarageArea + OverallCond + TotalBsmtSF + SaleCondition',\n",
    "        'price_log ~ GrLivArea + OverallQual + BsmtFinSF1 + Neighborhood + GarageArea + OverallCond + TotalBsmtSF + SaleCondition + CentralAir',\n",
    "        'price_log ~ GrLivArea + OverallQual + BsmtFinSF1 + Neighborhood + GarageArea + OverallCond + TotalBsmtSF + SaleCondition + CentralAir + LotArea',\n",
    "        'price_log ~ GrLivArea + OverallQual + BsmtFinSF1 + Neighborhood + GarageArea + OverallCond + TotalBsmtSF + SaleCondition + CentralAir + LotArea + KitchenQual',\n",
    "        'price_log ~ .'\n",
    "    )\n",
    ") %>%\n",
    "mutate(\n",
    " formula_num = row_number()\n",
    ")\n",
    "\n",
    "formulas_for_validation"
   ]
  },
  {
   "cell_type": "code",
   "execution_count": 37,
   "metadata": {},
   "outputs": [
    {
     "data": {
      "text/html": [
       "1458"
      ],
      "text/latex": [
       "1458"
      ],
      "text/markdown": [
       "1458"
      ],
      "text/plain": [
       "[1] 1458"
      ]
     },
     "metadata": {},
     "output_type": "display_data"
    },
    {
     "data": {
      "text/html": [
       "730"
      ],
      "text/latex": [
       "730"
      ],
      "text/markdown": [
       "730"
      ],
      "text/plain": [
       "[1] 730"
      ]
     },
     "metadata": {},
     "output_type": "display_data"
    },
    {
     "data": {
      "text/html": [
       "728"
      ],
      "text/latex": [
       "728"
      ],
      "text/markdown": [
       "728"
      ],
      "text/plain": [
       "[1] 728"
      ]
     },
     "metadata": {},
     "output_type": "display_data"
    },
    {
     "data": {
      "text/html": [
       "730"
      ],
      "text/latex": [
       "730"
      ],
      "text/markdown": [
       "730"
      ],
      "text/plain": [
       "[1] 730"
      ]
     },
     "metadata": {},
     "output_type": "display_data"
    },
    {
     "data": {
      "text/html": [
       "728"
      ],
      "text/latex": [
       "728"
      ],
      "text/markdown": [
       "728"
      ],
      "text/plain": [
       "[1] 728"
      ]
     },
     "metadata": {},
     "output_type": "display_data"
    },
    {
     "name": "stderr",
     "output_type": "stream",
     "text": [
      "Warning message in predict.lm(mod, testset):\n",
      "“prediction from a rank-deficient fit may be misleading”"
     ]
    },
    {
     "data": {
      "text/html": [
       "<table>\n",
       "<thead><tr><th scope=col>formula</th><th scope=col>formula_num</th><th scope=col>r2</th><th scope=col>L2_train</th><th scope=col>L2_test</th></tr></thead>\n",
       "<tbody>\n",
       "\t<tr><td>price_log ~ GrLivArea                                                                                                                                        </td><td> 1                                                                                                                                                           </td><td>0.5194971                                                                                                                                                    </td><td>0.07754011                                                                                                                                                   </td><td>0.06818203                                                                                                                                                   </td></tr>\n",
       "\t<tr><td>price_log ~ GrLivArea + OverallQual                                                                                                                          </td><td> 2                                                                                                                                                           </td><td>0.7601174                                                                                                                                                    </td><td>0.03871052                                                                                                                                                   </td><td>0.03675421                                                                                                                                                   </td></tr>\n",
       "\t<tr><td>price_log ~ GrLivArea + OverallQual + BsmtFinSF1                                                                                                             </td><td> 3                                                                                                                                                           </td><td>0.8075362                                                                                                                                                    </td><td>0.03105842                                                                                                                                                   </td><td>0.02931978                                                                                                                                                   </td></tr>\n",
       "\t<tr><td>price_log ~ GrLivArea + OverallQual + BsmtFinSF1 + Neighborhood                                                                                              </td><td> 4                                                                                                                                                           </td><td>0.8495874                                                                                                                                                    </td><td>0.02427250                                                                                                                                                   </td><td>0.02432850                                                                                                                                                   </td></tr>\n",
       "\t<tr><td>price_log ~ GrLivArea + OverallQual + BsmtFinSF1 + Neighborhood + GarageArea                                                                                 </td><td> 5                                                                                                                                                           </td><td>0.8616865                                                                                                                                                    </td><td>0.02232004                                                                                                                                                   </td><td>0.02245876                                                                                                                                                   </td></tr>\n",
       "\t<tr><td>price_log ~ GrLivArea + OverallQual + BsmtFinSF1 + Neighborhood + GarageArea + OverallCond                                                                   </td><td> 6                                                                                                                                                           </td><td>0.8740782                                                                                                                                                    </td><td>0.02032036                                                                                                                                                   </td><td>0.02071013                                                                                                                                                   </td></tr>\n",
       "\t<tr><td>price_log ~ GrLivArea + OverallQual + BsmtFinSF1 + Neighborhood + GarageArea + OverallCond + TotalBsmtSF                                                     </td><td> 7                                                                                                                                                           </td><td>0.8855278                                                                                                                                                    </td><td>0.01847271                                                                                                                                                   </td><td>0.01927105                                                                                                                                                   </td></tr>\n",
       "\t<tr><td>price_log ~ GrLivArea + OverallQual + BsmtFinSF1 + Neighborhood + GarageArea + OverallCond + TotalBsmtSF + SaleCondition                                     </td><td> 8                                                                                                                                                           </td><td>0.8940336                                                                                                                                                    </td><td>0.01710010                                                                                                                                                   </td><td>0.01874380                                                                                                                                                   </td></tr>\n",
       "\t<tr><td>price_log ~ GrLivArea + OverallQual + BsmtFinSF1 + Neighborhood + GarageArea + OverallCond + TotalBsmtSF + SaleCondition + CentralAir                        </td><td> 9                                                                                                                                                           </td><td>0.8984984                                                                                                                                                    </td><td>0.01637960                                                                                                                                                   </td><td>0.01770176                                                                                                                                                   </td></tr>\n",
       "\t<tr><td>price_log ~ GrLivArea + OverallQual + BsmtFinSF1 + Neighborhood + GarageArea + OverallCond + TotalBsmtSF + SaleCondition + CentralAir + LotArea              </td><td>10                                                                                                                                                           </td><td>0.9024648                                                                                                                                                    </td><td>0.01573952                                                                                                                                                   </td><td>0.01690125                                                                                                                                                   </td></tr>\n",
       "\t<tr><td>price_log ~ GrLivArea + OverallQual + BsmtFinSF1 + Neighborhood + GarageArea + OverallCond + TotalBsmtSF + SaleCondition + CentralAir + LotArea + KitchenQual</td><td>11                                                                                                                                                           </td><td>0.9053177                                                                                                                                                    </td><td>0.01527915                                                                                                                                                   </td><td>0.01603763                                                                                                                                                   </td></tr>\n",
       "\t<tr><td>price_log ~ .                                                                                                                                                </td><td>12                                                                                                                                                           </td><td>0.9358135                                                                                                                                                    </td><td>0.01035796                                                                                                                                                   </td><td>0.06278805                                                                                                                                                   </td></tr>\n",
       "</tbody>\n",
       "</table>\n"
      ],
      "text/latex": [
       "\\begin{tabular}{r|lllll}\n",
       " formula & formula\\_num & r2 & L2\\_train & L2\\_test\\\\\n",
       "\\hline\n",
       "\t price\\_log \\textasciitilde{} GrLivArea                                                                                                                                         &  1                                                                                                                                                                               & 0.5194971                                                                                                                                                                        & 0.07754011                                                                                                                                                                       & 0.06818203                                                                                                                                                                      \\\\\n",
       "\t price\\_log \\textasciitilde{} GrLivArea + OverallQual                                                                                                                           &  2                                                                                                                                                                               & 0.7601174                                                                                                                                                                        & 0.03871052                                                                                                                                                                       & 0.03675421                                                                                                                                                                      \\\\\n",
       "\t price\\_log \\textasciitilde{} GrLivArea + OverallQual + BsmtFinSF1                                                                                                              &  3                                                                                                                                                                               & 0.8075362                                                                                                                                                                        & 0.03105842                                                                                                                                                                       & 0.02931978                                                                                                                                                                      \\\\\n",
       "\t price\\_log \\textasciitilde{} GrLivArea + OverallQual + BsmtFinSF1 + Neighborhood                                                                                               &  4                                                                                                                                                                               & 0.8495874                                                                                                                                                                        & 0.02427250                                                                                                                                                                       & 0.02432850                                                                                                                                                                      \\\\\n",
       "\t price\\_log \\textasciitilde{} GrLivArea + OverallQual + BsmtFinSF1 + Neighborhood + GarageArea                                                                                  &  5                                                                                                                                                                               & 0.8616865                                                                                                                                                                        & 0.02232004                                                                                                                                                                       & 0.02245876                                                                                                                                                                      \\\\\n",
       "\t price\\_log \\textasciitilde{} GrLivArea + OverallQual + BsmtFinSF1 + Neighborhood + GarageArea + OverallCond                                                                    &  6                                                                                                                                                                               & 0.8740782                                                                                                                                                                        & 0.02032036                                                                                                                                                                       & 0.02071013                                                                                                                                                                      \\\\\n",
       "\t price\\_log \\textasciitilde{} GrLivArea + OverallQual + BsmtFinSF1 + Neighborhood + GarageArea + OverallCond + TotalBsmtSF                                                      &  7                                                                                                                                                                               & 0.8855278                                                                                                                                                                        & 0.01847271                                                                                                                                                                       & 0.01927105                                                                                                                                                                      \\\\\n",
       "\t price\\_log \\textasciitilde{} GrLivArea + OverallQual + BsmtFinSF1 + Neighborhood + GarageArea + OverallCond + TotalBsmtSF + SaleCondition                                      &  8                                                                                                                                                                               & 0.8940336                                                                                                                                                                        & 0.01710010                                                                                                                                                                       & 0.01874380                                                                                                                                                                      \\\\\n",
       "\t price\\_log \\textasciitilde{} GrLivArea + OverallQual + BsmtFinSF1 + Neighborhood + GarageArea + OverallCond + TotalBsmtSF + SaleCondition + CentralAir                         &  9                                                                                                                                                                               & 0.8984984                                                                                                                                                                        & 0.01637960                                                                                                                                                                       & 0.01770176                                                                                                                                                                      \\\\\n",
       "\t price\\_log \\textasciitilde{} GrLivArea + OverallQual + BsmtFinSF1 + Neighborhood + GarageArea + OverallCond + TotalBsmtSF + SaleCondition + CentralAir + LotArea               & 10                                                                                                                                                                               & 0.9024648                                                                                                                                                                        & 0.01573952                                                                                                                                                                       & 0.01690125                                                                                                                                                                      \\\\\n",
       "\t price\\_log \\textasciitilde{} GrLivArea + OverallQual + BsmtFinSF1 + Neighborhood + GarageArea + OverallCond + TotalBsmtSF + SaleCondition + CentralAir + LotArea + KitchenQual & 11                                                                                                                                                                               & 0.9053177                                                                                                                                                                        & 0.01527915                                                                                                                                                                       & 0.01603763                                                                                                                                                                      \\\\\n",
       "\t price\\_log \\textasciitilde{} .                                                                                                                                                 & 12                                                                                                                                                                               & 0.9358135                                                                                                                                                                        & 0.01035796                                                                                                                                                                       & 0.06278805                                                                                                                                                                      \\\\\n",
       "\\end{tabular}\n"
      ],
      "text/markdown": [
       "\n",
       "formula | formula_num | r2 | L2_train | L2_test | \n",
       "|---|---|---|---|---|---|---|---|---|---|---|---|\n",
       "| price_log ~ GrLivArea                                                                                                                                         |  1                                                                                                                                                            | 0.5194971                                                                                                                                                     | 0.07754011                                                                                                                                                    | 0.06818203                                                                                                                                                    | \n",
       "| price_log ~ GrLivArea + OverallQual                                                                                                                           |  2                                                                                                                                                            | 0.7601174                                                                                                                                                     | 0.03871052                                                                                                                                                    | 0.03675421                                                                                                                                                    | \n",
       "| price_log ~ GrLivArea + OverallQual + BsmtFinSF1                                                                                                              |  3                                                                                                                                                            | 0.8075362                                                                                                                                                     | 0.03105842                                                                                                                                                    | 0.02931978                                                                                                                                                    | \n",
       "| price_log ~ GrLivArea + OverallQual + BsmtFinSF1 + Neighborhood                                                                                               |  4                                                                                                                                                            | 0.8495874                                                                                                                                                     | 0.02427250                                                                                                                                                    | 0.02432850                                                                                                                                                    | \n",
       "| price_log ~ GrLivArea + OverallQual + BsmtFinSF1 + Neighborhood + GarageArea                                                                                  |  5                                                                                                                                                            | 0.8616865                                                                                                                                                     | 0.02232004                                                                                                                                                    | 0.02245876                                                                                                                                                    | \n",
       "| price_log ~ GrLivArea + OverallQual + BsmtFinSF1 + Neighborhood + GarageArea + OverallCond                                                                    |  6                                                                                                                                                            | 0.8740782                                                                                                                                                     | 0.02032036                                                                                                                                                    | 0.02071013                                                                                                                                                    | \n",
       "| price_log ~ GrLivArea + OverallQual + BsmtFinSF1 + Neighborhood + GarageArea + OverallCond + TotalBsmtSF                                                      |  7                                                                                                                                                            | 0.8855278                                                                                                                                                     | 0.01847271                                                                                                                                                    | 0.01927105                                                                                                                                                    | \n",
       "| price_log ~ GrLivArea + OverallQual + BsmtFinSF1 + Neighborhood + GarageArea + OverallCond + TotalBsmtSF + SaleCondition                                      |  8                                                                                                                                                            | 0.8940336                                                                                                                                                     | 0.01710010                                                                                                                                                    | 0.01874380                                                                                                                                                    | \n",
       "| price_log ~ GrLivArea + OverallQual + BsmtFinSF1 + Neighborhood + GarageArea + OverallCond + TotalBsmtSF + SaleCondition + CentralAir                         |  9                                                                                                                                                            | 0.8984984                                                                                                                                                     | 0.01637960                                                                                                                                                    | 0.01770176                                                                                                                                                    | \n",
       "| price_log ~ GrLivArea + OverallQual + BsmtFinSF1 + Neighborhood + GarageArea + OverallCond + TotalBsmtSF + SaleCondition + CentralAir + LotArea               | 10                                                                                                                                                            | 0.9024648                                                                                                                                                     | 0.01573952                                                                                                                                                    | 0.01690125                                                                                                                                                    | \n",
       "| price_log ~ GrLivArea + OverallQual + BsmtFinSF1 + Neighborhood + GarageArea + OverallCond + TotalBsmtSF + SaleCondition + CentralAir + LotArea + KitchenQual | 11                                                                                                                                                            | 0.9053177                                                                                                                                                     | 0.01527915                                                                                                                                                    | 0.01603763                                                                                                                                                    | \n",
       "| price_log ~ .                                                                                                                                                 | 12                                                                                                                                                            | 0.9358135                                                                                                                                                     | 0.01035796                                                                                                                                                    | 0.06278805                                                                                                                                                    | \n",
       "\n",
       "\n"
      ],
      "text/plain": [
       "   formula                                                                                                                                                      \n",
       "1  price_log ~ GrLivArea                                                                                                                                        \n",
       "2  price_log ~ GrLivArea + OverallQual                                                                                                                          \n",
       "3  price_log ~ GrLivArea + OverallQual + BsmtFinSF1                                                                                                             \n",
       "4  price_log ~ GrLivArea + OverallQual + BsmtFinSF1 + Neighborhood                                                                                              \n",
       "5  price_log ~ GrLivArea + OverallQual + BsmtFinSF1 + Neighborhood + GarageArea                                                                                 \n",
       "6  price_log ~ GrLivArea + OverallQual + BsmtFinSF1 + Neighborhood + GarageArea + OverallCond                                                                   \n",
       "7  price_log ~ GrLivArea + OverallQual + BsmtFinSF1 + Neighborhood + GarageArea + OverallCond + TotalBsmtSF                                                     \n",
       "8  price_log ~ GrLivArea + OverallQual + BsmtFinSF1 + Neighborhood + GarageArea + OverallCond + TotalBsmtSF + SaleCondition                                     \n",
       "9  price_log ~ GrLivArea + OverallQual + BsmtFinSF1 + Neighborhood + GarageArea + OverallCond + TotalBsmtSF + SaleCondition + CentralAir                        \n",
       "10 price_log ~ GrLivArea + OverallQual + BsmtFinSF1 + Neighborhood + GarageArea + OverallCond + TotalBsmtSF + SaleCondition + CentralAir + LotArea              \n",
       "11 price_log ~ GrLivArea + OverallQual + BsmtFinSF1 + Neighborhood + GarageArea + OverallCond + TotalBsmtSF + SaleCondition + CentralAir + LotArea + KitchenQual\n",
       "12 price_log ~ .                                                                                                                                                \n",
       "   formula_num r2        L2_train   L2_test   \n",
       "1   1          0.5194971 0.07754011 0.06818203\n",
       "2   2          0.7601174 0.03871052 0.03675421\n",
       "3   3          0.8075362 0.03105842 0.02931978\n",
       "4   4          0.8495874 0.02427250 0.02432850\n",
       "5   5          0.8616865 0.02232004 0.02245876\n",
       "6   6          0.8740782 0.02032036 0.02071013\n",
       "7   7          0.8855278 0.01847271 0.01927105\n",
       "8   8          0.8940336 0.01710010 0.01874380\n",
       "9   9          0.8984984 0.01637960 0.01770176\n",
       "10 10          0.9024648 0.01573952 0.01690125\n",
       "11 11          0.9053177 0.01527915 0.01603763\n",
       "12 12          0.9358135 0.01035796 0.06278805"
      ]
     },
     "metadata": {},
     "output_type": "display_data"
    }
   ],
   "source": [
    "set.seed(8)\n",
    "\n",
    "dataset <- \n",
    "    combined_dataset %>% \n",
    "    filter(dataSource == 'train') %>% \n",
    "    select(-dataSource)\n",
    "dataset %>% nrow\n",
    "\n",
    "caret::createDataPartition(\n",
    "    y = dataset[['price_log']], \n",
    "    p = 0.5, \n",
    "    list = T, \n",
    "    times = 1\n",
    ")[[1]] -> sample_index\n",
    "\n",
    "sample_index %>% length\n",
    "\n",
    "test_y <- dataset[-sample_index, 'price_log'][[1]]\n",
    "test_y %>% length\n",
    "\n",
    "dataset[-sample_index, 'price_log'] <- NA\n",
    "dataset <- house_prices$trans$categ$rating_transform(dataset, price_log)\n",
    "\n",
    "trainset <- dataset[sample_index,]\n",
    "testset <- dataset[-sample_index,]\n",
    "trainset %>% nrow\n",
    "testset %>% nrow\n",
    "\n",
    "\n",
    "formulas_for_validation %>%\n",
    "mutate(\n",
    "    model = map(formula, ~lm(as.formula(.), data=trainset)),\n",
    "\n",
    "    r2 = map_dbl(model, function (mod) {\n",
    "        summary(mod)$r.squared\n",
    "    }),\n",
    "\n",
    "    L2_train = map_dbl(model, function (mod) {\n",
    "        augment <- broom::augment(mod)\n",
    "        L2Loss(augment[['price_log']] - augment$.fitted)\n",
    "    }),\n",
    "\n",
    "    L2_test = map_dbl(model, function (mod) {\n",
    "        test_predicted <- predict(mod, testset)\n",
    "        L2Loss(test_predicted - test_y)\n",
    "    })\n",
    ") %>%\n",
    "select(-model)"
   ]
  },
  {
   "cell_type": "code",
   "execution_count": null,
   "metadata": {
    "collapsed": true
   },
   "outputs": [],
   "source": []
  },
  {
   "cell_type": "code",
   "execution_count": null,
   "metadata": {
    "collapsed": true
   },
   "outputs": [],
   "source": []
  },
  {
   "cell_type": "code",
   "execution_count": null,
   "metadata": {
    "collapsed": true
   },
   "outputs": [],
   "source": []
  },
  {
   "cell_type": "code",
   "execution_count": null,
   "metadata": {
    "collapsed": true
   },
   "outputs": [],
   "source": []
  },
  {
   "cell_type": "code",
   "execution_count": null,
   "metadata": {
    "collapsed": true
   },
   "outputs": [],
   "source": []
  },
  {
   "cell_type": "code",
   "execution_count": null,
   "metadata": {
    "collapsed": true
   },
   "outputs": [],
   "source": []
  },
  {
   "cell_type": "code",
   "execution_count": null,
   "metadata": {
    "collapsed": true
   },
   "outputs": [],
   "source": []
  },
  {
   "cell_type": "code",
   "execution_count": null,
   "metadata": {
    "collapsed": true
   },
   "outputs": [],
   "source": []
  },
  {
   "cell_type": "code",
   "execution_count": null,
   "metadata": {
    "collapsed": true
   },
   "outputs": [],
   "source": []
  },
  {
   "cell_type": "code",
   "execution_count": null,
   "metadata": {
    "collapsed": true
   },
   "outputs": [],
   "source": []
  },
  {
   "cell_type": "code",
   "execution_count": null,
   "metadata": {
    "collapsed": true
   },
   "outputs": [],
   "source": []
  },
  {
   "cell_type": "code",
   "execution_count": null,
   "metadata": {
    "collapsed": true
   },
   "outputs": [],
   "source": []
  },
  {
   "cell_type": "code",
   "execution_count": null,
   "metadata": {
    "collapsed": true
   },
   "outputs": [],
   "source": []
  }
 ],
 "metadata": {
  "kernelspec": {
   "display_name": "R",
   "language": "R",
   "name": "ir"
  },
  "language_info": {
   "codemirror_mode": "r",
   "file_extension": ".r",
   "mimetype": "text/x-r-source",
   "name": "R",
   "pygments_lexer": "r",
   "version": "3.4.2"
  }
 },
 "nbformat": 4,
 "nbformat_minor": 2
}
