{
 "cells": [
  {
   "cell_type": "code",
   "execution_count": 1,
   "metadata": {},
   "outputs": [
    {
     "data": {
      "text/html": [
       "'/mnt/hdd/develop/kaggle/R_sources/house_prices'"
      ],
      "text/latex": [
       "'/mnt/hdd/develop/kaggle/R\\_sources/house\\_prices'"
      ],
      "text/markdown": [
       "'/mnt/hdd/develop/kaggle/R_sources/house_prices'"
      ],
      "text/plain": [
       "[1] \"/mnt/hdd/develop/kaggle/R_sources/house_prices\""
      ]
     },
     "metadata": {},
     "output_type": "display_data"
    }
   ],
   "source": [
    "setwd(paste0(Sys.getenv('R_SOURCES'), '/house_prices'))\n",
    "getwd()"
   ]
  },
  {
   "cell_type": "code",
   "execution_count": 4,
   "metadata": {},
   "outputs": [
    {
     "data": {
      "text/html": [
       "<ol class=list-inline>\n",
       "\t<li>2919</li>\n",
       "\t<li>82</li>\n",
       "</ol>\n"
      ],
      "text/latex": [
       "\\begin{enumerate*}\n",
       "\\item 2919\n",
       "\\item 82\n",
       "\\end{enumerate*}\n"
      ],
      "text/markdown": [
       "1. 2919\n",
       "2. 82\n",
       "\n",
       "\n"
      ],
      "text/plain": [
       "[1] 2919   82"
      ]
     },
     "metadata": {},
     "output_type": "display_data"
    }
   ],
   "source": [
    "source('main.R')\n",
    "house_prices$helpers$import_libs()\n",
    "combined_dataset <- house_prices$helpers$load_data()\n",
    "combined_dataset %>% dim"
   ]
  },
  {
   "cell_type": "code",
   "execution_count": 44,
   "metadata": {},
   "outputs": [
    {
     "data": {
      "text/html": [
       "<table>\n",
       "<thead><tr><th scope=col>Id</th><th scope=col>MSSubClass</th><th scope=col>MSZoning</th><th scope=col>LotFrontage</th><th scope=col>LotArea</th><th scope=col>Street</th><th scope=col>Alley</th><th scope=col>LotShape</th><th scope=col>LandContour</th><th scope=col>Utilities</th><th scope=col>⋯</th><th scope=col>PoolQC</th><th scope=col>Fence</th><th scope=col>MiscFeature</th><th scope=col>MiscVal</th><th scope=col>MoSold</th><th scope=col>YrSold</th><th scope=col>SaleType</th><th scope=col>SaleCondition</th><th scope=col>SalePrice</th><th scope=col>dataSource</th></tr></thead>\n",
       "<tbody>\n",
       "\t<tr><td>1      </td><td>60     </td><td>RL     </td><td>65     </td><td> 8450  </td><td>Pave   </td><td>NA     </td><td>Reg    </td><td>Lvl    </td><td>AllPub </td><td>⋯      </td><td>NA     </td><td>NA     </td><td>NA     </td><td>  0    </td><td> 2     </td><td>2008   </td><td>WD     </td><td>Normal </td><td>208500 </td><td>train  </td></tr>\n",
       "\t<tr><td>2      </td><td>20     </td><td>RL     </td><td>80     </td><td> 9600  </td><td>Pave   </td><td>NA     </td><td>Reg    </td><td>Lvl    </td><td>AllPub </td><td>⋯      </td><td>NA     </td><td>NA     </td><td>NA     </td><td>  0    </td><td> 5     </td><td>2007   </td><td>WD     </td><td>Normal </td><td>181500 </td><td>train  </td></tr>\n",
       "\t<tr><td>3      </td><td>60     </td><td>RL     </td><td>68     </td><td>11250  </td><td>Pave   </td><td>NA     </td><td>IR1    </td><td>Lvl    </td><td>AllPub </td><td>⋯      </td><td>NA     </td><td>NA     </td><td>NA     </td><td>  0    </td><td> 9     </td><td>2008   </td><td>WD     </td><td>Normal </td><td>223500 </td><td>train  </td></tr>\n",
       "\t<tr><td>4      </td><td>70     </td><td>RL     </td><td>60     </td><td> 9550  </td><td>Pave   </td><td>NA     </td><td>IR1    </td><td>Lvl    </td><td>AllPub </td><td>⋯      </td><td>NA     </td><td>NA     </td><td>NA     </td><td>  0    </td><td> 2     </td><td>2006   </td><td>WD     </td><td>Abnorml</td><td>140000 </td><td>train  </td></tr>\n",
       "\t<tr><td>5      </td><td>60     </td><td>RL     </td><td>84     </td><td>14260  </td><td>Pave   </td><td>NA     </td><td>IR1    </td><td>Lvl    </td><td>AllPub </td><td>⋯      </td><td>NA     </td><td>NA     </td><td>NA     </td><td>  0    </td><td>12     </td><td>2008   </td><td>WD     </td><td>Normal </td><td>250000 </td><td>train  </td></tr>\n",
       "\t<tr><td>6      </td><td>50     </td><td>RL     </td><td>85     </td><td>14115  </td><td>Pave   </td><td>NA     </td><td>IR1    </td><td>Lvl    </td><td>AllPub </td><td>⋯      </td><td>NA     </td><td>MnPrv  </td><td>Shed   </td><td>700    </td><td>10     </td><td>2009   </td><td>WD     </td><td>Normal </td><td>143000 </td><td>train  </td></tr>\n",
       "</tbody>\n",
       "</table>\n"
      ],
      "text/latex": [
       "\\begin{tabular}{r|llllllllllllllllllllllllllllllllllllllllllllllllllllllllllllllllllllllllllllllllll}\n",
       " Id & MSSubClass & MSZoning & LotFrontage & LotArea & Street & Alley & LotShape & LandContour & Utilities & ⋯ & PoolQC & Fence & MiscFeature & MiscVal & MoSold & YrSold & SaleType & SaleCondition & SalePrice & dataSource\\\\\n",
       "\\hline\n",
       "\t 1       & 60      & RL      & 65      &  8450   & Pave    & NA      & Reg     & Lvl     & AllPub  & ⋯       & NA      & NA      & NA      &   0     &  2      & 2008    & WD      & Normal  & 208500  & train  \\\\\n",
       "\t 2       & 20      & RL      & 80      &  9600   & Pave    & NA      & Reg     & Lvl     & AllPub  & ⋯       & NA      & NA      & NA      &   0     &  5      & 2007    & WD      & Normal  & 181500  & train  \\\\\n",
       "\t 3       & 60      & RL      & 68      & 11250   & Pave    & NA      & IR1     & Lvl     & AllPub  & ⋯       & NA      & NA      & NA      &   0     &  9      & 2008    & WD      & Normal  & 223500  & train  \\\\\n",
       "\t 4       & 70      & RL      & 60      &  9550   & Pave    & NA      & IR1     & Lvl     & AllPub  & ⋯       & NA      & NA      & NA      &   0     &  2      & 2006    & WD      & Abnorml & 140000  & train  \\\\\n",
       "\t 5       & 60      & RL      & 84      & 14260   & Pave    & NA      & IR1     & Lvl     & AllPub  & ⋯       & NA      & NA      & NA      &   0     & 12      & 2008    & WD      & Normal  & 250000  & train  \\\\\n",
       "\t 6       & 50      & RL      & 85      & 14115   & Pave    & NA      & IR1     & Lvl     & AllPub  & ⋯       & NA      & MnPrv   & Shed    & 700     & 10      & 2009    & WD      & Normal  & 143000  & train  \\\\\n",
       "\\end{tabular}\n"
      ],
      "text/markdown": [
       "\n",
       "Id | MSSubClass | MSZoning | LotFrontage | LotArea | Street | Alley | LotShape | LandContour | Utilities | ⋯ | PoolQC | Fence | MiscFeature | MiscVal | MoSold | YrSold | SaleType | SaleCondition | SalePrice | dataSource | \n",
       "|---|---|---|---|---|---|\n",
       "| 1       | 60      | RL      | 65      |  8450   | Pave    | NA      | Reg     | Lvl     | AllPub  | ⋯       | NA      | NA      | NA      |   0     |  2      | 2008    | WD      | Normal  | 208500  | train   | \n",
       "| 2       | 20      | RL      | 80      |  9600   | Pave    | NA      | Reg     | Lvl     | AllPub  | ⋯       | NA      | NA      | NA      |   0     |  5      | 2007    | WD      | Normal  | 181500  | train   | \n",
       "| 3       | 60      | RL      | 68      | 11250   | Pave    | NA      | IR1     | Lvl     | AllPub  | ⋯       | NA      | NA      | NA      |   0     |  9      | 2008    | WD      | Normal  | 223500  | train   | \n",
       "| 4       | 70      | RL      | 60      |  9550   | Pave    | NA      | IR1     | Lvl     | AllPub  | ⋯       | NA      | NA      | NA      |   0     |  2      | 2006    | WD      | Abnorml | 140000  | train   | \n",
       "| 5       | 60      | RL      | 84      | 14260   | Pave    | NA      | IR1     | Lvl     | AllPub  | ⋯       | NA      | NA      | NA      |   0     | 12      | 2008    | WD      | Normal  | 250000  | train   | \n",
       "| 6       | 50      | RL      | 85      | 14115   | Pave    | NA      | IR1     | Lvl     | AllPub  | ⋯       | NA      | MnPrv   | Shed    | 700     | 10      | 2009    | WD      | Normal  | 143000  | train   | \n",
       "\n",
       "\n"
      ],
      "text/plain": [
       "  Id MSSubClass MSZoning LotFrontage LotArea Street Alley LotShape LandContour\n",
       "1 1  60         RL       65           8450   Pave   NA    Reg      Lvl        \n",
       "2 2  20         RL       80           9600   Pave   NA    Reg      Lvl        \n",
       "3 3  60         RL       68          11250   Pave   NA    IR1      Lvl        \n",
       "4 4  70         RL       60           9550   Pave   NA    IR1      Lvl        \n",
       "5 5  60         RL       84          14260   Pave   NA    IR1      Lvl        \n",
       "6 6  50         RL       85          14115   Pave   NA    IR1      Lvl        \n",
       "  Utilities ⋯ PoolQC Fence MiscFeature MiscVal MoSold YrSold SaleType\n",
       "1 AllPub    ⋯ NA     NA    NA            0      2     2008   WD      \n",
       "2 AllPub    ⋯ NA     NA    NA            0      5     2007   WD      \n",
       "3 AllPub    ⋯ NA     NA    NA            0      9     2008   WD      \n",
       "4 AllPub    ⋯ NA     NA    NA            0      2     2006   WD      \n",
       "5 AllPub    ⋯ NA     NA    NA            0     12     2008   WD      \n",
       "6 AllPub    ⋯ NA     MnPrv Shed        700     10     2009   WD      \n",
       "  SaleCondition SalePrice dataSource\n",
       "1 Normal        208500    train     \n",
       "2 Normal        181500    train     \n",
       "3 Normal        223500    train     \n",
       "4 Abnorml       140000    train     \n",
       "5 Normal        250000    train     \n",
       "6 Normal        143000    train     "
      ]
     },
     "metadata": {},
     "output_type": "display_data"
    }
   ],
   "source": [
    "source('main.R')\n",
    "\n",
    "house_prices$missing$categ$replace_with_most_common(\n",
    "    df = combined_dataset, \n",
    "    columns = c(\"MSZoning\", \"Electrical\", \"Functional\")\n",
    ") %>% head"
   ]
  },
  {
   "cell_type": "code",
   "execution_count": 52,
   "metadata": {},
   "outputs": [
    {
     "data": {
      "text/html": [
       "<ol class=list-inline>\n",
       "\t<li>'BldgType'</li>\n",
       "\t<li>'CentralAir'</li>\n",
       "\t<li>'Condition1'</li>\n",
       "\t<li>'Condition2'</li>\n",
       "\t<li>'Electrical'</li>\n",
       "\t<li>'ExterCond'</li>\n",
       "\t<li>'Exterior1st'</li>\n",
       "\t<li>'Exterior2nd'</li>\n",
       "\t<li>'ExterQual'</li>\n",
       "\t<li>'Foundation'</li>\n",
       "\t<li>'Functional'</li>\n",
       "\t<li>'Heating'</li>\n",
       "\t<li>'HeatingQC'</li>\n",
       "\t<li>'HouseStyle'</li>\n",
       "\t<li>'KitchenQual'</li>\n",
       "\t<li>'LandContour'</li>\n",
       "\t<li>'LandSlope'</li>\n",
       "\t<li>'LotConfig'</li>\n",
       "\t<li>'LotShape'</li>\n",
       "\t<li>'MSSubClass'</li>\n",
       "\t<li>'MSZoning'</li>\n",
       "\t<li>'Neighborhood'</li>\n",
       "\t<li>'PavedDrive'</li>\n",
       "\t<li>'RoofMatl'</li>\n",
       "\t<li>'RoofStyle'</li>\n",
       "\t<li>'SaleCondition'</li>\n",
       "\t<li>'SaleType'</li>\n",
       "\t<li>'Street'</li>\n",
       "</ol>\n"
      ],
      "text/latex": [
       "\\begin{enumerate*}\n",
       "\\item 'BldgType'\n",
       "\\item 'CentralAir'\n",
       "\\item 'Condition1'\n",
       "\\item 'Condition2'\n",
       "\\item 'Electrical'\n",
       "\\item 'ExterCond'\n",
       "\\item 'Exterior1st'\n",
       "\\item 'Exterior2nd'\n",
       "\\item 'ExterQual'\n",
       "\\item 'Foundation'\n",
       "\\item 'Functional'\n",
       "\\item 'Heating'\n",
       "\\item 'HeatingQC'\n",
       "\\item 'HouseStyle'\n",
       "\\item 'KitchenQual'\n",
       "\\item 'LandContour'\n",
       "\\item 'LandSlope'\n",
       "\\item 'LotConfig'\n",
       "\\item 'LotShape'\n",
       "\\item 'MSSubClass'\n",
       "\\item 'MSZoning'\n",
       "\\item 'Neighborhood'\n",
       "\\item 'PavedDrive'\n",
       "\\item 'RoofMatl'\n",
       "\\item 'RoofStyle'\n",
       "\\item 'SaleCondition'\n",
       "\\item 'SaleType'\n",
       "\\item 'Street'\n",
       "\\end{enumerate*}\n"
      ],
      "text/markdown": [
       "1. 'BldgType'\n",
       "2. 'CentralAir'\n",
       "3. 'Condition1'\n",
       "4. 'Condition2'\n",
       "5. 'Electrical'\n",
       "6. 'ExterCond'\n",
       "7. 'Exterior1st'\n",
       "8. 'Exterior2nd'\n",
       "9. 'ExterQual'\n",
       "10. 'Foundation'\n",
       "11. 'Functional'\n",
       "12. 'Heating'\n",
       "13. 'HeatingQC'\n",
       "14. 'HouseStyle'\n",
       "15. 'KitchenQual'\n",
       "16. 'LandContour'\n",
       "17. 'LandSlope'\n",
       "18. 'LotConfig'\n",
       "19. 'LotShape'\n",
       "20. 'MSSubClass'\n",
       "21. 'MSZoning'\n",
       "22. 'Neighborhood'\n",
       "23. 'PavedDrive'\n",
       "24. 'RoofMatl'\n",
       "25. 'RoofStyle'\n",
       "26. 'SaleCondition'\n",
       "27. 'SaleType'\n",
       "28. 'Street'\n",
       "\n",
       "\n"
      ],
      "text/plain": [
       " [1] \"BldgType\"      \"CentralAir\"    \"Condition1\"    \"Condition2\"   \n",
       " [5] \"Electrical\"    \"ExterCond\"     \"Exterior1st\"   \"Exterior2nd\"  \n",
       " [9] \"ExterQual\"     \"Foundation\"    \"Functional\"    \"Heating\"      \n",
       "[13] \"HeatingQC\"     \"HouseStyle\"    \"KitchenQual\"   \"LandContour\"  \n",
       "[17] \"LandSlope\"     \"LotConfig\"     \"LotShape\"      \"MSSubClass\"   \n",
       "[21] \"MSZoning\"      \"Neighborhood\"  \"PavedDrive\"    \"RoofMatl\"     \n",
       "[25] \"RoofStyle\"     \"SaleCondition\" \"SaleType\"      \"Street\"       "
      ]
     },
     "metadata": {},
     "output_type": "display_data"
    },
    {
     "data": {
      "text/html": [
       "<table>\n",
       "<thead><tr><th scope=col>Id</th><th scope=col>MSSubClass</th><th scope=col>MSZoning</th><th scope=col>LotFrontage</th><th scope=col>LotArea</th><th scope=col>Street</th><th scope=col>Alley</th><th scope=col>LotShape</th><th scope=col>LandContour</th><th scope=col>Utilities</th><th scope=col>⋯</th><th scope=col>PoolQC</th><th scope=col>Fence</th><th scope=col>MiscFeature</th><th scope=col>MiscVal</th><th scope=col>MoSold</th><th scope=col>YrSold</th><th scope=col>SaleType</th><th scope=col>SaleCondition</th><th scope=col>SalePrice</th><th scope=col>dataSource</th></tr></thead>\n",
       "<tbody>\n",
       "\t<tr><td>1      </td><td>60     </td><td>RL     </td><td>65     </td><td> 8450  </td><td>Pave   </td><td>NA     </td><td>Reg    </td><td>Lvl    </td><td>AllPub </td><td>⋯      </td><td>NA     </td><td>NA     </td><td>NA     </td><td>  0    </td><td> 2     </td><td>2008   </td><td>WD     </td><td>Normal </td><td>208500 </td><td>train  </td></tr>\n",
       "\t<tr><td>2      </td><td>20     </td><td>RL     </td><td>80     </td><td> 9600  </td><td>Pave   </td><td>NA     </td><td>Reg    </td><td>Lvl    </td><td>AllPub </td><td>⋯      </td><td>NA     </td><td>NA     </td><td>NA     </td><td>  0    </td><td> 5     </td><td>2007   </td><td>WD     </td><td>Normal </td><td>181500 </td><td>train  </td></tr>\n",
       "\t<tr><td>3      </td><td>60     </td><td>RL     </td><td>68     </td><td>11250  </td><td>Pave   </td><td>NA     </td><td>IR1    </td><td>Lvl    </td><td>AllPub </td><td>⋯      </td><td>NA     </td><td>NA     </td><td>NA     </td><td>  0    </td><td> 9     </td><td>2008   </td><td>WD     </td><td>Normal </td><td>223500 </td><td>train  </td></tr>\n",
       "\t<tr><td>4      </td><td>70     </td><td>RL     </td><td>60     </td><td> 9550  </td><td>Pave   </td><td>NA     </td><td>IR1    </td><td>Lvl    </td><td>AllPub </td><td>⋯      </td><td>NA     </td><td>NA     </td><td>NA     </td><td>  0    </td><td> 2     </td><td>2006   </td><td>WD     </td><td>Abnorml</td><td>140000 </td><td>train  </td></tr>\n",
       "\t<tr><td>5      </td><td>60     </td><td>RL     </td><td>84     </td><td>14260  </td><td>Pave   </td><td>NA     </td><td>IR1    </td><td>Lvl    </td><td>AllPub </td><td>⋯      </td><td>NA     </td><td>NA     </td><td>NA     </td><td>  0    </td><td>12     </td><td>2008   </td><td>WD     </td><td>Normal </td><td>250000 </td><td>train  </td></tr>\n",
       "\t<tr><td>6      </td><td>50     </td><td>RL     </td><td>85     </td><td>14115  </td><td>Pave   </td><td>NA     </td><td>IR1    </td><td>Lvl    </td><td>AllPub </td><td>⋯      </td><td>NA     </td><td>MnPrv  </td><td>Shed   </td><td>700    </td><td>10     </td><td>2009   </td><td>WD     </td><td>Normal </td><td>143000 </td><td>train  </td></tr>\n",
       "</tbody>\n",
       "</table>\n"
      ],
      "text/latex": [
       "\\begin{tabular}{r|llllllllllllllllllllllllllllllllllllllllllllllllllllllllllllllllllllllllllllllllll}\n",
       " Id & MSSubClass & MSZoning & LotFrontage & LotArea & Street & Alley & LotShape & LandContour & Utilities & ⋯ & PoolQC & Fence & MiscFeature & MiscVal & MoSold & YrSold & SaleType & SaleCondition & SalePrice & dataSource\\\\\n",
       "\\hline\n",
       "\t 1       & 60      & RL      & 65      &  8450   & Pave    & NA      & Reg     & Lvl     & AllPub  & ⋯       & NA      & NA      & NA      &   0     &  2      & 2008    & WD      & Normal  & 208500  & train  \\\\\n",
       "\t 2       & 20      & RL      & 80      &  9600   & Pave    & NA      & Reg     & Lvl     & AllPub  & ⋯       & NA      & NA      & NA      &   0     &  5      & 2007    & WD      & Normal  & 181500  & train  \\\\\n",
       "\t 3       & 60      & RL      & 68      & 11250   & Pave    & NA      & IR1     & Lvl     & AllPub  & ⋯       & NA      & NA      & NA      &   0     &  9      & 2008    & WD      & Normal  & 223500  & train  \\\\\n",
       "\t 4       & 70      & RL      & 60      &  9550   & Pave    & NA      & IR1     & Lvl     & AllPub  & ⋯       & NA      & NA      & NA      &   0     &  2      & 2006    & WD      & Abnorml & 140000  & train  \\\\\n",
       "\t 5       & 60      & RL      & 84      & 14260   & Pave    & NA      & IR1     & Lvl     & AllPub  & ⋯       & NA      & NA      & NA      &   0     & 12      & 2008    & WD      & Normal  & 250000  & train  \\\\\n",
       "\t 6       & 50      & RL      & 85      & 14115   & Pave    & NA      & IR1     & Lvl     & AllPub  & ⋯       & NA      & MnPrv   & Shed    & 700     & 10      & 2009    & WD      & Normal  & 143000  & train  \\\\\n",
       "\\end{tabular}\n"
      ],
      "text/markdown": [
       "\n",
       "Id | MSSubClass | MSZoning | LotFrontage | LotArea | Street | Alley | LotShape | LandContour | Utilities | ⋯ | PoolQC | Fence | MiscFeature | MiscVal | MoSold | YrSold | SaleType | SaleCondition | SalePrice | dataSource | \n",
       "|---|---|---|---|---|---|\n",
       "| 1       | 60      | RL      | 65      |  8450   | Pave    | NA      | Reg     | Lvl     | AllPub  | ⋯       | NA      | NA      | NA      |   0     |  2      | 2008    | WD      | Normal  | 208500  | train   | \n",
       "| 2       | 20      | RL      | 80      |  9600   | Pave    | NA      | Reg     | Lvl     | AllPub  | ⋯       | NA      | NA      | NA      |   0     |  5      | 2007    | WD      | Normal  | 181500  | train   | \n",
       "| 3       | 60      | RL      | 68      | 11250   | Pave    | NA      | IR1     | Lvl     | AllPub  | ⋯       | NA      | NA      | NA      |   0     |  9      | 2008    | WD      | Normal  | 223500  | train   | \n",
       "| 4       | 70      | RL      | 60      |  9550   | Pave    | NA      | IR1     | Lvl     | AllPub  | ⋯       | NA      | NA      | NA      |   0     |  2      | 2006    | WD      | Abnorml | 140000  | train   | \n",
       "| 5       | 60      | RL      | 84      | 14260   | Pave    | NA      | IR1     | Lvl     | AllPub  | ⋯       | NA      | NA      | NA      |   0     | 12      | 2008    | WD      | Normal  | 250000  | train   | \n",
       "| 6       | 50      | RL      | 85      | 14115   | Pave    | NA      | IR1     | Lvl     | AllPub  | ⋯       | NA      | MnPrv   | Shed    | 700     | 10      | 2009    | WD      | Normal  | 143000  | train   | \n",
       "\n",
       "\n"
      ],
      "text/plain": [
       "  Id MSSubClass MSZoning LotFrontage LotArea Street Alley LotShape LandContour\n",
       "1 1  60         RL       65           8450   Pave   NA    Reg      Lvl        \n",
       "2 2  20         RL       80           9600   Pave   NA    Reg      Lvl        \n",
       "3 3  60         RL       68          11250   Pave   NA    IR1      Lvl        \n",
       "4 4  70         RL       60           9550   Pave   NA    IR1      Lvl        \n",
       "5 5  60         RL       84          14260   Pave   NA    IR1      Lvl        \n",
       "6 6  50         RL       85          14115   Pave   NA    IR1      Lvl        \n",
       "  Utilities ⋯ PoolQC Fence MiscFeature MiscVal MoSold YrSold SaleType\n",
       "1 AllPub    ⋯ NA     NA    NA            0      2     2008   WD      \n",
       "2 AllPub    ⋯ NA     NA    NA            0      5     2007   WD      \n",
       "3 AllPub    ⋯ NA     NA    NA            0      9     2008   WD      \n",
       "4 AllPub    ⋯ NA     NA    NA            0      2     2006   WD      \n",
       "5 AllPub    ⋯ NA     NA    NA            0     12     2008   WD      \n",
       "6 AllPub    ⋯ NA     MnPrv Shed        700     10     2009   WD      \n",
       "  SaleCondition SalePrice dataSource\n",
       "1 Normal        208500    train     \n",
       "2 Normal        181500    train     \n",
       "3 Normal        223500    train     \n",
       "4 Abnorml       140000    train     \n",
       "5 Normal        250000    train     \n",
       "6 Normal        143000    train     "
      ]
     },
     "metadata": {},
     "output_type": "display_data"
    }
   ],
   "source": [
    "source('main.R')\n",
    "\n",
    "categ_cols_to_fix <- setdiff(\n",
    "    house_prices$helpers$get_character_colnames(combined_dataset),\n",
    "    house_prices$missing$colums_with_valid_na\n",
    ")\n",
    "\n",
    "categ_cols_to_fix\n",
    "\n",
    "\n",
    "house_prices$missing$categ$replace_with_most_common(\n",
    "    df = combined_dataset, \n",
    "    columns = categ_cols_to_fix\n",
    ") %>% head"
   ]
  },
  {
   "cell_type": "code",
   "execution_count": null,
   "metadata": {},
   "outputs": [],
   "source": []
  },
  {
   "cell_type": "code",
   "execution_count": null,
   "metadata": {
    "collapsed": true
   },
   "outputs": [],
   "source": []
  },
  {
   "cell_type": "code",
   "execution_count": null,
   "metadata": {
    "collapsed": true
   },
   "outputs": [],
   "source": []
  },
  {
   "cell_type": "code",
   "execution_count": null,
   "metadata": {
    "collapsed": true
   },
   "outputs": [],
   "source": []
  },
  {
   "cell_type": "code",
   "execution_count": null,
   "metadata": {
    "collapsed": true
   },
   "outputs": [],
   "source": []
  },
  {
   "cell_type": "code",
   "execution_count": null,
   "metadata": {
    "collapsed": true
   },
   "outputs": [],
   "source": []
  },
  {
   "cell_type": "code",
   "execution_count": null,
   "metadata": {
    "collapsed": true
   },
   "outputs": [],
   "source": []
  },
  {
   "cell_type": "code",
   "execution_count": null,
   "metadata": {
    "collapsed": true
   },
   "outputs": [],
   "source": []
  },
  {
   "cell_type": "code",
   "execution_count": null,
   "metadata": {
    "collapsed": true
   },
   "outputs": [],
   "source": []
  },
  {
   "cell_type": "code",
   "execution_count": null,
   "metadata": {
    "collapsed": true
   },
   "outputs": [],
   "source": []
  },
  {
   "cell_type": "code",
   "execution_count": null,
   "metadata": {
    "collapsed": true
   },
   "outputs": [],
   "source": []
  },
  {
   "cell_type": "code",
   "execution_count": null,
   "metadata": {
    "collapsed": true
   },
   "outputs": [],
   "source": []
  },
  {
   "cell_type": "code",
   "execution_count": null,
   "metadata": {
    "collapsed": true
   },
   "outputs": [],
   "source": []
  },
  {
   "cell_type": "code",
   "execution_count": null,
   "metadata": {
    "collapsed": true
   },
   "outputs": [],
   "source": []
  },
  {
   "cell_type": "code",
   "execution_count": null,
   "metadata": {
    "collapsed": true
   },
   "outputs": [],
   "source": []
  },
  {
   "cell_type": "code",
   "execution_count": null,
   "metadata": {
    "collapsed": true
   },
   "outputs": [],
   "source": []
  },
  {
   "cell_type": "code",
   "execution_count": null,
   "metadata": {
    "collapsed": true
   },
   "outputs": [],
   "source": []
  }
 ],
 "metadata": {
  "kernelspec": {
   "display_name": "R",
   "language": "R",
   "name": "ir"
  },
  "language_info": {
   "codemirror_mode": "r",
   "file_extension": ".r",
   "mimetype": "text/x-r-source",
   "name": "R",
   "pygments_lexer": "r",
   "version": "3.4.2"
  }
 },
 "nbformat": 4,
 "nbformat_minor": 2
}
