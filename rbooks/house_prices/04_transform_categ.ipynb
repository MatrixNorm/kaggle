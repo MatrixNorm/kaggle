{
 "cells": [
  {
   "cell_type": "code",
   "execution_count": 6,
   "metadata": {},
   "outputs": [
    {
     "data": {
      "text/html": [
       "<ol class=list-inline>\n",
       "\t<li>2917</li>\n",
       "\t<li>81</li>\n",
       "</ol>\n"
      ],
      "text/latex": [
       "\\begin{enumerate*}\n",
       "\\item 2917\n",
       "\\item 81\n",
       "\\end{enumerate*}\n"
      ],
      "text/markdown": [
       "1. 2917\n",
       "2. 81\n",
       "\n",
       "\n"
      ],
      "text/plain": [
       "[1] 2917   81"
      ]
     },
     "metadata": {},
     "output_type": "display_data"
    }
   ],
   "source": [
    "setwd(paste0(Sys.getenv('R_SOURCES'), '/house_prices'))\n",
    "source('main.R')\n",
    "house_prices$helpers$import_libs()\n",
    "\n",
    "combined_dataset <-\n",
    "    house_prices$helpers$load_data() %>%\n",
    "    (house_prices$outliers$remove_outliers) %>%\n",
    "    (house_prices$missing$fix_all) %>%\n",
    "    mutate(\n",
    "        price_log = log(SalePrice)\n",
    "    ) %>%\n",
    "    select(-SalePrice, -Id)\n",
    "\n",
    "combined_dataset %>% dim\n",
    "\n",
    "test_that(\"should be no NA values except SalePrice column\", {\n",
    "    expect_equal(sum(is.na(combined_dataset %>% select(-price_log))), 0)\n",
    "})\n",
    "\n",
    "get_character_colnames <- house_prices$helpers$get_character_colnames"
   ]
  },
  {
   "cell_type": "code",
   "execution_count": 8,
   "metadata": {},
   "outputs": [
    {
     "data": {
      "text/html": [
       "<dl class=dl-horizontal>\n",
       "\t<dt>25%</dt>\n",
       "\t\t<dd>11.7747125843534</dd>\n",
       "\t<dt>50%</dt>\n",
       "\t\t<dd>12.0015054797889</dd>\n",
       "\t<dt>75%</dt>\n",
       "\t\t<dd>12.273731294004</dd>\n",
       "</dl>\n"
      ],
      "text/latex": [
       "\\begin{description*}\n",
       "\\item[25\\textbackslash{}\\%] 11.7747125843534\n",
       "\\item[50\\textbackslash{}\\%] 12.0015054797889\n",
       "\\item[75\\textbackslash{}\\%] 12.273731294004\n",
       "\\end{description*}\n"
      ],
      "text/markdown": [
       "25%\n",
       ":   11.774712584353450%\n",
       ":   12.001505479788975%\n",
       ":   12.273731294004\n",
       "\n"
      ],
      "text/plain": [
       "     25%      50%      75% \n",
       "11.77471 12.00151 12.27373 "
      ]
     },
     "metadata": {},
     "output_type": "display_data"
    }
   ],
   "source": [
    "#\n",
    "# Global quantiles\n",
    "#\n",
    "source('main.R')\n",
    "\n",
    "QuantileRating <- house_prices$trans$categ$QuantileRating\n",
    "\n",
    "QuantileRating$calc_quantiles(\n",
    "    sample = combined_dataset[['price_log']],\n",
    "    probs = c(0.25, 0.5, 0.75)\n",
    ")"
   ]
  },
  {
   "cell_type": "code",
   "execution_count": 22,
   "metadata": {
    "collapsed": true
   },
   "outputs": [],
   "source": [
    "#\n",
    "# Quantile ratings calculation\n",
    "#\n",
    "source('main.R')\n",
    "\n",
    "TranCateg <- house_prices$trans$categ\n",
    "QuantileRating <- house_prices$trans$categ$QuantileRating\n",
    "\n",
    "ratings1 <- QuantileRating$calc_ratings(\n",
    "    df = combined_dataset,\n",
    "    target_var = price_log,\n",
    "    rating_quantiles = QuantileRating$calc_quantiles(\n",
    "        sample = combined_dataset[['price_log']],\n",
    "        probs = c(0.25, 0.5, 0.75)\n",
    "    ),\n",
    "    categ_vars = get_character_colnames(combined_dataset)\n",
    ")    \n",
    "\n",
    "ratings2 <- TranCateg$calc_ratings(combined_dataset, price_log)    \n",
    "\n",
    "test_that(\"should be equal ratings\", {\n",
    "    expect_equal(ratings1, ratings2)\n",
    "})"
   ]
  },
  {
   "cell_type": "code",
   "execution_count": 19,
   "metadata": {
    "cell_style": "split"
   },
   "outputs": [
    {
     "data": {
      "text/html": [
       "<table>\n",
       "<thead><tr><th scope=col>var</th><th scope=col>value</th><th scope=col>rating</th></tr></thead>\n",
       "<tbody>\n",
       "\t<tr><td>Alley   </td><td>Grvl    </td><td>1.500000</td></tr>\n",
       "\t<tr><td>Alley   </td><td>_none_  </td><td>2.531822</td></tr>\n",
       "\t<tr><td>Alley   </td><td>Pave    </td><td>2.536585</td></tr>\n",
       "\t<tr><td>BldgType</td><td>2fmCon  </td><td>1.580645</td></tr>\n",
       "\t<tr><td>BldgType</td><td>Duplex  </td><td>1.692308</td></tr>\n",
       "\t<tr><td>BldgType</td><td>Twnhs   </td><td>1.883721</td></tr>\n",
       "\t<tr><td>BldgType</td><td>1Fam    </td><td>2.564039</td></tr>\n",
       "\t<tr><td>BldgType</td><td>TwnhsE  </td><td>2.622807</td></tr>\n",
       "\t<tr><td>BsmtCond</td><td>Po      </td><td>1.000000</td></tr>\n",
       "</tbody>\n",
       "</table>\n"
      ],
      "text/latex": [
       "\\begin{tabular}{r|lll}\n",
       " var & value & rating\\\\\n",
       "\\hline\n",
       "\t Alley    & Grvl     & 1.500000\\\\\n",
       "\t Alley      & \\_none\\_ & 2.531822  \\\\\n",
       "\t Alley    & Pave     & 2.536585\\\\\n",
       "\t BldgType & 2fmCon   & 1.580645\\\\\n",
       "\t BldgType & Duplex   & 1.692308\\\\\n",
       "\t BldgType & Twnhs    & 1.883721\\\\\n",
       "\t BldgType & 1Fam     & 2.564039\\\\\n",
       "\t BldgType & TwnhsE   & 2.622807\\\\\n",
       "\t BsmtCond & Po       & 1.000000\\\\\n",
       "\\end{tabular}\n"
      ],
      "text/markdown": [
       "\n",
       "var | value | rating | \n",
       "|---|---|---|---|---|---|---|---|---|\n",
       "| Alley    | Grvl     | 1.500000 | \n",
       "| Alley    | _none_   | 2.531822 | \n",
       "| Alley    | Pave     | 2.536585 | \n",
       "| BldgType | 2fmCon   | 1.580645 | \n",
       "| BldgType | Duplex   | 1.692308 | \n",
       "| BldgType | Twnhs    | 1.883721 | \n",
       "| BldgType | 1Fam     | 2.564039 | \n",
       "| BldgType | TwnhsE   | 2.622807 | \n",
       "| BsmtCond | Po       | 1.000000 | \n",
       "\n",
       "\n"
      ],
      "text/plain": [
       "  var      value  rating  \n",
       "1 Alley    Grvl   1.500000\n",
       "2 Alley    _none_ 2.531822\n",
       "3 Alley    Pave   2.536585\n",
       "4 BldgType 2fmCon 1.580645\n",
       "5 BldgType Duplex 1.692308\n",
       "6 BldgType Twnhs  1.883721\n",
       "7 BldgType 1Fam   2.564039\n",
       "8 BldgType TwnhsE 2.622807\n",
       "9 BsmtCond Po     1.000000"
      ]
     },
     "metadata": {},
     "output_type": "display_data"
    }
   ],
   "source": [
    "ratings1 %>% arrange(var, rating) %>% head(9)"
   ]
  },
  {
   "cell_type": "code",
   "execution_count": 21,
   "metadata": {
    "cell_style": "split"
   },
   "outputs": [
    {
     "data": {
      "text/html": [
       "<table>\n",
       "<thead><tr><th scope=col>var</th><th scope=col>value</th><th scope=col>rating</th></tr></thead>\n",
       "<tbody>\n",
       "\t<tr><td>SaleType </td><td>WD       </td><td>2.421468 </td></tr>\n",
       "\t<tr><td>SaleType </td><td>CWD      </td><td>3.000000 </td></tr>\n",
       "\t<tr><td>SaleType </td><td>New      </td><td>3.583333 </td></tr>\n",
       "\t<tr><td>SaleType </td><td>Con      </td><td>4.000000 </td></tr>\n",
       "\t<tr><td>Street   </td><td>Grvl     </td><td>1.833333 </td></tr>\n",
       "\t<tr><td>Street   </td><td>Pave     </td><td>2.499311 </td></tr>\n",
       "\t<tr><td>Utilities</td><td>NoSeWa   </td><td>2.000000 </td></tr>\n",
       "\t<tr><td>Utilities</td><td>AllPub   </td><td>2.496911 </td></tr>\n",
       "\t<tr><td>NA       </td><td>NA       </td><td>2.500000 </td></tr>\n",
       "</tbody>\n",
       "</table>\n"
      ],
      "text/latex": [
       "\\begin{tabular}{r|lll}\n",
       " var & value & rating\\\\\n",
       "\\hline\n",
       "\t SaleType  & WD        & 2.421468 \\\\\n",
       "\t SaleType  & CWD       & 3.000000 \\\\\n",
       "\t SaleType  & New       & 3.583333 \\\\\n",
       "\t SaleType  & Con       & 4.000000 \\\\\n",
       "\t Street    & Grvl      & 1.833333 \\\\\n",
       "\t Street    & Pave      & 2.499311 \\\\\n",
       "\t Utilities & NoSeWa    & 2.000000 \\\\\n",
       "\t Utilities & AllPub    & 2.496911 \\\\\n",
       "\t NA        & NA        & 2.500000 \\\\\n",
       "\\end{tabular}\n"
      ],
      "text/markdown": [
       "\n",
       "var | value | rating | \n",
       "|---|---|---|---|---|---|---|---|---|\n",
       "| SaleType  | WD        | 2.421468  | \n",
       "| SaleType  | CWD       | 3.000000  | \n",
       "| SaleType  | New       | 3.583333  | \n",
       "| SaleType  | Con       | 4.000000  | \n",
       "| Street    | Grvl      | 1.833333  | \n",
       "| Street    | Pave      | 2.499311  | \n",
       "| Utilities | NoSeWa    | 2.000000  | \n",
       "| Utilities | AllPub    | 2.496911  | \n",
       "| NA        | NA        | 2.500000  | \n",
       "\n",
       "\n"
      ],
      "text/plain": [
       "  var       value  rating  \n",
       "1 SaleType  WD     2.421468\n",
       "2 SaleType  CWD    3.000000\n",
       "3 SaleType  New    3.583333\n",
       "4 SaleType  Con    4.000000\n",
       "5 Street    Grvl   1.833333\n",
       "6 Street    Pave   2.499311\n",
       "7 Utilities NoSeWa 2.000000\n",
       "8 Utilities AllPub 2.496911\n",
       "9 NA        NA     2.500000"
      ]
     },
     "metadata": {},
     "output_type": "display_data"
    }
   ],
   "source": [
    "ratings1 %>% arrange(var, rating) %>% tail(9)"
   ]
  },
  {
   "cell_type": "code",
   "execution_count": 24,
   "metadata": {},
   "outputs": [
    {
     "data": {
      "text/html": [
       "<table>\n",
       "<thead><tr><th scope=col>Alley</th><th scope=col>BldgType</th><th scope=col>BsmtCond</th><th scope=col>BsmtExposure</th><th scope=col>BsmtFinType1</th><th scope=col>BsmtFinType2</th><th scope=col>BsmtQual</th><th scope=col>CentralAir</th><th scope=col>Condition1</th><th scope=col>Condition2</th><th scope=col>⋯</th><th scope=col>WoodDeckSF</th><th scope=col>OpenPorchSF</th><th scope=col>EnclosedPorch</th><th scope=col>X3SsnPorch</th><th scope=col>ScreenPorch</th><th scope=col>PoolArea</th><th scope=col>MiscVal</th><th scope=col>YrSold</th><th scope=col>dataSource</th><th scope=col>price_log</th></tr></thead>\n",
       "<tbody>\n",
       "\t<tr><td>2.531822</td><td>2.564039</td><td>2.540871</td><td>2.320042</td><td>3.262019</td><td>2.553429</td><td>3.066343</td><td>2.57887 </td><td>2.547619</td><td>2.50277 </td><td>⋯       </td><td>  0     </td><td>61      </td><td>  0     </td><td>0       </td><td>0       </td><td>0       </td><td>0       </td><td>2008    </td><td>train   </td><td>12.24769</td></tr>\n",
       "\t<tr><td>2.531822</td><td>2.564039</td><td>2.540871</td><td>3.295455</td><td>2.231818</td><td>2.553429</td><td>3.066343</td><td>2.57887 </td><td>1.987500</td><td>2.50277 </td><td>⋯       </td><td>298     </td><td> 0      </td><td>  0     </td><td>0       </td><td>0       </td><td>0       </td><td>0       </td><td>2007    </td><td>train   </td><td>12.10901</td></tr>\n",
       "\t<tr><td>2.531822</td><td>2.564039</td><td>2.540871</td><td>2.675439</td><td>3.262019</td><td>2.553429</td><td>3.066343</td><td>2.57887 </td><td>2.547619</td><td>2.50277 </td><td>⋯       </td><td>  0     </td><td>42      </td><td>  0     </td><td>0       </td><td>0       </td><td>0       </td><td>0       </td><td>2008    </td><td>train   </td><td>12.31717</td></tr>\n",
       "\t<tr><td>2.531822</td><td>2.564039</td><td>3.046154</td><td>2.320042</td><td>2.231818</td><td>2.553429</td><td>1.847458</td><td>2.57887 </td><td>2.547619</td><td>2.50277 </td><td>⋯       </td><td>  0     </td><td>35      </td><td>272     </td><td>0       </td><td>0       </td><td>0       </td><td>0       </td><td>2006    </td><td>train   </td><td>11.84940</td></tr>\n",
       "\t<tr><td>2.531822</td><td>2.564039</td><td>2.540871</td><td>2.900452</td><td>3.262019</td><td>2.553429</td><td>3.066343</td><td>2.57887 </td><td>2.547619</td><td>2.50277 </td><td>⋯       </td><td>192     </td><td>84      </td><td>  0     </td><td>0       </td><td>0       </td><td>0       </td><td>0       </td><td>2008    </td><td>train   </td><td>12.42922</td></tr>\n",
       "</tbody>\n",
       "</table>\n"
      ],
      "text/latex": [
       "\\begin{tabular}{r|lllllllllllllllllllllllllllllllllllllllllllllllllllllllllllllllllllllllllllllllll}\n",
       " Alley & BldgType & BsmtCond & BsmtExposure & BsmtFinType1 & BsmtFinType2 & BsmtQual & CentralAir & Condition1 & Condition2 & ⋯ & WoodDeckSF & OpenPorchSF & EnclosedPorch & X3SsnPorch & ScreenPorch & PoolArea & MiscVal & YrSold & dataSource & price\\_log\\\\\n",
       "\\hline\n",
       "\t 2.531822 & 2.564039 & 2.540871 & 2.320042 & 3.262019 & 2.553429 & 3.066343 & 2.57887  & 2.547619 & 2.50277  & ⋯        &   0      & 61       &   0      & 0        & 0        & 0        & 0        & 2008     & train    & 12.24769\\\\\n",
       "\t 2.531822 & 2.564039 & 2.540871 & 3.295455 & 2.231818 & 2.553429 & 3.066343 & 2.57887  & 1.987500 & 2.50277  & ⋯        & 298      &  0       &   0      & 0        & 0        & 0        & 0        & 2007     & train    & 12.10901\\\\\n",
       "\t 2.531822 & 2.564039 & 2.540871 & 2.675439 & 3.262019 & 2.553429 & 3.066343 & 2.57887  & 2.547619 & 2.50277  & ⋯        &   0      & 42       &   0      & 0        & 0        & 0        & 0        & 2008     & train    & 12.31717\\\\\n",
       "\t 2.531822 & 2.564039 & 3.046154 & 2.320042 & 2.231818 & 2.553429 & 1.847458 & 2.57887  & 2.547619 & 2.50277  & ⋯        &   0      & 35       & 272      & 0        & 0        & 0        & 0        & 2006     & train    & 11.84940\\\\\n",
       "\t 2.531822 & 2.564039 & 2.540871 & 2.900452 & 3.262019 & 2.553429 & 3.066343 & 2.57887  & 2.547619 & 2.50277  & ⋯        & 192      & 84       &   0      & 0        & 0        & 0        & 0        & 2008     & train    & 12.42922\\\\\n",
       "\\end{tabular}\n"
      ],
      "text/markdown": [
       "\n",
       "Alley | BldgType | BsmtCond | BsmtExposure | BsmtFinType1 | BsmtFinType2 | BsmtQual | CentralAir | Condition1 | Condition2 | ⋯ | WoodDeckSF | OpenPorchSF | EnclosedPorch | X3SsnPorch | ScreenPorch | PoolArea | MiscVal | YrSold | dataSource | price_log | \n",
       "|---|---|---|---|---|\n",
       "| 2.531822 | 2.564039 | 2.540871 | 2.320042 | 3.262019 | 2.553429 | 3.066343 | 2.57887  | 2.547619 | 2.50277  | ⋯        |   0      | 61       |   0      | 0        | 0        | 0        | 0        | 2008     | train    | 12.24769 | \n",
       "| 2.531822 | 2.564039 | 2.540871 | 3.295455 | 2.231818 | 2.553429 | 3.066343 | 2.57887  | 1.987500 | 2.50277  | ⋯        | 298      |  0       |   0      | 0        | 0        | 0        | 0        | 2007     | train    | 12.10901 | \n",
       "| 2.531822 | 2.564039 | 2.540871 | 2.675439 | 3.262019 | 2.553429 | 3.066343 | 2.57887  | 2.547619 | 2.50277  | ⋯        |   0      | 42       |   0      | 0        | 0        | 0        | 0        | 2008     | train    | 12.31717 | \n",
       "| 2.531822 | 2.564039 | 3.046154 | 2.320042 | 2.231818 | 2.553429 | 1.847458 | 2.57887  | 2.547619 | 2.50277  | ⋯        |   0      | 35       | 272      | 0        | 0        | 0        | 0        | 2006     | train    | 11.84940 | \n",
       "| 2.531822 | 2.564039 | 2.540871 | 2.900452 | 3.262019 | 2.553429 | 3.066343 | 2.57887  | 2.547619 | 2.50277  | ⋯        | 192      | 84       |   0      | 0        | 0        | 0        | 0        | 2008     | train    | 12.42922 | \n",
       "\n",
       "\n"
      ],
      "text/plain": [
       "  Alley    BldgType BsmtCond BsmtExposure BsmtFinType1 BsmtFinType2 BsmtQual\n",
       "1 2.531822 2.564039 2.540871 2.320042     3.262019     2.553429     3.066343\n",
       "2 2.531822 2.564039 2.540871 3.295455     2.231818     2.553429     3.066343\n",
       "3 2.531822 2.564039 2.540871 2.675439     3.262019     2.553429     3.066343\n",
       "4 2.531822 2.564039 3.046154 2.320042     2.231818     2.553429     1.847458\n",
       "5 2.531822 2.564039 2.540871 2.900452     3.262019     2.553429     3.066343\n",
       "  CentralAir Condition1 Condition2 ⋯ WoodDeckSF OpenPorchSF EnclosedPorch\n",
       "1 2.57887    2.547619   2.50277    ⋯   0        61            0          \n",
       "2 2.57887    1.987500   2.50277    ⋯ 298         0            0          \n",
       "3 2.57887    2.547619   2.50277    ⋯   0        42            0          \n",
       "4 2.57887    2.547619   2.50277    ⋯   0        35          272          \n",
       "5 2.57887    2.547619   2.50277    ⋯ 192        84            0          \n",
       "  X3SsnPorch ScreenPorch PoolArea MiscVal YrSold dataSource price_log\n",
       "1 0          0           0        0       2008   train      12.24769 \n",
       "2 0          0           0        0       2007   train      12.10901 \n",
       "3 0          0           0        0       2008   train      12.31717 \n",
       "4 0          0           0        0       2006   train      11.84940 \n",
       "5 0          0           0        0       2008   train      12.42922 "
      ]
     },
     "metadata": {},
     "output_type": "display_data"
    }
   ],
   "source": [
    "#\n",
    "# Quantile ratings transformation\n",
    "#\n",
    "source('main.R')\n",
    "\n",
    "TranCateg <- house_prices$trans$categ\n",
    "\n",
    "ratings <- TranCateg$calc_ratings(combined_dataset, price_log)    \n",
    "\n",
    "df1 <- TranCateg$Tran$rating_transform_for_selected(\n",
    "    data = combined_dataset,\n",
    "    columns = get_character_colnames(combined_dataset),\n",
    "    ratings = ratings\n",
    ")\n",
    "\n",
    "df2 <- TranCateg$rating_transform(\n",
    "    combined_dataset,\n",
    "    price_log\n",
    ")\n",
    "\n",
    "test_that(\"should be equal\", {\n",
    "    expect_equal(df1, df2)\n",
    "})\n",
    "\n",
    "df1 %>% head(5)"
   ]
  },
  {
   "cell_type": "code",
   "execution_count": 5,
   "metadata": {},
   "outputs": [
    {
     "data": {
      "text/plain": [
       "   user  system elapsed \n",
       "  0.072   0.008   0.080 "
      ]
     },
     "metadata": {},
     "output_type": "display_data"
    },
    {
     "data": {
      "text/plain": [
       "   user  system elapsed \n",
       "  0.867   0.000   0.868 "
      ]
     },
     "metadata": {},
     "output_type": "display_data"
    },
    {
     "data": {
      "text/plain": [
       "   user  system elapsed \n",
       "  0.658   0.000   0.658 "
      ]
     },
     "metadata": {},
     "output_type": "display_data"
    }
   ],
   "source": [
    "#\n",
    "# Timing different implementations\n",
    "#\n",
    "source('main.R')\n",
    "\n",
    "TranCateg <- house_prices$trans$categ\n",
    "\n",
    "rating_transform_for_selected <- TranCateg$Tran$rating_transform_for_selected\n",
    "rating_transform_for_selected2 <- TranCateg$Tran$rating_transform_for_selected2\n",
    "rating_transform_for_selected3 <- TranCateg$Tran$rating_transform_for_selected3\n",
    "\n",
    "ratings <- TranCateg$calc_ratings(combined_dataset, price_log)  \n",
    "\n",
    "system.time({\n",
    "    df1 <- rating_transform_for_selected(\n",
    "        data = combined_dataset,\n",
    "        columns = get_character_colnames(combined_dataset),\n",
    "        ratings = ratings\n",
    "    )\n",
    "})\n",
    "\n",
    "system.time({\n",
    "    df2 <- rating_transform_for_selected2(\n",
    "        data = combined_dataset,\n",
    "        columns = get_character_colnames(combined_dataset),\n",
    "        ratings = ratings\n",
    "    )\n",
    "})\n",
    "\n",
    "system.time({\n",
    "    df3 <- rating_transform_for_selected3(\n",
    "        data = combined_dataset,\n",
    "        columns = get_character_colnames(combined_dataset),\n",
    "        ratings = ratings\n",
    "    )\n",
    "})\n",
    "\n",
    "test_that(\"should be equal\", {\n",
    "    expect_equal(df1, df2)\n",
    "})\n",
    "\n",
    "test_that(\"should be equal\", {\n",
    "    expect_equal(df2, df3)\n",
    "})"
   ]
  },
  {
   "cell_type": "code",
   "execution_count": null,
   "metadata": {
    "collapsed": true
   },
   "outputs": [],
   "source": []
  },
  {
   "cell_type": "code",
   "execution_count": null,
   "metadata": {
    "collapsed": true
   },
   "outputs": [],
   "source": []
  },
  {
   "cell_type": "code",
   "execution_count": null,
   "metadata": {
    "collapsed": true
   },
   "outputs": [],
   "source": []
  },
  {
   "cell_type": "code",
   "execution_count": null,
   "metadata": {
    "collapsed": true
   },
   "outputs": [],
   "source": []
  },
  {
   "cell_type": "code",
   "execution_count": null,
   "metadata": {
    "collapsed": true
   },
   "outputs": [],
   "source": []
  },
  {
   "cell_type": "code",
   "execution_count": null,
   "metadata": {
    "collapsed": true
   },
   "outputs": [],
   "source": []
  },
  {
   "cell_type": "code",
   "execution_count": null,
   "metadata": {
    "collapsed": true
   },
   "outputs": [],
   "source": []
  },
  {
   "cell_type": "code",
   "execution_count": null,
   "metadata": {
    "cell_style": "center",
    "collapsed": true
   },
   "outputs": [],
   "source": []
  },
  {
   "cell_type": "code",
   "execution_count": null,
   "metadata": {
    "cell_style": "center",
    "collapsed": true
   },
   "outputs": [],
   "source": []
  },
  {
   "cell_type": "code",
   "execution_count": null,
   "metadata": {
    "collapsed": true
   },
   "outputs": [],
   "source": []
  },
  {
   "cell_type": "code",
   "execution_count": null,
   "metadata": {
    "collapsed": true
   },
   "outputs": [],
   "source": []
  },
  {
   "cell_type": "code",
   "execution_count": null,
   "metadata": {
    "collapsed": true
   },
   "outputs": [],
   "source": []
  },
  {
   "cell_type": "code",
   "execution_count": null,
   "metadata": {
    "collapsed": true
   },
   "outputs": [],
   "source": []
  },
  {
   "cell_type": "code",
   "execution_count": null,
   "metadata": {
    "collapsed": true
   },
   "outputs": [],
   "source": []
  },
  {
   "cell_type": "code",
   "execution_count": null,
   "metadata": {
    "collapsed": true
   },
   "outputs": [],
   "source": []
  }
 ],
 "metadata": {
  "kernelspec": {
   "display_name": "R",
   "language": "R",
   "name": "ir"
  },
  "language_info": {
   "codemirror_mode": "r",
   "file_extension": ".r",
   "mimetype": "text/x-r-source",
   "name": "R",
   "pygments_lexer": "r",
   "version": "3.4.2"
  }
 },
 "nbformat": 4,
 "nbformat_minor": 2
}
