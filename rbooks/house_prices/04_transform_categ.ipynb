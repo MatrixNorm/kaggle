{
 "cells": [
  {
   "cell_type": "markdown",
   "metadata": {},
   "source": [
    "### Transforming categorical variable to numeric\n",
    "\n",
    "Custom \"rating transformation\" is applied. Algo is:\n",
    "\n",
    "1. Calculate global distribution of a target variable (price_log).\n",
    "2. Split it in 4 ranges from low to high. Assign rating to each range: 1, 2, 3, 4.\n",
    "3. For a given categ attribute find marginal target distributions for it's values.\n",
    "4. Calculate mean rating relative to marginal distribution."
   ]
  },
  {
   "cell_type": "code",
   "execution_count": 51,
   "metadata": {},
   "outputs": [
    {
     "name": "stdout",
     "output_type": "stream",
     "text": [
      "[1] 2917   81\n"
     ]
    }
   ],
   "source": [
    "setwd(paste0(Sys.getenv('R_SOURCES'), '/house_prices'))\n",
    "\n",
    "house_prices <- source('main.R', local = TRUE)$value\n",
    "\n",
    "combined_dataset <-\n",
    "    house_prices$helpers$load_data() %>%\n",
    "    (house_prices$outliers$remove_outliers) %>%\n",
    "    (house_prices$missing$fix_all) %>%\n",
    "    mutate(\n",
    "        price_log = log(SalePrice)\n",
    "    ) %>%\n",
    "    select(-SalePrice, -Id)\n",
    "\n",
    "combined_dataset %>% dim %>% print\n",
    "\n",
    "test_that(\"should be no NA values except `price_log` column\", {\n",
    "    expect_equal(sum(is.na(combined_dataset %>% select(-price_log))), 0)\n",
    "})\n",
    "\n",
    "get_character_colnames <- house_prices$helpers$get_character_colnames\n",
    "showtable <- house_prices$helpers$showtable"
   ]
  },
  {
   "cell_type": "code",
   "execution_count": 52,
   "metadata": {},
   "outputs": [
    {
     "name": "stdout",
     "output_type": "stream",
     "text": [
      "     25%      50%      75% \n",
      "11.77471 12.00151 12.27373 \n"
     ]
    }
   ],
   "source": [
    "#\n",
    "# Global quantiles\n",
    "#\n",
    "QuantileRating <- house_prices$trans$categ$QuantileRating\n",
    "\n",
    "QuantileRating$calc_quantiles(\n",
    "    sample = combined_dataset[['price_log']],\n",
    "    probs = c(0.25, 0.5, 0.75)\n",
    ") %>% print"
   ]
  },
  {
   "cell_type": "code",
   "execution_count": 54,
   "metadata": {},
   "outputs": [
    {
     "data": {
      "text/html": [
       "<div style='display:inline-block; column-count: 4; padding-right:25px;'><table>\n",
       "<thead><tr><th scope=col>var</th><th scope=col>value</th><th scope=col>rating</th></tr></thead>\n",
       "<tbody>\n",
       "\t<tr><td>Alley       </td><td>Grvl        </td><td>1.500000    </td></tr>\n",
       "\t<tr><td>Alley       </td><td>_none_      </td><td>2.531822    </td></tr>\n",
       "\t<tr><td>Alley       </td><td>Pave        </td><td>2.536585    </td></tr>\n",
       "\t<tr><td>BldgType    </td><td>2fmCon      </td><td>1.580645    </td></tr>\n",
       "\t<tr><td>BldgType    </td><td>Duplex      </td><td>1.692308    </td></tr>\n",
       "\t<tr><td>BldgType    </td><td>Twnhs       </td><td>1.883721    </td></tr>\n",
       "\t<tr><td>BldgType    </td><td>1Fam        </td><td>2.564039    </td></tr>\n",
       "\t<tr><td>BldgType    </td><td>TwnhsE      </td><td>2.622807    </td></tr>\n",
       "\t<tr><td>BsmtCond    </td><td>Po          </td><td>1.000000    </td></tr>\n",
       "\t<tr><td>BsmtCond    </td><td>_none_      </td><td>1.216216    </td></tr>\n",
       "\t<tr><td>BsmtCond    </td><td>Fa          </td><td>1.533333    </td></tr>\n",
       "\t<tr><td>BsmtCond    </td><td>TA          </td><td>2.540871    </td></tr>\n",
       "\t<tr><td>BsmtCond    </td><td>Gd          </td><td>3.046154    </td></tr>\n",
       "\t<tr><td>BsmtExposure</td><td>_none_      </td><td>1.263158    </td></tr>\n",
       "\t<tr><td>BsmtExposure</td><td>No          </td><td>2.320042    </td></tr>\n",
       "\t<tr><td>BsmtExposure</td><td>Mn          </td><td>2.675439    </td></tr>\n",
       "\t<tr><td>BsmtExposure</td><td>Av          </td><td>2.900452    </td></tr>\n",
       "\t<tr><td>BsmtExposure</td><td>Gd          </td><td>3.295455    </td></tr>\n",
       "\t<tr><td>BsmtFinType1</td><td>_none_      </td><td>1.216216    </td></tr>\n",
       "\t<tr><td>BsmtFinType1</td><td>Rec         </td><td>1.969925    </td></tr>\n",
       "\t<tr><td>BsmtFinType1</td><td>LwQ         </td><td>2.027027    </td></tr>\n",
       "\t<tr><td>BsmtFinType1</td><td>BLQ         </td><td>2.047297    </td></tr>\n",
       "\t<tr><td>BsmtFinType1</td><td>ALQ         </td><td>2.231818    </td></tr>\n",
       "\t<tr><td>BsmtFinType1</td><td>Unf         </td><td>2.400000    </td></tr>\n",
       "\t<tr><td>BsmtFinType1</td><td>GLQ         </td><td>3.262019    </td></tr>\n",
       "\t<tr><td>BsmtFinType2</td><td>_none_      </td><td>1.289474    </td></tr>\n",
       "\t<tr><td>BsmtFinType2</td><td>BLQ         </td><td>2.090909    </td></tr>\n",
       "\t<tr><td>BsmtFinType2</td><td>Rec         </td><td>2.222222    </td></tr>\n",
       "\t<tr><td>BsmtFinType2</td><td>LwQ         </td><td>2.369565    </td></tr>\n",
       "\t<tr><td>BsmtFinType2</td><td>Unf         </td><td>2.553429    </td></tr>\n",
       "</tbody>\n",
       "</table>\n",
       "</div>"
      ]
     },
     "metadata": {},
     "output_type": "display_data"
    }
   ],
   "source": [
    "#\n",
    "# Quantile ratings calculation\n",
    "#\n",
    "TranCateg <- house_prices$trans$categ\n",
    "QuantileRating <- house_prices$trans$categ$QuantileRating\n",
    "\n",
    "ratings1 <- QuantileRating$calc_ratings(\n",
    "    df = combined_dataset,\n",
    "    target_var = price_log,\n",
    "    rating_quantiles = QuantileRating$calc_quantiles(\n",
    "        sample = combined_dataset[['price_log']],\n",
    "        probs = c(0.25, 0.5, 0.75)\n",
    "    ),\n",
    "    categ_vars = get_character_colnames(combined_dataset)\n",
    ")    \n",
    "\n",
    "ratings2 <- TranCateg$calc_ratings(combined_dataset, price_log)    \n",
    "\n",
    "test_that(\"should be equal ratings\", {\n",
    "    expect_equal(ratings1, ratings2)\n",
    "})\n",
    "\n",
    "showtable(ratings1 %>% arrange(var, rating) %>% head(30), cols = 4)"
   ]
  },
  {
   "cell_type": "code",
   "execution_count": 10,
   "metadata": {},
   "outputs": [
    {
     "data": {
      "text/html": [
       "<table>\n",
       "<thead><tr><th scope=col>Alley</th><th scope=col>BldgType</th><th scope=col>BsmtCond</th><th scope=col>BsmtExposure</th><th scope=col>BsmtFinType1</th><th scope=col>BsmtFinType2</th><th scope=col>BsmtQual</th><th scope=col>CentralAir</th><th scope=col>Condition1</th><th scope=col>Condition2</th><th scope=col>⋯</th><th scope=col>WoodDeckSF</th><th scope=col>OpenPorchSF</th><th scope=col>EnclosedPorch</th><th scope=col>X3SsnPorch</th><th scope=col>ScreenPorch</th><th scope=col>PoolArea</th><th scope=col>MiscVal</th><th scope=col>YrSold</th><th scope=col>dataSource</th><th scope=col>price_log</th></tr></thead>\n",
       "<tbody>\n",
       "\t<tr><td>2.531822</td><td>2.564039</td><td>2.540871</td><td>2.320042</td><td>3.262019</td><td>2.553429</td><td>3.066343</td><td>2.57887 </td><td>2.547619</td><td>2.50277 </td><td>⋯       </td><td>  0     </td><td>61      </td><td>  0     </td><td>0       </td><td>0       </td><td>0       </td><td>0       </td><td>2008    </td><td>train   </td><td>12.24769</td></tr>\n",
       "\t<tr><td>2.531822</td><td>2.564039</td><td>2.540871</td><td>3.295455</td><td>2.231818</td><td>2.553429</td><td>3.066343</td><td>2.57887 </td><td>1.987500</td><td>2.50277 </td><td>⋯       </td><td>298     </td><td> 0      </td><td>  0     </td><td>0       </td><td>0       </td><td>0       </td><td>0       </td><td>2007    </td><td>train   </td><td>12.10901</td></tr>\n",
       "\t<tr><td>2.531822</td><td>2.564039</td><td>2.540871</td><td>2.675439</td><td>3.262019</td><td>2.553429</td><td>3.066343</td><td>2.57887 </td><td>2.547619</td><td>2.50277 </td><td>⋯       </td><td>  0     </td><td>42      </td><td>  0     </td><td>0       </td><td>0       </td><td>0       </td><td>0       </td><td>2008    </td><td>train   </td><td>12.31717</td></tr>\n",
       "\t<tr><td>2.531822</td><td>2.564039</td><td>3.046154</td><td>2.320042</td><td>2.231818</td><td>2.553429</td><td>1.847458</td><td>2.57887 </td><td>2.547619</td><td>2.50277 </td><td>⋯       </td><td>  0     </td><td>35      </td><td>272     </td><td>0       </td><td>0       </td><td>0       </td><td>0       </td><td>2006    </td><td>train   </td><td>11.84940</td></tr>\n",
       "\t<tr><td>2.531822</td><td>2.564039</td><td>2.540871</td><td>2.900452</td><td>3.262019</td><td>2.553429</td><td>3.066343</td><td>2.57887 </td><td>2.547619</td><td>2.50277 </td><td>⋯       </td><td>192     </td><td>84      </td><td>  0     </td><td>0       </td><td>0       </td><td>0       </td><td>0       </td><td>2008    </td><td>train   </td><td>12.42922</td></tr>\n",
       "</tbody>\n",
       "</table>\n"
      ],
      "text/latex": [
       "\\begin{tabular}{r|lllllllllllllllllllllllllllllllllllllllllllllllllllllllllllllllllllllllllllllllll}\n",
       " Alley & BldgType & BsmtCond & BsmtExposure & BsmtFinType1 & BsmtFinType2 & BsmtQual & CentralAir & Condition1 & Condition2 & ⋯ & WoodDeckSF & OpenPorchSF & EnclosedPorch & X3SsnPorch & ScreenPorch & PoolArea & MiscVal & YrSold & dataSource & price\\_log\\\\\n",
       "\\hline\n",
       "\t 2.531822 & 2.564039 & 2.540871 & 2.320042 & 3.262019 & 2.553429 & 3.066343 & 2.57887  & 2.547619 & 2.50277  & ⋯        &   0      & 61       &   0      & 0        & 0        & 0        & 0        & 2008     & train    & 12.24769\\\\\n",
       "\t 2.531822 & 2.564039 & 2.540871 & 3.295455 & 2.231818 & 2.553429 & 3.066343 & 2.57887  & 1.987500 & 2.50277  & ⋯        & 298      &  0       &   0      & 0        & 0        & 0        & 0        & 2007     & train    & 12.10901\\\\\n",
       "\t 2.531822 & 2.564039 & 2.540871 & 2.675439 & 3.262019 & 2.553429 & 3.066343 & 2.57887  & 2.547619 & 2.50277  & ⋯        &   0      & 42       &   0      & 0        & 0        & 0        & 0        & 2008     & train    & 12.31717\\\\\n",
       "\t 2.531822 & 2.564039 & 3.046154 & 2.320042 & 2.231818 & 2.553429 & 1.847458 & 2.57887  & 2.547619 & 2.50277  & ⋯        &   0      & 35       & 272      & 0        & 0        & 0        & 0        & 2006     & train    & 11.84940\\\\\n",
       "\t 2.531822 & 2.564039 & 2.540871 & 2.900452 & 3.262019 & 2.553429 & 3.066343 & 2.57887  & 2.547619 & 2.50277  & ⋯        & 192      & 84       &   0      & 0        & 0        & 0        & 0        & 2008     & train    & 12.42922\\\\\n",
       "\\end{tabular}\n"
      ],
      "text/markdown": [
       "\n",
       "Alley | BldgType | BsmtCond | BsmtExposure | BsmtFinType1 | BsmtFinType2 | BsmtQual | CentralAir | Condition1 | Condition2 | ⋯ | WoodDeckSF | OpenPorchSF | EnclosedPorch | X3SsnPorch | ScreenPorch | PoolArea | MiscVal | YrSold | dataSource | price_log | \n",
       "|---|---|---|---|---|\n",
       "| 2.531822 | 2.564039 | 2.540871 | 2.320042 | 3.262019 | 2.553429 | 3.066343 | 2.57887  | 2.547619 | 2.50277  | ⋯        |   0      | 61       |   0      | 0        | 0        | 0        | 0        | 2008     | train    | 12.24769 | \n",
       "| 2.531822 | 2.564039 | 2.540871 | 3.295455 | 2.231818 | 2.553429 | 3.066343 | 2.57887  | 1.987500 | 2.50277  | ⋯        | 298      |  0       |   0      | 0        | 0        | 0        | 0        | 2007     | train    | 12.10901 | \n",
       "| 2.531822 | 2.564039 | 2.540871 | 2.675439 | 3.262019 | 2.553429 | 3.066343 | 2.57887  | 2.547619 | 2.50277  | ⋯        |   0      | 42       |   0      | 0        | 0        | 0        | 0        | 2008     | train    | 12.31717 | \n",
       "| 2.531822 | 2.564039 | 3.046154 | 2.320042 | 2.231818 | 2.553429 | 1.847458 | 2.57887  | 2.547619 | 2.50277  | ⋯        |   0      | 35       | 272      | 0        | 0        | 0        | 0        | 2006     | train    | 11.84940 | \n",
       "| 2.531822 | 2.564039 | 2.540871 | 2.900452 | 3.262019 | 2.553429 | 3.066343 | 2.57887  | 2.547619 | 2.50277  | ⋯        | 192      | 84       |   0      | 0        | 0        | 0        | 0        | 2008     | train    | 12.42922 | \n",
       "\n",
       "\n"
      ],
      "text/plain": [
       "  Alley    BldgType BsmtCond BsmtExposure BsmtFinType1 BsmtFinType2 BsmtQual\n",
       "1 2.531822 2.564039 2.540871 2.320042     3.262019     2.553429     3.066343\n",
       "2 2.531822 2.564039 2.540871 3.295455     2.231818     2.553429     3.066343\n",
       "3 2.531822 2.564039 2.540871 2.675439     3.262019     2.553429     3.066343\n",
       "4 2.531822 2.564039 3.046154 2.320042     2.231818     2.553429     1.847458\n",
       "5 2.531822 2.564039 2.540871 2.900452     3.262019     2.553429     3.066343\n",
       "  CentralAir Condition1 Condition2 ⋯ WoodDeckSF OpenPorchSF EnclosedPorch\n",
       "1 2.57887    2.547619   2.50277    ⋯   0        61            0          \n",
       "2 2.57887    1.987500   2.50277    ⋯ 298         0            0          \n",
       "3 2.57887    2.547619   2.50277    ⋯   0        42            0          \n",
       "4 2.57887    2.547619   2.50277    ⋯   0        35          272          \n",
       "5 2.57887    2.547619   2.50277    ⋯ 192        84            0          \n",
       "  X3SsnPorch ScreenPorch PoolArea MiscVal YrSold dataSource price_log\n",
       "1 0          0           0        0       2008   train      12.24769 \n",
       "2 0          0           0        0       2007   train      12.10901 \n",
       "3 0          0           0        0       2008   train      12.31717 \n",
       "4 0          0           0        0       2006   train      11.84940 \n",
       "5 0          0           0        0       2008   train      12.42922 "
      ]
     },
     "metadata": {},
     "output_type": "display_data"
    }
   ],
   "source": [
    "#\n",
    "# Quantile ratings transformation\n",
    "#\n",
    "TranCateg <- house_prices$trans$categ\n",
    "\n",
    "ratings <- TranCateg$calc_ratings(combined_dataset, price_log)    \n",
    "\n",
    "df1 <- TranCateg$Tran$rating_transform_for_selected(\n",
    "    data = combined_dataset,\n",
    "    columns = get_character_colnames(combined_dataset),\n",
    "    ratings = ratings\n",
    ")\n",
    "\n",
    "df2 <- TranCateg$rating_transform(\n",
    "    combined_dataset,\n",
    "    price_log\n",
    ")\n",
    "\n",
    "test_that(\"should be equal\", {\n",
    "    expect_equal(df1, df2)\n",
    "})\n",
    "\n",
    "df1 %>% head(5)"
   ]
  },
  {
   "cell_type": "code",
   "execution_count": 11,
   "metadata": {},
   "outputs": [
    {
     "data": {
      "text/plain": [
       "   user  system elapsed \n",
       "  0.149   0.000   0.148 "
      ]
     },
     "metadata": {},
     "output_type": "display_data"
    }
   ],
   "source": [
    "system.time({\n",
    "    devnull <- TranCateg$calc_ratings(combined_dataset, price_log)  \n",
    "})"
   ]
  },
  {
   "cell_type": "code",
   "execution_count": 12,
   "metadata": {},
   "outputs": [
    {
     "data": {
      "text/plain": [
       "   user  system elapsed \n",
       "  0.060   0.004   0.064 "
      ]
     },
     "metadata": {},
     "output_type": "display_data"
    },
    {
     "data": {
      "text/plain": [
       "   user  system elapsed \n",
       "  0.775   0.000   0.775 "
      ]
     },
     "metadata": {},
     "output_type": "display_data"
    },
    {
     "data": {
      "text/plain": [
       "   user  system elapsed \n",
       "  0.608   0.000   0.608 "
      ]
     },
     "metadata": {},
     "output_type": "display_data"
    }
   ],
   "source": [
    "#\n",
    "# Timing different implementations\n",
    "#\n",
    "source('main.R')\n",
    "\n",
    "TranCateg <- house_prices$trans$categ\n",
    "\n",
    "rating_transform_for_selected <- TranCateg$Tran$rating_transform_for_selected\n",
    "rating_transform_for_selected2 <- TranCateg$Tran$rating_transform_for_selected2\n",
    "rating_transform_for_selected3 <- TranCateg$Tran$rating_transform_for_selected3\n",
    "\n",
    "ratings <- TranCateg$calc_ratings(combined_dataset, price_log)  \n",
    "\n",
    "system.time({\n",
    "    df1 <- rating_transform_for_selected(\n",
    "        data = combined_dataset,\n",
    "        columns = get_character_colnames(combined_dataset),\n",
    "        ratings = ratings\n",
    "    )\n",
    "})\n",
    "\n",
    "system.time({\n",
    "    df2 <- rating_transform_for_selected2(\n",
    "        data = combined_dataset,\n",
    "        columns = get_character_colnames(combined_dataset),\n",
    "        ratings = ratings\n",
    "    )\n",
    "})\n",
    "\n",
    "system.time({\n",
    "    df3 <- rating_transform_for_selected3(\n",
    "        data = combined_dataset,\n",
    "        columns = get_character_colnames(combined_dataset),\n",
    "        ratings = ratings\n",
    "    )\n",
    "})\n",
    "\n",
    "test_that(\"should be equal\", {\n",
    "    expect_equal(df1, df2)\n",
    "})\n",
    "\n",
    "test_that(\"should be equal\", {\n",
    "    expect_equal(df2, df3)\n",
    "})"
   ]
  },
  {
   "cell_type": "code",
   "execution_count": null,
   "metadata": {
    "collapsed": true
   },
   "outputs": [],
   "source": []
  },
  {
   "cell_type": "code",
   "execution_count": null,
   "metadata": {
    "collapsed": true
   },
   "outputs": [],
   "source": []
  },
  {
   "cell_type": "code",
   "execution_count": null,
   "metadata": {
    "collapsed": true
   },
   "outputs": [],
   "source": []
  },
  {
   "cell_type": "code",
   "execution_count": null,
   "metadata": {
    "collapsed": true
   },
   "outputs": [],
   "source": []
  },
  {
   "cell_type": "code",
   "execution_count": null,
   "metadata": {
    "collapsed": true
   },
   "outputs": [],
   "source": []
  },
  {
   "cell_type": "code",
   "execution_count": null,
   "metadata": {
    "collapsed": true
   },
   "outputs": [],
   "source": []
  },
  {
   "cell_type": "code",
   "execution_count": null,
   "metadata": {
    "collapsed": true
   },
   "outputs": [],
   "source": []
  },
  {
   "cell_type": "code",
   "execution_count": null,
   "metadata": {
    "cell_style": "center",
    "collapsed": true
   },
   "outputs": [],
   "source": []
  },
  {
   "cell_type": "code",
   "execution_count": null,
   "metadata": {
    "cell_style": "center",
    "collapsed": true
   },
   "outputs": [],
   "source": []
  },
  {
   "cell_type": "code",
   "execution_count": null,
   "metadata": {
    "collapsed": true
   },
   "outputs": [],
   "source": []
  },
  {
   "cell_type": "code",
   "execution_count": null,
   "metadata": {
    "collapsed": true
   },
   "outputs": [],
   "source": []
  },
  {
   "cell_type": "code",
   "execution_count": null,
   "metadata": {
    "collapsed": true
   },
   "outputs": [],
   "source": []
  },
  {
   "cell_type": "code",
   "execution_count": null,
   "metadata": {
    "collapsed": true
   },
   "outputs": [],
   "source": []
  },
  {
   "cell_type": "code",
   "execution_count": null,
   "metadata": {
    "collapsed": true
   },
   "outputs": [],
   "source": []
  },
  {
   "cell_type": "code",
   "execution_count": null,
   "metadata": {
    "collapsed": true
   },
   "outputs": [],
   "source": []
  }
 ],
 "metadata": {
  "kernelspec": {
   "display_name": "R",
   "language": "R",
   "name": "ir"
  },
  "language_info": {
   "codemirror_mode": "r",
   "file_extension": ".r",
   "mimetype": "text/x-r-source",
   "name": "R",
   "pygments_lexer": "r",
   "version": "3.4.2"
  }
 },
 "nbformat": 4,
 "nbformat_minor": 2
}
