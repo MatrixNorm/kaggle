{
 "cells": [
  {
   "cell_type": "code",
   "execution_count": 3,
   "metadata": {},
   "outputs": [
    {
     "data": {
      "text/html": [
       "<ol class=list-inline>\n",
       "\t<li>2917</li>\n",
       "\t<li>81</li>\n",
       "</ol>\n"
      ],
      "text/latex": [
       "\\begin{enumerate*}\n",
       "\\item 2917\n",
       "\\item 81\n",
       "\\end{enumerate*}\n"
      ],
      "text/markdown": [
       "1. 2917\n",
       "2. 81\n",
       "\n",
       "\n"
      ],
      "text/plain": [
       "[1] 2917   81"
      ]
     },
     "metadata": {},
     "output_type": "display_data"
    }
   ],
   "source": [
    "setwd(paste0(Sys.getenv('R_SOURCES'), '/house_prices'))\n",
    "source('main.R')\n",
    "house_prices$helpers$import_libs()\n",
    "\n",
    "combined_dataset <-\n",
    "    house_prices$helpers$load_data() %>%\n",
    "    (house_prices$outliers$remove_outliers) %>%\n",
    "    (house_prices$missing$fix_all) %>%\n",
    "    mutate(\n",
    "        price_log = log(SalePrice)\n",
    "    ) %>%\n",
    "    select(-SalePrice, -Id)\n",
    "\n",
    "combined_dataset %>% dim\n",
    "\n",
    "test_that(\"should be no NA values except SalePrice column\", {\n",
    "    expect_equal(sum(is.na(combined_dataset %>% select(-price_log))), 0)\n",
    "})\n",
    "\n",
    "get_character_colnames <- house_prices$helpers$get_character_colnames"
   ]
  },
  {
   "cell_type": "code",
   "execution_count": 12,
   "metadata": {},
   "outputs": [
    {
     "data": {
      "text/html": [
       "<table>\n",
       "<thead><tr><th scope=col>var</th><th scope=col>value</th><th scope=col>rating</th></tr></thead>\n",
       "<tbody>\n",
       "\t<tr><td>Alley   </td><td>_none_  </td><td>2.531822</td></tr>\n",
       "\t<tr><td>Alley   </td><td>Grvl    </td><td>1.500000</td></tr>\n",
       "\t<tr><td>Alley   </td><td>Pave    </td><td>2.536585</td></tr>\n",
       "\t<tr><td>BldgType</td><td>1Fam    </td><td>2.564039</td></tr>\n",
       "\t<tr><td>BldgType</td><td>2fmCon  </td><td>1.580645</td></tr>\n",
       "\t<tr><td>BldgType</td><td>Duplex  </td><td>1.692308</td></tr>\n",
       "</tbody>\n",
       "</table>\n"
      ],
      "text/latex": [
       "\\begin{tabular}{r|lll}\n",
       " var & value & rating\\\\\n",
       "\\hline\n",
       "\t Alley      & \\_none\\_ & 2.531822  \\\\\n",
       "\t Alley    & Grvl     & 1.500000\\\\\n",
       "\t Alley    & Pave     & 2.536585\\\\\n",
       "\t BldgType & 1Fam     & 2.564039\\\\\n",
       "\t BldgType & 2fmCon   & 1.580645\\\\\n",
       "\t BldgType & Duplex   & 1.692308\\\\\n",
       "\\end{tabular}\n"
      ],
      "text/markdown": [
       "\n",
       "var | value | rating | \n",
       "|---|---|---|---|---|---|\n",
       "| Alley    | _none_   | 2.531822 | \n",
       "| Alley    | Grvl     | 1.500000 | \n",
       "| Alley    | Pave     | 2.536585 | \n",
       "| BldgType | 1Fam     | 2.564039 | \n",
       "| BldgType | 2fmCon   | 1.580645 | \n",
       "| BldgType | Duplex   | 1.692308 | \n",
       "\n",
       "\n"
      ],
      "text/plain": [
       "  var      value  rating  \n",
       "1 Alley    _none_ 2.531822\n",
       "2 Alley    Grvl   1.500000\n",
       "3 Alley    Pave   2.536585\n",
       "4 BldgType 1Fam   2.564039\n",
       "5 BldgType 2fmCon 1.580645\n",
       "6 BldgType Duplex 1.692308"
      ]
     },
     "metadata": {},
     "output_type": "display_data"
    },
    {
     "data": {
      "text/html": [
       "<table>\n",
       "<thead><tr><th scope=col>var</th><th scope=col>value</th><th scope=col>rating</th></tr></thead>\n",
       "<tbody>\n",
       "\t<tr><td>SaleType </td><td>Oth      </td><td>1.333333 </td></tr>\n",
       "\t<tr><td>Street   </td><td>Pave     </td><td>2.499311 </td></tr>\n",
       "\t<tr><td>Street   </td><td>Grvl     </td><td>1.833333 </td></tr>\n",
       "\t<tr><td>Utilities</td><td>AllPub   </td><td>2.496911 </td></tr>\n",
       "\t<tr><td>Utilities</td><td>NoSeWa   </td><td>2.000000 </td></tr>\n",
       "\t<tr><td>NA       </td><td>NA       </td><td>2.500000 </td></tr>\n",
       "</tbody>\n",
       "</table>\n"
      ],
      "text/latex": [
       "\\begin{tabular}{r|lll}\n",
       " var & value & rating\\\\\n",
       "\\hline\n",
       "\t SaleType  & Oth       & 1.333333 \\\\\n",
       "\t Street    & Pave      & 2.499311 \\\\\n",
       "\t Street    & Grvl      & 1.833333 \\\\\n",
       "\t Utilities & AllPub    & 2.496911 \\\\\n",
       "\t Utilities & NoSeWa    & 2.000000 \\\\\n",
       "\t NA        & NA        & 2.500000 \\\\\n",
       "\\end{tabular}\n"
      ],
      "text/markdown": [
       "\n",
       "var | value | rating | \n",
       "|---|---|---|---|---|---|\n",
       "| SaleType  | Oth       | 1.333333  | \n",
       "| Street    | Pave      | 2.499311  | \n",
       "| Street    | Grvl      | 1.833333  | \n",
       "| Utilities | AllPub    | 2.496911  | \n",
       "| Utilities | NoSeWa    | 2.000000  | \n",
       "| NA        | NA        | 2.500000  | \n",
       "\n",
       "\n"
      ],
      "text/plain": [
       "  var       value  rating  \n",
       "1 SaleType  Oth    1.333333\n",
       "2 Street    Pave   2.499311\n",
       "3 Street    Grvl   1.833333\n",
       "4 Utilities AllPub 2.496911\n",
       "5 Utilities NoSeWa 2.000000\n",
       "6 NA        NA     2.500000"
      ]
     },
     "metadata": {},
     "output_type": "display_data"
    }
   ],
   "source": [
    "#\n",
    "# Quantile ratings calculation\n",
    "#\n",
    "source('main.R')\n",
    "\n",
    "TranCateg <- house_prices$trans$categ\n",
    "QuantileRating <- house_prices$trans$categ$QuantileRating\n",
    "\n",
    "ratings1 <- QuantileRating$calc_ratings(\n",
    "    df = combined_dataset,\n",
    "    target_var = price_log,\n",
    "    rating_quantiles = QuantileRating$calc_quantiles(\n",
    "        sample = combined_dataset[['price_log']],\n",
    "        probs = c(0.25, 0.5, 0.75)\n",
    "    ),\n",
    "    categ_vars = get_character_colnames(combined_dataset)\n",
    ")    \n",
    "\n",
    "ratings2 <- TranCateg$calc_ratings(combined_dataset, price_log)    \n",
    "\n",
    "test_that(\"should be equal ratings\", {\n",
    "    expect_equal(ratings1, ratings2)\n",
    "})\n",
    "\n",
    "ratings1 %>% head\n",
    "ratings1 %>% tail"
   ]
  },
  {
   "cell_type": "code",
   "execution_count": 16,
   "metadata": {},
   "outputs": [],
   "source": [
    "#\n",
    "# Quantile ratings transformation\n",
    "#\n",
    "source('main.R')\n",
    "\n",
    "TranCateg <- house_prices$trans$categ\n",
    "\n",
    "ratings <- TranCateg$calc_ratings(combined_dataset, price_log)    \n",
    "\n",
    "df1 <- TranCateg$Tran$rating_transform_for_selected(\n",
    "    data = combined_dataset,\n",
    "    columns = get_character_colnames(combined_dataset),\n",
    "    ratings = ratings\n",
    ")\n",
    "\n",
    "df2 <- TranCateg$rating_transform(\n",
    "    combined_dataset,\n",
    "    price_log\n",
    ")\n",
    "\n",
    "test_that(\"should be equal\", {\n",
    "    expect_equal(df1, df2)\n",
    "})"
   ]
  },
  {
   "cell_type": "code",
   "execution_count": 19,
   "metadata": {},
   "outputs": [
    {
     "data": {
      "text/plain": [
       "   user  system elapsed \n",
       "  0.066   0.000   0.066 "
      ]
     },
     "metadata": {},
     "output_type": "display_data"
    },
    {
     "data": {
      "text/plain": [
       "   user  system elapsed \n",
       "  0.771   0.000   0.771 "
      ]
     },
     "metadata": {},
     "output_type": "display_data"
    },
    {
     "data": {
      "text/plain": [
       "   user  system elapsed \n",
       "  0.599   0.000   0.600 "
      ]
     },
     "metadata": {},
     "output_type": "display_data"
    }
   ],
   "source": [
    "#\n",
    "# Timing different implementations\n",
    "#\n",
    "source('main.R')\n",
    "\n",
    "TranCateg <- house_prices$trans$categ\n",
    "\n",
    "rating_transform_for_selected <- TranCateg$Tran$rating_transform_for_selected\n",
    "rating_transform_for_selected2 <- TranCateg$Tran$rating_transform_for_selected2\n",
    "rating_transform_for_selected3 <- TranCateg$Tran$rating_transform_for_selected3\n",
    "\n",
    "ratings <- TranCateg$calc_ratings(combined_dataset, price_log)  \n",
    "\n",
    "system.time({\n",
    "    df1 <- rating_transform_for_selected(\n",
    "        data = combined_dataset,\n",
    "        columns = get_character_colnames(combined_dataset),\n",
    "        ratings = ratings\n",
    "    )\n",
    "})\n",
    "\n",
    "system.time({\n",
    "    df2 <- rating_transform_for_selected2(\n",
    "        data = combined_dataset,\n",
    "        columns = get_character_colnames(combined_dataset),\n",
    "        ratings = ratings\n",
    "    )\n",
    "})\n",
    "\n",
    "system.time({\n",
    "    df3 <- rating_transform_for_selected3(\n",
    "        data = combined_dataset,\n",
    "        columns = get_character_colnames(combined_dataset),\n",
    "        ratings = ratings\n",
    "    )\n",
    "})\n",
    "\n",
    "test_that(\"should be equal\", {\n",
    "    expect_equal(df1, df2)\n",
    "})\n",
    "\n",
    "test_that(\"should be equal\", {\n",
    "    expect_equal(df2, df3)\n",
    "})"
   ]
  },
  {
   "cell_type": "code",
   "execution_count": null,
   "metadata": {
    "collapsed": true
   },
   "outputs": [],
   "source": []
  },
  {
   "cell_type": "code",
   "execution_count": null,
   "metadata": {
    "collapsed": true
   },
   "outputs": [],
   "source": []
  },
  {
   "cell_type": "code",
   "execution_count": null,
   "metadata": {
    "collapsed": true
   },
   "outputs": [],
   "source": []
  },
  {
   "cell_type": "code",
   "execution_count": null,
   "metadata": {
    "collapsed": true
   },
   "outputs": [],
   "source": []
  },
  {
   "cell_type": "code",
   "execution_count": null,
   "metadata": {
    "collapsed": true
   },
   "outputs": [],
   "source": []
  },
  {
   "cell_type": "code",
   "execution_count": null,
   "metadata": {
    "collapsed": true
   },
   "outputs": [],
   "source": []
  },
  {
   "cell_type": "code",
   "execution_count": null,
   "metadata": {
    "collapsed": true
   },
   "outputs": [],
   "source": []
  },
  {
   "cell_type": "code",
   "execution_count": null,
   "metadata": {
    "cell_style": "center",
    "collapsed": true
   },
   "outputs": [],
   "source": []
  },
  {
   "cell_type": "code",
   "execution_count": null,
   "metadata": {
    "cell_style": "center",
    "collapsed": true
   },
   "outputs": [],
   "source": []
  },
  {
   "cell_type": "code",
   "execution_count": null,
   "metadata": {
    "collapsed": true
   },
   "outputs": [],
   "source": []
  },
  {
   "cell_type": "code",
   "execution_count": null,
   "metadata": {
    "collapsed": true
   },
   "outputs": [],
   "source": []
  },
  {
   "cell_type": "code",
   "execution_count": null,
   "metadata": {
    "collapsed": true
   },
   "outputs": [],
   "source": []
  },
  {
   "cell_type": "code",
   "execution_count": null,
   "metadata": {
    "collapsed": true
   },
   "outputs": [],
   "source": []
  },
  {
   "cell_type": "code",
   "execution_count": null,
   "metadata": {
    "collapsed": true
   },
   "outputs": [],
   "source": []
  },
  {
   "cell_type": "code",
   "execution_count": null,
   "metadata": {
    "collapsed": true
   },
   "outputs": [],
   "source": []
  }
 ],
 "metadata": {
  "kernelspec": {
   "display_name": "R",
   "language": "R",
   "name": "ir"
  },
  "language_info": {
   "codemirror_mode": "r",
   "file_extension": ".r",
   "mimetype": "text/x-r-source",
   "name": "R",
   "pygments_lexer": "r",
   "version": "3.4.2"
  }
 },
 "nbformat": 4,
 "nbformat_minor": 2
}
