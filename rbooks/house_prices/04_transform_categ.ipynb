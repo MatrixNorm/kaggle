{
 "cells": [
  {
   "cell_type": "code",
   "execution_count": 51,
   "metadata": {},
   "outputs": [],
   "source": [
    "setwd(paste0(Sys.getenv('R_SOURCES'), '/house_prices'))\n",
    "source('main.R')\n",
    "house_prices$helpers$import_libs()\n",
    "\n",
    "combined_dataset <-\n",
    "    house_prices$helpers$load_data() %>%\n",
    "    (house_prices$outliers$remove_outliers) %>%\n",
    "    (house_prices$missing$fix_all) %>%\n",
    "    mutate(\n",
    "        price_log = log(SalePrice)\n",
    "    ) %>%\n",
    "    select(-SalePrice, -Id)\n",
    "\n",
    "training_dataset <- \n",
    "    combined_dataset %>% \n",
    "    filter(dataSource == 'train')\n",
    "\n",
    "test_that(\"should be no NA values except SalePrice column\", {\n",
    "    expect_equal(sum(is.na(combined_dataset %>% select(-price_log))), 0)\n",
    "})\n",
    "\n",
    "test_that(\"should be no NA values in training_dataset\", {\n",
    "    expect_equal(sum(is.na(training_dataset)), 0)\n",
    "})"
   ]
  },
  {
   "cell_type": "code",
   "execution_count": 52,
   "metadata": {
    "collapsed": true
   },
   "outputs": [],
   "source": [
    "get_character_colnames <- house_prices$helpers$get_character_colnames\n",
    "\n",
    "calc_rating_for_all <- house_prices$trans$categ$calc_rating_for_all\n",
    "calc_rating_for_selected <- house_prices$trans$categ$calc_rating_for_selected\n",
    "\n",
    "rating_transform_for_selected <- house_prices$trans$categ$rating_transform_for_selected\n",
    "rating_transform_for_selected2 <- house_prices$trans$categ$rating_transform_for_selected2\n",
    "rating_transform_for_selected3 <- house_prices$trans$categ$rating_transform_for_selected3\n",
    "rating_transform <- house_prices$trans$categ$rating_transform"
   ]
  },
  {
   "cell_type": "code",
   "execution_count": 53,
   "metadata": {},
   "outputs": [
    {
     "data": {
      "text/plain": [
       "   user  system elapsed \n",
       "  0.227   0.000   0.227 "
      ]
     },
     "metadata": {},
     "output_type": "display_data"
    },
    {
     "data": {
      "text/plain": [
       "   user  system elapsed \n",
       "  0.231   0.000   0.231 "
      ]
     },
     "metadata": {},
     "output_type": "display_data"
    },
    {
     "data": {
      "text/html": [
       "<table>\n",
       "<thead><tr><th scope=col>var</th><th scope=col>value</th><th scope=col>rating</th></tr></thead>\n",
       "<tbody>\n",
       "\t<tr><td>Alley   </td><td>_none_  </td><td>2.531822</td></tr>\n",
       "\t<tr><td>Alley   </td><td>Grvl    </td><td>1.500000</td></tr>\n",
       "\t<tr><td>Alley   </td><td>Pave    </td><td>2.536585</td></tr>\n",
       "\t<tr><td>BldgType</td><td>1Fam    </td><td>2.564039</td></tr>\n",
       "\t<tr><td>BldgType</td><td>2fmCon  </td><td>1.580645</td></tr>\n",
       "\t<tr><td>BldgType</td><td>Duplex  </td><td>1.692308</td></tr>\n",
       "</tbody>\n",
       "</table>\n"
      ],
      "text/latex": [
       "\\begin{tabular}{r|lll}\n",
       " var & value & rating\\\\\n",
       "\\hline\n",
       "\t Alley      & \\_none\\_ & 2.531822  \\\\\n",
       "\t Alley    & Grvl     & 1.500000\\\\\n",
       "\t Alley    & Pave     & 2.536585\\\\\n",
       "\t BldgType & 1Fam     & 2.564039\\\\\n",
       "\t BldgType & 2fmCon   & 1.580645\\\\\n",
       "\t BldgType & Duplex   & 1.692308\\\\\n",
       "\\end{tabular}\n"
      ],
      "text/markdown": [
       "\n",
       "var | value | rating | \n",
       "|---|---|---|---|---|---|\n",
       "| Alley    | _none_   | 2.531822 | \n",
       "| Alley    | Grvl     | 1.500000 | \n",
       "| Alley    | Pave     | 2.536585 | \n",
       "| BldgType | 1Fam     | 2.564039 | \n",
       "| BldgType | 2fmCon   | 1.580645 | \n",
       "| BldgType | Duplex   | 1.692308 | \n",
       "\n",
       "\n"
      ],
      "text/plain": [
       "  var      value  rating  \n",
       "1 Alley    _none_ 2.531822\n",
       "2 Alley    Grvl   1.500000\n",
       "3 Alley    Pave   2.536585\n",
       "4 BldgType 1Fam   2.564039\n",
       "5 BldgType 2fmCon 1.580645\n",
       "6 BldgType Duplex 1.692308"
      ]
     },
     "metadata": {},
     "output_type": "display_data"
    }
   ],
   "source": [
    "source('main.R')\n",
    "\n",
    "system.time({\n",
    "    rating_for_selected <- calc_rating_for_selected(\n",
    "        df = combined_dataset, \n",
    "        categ_vars_for_fix = get_character_colnames(combined_dataset),\n",
    "        target_var = price_log\n",
    "    )    \n",
    "})\n",
    "\n",
    "system.time({\n",
    "    ratings_for_all <- calc_rating_for_all(combined_dataset, price_log)    \n",
    "})\n",
    "\n",
    "test_that(\"should be equal ratings\", {\n",
    "    expect_equal(ratings_for_all, rating_for_selected)\n",
    "})\n",
    "\n",
    "ratings_for_all %>% head"
   ]
  },
  {
   "cell_type": "code",
   "execution_count": 54,
   "metadata": {},
   "outputs": [
    {
     "data": {
      "text/plain": [
       "   user  system elapsed \n",
       "  0.067   0.000   0.067 "
      ]
     },
     "metadata": {},
     "output_type": "display_data"
    },
    {
     "data": {
      "text/plain": [
       "   user  system elapsed \n",
       "  0.291   0.004   0.295 "
      ]
     },
     "metadata": {},
     "output_type": "display_data"
    }
   ],
   "source": [
    "source('main.R')\n",
    "\n",
    "ratings <- calc_rating_for_all(combined_dataset, price_log)\n",
    "\n",
    "system.time({\n",
    "    df1 <- rating_transform_for_selected(\n",
    "        data = combined_dataset,\n",
    "        columns = house_prices$helpers$get_character_colnames(combined_dataset),\n",
    "        ratings = ratings\n",
    "    )\n",
    "})\n",
    "\n",
    "system.time({\n",
    "    df2 <- rating_transform(\n",
    "        combined_dataset,\n",
    "        price_log\n",
    "    )\n",
    "})\n",
    "\n",
    "test_that(\"should be equal\", {\n",
    "    expect_equal(df1, df2)\n",
    "})"
   ]
  },
  {
   "cell_type": "code",
   "execution_count": 55,
   "metadata": {},
   "outputs": [
    {
     "data": {
      "text/plain": [
       "   user  system elapsed \n",
       "  0.061   0.008   0.069 "
      ]
     },
     "metadata": {},
     "output_type": "display_data"
    },
    {
     "data": {
      "text/plain": [
       "   user  system elapsed \n",
       "   0.89    0.00    0.89 "
      ]
     },
     "metadata": {},
     "output_type": "display_data"
    },
    {
     "data": {
      "text/plain": [
       "   user  system elapsed \n",
       "  0.617   0.000   0.617 "
      ]
     },
     "metadata": {},
     "output_type": "display_data"
    }
   ],
   "source": [
    "source('main.R')\n",
    "\n",
    "ratings <- calc_rating_for_all(combined_dataset, price_log)\n",
    "\n",
    "system.time({\n",
    "    df1 <- rating_transform_for_selected(\n",
    "        data = combined_dataset,\n",
    "        columns = get_character_colnames(combined_dataset),\n",
    "        ratings = ratings\n",
    "    )\n",
    "})\n",
    "\n",
    "system.time({\n",
    "    df2 <- rating_transform_for_selected2(\n",
    "        data = combined_dataset,\n",
    "        columns = get_character_colnames(combined_dataset),\n",
    "        ratings = ratings\n",
    "    )\n",
    "})\n",
    "\n",
    "system.time({\n",
    "    df3 <- rating_transform_for_selected3(\n",
    "        data = combined_dataset,\n",
    "        columns = get_character_colnames(combined_dataset),\n",
    "        ratings = ratings\n",
    "    )\n",
    "})\n",
    "\n",
    "test_that(\"should be equal\", {\n",
    "    expect_equal(df1, df2)\n",
    "})\n",
    "\n",
    "test_that(\"should be equal\", {\n",
    "    expect_equal(df1, df3)\n",
    "})"
   ]
  },
  {
   "cell_type": "code",
   "execution_count": 69,
   "metadata": {},
   "outputs": [
    {
     "data": {
      "text/html": [
       "<pre class=language-r><code>function (dataset) \n",
       "{\n",
       "<span style=white-space:pre-wrap>    dataset %&gt;% select_if(is.numeric) %&gt;% gather(var, x) %&gt;% </span>\n",
       "<span style=white-space:pre-wrap>        filter(!is.na(x)) %&gt;% mutate(log = log(x + 1), sqrt = sqrt(x)) %&gt;% </span>\n",
       "<span style=white-space:pre-wrap>        gather(predictor, value, -var) %&gt;% group_by(var, predictor) %&gt;% </span>\n",
       "<span style=white-space:pre-wrap>        mutate(value_normed = (value - mean(value))/sd(value)) %&gt;% </span>\n",
       "<span style=white-space:pre-wrap>        group_by(var, predictor, value_normed) %&gt;% arrange(var, </span>\n",
       "<span style=white-space:pre-wrap>        predictor, value_normed) %&gt;% summarise(k = n()) %&gt;% mutate(empirical = cumsum(k)/sum(k), </span>\n",
       "<span style=white-space:pre-wrap>        theoretical = pnorm(value_normed), diff_L2 = k * (empirical - </span>\n",
       "<span style=white-space:pre-wrap>            theoretical)^2) %&gt;% group_by(var, predictor) %&gt;% </span>\n",
       "<span style=white-space:pre-wrap>        summarise(L2_distance = sum(diff_L2)) %&gt;% group_by(var) %&gt;% </span>\n",
       "<span style=white-space:pre-wrap>        nest %&gt;% mutate(best_predictor = map(data, function(df) {</span>\n",
       "<span style=white-space:pre-wrap>        best &lt;- df %&gt;% arrange(L2_distance) %&gt;% head(1)</span>\n",
       "<span style=white-space:pre-wrap>        x &lt;- df %&gt;% filter(predictor == \"x\")</span>\n",
       "<span style=white-space:pre-wrap>        score &lt;- 100 * (x$L2_distance - best$L2_distance)/x$L2_distance</span>\n",
       "<span style=white-space:pre-wrap>        data_frame(predictor = best$predictor, score = score)</span>\n",
       "<span style=white-space:pre-wrap>    })) %&gt;% select(var, best_predictor) %&gt;% unnest(best_predictor) %&gt;% </span>\n",
       "<span style=white-space:pre-wrap>        filter(predictor != \"x\" &amp; score &gt; 30)</span>\n",
       "}</code></pre>"
      ],
      "text/latex": [
       "\\begin{minted}{r}\n",
       "function (dataset) \n",
       "\\{\n",
       "    dataset \\%>\\% select\\_if(is.numeric) \\%>\\% gather(var, x) \\%>\\% \n",
       "        filter(!is.na(x)) \\%>\\% mutate(log = log(x + 1), sqrt = sqrt(x)) \\%>\\% \n",
       "        gather(predictor, value, -var) \\%>\\% group\\_by(var, predictor) \\%>\\% \n",
       "        mutate(value\\_normed = (value - mean(value))/sd(value)) \\%>\\% \n",
       "        group\\_by(var, predictor, value\\_normed) \\%>\\% arrange(var, \n",
       "        predictor, value\\_normed) \\%>\\% summarise(k = n()) \\%>\\% mutate(empirical = cumsum(k)/sum(k), \n",
       "        theoretical = pnorm(value\\_normed), diff\\_L2 = k * (empirical - \n",
       "            theoretical)\\textasciicircum{}2) \\%>\\% group\\_by(var, predictor) \\%>\\% \n",
       "        summarise(L2\\_distance = sum(diff\\_L2)) \\%>\\% group\\_by(var) \\%>\\% \n",
       "        nest \\%>\\% mutate(best\\_predictor = map(data, function(df) \\{\n",
       "        best <- df \\%>\\% arrange(L2\\_distance) \\%>\\% head(1)\n",
       "        x <- df \\%>\\% filter(predictor == \"x\")\n",
       "        score <- 100 * (x\\$L2\\_distance - best\\$L2\\_distance)/x\\$L2\\_distance\n",
       "        data\\_frame(predictor = best\\$predictor, score = score)\n",
       "    \\})) \\%>\\% select(var, best\\_predictor) \\%>\\% unnest(best\\_predictor) \\%>\\% \n",
       "        filter(predictor != \"x\" \\& score > 30)\n",
       "\\}\n",
       "\\end{minted}"
      ],
      "text/markdown": [
       "```r\n",
       "function (dataset) \n",
       "{\n",
       "    dataset %>% select_if(is.numeric) %>% gather(var, x) %>% \n",
       "        filter(!is.na(x)) %>% mutate(log = log(x + 1), sqrt = sqrt(x)) %>% \n",
       "        gather(predictor, value, -var) %>% group_by(var, predictor) %>% \n",
       "        mutate(value_normed = (value - mean(value))/sd(value)) %>% \n",
       "        group_by(var, predictor, value_normed) %>% arrange(var, \n",
       "        predictor, value_normed) %>% summarise(k = n()) %>% mutate(empirical = cumsum(k)/sum(k), \n",
       "        theoretical = pnorm(value_normed), diff_L2 = k * (empirical - \n",
       "            theoretical)^2) %>% group_by(var, predictor) %>% \n",
       "        summarise(L2_distance = sum(diff_L2)) %>% group_by(var) %>% \n",
       "        nest %>% mutate(best_predictor = map(data, function(df) {\n",
       "        best <- df %>% arrange(L2_distance) %>% head(1)\n",
       "        x <- df %>% filter(predictor == \"x\")\n",
       "        score <- 100 * (x$L2_distance - best$L2_distance)/x$L2_distance\n",
       "        data_frame(predictor = best$predictor, score = score)\n",
       "    })) %>% select(var, best_predictor) %>% unnest(best_predictor) %>% \n",
       "        filter(predictor != \"x\" & score > 30)\n",
       "}\n",
       "```"
      ],
      "text/plain": [
       "function (dataset) \n",
       "{\n",
       "    dataset %>% select_if(is.numeric) %>% gather(var, x) %>% \n",
       "        filter(!is.na(x)) %>% mutate(log = log(x + 1), sqrt = sqrt(x)) %>% \n",
       "        gather(predictor, value, -var) %>% group_by(var, predictor) %>% \n",
       "        mutate(value_normed = (value - mean(value))/sd(value)) %>% \n",
       "        group_by(var, predictor, value_normed) %>% arrange(var, \n",
       "        predictor, value_normed) %>% summarise(k = n()) %>% mutate(empirical = cumsum(k)/sum(k), \n",
       "        theoretical = pnorm(value_normed), diff_L2 = k * (empirical - \n",
       "            theoretical)^2) %>% group_by(var, predictor) %>% \n",
       "        summarise(L2_distance = sum(diff_L2)) %>% group_by(var) %>% \n",
       "        nest %>% mutate(best_predictor = map(data, function(df) {\n",
       "        best <- df %>% arrange(L2_distance) %>% head(1)\n",
       "        x <- df %>% filter(predictor == \"x\")\n",
       "        score <- 100 * (x$L2_distance - best$L2_distance)/x$L2_distance\n",
       "        data_frame(predictor = best$predictor, score = score)\n",
       "    })) %>% select(var, best_predictor) %>% unnest(best_predictor) %>% \n",
       "        filter(predictor != \"x\" & score > 30)\n",
       "}\n",
       "<environment: 0xa56fcc0>"
      ]
     },
     "metadata": {},
     "output_type": "display_data"
    }
   ],
   "source": [
    "source('main.R')\n",
    "house_prices$trans$numeric$get_transformation_config"
   ]
  },
  {
   "cell_type": "code",
   "execution_count": null,
   "metadata": {},
   "outputs": [],
   "source": []
  },
  {
   "cell_type": "code",
   "execution_count": null,
   "metadata": {
    "collapsed": true
   },
   "outputs": [],
   "source": []
  },
  {
   "cell_type": "code",
   "execution_count": null,
   "metadata": {
    "collapsed": true
   },
   "outputs": [],
   "source": []
  },
  {
   "cell_type": "code",
   "execution_count": null,
   "metadata": {
    "collapsed": true
   },
   "outputs": [],
   "source": []
  },
  {
   "cell_type": "code",
   "execution_count": null,
   "metadata": {
    "collapsed": true
   },
   "outputs": [],
   "source": []
  },
  {
   "cell_type": "code",
   "execution_count": null,
   "metadata": {
    "collapsed": true
   },
   "outputs": [],
   "source": []
  },
  {
   "cell_type": "code",
   "execution_count": null,
   "metadata": {
    "collapsed": true
   },
   "outputs": [],
   "source": []
  },
  {
   "cell_type": "code",
   "execution_count": null,
   "metadata": {
    "cell_style": "center",
    "collapsed": true
   },
   "outputs": [],
   "source": []
  },
  {
   "cell_type": "code",
   "execution_count": null,
   "metadata": {
    "cell_style": "center",
    "collapsed": true
   },
   "outputs": [],
   "source": []
  },
  {
   "cell_type": "code",
   "execution_count": null,
   "metadata": {
    "collapsed": true
   },
   "outputs": [],
   "source": []
  },
  {
   "cell_type": "code",
   "execution_count": null,
   "metadata": {
    "collapsed": true
   },
   "outputs": [],
   "source": []
  },
  {
   "cell_type": "code",
   "execution_count": null,
   "metadata": {
    "collapsed": true
   },
   "outputs": [],
   "source": []
  },
  {
   "cell_type": "code",
   "execution_count": null,
   "metadata": {
    "collapsed": true
   },
   "outputs": [],
   "source": []
  },
  {
   "cell_type": "code",
   "execution_count": null,
   "metadata": {
    "collapsed": true
   },
   "outputs": [],
   "source": []
  },
  {
   "cell_type": "code",
   "execution_count": null,
   "metadata": {
    "collapsed": true
   },
   "outputs": [],
   "source": []
  }
 ],
 "metadata": {
  "kernelspec": {
   "display_name": "R",
   "language": "R",
   "name": "ir"
  },
  "language_info": {
   "codemirror_mode": "r",
   "file_extension": ".r",
   "mimetype": "text/x-r-source",
   "name": "R",
   "pygments_lexer": "r",
   "version": "3.4.2"
  }
 },
 "nbformat": 4,
 "nbformat_minor": 2
}
