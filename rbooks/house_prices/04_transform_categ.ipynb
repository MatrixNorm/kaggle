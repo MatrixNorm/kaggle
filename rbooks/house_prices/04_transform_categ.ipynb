{
 "cells": [
  {
   "cell_type": "code",
   "execution_count": 3,
   "metadata": {},
   "outputs": [
    {
     "data": {
      "text/html": [
       "'/mnt/hdd/develop/kaggle/R_sources/house_prices'"
      ],
      "text/latex": [
       "'/mnt/hdd/develop/kaggle/R\\_sources/house\\_prices'"
      ],
      "text/markdown": [
       "'/mnt/hdd/develop/kaggle/R_sources/house_prices'"
      ],
      "text/plain": [
       "[1] \"/mnt/hdd/develop/kaggle/R_sources/house_prices\""
      ]
     },
     "metadata": {},
     "output_type": "display_data"
    }
   ],
   "source": [
    "setwd(paste0(Sys.getenv('R_SOURCES'), '/house_prices'))\n",
    "getwd()"
   ]
  },
  {
   "cell_type": "code",
   "execution_count": 9,
   "metadata": {
    "collapsed": true
   },
   "outputs": [],
   "source": [
    "source('main.R')\n",
    "house_prices$helpers$import_libs()\n",
    "\n",
    "combined_dataset <-\n",
    "    house_prices$helpers$load_data() %>%\n",
    "    (house_prices$outliers$remove_outliers) %>%\n",
    "    (house_prices$missing$categ$replace_with_most_common) %>%\n",
    "    (house_prices$missing$categ$fix_valid) %>%\n",
    "    (house_prices$missing$numeric$replace_with_zero) %>%\n",
    "    mutate(\n",
    "        price_log = log(SalePrice)\n",
    "    ) %>%\n",
    "    select(-SalePrice, -Id)\n",
    "\n",
    "training_dataset <- \n",
    "    combined_dataset %>% \n",
    "    filter(dataSource == 'train')\n",
    "\n",
    "\n",
    "test_that(\"should be no NA values except SalePrice column\", {\n",
    "    expect_equal(sum(is.na(combined_dataset %>% select(-price_log))), 0)\n",
    "})\n",
    "\n",
    "test_that(\"should be no NA values in training_dataset\", {\n",
    "    expect_equal(sum(is.na(training_dataset)), 0)\n",
    "})"
   ]
  },
  {
   "cell_type": "code",
   "execution_count": 239,
   "metadata": {},
   "outputs": [
    {
     "data": {
      "text/html": [
       "<table>\n",
       "<thead><tr><th scope=col>price_log</th><th scope=col>var</th><th scope=col>value</th><th scope=col>cdf</th></tr></thead>\n",
       "<tbody>\n",
       "\t<tr><td>10.86857</td><td>Alley   </td><td>Grvl    </td><td>0.02    </td></tr>\n",
       "\t<tr><td>10.97678</td><td>Alley   </td><td>Grvl    </td><td>0.04    </td></tr>\n",
       "\t<tr><td>11.07442</td><td>Alley   </td><td>Grvl    </td><td>0.06    </td></tr>\n",
       "\t<tr><td>11.11245</td><td>Alley   </td><td>Grvl    </td><td>0.08    </td></tr>\n",
       "\t<tr><td>11.19821</td><td>Alley   </td><td>Grvl    </td><td>0.10    </td></tr>\n",
       "\t<tr><td>11.37366</td><td>Alley   </td><td>Grvl    </td><td>0.12    </td></tr>\n",
       "\t<tr><td>11.40199</td><td>Alley   </td><td>Grvl    </td><td>0.14    </td></tr>\n",
       "\t<tr><td>11.40756</td><td>Alley   </td><td>Grvl    </td><td>0.16    </td></tr>\n",
       "\t<tr><td>11.47730</td><td>Alley   </td><td>Grvl    </td><td>0.18    </td></tr>\n",
       "\t<tr><td>11.49272</td><td>Alley   </td><td>Grvl    </td><td>0.20    </td></tr>\n",
       "\t<tr><td>11.51293</td><td>Alley   </td><td>Grvl    </td><td>0.22    </td></tr>\n",
       "\t<tr><td>11.54248</td><td>Alley   </td><td>Grvl    </td><td>0.24    </td></tr>\n",
       "\t<tr><td>11.56172</td><td>Alley   </td><td>Grvl    </td><td>0.26    </td></tr>\n",
       "\t<tr><td>11.57355</td><td>Alley   </td><td>Grvl    </td><td>0.28    </td></tr>\n",
       "\t<tr><td>11.57590</td><td>Alley   </td><td>Grvl    </td><td>0.30    </td></tr>\n",
       "\t<tr><td>11.58058</td><td>Alley   </td><td>Grvl    </td><td>0.32    </td></tr>\n",
       "\t<tr><td>11.60824</td><td>Alley   </td><td>Grvl    </td><td>0.38    </td></tr>\n",
       "\t<tr><td>11.60824</td><td>Alley   </td><td>Grvl    </td><td>0.38    </td></tr>\n",
       "\t<tr><td>11.60824</td><td>Alley   </td><td>Grvl    </td><td>0.38    </td></tr>\n",
       "\t<tr><td>11.64837</td><td>Alley   </td><td>Grvl    </td><td>0.40    </td></tr>\n",
       "\t<tr><td>11.65269</td><td>Alley   </td><td>Grvl    </td><td>0.44    </td></tr>\n",
       "\t<tr><td>11.65269</td><td>Alley   </td><td>Grvl    </td><td>0.44    </td></tr>\n",
       "\t<tr><td>11.66135</td><td>Alley   </td><td>Grvl    </td><td>0.46    </td></tr>\n",
       "\t<tr><td>11.66993</td><td>Alley   </td><td>Grvl    </td><td>0.48    </td></tr>\n",
       "\t<tr><td>11.68688</td><td>Alley   </td><td>Grvl    </td><td>0.50    </td></tr>\n",
       "\t<tr><td>11.69525</td><td>Alley   </td><td>Grvl    </td><td>0.52    </td></tr>\n",
       "\t<tr><td>11.72804</td><td>Alley   </td><td>Grvl    </td><td>0.54    </td></tr>\n",
       "\t<tr><td>11.73206</td><td>Alley   </td><td>Grvl    </td><td>0.56    </td></tr>\n",
       "\t<tr><td>11.73607</td><td>Alley   </td><td>Grvl    </td><td>0.58    </td></tr>\n",
       "\t<tr><td>11.75979</td><td>Alley   </td><td>Grvl    </td><td>0.60    </td></tr>\n",
       "\t<tr><td>⋮</td><td>⋮</td><td>⋮</td><td>⋮</td></tr>\n",
       "\t<tr><td>12.88713 </td><td>Utilities</td><td>AllPub   </td><td>0.9807824</td></tr>\n",
       "\t<tr><td>12.90421 </td><td>Utilities</td><td>AllPub   </td><td>0.9814688</td></tr>\n",
       "\t<tr><td>12.90635 </td><td>Utilities</td><td>AllPub   </td><td>0.9821551</td></tr>\n",
       "\t<tr><td>12.90669 </td><td>Utilities</td><td>AllPub   </td><td>0.9828415</td></tr>\n",
       "\t<tr><td>12.92391 </td><td>Utilities</td><td>AllPub   </td><td>0.9835278</td></tr>\n",
       "\t<tr><td>12.92999 </td><td>Utilities</td><td>AllPub   </td><td>0.9842141</td></tr>\n",
       "\t<tr><td>12.93675 </td><td>Utilities</td><td>AllPub   </td><td>0.9849005</td></tr>\n",
       "\t<tr><td>12.95513 </td><td>Utilities</td><td>AllPub   </td><td>0.9855868</td></tr>\n",
       "\t<tr><td>12.95954 </td><td>Utilities</td><td>AllPub   </td><td>0.9862732</td></tr>\n",
       "\t<tr><td>12.96219 </td><td>Utilities</td><td>AllPub   </td><td>0.9869595</td></tr>\n",
       "\t<tr><td>12.97154 </td><td>Utilities</td><td>AllPub   </td><td>0.9876458</td></tr>\n",
       "\t<tr><td>12.98804 </td><td>Utilities</td><td>AllPub   </td><td>0.9883322</td></tr>\n",
       "\t<tr><td>12.99175 </td><td>Utilities</td><td>AllPub   </td><td>0.9890185</td></tr>\n",
       "\t<tr><td>12.99453 </td><td>Utilities</td><td>AllPub   </td><td>0.9897049</td></tr>\n",
       "\t<tr><td>13.00866 </td><td>Utilities</td><td>AllPub   </td><td>0.9903912</td></tr>\n",
       "\t<tr><td>13.02133 </td><td>Utilities</td><td>AllPub   </td><td>0.9910776</td></tr>\n",
       "\t<tr><td>13.04979 </td><td>Utilities</td><td>AllPub   </td><td>0.9917639</td></tr>\n",
       "\t<tr><td>13.05301 </td><td>Utilities</td><td>AllPub   </td><td>0.9924502</td></tr>\n",
       "\t<tr><td>13.07107 </td><td>Utilities</td><td>AllPub   </td><td>0.9931366</td></tr>\n",
       "\t<tr><td>13.09190 </td><td>Utilities</td><td>AllPub   </td><td>0.9938229</td></tr>\n",
       "\t<tr><td>13.12603 </td><td>Utilities</td><td>AllPub   </td><td>0.9945093</td></tr>\n",
       "\t<tr><td>13.19561 </td><td>Utilities</td><td>AllPub   </td><td>0.9951956</td></tr>\n",
       "\t<tr><td>13.22672 </td><td>Utilities</td><td>AllPub   </td><td>0.9958819</td></tr>\n",
       "\t<tr><td>13.22957 </td><td>Utilities</td><td>AllPub   </td><td>0.9965683</td></tr>\n",
       "\t<tr><td>13.27583 </td><td>Utilities</td><td>AllPub   </td><td>0.9972546</td></tr>\n",
       "\t<tr><td>13.32393 </td><td>Utilities</td><td>AllPub   </td><td>0.9979410</td></tr>\n",
       "\t<tr><td>13.34551 </td><td>Utilities</td><td>AllPub   </td><td>0.9986273</td></tr>\n",
       "\t<tr><td>13.52114 </td><td>Utilities</td><td>AllPub   </td><td>0.9993137</td></tr>\n",
       "\t<tr><td>13.53447 </td><td>Utilities</td><td>AllPub   </td><td>1.0000000</td></tr>\n",
       "\t<tr><td>11.83138 </td><td>Utilities</td><td>NoSeWa   </td><td>1.0000000</td></tr>\n",
       "</tbody>\n",
       "</table>\n"
      ],
      "text/latex": [
       "\\begin{tabular}{r|llll}\n",
       " price\\_log & var & value & cdf\\\\\n",
       "\\hline\n",
       "\t 10.86857 & Alley    & Grvl     & 0.02    \\\\\n",
       "\t 10.97678 & Alley    & Grvl     & 0.04    \\\\\n",
       "\t 11.07442 & Alley    & Grvl     & 0.06    \\\\\n",
       "\t 11.11245 & Alley    & Grvl     & 0.08    \\\\\n",
       "\t 11.19821 & Alley    & Grvl     & 0.10    \\\\\n",
       "\t 11.37366 & Alley    & Grvl     & 0.12    \\\\\n",
       "\t 11.40199 & Alley    & Grvl     & 0.14    \\\\\n",
       "\t 11.40756 & Alley    & Grvl     & 0.16    \\\\\n",
       "\t 11.47730 & Alley    & Grvl     & 0.18    \\\\\n",
       "\t 11.49272 & Alley    & Grvl     & 0.20    \\\\\n",
       "\t 11.51293 & Alley    & Grvl     & 0.22    \\\\\n",
       "\t 11.54248 & Alley    & Grvl     & 0.24    \\\\\n",
       "\t 11.56172 & Alley    & Grvl     & 0.26    \\\\\n",
       "\t 11.57355 & Alley    & Grvl     & 0.28    \\\\\n",
       "\t 11.57590 & Alley    & Grvl     & 0.30    \\\\\n",
       "\t 11.58058 & Alley    & Grvl     & 0.32    \\\\\n",
       "\t 11.60824 & Alley    & Grvl     & 0.38    \\\\\n",
       "\t 11.60824 & Alley    & Grvl     & 0.38    \\\\\n",
       "\t 11.60824 & Alley    & Grvl     & 0.38    \\\\\n",
       "\t 11.64837 & Alley    & Grvl     & 0.40    \\\\\n",
       "\t 11.65269 & Alley    & Grvl     & 0.44    \\\\\n",
       "\t 11.65269 & Alley    & Grvl     & 0.44    \\\\\n",
       "\t 11.66135 & Alley    & Grvl     & 0.46    \\\\\n",
       "\t 11.66993 & Alley    & Grvl     & 0.48    \\\\\n",
       "\t 11.68688 & Alley    & Grvl     & 0.50    \\\\\n",
       "\t 11.69525 & Alley    & Grvl     & 0.52    \\\\\n",
       "\t 11.72804 & Alley    & Grvl     & 0.54    \\\\\n",
       "\t 11.73206 & Alley    & Grvl     & 0.56    \\\\\n",
       "\t 11.73607 & Alley    & Grvl     & 0.58    \\\\\n",
       "\t 11.75979 & Alley    & Grvl     & 0.60    \\\\\n",
       "\t ⋮ & ⋮ & ⋮ & ⋮\\\\\n",
       "\t 12.88713  & Utilities & AllPub    & 0.9807824\\\\\n",
       "\t 12.90421  & Utilities & AllPub    & 0.9814688\\\\\n",
       "\t 12.90635  & Utilities & AllPub    & 0.9821551\\\\\n",
       "\t 12.90669  & Utilities & AllPub    & 0.9828415\\\\\n",
       "\t 12.92391  & Utilities & AllPub    & 0.9835278\\\\\n",
       "\t 12.92999  & Utilities & AllPub    & 0.9842141\\\\\n",
       "\t 12.93675  & Utilities & AllPub    & 0.9849005\\\\\n",
       "\t 12.95513  & Utilities & AllPub    & 0.9855868\\\\\n",
       "\t 12.95954  & Utilities & AllPub    & 0.9862732\\\\\n",
       "\t 12.96219  & Utilities & AllPub    & 0.9869595\\\\\n",
       "\t 12.97154  & Utilities & AllPub    & 0.9876458\\\\\n",
       "\t 12.98804  & Utilities & AllPub    & 0.9883322\\\\\n",
       "\t 12.99175  & Utilities & AllPub    & 0.9890185\\\\\n",
       "\t 12.99453  & Utilities & AllPub    & 0.9897049\\\\\n",
       "\t 13.00866  & Utilities & AllPub    & 0.9903912\\\\\n",
       "\t 13.02133  & Utilities & AllPub    & 0.9910776\\\\\n",
       "\t 13.04979  & Utilities & AllPub    & 0.9917639\\\\\n",
       "\t 13.05301  & Utilities & AllPub    & 0.9924502\\\\\n",
       "\t 13.07107  & Utilities & AllPub    & 0.9931366\\\\\n",
       "\t 13.09190  & Utilities & AllPub    & 0.9938229\\\\\n",
       "\t 13.12603  & Utilities & AllPub    & 0.9945093\\\\\n",
       "\t 13.19561  & Utilities & AllPub    & 0.9951956\\\\\n",
       "\t 13.22672  & Utilities & AllPub    & 0.9958819\\\\\n",
       "\t 13.22957  & Utilities & AllPub    & 0.9965683\\\\\n",
       "\t 13.27583  & Utilities & AllPub    & 0.9972546\\\\\n",
       "\t 13.32393  & Utilities & AllPub    & 0.9979410\\\\\n",
       "\t 13.34551  & Utilities & AllPub    & 0.9986273\\\\\n",
       "\t 13.52114  & Utilities & AllPub    & 0.9993137\\\\\n",
       "\t 13.53447  & Utilities & AllPub    & 1.0000000\\\\\n",
       "\t 11.83138  & Utilities & NoSeWa    & 1.0000000\\\\\n",
       "\\end{tabular}\n"
      ],
      "text/markdown": [
       "\n",
       "price_log | var | value | cdf | \n",
       "|---|---|---|---|---|---|---|---|---|---|---|---|---|---|---|---|---|---|---|---|---|---|---|---|---|---|---|---|---|---|---|---|---|---|---|---|---|---|---|---|---|---|---|---|---|---|---|---|---|---|---|---|---|---|---|---|---|---|---|---|---|\n",
       "| 10.86857 | Alley    | Grvl     | 0.02     | \n",
       "| 10.97678 | Alley    | Grvl     | 0.04     | \n",
       "| 11.07442 | Alley    | Grvl     | 0.06     | \n",
       "| 11.11245 | Alley    | Grvl     | 0.08     | \n",
       "| 11.19821 | Alley    | Grvl     | 0.10     | \n",
       "| 11.37366 | Alley    | Grvl     | 0.12     | \n",
       "| 11.40199 | Alley    | Grvl     | 0.14     | \n",
       "| 11.40756 | Alley    | Grvl     | 0.16     | \n",
       "| 11.47730 | Alley    | Grvl     | 0.18     | \n",
       "| 11.49272 | Alley    | Grvl     | 0.20     | \n",
       "| 11.51293 | Alley    | Grvl     | 0.22     | \n",
       "| 11.54248 | Alley    | Grvl     | 0.24     | \n",
       "| 11.56172 | Alley    | Grvl     | 0.26     | \n",
       "| 11.57355 | Alley    | Grvl     | 0.28     | \n",
       "| 11.57590 | Alley    | Grvl     | 0.30     | \n",
       "| 11.58058 | Alley    | Grvl     | 0.32     | \n",
       "| 11.60824 | Alley    | Grvl     | 0.38     | \n",
       "| 11.60824 | Alley    | Grvl     | 0.38     | \n",
       "| 11.60824 | Alley    | Grvl     | 0.38     | \n",
       "| 11.64837 | Alley    | Grvl     | 0.40     | \n",
       "| 11.65269 | Alley    | Grvl     | 0.44     | \n",
       "| 11.65269 | Alley    | Grvl     | 0.44     | \n",
       "| 11.66135 | Alley    | Grvl     | 0.46     | \n",
       "| 11.66993 | Alley    | Grvl     | 0.48     | \n",
       "| 11.68688 | Alley    | Grvl     | 0.50     | \n",
       "| 11.69525 | Alley    | Grvl     | 0.52     | \n",
       "| 11.72804 | Alley    | Grvl     | 0.54     | \n",
       "| 11.73206 | Alley    | Grvl     | 0.56     | \n",
       "| 11.73607 | Alley    | Grvl     | 0.58     | \n",
       "| 11.75979 | Alley    | Grvl     | 0.60     | \n",
       "| ⋮ | ⋮ | ⋮ | ⋮ | \n",
       "| 12.88713  | Utilities | AllPub    | 0.9807824 | \n",
       "| 12.90421  | Utilities | AllPub    | 0.9814688 | \n",
       "| 12.90635  | Utilities | AllPub    | 0.9821551 | \n",
       "| 12.90669  | Utilities | AllPub    | 0.9828415 | \n",
       "| 12.92391  | Utilities | AllPub    | 0.9835278 | \n",
       "| 12.92999  | Utilities | AllPub    | 0.9842141 | \n",
       "| 12.93675  | Utilities | AllPub    | 0.9849005 | \n",
       "| 12.95513  | Utilities | AllPub    | 0.9855868 | \n",
       "| 12.95954  | Utilities | AllPub    | 0.9862732 | \n",
       "| 12.96219  | Utilities | AllPub    | 0.9869595 | \n",
       "| 12.97154  | Utilities | AllPub    | 0.9876458 | \n",
       "| 12.98804  | Utilities | AllPub    | 0.9883322 | \n",
       "| 12.99175  | Utilities | AllPub    | 0.9890185 | \n",
       "| 12.99453  | Utilities | AllPub    | 0.9897049 | \n",
       "| 13.00866  | Utilities | AllPub    | 0.9903912 | \n",
       "| 13.02133  | Utilities | AllPub    | 0.9910776 | \n",
       "| 13.04979  | Utilities | AllPub    | 0.9917639 | \n",
       "| 13.05301  | Utilities | AllPub    | 0.9924502 | \n",
       "| 13.07107  | Utilities | AllPub    | 0.9931366 | \n",
       "| 13.09190  | Utilities | AllPub    | 0.9938229 | \n",
       "| 13.12603  | Utilities | AllPub    | 0.9945093 | \n",
       "| 13.19561  | Utilities | AllPub    | 0.9951956 | \n",
       "| 13.22672  | Utilities | AllPub    | 0.9958819 | \n",
       "| 13.22957  | Utilities | AllPub    | 0.9965683 | \n",
       "| 13.27583  | Utilities | AllPub    | 0.9972546 | \n",
       "| 13.32393  | Utilities | AllPub    | 0.9979410 | \n",
       "| 13.34551  | Utilities | AllPub    | 0.9986273 | \n",
       "| 13.52114  | Utilities | AllPub    | 0.9993137 | \n",
       "| 13.53447  | Utilities | AllPub    | 1.0000000 | \n",
       "| 11.83138  | Utilities | NoSeWa    | 1.0000000 | \n",
       "\n",
       "\n"
      ],
      "text/plain": [
       "      price_log var       value  cdf      \n",
       "1     10.86857  Alley     Grvl   0.02     \n",
       "2     10.97678  Alley     Grvl   0.04     \n",
       "3     11.07442  Alley     Grvl   0.06     \n",
       "4     11.11245  Alley     Grvl   0.08     \n",
       "5     11.19821  Alley     Grvl   0.10     \n",
       "6     11.37366  Alley     Grvl   0.12     \n",
       "7     11.40199  Alley     Grvl   0.14     \n",
       "8     11.40756  Alley     Grvl   0.16     \n",
       "9     11.47730  Alley     Grvl   0.18     \n",
       "10    11.49272  Alley     Grvl   0.20     \n",
       "11    11.51293  Alley     Grvl   0.22     \n",
       "12    11.54248  Alley     Grvl   0.24     \n",
       "13    11.56172  Alley     Grvl   0.26     \n",
       "14    11.57355  Alley     Grvl   0.28     \n",
       "15    11.57590  Alley     Grvl   0.30     \n",
       "16    11.58058  Alley     Grvl   0.32     \n",
       "17    11.60824  Alley     Grvl   0.38     \n",
       "18    11.60824  Alley     Grvl   0.38     \n",
       "19    11.60824  Alley     Grvl   0.38     \n",
       "20    11.64837  Alley     Grvl   0.40     \n",
       "21    11.65269  Alley     Grvl   0.44     \n",
       "22    11.65269  Alley     Grvl   0.44     \n",
       "23    11.66135  Alley     Grvl   0.46     \n",
       "24    11.66993  Alley     Grvl   0.48     \n",
       "25    11.68688  Alley     Grvl   0.50     \n",
       "26    11.69525  Alley     Grvl   0.52     \n",
       "27    11.72804  Alley     Grvl   0.54     \n",
       "28    11.73206  Alley     Grvl   0.56     \n",
       "29    11.73607  Alley     Grvl   0.58     \n",
       "30    11.75979  Alley     Grvl   0.60     \n",
       "⋮     ⋮         ⋮         ⋮      ⋮        \n",
       "64123 12.88713  Utilities AllPub 0.9807824\n",
       "64124 12.90421  Utilities AllPub 0.9814688\n",
       "64125 12.90635  Utilities AllPub 0.9821551\n",
       "64126 12.90669  Utilities AllPub 0.9828415\n",
       "64127 12.92391  Utilities AllPub 0.9835278\n",
       "64128 12.92999  Utilities AllPub 0.9842141\n",
       "64129 12.93675  Utilities AllPub 0.9849005\n",
       "64130 12.95513  Utilities AllPub 0.9855868\n",
       "64131 12.95954  Utilities AllPub 0.9862732\n",
       "64132 12.96219  Utilities AllPub 0.9869595\n",
       "64133 12.97154  Utilities AllPub 0.9876458\n",
       "64134 12.98804  Utilities AllPub 0.9883322\n",
       "64135 12.99175  Utilities AllPub 0.9890185\n",
       "64136 12.99453  Utilities AllPub 0.9897049\n",
       "64137 13.00866  Utilities AllPub 0.9903912\n",
       "64138 13.02133  Utilities AllPub 0.9910776\n",
       "64139 13.04979  Utilities AllPub 0.9917639\n",
       "64140 13.05301  Utilities AllPub 0.9924502\n",
       "64141 13.07107  Utilities AllPub 0.9931366\n",
       "64142 13.09190  Utilities AllPub 0.9938229\n",
       "64143 13.12603  Utilities AllPub 0.9945093\n",
       "64144 13.19561  Utilities AllPub 0.9951956\n",
       "64145 13.22672  Utilities AllPub 0.9958819\n",
       "64146 13.22957  Utilities AllPub 0.9965683\n",
       "64147 13.27583  Utilities AllPub 0.9972546\n",
       "64148 13.32393  Utilities AllPub 0.9979410\n",
       "64149 13.34551  Utilities AllPub 0.9986273\n",
       "64150 13.52114  Utilities AllPub 0.9993137\n",
       "64151 13.53447  Utilities AllPub 1.0000000\n",
       "64152 11.83138  Utilities NoSeWa 1.0000000"
      ]
     },
     "metadata": {},
     "output_type": "display_data"
    }
   ],
   "source": [
    "combined_dataset %>%\n",
    "select(house_prices$helpers$get_character_colnames(combined_dataset), price_log) %>%\n",
    "filter(!is.na(price_log)) %>%\n",
    "gather(var, value, -price_log) %>%\n",
    "group_by(var, value) %>%\n",
    "mutate(\n",
    "    cdf = cume_dist(price_log)\n",
    ") %>%\n",
    "arrange(var, value, cdf)\n"
   ]
  },
  {
   "cell_type": "code",
   "execution_count": 234,
   "metadata": {},
   "outputs": [
    {
     "data": {
      "text/plain": [
       "Time difference of 0.2407243 secs"
      ]
     },
     "metadata": {},
     "output_type": "display_data"
    },
    {
     "data": {
      "text/plain": [
       "Time difference of 0.2554991 secs"
      ]
     },
     "metadata": {},
     "output_type": "display_data"
    }
   ],
   "source": [
    "source('main.R')\n",
    "\n",
    "start_time <- Sys.time()\n",
    "df1 <- \n",
    "    house_prices$trans$categ$calc_rating_for_selected(\n",
    "        df = combined_dataset, \n",
    "        categ_vars_for_fix = house_prices$helpers$get_character_colnames(combined_dataset),\n",
    "        target_var = price_log\n",
    "    )\n",
    "end_time <- Sys.time()\n",
    "end_time - start_time\n",
    "\n",
    "\n",
    "start_time <- Sys.time()\n",
    "df2 <- \n",
    "    house_prices$trans$categ$calc_rating_for_selected2(\n",
    "        df = combined_dataset, \n",
    "        categ_vars_for_fix = house_prices$helpers$get_character_colnames(combined_dataset),\n",
    "        target_var = price_log\n",
    "    )\n",
    "end_time <- Sys.time()\n",
    "end_time - start_time\n",
    "\n",
    "test_that(\"should be equal ratings\", {\n",
    "    expect_equal(df1, df2)\n",
    "})"
   ]
  },
  {
   "cell_type": "code",
   "execution_count": 235,
   "metadata": {},
   "outputs": [
    {
     "data": {
      "text/html": [
       "<ol class=list-inline>\n",
       "\t<li>'Alley'</li>\n",
       "\t<li>'BldgType'</li>\n",
       "\t<li>'BsmtCond'</li>\n",
       "\t<li>'BsmtExposure'</li>\n",
       "\t<li>'BsmtFinType1'</li>\n",
       "\t<li>'BsmtFinType2'</li>\n",
       "\t<li>'BsmtQual'</li>\n",
       "\t<li>'CentralAir'</li>\n",
       "\t<li>'Condition1'</li>\n",
       "\t<li>'Condition2'</li>\n",
       "\t<li>'Electrical'</li>\n",
       "\t<li>'ExterCond'</li>\n",
       "\t<li>'Exterior1st'</li>\n",
       "\t<li>'Exterior2nd'</li>\n",
       "\t<li>'ExterQual'</li>\n",
       "\t<li>'Fence'</li>\n",
       "\t<li>'FireplaceQu'</li>\n",
       "\t<li>'Foundation'</li>\n",
       "\t<li>'Functional'</li>\n",
       "\t<li>'GarageCond'</li>\n",
       "\t<li>'GarageFinish'</li>\n",
       "\t<li>'GarageQual'</li>\n",
       "\t<li>'GarageType'</li>\n",
       "\t<li>'Heating'</li>\n",
       "\t<li>'HeatingQC'</li>\n",
       "\t<li>'HouseStyle'</li>\n",
       "\t<li>'KitchenQual'</li>\n",
       "\t<li>'LandContour'</li>\n",
       "\t<li>'LandSlope'</li>\n",
       "\t<li>'LotConfig'</li>\n",
       "\t<li>'LotShape'</li>\n",
       "\t<li>'MasVnrType'</li>\n",
       "\t<li>'MiscFeature'</li>\n",
       "\t<li>'MSSubClass'</li>\n",
       "\t<li>'MSZoning'</li>\n",
       "\t<li>'Neighborhood'</li>\n",
       "\t<li>'PavedDrive'</li>\n",
       "\t<li>'PoolQC'</li>\n",
       "\t<li>'RoofMatl'</li>\n",
       "\t<li>'RoofStyle'</li>\n",
       "\t<li>'SaleCondition'</li>\n",
       "\t<li>'SaleType'</li>\n",
       "\t<li>'Street'</li>\n",
       "\t<li>'Utilities'</li>\n",
       "</ol>\n"
      ],
      "text/latex": [
       "\\begin{enumerate*}\n",
       "\\item 'Alley'\n",
       "\\item 'BldgType'\n",
       "\\item 'BsmtCond'\n",
       "\\item 'BsmtExposure'\n",
       "\\item 'BsmtFinType1'\n",
       "\\item 'BsmtFinType2'\n",
       "\\item 'BsmtQual'\n",
       "\\item 'CentralAir'\n",
       "\\item 'Condition1'\n",
       "\\item 'Condition2'\n",
       "\\item 'Electrical'\n",
       "\\item 'ExterCond'\n",
       "\\item 'Exterior1st'\n",
       "\\item 'Exterior2nd'\n",
       "\\item 'ExterQual'\n",
       "\\item 'Fence'\n",
       "\\item 'FireplaceQu'\n",
       "\\item 'Foundation'\n",
       "\\item 'Functional'\n",
       "\\item 'GarageCond'\n",
       "\\item 'GarageFinish'\n",
       "\\item 'GarageQual'\n",
       "\\item 'GarageType'\n",
       "\\item 'Heating'\n",
       "\\item 'HeatingQC'\n",
       "\\item 'HouseStyle'\n",
       "\\item 'KitchenQual'\n",
       "\\item 'LandContour'\n",
       "\\item 'LandSlope'\n",
       "\\item 'LotConfig'\n",
       "\\item 'LotShape'\n",
       "\\item 'MasVnrType'\n",
       "\\item 'MiscFeature'\n",
       "\\item 'MSSubClass'\n",
       "\\item 'MSZoning'\n",
       "\\item 'Neighborhood'\n",
       "\\item 'PavedDrive'\n",
       "\\item 'PoolQC'\n",
       "\\item 'RoofMatl'\n",
       "\\item 'RoofStyle'\n",
       "\\item 'SaleCondition'\n",
       "\\item 'SaleType'\n",
       "\\item 'Street'\n",
       "\\item 'Utilities'\n",
       "\\end{enumerate*}\n"
      ],
      "text/markdown": [
       "1. 'Alley'\n",
       "2. 'BldgType'\n",
       "3. 'BsmtCond'\n",
       "4. 'BsmtExposure'\n",
       "5. 'BsmtFinType1'\n",
       "6. 'BsmtFinType2'\n",
       "7. 'BsmtQual'\n",
       "8. 'CentralAir'\n",
       "9. 'Condition1'\n",
       "10. 'Condition2'\n",
       "11. 'Electrical'\n",
       "12. 'ExterCond'\n",
       "13. 'Exterior1st'\n",
       "14. 'Exterior2nd'\n",
       "15. 'ExterQual'\n",
       "16. 'Fence'\n",
       "17. 'FireplaceQu'\n",
       "18. 'Foundation'\n",
       "19. 'Functional'\n",
       "20. 'GarageCond'\n",
       "21. 'GarageFinish'\n",
       "22. 'GarageQual'\n",
       "23. 'GarageType'\n",
       "24. 'Heating'\n",
       "25. 'HeatingQC'\n",
       "26. 'HouseStyle'\n",
       "27. 'KitchenQual'\n",
       "28. 'LandContour'\n",
       "29. 'LandSlope'\n",
       "30. 'LotConfig'\n",
       "31. 'LotShape'\n",
       "32. 'MasVnrType'\n",
       "33. 'MiscFeature'\n",
       "34. 'MSSubClass'\n",
       "35. 'MSZoning'\n",
       "36. 'Neighborhood'\n",
       "37. 'PavedDrive'\n",
       "38. 'PoolQC'\n",
       "39. 'RoofMatl'\n",
       "40. 'RoofStyle'\n",
       "41. 'SaleCondition'\n",
       "42. 'SaleType'\n",
       "43. 'Street'\n",
       "44. 'Utilities'\n",
       "\n",
       "\n"
      ],
      "text/plain": [
       " [1] \"Alley\"         \"BldgType\"      \"BsmtCond\"      \"BsmtExposure\" \n",
       " [5] \"BsmtFinType1\"  \"BsmtFinType2\"  \"BsmtQual\"      \"CentralAir\"   \n",
       " [9] \"Condition1\"    \"Condition2\"    \"Electrical\"    \"ExterCond\"    \n",
       "[13] \"Exterior1st\"   \"Exterior2nd\"   \"ExterQual\"     \"Fence\"        \n",
       "[17] \"FireplaceQu\"   \"Foundation\"    \"Functional\"    \"GarageCond\"   \n",
       "[21] \"GarageFinish\"  \"GarageQual\"    \"GarageType\"    \"Heating\"      \n",
       "[25] \"HeatingQC\"     \"HouseStyle\"    \"KitchenQual\"   \"LandContour\"  \n",
       "[29] \"LandSlope\"     \"LotConfig\"     \"LotShape\"      \"MasVnrType\"   \n",
       "[33] \"MiscFeature\"   \"MSSubClass\"    \"MSZoning\"      \"Neighborhood\" \n",
       "[37] \"PavedDrive\"    \"PoolQC\"        \"RoofMatl\"      \"RoofStyle\"    \n",
       "[41] \"SaleCondition\" \"SaleType\"      \"Street\"        \"Utilities\"    "
      ]
     },
     "metadata": {},
     "output_type": "display_data"
    },
    {
     "data": {
      "text/plain": [
       "Time difference of 0.2587614 secs"
      ]
     },
     "metadata": {},
     "output_type": "display_data"
    },
    {
     "data": {
      "text/plain": [
       "Time difference of 0.2474027 secs"
      ]
     },
     "metadata": {},
     "output_type": "display_data"
    },
    {
     "data": {
      "text/html": [
       "<table>\n",
       "<thead><tr><th scope=col>var</th><th scope=col>value</th><th scope=col>rating</th></tr></thead>\n",
       "<tbody>\n",
       "\t<tr><td>Alley   </td><td>_none_  </td><td>2.531822</td></tr>\n",
       "\t<tr><td>Alley   </td><td>Grvl    </td><td>1.500000</td></tr>\n",
       "\t<tr><td>Alley   </td><td>Pave    </td><td>2.536585</td></tr>\n",
       "\t<tr><td>BldgType</td><td>1Fam    </td><td>2.564039</td></tr>\n",
       "\t<tr><td>BldgType</td><td>2fmCon  </td><td>1.580645</td></tr>\n",
       "\t<tr><td>BldgType</td><td>Duplex  </td><td>1.692308</td></tr>\n",
       "</tbody>\n",
       "</table>\n"
      ],
      "text/latex": [
       "\\begin{tabular}{r|lll}\n",
       " var & value & rating\\\\\n",
       "\\hline\n",
       "\t Alley      & \\_none\\_ & 2.531822  \\\\\n",
       "\t Alley    & Grvl     & 1.500000\\\\\n",
       "\t Alley    & Pave     & 2.536585\\\\\n",
       "\t BldgType & 1Fam     & 2.564039\\\\\n",
       "\t BldgType & 2fmCon   & 1.580645\\\\\n",
       "\t BldgType & Duplex   & 1.692308\\\\\n",
       "\\end{tabular}\n"
      ],
      "text/markdown": [
       "\n",
       "var | value | rating | \n",
       "|---|---|---|---|---|---|\n",
       "| Alley    | _none_   | 2.531822 | \n",
       "| Alley    | Grvl     | 1.500000 | \n",
       "| Alley    | Pave     | 2.536585 | \n",
       "| BldgType | 1Fam     | 2.564039 | \n",
       "| BldgType | 2fmCon   | 1.580645 | \n",
       "| BldgType | Duplex   | 1.692308 | \n",
       "\n",
       "\n"
      ],
      "text/plain": [
       "  var      value  rating  \n",
       "1 Alley    _none_ 2.531822\n",
       "2 Alley    Grvl   1.500000\n",
       "3 Alley    Pave   2.536585\n",
       "4 BldgType 1Fam   2.564039\n",
       "5 BldgType 2fmCon 1.580645\n",
       "6 BldgType Duplex 1.692308"
      ]
     },
     "metadata": {},
     "output_type": "display_data"
    }
   ],
   "source": [
    "house_prices$helpers$get_character_colnames(combined_dataset)\n",
    "\n",
    "start_time <- Sys.time()\n",
    "rating_for_selected <- \n",
    "    house_prices$trans$categ$calc_rating_for_selected(\n",
    "        df = combined_dataset, \n",
    "        categ_vars_for_fix = house_prices$helpers$get_character_colnames(combined_dataset),\n",
    "        target_var = price_log\n",
    "    )\n",
    "end_time <- Sys.time()\n",
    "end_time - start_time\n",
    "\n",
    "start_time <- Sys.time()\n",
    "ratings_for_all <- \n",
    "    house_prices$trans$categ$calc_rating_for_all(combined_dataset, price_log)\n",
    "end_time <- Sys.time()\n",
    "end_time - start_time\n",
    "\n",
    "test_that(\"should be equal ratings\", {\n",
    "    expect_equal(ratings_for_all, rating_for_selected)\n",
    "})\n",
    "\n",
    "ratings_for_all %>% head"
   ]
  },
  {
   "cell_type": "code",
   "execution_count": 215,
   "metadata": {},
   "outputs": [
    {
     "data": {
      "text/plain": [
       "Time difference of 0.08159423 secs"
      ]
     },
     "metadata": {},
     "output_type": "display_data"
    },
    {
     "data": {
      "text/plain": [
       "Time difference of 0.3141093 secs"
      ]
     },
     "metadata": {},
     "output_type": "display_data"
    }
   ],
   "source": [
    "source('main.R')\n",
    "\n",
    "ratings <- \n",
    "    house_prices$trans$categ$calc_rating_for_all(combined_dataset, price_log)\n",
    "\n",
    "start_time <- Sys.time()\n",
    "df1 <- \n",
    "    house_prices$trans$categ$rating_transform_for_selected(\n",
    "        data = combined_dataset,\n",
    "        columns = house_prices$helpers$get_character_colnames(combined_dataset),\n",
    "        ratings = ratings\n",
    "    )\n",
    "end_time <- Sys.time()\n",
    "end_time - start_time\n",
    "\n",
    "start_time <- Sys.time()\n",
    "df2 <- \n",
    "    house_prices$trans$categ$rating_transform(\n",
    "        combined_dataset,\n",
    "        price_log\n",
    "    )\n",
    "end_time <- Sys.time()\n",
    "end_time - start_time\n",
    "\n",
    "test_that(\"should be equal\", {\n",
    "    expect_equal(df1, df2)\n",
    "})"
   ]
  },
  {
   "cell_type": "code",
   "execution_count": 211,
   "metadata": {},
   "outputs": [
    {
     "data": {
      "text/plain": [
       "Time difference of 0.06634045 secs"
      ]
     },
     "metadata": {},
     "output_type": "display_data"
    },
    {
     "data": {
      "text/plain": [
       "Time difference of 0.7593565 secs"
      ]
     },
     "metadata": {},
     "output_type": "display_data"
    },
    {
     "data": {
      "text/plain": [
       "Time difference of 0.6167548 secs"
      ]
     },
     "metadata": {},
     "output_type": "display_data"
    }
   ],
   "source": [
    "source('main.R')\n",
    "\n",
    "ratings <- \n",
    "    house_prices$trans$categ$calc_rating_for_all(combined_dataset, price_log)\n",
    "\n",
    "start_time <- Sys.time()\n",
    "df1 <- \n",
    "    house_prices$trans$categ$rating_transform_for_selected(\n",
    "        data = combined_dataset,\n",
    "        columns = house_prices$helpers$get_character_colnames(combined_dataset),\n",
    "        ratings = ratings\n",
    "    )\n",
    "end_time <- Sys.time()\n",
    "end_time - start_time\n",
    "\n",
    "\n",
    "start_time <- Sys.time()\n",
    "df2 <-\n",
    "    house_prices$trans$categ$rating_transform_for_selected2(\n",
    "        data = combined_dataset,\n",
    "        columns = house_prices$helpers$get_character_colnames(combined_dataset),\n",
    "        ratings = ratings\n",
    "    )\n",
    "end_time <- Sys.time()\n",
    "end_time - start_time\n",
    "\n",
    "\n",
    "start_time <- Sys.time()\n",
    "df3 <-\n",
    "    house_prices$trans$categ$rating_transform_for_selected3(\n",
    "        data = combined_dataset,\n",
    "        columns = house_prices$helpers$get_character_colnames(combined_dataset),\n",
    "        ratings = ratings\n",
    "    )\n",
    "end_time <- Sys.time()\n",
    "end_time - start_time\n",
    "\n",
    "\n",
    "test_that(\"should be equal\", {\n",
    "    expect_equal(df1, df2)\n",
    "})\n",
    "\n",
    "test_that(\"should be equal\", {\n",
    "    expect_equal(df1, df3)\n",
    "})"
   ]
  },
  {
   "cell_type": "code",
   "execution_count": null,
   "metadata": {
    "collapsed": true
   },
   "outputs": [],
   "source": []
  },
  {
   "cell_type": "code",
   "execution_count": null,
   "metadata": {},
   "outputs": [],
   "source": []
  },
  {
   "cell_type": "code",
   "execution_count": 188,
   "metadata": {
    "cell_style": "split"
   },
   "outputs": [
    {
     "data": {
      "text/html": [
       "<table>\n",
       "<thead><tr><th scope=col>x</th><th scope=col>y</th></tr></thead>\n",
       "<tbody>\n",
       "\t<tr><td>a</td><td>1</td></tr>\n",
       "\t<tr><td>a</td><td>2</td></tr>\n",
       "\t<tr><td>b</td><td>3</td></tr>\n",
       "\t<tr><td>b</td><td>4</td></tr>\n",
       "</tbody>\n",
       "</table>\n"
      ],
      "text/latex": [
       "\\begin{tabular}{r|ll}\n",
       " x & y\\\\\n",
       "\\hline\n",
       "\t a & 1\\\\\n",
       "\t a & 2\\\\\n",
       "\t b & 3\\\\\n",
       "\t b & 4\\\\\n",
       "\\end{tabular}\n"
      ],
      "text/markdown": [
       "\n",
       "x | y | \n",
       "|---|---|---|---|\n",
       "| a | 1 | \n",
       "| a | 2 | \n",
       "| b | 3 | \n",
       "| b | 4 | \n",
       "\n",
       "\n"
      ],
      "text/plain": [
       "  x y\n",
       "1 a 1\n",
       "2 a 2\n",
       "3 b 3\n",
       "4 b 4"
      ]
     },
     "metadata": {},
     "output_type": "display_data"
    },
    {
     "ename": "ERROR",
     "evalue": "Error: Duplicate identifiers for rows (1, 2), (3, 4)\n",
     "output_type": "error",
     "traceback": [
      "Error: Duplicate identifiers for rows (1, 2), (3, 4)\nTraceback:\n",
      "1. aaa %>% spread(x, y)",
      "2. withVisible(eval(quote(`_fseq`(`_lhs`)), env, env))",
      "3. eval(quote(`_fseq`(`_lhs`)), env, env)",
      "4. eval(quote(`_fseq`(`_lhs`)), env, env)",
      "5. `_fseq`(`_lhs`)",
      "6. freduce(value, `_function_list`)",
      "7. withVisible(function_list[[k]](value))",
      "8. function_list[[k]](value)",
      "9. spread(., x, y)",
      "10. spread_(data, key_col, value_col, fill = fill, convert = convert, \n  .     drop = drop, sep = sep)",
      "11. spread_.tbl_df(data, key_col, value_col, fill = fill, convert = convert, \n  .     drop = drop, sep = sep)",
      "12. as_data_frame(NextMethod())",
      "13. NextMethod()",
      "14. spread_.data.frame(data, key_col, value_col, fill = fill, convert = convert, \n  .     drop = drop, sep = sep)",
      "15. stop(\"Duplicate identifiers for rows \", paste(str, collapse = \", \"), \n  .     call. = FALSE)"
     ]
    }
   ],
   "source": [
    "aaa <- data_frame(x = c('a', 'a', 'b', 'b'), \n",
    "                  y = 1:4)\n",
    "aaa\n",
    "aaa %>% spread(x, y)"
   ]
  },
  {
   "cell_type": "code",
   "execution_count": 186,
   "metadata": {
    "cell_style": "split"
   },
   "outputs": [
    {
     "data": {
      "text/html": [
       "<table>\n",
       "<thead><tr><th scope=col>i</th><th scope=col>a</th><th scope=col>b</th></tr></thead>\n",
       "<tbody>\n",
       "\t<tr><td>1</td><td>1</td><td>3</td></tr>\n",
       "\t<tr><td>2</td><td>2</td><td>4</td></tr>\n",
       "</tbody>\n",
       "</table>\n"
      ],
      "text/latex": [
       "\\begin{tabular}{r|lll}\n",
       " i & a & b\\\\\n",
       "\\hline\n",
       "\t 1 & 1 & 3\\\\\n",
       "\t 2 & 2 & 4\\\\\n",
       "\\end{tabular}\n"
      ],
      "text/markdown": [
       "\n",
       "i | a | b | \n",
       "|---|---|\n",
       "| 1 | 1 | 3 | \n",
       "| 2 | 2 | 4 | \n",
       "\n",
       "\n"
      ],
      "text/plain": [
       "  i a b\n",
       "1 1 1 3\n",
       "2 2 2 4"
      ]
     },
     "metadata": {},
     "output_type": "display_data"
    }
   ],
   "source": [
    "aaa %>% \n",
    "group_by(x) %>% \n",
    "mutate(i = row_number()) %>% \n",
    "spread(x, y)"
   ]
  },
  {
   "cell_type": "code",
   "execution_count": null,
   "metadata": {
    "cell_style": "split"
   },
   "outputs": [],
   "source": []
  },
  {
   "cell_type": "code",
   "execution_count": null,
   "metadata": {
    "cell_style": "split",
    "collapsed": true
   },
   "outputs": [],
   "source": []
  },
  {
   "cell_type": "code",
   "execution_count": 183,
   "metadata": {
    "collapsed": true
   },
   "outputs": [],
   "source": [
    "?dcast"
   ]
  },
  {
   "cell_type": "code",
   "execution_count": null,
   "metadata": {
    "collapsed": true
   },
   "outputs": [],
   "source": []
  },
  {
   "cell_type": "code",
   "execution_count": null,
   "metadata": {
    "collapsed": true
   },
   "outputs": [],
   "source": []
  },
  {
   "cell_type": "code",
   "execution_count": null,
   "metadata": {
    "collapsed": true
   },
   "outputs": [],
   "source": []
  },
  {
   "cell_type": "code",
   "execution_count": null,
   "metadata": {
    "collapsed": true
   },
   "outputs": [],
   "source": []
  },
  {
   "cell_type": "code",
   "execution_count": null,
   "metadata": {
    "collapsed": true
   },
   "outputs": [],
   "source": []
  },
  {
   "cell_type": "code",
   "execution_count": null,
   "metadata": {
    "collapsed": true
   },
   "outputs": [],
   "source": []
  }
 ],
 "metadata": {
  "kernelspec": {
   "display_name": "R",
   "language": "R",
   "name": "ir"
  },
  "language_info": {
   "codemirror_mode": "r",
   "file_extension": ".r",
   "mimetype": "text/x-r-source",
   "name": "R",
   "pygments_lexer": "r",
   "version": "3.4.2"
  }
 },
 "nbformat": 4,
 "nbformat_minor": 2
}
