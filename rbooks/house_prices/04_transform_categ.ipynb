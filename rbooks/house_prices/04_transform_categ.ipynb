{
 "cells": [
  {
   "cell_type": "code",
   "execution_count": 1,
   "metadata": {},
   "outputs": [
    {
     "data": {
      "text/html": [
       "'/mnt/hdd/develop/kaggle/R_sources/house_prices'"
      ],
      "text/latex": [
       "'/mnt/hdd/develop/kaggle/R\\_sources/house\\_prices'"
      ],
      "text/markdown": [
       "'/mnt/hdd/develop/kaggle/R_sources/house_prices'"
      ],
      "text/plain": [
       "[1] \"/mnt/hdd/develop/kaggle/R_sources/house_prices\""
      ]
     },
     "metadata": {},
     "output_type": "display_data"
    }
   ],
   "source": [
    "setwd(paste0(Sys.getenv('R_SOURCES'), '/house_prices'))\n",
    "getwd()"
   ]
  },
  {
   "cell_type": "code",
   "execution_count": 67,
   "metadata": {},
   "outputs": [],
   "source": [
    "source('main.R')\n",
    "house_prices$helpers$import_libs()\n",
    "\n",
    "combined_dataset <-\n",
    "    house_prices$helpers$load_data() %>%\n",
    "    (house_prices$outliers$remove_outliers) %>%\n",
    "    (house_prices$missing$categ$replace_with_most_common) %>%\n",
    "    (house_prices$missing$categ$fix_valid) %>%\n",
    "    (house_prices$missing$numeric$replace_with_zero) %>%\n",
    "    mutate(\n",
    "        price_log = log(SalePrice)\n",
    "    ) %>%\n",
    "    select(-SalePrice, -Id)\n",
    "\n",
    "training_dataset <- \n",
    "    combined_dataset %>% \n",
    "    filter(dataSource == 'train')\n",
    "\n",
    "\n",
    "test_that(\"should be no NA values except SalePrice column\", {\n",
    "    expect_equal(sum(is.na(combined_dataset %>% select(-price_log))), 0)\n",
    "})\n",
    "\n",
    "test_that(\"should be no NA values in training_dataset\", {\n",
    "    expect_equal(sum(is.na(training_dataset)), 0)\n",
    "})"
   ]
  },
  {
   "cell_type": "code",
   "execution_count": 31,
   "metadata": {},
   "outputs": [
    {
     "data": {
      "text/html": [
       "<ol class=list-inline>\n",
       "\t<li>'Alley'</li>\n",
       "\t<li>'BldgType'</li>\n",
       "\t<li>'BsmtCond'</li>\n",
       "\t<li>'BsmtExposure'</li>\n",
       "\t<li>'BsmtFinType1'</li>\n",
       "\t<li>'BsmtFinType2'</li>\n",
       "\t<li>'BsmtQual'</li>\n",
       "\t<li>'CentralAir'</li>\n",
       "\t<li>'Condition1'</li>\n",
       "\t<li>'Condition2'</li>\n",
       "\t<li>'Electrical'</li>\n",
       "\t<li>'ExterCond'</li>\n",
       "\t<li>'Exterior1st'</li>\n",
       "\t<li>'Exterior2nd'</li>\n",
       "\t<li>'ExterQual'</li>\n",
       "\t<li>'Fence'</li>\n",
       "\t<li>'FireplaceQu'</li>\n",
       "\t<li>'Foundation'</li>\n",
       "\t<li>'Functional'</li>\n",
       "\t<li>'GarageCond'</li>\n",
       "\t<li>'GarageFinish'</li>\n",
       "\t<li>'GarageQual'</li>\n",
       "\t<li>'GarageType'</li>\n",
       "\t<li>'Heating'</li>\n",
       "\t<li>'HeatingQC'</li>\n",
       "\t<li>'HouseStyle'</li>\n",
       "\t<li>'KitchenQual'</li>\n",
       "\t<li>'LandContour'</li>\n",
       "\t<li>'LandSlope'</li>\n",
       "\t<li>'LotConfig'</li>\n",
       "\t<li>'LotShape'</li>\n",
       "\t<li>'MasVnrType'</li>\n",
       "\t<li>'MiscFeature'</li>\n",
       "\t<li>'MSSubClass'</li>\n",
       "\t<li>'MSZoning'</li>\n",
       "\t<li>'Neighborhood'</li>\n",
       "\t<li>'PavedDrive'</li>\n",
       "\t<li>'PoolQC'</li>\n",
       "\t<li>'RoofMatl'</li>\n",
       "\t<li>'RoofStyle'</li>\n",
       "\t<li>'SaleCondition'</li>\n",
       "\t<li>'SaleType'</li>\n",
       "\t<li>'Street'</li>\n",
       "\t<li>'Utilities'</li>\n",
       "</ol>\n"
      ],
      "text/latex": [
       "\\begin{enumerate*}\n",
       "\\item 'Alley'\n",
       "\\item 'BldgType'\n",
       "\\item 'BsmtCond'\n",
       "\\item 'BsmtExposure'\n",
       "\\item 'BsmtFinType1'\n",
       "\\item 'BsmtFinType2'\n",
       "\\item 'BsmtQual'\n",
       "\\item 'CentralAir'\n",
       "\\item 'Condition1'\n",
       "\\item 'Condition2'\n",
       "\\item 'Electrical'\n",
       "\\item 'ExterCond'\n",
       "\\item 'Exterior1st'\n",
       "\\item 'Exterior2nd'\n",
       "\\item 'ExterQual'\n",
       "\\item 'Fence'\n",
       "\\item 'FireplaceQu'\n",
       "\\item 'Foundation'\n",
       "\\item 'Functional'\n",
       "\\item 'GarageCond'\n",
       "\\item 'GarageFinish'\n",
       "\\item 'GarageQual'\n",
       "\\item 'GarageType'\n",
       "\\item 'Heating'\n",
       "\\item 'HeatingQC'\n",
       "\\item 'HouseStyle'\n",
       "\\item 'KitchenQual'\n",
       "\\item 'LandContour'\n",
       "\\item 'LandSlope'\n",
       "\\item 'LotConfig'\n",
       "\\item 'LotShape'\n",
       "\\item 'MasVnrType'\n",
       "\\item 'MiscFeature'\n",
       "\\item 'MSSubClass'\n",
       "\\item 'MSZoning'\n",
       "\\item 'Neighborhood'\n",
       "\\item 'PavedDrive'\n",
       "\\item 'PoolQC'\n",
       "\\item 'RoofMatl'\n",
       "\\item 'RoofStyle'\n",
       "\\item 'SaleCondition'\n",
       "\\item 'SaleType'\n",
       "\\item 'Street'\n",
       "\\item 'Utilities'\n",
       "\\end{enumerate*}\n"
      ],
      "text/markdown": [
       "1. 'Alley'\n",
       "2. 'BldgType'\n",
       "3. 'BsmtCond'\n",
       "4. 'BsmtExposure'\n",
       "5. 'BsmtFinType1'\n",
       "6. 'BsmtFinType2'\n",
       "7. 'BsmtQual'\n",
       "8. 'CentralAir'\n",
       "9. 'Condition1'\n",
       "10. 'Condition2'\n",
       "11. 'Electrical'\n",
       "12. 'ExterCond'\n",
       "13. 'Exterior1st'\n",
       "14. 'Exterior2nd'\n",
       "15. 'ExterQual'\n",
       "16. 'Fence'\n",
       "17. 'FireplaceQu'\n",
       "18. 'Foundation'\n",
       "19. 'Functional'\n",
       "20. 'GarageCond'\n",
       "21. 'GarageFinish'\n",
       "22. 'GarageQual'\n",
       "23. 'GarageType'\n",
       "24. 'Heating'\n",
       "25. 'HeatingQC'\n",
       "26. 'HouseStyle'\n",
       "27. 'KitchenQual'\n",
       "28. 'LandContour'\n",
       "29. 'LandSlope'\n",
       "30. 'LotConfig'\n",
       "31. 'LotShape'\n",
       "32. 'MasVnrType'\n",
       "33. 'MiscFeature'\n",
       "34. 'MSSubClass'\n",
       "35. 'MSZoning'\n",
       "36. 'Neighborhood'\n",
       "37. 'PavedDrive'\n",
       "38. 'PoolQC'\n",
       "39. 'RoofMatl'\n",
       "40. 'RoofStyle'\n",
       "41. 'SaleCondition'\n",
       "42. 'SaleType'\n",
       "43. 'Street'\n",
       "44. 'Utilities'\n",
       "\n",
       "\n"
      ],
      "text/plain": [
       " [1] \"Alley\"         \"BldgType\"      \"BsmtCond\"      \"BsmtExposure\" \n",
       " [5] \"BsmtFinType1\"  \"BsmtFinType2\"  \"BsmtQual\"      \"CentralAir\"   \n",
       " [9] \"Condition1\"    \"Condition2\"    \"Electrical\"    \"ExterCond\"    \n",
       "[13] \"Exterior1st\"   \"Exterior2nd\"   \"ExterQual\"     \"Fence\"        \n",
       "[17] \"FireplaceQu\"   \"Foundation\"    \"Functional\"    \"GarageCond\"   \n",
       "[21] \"GarageFinish\"  \"GarageQual\"    \"GarageType\"    \"Heating\"      \n",
       "[25] \"HeatingQC\"     \"HouseStyle\"    \"KitchenQual\"   \"LandContour\"  \n",
       "[29] \"LandSlope\"     \"LotConfig\"     \"LotShape\"      \"MasVnrType\"   \n",
       "[33] \"MiscFeature\"   \"MSSubClass\"    \"MSZoning\"      \"Neighborhood\" \n",
       "[37] \"PavedDrive\"    \"PoolQC\"        \"RoofMatl\"      \"RoofStyle\"    \n",
       "[41] \"SaleCondition\" \"SaleType\"      \"Street\"        \"Utilities\"    "
      ]
     },
     "metadata": {},
     "output_type": "display_data"
    },
    {
     "data": {
      "text/plain": [
       "Time difference of 0.2551982 secs"
      ]
     },
     "metadata": {},
     "output_type": "display_data"
    },
    {
     "data": {
      "text/plain": [
       "Time difference of 0.3786795 secs"
      ]
     },
     "metadata": {},
     "output_type": "display_data"
    },
    {
     "data": {
      "text/html": [
       "<table>\n",
       "<thead><tr><th scope=col>var</th><th scope=col>value</th><th scope=col>rating</th></tr></thead>\n",
       "<tbody>\n",
       "\t<tr><td>Alley   </td><td>_none_  </td><td>2.531822</td></tr>\n",
       "\t<tr><td>Alley   </td><td>Grvl    </td><td>1.500000</td></tr>\n",
       "\t<tr><td>Alley   </td><td>Pave    </td><td>2.536585</td></tr>\n",
       "\t<tr><td>BldgType</td><td>1Fam    </td><td>2.564039</td></tr>\n",
       "\t<tr><td>BldgType</td><td>2fmCon  </td><td>1.580645</td></tr>\n",
       "\t<tr><td>BldgType</td><td>Duplex  </td><td>1.692308</td></tr>\n",
       "</tbody>\n",
       "</table>\n"
      ],
      "text/latex": [
       "\\begin{tabular}{r|lll}\n",
       " var & value & rating\\\\\n",
       "\\hline\n",
       "\t Alley      & \\_none\\_ & 2.531822  \\\\\n",
       "\t Alley    & Grvl     & 1.500000\\\\\n",
       "\t Alley    & Pave     & 2.536585\\\\\n",
       "\t BldgType & 1Fam     & 2.564039\\\\\n",
       "\t BldgType & 2fmCon   & 1.580645\\\\\n",
       "\t BldgType & Duplex   & 1.692308\\\\\n",
       "\\end{tabular}\n"
      ],
      "text/markdown": [
       "\n",
       "var | value | rating | \n",
       "|---|---|---|---|---|---|\n",
       "| Alley    | _none_   | 2.531822 | \n",
       "| Alley    | Grvl     | 1.500000 | \n",
       "| Alley    | Pave     | 2.536585 | \n",
       "| BldgType | 1Fam     | 2.564039 | \n",
       "| BldgType | 2fmCon   | 1.580645 | \n",
       "| BldgType | Duplex   | 1.692308 | \n",
       "\n",
       "\n"
      ],
      "text/plain": [
       "  var      value  rating  \n",
       "1 Alley    _none_ 2.531822\n",
       "2 Alley    Grvl   1.500000\n",
       "3 Alley    Pave   2.536585\n",
       "4 BldgType 1Fam   2.564039\n",
       "5 BldgType 2fmCon 1.580645\n",
       "6 BldgType Duplex 1.692308"
      ]
     },
     "metadata": {},
     "output_type": "display_data"
    }
   ],
   "source": [
    "source('main.R')\n",
    "\n",
    "house_prices$helpers$get_character_colnames(combined_dataset)\n",
    "\n",
    "start_time <- Sys.time()\n",
    "rating_for_selected <- \n",
    "    house_prices$trans$categ$calc_rating_for_selected(\n",
    "        df = combined_dataset, \n",
    "        categ_vars_for_fix = house_prices$helpers$get_character_colnames(combined_dataset),\n",
    "        target_var = price_log\n",
    "    )\n",
    "end_time <- Sys.time()\n",
    "end_time - start_time\n",
    "\n",
    "start_time <- Sys.time()\n",
    "ratings_for_all <- \n",
    "    house_prices$trans$categ$calc_rating_for_all(combined_dataset, price_log)\n",
    "end_time <- Sys.time()\n",
    "end_time - start_time\n",
    "\n",
    "test_that(\"should be equal ratings\", {\n",
    "    expect_equal(ratings_for_all, rating_for_selected)\n",
    "})\n",
    "\n",
    "ratings_for_all %>% head"
   ]
  },
  {
   "cell_type": "code",
   "execution_count": 263,
   "metadata": {},
   "outputs": [
    {
     "data": {
      "text/plain": [
       "Time difference of 0.08403301 secs"
      ]
     },
     "metadata": {},
     "output_type": "display_data"
    },
    {
     "data": {
      "text/plain": [
       "Time difference of 0.316828 secs"
      ]
     },
     "metadata": {},
     "output_type": "display_data"
    }
   ],
   "source": [
    "source('main.R')\n",
    "\n",
    "ratings <- \n",
    "    house_prices$trans$categ$calc_rating_for_all(combined_dataset, price_log)\n",
    "\n",
    "start_time <- Sys.time()\n",
    "df1 <- \n",
    "    house_prices$trans$categ$rating_transform_for_selected(\n",
    "        data = combined_dataset,\n",
    "        columns = house_prices$helpers$get_character_colnames(combined_dataset),\n",
    "        ratings = ratings\n",
    "    )\n",
    "end_time <- Sys.time()\n",
    "end_time - start_time\n",
    "\n",
    "start_time <- Sys.time()\n",
    "df2 <- \n",
    "    house_prices$trans$categ$rating_transform(\n",
    "        combined_dataset,\n",
    "        price_log\n",
    "    )\n",
    "end_time <- Sys.time()\n",
    "end_time - start_time\n",
    "\n",
    "test_that(\"should be equal\", {\n",
    "    expect_equal(df1, df2)\n",
    "})"
   ]
  },
  {
   "cell_type": "code",
   "execution_count": 264,
   "metadata": {},
   "outputs": [
    {
     "data": {
      "text/plain": [
       "Time difference of 0.07696009 secs"
      ]
     },
     "metadata": {},
     "output_type": "display_data"
    },
    {
     "data": {
      "text/plain": [
       "Time difference of 0.9548082 secs"
      ]
     },
     "metadata": {},
     "output_type": "display_data"
    },
    {
     "data": {
      "text/plain": [
       "Time difference of 0.6622899 secs"
      ]
     },
     "metadata": {},
     "output_type": "display_data"
    }
   ],
   "source": [
    "source('main.R')\n",
    "\n",
    "ratings <- \n",
    "    house_prices$trans$categ$calc_rating_for_all(combined_dataset, price_log)\n",
    "\n",
    "start_time <- Sys.time()\n",
    "df1 <- \n",
    "    house_prices$trans$categ$rating_transform_for_selected(\n",
    "        data = combined_dataset,\n",
    "        columns = house_prices$helpers$get_character_colnames(combined_dataset),\n",
    "        ratings = ratings\n",
    "    )\n",
    "end_time <- Sys.time()\n",
    "end_time - start_time\n",
    "\n",
    "\n",
    "start_time <- Sys.time()\n",
    "df2 <-\n",
    "    house_prices$trans$categ$rating_transform_for_selected2(\n",
    "        data = combined_dataset,\n",
    "        columns = house_prices$helpers$get_character_colnames(combined_dataset),\n",
    "        ratings = ratings\n",
    "    )\n",
    "end_time <- Sys.time()\n",
    "end_time - start_time\n",
    "\n",
    "\n",
    "start_time <- Sys.time()\n",
    "df3 <-\n",
    "    house_prices$trans$categ$rating_transform_for_selected3(\n",
    "        data = combined_dataset,\n",
    "        columns = house_prices$helpers$get_character_colnames(combined_dataset),\n",
    "        ratings = ratings\n",
    "    )\n",
    "end_time <- Sys.time()\n",
    "end_time - start_time\n",
    "\n",
    "\n",
    "test_that(\"should be equal\", {\n",
    "    expect_equal(df1, df2)\n",
    "})\n",
    "\n",
    "test_that(\"should be equal\", {\n",
    "    expect_equal(df1, df3)\n",
    "})"
   ]
  },
  {
   "cell_type": "code",
   "execution_count": null,
   "metadata": {
    "collapsed": true
   },
   "outputs": [],
   "source": []
  },
  {
   "cell_type": "code",
   "execution_count": null,
   "metadata": {},
   "outputs": [],
   "source": []
  },
  {
   "cell_type": "code",
   "execution_count": null,
   "metadata": {
    "collapsed": true
   },
   "outputs": [],
   "source": []
  },
  {
   "cell_type": "code",
   "execution_count": null,
   "metadata": {
    "collapsed": true
   },
   "outputs": [],
   "source": []
  },
  {
   "cell_type": "code",
   "execution_count": null,
   "metadata": {
    "collapsed": true
   },
   "outputs": [],
   "source": []
  },
  {
   "cell_type": "code",
   "execution_count": null,
   "metadata": {
    "collapsed": true
   },
   "outputs": [],
   "source": []
  },
  {
   "cell_type": "code",
   "execution_count": null,
   "metadata": {
    "collapsed": true
   },
   "outputs": [],
   "source": []
  },
  {
   "cell_type": "code",
   "execution_count": null,
   "metadata": {
    "collapsed": true
   },
   "outputs": [],
   "source": []
  },
  {
   "cell_type": "code",
   "execution_count": null,
   "metadata": {
    "cell_style": "center",
    "collapsed": true
   },
   "outputs": [],
   "source": []
  },
  {
   "cell_type": "code",
   "execution_count": null,
   "metadata": {
    "cell_style": "center",
    "collapsed": true
   },
   "outputs": [],
   "source": []
  },
  {
   "cell_type": "code",
   "execution_count": null,
   "metadata": {
    "collapsed": true
   },
   "outputs": [],
   "source": []
  },
  {
   "cell_type": "code",
   "execution_count": null,
   "metadata": {
    "collapsed": true
   },
   "outputs": [],
   "source": []
  },
  {
   "cell_type": "code",
   "execution_count": null,
   "metadata": {
    "collapsed": true
   },
   "outputs": [],
   "source": []
  },
  {
   "cell_type": "code",
   "execution_count": null,
   "metadata": {
    "collapsed": true
   },
   "outputs": [],
   "source": []
  },
  {
   "cell_type": "code",
   "execution_count": null,
   "metadata": {
    "collapsed": true
   },
   "outputs": [],
   "source": []
  },
  {
   "cell_type": "code",
   "execution_count": null,
   "metadata": {
    "collapsed": true
   },
   "outputs": [],
   "source": []
  }
 ],
 "metadata": {
  "kernelspec": {
   "display_name": "R",
   "language": "R",
   "name": "ir"
  },
  "language_info": {
   "codemirror_mode": "r",
   "file_extension": ".r",
   "mimetype": "text/x-r-source",
   "name": "R",
   "pygments_lexer": "r",
   "version": "3.4.2"
  }
 },
 "nbformat": 4,
 "nbformat_minor": 2
}
