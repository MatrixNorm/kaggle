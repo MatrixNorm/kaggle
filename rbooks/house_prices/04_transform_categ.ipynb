{
 "cells": [
  {
   "cell_type": "code",
   "execution_count": 3,
   "metadata": {},
   "outputs": [
    {
     "data": {
      "text/html": [
       "'/mnt/hdd/develop/kaggle/R_sources/house_prices'"
      ],
      "text/latex": [
       "'/mnt/hdd/develop/kaggle/R\\_sources/house\\_prices'"
      ],
      "text/markdown": [
       "'/mnt/hdd/develop/kaggle/R_sources/house_prices'"
      ],
      "text/plain": [
       "[1] \"/mnt/hdd/develop/kaggle/R_sources/house_prices\""
      ]
     },
     "metadata": {},
     "output_type": "display_data"
    }
   ],
   "source": [
    "setwd(paste0(Sys.getenv('R_SOURCES'), '/house_prices'))\n",
    "getwd()"
   ]
  },
  {
   "cell_type": "code",
   "execution_count": 9,
   "metadata": {},
   "outputs": [],
   "source": [
    "source('main.R')\n",
    "house_prices$helpers$import_libs()\n",
    "\n",
    "combined_dataset <-\n",
    "    house_prices$helpers$load_data() %>%\n",
    "    (house_prices$outliers$remove_outliers) %>%\n",
    "    (house_prices$missing$categ$replace_with_most_common) %>%\n",
    "    (house_prices$missing$categ$fix_valid) %>%\n",
    "    (house_prices$missing$numeric$replace_with_zero) %>%\n",
    "    mutate(\n",
    "        price_log = log(SalePrice)\n",
    "    ) %>%\n",
    "    select(-SalePrice, -Id)\n",
    "\n",
    "training_dataset <- \n",
    "    combined_dataset %>% \n",
    "    filter(dataSource == 'train')\n",
    "\n",
    "\n",
    "test_that(\"should be no NA values except SalePrice column\", {\n",
    "    expect_equal(sum(is.na(combined_dataset %>% select(-price_log))), 0)\n",
    "})\n",
    "\n",
    "test_that(\"should be no NA values in training_dataset\", {\n",
    "    expect_equal(sum(is.na(training_dataset)), 0)\n",
    "})"
   ]
  },
  {
   "cell_type": "code",
   "execution_count": 13,
   "metadata": {},
   "outputs": [
    {
     "data": {
      "text/html": [
       "<ol class=list-inline>\n",
       "\t<li>'Alley'</li>\n",
       "\t<li>'BldgType'</li>\n",
       "\t<li>'BsmtCond'</li>\n",
       "\t<li>'BsmtExposure'</li>\n",
       "\t<li>'BsmtFinType1'</li>\n",
       "\t<li>'BsmtFinType2'</li>\n",
       "\t<li>'BsmtQual'</li>\n",
       "\t<li>'CentralAir'</li>\n",
       "\t<li>'Condition1'</li>\n",
       "\t<li>'Condition2'</li>\n",
       "\t<li>'Electrical'</li>\n",
       "\t<li>'ExterCond'</li>\n",
       "\t<li>'Exterior1st'</li>\n",
       "\t<li>'Exterior2nd'</li>\n",
       "\t<li>'ExterQual'</li>\n",
       "\t<li>'Fence'</li>\n",
       "\t<li>'FireplaceQu'</li>\n",
       "\t<li>'Foundation'</li>\n",
       "\t<li>'Functional'</li>\n",
       "\t<li>'GarageCond'</li>\n",
       "\t<li>'GarageFinish'</li>\n",
       "\t<li>'GarageQual'</li>\n",
       "\t<li>'GarageType'</li>\n",
       "\t<li>'Heating'</li>\n",
       "\t<li>'HeatingQC'</li>\n",
       "\t<li>'HouseStyle'</li>\n",
       "\t<li>'KitchenQual'</li>\n",
       "\t<li>'LandContour'</li>\n",
       "\t<li>'LandSlope'</li>\n",
       "\t<li>'LotConfig'</li>\n",
       "\t<li>'LotShape'</li>\n",
       "\t<li>'MasVnrType'</li>\n",
       "\t<li>'MiscFeature'</li>\n",
       "\t<li>'MSSubClass'</li>\n",
       "\t<li>'MSZoning'</li>\n",
       "\t<li>'Neighborhood'</li>\n",
       "\t<li>'PavedDrive'</li>\n",
       "\t<li>'PoolQC'</li>\n",
       "\t<li>'RoofMatl'</li>\n",
       "\t<li>'RoofStyle'</li>\n",
       "\t<li>'SaleCondition'</li>\n",
       "\t<li>'SaleType'</li>\n",
       "\t<li>'Street'</li>\n",
       "\t<li>'Utilities'</li>\n",
       "</ol>\n"
      ],
      "text/latex": [
       "\\begin{enumerate*}\n",
       "\\item 'Alley'\n",
       "\\item 'BldgType'\n",
       "\\item 'BsmtCond'\n",
       "\\item 'BsmtExposure'\n",
       "\\item 'BsmtFinType1'\n",
       "\\item 'BsmtFinType2'\n",
       "\\item 'BsmtQual'\n",
       "\\item 'CentralAir'\n",
       "\\item 'Condition1'\n",
       "\\item 'Condition2'\n",
       "\\item 'Electrical'\n",
       "\\item 'ExterCond'\n",
       "\\item 'Exterior1st'\n",
       "\\item 'Exterior2nd'\n",
       "\\item 'ExterQual'\n",
       "\\item 'Fence'\n",
       "\\item 'FireplaceQu'\n",
       "\\item 'Foundation'\n",
       "\\item 'Functional'\n",
       "\\item 'GarageCond'\n",
       "\\item 'GarageFinish'\n",
       "\\item 'GarageQual'\n",
       "\\item 'GarageType'\n",
       "\\item 'Heating'\n",
       "\\item 'HeatingQC'\n",
       "\\item 'HouseStyle'\n",
       "\\item 'KitchenQual'\n",
       "\\item 'LandContour'\n",
       "\\item 'LandSlope'\n",
       "\\item 'LotConfig'\n",
       "\\item 'LotShape'\n",
       "\\item 'MasVnrType'\n",
       "\\item 'MiscFeature'\n",
       "\\item 'MSSubClass'\n",
       "\\item 'MSZoning'\n",
       "\\item 'Neighborhood'\n",
       "\\item 'PavedDrive'\n",
       "\\item 'PoolQC'\n",
       "\\item 'RoofMatl'\n",
       "\\item 'RoofStyle'\n",
       "\\item 'SaleCondition'\n",
       "\\item 'SaleType'\n",
       "\\item 'Street'\n",
       "\\item 'Utilities'\n",
       "\\end{enumerate*}\n"
      ],
      "text/markdown": [
       "1. 'Alley'\n",
       "2. 'BldgType'\n",
       "3. 'BsmtCond'\n",
       "4. 'BsmtExposure'\n",
       "5. 'BsmtFinType1'\n",
       "6. 'BsmtFinType2'\n",
       "7. 'BsmtQual'\n",
       "8. 'CentralAir'\n",
       "9. 'Condition1'\n",
       "10. 'Condition2'\n",
       "11. 'Electrical'\n",
       "12. 'ExterCond'\n",
       "13. 'Exterior1st'\n",
       "14. 'Exterior2nd'\n",
       "15. 'ExterQual'\n",
       "16. 'Fence'\n",
       "17. 'FireplaceQu'\n",
       "18. 'Foundation'\n",
       "19. 'Functional'\n",
       "20. 'GarageCond'\n",
       "21. 'GarageFinish'\n",
       "22. 'GarageQual'\n",
       "23. 'GarageType'\n",
       "24. 'Heating'\n",
       "25. 'HeatingQC'\n",
       "26. 'HouseStyle'\n",
       "27. 'KitchenQual'\n",
       "28. 'LandContour'\n",
       "29. 'LandSlope'\n",
       "30. 'LotConfig'\n",
       "31. 'LotShape'\n",
       "32. 'MasVnrType'\n",
       "33. 'MiscFeature'\n",
       "34. 'MSSubClass'\n",
       "35. 'MSZoning'\n",
       "36. 'Neighborhood'\n",
       "37. 'PavedDrive'\n",
       "38. 'PoolQC'\n",
       "39. 'RoofMatl'\n",
       "40. 'RoofStyle'\n",
       "41. 'SaleCondition'\n",
       "42. 'SaleType'\n",
       "43. 'Street'\n",
       "44. 'Utilities'\n",
       "\n",
       "\n"
      ],
      "text/plain": [
       " [1] \"Alley\"         \"BldgType\"      \"BsmtCond\"      \"BsmtExposure\" \n",
       " [5] \"BsmtFinType1\"  \"BsmtFinType2\"  \"BsmtQual\"      \"CentralAir\"   \n",
       " [9] \"Condition1\"    \"Condition2\"    \"Electrical\"    \"ExterCond\"    \n",
       "[13] \"Exterior1st\"   \"Exterior2nd\"   \"ExterQual\"     \"Fence\"        \n",
       "[17] \"FireplaceQu\"   \"Foundation\"    \"Functional\"    \"GarageCond\"   \n",
       "[21] \"GarageFinish\"  \"GarageQual\"    \"GarageType\"    \"Heating\"      \n",
       "[25] \"HeatingQC\"     \"HouseStyle\"    \"KitchenQual\"   \"LandContour\"  \n",
       "[29] \"LandSlope\"     \"LotConfig\"     \"LotShape\"      \"MasVnrType\"   \n",
       "[33] \"MiscFeature\"   \"MSSubClass\"    \"MSZoning\"      \"Neighborhood\" \n",
       "[37] \"PavedDrive\"    \"PoolQC\"        \"RoofMatl\"      \"RoofStyle\"    \n",
       "[41] \"SaleCondition\" \"SaleType\"      \"Street\"        \"Utilities\"    "
      ]
     },
     "metadata": {},
     "output_type": "display_data"
    },
    {
     "data": {
      "text/html": [
       "<table>\n",
       "<thead><tr><th scope=col>var</th><th scope=col>value</th><th scope=col>rating</th></tr></thead>\n",
       "<tbody>\n",
       "\t<tr><td>Alley   </td><td>_none_  </td><td>2.531822</td></tr>\n",
       "\t<tr><td>Alley   </td><td>Grvl    </td><td>1.500000</td></tr>\n",
       "\t<tr><td>Alley   </td><td>Pave    </td><td>2.536585</td></tr>\n",
       "\t<tr><td>BldgType</td><td>1Fam    </td><td>2.564039</td></tr>\n",
       "\t<tr><td>BldgType</td><td>2fmCon  </td><td>1.580645</td></tr>\n",
       "\t<tr><td>BldgType</td><td>Duplex  </td><td>1.692308</td></tr>\n",
       "</tbody>\n",
       "</table>\n"
      ],
      "text/latex": [
       "\\begin{tabular}{r|lll}\n",
       " var & value & rating\\\\\n",
       "\\hline\n",
       "\t Alley      & \\_none\\_ & 2.531822  \\\\\n",
       "\t Alley    & Grvl     & 1.500000\\\\\n",
       "\t Alley    & Pave     & 2.536585\\\\\n",
       "\t BldgType & 1Fam     & 2.564039\\\\\n",
       "\t BldgType & 2fmCon   & 1.580645\\\\\n",
       "\t BldgType & Duplex   & 1.692308\\\\\n",
       "\\end{tabular}\n"
      ],
      "text/markdown": [
       "\n",
       "var | value | rating | \n",
       "|---|---|---|---|---|---|\n",
       "| Alley    | _none_   | 2.531822 | \n",
       "| Alley    | Grvl     | 1.500000 | \n",
       "| Alley    | Pave     | 2.536585 | \n",
       "| BldgType | 1Fam     | 2.564039 | \n",
       "| BldgType | 2fmCon   | 1.580645 | \n",
       "| BldgType | Duplex   | 1.692308 | \n",
       "\n",
       "\n"
      ],
      "text/plain": [
       "  var      value  rating  \n",
       "1 Alley    _none_ 2.531822\n",
       "2 Alley    Grvl   1.500000\n",
       "3 Alley    Pave   2.536585\n",
       "4 BldgType 1Fam   2.564039\n",
       "5 BldgType 2fmCon 1.580645\n",
       "6 BldgType Duplex 1.692308"
      ]
     },
     "metadata": {},
     "output_type": "display_data"
    }
   ],
   "source": [
    "house_prices$helpers$get_character_colnames(combined_dataset)\n",
    "\n",
    "rating_for_selected <- \n",
    "    house_prices$trans$categ$calc_rating_for_selected(\n",
    "        df = combined_dataset, \n",
    "        categ_vars_for_fix = house_prices$helpers$get_character_colnames(combined_dataset),\n",
    "        target_var = price_log\n",
    "    )\n",
    "\n",
    "ratings_for_all <- \n",
    "    house_prices$trans$categ$calc_rating_for_all(combined_dataset, price_log)\n",
    "\n",
    "test_that(\"should be equal ratings\", {\n",
    "    expect_equal(ratings_for_all, rating_for_selected)\n",
    "})\n",
    "\n",
    "ratings_for_all %>% head"
   ]
  },
  {
   "cell_type": "code",
   "execution_count": 56,
   "metadata": {},
   "outputs": [
    {
     "data": {
      "text/html": [
       "<table>\n",
       "<thead><tr><th scope=col>Alley</th><th scope=col>BldgType</th><th scope=col>BsmtCond</th><th scope=col>BsmtExposure</th><th scope=col>BsmtFinType1</th><th scope=col>BsmtFinType2</th><th scope=col>BsmtQual</th><th scope=col>CentralAir</th><th scope=col>Condition1</th><th scope=col>Condition2</th><th scope=col>⋯</th><th scope=col>OpenPorchSF</th><th scope=col>EnclosedPorch</th><th scope=col>X3SsnPorch</th><th scope=col>ScreenPorch</th><th scope=col>PoolArea</th><th scope=col>MiscVal</th><th scope=col>MoSold</th><th scope=col>YrSold</th><th scope=col>dataSource</th><th scope=col>price_log</th></tr></thead>\n",
       "<tbody>\n",
       "\t<tr><td>2.531822</td><td>2.564039</td><td>2.540871</td><td>2.320042</td><td>3.262019</td><td>2.553429</td><td>3.066343</td><td>2.57887 </td><td>2.547619</td><td>2.50277 </td><td>⋯       </td><td>61      </td><td>  0     </td><td>  0     </td><td>0       </td><td>0       </td><td>  0     </td><td> 2      </td><td>2008    </td><td>train   </td><td>12.24769</td></tr>\n",
       "\t<tr><td>2.531822</td><td>2.564039</td><td>2.540871</td><td>3.295455</td><td>2.231818</td><td>2.553429</td><td>3.066343</td><td>2.57887 </td><td>1.987500</td><td>2.50277 </td><td>⋯       </td><td> 0      </td><td>  0     </td><td>  0     </td><td>0       </td><td>0       </td><td>  0     </td><td> 5      </td><td>2007    </td><td>train   </td><td>12.10901</td></tr>\n",
       "\t<tr><td>2.531822</td><td>2.564039</td><td>2.540871</td><td>2.675439</td><td>3.262019</td><td>2.553429</td><td>3.066343</td><td>2.57887 </td><td>2.547619</td><td>2.50277 </td><td>⋯       </td><td>42      </td><td>  0     </td><td>  0     </td><td>0       </td><td>0       </td><td>  0     </td><td> 9      </td><td>2008    </td><td>train   </td><td>12.31717</td></tr>\n",
       "\t<tr><td>2.531822</td><td>2.564039</td><td>3.046154</td><td>2.320042</td><td>2.231818</td><td>2.553429</td><td>1.847458</td><td>2.57887 </td><td>2.547619</td><td>2.50277 </td><td>⋯       </td><td>35      </td><td>272     </td><td>  0     </td><td>0       </td><td>0       </td><td>  0     </td><td> 2      </td><td>2006    </td><td>train   </td><td>11.84940</td></tr>\n",
       "\t<tr><td>2.531822</td><td>2.564039</td><td>2.540871</td><td>2.900452</td><td>3.262019</td><td>2.553429</td><td>3.066343</td><td>2.57887 </td><td>2.547619</td><td>2.50277 </td><td>⋯       </td><td>84      </td><td>  0     </td><td>  0     </td><td>0       </td><td>0       </td><td>  0     </td><td>12      </td><td>2008    </td><td>train   </td><td>12.42922</td></tr>\n",
       "\t<tr><td>2.531822</td><td>2.564039</td><td>2.540871</td><td>2.320042</td><td>3.262019</td><td>2.553429</td><td>3.066343</td><td>2.57887 </td><td>2.547619</td><td>2.50277 </td><td>⋯       </td><td>30      </td><td>  0     </td><td>320     </td><td>0       </td><td>0       </td><td>700     </td><td>10      </td><td>2009    </td><td>train   </td><td>11.87060</td></tr>\n",
       "</tbody>\n",
       "</table>\n"
      ],
      "text/latex": [
       "\\begin{tabular}{r|lllllllllllllllllllllllllllllllllllllllllllllllllllllllllllllllllllllllllllllllll}\n",
       " Alley & BldgType & BsmtCond & BsmtExposure & BsmtFinType1 & BsmtFinType2 & BsmtQual & CentralAir & Condition1 & Condition2 & ⋯ & OpenPorchSF & EnclosedPorch & X3SsnPorch & ScreenPorch & PoolArea & MiscVal & MoSold & YrSold & dataSource & price\\_log\\\\\n",
       "\\hline\n",
       "\t 2.531822 & 2.564039 & 2.540871 & 2.320042 & 3.262019 & 2.553429 & 3.066343 & 2.57887  & 2.547619 & 2.50277  & ⋯        & 61       &   0      &   0      & 0        & 0        &   0      &  2       & 2008     & train    & 12.24769\\\\\n",
       "\t 2.531822 & 2.564039 & 2.540871 & 3.295455 & 2.231818 & 2.553429 & 3.066343 & 2.57887  & 1.987500 & 2.50277  & ⋯        &  0       &   0      &   0      & 0        & 0        &   0      &  5       & 2007     & train    & 12.10901\\\\\n",
       "\t 2.531822 & 2.564039 & 2.540871 & 2.675439 & 3.262019 & 2.553429 & 3.066343 & 2.57887  & 2.547619 & 2.50277  & ⋯        & 42       &   0      &   0      & 0        & 0        &   0      &  9       & 2008     & train    & 12.31717\\\\\n",
       "\t 2.531822 & 2.564039 & 3.046154 & 2.320042 & 2.231818 & 2.553429 & 1.847458 & 2.57887  & 2.547619 & 2.50277  & ⋯        & 35       & 272      &   0      & 0        & 0        &   0      &  2       & 2006     & train    & 11.84940\\\\\n",
       "\t 2.531822 & 2.564039 & 2.540871 & 2.900452 & 3.262019 & 2.553429 & 3.066343 & 2.57887  & 2.547619 & 2.50277  & ⋯        & 84       &   0      &   0      & 0        & 0        &   0      & 12       & 2008     & train    & 12.42922\\\\\n",
       "\t 2.531822 & 2.564039 & 2.540871 & 2.320042 & 3.262019 & 2.553429 & 3.066343 & 2.57887  & 2.547619 & 2.50277  & ⋯        & 30       &   0      & 320      & 0        & 0        & 700      & 10       & 2009     & train    & 11.87060\\\\\n",
       "\\end{tabular}\n"
      ],
      "text/markdown": [
       "\n",
       "Alley | BldgType | BsmtCond | BsmtExposure | BsmtFinType1 | BsmtFinType2 | BsmtQual | CentralAir | Condition1 | Condition2 | ⋯ | OpenPorchSF | EnclosedPorch | X3SsnPorch | ScreenPorch | PoolArea | MiscVal | MoSold | YrSold | dataSource | price_log | \n",
       "|---|---|---|---|---|---|\n",
       "| 2.531822 | 2.564039 | 2.540871 | 2.320042 | 3.262019 | 2.553429 | 3.066343 | 2.57887  | 2.547619 | 2.50277  | ⋯        | 61       |   0      |   0      | 0        | 0        |   0      |  2       | 2008     | train    | 12.24769 | \n",
       "| 2.531822 | 2.564039 | 2.540871 | 3.295455 | 2.231818 | 2.553429 | 3.066343 | 2.57887  | 1.987500 | 2.50277  | ⋯        |  0       |   0      |   0      | 0        | 0        |   0      |  5       | 2007     | train    | 12.10901 | \n",
       "| 2.531822 | 2.564039 | 2.540871 | 2.675439 | 3.262019 | 2.553429 | 3.066343 | 2.57887  | 2.547619 | 2.50277  | ⋯        | 42       |   0      |   0      | 0        | 0        |   0      |  9       | 2008     | train    | 12.31717 | \n",
       "| 2.531822 | 2.564039 | 3.046154 | 2.320042 | 2.231818 | 2.553429 | 1.847458 | 2.57887  | 2.547619 | 2.50277  | ⋯        | 35       | 272      |   0      | 0        | 0        |   0      |  2       | 2006     | train    | 11.84940 | \n",
       "| 2.531822 | 2.564039 | 2.540871 | 2.900452 | 3.262019 | 2.553429 | 3.066343 | 2.57887  | 2.547619 | 2.50277  | ⋯        | 84       |   0      |   0      | 0        | 0        |   0      | 12       | 2008     | train    | 12.42922 | \n",
       "| 2.531822 | 2.564039 | 2.540871 | 2.320042 | 3.262019 | 2.553429 | 3.066343 | 2.57887  | 2.547619 | 2.50277  | ⋯        | 30       |   0      | 320      | 0        | 0        | 700      | 10       | 2009     | train    | 11.87060 | \n",
       "\n",
       "\n"
      ],
      "text/plain": [
       "  Alley    BldgType BsmtCond BsmtExposure BsmtFinType1 BsmtFinType2 BsmtQual\n",
       "1 2.531822 2.564039 2.540871 2.320042     3.262019     2.553429     3.066343\n",
       "2 2.531822 2.564039 2.540871 3.295455     2.231818     2.553429     3.066343\n",
       "3 2.531822 2.564039 2.540871 2.675439     3.262019     2.553429     3.066343\n",
       "4 2.531822 2.564039 3.046154 2.320042     2.231818     2.553429     1.847458\n",
       "5 2.531822 2.564039 2.540871 2.900452     3.262019     2.553429     3.066343\n",
       "6 2.531822 2.564039 2.540871 2.320042     3.262019     2.553429     3.066343\n",
       "  CentralAir Condition1 Condition2 ⋯ OpenPorchSF EnclosedPorch X3SsnPorch\n",
       "1 2.57887    2.547619   2.50277    ⋯ 61            0             0       \n",
       "2 2.57887    1.987500   2.50277    ⋯  0            0             0       \n",
       "3 2.57887    2.547619   2.50277    ⋯ 42            0             0       \n",
       "4 2.57887    2.547619   2.50277    ⋯ 35          272             0       \n",
       "5 2.57887    2.547619   2.50277    ⋯ 84            0             0       \n",
       "6 2.57887    2.547619   2.50277    ⋯ 30            0           320       \n",
       "  ScreenPorch PoolArea MiscVal MoSold YrSold dataSource price_log\n",
       "1 0           0          0      2     2008   train      12.24769 \n",
       "2 0           0          0      5     2007   train      12.10901 \n",
       "3 0           0          0      9     2008   train      12.31717 \n",
       "4 0           0          0      2     2006   train      11.84940 \n",
       "5 0           0          0     12     2008   train      12.42922 \n",
       "6 0           0        700     10     2009   train      11.87060 "
      ]
     },
     "metadata": {},
     "output_type": "display_data"
    }
   ],
   "source": [
    "source('main.R')\n",
    "\n",
    "ratings <- \n",
    "    house_prices$trans$categ$calc_rating_for_all(combined_dataset, price_log)\n",
    "\n",
    "df1 <- \n",
    "    house_prices$trans$categ$rating_transform_for_selected(\n",
    "        data = combined_dataset,\n",
    "        columns = house_prices$helpers$get_character_colnames(combined_dataset),\n",
    "        ratings = ratings\n",
    "    )\n",
    "\n",
    "# df2 <-\n",
    "#     combined_dataset %>%\n",
    "#     house_prices$trans$categ$rating_transform(price_log)\n",
    "\n",
    "\n",
    "# test_that(\"should be equal\", {\n",
    "#     expect_equal(df1, df2)\n",
    "# })\n",
    "df1 %>% head"
   ]
  },
  {
   "cell_type": "code",
   "execution_count": null,
   "metadata": {},
   "outputs": [],
   "source": []
  },
  {
   "cell_type": "code",
   "execution_count": null,
   "metadata": {
    "collapsed": true
   },
   "outputs": [],
   "source": []
  },
  {
   "cell_type": "code",
   "execution_count": 48,
   "metadata": {
    "collapsed": true
   },
   "outputs": [],
   "source": []
  },
  {
   "cell_type": "code",
   "execution_count": null,
   "metadata": {
    "collapsed": true
   },
   "outputs": [],
   "source": []
  },
  {
   "cell_type": "code",
   "execution_count": null,
   "metadata": {
    "collapsed": true
   },
   "outputs": [],
   "source": []
  },
  {
   "cell_type": "code",
   "execution_count": null,
   "metadata": {
    "collapsed": true
   },
   "outputs": [],
   "source": []
  },
  {
   "cell_type": "code",
   "execution_count": null,
   "metadata": {
    "collapsed": true
   },
   "outputs": [],
   "source": []
  },
  {
   "cell_type": "code",
   "execution_count": null,
   "metadata": {
    "collapsed": true
   },
   "outputs": [],
   "source": []
  },
  {
   "cell_type": "code",
   "execution_count": null,
   "metadata": {
    "collapsed": true
   },
   "outputs": [],
   "source": []
  },
  {
   "cell_type": "code",
   "execution_count": null,
   "metadata": {
    "collapsed": true
   },
   "outputs": [],
   "source": []
  },
  {
   "cell_type": "code",
   "execution_count": null,
   "metadata": {
    "collapsed": true
   },
   "outputs": [],
   "source": []
  },
  {
   "cell_type": "code",
   "execution_count": null,
   "metadata": {
    "collapsed": true
   },
   "outputs": [],
   "source": []
  },
  {
   "cell_type": "code",
   "execution_count": null,
   "metadata": {
    "collapsed": true
   },
   "outputs": [],
   "source": []
  }
 ],
 "metadata": {
  "kernelspec": {
   "display_name": "R",
   "language": "R",
   "name": "ir"
  },
  "language_info": {
   "codemirror_mode": "r",
   "file_extension": ".r",
   "mimetype": "text/x-r-source",
   "name": "R",
   "pygments_lexer": "r",
   "version": "3.4.2"
  }
 },
 "nbformat": 4,
 "nbformat_minor": 2
}
