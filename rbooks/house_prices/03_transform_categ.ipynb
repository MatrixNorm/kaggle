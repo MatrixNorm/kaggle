{
 "cells": [
  {
   "cell_type": "code",
   "execution_count": 39,
   "metadata": {},
   "outputs": [
    {
     "data": {
      "text/html": [
       "'/mnt/hdd/develop/kaggle/R_sources/house_prices'"
      ],
      "text/latex": [
       "'/mnt/hdd/develop/kaggle/R\\_sources/house\\_prices'"
      ],
      "text/markdown": [
       "'/mnt/hdd/develop/kaggle/R_sources/house_prices'"
      ],
      "text/plain": [
       "[1] \"/mnt/hdd/develop/kaggle/R_sources/house_prices\""
      ]
     },
     "metadata": {},
     "output_type": "display_data"
    }
   ],
   "source": [
    "setwd(paste0(Sys.getenv('R_SOURCES'), '/house_prices'))\n",
    "getwd()"
   ]
  },
  {
   "cell_type": "code",
   "execution_count": 59,
   "metadata": {},
   "outputs": [],
   "source": [
    "source('main.R')\n",
    "house_prices$helpers$import_libs()\n",
    "\n",
    "combined_dataset <- house_prices$helpers$load_data()\n",
    "\n",
    "combined_dataset_fixed <-\n",
    "    combined_dataset %>%\n",
    "    (house_prices$missing$categ$replace_with_most_common) %>%\n",
    "    (house_prices$missing$categ$fix_valid) %>%\n",
    "    (house_prices$missing$numeric$replace_with_zero)\n",
    "\n",
    "training_dataset <- combined_dataset_fixed %>% filter(dataSource == 'train')\n",
    "\n",
    "\n",
    "test_that(\"should be no NA values in training_dataset\", {\n",
    "    expect_equal(sum(is.na(training_dataset)), 0)\n",
    "})"
   ]
  },
  {
   "cell_type": "code",
   "execution_count": 61,
   "metadata": {},
   "outputs": [
    {
     "data": {
      "text/html": [
       "<ol class=list-inline>\n",
       "\t<li>'Alley'</li>\n",
       "\t<li>'BldgType'</li>\n",
       "\t<li>'BsmtCond'</li>\n",
       "\t<li>'BsmtExposure'</li>\n",
       "\t<li>'BsmtFinType1'</li>\n",
       "\t<li>'BsmtQual'</li>\n",
       "\t<li>'CentralAir'</li>\n",
       "\t<li>'Electrical'</li>\n",
       "\t<li>'Exterior1st'</li>\n",
       "\t<li>'Exterior2nd'</li>\n",
       "\t<li>'ExterQual'</li>\n",
       "\t<li>'Fence'</li>\n",
       "\t<li>'FireplaceQu'</li>\n",
       "\t<li>'Foundation'</li>\n",
       "\t<li>'GarageCond'</li>\n",
       "\t<li>'GarageFinish'</li>\n",
       "\t<li>'GarageQual'</li>\n",
       "\t<li>'GarageType'</li>\n",
       "\t<li>'HeatingQC'</li>\n",
       "\t<li>'HouseStyle'</li>\n",
       "\t<li>'KitchenQual'</li>\n",
       "\t<li>'LandContour'</li>\n",
       "\t<li>'LotConfig'</li>\n",
       "\t<li>'LotShape'</li>\n",
       "\t<li>'MasVnrType'</li>\n",
       "\t<li>'MiscFeature'</li>\n",
       "\t<li>'MSSubClass'</li>\n",
       "\t<li>'MSZoning'</li>\n",
       "\t<li>'Neighborhood'</li>\n",
       "\t<li>'PavedDrive'</li>\n",
       "\t<li>'PoolQC'</li>\n",
       "\t<li>'price_log'</li>\n",
       "\t<li>'RoofStyle'</li>\n",
       "\t<li>'SaleCondition'</li>\n",
       "\t<li>'SaleType'</li>\n",
       "</ol>\n"
      ],
      "text/latex": [
       "\\begin{enumerate*}\n",
       "\\item 'Alley'\n",
       "\\item 'BldgType'\n",
       "\\item 'BsmtCond'\n",
       "\\item 'BsmtExposure'\n",
       "\\item 'BsmtFinType1'\n",
       "\\item 'BsmtQual'\n",
       "\\item 'CentralAir'\n",
       "\\item 'Electrical'\n",
       "\\item 'Exterior1st'\n",
       "\\item 'Exterior2nd'\n",
       "\\item 'ExterQual'\n",
       "\\item 'Fence'\n",
       "\\item 'FireplaceQu'\n",
       "\\item 'Foundation'\n",
       "\\item 'GarageCond'\n",
       "\\item 'GarageFinish'\n",
       "\\item 'GarageQual'\n",
       "\\item 'GarageType'\n",
       "\\item 'HeatingQC'\n",
       "\\item 'HouseStyle'\n",
       "\\item 'KitchenQual'\n",
       "\\item 'LandContour'\n",
       "\\item 'LotConfig'\n",
       "\\item 'LotShape'\n",
       "\\item 'MasVnrType'\n",
       "\\item 'MiscFeature'\n",
       "\\item 'MSSubClass'\n",
       "\\item 'MSZoning'\n",
       "\\item 'Neighborhood'\n",
       "\\item 'PavedDrive'\n",
       "\\item 'PoolQC'\n",
       "\\item 'price\\_log'\n",
       "\\item 'RoofStyle'\n",
       "\\item 'SaleCondition'\n",
       "\\item 'SaleType'\n",
       "\\end{enumerate*}\n"
      ],
      "text/markdown": [
       "1. 'Alley'\n",
       "2. 'BldgType'\n",
       "3. 'BsmtCond'\n",
       "4. 'BsmtExposure'\n",
       "5. 'BsmtFinType1'\n",
       "6. 'BsmtQual'\n",
       "7. 'CentralAir'\n",
       "8. 'Electrical'\n",
       "9. 'Exterior1st'\n",
       "10. 'Exterior2nd'\n",
       "11. 'ExterQual'\n",
       "12. 'Fence'\n",
       "13. 'FireplaceQu'\n",
       "14. 'Foundation'\n",
       "15. 'GarageCond'\n",
       "16. 'GarageFinish'\n",
       "17. 'GarageQual'\n",
       "18. 'GarageType'\n",
       "19. 'HeatingQC'\n",
       "20. 'HouseStyle'\n",
       "21. 'KitchenQual'\n",
       "22. 'LandContour'\n",
       "23. 'LotConfig'\n",
       "24. 'LotShape'\n",
       "25. 'MasVnrType'\n",
       "26. 'MiscFeature'\n",
       "27. 'MSSubClass'\n",
       "28. 'MSZoning'\n",
       "29. 'Neighborhood'\n",
       "30. 'PavedDrive'\n",
       "31. 'PoolQC'\n",
       "32. 'price_log'\n",
       "33. 'RoofStyle'\n",
       "34. 'SaleCondition'\n",
       "35. 'SaleType'\n",
       "\n",
       "\n"
      ],
      "text/plain": [
       " [1] \"Alley\"         \"BldgType\"      \"BsmtCond\"      \"BsmtExposure\" \n",
       " [5] \"BsmtFinType1\"  \"BsmtQual\"      \"CentralAir\"    \"Electrical\"   \n",
       " [9] \"Exterior1st\"   \"Exterior2nd\"   \"ExterQual\"     \"Fence\"        \n",
       "[13] \"FireplaceQu\"   \"Foundation\"    \"GarageCond\"    \"GarageFinish\" \n",
       "[17] \"GarageQual\"    \"GarageType\"    \"HeatingQC\"     \"HouseStyle\"   \n",
       "[21] \"KitchenQual\"   \"LandContour\"   \"LotConfig\"     \"LotShape\"     \n",
       "[25] \"MasVnrType\"    \"MiscFeature\"   \"MSSubClass\"    \"MSZoning\"     \n",
       "[29] \"Neighborhood\"  \"PavedDrive\"    \"PoolQC\"        \"price_log\"    \n",
       "[33] \"RoofStyle\"     \"SaleCondition\" \"SaleType\"     "
      ]
     },
     "metadata": {},
     "output_type": "display_data"
    }
   ],
   "source": [
    "categ_data <- \n",
    "    training_dataset %>%\n",
    "    # select categ vars\n",
    "    select(house_prices$helpers$get_character_colnames(combined_dataset_fixed), SalePrice, -dataSource) %>%\n",
    "    # drop weak categ vars\n",
    "    select(-one_of(house_prices$attributes_selection$discared_cat_vars)) %>%\n",
    "    mutate(\n",
    "        price_log = log(SalePrice)\n",
    "    ) %>%\n",
    "    select(-SalePrice)\n",
    "\n",
    "categ_data %>% colnames %>% sort"
   ]
  },
  {
   "cell_type": "code",
   "execution_count": 103,
   "metadata": {},
   "outputs": [
    {
     "data": {
      "text/html": [
       "<table>\n",
       "<thead><tr><th scope=col>q25</th><th scope=col>q50</th><th scope=col>q75</th></tr></thead>\n",
       "<tbody>\n",
       "\t<tr><td>11.7751 </td><td>12.00151</td><td>12.27373</td></tr>\n",
       "</tbody>\n",
       "</table>\n"
      ],
      "text/latex": [
       "\\begin{tabular}{r|lll}\n",
       " q25 & q50 & q75\\\\\n",
       "\\hline\n",
       "\t 11.7751  & 12.00151 & 12.27373\\\\\n",
       "\\end{tabular}\n"
      ],
      "text/markdown": [
       "\n",
       "q25 | q50 | q75 | \n",
       "|---|\n",
       "| 11.7751  | 12.00151 | 12.27373 | \n",
       "\n",
       "\n"
      ],
      "text/plain": [
       "  q25     q50      q75     \n",
       "1 11.7751 12.00151 12.27373"
      ]
     },
     "metadata": {},
     "output_type": "display_data"
    }
   ],
   "source": [
    "categ_data %>%\n",
    "    select(price_log) %>%\n",
    "    summarise(\n",
    "        q25 = quantile(price_log, 0.25),\n",
    "        q50 = quantile(price_log, 0.5),\n",
    "        q75 = quantile(price_log, 0.75)\n",
    "    ) -> global_quantiles\n",
    "global_quantiles"
   ]
  },
  {
   "cell_type": "code",
   "execution_count": 120,
   "metadata": {},
   "outputs": [],
   "source": [
    "categ_data %>%\n",
    "gather(var, value, -price_log) %>%\n",
    "group_by(var, value) %>%\n",
    "nest %>%\n",
    "mutate(\n",
    "    dist = map(data, ~ecdf(.$price_log)),\n",
    "    rating = map_dbl(dist, function (cdf) {\n",
    "        prob_rating_1 <- cdf(global_quantiles$q25)\n",
    "        prob_rating_2 <- cdf(global_quantiles$q50) - cdf(global_quantiles$q25)\n",
    "        prob_rating_3 <- cdf(global_quantiles$q75) - cdf(global_quantiles$q50)\n",
    "        prob_rating_4 <- 1 - cdf(global_quantiles$q75)\n",
    "        group_rating <- prob_rating_1 * 1 + prob_rating_2 * 2 + prob_rating_3 * 3 + prob_rating_4 * 4\n",
    "        group_rating\n",
    "    })\n",
    ") %>%\n",
    "select(-dist) %>% \n",
    "unnest -> xxx"
   ]
  },
  {
   "cell_type": "code",
   "execution_count": 92,
   "metadata": {},
   "outputs": [
    {
     "data": {
      "text/html": [
       "0.240321402483565"
      ],
      "text/latex": [
       "0.240321402483565"
      ],
      "text/markdown": [
       "0.240321402483565"
      ],
      "text/plain": [
       "[1] 0.2403214"
      ]
     },
     "metadata": {},
     "output_type": "display_data"
    },
    {
     "data": {
      "text/html": [
       "0.2490869247626"
      ],
      "text/latex": [
       "0.2490869247626"
      ],
      "text/markdown": [
       "0.2490869247626"
      ],
      "text/plain": [
       "[1] 0.2490869"
      ]
     },
     "metadata": {},
     "output_type": "display_data"
    },
    {
     "data": {
      "text/html": [
       "0.2490869247626"
      ],
      "text/latex": [
       "0.2490869247626"
      ],
      "text/markdown": [
       "0.2490869247626"
      ],
      "text/plain": [
       "[1] 0.2490869"
      ]
     },
     "metadata": {},
     "output_type": "display_data"
    },
    {
     "data": {
      "text/html": [
       "0.261504747991234"
      ],
      "text/latex": [
       "0.261504747991234"
      ],
      "text/markdown": [
       "0.261504747991234"
      ],
      "text/plain": [
       "[1] 0.2615047"
      ]
     },
     "metadata": {},
     "output_type": "display_data"
    },
    {
     "data": {
      "text/html": [
       "2.5317750182615"
      ],
      "text/latex": [
       "2.5317750182615"
      ],
      "text/markdown": [
       "2.5317750182615"
      ],
      "text/plain": [
       "[1] 2.531775"
      ]
     },
     "metadata": {},
     "output_type": "display_data"
    }
   ],
   "source": []
  },
  {
   "cell_type": "code",
   "execution_count": null,
   "metadata": {
    "collapsed": true
   },
   "outputs": [],
   "source": []
  },
  {
   "cell_type": "code",
   "execution_count": null,
   "metadata": {
    "collapsed": true
   },
   "outputs": [],
   "source": []
  },
  {
   "cell_type": "code",
   "execution_count": null,
   "metadata": {
    "collapsed": true
   },
   "outputs": [],
   "source": []
  },
  {
   "cell_type": "code",
   "execution_count": null,
   "metadata": {
    "collapsed": true
   },
   "outputs": [],
   "source": []
  },
  {
   "cell_type": "code",
   "execution_count": null,
   "metadata": {
    "collapsed": true
   },
   "outputs": [],
   "source": []
  },
  {
   "cell_type": "code",
   "execution_count": null,
   "metadata": {},
   "outputs": [],
   "source": []
  },
  {
   "cell_type": "code",
   "execution_count": null,
   "metadata": {
    "collapsed": true
   },
   "outputs": [],
   "source": []
  },
  {
   "cell_type": "code",
   "execution_count": null,
   "metadata": {
    "collapsed": true
   },
   "outputs": [],
   "source": []
  },
  {
   "cell_type": "code",
   "execution_count": null,
   "metadata": {
    "collapsed": true
   },
   "outputs": [],
   "source": []
  },
  {
   "cell_type": "code",
   "execution_count": null,
   "metadata": {
    "collapsed": true
   },
   "outputs": [],
   "source": []
  },
  {
   "cell_type": "code",
   "execution_count": null,
   "metadata": {
    "collapsed": true
   },
   "outputs": [],
   "source": []
  },
  {
   "cell_type": "code",
   "execution_count": null,
   "metadata": {
    "collapsed": true
   },
   "outputs": [],
   "source": []
  },
  {
   "cell_type": "code",
   "execution_count": null,
   "metadata": {
    "collapsed": true
   },
   "outputs": [],
   "source": []
  },
  {
   "cell_type": "code",
   "execution_count": null,
   "metadata": {
    "collapsed": true
   },
   "outputs": [],
   "source": []
  },
  {
   "cell_type": "code",
   "execution_count": null,
   "metadata": {
    "collapsed": true
   },
   "outputs": [],
   "source": []
  }
 ],
 "metadata": {
  "kernelspec": {
   "display_name": "R",
   "language": "R",
   "name": "ir"
  },
  "language_info": {
   "codemirror_mode": "r",
   "file_extension": ".r",
   "mimetype": "text/x-r-source",
   "name": "R",
   "pygments_lexer": "r",
   "version": "3.4.2"
  }
 },
 "nbformat": 4,
 "nbformat_minor": 2
}
