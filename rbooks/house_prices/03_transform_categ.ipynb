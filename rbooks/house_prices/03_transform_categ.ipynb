{
 "cells": [
  {
   "cell_type": "code",
   "execution_count": 1,
   "metadata": {},
   "outputs": [
    {
     "data": {
      "text/html": [
       "'/mnt/hdd/develop/kaggle/R_sources/house_prices'"
      ],
      "text/latex": [
       "'/mnt/hdd/develop/kaggle/R\\_sources/house\\_prices'"
      ],
      "text/markdown": [
       "'/mnt/hdd/develop/kaggle/R_sources/house_prices'"
      ],
      "text/plain": [
       "[1] \"/mnt/hdd/develop/kaggle/R_sources/house_prices\""
      ]
     },
     "metadata": {},
     "output_type": "display_data"
    }
   ],
   "source": [
    "setwd(paste0(Sys.getenv('R_SOURCES'), '/house_prices'))\n",
    "getwd()"
   ]
  },
  {
   "cell_type": "code",
   "execution_count": 3,
   "metadata": {},
   "outputs": [],
   "source": [
    "source('main.R')\n",
    "house_prices$helpers$import_libs()\n",
    "\n",
    "combined_dataset <- house_prices$helpers$load_data()\n",
    "\n",
    "combined_dataset_fixed <-\n",
    "    combined_dataset %>%\n",
    "    (house_prices$missing$categ$replace_with_most_common) %>%\n",
    "    (house_prices$missing$categ$fix_valid) %>%\n",
    "    (house_prices$missing$numeric$replace_with_zero)\n",
    "\n",
    "training_dataset <- combined_dataset_fixed %>% filter(dataSource == 'train')\n",
    "\n",
    "\n",
    "test_that(\"should be no NA values in training_dataset\", {\n",
    "    expect_equal(sum(is.na(training_dataset)), 0)\n",
    "})"
   ]
  },
  {
   "cell_type": "code",
   "execution_count": 4,
   "metadata": {},
   "outputs": [
    {
     "data": {
      "text/html": [
       "<ol class=list-inline>\n",
       "\t<li>'Alley'</li>\n",
       "\t<li>'BldgType'</li>\n",
       "\t<li>'BsmtCond'</li>\n",
       "\t<li>'BsmtExposure'</li>\n",
       "\t<li>'BsmtFinType1'</li>\n",
       "\t<li>'BsmtQual'</li>\n",
       "\t<li>'CentralAir'</li>\n",
       "\t<li>'Electrical'</li>\n",
       "\t<li>'Exterior1st'</li>\n",
       "\t<li>'Exterior2nd'</li>\n",
       "\t<li>'ExterQual'</li>\n",
       "\t<li>'Fence'</li>\n",
       "\t<li>'FireplaceQu'</li>\n",
       "\t<li>'Foundation'</li>\n",
       "\t<li>'GarageCond'</li>\n",
       "\t<li>'GarageFinish'</li>\n",
       "\t<li>'GarageQual'</li>\n",
       "\t<li>'GarageType'</li>\n",
       "\t<li>'HeatingQC'</li>\n",
       "\t<li>'HouseStyle'</li>\n",
       "\t<li>'KitchenQual'</li>\n",
       "\t<li>'LandContour'</li>\n",
       "\t<li>'LotConfig'</li>\n",
       "\t<li>'LotShape'</li>\n",
       "\t<li>'MasVnrType'</li>\n",
       "\t<li>'MiscFeature'</li>\n",
       "\t<li>'MSSubClass'</li>\n",
       "\t<li>'MSZoning'</li>\n",
       "\t<li>'Neighborhood'</li>\n",
       "\t<li>'PavedDrive'</li>\n",
       "\t<li>'PoolQC'</li>\n",
       "\t<li>'price_log'</li>\n",
       "\t<li>'RoofStyle'</li>\n",
       "\t<li>'SaleCondition'</li>\n",
       "\t<li>'SaleType'</li>\n",
       "</ol>\n"
      ],
      "text/latex": [
       "\\begin{enumerate*}\n",
       "\\item 'Alley'\n",
       "\\item 'BldgType'\n",
       "\\item 'BsmtCond'\n",
       "\\item 'BsmtExposure'\n",
       "\\item 'BsmtFinType1'\n",
       "\\item 'BsmtQual'\n",
       "\\item 'CentralAir'\n",
       "\\item 'Electrical'\n",
       "\\item 'Exterior1st'\n",
       "\\item 'Exterior2nd'\n",
       "\\item 'ExterQual'\n",
       "\\item 'Fence'\n",
       "\\item 'FireplaceQu'\n",
       "\\item 'Foundation'\n",
       "\\item 'GarageCond'\n",
       "\\item 'GarageFinish'\n",
       "\\item 'GarageQual'\n",
       "\\item 'GarageType'\n",
       "\\item 'HeatingQC'\n",
       "\\item 'HouseStyle'\n",
       "\\item 'KitchenQual'\n",
       "\\item 'LandContour'\n",
       "\\item 'LotConfig'\n",
       "\\item 'LotShape'\n",
       "\\item 'MasVnrType'\n",
       "\\item 'MiscFeature'\n",
       "\\item 'MSSubClass'\n",
       "\\item 'MSZoning'\n",
       "\\item 'Neighborhood'\n",
       "\\item 'PavedDrive'\n",
       "\\item 'PoolQC'\n",
       "\\item 'price\\_log'\n",
       "\\item 'RoofStyle'\n",
       "\\item 'SaleCondition'\n",
       "\\item 'SaleType'\n",
       "\\end{enumerate*}\n"
      ],
      "text/markdown": [
       "1. 'Alley'\n",
       "2. 'BldgType'\n",
       "3. 'BsmtCond'\n",
       "4. 'BsmtExposure'\n",
       "5. 'BsmtFinType1'\n",
       "6. 'BsmtQual'\n",
       "7. 'CentralAir'\n",
       "8. 'Electrical'\n",
       "9. 'Exterior1st'\n",
       "10. 'Exterior2nd'\n",
       "11. 'ExterQual'\n",
       "12. 'Fence'\n",
       "13. 'FireplaceQu'\n",
       "14. 'Foundation'\n",
       "15. 'GarageCond'\n",
       "16. 'GarageFinish'\n",
       "17. 'GarageQual'\n",
       "18. 'GarageType'\n",
       "19. 'HeatingQC'\n",
       "20. 'HouseStyle'\n",
       "21. 'KitchenQual'\n",
       "22. 'LandContour'\n",
       "23. 'LotConfig'\n",
       "24. 'LotShape'\n",
       "25. 'MasVnrType'\n",
       "26. 'MiscFeature'\n",
       "27. 'MSSubClass'\n",
       "28. 'MSZoning'\n",
       "29. 'Neighborhood'\n",
       "30. 'PavedDrive'\n",
       "31. 'PoolQC'\n",
       "32. 'price_log'\n",
       "33. 'RoofStyle'\n",
       "34. 'SaleCondition'\n",
       "35. 'SaleType'\n",
       "\n",
       "\n"
      ],
      "text/plain": [
       " [1] \"Alley\"         \"BldgType\"      \"BsmtCond\"      \"BsmtExposure\" \n",
       " [5] \"BsmtFinType1\"  \"BsmtQual\"      \"CentralAir\"    \"Electrical\"   \n",
       " [9] \"Exterior1st\"   \"Exterior2nd\"   \"ExterQual\"     \"Fence\"        \n",
       "[13] \"FireplaceQu\"   \"Foundation\"    \"GarageCond\"    \"GarageFinish\" \n",
       "[17] \"GarageQual\"    \"GarageType\"    \"HeatingQC\"     \"HouseStyle\"   \n",
       "[21] \"KitchenQual\"   \"LandContour\"   \"LotConfig\"     \"LotShape\"     \n",
       "[25] \"MasVnrType\"    \"MiscFeature\"   \"MSSubClass\"    \"MSZoning\"     \n",
       "[29] \"Neighborhood\"  \"PavedDrive\"    \"PoolQC\"        \"price_log\"    \n",
       "[33] \"RoofStyle\"     \"SaleCondition\" \"SaleType\"     "
      ]
     },
     "metadata": {},
     "output_type": "display_data"
    }
   ],
   "source": [
    "categ_data <- \n",
    "    training_dataset %>%\n",
    "    # select categ vars\n",
    "    select(house_prices$helpers$get_character_colnames(combined_dataset_fixed), SalePrice, -dataSource) %>%\n",
    "    # drop weak categ vars\n",
    "    select(-one_of(house_prices$attributes_selection$discared_cat_vars)) %>%\n",
    "    mutate(\n",
    "        price_log = log(SalePrice)\n",
    "    ) %>%\n",
    "    select(-SalePrice)\n",
    "\n",
    "categ_data %>% colnames %>% sort"
   ]
  },
  {
   "cell_type": "code",
   "execution_count": 35,
   "metadata": {},
   "outputs": [
    {
     "data": {
      "text/html": [
       "<table>\n",
       "<thead><tr><th scope=col>var</th><th scope=col>value</th><th scope=col>rating</th></tr></thead>\n",
       "<tbody>\n",
       "\t<tr><td>Alley   </td><td>_none_  </td><td>2.531775</td></tr>\n",
       "\t<tr><td>Alley   </td><td>Grvl    </td><td>1.500000</td></tr>\n",
       "\t<tr><td>Alley   </td><td>Pave    </td><td>2.536585</td></tr>\n",
       "\t<tr><td>BldgType</td><td>1Fam    </td><td>2.563934</td></tr>\n",
       "\t<tr><td>BldgType</td><td>2fmCon  </td><td>1.580645</td></tr>\n",
       "\t<tr><td>BldgType</td><td>Duplex  </td><td>1.692308</td></tr>\n",
       "\t<tr><td>BldgType</td><td>TwnhsE  </td><td>2.622807</td></tr>\n",
       "\t<tr><td>BldgType</td><td>Twnhs   </td><td>1.883721</td></tr>\n",
       "\t<tr><td>BsmtCond</td><td>TA      </td><td>2.540809</td></tr>\n",
       "\t<tr><td>BsmtCond</td><td>Gd      </td><td>3.046154</td></tr>\n",
       "</tbody>\n",
       "</table>\n"
      ],
      "text/latex": [
       "\\begin{tabular}{r|lll}\n",
       " var & value & rating\\\\\n",
       "\\hline\n",
       "\t Alley      & \\_none\\_ & 2.531775  \\\\\n",
       "\t Alley    & Grvl     & 1.500000\\\\\n",
       "\t Alley    & Pave     & 2.536585\\\\\n",
       "\t BldgType & 1Fam     & 2.563934\\\\\n",
       "\t BldgType & 2fmCon   & 1.580645\\\\\n",
       "\t BldgType & Duplex   & 1.692308\\\\\n",
       "\t BldgType & TwnhsE   & 2.622807\\\\\n",
       "\t BldgType & Twnhs    & 1.883721\\\\\n",
       "\t BsmtCond & TA       & 2.540809\\\\\n",
       "\t BsmtCond & Gd       & 3.046154\\\\\n",
       "\\end{tabular}\n"
      ],
      "text/markdown": [
       "\n",
       "var | value | rating | \n",
       "|---|---|---|---|---|---|---|---|---|---|\n",
       "| Alley    | _none_   | 2.531775 | \n",
       "| Alley    | Grvl     | 1.500000 | \n",
       "| Alley    | Pave     | 2.536585 | \n",
       "| BldgType | 1Fam     | 2.563934 | \n",
       "| BldgType | 2fmCon   | 1.580645 | \n",
       "| BldgType | Duplex   | 1.692308 | \n",
       "| BldgType | TwnhsE   | 2.622807 | \n",
       "| BldgType | Twnhs    | 1.883721 | \n",
       "| BsmtCond | TA       | 2.540809 | \n",
       "| BsmtCond | Gd       | 3.046154 | \n",
       "\n",
       "\n"
      ],
      "text/plain": [
       "   var      value  rating  \n",
       "1  Alley    _none_ 2.531775\n",
       "2  Alley    Grvl   1.500000\n",
       "3  Alley    Pave   2.536585\n",
       "4  BldgType 1Fam   2.563934\n",
       "5  BldgType 2fmCon 1.580645\n",
       "6  BldgType Duplex 1.692308\n",
       "7  BldgType TwnhsE 2.622807\n",
       "8  BldgType Twnhs  1.883721\n",
       "9  BsmtCond TA     2.540809\n",
       "10 BsmtCond Gd     3.046154"
      ]
     },
     "metadata": {},
     "output_type": "display_data"
    }
   ],
   "source": [
    "source('main.R')\n",
    "ratings <- house_prices$trans$categ$calc_rating(categ_data, price_log)\n",
    "ratings %>% head(10)"
   ]
  },
  {
   "cell_type": "code",
   "execution_count": 170,
   "metadata": {
    "cell_style": "center"
   },
   "outputs": [
    {
     "data": {
      "text/html": [
       "<dl>\n",
       "\t<dt>$Grvl</dt>\n",
       "\t\t<dd>1.5</dd>\n",
       "\t<dt>$`_none_`</dt>\n",
       "\t\t<dd>2.5317750182615</dd>\n",
       "\t<dt>$Pave</dt>\n",
       "\t\t<dd>2.53658536585366</dd>\n",
       "</dl>\n"
      ],
      "text/latex": [
       "\\begin{description}\n",
       "\\item[\\$Grvl] 1.5\n",
       "\\item[\\$`\\_none\\_`] 2.5317750182615\n",
       "\\item[\\$Pave] 2.53658536585366\n",
       "\\end{description}\n"
      ],
      "text/markdown": [
       "$Grvl\n",
       ":   1.5\n",
       "$`_none_`\n",
       ":   2.5317750182615\n",
       "$Pave\n",
       ":   2.53658536585366\n",
       "\n",
       "\n"
      ],
      "text/plain": [
       "$Grvl\n",
       "[1] 1.5\n",
       "\n",
       "$`_none_`\n",
       "[1] 2.531775\n",
       "\n",
       "$Pave\n",
       "[1] 2.536585\n"
      ]
     },
     "metadata": {},
     "output_type": "display_data"
    },
    {
     "data": {
      "text/html": [
       "1.5"
      ],
      "text/latex": [
       "1.5"
      ],
      "text/markdown": [
       "1.5"
      ],
      "text/plain": [
       "[1] 1.5"
      ]
     },
     "metadata": {},
     "output_type": "display_data"
    }
   ],
   "source": [
    "config %>%\n",
    "filter(var == 'Alley') %>%\n",
    "select(value, rating) -> tmp\n",
    "\n",
    "mapping <- structure(as.list(tmp$rating), names = as.list(tmp$value))\n",
    "\n",
    "mapping\n",
    "mapping[['Grvl']]"
   ]
  },
  {
   "cell_type": "code",
   "execution_count": null,
   "metadata": {
    "collapsed": true
   },
   "outputs": [],
   "source": []
  },
  {
   "cell_type": "code",
   "execution_count": 199,
   "metadata": {},
   "outputs": [
    {
     "data": {
      "text/html": [
       "<table>\n",
       "<thead><tr><th scope=col>Alley</th></tr></thead>\n",
       "<tbody>\n",
       "\t<tr><td>2.531775</td></tr>\n",
       "\t<tr><td>2.531775</td></tr>\n",
       "\t<tr><td>2.531775</td></tr>\n",
       "\t<tr><td>2.531775</td></tr>\n",
       "\t<tr><td>2.531775</td></tr>\n",
       "\t<tr><td>2.531775</td></tr>\n",
       "</tbody>\n",
       "</table>\n"
      ],
      "text/latex": [
       "\\begin{tabular}{r|l}\n",
       " Alley\\\\\n",
       "\\hline\n",
       "\t 2.531775\\\\\n",
       "\t 2.531775\\\\\n",
       "\t 2.531775\\\\\n",
       "\t 2.531775\\\\\n",
       "\t 2.531775\\\\\n",
       "\t 2.531775\\\\\n",
       "\\end{tabular}\n"
      ],
      "text/markdown": [
       "\n",
       "Alley | \n",
       "|---|---|---|---|---|---|\n",
       "| 2.531775 | \n",
       "| 2.531775 | \n",
       "| 2.531775 | \n",
       "| 2.531775 | \n",
       "| 2.531775 | \n",
       "| 2.531775 | \n",
       "\n",
       "\n"
      ],
      "text/plain": [
       "  Alley   \n",
       "1 2.531775\n",
       "2 2.531775\n",
       "3 2.531775\n",
       "4 2.531775\n",
       "5 2.531775\n",
       "6 2.531775"
      ]
     },
     "metadata": {},
     "output_type": "display_data"
    }
   ],
   "source": [
    "categ_data %>%\n",
    "select(Alley) %>% \n",
    "`[[`(1) -> z\n",
    "\n",
    "df <- data_frame(map(z, ~mapping[[.]]))\n",
    "\n",
    "names(df) <- 'Alley'\n",
    "df %>% head"
   ]
  },
  {
   "cell_type": "code",
   "execution_count": 36,
   "metadata": {},
   "outputs": [
    {
     "data": {
      "text/html": [
       "<table>\n",
       "<thead><tr><th scope=col>Alley</th><th scope=col>BldgType</th><th scope=col>BsmtCond</th><th scope=col>BsmtExposure</th><th scope=col>BsmtFinType1</th><th scope=col>BsmtQual</th><th scope=col>CentralAir</th><th scope=col>Electrical</th><th scope=col>Exterior1st</th><th scope=col>Exterior2nd</th><th scope=col>⋯</th><th scope=col>MiscFeature</th><th scope=col>MSSubClass</th><th scope=col>MSZoning</th><th scope=col>Neighborhood</th><th scope=col>PavedDrive</th><th scope=col>PoolQC</th><th scope=col>RoofStyle</th><th scope=col>SaleCondition</th><th scope=col>SaleType</th><th scope=col>price_log</th></tr></thead>\n",
       "<tbody>\n",
       "\t<tr><td>2.531775</td><td>2.563934</td><td>2.540809</td><td>2.320042</td><td>3.258373</td><td>3.066343</td><td>2.578755</td><td>2.59176 </td><td>3.046602</td><td>3.05754 </td><td>⋯       </td><td>2.512091</td><td>3.448161</td><td>2.665508</td><td>2.966667</td><td>2.584328</td><td>2.492085</td><td>2.418054</td><td>2.451586</td><td>2.421468</td><td>12.24769</td></tr>\n",
       "\t<tr><td>2.531775</td><td>2.563934</td><td>2.540809</td><td>3.283582</td><td>2.231818</td><td>3.066343</td><td>2.578755</td><td>2.59176 </td><td>1.968182</td><td>1.96729 </td><td>⋯       </td><td>2.512091</td><td>2.522388</td><td>2.665508</td><td>3.454545</td><td>2.584328</td><td>2.492085</td><td>2.418054</td><td>2.451586</td><td>2.421468</td><td>12.10901</td></tr>\n",
       "\t<tr><td>2.531775</td><td>2.563934</td><td>2.540809</td><td>2.675439</td><td>3.258373</td><td>3.066343</td><td>2.578755</td><td>2.59176 </td><td>3.046602</td><td>3.05754 </td><td>⋯       </td><td>2.512091</td><td>3.448161</td><td>2.665508</td><td>2.966667</td><td>2.584328</td><td>2.492085</td><td>2.418054</td><td>2.451586</td><td>2.421468</td><td>12.31717</td></tr>\n",
       "\t<tr><td>2.531775</td><td>2.563934</td><td>3.046154</td><td>2.320042</td><td>2.231818</td><td>1.847458</td><td>2.578755</td><td>2.59176 </td><td>1.980583</td><td>2.052632</td><td>⋯       </td><td>2.512091</td><td>2.366667</td><td>2.665508</td><td>3.156863</td><td>2.584328</td><td>2.492085</td><td>2.418054</td><td>1.920792</td><td>2.421468</td><td>11.84940</td></tr>\n",
       "\t<tr><td>2.531775</td><td>2.563934</td><td>2.540809</td><td>2.900452</td><td>3.258373</td><td>3.066343</td><td>2.578755</td><td>2.59176 </td><td>3.046602</td><td>3.05754 </td><td>⋯       </td><td>2.512091</td><td>3.448161</td><td>2.665508</td><td>3.97561 </td><td>2.584328</td><td>2.492085</td><td>2.418054</td><td>2.451586</td><td>2.421468</td><td>12.42922</td></tr>\n",
       "\t<tr><td>2.531775</td><td>2.563934</td><td>2.540809</td><td>2.320042</td><td>3.258373</td><td>3.066343</td><td>2.578755</td><td>2.59176 </td><td>3.046602</td><td>3.05754 </td><td>⋯       </td><td>2.061224</td><td>1.833333</td><td>2.665508</td><td>2.265306</td><td>2.584328</td><td>2.492085</td><td>2.418054</td><td>2.451586</td><td>2.421468</td><td>11.87060</td></tr>\n",
       "</tbody>\n",
       "</table>\n"
      ],
      "text/latex": [
       "\\begin{tabular}{r|lllllllllllllllllllllllllllllllllll}\n",
       " Alley & BldgType & BsmtCond & BsmtExposure & BsmtFinType1 & BsmtQual & CentralAir & Electrical & Exterior1st & Exterior2nd & ⋯ & MiscFeature & MSSubClass & MSZoning & Neighborhood & PavedDrive & PoolQC & RoofStyle & SaleCondition & SaleType & price\\_log\\\\\n",
       "\\hline\n",
       "\t 2.531775 & 2.563934 & 2.540809 & 2.320042 & 3.258373 & 3.066343 & 2.578755 & 2.59176  & 3.046602 & 3.05754  & ⋯        & 2.512091 & 3.448161 & 2.665508 & 2.966667 & 2.584328 & 2.492085 & 2.418054 & 2.451586 & 2.421468 & 12.24769\\\\\n",
       "\t 2.531775 & 2.563934 & 2.540809 & 3.283582 & 2.231818 & 3.066343 & 2.578755 & 2.59176  & 1.968182 & 1.96729  & ⋯        & 2.512091 & 2.522388 & 2.665508 & 3.454545 & 2.584328 & 2.492085 & 2.418054 & 2.451586 & 2.421468 & 12.10901\\\\\n",
       "\t 2.531775 & 2.563934 & 2.540809 & 2.675439 & 3.258373 & 3.066343 & 2.578755 & 2.59176  & 3.046602 & 3.05754  & ⋯        & 2.512091 & 3.448161 & 2.665508 & 2.966667 & 2.584328 & 2.492085 & 2.418054 & 2.451586 & 2.421468 & 12.31717\\\\\n",
       "\t 2.531775 & 2.563934 & 3.046154 & 2.320042 & 2.231818 & 1.847458 & 2.578755 & 2.59176  & 1.980583 & 2.052632 & ⋯        & 2.512091 & 2.366667 & 2.665508 & 3.156863 & 2.584328 & 2.492085 & 2.418054 & 1.920792 & 2.421468 & 11.84940\\\\\n",
       "\t 2.531775 & 2.563934 & 2.540809 & 2.900452 & 3.258373 & 3.066343 & 2.578755 & 2.59176  & 3.046602 & 3.05754  & ⋯        & 2.512091 & 3.448161 & 2.665508 & 3.97561  & 2.584328 & 2.492085 & 2.418054 & 2.451586 & 2.421468 & 12.42922\\\\\n",
       "\t 2.531775 & 2.563934 & 2.540809 & 2.320042 & 3.258373 & 3.066343 & 2.578755 & 2.59176  & 3.046602 & 3.05754  & ⋯        & 2.061224 & 1.833333 & 2.665508 & 2.265306 & 2.584328 & 2.492085 & 2.418054 & 2.451586 & 2.421468 & 11.87060\\\\\n",
       "\\end{tabular}\n"
      ],
      "text/markdown": [
       "\n",
       "Alley | BldgType | BsmtCond | BsmtExposure | BsmtFinType1 | BsmtQual | CentralAir | Electrical | Exterior1st | Exterior2nd | ⋯ | MiscFeature | MSSubClass | MSZoning | Neighborhood | PavedDrive | PoolQC | RoofStyle | SaleCondition | SaleType | price_log | \n",
       "|---|---|---|---|---|---|\n",
       "| 2.531775 | 2.563934 | 2.540809 | 2.320042 | 3.258373 | 3.066343 | 2.578755 | 2.59176  | 3.046602 | 3.05754  | ⋯        | 2.512091 | 3.448161 | 2.665508 | 2.966667 | 2.584328 | 2.492085 | 2.418054 | 2.451586 | 2.421468 | 12.24769 | \n",
       "| 2.531775 | 2.563934 | 2.540809 | 3.283582 | 2.231818 | 3.066343 | 2.578755 | 2.59176  | 1.968182 | 1.96729  | ⋯        | 2.512091 | 2.522388 | 2.665508 | 3.454545 | 2.584328 | 2.492085 | 2.418054 | 2.451586 | 2.421468 | 12.10901 | \n",
       "| 2.531775 | 2.563934 | 2.540809 | 2.675439 | 3.258373 | 3.066343 | 2.578755 | 2.59176  | 3.046602 | 3.05754  | ⋯        | 2.512091 | 3.448161 | 2.665508 | 2.966667 | 2.584328 | 2.492085 | 2.418054 | 2.451586 | 2.421468 | 12.31717 | \n",
       "| 2.531775 | 2.563934 | 3.046154 | 2.320042 | 2.231818 | 1.847458 | 2.578755 | 2.59176  | 1.980583 | 2.052632 | ⋯        | 2.512091 | 2.366667 | 2.665508 | 3.156863 | 2.584328 | 2.492085 | 2.418054 | 1.920792 | 2.421468 | 11.84940 | \n",
       "| 2.531775 | 2.563934 | 2.540809 | 2.900452 | 3.258373 | 3.066343 | 2.578755 | 2.59176  | 3.046602 | 3.05754  | ⋯        | 2.512091 | 3.448161 | 2.665508 | 3.97561  | 2.584328 | 2.492085 | 2.418054 | 2.451586 | 2.421468 | 12.42922 | \n",
       "| 2.531775 | 2.563934 | 2.540809 | 2.320042 | 3.258373 | 3.066343 | 2.578755 | 2.59176  | 3.046602 | 3.05754  | ⋯        | 2.061224 | 1.833333 | 2.665508 | 2.265306 | 2.584328 | 2.492085 | 2.418054 | 2.451586 | 2.421468 | 11.87060 | \n",
       "\n",
       "\n"
      ],
      "text/plain": [
       "  Alley    BldgType BsmtCond BsmtExposure BsmtFinType1 BsmtQual CentralAir\n",
       "1 2.531775 2.563934 2.540809 2.320042     3.258373     3.066343 2.578755  \n",
       "2 2.531775 2.563934 2.540809 3.283582     2.231818     3.066343 2.578755  \n",
       "3 2.531775 2.563934 2.540809 2.675439     3.258373     3.066343 2.578755  \n",
       "4 2.531775 2.563934 3.046154 2.320042     2.231818     1.847458 2.578755  \n",
       "5 2.531775 2.563934 2.540809 2.900452     3.258373     3.066343 2.578755  \n",
       "6 2.531775 2.563934 2.540809 2.320042     3.258373     3.066343 2.578755  \n",
       "  Electrical Exterior1st Exterior2nd ⋯ MiscFeature MSSubClass MSZoning\n",
       "1 2.59176    3.046602    3.05754     ⋯ 2.512091    3.448161   2.665508\n",
       "2 2.59176    1.968182    1.96729     ⋯ 2.512091    2.522388   2.665508\n",
       "3 2.59176    3.046602    3.05754     ⋯ 2.512091    3.448161   2.665508\n",
       "4 2.59176    1.980583    2.052632    ⋯ 2.512091    2.366667   2.665508\n",
       "5 2.59176    3.046602    3.05754     ⋯ 2.512091    3.448161   2.665508\n",
       "6 2.59176    3.046602    3.05754     ⋯ 2.061224    1.833333   2.665508\n",
       "  Neighborhood PavedDrive PoolQC   RoofStyle SaleCondition SaleType price_log\n",
       "1 2.966667     2.584328   2.492085 2.418054  2.451586      2.421468 12.24769 \n",
       "2 3.454545     2.584328   2.492085 2.418054  2.451586      2.421468 12.10901 \n",
       "3 2.966667     2.584328   2.492085 2.418054  2.451586      2.421468 12.31717 \n",
       "4 3.156863     2.584328   2.492085 2.418054  1.920792      2.421468 11.84940 \n",
       "5 3.97561      2.584328   2.492085 2.418054  2.451586      2.421468 12.42922 \n",
       "6 2.265306     2.584328   2.492085 2.418054  2.451586      2.421468 11.87060 "
      ]
     },
     "metadata": {},
     "output_type": "display_data"
    }
   ],
   "source": [
    "categ_data %>% select(-price_log) %>% colnames %>% \n",
    "map_dfc(function (col) {\n",
    "    \n",
    "    tmp <-\n",
    "        config %>%\n",
    "        filter(var == col) %>%\n",
    "        select(value, rating)\n",
    "    \n",
    "    mapping <- structure(as.list(tmp$rating), names = as.list(tmp$value))\n",
    "\n",
    "    df <- data_frame(\n",
    "        map(categ_data[, col] [[1]], ~mapping[[.]])\n",
    "    )\n",
    "    names(df) <- col\n",
    "    df\n",
    "}) %>%\n",
    "mutate(\n",
    "    price_log = categ_data$price_log\n",
    ") %>% \n",
    "head"
   ]
  },
  {
   "cell_type": "code",
   "execution_count": null,
   "metadata": {
    "collapsed": true
   },
   "outputs": [],
   "source": []
  },
  {
   "cell_type": "code",
   "execution_count": null,
   "metadata": {
    "collapsed": true
   },
   "outputs": [],
   "source": []
  },
  {
   "cell_type": "code",
   "execution_count": null,
   "metadata": {
    "collapsed": true
   },
   "outputs": [],
   "source": []
  },
  {
   "cell_type": "code",
   "execution_count": null,
   "metadata": {
    "collapsed": true
   },
   "outputs": [],
   "source": []
  },
  {
   "cell_type": "code",
   "execution_count": null,
   "metadata": {
    "collapsed": true
   },
   "outputs": [],
   "source": []
  },
  {
   "cell_type": "code",
   "execution_count": null,
   "metadata": {
    "collapsed": true
   },
   "outputs": [],
   "source": []
  },
  {
   "cell_type": "code",
   "execution_count": null,
   "metadata": {
    "collapsed": true
   },
   "outputs": [],
   "source": []
  },
  {
   "cell_type": "code",
   "execution_count": null,
   "metadata": {
    "collapsed": true
   },
   "outputs": [],
   "source": []
  },
  {
   "cell_type": "code",
   "execution_count": null,
   "metadata": {
    "collapsed": true
   },
   "outputs": [],
   "source": []
  },
  {
   "cell_type": "code",
   "execution_count": null,
   "metadata": {
    "collapsed": true
   },
   "outputs": [],
   "source": []
  },
  {
   "cell_type": "code",
   "execution_count": null,
   "metadata": {
    "collapsed": true
   },
   "outputs": [],
   "source": []
  },
  {
   "cell_type": "code",
   "execution_count": null,
   "metadata": {
    "collapsed": true
   },
   "outputs": [],
   "source": []
  }
 ],
 "metadata": {
  "kernelspec": {
   "display_name": "R",
   "language": "R",
   "name": "ir"
  },
  "language_info": {
   "codemirror_mode": "r",
   "file_extension": ".r",
   "mimetype": "text/x-r-source",
   "name": "R",
   "pygments_lexer": "r",
   "version": "3.4.2"
  }
 },
 "nbformat": 4,
 "nbformat_minor": 2
}
