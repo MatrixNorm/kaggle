{
 "cells": [
  {
   "cell_type": "code",
   "execution_count": 1,
   "metadata": {},
   "outputs": [
    {
     "data": {
      "text/html": [
       "'/mnt/hdd/develop/kaggle/R_sources/house_prices'"
      ],
      "text/latex": [
       "'/mnt/hdd/develop/kaggle/R\\_sources/house\\_prices'"
      ],
      "text/markdown": [
       "'/mnt/hdd/develop/kaggle/R_sources/house_prices'"
      ],
      "text/plain": [
       "[1] \"/mnt/hdd/develop/kaggle/R_sources/house_prices\""
      ]
     },
     "metadata": {},
     "output_type": "display_data"
    }
   ],
   "source": [
    "setwd(paste0(Sys.getenv('R_SOURCES'), '/house_prices'))\n",
    "getwd()"
   ]
  },
  {
   "cell_type": "code",
   "execution_count": 3,
   "metadata": {},
   "outputs": [],
   "source": [
    "source('main.R')\n",
    "\n",
    "house_prices$helpers$import_libs()\n",
    "\n",
    "combined_dataset <- house_prices$helpers$load_data()"
   ]
  },
  {
   "cell_type": "code",
   "execution_count": 4,
   "metadata": {},
   "outputs": [
    {
     "data": {
      "text/html": [
       "<ol class=list-inline>\n",
       "\t<li>2919</li>\n",
       "\t<li>82</li>\n",
       "</ol>\n"
      ],
      "text/latex": [
       "\\begin{enumerate*}\n",
       "\\item 2919\n",
       "\\item 82\n",
       "\\end{enumerate*}\n"
      ],
      "text/markdown": [
       "1. 2919\n",
       "2. 82\n",
       "\n",
       "\n"
      ],
      "text/plain": [
       "[1] 2919   82"
      ]
     },
     "metadata": {},
     "output_type": "display_data"
    },
    {
     "data": {
      "text/html": [
       "<ol class=list-inline>\n",
       "\t<li>1460</li>\n",
       "\t<li>82</li>\n",
       "</ol>\n"
      ],
      "text/latex": [
       "\\begin{enumerate*}\n",
       "\\item 1460\n",
       "\\item 82\n",
       "\\end{enumerate*}\n"
      ],
      "text/markdown": [
       "1. 1460\n",
       "2. 82\n",
       "\n",
       "\n"
      ],
      "text/plain": [
       "[1] 1460   82"
      ]
     },
     "metadata": {},
     "output_type": "display_data"
    },
    {
     "data": {
      "text/html": [
       "<ol class=list-inline>\n",
       "\t<li>1459</li>\n",
       "\t<li>82</li>\n",
       "</ol>\n"
      ],
      "text/latex": [
       "\\begin{enumerate*}\n",
       "\\item 1459\n",
       "\\item 82\n",
       "\\end{enumerate*}\n"
      ],
      "text/markdown": [
       "1. 1459\n",
       "2. 82\n",
       "\n",
       "\n"
      ],
      "text/plain": [
       "[1] 1459   82"
      ]
     },
     "metadata": {},
     "output_type": "display_data"
    }
   ],
   "source": [
    "combined_dataset %>% dim\n",
    "combined_dataset %>% filter(dataSource == \"train\") %>% dim\n",
    "combined_dataset %>% filter(dataSource == \"test\") %>% dim"
   ]
  },
  {
   "cell_type": "code",
   "execution_count": 36,
   "metadata": {
    "cell_style": "center",
    "collapsed": true
   },
   "outputs": [],
   "source": [
    "categ_data <- \n",
    "    combined_dataset %>% \n",
    "    select(house_prices$helpers$get_character_colnames(combined_dataset), SalePrice, -dataSource)\n",
    "\n",
    "numeric_data <- \n",
    "    combined_dataset %>% \n",
    "    select(house_prices$helpers$get_numeric_colnames(combined_dataset), -Id)"
   ]
  },
  {
   "cell_type": "code",
   "execution_count": 34,
   "metadata": {
    "cell_style": "split"
   },
   "outputs": [
    {
     "name": "stdout",
     "output_type": "stream",
     "text": [
      "Observations: 2,919\n",
      "Variables: 45\n",
      "$ Alley         <chr> NA, NA, NA, NA, NA, NA,...\n",
      "$ BldgType      <chr> \"1Fam\", \"1Fam\", \"1Fam\",...\n",
      "$ BsmtCond      <chr> \"TA\", \"TA\", \"TA\", \"Gd\",...\n",
      "$ BsmtExposure  <chr> \"No\", \"Gd\", \"Mn\", \"No\",...\n",
      "$ BsmtFinType1  <chr> \"GLQ\", \"ALQ\", \"GLQ\", \"A...\n",
      "$ BsmtFinType2  <chr> \"Unf\", \"Unf\", \"Unf\", \"U...\n",
      "$ BsmtQual      <chr> \"Gd\", \"Gd\", \"Gd\", \"TA\",...\n",
      "$ CentralAir    <chr> \"Y\", \"Y\", \"Y\", \"Y\", \"Y\"...\n",
      "$ Condition1    <chr> \"Norm\", \"Feedr\", \"Norm\"...\n",
      "$ Condition2    <chr> \"Norm\", \"Norm\", \"Norm\",...\n",
      "$ Electrical    <chr> \"SBrkr\", \"SBrkr\", \"SBrk...\n",
      "$ ExterCond     <chr> \"TA\", \"TA\", \"TA\", \"TA\",...\n",
      "$ Exterior1st   <chr> \"VinylSd\", \"MetalSd\", \"...\n",
      "$ Exterior2nd   <chr> \"VinylSd\", \"MetalSd\", \"...\n",
      "$ ExterQual     <chr> \"Gd\", \"TA\", \"Gd\", \"TA\",...\n",
      "$ Fence         <chr> NA, NA, NA, NA, NA, \"Mn...\n",
      "$ FireplaceQu   <chr> NA, \"TA\", \"TA\", \"Gd\", \"...\n",
      "$ Foundation    <chr> \"PConc\", \"CBlock\", \"PCo...\n",
      "$ Functional    <chr> \"Typ\", \"Typ\", \"Typ\", \"T...\n",
      "$ GarageCond    <chr> \"TA\", \"TA\", \"TA\", \"TA\",...\n",
      "$ GarageFinish  <chr> \"RFn\", \"RFn\", \"RFn\", \"U...\n",
      "$ GarageQual    <chr> \"TA\", \"TA\", \"TA\", \"TA\",...\n",
      "$ GarageType    <chr> \"Attchd\", \"Attchd\", \"At...\n",
      "$ Heating       <chr> \"GasA\", \"GasA\", \"GasA\",...\n",
      "$ HeatingQC     <chr> \"Ex\", \"Ex\", \"Ex\", \"Gd\",...\n",
      "$ HouseStyle    <chr> \"2Story\", \"1Story\", \"2S...\n",
      "$ KitchenQual   <chr> \"Gd\", \"TA\", \"Gd\", \"Gd\",...\n",
      "$ LandContour   <chr> \"Lvl\", \"Lvl\", \"Lvl\", \"L...\n",
      "$ LandSlope     <chr> \"Gtl\", \"Gtl\", \"Gtl\", \"G...\n",
      "$ LotConfig     <chr> \"Inside\", \"FR2\", \"Insid...\n",
      "$ LotShape      <chr> \"Reg\", \"Reg\", \"IR1\", \"I...\n",
      "$ MasVnrType    <chr> \"BrkFace\", \"None\", \"Brk...\n",
      "$ MiscFeature   <chr> NA, NA, NA, NA, NA, \"Sh...\n",
      "$ MSSubClass    <chr> \"60\", \"20\", \"60\", \"70\",...\n",
      "$ MSZoning      <chr> \"RL\", \"RL\", \"RL\", \"RL\",...\n",
      "$ Neighborhood  <chr> \"CollgCr\", \"Veenker\", \"...\n",
      "$ PavedDrive    <chr> \"Y\", \"Y\", \"Y\", \"Y\", \"Y\"...\n",
      "$ PoolQC        <chr> NA, NA, NA, NA, NA, NA,...\n",
      "$ RoofMatl      <chr> \"CompShg\", \"CompShg\", \"...\n",
      "$ RoofStyle     <chr> \"Gable\", \"Gable\", \"Gabl...\n",
      "$ SaleCondition <chr> \"Normal\", \"Normal\", \"No...\n",
      "$ SaleType      <chr> \"WD\", \"WD\", \"WD\", \"WD\",...\n",
      "$ Street        <chr> \"Pave\", \"Pave\", \"Pave\",...\n",
      "$ Utilities     <chr> \"AllPub\", \"AllPub\", \"Al...\n",
      "$ SalePrice     <int> 208500, 181500, 223500,...\n"
     ]
    }
   ],
   "source": [
    "categ_data %>% glimpse(50)"
   ]
  },
  {
   "cell_type": "code",
   "execution_count": 35,
   "metadata": {
    "cell_style": "split"
   },
   "outputs": [
    {
     "name": "stdout",
     "output_type": "stream",
     "text": [
      "Observations: 2,919\n",
      "Variables: 36\n",
      "$ BedroomAbvGr  <int> 3, 3, 3, 3, 4, 1, 3, 3,...\n",
      "$ BsmtFinSF1    <int> 706, 978, 486, 216, 655...\n",
      "$ BsmtFinSF2    <int> 0, 0, 0, 0, 0, 0, 0, 32...\n",
      "$ BsmtFullBath  <int> 1, 0, 1, 1, 1, 1, 1, 1,...\n",
      "$ BsmtHalfBath  <int> 0, 1, 0, 0, 0, 0, 0, 0,...\n",
      "$ BsmtUnfSF     <int> 150, 284, 434, 540, 490...\n",
      "$ EnclosedPorch <int> 0, 0, 0, 272, 0, 0, 0, ...\n",
      "$ Fireplaces    <int> 0, 1, 1, 1, 1, 0, 1, 2,...\n",
      "$ FullBath      <int> 2, 2, 2, 1, 2, 1, 2, 2,...\n",
      "$ GarageArea    <int> 548, 460, 608, 642, 836...\n",
      "$ GarageCars    <int> 2, 2, 2, 3, 3, 2, 2, 2,...\n",
      "$ GarageYrBlt   <int> 2003, 1976, 2001, 1998,...\n",
      "$ GrLivArea     <int> 1710, 1262, 1786, 1717,...\n",
      "$ HalfBath      <int> 1, 0, 1, 0, 1, 1, 0, 1,...\n",
      "$ KitchenAbvGr  <int> 1, 1, 1, 1, 1, 1, 1, 1,...\n",
      "$ LotArea       <int> 8450, 9600, 11250, 9550...\n",
      "$ LotFrontage   <int> 65, 80, 68, 60, 84, 85,...\n",
      "$ LowQualFinSF  <int> 0, 0, 0, 0, 0, 0, 0, 0,...\n",
      "$ MasVnrArea    <int> 196, 0, 162, 0, 350, 0,...\n",
      "$ MiscVal       <int> 0, 0, 0, 0, 0, 700, 0, ...\n",
      "$ MoSold        <int> 2, 5, 9, 2, 12, 10, 8, ...\n",
      "$ OpenPorchSF   <int> 61, 0, 42, 35, 84, 30, ...\n",
      "$ OverallCond   <int> 5, 8, 5, 5, 5, 5, 5, 6,...\n",
      "$ OverallQual   <int> 7, 6, 7, 7, 8, 5, 8, 7,...\n",
      "$ PoolArea      <int> 0, 0, 0, 0, 0, 0, 0, 0,...\n",
      "$ SalePrice     <int> 208500, 181500, 223500,...\n",
      "$ ScreenPorch   <int> 0, 0, 0, 0, 0, 0, 0, 0,...\n",
      "$ TotalBsmtSF   <int> 856, 1262, 920, 756, 11...\n",
      "$ TotRmsAbvGrd  <int> 8, 6, 6, 7, 9, 5, 7, 7,...\n",
      "$ WoodDeckSF    <int> 0, 298, 0, 0, 192, 40, ...\n",
      "$ X1stFlrSF     <int> 856, 1262, 920, 961, 11...\n",
      "$ X2ndFlrSF     <int> 854, 0, 866, 756, 1053,...\n",
      "$ X3SsnPorch    <int> 0, 0, 0, 0, 0, 320, 0, ...\n",
      "$ YearBuilt     <int> 2003, 1976, 2001, 1915,...\n",
      "$ YearRemodAdd  <int> 2003, 1976, 2002, 1970,...\n",
      "$ YrSold        <int> 2008, 2007, 2008, 2006,...\n"
     ]
    }
   ],
   "source": [
    "numeric_data %>% glimpse(50)"
   ]
  },
  {
   "cell_type": "code",
   "execution_count": null,
   "metadata": {},
   "outputs": [],
   "source": []
  },
  {
   "cell_type": "code",
   "execution_count": 26,
   "metadata": {
    "cell_style": "split"
   },
   "outputs": [
    {
     "data": {
      "text/html": [
       "<dl class=dl-horizontal>\n",
       "\t<dt>Utilities</dt>\n",
       "\t\t<dd>0.0126274874113637</dd>\n",
       "\t<dt>PoolQC</dt>\n",
       "\t\t<dd>0.0382030815177555</dd>\n",
       "\t<dt>Street</dt>\n",
       "\t\t<dd>0.0385036855342322</dd>\n",
       "\t<dt>Condition2</dt>\n",
       "\t\t<dd>0.106433735559327</dd>\n",
       "\t<dt>RoofMatl</dt>\n",
       "\t\t<dd>0.138519383244606</dd>\n",
       "\t<dt>Heating</dt>\n",
       "\t\t<dd>0.139775208659477</dd>\n",
       "</dl>\n"
      ],
      "text/latex": [
       "\\begin{description*}\n",
       "\\item[Utilities] 0.0126274874113637\n",
       "\\item[PoolQC] 0.0382030815177555\n",
       "\\item[Street] 0.0385036855342322\n",
       "\\item[Condition2] 0.106433735559327\n",
       "\\item[RoofMatl] 0.138519383244606\n",
       "\\item[Heating] 0.139775208659477\n",
       "\\end{description*}\n"
      ],
      "text/markdown": [
       "Utilities\n",
       ":   0.0126274874113637PoolQC\n",
       ":   0.0382030815177555Street\n",
       ":   0.0385036855342322Condition2\n",
       ":   0.106433735559327RoofMatl\n",
       ":   0.138519383244606Heating\n",
       ":   0.139775208659477\n",
       "\n"
      ],
      "text/plain": [
       " Utilities     PoolQC     Street Condition2   RoofMatl    Heating \n",
       "0.01262749 0.03820308 0.03850369 0.10643374 0.13851938 0.13977521 "
      ]
     },
     "metadata": {},
     "output_type": "display_data"
    },
    {
     "data": {
      "text/html": [
       "<dl class=dl-horizontal>\n",
       "\t<dt>HouseStyle</dt>\n",
       "\t\t<dd>1.83638248508506</dd>\n",
       "\t<dt>BsmtFinType1</dt>\n",
       "\t\t<dd>2.45472428904981</dd>\n",
       "\t<dt>Exterior1st</dt>\n",
       "\t\t<dd>2.72342893507692</dd>\n",
       "\t<dt>Exterior2nd</dt>\n",
       "\t\t<dd>2.80072036082181</dd>\n",
       "\t<dt>MSSubClass</dt>\n",
       "\t\t<dd>2.92002124819029</dd>\n",
       "\t<dt>Neighborhood</dt>\n",
       "\t\t<dd>4.21209952571481</dd>\n",
       "</dl>\n"
      ],
      "text/latex": [
       "\\begin{description*}\n",
       "\\item[HouseStyle] 1.83638248508506\n",
       "\\item[BsmtFinType1] 2.45472428904981\n",
       "\\item[Exterior1st] 2.72342893507692\n",
       "\\item[Exterior2nd] 2.80072036082181\n",
       "\\item[MSSubClass] 2.92002124819029\n",
       "\\item[Neighborhood] 4.21209952571481\n",
       "\\end{description*}\n"
      ],
      "text/markdown": [
       "HouseStyle\n",
       ":   1.83638248508506BsmtFinType1\n",
       ":   2.45472428904981Exterior1st\n",
       ":   2.72342893507692Exterior2nd\n",
       ":   2.80072036082181MSSubClass\n",
       ":   2.92002124819029Neighborhood\n",
       ":   4.21209952571481\n",
       "\n"
      ],
      "text/plain": [
       "  HouseStyle BsmtFinType1  Exterior1st  Exterior2nd   MSSubClass Neighborhood \n",
       "    1.836382     2.454724     2.723429     2.800720     2.920021     4.212100 "
      ]
     },
     "metadata": {},
     "output_type": "display_data"
    }
   ],
   "source": [
    "categ_data %>%\n",
    "select(-SalePrice) %>%\n",
    "purrr::map(function (col) {\n",
    "    counts = table(col, useNA=\"ifany\")\n",
    "    freqs <- counts / length(col)\n",
    "    -sum(freqs * log2(freqs))\n",
    "}) %>% \n",
    "unlist %>% \n",
    "sort -> x\n",
    "\n",
    "x %>% head\n",
    "x %>% tail"
   ]
  },
  {
   "cell_type": "code",
   "execution_count": 27,
   "metadata": {
    "cell_style": "split"
   },
   "outputs": [
    {
     "data": {
      "text/html": [
       "<dl class=dl-horizontal>\n",
       "\t<dt>PoolArea</dt>\n",
       "\t\t<dd>0.0576771395375412</dd>\n",
       "\t<dt>X3SsnPorch</dt>\n",
       "\t\t<dd>0.158769016109342</dd>\n",
       "\t<dt>LowQualFinSF</dt>\n",
       "\t\t<dd>0.173265134834529</dd>\n",
       "\t<dt>KitchenAbvGr</dt>\n",
       "\t\t<dd>0.280959148635171</dd>\n",
       "\t<dt>BsmtHalfBath</dt>\n",
       "\t\t<dd>0.344807645693386</dd>\n",
       "\t<dt>MiscVal</dt>\n",
       "\t\t<dd>0.37490331877301</dd>\n",
       "</dl>\n"
      ],
      "text/latex": [
       "\\begin{description*}\n",
       "\\item[PoolArea] 0.0576771395375412\n",
       "\\item[X3SsnPorch] 0.158769016109342\n",
       "\\item[LowQualFinSF] 0.173265134834529\n",
       "\\item[KitchenAbvGr] 0.280959148635171\n",
       "\\item[BsmtHalfBath] 0.344807645693386\n",
       "\\item[MiscVal] 0.37490331877301\n",
       "\\end{description*}\n"
      ],
      "text/markdown": [
       "PoolArea\n",
       ":   0.0576771395375412X3SsnPorch\n",
       ":   0.158769016109342LowQualFinSF\n",
       ":   0.173265134834529KitchenAbvGr\n",
       ":   0.280959148635171BsmtHalfBath\n",
       ":   0.344807645693386MiscVal\n",
       ":   0.37490331877301\n",
       "\n"
      ],
      "text/plain": [
       "    PoolArea   X3SsnPorch LowQualFinSF KitchenAbvGr BsmtHalfBath      MiscVal \n",
       "  0.05767714   0.15876902   0.17326513   0.28095915   0.34480765   0.37490332 "
      ]
     },
     "metadata": {},
     "output_type": "display_data"
    },
    {
     "data": {
      "text/html": [
       "<dl class=dl-horizontal>\n",
       "\t<dt>TotalBsmtSF</dt>\n",
       "\t\t<dd>9.34875748196519</dd>\n",
       "\t<dt>BsmtUnfSF</dt>\n",
       "\t\t<dd>9.3908853664115</dd>\n",
       "\t<dt>X1stFlrSF</dt>\n",
       "\t\t<dd>9.60160805343635</dd>\n",
       "\t<dt>GrLivArea</dt>\n",
       "\t\t<dd>9.88293894360165</dd>\n",
       "\t<dt>LotArea</dt>\n",
       "\t\t<dd>10.4006023320561</dd>\n",
       "\t<dt>Id</dt>\n",
       "\t\t<dd>11.5112584955023</dd>\n",
       "</dl>\n"
      ],
      "text/latex": [
       "\\begin{description*}\n",
       "\\item[TotalBsmtSF] 9.34875748196519\n",
       "\\item[BsmtUnfSF] 9.3908853664115\n",
       "\\item[X1stFlrSF] 9.60160805343635\n",
       "\\item[GrLivArea] 9.88293894360165\n",
       "\\item[LotArea] 10.4006023320561\n",
       "\\item[Id] 11.5112584955023\n",
       "\\end{description*}\n"
      ],
      "text/markdown": [
       "TotalBsmtSF\n",
       ":   9.34875748196519BsmtUnfSF\n",
       ":   9.3908853664115X1stFlrSF\n",
       ":   9.60160805343635GrLivArea\n",
       ":   9.88293894360165LotArea\n",
       ":   10.4006023320561Id\n",
       ":   11.5112584955023\n",
       "\n"
      ],
      "text/plain": [
       "TotalBsmtSF   BsmtUnfSF   X1stFlrSF   GrLivArea     LotArea          Id \n",
       "   9.348757    9.390885    9.601608    9.882939   10.400602   11.511258 "
      ]
     },
     "metadata": {},
     "output_type": "display_data"
    }
   ],
   "source": [
    "numeric_data %>%\n",
    "select(-SalePrice) %>%\n",
    "purrr::map(function (col) {\n",
    "    counts = table(col, useNA=\"ifany\")\n",
    "    freqs <- counts / length(col)\n",
    "    -sum(freqs * log2(freqs))\n",
    "}) %>% \n",
    "unlist %>% \n",
    "sort -> x\n",
    "\n",
    "x %>% head\n",
    "x %>% tail"
   ]
  },
  {
   "cell_type": "code",
   "execution_count": null,
   "metadata": {
    "collapsed": true
   },
   "outputs": [],
   "source": []
  },
  {
   "cell_type": "code",
   "execution_count": null,
   "metadata": {
    "collapsed": true
   },
   "outputs": [],
   "source": []
  },
  {
   "cell_type": "code",
   "execution_count": null,
   "metadata": {
    "collapsed": true
   },
   "outputs": [],
   "source": []
  },
  {
   "cell_type": "code",
   "execution_count": null,
   "metadata": {
    "collapsed": true
   },
   "outputs": [],
   "source": []
  },
  {
   "cell_type": "code",
   "execution_count": null,
   "metadata": {
    "collapsed": true
   },
   "outputs": [],
   "source": []
  },
  {
   "cell_type": "code",
   "execution_count": null,
   "metadata": {
    "collapsed": true
   },
   "outputs": [],
   "source": []
  },
  {
   "cell_type": "code",
   "execution_count": null,
   "metadata": {
    "collapsed": true
   },
   "outputs": [],
   "source": []
  },
  {
   "cell_type": "code",
   "execution_count": null,
   "metadata": {
    "collapsed": true
   },
   "outputs": [],
   "source": []
  },
  {
   "cell_type": "code",
   "execution_count": null,
   "metadata": {
    "collapsed": true
   },
   "outputs": [],
   "source": []
  },
  {
   "cell_type": "code",
   "execution_count": null,
   "metadata": {
    "collapsed": true
   },
   "outputs": [],
   "source": []
  },
  {
   "cell_type": "code",
   "execution_count": null,
   "metadata": {
    "collapsed": true
   },
   "outputs": [],
   "source": []
  }
 ],
 "metadata": {
  "kernelspec": {
   "display_name": "R",
   "language": "R",
   "name": "ir"
  },
  "language_info": {
   "codemirror_mode": "r",
   "file_extension": ".r",
   "mimetype": "text/x-r-source",
   "name": "R",
   "pygments_lexer": "r",
   "version": "3.4.2"
  }
 },
 "nbformat": 4,
 "nbformat_minor": 2
}
