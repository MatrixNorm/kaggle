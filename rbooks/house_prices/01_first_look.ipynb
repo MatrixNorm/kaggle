{
 "cells": [
  {
   "cell_type": "code",
   "execution_count": 1,
   "metadata": {},
   "outputs": [
    {
     "data": {
      "text/html": [
       "'/mnt/hdd/develop/kaggle/R_sources/house_prices'"
      ],
      "text/latex": [
       "'/mnt/hdd/develop/kaggle/R\\_sources/house\\_prices'"
      ],
      "text/markdown": [
       "'/mnt/hdd/develop/kaggle/R_sources/house_prices'"
      ],
      "text/plain": [
       "[1] \"/mnt/hdd/develop/kaggle/R_sources/house_prices\""
      ]
     },
     "metadata": {},
     "output_type": "display_data"
    }
   ],
   "source": [
    "setwd(paste0(Sys.getenv('R_SOURCES'), '/house_prices'))\n",
    "getwd()"
   ]
  },
  {
   "cell_type": "code",
   "execution_count": 3,
   "metadata": {},
   "outputs": [],
   "source": [
    "source('main.R')\n",
    "\n",
    "house_prices$helpers$import_libs()\n",
    "\n",
    "combined_dataset <- house_prices$helpers$load_data()"
   ]
  },
  {
   "cell_type": "code",
   "execution_count": 4,
   "metadata": {},
   "outputs": [
    {
     "data": {
      "text/html": [
       "<ol class=list-inline>\n",
       "\t<li>2919</li>\n",
       "\t<li>82</li>\n",
       "</ol>\n"
      ],
      "text/latex": [
       "\\begin{enumerate*}\n",
       "\\item 2919\n",
       "\\item 82\n",
       "\\end{enumerate*}\n"
      ],
      "text/markdown": [
       "1. 2919\n",
       "2. 82\n",
       "\n",
       "\n"
      ],
      "text/plain": [
       "[1] 2919   82"
      ]
     },
     "metadata": {},
     "output_type": "display_data"
    },
    {
     "data": {
      "text/html": [
       "<ol class=list-inline>\n",
       "\t<li>1460</li>\n",
       "\t<li>82</li>\n",
       "</ol>\n"
      ],
      "text/latex": [
       "\\begin{enumerate*}\n",
       "\\item 1460\n",
       "\\item 82\n",
       "\\end{enumerate*}\n"
      ],
      "text/markdown": [
       "1. 1460\n",
       "2. 82\n",
       "\n",
       "\n"
      ],
      "text/plain": [
       "[1] 1460   82"
      ]
     },
     "metadata": {},
     "output_type": "display_data"
    },
    {
     "data": {
      "text/html": [
       "<ol class=list-inline>\n",
       "\t<li>1459</li>\n",
       "\t<li>82</li>\n",
       "</ol>\n"
      ],
      "text/latex": [
       "\\begin{enumerate*}\n",
       "\\item 1459\n",
       "\\item 82\n",
       "\\end{enumerate*}\n"
      ],
      "text/markdown": [
       "1. 1459\n",
       "2. 82\n",
       "\n",
       "\n"
      ],
      "text/plain": [
       "[1] 1459   82"
      ]
     },
     "metadata": {},
     "output_type": "display_data"
    }
   ],
   "source": [
    "combined_dataset %>% dim\n",
    "combined_dataset %>% filter(dataSource == \"train\") %>% dim\n",
    "combined_dataset %>% filter(dataSource == \"test\") %>% dim"
   ]
  },
  {
   "cell_type": "code",
   "execution_count": 6,
   "metadata": {
    "cell_style": "center",
    "collapsed": true
   },
   "outputs": [],
   "source": [
    "categ_data <- \n",
    "    combined_dataset %>% \n",
    "    select(house_prices$helpers$get_character_colnames(combined_dataset))\n",
    "\n",
    "numeric_data <- \n",
    "    combined_dataset %>% \n",
    "    select(house_prices$helpers$get_numeric_colnames(combined_dataset))"
   ]
  },
  {
   "cell_type": "code",
   "execution_count": 5,
   "metadata": {
    "cell_style": "split"
   },
   "outputs": [
    {
     "name": "stdout",
     "output_type": "stream",
     "text": [
      "Observations: 2,919\n",
      "Variables: 45\n",
      "$ Alley         <chr> NA, NA, NA, NA, NA, NA,...\n",
      "$ BldgType      <chr> \"1Fam\", \"1Fam\", \"1Fam\",...\n",
      "$ BsmtCond      <chr> \"TA\", \"TA\", \"TA\", \"Gd\",...\n",
      "$ BsmtExposure  <chr> \"No\", \"Gd\", \"Mn\", \"No\",...\n",
      "$ BsmtFinType1  <chr> \"GLQ\", \"ALQ\", \"GLQ\", \"A...\n",
      "$ BsmtFinType2  <chr> \"Unf\", \"Unf\", \"Unf\", \"U...\n",
      "$ BsmtQual      <chr> \"Gd\", \"Gd\", \"Gd\", \"TA\",...\n",
      "$ CentralAir    <chr> \"Y\", \"Y\", \"Y\", \"Y\", \"Y\"...\n",
      "$ Condition1    <chr> \"Norm\", \"Feedr\", \"Norm\"...\n",
      "$ Condition2    <chr> \"Norm\", \"Norm\", \"Norm\",...\n",
      "$ dataSource    <chr> \"train\", \"train\", \"trai...\n",
      "$ Electrical    <chr> \"SBrkr\", \"SBrkr\", \"SBrk...\n",
      "$ ExterCond     <chr> \"TA\", \"TA\", \"TA\", \"TA\",...\n",
      "$ Exterior1st   <chr> \"VinylSd\", \"MetalSd\", \"...\n",
      "$ Exterior2nd   <chr> \"VinylSd\", \"MetalSd\", \"...\n",
      "$ ExterQual     <chr> \"Gd\", \"TA\", \"Gd\", \"TA\",...\n",
      "$ Fence         <chr> NA, NA, NA, NA, NA, \"Mn...\n",
      "$ FireplaceQu   <chr> NA, \"TA\", \"TA\", \"Gd\", \"...\n",
      "$ Foundation    <chr> \"PConc\", \"CBlock\", \"PCo...\n",
      "$ Functional    <chr> \"Typ\", \"Typ\", \"Typ\", \"T...\n",
      "$ GarageCond    <chr> \"TA\", \"TA\", \"TA\", \"TA\",...\n",
      "$ GarageFinish  <chr> \"RFn\", \"RFn\", \"RFn\", \"U...\n",
      "$ GarageQual    <chr> \"TA\", \"TA\", \"TA\", \"TA\",...\n",
      "$ GarageType    <chr> \"Attchd\", \"Attchd\", \"At...\n",
      "$ Heating       <chr> \"GasA\", \"GasA\", \"GasA\",...\n",
      "$ HeatingQC     <chr> \"Ex\", \"Ex\", \"Ex\", \"Gd\",...\n",
      "$ HouseStyle    <chr> \"2Story\", \"1Story\", \"2S...\n",
      "$ KitchenQual   <chr> \"Gd\", \"TA\", \"Gd\", \"Gd\",...\n",
      "$ LandContour   <chr> \"Lvl\", \"Lvl\", \"Lvl\", \"L...\n",
      "$ LandSlope     <chr> \"Gtl\", \"Gtl\", \"Gtl\", \"G...\n",
      "$ LotConfig     <chr> \"Inside\", \"FR2\", \"Insid...\n",
      "$ LotShape      <chr> \"Reg\", \"Reg\", \"IR1\", \"I...\n",
      "$ MasVnrType    <chr> \"BrkFace\", \"None\", \"Brk...\n",
      "$ MiscFeature   <chr> NA, NA, NA, NA, NA, \"Sh...\n",
      "$ MSSubClass    <chr> \"60\", \"20\", \"60\", \"70\",...\n",
      "$ MSZoning      <chr> \"RL\", \"RL\", \"RL\", \"RL\",...\n",
      "$ Neighborhood  <chr> \"CollgCr\", \"Veenker\", \"...\n",
      "$ PavedDrive    <chr> \"Y\", \"Y\", \"Y\", \"Y\", \"Y\"...\n",
      "$ PoolQC        <chr> NA, NA, NA, NA, NA, NA,...\n",
      "$ RoofMatl      <chr> \"CompShg\", \"CompShg\", \"...\n",
      "$ RoofStyle     <chr> \"Gable\", \"Gable\", \"Gabl...\n",
      "$ SaleCondition <chr> \"Normal\", \"Normal\", \"No...\n",
      "$ SaleType      <chr> \"WD\", \"WD\", \"WD\", \"WD\",...\n",
      "$ Street        <chr> \"Pave\", \"Pave\", \"Pave\",...\n",
      "$ Utilities     <chr> \"AllPub\", \"AllPub\", \"Al...\n"
     ]
    }
   ],
   "source": [
    "categ_data %>% glimpse(50)"
   ]
  },
  {
   "cell_type": "code",
   "execution_count": 6,
   "metadata": {
    "cell_style": "split"
   },
   "outputs": [
    {
     "name": "stdout",
     "output_type": "stream",
     "text": [
      "Observations: 2,919\n",
      "Variables: 37\n",
      "$ BedroomAbvGr  <int> 3, 3, 3, 3, 4, 1, 3, 3,...\n",
      "$ BsmtFinSF1    <int> 706, 978, 486, 216, 655...\n",
      "$ BsmtFinSF2    <int> 0, 0, 0, 0, 0, 0, 0, 32...\n",
      "$ BsmtFullBath  <int> 1, 0, 1, 1, 1, 1, 1, 1,...\n",
      "$ BsmtHalfBath  <int> 0, 1, 0, 0, 0, 0, 0, 0,...\n",
      "$ BsmtUnfSF     <int> 150, 284, 434, 540, 490...\n",
      "$ EnclosedPorch <int> 0, 0, 0, 272, 0, 0, 0, ...\n",
      "$ Fireplaces    <int> 0, 1, 1, 1, 1, 0, 1, 2,...\n",
      "$ FullBath      <int> 2, 2, 2, 1, 2, 1, 2, 2,...\n",
      "$ GarageArea    <int> 548, 460, 608, 642, 836...\n",
      "$ GarageCars    <int> 2, 2, 2, 3, 3, 2, 2, 2,...\n",
      "$ GarageYrBlt   <int> 2003, 1976, 2001, 1998,...\n",
      "$ GrLivArea     <int> 1710, 1262, 1786, 1717,...\n",
      "$ HalfBath      <int> 1, 0, 1, 0, 1, 1, 0, 1,...\n",
      "$ Id            <int> 1, 2, 3, 4, 5, 6, 7, 8,...\n",
      "$ KitchenAbvGr  <int> 1, 1, 1, 1, 1, 1, 1, 1,...\n",
      "$ LotArea       <int> 8450, 9600, 11250, 9550...\n",
      "$ LotFrontage   <int> 65, 80, 68, 60, 84, 85,...\n",
      "$ LowQualFinSF  <int> 0, 0, 0, 0, 0, 0, 0, 0,...\n",
      "$ MasVnrArea    <int> 196, 0, 162, 0, 350, 0,...\n",
      "$ MiscVal       <int> 0, 0, 0, 0, 0, 700, 0, ...\n",
      "$ MoSold        <int> 2, 5, 9, 2, 12, 10, 8, ...\n",
      "$ OpenPorchSF   <int> 61, 0, 42, 35, 84, 30, ...\n",
      "$ OverallCond   <int> 5, 8, 5, 5, 5, 5, 5, 6,...\n",
      "$ OverallQual   <int> 7, 6, 7, 7, 8, 5, 8, 7,...\n",
      "$ PoolArea      <int> 0, 0, 0, 0, 0, 0, 0, 0,...\n",
      "$ SalePrice     <int> 208500, 181500, 223500,...\n",
      "$ ScreenPorch   <int> 0, 0, 0, 0, 0, 0, 0, 0,...\n",
      "$ TotalBsmtSF   <int> 856, 1262, 920, 756, 11...\n",
      "$ TotRmsAbvGrd  <int> 8, 6, 6, 7, 9, 5, 7, 7,...\n",
      "$ WoodDeckSF    <int> 0, 298, 0, 0, 192, 40, ...\n",
      "$ X1stFlrSF     <int> 856, 1262, 920, 961, 11...\n",
      "$ X2ndFlrSF     <int> 854, 0, 866, 756, 1053,...\n",
      "$ X3SsnPorch    <int> 0, 0, 0, 0, 0, 320, 0, ...\n",
      "$ YearBuilt     <int> 2003, 1976, 2001, 1915,...\n",
      "$ YearRemodAdd  <int> 2003, 1976, 2002, 1970,...\n",
      "$ YrSold        <int> 2008, 2007, 2008, 2006,...\n"
     ]
    }
   ],
   "source": [
    "numeric_data %>% glimpse(50)"
   ]
  },
  {
   "cell_type": "code",
   "execution_count": 25,
   "metadata": {},
   "outputs": [
    {
     "data": {
      "text/html": [
       "0.965929591138982"
      ],
      "text/latex": [
       "0.965929591138982"
      ],
      "text/markdown": [
       "0.965929591138982"
      ],
      "text/plain": [
       "[1] 0.9659296"
      ]
     },
     "metadata": {},
     "output_type": "display_data"
    }
   ],
   "source": [
    "categ_data %>% select(BldgType) %>% table(useNA=\"ifany\") -> x\n",
    "freqs <- x / nrow(categ_data)\n",
    "\n",
    "-sum(freqs * log2(freqs))"
   ]
  },
  {
   "cell_type": "code",
   "execution_count": 42,
   "metadata": {},
   "outputs": [
    {
     "data": {
      "text/html": [
       "<dl class=dl-horizontal>\n",
       "\t<dt>Utilities</dt>\n",
       "\t\t<dd>0.0126274874113637</dd>\n",
       "\t<dt>PoolQC</dt>\n",
       "\t\t<dd>0.0382030815177555</dd>\n",
       "\t<dt>Street</dt>\n",
       "\t\t<dd>0.0385036855342322</dd>\n",
       "\t<dt>Condition2</dt>\n",
       "\t\t<dd>0.106433735559327</dd>\n",
       "\t<dt>RoofMatl</dt>\n",
       "\t\t<dd>0.138519383244606</dd>\n",
       "\t<dt>Heating</dt>\n",
       "\t\t<dd>0.139775208659477</dd>\n",
       "\t<dt>MiscFeature</dt>\n",
       "\t\t<dd>0.244488323212621</dd>\n",
       "\t<dt>LandSlope</dt>\n",
       "\t\t<dd>0.303799354946232</dd>\n",
       "\t<dt>CentralAir</dt>\n",
       "\t\t<dd>0.355182743667106</dd>\n",
       "\t<dt>Alley</dt>\n",
       "\t\t<dd>0.423391437610985</dd>\n",
       "\t<dt>Electrical</dt>\n",
       "\t\t<dd>0.503760292775132</dd>\n",
       "\t<dt>Functional</dt>\n",
       "\t\t<dd>0.511512675547631</dd>\n",
       "\t<dt>PavedDrive</dt>\n",
       "\t\t<dd>0.52663506015503</dd>\n",
       "\t<dt>GarageCond</dt>\n",
       "\t\t<dd>0.574163770718319</dd>\n",
       "\t<dt>LandContour</dt>\n",
       "\t\t<dd>0.62955584208595</dd>\n",
       "\t<dt>GarageQual</dt>\n",
       "\t\t<dd>0.652130670378798</dd>\n",
       "\t<dt>BsmtCond</dt>\n",
       "\t\t<dd>0.669454495087392</dd>\n",
       "\t<dt>ExterCond</dt>\n",
       "\t\t<dd>0.679936159118079</dd>\n",
       "\t<dt>SaleType</dt>\n",
       "\t\t<dd>0.810475502354668</dd>\n",
       "\t<dt>RoofStyle</dt>\n",
       "\t\t<dd>0.869682880952483</dd>\n",
       "\t<dt>Condition1</dt>\n",
       "\t\t<dd>0.918739270734752</dd>\n",
       "\t<dt>BsmtFinType2</dt>\n",
       "\t\t<dd>0.964902745316603</dd>\n",
       "\t<dt>BldgType</dt>\n",
       "\t\t<dd>0.965929591138982</dd>\n",
       "\t<dt>SaleCondition</dt>\n",
       "\t\t<dd>0.971895546818463</dd>\n",
       "\t<dt>dataSource</dt>\n",
       "\t\t<dd>0.999999915340371</dd>\n",
       "\t<dt>Fence</dt>\n",
       "\t\t<dd>1.00775062359918</dd>\n",
       "\t<dt>MSZoning</dt>\n",
       "\t\t<dd>1.04573605508308</dd>\n",
       "\t<dt>LotShape</dt>\n",
       "\t\t<dd>1.12084384808917</dd>\n",
       "\t<dt>LotConfig</dt>\n",
       "\t\t<dd>1.20065237830589</dd>\n",
       "\t<dt>ExterQual</dt>\n",
       "\t\t<dd>1.2105790669257</dd>\n",
       "\t<dt>MasVnrType</dt>\n",
       "\t\t<dd>1.38455666001172</dd>\n",
       "\t<dt>KitchenQual</dt>\n",
       "\t\t<dd>1.42640467043349</dd>\n",
       "\t<dt>Foundation</dt>\n",
       "\t\t<dd>1.53324045641485</dd>\n",
       "\t<dt>BsmtExposure</dt>\n",
       "\t\t<dd>1.5657332059836</dd>\n",
       "\t<dt>HeatingQC</dt>\n",
       "\t\t<dd>1.60709360401804</dd>\n",
       "\t<dt>GarageType</dt>\n",
       "\t\t<dd>1.6097722802734</dd>\n",
       "\t<dt>BsmtQual</dt>\n",
       "\t\t<dd>1.65312352280094</dd>\n",
       "\t<dt>GarageFinish</dt>\n",
       "\t\t<dd>1.76533211857695</dd>\n",
       "\t<dt>FireplaceQu</dt>\n",
       "\t\t<dd>1.79360788370344</dd>\n",
       "\t<dt>HouseStyle</dt>\n",
       "\t\t<dd>1.83638248508506</dd>\n",
       "\t<dt>BsmtFinType1</dt>\n",
       "\t\t<dd>2.45472428904981</dd>\n",
       "\t<dt>Exterior1st</dt>\n",
       "\t\t<dd>2.72342893507692</dd>\n",
       "\t<dt>Exterior2nd</dt>\n",
       "\t\t<dd>2.80072036082181</dd>\n",
       "\t<dt>MSSubClass</dt>\n",
       "\t\t<dd>2.92002124819029</dd>\n",
       "\t<dt>Neighborhood</dt>\n",
       "\t\t<dd>4.21209952571481</dd>\n",
       "</dl>\n"
      ],
      "text/latex": [
       "\\begin{description*}\n",
       "\\item[Utilities] 0.0126274874113637\n",
       "\\item[PoolQC] 0.0382030815177555\n",
       "\\item[Street] 0.0385036855342322\n",
       "\\item[Condition2] 0.106433735559327\n",
       "\\item[RoofMatl] 0.138519383244606\n",
       "\\item[Heating] 0.139775208659477\n",
       "\\item[MiscFeature] 0.244488323212621\n",
       "\\item[LandSlope] 0.303799354946232\n",
       "\\item[CentralAir] 0.355182743667106\n",
       "\\item[Alley] 0.423391437610985\n",
       "\\item[Electrical] 0.503760292775132\n",
       "\\item[Functional] 0.511512675547631\n",
       "\\item[PavedDrive] 0.52663506015503\n",
       "\\item[GarageCond] 0.574163770718319\n",
       "\\item[LandContour] 0.62955584208595\n",
       "\\item[GarageQual] 0.652130670378798\n",
       "\\item[BsmtCond] 0.669454495087392\n",
       "\\item[ExterCond] 0.679936159118079\n",
       "\\item[SaleType] 0.810475502354668\n",
       "\\item[RoofStyle] 0.869682880952483\n",
       "\\item[Condition1] 0.918739270734752\n",
       "\\item[BsmtFinType2] 0.964902745316603\n",
       "\\item[BldgType] 0.965929591138982\n",
       "\\item[SaleCondition] 0.971895546818463\n",
       "\\item[dataSource] 0.999999915340371\n",
       "\\item[Fence] 1.00775062359918\n",
       "\\item[MSZoning] 1.04573605508308\n",
       "\\item[LotShape] 1.12084384808917\n",
       "\\item[LotConfig] 1.20065237830589\n",
       "\\item[ExterQual] 1.2105790669257\n",
       "\\item[MasVnrType] 1.38455666001172\n",
       "\\item[KitchenQual] 1.42640467043349\n",
       "\\item[Foundation] 1.53324045641485\n",
       "\\item[BsmtExposure] 1.5657332059836\n",
       "\\item[HeatingQC] 1.60709360401804\n",
       "\\item[GarageType] 1.6097722802734\n",
       "\\item[BsmtQual] 1.65312352280094\n",
       "\\item[GarageFinish] 1.76533211857695\n",
       "\\item[FireplaceQu] 1.79360788370344\n",
       "\\item[HouseStyle] 1.83638248508506\n",
       "\\item[BsmtFinType1] 2.45472428904981\n",
       "\\item[Exterior1st] 2.72342893507692\n",
       "\\item[Exterior2nd] 2.80072036082181\n",
       "\\item[MSSubClass] 2.92002124819029\n",
       "\\item[Neighborhood] 4.21209952571481\n",
       "\\end{description*}\n"
      ],
      "text/markdown": [
       "Utilities\n",
       ":   0.0126274874113637PoolQC\n",
       ":   0.0382030815177555Street\n",
       ":   0.0385036855342322Condition2\n",
       ":   0.106433735559327RoofMatl\n",
       ":   0.138519383244606Heating\n",
       ":   0.139775208659477MiscFeature\n",
       ":   0.244488323212621LandSlope\n",
       ":   0.303799354946232CentralAir\n",
       ":   0.355182743667106Alley\n",
       ":   0.423391437610985Electrical\n",
       ":   0.503760292775132Functional\n",
       ":   0.511512675547631PavedDrive\n",
       ":   0.52663506015503GarageCond\n",
       ":   0.574163770718319LandContour\n",
       ":   0.62955584208595GarageQual\n",
       ":   0.652130670378798BsmtCond\n",
       ":   0.669454495087392ExterCond\n",
       ":   0.679936159118079SaleType\n",
       ":   0.810475502354668RoofStyle\n",
       ":   0.869682880952483Condition1\n",
       ":   0.918739270734752BsmtFinType2\n",
       ":   0.964902745316603BldgType\n",
       ":   0.965929591138982SaleCondition\n",
       ":   0.971895546818463dataSource\n",
       ":   0.999999915340371Fence\n",
       ":   1.00775062359918MSZoning\n",
       ":   1.04573605508308LotShape\n",
       ":   1.12084384808917LotConfig\n",
       ":   1.20065237830589ExterQual\n",
       ":   1.2105790669257MasVnrType\n",
       ":   1.38455666001172KitchenQual\n",
       ":   1.42640467043349Foundation\n",
       ":   1.53324045641485BsmtExposure\n",
       ":   1.5657332059836HeatingQC\n",
       ":   1.60709360401804GarageType\n",
       ":   1.6097722802734BsmtQual\n",
       ":   1.65312352280094GarageFinish\n",
       ":   1.76533211857695FireplaceQu\n",
       ":   1.79360788370344HouseStyle\n",
       ":   1.83638248508506BsmtFinType1\n",
       ":   2.45472428904981Exterior1st\n",
       ":   2.72342893507692Exterior2nd\n",
       ":   2.80072036082181MSSubClass\n",
       ":   2.92002124819029Neighborhood\n",
       ":   4.21209952571481\n",
       "\n"
      ],
      "text/plain": [
       "    Utilities        PoolQC        Street    Condition2      RoofMatl \n",
       "   0.01262749    0.03820308    0.03850369    0.10643374    0.13851938 \n",
       "      Heating   MiscFeature     LandSlope    CentralAir         Alley \n",
       "   0.13977521    0.24448832    0.30379935    0.35518274    0.42339144 \n",
       "   Electrical    Functional    PavedDrive    GarageCond   LandContour \n",
       "   0.50376029    0.51151268    0.52663506    0.57416377    0.62955584 \n",
       "   GarageQual      BsmtCond     ExterCond      SaleType     RoofStyle \n",
       "   0.65213067    0.66945450    0.67993616    0.81047550    0.86968288 \n",
       "   Condition1  BsmtFinType2      BldgType SaleCondition    dataSource \n",
       "   0.91873927    0.96490275    0.96592959    0.97189555    0.99999992 \n",
       "        Fence      MSZoning      LotShape     LotConfig     ExterQual \n",
       "   1.00775062    1.04573606    1.12084385    1.20065238    1.21057907 \n",
       "   MasVnrType   KitchenQual    Foundation  BsmtExposure     HeatingQC \n",
       "   1.38455666    1.42640467    1.53324046    1.56573321    1.60709360 \n",
       "   GarageType      BsmtQual  GarageFinish   FireplaceQu    HouseStyle \n",
       "   1.60977228    1.65312352    1.76533212    1.79360788    1.83638249 \n",
       " BsmtFinType1   Exterior1st   Exterior2nd    MSSubClass  Neighborhood \n",
       "   2.45472429    2.72342894    2.80072036    2.92002125    4.21209953 "
      ]
     },
     "metadata": {},
     "output_type": "display_data"
    }
   ],
   "source": [
    "categ_data %>% \n",
    "    purrr::map(function (col) {\n",
    "        freqs <- table(col, useNA=\"ifany\") / length(col)\n",
    "        -sum(freqs * log2(freqs))\n",
    "    }) -> x\n",
    "\n",
    "x %>% unlist %>% sort"
   ]
  },
  {
   "cell_type": "code",
   "execution_count": null,
   "metadata": {
    "collapsed": true
   },
   "outputs": [],
   "source": []
  },
  {
   "cell_type": "code",
   "execution_count": null,
   "metadata": {
    "collapsed": true
   },
   "outputs": [],
   "source": []
  },
  {
   "cell_type": "code",
   "execution_count": null,
   "metadata": {
    "collapsed": true
   },
   "outputs": [],
   "source": []
  },
  {
   "cell_type": "code",
   "execution_count": null,
   "metadata": {
    "collapsed": true
   },
   "outputs": [],
   "source": []
  },
  {
   "cell_type": "code",
   "execution_count": null,
   "metadata": {
    "collapsed": true
   },
   "outputs": [],
   "source": []
  },
  {
   "cell_type": "code",
   "execution_count": null,
   "metadata": {
    "collapsed": true
   },
   "outputs": [],
   "source": []
  },
  {
   "cell_type": "code",
   "execution_count": null,
   "metadata": {
    "collapsed": true
   },
   "outputs": [],
   "source": []
  },
  {
   "cell_type": "code",
   "execution_count": null,
   "metadata": {
    "collapsed": true
   },
   "outputs": [],
   "source": []
  },
  {
   "cell_type": "code",
   "execution_count": null,
   "metadata": {
    "collapsed": true
   },
   "outputs": [],
   "source": []
  },
  {
   "cell_type": "code",
   "execution_count": null,
   "metadata": {
    "collapsed": true
   },
   "outputs": [],
   "source": []
  },
  {
   "cell_type": "code",
   "execution_count": null,
   "metadata": {
    "collapsed": true
   },
   "outputs": [],
   "source": []
  },
  {
   "cell_type": "code",
   "execution_count": null,
   "metadata": {
    "collapsed": true
   },
   "outputs": [],
   "source": []
  }
 ],
 "metadata": {
  "kernelspec": {
   "display_name": "R",
   "language": "R",
   "name": "ir"
  },
  "language_info": {
   "codemirror_mode": "r",
   "file_extension": ".r",
   "mimetype": "text/x-r-source",
   "name": "R",
   "pygments_lexer": "r",
   "version": "3.4.2"
  }
 },
 "nbformat": 4,
 "nbformat_minor": 2
}
