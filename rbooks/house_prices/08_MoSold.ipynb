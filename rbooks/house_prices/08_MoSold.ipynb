{
 "cells": [
  {
   "cell_type": "code",
   "execution_count": 1,
   "metadata": {},
   "outputs": [
    {
     "data": {
      "text/html": [
       "'/mnt/hdd/develop/kaggle/R_sources/house_prices'"
      ],
      "text/latex": [
       "'/mnt/hdd/develop/kaggle/R\\_sources/house\\_prices'"
      ],
      "text/markdown": [
       "'/mnt/hdd/develop/kaggle/R_sources/house_prices'"
      ],
      "text/plain": [
       "[1] \"/mnt/hdd/develop/kaggle/R_sources/house_prices\""
      ]
     },
     "metadata": {},
     "output_type": "display_data"
    }
   ],
   "source": [
    "setwd(paste0(Sys.getenv('R_SOURCES'), '/house_prices'))\n",
    "getwd()"
   ]
  },
  {
   "cell_type": "code",
   "execution_count": 3,
   "metadata": {},
   "outputs": [
    {
     "data": {
      "text/html": [
       "<ol class=list-inline>\n",
       "\t<li>2919</li>\n",
       "\t<li>82</li>\n",
       "</ol>\n"
      ],
      "text/latex": [
       "\\begin{enumerate*}\n",
       "\\item 2919\n",
       "\\item 82\n",
       "\\end{enumerate*}\n"
      ],
      "text/markdown": [
       "1. 2919\n",
       "2. 82\n",
       "\n",
       "\n"
      ],
      "text/plain": [
       "[1] 2919   82"
      ]
     },
     "metadata": {},
     "output_type": "display_data"
    },
    {
     "data": {
      "text/html": [
       "<ol class=list-inline>\n",
       "\t<li>1460</li>\n",
       "\t<li>82</li>\n",
       "</ol>\n"
      ],
      "text/latex": [
       "\\begin{enumerate*}\n",
       "\\item 1460\n",
       "\\item 82\n",
       "\\end{enumerate*}\n"
      ],
      "text/markdown": [
       "1. 1460\n",
       "2. 82\n",
       "\n",
       "\n"
      ],
      "text/plain": [
       "[1] 1460   82"
      ]
     },
     "metadata": {},
     "output_type": "display_data"
    },
    {
     "data": {
      "text/html": [
       "<ol class=list-inline>\n",
       "\t<li>1459</li>\n",
       "\t<li>82</li>\n",
       "</ol>\n"
      ],
      "text/latex": [
       "\\begin{enumerate*}\n",
       "\\item 1459\n",
       "\\item 82\n",
       "\\end{enumerate*}\n"
      ],
      "text/markdown": [
       "1. 1459\n",
       "2. 82\n",
       "\n",
       "\n"
      ],
      "text/plain": [
       "[1] 1459   82"
      ]
     },
     "metadata": {},
     "output_type": "display_data"
    }
   ],
   "source": [
    "source('main.R')\n",
    "\n",
    "house_prices$helpers$import_libs()\n",
    "\n",
    "combined_dataset <- house_prices$helpers$load_data()\n",
    "\n",
    "combined_dataset %>% dim\n",
    "combined_dataset %>% filter(dataSource == \"train\") %>% dim\n",
    "combined_dataset %>% filter(dataSource == \"test\") %>% dim"
   ]
  },
  {
   "cell_type": "code",
   "execution_count": 17,
   "metadata": {},
   "outputs": [
    {
     "data": {
      "text/html": [
       "<table>\n",
       "<thead><tr><th scope=col>MoSoldChar</th><th scope=col>MoSold</th><th scope=col>price_log</th></tr></thead>\n",
       "<tbody>\n",
       "\t<tr><td>2.538462</td><td> 2      </td><td>12.24769</td></tr>\n",
       "\t<tr><td>2.382353</td><td> 5      </td><td>12.10901</td></tr>\n",
       "\t<tr><td>2.698413</td><td> 9      </td><td>12.31717</td></tr>\n",
       "\t<tr><td>2.538462</td><td> 2      </td><td>11.84940</td></tr>\n",
       "\t<tr><td>2.711864</td><td>12      </td><td>12.42922</td></tr>\n",
       "\t<tr><td>2.449438</td><td>10      </td><td>11.87060</td></tr>\n",
       "</tbody>\n",
       "</table>\n"
      ],
      "text/latex": [
       "\\begin{tabular}{r|lll}\n",
       " MoSoldChar & MoSold & price\\_log\\\\\n",
       "\\hline\n",
       "\t 2.538462 &  2       & 12.24769\\\\\n",
       "\t 2.382353 &  5       & 12.10901\\\\\n",
       "\t 2.698413 &  9       & 12.31717\\\\\n",
       "\t 2.538462 &  2       & 11.84940\\\\\n",
       "\t 2.711864 & 12       & 12.42922\\\\\n",
       "\t 2.449438 & 10       & 11.87060\\\\\n",
       "\\end{tabular}\n"
      ],
      "text/markdown": [
       "\n",
       "MoSoldChar | MoSold | price_log | \n",
       "|---|---|---|---|---|---|\n",
       "| 2.538462 |  2       | 12.24769 | \n",
       "| 2.382353 |  5       | 12.10901 | \n",
       "| 2.698413 |  9       | 12.31717 | \n",
       "| 2.538462 |  2       | 11.84940 | \n",
       "| 2.711864 | 12       | 12.42922 | \n",
       "| 2.449438 | 10       | 11.87060 | \n",
       "\n",
       "\n"
      ],
      "text/plain": [
       "  MoSoldChar MoSold price_log\n",
       "1 2.538462    2     12.24769 \n",
       "2 2.382353    5     12.10901 \n",
       "3 2.698413    9     12.31717 \n",
       "4 2.538462    2     11.84940 \n",
       "5 2.711864   12     12.42922 \n",
       "6 2.449438   10     11.87060 "
      ]
     },
     "metadata": {},
     "output_type": "display_data"
    }
   ],
   "source": [
    "dataset <-\n",
    "    combined_dataset %>%\n",
    "    select(MoSold, SalePrice) %>%\n",
    "    na.omit %>%\n",
    "    mutate(\n",
    "        price_log = log(SalePrice),\n",
    "        MoSoldChar = as.character(MoSold)\n",
    "    ) %>%\n",
    "    select(-SalePrice) %>%\n",
    "    house_prices$trans$categ$rating_transform(price_log)\n",
    "    \n",
    "\n",
    "dataset %>% head"
   ]
  },
  {
   "cell_type": "code",
   "execution_count": 18,
   "metadata": {
    "cell_style": "center"
   },
   "outputs": [
    {
     "data": {
      "text/html": [
       "<table>\n",
       "<thead><tr><th scope=col>r.squared</th><th scope=col>adj.r.squared</th><th scope=col>sigma</th><th scope=col>statistic</th><th scope=col>p.value</th><th scope=col>df</th><th scope=col>logLik</th><th scope=col>AIC</th><th scope=col>BIC</th><th scope=col>deviance</th><th scope=col>df.residual</th></tr></thead>\n",
       "<tbody>\n",
       "\t<tr><td>0.00328667 </td><td>0.002603053</td><td>0.3989316  </td><td>4.807766   </td><td>0.0284893  </td><td>2          </td><td>-728.9603  </td><td>1463.921   </td><td>1479.779   </td><td>232.0355   </td><td>1458       </td></tr>\n",
       "</tbody>\n",
       "</table>\n"
      ],
      "text/latex": [
       "\\begin{tabular}{r|lllllllllll}\n",
       " r.squared & adj.r.squared & sigma & statistic & p.value & df & logLik & AIC & BIC & deviance & df.residual\\\\\n",
       "\\hline\n",
       "\t 0.00328667  & 0.002603053 & 0.3989316   & 4.807766    & 0.0284893   & 2           & -728.9603   & 1463.921    & 1479.779    & 232.0355    & 1458       \\\\\n",
       "\\end{tabular}\n"
      ],
      "text/markdown": [
       "\n",
       "r.squared | adj.r.squared | sigma | statistic | p.value | df | logLik | AIC | BIC | deviance | df.residual | \n",
       "|---|\n",
       "| 0.00328667  | 0.002603053 | 0.3989316   | 4.807766    | 0.0284893   | 2           | -728.9603   | 1463.921    | 1479.779    | 232.0355    | 1458        | \n",
       "\n",
       "\n"
      ],
      "text/plain": [
       "  r.squared  adj.r.squared sigma     statistic p.value   df logLik    AIC     \n",
       "1 0.00328667 0.002603053   0.3989316 4.807766  0.0284893 2  -728.9603 1463.921\n",
       "  BIC      deviance df.residual\n",
       "1 1479.779 232.0355 1458       "
      ]
     },
     "metadata": {},
     "output_type": "display_data"
    },
    {
     "data": {
      "text/html": [
       "<table>\n",
       "<thead><tr><th scope=col>r.squared</th><th scope=col>adj.r.squared</th><th scope=col>sigma</th><th scope=col>statistic</th><th scope=col>p.value</th><th scope=col>df</th><th scope=col>logLik</th><th scope=col>AIC</th><th scope=col>BIC</th><th scope=col>deviance</th><th scope=col>df.residual</th></tr></thead>\n",
       "<tbody>\n",
       "\t<tr><td>0.006920894</td><td>0.00623977 </td><td>0.3982037  </td><td>10.16099   </td><td>0.001464881</td><td>2          </td><td>-726.2937  </td><td>1458.587   </td><td>1474.446   </td><td>231.1895   </td><td>1458       </td></tr>\n",
       "</tbody>\n",
       "</table>\n"
      ],
      "text/latex": [
       "\\begin{tabular}{r|lllllllllll}\n",
       " r.squared & adj.r.squared & sigma & statistic & p.value & df & logLik & AIC & BIC & deviance & df.residual\\\\\n",
       "\\hline\n",
       "\t 0.006920894 & 0.00623977  & 0.3982037   & 10.16099    & 0.001464881 & 2           & -726.2937   & 1458.587    & 1474.446    & 231.1895    & 1458       \\\\\n",
       "\\end{tabular}\n"
      ],
      "text/markdown": [
       "\n",
       "r.squared | adj.r.squared | sigma | statistic | p.value | df | logLik | AIC | BIC | deviance | df.residual | \n",
       "|---|\n",
       "| 0.006920894 | 0.00623977  | 0.3982037   | 10.16099    | 0.001464881 | 2           | -726.2937   | 1458.587    | 1474.446    | 231.1895    | 1458        | \n",
       "\n",
       "\n"
      ],
      "text/plain": [
       "  r.squared   adj.r.squared sigma     statistic p.value     df logLik   \n",
       "1 0.006920894 0.00623977    0.3982037 10.16099  0.001464881 2  -726.2937\n",
       "  AIC      BIC      deviance df.residual\n",
       "1 1458.587 1474.446 231.1895 1458       "
      ]
     },
     "metadata": {},
     "output_type": "display_data"
    }
   ],
   "source": [
    "lm(price_log ~ MoSold, data=dataset) %>% glance\n",
    "lm(price_log ~ MoSoldChar, data=dataset) %>% glance"
   ]
  },
  {
   "cell_type": "code",
   "execution_count": null,
   "metadata": {
    "collapsed": true
   },
   "outputs": [],
   "source": []
  },
  {
   "cell_type": "code",
   "execution_count": null,
   "metadata": {},
   "outputs": [],
   "source": []
  },
  {
   "cell_type": "code",
   "execution_count": null,
   "metadata": {
    "collapsed": true
   },
   "outputs": [],
   "source": []
  },
  {
   "cell_type": "code",
   "execution_count": null,
   "metadata": {
    "collapsed": true
   },
   "outputs": [],
   "source": []
  },
  {
   "cell_type": "code",
   "execution_count": null,
   "metadata": {
    "collapsed": true
   },
   "outputs": [],
   "source": []
  },
  {
   "cell_type": "code",
   "execution_count": null,
   "metadata": {
    "collapsed": true
   },
   "outputs": [],
   "source": []
  },
  {
   "cell_type": "code",
   "execution_count": null,
   "metadata": {
    "collapsed": true
   },
   "outputs": [],
   "source": []
  },
  {
   "cell_type": "code",
   "execution_count": null,
   "metadata": {
    "collapsed": true
   },
   "outputs": [],
   "source": []
  },
  {
   "cell_type": "code",
   "execution_count": null,
   "metadata": {
    "collapsed": true
   },
   "outputs": [],
   "source": []
  }
 ],
 "metadata": {
  "kernelspec": {
   "display_name": "R",
   "language": "R",
   "name": "ir"
  },
  "language_info": {
   "codemirror_mode": "r",
   "file_extension": ".r",
   "mimetype": "text/x-r-source",
   "name": "R",
   "pygments_lexer": "r",
   "version": "3.4.2"
  }
 },
 "nbformat": 4,
 "nbformat_minor": 2
}
