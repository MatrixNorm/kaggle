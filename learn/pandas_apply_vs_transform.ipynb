{
 "cells": [
  {
   "cell_type": "code",
   "execution_count": 5,
   "metadata": {
    "collapsed": true
   },
   "outputs": [],
   "source": [
    "from IPython.core.interactiveshell import InteractiveShell\n",
    "InteractiveShell.ast_node_interactivity = \"all\"\n",
    "%load_ext rpy2.ipython"
   ]
  },
  {
   "cell_type": "code",
   "execution_count": 1,
   "metadata": {
    "cell_style": "split",
    "collapsed": true
   },
   "outputs": [],
   "source": [
    "import numpy as np\n",
    "import pandas as pd"
   ]
  },
  {
   "cell_type": "code",
   "execution_count": 7,
   "metadata": {
    "cell_style": "split"
   },
   "outputs": [],
   "source": [
    "%%R\n",
    "\n",
    "library(dplyr)"
   ]
  },
  {
   "cell_type": "code",
   "execution_count": 12,
   "metadata": {},
   "outputs": [
    {
     "data": {
      "text/html": [
       "<div>\n",
       "<style scoped>\n",
       "    .dataframe tbody tr th:only-of-type {\n",
       "        vertical-align: middle;\n",
       "    }\n",
       "\n",
       "    .dataframe tbody tr th {\n",
       "        vertical-align: top;\n",
       "    }\n",
       "\n",
       "    .dataframe thead th {\n",
       "        text-align: right;\n",
       "    }\n",
       "</style>\n",
       "<table border=\"1\" class=\"dataframe\">\n",
       "  <thead>\n",
       "    <tr style=\"text-align: right;\">\n",
       "      <th></th>\n",
       "      <th>var</th>\n",
       "      <th>type</th>\n",
       "      <th>metric</th>\n",
       "      <th>value</th>\n",
       "    </tr>\n",
       "  </thead>\n",
       "  <tbody>\n",
       "    <tr>\n",
       "      <th>0</th>\n",
       "      <td>x</td>\n",
       "      <td>cat</td>\n",
       "      <td>r2</td>\n",
       "      <td>0.8</td>\n",
       "    </tr>\n",
       "    <tr>\n",
       "      <th>1</th>\n",
       "      <td>y</td>\n",
       "      <td>cat</td>\n",
       "      <td>r2</td>\n",
       "      <td>0.5</td>\n",
       "    </tr>\n",
       "    <tr>\n",
       "      <th>2</th>\n",
       "      <td>z</td>\n",
       "      <td>cat</td>\n",
       "      <td>F</td>\n",
       "      <td>20.0</td>\n",
       "    </tr>\n",
       "    <tr>\n",
       "      <th>3</th>\n",
       "      <td>u</td>\n",
       "      <td>cat</td>\n",
       "      <td>F</td>\n",
       "      <td>30.0</td>\n",
       "    </tr>\n",
       "    <tr>\n",
       "      <th>4</th>\n",
       "      <td>w</td>\n",
       "      <td>num</td>\n",
       "      <td>r2</td>\n",
       "      <td>0.3</td>\n",
       "    </tr>\n",
       "    <tr>\n",
       "      <th>5</th>\n",
       "      <td>t</td>\n",
       "      <td>num</td>\n",
       "      <td>r2</td>\n",
       "      <td>0.5</td>\n",
       "    </tr>\n",
       "  </tbody>\n",
       "</table>\n",
       "</div>"
      ],
      "text/plain": [
       "  var type metric  value\n",
       "0   x  cat     r2    0.8\n",
       "1   y  cat     r2    0.5\n",
       "2   z  cat      F   20.0\n",
       "3   u  cat      F   30.0\n",
       "4   w  num     r2    0.3\n",
       "5   t  num     r2    0.5"
      ]
     },
     "execution_count": 12,
     "metadata": {},
     "output_type": "execute_result"
    }
   ],
   "source": [
    "data = pd.DataFrame(\n",
    "    [\n",
    "        ('x', 'cat',   'r2',   0.8),\n",
    "        ('y', 'cat',   'r2',   0.5),\n",
    "        ('z', 'cat',   'F',    20),\n",
    "        ('u', 'cat',   'F',    30),\n",
    "        ('w', 'num',   'r2',   0.3),\n",
    "        ('t', 'num',   'r2',   0.5),\n",
    "    ], \n",
    "    columns=['var', 'type', 'metric', 'value']\n",
    ")\n",
    "\n",
    "data"
   ]
  },
  {
   "cell_type": "code",
   "execution_count": 13,
   "metadata": {},
   "outputs": [
    {
     "data": {
      "text/plain": [
       "# A tibble: 6 x 5\n",
       "# Groups:   type, metric [3]\n",
       "    var  type metric value    normed\n",
       "  <chr> <chr>  <chr> <dbl>     <dbl>\n",
       "1     x   cat     r2   0.8 1.0000000\n",
       "2     y   cat     r2   0.5 0.6250000\n",
       "3     z   cat      F  20.0 0.6666667\n",
       "4     u   cat      F  30.0 1.0000000\n",
       "5     w   num     r2   0.3 0.6000000\n",
       "6     t   num     r2   0.5 1.0000000\n"
      ]
     },
     "metadata": {},
     "output_type": "display_data"
    }
   ],
   "source": [
    "%%R -i data\n",
    "\n",
    "data %>% group_by(type, metric) %>% mutate(normed = value / max(value))"
   ]
  },
  {
   "cell_type": "code",
   "execution_count": 17,
   "metadata": {},
   "outputs": [
    {
     "data": {
      "text/plain": [
       "0    1.000000\n",
       "1    0.625000\n",
       "2    0.666667\n",
       "3    1.000000\n",
       "4    0.600000\n",
       "5    1.000000\n",
       "Name: value, dtype: float64"
      ]
     },
     "execution_count": 17,
     "metadata": {},
     "output_type": "execute_result"
    },
    {
     "data": {
      "text/html": [
       "<div>\n",
       "<style scoped>\n",
       "    .dataframe tbody tr th:only-of-type {\n",
       "        vertical-align: middle;\n",
       "    }\n",
       "\n",
       "    .dataframe tbody tr th {\n",
       "        vertical-align: top;\n",
       "    }\n",
       "\n",
       "    .dataframe thead th {\n",
       "        text-align: right;\n",
       "    }\n",
       "</style>\n",
       "<table border=\"1\" class=\"dataframe\">\n",
       "  <thead>\n",
       "    <tr style=\"text-align: right;\">\n",
       "      <th></th>\n",
       "      <th>var</th>\n",
       "      <th>type</th>\n",
       "      <th>metric</th>\n",
       "      <th>value</th>\n",
       "      <th>normed</th>\n",
       "    </tr>\n",
       "  </thead>\n",
       "  <tbody>\n",
       "    <tr>\n",
       "      <th>0</th>\n",
       "      <td>x</td>\n",
       "      <td>cat</td>\n",
       "      <td>r2</td>\n",
       "      <td>0.8</td>\n",
       "      <td>1.000000</td>\n",
       "    </tr>\n",
       "    <tr>\n",
       "      <th>1</th>\n",
       "      <td>y</td>\n",
       "      <td>cat</td>\n",
       "      <td>r2</td>\n",
       "      <td>0.5</td>\n",
       "      <td>0.625000</td>\n",
       "    </tr>\n",
       "    <tr>\n",
       "      <th>2</th>\n",
       "      <td>z</td>\n",
       "      <td>cat</td>\n",
       "      <td>F</td>\n",
       "      <td>20.0</td>\n",
       "      <td>0.666667</td>\n",
       "    </tr>\n",
       "    <tr>\n",
       "      <th>3</th>\n",
       "      <td>u</td>\n",
       "      <td>cat</td>\n",
       "      <td>F</td>\n",
       "      <td>30.0</td>\n",
       "      <td>1.000000</td>\n",
       "    </tr>\n",
       "    <tr>\n",
       "      <th>4</th>\n",
       "      <td>w</td>\n",
       "      <td>num</td>\n",
       "      <td>r2</td>\n",
       "      <td>0.3</td>\n",
       "      <td>0.600000</td>\n",
       "    </tr>\n",
       "    <tr>\n",
       "      <th>5</th>\n",
       "      <td>t</td>\n",
       "      <td>num</td>\n",
       "      <td>r2</td>\n",
       "      <td>0.5</td>\n",
       "      <td>1.000000</td>\n",
       "    </tr>\n",
       "  </tbody>\n",
       "</table>\n",
       "</div>"
      ],
      "text/plain": [
       "  var type metric  value    normed\n",
       "0   x  cat     r2    0.8  1.000000\n",
       "1   y  cat     r2    0.5  0.625000\n",
       "2   z  cat      F   20.0  0.666667\n",
       "3   u  cat      F   30.0  1.000000\n",
       "4   w  num     r2    0.3  0.600000\n",
       "5   t  num     r2    0.5  1.000000"
      ]
     },
     "execution_count": 17,
     "metadata": {},
     "output_type": "execute_result"
    }
   ],
   "source": [
    "x = data.groupby(['type', 'metric'])['value'].transform(lambda x: x / np.max(x))\n",
    "x\n",
    "\n",
    "data.assign(normed=x)"
   ]
  },
  {
   "cell_type": "code",
   "execution_count": 24,
   "metadata": {},
   "outputs": [
    {
     "name": "stdout",
     "output_type": "stream",
     "text": [
      "2    20.0\n",
      "3    30.0\n",
      "Name: (cat, F), dtype: float64\n",
      "0    0.8\n",
      "1    0.5\n",
      "Name: (cat, r2), dtype: float64\n",
      "4    0.3\n",
      "5    0.5\n",
      "Name: (num, r2), dtype: float64\n",
      "======\n",
      "<class 'pandas.core.series.Series'>\n",
      "<class 'pandas.core.series.Series'>\n",
      "<class 'pandas.core.series.Series'>\n"
     ]
    }
   ],
   "source": [
    "_ = data.groupby(['type', 'metric'])['value'].transform(lambda x: print(x))\n",
    "\n",
    "print('======')\n",
    "\n",
    "_ = data.groupby(['type', 'metric'])['value'].transform(lambda x: print(type(x)))"
   ]
  },
  {
   "cell_type": "code",
   "execution_count": 25,
   "metadata": {},
   "outputs": [
    {
     "name": "stdout",
     "output_type": "stream",
     "text": [
      "2    z\n",
      "3    u\n",
      "Name: var, dtype: object\n",
      "2    20\n",
      "3    30\n",
      "Name: value, dtype: object\n",
      "  var  value\n",
      "2   z   20.0\n",
      "3   u   30.0\n",
      "0    x\n",
      "1    y\n",
      "Name: var, dtype: object\n",
      "0    0.8\n",
      "1    0.5\n",
      "Name: value, dtype: object\n",
      "4    w\n",
      "5    t\n",
      "Name: var, dtype: object\n",
      "4    0.3\n",
      "5    0.5\n",
      "Name: value, dtype: object\n",
      "======\n",
      "<class 'pandas.core.series.Series'>\n",
      "<class 'pandas.core.series.Series'>\n",
      "<class 'pandas.core.frame.DataFrame'>\n",
      "<class 'pandas.core.series.Series'>\n",
      "<class 'pandas.core.series.Series'>\n",
      "<class 'pandas.core.series.Series'>\n",
      "<class 'pandas.core.series.Series'>\n"
     ]
    }
   ],
   "source": [
    "_ = data.groupby(['type', 'metric']).transform(lambda x: print(x))\n",
    "\n",
    "print('======')\n",
    "\n",
    "_ = data.groupby(['type', 'metric']).transform(lambda x: print(type(x)))"
   ]
  },
  {
   "cell_type": "code",
   "execution_count": 27,
   "metadata": {
    "scrolled": false
   },
   "outputs": [
    {
     "name": "stdout",
     "output_type": "stream",
     "text": [
      "  var type metric  value\n",
      "2   z  cat      F   20.0\n",
      "3   u  cat      F   30.0\n",
      "  var type metric  value\n",
      "2   z  cat      F   20.0\n",
      "3   u  cat      F   30.0\n",
      "  var type metric  value\n",
      "0   x  cat     r2    0.8\n",
      "1   y  cat     r2    0.5\n",
      "  var type metric  value\n",
      "4   w  num     r2    0.3\n",
      "5   t  num     r2    0.5\n",
      "======\n",
      "<class 'pandas.core.frame.DataFrame'>\n",
      "<class 'pandas.core.frame.DataFrame'>\n",
      "<class 'pandas.core.frame.DataFrame'>\n",
      "<class 'pandas.core.frame.DataFrame'>\n"
     ]
    }
   ],
   "source": [
    "_ = data.groupby(['type', 'metric']).apply(lambda x: print(x))\n",
    "\n",
    "print('======')\n",
    "\n",
    "_ = data.groupby(['type', 'metric']).apply(lambda x: print(type(x)))"
   ]
  },
  {
   "cell_type": "code",
   "execution_count": 30,
   "metadata": {},
   "outputs": [
    {
     "name": "stdout",
     "output_type": "stream",
     "text": [
      "2    20.0\n",
      "3    30.0\n",
      "Name: (cat, F), dtype: float64\n",
      "0    0.8\n",
      "1    0.5\n",
      "Name: (cat, r2), dtype: float64\n",
      "4    0.3\n",
      "5    0.5\n",
      "Name: (num, r2), dtype: float64\n",
      "======\n",
      "<class 'pandas.core.series.Series'>\n",
      "<class 'pandas.core.series.Series'>\n",
      "<class 'pandas.core.series.Series'>\n"
     ]
    }
   ],
   "source": [
    "_ = data.groupby(['type', 'metric'])['value'].apply(lambda x: print(x))\n",
    "\n",
    "print('======')\n",
    "\n",
    "_ = data.groupby(['type', 'metric'])['value'].apply(lambda x: print(type(x)))"
   ]
  },
  {
   "cell_type": "code",
   "execution_count": 34,
   "metadata": {},
   "outputs": [
    {
     "data": {
      "text/plain": [
       "0    1.000000\n",
       "1    0.625000\n",
       "2    0.666667\n",
       "3    1.000000\n",
       "4    0.600000\n",
       "5    1.000000\n",
       "Name: value, dtype: float64"
      ]
     },
     "execution_count": 34,
     "metadata": {},
     "output_type": "execute_result"
    },
    {
     "data": {
      "text/html": [
       "<div>\n",
       "<style scoped>\n",
       "    .dataframe tbody tr th:only-of-type {\n",
       "        vertical-align: middle;\n",
       "    }\n",
       "\n",
       "    .dataframe tbody tr th {\n",
       "        vertical-align: top;\n",
       "    }\n",
       "\n",
       "    .dataframe thead th {\n",
       "        text-align: right;\n",
       "    }\n",
       "</style>\n",
       "<table border=\"1\" class=\"dataframe\">\n",
       "  <thead>\n",
       "    <tr style=\"text-align: right;\">\n",
       "      <th></th>\n",
       "      <th>var</th>\n",
       "      <th>type</th>\n",
       "      <th>metric</th>\n",
       "      <th>value</th>\n",
       "      <th>normed</th>\n",
       "    </tr>\n",
       "  </thead>\n",
       "  <tbody>\n",
       "    <tr>\n",
       "      <th>0</th>\n",
       "      <td>x</td>\n",
       "      <td>cat</td>\n",
       "      <td>r2</td>\n",
       "      <td>0.8</td>\n",
       "      <td>1.000000</td>\n",
       "    </tr>\n",
       "    <tr>\n",
       "      <th>1</th>\n",
       "      <td>y</td>\n",
       "      <td>cat</td>\n",
       "      <td>r2</td>\n",
       "      <td>0.5</td>\n",
       "      <td>0.625000</td>\n",
       "    </tr>\n",
       "    <tr>\n",
       "      <th>2</th>\n",
       "      <td>z</td>\n",
       "      <td>cat</td>\n",
       "      <td>F</td>\n",
       "      <td>20.0</td>\n",
       "      <td>0.666667</td>\n",
       "    </tr>\n",
       "    <tr>\n",
       "      <th>3</th>\n",
       "      <td>u</td>\n",
       "      <td>cat</td>\n",
       "      <td>F</td>\n",
       "      <td>30.0</td>\n",
       "      <td>1.000000</td>\n",
       "    </tr>\n",
       "    <tr>\n",
       "      <th>4</th>\n",
       "      <td>w</td>\n",
       "      <td>num</td>\n",
       "      <td>r2</td>\n",
       "      <td>0.3</td>\n",
       "      <td>0.600000</td>\n",
       "    </tr>\n",
       "    <tr>\n",
       "      <th>5</th>\n",
       "      <td>t</td>\n",
       "      <td>num</td>\n",
       "      <td>r2</td>\n",
       "      <td>0.5</td>\n",
       "      <td>1.000000</td>\n",
       "    </tr>\n",
       "  </tbody>\n",
       "</table>\n",
       "</div>"
      ],
      "text/plain": [
       "  var type metric  value    normed\n",
       "0   x  cat     r2    0.8  1.000000\n",
       "1   y  cat     r2    0.5  0.625000\n",
       "2   z  cat      F   20.0  0.666667\n",
       "3   u  cat      F   30.0  1.000000\n",
       "4   w  num     r2    0.3  0.600000\n",
       "5   t  num     r2    0.5  1.000000"
      ]
     },
     "execution_count": 34,
     "metadata": {},
     "output_type": "execute_result"
    }
   ],
   "source": [
    "x = data.groupby(['type', 'metric'])['value'].apply(lambda x: x / np.max(x))\n",
    "x\n",
    "\n",
    "data.assign(normed=x)"
   ]
  },
  {
   "cell_type": "code",
   "execution_count": null,
   "metadata": {
    "collapsed": true
   },
   "outputs": [],
   "source": []
  },
  {
   "cell_type": "code",
   "execution_count": null,
   "metadata": {
    "collapsed": true
   },
   "outputs": [],
   "source": []
  },
  {
   "cell_type": "code",
   "execution_count": null,
   "metadata": {
    "collapsed": true
   },
   "outputs": [],
   "source": []
  },
  {
   "cell_type": "code",
   "execution_count": null,
   "metadata": {
    "collapsed": true
   },
   "outputs": [],
   "source": []
  },
  {
   "cell_type": "code",
   "execution_count": null,
   "metadata": {
    "collapsed": true
   },
   "outputs": [],
   "source": []
  },
  {
   "cell_type": "code",
   "execution_count": null,
   "metadata": {
    "collapsed": true
   },
   "outputs": [],
   "source": []
  }
 ],
 "metadata": {
  "kernelspec": {
   "display_name": "Python 3",
   "language": "python",
   "name": "python3"
  },
  "language_info": {
   "codemirror_mode": {
    "name": "ipython",
    "version": 3
   },
   "file_extension": ".py",
   "mimetype": "text/x-python",
   "name": "python",
   "nbconvert_exporter": "python",
   "pygments_lexer": "ipython3",
   "version": "3.6.3"
  }
 },
 "nbformat": 4,
 "nbformat_minor": 2
}
