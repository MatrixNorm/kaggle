{
 "cells": [
  {
   "cell_type": "markdown",
   "metadata": {},
   "source": [
    "https://stackoverflow.com/questions/41880796/grouped-multicolumn-gather-with-dplyr-tidyr-purrr"
   ]
  },
  {
   "cell_type": "code",
   "execution_count": 2,
   "metadata": {},
   "outputs": [],
   "source": [
    "library(dplyr)\n",
    "library(tidyr)"
   ]
  },
  {
   "cell_type": "code",
   "execution_count": 4,
   "metadata": {},
   "outputs": [
    {
     "data": {
      "text/html": [
       "<table>\n",
       "<thead><tr><th scope=col>gene</th><th scope=col>sample</th><th scope=col>genotype1</th><th scope=col>genotype2</th><th scope=col>genotype3</th><th scope=col>freq1</th><th scope=col>freq2</th><th scope=col>freq3</th></tr></thead>\n",
       "<tbody>\n",
       "\t<tr><td>gX  </td><td>s1  </td><td>AA  </td><td>AC  </td><td>CC  </td><td>0.8 </td><td>0.15</td><td>0.05</td></tr>\n",
       "\t<tr><td>gX  </td><td>s2  </td><td>AA  </td><td>AC  </td><td>CC  </td><td>0.9 </td><td>0.10</td><td>0.00</td></tr>\n",
       "\t<tr><td>gY  </td><td>s1  </td><td>GG  </td><td>GT  </td><td>TT  </td><td>0.7 </td><td>0.20</td><td>0.10</td></tr>\n",
       "\t<tr><td>gY  </td><td>s2  </td><td>GG  </td><td>GT  </td><td>TT  </td><td>0.6 </td><td>0.35</td><td>0.05</td></tr>\n",
       "</tbody>\n",
       "</table>\n"
      ],
      "text/latex": [
       "\\begin{tabular}{r|llllllll}\n",
       " gene & sample & genotype1 & genotype2 & genotype3 & freq1 & freq2 & freq3\\\\\n",
       "\\hline\n",
       "\t gX   & s1   & AA   & AC   & CC   & 0.8  & 0.15 & 0.05\\\\\n",
       "\t gX   & s2   & AA   & AC   & CC   & 0.9  & 0.10 & 0.00\\\\\n",
       "\t gY   & s1   & GG   & GT   & TT   & 0.7  & 0.20 & 0.10\\\\\n",
       "\t gY   & s2   & GG   & GT   & TT   & 0.6  & 0.35 & 0.05\\\\\n",
       "\\end{tabular}\n"
      ],
      "text/markdown": [
       "\n",
       "gene | sample | genotype1 | genotype2 | genotype3 | freq1 | freq2 | freq3 | \n",
       "|---|---|---|---|\n",
       "| gX   | s1   | AA   | AC   | CC   | 0.8  | 0.15 | 0.05 | \n",
       "| gX   | s2   | AA   | AC   | CC   | 0.9  | 0.10 | 0.00 | \n",
       "| gY   | s1   | GG   | GT   | TT   | 0.7  | 0.20 | 0.10 | \n",
       "| gY   | s2   | GG   | GT   | TT   | 0.6  | 0.35 | 0.05 | \n",
       "\n",
       "\n"
      ],
      "text/plain": [
       "  gene sample genotype1 genotype2 genotype3 freq1 freq2 freq3\n",
       "1 gX   s1     AA        AC        CC        0.8   0.15  0.05 \n",
       "2 gX   s2     AA        AC        CC        0.9   0.10  0.00 \n",
       "3 gY   s1     GG        GT        TT        0.7   0.20  0.10 \n",
       "4 gY   s2     GG        GT        TT        0.6   0.35  0.05 "
      ]
     },
     "metadata": {},
     "output_type": "display_data"
    }
   ],
   "source": [
    "have <- data_frame(gene=rep(c(\"gX\", \"gY\"), each=2),\n",
    "                   sample=rep(c(\"s1\", \"s2\"), 2),\n",
    "                   genotype1=c(\"AA\", \"AA\", \"GG\", \"GG\"),\n",
    "                   genotype2=c(\"AC\", \"AC\", \"GT\", \"GT\"),\n",
    "                   genotype3=c(\"CC\", \"CC\", \"TT\", \"TT\"),\n",
    "                   freq1=c(.8,.9, .7, .6),\n",
    "                   freq2=c(.15,.1, .2, .35),\n",
    "                   freq3=c(.05,0, .1, .05))\n",
    "have"
   ]
  },
  {
   "cell_type": "code",
   "execution_count": 10,
   "metadata": {
    "cell_style": "center"
   },
   "outputs": [
    {
     "data": {
      "text/html": [
       "<table>\n",
       "<thead><tr><th scope=col>gene</th><th scope=col>sample</th><th scope=col>variable</th><th scope=col>value</th></tr></thead>\n",
       "<tbody>\n",
       "\t<tr><td>gX       </td><td>s1       </td><td>freq1    </td><td>0.8      </td></tr>\n",
       "\t<tr><td>gX       </td><td>s1       </td><td>freq2    </td><td>0.15     </td></tr>\n",
       "\t<tr><td>gX       </td><td>s1       </td><td>freq3    </td><td>0.05     </td></tr>\n",
       "\t<tr><td>gX       </td><td>s1       </td><td>genotype1</td><td>AA       </td></tr>\n",
       "\t<tr><td>gX       </td><td>s1       </td><td>genotype2</td><td>AC       </td></tr>\n",
       "\t<tr><td>gX       </td><td>s1       </td><td>genotype3</td><td>CC       </td></tr>\n",
       "\t<tr><td>gX       </td><td>s2       </td><td>freq1    </td><td>0.9      </td></tr>\n",
       "\t<tr><td>gX       </td><td>s2       </td><td>freq2    </td><td>0.1      </td></tr>\n",
       "\t<tr><td>gX       </td><td>s2       </td><td>freq3    </td><td>0        </td></tr>\n",
       "\t<tr><td>gX       </td><td>s2       </td><td>genotype1</td><td>AA       </td></tr>\n",
       "\t<tr><td>gX       </td><td>s2       </td><td>genotype2</td><td>AC       </td></tr>\n",
       "\t<tr><td>gX       </td><td>s2       </td><td>genotype3</td><td>CC       </td></tr>\n",
       "\t<tr><td>gY       </td><td>s1       </td><td>freq1    </td><td>0.7      </td></tr>\n",
       "\t<tr><td>gY       </td><td>s1       </td><td>freq2    </td><td>0.2      </td></tr>\n",
       "\t<tr><td>gY       </td><td>s1       </td><td>freq3    </td><td>0.1      </td></tr>\n",
       "\t<tr><td>gY       </td><td>s1       </td><td>genotype1</td><td>GG       </td></tr>\n",
       "\t<tr><td>gY       </td><td>s1       </td><td>genotype2</td><td>GT       </td></tr>\n",
       "\t<tr><td>gY       </td><td>s1       </td><td>genotype3</td><td>TT       </td></tr>\n",
       "\t<tr><td>gY       </td><td>s2       </td><td>freq1    </td><td>0.6      </td></tr>\n",
       "\t<tr><td>gY       </td><td>s2       </td><td>freq2    </td><td>0.35     </td></tr>\n",
       "\t<tr><td>gY       </td><td>s2       </td><td>freq3    </td><td>0.05     </td></tr>\n",
       "\t<tr><td>gY       </td><td>s2       </td><td>genotype1</td><td>GG       </td></tr>\n",
       "\t<tr><td>gY       </td><td>s2       </td><td>genotype2</td><td>GT       </td></tr>\n",
       "\t<tr><td>gY       </td><td>s2       </td><td>genotype3</td><td>TT       </td></tr>\n",
       "</tbody>\n",
       "</table>\n"
      ],
      "text/latex": [
       "\\begin{tabular}{r|llll}\n",
       " gene & sample & variable & value\\\\\n",
       "\\hline\n",
       "\t gX        & s1        & freq1     & 0.8      \\\\\n",
       "\t gX        & s1        & freq2     & 0.15     \\\\\n",
       "\t gX        & s1        & freq3     & 0.05     \\\\\n",
       "\t gX        & s1        & genotype1 & AA       \\\\\n",
       "\t gX        & s1        & genotype2 & AC       \\\\\n",
       "\t gX        & s1        & genotype3 & CC       \\\\\n",
       "\t gX        & s2        & freq1     & 0.9      \\\\\n",
       "\t gX        & s2        & freq2     & 0.1      \\\\\n",
       "\t gX        & s2        & freq3     & 0        \\\\\n",
       "\t gX        & s2        & genotype1 & AA       \\\\\n",
       "\t gX        & s2        & genotype2 & AC       \\\\\n",
       "\t gX        & s2        & genotype3 & CC       \\\\\n",
       "\t gY        & s1        & freq1     & 0.7      \\\\\n",
       "\t gY        & s1        & freq2     & 0.2      \\\\\n",
       "\t gY        & s1        & freq3     & 0.1      \\\\\n",
       "\t gY        & s1        & genotype1 & GG       \\\\\n",
       "\t gY        & s1        & genotype2 & GT       \\\\\n",
       "\t gY        & s1        & genotype3 & TT       \\\\\n",
       "\t gY        & s2        & freq1     & 0.6      \\\\\n",
       "\t gY        & s2        & freq2     & 0.35     \\\\\n",
       "\t gY        & s2        & freq3     & 0.05     \\\\\n",
       "\t gY        & s2        & genotype1 & GG       \\\\\n",
       "\t gY        & s2        & genotype2 & GT       \\\\\n",
       "\t gY        & s2        & genotype3 & TT       \\\\\n",
       "\\end{tabular}\n"
      ],
      "text/markdown": [
       "\n",
       "gene | sample | variable | value | \n",
       "|---|---|---|---|---|---|---|---|---|---|---|---|---|---|---|---|---|---|---|---|---|---|---|---|\n",
       "| gX        | s1        | freq1     | 0.8       | \n",
       "| gX        | s1        | freq2     | 0.15      | \n",
       "| gX        | s1        | freq3     | 0.05      | \n",
       "| gX        | s1        | genotype1 | AA        | \n",
       "| gX        | s1        | genotype2 | AC        | \n",
       "| gX        | s1        | genotype3 | CC        | \n",
       "| gX        | s2        | freq1     | 0.9       | \n",
       "| gX        | s2        | freq2     | 0.1       | \n",
       "| gX        | s2        | freq3     | 0         | \n",
       "| gX        | s2        | genotype1 | AA        | \n",
       "| gX        | s2        | genotype2 | AC        | \n",
       "| gX        | s2        | genotype3 | CC        | \n",
       "| gY        | s1        | freq1     | 0.7       | \n",
       "| gY        | s1        | freq2     | 0.2       | \n",
       "| gY        | s1        | freq3     | 0.1       | \n",
       "| gY        | s1        | genotype1 | GG        | \n",
       "| gY        | s1        | genotype2 | GT        | \n",
       "| gY        | s1        | genotype3 | TT        | \n",
       "| gY        | s2        | freq1     | 0.6       | \n",
       "| gY        | s2        | freq2     | 0.35      | \n",
       "| gY        | s2        | freq3     | 0.05      | \n",
       "| gY        | s2        | genotype1 | GG        | \n",
       "| gY        | s2        | genotype2 | GT        | \n",
       "| gY        | s2        | genotype3 | TT        | \n",
       "\n",
       "\n"
      ],
      "text/plain": [
       "   gene sample variable  value\n",
       "1  gX   s1     freq1     0.8  \n",
       "2  gX   s1     freq2     0.15 \n",
       "3  gX   s1     freq3     0.05 \n",
       "4  gX   s1     genotype1 AA   \n",
       "5  gX   s1     genotype2 AC   \n",
       "6  gX   s1     genotype3 CC   \n",
       "7  gX   s2     freq1     0.9  \n",
       "8  gX   s2     freq2     0.1  \n",
       "9  gX   s2     freq3     0    \n",
       "10 gX   s2     genotype1 AA   \n",
       "11 gX   s2     genotype2 AC   \n",
       "12 gX   s2     genotype3 CC   \n",
       "13 gY   s1     freq1     0.7  \n",
       "14 gY   s1     freq2     0.2  \n",
       "15 gY   s1     freq3     0.1  \n",
       "16 gY   s1     genotype1 GG   \n",
       "17 gY   s1     genotype2 GT   \n",
       "18 gY   s1     genotype3 TT   \n",
       "19 gY   s2     freq1     0.6  \n",
       "20 gY   s2     freq2     0.35 \n",
       "21 gY   s2     freq3     0.05 \n",
       "22 gY   s2     genotype1 GG   \n",
       "23 gY   s2     genotype2 GT   \n",
       "24 gY   s2     genotype3 TT   "
      ]
     },
     "metadata": {},
     "output_type": "display_data"
    }
   ],
   "source": [
    "have %>%\n",
    "gather(variable, value, -gene, -sample) %>% \n",
    "arrange(gene, sample, variable)"
   ]
  },
  {
   "cell_type": "markdown",
   "metadata": {
    "cell_style": "center"
   },
   "source": [
    "# Group By"
   ]
  },
  {
   "cell_type": "code",
   "execution_count": 4,
   "metadata": {},
   "outputs": [
    {
     "data": {
      "text/html": [
       "<table>\n",
       "<thead><tr><th scope=col>categ</th><th scope=col>mean</th></tr></thead>\n",
       "<tbody>\n",
       "\t<tr><td>a  </td><td>1.5</td></tr>\n",
       "\t<tr><td>b  </td><td>3.0</td></tr>\n",
       "\t<tr><td>NA </td><td>4.5</td></tr>\n",
       "</tbody>\n",
       "</table>\n"
      ],
      "text/latex": [
       "\\begin{tabular}{r|ll}\n",
       " categ & mean\\\\\n",
       "\\hline\n",
       "\t a   & 1.5\\\\\n",
       "\t b   & 3.0\\\\\n",
       "\t NA  & 4.5\\\\\n",
       "\\end{tabular}\n"
      ],
      "text/markdown": [
       "\n",
       "categ | mean | \n",
       "|---|---|---|\n",
       "| a   | 1.5 | \n",
       "| b   | 3.0 | \n",
       "| NA  | 4.5 | \n",
       "\n",
       "\n"
      ],
      "text/plain": [
       "  categ mean\n",
       "1 a     1.5 \n",
       "2 b     3.0 \n",
       "3 NA    4.5 "
      ]
     },
     "metadata": {},
     "output_type": "display_data"
    }
   ],
   "source": [
    "df = data_frame(\n",
    "    categ = c('a', 'a', 'b', NA, NA),\n",
    "    x = c(1, 2, 3, 4, 5)\n",
    ")\n",
    "\n",
    "df %>% group_by(categ) %>% summarise(mean = mean(x))"
   ]
  },
  {
   "cell_type": "code",
   "execution_count": 19,
   "metadata": {
    "cell_style": "split"
   },
   "outputs": [
    {
     "data": {
      "text/html": [
       "<table>\n",
       "<thead><tr><th scope=col>AA</th><th scope=col>BB</th><th scope=col>X</th></tr></thead>\n",
       "<tbody>\n",
       "\t<tr><td>a  </td><td>y  </td><td>3.0</td></tr>\n",
       "\t<tr><td>b  </td><td>y  </td><td>8.0</td></tr>\n",
       "\t<tr><td>a  </td><td>y  </td><td>4.2</td></tr>\n",
       "\t<tr><td>b  </td><td>x  </td><td>5.0</td></tr>\n",
       "\t<tr><td>a  </td><td>x  </td><td>2.0</td></tr>\n",
       "\t<tr><td>a  </td><td>y  </td><td>4.0</td></tr>\n",
       "\t<tr><td>b  </td><td>y  </td><td>7.0</td></tr>\n",
       "\t<tr><td>b  </td><td>x  </td><td>6.0</td></tr>\n",
       "\t<tr><td>a  </td><td>x  </td><td>1.0</td></tr>\n",
       "</tbody>\n",
       "</table>\n"
      ],
      "text/latex": [
       "\\begin{tabular}{r|lll}\n",
       " AA & BB & X\\\\\n",
       "\\hline\n",
       "\t a   & y   & 3.0\\\\\n",
       "\t b   & y   & 8.0\\\\\n",
       "\t a   & y   & 4.2\\\\\n",
       "\t b   & x   & 5.0\\\\\n",
       "\t a   & x   & 2.0\\\\\n",
       "\t a   & y   & 4.0\\\\\n",
       "\t b   & y   & 7.0\\\\\n",
       "\t b   & x   & 6.0\\\\\n",
       "\t a   & x   & 1.0\\\\\n",
       "\\end{tabular}\n"
      ],
      "text/markdown": [
       "\n",
       "AA | BB | X | \n",
       "|---|---|---|---|---|---|---|---|---|\n",
       "| a   | y   | 3.0 | \n",
       "| b   | y   | 8.0 | \n",
       "| a   | y   | 4.2 | \n",
       "| b   | x   | 5.0 | \n",
       "| a   | x   | 2.0 | \n",
       "| a   | y   | 4.0 | \n",
       "| b   | y   | 7.0 | \n",
       "| b   | x   | 6.0 | \n",
       "| a   | x   | 1.0 | \n",
       "\n",
       "\n"
      ],
      "text/plain": [
       "  AA BB X  \n",
       "1 a  y  3.0\n",
       "2 b  y  8.0\n",
       "3 a  y  4.2\n",
       "4 b  x  5.0\n",
       "5 a  x  2.0\n",
       "6 a  y  4.0\n",
       "7 b  y  7.0\n",
       "8 b  x  6.0\n",
       "9 a  x  1.0"
      ]
     },
     "metadata": {},
     "output_type": "display_data"
    }
   ],
   "source": [
    "## GroupBy + arr?ange\n",
    "set.seed(1)\n",
    "\n",
    "df <- \n",
    "tribble(\n",
    "    ~AA,  ~BB,  ~X,\n",
    "    'a',   'x',   1,\n",
    "    'a',   'x',   2,\n",
    "    'a',   'y',   3,\n",
    "    'a',   'y',   4,\n",
    "    'a',   'y',   4.2,\n",
    "    'b',   'x',   5,\n",
    "    'b',   'x',   6,\n",
    "    'b',   'y',   7,\n",
    "    'b',   'y',   8\n",
    ")\n",
    "\n",
    "\n",
    "df <- df[sample(nrow(df)),]\n",
    "df"
   ]
  },
  {
   "cell_type": "code",
   "execution_count": 20,
   "metadata": {
    "cell_style": "split"
   },
   "outputs": [
    {
     "data": {
      "text/html": [
       "<table>\n",
       "<thead><tr><th scope=col>AA</th><th scope=col>BB</th><th scope=col>X</th></tr></thead>\n",
       "<tbody>\n",
       "\t<tr><td>a  </td><td>x  </td><td>1.0</td></tr>\n",
       "\t<tr><td>a  </td><td>x  </td><td>2.0</td></tr>\n",
       "\t<tr><td>a  </td><td>y  </td><td>3.0</td></tr>\n",
       "\t<tr><td>a  </td><td>y  </td><td>4.0</td></tr>\n",
       "\t<tr><td>a  </td><td>y  </td><td>4.2</td></tr>\n",
       "\t<tr><td>b  </td><td>x  </td><td>5.0</td></tr>\n",
       "\t<tr><td>b  </td><td>x  </td><td>6.0</td></tr>\n",
       "\t<tr><td>b  </td><td>y  </td><td>7.0</td></tr>\n",
       "\t<tr><td>b  </td><td>y  </td><td>8.0</td></tr>\n",
       "</tbody>\n",
       "</table>\n"
      ],
      "text/latex": [
       "\\begin{tabular}{r|lll}\n",
       " AA & BB & X\\\\\n",
       "\\hline\n",
       "\t a   & x   & 1.0\\\\\n",
       "\t a   & x   & 2.0\\\\\n",
       "\t a   & y   & 3.0\\\\\n",
       "\t a   & y   & 4.0\\\\\n",
       "\t a   & y   & 4.2\\\\\n",
       "\t b   & x   & 5.0\\\\\n",
       "\t b   & x   & 6.0\\\\\n",
       "\t b   & y   & 7.0\\\\\n",
       "\t b   & y   & 8.0\\\\\n",
       "\\end{tabular}\n"
      ],
      "text/markdown": [
       "\n",
       "AA | BB | X | \n",
       "|---|---|---|---|---|---|---|---|---|\n",
       "| a   | x   | 1.0 | \n",
       "| a   | x   | 2.0 | \n",
       "| a   | y   | 3.0 | \n",
       "| a   | y   | 4.0 | \n",
       "| a   | y   | 4.2 | \n",
       "| b   | x   | 5.0 | \n",
       "| b   | x   | 6.0 | \n",
       "| b   | y   | 7.0 | \n",
       "| b   | y   | 8.0 | \n",
       "\n",
       "\n"
      ],
      "text/plain": [
       "  AA BB X  \n",
       "1 a  x  1.0\n",
       "2 a  x  2.0\n",
       "3 a  y  3.0\n",
       "4 a  y  4.0\n",
       "5 a  y  4.2\n",
       "6 b  x  5.0\n",
       "7 b  x  6.0\n",
       "8 b  y  7.0\n",
       "9 b  y  8.0"
      ]
     },
     "metadata": {},
     "output_type": "display_data"
    }
   ],
   "source": [
    "df %>% \n",
    "group_by(AA, BB) %>%\n",
    "arrange(X)"
   ]
  },
  {
   "cell_type": "code",
   "execution_count": null,
   "metadata": {
    "collapsed": true
   },
   "outputs": [],
   "source": []
  },
  {
   "cell_type": "code",
   "execution_count": null,
   "metadata": {
    "collapsed": true
   },
   "outputs": [],
   "source": []
  },
  {
   "cell_type": "code",
   "execution_count": null,
   "metadata": {
    "collapsed": true
   },
   "outputs": [],
   "source": []
  },
  {
   "cell_type": "code",
   "execution_count": null,
   "metadata": {
    "collapsed": true
   },
   "outputs": [],
   "source": []
  },
  {
   "cell_type": "code",
   "execution_count": null,
   "metadata": {
    "collapsed": true
   },
   "outputs": [],
   "source": []
  },
  {
   "cell_type": "code",
   "execution_count": null,
   "metadata": {
    "collapsed": true
   },
   "outputs": [],
   "source": []
  },
  {
   "cell_type": "code",
   "execution_count": null,
   "metadata": {
    "collapsed": true
   },
   "outputs": [],
   "source": []
  },
  {
   "cell_type": "code",
   "execution_count": null,
   "metadata": {
    "collapsed": true
   },
   "outputs": [],
   "source": []
  },
  {
   "cell_type": "code",
   "execution_count": null,
   "metadata": {
    "collapsed": true
   },
   "outputs": [],
   "source": []
  },
  {
   "cell_type": "code",
   "execution_count": null,
   "metadata": {
    "collapsed": true
   },
   "outputs": [],
   "source": []
  },
  {
   "cell_type": "code",
   "execution_count": null,
   "metadata": {
    "collapsed": true
   },
   "outputs": [],
   "source": []
  },
  {
   "cell_type": "code",
   "execution_count": null,
   "metadata": {
    "collapsed": true
   },
   "outputs": [],
   "source": []
  },
  {
   "cell_type": "code",
   "execution_count": null,
   "metadata": {
    "collapsed": true
   },
   "outputs": [],
   "source": []
  },
  {
   "cell_type": "code",
   "execution_count": null,
   "metadata": {
    "collapsed": true
   },
   "outputs": [],
   "source": []
  },
  {
   "cell_type": "code",
   "execution_count": null,
   "metadata": {
    "collapsed": true
   },
   "outputs": [],
   "source": []
  }
 ],
 "metadata": {
  "kernelspec": {
   "display_name": "R",
   "language": "R",
   "name": "ir"
  },
  "language_info": {
   "codemirror_mode": "r",
   "file_extension": ".r",
   "mimetype": "text/x-r-source",
   "name": "R",
   "pygments_lexer": "r",
   "version": "3.4.2"
  }
 },
 "nbformat": 4,
 "nbformat_minor": 2
}
