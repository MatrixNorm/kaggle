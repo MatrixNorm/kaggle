{
 "cells": [
  {
   "cell_type": "code",
   "execution_count": 91,
   "metadata": {
    "collapsed": false
   },
   "outputs": [],
   "source": [
    "library(dplyr)\n",
    "library(reshape2)"
   ]
  },
  {
   "cell_type": "code",
   "execution_count": 40,
   "metadata": {
    "collapsed": false
   },
   "outputs": [],
   "source": [
    "df.train = tbl_df(read.csv(\"../data/train.csv\", stringsAsFactors = FALSE))\n",
    "df.test = tbl_df(read.csv(\"../data/test.csv\", stringsAsFactors = FALSE))"
   ]
  },
  {
   "cell_type": "code",
   "execution_count": 41,
   "metadata": {
    "collapsed": false
   },
   "outputs": [
    {
     "data": {
      "text/html": [
       "<ol class=list-inline>\n",
       "\t<li>1460</li>\n",
       "\t<li>81</li>\n",
       "</ol>\n"
      ],
      "text/latex": [
       "\\begin{enumerate*}\n",
       "\\item 1460\n",
       "\\item 81\n",
       "\\end{enumerate*}\n"
      ],
      "text/markdown": [
       "1. 1460\n",
       "2. 81\n",
       "\n",
       "\n"
      ],
      "text/plain": [
       "[1] 1460   81"
      ]
     },
     "execution_count": 41,
     "metadata": {},
     "output_type": "execute_result"
    },
    {
     "data": {
      "text/html": [
       "<ol class=list-inline>\n",
       "\t<li>1459</li>\n",
       "\t<li>80</li>\n",
       "</ol>\n"
      ],
      "text/latex": [
       "\\begin{enumerate*}\n",
       "\\item 1459\n",
       "\\item 80\n",
       "\\end{enumerate*}\n"
      ],
      "text/markdown": [
       "1. 1459\n",
       "2. 80\n",
       "\n",
       "\n"
      ],
      "text/plain": [
       "[1] 1459   80"
      ]
     },
     "execution_count": 41,
     "metadata": {},
     "output_type": "execute_result"
    },
    {
     "data": {
      "text/html": [
       "'SalePrice'"
      ],
      "text/latex": [
       "'SalePrice'"
      ],
      "text/markdown": [
       "'SalePrice'"
      ],
      "text/plain": [
       "[1] \"SalePrice\""
      ]
     },
     "execution_count": 41,
     "metadata": {},
     "output_type": "execute_result"
    },
    {
     "data": {
      "text/html": [],
      "text/latex": [],
      "text/markdown": [],
      "text/plain": [
       "character(0)"
      ]
     },
     "execution_count": 41,
     "metadata": {},
     "output_type": "execute_result"
    }
   ],
   "source": [
    "dim(df.train)\n",
    "dim(df.test)\n",
    "\n",
    "setdiff(names(df.train), names(df.test))\n",
    "setdiff(names(df.test), names(df.train))"
   ]
  },
  {
   "cell_type": "code",
   "execution_count": 43,
   "metadata": {
    "collapsed": false
   },
   "outputs": [
    {
     "data": {
      "text/html": [
       "<ol class=list-inline>\n",
       "\t<li>2919</li>\n",
       "\t<li>79</li>\n",
       "</ol>\n"
      ],
      "text/latex": [
       "\\begin{enumerate*}\n",
       "\\item 2919\n",
       "\\item 79\n",
       "\\end{enumerate*}\n"
      ],
      "text/markdown": [
       "1. 2919\n",
       "2. 79\n",
       "\n",
       "\n"
      ],
      "text/plain": [
       "[1] 2919   79"
      ]
     },
     "execution_count": 43,
     "metadata": {},
     "output_type": "execute_result"
    },
    {
     "data": {
      "text/html": [
       "<ol class=list-inline>\n",
       "\t<li>2919</li>\n",
       "\t<li>79</li>\n",
       "</ol>\n"
      ],
      "text/latex": [
       "\\begin{enumerate*}\n",
       "\\item 2919\n",
       "\\item 79\n",
       "\\end{enumerate*}\n"
      ],
      "text/markdown": [
       "1. 2919\n",
       "2. 79\n",
       "\n",
       "\n"
      ],
      "text/plain": [
       "[1] 2919   79"
      ]
     },
     "execution_count": 43,
     "metadata": {},
     "output_type": "execute_result"
    }
   ],
   "source": [
    "df.combined = rbind(within(df.train, rm('Id','SalePrice')), within(df.test, rm('Id')))\n",
    "df.combined2 = rbind(df.combined)\n",
    "dim(df.combined)\n",
    "dim(df.combined2)"
   ]
  },
  {
   "cell_type": "code",
   "execution_count": 45,
   "metadata": {
    "collapsed": false
   },
   "outputs": [
    {
     "data": {
      "text/html": [
       "<dl class=dl-horizontal>\n",
       "\t<dt>PoolQC</dt>\n",
       "\t\t<dd>2909</dd>\n",
       "\t<dt>MiscFeature</dt>\n",
       "\t\t<dd>2814</dd>\n",
       "\t<dt>Alley</dt>\n",
       "\t\t<dd>2721</dd>\n",
       "\t<dt>Fence</dt>\n",
       "\t\t<dd>2348</dd>\n",
       "\t<dt>FireplaceQu</dt>\n",
       "\t\t<dd>1420</dd>\n",
       "\t<dt>LotFrontage</dt>\n",
       "\t\t<dd>486</dd>\n",
       "\t<dt>GarageYrBlt</dt>\n",
       "\t\t<dd>159</dd>\n",
       "\t<dt>GarageFinish</dt>\n",
       "\t\t<dd>159</dd>\n",
       "\t<dt>GarageQual</dt>\n",
       "\t\t<dd>159</dd>\n",
       "\t<dt>GarageCond</dt>\n",
       "\t\t<dd>159</dd>\n",
       "\t<dt>GarageType</dt>\n",
       "\t\t<dd>157</dd>\n",
       "\t<dt>BsmtCond</dt>\n",
       "\t\t<dd>82</dd>\n",
       "\t<dt>BsmtExposure</dt>\n",
       "\t\t<dd>82</dd>\n",
       "\t<dt>BsmtQual</dt>\n",
       "\t\t<dd>81</dd>\n",
       "\t<dt>BsmtFinType2</dt>\n",
       "\t\t<dd>80</dd>\n",
       "\t<dt>BsmtFinType1</dt>\n",
       "\t\t<dd>79</dd>\n",
       "\t<dt>MasVnrType</dt>\n",
       "\t\t<dd>24</dd>\n",
       "\t<dt>MasVnrArea</dt>\n",
       "\t\t<dd>23</dd>\n",
       "\t<dt>MSZoning</dt>\n",
       "\t\t<dd>4</dd>\n",
       "\t<dt>Utilities</dt>\n",
       "\t\t<dd>2</dd>\n",
       "\t<dt>BsmtFullBath</dt>\n",
       "\t\t<dd>2</dd>\n",
       "\t<dt>BsmtHalfBath</dt>\n",
       "\t\t<dd>2</dd>\n",
       "\t<dt>Functional</dt>\n",
       "\t\t<dd>2</dd>\n",
       "\t<dt>Exterior1st</dt>\n",
       "\t\t<dd>1</dd>\n",
       "\t<dt>Exterior2nd</dt>\n",
       "\t\t<dd>1</dd>\n",
       "\t<dt>BsmtFinSF1</dt>\n",
       "\t\t<dd>1</dd>\n",
       "\t<dt>BsmtFinSF2</dt>\n",
       "\t\t<dd>1</dd>\n",
       "\t<dt>BsmtUnfSF</dt>\n",
       "\t\t<dd>1</dd>\n",
       "\t<dt>TotalBsmtSF</dt>\n",
       "\t\t<dd>1</dd>\n",
       "\t<dt>Electrical</dt>\n",
       "\t\t<dd>1</dd>\n",
       "\t<dt>KitchenQual</dt>\n",
       "\t\t<dd>1</dd>\n",
       "\t<dt>GarageCars</dt>\n",
       "\t\t<dd>1</dd>\n",
       "\t<dt>GarageArea</dt>\n",
       "\t\t<dd>1</dd>\n",
       "\t<dt>SaleType</dt>\n",
       "\t\t<dd>1</dd>\n",
       "</dl>\n"
      ],
      "text/latex": [
       "\\begin{description*}\n",
       "\\item[PoolQC] 2909\n",
       "\\item[MiscFeature] 2814\n",
       "\\item[Alley] 2721\n",
       "\\item[Fence] 2348\n",
       "\\item[FireplaceQu] 1420\n",
       "\\item[LotFrontage] 486\n",
       "\\item[GarageYrBlt] 159\n",
       "\\item[GarageFinish] 159\n",
       "\\item[GarageQual] 159\n",
       "\\item[GarageCond] 159\n",
       "\\item[GarageType] 157\n",
       "\\item[BsmtCond] 82\n",
       "\\item[BsmtExposure] 82\n",
       "\\item[BsmtQual] 81\n",
       "\\item[BsmtFinType2] 80\n",
       "\\item[BsmtFinType1] 79\n",
       "\\item[MasVnrType] 24\n",
       "\\item[MasVnrArea] 23\n",
       "\\item[MSZoning] 4\n",
       "\\item[Utilities] 2\n",
       "\\item[BsmtFullBath] 2\n",
       "\\item[BsmtHalfBath] 2\n",
       "\\item[Functional] 2\n",
       "\\item[Exterior1st] 1\n",
       "\\item[Exterior2nd] 1\n",
       "\\item[BsmtFinSF1] 1\n",
       "\\item[BsmtFinSF2] 1\n",
       "\\item[BsmtUnfSF] 1\n",
       "\\item[TotalBsmtSF] 1\n",
       "\\item[Electrical] 1\n",
       "\\item[KitchenQual] 1\n",
       "\\item[GarageCars] 1\n",
       "\\item[GarageArea] 1\n",
       "\\item[SaleType] 1\n",
       "\\end{description*}\n"
      ],
      "text/markdown": [
       "PoolQC\n",
       ":   2909MiscFeature\n",
       ":   2814Alley\n",
       ":   2721Fence\n",
       ":   2348FireplaceQu\n",
       ":   1420LotFrontage\n",
       ":   486GarageYrBlt\n",
       ":   159GarageFinish\n",
       ":   159GarageQual\n",
       ":   159GarageCond\n",
       ":   159GarageType\n",
       ":   157BsmtCond\n",
       ":   82BsmtExposure\n",
       ":   82BsmtQual\n",
       ":   81BsmtFinType2\n",
       ":   80BsmtFinType1\n",
       ":   79MasVnrType\n",
       ":   24MasVnrArea\n",
       ":   23MSZoning\n",
       ":   4Utilities\n",
       ":   2BsmtFullBath\n",
       ":   2BsmtHalfBath\n",
       ":   2Functional\n",
       ":   2Exterior1st\n",
       ":   1Exterior2nd\n",
       ":   1BsmtFinSF1\n",
       ":   1BsmtFinSF2\n",
       ":   1BsmtUnfSF\n",
       ":   1TotalBsmtSF\n",
       ":   1Electrical\n",
       ":   1KitchenQual\n",
       ":   1GarageCars\n",
       ":   1GarageArea\n",
       ":   1SaleType\n",
       ":   1\n",
       "\n"
      ],
      "text/plain": [
       "      PoolQC  MiscFeature        Alley        Fence  FireplaceQu  LotFrontage \n",
       "        2909         2814         2721         2348         1420          486 \n",
       " GarageYrBlt GarageFinish   GarageQual   GarageCond   GarageType     BsmtCond \n",
       "         159          159          159          159          157           82 \n",
       "BsmtExposure     BsmtQual BsmtFinType2 BsmtFinType1   MasVnrType   MasVnrArea \n",
       "          82           81           80           79           24           23 \n",
       "    MSZoning    Utilities BsmtFullBath BsmtHalfBath   Functional  Exterior1st \n",
       "           4            2            2            2            2            1 \n",
       " Exterior2nd   BsmtFinSF1   BsmtFinSF2    BsmtUnfSF  TotalBsmtSF   Electrical \n",
       "           1            1            1            1            1            1 \n",
       " KitchenQual   GarageCars   GarageArea     SaleType \n",
       "           1            1            1            1 "
      ]
     },
     "execution_count": 45,
     "metadata": {},
     "output_type": "execute_result"
    }
   ],
   "source": [
    "na_cols_count = colSums(is.na(df.combined))\n",
    "na_cols_count = sort(na_cols_count[na_cols_count > 0], decreasing = TRUE)\n",
    "na_cols_count"
   ]
  },
  {
   "cell_type": "code",
   "execution_count": 46,
   "metadata": {
    "collapsed": false
   },
   "outputs": [
    {
     "data": {
      "text/html": [
       "<ol class=list-inline>\n",
       "\t<li>'PoolArea'</li>\n",
       "\t<li>'PoolQC'</li>\n",
       "</ol>\n"
      ],
      "text/latex": [
       "\\begin{enumerate*}\n",
       "\\item 'PoolArea'\n",
       "\\item 'PoolQC'\n",
       "\\end{enumerate*}\n"
      ],
      "text/markdown": [
       "1. 'PoolArea'\n",
       "2. 'PoolQC'\n",
       "\n",
       "\n"
      ],
      "text/plain": [
       "[1] \"PoolArea\" \"PoolQC\"  "
      ]
     },
     "execution_count": 46,
     "metadata": {},
     "output_type": "execute_result"
    }
   ],
   "source": [
    "grep('pool', names(df.combined), value=TRUE, ignore.case=TRUE)"
   ]
  },
  {
   "cell_type": "code",
   "execution_count": 47,
   "metadata": {
    "collapsed": false
   },
   "outputs": [
    {
     "data": {
      "text/html": [
       "<table>\n",
       "<thead><tr><th></th><th scope=col>rowname</th><th scope=col>PoolQC</th><th scope=col>PoolArea</th></tr></thead>\n",
       "<tbody>\n",
       "\t<tr><th scope=row>1</th><td>2421</td><td>NA</td><td>368</td></tr>\n",
       "\t<tr><th scope=row>2</th><td>2504</td><td>NA</td><td>444</td></tr>\n",
       "\t<tr><th scope=row>3</th><td>2600</td><td>NA</td><td>561</td></tr>\n",
       "</tbody>\n",
       "</table>\n"
      ],
      "text/latex": [
       "\\begin{tabular}{r|lll}\n",
       "  & rowname & PoolQC & PoolArea\\\\\n",
       "\\hline\n",
       "\t1 & 2421 & NA & 368\\\\\n",
       "\t2 & 2504 & NA & 444\\\\\n",
       "\t3 & 2600 & NA & 561\\\\\n",
       "\\end{tabular}\n"
      ],
      "text/plain": [
       "# A tibble: 3 × 3\n",
       "  rowname PoolQC PoolArea\n",
       "    <chr>  <chr>    <int>\n",
       "1    2421   <NA>      368\n",
       "2    2504   <NA>      444\n",
       "3    2600   <NA>      561"
      ]
     },
     "execution_count": 47,
     "metadata": {},
     "output_type": "execute_result"
    }
   ],
   "source": [
    "df.combined %>% select(PoolQC, PoolArea) %>% tibble::rownames_to_column() %>% filter(is.na(PoolQC) & PoolArea > 0) "
   ]
  },
  {
   "cell_type": "code",
   "execution_count": 48,
   "metadata": {
    "collapsed": false,
    "scrolled": true
   },
   "outputs": [
    {
     "data": {
      "text/html": [
       "<table>\n",
       "<thead><tr><th></th><th scope=col>PoolQC</th><th scope=col>mean</th><th scope=col>n</th></tr></thead>\n",
       "<tbody>\n",
       "\t<tr><th scope=row>1</th><td>Ex</td><td>359.75</td><td>4</td></tr>\n",
       "\t<tr><th scope=row>2</th><td>Fa</td><td>583.5</td><td>2</td></tr>\n",
       "\t<tr><th scope=row>3</th><td>Gd</td><td>648.5</td><td>4</td></tr>\n",
       "\t<tr><th scope=row>4</th><td>NA</td><td>0.4719835</td><td>2909</td></tr>\n",
       "</tbody>\n",
       "</table>\n"
      ],
      "text/latex": [
       "\\begin{tabular}{r|lll}\n",
       "  & PoolQC & mean & n\\\\\n",
       "\\hline\n",
       "\t1 & Ex & 359.75 & 4\\\\\n",
       "\t2 & Fa & 583.5 & 2\\\\\n",
       "\t3 & Gd & 648.5 & 4\\\\\n",
       "\t4 & NA & 0.4719835 & 2909\\\\\n",
       "\\end{tabular}\n"
      ],
      "text/plain": [
       "# A tibble: 4 × 3\n",
       "  PoolQC        mean     n\n",
       "   <chr>       <dbl> <int>\n",
       "1     Ex 359.7500000     4\n",
       "2     Fa 583.5000000     2\n",
       "3     Gd 648.5000000     4\n",
       "4   <NA>   0.4719835  2909"
      ]
     },
     "execution_count": 48,
     "metadata": {},
     "output_type": "execute_result"
    }
   ],
   "source": [
    "df.combined %>% select(PoolQC, PoolArea) %>% group_by(PoolQC) %>% summarise(mean=mean(PoolArea), n=n())"
   ]
  },
  {
   "cell_type": "code",
   "execution_count": 49,
   "metadata": {
    "collapsed": false
   },
   "outputs": [],
   "source": [
    "df.combined2[2421,'PoolQC'] = 'Ex'\n",
    "df.combined2[2504,'PoolQC'] = 'Ex'\n",
    "df.combined2[2600,'PoolQC'] = 'Fa'"
   ]
  },
  {
   "cell_type": "code",
   "execution_count": 50,
   "metadata": {
    "collapsed": false
   },
   "outputs": [
    {
     "data": {
      "text/html": [
       "<table>\n",
       "<thead><tr><th></th><th scope=col>PoolQC</th><th scope=col>PoolArea</th></tr></thead>\n",
       "<tbody>\n",
       "</tbody>\n",
       "</table>\n"
      ],
      "text/latex": [
       "\\begin{tabular}{r|ll}\n",
       "  & PoolQC & PoolArea\\\\\n",
       "\\hline\n",
       "\\end{tabular}\n"
      ],
      "text/plain": [
       "# A tibble: 0 × 2\n",
       "# ... with 2 variables: PoolQC <chr>, PoolArea <int>"
      ]
     },
     "execution_count": 50,
     "metadata": {},
     "output_type": "execute_result"
    }
   ],
   "source": [
    "df.combined2 %>% select(PoolQC, PoolArea) %>% filter(is.na(PoolQC) & PoolArea > 0) "
   ]
  },
  {
   "cell_type": "markdown",
   "metadata": {},
   "source": [
    "# Garage"
   ]
  },
  {
   "cell_type": "code",
   "execution_count": 60,
   "metadata": {
    "collapsed": false
   },
   "outputs": [
    {
     "data": {
      "text/html": [
       "<table>\n",
       "<thead><tr><th></th><th scope=col>GarageType</th><th scope=col>GarageYrBlt</th><th scope=col>GarageFinish</th><th scope=col>GarageCars</th><th scope=col>GarageArea</th><th scope=col>GarageQual</th><th scope=col>GarageCond</th></tr></thead>\n",
       "<tbody>\n",
       "\t<tr><th scope=row>1</th><td>157</td><td>159</td><td>159</td><td>1</td><td>1</td><td>159</td><td>159</td></tr>\n",
       "</tbody>\n",
       "</table>\n"
      ],
      "text/latex": [
       "\\begin{tabular}{r|lllllll}\n",
       "  & GarageType & GarageYrBlt & GarageFinish & GarageCars & GarageArea & GarageQual & GarageCond\\\\\n",
       "\\hline\n",
       "\t1 & 157 & 159 & 159 & 1 & 1 & 159 & 159\\\\\n",
       "\\end{tabular}\n"
      ],
      "text/plain": [
       "# A tibble: 1 × 7\n",
       "  GarageType GarageYrBlt GarageFinish GarageCars GarageArea GarageQual\n",
       "       <int>       <int>        <int>      <int>      <int>      <int>\n",
       "1        157         159          159          1          1        159\n",
       "# ... with 1 more variables: GarageCond <int>"
      ]
     },
     "execution_count": 60,
     "metadata": {},
     "output_type": "execute_result"
    }
   ],
   "source": [
    "df.combined %>% select(contains('garage', ignore.case=TRUE)) %>% summarise_each(funs(sum(is.na(.))))"
   ]
  },
  {
   "cell_type": "code",
   "execution_count": 61,
   "metadata": {
    "collapsed": false
   },
   "outputs": [
    {
     "data": {
      "text/html": [
       "<table>\n",
       "<thead><tr><th></th><th scope=col>rowname</th><th scope=col>GarageType</th><th scope=col>GarageYrBlt</th><th scope=col>GarageFinish</th><th scope=col>GarageCars</th><th scope=col>GarageArea</th><th scope=col>GarageQual</th><th scope=col>GarageCond</th></tr></thead>\n",
       "<tbody>\n",
       "\t<tr><th scope=row>1</th><td>2127</td><td>Detchd</td><td>NA</td><td>NA</td><td>1</td><td>360</td><td>NA</td><td>NA</td></tr>\n",
       "\t<tr><th scope=row>2</th><td>2577</td><td>Detchd</td><td>NA</td><td>NA</td><td>NA</td><td>NA</td><td>NA</td><td>NA</td></tr>\n",
       "</tbody>\n",
       "</table>\n"
      ],
      "text/latex": [
       "\\begin{tabular}{r|llllllll}\n",
       "  & rowname & GarageType & GarageYrBlt & GarageFinish & GarageCars & GarageArea & GarageQual & GarageCond\\\\\n",
       "\\hline\n",
       "\t1 & 2127 & Detchd & NA & NA & 1 & 360 & NA & NA\\\\\n",
       "\t2 & 2577 & Detchd & NA & NA & NA & NA & NA & NA\\\\\n",
       "\\end{tabular}\n"
      ],
      "text/plain": [
       "# A tibble: 2 × 8\n",
       "  rowname GarageType GarageYrBlt GarageFinish GarageCars GarageArea GarageQual\n",
       "    <chr>      <chr>       <int>        <chr>      <int>      <int>      <chr>\n",
       "1    2127     Detchd          NA         <NA>          1        360       <NA>\n",
       "2    2577     Detchd          NA         <NA>         NA         NA       <NA>\n",
       "# ... with 1 more variables: GarageCond <chr>"
      ]
     },
     "execution_count": 61,
     "metadata": {},
     "output_type": "execute_result"
    }
   ],
   "source": [
    "df.combined %>% select(contains('garage', ignore.case=TRUE)) %>% \n",
    "tibble::rownames_to_column() %>% filter(is.na(GarageYrBlt)) %>% \n",
    "filter(!is.na(GarageType) | GarageCars > 0 | GarageArea > 0)"
   ]
  },
  {
   "cell_type": "code",
   "execution_count": 74,
   "metadata": {
    "collapsed": false
   },
   "outputs": [
    {
     "data": {
      "text/html": [
       "<table>\n",
       "<thead><tr><th></th><th scope=col>GarageQual</th><th scope=col>GarageCond</th><th scope=col>GarageFinish</th><th scope=col>n</th><th scope=col>median.area</th></tr></thead>\n",
       "<tbody>\n",
       "\t<tr><th scope=row>1</th><td>Ex</td><td>Ex</td><td>Fin</td><td>1</td><td>924</td></tr>\n",
       "\t<tr><th scope=row>2</th><td>TA</td><td>Gd</td><td>Unf</td><td>1</td><td>440</td></tr>\n",
       "\t<tr><th scope=row>3</th><td>TA</td><td>TA</td><td>RFn</td><td>6</td><td>372</td></tr>\n",
       "\t<tr><th scope=row>4</th><td>NA</td><td>NA</td><td>NA</td><td>1</td><td>360</td></tr>\n",
       "\t<tr><th scope=row>5</th><td>Gd</td><td>TA</td><td>Unf</td><td>1</td><td>352</td></tr>\n",
       "\t<tr><th scope=row>6</th><td>TA</td><td>TA</td><td>Fin</td><td>4</td><td>318.5</td></tr>\n",
       "</tbody>\n",
       "</table>\n"
      ],
      "text/latex": [
       "\\begin{tabular}{r|lllll}\n",
       "  & GarageQual & GarageCond & GarageFinish & n & median.area\\\\\n",
       "\\hline\n",
       "\t1 & Ex & Ex & Fin & 1 & 924\\\\\n",
       "\t2 & TA & Gd & Unf & 1 & 440\\\\\n",
       "\t3 & TA & TA & RFn & 6 & 372\\\\\n",
       "\t4 & NA & NA & NA & 1 & 360\\\\\n",
       "\t5 & Gd & TA & Unf & 1 & 352\\\\\n",
       "\t6 & TA & TA & Fin & 4 & 318.5\\\\\n",
       "\\end{tabular}\n"
      ],
      "text/plain": [
       "Source: local data frame [6 x 5]\n",
       "Groups: GarageQual, GarageCond [5]\n",
       "\n",
       "  GarageQual GarageCond GarageFinish     n median.area\n",
       "       <chr>      <chr>        <chr> <int>       <dbl>\n",
       "1         Ex         Ex          Fin     1       924.0\n",
       "2         TA         Gd          Unf     1       440.0\n",
       "3         TA         TA          RFn     6       372.0\n",
       "4       <NA>       <NA>         <NA>     1       360.0\n",
       "5         Gd         TA          Unf     1       352.0\n",
       "6         TA         TA          Fin     4       318.5"
      ]
     },
     "execution_count": 74,
     "metadata": {},
     "output_type": "execute_result"
    }
   ],
   "source": [
    "x = df.combined %>% filter(GarageType == 'Detchd' & GarageCars == 1) %>% \n",
    "group_by(GarageQual, GarageCond, GarageFinish) %>% summarise(n=n(), median.area=median(GarageArea)) %>%\n",
    "arrange(desc(median.area))\n",
    "head(x)"
   ]
  },
  {
   "cell_type": "code",
   "execution_count": 73,
   "metadata": {
    "collapsed": false
   },
   "outputs": [],
   "source": [
    "df.combined2[2577,'GarageType'] = NA\n",
    "\n",
    "df.combined2[2127,'GarageYrBlt'] = df.combined2[2127,'YearBuilt']\n",
    "df.combined2[2127,'GarageFinish'] = 'RFn'\n",
    "df.combined2[2127,'GarageQual'] = 'TA'\n",
    "df.combined2[2127,'GarageCond'] = 'TA'"
   ]
  },
  {
   "cell_type": "code",
   "execution_count": 77,
   "metadata": {
    "collapsed": false
   },
   "outputs": [
    {
     "data": {
      "text/html": [
       "<table>\n",
       "<thead><tr><th></th><th scope=col>GarageType</th><th scope=col>GarageYrBlt</th><th scope=col>GarageFinish</th><th scope=col>GarageCars</th><th scope=col>GarageArea</th><th scope=col>GarageQual</th><th scope=col>GarageCond</th></tr></thead>\n",
       "<tbody>\n",
       "\t<tr><th scope=row>1</th><td>Detchd</td><td>1910</td><td>RFn</td><td>1</td><td>360</td><td>TA</td><td>TA</td></tr>\n",
       "</tbody>\n",
       "</table>\n"
      ],
      "text/latex": [
       "\\begin{tabular}{r|lllllll}\n",
       "  & GarageType & GarageYrBlt & GarageFinish & GarageCars & GarageArea & GarageQual & GarageCond\\\\\n",
       "\\hline\n",
       "\t1 & Detchd & 1910 & RFn & 1 & 360 & TA & TA\\\\\n",
       "\\end{tabular}\n"
      ],
      "text/plain": [
       "# A tibble: 1 × 7\n",
       "  GarageType GarageYrBlt GarageFinish GarageCars GarageArea GarageQual\n",
       "       <chr>       <int>        <chr>      <int>      <int>      <chr>\n",
       "1     Detchd        1910          RFn          1        360         TA\n",
       "# ... with 1 more variables: GarageCond <chr>"
      ]
     },
     "execution_count": 77,
     "metadata": {},
     "output_type": "execute_result"
    },
    {
     "data": {
      "text/html": [
       "<table>\n",
       "<thead><tr><th></th><th scope=col>GarageType</th><th scope=col>GarageYrBlt</th><th scope=col>GarageFinish</th><th scope=col>GarageCars</th><th scope=col>GarageArea</th><th scope=col>GarageQual</th><th scope=col>GarageCond</th></tr></thead>\n",
       "<tbody>\n",
       "\t<tr><th scope=row>1</th><td>NA</td><td>NA</td><td>NA</td><td>NA</td><td>NA</td><td>NA</td><td>NA</td></tr>\n",
       "</tbody>\n",
       "</table>\n"
      ],
      "text/latex": [
       "\\begin{tabular}{r|lllllll}\n",
       "  & GarageType & GarageYrBlt & GarageFinish & GarageCars & GarageArea & GarageQual & GarageCond\\\\\n",
       "\\hline\n",
       "\t1 & NA & NA & NA & NA & NA & NA & NA\\\\\n",
       "\\end{tabular}\n"
      ],
      "text/plain": [
       "# A tibble: 1 × 7\n",
       "  GarageType GarageYrBlt GarageFinish GarageCars GarageArea GarageQual\n",
       "       <chr>       <int>        <chr>      <int>      <int>      <chr>\n",
       "1       <NA>          NA         <NA>         NA         NA       <NA>\n",
       "# ... with 1 more variables: GarageCond <chr>"
      ]
     },
     "execution_count": 77,
     "metadata": {},
     "output_type": "execute_result"
    }
   ],
   "source": [
    "df.combined2[2127,] %>% select(contains('garage', ignore.case=TRUE))\n",
    "df.combined2[2577,] %>% select(contains('garage', ignore.case=TRUE))"
   ]
  },
  {
   "cell_type": "code",
   "execution_count": 84,
   "metadata": {
    "collapsed": false
   },
   "outputs": [
    {
     "data": {
      "text/html": [
       "<table>\n",
       "<thead><tr><th></th><th scope=col>GarageType</th><th scope=col>GarageYrBlt</th><th scope=col>GarageFinish</th><th scope=col>GarageCars</th><th scope=col>GarageArea</th><th scope=col>GarageQual</th><th scope=col>GarageCond</th></tr></thead>\n",
       "<tbody>\n",
       "</tbody>\n",
       "</table>\n"
      ],
      "text/latex": [
       "\\begin{tabular}{r|lllllll}\n",
       "  & GarageType & GarageYrBlt & GarageFinish & GarageCars & GarageArea & GarageQual & GarageCond\\\\\n",
       "\\hline\n",
       "\\end{tabular}\n"
      ],
      "text/plain": [
       "# A tibble: 0 × 7\n",
       "# ... with 7 variables: GarageType <chr>, GarageYrBlt <int>,\n",
       "#   GarageFinish <chr>, GarageCars <int>, GarageArea <int>, GarageQual <chr>,\n",
       "#   GarageCond <chr>"
      ]
     },
     "execution_count": 84,
     "metadata": {},
     "output_type": "execute_result"
    }
   ],
   "source": [
    "df.combined2 %>% select(contains('garage', ignore.case=TRUE)) %>% \n",
    "filter(is.na(GarageYrBlt) & \n",
    "        (!is.na(GarageType) | !is.na(GarageType) | !is.na(GarageQual) | \n",
    "         !is.na(GarageCond) | GarageCars > 0 | GarageArea > 0)\n",
    "      ) "
   ]
  },
  {
   "cell_type": "markdown",
   "metadata": {},
   "source": [
    "# Basement\n",
    "\n",
    "* BsmtQual: Height of the basement\n",
    "* BsmtCond: General condition of the basement\n",
    "* BsmtExposure: Walkout or garden level basement walls\n",
    "* BsmtFinType1: Quality of basement finished area\n",
    "* BsmtFinSF1: Type 1 finished square feet\n",
    "* BsmtFinType2: Quality of second finished area (if present)\n",
    "* BsmtFinSF2: Type 2 finished square feet\n",
    "* BsmtUnfSF: Unfinished square feet of basement area\n",
    "* TotalBsmtSF: Total square feet of basement area\n",
    "* BsmtFullBath: Basement full bathrooms\n",
    "* BsmtHalfBath: Basement half bathrooms"
   ]
  },
  {
   "cell_type": "code",
   "execution_count": 133,
   "metadata": {
    "collapsed": true
   },
   "outputs": [],
   "source": [
    "df.basement = df.combined %>% select(contains('bsmt', ignore.case=TRUE))"
   ]
  },
  {
   "cell_type": "code",
   "execution_count": 134,
   "metadata": {
    "collapsed": false
   },
   "outputs": [
    {
     "data": {
      "text/html": [
       "<table>\n",
       "<thead><tr><th></th><th scope=col>BsmtFinSF1</th><th scope=col>BsmtFinSF2</th><th scope=col>BsmtUnfSF</th><th scope=col>TotalBsmtSF</th><th scope=col>BsmtFullBath</th><th scope=col>BsmtHalfBath</th></tr></thead>\n",
       "<tbody>\n",
       "\t<tr><th scope=row>1</th><td>1</td><td>1</td><td>1</td><td>1</td><td>2</td><td>2</td></tr>\n",
       "</tbody>\n",
       "</table>\n"
      ],
      "text/latex": [
       "\\begin{tabular}{r|llllll}\n",
       "  & BsmtFinSF1 & BsmtFinSF2 & BsmtUnfSF & TotalBsmtSF & BsmtFullBath & BsmtHalfBath\\\\\n",
       "\\hline\n",
       "\t1 & 1 & 1 & 1 & 1 & 2 & 2\\\\\n",
       "\\end{tabular}\n"
      ],
      "text/plain": [
       "# A tibble: 1 × 6\n",
       "  BsmtFinSF1 BsmtFinSF2 BsmtUnfSF TotalBsmtSF BsmtFullBath BsmtHalfBath\n",
       "       <int>      <int>     <int>       <int>        <int>        <int>\n",
       "1          1          1         1           1            2            2"
      ]
     },
     "execution_count": 134,
     "metadata": {},
     "output_type": "execute_result"
    }
   ],
   "source": [
    "df.basement.numeric.missing = df.basement %>% \n",
    "select_if(is.numeric) %>% summarise_each(funs(sum(is.na(.))))\n",
    "df.basement.numeric.missing"
   ]
  },
  {
   "cell_type": "code",
   "execution_count": 135,
   "metadata": {
    "collapsed": false
   },
   "outputs": [
    {
     "data": {
      "text/html": [
       "<table>\n",
       "<thead><tr><th></th><th scope=col>BsmtQual</th><th scope=col>BsmtCond</th><th scope=col>BsmtExposure</th><th scope=col>BsmtFinType1</th><th scope=col>BsmtFinType2</th></tr></thead>\n",
       "<tbody>\n",
       "\t<tr><th scope=row>1</th><td>81</td><td>82</td><td>82</td><td>79</td><td>80</td></tr>\n",
       "</tbody>\n",
       "</table>\n"
      ],
      "text/latex": [
       "\\begin{tabular}{r|lllll}\n",
       "  & BsmtQual & BsmtCond & BsmtExposure & BsmtFinType1 & BsmtFinType2\\\\\n",
       "\\hline\n",
       "\t1 & 81 & 82 & 82 & 79 & 80\\\\\n",
       "\\end{tabular}\n"
      ],
      "text/plain": [
       "# A tibble: 1 × 5\n",
       "  BsmtQual BsmtCond BsmtExposure BsmtFinType1 BsmtFinType2\n",
       "     <int>    <int>        <int>        <int>        <int>\n",
       "1       81       82           82           79           80"
      ]
     },
     "execution_count": 135,
     "metadata": {},
     "output_type": "execute_result"
    }
   ],
   "source": [
    "df.basement %>% select_if(is.character) %>% summarise_each(funs(sum(is.na(.))))"
   ]
  },
  {
   "cell_type": "code",
   "execution_count": 136,
   "metadata": {
    "collapsed": false
   },
   "outputs": [
    {
     "data": {
      "text/html": [
       "<table>\n",
       "<thead><tr><th></th><th scope=col>rowname</th><th scope=col>BsmtQual</th><th scope=col>BsmtCond</th><th scope=col>BsmtExposure</th><th scope=col>BsmtFinType1</th><th scope=col>BsmtFinSF1</th><th scope=col>BsmtFinType2</th><th scope=col>BsmtFinSF2</th><th scope=col>BsmtUnfSF</th><th scope=col>TotalBsmtSF</th><th scope=col>BsmtFullBath</th><th scope=col>BsmtHalfBath</th></tr></thead>\n",
       "<tbody>\n",
       "\t<tr><th scope=row>1</th><td>2121</td><td>NA</td><td>NA</td><td>NA</td><td>NA</td><td>NA</td><td>NA</td><td>NA</td><td>NA</td><td>NA</td><td>NA</td><td>NA</td></tr>\n",
       "\t<tr><th scope=row>2</th><td>2189</td><td>NA</td><td>NA</td><td>NA</td><td>NA</td><td>0</td><td>NA</td><td>0</td><td>0</td><td>0</td><td>NA</td><td>NA</td></tr>\n",
       "</tbody>\n",
       "</table>\n"
      ],
      "text/latex": [
       "\\begin{tabular}{r|llllllllllll}\n",
       "  & rowname & BsmtQual & BsmtCond & BsmtExposure & BsmtFinType1 & BsmtFinSF1 & BsmtFinType2 & BsmtFinSF2 & BsmtUnfSF & TotalBsmtSF & BsmtFullBath & BsmtHalfBath\\\\\n",
       "\\hline\n",
       "\t1 & 2121 & NA & NA & NA & NA & NA & NA & NA & NA & NA & NA & NA\\\\\n",
       "\t2 & 2189 & NA & NA & NA & NA & 0 & NA & 0 & 0 & 0 & NA & NA\\\\\n",
       "\\end{tabular}\n"
      ],
      "text/plain": [
       "# A tibble: 2 × 12\n",
       "  rowname BsmtQual BsmtCond BsmtExposure BsmtFinType1 BsmtFinSF1 BsmtFinType2\n",
       "    <chr>    <chr>    <chr>        <chr>        <chr>      <int>        <chr>\n",
       "1    2121     <NA>     <NA>         <NA>         <NA>         NA         <NA>\n",
       "2    2189     <NA>     <NA>         <NA>         <NA>          0         <NA>\n",
       "# ... with 5 more variables: BsmtFinSF2 <int>, BsmtUnfSF <int>,\n",
       "#   TotalBsmtSF <int>, BsmtFullBath <int>, BsmtHalfBath <int>"
      ]
     },
     "execution_count": 136,
     "metadata": {},
     "output_type": "execute_result"
    }
   ],
   "source": [
    "df.basement %>% tibble::rownames_to_column() %>% \n",
    "filter(is.na(BsmtFinSF1) | is.na(BsmtFinSF2) | is.na(BsmtUnfSF) | is.na(TotalBsmtSF) | \n",
    "       is.na(BsmtFullBath) | is.na(BsmtHalfBath))"
   ]
  },
  {
   "cell_type": "code",
   "execution_count": 131,
   "metadata": {
    "collapsed": false
   },
   "outputs": [
    {
     "data": {
      "text/html": [
       "<table>\n",
       "<thead><tr><th></th><th scope=col>BsmtFinSF1</th><th scope=col>BsmtFinSF2</th><th scope=col>BsmtUnfSF</th><th scope=col>TotalBsmtSF</th><th scope=col>BsmtFullBath</th><th scope=col>BsmtHalfBath</th></tr></thead>\n",
       "<tbody>\n",
       "\t<tr><th scope=row>1</th><td>0</td><td>0</td><td>0</td><td>0</td><td>0</td><td>0</td></tr>\n",
       "</tbody>\n",
       "</table>\n"
      ],
      "text/latex": [
       "\\begin{tabular}{r|llllll}\n",
       "  & BsmtFinSF1 & BsmtFinSF2 & BsmtUnfSF & TotalBsmtSF & BsmtFullBath & BsmtHalfBath\\\\\n",
       "\\hline\n",
       "\t1 & 0 & 0 & 0 & 0 & 0 & 0\\\\\n",
       "\\end{tabular}\n"
      ],
      "text/plain": [
       "# A tibble: 1 × 6\n",
       "  BsmtFinSF1 BsmtFinSF2 BsmtUnfSF TotalBsmtSF BsmtFullBath BsmtHalfBath\n",
       "       <dbl>      <dbl>     <dbl>       <dbl>        <dbl>        <dbl>\n",
       "1          0          0         0           0            0            0"
      ]
     },
     "execution_count": 131,
     "metadata": {},
     "output_type": "execute_result"
    },
    {
     "data": {
      "text/html": [
       "<table>\n",
       "<thead><tr><th></th><th scope=col>BsmtFinSF1</th><th scope=col>BsmtFinSF2</th><th scope=col>BsmtUnfSF</th><th scope=col>TotalBsmtSF</th><th scope=col>BsmtFullBath</th><th scope=col>BsmtHalfBath</th></tr></thead>\n",
       "<tbody>\n",
       "\t<tr><th scope=row>1</th><td>0</td><td>0</td><td>0</td><td>0</td><td>0</td><td>0</td></tr>\n",
       "</tbody>\n",
       "</table>\n"
      ],
      "text/latex": [
       "\\begin{tabular}{r|llllll}\n",
       "  & BsmtFinSF1 & BsmtFinSF2 & BsmtUnfSF & TotalBsmtSF & BsmtFullBath & BsmtHalfBath\\\\\n",
       "\\hline\n",
       "\t1 & 0 & 0 & 0 & 0 & 0 & 0\\\\\n",
       "\\end{tabular}\n"
      ],
      "text/plain": [
       "# A tibble: 1 × 6\n",
       "  BsmtFinSF1 BsmtFinSF2 BsmtUnfSF TotalBsmtSF BsmtFullBath BsmtHalfBath\n",
       "       <dbl>      <dbl>     <dbl>       <dbl>        <dbl>        <dbl>\n",
       "1          0          0         0           0            0            0"
      ]
     },
     "execution_count": 131,
     "metadata": {},
     "output_type": "execute_result"
    }
   ],
   "source": [
    "df.combined2[2121, names(df.basement.numeric.missing)] = rep(0, 6)\n",
    "df.combined2[2189, names(df.basement.numeric.missing)] = rep(0, 6)\n",
    "\n",
    "df.combined2[2121, names(df.basement.numeric.missing)]\n",
    "df.combined2[2189, names(df.basement.numeric.missing)]"
   ]
  },
  {
   "cell_type": "code",
   "execution_count": 170,
   "metadata": {
    "collapsed": false
   },
   "outputs": [
    {
     "data": {
      "text/html": [
       "<table>\n",
       "<thead><tr><th></th><th scope=col>rowname</th><th scope=col>BsmtQual</th><th scope=col>BsmtCond</th><th scope=col>BsmtExposure</th><th scope=col>BsmtFinType1</th><th scope=col>BsmtFinSF1</th><th scope=col>BsmtFinType2</th><th scope=col>BsmtFinSF2</th><th scope=col>BsmtUnfSF</th><th scope=col>TotalBsmtSF</th><th scope=col>BsmtFullBath</th><th scope=col>BsmtHalfBath</th></tr></thead>\n",
       "<tbody>\n",
       "\t<tr><th scope=row>1</th><td>333</td><td>Gd</td><td>TA</td><td>No</td><td>GLQ</td><td>1124</td><td>NA</td><td>479</td><td>1603</td><td>3206</td><td>1</td><td>0</td></tr>\n",
       "\t<tr><th scope=row>2</th><td>949</td><td>Gd</td><td>TA</td><td>NA</td><td>Unf</td><td>0</td><td>Unf</td><td>0</td><td>936</td><td>936</td><td>0</td><td>0</td></tr>\n",
       "\t<tr><th scope=row>3</th><td>1488</td><td>Gd</td><td>TA</td><td>NA</td><td>Unf</td><td>0</td><td>Unf</td><td>0</td><td>1595</td><td>1595</td><td>0</td><td>0</td></tr>\n",
       "\t<tr><th scope=row>4</th><td>2041</td><td>Gd</td><td>NA</td><td>Mn</td><td>GLQ</td><td>1044</td><td>Rec</td><td>382</td><td>0</td><td>1426</td><td>1</td><td>0</td></tr>\n",
       "\t<tr><th scope=row>5</th><td>2186</td><td>TA</td><td>NA</td><td>No</td><td>BLQ</td><td>1033</td><td>Unf</td><td>0</td><td>94</td><td>1127</td><td>0</td><td>1</td></tr>\n",
       "\t<tr><th scope=row>6</th><td>2218</td><td>NA</td><td>Fa</td><td>No</td><td>Unf</td><td>0</td><td>Unf</td><td>0</td><td>173</td><td>173</td><td>0</td><td>0</td></tr>\n",
       "\t<tr><th scope=row>7</th><td>2219</td><td>NA</td><td>TA</td><td>No</td><td>Unf</td><td>0</td><td>Unf</td><td>0</td><td>356</td><td>356</td><td>0</td><td>0</td></tr>\n",
       "\t<tr><th scope=row>8</th><td>2349</td><td>Gd</td><td>TA</td><td>NA</td><td>Unf</td><td>0</td><td>Unf</td><td>0</td><td>725</td><td>725</td><td>0</td><td>0</td></tr>\n",
       "\t<tr><th scope=row>9</th><td>2525</td><td>TA</td><td>NA</td><td>Av</td><td>ALQ</td><td>755</td><td>Unf</td><td>0</td><td>240</td><td>995</td><td>0</td><td>0</td></tr>\n",
       "</tbody>\n",
       "</table>\n"
      ],
      "text/latex": [
       "\\begin{tabular}{r|llllllllllll}\n",
       "  & rowname & BsmtQual & BsmtCond & BsmtExposure & BsmtFinType1 & BsmtFinSF1 & BsmtFinType2 & BsmtFinSF2 & BsmtUnfSF & TotalBsmtSF & BsmtFullBath & BsmtHalfBath\\\\\n",
       "\\hline\n",
       "\t1 & 333 & Gd & TA & No & GLQ & 1124 & NA & 479 & 1603 & 3206 & 1 & 0\\\\\n",
       "\t2 & 949 & Gd & TA & NA & Unf & 0 & Unf & 0 & 936 & 936 & 0 & 0\\\\\n",
       "\t3 & 1488 & Gd & TA & NA & Unf & 0 & Unf & 0 & 1595 & 1595 & 0 & 0\\\\\n",
       "\t4 & 2041 & Gd & NA & Mn & GLQ & 1044 & Rec & 382 & 0 & 1426 & 1 & 0\\\\\n",
       "\t5 & 2186 & TA & NA & No & BLQ & 1033 & Unf & 0 & 94 & 1127 & 0 & 1\\\\\n",
       "\t6 & 2218 & NA & Fa & No & Unf & 0 & Unf & 0 & 173 & 173 & 0 & 0\\\\\n",
       "\t7 & 2219 & NA & TA & No & Unf & 0 & Unf & 0 & 356 & 356 & 0 & 0\\\\\n",
       "\t8 & 2349 & Gd & TA & NA & Unf & 0 & Unf & 0 & 725 & 725 & 0 & 0\\\\\n",
       "\t9 & 2525 & TA & NA & Av & ALQ & 755 & Unf & 0 & 240 & 995 & 0 & 0\\\\\n",
       "\\end{tabular}\n"
      ],
      "text/plain": [
       "# A tibble: 9 × 12\n",
       "  rowname BsmtQual BsmtCond BsmtExposure BsmtFinType1 BsmtFinSF1 BsmtFinType2\n",
       "    <chr>    <chr>    <chr>        <chr>        <chr>      <int>        <chr>\n",
       "1     333       Gd       TA           No          GLQ       1124         <NA>\n",
       "2     949       Gd       TA         <NA>          Unf          0          Unf\n",
       "3    1488       Gd       TA         <NA>          Unf          0          Unf\n",
       "4    2041       Gd     <NA>           Mn          GLQ       1044          Rec\n",
       "5    2186       TA     <NA>           No          BLQ       1033          Unf\n",
       "6    2218     <NA>       Fa           No          Unf          0          Unf\n",
       "7    2219     <NA>       TA           No          Unf          0          Unf\n",
       "8    2349       Gd       TA         <NA>          Unf          0          Unf\n",
       "9    2525       TA     <NA>           Av          ALQ        755          Unf\n",
       "# ... with 5 more variables: BsmtFinSF2 <int>, BsmtUnfSF <int>,\n",
       "#   TotalBsmtSF <int>, BsmtFullBath <int>, BsmtHalfBath <int>"
      ]
     },
     "execution_count": 170,
     "metadata": {},
     "output_type": "execute_result"
    }
   ],
   "source": [
    "df.basement.char.missing = df.basement %>% tibble::rownames_to_column() %>% \n",
    "filter(BsmtFinSF1 > 0 | BsmtFinSF2 > 0 | BsmtUnfSF > 0 | TotalBsmtSF > 0 | BsmtFullBath > 0 | BsmtHalfBath > 0) %>%\n",
    "filter(is.na(BsmtQual) | is.na(BsmtCond) | is.na(BsmtExposure) | is.na(BsmtFinType1) | is.na(BsmtFinType2))\n",
    "\n",
    "df.basement.char.missing"
   ]
  },
  {
   "cell_type": "code",
   "execution_count": 163,
   "metadata": {
    "collapsed": false,
    "scrolled": true
   },
   "outputs": [
    {
     "data": {
      "text/html": [
       "<table>\n",
       "<thead><tr><th></th><th scope=col>BsmtCond</th><th scope=col>BsmtQual</th><th scope=col>n</th></tr></thead>\n",
       "<tbody>\n",
       "\t<tr><th scope=row>1</th><td>Fa</td><td>TA</td><td>72</td></tr>\n",
       "\t<tr><th scope=row>2</th><td>TA</td><td>TA</td><td>1177</td></tr>\n",
       "</tbody>\n",
       "</table>\n"
      ],
      "text/latex": [
       "\\begin{tabular}{r|lll}\n",
       "  & BsmtCond & BsmtQual & n\\\\\n",
       "\\hline\n",
       "\t1 & Fa & TA & 72\\\\\n",
       "\t2 & TA & TA & 1177\\\\\n",
       "\\end{tabular}\n"
      ],
      "text/plain": [
       "Source: local data frame [2 x 3]\n",
       "Groups: BsmtCond [2]\n",
       "\n",
       "  BsmtCond BsmtQual     n\n",
       "     <chr>    <chr> <int>\n",
       "1       Fa       TA    72\n",
       "2       TA       TA  1177"
      ]
     },
     "execution_count": 163,
     "metadata": {},
     "output_type": "execute_result"
    }
   ],
   "source": [
    "df.basement %>% select(BsmtCond, BsmtQual) %>% group_by(BsmtCond, BsmtQual) %>% \n",
    "summarise(n=n()) %>% filter(BsmtCond %in% c('Fa', 'TA')) %>% arrange(BsmtCond, desc(n)) %>%\n",
    "filter(row_number()==1)"
   ]
  },
  {
   "cell_type": "code",
   "execution_count": 165,
   "metadata": {
    "collapsed": true
   },
   "outputs": [],
   "source": [
    "df.combined2[2218,'BsmtQual'] = 'TA'\n",
    "df.combined2[2219,'BsmtQual'] = 'TA'"
   ]
  },
  {
   "cell_type": "code",
   "execution_count": 164,
   "metadata": {
    "collapsed": false
   },
   "outputs": [
    {
     "data": {
      "text/html": [
       "<table>\n",
       "<thead><tr><th></th><th scope=col>BsmtQual</th><th scope=col>BsmtCond</th><th scope=col>n</th></tr></thead>\n",
       "<tbody>\n",
       "\t<tr><th scope=row>1</th><td>Gd</td><td>TA</td><td>1133</td></tr>\n",
       "\t<tr><th scope=row>2</th><td>TA</td><td>TA</td><td>1177</td></tr>\n",
       "</tbody>\n",
       "</table>\n"
      ],
      "text/latex": [
       "\\begin{tabular}{r|lll}\n",
       "  & BsmtQual & BsmtCond & n\\\\\n",
       "\\hline\n",
       "\t1 & Gd & TA & 1133\\\\\n",
       "\t2 & TA & TA & 1177\\\\\n",
       "\\end{tabular}\n"
      ],
      "text/plain": [
       "Source: local data frame [2 x 3]\n",
       "Groups: BsmtQual [2]\n",
       "\n",
       "  BsmtQual BsmtCond     n\n",
       "     <chr>    <chr> <int>\n",
       "1       Gd       TA  1133\n",
       "2       TA       TA  1177"
      ]
     },
     "execution_count": 164,
     "metadata": {},
     "output_type": "execute_result"
    }
   ],
   "source": [
    "df.basement %>% select(BsmtQual, BsmtCond) %>% group_by(BsmtQual, BsmtCond) %>% \n",
    "summarise(n=n()) %>% filter(BsmtQual %in% c('Gd', 'TA')) %>% arrange(BsmtQual, desc(n)) %>%\n",
    "filter(row_number()==1)"
   ]
  },
  {
   "cell_type": "code",
   "execution_count": 166,
   "metadata": {
    "collapsed": true
   },
   "outputs": [],
   "source": [
    "df.combined2[2041,'BsmtCond'] = 'TA'\n",
    "df.combined2[2186,'BsmtCond'] = 'TA'\n",
    "df.combined2[2525,'BsmtCond'] = 'TA'"
   ]
  },
  {
   "cell_type": "code",
   "execution_count": 167,
   "metadata": {
    "collapsed": false
   },
   "outputs": [
    {
     "data": {
      "text/html": [
       "<table>\n",
       "<thead><tr><th></th><th scope=col>BsmtExposure</th><th scope=col>n</th></tr></thead>\n",
       "<tbody>\n",
       "\t<tr><th scope=row>1</th><td>Av</td><td>418</td></tr>\n",
       "\t<tr><th scope=row>2</th><td>Gd</td><td>276</td></tr>\n",
       "\t<tr><th scope=row>3</th><td>Mn</td><td>239</td></tr>\n",
       "\t<tr><th scope=row>4</th><td>No</td><td>1904</td></tr>\n",
       "\t<tr><th scope=row>5</th><td>NA</td><td>82</td></tr>\n",
       "</tbody>\n",
       "</table>\n"
      ],
      "text/latex": [
       "\\begin{tabular}{r|ll}\n",
       "  & BsmtExposure & n\\\\\n",
       "\\hline\n",
       "\t1 & Av & 418\\\\\n",
       "\t2 & Gd & 276\\\\\n",
       "\t3 & Mn & 239\\\\\n",
       "\t4 & No & 1904\\\\\n",
       "\t5 & NA & 82\\\\\n",
       "\\end{tabular}\n"
      ],
      "text/plain": [
       "# A tibble: 5 × 2\n",
       "  BsmtExposure     n\n",
       "         <chr> <int>\n",
       "1           Av   418\n",
       "2           Gd   276\n",
       "3           Mn   239\n",
       "4           No  1904\n",
       "5         <NA>    82"
      ]
     },
     "execution_count": 167,
     "metadata": {},
     "output_type": "execute_result"
    }
   ],
   "source": [
    "df.basement %>% select(BsmtExposure) %>% group_by(BsmtExposure) %>% summarise(n=n())"
   ]
  },
  {
   "cell_type": "code",
   "execution_count": 172,
   "metadata": {
    "collapsed": false
   },
   "outputs": [
    {
     "data": {
      "text/html": [
       "<table>\n",
       "<thead><tr><th></th><th scope=col>rowname</th><th scope=col>BsmtExposure</th></tr></thead>\n",
       "<tbody>\n",
       "\t<tr><th scope=row>1</th><td>949</td><td>NA</td></tr>\n",
       "\t<tr><th scope=row>2</th><td>1488</td><td>NA</td></tr>\n",
       "\t<tr><th scope=row>3</th><td>2349</td><td>NA</td></tr>\n",
       "</tbody>\n",
       "</table>\n"
      ],
      "text/latex": [
       "\\begin{tabular}{r|ll}\n",
       "  & rowname & BsmtExposure\\\\\n",
       "\\hline\n",
       "\t1 & 949 & NA\\\\\n",
       "\t2 & 1488 & NA\\\\\n",
       "\t3 & 2349 & NA\\\\\n",
       "\\end{tabular}\n"
      ],
      "text/plain": [
       "# A tibble: 3 × 2\n",
       "  rowname BsmtExposure\n",
       "    <chr>        <chr>\n",
       "1     949         <NA>\n",
       "2    1488         <NA>\n",
       "3    2349         <NA>"
      ]
     },
     "execution_count": 172,
     "metadata": {},
     "output_type": "execute_result"
    }
   ],
   "source": [
    "df.basement.char.missing %>% select(rowname, BsmtExposure) %>% filter(is.na(BsmtExposure))"
   ]
  },
  {
   "cell_type": "code",
   "execution_count": 174,
   "metadata": {
    "collapsed": true
   },
   "outputs": [],
   "source": [
    "df.combined2[949,'BsmtExposure'] = 'No'\n",
    "df.combined2[1488,'BsmtExposure'] = 'No'\n",
    "df.combined2[2349,'BsmtExposure'] = 'No'"
   ]
  },
  {
   "cell_type": "code",
   "execution_count": 176,
   "metadata": {
    "collapsed": false
   },
   "outputs": [
    {
     "data": {
      "text/html": [
       "<table>\n",
       "<thead><tr><th></th><th scope=col>BsmtFinType2</th><th scope=col>n</th></tr></thead>\n",
       "<tbody>\n",
       "\t<tr><th scope=row>1</th><td>ALQ</td><td>52</td></tr>\n",
       "\t<tr><th scope=row>2</th><td>BLQ</td><td>68</td></tr>\n",
       "\t<tr><th scope=row>3</th><td>GLQ</td><td>34</td></tr>\n",
       "\t<tr><th scope=row>4</th><td>LwQ</td><td>87</td></tr>\n",
       "\t<tr><th scope=row>5</th><td>Rec</td><td>105</td></tr>\n",
       "\t<tr><th scope=row>6</th><td>Unf</td><td>2493</td></tr>\n",
       "\t<tr><th scope=row>7</th><td>NA</td><td>80</td></tr>\n",
       "</tbody>\n",
       "</table>\n"
      ],
      "text/latex": [
       "\\begin{tabular}{r|ll}\n",
       "  & BsmtFinType2 & n\\\\\n",
       "\\hline\n",
       "\t1 & ALQ & 52\\\\\n",
       "\t2 & BLQ & 68\\\\\n",
       "\t3 & GLQ & 34\\\\\n",
       "\t4 & LwQ & 87\\\\\n",
       "\t5 & Rec & 105\\\\\n",
       "\t6 & Unf & 2493\\\\\n",
       "\t7 & NA & 80\\\\\n",
       "\\end{tabular}\n"
      ],
      "text/plain": [
       "# A tibble: 7 × 2\n",
       "  BsmtFinType2     n\n",
       "         <chr> <int>\n",
       "1          ALQ    52\n",
       "2          BLQ    68\n",
       "3          GLQ    34\n",
       "4          LwQ    87\n",
       "5          Rec   105\n",
       "6          Unf  2493\n",
       "7         <NA>    80"
      ]
     },
     "execution_count": 176,
     "metadata": {},
     "output_type": "execute_result"
    }
   ],
   "source": [
    "df.basement %>% select(BsmtFinType2) %>% group_by(BsmtFinType2) %>% summarise(n=n())"
   ]
  },
  {
   "cell_type": "code",
   "execution_count": 175,
   "metadata": {
    "collapsed": false
   },
   "outputs": [
    {
     "data": {
      "text/html": [
       "<table>\n",
       "<thead><tr><th></th><th scope=col>rowname</th><th scope=col>BsmtFinType2</th></tr></thead>\n",
       "<tbody>\n",
       "\t<tr><th scope=row>1</th><td>333</td><td>NA</td></tr>\n",
       "</tbody>\n",
       "</table>\n"
      ],
      "text/latex": [
       "\\begin{tabular}{r|ll}\n",
       "  & rowname & BsmtFinType2\\\\\n",
       "\\hline\n",
       "\t1 & 333 & NA\\\\\n",
       "\\end{tabular}\n"
      ],
      "text/plain": [
       "# A tibble: 1 × 2\n",
       "  rowname BsmtFinType2\n",
       "    <chr>        <chr>\n",
       "1     333         <NA>"
      ]
     },
     "execution_count": 175,
     "metadata": {},
     "output_type": "execute_result"
    }
   ],
   "source": [
    "df.basement.char.missing %>% select(rowname, BsmtFinType2) %>% filter(is.na(BsmtFinType2))"
   ]
  },
  {
   "cell_type": "code",
   "execution_count": 177,
   "metadata": {
    "collapsed": false
   },
   "outputs": [],
   "source": [
    "df.combined2[333,'BsmtFinType2'] = 'Unf'"
   ]
  },
  {
   "cell_type": "code",
   "execution_count": 178,
   "metadata": {
    "collapsed": false
   },
   "outputs": [
    {
     "data": {
      "text/html": [
       "<table>\n",
       "<thead><tr><th></th><th scope=col>rowname</th><th scope=col>BsmtQual</th><th scope=col>BsmtCond</th><th scope=col>BsmtExposure</th><th scope=col>BsmtFinType1</th><th scope=col>BsmtFinSF1</th><th scope=col>BsmtFinType2</th><th scope=col>BsmtFinSF2</th><th scope=col>BsmtUnfSF</th><th scope=col>TotalBsmtSF</th><th scope=col>BsmtFullBath</th><th scope=col>BsmtHalfBath</th></tr></thead>\n",
       "<tbody>\n",
       "</tbody>\n",
       "</table>\n"
      ],
      "text/latex": [
       "\\begin{tabular}{r|llllllllllll}\n",
       "  & rowname & BsmtQual & BsmtCond & BsmtExposure & BsmtFinType1 & BsmtFinSF1 & BsmtFinType2 & BsmtFinSF2 & BsmtUnfSF & TotalBsmtSF & BsmtFullBath & BsmtHalfBath\\\\\n",
       "\\hline\n",
       "\\end{tabular}\n"
      ],
      "text/plain": [
       "# A tibble: 0 × 12\n",
       "# ... with 12 variables: rowname <chr>, BsmtQual <chr>, BsmtCond <chr>,\n",
       "#   BsmtExposure <chr>, BsmtFinType1 <chr>, BsmtFinSF1 <dbl>,\n",
       "#   BsmtFinType2 <chr>, BsmtFinSF2 <dbl>, BsmtUnfSF <dbl>, TotalBsmtSF <dbl>,\n",
       "#   BsmtFullBath <dbl>, BsmtHalfBath <dbl>"
      ]
     },
     "execution_count": 178,
     "metadata": {},
     "output_type": "execute_result"
    }
   ],
   "source": [
    "df.combined2 %>% select(contains('bsmt', ignore.case=TRUE)) %>% tibble::rownames_to_column() %>% \n",
    "filter(BsmtFinSF1 > 0 | BsmtFinSF2 > 0 | BsmtUnfSF > 0 | TotalBsmtSF > 0 | BsmtFullBath > 0 | BsmtHalfBath > 0) %>%\n",
    "filter(is.na(BsmtQual) | is.na(BsmtCond) | is.na(BsmtExposure) | is.na(BsmtFinType1) | is.na(BsmtFinType2))"
   ]
  },
  {
   "cell_type": "code",
   "execution_count": null,
   "metadata": {
    "collapsed": true
   },
   "outputs": [],
   "source": []
  },
  {
   "cell_type": "code",
   "execution_count": null,
   "metadata": {
    "collapsed": true
   },
   "outputs": [],
   "source": []
  },
  {
   "cell_type": "code",
   "execution_count": null,
   "metadata": {
    "collapsed": true
   },
   "outputs": [],
   "source": []
  },
  {
   "cell_type": "code",
   "execution_count": null,
   "metadata": {
    "collapsed": true
   },
   "outputs": [],
   "source": []
  },
  {
   "cell_type": "code",
   "execution_count": null,
   "metadata": {
    "collapsed": true
   },
   "outputs": [],
   "source": []
  },
  {
   "cell_type": "code",
   "execution_count": null,
   "metadata": {
    "collapsed": true
   },
   "outputs": [],
   "source": []
  },
  {
   "cell_type": "code",
   "execution_count": null,
   "metadata": {
    "collapsed": true
   },
   "outputs": [],
   "source": []
  },
  {
   "cell_type": "code",
   "execution_count": null,
   "metadata": {
    "collapsed": true
   },
   "outputs": [],
   "source": []
  },
  {
   "cell_type": "code",
   "execution_count": null,
   "metadata": {
    "collapsed": true
   },
   "outputs": [],
   "source": []
  },
  {
   "cell_type": "code",
   "execution_count": null,
   "metadata": {
    "collapsed": true
   },
   "outputs": [],
   "source": []
  }
 ],
 "metadata": {
  "kernelspec": {
   "display_name": "R",
   "language": "R",
   "name": "ir"
  },
  "language_info": {
   "codemirror_mode": "r",
   "file_extension": ".r",
   "mimetype": "text/x-r-source",
   "name": "R",
   "pygments_lexer": "r",
   "version": "3.2.2"
  }
 },
 "nbformat": 4,
 "nbformat_minor": 0
}
