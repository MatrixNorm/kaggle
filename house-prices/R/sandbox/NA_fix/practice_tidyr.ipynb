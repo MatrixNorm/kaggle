{
 "cells": [
  {
   "cell_type": "code",
   "execution_count": 8,
   "metadata": {},
   "outputs": [],
   "source": [
    "library(tidyr)\n",
    "library(dplyr)"
   ]
  },
  {
   "cell_type": "code",
   "execution_count": 11,
   "metadata": {},
   "outputs": [
    {
     "data": {
      "text/html": [
       "<table>\n",
       "<thead><tr><th scope=col>cat1</th><th scope=col>cat2</th><th scope=col>var</th></tr></thead>\n",
       "<tbody>\n",
       "\t<tr><td>a</td><td>x</td><td>1</td></tr>\n",
       "\t<tr><td>b</td><td>y</td><td>2</td></tr>\n",
       "\t<tr><td>b</td><td>y</td><td>3</td></tr>\n",
       "\t<tr><td>c</td><td>x</td><td>4</td></tr>\n",
       "</tbody>\n",
       "</table>\n"
      ],
      "text/latex": [
       "\\begin{tabular}{r|lll}\n",
       " cat1 & cat2 & var\\\\\n",
       "\\hline\n",
       "\t a & x & 1\\\\\n",
       "\t b & y & 2\\\\\n",
       "\t b & y & 3\\\\\n",
       "\t c & x & 4\\\\\n",
       "\\end{tabular}\n"
      ],
      "text/markdown": [
       "\n",
       "cat1 | cat2 | var | \n",
       "|---|---|---|---|\n",
       "| a | x | 1 | \n",
       "| b | y | 2 | \n",
       "| b | y | 3 | \n",
       "| c | x | 4 | \n",
       "\n",
       "\n"
      ],
      "text/plain": [
       "  cat1 cat2 var\n",
       "1 a    x    1  \n",
       "2 b    y    2  \n",
       "3 b    y    3  \n",
       "4 c    x    4  "
      ]
     },
     "metadata": {},
     "output_type": "display_data"
    }
   ],
   "source": [
    "cat1 = c('a', 'b', 'b', 'c')\n",
    "cat2 = c('x', 'y', 'y', 'x')\n",
    "var = c(1, 2, 3, 4)\n",
    "df = data.frame(cat1, cat2, var)\n",
    "df"
   ]
  },
  {
   "cell_type": "code",
   "execution_count": 16,
   "metadata": {},
   "outputs": [
    {
     "name": "stderr",
     "output_type": "stream",
     "text": [
      "Warning message:\n",
      "“attributes are not identical across measure variables; they will be dropped”"
     ]
    },
    {
     "data": {
      "text/html": [
       "<table>\n",
       "<thead><tr><th scope=col>var</th><th scope=col>cat</th><th scope=col>cat_val</th></tr></thead>\n",
       "<tbody>\n",
       "\t<tr><td>1   </td><td>cat1</td><td>a   </td></tr>\n",
       "\t<tr><td>2   </td><td>cat1</td><td>b   </td></tr>\n",
       "\t<tr><td>3   </td><td>cat1</td><td>b   </td></tr>\n",
       "\t<tr><td>4   </td><td>cat1</td><td>c   </td></tr>\n",
       "\t<tr><td>1   </td><td>cat2</td><td>x   </td></tr>\n",
       "\t<tr><td>2   </td><td>cat2</td><td>y   </td></tr>\n",
       "\t<tr><td>3   </td><td>cat2</td><td>y   </td></tr>\n",
       "\t<tr><td>4   </td><td>cat2</td><td>x   </td></tr>\n",
       "</tbody>\n",
       "</table>\n"
      ],
      "text/latex": [
       "\\begin{tabular}{r|lll}\n",
       " var & cat & cat\\_val\\\\\n",
       "\\hline\n",
       "\t 1    & cat1 & a   \\\\\n",
       "\t 2    & cat1 & b   \\\\\n",
       "\t 3    & cat1 & b   \\\\\n",
       "\t 4    & cat1 & c   \\\\\n",
       "\t 1    & cat2 & x   \\\\\n",
       "\t 2    & cat2 & y   \\\\\n",
       "\t 3    & cat2 & y   \\\\\n",
       "\t 4    & cat2 & x   \\\\\n",
       "\\end{tabular}\n"
      ],
      "text/markdown": [
       "\n",
       "var | cat | cat_val | \n",
       "|---|---|---|---|---|---|---|---|\n",
       "| 1    | cat1 | a    | \n",
       "| 2    | cat1 | b    | \n",
       "| 3    | cat1 | b    | \n",
       "| 4    | cat1 | c    | \n",
       "| 1    | cat2 | x    | \n",
       "| 2    | cat2 | y    | \n",
       "| 3    | cat2 | y    | \n",
       "| 4    | cat2 | x    | \n",
       "\n",
       "\n"
      ],
      "text/plain": [
       "  var cat  cat_val\n",
       "1 1   cat1 a      \n",
       "2 2   cat1 b      \n",
       "3 3   cat1 b      \n",
       "4 4   cat1 c      \n",
       "5 1   cat2 x      \n",
       "6 2   cat2 y      \n",
       "7 3   cat2 y      \n",
       "8 4   cat2 x      "
      ]
     },
     "metadata": {},
     "output_type": "display_data"
    }
   ],
   "source": [
    "df %>% gather(cat, cat_val, -var)"
   ]
  },
  {
   "cell_type": "code",
   "execution_count": 6,
   "metadata": {},
   "outputs": [
    {
     "data": {
      "text/html": [
       "<table>\n",
       "<thead><tr><th scope=col>time</th><th scope=col>X</th><th scope=col>Y</th><th scope=col>Z</th></tr></thead>\n",
       "<tbody>\n",
       "\t<tr><td>2009-01-01 </td><td> 2.28930805</td><td>-1.9874841 </td><td>11.1508176 </td></tr>\n",
       "\t<tr><td>2009-01-02 </td><td>-0.02618837</td><td> 1.0241543 </td><td> 0.4171966 </td></tr>\n",
       "\t<tr><td>2009-01-03 </td><td> 0.34043851</td><td>-3.7034163 </td><td> 0.2191927 </td></tr>\n",
       "\t<tr><td>2009-01-04 </td><td> 0.06785552</td><td>-1.6095030 </td><td> 5.0192837 </td></tr>\n",
       "\t<tr><td>2009-01-05 </td><td>-0.71022074</td><td> 1.4279379 </td><td>-3.8347617 </td></tr>\n",
       "\t<tr><td>2009-01-06 </td><td>-0.47351585</td><td>-1.3773418 </td><td> 4.5372538 </td></tr>\n",
       "\t<tr><td>2009-01-07 </td><td>-1.05649502</td><td> 0.4471736 </td><td>-3.4478312 </td></tr>\n",
       "\t<tr><td>2009-01-08 </td><td>-1.50567313</td><td> 1.2174667 </td><td>-5.4656390 </td></tr>\n",
       "\t<tr><td>2009-01-09 </td><td> 1.35093474</td><td>-2.2609967 </td><td> 1.5151080 </td></tr>\n",
       "\t<tr><td>2009-01-10 </td><td> 0.22808898</td><td>-2.2719958 </td><td>-4.2296547 </td></tr>\n",
       "</tbody>\n",
       "</table>\n"
      ],
      "text/latex": [
       "\\begin{tabular}{r|llll}\n",
       " time & X & Y & Z\\\\\n",
       "\\hline\n",
       "\t 2009-01-01  &  2.28930805 & -1.9874841  & 11.1508176 \\\\\n",
       "\t 2009-01-02  & -0.02618837 &  1.0241543  &  0.4171966 \\\\\n",
       "\t 2009-01-03  &  0.34043851 & -3.7034163  &  0.2191927 \\\\\n",
       "\t 2009-01-04  &  0.06785552 & -1.6095030  &  5.0192837 \\\\\n",
       "\t 2009-01-05  & -0.71022074 &  1.4279379  & -3.8347617 \\\\\n",
       "\t 2009-01-06  & -0.47351585 & -1.3773418  &  4.5372538 \\\\\n",
       "\t 2009-01-07  & -1.05649502 &  0.4471736  & -3.4478312 \\\\\n",
       "\t 2009-01-08  & -1.50567313 &  1.2174667  & -5.4656390 \\\\\n",
       "\t 2009-01-09  &  1.35093474 & -2.2609967  &  1.5151080 \\\\\n",
       "\t 2009-01-10  &  0.22808898 & -2.2719958  & -4.2296547 \\\\\n",
       "\\end{tabular}\n"
      ],
      "text/markdown": [
       "\n",
       "time | X | Y | Z | \n",
       "|---|---|---|---|---|---|---|---|---|---|\n",
       "| 2009-01-01  |  2.28930805 | -1.9874841  | 11.1508176  | \n",
       "| 2009-01-02  | -0.02618837 |  1.0241543  |  0.4171966  | \n",
       "| 2009-01-03  |  0.34043851 | -3.7034163  |  0.2191927  | \n",
       "| 2009-01-04  |  0.06785552 | -1.6095030  |  5.0192837  | \n",
       "| 2009-01-05  | -0.71022074 |  1.4279379  | -3.8347617  | \n",
       "| 2009-01-06  | -0.47351585 | -1.3773418  |  4.5372538  | \n",
       "| 2009-01-07  | -1.05649502 |  0.4471736  | -3.4478312  | \n",
       "| 2009-01-08  | -1.50567313 |  1.2174667  | -5.4656390  | \n",
       "| 2009-01-09  |  1.35093474 | -2.2609967  |  1.5151080  | \n",
       "| 2009-01-10  |  0.22808898 | -2.2719958  | -4.2296547  | \n",
       "\n",
       "\n"
      ],
      "text/plain": [
       "   time       X           Y          Z         \n",
       "1  2009-01-01  2.28930805 -1.9874841 11.1508176\n",
       "2  2009-01-02 -0.02618837  1.0241543  0.4171966\n",
       "3  2009-01-03  0.34043851 -3.7034163  0.2191927\n",
       "4  2009-01-04  0.06785552 -1.6095030  5.0192837\n",
       "5  2009-01-05 -0.71022074  1.4279379 -3.8347617\n",
       "6  2009-01-06 -0.47351585 -1.3773418  4.5372538\n",
       "7  2009-01-07 -1.05649502  0.4471736 -3.4478312\n",
       "8  2009-01-08 -1.50567313  1.2174667 -5.4656390\n",
       "9  2009-01-09  1.35093474 -2.2609967  1.5151080\n",
       "10 2009-01-10  0.22808898 -2.2719958 -4.2296547"
      ]
     },
     "metadata": {},
     "output_type": "display_data"
    }
   ],
   "source": [
    "stocks <- data.frame(\n",
    "  time = as.Date('2009-01-01') + 0:9,\n",
    "  X = rnorm(10, 0, 1),\n",
    "  Y = rnorm(10, 0, 2),\n",
    "  Z = rnorm(10, 0, 4)\n",
    ")\n",
    "stocks"
   ]
  },
  {
   "cell_type": "code",
   "execution_count": 9,
   "metadata": {},
   "outputs": [
    {
     "data": {
      "text/html": [
       "<table>\n",
       "<thead><tr><th scope=col>time</th><th scope=col>stock</th><th scope=col>price</th></tr></thead>\n",
       "<tbody>\n",
       "\t<tr><td>2009-01-01 </td><td>X          </td><td> 2.28930805</td></tr>\n",
       "\t<tr><td>2009-01-02 </td><td>X          </td><td>-0.02618837</td></tr>\n",
       "\t<tr><td>2009-01-03 </td><td>X          </td><td> 0.34043851</td></tr>\n",
       "\t<tr><td>2009-01-04 </td><td>X          </td><td> 0.06785552</td></tr>\n",
       "\t<tr><td>2009-01-05 </td><td>X          </td><td>-0.71022074</td></tr>\n",
       "\t<tr><td>2009-01-06 </td><td>X          </td><td>-0.47351585</td></tr>\n",
       "\t<tr><td>2009-01-07 </td><td>X          </td><td>-1.05649502</td></tr>\n",
       "\t<tr><td>2009-01-08 </td><td>X          </td><td>-1.50567313</td></tr>\n",
       "\t<tr><td>2009-01-09 </td><td>X          </td><td> 1.35093474</td></tr>\n",
       "\t<tr><td>2009-01-10 </td><td>X          </td><td> 0.22808898</td></tr>\n",
       "\t<tr><td>2009-01-01 </td><td>Y          </td><td>-1.98748414</td></tr>\n",
       "\t<tr><td>2009-01-02 </td><td>Y          </td><td> 1.02415432</td></tr>\n",
       "\t<tr><td>2009-01-03 </td><td>Y          </td><td>-3.70341625</td></tr>\n",
       "\t<tr><td>2009-01-04 </td><td>Y          </td><td>-1.60950303</td></tr>\n",
       "\t<tr><td>2009-01-05 </td><td>Y          </td><td> 1.42793787</td></tr>\n",
       "\t<tr><td>2009-01-06 </td><td>Y          </td><td>-1.37734176</td></tr>\n",
       "\t<tr><td>2009-01-07 </td><td>Y          </td><td> 0.44717357</td></tr>\n",
       "\t<tr><td>2009-01-08 </td><td>Y          </td><td> 1.21746674</td></tr>\n",
       "\t<tr><td>2009-01-09 </td><td>Y          </td><td>-2.26099670</td></tr>\n",
       "\t<tr><td>2009-01-10 </td><td>Y          </td><td>-2.27199581</td></tr>\n",
       "\t<tr><td>2009-01-01 </td><td>Z          </td><td>11.15081760</td></tr>\n",
       "\t<tr><td>2009-01-02 </td><td>Z          </td><td> 0.41719663</td></tr>\n",
       "\t<tr><td>2009-01-03 </td><td>Z          </td><td> 0.21919269</td></tr>\n",
       "\t<tr><td>2009-01-04 </td><td>Z          </td><td> 5.01928373</td></tr>\n",
       "\t<tr><td>2009-01-05 </td><td>Z          </td><td>-3.83476169</td></tr>\n",
       "\t<tr><td>2009-01-06 </td><td>Z          </td><td> 4.53725379</td></tr>\n",
       "\t<tr><td>2009-01-07 </td><td>Z          </td><td>-3.44783123</td></tr>\n",
       "\t<tr><td>2009-01-08 </td><td>Z          </td><td>-5.46563897</td></tr>\n",
       "\t<tr><td>2009-01-09 </td><td>Z          </td><td> 1.51510801</td></tr>\n",
       "\t<tr><td>2009-01-10 </td><td>Z          </td><td>-4.22965466</td></tr>\n",
       "</tbody>\n",
       "</table>\n"
      ],
      "text/latex": [
       "\\begin{tabular}{r|lll}\n",
       " time & stock & price\\\\\n",
       "\\hline\n",
       "\t 2009-01-01  & X           &  2.28930805\\\\\n",
       "\t 2009-01-02  & X           & -0.02618837\\\\\n",
       "\t 2009-01-03  & X           &  0.34043851\\\\\n",
       "\t 2009-01-04  & X           &  0.06785552\\\\\n",
       "\t 2009-01-05  & X           & -0.71022074\\\\\n",
       "\t 2009-01-06  & X           & -0.47351585\\\\\n",
       "\t 2009-01-07  & X           & -1.05649502\\\\\n",
       "\t 2009-01-08  & X           & -1.50567313\\\\\n",
       "\t 2009-01-09  & X           &  1.35093474\\\\\n",
       "\t 2009-01-10  & X           &  0.22808898\\\\\n",
       "\t 2009-01-01  & Y           & -1.98748414\\\\\n",
       "\t 2009-01-02  & Y           &  1.02415432\\\\\n",
       "\t 2009-01-03  & Y           & -3.70341625\\\\\n",
       "\t 2009-01-04  & Y           & -1.60950303\\\\\n",
       "\t 2009-01-05  & Y           &  1.42793787\\\\\n",
       "\t 2009-01-06  & Y           & -1.37734176\\\\\n",
       "\t 2009-01-07  & Y           &  0.44717357\\\\\n",
       "\t 2009-01-08  & Y           &  1.21746674\\\\\n",
       "\t 2009-01-09  & Y           & -2.26099670\\\\\n",
       "\t 2009-01-10  & Y           & -2.27199581\\\\\n",
       "\t 2009-01-01  & Z           & 11.15081760\\\\\n",
       "\t 2009-01-02  & Z           &  0.41719663\\\\\n",
       "\t 2009-01-03  & Z           &  0.21919269\\\\\n",
       "\t 2009-01-04  & Z           &  5.01928373\\\\\n",
       "\t 2009-01-05  & Z           & -3.83476169\\\\\n",
       "\t 2009-01-06  & Z           &  4.53725379\\\\\n",
       "\t 2009-01-07  & Z           & -3.44783123\\\\\n",
       "\t 2009-01-08  & Z           & -5.46563897\\\\\n",
       "\t 2009-01-09  & Z           &  1.51510801\\\\\n",
       "\t 2009-01-10  & Z           & -4.22965466\\\\\n",
       "\\end{tabular}\n"
      ],
      "text/markdown": [
       "\n",
       "time | stock | price | \n",
       "|---|---|---|---|---|---|---|---|---|---|---|---|---|---|---|---|---|---|---|---|---|---|---|---|---|---|---|---|---|---|\n",
       "| 2009-01-01  | X           |  2.28930805 | \n",
       "| 2009-01-02  | X           | -0.02618837 | \n",
       "| 2009-01-03  | X           |  0.34043851 | \n",
       "| 2009-01-04  | X           |  0.06785552 | \n",
       "| 2009-01-05  | X           | -0.71022074 | \n",
       "| 2009-01-06  | X           | -0.47351585 | \n",
       "| 2009-01-07  | X           | -1.05649502 | \n",
       "| 2009-01-08  | X           | -1.50567313 | \n",
       "| 2009-01-09  | X           |  1.35093474 | \n",
       "| 2009-01-10  | X           |  0.22808898 | \n",
       "| 2009-01-01  | Y           | -1.98748414 | \n",
       "| 2009-01-02  | Y           |  1.02415432 | \n",
       "| 2009-01-03  | Y           | -3.70341625 | \n",
       "| 2009-01-04  | Y           | -1.60950303 | \n",
       "| 2009-01-05  | Y           |  1.42793787 | \n",
       "| 2009-01-06  | Y           | -1.37734176 | \n",
       "| 2009-01-07  | Y           |  0.44717357 | \n",
       "| 2009-01-08  | Y           |  1.21746674 | \n",
       "| 2009-01-09  | Y           | -2.26099670 | \n",
       "| 2009-01-10  | Y           | -2.27199581 | \n",
       "| 2009-01-01  | Z           | 11.15081760 | \n",
       "| 2009-01-02  | Z           |  0.41719663 | \n",
       "| 2009-01-03  | Z           |  0.21919269 | \n",
       "| 2009-01-04  | Z           |  5.01928373 | \n",
       "| 2009-01-05  | Z           | -3.83476169 | \n",
       "| 2009-01-06  | Z           |  4.53725379 | \n",
       "| 2009-01-07  | Z           | -3.44783123 | \n",
       "| 2009-01-08  | Z           | -5.46563897 | \n",
       "| 2009-01-09  | Z           |  1.51510801 | \n",
       "| 2009-01-10  | Z           | -4.22965466 | \n",
       "\n",
       "\n"
      ],
      "text/plain": [
       "   time       stock price      \n",
       "1  2009-01-01 X      2.28930805\n",
       "2  2009-01-02 X     -0.02618837\n",
       "3  2009-01-03 X      0.34043851\n",
       "4  2009-01-04 X      0.06785552\n",
       "5  2009-01-05 X     -0.71022074\n",
       "6  2009-01-06 X     -0.47351585\n",
       "7  2009-01-07 X     -1.05649502\n",
       "8  2009-01-08 X     -1.50567313\n",
       "9  2009-01-09 X      1.35093474\n",
       "10 2009-01-10 X      0.22808898\n",
       "11 2009-01-01 Y     -1.98748414\n",
       "12 2009-01-02 Y      1.02415432\n",
       "13 2009-01-03 Y     -3.70341625\n",
       "14 2009-01-04 Y     -1.60950303\n",
       "15 2009-01-05 Y      1.42793787\n",
       "16 2009-01-06 Y     -1.37734176\n",
       "17 2009-01-07 Y      0.44717357\n",
       "18 2009-01-08 Y      1.21746674\n",
       "19 2009-01-09 Y     -2.26099670\n",
       "20 2009-01-10 Y     -2.27199581\n",
       "21 2009-01-01 Z     11.15081760\n",
       "22 2009-01-02 Z      0.41719663\n",
       "23 2009-01-03 Z      0.21919269\n",
       "24 2009-01-04 Z      5.01928373\n",
       "25 2009-01-05 Z     -3.83476169\n",
       "26 2009-01-06 Z      4.53725379\n",
       "27 2009-01-07 Z     -3.44783123\n",
       "28 2009-01-08 Z     -5.46563897\n",
       "29 2009-01-09 Z      1.51510801\n",
       "30 2009-01-10 Z     -4.22965466"
      ]
     },
     "metadata": {},
     "output_type": "display_data"
    }
   ],
   "source": [
    "stocks %>% gather(stock, price, -time)"
   ]
  },
  {
   "cell_type": "code",
   "execution_count": null,
   "metadata": {
    "collapsed": true
   },
   "outputs": [],
   "source": []
  },
  {
   "cell_type": "code",
   "execution_count": null,
   "metadata": {
    "collapsed": true
   },
   "outputs": [],
   "source": []
  },
  {
   "cell_type": "code",
   "execution_count": null,
   "metadata": {
    "collapsed": true
   },
   "outputs": [],
   "source": []
  },
  {
   "cell_type": "code",
   "execution_count": null,
   "metadata": {
    "collapsed": true
   },
   "outputs": [],
   "source": []
  },
  {
   "cell_type": "code",
   "execution_count": null,
   "metadata": {
    "collapsed": true
   },
   "outputs": [],
   "source": []
  },
  {
   "cell_type": "code",
   "execution_count": null,
   "metadata": {
    "collapsed": true
   },
   "outputs": [],
   "source": []
  },
  {
   "cell_type": "code",
   "execution_count": null,
   "metadata": {
    "collapsed": true
   },
   "outputs": [],
   "source": []
  },
  {
   "cell_type": "code",
   "execution_count": null,
   "metadata": {
    "collapsed": true
   },
   "outputs": [],
   "source": []
  },
  {
   "cell_type": "code",
   "execution_count": null,
   "metadata": {
    "collapsed": true
   },
   "outputs": [],
   "source": []
  },
  {
   "cell_type": "code",
   "execution_count": null,
   "metadata": {
    "collapsed": true
   },
   "outputs": [],
   "source": []
  },
  {
   "cell_type": "code",
   "execution_count": null,
   "metadata": {
    "collapsed": true
   },
   "outputs": [],
   "source": []
  },
  {
   "cell_type": "code",
   "execution_count": null,
   "metadata": {
    "collapsed": true
   },
   "outputs": [],
   "source": []
  },
  {
   "cell_type": "code",
   "execution_count": null,
   "metadata": {
    "collapsed": true
   },
   "outputs": [],
   "source": []
  }
 ],
 "metadata": {
  "kernelspec": {
   "display_name": "R",
   "language": "R",
   "name": "ir"
  },
  "language_info": {
   "codemirror_mode": "r",
   "file_extension": ".r",
   "mimetype": "text/x-r-source",
   "name": "R",
   "pygments_lexer": "r",
   "version": "3.4.0"
  }
 },
 "nbformat": 4,
 "nbformat_minor": 2
}
