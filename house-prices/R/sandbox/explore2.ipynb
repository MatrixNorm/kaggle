{
 "cells": [
  {
   "cell_type": "code",
   "execution_count": 3,
   "metadata": {},
   "outputs": [],
   "source": [
    "library(dplyr)\n",
    "library(ggplot2)\n",
    "library(grid)\n",
    "library(gridExtra)\n",
    "library(reshape2)"
   ]
  },
  {
   "cell_type": "code",
   "execution_count": 15,
   "metadata": {
    "collapsed": true
   },
   "outputs": [],
   "source": [
    "train_data = tbl_df(read.csv(\"../data/train.csv\", stringsAsFactors = FALSE))"
   ]
  },
  {
   "cell_type": "code",
   "execution_count": 16,
   "metadata": {},
   "outputs": [
    {
     "data": {
      "text/html": [
       "'logical'"
      ],
      "text/latex": [
       "'logical'"
      ],
      "text/markdown": [
       "'logical'"
      ],
      "text/plain": [
       "[1] \"logical\""
      ]
     },
     "execution_count": 16,
     "metadata": {},
     "output_type": "execute_result"
    },
    {
     "data": {
      "text/html": [
       "<dl class=dl-horizontal>\n",
       "\t<dt>Id</dt>\n",
       "\t\t<dd>FALSE</dd>\n",
       "\t<dt>MSSubClass</dt>\n",
       "\t\t<dd>FALSE</dd>\n",
       "\t<dt>MSZoning</dt>\n",
       "\t\t<dd>TRUE</dd>\n",
       "\t<dt>LotFrontage</dt>\n",
       "\t\t<dd>FALSE</dd>\n",
       "\t<dt>LotArea</dt>\n",
       "\t\t<dd>FALSE</dd>\n",
       "\t<dt>Street</dt>\n",
       "\t\t<dd>TRUE</dd>\n",
       "</dl>\n"
      ],
      "text/latex": [
       "\\begin{description*}\n",
       "\\item[Id] FALSE\n",
       "\\item[MSSubClass] FALSE\n",
       "\\item[MSZoning] TRUE\n",
       "\\item[LotFrontage] FALSE\n",
       "\\item[LotArea] FALSE\n",
       "\\item[Street] TRUE\n",
       "\\end{description*}\n"
      ],
      "text/markdown": [
       "Id\n",
       ":   FALSEMSSubClass\n",
       ":   FALSEMSZoning\n",
       ":   TRUELotFrontage\n",
       ":   FALSELotArea\n",
       ":   FALSEStreet\n",
       ":   TRUE\n",
       "\n"
      ],
      "text/plain": [
       "         Id  MSSubClass    MSZoning LotFrontage     LotArea      Street \n",
       "      FALSE       FALSE        TRUE       FALSE       FALSE        TRUE "
      ]
     },
     "execution_count": 16,
     "metadata": {},
     "output_type": "execute_result"
    },
    {
     "data": {
      "text/html": [
       "'integer'"
      ],
      "text/latex": [
       "'integer'"
      ],
      "text/markdown": [
       "'integer'"
      ],
      "text/plain": [
       "[1] \"integer\""
      ]
     },
     "execution_count": 16,
     "metadata": {},
     "output_type": "execute_result"
    },
    {
     "data": {
      "text/html": [
       "<dl class=dl-horizontal>\n",
       "\t<dt>MSZoning</dt>\n",
       "\t\t<dd>3</dd>\n",
       "\t<dt>Street</dt>\n",
       "\t\t<dd>6</dd>\n",
       "\t<dt>Alley</dt>\n",
       "\t\t<dd>7</dd>\n",
       "\t<dt>LotShape</dt>\n",
       "\t\t<dd>8</dd>\n",
       "\t<dt>LandContour</dt>\n",
       "\t\t<dd>9</dd>\n",
       "\t<dt>Utilities</dt>\n",
       "\t\t<dd>10</dd>\n",
       "</dl>\n"
      ],
      "text/latex": [
       "\\begin{description*}\n",
       "\\item[MSZoning] 3\n",
       "\\item[Street] 6\n",
       "\\item[Alley] 7\n",
       "\\item[LotShape] 8\n",
       "\\item[LandContour] 9\n",
       "\\item[Utilities] 10\n",
       "\\end{description*}\n"
      ],
      "text/markdown": [
       "MSZoning\n",
       ":   3Street\n",
       ":   6Alley\n",
       ":   7LotShape\n",
       ":   8LandContour\n",
       ":   9Utilities\n",
       ":   10\n",
       "\n"
      ],
      "text/plain": [
       "   MSZoning      Street       Alley    LotShape LandContour   Utilities \n",
       "          3           6           7           8           9          10 "
      ]
     },
     "execution_count": 16,
     "metadata": {},
     "output_type": "execute_result"
    }
   ],
   "source": [
    "tmp = sapply(train_data, is.character)\n",
    "class(tmp)\n",
    "head(tmp)\n",
    "\n",
    "tmp2 = which(tmp)\n",
    "class(tmp2)\n",
    "head(tmp2)"
   ]
  },
  {
   "cell_type": "code",
   "execution_count": 21,
   "metadata": {},
   "outputs": [
    {
     "data": {
      "text/html": [
       "<ol class=list-inline>\n",
       "\t<li>'MSZoning'</li>\n",
       "\t<li>'Street'</li>\n",
       "\t<li>'Alley'</li>\n",
       "\t<li>'LotShape'</li>\n",
       "\t<li>'LandContour'</li>\n",
       "\t<li>'Utilities'</li>\n",
       "\t<li>'LotConfig'</li>\n",
       "\t<li>'LandSlope'</li>\n",
       "\t<li>'Neighborhood'</li>\n",
       "\t<li>'Condition1'</li>\n",
       "\t<li>'Condition2'</li>\n",
       "\t<li>'BldgType'</li>\n",
       "\t<li>'HouseStyle'</li>\n",
       "\t<li>'RoofStyle'</li>\n",
       "\t<li>'RoofMatl'</li>\n",
       "\t<li>'Exterior1st'</li>\n",
       "\t<li>'Exterior2nd'</li>\n",
       "\t<li>'MasVnrType'</li>\n",
       "\t<li>'ExterQual'</li>\n",
       "\t<li>'ExterCond'</li>\n",
       "\t<li>'Foundation'</li>\n",
       "\t<li>'BsmtQual'</li>\n",
       "\t<li>'BsmtCond'</li>\n",
       "\t<li>'BsmtExposure'</li>\n",
       "\t<li>'BsmtFinType1'</li>\n",
       "\t<li>'BsmtFinType2'</li>\n",
       "\t<li>'Heating'</li>\n",
       "\t<li>'HeatingQC'</li>\n",
       "\t<li>'CentralAir'</li>\n",
       "\t<li>'Electrical'</li>\n",
       "\t<li>'KitchenQual'</li>\n",
       "\t<li>'Functional'</li>\n",
       "\t<li>'FireplaceQu'</li>\n",
       "\t<li>'GarageType'</li>\n",
       "\t<li>'GarageFinish'</li>\n",
       "\t<li>'GarageQual'</li>\n",
       "\t<li>'GarageCond'</li>\n",
       "\t<li>'PavedDrive'</li>\n",
       "\t<li>'PoolQC'</li>\n",
       "\t<li>'Fence'</li>\n",
       "\t<li>'MiscFeature'</li>\n",
       "\t<li>'SaleType'</li>\n",
       "\t<li>'SaleCondition'</li>\n",
       "</ol>\n"
      ],
      "text/latex": [
       "\\begin{enumerate*}\n",
       "\\item 'MSZoning'\n",
       "\\item 'Street'\n",
       "\\item 'Alley'\n",
       "\\item 'LotShape'\n",
       "\\item 'LandContour'\n",
       "\\item 'Utilities'\n",
       "\\item 'LotConfig'\n",
       "\\item 'LandSlope'\n",
       "\\item 'Neighborhood'\n",
       "\\item 'Condition1'\n",
       "\\item 'Condition2'\n",
       "\\item 'BldgType'\n",
       "\\item 'HouseStyle'\n",
       "\\item 'RoofStyle'\n",
       "\\item 'RoofMatl'\n",
       "\\item 'Exterior1st'\n",
       "\\item 'Exterior2nd'\n",
       "\\item 'MasVnrType'\n",
       "\\item 'ExterQual'\n",
       "\\item 'ExterCond'\n",
       "\\item 'Foundation'\n",
       "\\item 'BsmtQual'\n",
       "\\item 'BsmtCond'\n",
       "\\item 'BsmtExposure'\n",
       "\\item 'BsmtFinType1'\n",
       "\\item 'BsmtFinType2'\n",
       "\\item 'Heating'\n",
       "\\item 'HeatingQC'\n",
       "\\item 'CentralAir'\n",
       "\\item 'Electrical'\n",
       "\\item 'KitchenQual'\n",
       "\\item 'Functional'\n",
       "\\item 'FireplaceQu'\n",
       "\\item 'GarageType'\n",
       "\\item 'GarageFinish'\n",
       "\\item 'GarageQual'\n",
       "\\item 'GarageCond'\n",
       "\\item 'PavedDrive'\n",
       "\\item 'PoolQC'\n",
       "\\item 'Fence'\n",
       "\\item 'MiscFeature'\n",
       "\\item 'SaleType'\n",
       "\\item 'SaleCondition'\n",
       "\\end{enumerate*}\n"
      ],
      "text/markdown": [
       "1. 'MSZoning'\n",
       "2. 'Street'\n",
       "3. 'Alley'\n",
       "4. 'LotShape'\n",
       "5. 'LandContour'\n",
       "6. 'Utilities'\n",
       "7. 'LotConfig'\n",
       "8. 'LandSlope'\n",
       "9. 'Neighborhood'\n",
       "10. 'Condition1'\n",
       "11. 'Condition2'\n",
       "12. 'BldgType'\n",
       "13. 'HouseStyle'\n",
       "14. 'RoofStyle'\n",
       "15. 'RoofMatl'\n",
       "16. 'Exterior1st'\n",
       "17. 'Exterior2nd'\n",
       "18. 'MasVnrType'\n",
       "19. 'ExterQual'\n",
       "20. 'ExterCond'\n",
       "21. 'Foundation'\n",
       "22. 'BsmtQual'\n",
       "23. 'BsmtCond'\n",
       "24. 'BsmtExposure'\n",
       "25. 'BsmtFinType1'\n",
       "26. 'BsmtFinType2'\n",
       "27. 'Heating'\n",
       "28. 'HeatingQC'\n",
       "29. 'CentralAir'\n",
       "30. 'Electrical'\n",
       "31. 'KitchenQual'\n",
       "32. 'Functional'\n",
       "33. 'FireplaceQu'\n",
       "34. 'GarageType'\n",
       "35. 'GarageFinish'\n",
       "36. 'GarageQual'\n",
       "37. 'GarageCond'\n",
       "38. 'PavedDrive'\n",
       "39. 'PoolQC'\n",
       "40. 'Fence'\n",
       "41. 'MiscFeature'\n",
       "42. 'SaleType'\n",
       "43. 'SaleCondition'\n",
       "\n",
       "\n"
      ],
      "text/plain": [
       " [1] \"MSZoning\"      \"Street\"        \"Alley\"         \"LotShape\"     \n",
       " [5] \"LandContour\"   \"Utilities\"     \"LotConfig\"     \"LandSlope\"    \n",
       " [9] \"Neighborhood\"  \"Condition1\"    \"Condition2\"    \"BldgType\"     \n",
       "[13] \"HouseStyle\"    \"RoofStyle\"     \"RoofMatl\"      \"Exterior1st\"  \n",
       "[17] \"Exterior2nd\"   \"MasVnrType\"    \"ExterQual\"     \"ExterCond\"    \n",
       "[21] \"Foundation\"    \"BsmtQual\"      \"BsmtCond\"      \"BsmtExposure\" \n",
       "[25] \"BsmtFinType1\"  \"BsmtFinType2\"  \"Heating\"       \"HeatingQC\"    \n",
       "[29] \"CentralAir\"    \"Electrical\"    \"KitchenQual\"   \"Functional\"   \n",
       "[33] \"FireplaceQu\"   \"GarageType\"    \"GarageFinish\"  \"GarageQual\"   \n",
       "[37] \"GarageCond\"    \"PavedDrive\"    \"PoolQC\"        \"Fence\"        \n",
       "[41] \"MiscFeature\"   \"SaleType\"      \"SaleCondition\""
      ]
     },
     "execution_count": 21,
     "metadata": {},
     "output_type": "execute_result"
    },
    {
     "data": {
      "text/html": [
       "<ol class=list-inline>\n",
       "\t<li>'Id'</li>\n",
       "\t<li>'MSSubClass'</li>\n",
       "\t<li>'LotFrontage'</li>\n",
       "\t<li>'LotArea'</li>\n",
       "\t<li>'OverallQual'</li>\n",
       "\t<li>'OverallCond'</li>\n",
       "\t<li>'YearBuilt'</li>\n",
       "\t<li>'YearRemodAdd'</li>\n",
       "\t<li>'MasVnrArea'</li>\n",
       "\t<li>'BsmtFinSF1'</li>\n",
       "\t<li>'BsmtFinSF2'</li>\n",
       "\t<li>'BsmtUnfSF'</li>\n",
       "\t<li>'TotalBsmtSF'</li>\n",
       "\t<li>'X1stFlrSF'</li>\n",
       "\t<li>'X2ndFlrSF'</li>\n",
       "\t<li>'LowQualFinSF'</li>\n",
       "\t<li>'GrLivArea'</li>\n",
       "\t<li>'BsmtFullBath'</li>\n",
       "\t<li>'BsmtHalfBath'</li>\n",
       "\t<li>'FullBath'</li>\n",
       "\t<li>'HalfBath'</li>\n",
       "\t<li>'BedroomAbvGr'</li>\n",
       "\t<li>'KitchenAbvGr'</li>\n",
       "\t<li>'TotRmsAbvGrd'</li>\n",
       "\t<li>'Fireplaces'</li>\n",
       "\t<li>'GarageYrBlt'</li>\n",
       "\t<li>'GarageCars'</li>\n",
       "\t<li>'GarageArea'</li>\n",
       "\t<li>'WoodDeckSF'</li>\n",
       "\t<li>'OpenPorchSF'</li>\n",
       "\t<li>'EnclosedPorch'</li>\n",
       "\t<li>'X3SsnPorch'</li>\n",
       "\t<li>'ScreenPorch'</li>\n",
       "\t<li>'PoolArea'</li>\n",
       "\t<li>'MiscVal'</li>\n",
       "\t<li>'MoSold'</li>\n",
       "\t<li>'YrSold'</li>\n",
       "\t<li>'SalePrice'</li>\n",
       "</ol>\n"
      ],
      "text/latex": [
       "\\begin{enumerate*}\n",
       "\\item 'Id'\n",
       "\\item 'MSSubClass'\n",
       "\\item 'LotFrontage'\n",
       "\\item 'LotArea'\n",
       "\\item 'OverallQual'\n",
       "\\item 'OverallCond'\n",
       "\\item 'YearBuilt'\n",
       "\\item 'YearRemodAdd'\n",
       "\\item 'MasVnrArea'\n",
       "\\item 'BsmtFinSF1'\n",
       "\\item 'BsmtFinSF2'\n",
       "\\item 'BsmtUnfSF'\n",
       "\\item 'TotalBsmtSF'\n",
       "\\item 'X1stFlrSF'\n",
       "\\item 'X2ndFlrSF'\n",
       "\\item 'LowQualFinSF'\n",
       "\\item 'GrLivArea'\n",
       "\\item 'BsmtFullBath'\n",
       "\\item 'BsmtHalfBath'\n",
       "\\item 'FullBath'\n",
       "\\item 'HalfBath'\n",
       "\\item 'BedroomAbvGr'\n",
       "\\item 'KitchenAbvGr'\n",
       "\\item 'TotRmsAbvGrd'\n",
       "\\item 'Fireplaces'\n",
       "\\item 'GarageYrBlt'\n",
       "\\item 'GarageCars'\n",
       "\\item 'GarageArea'\n",
       "\\item 'WoodDeckSF'\n",
       "\\item 'OpenPorchSF'\n",
       "\\item 'EnclosedPorch'\n",
       "\\item 'X3SsnPorch'\n",
       "\\item 'ScreenPorch'\n",
       "\\item 'PoolArea'\n",
       "\\item 'MiscVal'\n",
       "\\item 'MoSold'\n",
       "\\item 'YrSold'\n",
       "\\item 'SalePrice'\n",
       "\\end{enumerate*}\n"
      ],
      "text/markdown": [
       "1. 'Id'\n",
       "2. 'MSSubClass'\n",
       "3. 'LotFrontage'\n",
       "4. 'LotArea'\n",
       "5. 'OverallQual'\n",
       "6. 'OverallCond'\n",
       "7. 'YearBuilt'\n",
       "8. 'YearRemodAdd'\n",
       "9. 'MasVnrArea'\n",
       "10. 'BsmtFinSF1'\n",
       "11. 'BsmtFinSF2'\n",
       "12. 'BsmtUnfSF'\n",
       "13. 'TotalBsmtSF'\n",
       "14. 'X1stFlrSF'\n",
       "15. 'X2ndFlrSF'\n",
       "16. 'LowQualFinSF'\n",
       "17. 'GrLivArea'\n",
       "18. 'BsmtFullBath'\n",
       "19. 'BsmtHalfBath'\n",
       "20. 'FullBath'\n",
       "21. 'HalfBath'\n",
       "22. 'BedroomAbvGr'\n",
       "23. 'KitchenAbvGr'\n",
       "24. 'TotRmsAbvGrd'\n",
       "25. 'Fireplaces'\n",
       "26. 'GarageYrBlt'\n",
       "27. 'GarageCars'\n",
       "28. 'GarageArea'\n",
       "29. 'WoodDeckSF'\n",
       "30. 'OpenPorchSF'\n",
       "31. 'EnclosedPorch'\n",
       "32. 'X3SsnPorch'\n",
       "33. 'ScreenPorch'\n",
       "34. 'PoolArea'\n",
       "35. 'MiscVal'\n",
       "36. 'MoSold'\n",
       "37. 'YrSold'\n",
       "38. 'SalePrice'\n",
       "\n",
       "\n"
      ],
      "text/plain": [
       " [1] \"Id\"            \"MSSubClass\"    \"LotFrontage\"   \"LotArea\"      \n",
       " [5] \"OverallQual\"   \"OverallCond\"   \"YearBuilt\"     \"YearRemodAdd\" \n",
       " [9] \"MasVnrArea\"    \"BsmtFinSF1\"    \"BsmtFinSF2\"    \"BsmtUnfSF\"    \n",
       "[13] \"TotalBsmtSF\"   \"X1stFlrSF\"     \"X2ndFlrSF\"     \"LowQualFinSF\" \n",
       "[17] \"GrLivArea\"     \"BsmtFullBath\"  \"BsmtHalfBath\"  \"FullBath\"     \n",
       "[21] \"HalfBath\"      \"BedroomAbvGr\"  \"KitchenAbvGr\"  \"TotRmsAbvGrd\" \n",
       "[25] \"Fireplaces\"    \"GarageYrBlt\"   \"GarageCars\"    \"GarageArea\"   \n",
       "[29] \"WoodDeckSF\"    \"OpenPorchSF\"   \"EnclosedPorch\" \"X3SsnPorch\"   \n",
       "[33] \"ScreenPorch\"   \"PoolArea\"      \"MiscVal\"       \"MoSold\"       \n",
       "[37] \"YrSold\"        \"SalePrice\"    "
      ]
     },
     "execution_count": 21,
     "metadata": {},
     "output_type": "execute_result"
    }
   ],
   "source": [
    "categor_vars = names(train_data)[which(sapply(train_data, is.character))]\n",
    "categor_vars\n",
    "\n",
    "numeric_var = names(train_data)[which(sapply(train_data, is.numeric))]\n",
    "numeric_var"
   ]
  },
  {
   "cell_type": "code",
   "execution_count": null,
   "metadata": {
    "collapsed": true
   },
   "outputs": [],
   "source": []
  },
  {
   "cell_type": "code",
   "execution_count": null,
   "metadata": {
    "collapsed": true
   },
   "outputs": [],
   "source": []
  },
  {
   "cell_type": "code",
   "execution_count": null,
   "metadata": {
    "collapsed": true
   },
   "outputs": [],
   "source": []
  },
  {
   "cell_type": "code",
   "execution_count": null,
   "metadata": {
    "collapsed": true
   },
   "outputs": [],
   "source": []
  },
  {
   "cell_type": "code",
   "execution_count": null,
   "metadata": {
    "collapsed": true
   },
   "outputs": [],
   "source": []
  },
  {
   "cell_type": "code",
   "execution_count": null,
   "metadata": {
    "collapsed": true
   },
   "outputs": [],
   "source": []
  },
  {
   "cell_type": "code",
   "execution_count": null,
   "metadata": {
    "collapsed": true
   },
   "outputs": [],
   "source": []
  },
  {
   "cell_type": "code",
   "execution_count": null,
   "metadata": {
    "collapsed": true
   },
   "outputs": [],
   "source": []
  },
  {
   "cell_type": "code",
   "execution_count": null,
   "metadata": {
    "collapsed": true
   },
   "outputs": [],
   "source": []
  },
  {
   "cell_type": "code",
   "execution_count": null,
   "metadata": {
    "collapsed": true
   },
   "outputs": [],
   "source": []
  }
 ],
 "metadata": {
  "kernelspec": {
   "display_name": "R",
   "language": "R",
   "name": "ir"
  },
  "language_info": {
   "codemirror_mode": "r",
   "file_extension": ".r",
   "mimetype": "text/x-r-source",
   "name": "R",
   "pygments_lexer": "r",
   "version": "3.4.0"
  }
 },
 "nbformat": 4,
 "nbformat_minor": 1
}
