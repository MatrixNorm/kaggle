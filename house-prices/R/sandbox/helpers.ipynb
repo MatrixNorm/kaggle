{
 "cells": [
  {
   "cell_type": "code",
   "execution_count": 2,
   "metadata": {
    "collapsed": false
   },
   "outputs": [],
   "source": [
    "library(dplyr)\n",
    "library(ggplot2)\n",
    "library(grid)\n",
    "library(gridExtra)\n",
    "library(reshape2)"
   ]
  },
  {
   "cell_type": "code",
   "execution_count": 3,
   "metadata": {
    "collapsed": true
   },
   "outputs": [],
   "source": [
    "trainData = tbl_df(read.csv(\"../data/train.csv\", stringsAsFactors = FALSE))\n",
    "trainData = trainData %>% select(-Id)"
   ]
  },
  {
   "cell_type": "code",
   "execution_count": 10,
   "metadata": {
    "collapsed": true
   },
   "outputs": [],
   "source": [
    "get_covariate_hist <- function(df, col_name, type=\"hist\"){\n",
    "    \n",
    "    col_df = df %>% select_(col_name) %>% na.omit()\n",
    "    \n",
    "    q_tmpl = paste(\"stats::quantile(\", col_name, \",\", \"probs=\")\n",
    "    \n",
    "    qs = col_df %>% summarise_(\n",
    "                        q25=paste(q_tmpl, 0.25, \")\"),\n",
    "                        q75=paste(q_tmpl, 0.75, \")\"),\n",
    "                        q99=paste(q_tmpl, 0.99, \")\"),\n",
    "                        n=~n())\n",
    "    q25 = qs[['q25']]\n",
    "    q75 = qs[['q75']]\n",
    "    q99 = qs[['q99']]\n",
    "    n = qs[['n']]\n",
    "    bin_width = 2 * (q75 - q25) * (n ** (- 1/3))\n",
    "    \n",
    "    g = ggplot(col_df %>% filter_(paste(col_name, \"<\", q99)), aes_string(col_name))\n",
    "    \n",
    "    if( type == \"dens\"){\n",
    "       g = g + geom_density(fill = \"red\", alpha = \"0.7\")\n",
    "    } else {\n",
    "       g = g + geom_histogram(binwidth=bin_width)\n",
    "    }\n",
    "    \n",
    "    return(g)\n",
    "}"
   ]
  },
  {
   "cell_type": "code",
   "execution_count": 13,
   "metadata": {
    "collapsed": false
   },
   "outputs": [
    {
     "data": {
      "image/png": "[encoded data removed]",
      "image/svg+xml": [
       "<?xml version=\"1.0\" encoding=\"UTF-8\"?>\n",
       "<svg xmlns=\"http://www.w3.org/2000/svg\" xmlns:xlink=\"http://www.w3.org/1999/xlink\" width=\"504pt\" height=\"504pt\" viewBox=\"0 0 504 504\" version=\"1.1\">\n",
       "<defs>\n",
       "<g>\n",
       "<symbol overflow=\"visible\" id=\"glyph0-0\">\n",
       "<path style=\"stroke:none;\" d=\"\"/>\n",
       "</symbol>\n",
       "<symbol overflow=\"visible\" id=\"glyph0-1\">\n",
       "<path style=\"stroke:none;\" d=\"M 4.609375 -3.125 C 4.609375 -5.296875 3.78125 -6.5 2.421875 -6.5 C 1.078125 -6.5 0.21875 -5.28125 0.21875 -3.1875 C 0.21875 -1.078125 1.078125 0.125 2.421875 0.125 C 3.734375 0.125 4.609375 -1.078125 4.609375 -3.125 Z M 3.515625 -3.203125 C 3.515625 -1.4375 3.265625 -0.78125 2.40625 -0.78125 C 1.578125 -0.78125 1.3125 -1.46875 1.3125 -3.171875 C 1.3125 -4.875 1.578125 -5.546875 2.421875 -5.546875 C 3.25 -5.546875 3.515625 -4.875 3.515625 -3.203125 Z M 3.515625 -3.203125 \"/>\n",
       "</symbol>\n",
       "<symbol overflow=\"visible\" id=\"glyph0-2\">\n",
       "<path style=\"stroke:none;\" d=\"M 4.65625 -2.203125 C 4.65625 -3.4375 3.6875 -4.375 2.5 -4.375 C 2.0625 -4.375 1.59375 -4.21875 1.546875 -4.1875 L 1.71875 -5.34375 L 4.34375 -5.34375 L 4.34375 -6.375 L 0.828125 -6.375 L 0.3125 -2.84375 L 1.28125 -2.84375 C 1.6875 -3.3125 1.875 -3.421875 2.359375 -3.421875 C 3.1875 -3.421875 3.5625 -3.015625 3.5625 -2.09375 C 3.5625 -1.203125 3.203125 -0.8125 2.359375 -0.8125 C 1.6875 -0.8125 1.421875 -1.03125 1.203125 -1.859375 L 0.125 -1.859375 C 0.40625 -0.5 1.265625 0.125 2.375 0.125 C 3.640625 0.125 4.65625 -0.875 4.65625 -2.203125 Z M 4.65625 -2.203125 \"/>\n",
       "</symbol>\n",
       "<symbol overflow=\"visible\" id=\"glyph0-3\">\n",
       "<path style=\"stroke:none;\" d=\"M 3.203125 -0.125 L 3.203125 -6.5 L 2.421875 -6.5 C 2.109375 -5.421875 2.09375 -5.40625 0.734375 -5.25 L 0.734375 -4.4375 L 2.125 -4.4375 L 2.125 0 L 3.203125 0 Z M 3.203125 -0.125 \"/>\n",
       "</symbol>\n",
       "<symbol overflow=\"visible\" id=\"glyph0-4\">\n",
       "<path style=\"stroke:none;\" d=\"M 4.640625 -4.546875 C 4.640625 -5.59375 3.671875 -6.5 2.5 -6.5 C 1.21875 -6.5 0.328125 -5.734375 0.265625 -4.078125 L 1.359375 -4.078125 C 1.421875 -5.25 1.703125 -5.5625 2.46875 -5.5625 C 3.171875 -5.5625 3.546875 -5.1875 3.546875 -4.515625 C 3.546875 -4.03125 3.296875 -3.703125 2.75 -3.390625 L 1.9375 -2.921875 C 0.640625 -2.1875 0.21875 -1.515625 0.125 0 L 4.59375 0 L 4.59375 -1.03125 L 1.34375 -1.03125 C 1.40625 -1.40625 1.640625 -1.640625 2.40625 -2.078125 L 3.28125 -2.5625 C 4.15625 -3.03125 4.640625 -3.78125 4.640625 -4.546875 Z M 4.640625 -4.546875 \"/>\n",
       "</symbol>\n",
       "<symbol overflow=\"visible\" id=\"glyph0-5\">\n",
       "<path style=\"stroke:none;\" d=\"M 4.59375 -1.9375 C 4.59375 -2.703125 4.140625 -3.265625 3.390625 -3.53125 L 3.390625 -3.265625 C 3.96875 -3.5 4.421875 -4.03125 4.421875 -4.65625 C 4.421875 -5.734375 3.546875 -6.5 2.359375 -6.5 C 1.109375 -6.5 0.28125 -5.703125 0.25 -4.21875 L 1.34375 -4.21875 C 1.359375 -5.28125 1.578125 -5.5625 2.375 -5.5625 C 3.0625 -5.5625 3.3125 -5.28125 3.3125 -4.625 C 3.3125 -3.953125 3.1875 -3.8125 1.78125 -3.8125 L 1.78125 -2.90625 L 2.359375 -2.90625 C 3.21875 -2.90625 3.5 -2.625 3.5 -1.9375 C 3.5 -1.15625 3.171875 -0.8125 2.359375 -0.8125 C 1.515625 -0.8125 1.265625 -1.109375 1.203125 -2.140625 L 0.109375 -2.140625 C 0.21875 -0.625 1.0625 0.125 2.34375 0.125 C 3.625 0.125 4.59375 -0.765625 4.59375 -1.9375 Z M 4.59375 -1.9375 \"/>\n",
       "</symbol>\n",
       "<symbol overflow=\"visible\" id=\"glyph1-0\">\n",
       "<path style=\"stroke:none;\" d=\"\"/>\n",
       "</symbol>\n",
       "<symbol overflow=\"visible\" id=\"glyph1-1\">\n",
       "<path style=\"stroke:none;\" d=\"M 6 -0.125 L 6 -1.171875 L 2.03125 -1.171875 L 2.03125 -8.296875 L 0.734375 -8.296875 L 0.734375 0 L 6 0 Z M 6 -0.125 \"/>\n",
       "</symbol>\n",
       "<symbol overflow=\"visible\" id=\"glyph1-2\">\n",
       "<path style=\"stroke:none;\" d=\"M 5.734375 -2.96875 C 5.734375 -4.96875 4.65625 -6.203125 2.984375 -6.203125 C 1.375 -6.203125 0.25 -4.953125 0.25 -3.015625 C 0.25 -1.078125 1.359375 0.171875 3 0.171875 C 4.625 0.171875 5.734375 -1.078125 5.734375 -2.96875 Z M 4.515625 -2.984375 C 4.515625 -1.625 4.015625 -0.953125 3 -0.953125 C 1.984375 -0.953125 1.484375 -1.609375 1.484375 -3.015625 C 1.484375 -4.40625 1.984375 -5.078125 3 -5.078125 C 4.03125 -5.078125 4.515625 -4.40625 4.515625 -2.984375 Z M 4.515625 -2.984375 \"/>\n",
       "</symbol>\n",
       "<symbol overflow=\"visible\" id=\"glyph1-3\">\n",
       "<path style=\"stroke:none;\" d=\"M 2.921875 -0.125 L 2.921875 -1.078125 C 2.671875 -1.015625 2.53125 -1 2.359375 -1 C 1.953125 -1 1.984375 -0.96875 1.984375 -1.375 L 1.984375 -5.015625 L 2.921875 -5.015625 L 2.921875 -6.03125 L 1.984375 -6.03125 L 1.984375 -7.625 L 0.796875 -7.625 L 0.796875 -6.03125 L 0.015625 -6.03125 L 0.015625 -5.015625 L 0.796875 -5.015625 L 0.796875 -0.96875 C 0.796875 -0.390625 1.328125 0.078125 2.046875 0.078125 C 2.265625 0.078125 2.484375 0.0625 2.921875 -0.015625 Z M 2.921875 -0.125 \"/>\n",
       "</symbol>\n",
       "<symbol overflow=\"visible\" id=\"glyph1-4\">\n",
       "<path style=\"stroke:none;\" d=\"M 7.3125 -0.125 L 4.453125 -8.296875 L 2.953125 -8.296875 L 0 0 L 1.359375 0 L 2.21875 -2.40625 L 5.109375 -2.40625 L 5.9375 0 L 7.359375 0 Z M 4.921875 -3.546875 L 2.5625 -3.546875 L 3.828125 -7.046875 L 3.546875 -7.046875 L 4.734375 -3.546875 Z M 4.921875 -3.546875 \"/>\n",
       "</symbol>\n",
       "<symbol overflow=\"visible\" id=\"glyph1-5\">\n",
       "<path style=\"stroke:none;\" d=\"M 3.65625 -5.09375 L 3.65625 -6.15625 C 3.375 -6.1875 3.296875 -6.203125 3.171875 -6.203125 C 2.578125 -6.203125 2.03125 -5.8125 1.5 -4.953125 L 1.734375 -4.84375 L 1.734375 -6.03125 L 0.625 -6.03125 L 0.625 0 L 1.8125 0 L 1.8125 -3.125 C 1.8125 -4.421875 2.109375 -4.9375 3.65625 -4.96875 Z M 3.65625 -5.09375 \"/>\n",
       "</symbol>\n",
       "<symbol overflow=\"visible\" id=\"glyph1-6\">\n",
       "<path style=\"stroke:none;\" d=\"M 5.78125 -2.75 C 5.78125 -3.59375 5.703125 -4.109375 5.546875 -4.546875 C 5.171875 -5.484375 4.15625 -6.203125 3.078125 -6.203125 C 1.46875 -6.203125 0.296875 -4.875 0.296875 -2.984375 C 0.296875 -1.09375 1.4375 0.171875 3.0625 0.171875 C 4.375 0.171875 5.421875 -0.71875 5.671875 -2.03125 L 4.5 -2.03125 C 4.203125 -1.125 3.828125 -0.953125 3.09375 -0.953125 C 2.140625 -0.953125 1.546875 -1.4375 1.53125 -2.625 L 5.78125 -2.625 Z M 4.75 -3.46875 C 4.75 -3.46875 4.5625 -3.625 4.578125 -3.640625 L 1.5625 -3.640625 C 1.625 -4.515625 2.140625 -5.078125 3.0625 -5.078125 C 3.96875 -5.078125 4.515625 -4.46875 4.515625 -3.5625 Z M 4.75 -3.46875 \"/>\n",
       "</symbol>\n",
       "<symbol overflow=\"visible\" id=\"glyph1-7\">\n",
       "<path style=\"stroke:none;\" d=\"M 6.015625 -0.15625 L 6.015625 -1.015625 C 5.78125 -0.96875 5.734375 -0.96875 5.6875 -0.96875 C 5.375 -0.96875 5.328125 -0.984375 5.328125 -1.28125 L 5.328125 -4.484375 C 5.328125 -5.515625 4.4375 -6.203125 3.03125 -6.203125 C 1.625 -6.203125 0.625 -5.515625 0.5625 -4.0625 L 1.765625 -4.0625 C 1.84375 -4.890625 2.140625 -5.078125 2.984375 -5.078125 C 3.8125 -5.078125 4.140625 -4.90625 4.140625 -4.359375 L 4.140625 -4.109375 C 4.140625 -3.734375 4.046875 -3.703125 3.328125 -3.625 C 2.03125 -3.453125 1.828125 -3.40625 1.46875 -3.265625 C 0.796875 -2.984375 0.3125 -2.328125 0.3125 -1.625 C 0.3125 -0.578125 1.1875 0.171875 2.359375 0.171875 C 3.09375 0.171875 3.890625 -0.171875 4.234375 -0.53125 C 4.265625 -0.375 4.8125 0.078125 5.265625 0.078125 C 5.4375 0.078125 5.59375 0.0625 6.015625 -0.0625 Z M 4.140625 -2.125 C 4.140625 -1.296875 3.4375 -0.90625 2.546875 -0.90625 C 1.84375 -0.90625 1.546875 -1.015625 1.546875 -1.65625 C 1.546875 -2.25 1.828125 -2.390625 2.8125 -2.53125 C 3.765625 -2.65625 3.96875 -2.703125 4.140625 -2.78125 Z M 4.140625 -2.125 \"/>\n",
       "</symbol>\n",
       "<symbol overflow=\"visible\" id=\"glyph2-0\">\n",
       "<path style=\"stroke:none;\" d=\"\"/>\n",
       "</symbol>\n",
       "<symbol overflow=\"visible\" id=\"glyph2-1\">\n",
       "<path style=\"stroke:none;\" d=\"M -2.25 -5.25 L -2.25 -4.203125 C -1.1875 -4.03125 -0.953125 -3.703125 -0.953125 -2.921875 C -0.953125 -1.90625 -1.59375 -1.4375 -2.953125 -1.4375 C -4.40625 -1.4375 -5.078125 -1.890625 -5.078125 -2.890625 C -5.078125 -3.65625 -4.765625 -4 -3.828125 -4.140625 L -3.828125 -5.328125 C -5.375 -5.203125 -6.203125 -4.1875 -6.203125 -2.90625 C -6.203125 -1.359375 -4.875 -0.203125 -2.953125 -0.203125 C -1.09375 -0.203125 0.171875 -1.328125 0.171875 -2.890625 C 0.171875 -4.265625 -0.796875 -5.265625 -2.25 -5.390625 Z M -2.25 -5.25 \"/>\n",
       "</symbol>\n",
       "<symbol overflow=\"visible\" id=\"glyph2-2\">\n",
       "<path style=\"stroke:none;\" d=\"M -2.96875 -5.734375 C -4.96875 -5.734375 -6.203125 -4.65625 -6.203125 -2.984375 C -6.203125 -1.375 -4.953125 -0.25 -3.015625 -0.25 C -1.078125 -0.25 0.171875 -1.359375 0.171875 -3 C 0.171875 -4.625 -1.078125 -5.734375 -2.96875 -5.734375 Z M -2.984375 -4.515625 C -1.625 -4.515625 -0.953125 -4.015625 -0.953125 -3 C -0.953125 -1.984375 -1.609375 -1.484375 -3.015625 -1.484375 C -4.40625 -1.484375 -5.078125 -1.984375 -5.078125 -3 C -5.078125 -4.03125 -4.40625 -4.515625 -2.984375 -4.515625 Z M -2.984375 -4.515625 \"/>\n",
       "</symbol>\n",
       "<symbol overflow=\"visible\" id=\"glyph2-3\">\n",
       "<path style=\"stroke:none;\" d=\"M -0.125 -5.4375 L -6.03125 -5.4375 L -6.03125 -4.25 L -2.71875 -4.25 C -1.546875 -4.25 -0.90625 -3.765625 -0.90625 -2.8125 C -0.90625 -2.09375 -1.203125 -1.765625 -1.90625 -1.765625 L -6.03125 -1.765625 L -6.03125 -0.578125 L -1.546875 -0.578125 C -0.578125 -0.578125 0.171875 -1.4375 0.171875 -2.546875 C 0.171875 -3.40625 -0.171875 -4.03125 -0.921875 -4.5625 L -1.015625 -4.328125 L 0 -4.328125 L 0 -5.4375 Z M -0.125 -5.4375 \"/>\n",
       "</symbol>\n",
       "<symbol overflow=\"visible\" id=\"glyph2-4\">\n",
       "<path style=\"stroke:none;\" d=\"M -0.125 -5.484375 L -4.484375 -5.484375 C -5.4375 -5.484375 -6.203125 -4.640625 -6.203125 -3.53125 C -6.203125 -2.671875 -5.828125 -2.03125 -5.03125 -1.515625 L -4.921875 -1.75 L -6.03125 -1.75 L -6.03125 -0.625 L 0 -0.625 L 0 -1.8125 L -3.3125 -1.8125 C -4.484375 -1.8125 -5.125 -2.328125 -5.125 -3.25 C -5.125 -3.984375 -4.8125 -4.296875 -4.125 -4.296875 L 0 -4.296875 L 0 -5.484375 Z M -0.125 -5.484375 \"/>\n",
       "</symbol>\n",
       "<symbol overflow=\"visible\" id=\"glyph2-5\">\n",
       "<path style=\"stroke:none;\" d=\"M -0.125 -2.921875 L -1.078125 -2.921875 C -1.015625 -2.671875 -1 -2.53125 -1 -2.359375 C -1 -1.953125 -0.96875 -1.984375 -1.375 -1.984375 L -5.015625 -1.984375 L -5.015625 -2.921875 L -6.03125 -2.921875 L -6.03125 -1.984375 L -7.625 -1.984375 L -7.625 -0.796875 L -6.03125 -0.796875 L -6.03125 -0.015625 L -5.015625 -0.015625 L -5.015625 -0.796875 L -0.96875 -0.796875 C -0.390625 -0.796875 0.078125 -1.328125 0.078125 -2.046875 C 0.078125 -2.265625 0.0625 -2.484375 -0.015625 -2.921875 Z M -0.125 -2.921875 \"/>\n",
       "</symbol>\n",
       "</g>\n",
       "<clipPath id=\"clip1\">\n",
       "  <path d=\"M 40.984375 5.480469 L 499 5.480469 L 499 472 L 40.984375 472 Z M 40.984375 5.480469 \"/>\n",
       "</clipPath>\n",
       "<clipPath id=\"clip2\">\n",
       "  <path d=\"M 40.984375 380 L 499 380 L 499 381 L 40.984375 381 Z M 40.984375 380 \"/>\n",
       "</clipPath>\n",
       "<clipPath id=\"clip3\">\n",
       "  <path d=\"M 40.984375 242 L 499 242 L 499 243 L 40.984375 243 Z M 40.984375 242 \"/>\n",
       "</clipPath>\n",
       "<clipPath id=\"clip4\">\n",
       "  <path d=\"M 40.984375 103 L 499 103 L 499 105 L 40.984375 105 Z M 40.984375 103 \"/>\n",
       "</clipPath>\n",
       "<clipPath id=\"clip5\">\n",
       "  <path d=\"M 116 5.480469 L 118 5.480469 L 118 472 L 116 472 Z M 116 5.480469 \"/>\n",
       "</clipPath>\n",
       "<clipPath id=\"clip6\">\n",
       "  <path d=\"M 226 5.480469 L 227 5.480469 L 227 472 L 226 472 Z M 226 5.480469 \"/>\n",
       "</clipPath>\n",
       "<clipPath id=\"clip7\">\n",
       "  <path d=\"M 336 5.480469 L 337 5.480469 L 337 472 L 336 472 Z M 336 5.480469 \"/>\n",
       "</clipPath>\n",
       "<clipPath id=\"clip8\">\n",
       "  <path d=\"M 446 5.480469 L 447 5.480469 L 447 472 L 446 472 Z M 446 5.480469 \"/>\n",
       "</clipPath>\n",
       "<clipPath id=\"clip9\">\n",
       "  <path d=\"M 40.984375 449 L 499.519531 449 L 499.519531 451 L 40.984375 451 Z M 40.984375 449 \"/>\n",
       "</clipPath>\n",
       "<clipPath id=\"clip10\">\n",
       "  <path d=\"M 40.984375 311 L 499.519531 311 L 499.519531 313 L 40.984375 313 Z M 40.984375 311 \"/>\n",
       "</clipPath>\n",
       "<clipPath id=\"clip11\">\n",
       "  <path d=\"M 40.984375 172 L 499.519531 172 L 499.519531 174 L 40.984375 174 Z M 40.984375 172 \"/>\n",
       "</clipPath>\n",
       "<clipPath id=\"clip12\">\n",
       "  <path d=\"M 40.984375 34 L 499.519531 34 L 499.519531 36 L 40.984375 36 Z M 40.984375 34 \"/>\n",
       "</clipPath>\n",
       "<clipPath id=\"clip13\">\n",
       "  <path d=\"M 61 5.480469 L 63 5.480469 L 63 472 L 61 472 Z M 61 5.480469 \"/>\n",
       "</clipPath>\n",
       "<clipPath id=\"clip14\">\n",
       "  <path d=\"M 171 5.480469 L 173 5.480469 L 173 472 L 171 472 Z M 171 5.480469 \"/>\n",
       "</clipPath>\n",
       "<clipPath id=\"clip15\">\n",
       "  <path d=\"M 281 5.480469 L 283 5.480469 L 283 472 L 281 472 Z M 281 5.480469 \"/>\n",
       "</clipPath>\n",
       "<clipPath id=\"clip16\">\n",
       "  <path d=\"M 391 5.480469 L 393 5.480469 L 393 472 L 391 472 Z M 391 5.480469 \"/>\n",
       "</clipPath>\n",
       "</defs>\n",
       "<g id=\"surface99\">\n",
       "<rect x=\"0\" y=\"0\" width=\"504\" height=\"504\" style=\"fill:rgb(100%,100%,100%);fill-opacity:1;stroke:none;\"/>\n",
       "<rect x=\"0\" y=\"0\" width=\"504\" height=\"504\" style=\"fill:rgb(100%,100%,100%);fill-opacity:1;stroke:none;\"/>\n",
       "<path style=\"fill:none;stroke-width:1.066978;stroke-linecap:round;stroke-linejoin:round;stroke:rgb(100%,100%,100%);stroke-opacity:1;stroke-miterlimit:10;\" d=\"M 0 504 L 504 504 L 504 0 L 0 0 Z M 0 504 \"/>\n",
       "<g clip-path=\"url(#clip1)\" clip-rule=\"nonzero\">\n",
       "<path style=\" stroke:none;fill-rule:nonzero;fill:rgb(92.156863%,92.156863%,92.156863%);fill-opacity:1;\" d=\"M 40.984375 471.015625 L 498.519531 471.015625 L 498.519531 5.480469 L 40.984375 5.480469 Z M 40.984375 471.015625 \"/>\n",
       "</g>\n",
       "<g clip-path=\"url(#clip2)\" clip-rule=\"nonzero\">\n",
       "<path style=\"fill:none;stroke-width:0.533489;stroke-linecap:butt;stroke-linejoin:round;stroke:rgb(100%,100%,100%);stroke-opacity:1;stroke-miterlimit:10;\" d=\"M 40.984375 380.699219 L 498.519531 380.699219 \"/>\n",
       "</g>\n",
       "<g clip-path=\"url(#clip3)\" clip-rule=\"nonzero\">\n",
       "<path style=\"fill:none;stroke-width:0.533489;stroke-linecap:butt;stroke-linejoin:round;stroke:rgb(100%,100%,100%);stroke-opacity:1;stroke-miterlimit:10;\" d=\"M 40.984375 242.394531 L 498.519531 242.394531 \"/>\n",
       "</g>\n",
       "<g clip-path=\"url(#clip4)\" clip-rule=\"nonzero\">\n",
       "<path style=\"fill:none;stroke-width:0.533489;stroke-linecap:butt;stroke-linejoin:round;stroke:rgb(100%,100%,100%);stroke-opacity:1;stroke-miterlimit:10;\" d=\"M 40.984375 104.089844 L 498.519531 104.089844 \"/>\n",
       "</g>\n",
       "<g clip-path=\"url(#clip5)\" clip-rule=\"nonzero\">\n",
       "<path style=\"fill:none;stroke-width:0.533489;stroke-linecap:butt;stroke-linejoin:round;stroke:rgb(100%,100%,100%);stroke-opacity:1;stroke-miterlimit:10;\" d=\"M 116.769531 471.015625 L 116.769531 5.480469 \"/>\n",
       "</g>\n",
       "<g clip-path=\"url(#clip6)\" clip-rule=\"nonzero\">\n",
       "<path style=\"fill:none;stroke-width:0.533489;stroke-linecap:butt;stroke-linejoin:round;stroke:rgb(100%,100%,100%);stroke-opacity:1;stroke-miterlimit:10;\" d=\"M 226.734375 471.015625 L 226.734375 5.480469 \"/>\n",
       "</g>\n",
       "<g clip-path=\"url(#clip7)\" clip-rule=\"nonzero\">\n",
       "<path style=\"fill:none;stroke-width:0.533489;stroke-linecap:butt;stroke-linejoin:round;stroke:rgb(100%,100%,100%);stroke-opacity:1;stroke-miterlimit:10;\" d=\"M 336.703125 471.015625 L 336.703125 5.480469 \"/>\n",
       "</g>\n",
       "<g clip-path=\"url(#clip8)\" clip-rule=\"nonzero\">\n",
       "<path style=\"fill:none;stroke-width:0.533489;stroke-linecap:butt;stroke-linejoin:round;stroke:rgb(100%,100%,100%);stroke-opacity:1;stroke-miterlimit:10;\" d=\"M 446.671875 471.015625 L 446.671875 5.480469 \"/>\n",
       "</g>\n",
       "<g clip-path=\"url(#clip9)\" clip-rule=\"nonzero\">\n",
       "<path style=\"fill:none;stroke-width:1.066978;stroke-linecap:butt;stroke-linejoin:round;stroke:rgb(100%,100%,100%);stroke-opacity:1;stroke-miterlimit:10;\" d=\"M 40.984375 449.851562 L 498.519531 449.851562 \"/>\n",
       "</g>\n",
       "<g clip-path=\"url(#clip10)\" clip-rule=\"nonzero\">\n",
       "<path style=\"fill:none;stroke-width:1.066978;stroke-linecap:butt;stroke-linejoin:round;stroke:rgb(100%,100%,100%);stroke-opacity:1;stroke-miterlimit:10;\" d=\"M 40.984375 311.546875 L 498.519531 311.546875 \"/>\n",
       "</g>\n",
       "<g clip-path=\"url(#clip11)\" clip-rule=\"nonzero\">\n",
       "<path style=\"fill:none;stroke-width:1.066978;stroke-linecap:butt;stroke-linejoin:round;stroke:rgb(100%,100%,100%);stroke-opacity:1;stroke-miterlimit:10;\" d=\"M 40.984375 173.242188 L 498.519531 173.242188 \"/>\n",
       "</g>\n",
       "<g clip-path=\"url(#clip12)\" clip-rule=\"nonzero\">\n",
       "<path style=\"fill:none;stroke-width:1.066978;stroke-linecap:butt;stroke-linejoin:round;stroke:rgb(100%,100%,100%);stroke-opacity:1;stroke-miterlimit:10;\" d=\"M 40.984375 34.9375 L 498.519531 34.9375 \"/>\n",
       "</g>\n",
       "<g clip-path=\"url(#clip13)\" clip-rule=\"nonzero\">\n",
       "<path style=\"fill:none;stroke-width:1.066978;stroke-linecap:butt;stroke-linejoin:round;stroke:rgb(100%,100%,100%);stroke-opacity:1;stroke-miterlimit:10;\" d=\"M 61.785156 471.015625 L 61.785156 5.480469 \"/>\n",
       "</g>\n",
       "<g clip-path=\"url(#clip14)\" clip-rule=\"nonzero\">\n",
       "<path style=\"fill:none;stroke-width:1.066978;stroke-linecap:butt;stroke-linejoin:round;stroke:rgb(100%,100%,100%);stroke-opacity:1;stroke-miterlimit:10;\" d=\"M 171.75 471.015625 L 171.75 5.480469 \"/>\n",
       "</g>\n",
       "<g clip-path=\"url(#clip15)\" clip-rule=\"nonzero\">\n",
       "<path style=\"fill:none;stroke-width:1.066978;stroke-linecap:butt;stroke-linejoin:round;stroke:rgb(100%,100%,100%);stroke-opacity:1;stroke-miterlimit:10;\" d=\"M 281.71875 471.015625 L 281.71875 5.480469 \"/>\n",
       "</g>\n",
       "<g clip-path=\"url(#clip16)\" clip-rule=\"nonzero\">\n",
       "<path style=\"fill:none;stroke-width:1.066978;stroke-linecap:butt;stroke-linejoin:round;stroke:rgb(100%,100%,100%);stroke-opacity:1;stroke-miterlimit:10;\" d=\"M 391.6875 471.015625 L 391.6875 5.480469 \"/>\n",
       "</g>\n",
       "<path style=\" stroke:none;fill-rule:nonzero;fill:rgb(34.901961%,34.901961%,34.901961%);fill-opacity:1;\" d=\"M 69.632812 449.851562 L 77.480469 449.851562 L 77.480469 447.085938 L 69.632812 447.085938 Z M 69.632812 449.851562 \"/>\n",
       "<path style=\" stroke:none;fill-rule:nonzero;fill:rgb(34.901961%,34.901961%,34.901961%);fill-opacity:1;\" d=\"M 77.480469 449.851562 L 85.328125 449.851562 L 85.328125 369.632812 L 77.480469 369.632812 Z M 77.480469 449.851562 \"/>\n",
       "<path style=\" stroke:none;fill-rule:nonzero;fill:rgb(34.901961%,34.901961%,34.901961%);fill-opacity:1;\" d=\"M 85.328125 449.851562 L 93.175781 449.851562 L 93.175781 383.464844 L 85.328125 383.464844 Z M 85.328125 449.851562 \"/>\n",
       "<path style=\" stroke:none;fill-rule:nonzero;fill:rgb(34.901961%,34.901961%,34.901961%);fill-opacity:1;\" d=\"M 93.175781 449.851562 L 101.023438 449.851562 L 101.023438 386.230469 L 93.175781 386.230469 Z M 93.175781 449.851562 \"/>\n",
       "<path style=\" stroke:none;fill-rule:nonzero;fill:rgb(34.901961%,34.901961%,34.901961%);fill-opacity:1;\" d=\"M 101.023438 449.851562 L 108.871094 449.851562 L 108.871094 355.804688 L 101.023438 355.804688 Z M 101.023438 449.851562 \"/>\n",
       "<path style=\" stroke:none;fill-rule:nonzero;fill:rgb(34.901961%,34.901961%,34.901961%);fill-opacity:1;\" d=\"M 108.871094 449.851562 L 116.71875 449.851562 L 116.71875 364.101562 L 108.871094 364.101562 Z M 108.871094 449.851562 \"/>\n",
       "<path style=\" stroke:none;fill-rule:nonzero;fill:rgb(34.901961%,34.901961%,34.901961%);fill-opacity:1;\" d=\"M 116.71875 449.851562 L 124.566406 449.851562 L 124.566406 339.207031 L 116.71875 339.207031 Z M 116.71875 449.851562 \"/>\n",
       "<path style=\" stroke:none;fill-rule:nonzero;fill:rgb(34.901961%,34.901961%,34.901961%);fill-opacity:1;\" d=\"M 124.566406 449.851562 L 132.414062 449.851562 L 132.414062 275.585938 L 124.566406 275.585938 Z M 124.566406 449.851562 \"/>\n",
       "<path style=\" stroke:none;fill-rule:nonzero;fill:rgb(34.901961%,34.901961%,34.901961%);fill-opacity:1;\" d=\"M 132.414062 449.851562 L 140.261719 449.851562 L 140.261719 303.25 L 132.414062 303.25 Z M 132.414062 449.851562 \"/>\n",
       "<path style=\" stroke:none;fill-rule:nonzero;fill:rgb(34.901961%,34.901961%,34.901961%);fill-opacity:1;\" d=\"M 140.261719 449.851562 L 148.109375 449.851562 L 148.109375 151.113281 L 140.261719 151.113281 Z M 140.261719 449.851562 \"/>\n",
       "<path style=\" stroke:none;fill-rule:nonzero;fill:rgb(34.901961%,34.901961%,34.901961%);fill-opacity:1;\" d=\"M 148.109375 449.851562 L 155.957031 449.851562 L 155.957031 68.128906 L 148.109375 68.128906 Z M 148.109375 449.851562 \"/>\n",
       "<path style=\" stroke:none;fill-rule:nonzero;fill:rgb(34.901961%,34.901961%,34.901961%);fill-opacity:1;\" d=\"M 155.957031 449.851562 L 163.804688 449.851562 L 163.804688 26.636719 L 155.957031 26.636719 Z M 155.957031 449.851562 \"/>\n",
       "<path style=\" stroke:none;fill-rule:nonzero;fill:rgb(34.901961%,34.901961%,34.901961%);fill-opacity:1;\" d=\"M 163.804688 449.851562 L 171.652344 449.851562 L 171.652344 62.597656 L 163.804688 62.597656 Z M 163.804688 449.851562 \"/>\n",
       "<path style=\" stroke:none;fill-rule:nonzero;fill:rgb(34.901961%,34.901961%,34.901961%);fill-opacity:1;\" d=\"M 171.65625 449.851562 L 179.503906 449.851562 L 179.503906 90.257812 L 171.65625 90.257812 Z M 171.65625 449.851562 \"/>\n",
       "<path style=\" stroke:none;fill-rule:nonzero;fill:rgb(34.901961%,34.901961%,34.901961%);fill-opacity:1;\" d=\"M 179.503906 449.851562 L 187.351562 449.851562 L 187.351562 151.113281 L 179.503906 151.113281 Z M 179.503906 449.851562 \"/>\n",
       "<path style=\" stroke:none;fill-rule:nonzero;fill:rgb(34.901961%,34.901961%,34.901961%);fill-opacity:1;\" d=\"M 187.351562 449.851562 L 195.199219 449.851562 L 195.199219 228.5625 L 187.351562 228.5625 Z M 187.351562 449.851562 \"/>\n",
       "<path style=\" stroke:none;fill-rule:nonzero;fill:rgb(34.901961%,34.901961%,34.901961%);fill-opacity:1;\" d=\"M 195.199219 449.851562 L 203.046875 449.851562 L 203.046875 272.820312 L 195.199219 272.820312 Z M 195.199219 449.851562 \"/>\n",
       "<path style=\" stroke:none;fill-rule:nonzero;fill:rgb(34.901961%,34.901961%,34.901961%);fill-opacity:1;\" d=\"M 203.046875 449.851562 L 210.894531 449.851562 L 210.894531 325.378906 L 203.046875 325.378906 Z M 203.046875 449.851562 \"/>\n",
       "<path style=\" stroke:none;fill-rule:nonzero;fill:rgb(34.901961%,34.901961%,34.901961%);fill-opacity:1;\" d=\"M 210.894531 449.851562 L 218.742188 449.851562 L 218.742188 322.609375 L 210.894531 322.609375 Z M 210.894531 449.851562 \"/>\n",
       "<path style=\" stroke:none;fill-rule:nonzero;fill:rgb(34.901961%,34.901961%,34.901961%);fill-opacity:1;\" d=\"M 218.742188 449.851562 L 226.589844 449.851562 L 226.589844 372.402344 L 218.742188 372.402344 Z M 218.742188 449.851562 \"/>\n",
       "<path style=\" stroke:none;fill-rule:nonzero;fill:rgb(34.901961%,34.901961%,34.901961%);fill-opacity:1;\" d=\"M 226.589844 449.851562 L 234.4375 449.851562 L 234.4375 405.59375 L 226.589844 405.59375 Z M 226.589844 449.851562 \"/>\n",
       "<path style=\" stroke:none;fill-rule:nonzero;fill:rgb(34.901961%,34.901961%,34.901961%);fill-opacity:1;\" d=\"M 234.4375 449.851562 L 242.285156 449.851562 L 242.285156 408.359375 L 234.4375 408.359375 Z M 234.4375 449.851562 \"/>\n",
       "<path style=\" stroke:none;fill-rule:nonzero;fill:rgb(34.901961%,34.901961%,34.901961%);fill-opacity:1;\" d=\"M 242.285156 449.851562 L 250.132812 449.851562 L 250.132812 408.359375 L 242.285156 408.359375 Z M 242.285156 449.851562 \"/>\n",
       "<path style=\" stroke:none;fill-rule:nonzero;fill:rgb(34.901961%,34.901961%,34.901961%);fill-opacity:1;\" d=\"M 250.132812 449.851562 L 257.980469 449.851562 L 257.980469 422.191406 L 250.132812 422.191406 Z M 250.132812 449.851562 \"/>\n",
       "<path style=\" stroke:none;fill-rule:nonzero;fill:rgb(34.901961%,34.901961%,34.901961%);fill-opacity:1;\" d=\"M 257.980469 449.851562 L 265.828125 449.851562 L 265.828125 433.253906 L 257.980469 433.253906 Z M 257.980469 449.851562 \"/>\n",
       "<path style=\" stroke:none;fill-rule:nonzero;fill:rgb(34.901961%,34.901961%,34.901961%);fill-opacity:1;\" d=\"M 265.828125 449.851562 L 273.675781 449.851562 L 273.675781 441.554688 L 265.828125 441.554688 Z M 265.828125 449.851562 \"/>\n",
       "<path style=\" stroke:none;fill-rule:nonzero;fill:rgb(34.901961%,34.901961%,34.901961%);fill-opacity:1;\" d=\"M 273.675781 449.851562 L 281.523438 449.851562 L 281.523438 438.789062 L 273.675781 438.789062 Z M 273.675781 449.851562 \"/>\n",
       "<path style=\" stroke:none;fill-rule:nonzero;fill:rgb(34.901961%,34.901961%,34.901961%);fill-opacity:1;\" d=\"M 281.523438 449.851562 L 289.371094 449.851562 L 289.371094 444.320312 L 281.523438 444.320312 Z M 281.523438 449.851562 \"/>\n",
       "<path style=\" stroke:none;fill-rule:nonzero;fill:rgb(34.901961%,34.901961%,34.901961%);fill-opacity:1;\" d=\"M 289.375 449.851562 L 297.222656 449.851562 L 297.222656 436.019531 L 289.375 436.019531 Z M 289.375 449.851562 \"/>\n",
       "<path style=\" stroke:none;fill-rule:nonzero;fill:rgb(34.901961%,34.901961%,34.901961%);fill-opacity:1;\" d=\"M 297.222656 449.851562 L 305.070312 449.851562 L 305.070312 427.722656 L 297.222656 427.722656 Z M 297.222656 449.851562 \"/>\n",
       "<path style=\" stroke:none;fill-rule:nonzero;fill:rgb(34.901961%,34.901961%,34.901961%);fill-opacity:1;\" d=\"M 305.070312 449.851562 L 312.917969 449.851562 L 312.917969 447.085938 L 305.070312 447.085938 Z M 305.070312 449.851562 \"/>\n",
       "<path style=\" stroke:none;fill-rule:nonzero;fill:rgb(34.901961%,34.901961%,34.901961%);fill-opacity:1;\" d=\"M 312.917969 449.851562 L 320.765625 449.851562 L 320.765625 444.320312 L 312.917969 444.320312 Z M 312.917969 449.851562 \"/>\n",
       "<path style=\" stroke:none;fill-rule:nonzero;fill:rgb(34.901961%,34.901961%,34.901961%);fill-opacity:1;\" d=\"M 320.765625 449.851562 L 328.613281 449.851562 L 328.613281 444.320312 L 320.765625 444.320312 Z M 320.765625 449.851562 \"/>\n",
       "<path style=\" stroke:none;fill-rule:nonzero;fill:rgb(34.901961%,34.901961%,34.901961%);fill-opacity:1;\" d=\"M 328.613281 449.851562 L 336.460938 449.851562 L 336.460938 447.085938 L 328.613281 447.085938 Z M 328.613281 449.851562 \"/>\n",
       "<path style=\" stroke:none;fill-rule:nonzero;fill:rgb(34.901961%,34.901961%,34.901961%);fill-opacity:1;\" d=\"M 336.460938 449.851562 L 344.308594 449.851562 L 344.308594 436.019531 L 336.460938 436.019531 Z M 336.460938 449.851562 \"/>\n",
       "<path style=\" stroke:none;fill-rule:nonzero;fill:rgb(34.901961%,34.901961%,34.901961%);fill-opacity:1;\" d=\"M 344.308594 449.851562 L 352.15625 449.851562 L 352.15625 444.320312 L 344.308594 444.320312 Z M 344.308594 449.851562 \"/>\n",
       "<path style=\" stroke:none;fill-rule:nonzero;fill:rgb(34.901961%,34.901961%,34.901961%);fill-opacity:1;\" d=\"M 360.003906 449.851562 L 367.851562 449.851562 L 367.851562 447.085938 L 360.003906 447.085938 Z M 360.003906 449.851562 \"/>\n",
       "<path style=\" stroke:none;fill-rule:nonzero;fill:rgb(34.901961%,34.901961%,34.901961%);fill-opacity:1;\" d=\"M 375.699219 449.851562 L 383.546875 449.851562 L 383.546875 447.085938 L 375.699219 447.085938 Z M 375.699219 449.851562 \"/>\n",
       "<path style=\" stroke:none;fill-rule:nonzero;fill:rgb(34.901961%,34.901961%,34.901961%);fill-opacity:1;\" d=\"M 383.546875 449.851562 L 391.394531 449.851562 L 391.394531 447.085938 L 383.546875 447.085938 Z M 383.546875 449.851562 \"/>\n",
       "<path style=\" stroke:none;fill-rule:nonzero;fill:rgb(34.901961%,34.901961%,34.901961%);fill-opacity:1;\" d=\"M 407.09375 449.851562 L 414.941406 449.851562 L 414.941406 447.085938 L 407.09375 447.085938 Z M 407.09375 449.851562 \"/>\n",
       "<path style=\" stroke:none;fill-rule:nonzero;fill:rgb(34.901961%,34.901961%,34.901961%);fill-opacity:1;\" d=\"M 414.941406 449.851562 L 422.789062 449.851562 L 422.789062 444.320312 L 414.941406 444.320312 Z M 414.941406 449.851562 \"/>\n",
       "<path style=\" stroke:none;fill-rule:nonzero;fill:rgb(34.901961%,34.901961%,34.901961%);fill-opacity:1;\" d=\"M 438.484375 449.851562 L 446.332031 449.851562 L 446.332031 447.085938 L 438.484375 447.085938 Z M 438.484375 449.851562 \"/>\n",
       "<path style=\" stroke:none;fill-rule:nonzero;fill:rgb(34.901961%,34.901961%,34.901961%);fill-opacity:1;\" d=\"M 446.332031 449.851562 L 454.179688 449.851562 L 454.179688 447.085938 L 446.332031 447.085938 Z M 446.332031 449.851562 \"/>\n",
       "<path style=\" stroke:none;fill-rule:nonzero;fill:rgb(34.901961%,34.901961%,34.901961%);fill-opacity:1;\" d=\"M 454.179688 449.851562 L 462.027344 449.851562 L 462.027344 447.085938 L 454.179688 447.085938 Z M 454.179688 449.851562 \"/>\n",
       "<path style=\" stroke:none;fill-rule:nonzero;fill:rgb(34.901961%,34.901961%,34.901961%);fill-opacity:1;\" d=\"M 462.027344 449.851562 L 469.875 449.851562 L 469.875 447.085938 L 462.027344 447.085938 Z M 462.027344 449.851562 \"/>\n",
       "<g style=\"fill:rgb(30.196078%,30.196078%,30.196078%);fill-opacity:1;\">\n",
       "  <use xlink:href=\"#glyph0-1\" x=\"31.054688\" y=\"452.454102\"/>\n",
       "</g>\n",
       "<g style=\"fill:rgb(30.196078%,30.196078%,30.196078%);fill-opacity:1;\">\n",
       "  <use xlink:href=\"#glyph0-2\" x=\"26.054688\" y=\"314.149414\"/>\n",
       "  <use xlink:href=\"#glyph0-1\" x=\"30.945312\" y=\"314.149414\"/>\n",
       "</g>\n",
       "<g style=\"fill:rgb(30.196078%,30.196078%,30.196078%);fill-opacity:1;\">\n",
       "  <use xlink:href=\"#glyph0-3\" x=\"21.054688\" y=\"175.844727\"/>\n",
       "  <use xlink:href=\"#glyph0-1\" x=\"25.945312\" y=\"175.844727\"/>\n",
       "  <use xlink:href=\"#glyph0-1\" x=\"30.835938\" y=\"175.844727\"/>\n",
       "</g>\n",
       "<g style=\"fill:rgb(30.196078%,30.196078%,30.196078%);fill-opacity:1;\">\n",
       "  <use xlink:href=\"#glyph0-3\" x=\"21.054688\" y=\"37.540039\"/>\n",
       "  <use xlink:href=\"#glyph0-2\" x=\"25.945312\" y=\"37.540039\"/>\n",
       "  <use xlink:href=\"#glyph0-1\" x=\"30.835938\" y=\"37.540039\"/>\n",
       "</g>\n",
       "<path style=\"fill:none;stroke-width:1.066978;stroke-linecap:butt;stroke-linejoin:round;stroke:rgb(20%,20%,20%);stroke-opacity:1;stroke-miterlimit:10;\" d=\"M 38.246094 449.851562 L 40.984375 449.851562 \"/>\n",
       "<path style=\"fill:none;stroke-width:1.066978;stroke-linecap:butt;stroke-linejoin:round;stroke:rgb(20%,20%,20%);stroke-opacity:1;stroke-miterlimit:10;\" d=\"M 38.246094 311.546875 L 40.984375 311.546875 \"/>\n",
       "<path style=\"fill:none;stroke-width:1.066978;stroke-linecap:butt;stroke-linejoin:round;stroke:rgb(20%,20%,20%);stroke-opacity:1;stroke-miterlimit:10;\" d=\"M 38.246094 173.242188 L 40.984375 173.242188 \"/>\n",
       "<path style=\"fill:none;stroke-width:1.066978;stroke-linecap:butt;stroke-linejoin:round;stroke:rgb(20%,20%,20%);stroke-opacity:1;stroke-miterlimit:10;\" d=\"M 38.246094 34.9375 L 40.984375 34.9375 \"/>\n",
       "<path style=\"fill:none;stroke-width:1.066978;stroke-linecap:butt;stroke-linejoin:round;stroke:rgb(20%,20%,20%);stroke-opacity:1;stroke-miterlimit:10;\" d=\"M 61.785156 473.753906 L 61.785156 471.015625 \"/>\n",
       "<path style=\"fill:none;stroke-width:1.066978;stroke-linecap:butt;stroke-linejoin:round;stroke:rgb(20%,20%,20%);stroke-opacity:1;stroke-miterlimit:10;\" d=\"M 171.75 473.753906 L 171.75 471.015625 \"/>\n",
       "<path style=\"fill:none;stroke-width:1.066978;stroke-linecap:butt;stroke-linejoin:round;stroke:rgb(20%,20%,20%);stroke-opacity:1;stroke-miterlimit:10;\" d=\"M 281.71875 473.753906 L 281.71875 471.015625 \"/>\n",
       "<path style=\"fill:none;stroke-width:1.066978;stroke-linecap:butt;stroke-linejoin:round;stroke:rgb(20%,20%,20%);stroke-opacity:1;stroke-miterlimit:10;\" d=\"M 391.6875 473.753906 L 391.6875 471.015625 \"/>\n",
       "<g style=\"fill:rgb(30.196078%,30.196078%,30.196078%);fill-opacity:1;\">\n",
       "  <use xlink:href=\"#glyph0-1\" x=\"59.285156\" y=\"482.047852\"/>\n",
       "</g>\n",
       "<g style=\"fill:rgb(30.196078%,30.196078%,30.196078%);fill-opacity:1;\">\n",
       "  <use xlink:href=\"#glyph0-3\" x=\"159.25\" y=\"482.047852\"/>\n",
       "  <use xlink:href=\"#glyph0-1\" x=\"164.140625\" y=\"482.047852\"/>\n",
       "  <use xlink:href=\"#glyph0-1\" x=\"169.03125\" y=\"482.047852\"/>\n",
       "  <use xlink:href=\"#glyph0-1\" x=\"173.921875\" y=\"482.047852\"/>\n",
       "  <use xlink:href=\"#glyph0-1\" x=\"178.8125\" y=\"482.047852\"/>\n",
       "</g>\n",
       "<g style=\"fill:rgb(30.196078%,30.196078%,30.196078%);fill-opacity:1;\">\n",
       "  <use xlink:href=\"#glyph0-4\" x=\"269.21875\" y=\"482.047852\"/>\n",
       "  <use xlink:href=\"#glyph0-1\" x=\"274.109375\" y=\"482.047852\"/>\n",
       "  <use xlink:href=\"#glyph0-1\" x=\"279\" y=\"482.047852\"/>\n",
       "  <use xlink:href=\"#glyph0-1\" x=\"283.890625\" y=\"482.047852\"/>\n",
       "  <use xlink:href=\"#glyph0-1\" x=\"288.78125\" y=\"482.047852\"/>\n",
       "</g>\n",
       "<g style=\"fill:rgb(30.196078%,30.196078%,30.196078%);fill-opacity:1;\">\n",
       "  <use xlink:href=\"#glyph0-5\" x=\"379.1875\" y=\"482.047852\"/>\n",
       "  <use xlink:href=\"#glyph0-1\" x=\"384.078125\" y=\"482.047852\"/>\n",
       "  <use xlink:href=\"#glyph0-1\" x=\"388.96875\" y=\"482.047852\"/>\n",
       "  <use xlink:href=\"#glyph0-1\" x=\"393.859375\" y=\"482.047852\"/>\n",
       "  <use xlink:href=\"#glyph0-1\" x=\"398.75\" y=\"482.047852\"/>\n",
       "</g>\n",
       "<g style=\"fill:rgb(0%,0%,0%);fill-opacity:1;\">\n",
       "  <use xlink:href=\"#glyph1-1\" x=\"250.253906\" y=\"495.956055\"/>\n",
       "  <use xlink:href=\"#glyph1-2\" x=\"256.370117\" y=\"495.956055\"/>\n",
       "  <use xlink:href=\"#glyph1-3\" x=\"262.376953\" y=\"495.956055\"/>\n",
       "  <use xlink:href=\"#glyph1-4\" x=\"265.43457\" y=\"495.956055\"/>\n",
       "  <use xlink:href=\"#glyph1-5\" x=\"272.771484\" y=\"495.956055\"/>\n",
       "  <use xlink:href=\"#glyph1-6\" x=\"276.325195\" y=\"495.956055\"/>\n",
       "  <use xlink:href=\"#glyph1-7\" x=\"282.441406\" y=\"495.956055\"/>\n",
       "</g>\n",
       "<g style=\"fill:rgb(0%,0%,0%);fill-opacity:1;\">\n",
       "  <use xlink:href=\"#glyph2-1\" x=\"16.299805\" y=\"251.746094\"/>\n",
       "  <use xlink:href=\"#glyph2-2\" x=\"16.299805\" y=\"246.246094\"/>\n",
       "  <use xlink:href=\"#glyph2-3\" x=\"16.299805\" y=\"240.129883\"/>\n",
       "  <use xlink:href=\"#glyph2-4\" x=\"16.299805\" y=\"234.013672\"/>\n",
       "  <use xlink:href=\"#glyph2-5\" x=\"16.299805\" y=\"227.897461\"/>\n",
       "</g>\n",
       "</g>\n",
       "</svg>\n"
      ],
      "text/plain": [
       "plot without title"
      ]
     },
     "metadata": {
      "image/svg+xml": {
       "isolated": true
      }
     },
     "output_type": "display_data"
    }
   ],
   "source": [
    "gLotArea = get_covariate_hist(trainData, \"LotArea\")\n",
    "gLotArea"
   ]
  },
  {
   "cell_type": "code",
   "execution_count": null,
   "metadata": {
    "collapsed": false
   },
   "outputs": [],
   "source": []
  },
  {
   "cell_type": "code",
   "execution_count": null,
   "metadata": {
    "collapsed": true
   },
   "outputs": [],
   "source": []
  },
  {
   "cell_type": "code",
   "execution_count": null,
   "metadata": {
    "collapsed": true
   },
   "outputs": [],
   "source": []
  },
  {
   "cell_type": "code",
   "execution_count": null,
   "metadata": {
    "collapsed": true
   },
   "outputs": [],
   "source": []
  },
  {
   "cell_type": "code",
   "execution_count": null,
   "metadata": {
    "collapsed": true
   },
   "outputs": [],
   "source": []
  },
  {
   "cell_type": "code",
   "execution_count": null,
   "metadata": {
    "collapsed": true
   },
   "outputs": [],
   "source": []
  },
  {
   "cell_type": "code",
   "execution_count": null,
   "metadata": {
    "collapsed": true
   },
   "outputs": [],
   "source": []
  },
  {
   "cell_type": "code",
   "execution_count": null,
   "metadata": {
    "collapsed": true
   },
   "outputs": [],
   "source": []
  },
  {
   "cell_type": "code",
   "execution_count": null,
   "metadata": {
    "collapsed": true
   },
   "outputs": [],
   "source": []
  },
  {
   "cell_type": "code",
   "execution_count": null,
   "metadata": {
    "collapsed": true
   },
   "outputs": [],
   "source": []
  },
  {
   "cell_type": "code",
   "execution_count": null,
   "metadata": {
    "collapsed": true
   },
   "outputs": [],
   "source": []
  },
  {
   "cell_type": "code",
   "execution_count": null,
   "metadata": {
    "collapsed": true
   },
   "outputs": [],
   "source": []
  },
  {
   "cell_type": "code",
   "execution_count": null,
   "metadata": {
    "collapsed": true
   },
   "outputs": [],
   "source": []
  },
  {
   "cell_type": "code",
   "execution_count": null,
   "metadata": {
    "collapsed": true
   },
   "outputs": [],
   "source": []
  },
  {
   "cell_type": "code",
   "execution_count": null,
   "metadata": {
    "collapsed": true
   },
   "outputs": [],
   "source": []
  },
  {
   "cell_type": "code",
   "execution_count": null,
   "metadata": {
    "collapsed": true
   },
   "outputs": [],
   "source": []
  },
  {
   "cell_type": "code",
   "execution_count": null,
   "metadata": {
    "collapsed": true
   },
   "outputs": [],
   "source": []
  },
  {
   "cell_type": "code",
   "execution_count": null,
   "metadata": {
    "collapsed": true
   },
   "outputs": [],
   "source": []
  }
 ],
 "metadata": {
  "kernelspec": {
   "display_name": "R",
   "language": "R",
   "name": "ir"
  },
  "language_info": {
   "codemirror_mode": "r",
   "file_extension": ".r",
   "mimetype": "text/x-r-source",
   "name": "R",
   "pygments_lexer": "r",
   "version": "3.2.2"
  }
 },
 "nbformat": 4,
 "nbformat_minor": 0
}
