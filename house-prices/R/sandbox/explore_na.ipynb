{
 "cells": [
  {
   "cell_type": "code",
   "execution_count": 2,
   "metadata": {
    "collapsed": false
   },
   "outputs": [],
   "source": [
    "library(dplyr)\n",
    "library(ggplot2)\n",
    "library(grid)\n",
    "library(gridExtra)\n",
    "library(reshape2)\n",
    "\n",
    "train_data = tbl_df(read.csv(\"../data/train.csv\", stringsAsFactors = FALSE))"
   ]
  },
  {
   "cell_type": "code",
   "execution_count": 20,
   "metadata": {
    "collapsed": false
   },
   "outputs": [
    {
     "data": {
      "text/html": [
       "<table>\n",
       "<thead><tr><th></th><th scope=col>var</th><th scope=col>missing_percent</th></tr></thead>\n",
       "<tbody>\n",
       "\t<tr><th scope=row>1</th><td>PoolQC</td><td>99.52055</td></tr>\n",
       "\t<tr><th scope=row>2</th><td>MiscFeature</td><td>96.30137</td></tr>\n",
       "\t<tr><th scope=row>3</th><td>Alley</td><td>93.76712</td></tr>\n",
       "\t<tr><th scope=row>4</th><td>Fence</td><td>80.75342</td></tr>\n",
       "\t<tr><th scope=row>5</th><td>FireplaceQu</td><td>47.26027</td></tr>\n",
       "\t<tr><th scope=row>6</th><td>LotFrontage</td><td>17.73973</td></tr>\n",
       "\t<tr><th scope=row>7</th><td>GarageType</td><td>5.547945</td></tr>\n",
       "\t<tr><th scope=row>8</th><td>GarageYrBlt</td><td>5.547945</td></tr>\n",
       "\t<tr><th scope=row>9</th><td>GarageFinish</td><td>5.547945</td></tr>\n",
       "\t<tr><th scope=row>10</th><td>GarageQual</td><td>5.547945</td></tr>\n",
       "\t<tr><th scope=row>11</th><td>GarageCond</td><td>5.547945</td></tr>\n",
       "\t<tr><th scope=row>12</th><td>BsmtExposure</td><td>2.60274</td></tr>\n",
       "\t<tr><th scope=row>13</th><td>BsmtFinType2</td><td>2.60274</td></tr>\n",
       "\t<tr><th scope=row>14</th><td>BsmtQual</td><td>2.534247</td></tr>\n",
       "\t<tr><th scope=row>15</th><td>BsmtCond</td><td>2.534247</td></tr>\n",
       "\t<tr><th scope=row>16</th><td>BsmtFinType1</td><td>2.534247</td></tr>\n",
       "\t<tr><th scope=row>17</th><td>MasVnrType</td><td>0.5479452</td></tr>\n",
       "\t<tr><th scope=row>18</th><td>MasVnrArea</td><td>0.5479452</td></tr>\n",
       "\t<tr><th scope=row>19</th><td>Electrical</td><td>0.06849315</td></tr>\n",
       "</tbody>\n",
       "</table>\n"
      ],
      "text/latex": [
       "\\begin{tabular}{r|ll}\n",
       "  & var & missing_percent\\\\\n",
       "\\hline\n",
       "\t1 & PoolQC & 99.52055\\\\\n",
       "\t2 & MiscFeature & 96.30137\\\\\n",
       "\t3 & Alley & 93.76712\\\\\n",
       "\t4 & Fence & 80.75342\\\\\n",
       "\t5 & FireplaceQu & 47.26027\\\\\n",
       "\t6 & LotFrontage & 17.73973\\\\\n",
       "\t7 & GarageType & 5.547945\\\\\n",
       "\t8 & GarageYrBlt & 5.547945\\\\\n",
       "\t9 & GarageFinish & 5.547945\\\\\n",
       "\t10 & GarageQual & 5.547945\\\\\n",
       "\t11 & GarageCond & 5.547945\\\\\n",
       "\t12 & BsmtExposure & 2.60274\\\\\n",
       "\t13 & BsmtFinType2 & 2.60274\\\\\n",
       "\t14 & BsmtQual & 2.534247\\\\\n",
       "\t15 & BsmtCond & 2.534247\\\\\n",
       "\t16 & BsmtFinType1 & 2.534247\\\\\n",
       "\t17 & MasVnrType & 0.5479452\\\\\n",
       "\t18 & MasVnrArea & 0.5479452\\\\\n",
       "\t19 & Electrical & 0.06849315\\\\\n",
       "\\end{tabular}\n"
      ],
      "text/plain": [
       "            var missing_percent\n",
       "1        PoolQC     99.52054795\n",
       "2   MiscFeature     96.30136986\n",
       "3         Alley     93.76712329\n",
       "4         Fence     80.75342466\n",
       "5   FireplaceQu     47.26027397\n",
       "6   LotFrontage     17.73972603\n",
       "7    GarageType      5.54794521\n",
       "8   GarageYrBlt      5.54794521\n",
       "9  GarageFinish      5.54794521\n",
       "10   GarageQual      5.54794521\n",
       "11   GarageCond      5.54794521\n",
       "12 BsmtExposure      2.60273973\n",
       "13 BsmtFinType2      2.60273973\n",
       "14     BsmtQual      2.53424658\n",
       "15     BsmtCond      2.53424658\n",
       "16 BsmtFinType1      2.53424658\n",
       "17   MasVnrType      0.54794521\n",
       "18   MasVnrArea      0.54794521\n",
       "19   Electrical      0.06849315"
      ]
     },
     "execution_count": 20,
     "metadata": {},
     "output_type": "execute_result"
    }
   ],
   "source": [
    "missing_percent = train_data %>% summarise_each(funs(100*mean(is.na(.))))\n",
    "missing_percent = melt(missing_percent, variable.name = \"var\", value.name = \"missing_percent\", id.vars=c())\n",
    "missing_percent = missing_percent[order(missing_percent$missing_percent, decreasing=TRUE),]\n",
    "missing_percent %>% filter(missing_percent != 0)"
   ]
  },
  {
   "cell_type": "code",
   "execution_count": 36,
   "metadata": {
    "collapsed": false
   },
   "outputs": [
    {
     "data": {
      "text/html": [
       "<table>\n",
       "<thead><tr><th></th><th scope=col>var</th><th scope=col>missing_percent</th></tr></thead>\n",
       "<tbody>\n",
       "\t<tr><th scope=row>1</th><td>Alley</td><td>93.76712</td></tr>\n",
       "\t<tr><th scope=row>2</th><td>GarageFinish</td><td>5.547945</td></tr>\n",
       "\t<tr><th scope=row>3</th><td>PoolQC</td><td>99.52055</td></tr>\n",
       "\t<tr><th scope=row>4</th><td>MiscFeature</td><td>96.30137</td></tr>\n",
       "\t<tr><th scope=row>5</th><td>Fence</td><td>80.75342</td></tr>\n",
       "\t<tr><th scope=row>6</th><td>FireplaceQu</td><td>47.26027</td></tr>\n",
       "\t<tr><th scope=row>7</th><td>LotFrontage</td><td>17.73973</td></tr>\n",
       "\t<tr><th scope=row>8</th><td>GarageType</td><td>5.547945</td></tr>\n",
       "\t<tr><th scope=row>9</th><td>GarageYrBlt</td><td>5.547945</td></tr>\n",
       "\t<tr><th scope=row>10</th><td>GarageQual</td><td>5.547945</td></tr>\n",
       "\t<tr><th scope=row>11</th><td>GarageCond</td><td>5.547945</td></tr>\n",
       "\t<tr><th scope=row>12</th><td>BsmtExposure</td><td>2.60274</td></tr>\n",
       "\t<tr><th scope=row>13</th><td>BsmtFinType2</td><td>2.60274</td></tr>\n",
       "\t<tr><th scope=row>14</th><td>BsmtQual</td><td>2.534247</td></tr>\n",
       "\t<tr><th scope=row>15</th><td>BsmtCond</td><td>2.534247</td></tr>\n",
       "\t<tr><th scope=row>16</th><td>BsmtFinType1</td><td>2.534247</td></tr>\n",
       "\t<tr><th scope=row>17</th><td>MasVnrType</td><td>0.5479452</td></tr>\n",
       "\t<tr><th scope=row>18</th><td>MasVnrArea</td><td>0.5479452</td></tr>\n",
       "\t<tr><th scope=row>19</th><td>Electrical</td><td>0.06849315</td></tr>\n",
       "</tbody>\n",
       "</table>\n"
      ],
      "text/latex": [
       "\\begin{tabular}{r|ll}\n",
       "  & var & missing_percent\\\\\n",
       "\\hline\n",
       "\t1 & Alley & 93.76712\\\\\n",
       "\t2 & GarageFinish & 5.547945\\\\\n",
       "\t3 & PoolQC & 99.52055\\\\\n",
       "\t4 & MiscFeature & 96.30137\\\\\n",
       "\t5 & Fence & 80.75342\\\\\n",
       "\t6 & FireplaceQu & 47.26027\\\\\n",
       "\t7 & LotFrontage & 17.73973\\\\\n",
       "\t8 & GarageType & 5.547945\\\\\n",
       "\t9 & GarageYrBlt & 5.547945\\\\\n",
       "\t10 & GarageQual & 5.547945\\\\\n",
       "\t11 & GarageCond & 5.547945\\\\\n",
       "\t12 & BsmtExposure & 2.60274\\\\\n",
       "\t13 & BsmtFinType2 & 2.60274\\\\\n",
       "\t14 & BsmtQual & 2.534247\\\\\n",
       "\t15 & BsmtCond & 2.534247\\\\\n",
       "\t16 & BsmtFinType1 & 2.534247\\\\\n",
       "\t17 & MasVnrType & 0.5479452\\\\\n",
       "\t18 & MasVnrArea & 0.5479452\\\\\n",
       "\t19 & Electrical & 0.06849315\\\\\n",
       "\\end{tabular}\n"
      ],
      "text/plain": [
       "            var missing_percent\n",
       "1         Alley     93.76712329\n",
       "2  GarageFinish      5.54794521\n",
       "3        PoolQC     99.52054795\n",
       "4   MiscFeature     96.30136986\n",
       "5         Fence     80.75342466\n",
       "6   FireplaceQu     47.26027397\n",
       "7   LotFrontage     17.73972603\n",
       "8    GarageType      5.54794521\n",
       "9   GarageYrBlt      5.54794521\n",
       "10   GarageQual      5.54794521\n",
       "11   GarageCond      5.54794521\n",
       "12 BsmtExposure      2.60273973\n",
       "13 BsmtFinType2      2.60273973\n",
       "14     BsmtQual      2.53424658\n",
       "15     BsmtCond      2.53424658\n",
       "16 BsmtFinType1      2.53424658\n",
       "17   MasVnrType      0.54794521\n",
       "18   MasVnrArea      0.54794521\n",
       "19   Electrical      0.06849315"
      ]
     },
     "execution_count": 36,
     "metadata": {},
     "output_type": "execute_result"
    }
   ],
   "source": [
    "missing_percent_numeric = train_data %>% select_if(is.numeric) %>% summarise_each(funs(100*mean(is.na(.))))\n",
    "missing_percent_numeric = melt(missing_percent_numeric, variable.name = \"var\", value.name = \"missing_percent\", id.vars=c())\n",
    "missing_percent_numeric = missing_percent[order(missing_percent_numeric$missing_percent, decreasing=TRUE),]\n",
    "missing_percent_numeric %>% filter(missing_percent != 0)"
   ]
  },
  {
   "cell_type": "code",
   "execution_count": 37,
   "metadata": {
    "collapsed": false
   },
   "outputs": [
    {
     "data": {
      "text/html": [
       "<table>\n",
       "<thead><tr><th></th><th scope=col>var</th><th scope=col>missing_percent</th></tr></thead>\n",
       "<tbody>\n",
       "\t<tr><th scope=row>1</th><td>Alley</td><td>93.76712</td></tr>\n",
       "\t<tr><th scope=row>2</th><td>MasVnrArea</td><td>0.5479452</td></tr>\n",
       "\t<tr><th scope=row>3</th><td>PoolQC</td><td>99.52055</td></tr>\n",
       "\t<tr><th scope=row>4</th><td>MiscFeature</td><td>96.30137</td></tr>\n",
       "\t<tr><th scope=row>5</th><td>Fence</td><td>80.75342</td></tr>\n",
       "\t<tr><th scope=row>6</th><td>FireplaceQu</td><td>47.26027</td></tr>\n",
       "\t<tr><th scope=row>7</th><td>LotFrontage</td><td>17.73973</td></tr>\n",
       "\t<tr><th scope=row>8</th><td>GarageType</td><td>5.547945</td></tr>\n",
       "\t<tr><th scope=row>9</th><td>GarageYrBlt</td><td>5.547945</td></tr>\n",
       "\t<tr><th scope=row>10</th><td>GarageFinish</td><td>5.547945</td></tr>\n",
       "\t<tr><th scope=row>11</th><td>GarageQual</td><td>5.547945</td></tr>\n",
       "\t<tr><th scope=row>12</th><td>GarageCond</td><td>5.547945</td></tr>\n",
       "\t<tr><th scope=row>13</th><td>BsmtExposure</td><td>2.60274</td></tr>\n",
       "\t<tr><th scope=row>14</th><td>BsmtFinType2</td><td>2.60274</td></tr>\n",
       "\t<tr><th scope=row>15</th><td>BsmtQual</td><td>2.534247</td></tr>\n",
       "\t<tr><th scope=row>16</th><td>BsmtCond</td><td>2.534247</td></tr>\n",
       "\t<tr><th scope=row>17</th><td>BsmtFinType1</td><td>2.534247</td></tr>\n",
       "\t<tr><th scope=row>18</th><td>MasVnrType</td><td>0.5479452</td></tr>\n",
       "\t<tr><th scope=row>19</th><td>Electrical</td><td>0.06849315</td></tr>\n",
       "</tbody>\n",
       "</table>\n"
      ],
      "text/latex": [
       "\\begin{tabular}{r|ll}\n",
       "  & var & missing_percent\\\\\n",
       "\\hline\n",
       "\t1 & Alley & 93.76712\\\\\n",
       "\t2 & MasVnrArea & 0.5479452\\\\\n",
       "\t3 & PoolQC & 99.52055\\\\\n",
       "\t4 & MiscFeature & 96.30137\\\\\n",
       "\t5 & Fence & 80.75342\\\\\n",
       "\t6 & FireplaceQu & 47.26027\\\\\n",
       "\t7 & LotFrontage & 17.73973\\\\\n",
       "\t8 & GarageType & 5.547945\\\\\n",
       "\t9 & GarageYrBlt & 5.547945\\\\\n",
       "\t10 & GarageFinish & 5.547945\\\\\n",
       "\t11 & GarageQual & 5.547945\\\\\n",
       "\t12 & GarageCond & 5.547945\\\\\n",
       "\t13 & BsmtExposure & 2.60274\\\\\n",
       "\t14 & BsmtFinType2 & 2.60274\\\\\n",
       "\t15 & BsmtQual & 2.534247\\\\\n",
       "\t16 & BsmtCond & 2.534247\\\\\n",
       "\t17 & BsmtFinType1 & 2.534247\\\\\n",
       "\t18 & MasVnrType & 0.5479452\\\\\n",
       "\t19 & Electrical & 0.06849315\\\\\n",
       "\\end{tabular}\n"
      ],
      "text/plain": [
       "            var missing_percent\n",
       "1         Alley     93.76712329\n",
       "2    MasVnrArea      0.54794521\n",
       "3        PoolQC     99.52054795\n",
       "4   MiscFeature     96.30136986\n",
       "5         Fence     80.75342466\n",
       "6   FireplaceQu     47.26027397\n",
       "7   LotFrontage     17.73972603\n",
       "8    GarageType      5.54794521\n",
       "9   GarageYrBlt      5.54794521\n",
       "10 GarageFinish      5.54794521\n",
       "11   GarageQual      5.54794521\n",
       "12   GarageCond      5.54794521\n",
       "13 BsmtExposure      2.60273973\n",
       "14 BsmtFinType2      2.60273973\n",
       "15     BsmtQual      2.53424658\n",
       "16     BsmtCond      2.53424658\n",
       "17 BsmtFinType1      2.53424658\n",
       "18   MasVnrType      0.54794521\n",
       "19   Electrical      0.06849315"
      ]
     },
     "execution_count": 37,
     "metadata": {},
     "output_type": "execute_result"
    }
   ],
   "source": [
    "missing_percent_char = train_data %>% select_if(is.character) %>% summarise_each(funs(100*mean(is.na(.))))\n",
    "missing_percent_char = melt(missing_percent_char, variable.name = \"var\", value.name = \"missing_percent\", id.vars=c())\n",
    "missing_percent_char = missing_percent[order(missing_percent_char$missing_percent, decreasing=TRUE),]\n",
    "missing_percent_char %>% filter(missing_percent != 0)"
   ]
  },
  {
   "cell_type": "code",
   "execution_count": null,
   "metadata": {
    "collapsed": true
   },
   "outputs": [],
   "source": [
    "train_data %>% select_if()"
   ]
  },
  {
   "cell_type": "code",
   "execution_count": null,
   "metadata": {
    "collapsed": true
   },
   "outputs": [],
   "source": []
  },
  {
   "cell_type": "code",
   "execution_count": null,
   "metadata": {
    "collapsed": true
   },
   "outputs": [],
   "source": []
  },
  {
   "cell_type": "code",
   "execution_count": null,
   "metadata": {
    "collapsed": true
   },
   "outputs": [],
   "source": []
  },
  {
   "cell_type": "code",
   "execution_count": null,
   "metadata": {
    "collapsed": true
   },
   "outputs": [],
   "source": []
  },
  {
   "cell_type": "code",
   "execution_count": null,
   "metadata": {
    "collapsed": true
   },
   "outputs": [],
   "source": []
  },
  {
   "cell_type": "code",
   "execution_count": null,
   "metadata": {
    "collapsed": true
   },
   "outputs": [],
   "source": []
  },
  {
   "cell_type": "code",
   "execution_count": null,
   "metadata": {
    "collapsed": true
   },
   "outputs": [],
   "source": []
  },
  {
   "cell_type": "code",
   "execution_count": null,
   "metadata": {
    "collapsed": true
   },
   "outputs": [],
   "source": []
  },
  {
   "cell_type": "code",
   "execution_count": null,
   "metadata": {
    "collapsed": true
   },
   "outputs": [],
   "source": []
  },
  {
   "cell_type": "code",
   "execution_count": null,
   "metadata": {
    "collapsed": true
   },
   "outputs": [],
   "source": []
  },
  {
   "cell_type": "code",
   "execution_count": null,
   "metadata": {
    "collapsed": true
   },
   "outputs": [],
   "source": []
  },
  {
   "cell_type": "code",
   "execution_count": null,
   "metadata": {
    "collapsed": true
   },
   "outputs": [],
   "source": []
  },
  {
   "cell_type": "code",
   "execution_count": null,
   "metadata": {
    "collapsed": true
   },
   "outputs": [],
   "source": []
  },
  {
   "cell_type": "code",
   "execution_count": null,
   "metadata": {
    "collapsed": true
   },
   "outputs": [],
   "source": []
  }
 ],
 "metadata": {
  "kernelspec": {
   "display_name": "R",
   "language": "R",
   "name": "ir"
  },
  "language_info": {
   "codemirror_mode": "r",
   "file_extension": ".r",
   "mimetype": "text/x-r-source",
   "name": "R",
   "pygments_lexer": "r",
   "version": "3.2.2"
  }
 },
 "nbformat": 4,
 "nbformat_minor": 0
}
