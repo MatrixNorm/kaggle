{
 "cells": [
  {
   "cell_type": "code",
   "execution_count": 3,
   "metadata": {},
   "outputs": [
    {
     "data": {
      "text/html": [
       "'/mnt/hdd/develop/kaggle/house-prices/R'"
      ],
      "text/latex": [
       "'/mnt/hdd/develop/kaggle/house-prices/R'"
      ],
      "text/markdown": [
       "'/mnt/hdd/develop/kaggle/house-prices/R'"
      ],
      "text/plain": [
       "[1] \"/mnt/hdd/develop/kaggle/house-prices/R\""
      ]
     },
     "metadata": {},
     "output_type": "display_data"
    },
    {
     "data": {
      "text/html": [
       "'/mnt/hdd/develop/kaggle/house-prices/R'"
      ],
      "text/latex": [
       "'/mnt/hdd/develop/kaggle/house-prices/R'"
      ],
      "text/markdown": [
       "'/mnt/hdd/develop/kaggle/house-prices/R'"
      ],
      "text/plain": [
       "[1] \"/mnt/hdd/develop/kaggle/house-prices/R\""
      ]
     },
     "metadata": {},
     "output_type": "display_data"
    }
   ],
   "source": [
    "getwd()\n",
    "if ( is.null(environment()$this_notebook_dir) ) {\n",
    "    this_notebook_dir <- getwd()\n",
    "    setwd(paste0(getwd(), '/..'))\n",
    "}\n",
    "getwd()"
   ]
  },
  {
   "cell_type": "code",
   "execution_count": 8,
   "metadata": {},
   "outputs": [
    {
     "data": {
      "text/html": [
       "<ol class=list-inline>\n",
       "\t<li>1460</li>\n",
       "\t<li>1459</li>\n",
       "</ol>\n"
      ],
      "text/latex": [
       "\\begin{enumerate*}\n",
       "\\item 1460\n",
       "\\item 1459\n",
       "\\end{enumerate*}\n"
      ],
      "text/markdown": [
       "1. 1460\n",
       "2. 1459\n",
       "\n",
       "\n"
      ],
      "text/plain": [
       "[1] 1460 1459"
      ]
     },
     "metadata": {},
     "output_type": "display_data"
    },
    {
     "data": {
      "text/html": [
       "<ol class=list-inline>\n",
       "\t<li>80</li>\n",
       "\t<li>79</li>\n",
       "</ol>\n"
      ],
      "text/latex": [
       "\\begin{enumerate*}\n",
       "\\item 80\n",
       "\\item 79\n",
       "\\end{enumerate*}\n"
      ],
      "text/markdown": [
       "1. 80\n",
       "2. 79\n",
       "\n",
       "\n"
      ],
      "text/plain": [
       "[1] 80 79"
      ]
     },
     "metadata": {},
     "output_type": "display_data"
    }
   ],
   "source": [
    "source('helpers.R')\n",
    "\n",
    "kaggle.house$loadLibraries()\n",
    "data <- kaggle.house$loadData()\n",
    "\n",
    "df.training <- data$train\n",
    "df.testing <- data$test\n",
    "\n",
    "c(nrow(df.training),   nrow(df.testing))\n",
    "c(length(df.training), length(df.testing))\n",
    "\n",
    "df.training <- df.training %>% mutate(sale_price_log = log(SalePrice))"
   ]
  },
  {
   "cell_type": "code",
   "execution_count": 9,
   "metadata": {},
   "outputs": [
    {
     "data": {
      "text/html": [
       "<ol class=list-inline>\n",
       "\t<li>'Alley'</li>\n",
       "\t<li>'BldgType'</li>\n",
       "\t<li>'BsmtCond'</li>\n",
       "\t<li>'BsmtExposure'</li>\n",
       "\t<li>'BsmtFinType1'</li>\n",
       "\t<li>'BsmtFinType2'</li>\n",
       "\t<li>'BsmtQual'</li>\n",
       "\t<li>'CentralAir'</li>\n",
       "\t<li>'Condition1'</li>\n",
       "\t<li>'Condition2'</li>\n",
       "\t<li>'Electrical'</li>\n",
       "\t<li>'ExterCond'</li>\n",
       "\t<li>'Exterior1st'</li>\n",
       "\t<li>'Exterior2nd'</li>\n",
       "\t<li>'ExterQual'</li>\n",
       "\t<li>'Fence'</li>\n",
       "\t<li>'FireplaceQu'</li>\n",
       "\t<li>'Foundation'</li>\n",
       "\t<li>'Functional'</li>\n",
       "\t<li>'GarageCond'</li>\n",
       "\t<li>'GarageFinish'</li>\n",
       "\t<li>'GarageQual'</li>\n",
       "\t<li>'GarageType'</li>\n",
       "\t<li>'Heating'</li>\n",
       "\t<li>'HeatingQC'</li>\n",
       "\t<li>'HouseStyle'</li>\n",
       "\t<li>'KitchenQual'</li>\n",
       "\t<li>'LandContour'</li>\n",
       "\t<li>'LandSlope'</li>\n",
       "\t<li>'LotConfig'</li>\n",
       "\t<li>'LotShape'</li>\n",
       "\t<li>'MasVnrType'</li>\n",
       "\t<li>'MiscFeature'</li>\n",
       "\t<li>'MSZoning'</li>\n",
       "\t<li>'Neighborhood'</li>\n",
       "\t<li>'PavedDrive'</li>\n",
       "\t<li>'PoolQC'</li>\n",
       "\t<li>'RoofMatl'</li>\n",
       "\t<li>'RoofStyle'</li>\n",
       "\t<li>'SaleCondition'</li>\n",
       "\t<li>'SaleType'</li>\n",
       "\t<li>'Street'</li>\n",
       "\t<li>'Utilities'</li>\n",
       "</ol>\n"
      ],
      "text/latex": [
       "\\begin{enumerate*}\n",
       "\\item 'Alley'\n",
       "\\item 'BldgType'\n",
       "\\item 'BsmtCond'\n",
       "\\item 'BsmtExposure'\n",
       "\\item 'BsmtFinType1'\n",
       "\\item 'BsmtFinType2'\n",
       "\\item 'BsmtQual'\n",
       "\\item 'CentralAir'\n",
       "\\item 'Condition1'\n",
       "\\item 'Condition2'\n",
       "\\item 'Electrical'\n",
       "\\item 'ExterCond'\n",
       "\\item 'Exterior1st'\n",
       "\\item 'Exterior2nd'\n",
       "\\item 'ExterQual'\n",
       "\\item 'Fence'\n",
       "\\item 'FireplaceQu'\n",
       "\\item 'Foundation'\n",
       "\\item 'Functional'\n",
       "\\item 'GarageCond'\n",
       "\\item 'GarageFinish'\n",
       "\\item 'GarageQual'\n",
       "\\item 'GarageType'\n",
       "\\item 'Heating'\n",
       "\\item 'HeatingQC'\n",
       "\\item 'HouseStyle'\n",
       "\\item 'KitchenQual'\n",
       "\\item 'LandContour'\n",
       "\\item 'LandSlope'\n",
       "\\item 'LotConfig'\n",
       "\\item 'LotShape'\n",
       "\\item 'MasVnrType'\n",
       "\\item 'MiscFeature'\n",
       "\\item 'MSZoning'\n",
       "\\item 'Neighborhood'\n",
       "\\item 'PavedDrive'\n",
       "\\item 'PoolQC'\n",
       "\\item 'RoofMatl'\n",
       "\\item 'RoofStyle'\n",
       "\\item 'SaleCondition'\n",
       "\\item 'SaleType'\n",
       "\\item 'Street'\n",
       "\\item 'Utilities'\n",
       "\\end{enumerate*}\n"
      ],
      "text/markdown": [
       "1. 'Alley'\n",
       "2. 'BldgType'\n",
       "3. 'BsmtCond'\n",
       "4. 'BsmtExposure'\n",
       "5. 'BsmtFinType1'\n",
       "6. 'BsmtFinType2'\n",
       "7. 'BsmtQual'\n",
       "8. 'CentralAir'\n",
       "9. 'Condition1'\n",
       "10. 'Condition2'\n",
       "11. 'Electrical'\n",
       "12. 'ExterCond'\n",
       "13. 'Exterior1st'\n",
       "14. 'Exterior2nd'\n",
       "15. 'ExterQual'\n",
       "16. 'Fence'\n",
       "17. 'FireplaceQu'\n",
       "18. 'Foundation'\n",
       "19. 'Functional'\n",
       "20. 'GarageCond'\n",
       "21. 'GarageFinish'\n",
       "22. 'GarageQual'\n",
       "23. 'GarageType'\n",
       "24. 'Heating'\n",
       "25. 'HeatingQC'\n",
       "26. 'HouseStyle'\n",
       "27. 'KitchenQual'\n",
       "28. 'LandContour'\n",
       "29. 'LandSlope'\n",
       "30. 'LotConfig'\n",
       "31. 'LotShape'\n",
       "32. 'MasVnrType'\n",
       "33. 'MiscFeature'\n",
       "34. 'MSZoning'\n",
       "35. 'Neighborhood'\n",
       "36. 'PavedDrive'\n",
       "37. 'PoolQC'\n",
       "38. 'RoofMatl'\n",
       "39. 'RoofStyle'\n",
       "40. 'SaleCondition'\n",
       "41. 'SaleType'\n",
       "42. 'Street'\n",
       "43. 'Utilities'\n",
       "\n",
       "\n"
      ],
      "text/plain": [
       " [1] \"Alley\"         \"BldgType\"      \"BsmtCond\"      \"BsmtExposure\" \n",
       " [5] \"BsmtFinType1\"  \"BsmtFinType2\"  \"BsmtQual\"      \"CentralAir\"   \n",
       " [9] \"Condition1\"    \"Condition2\"    \"Electrical\"    \"ExterCond\"    \n",
       "[13] \"Exterior1st\"   \"Exterior2nd\"   \"ExterQual\"     \"Fence\"        \n",
       "[17] \"FireplaceQu\"   \"Foundation\"    \"Functional\"    \"GarageCond\"   \n",
       "[21] \"GarageFinish\"  \"GarageQual\"    \"GarageType\"    \"Heating\"      \n",
       "[25] \"HeatingQC\"     \"HouseStyle\"    \"KitchenQual\"   \"LandContour\"  \n",
       "[29] \"LandSlope\"     \"LotConfig\"     \"LotShape\"      \"MasVnrType\"   \n",
       "[33] \"MiscFeature\"   \"MSZoning\"      \"Neighborhood\"  \"PavedDrive\"   \n",
       "[37] \"PoolQC\"        \"RoofMatl\"      \"RoofStyle\"     \"SaleCondition\"\n",
       "[41] \"SaleType\"      \"Street\"        \"Utilities\"    "
      ]
     },
     "metadata": {},
     "output_type": "display_data"
    }
   ],
   "source": [
    "source('./utils.R')\n",
    "kaggle.house$utils$get_char_columns_names(df.training)"
   ]
  },
  {
   "cell_type": "code",
   "execution_count": 11,
   "metadata": {
    "collapsed": true
   },
   "outputs": [],
   "source": [
    "source(\"./transform_vars.R\")\n",
    "\n",
    "groupAveragingTranFactory <- kaggle.house$trans$groupAveragingTranFactory\n",
    "\n",
    "with(list(), {\n",
    "    \n",
    "    df.train <- data_frame(\n",
    "        categAttr =       c('a', 'a', 'b', 'b', 'b', 'c', 'c'),\n",
    "        sale_price_log  = c(1 ,   2,   3,   4,   5,   6,   7)\n",
    "    )\n",
    "    df.test <- data_frame(\n",
    "        categAttr = c('a', 'a', 'b', 'b', 'c', 'c', 'd', 'd', 'd')\n",
    "    )\n",
    "    \n",
    "    trainTransformator <- groupAveragingTranFactory(sale_price_log, categAttr, \"categAttr.new\")\n",
    "    tmp <- trainTransformator(df.train)    \n",
    "    \n",
    "    test_that(\"train set tranformation\", {\n",
    "        \n",
    "        df.train.new <- tmp$df.new\n",
    "        \n",
    "        x <- df.train.new %>% group_by(categAttr) %>% \n",
    "        summarise(min = min(categAttr.new), max = max(categAttr.new))\n",
    "    \n",
    "        y <- df.train %>% group_by(categAttr) %>% \n",
    "            summarise(median = median(sale_price_log))\n",
    "        \n",
    "        expect_true(all(x[, \"min\"] == x[, \"max\"]))\n",
    "        expect_true(all(x[, \"min\"] == y[, \"median\"]))\n",
    "        expect_equal(\n",
    "            df.train.new$categAttr.new, \n",
    "            c(1.5, 1.5, 4, 4, 4, 6.5, 6.5)\n",
    "        )\n",
    "    })    \n",
    "       \n",
    "    test_that(\"test set tranformation\", {\n",
    "        \n",
    "        testTransformator <- tmp$testset.transformator\n",
    "        df.test.new <- testTransformator(df.test)\n",
    " \n",
    "        expect_equal(df.test.new$categAttr, df.test$categAttr)\n",
    "        expect_equal(\n",
    "            df.test.new$categAttr.new, \n",
    "            c(1.5, 1.5, 4, 4, 6.5, 6.5, 4, 4, 4)\n",
    "        )\n",
    "    })\n",
    "})"
   ]
  },
  {
   "cell_type": "code",
   "execution_count": 18,
   "metadata": {
    "scrolled": true
   },
   "outputs": [
    {
     "name": "stdout",
     "output_type": "stream",
     "text": [
      "# A tibble: 5 x 4\n",
      "  BldgType      min      max      avg\n",
      "     <chr>    <dbl>    <dbl>    <dbl>\n",
      "1     1Fam 12.03112 12.03112 12.03112\n",
      "2   2fmCon 11.75587 11.75587 11.75587\n",
      "3   Duplex 11.82026 11.82026 11.82026\n",
      "4    Twnhs 11.83138 11.83138 11.83138\n",
      "5   TwnhsE 12.05641 12.05641 12.05641\n"
     ]
    }
   ],
   "source": [
    "source(\"./transform_vars.R\")\n",
    "\n",
    "with(kaggle.house$trans$transformatorContainer, {\n",
    "    test_that(\"Alley\", {\n",
    "        df <- Alley(df.training)\n",
    "\n",
    "        expect_equal(df %>% filter(is.na(Alley) & has_alley_access != 0) %>% nrow, 0)\n",
    "        expect_equal(df %>% filter(!is.na(Alley) & has_alley_access != 1) %>% nrow, 0)\n",
    "    })\n",
    "    \n",
    "    test_that(\"CentralAir\", {\n",
    "        df <- CentralAir(df.training)\n",
    "\n",
    "        expect_equal(df %>% filter(CentralAir == 'Y' & has_central_air != 1) %>% nrow, 0)\n",
    "        expect_equal(df %>% filter(CentralAir != 'Y' & has_central_air != 0) %>% nrow, 0)\n",
    "    })\n",
    "    \n",
    "    test_that(\"Electrical\", {\n",
    "        df <- Electrical(df.training)\n",
    "\n",
    "        expect_equal(df %>% filter(Electrical == 'SBrkr' & standard_electrical != 1) %>% nrow, 0)\n",
    "        expect_equal(df %>% filter(Electrical != 'SBrkr' & standard_electrical != 0) %>% nrow, 0)\n",
    "    })\n",
    "    \n",
    "    test_that(\"Functional\", {\n",
    "        df <- Functional(df.training)\n",
    "\n",
    "        expect_equal(df %>% filter(Functional == 'Typ' & is_full_functional != 1) %>% nrow, 0)\n",
    "        expect_equal(df %>% filter(Functional != 'Typ' & is_full_functional != 0) %>% nrow, 0)\n",
    "    })\n",
    "    \n",
    "    test_that(\"BldgType\", {\n",
    "        res <- BldgType(df.training)\n",
    "        df.training.new <- res$df.new\n",
    "        testTran <- res$testset.transformator\n",
    "        \n",
    "       \n",
    "        res$df.new %>% group_by(BldgType) %>% \n",
    "            summarise(min = min(building_type), max = max(building_type), avg = median(sale_price_log)) %>% print\n",
    "        \n",
    "        df.test.new <- res$testset.transformator(df.testing)\n",
    "        \n",
    "        #expect_equal(df %>% filter(Functional == 'Typ' & is_full_functional != 1) %>% nrow, 0)\n",
    "        #expect_equal(df %>% filter(Functional != 'Typ' & is_full_functional != 0) %>% nrow, 0)\n",
    "    })\n",
    "})\n"
   ]
  },
  {
   "cell_type": "code",
   "execution_count": 11,
   "metadata": {
    "collapsed": true
   },
   "outputs": [],
   "source": [
    "removify <- function(trans, attr_name) {\n",
    "    function(df, remove=T) {\n",
    "        df <- trans(df)\n",
    "        if ( remove ) {\n",
    "            df[, attr_name] <- NULL\n",
    "        }\n",
    "        df\n",
    "    }\n",
    "}"
   ]
  },
  {
   "cell_type": "code",
   "execution_count": 12,
   "metadata": {
    "collapsed": true
   },
   "outputs": [],
   "source": [
    "transform <- list()"
   ]
  },
  {
   "cell_type": "code",
   "execution_count": 13,
   "metadata": {
    "scrolled": true
   },
   "outputs": [
    {
     "data": {
      "text/html": [
       "<table>\n",
       "<thead><tr><th scope=col>Alley</th><th scope=col>n</th></tr></thead>\n",
       "<tbody>\n",
       "\t<tr><td>Grvl</td><td>  50</td></tr>\n",
       "\t<tr><td>Pave</td><td>  41</td></tr>\n",
       "\t<tr><td>NA  </td><td>1369</td></tr>\n",
       "</tbody>\n",
       "</table>\n"
      ],
      "text/latex": [
       "\\begin{tabular}{r|ll}\n",
       " Alley & n\\\\\n",
       "\\hline\n",
       "\t Grvl &   50\\\\\n",
       "\t Pave &   41\\\\\n",
       "\t NA   & 1369\\\\\n",
       "\\end{tabular}\n"
      ],
      "text/markdown": [
       "\n",
       "Alley | n | \n",
       "|---|---|---|\n",
       "| Grvl |   50 | \n",
       "| Pave |   41 | \n",
       "| NA   | 1369 | \n",
       "\n",
       "\n"
      ],
      "text/plain": [
       "  Alley n   \n",
       "1 Grvl    50\n",
       "2 Pave    41\n",
       "3 NA    1369"
      ]
     },
     "metadata": {},
     "output_type": "display_data"
    },
    {
     "data": {
      "text/html": [
       "<table>\n",
       "<thead><tr><th scope=col>has_alley_access</th><th scope=col>Alley</th><th scope=col>n</th></tr></thead>\n",
       "<tbody>\n",
       "\t<tr><td>0   </td><td>NA  </td><td>1369</td></tr>\n",
       "\t<tr><td>1   </td><td>Grvl</td><td>  50</td></tr>\n",
       "\t<tr><td>1   </td><td>Pave</td><td>  41</td></tr>\n",
       "</tbody>\n",
       "</table>\n"
      ],
      "text/latex": [
       "\\begin{tabular}{r|lll}\n",
       " has\\_alley\\_access & Alley & n\\\\\n",
       "\\hline\n",
       "\t 0    & NA   & 1369\\\\\n",
       "\t 1    & Grvl &   50\\\\\n",
       "\t 1    & Pave &   41\\\\\n",
       "\\end{tabular}\n"
      ],
      "text/markdown": [
       "\n",
       "has_alley_access | Alley | n | \n",
       "|---|---|---|\n",
       "| 0    | NA   | 1369 | \n",
       "| 1    | Grvl |   50 | \n",
       "| 1    | Pave |   41 | \n",
       "\n",
       "\n"
      ],
      "text/plain": [
       "  has_alley_access Alley n   \n",
       "1 0                NA    1369\n",
       "2 1                Grvl    50\n",
       "3 1                Pave    41"
      ]
     },
     "metadata": {},
     "output_type": "display_data"
    }
   ],
   "source": [
    "transform$Alley <- removify(\n",
    "    function (df) {\n",
    "        df %>% mutate(has_alley_access = ifelse(!is.na(Alley), 1, 0))\n",
    "    }, \n",
    "    \"Alley\")\n",
    "\n",
    "training %>% group_by(Alley) %>% count\n",
    "tranformed <- transform$Alley(training, remove=F)\n",
    "tranformed %>% group_by(has_alley_access, Alley) %>% count"
   ]
  },
  {
   "cell_type": "code",
   "execution_count": 14,
   "metadata": {},
   "outputs": [
    {
     "data": {
      "text/html": [
       "<table>\n",
       "<thead><tr><th scope=col>CentralAir</th><th scope=col>n</th></tr></thead>\n",
       "<tbody>\n",
       "\t<tr><td>N   </td><td>  95</td></tr>\n",
       "\t<tr><td>Y   </td><td>1365</td></tr>\n",
       "</tbody>\n",
       "</table>\n"
      ],
      "text/latex": [
       "\\begin{tabular}{r|ll}\n",
       " CentralAir & n\\\\\n",
       "\\hline\n",
       "\t N    &   95\\\\\n",
       "\t Y    & 1365\\\\\n",
       "\\end{tabular}\n"
      ],
      "text/markdown": [
       "\n",
       "CentralAir | n | \n",
       "|---|---|\n",
       "| N    |   95 | \n",
       "| Y    | 1365 | \n",
       "\n",
       "\n"
      ],
      "text/plain": [
       "  CentralAir n   \n",
       "1 N            95\n",
       "2 Y          1365"
      ]
     },
     "metadata": {},
     "output_type": "display_data"
    },
    {
     "data": {
      "text/html": [
       "<table>\n",
       "<thead><tr><th scope=col>has_central_air</th><th scope=col>CentralAir</th><th scope=col>n</th></tr></thead>\n",
       "<tbody>\n",
       "\t<tr><td>0   </td><td>N   </td><td>  95</td></tr>\n",
       "\t<tr><td>1   </td><td>Y   </td><td>1365</td></tr>\n",
       "</tbody>\n",
       "</table>\n"
      ],
      "text/latex": [
       "\\begin{tabular}{r|lll}\n",
       " has\\_central\\_air & CentralAir & n\\\\\n",
       "\\hline\n",
       "\t 0    & N    &   95\\\\\n",
       "\t 1    & Y    & 1365\\\\\n",
       "\\end{tabular}\n"
      ],
      "text/markdown": [
       "\n",
       "has_central_air | CentralAir | n | \n",
       "|---|---|\n",
       "| 0    | N    |   95 | \n",
       "| 1    | Y    | 1365 | \n",
       "\n",
       "\n"
      ],
      "text/plain": [
       "  has_central_air CentralAir n   \n",
       "1 0               N            95\n",
       "2 1               Y          1365"
      ]
     },
     "metadata": {},
     "output_type": "display_data"
    }
   ],
   "source": [
    "transform$CentralAir <- removify(\n",
    "    function (df) {\n",
    "        df %>% mutate(has_central_air = ifelse(CentralAir == 'Y', 1, 0))\n",
    "    }, \n",
    "    \"CentralAir\")\n",
    "\n",
    "training %>% group_by(CentralAir) %>% count\n",
    "tranformed <- transform$CentralAir(training, remove=F)\n",
    "tranformed %>% group_by(has_central_air, CentralAir) %>% count"
   ]
  },
  {
   "cell_type": "code",
   "execution_count": 88,
   "metadata": {},
   "outputs": [
    {
     "data": {
      "text/html": [
       "<table>\n",
       "<thead><tr><th scope=col>Electrical</th><th scope=col>n</th></tr></thead>\n",
       "<tbody>\n",
       "\t<tr><td>FuseA</td><td>  94 </td></tr>\n",
       "\t<tr><td>FuseF</td><td>  27 </td></tr>\n",
       "\t<tr><td>FuseP</td><td>   3 </td></tr>\n",
       "\t<tr><td>Mix  </td><td>   1 </td></tr>\n",
       "\t<tr><td>SBrkr</td><td>1334 </td></tr>\n",
       "\t<tr><td>NA   </td><td>   1 </td></tr>\n",
       "</tbody>\n",
       "</table>\n"
      ],
      "text/latex": [
       "\\begin{tabular}{r|ll}\n",
       " Electrical & n\\\\\n",
       "\\hline\n",
       "\t FuseA &   94 \\\\\n",
       "\t FuseF &   27 \\\\\n",
       "\t FuseP &    3 \\\\\n",
       "\t Mix   &    1 \\\\\n",
       "\t SBrkr & 1334 \\\\\n",
       "\t NA    &    1 \\\\\n",
       "\\end{tabular}\n"
      ],
      "text/markdown": [
       "\n",
       "Electrical | n | \n",
       "|---|---|---|---|---|---|\n",
       "| FuseA |   94  | \n",
       "| FuseF |   27  | \n",
       "| FuseP |    3  | \n",
       "| Mix   |    1  | \n",
       "| SBrkr | 1334  | \n",
       "| NA    |    1  | \n",
       "\n",
       "\n"
      ],
      "text/plain": [
       "  Electrical n   \n",
       "1 FuseA        94\n",
       "2 FuseF        27\n",
       "3 FuseP         3\n",
       "4 Mix           1\n",
       "5 SBrkr      1334\n",
       "6 NA            1"
      ]
     },
     "metadata": {},
     "output_type": "display_data"
    },
    {
     "data": {
      "text/html": [
       "<table>\n",
       "<thead><tr><th scope=col>standard_electrical</th><th scope=col>Electrical</th><th scope=col>n</th></tr></thead>\n",
       "<tbody>\n",
       "\t<tr><td>0    </td><td>FuseA</td><td>  94 </td></tr>\n",
       "\t<tr><td>0    </td><td>FuseF</td><td>  27 </td></tr>\n",
       "\t<tr><td>0    </td><td>FuseP</td><td>   3 </td></tr>\n",
       "\t<tr><td>0    </td><td>Mix  </td><td>   1 </td></tr>\n",
       "\t<tr><td>1    </td><td>SBrkr</td><td>1334 </td></tr>\n",
       "\t<tr><td>1    </td><td>NA   </td><td>   1 </td></tr>\n",
       "</tbody>\n",
       "</table>\n"
      ],
      "text/latex": [
       "\\begin{tabular}{r|lll}\n",
       " standard\\_electrical & Electrical & n\\\\\n",
       "\\hline\n",
       "\t 0     & FuseA &   94 \\\\\n",
       "\t 0     & FuseF &   27 \\\\\n",
       "\t 0     & FuseP &    3 \\\\\n",
       "\t 0     & Mix   &    1 \\\\\n",
       "\t 1     & SBrkr & 1334 \\\\\n",
       "\t 1     & NA    &    1 \\\\\n",
       "\\end{tabular}\n"
      ],
      "text/markdown": [
       "\n",
       "standard_electrical | Electrical | n | \n",
       "|---|---|---|---|---|---|\n",
       "| 0     | FuseA |   94  | \n",
       "| 0     | FuseF |   27  | \n",
       "| 0     | FuseP |    3  | \n",
       "| 0     | Mix   |    1  | \n",
       "| 1     | SBrkr | 1334  | \n",
       "| 1     | NA    |    1  | \n",
       "\n",
       "\n"
      ],
      "text/plain": [
       "  standard_electrical Electrical n   \n",
       "1 0                   FuseA        94\n",
       "2 0                   FuseF        27\n",
       "3 0                   FuseP         3\n",
       "4 0                   Mix           1\n",
       "5 1                   SBrkr      1334\n",
       "6 1                   NA            1"
      ]
     },
     "metadata": {},
     "output_type": "display_data"
    }
   ],
   "source": [
    "transform$Electrical <- removify(\n",
    "    function (df) {\n",
    "        df %>% mutate(standard_electrical = ifelse(Electrical == 'SBrkr' | is.na(Electrical), 1, 0))\n",
    "    }, \n",
    "    \"Electrical\")\n",
    "\n",
    "training %>% group_by(Electrical) %>% count\n",
    "tranformed <- transform$Electrical(training, remove=F)\n",
    "tranformed %>% group_by(standard_electrical, Electrical) %>% count"
   ]
  },
  {
   "cell_type": "code",
   "execution_count": 139,
   "metadata": {},
   "outputs": [
    {
     "data": {
      "text/html": [
       "<table>\n",
       "<thead><tr><th scope=col>Functional</th><th scope=col>n</th><th scope=col>avg_price</th></tr></thead>\n",
       "<tbody>\n",
       "\t<tr><td>Maj1    </td><td>  14    </td><td>11.85447</td></tr>\n",
       "\t<tr><td>Maj2    </td><td>   5    </td><td>11.35041</td></tr>\n",
       "\t<tr><td>Min1    </td><td>  31    </td><td>11.84223</td></tr>\n",
       "\t<tr><td>Min2    </td><td>  34    </td><td>11.84940</td></tr>\n",
       "\t<tr><td>Mod     </td><td>  15    </td><td>11.83428</td></tr>\n",
       "\t<tr><td>Sev     </td><td>   1    </td><td>11.76757</td></tr>\n",
       "\t<tr><td>Typ     </td><td>1360    </td><td>12.01673</td></tr>\n",
       "</tbody>\n",
       "</table>\n"
      ],
      "text/latex": [
       "\\begin{tabular}{r|lll}\n",
       " Functional & n & avg\\_price\\\\\n",
       "\\hline\n",
       "\t Maj1     &   14     & 11.85447\\\\\n",
       "\t Maj2     &    5     & 11.35041\\\\\n",
       "\t Min1     &   31     & 11.84223\\\\\n",
       "\t Min2     &   34     & 11.84940\\\\\n",
       "\t Mod      &   15     & 11.83428\\\\\n",
       "\t Sev      &    1     & 11.76757\\\\\n",
       "\t Typ      & 1360     & 12.01673\\\\\n",
       "\\end{tabular}\n"
      ],
      "text/markdown": [
       "\n",
       "Functional | n | avg_price | \n",
       "|---|---|---|---|---|---|---|\n",
       "| Maj1     |   14     | 11.85447 | \n",
       "| Maj2     |    5     | 11.35041 | \n",
       "| Min1     |   31     | 11.84223 | \n",
       "| Min2     |   34     | 11.84940 | \n",
       "| Mod      |   15     | 11.83428 | \n",
       "| Sev      |    1     | 11.76757 | \n",
       "| Typ      | 1360     | 12.01673 | \n",
       "\n",
       "\n"
      ],
      "text/plain": [
       "  Functional n    avg_price\n",
       "1 Maj1         14 11.85447 \n",
       "2 Maj2          5 11.35041 \n",
       "3 Min1         31 11.84223 \n",
       "4 Min2         34 11.84940 \n",
       "5 Mod          15 11.83428 \n",
       "6 Sev           1 11.76757 \n",
       "7 Typ        1360 12.01673 "
      ]
     },
     "metadata": {},
     "output_type": "display_data"
    },
    {
     "data": {
      "text/html": [
       "<table>\n",
       "<thead><tr><th scope=col>is_full_functional</th><th scope=col>Functional</th><th scope=col>n</th></tr></thead>\n",
       "<tbody>\n",
       "\t<tr><td>0   </td><td>Maj1</td><td>  14</td></tr>\n",
       "\t<tr><td>0   </td><td>Maj2</td><td>   5</td></tr>\n",
       "\t<tr><td>0   </td><td>Min1</td><td>  31</td></tr>\n",
       "\t<tr><td>0   </td><td>Min2</td><td>  34</td></tr>\n",
       "\t<tr><td>0   </td><td>Mod </td><td>  15</td></tr>\n",
       "\t<tr><td>0   </td><td>Sev </td><td>   1</td></tr>\n",
       "\t<tr><td>1   </td><td>Typ </td><td>1360</td></tr>\n",
       "</tbody>\n",
       "</table>\n"
      ],
      "text/latex": [
       "\\begin{tabular}{r|lll}\n",
       " is\\_full\\_functional & Functional & n\\\\\n",
       "\\hline\n",
       "\t 0    & Maj1 &   14\\\\\n",
       "\t 0    & Maj2 &    5\\\\\n",
       "\t 0    & Min1 &   31\\\\\n",
       "\t 0    & Min2 &   34\\\\\n",
       "\t 0    & Mod  &   15\\\\\n",
       "\t 0    & Sev  &    1\\\\\n",
       "\t 1    & Typ  & 1360\\\\\n",
       "\\end{tabular}\n"
      ],
      "text/markdown": [
       "\n",
       "is_full_functional | Functional | n | \n",
       "|---|---|---|---|---|---|---|\n",
       "| 0    | Maj1 |   14 | \n",
       "| 0    | Maj2 |    5 | \n",
       "| 0    | Min1 |   31 | \n",
       "| 0    | Min2 |   34 | \n",
       "| 0    | Mod  |   15 | \n",
       "| 0    | Sev  |    1 | \n",
       "| 1    | Typ  | 1360 | \n",
       "\n",
       "\n"
      ],
      "text/plain": [
       "  is_full_functional Functional n   \n",
       "1 0                  Maj1         14\n",
       "2 0                  Maj2          5\n",
       "3 0                  Min1         31\n",
       "4 0                  Min2         34\n",
       "5 0                  Mod          15\n",
       "6 0                  Sev           1\n",
       "7 1                  Typ        1360"
      ]
     },
     "metadata": {},
     "output_type": "display_data"
    }
   ],
   "source": [
    "training %>% group_by(Functional) %>% summarise(n=n(), avg_price=median(sale_price_log))\n",
    "\n",
    "transform$Functional <- removify(\n",
    "    function (df) {\n",
    "        df %>% mutate(is_full_functional = ifelse(Functional == 'Typ', 1, 0))\n",
    "    }, \n",
    "    \"Functional\")\n",
    "\n",
    "tranformed <- transform$Functional(training, remove=F)\n",
    "tranformed %>% group_by(is_full_functional, Functional) %>% count"
   ]
  },
  {
   "cell_type": "code",
   "execution_count": 15,
   "metadata": {},
   "outputs": [
    {
     "data": {
      "text/html": [
       "<table>\n",
       "<thead><tr><th scope=col>Heating</th><th scope=col>n</th></tr></thead>\n",
       "<tbody>\n",
       "\t<tr><td>Floor</td><td>   1 </td></tr>\n",
       "\t<tr><td>GasA </td><td>1428 </td></tr>\n",
       "\t<tr><td>GasW </td><td>  18 </td></tr>\n",
       "\t<tr><td>Grav </td><td>   7 </td></tr>\n",
       "\t<tr><td>OthW </td><td>   2 </td></tr>\n",
       "\t<tr><td>Wall </td><td>   4 </td></tr>\n",
       "</tbody>\n",
       "</table>\n"
      ],
      "text/latex": [
       "\\begin{tabular}{r|ll}\n",
       " Heating & n\\\\\n",
       "\\hline\n",
       "\t Floor &    1 \\\\\n",
       "\t GasA  & 1428 \\\\\n",
       "\t GasW  &   18 \\\\\n",
       "\t Grav  &    7 \\\\\n",
       "\t OthW  &    2 \\\\\n",
       "\t Wall  &    4 \\\\\n",
       "\\end{tabular}\n"
      ],
      "text/markdown": [
       "\n",
       "Heating | n | \n",
       "|---|---|---|---|---|---|\n",
       "| Floor |    1  | \n",
       "| GasA  | 1428  | \n",
       "| GasW  |   18  | \n",
       "| Grav  |    7  | \n",
       "| OthW  |    2  | \n",
       "| Wall  |    4  | \n",
       "\n",
       "\n"
      ],
      "text/plain": [
       "  Heating n   \n",
       "1 Floor      1\n",
       "2 GasA    1428\n",
       "3 GasW      18\n",
       "4 Grav       7\n",
       "5 OthW       2\n",
       "6 Wall       4"
      ]
     },
     "metadata": {},
     "output_type": "display_data"
    },
    {
     "data": {
      "text/html": [
       "<table>\n",
       "<thead><tr><th scope=col>heating_air_furnace</th><th scope=col>Heating</th><th scope=col>n</th></tr></thead>\n",
       "<tbody>\n",
       "\t<tr><td>0    </td><td>Floor</td><td>   1 </td></tr>\n",
       "\t<tr><td>0    </td><td>GasW </td><td>  18 </td></tr>\n",
       "\t<tr><td>0    </td><td>Grav </td><td>   7 </td></tr>\n",
       "\t<tr><td>0    </td><td>OthW </td><td>   2 </td></tr>\n",
       "\t<tr><td>0    </td><td>Wall </td><td>   4 </td></tr>\n",
       "\t<tr><td>1    </td><td>GasA </td><td>1428 </td></tr>\n",
       "</tbody>\n",
       "</table>\n"
      ],
      "text/latex": [
       "\\begin{tabular}{r|lll}\n",
       " heating\\_air\\_furnace & Heating & n\\\\\n",
       "\\hline\n",
       "\t 0     & Floor &    1 \\\\\n",
       "\t 0     & GasW  &   18 \\\\\n",
       "\t 0     & Grav  &    7 \\\\\n",
       "\t 0     & OthW  &    2 \\\\\n",
       "\t 0     & Wall  &    4 \\\\\n",
       "\t 1     & GasA  & 1428 \\\\\n",
       "\\end{tabular}\n"
      ],
      "text/markdown": [
       "\n",
       "heating_air_furnace | Heating | n | \n",
       "|---|---|---|---|---|---|\n",
       "| 0     | Floor |    1  | \n",
       "| 0     | GasW  |   18  | \n",
       "| 0     | Grav  |    7  | \n",
       "| 0     | OthW  |    2  | \n",
       "| 0     | Wall  |    4  | \n",
       "| 1     | GasA  | 1428  | \n",
       "\n",
       "\n"
      ],
      "text/plain": [
       "  heating_air_furnace Heating n   \n",
       "1 0                   Floor      1\n",
       "2 0                   GasW      18\n",
       "3 0                   Grav       7\n",
       "4 0                   OthW       2\n",
       "5 0                   Wall       4\n",
       "6 1                   GasA    1428"
      ]
     },
     "metadata": {},
     "output_type": "display_data"
    }
   ],
   "source": [
    "transform$Heating <- removify(\n",
    "    function (df) {\n",
    "        df %>% mutate(heating_air_furnace = ifelse(Heating == 'GasA', 1, 0))\n",
    "    }, \n",
    "    \"Heating\")\n",
    "\n",
    "training %>% group_by(Heating) %>% count\n",
    "tranformed <- transform$Heating(training, remove=F)\n",
    "tranformed %>% group_by(heating_air_furnace, Heating) %>% count"
   ]
  },
  {
   "cell_type": "code",
   "execution_count": 16,
   "metadata": {},
   "outputs": [
    {
     "data": {
      "text/html": [
       "<table>\n",
       "<thead><tr><th scope=col>LandContour</th><th scope=col>n</th></tr></thead>\n",
       "<tbody>\n",
       "\t<tr><td>Bnk </td><td>  63</td></tr>\n",
       "\t<tr><td>HLS </td><td>  50</td></tr>\n",
       "\t<tr><td>Low </td><td>  36</td></tr>\n",
       "\t<tr><td>Lvl </td><td>1311</td></tr>\n",
       "</tbody>\n",
       "</table>\n"
      ],
      "text/latex": [
       "\\begin{tabular}{r|ll}\n",
       " LandContour & n\\\\\n",
       "\\hline\n",
       "\t Bnk  &   63\\\\\n",
       "\t HLS  &   50\\\\\n",
       "\t Low  &   36\\\\\n",
       "\t Lvl  & 1311\\\\\n",
       "\\end{tabular}\n"
      ],
      "text/markdown": [
       "\n",
       "LandContour | n | \n",
       "|---|---|---|---|\n",
       "| Bnk  |   63 | \n",
       "| HLS  |   50 | \n",
       "| Low  |   36 | \n",
       "| Lvl  | 1311 | \n",
       "\n",
       "\n"
      ],
      "text/plain": [
       "  LandContour n   \n",
       "1 Bnk           63\n",
       "2 HLS           50\n",
       "3 Low           36\n",
       "4 Lvl         1311"
      ]
     },
     "metadata": {},
     "output_type": "display_data"
    },
    {
     "data": {
      "text/html": [
       "<table>\n",
       "<thead><tr><th scope=col>is_land_level</th><th scope=col>LandContour</th><th scope=col>n</th></tr></thead>\n",
       "<tbody>\n",
       "\t<tr><td>0   </td><td>Bnk </td><td>  63</td></tr>\n",
       "\t<tr><td>0   </td><td>HLS </td><td>  50</td></tr>\n",
       "\t<tr><td>0   </td><td>Low </td><td>  36</td></tr>\n",
       "\t<tr><td>1   </td><td>Lvl </td><td>1311</td></tr>\n",
       "</tbody>\n",
       "</table>\n"
      ],
      "text/latex": [
       "\\begin{tabular}{r|lll}\n",
       " is\\_land\\_level & LandContour & n\\\\\n",
       "\\hline\n",
       "\t 0    & Bnk  &   63\\\\\n",
       "\t 0    & HLS  &   50\\\\\n",
       "\t 0    & Low  &   36\\\\\n",
       "\t 1    & Lvl  & 1311\\\\\n",
       "\\end{tabular}\n"
      ],
      "text/markdown": [
       "\n",
       "is_land_level | LandContour | n | \n",
       "|---|---|---|---|\n",
       "| 0    | Bnk  |   63 | \n",
       "| 0    | HLS  |   50 | \n",
       "| 0    | Low  |   36 | \n",
       "| 1    | Lvl  | 1311 | \n",
       "\n",
       "\n"
      ],
      "text/plain": [
       "  is_land_level LandContour n   \n",
       "1 0             Bnk           63\n",
       "2 0             HLS           50\n",
       "3 0             Low           36\n",
       "4 1             Lvl         1311"
      ]
     },
     "metadata": {},
     "output_type": "display_data"
    }
   ],
   "source": [
    "transform$LandContour <- removify(\n",
    "    function (df) {\n",
    "        df %>% mutate(is_land_level = ifelse(LandContour == 'Lvl', 1, 0))\n",
    "    }, \n",
    "    \"LandContour\")\n",
    "\n",
    "training %>% group_by(LandContour) %>% count\n",
    "tranformed <- transform$LandContour(training, remove=F)\n",
    "tranformed %>% group_by(is_land_level, LandContour) %>% count"
   ]
  },
  {
   "cell_type": "code",
   "execution_count": 161,
   "metadata": {},
   "outputs": [
    {
     "data": {
      "text/html": [
       "<table>\n",
       "<thead><tr><th scope=col>LandSlope</th><th scope=col>n</th><th scope=col>avg_price</th></tr></thead>\n",
       "<tbody>\n",
       "\t<tr><td>Gtl     </td><td>1382    </td><td>11.99458</td></tr>\n",
       "\t<tr><td>Mod     </td><td>  65    </td><td>12.13726</td></tr>\n",
       "\t<tr><td>Sev     </td><td>  13    </td><td>12.12811</td></tr>\n",
       "</tbody>\n",
       "</table>\n"
      ],
      "text/latex": [
       "\\begin{tabular}{r|lll}\n",
       " LandSlope & n & avg\\_price\\\\\n",
       "\\hline\n",
       "\t Gtl      & 1382     & 11.99458\\\\\n",
       "\t Mod      &   65     & 12.13726\\\\\n",
       "\t Sev      &   13     & 12.12811\\\\\n",
       "\\end{tabular}\n"
      ],
      "text/markdown": [
       "\n",
       "LandSlope | n | avg_price | \n",
       "|---|---|---|\n",
       "| Gtl      | 1382     | 11.99458 | \n",
       "| Mod      |   65     | 12.13726 | \n",
       "| Sev      |   13     | 12.12811 | \n",
       "\n",
       "\n"
      ],
      "text/plain": [
       "  LandSlope n    avg_price\n",
       "1 Gtl       1382 11.99458 \n",
       "2 Mod         65 12.13726 \n",
       "3 Sev         13 12.12811 "
      ]
     },
     "metadata": {},
     "output_type": "display_data"
    },
    {
     "data": {
      "text/html": [
       "<table>\n",
       "<thead><tr><th scope=col>is_slope</th><th scope=col>LandSlope</th><th scope=col>n</th></tr></thead>\n",
       "<tbody>\n",
       "\t<tr><td>0   </td><td>Gtl </td><td>1382</td></tr>\n",
       "\t<tr><td>1   </td><td>Mod </td><td>  65</td></tr>\n",
       "\t<tr><td>1   </td><td>Sev </td><td>  13</td></tr>\n",
       "</tbody>\n",
       "</table>\n"
      ],
      "text/latex": [
       "\\begin{tabular}{r|lll}\n",
       " is\\_slope & LandSlope & n\\\\\n",
       "\\hline\n",
       "\t 0    & Gtl  & 1382\\\\\n",
       "\t 1    & Mod  &   65\\\\\n",
       "\t 1    & Sev  &   13\\\\\n",
       "\\end{tabular}\n"
      ],
      "text/markdown": [
       "\n",
       "is_slope | LandSlope | n | \n",
       "|---|---|---|\n",
       "| 0    | Gtl  | 1382 | \n",
       "| 1    | Mod  |   65 | \n",
       "| 1    | Sev  |   13 | \n",
       "\n",
       "\n"
      ],
      "text/plain": [
       "  is_slope LandSlope n   \n",
       "1 0        Gtl       1382\n",
       "2 1        Mod         65\n",
       "3 1        Sev         13"
      ]
     },
     "metadata": {},
     "output_type": "display_data"
    }
   ],
   "source": [
    "training %>% group_by(LandSlope) %>% summarise(n=n(), avg_price=median(sale_price_log))\n",
    "\n",
    "transform$LandSlope <- removify(\n",
    "    function (df) {\n",
    "        df %>% mutate(is_slope = ifelse(LandSlope != 'Gtl', 1, 0))\n",
    "    }, \n",
    "    \"LandSlope\")\n",
    "\n",
    "tranformed <- transform$LandSlope(training, remove=F)\n",
    "tranformed %>% group_by(is_slope, LandSlope) %>% count"
   ]
  },
  {
   "cell_type": "code",
   "execution_count": 17,
   "metadata": {},
   "outputs": [
    {
     "data": {
      "text/html": [
       "<table>\n",
       "<thead><tr><th scope=col>LotShape</th><th scope=col>n</th></tr></thead>\n",
       "<tbody>\n",
       "\t<tr><td>IR1</td><td>484</td></tr>\n",
       "\t<tr><td>IR2</td><td> 41</td></tr>\n",
       "\t<tr><td>IR3</td><td> 10</td></tr>\n",
       "\t<tr><td>Reg</td><td>925</td></tr>\n",
       "</tbody>\n",
       "</table>\n"
      ],
      "text/latex": [
       "\\begin{tabular}{r|ll}\n",
       " LotShape & n\\\\\n",
       "\\hline\n",
       "\t IR1 & 484\\\\\n",
       "\t IR2 &  41\\\\\n",
       "\t IR3 &  10\\\\\n",
       "\t Reg & 925\\\\\n",
       "\\end{tabular}\n"
      ],
      "text/markdown": [
       "\n",
       "LotShape | n | \n",
       "|---|---|---|---|\n",
       "| IR1 | 484 | \n",
       "| IR2 |  41 | \n",
       "| IR3 |  10 | \n",
       "| Reg | 925 | \n",
       "\n",
       "\n"
      ],
      "text/plain": [
       "  LotShape n  \n",
       "1 IR1      484\n",
       "2 IR2       41\n",
       "3 IR3       10\n",
       "4 Reg      925"
      ]
     },
     "metadata": {},
     "output_type": "display_data"
    },
    {
     "data": {
      "text/html": [
       "<table>\n",
       "<thead><tr><th scope=col>is_lotshape_regular</th><th scope=col>LotShape</th><th scope=col>n</th></tr></thead>\n",
       "<tbody>\n",
       "\t<tr><td>0  </td><td>IR1</td><td>484</td></tr>\n",
       "\t<tr><td>0  </td><td>IR2</td><td> 41</td></tr>\n",
       "\t<tr><td>0  </td><td>IR3</td><td> 10</td></tr>\n",
       "\t<tr><td>1  </td><td>Reg</td><td>925</td></tr>\n",
       "</tbody>\n",
       "</table>\n"
      ],
      "text/latex": [
       "\\begin{tabular}{r|lll}\n",
       " is\\_lotshape\\_regular & LotShape & n\\\\\n",
       "\\hline\n",
       "\t 0   & IR1 & 484\\\\\n",
       "\t 0   & IR2 &  41\\\\\n",
       "\t 0   & IR3 &  10\\\\\n",
       "\t 1   & Reg & 925\\\\\n",
       "\\end{tabular}\n"
      ],
      "text/markdown": [
       "\n",
       "is_lotshape_regular | LotShape | n | \n",
       "|---|---|---|---|\n",
       "| 0   | IR1 | 484 | \n",
       "| 0   | IR2 |  41 | \n",
       "| 0   | IR3 |  10 | \n",
       "| 1   | Reg | 925 | \n",
       "\n",
       "\n"
      ],
      "text/plain": [
       "  is_lotshape_regular LotShape n  \n",
       "1 0                   IR1      484\n",
       "2 0                   IR2       41\n",
       "3 0                   IR3       10\n",
       "4 1                   Reg      925"
      ]
     },
     "metadata": {},
     "output_type": "display_data"
    }
   ],
   "source": [
    "transform$LotShape <- removify(\n",
    "    function (df) {\n",
    "        df %>% mutate(is_lotshape_regular = ifelse(LotShape == 'Reg', 1, 0))\n",
    "    }, \n",
    "    \"LotShape\")\n",
    "\n",
    "training %>% group_by(LotShape) %>% count\n",
    "tranformed <- transform$LotShape(training, remove=F)\n",
    "tranformed %>% group_by(is_lotshape_regular, LotShape) %>% count"
   ]
  },
  {
   "cell_type": "code",
   "execution_count": 18,
   "metadata": {},
   "outputs": [
    {
     "data": {
      "text/html": [
       "<table>\n",
       "<thead><tr><th scope=col>MiscFeature</th><th scope=col>n</th></tr></thead>\n",
       "<tbody>\n",
       "\t<tr><td>Gar2</td><td>   2</td></tr>\n",
       "\t<tr><td>Othr</td><td>   2</td></tr>\n",
       "\t<tr><td>Shed</td><td>  49</td></tr>\n",
       "\t<tr><td>TenC</td><td>   1</td></tr>\n",
       "\t<tr><td>NA  </td><td>1406</td></tr>\n",
       "</tbody>\n",
       "</table>\n"
      ],
      "text/latex": [
       "\\begin{tabular}{r|ll}\n",
       " MiscFeature & n\\\\\n",
       "\\hline\n",
       "\t Gar2 &    2\\\\\n",
       "\t Othr &    2\\\\\n",
       "\t Shed &   49\\\\\n",
       "\t TenC &    1\\\\\n",
       "\t NA   & 1406\\\\\n",
       "\\end{tabular}\n"
      ],
      "text/markdown": [
       "\n",
       "MiscFeature | n | \n",
       "|---|---|---|---|---|\n",
       "| Gar2 |    2 | \n",
       "| Othr |    2 | \n",
       "| Shed |   49 | \n",
       "| TenC |    1 | \n",
       "| NA   | 1406 | \n",
       "\n",
       "\n"
      ],
      "text/plain": [
       "  MiscFeature n   \n",
       "1 Gar2           2\n",
       "2 Othr           2\n",
       "3 Shed          49\n",
       "4 TenC           1\n",
       "5 NA          1406"
      ]
     },
     "metadata": {},
     "output_type": "display_data"
    },
    {
     "data": {
      "text/html": [
       "<table>\n",
       "<thead><tr><th scope=col>has_misc_feature</th><th scope=col>MiscFeature</th><th scope=col>n</th></tr></thead>\n",
       "<tbody>\n",
       "\t<tr><td>0   </td><td>NA  </td><td>1406</td></tr>\n",
       "\t<tr><td>1   </td><td>Gar2</td><td>   2</td></tr>\n",
       "\t<tr><td>1   </td><td>Othr</td><td>   2</td></tr>\n",
       "\t<tr><td>1   </td><td>Shed</td><td>  49</td></tr>\n",
       "\t<tr><td>1   </td><td>TenC</td><td>   1</td></tr>\n",
       "</tbody>\n",
       "</table>\n"
      ],
      "text/latex": [
       "\\begin{tabular}{r|lll}\n",
       " has\\_misc\\_feature & MiscFeature & n\\\\\n",
       "\\hline\n",
       "\t 0    & NA   & 1406\\\\\n",
       "\t 1    & Gar2 &    2\\\\\n",
       "\t 1    & Othr &    2\\\\\n",
       "\t 1    & Shed &   49\\\\\n",
       "\t 1    & TenC &    1\\\\\n",
       "\\end{tabular}\n"
      ],
      "text/markdown": [
       "\n",
       "has_misc_feature | MiscFeature | n | \n",
       "|---|---|---|---|---|\n",
       "| 0    | NA   | 1406 | \n",
       "| 1    | Gar2 |    2 | \n",
       "| 1    | Othr |    2 | \n",
       "| 1    | Shed |   49 | \n",
       "| 1    | TenC |    1 | \n",
       "\n",
       "\n"
      ],
      "text/plain": [
       "  has_misc_feature MiscFeature n   \n",
       "1 0                NA          1406\n",
       "2 1                Gar2           2\n",
       "3 1                Othr           2\n",
       "4 1                Shed          49\n",
       "5 1                TenC           1"
      ]
     },
     "metadata": {},
     "output_type": "display_data"
    }
   ],
   "source": [
    "transform$MiscFeature <- removify(\n",
    "    function (df) {\n",
    "        df %>% mutate(has_misc_feature = ifelse(!is.na(MiscFeature), 1, 0))\n",
    "    }, \n",
    "    \"MiscFeature\")\n",
    "\n",
    "training %>% group_by(MiscFeature) %>% count\n",
    "tranformed <- transform$MiscFeature(training, remove=F)\n",
    "tranformed %>% group_by(has_misc_feature, MiscFeature) %>% count"
   ]
  },
  {
   "cell_type": "code",
   "execution_count": 19,
   "metadata": {},
   "outputs": [
    {
     "data": {
      "text/html": [
       "<table>\n",
       "<thead><tr><th scope=col>PavedDrive</th><th scope=col>n</th></tr></thead>\n",
       "<tbody>\n",
       "\t<tr><td>N   </td><td>  90</td></tr>\n",
       "\t<tr><td>P   </td><td>  30</td></tr>\n",
       "\t<tr><td>Y   </td><td>1340</td></tr>\n",
       "</tbody>\n",
       "</table>\n"
      ],
      "text/latex": [
       "\\begin{tabular}{r|ll}\n",
       " PavedDrive & n\\\\\n",
       "\\hline\n",
       "\t N    &   90\\\\\n",
       "\t P    &   30\\\\\n",
       "\t Y    & 1340\\\\\n",
       "\\end{tabular}\n"
      ],
      "text/markdown": [
       "\n",
       "PavedDrive | n | \n",
       "|---|---|---|\n",
       "| N    |   90 | \n",
       "| P    |   30 | \n",
       "| Y    | 1340 | \n",
       "\n",
       "\n"
      ],
      "text/plain": [
       "  PavedDrive n   \n",
       "1 N            90\n",
       "2 P            30\n",
       "3 Y          1340"
      ]
     },
     "metadata": {},
     "output_type": "display_data"
    },
    {
     "data": {
      "text/html": [
       "<table>\n",
       "<thead><tr><th scope=col>has_paved_drive</th><th scope=col>PavedDrive</th><th scope=col>n</th></tr></thead>\n",
       "<tbody>\n",
       "\t<tr><td>0   </td><td>N   </td><td>  90</td></tr>\n",
       "\t<tr><td>0   </td><td>P   </td><td>  30</td></tr>\n",
       "\t<tr><td>1   </td><td>Y   </td><td>1340</td></tr>\n",
       "</tbody>\n",
       "</table>\n"
      ],
      "text/latex": [
       "\\begin{tabular}{r|lll}\n",
       " has\\_paved\\_drive & PavedDrive & n\\\\\n",
       "\\hline\n",
       "\t 0    & N    &   90\\\\\n",
       "\t 0    & P    &   30\\\\\n",
       "\t 1    & Y    & 1340\\\\\n",
       "\\end{tabular}\n"
      ],
      "text/markdown": [
       "\n",
       "has_paved_drive | PavedDrive | n | \n",
       "|---|---|---|\n",
       "| 0    | N    |   90 | \n",
       "| 0    | P    |   30 | \n",
       "| 1    | Y    | 1340 | \n",
       "\n",
       "\n"
      ],
      "text/plain": [
       "  has_paved_drive PavedDrive n   \n",
       "1 0               N            90\n",
       "2 0               P            30\n",
       "3 1               Y          1340"
      ]
     },
     "metadata": {},
     "output_type": "display_data"
    }
   ],
   "source": [
    "transform$PavedDrive <- removify(\n",
    "    function (df) {\n",
    "        df %>% mutate(has_paved_drive = ifelse(PavedDrive == 'Y', 1, 0))\n",
    "    }, \n",
    "    \"PavedDrive\")\n",
    "\n",
    "training %>% group_by(PavedDrive) %>% count\n",
    "tranformed <- transform$PavedDrive(training, remove=F)\n",
    "tranformed %>% group_by(has_paved_drive, PavedDrive) %>% count"
   ]
  },
  {
   "cell_type": "code",
   "execution_count": 20,
   "metadata": {},
   "outputs": [
    {
     "data": {
      "text/html": [
       "<table>\n",
       "<thead><tr><th scope=col>PoolQC</th><th scope=col>n</th></tr></thead>\n",
       "<tbody>\n",
       "\t<tr><td>Ex  </td><td>   2</td></tr>\n",
       "\t<tr><td>Fa  </td><td>   2</td></tr>\n",
       "\t<tr><td>Gd  </td><td>   3</td></tr>\n",
       "\t<tr><td>NA  </td><td>1453</td></tr>\n",
       "</tbody>\n",
       "</table>\n"
      ],
      "text/latex": [
       "\\begin{tabular}{r|ll}\n",
       " PoolQC & n\\\\\n",
       "\\hline\n",
       "\t Ex   &    2\\\\\n",
       "\t Fa   &    2\\\\\n",
       "\t Gd   &    3\\\\\n",
       "\t NA   & 1453\\\\\n",
       "\\end{tabular}\n"
      ],
      "text/markdown": [
       "\n",
       "PoolQC | n | \n",
       "|---|---|---|---|\n",
       "| Ex   |    2 | \n",
       "| Fa   |    2 | \n",
       "| Gd   |    3 | \n",
       "| NA   | 1453 | \n",
       "\n",
       "\n"
      ],
      "text/plain": [
       "  PoolQC n   \n",
       "1 Ex        2\n",
       "2 Fa        2\n",
       "3 Gd        3\n",
       "4 NA     1453"
      ]
     },
     "metadata": {},
     "output_type": "display_data"
    },
    {
     "data": {
      "text/html": [
       "<table>\n",
       "<thead><tr><th scope=col>has_pool</th><th scope=col>PoolQC</th><th scope=col>n</th></tr></thead>\n",
       "<tbody>\n",
       "\t<tr><td>0   </td><td>NA  </td><td>1453</td></tr>\n",
       "\t<tr><td>1   </td><td>Ex  </td><td>   2</td></tr>\n",
       "\t<tr><td>1   </td><td>Fa  </td><td>   2</td></tr>\n",
       "\t<tr><td>1   </td><td>Gd  </td><td>   3</td></tr>\n",
       "</tbody>\n",
       "</table>\n"
      ],
      "text/latex": [
       "\\begin{tabular}{r|lll}\n",
       " has\\_pool & PoolQC & n\\\\\n",
       "\\hline\n",
       "\t 0    & NA   & 1453\\\\\n",
       "\t 1    & Ex   &    2\\\\\n",
       "\t 1    & Fa   &    2\\\\\n",
       "\t 1    & Gd   &    3\\\\\n",
       "\\end{tabular}\n"
      ],
      "text/markdown": [
       "\n",
       "has_pool | PoolQC | n | \n",
       "|---|---|---|---|\n",
       "| 0    | NA   | 1453 | \n",
       "| 1    | Ex   |    2 | \n",
       "| 1    | Fa   |    2 | \n",
       "| 1    | Gd   |    3 | \n",
       "\n",
       "\n"
      ],
      "text/plain": [
       "  has_pool PoolQC n   \n",
       "1 0        NA     1453\n",
       "2 1        Ex        2\n",
       "3 1        Fa        2\n",
       "4 1        Gd        3"
      ]
     },
     "metadata": {},
     "output_type": "display_data"
    }
   ],
   "source": [
    "transform$PoolQC <- removify(\n",
    "    function (df) {\n",
    "        df %>% mutate(has_pool = ifelse(!is.na(PoolQC), 1, 0))\n",
    "    }, \n",
    "    \"PoolQC\")\n",
    "\n",
    "training %>% group_by(PoolQC) %>% count\n",
    "tranformed <- transform$PoolQC(training, remove=F)\n",
    "tranformed %>% group_by(has_pool, PoolQC) %>% count"
   ]
  },
  {
   "cell_type": "code",
   "execution_count": 21,
   "metadata": {},
   "outputs": [
    {
     "data": {
      "text/html": [
       "<table>\n",
       "<thead><tr><th scope=col>RoofMatl</th><th scope=col>n</th></tr></thead>\n",
       "<tbody>\n",
       "\t<tr><td>ClyTile</td><td>   1   </td></tr>\n",
       "\t<tr><td>CompShg</td><td>1434   </td></tr>\n",
       "\t<tr><td>Membran</td><td>   1   </td></tr>\n",
       "\t<tr><td>Metal  </td><td>   1   </td></tr>\n",
       "\t<tr><td>Roll   </td><td>   1   </td></tr>\n",
       "\t<tr><td>Tar&amp;Grv                                 </td><td><span style=white-space:pre-wrap>  11</span></td></tr>\n",
       "\t<tr><td>WdShake</td><td>   5   </td></tr>\n",
       "\t<tr><td>WdShngl</td><td>   6   </td></tr>\n",
       "</tbody>\n",
       "</table>\n"
      ],
      "text/latex": [
       "\\begin{tabular}{r|ll}\n",
       " RoofMatl & n\\\\\n",
       "\\hline\n",
       "\t ClyTile &    1   \\\\\n",
       "\t CompShg & 1434   \\\\\n",
       "\t Membran &    1   \\\\\n",
       "\t Metal   &    1   \\\\\n",
       "\t Roll    &    1   \\\\\n",
       "\t Tar\\&Grv &   11     \\\\\n",
       "\t WdShake &    5   \\\\\n",
       "\t WdShngl &    6   \\\\\n",
       "\\end{tabular}\n"
      ],
      "text/markdown": [
       "\n",
       "RoofMatl | n | \n",
       "|---|---|---|---|---|---|---|---|\n",
       "| ClyTile |    1    | \n",
       "| CompShg | 1434    | \n",
       "| Membran |    1    | \n",
       "| Metal   |    1    | \n",
       "| Roll    |    1    | \n",
       "| Tar&Grv |   11    | \n",
       "| WdShake |    5    | \n",
       "| WdShngl |    6    | \n",
       "\n",
       "\n"
      ],
      "text/plain": [
       "  RoofMatl n   \n",
       "1 ClyTile     1\n",
       "2 CompShg  1434\n",
       "3 Membran     1\n",
       "4 Metal       1\n",
       "5 Roll        1\n",
       "6 Tar&Grv    11\n",
       "7 WdShake     5\n",
       "8 WdShngl     6"
      ]
     },
     "metadata": {},
     "output_type": "display_data"
    },
    {
     "data": {
      "text/html": [
       "<table>\n",
       "<thead><tr><th scope=col>standard_roof_material</th><th scope=col>RoofMatl</th><th scope=col>n</th></tr></thead>\n",
       "<tbody>\n",
       "\t<tr><td>0      </td><td>ClyTile</td><td>   1   </td></tr>\n",
       "\t<tr><td>0      </td><td>Membran</td><td>   1   </td></tr>\n",
       "\t<tr><td>0      </td><td>Metal  </td><td>   1   </td></tr>\n",
       "\t<tr><td>0      </td><td>Roll   </td><td>   1   </td></tr>\n",
       "\t<tr><td>0                                           </td><td>Tar&amp;Grv                                 </td><td><span style=white-space:pre-wrap>  11</span></td></tr>\n",
       "\t<tr><td>0      </td><td>WdShake</td><td>   5   </td></tr>\n",
       "\t<tr><td>0      </td><td>WdShngl</td><td>   6   </td></tr>\n",
       "\t<tr><td>1      </td><td>CompShg</td><td>1434   </td></tr>\n",
       "</tbody>\n",
       "</table>\n"
      ],
      "text/latex": [
       "\\begin{tabular}{r|lll}\n",
       " standard\\_roof\\_material & RoofMatl & n\\\\\n",
       "\\hline\n",
       "\t 0       & ClyTile &    1   \\\\\n",
       "\t 0       & Membran &    1   \\\\\n",
       "\t 0       & Metal   &    1   \\\\\n",
       "\t 0       & Roll    &    1   \\\\\n",
       "\t 0         & Tar\\&Grv &   11     \\\\\n",
       "\t 0       & WdShake &    5   \\\\\n",
       "\t 0       & WdShngl &    6   \\\\\n",
       "\t 1       & CompShg & 1434   \\\\\n",
       "\\end{tabular}\n"
      ],
      "text/markdown": [
       "\n",
       "standard_roof_material | RoofMatl | n | \n",
       "|---|---|---|---|---|---|---|---|\n",
       "| 0       | ClyTile |    1    | \n",
       "| 0       | Membran |    1    | \n",
       "| 0       | Metal   |    1    | \n",
       "| 0       | Roll    |    1    | \n",
       "| 0       | Tar&Grv |   11    | \n",
       "| 0       | WdShake |    5    | \n",
       "| 0       | WdShngl |    6    | \n",
       "| 1       | CompShg | 1434    | \n",
       "\n",
       "\n"
      ],
      "text/plain": [
       "  standard_roof_material RoofMatl n   \n",
       "1 0                      ClyTile     1\n",
       "2 0                      Membran     1\n",
       "3 0                      Metal       1\n",
       "4 0                      Roll        1\n",
       "5 0                      Tar&Grv    11\n",
       "6 0                      WdShake     5\n",
       "7 0                      WdShngl     6\n",
       "8 1                      CompShg  1434"
      ]
     },
     "metadata": {},
     "output_type": "display_data"
    }
   ],
   "source": [
    "transform$RoofMatl <- removify(\n",
    "    function (df) {\n",
    "        df %>% mutate(standard_roof_material = ifelse(RoofMatl == 'CompShg', 1, 0))\n",
    "    }, \n",
    "    \"RoofMatl\")\n",
    "\n",
    "training %>% group_by(RoofMatl) %>% count\n",
    "tranformed <- transform$RoofMatl(training, remove=F)\n",
    "tranformed %>% group_by(standard_roof_material, RoofMatl) %>% count"
   ]
  },
  {
   "cell_type": "code",
   "execution_count": 22,
   "metadata": {},
   "outputs": [
    {
     "data": {
      "text/html": [
       "<table>\n",
       "<thead><tr><th scope=col>Street</th><th scope=col>n</th></tr></thead>\n",
       "<tbody>\n",
       "\t<tr><td>Grvl</td><td>   6</td></tr>\n",
       "\t<tr><td>Pave</td><td>1454</td></tr>\n",
       "</tbody>\n",
       "</table>\n"
      ],
      "text/latex": [
       "\\begin{tabular}{r|ll}\n",
       " Street & n\\\\\n",
       "\\hline\n",
       "\t Grvl &    6\\\\\n",
       "\t Pave & 1454\\\\\n",
       "\\end{tabular}\n"
      ],
      "text/markdown": [
       "\n",
       "Street | n | \n",
       "|---|---|\n",
       "| Grvl |    6 | \n",
       "| Pave | 1454 | \n",
       "\n",
       "\n"
      ],
      "text/plain": [
       "  Street n   \n",
       "1 Grvl      6\n",
       "2 Pave   1454"
      ]
     },
     "metadata": {},
     "output_type": "display_data"
    },
    {
     "data": {
      "text/html": [
       "<table>\n",
       "<thead><tr><th scope=col>is_street_paved</th><th scope=col>Street</th><th scope=col>n</th></tr></thead>\n",
       "<tbody>\n",
       "\t<tr><td>0   </td><td>Grvl</td><td>   6</td></tr>\n",
       "\t<tr><td>1   </td><td>Pave</td><td>1454</td></tr>\n",
       "</tbody>\n",
       "</table>\n"
      ],
      "text/latex": [
       "\\begin{tabular}{r|lll}\n",
       " is\\_street\\_paved & Street & n\\\\\n",
       "\\hline\n",
       "\t 0    & Grvl &    6\\\\\n",
       "\t 1    & Pave & 1454\\\\\n",
       "\\end{tabular}\n"
      ],
      "text/markdown": [
       "\n",
       "is_street_paved | Street | n | \n",
       "|---|---|\n",
       "| 0    | Grvl |    6 | \n",
       "| 1    | Pave | 1454 | \n",
       "\n",
       "\n"
      ],
      "text/plain": [
       "  is_street_paved Street n   \n",
       "1 0               Grvl      6\n",
       "2 1               Pave   1454"
      ]
     },
     "metadata": {},
     "output_type": "display_data"
    }
   ],
   "source": [
    "transform$Street <- removify(\n",
    "    function (df) {\n",
    "        df %>% mutate(is_street_paved = ifelse(Street == 'Pave', 1, 0))\n",
    "    }, \n",
    "    \"Street\")\n",
    "\n",
    "training %>% group_by(Street) %>% count\n",
    "tranformed <- transform$Street(training, remove=F)\n",
    "tranformed %>% group_by(is_street_paved, Street) %>% count"
   ]
  },
  {
   "cell_type": "code",
   "execution_count": 57,
   "metadata": {},
   "outputs": [
    {
     "data": {
      "text/html": [
       "<table>\n",
       "<thead><tr><th scope=col>BldgType</th><th scope=col>min(building_type)</th><th scope=col>max(building_type)</th><th scope=col>median(sale_price_log)</th></tr></thead>\n",
       "<tbody>\n",
       "\t<tr><td>1Fam    </td><td>12.03112</td><td>12.03112</td><td>12.03112</td></tr>\n",
       "\t<tr><td>2fmCon  </td><td>11.75587</td><td>11.75587</td><td>11.75587</td></tr>\n",
       "\t<tr><td>Duplex  </td><td>11.82026</td><td>11.82026</td><td>11.82026</td></tr>\n",
       "\t<tr><td>Twnhs   </td><td>11.83138</td><td>11.83138</td><td>11.83138</td></tr>\n",
       "\t<tr><td>TwnhsE  </td><td>12.05641</td><td>12.05641</td><td>12.05641</td></tr>\n",
       "</tbody>\n",
       "</table>\n"
      ],
      "text/latex": [
       "\\begin{tabular}{r|llll}\n",
       " BldgType & min(building\\_type) & max(building\\_type) & median(sale\\_price\\_log)\\\\\n",
       "\\hline\n",
       "\t 1Fam     & 12.03112 & 12.03112 & 12.03112\\\\\n",
       "\t 2fmCon   & 11.75587 & 11.75587 & 11.75587\\\\\n",
       "\t Duplex   & 11.82026 & 11.82026 & 11.82026\\\\\n",
       "\t Twnhs    & 11.83138 & 11.83138 & 11.83138\\\\\n",
       "\t TwnhsE   & 12.05641 & 12.05641 & 12.05641\\\\\n",
       "\\end{tabular}\n"
      ],
      "text/markdown": [
       "\n",
       "BldgType | min(building_type) | max(building_type) | median(sale_price_log) | \n",
       "|---|---|---|---|---|\n",
       "| 1Fam     | 12.03112 | 12.03112 | 12.03112 | \n",
       "| 2fmCon   | 11.75587 | 11.75587 | 11.75587 | \n",
       "| Duplex   | 11.82026 | 11.82026 | 11.82026 | \n",
       "| Twnhs    | 11.83138 | 11.83138 | 11.83138 | \n",
       "| TwnhsE   | 12.05641 | 12.05641 | 12.05641 | \n",
       "\n",
       "\n"
      ],
      "text/plain": [
       "  BldgType min(building_type) max(building_type) median(sale_price_log)\n",
       "1 1Fam     12.03112           12.03112           12.03112              \n",
       "2 2fmCon   11.75587           11.75587           11.75587              \n",
       "3 Duplex   11.82026           11.82026           11.82026              \n",
       "4 Twnhs    11.83138           11.83138           11.83138              \n",
       "5 TwnhsE   12.05641           12.05641           12.05641              "
      ]
     },
     "metadata": {},
     "output_type": "display_data"
    }
   ],
   "source": [
    "xxx <- function (df, attr_name, new_attr_name) {\n",
    "    attr_name <- enquo(attr_name)\n",
    "    df %>% group_by(!!attr_name) %>% mutate(!!new_attr_name := median(sale_price_log))\n",
    "}\n",
    "\n",
    "df <- xxx(training, BldgType, \"building_type\")\n",
    "df %>% group_by(BldgType) %>% summarise(min(building_type), max(building_type), median(sale_price_log))"
   ]
  },
  {
   "cell_type": "code",
   "execution_count": 60,
   "metadata": {
    "collapsed": true
   },
   "outputs": [],
   "source": [
    "group_averaging_tran <- function (attr_name, new_attr_name) {\n",
    "    \n",
    "    attr_name <- enquo(attr_name)\n",
    "    \n",
    "    function (df, remove=T) {\n",
    "        df.new <- df %>%\n",
    "            group_by(!!attr_name) %>%\n",
    "            mutate(!!new_attr_name := median(sale_price_log))\n",
    "        if ( remove ) {\n",
    "            df.new[, attr_name] <- NULL\n",
    "        }\n",
    "        df.new\n",
    "    }\n",
    "}"
   ]
  },
  {
   "cell_type": "code",
   "execution_count": 61,
   "metadata": {},
   "outputs": [
    {
     "data": {
      "text/html": [
       "<table>\n",
       "<thead><tr><th scope=col>BldgType</th><th scope=col>n</th></tr></thead>\n",
       "<tbody>\n",
       "\t<tr><td>1Fam  </td><td>1220  </td></tr>\n",
       "\t<tr><td>2fmCon</td><td>  31  </td></tr>\n",
       "\t<tr><td>Duplex</td><td>  52  </td></tr>\n",
       "\t<tr><td>Twnhs </td><td>  43  </td></tr>\n",
       "\t<tr><td>TwnhsE</td><td> 114  </td></tr>\n",
       "</tbody>\n",
       "</table>\n"
      ],
      "text/latex": [
       "\\begin{tabular}{r|ll}\n",
       " BldgType & n\\\\\n",
       "\\hline\n",
       "\t 1Fam   & 1220  \\\\\n",
       "\t 2fmCon &   31  \\\\\n",
       "\t Duplex &   52  \\\\\n",
       "\t Twnhs  &   43  \\\\\n",
       "\t TwnhsE &  114  \\\\\n",
       "\\end{tabular}\n"
      ],
      "text/markdown": [
       "\n",
       "BldgType | n | \n",
       "|---|---|---|---|---|\n",
       "| 1Fam   | 1220   | \n",
       "| 2fmCon |   31   | \n",
       "| Duplex |   52   | \n",
       "| Twnhs  |   43   | \n",
       "| TwnhsE |  114   | \n",
       "\n",
       "\n"
      ],
      "text/plain": [
       "  BldgType n   \n",
       "1 1Fam     1220\n",
       "2 2fmCon     31\n",
       "3 Duplex     52\n",
       "4 Twnhs      43\n",
       "5 TwnhsE    114"
      ]
     },
     "metadata": {},
     "output_type": "display_data"
    },
    {
     "data": {
      "text/html": [
       "<table>\n",
       "<thead><tr><th scope=col>BldgType</th><th scope=col>min(building_type)</th><th scope=col>max(building_type)</th><th scope=col>median(sale_price_log)</th></tr></thead>\n",
       "<tbody>\n",
       "\t<tr><td>1Fam    </td><td>12.03112</td><td>12.03112</td><td>12.03112</td></tr>\n",
       "\t<tr><td>2fmCon  </td><td>11.75587</td><td>11.75587</td><td>11.75587</td></tr>\n",
       "\t<tr><td>Duplex  </td><td>11.82026</td><td>11.82026</td><td>11.82026</td></tr>\n",
       "\t<tr><td>Twnhs   </td><td>11.83138</td><td>11.83138</td><td>11.83138</td></tr>\n",
       "\t<tr><td>TwnhsE  </td><td>12.05641</td><td>12.05641</td><td>12.05641</td></tr>\n",
       "</tbody>\n",
       "</table>\n"
      ],
      "text/latex": [
       "\\begin{tabular}{r|llll}\n",
       " BldgType & min(building\\_type) & max(building\\_type) & median(sale\\_price\\_log)\\\\\n",
       "\\hline\n",
       "\t 1Fam     & 12.03112 & 12.03112 & 12.03112\\\\\n",
       "\t 2fmCon   & 11.75587 & 11.75587 & 11.75587\\\\\n",
       "\t Duplex   & 11.82026 & 11.82026 & 11.82026\\\\\n",
       "\t Twnhs    & 11.83138 & 11.83138 & 11.83138\\\\\n",
       "\t TwnhsE   & 12.05641 & 12.05641 & 12.05641\\\\\n",
       "\\end{tabular}\n"
      ],
      "text/markdown": [
       "\n",
       "BldgType | min(building_type) | max(building_type) | median(sale_price_log) | \n",
       "|---|---|---|---|---|\n",
       "| 1Fam     | 12.03112 | 12.03112 | 12.03112 | \n",
       "| 2fmCon   | 11.75587 | 11.75587 | 11.75587 | \n",
       "| Duplex   | 11.82026 | 11.82026 | 11.82026 | \n",
       "| Twnhs    | 11.83138 | 11.83138 | 11.83138 | \n",
       "| TwnhsE   | 12.05641 | 12.05641 | 12.05641 | \n",
       "\n",
       "\n"
      ],
      "text/plain": [
       "  BldgType min(building_type) max(building_type) median(sale_price_log)\n",
       "1 1Fam     12.03112           12.03112           12.03112              \n",
       "2 2fmCon   11.75587           11.75587           11.75587              \n",
       "3 Duplex   11.82026           11.82026           11.82026              \n",
       "4 Twnhs    11.83138           11.83138           11.83138              \n",
       "5 TwnhsE   12.05641           12.05641           12.05641              "
      ]
     },
     "metadata": {},
     "output_type": "display_data"
    }
   ],
   "source": [
    "transform$BldgType <- group_averaging_tran(BldgType, \"building_type\")\n",
    "\n",
    "training %>% group_by(BldgType) %>% count\n",
    "tranformed <- transform$BldgType(training, remove=F)\n",
    "\n",
    "tranformed %>% group_by(BldgType) %>% \n",
    "summarise(min(building_type), max(building_type), median(sale_price_log))"
   ]
  },
  {
   "cell_type": "code",
   "execution_count": 63,
   "metadata": {},
   "outputs": [
    {
     "data": {
      "text/html": [
       "<table>\n",
       "<thead><tr><th scope=col>BsmtCond</th><th scope=col>n</th></tr></thead>\n",
       "<tbody>\n",
       "\t<tr><td>Fa  </td><td>  45</td></tr>\n",
       "\t<tr><td>Gd  </td><td>  65</td></tr>\n",
       "\t<tr><td>Po  </td><td>   2</td></tr>\n",
       "\t<tr><td>TA  </td><td>1311</td></tr>\n",
       "\t<tr><td>NA  </td><td>  37</td></tr>\n",
       "</tbody>\n",
       "</table>\n"
      ],
      "text/latex": [
       "\\begin{tabular}{r|ll}\n",
       " BsmtCond & n\\\\\n",
       "\\hline\n",
       "\t Fa   &   45\\\\\n",
       "\t Gd   &   65\\\\\n",
       "\t Po   &    2\\\\\n",
       "\t TA   & 1311\\\\\n",
       "\t NA   &   37\\\\\n",
       "\\end{tabular}\n"
      ],
      "text/markdown": [
       "\n",
       "BsmtCond | n | \n",
       "|---|---|---|---|---|\n",
       "| Fa   |   45 | \n",
       "| Gd   |   65 | \n",
       "| Po   |    2 | \n",
       "| TA   | 1311 | \n",
       "| NA   |   37 | \n",
       "\n",
       "\n"
      ],
      "text/plain": [
       "  BsmtCond n   \n",
       "1 Fa         45\n",
       "2 Gd         65\n",
       "3 Po          2\n",
       "4 TA       1311\n",
       "5 NA         37"
      ]
     },
     "metadata": {},
     "output_type": "display_data"
    },
    {
     "data": {
      "text/html": [
       "<table>\n",
       "<thead><tr><th scope=col>BsmtCond</th><th scope=col>min(basement_condition)</th><th scope=col>max(basement_condition)</th><th scope=col>median(sale_price_log)</th></tr></thead>\n",
       "<tbody>\n",
       "\t<tr><td>Fa      </td><td>11.68267</td><td>11.68267</td><td>11.68267</td></tr>\n",
       "\t<tr><td>Gd      </td><td>12.17499</td><td>12.17499</td><td>12.17499</td></tr>\n",
       "\t<tr><td>Po      </td><td>11.06554</td><td>11.06554</td><td>11.06554</td></tr>\n",
       "\t<tr><td>TA      </td><td>12.01370</td><td>12.01370</td><td>12.01370</td></tr>\n",
       "\t<tr><td>NA      </td><td>11.53077</td><td>11.53077</td><td>11.53077</td></tr>\n",
       "</tbody>\n",
       "</table>\n"
      ],
      "text/latex": [
       "\\begin{tabular}{r|llll}\n",
       " BsmtCond & min(basement\\_condition) & max(basement\\_condition) & median(sale\\_price\\_log)\\\\\n",
       "\\hline\n",
       "\t Fa       & 11.68267 & 11.68267 & 11.68267\\\\\n",
       "\t Gd       & 12.17499 & 12.17499 & 12.17499\\\\\n",
       "\t Po       & 11.06554 & 11.06554 & 11.06554\\\\\n",
       "\t TA       & 12.01370 & 12.01370 & 12.01370\\\\\n",
       "\t NA       & 11.53077 & 11.53077 & 11.53077\\\\\n",
       "\\end{tabular}\n"
      ],
      "text/markdown": [
       "\n",
       "BsmtCond | min(basement_condition) | max(basement_condition) | median(sale_price_log) | \n",
       "|---|---|---|---|---|\n",
       "| Fa       | 11.68267 | 11.68267 | 11.68267 | \n",
       "| Gd       | 12.17499 | 12.17499 | 12.17499 | \n",
       "| Po       | 11.06554 | 11.06554 | 11.06554 | \n",
       "| TA       | 12.01370 | 12.01370 | 12.01370 | \n",
       "| NA       | 11.53077 | 11.53077 | 11.53077 | \n",
       "\n",
       "\n"
      ],
      "text/plain": [
       "  BsmtCond min(basement_condition) max(basement_condition)\n",
       "1 Fa       11.68267                11.68267               \n",
       "2 Gd       12.17499                12.17499               \n",
       "3 Po       11.06554                11.06554               \n",
       "4 TA       12.01370                12.01370               \n",
       "5 NA       11.53077                11.53077               \n",
       "  median(sale_price_log)\n",
       "1 11.68267              \n",
       "2 12.17499              \n",
       "3 11.06554              \n",
       "4 12.01370              \n",
       "5 11.53077              "
      ]
     },
     "metadata": {},
     "output_type": "display_data"
    }
   ],
   "source": [
    "transform$BsmtCond <- group_averaging_tran(BsmtCond, \"basement_condition\")\n",
    "\n",
    "training %>% group_by(BsmtCond) %>% count\n",
    "tranformed <- transform$BsmtCond(training, remove=F)\n",
    "\n",
    "tranformed %>% group_by(BsmtCond) %>% \n",
    "summarise(min(basement_condition), max(basement_condition), median(sale_price_log))"
   ]
  },
  {
   "cell_type": "code",
   "execution_count": 65,
   "metadata": {},
   "outputs": [
    {
     "data": {
      "text/html": [
       "<table>\n",
       "<thead><tr><th scope=col>BsmtExposure</th><th scope=col>n</th></tr></thead>\n",
       "<tbody>\n",
       "\t<tr><td>Av </td><td>221</td></tr>\n",
       "\t<tr><td>Gd </td><td>134</td></tr>\n",
       "\t<tr><td>Mn </td><td>114</td></tr>\n",
       "\t<tr><td>No </td><td>953</td></tr>\n",
       "\t<tr><td>NA </td><td> 38</td></tr>\n",
       "</tbody>\n",
       "</table>\n"
      ],
      "text/latex": [
       "\\begin{tabular}{r|ll}\n",
       " BsmtExposure & n\\\\\n",
       "\\hline\n",
       "\t Av  & 221\\\\\n",
       "\t Gd  & 134\\\\\n",
       "\t Mn  & 114\\\\\n",
       "\t No  & 953\\\\\n",
       "\t NA  &  38\\\\\n",
       "\\end{tabular}\n"
      ],
      "text/markdown": [
       "\n",
       "BsmtExposure | n | \n",
       "|---|---|---|---|---|\n",
       "| Av  | 221 | \n",
       "| Gd  | 134 | \n",
       "| Mn  | 114 | \n",
       "| No  | 953 | \n",
       "| NA  |  38 | \n",
       "\n",
       "\n"
      ],
      "text/plain": [
       "  BsmtExposure n  \n",
       "1 Av           221\n",
       "2 Gd           134\n",
       "3 Mn           114\n",
       "4 No           953\n",
       "5 NA            38"
      ]
     },
     "metadata": {},
     "output_type": "display_data"
    },
    {
     "data": {
      "text/html": [
       "<table>\n",
       "<thead><tr><th scope=col>BsmtExposure</th><th scope=col>min(basement_exposure)</th><th scope=col>max(basement_exposure)</th><th scope=col>median(sale_price_log)</th></tr></thead>\n",
       "<tbody>\n",
       "\t<tr><td>Av      </td><td>12.13270</td><td>12.13270</td><td>12.13270</td></tr>\n",
       "\t<tr><td>Gd      </td><td>12.33256</td><td>12.33256</td><td>12.33256</td></tr>\n",
       "\t<tr><td>Mn      </td><td>12.11413</td><td>12.11413</td><td>12.11413</td></tr>\n",
       "\t<tr><td>No      </td><td>11.94471</td><td>11.94471</td><td>11.94471</td></tr>\n",
       "\t<tr><td>NA      </td><td>11.55216</td><td>11.55216</td><td>11.55216</td></tr>\n",
       "</tbody>\n",
       "</table>\n"
      ],
      "text/latex": [
       "\\begin{tabular}{r|llll}\n",
       " BsmtExposure & min(basement\\_exposure) & max(basement\\_exposure) & median(sale\\_price\\_log)\\\\\n",
       "\\hline\n",
       "\t Av       & 12.13270 & 12.13270 & 12.13270\\\\\n",
       "\t Gd       & 12.33256 & 12.33256 & 12.33256\\\\\n",
       "\t Mn       & 12.11413 & 12.11413 & 12.11413\\\\\n",
       "\t No       & 11.94471 & 11.94471 & 11.94471\\\\\n",
       "\t NA       & 11.55216 & 11.55216 & 11.55216\\\\\n",
       "\\end{tabular}\n"
      ],
      "text/markdown": [
       "\n",
       "BsmtExposure | min(basement_exposure) | max(basement_exposure) | median(sale_price_log) | \n",
       "|---|---|---|---|---|\n",
       "| Av       | 12.13270 | 12.13270 | 12.13270 | \n",
       "| Gd       | 12.33256 | 12.33256 | 12.33256 | \n",
       "| Mn       | 12.11413 | 12.11413 | 12.11413 | \n",
       "| No       | 11.94471 | 11.94471 | 11.94471 | \n",
       "| NA       | 11.55216 | 11.55216 | 11.55216 | \n",
       "\n",
       "\n"
      ],
      "text/plain": [
       "  BsmtExposure min(basement_exposure) max(basement_exposure)\n",
       "1 Av           12.13270               12.13270              \n",
       "2 Gd           12.33256               12.33256              \n",
       "3 Mn           12.11413               12.11413              \n",
       "4 No           11.94471               11.94471              \n",
       "5 NA           11.55216               11.55216              \n",
       "  median(sale_price_log)\n",
       "1 12.13270              \n",
       "2 12.33256              \n",
       "3 12.11413              \n",
       "4 11.94471              \n",
       "5 11.55216              "
      ]
     },
     "metadata": {},
     "output_type": "display_data"
    }
   ],
   "source": [
    "transform$BsmtExposure <- group_averaging_tran(BsmtExposure, \"basement_exposure\")\n",
    "\n",
    "training %>% group_by(BsmtExposure) %>% count\n",
    "tranformed <- transform$BsmtExposure(training, remove=F)\n",
    "\n",
    "tranformed %>% group_by(BsmtExposure) %>% \n",
    "summarise(min(basement_exposure), max(basement_exposure), median(sale_price_log))"
   ]
  },
  {
   "cell_type": "code",
   "execution_count": 68,
   "metadata": {},
   "outputs": [
    {
     "data": {
      "text/html": [
       "<table>\n",
       "<thead><tr><th scope=col>BsmtFinType1</th><th scope=col>n</th></tr></thead>\n",
       "<tbody>\n",
       "\t<tr><td>ALQ</td><td>220</td></tr>\n",
       "\t<tr><td>BLQ</td><td>148</td></tr>\n",
       "\t<tr><td>GLQ</td><td>418</td></tr>\n",
       "\t<tr><td>LwQ</td><td> 74</td></tr>\n",
       "\t<tr><td>Rec</td><td>133</td></tr>\n",
       "\t<tr><td>Unf</td><td>430</td></tr>\n",
       "\t<tr><td>NA </td><td> 37</td></tr>\n",
       "</tbody>\n",
       "</table>\n"
      ],
      "text/latex": [
       "\\begin{tabular}{r|ll}\n",
       " BsmtFinType1 & n\\\\\n",
       "\\hline\n",
       "\t ALQ & 220\\\\\n",
       "\t BLQ & 148\\\\\n",
       "\t GLQ & 418\\\\\n",
       "\t LwQ &  74\\\\\n",
       "\t Rec & 133\\\\\n",
       "\t Unf & 430\\\\\n",
       "\t NA  &  37\\\\\n",
       "\\end{tabular}\n"
      ],
      "text/markdown": [
       "\n",
       "BsmtFinType1 | n | \n",
       "|---|---|---|---|---|---|---|\n",
       "| ALQ | 220 | \n",
       "| BLQ | 148 | \n",
       "| GLQ | 418 | \n",
       "| LwQ |  74 | \n",
       "| Rec | 133 | \n",
       "| Unf | 430 | \n",
       "| NA  |  37 | \n",
       "\n",
       "\n"
      ],
      "text/plain": [
       "  BsmtFinType1 n  \n",
       "1 ALQ          220\n",
       "2 BLQ          148\n",
       "3 GLQ          418\n",
       "4 LwQ           74\n",
       "5 Rec          133\n",
       "6 Unf          430\n",
       "7 NA            37"
      ]
     },
     "metadata": {},
     "output_type": "display_data"
    },
    {
     "data": {
      "text/html": [
       "<table>\n",
       "<thead><tr><th scope=col>BsmtFinType1</th><th scope=col>min(basement_finish1)</th><th scope=col>max(basement_finish1)</th><th scope=col>median(sale_price_log)</th></tr></thead>\n",
       "<tbody>\n",
       "\t<tr><td>ALQ     </td><td>11.91338</td><td>11.91338</td><td>11.91338</td></tr>\n",
       "\t<tr><td>BLQ     </td><td>11.84295</td><td>11.84295</td><td>11.84295</td></tr>\n",
       "\t<tr><td>GLQ     </td><td>12.27256</td><td>12.27256</td><td>12.27256</td></tr>\n",
       "\t<tr><td>LwQ     </td><td>11.84223</td><td>11.84223</td><td>11.84223</td></tr>\n",
       "\t<tr><td>Rec     </td><td>11.86358</td><td>11.86358</td><td>11.86358</td></tr>\n",
       "\t<tr><td>Unf     </td><td>11.99381</td><td>11.99381</td><td>11.99381</td></tr>\n",
       "\t<tr><td>NA      </td><td>11.53077</td><td>11.53077</td><td>11.53077</td></tr>\n",
       "</tbody>\n",
       "</table>\n"
      ],
      "text/latex": [
       "\\begin{tabular}{r|llll}\n",
       " BsmtFinType1 & min(basement\\_finish1) & max(basement\\_finish1) & median(sale\\_price\\_log)\\\\\n",
       "\\hline\n",
       "\t ALQ      & 11.91338 & 11.91338 & 11.91338\\\\\n",
       "\t BLQ      & 11.84295 & 11.84295 & 11.84295\\\\\n",
       "\t GLQ      & 12.27256 & 12.27256 & 12.27256\\\\\n",
       "\t LwQ      & 11.84223 & 11.84223 & 11.84223\\\\\n",
       "\t Rec      & 11.86358 & 11.86358 & 11.86358\\\\\n",
       "\t Unf      & 11.99381 & 11.99381 & 11.99381\\\\\n",
       "\t NA       & 11.53077 & 11.53077 & 11.53077\\\\\n",
       "\\end{tabular}\n"
      ],
      "text/markdown": [
       "\n",
       "BsmtFinType1 | min(basement_finish1) | max(basement_finish1) | median(sale_price_log) | \n",
       "|---|---|---|---|---|---|---|\n",
       "| ALQ      | 11.91338 | 11.91338 | 11.91338 | \n",
       "| BLQ      | 11.84295 | 11.84295 | 11.84295 | \n",
       "| GLQ      | 12.27256 | 12.27256 | 12.27256 | \n",
       "| LwQ      | 11.84223 | 11.84223 | 11.84223 | \n",
       "| Rec      | 11.86358 | 11.86358 | 11.86358 | \n",
       "| Unf      | 11.99381 | 11.99381 | 11.99381 | \n",
       "| NA       | 11.53077 | 11.53077 | 11.53077 | \n",
       "\n",
       "\n"
      ],
      "text/plain": [
       "  BsmtFinType1 min(basement_finish1) max(basement_finish1)\n",
       "1 ALQ          11.91338              11.91338             \n",
       "2 BLQ          11.84295              11.84295             \n",
       "3 GLQ          12.27256              12.27256             \n",
       "4 LwQ          11.84223              11.84223             \n",
       "5 Rec          11.86358              11.86358             \n",
       "6 Unf          11.99381              11.99381             \n",
       "7 NA           11.53077              11.53077             \n",
       "  median(sale_price_log)\n",
       "1 11.91338              \n",
       "2 11.84295              \n",
       "3 12.27256              \n",
       "4 11.84223              \n",
       "5 11.86358              \n",
       "6 11.99381              \n",
       "7 11.53077              "
      ]
     },
     "metadata": {},
     "output_type": "display_data"
    }
   ],
   "source": [
    "transform$BsmtFinType1 <- group_averaging_tran(BsmtFinType1, \"basement_finish1\")\n",
    "\n",
    "training %>% group_by(BsmtFinType1) %>% count\n",
    "tranformed <- transform$BsmtFinType1(training, remove=F)\n",
    "\n",
    "tranformed %>% group_by(BsmtFinType1) %>% \n",
    "summarise(min(basement_finish1), max(basement_finish1), median(sale_price_log))"
   ]
  },
  {
   "cell_type": "code",
   "execution_count": 71,
   "metadata": {},
   "outputs": [
    {
     "data": {
      "text/html": [
       "<table>\n",
       "<thead><tr><th scope=col>BsmtFinType2</th><th scope=col>n</th></tr></thead>\n",
       "<tbody>\n",
       "\t<tr><td>ALQ </td><td>  19</td></tr>\n",
       "\t<tr><td>BLQ </td><td>  33</td></tr>\n",
       "\t<tr><td>GLQ </td><td>  14</td></tr>\n",
       "\t<tr><td>LwQ </td><td>  46</td></tr>\n",
       "\t<tr><td>Rec </td><td>  54</td></tr>\n",
       "\t<tr><td>Unf </td><td>1256</td></tr>\n",
       "\t<tr><td>NA  </td><td>  38</td></tr>\n",
       "</tbody>\n",
       "</table>\n"
      ],
      "text/latex": [
       "\\begin{tabular}{r|ll}\n",
       " BsmtFinType2 & n\\\\\n",
       "\\hline\n",
       "\t ALQ  &   19\\\\\n",
       "\t BLQ  &   33\\\\\n",
       "\t GLQ  &   14\\\\\n",
       "\t LwQ  &   46\\\\\n",
       "\t Rec  &   54\\\\\n",
       "\t Unf  & 1256\\\\\n",
       "\t NA   &   38\\\\\n",
       "\\end{tabular}\n"
      ],
      "text/markdown": [
       "\n",
       "BsmtFinType2 | n | \n",
       "|---|---|---|---|---|---|---|\n",
       "| ALQ  |   19 | \n",
       "| BLQ  |   33 | \n",
       "| GLQ  |   14 | \n",
       "| LwQ  |   46 | \n",
       "| Rec  |   54 | \n",
       "| Unf  | 1256 | \n",
       "| NA   |   38 | \n",
       "\n",
       "\n"
      ],
      "text/plain": [
       "  BsmtFinType2 n   \n",
       "1 ALQ            19\n",
       "2 BLQ            33\n",
       "3 GLQ            14\n",
       "4 LwQ            46\n",
       "5 Rec            54\n",
       "6 Unf          1256\n",
       "7 NA             38"
      ]
     },
     "metadata": {},
     "output_type": "display_data"
    },
    {
     "data": {
      "text/html": [
       "<table>\n",
       "<thead><tr><th scope=col>BsmtFinType2</th><th scope=col>min(basement_finish2)</th><th scope=col>max(basement_finish2)</th><th scope=col>median(sale_price_log)</th></tr></thead>\n",
       "<tbody>\n",
       "\t<tr><td>ALQ     </td><td>12.07197</td><td>12.07197</td><td>12.07197</td></tr>\n",
       "\t<tr><td>BLQ     </td><td>11.87060</td><td>11.87060</td><td>11.87060</td></tr>\n",
       "\t<tr><td>GLQ     </td><td>12.22033</td><td>12.22033</td><td>12.22033</td></tr>\n",
       "\t<tr><td>LwQ     </td><td>11.94469</td><td>11.94469</td><td>11.94469</td></tr>\n",
       "\t<tr><td>Rec     </td><td>11.90995</td><td>11.90995</td><td>11.90995</td></tr>\n",
       "\t<tr><td>Unf     </td><td>12.02575</td><td>12.02575</td><td>12.02575</td></tr>\n",
       "\t<tr><td>NA      </td><td>11.55216</td><td>11.55216</td><td>11.55216</td></tr>\n",
       "</tbody>\n",
       "</table>\n"
      ],
      "text/latex": [
       "\\begin{tabular}{r|llll}\n",
       " BsmtFinType2 & min(basement\\_finish2) & max(basement\\_finish2) & median(sale\\_price\\_log)\\\\\n",
       "\\hline\n",
       "\t ALQ      & 12.07197 & 12.07197 & 12.07197\\\\\n",
       "\t BLQ      & 11.87060 & 11.87060 & 11.87060\\\\\n",
       "\t GLQ      & 12.22033 & 12.22033 & 12.22033\\\\\n",
       "\t LwQ      & 11.94469 & 11.94469 & 11.94469\\\\\n",
       "\t Rec      & 11.90995 & 11.90995 & 11.90995\\\\\n",
       "\t Unf      & 12.02575 & 12.02575 & 12.02575\\\\\n",
       "\t NA       & 11.55216 & 11.55216 & 11.55216\\\\\n",
       "\\end{tabular}\n"
      ],
      "text/markdown": [
       "\n",
       "BsmtFinType2 | min(basement_finish2) | max(basement_finish2) | median(sale_price_log) | \n",
       "|---|---|---|---|---|---|---|\n",
       "| ALQ      | 12.07197 | 12.07197 | 12.07197 | \n",
       "| BLQ      | 11.87060 | 11.87060 | 11.87060 | \n",
       "| GLQ      | 12.22033 | 12.22033 | 12.22033 | \n",
       "| LwQ      | 11.94469 | 11.94469 | 11.94469 | \n",
       "| Rec      | 11.90995 | 11.90995 | 11.90995 | \n",
       "| Unf      | 12.02575 | 12.02575 | 12.02575 | \n",
       "| NA       | 11.55216 | 11.55216 | 11.55216 | \n",
       "\n",
       "\n"
      ],
      "text/plain": [
       "  BsmtFinType2 min(basement_finish2) max(basement_finish2)\n",
       "1 ALQ          12.07197              12.07197             \n",
       "2 BLQ          11.87060              11.87060             \n",
       "3 GLQ          12.22033              12.22033             \n",
       "4 LwQ          11.94469              11.94469             \n",
       "5 Rec          11.90995              11.90995             \n",
       "6 Unf          12.02575              12.02575             \n",
       "7 NA           11.55216              11.55216             \n",
       "  median(sale_price_log)\n",
       "1 12.07197              \n",
       "2 11.87060              \n",
       "3 12.22033              \n",
       "4 11.94469              \n",
       "5 11.90995              \n",
       "6 12.02575              \n",
       "7 11.55216              "
      ]
     },
     "metadata": {},
     "output_type": "display_data"
    }
   ],
   "source": [
    "transform$BsmtFinType2 <- group_averaging_tran(BsmtFinType2, \"basement_finish2\")\n",
    "\n",
    "training %>% group_by(BsmtFinType2) %>% count\n",
    "tranformed <- transform$BsmtFinType2(training, remove=F)\n",
    "\n",
    "tranformed %>% group_by(BsmtFinType2) %>% \n",
    "summarise(min(basement_finish2), max(basement_finish2), median(sale_price_log))"
   ]
  },
  {
   "cell_type": "code",
   "execution_count": 73,
   "metadata": {},
   "outputs": [
    {
     "data": {
      "text/html": [
       "<table>\n",
       "<thead><tr><th scope=col>BsmtQual</th><th scope=col>n</th></tr></thead>\n",
       "<tbody>\n",
       "\t<tr><td>Ex </td><td>121</td></tr>\n",
       "\t<tr><td>Fa </td><td> 35</td></tr>\n",
       "\t<tr><td>Gd </td><td>618</td></tr>\n",
       "\t<tr><td>TA </td><td>649</td></tr>\n",
       "\t<tr><td>NA </td><td> 37</td></tr>\n",
       "</tbody>\n",
       "</table>\n"
      ],
      "text/latex": [
       "\\begin{tabular}{r|ll}\n",
       " BsmtQual & n\\\\\n",
       "\\hline\n",
       "\t Ex  & 121\\\\\n",
       "\t Fa  &  35\\\\\n",
       "\t Gd  & 618\\\\\n",
       "\t TA  & 649\\\\\n",
       "\t NA  &  37\\\\\n",
       "\\end{tabular}\n"
      ],
      "text/markdown": [
       "\n",
       "BsmtQual | n | \n",
       "|---|---|---|---|---|\n",
       "| Ex  | 121 | \n",
       "| Fa  |  35 | \n",
       "| Gd  | 618 | \n",
       "| TA  | 649 | \n",
       "| NA  |  37 | \n",
       "\n",
       "\n"
      ],
      "text/plain": [
       "  BsmtQual n  \n",
       "1 Ex       121\n",
       "2 Fa        35\n",
       "3 Gd       618\n",
       "4 TA       649\n",
       "5 NA        37"
      ]
     },
     "metadata": {},
     "output_type": "display_data"
    },
    {
     "data": {
      "text/html": [
       "<table>\n",
       "<thead><tr><th scope=col>BsmtQual</th><th scope=col>min(basement_height_quality)</th><th scope=col>max(basement_height_quality)</th><th scope=col>median(sale_price_log)</th></tr></thead>\n",
       "<tbody>\n",
       "\t<tr><td>Ex      </td><td>12.66981</td><td>12.66981</td><td>12.66981</td></tr>\n",
       "\t<tr><td>Fa      </td><td>11.62625</td><td>11.62625</td><td>11.62625</td></tr>\n",
       "\t<tr><td>Gd      </td><td>12.16562</td><td>12.16562</td><td>12.16562</td></tr>\n",
       "\t<tr><td>TA      </td><td>11.81673</td><td>11.81673</td><td>11.81673</td></tr>\n",
       "\t<tr><td>NA      </td><td>11.53077</td><td>11.53077</td><td>11.53077</td></tr>\n",
       "</tbody>\n",
       "</table>\n"
      ],
      "text/latex": [
       "\\begin{tabular}{r|llll}\n",
       " BsmtQual & min(basement\\_height\\_quality) & max(basement\\_height\\_quality) & median(sale\\_price\\_log)\\\\\n",
       "\\hline\n",
       "\t Ex       & 12.66981 & 12.66981 & 12.66981\\\\\n",
       "\t Fa       & 11.62625 & 11.62625 & 11.62625\\\\\n",
       "\t Gd       & 12.16562 & 12.16562 & 12.16562\\\\\n",
       "\t TA       & 11.81673 & 11.81673 & 11.81673\\\\\n",
       "\t NA       & 11.53077 & 11.53077 & 11.53077\\\\\n",
       "\\end{tabular}\n"
      ],
      "text/markdown": [
       "\n",
       "BsmtQual | min(basement_height_quality) | max(basement_height_quality) | median(sale_price_log) | \n",
       "|---|---|---|---|---|\n",
       "| Ex       | 12.66981 | 12.66981 | 12.66981 | \n",
       "| Fa       | 11.62625 | 11.62625 | 11.62625 | \n",
       "| Gd       | 12.16562 | 12.16562 | 12.16562 | \n",
       "| TA       | 11.81673 | 11.81673 | 11.81673 | \n",
       "| NA       | 11.53077 | 11.53077 | 11.53077 | \n",
       "\n",
       "\n"
      ],
      "text/plain": [
       "  BsmtQual min(basement_height_quality) max(basement_height_quality)\n",
       "1 Ex       12.66981                     12.66981                    \n",
       "2 Fa       11.62625                     11.62625                    \n",
       "3 Gd       12.16562                     12.16562                    \n",
       "4 TA       11.81673                     11.81673                    \n",
       "5 NA       11.53077                     11.53077                    \n",
       "  median(sale_price_log)\n",
       "1 12.66981              \n",
       "2 11.62625              \n",
       "3 12.16562              \n",
       "4 11.81673              \n",
       "5 11.53077              "
      ]
     },
     "metadata": {},
     "output_type": "display_data"
    }
   ],
   "source": [
    "transform$BsmtQual <- group_averaging_tran(BsmtQual, \"basement_height_quality\")\n",
    "\n",
    "training %>% group_by(BsmtQual) %>% count\n",
    "tranformed <- transform$BsmtQual(training, remove=F)\n",
    "\n",
    "tranformed %>% group_by(BsmtQual) %>% \n",
    "summarise(min(basement_height_quality), max(basement_height_quality), median(sale_price_log))"
   ]
  },
  {
   "cell_type": "code",
   "execution_count": 130,
   "metadata": {},
   "outputs": [
    {
     "data": {
      "text/html": [
       "<table>\n",
       "<thead><tr><th scope=col>Fence</th><th scope=col>n</th><th scope=col>avg_price</th></tr></thead>\n",
       "<tbody>\n",
       "\t<tr><td>GdPrv   </td><td>  59    </td><td>12.02874</td></tr>\n",
       "\t<tr><td>GdWo    </td><td>  54    </td><td>11.84043</td></tr>\n",
       "\t<tr><td>MnPrv   </td><td> 157    </td><td>11.83102</td></tr>\n",
       "\t<tr><td>MnWw    </td><td>  11    </td><td>11.77529</td></tr>\n",
       "\t<tr><td>NA      </td><td>1179    </td><td>12.06105</td></tr>\n",
       "</tbody>\n",
       "</table>\n"
      ],
      "text/latex": [
       "\\begin{tabular}{r|lll}\n",
       " Fence & n & avg\\_price\\\\\n",
       "\\hline\n",
       "\t GdPrv    &   59     & 12.02874\\\\\n",
       "\t GdWo     &   54     & 11.84043\\\\\n",
       "\t MnPrv    &  157     & 11.83102\\\\\n",
       "\t MnWw     &   11     & 11.77529\\\\\n",
       "\t NA       & 1179     & 12.06105\\\\\n",
       "\\end{tabular}\n"
      ],
      "text/markdown": [
       "\n",
       "Fence | n | avg_price | \n",
       "|---|---|---|---|---|\n",
       "| GdPrv    |   59     | 12.02874 | \n",
       "| GdWo     |   54     | 11.84043 | \n",
       "| MnPrv    |  157     | 11.83102 | \n",
       "| MnWw     |   11     | 11.77529 | \n",
       "| NA       | 1179     | 12.06105 | \n",
       "\n",
       "\n"
      ],
      "text/plain": [
       "  Fence n    avg_price\n",
       "1 GdPrv   59 12.02874 \n",
       "2 GdWo    54 11.84043 \n",
       "3 MnPrv  157 11.83102 \n",
       "4 MnWw    11 11.77529 \n",
       "5 NA    1179 12.06105 "
      ]
     },
     "metadata": {},
     "output_type": "display_data"
    },
    {
     "data": {
      "text/html": [
       "<table>\n",
       "<thead><tr><th scope=col>Fence</th><th scope=col>min(fence)</th><th scope=col>max(fence)</th><th scope=col>median(sale_price_log)</th></tr></thead>\n",
       "<tbody>\n",
       "\t<tr><td>GdPrv   </td><td>12.02874</td><td>12.02874</td><td>12.02874</td></tr>\n",
       "\t<tr><td>GdWo    </td><td>11.84043</td><td>11.84043</td><td>11.84043</td></tr>\n",
       "\t<tr><td>MnPrv   </td><td>11.83102</td><td>11.83102</td><td>11.83102</td></tr>\n",
       "\t<tr><td>MnWw    </td><td>11.77529</td><td>11.77529</td><td>11.77529</td></tr>\n",
       "\t<tr><td>NA      </td><td>12.06105</td><td>12.06105</td><td>12.06105</td></tr>\n",
       "</tbody>\n",
       "</table>\n"
      ],
      "text/latex": [
       "\\begin{tabular}{r|llll}\n",
       " Fence & min(fence) & max(fence) & median(sale\\_price\\_log)\\\\\n",
       "\\hline\n",
       "\t GdPrv    & 12.02874 & 12.02874 & 12.02874\\\\\n",
       "\t GdWo     & 11.84043 & 11.84043 & 11.84043\\\\\n",
       "\t MnPrv    & 11.83102 & 11.83102 & 11.83102\\\\\n",
       "\t MnWw     & 11.77529 & 11.77529 & 11.77529\\\\\n",
       "\t NA       & 12.06105 & 12.06105 & 12.06105\\\\\n",
       "\\end{tabular}\n"
      ],
      "text/markdown": [
       "\n",
       "Fence | min(fence) | max(fence) | median(sale_price_log) | \n",
       "|---|---|---|---|---|\n",
       "| GdPrv    | 12.02874 | 12.02874 | 12.02874 | \n",
       "| GdWo     | 11.84043 | 11.84043 | 11.84043 | \n",
       "| MnPrv    | 11.83102 | 11.83102 | 11.83102 | \n",
       "| MnWw     | 11.77529 | 11.77529 | 11.77529 | \n",
       "| NA       | 12.06105 | 12.06105 | 12.06105 | \n",
       "\n",
       "\n"
      ],
      "text/plain": [
       "  Fence min(fence) max(fence) median(sale_price_log)\n",
       "1 GdPrv 12.02874   12.02874   12.02874              \n",
       "2 GdWo  11.84043   11.84043   11.84043              \n",
       "3 MnPrv 11.83102   11.83102   11.83102              \n",
       "4 MnWw  11.77529   11.77529   11.77529              \n",
       "5 NA    12.06105   12.06105   12.06105              "
      ]
     },
     "metadata": {},
     "output_type": "display_data"
    }
   ],
   "source": [
    "training %>% group_by(Fence) %>% summarise(n=n(), avg_price=median(sale_price_log))\n",
    "\n",
    "transform$Fence <- group_averaging_tran(Fence, \"fence\")\n",
    "\n",
    "tranformed <- transform$Fence(training, remove=F)\n",
    "\n",
    "tranformed %>% group_by(Fence) %>% \n",
    "summarise(min(fence), max(fence), median(sale_price_log))"
   ]
  },
  {
   "cell_type": "code",
   "execution_count": 131,
   "metadata": {},
   "outputs": [
    {
     "data": {
      "text/html": [
       "<table>\n",
       "<thead><tr><th scope=col>FireplaceQu</th><th scope=col>n</th><th scope=col>avg_price</th></tr></thead>\n",
       "<tbody>\n",
       "\t<tr><td>Ex      </td><td> 24     </td><td>12.65794</td></tr>\n",
       "\t<tr><td>Fa      </td><td> 33     </td><td>11.97035</td></tr>\n",
       "\t<tr><td>Gd      </td><td>380     </td><td>12.24023</td></tr>\n",
       "\t<tr><td>Po      </td><td> 20     </td><td>11.78658</td></tr>\n",
       "\t<tr><td>TA      </td><td>313     </td><td>12.14153</td></tr>\n",
       "\t<tr><td>NA      </td><td>690     </td><td>11.81303</td></tr>\n",
       "</tbody>\n",
       "</table>\n"
      ],
      "text/latex": [
       "\\begin{tabular}{r|lll}\n",
       " FireplaceQu & n & avg\\_price\\\\\n",
       "\\hline\n",
       "\t Ex       &  24      & 12.65794\\\\\n",
       "\t Fa       &  33      & 11.97035\\\\\n",
       "\t Gd       & 380      & 12.24023\\\\\n",
       "\t Po       &  20      & 11.78658\\\\\n",
       "\t TA       & 313      & 12.14153\\\\\n",
       "\t NA       & 690      & 11.81303\\\\\n",
       "\\end{tabular}\n"
      ],
      "text/markdown": [
       "\n",
       "FireplaceQu | n | avg_price | \n",
       "|---|---|---|---|---|---|\n",
       "| Ex       |  24      | 12.65794 | \n",
       "| Fa       |  33      | 11.97035 | \n",
       "| Gd       | 380      | 12.24023 | \n",
       "| Po       |  20      | 11.78658 | \n",
       "| TA       | 313      | 12.14153 | \n",
       "| NA       | 690      | 11.81303 | \n",
       "\n",
       "\n"
      ],
      "text/plain": [
       "  FireplaceQu n   avg_price\n",
       "1 Ex           24 12.65794 \n",
       "2 Fa           33 11.97035 \n",
       "3 Gd          380 12.24023 \n",
       "4 Po           20 11.78658 \n",
       "5 TA          313 12.14153 \n",
       "6 NA          690 11.81303 "
      ]
     },
     "metadata": {},
     "output_type": "display_data"
    },
    {
     "data": {
      "text/html": [
       "<table>\n",
       "<thead><tr><th scope=col>FireplaceQu</th><th scope=col>min(fireplace_qual)</th><th scope=col>max(fireplace_qual)</th><th scope=col>median(sale_price_log)</th></tr></thead>\n",
       "<tbody>\n",
       "\t<tr><td>Ex      </td><td>12.65794</td><td>12.65794</td><td>12.65794</td></tr>\n",
       "\t<tr><td>Fa      </td><td>11.97035</td><td>11.97035</td><td>11.97035</td></tr>\n",
       "\t<tr><td>Gd      </td><td>12.24023</td><td>12.24023</td><td>12.24023</td></tr>\n",
       "\t<tr><td>Po      </td><td>11.78658</td><td>11.78658</td><td>11.78658</td></tr>\n",
       "\t<tr><td>TA      </td><td>12.14153</td><td>12.14153</td><td>12.14153</td></tr>\n",
       "\t<tr><td>NA      </td><td>11.81303</td><td>11.81303</td><td>11.81303</td></tr>\n",
       "</tbody>\n",
       "</table>\n"
      ],
      "text/latex": [
       "\\begin{tabular}{r|llll}\n",
       " FireplaceQu & min(fireplace\\_qual) & max(fireplace\\_qual) & median(sale\\_price\\_log)\\\\\n",
       "\\hline\n",
       "\t Ex       & 12.65794 & 12.65794 & 12.65794\\\\\n",
       "\t Fa       & 11.97035 & 11.97035 & 11.97035\\\\\n",
       "\t Gd       & 12.24023 & 12.24023 & 12.24023\\\\\n",
       "\t Po       & 11.78658 & 11.78658 & 11.78658\\\\\n",
       "\t TA       & 12.14153 & 12.14153 & 12.14153\\\\\n",
       "\t NA       & 11.81303 & 11.81303 & 11.81303\\\\\n",
       "\\end{tabular}\n"
      ],
      "text/markdown": [
       "\n",
       "FireplaceQu | min(fireplace_qual) | max(fireplace_qual) | median(sale_price_log) | \n",
       "|---|---|---|---|---|---|\n",
       "| Ex       | 12.65794 | 12.65794 | 12.65794 | \n",
       "| Fa       | 11.97035 | 11.97035 | 11.97035 | \n",
       "| Gd       | 12.24023 | 12.24023 | 12.24023 | \n",
       "| Po       | 11.78658 | 11.78658 | 11.78658 | \n",
       "| TA       | 12.14153 | 12.14153 | 12.14153 | \n",
       "| NA       | 11.81303 | 11.81303 | 11.81303 | \n",
       "\n",
       "\n"
      ],
      "text/plain": [
       "  FireplaceQu min(fireplace_qual) max(fireplace_qual) median(sale_price_log)\n",
       "1 Ex          12.65794            12.65794            12.65794              \n",
       "2 Fa          11.97035            11.97035            11.97035              \n",
       "3 Gd          12.24023            12.24023            12.24023              \n",
       "4 Po          11.78658            11.78658            11.78658              \n",
       "5 TA          12.14153            12.14153            12.14153              \n",
       "6 NA          11.81303            11.81303            11.81303              "
      ]
     },
     "metadata": {},
     "output_type": "display_data"
    }
   ],
   "source": [
    "training %>% group_by(FireplaceQu) %>% summarise(n=n(), avg_price=median(sale_price_log))\n",
    "\n",
    "transform$FireplaceQu <- group_averaging_tran(FireplaceQu, \"fireplace_qual\")\n",
    "\n",
    "tranformed <- transform$FireplaceQu(training, remove=F)\n",
    "\n",
    "tranformed %>% group_by(FireplaceQu) %>% \n",
    "summarise(min(fireplace_qual), max(fireplace_qual), median(sale_price_log))"
   ]
  },
  {
   "cell_type": "code",
   "execution_count": 135,
   "metadata": {},
   "outputs": [
    {
     "data": {
      "text/html": [
       "<table>\n",
       "<thead><tr><th scope=col>Foundation</th><th scope=col>n</th><th scope=col>avg_price</th></tr></thead>\n",
       "<tbody>\n",
       "\t<tr><td>BrkTil  </td><td>146     </td><td>11.73807</td></tr>\n",
       "\t<tr><td>CBlock  </td><td>634     </td><td>11.86005</td></tr>\n",
       "\t<tr><td>PConc   </td><td>647     </td><td>12.23077</td></tr>\n",
       "\t<tr><td>Slab    </td><td> 24     </td><td>11.55333</td></tr>\n",
       "\t<tr><td>Stone   </td><td>  6     </td><td>11.74454</td></tr>\n",
       "\t<tr><td>Wood    </td><td>  3     </td><td>12.00762</td></tr>\n",
       "</tbody>\n",
       "</table>\n"
      ],
      "text/latex": [
       "\\begin{tabular}{r|lll}\n",
       " Foundation & n & avg\\_price\\\\\n",
       "\\hline\n",
       "\t BrkTil   & 146      & 11.73807\\\\\n",
       "\t CBlock   & 634      & 11.86005\\\\\n",
       "\t PConc    & 647      & 12.23077\\\\\n",
       "\t Slab     &  24      & 11.55333\\\\\n",
       "\t Stone    &   6      & 11.74454\\\\\n",
       "\t Wood     &   3      & 12.00762\\\\\n",
       "\\end{tabular}\n"
      ],
      "text/markdown": [
       "\n",
       "Foundation | n | avg_price | \n",
       "|---|---|---|---|---|---|\n",
       "| BrkTil   | 146      | 11.73807 | \n",
       "| CBlock   | 634      | 11.86005 | \n",
       "| PConc    | 647      | 12.23077 | \n",
       "| Slab     |  24      | 11.55333 | \n",
       "| Stone    |   6      | 11.74454 | \n",
       "| Wood     |   3      | 12.00762 | \n",
       "\n",
       "\n"
      ],
      "text/plain": [
       "  Foundation n   avg_price\n",
       "1 BrkTil     146 11.73807 \n",
       "2 CBlock     634 11.86005 \n",
       "3 PConc      647 12.23077 \n",
       "4 Slab        24 11.55333 \n",
       "5 Stone        6 11.74454 \n",
       "6 Wood         3 12.00762 "
      ]
     },
     "metadata": {},
     "output_type": "display_data"
    },
    {
     "data": {
      "text/html": [
       "<table>\n",
       "<thead><tr><th scope=col>Foundation</th><th scope=col>min(foundation)</th><th scope=col>max(foundation)</th><th scope=col>median(sale_price_log)</th></tr></thead>\n",
       "<tbody>\n",
       "\t<tr><td>BrkTil  </td><td>11.73807</td><td>11.73807</td><td>11.73807</td></tr>\n",
       "\t<tr><td>CBlock  </td><td>11.86005</td><td>11.86005</td><td>11.86005</td></tr>\n",
       "\t<tr><td>PConc   </td><td>12.23077</td><td>12.23077</td><td>12.23077</td></tr>\n",
       "\t<tr><td>Slab    </td><td>11.55333</td><td>11.55333</td><td>11.55333</td></tr>\n",
       "\t<tr><td>Stone   </td><td>11.74454</td><td>11.74454</td><td>11.74454</td></tr>\n",
       "\t<tr><td>Wood    </td><td>12.00762</td><td>12.00762</td><td>12.00762</td></tr>\n",
       "</tbody>\n",
       "</table>\n"
      ],
      "text/latex": [
       "\\begin{tabular}{r|llll}\n",
       " Foundation & min(foundation) & max(foundation) & median(sale\\_price\\_log)\\\\\n",
       "\\hline\n",
       "\t BrkTil   & 11.73807 & 11.73807 & 11.73807\\\\\n",
       "\t CBlock   & 11.86005 & 11.86005 & 11.86005\\\\\n",
       "\t PConc    & 12.23077 & 12.23077 & 12.23077\\\\\n",
       "\t Slab     & 11.55333 & 11.55333 & 11.55333\\\\\n",
       "\t Stone    & 11.74454 & 11.74454 & 11.74454\\\\\n",
       "\t Wood     & 12.00762 & 12.00762 & 12.00762\\\\\n",
       "\\end{tabular}\n"
      ],
      "text/markdown": [
       "\n",
       "Foundation | min(foundation) | max(foundation) | median(sale_price_log) | \n",
       "|---|---|---|---|---|---|\n",
       "| BrkTil   | 11.73807 | 11.73807 | 11.73807 | \n",
       "| CBlock   | 11.86005 | 11.86005 | 11.86005 | \n",
       "| PConc    | 12.23077 | 12.23077 | 12.23077 | \n",
       "| Slab     | 11.55333 | 11.55333 | 11.55333 | \n",
       "| Stone    | 11.74454 | 11.74454 | 11.74454 | \n",
       "| Wood     | 12.00762 | 12.00762 | 12.00762 | \n",
       "\n",
       "\n"
      ],
      "text/plain": [
       "  Foundation min(foundation) max(foundation) median(sale_price_log)\n",
       "1 BrkTil     11.73807        11.73807        11.73807              \n",
       "2 CBlock     11.86005        11.86005        11.86005              \n",
       "3 PConc      12.23077        12.23077        12.23077              \n",
       "4 Slab       11.55333        11.55333        11.55333              \n",
       "5 Stone      11.74454        11.74454        11.74454              \n",
       "6 Wood       12.00762        12.00762        12.00762              "
      ]
     },
     "metadata": {},
     "output_type": "display_data"
    }
   ],
   "source": [
    "training %>% group_by(Foundation) %>% summarise(n=n(), avg_price=median(sale_price_log))\n",
    "\n",
    "transform$Foundation <- group_averaging_tran(Foundation, \"foundation\")\n",
    "\n",
    "tranformed <- transform$Foundation(training, remove=F)\n",
    "\n",
    "tranformed %>% group_by(Foundation) %>% \n",
    "summarise(min(foundation), max(foundation), median(sale_price_log))"
   ]
  },
  {
   "cell_type": "code",
   "execution_count": 145,
   "metadata": {},
   "outputs": [
    {
     "data": {
      "text/html": [
       "<table>\n",
       "<thead><tr><th scope=col>GarageFinish</th><th scope=col>n</th><th scope=col>avg_price</th></tr></thead>\n",
       "<tbody>\n",
       "\t<tr><td>Fin     </td><td>352     </td><td>12.27839</td></tr>\n",
       "\t<tr><td>RFn     </td><td>422     </td><td>12.15478</td></tr>\n",
       "\t<tr><td>Unf     </td><td>605     </td><td>11.81303</td></tr>\n",
       "\t<tr><td>NA      </td><td> 81     </td><td>11.51293</td></tr>\n",
       "</tbody>\n",
       "</table>\n"
      ],
      "text/latex": [
       "\\begin{tabular}{r|lll}\n",
       " GarageFinish & n & avg\\_price\\\\\n",
       "\\hline\n",
       "\t Fin      & 352      & 12.27839\\\\\n",
       "\t RFn      & 422      & 12.15478\\\\\n",
       "\t Unf      & 605      & 11.81303\\\\\n",
       "\t NA       &  81      & 11.51293\\\\\n",
       "\\end{tabular}\n"
      ],
      "text/markdown": [
       "\n",
       "GarageFinish | n | avg_price | \n",
       "|---|---|---|---|\n",
       "| Fin      | 352      | 12.27839 | \n",
       "| RFn      | 422      | 12.15478 | \n",
       "| Unf      | 605      | 11.81303 | \n",
       "| NA       |  81      | 11.51293 | \n",
       "\n",
       "\n"
      ],
      "text/plain": [
       "  GarageFinish n   avg_price\n",
       "1 Fin          352 12.27839 \n",
       "2 RFn          422 12.15478 \n",
       "3 Unf          605 11.81303 \n",
       "4 NA            81 11.51293 "
      ]
     },
     "metadata": {},
     "output_type": "display_data"
    },
    {
     "data": {
      "text/html": [
       "<table>\n",
       "<thead><tr><th scope=col>GarageFinish</th><th scope=col>min(garage_finish)</th><th scope=col>max(garage_finish)</th><th scope=col>median(sale_price_log)</th></tr></thead>\n",
       "<tbody>\n",
       "\t<tr><td>Fin     </td><td>12.27839</td><td>12.27839</td><td>12.27839</td></tr>\n",
       "\t<tr><td>RFn     </td><td>12.15478</td><td>12.15478</td><td>12.15478</td></tr>\n",
       "\t<tr><td>Unf     </td><td>11.81303</td><td>11.81303</td><td>11.81303</td></tr>\n",
       "\t<tr><td>NA      </td><td>11.51293</td><td>11.51293</td><td>11.51293</td></tr>\n",
       "</tbody>\n",
       "</table>\n"
      ],
      "text/latex": [
       "\\begin{tabular}{r|llll}\n",
       " GarageFinish & min(garage\\_finish) & max(garage\\_finish) & median(sale\\_price\\_log)\\\\\n",
       "\\hline\n",
       "\t Fin      & 12.27839 & 12.27839 & 12.27839\\\\\n",
       "\t RFn      & 12.15478 & 12.15478 & 12.15478\\\\\n",
       "\t Unf      & 11.81303 & 11.81303 & 11.81303\\\\\n",
       "\t NA       & 11.51293 & 11.51293 & 11.51293\\\\\n",
       "\\end{tabular}\n"
      ],
      "text/markdown": [
       "\n",
       "GarageFinish | min(garage_finish) | max(garage_finish) | median(sale_price_log) | \n",
       "|---|---|---|---|\n",
       "| Fin      | 12.27839 | 12.27839 | 12.27839 | \n",
       "| RFn      | 12.15478 | 12.15478 | 12.15478 | \n",
       "| Unf      | 11.81303 | 11.81303 | 11.81303 | \n",
       "| NA       | 11.51293 | 11.51293 | 11.51293 | \n",
       "\n",
       "\n"
      ],
      "text/plain": [
       "  GarageFinish min(garage_finish) max(garage_finish) median(sale_price_log)\n",
       "1 Fin          12.27839           12.27839           12.27839              \n",
       "2 RFn          12.15478           12.15478           12.15478              \n",
       "3 Unf          11.81303           11.81303           11.81303              \n",
       "4 NA           11.51293           11.51293           11.51293              "
      ]
     },
     "metadata": {},
     "output_type": "display_data"
    }
   ],
   "source": [
    "training %>% group_by(GarageFinish) %>% summarise(n=n(), avg_price=median(sale_price_log))\n",
    "\n",
    "transform$GarageFinish <- group_averaging_tran(GarageFinish, \"garage_finish\")\n",
    "\n",
    "tranformed <- transform$GarageFinish(training, remove=F)\n",
    "\n",
    "tranformed %>% group_by(GarageFinish) %>% \n",
    "summarise(min(garage_finish), max(garage_finish), median(sale_price_log))"
   ]
  },
  {
   "cell_type": "code",
   "execution_count": 148,
   "metadata": {},
   "outputs": [
    {
     "data": {
      "text/html": [
       "<table>\n",
       "<thead><tr><th scope=col>GarageType</th><th scope=col>n</th><th scope=col>avg_price</th></tr></thead>\n",
       "<tbody>\n",
       "\t<tr><td>2Types  </td><td>  6     </td><td>11.97505</td></tr>\n",
       "\t<tr><td>Attchd  </td><td>870     </td><td>12.12811</td></tr>\n",
       "\t<tr><td>Basment </td><td> 19     </td><td>11.90497</td></tr>\n",
       "\t<tr><td>BuiltIn </td><td> 88     </td><td>12.33485</td></tr>\n",
       "\t<tr><td>CarPort </td><td>  9     </td><td>11.58989</td></tr>\n",
       "\t<tr><td>Detchd  </td><td>387     </td><td>11.77144</td></tr>\n",
       "\t<tr><td>NA      </td><td> 81     </td><td>11.51293</td></tr>\n",
       "</tbody>\n",
       "</table>\n"
      ],
      "text/latex": [
       "\\begin{tabular}{r|lll}\n",
       " GarageType & n & avg\\_price\\\\\n",
       "\\hline\n",
       "\t 2Types   &   6      & 11.97505\\\\\n",
       "\t Attchd   & 870      & 12.12811\\\\\n",
       "\t Basment  &  19      & 11.90497\\\\\n",
       "\t BuiltIn  &  88      & 12.33485\\\\\n",
       "\t CarPort  &   9      & 11.58989\\\\\n",
       "\t Detchd   & 387      & 11.77144\\\\\n",
       "\t NA       &  81      & 11.51293\\\\\n",
       "\\end{tabular}\n"
      ],
      "text/markdown": [
       "\n",
       "GarageType | n | avg_price | \n",
       "|---|---|---|---|---|---|---|\n",
       "| 2Types   |   6      | 11.97505 | \n",
       "| Attchd   | 870      | 12.12811 | \n",
       "| Basment  |  19      | 11.90497 | \n",
       "| BuiltIn  |  88      | 12.33485 | \n",
       "| CarPort  |   9      | 11.58989 | \n",
       "| Detchd   | 387      | 11.77144 | \n",
       "| NA       |  81      | 11.51293 | \n",
       "\n",
       "\n"
      ],
      "text/plain": [
       "  GarageType n   avg_price\n",
       "1 2Types       6 11.97505 \n",
       "2 Attchd     870 12.12811 \n",
       "3 Basment     19 11.90497 \n",
       "4 BuiltIn     88 12.33485 \n",
       "5 CarPort      9 11.58989 \n",
       "6 Detchd     387 11.77144 \n",
       "7 NA          81 11.51293 "
      ]
     },
     "metadata": {},
     "output_type": "display_data"
    },
    {
     "data": {
      "text/html": [
       "<table>\n",
       "<thead><tr><th scope=col>GarageType</th><th scope=col>min(garage_type)</th><th scope=col>max(garage_type)</th><th scope=col>median(sale_price_log)</th></tr></thead>\n",
       "<tbody>\n",
       "\t<tr><td>2Types  </td><td>11.97505</td><td>11.97505</td><td>11.97505</td></tr>\n",
       "\t<tr><td>Attchd  </td><td>12.12811</td><td>12.12811</td><td>12.12811</td></tr>\n",
       "\t<tr><td>Basment </td><td>11.90497</td><td>11.90497</td><td>11.90497</td></tr>\n",
       "\t<tr><td>BuiltIn </td><td>12.33485</td><td>12.33485</td><td>12.33485</td></tr>\n",
       "\t<tr><td>CarPort </td><td>11.58989</td><td>11.58989</td><td>11.58989</td></tr>\n",
       "\t<tr><td>Detchd  </td><td>11.77144</td><td>11.77144</td><td>11.77144</td></tr>\n",
       "\t<tr><td>NA      </td><td>11.51293</td><td>11.51293</td><td>11.51293</td></tr>\n",
       "</tbody>\n",
       "</table>\n"
      ],
      "text/latex": [
       "\\begin{tabular}{r|llll}\n",
       " GarageType & min(garage\\_type) & max(garage\\_type) & median(sale\\_price\\_log)\\\\\n",
       "\\hline\n",
       "\t 2Types   & 11.97505 & 11.97505 & 11.97505\\\\\n",
       "\t Attchd   & 12.12811 & 12.12811 & 12.12811\\\\\n",
       "\t Basment  & 11.90497 & 11.90497 & 11.90497\\\\\n",
       "\t BuiltIn  & 12.33485 & 12.33485 & 12.33485\\\\\n",
       "\t CarPort  & 11.58989 & 11.58989 & 11.58989\\\\\n",
       "\t Detchd   & 11.77144 & 11.77144 & 11.77144\\\\\n",
       "\t NA       & 11.51293 & 11.51293 & 11.51293\\\\\n",
       "\\end{tabular}\n"
      ],
      "text/markdown": [
       "\n",
       "GarageType | min(garage_type) | max(garage_type) | median(sale_price_log) | \n",
       "|---|---|---|---|---|---|---|\n",
       "| 2Types   | 11.97505 | 11.97505 | 11.97505 | \n",
       "| Attchd   | 12.12811 | 12.12811 | 12.12811 | \n",
       "| Basment  | 11.90497 | 11.90497 | 11.90497 | \n",
       "| BuiltIn  | 12.33485 | 12.33485 | 12.33485 | \n",
       "| CarPort  | 11.58989 | 11.58989 | 11.58989 | \n",
       "| Detchd   | 11.77144 | 11.77144 | 11.77144 | \n",
       "| NA       | 11.51293 | 11.51293 | 11.51293 | \n",
       "\n",
       "\n"
      ],
      "text/plain": [
       "  GarageType min(garage_type) max(garage_type) median(sale_price_log)\n",
       "1 2Types     11.97505         11.97505         11.97505              \n",
       "2 Attchd     12.12811         12.12811         12.12811              \n",
       "3 Basment    11.90497         11.90497         11.90497              \n",
       "4 BuiltIn    12.33485         12.33485         12.33485              \n",
       "5 CarPort    11.58989         11.58989         11.58989              \n",
       "6 Detchd     11.77144         11.77144         11.77144              \n",
       "7 NA         11.51293         11.51293         11.51293              "
      ]
     },
     "metadata": {},
     "output_type": "display_data"
    }
   ],
   "source": [
    "training %>% group_by(GarageType) %>% summarise(n=n(), avg_price=median(sale_price_log))\n",
    "\n",
    "transform$GarageType <- group_averaging_tran(GarageType, \"garage_type\")\n",
    "\n",
    "tranformed <- transform$GarageType(training, remove=F)\n",
    "\n",
    "tranformed %>% group_by(GarageType) %>% \n",
    "summarise(min(garage_type), max(garage_type), median(sale_price_log))"
   ]
  },
  {
   "cell_type": "code",
   "execution_count": 151,
   "metadata": {},
   "outputs": [
    {
     "data": {
      "text/html": [
       "<table>\n",
       "<thead><tr><th scope=col>HeatingQC</th><th scope=col>n</th><th scope=col>avg_price</th></tr></thead>\n",
       "<tbody>\n",
       "\t<tr><td>Ex      </td><td>741     </td><td>12.17922</td></tr>\n",
       "\t<tr><td>Fa      </td><td> 49     </td><td>11.72400</td></tr>\n",
       "\t<tr><td>Gd      </td><td>241     </td><td>11.93164</td></tr>\n",
       "\t<tr><td>Po      </td><td>  1     </td><td>11.37366</td></tr>\n",
       "\t<tr><td>TA      </td><td>428     </td><td>11.81303</td></tr>\n",
       "</tbody>\n",
       "</table>\n"
      ],
      "text/latex": [
       "\\begin{tabular}{r|lll}\n",
       " HeatingQC & n & avg\\_price\\\\\n",
       "\\hline\n",
       "\t Ex       & 741      & 12.17922\\\\\n",
       "\t Fa       &  49      & 11.72400\\\\\n",
       "\t Gd       & 241      & 11.93164\\\\\n",
       "\t Po       &   1      & 11.37366\\\\\n",
       "\t TA       & 428      & 11.81303\\\\\n",
       "\\end{tabular}\n"
      ],
      "text/markdown": [
       "\n",
       "HeatingQC | n | avg_price | \n",
       "|---|---|---|---|---|\n",
       "| Ex       | 741      | 12.17922 | \n",
       "| Fa       |  49      | 11.72400 | \n",
       "| Gd       | 241      | 11.93164 | \n",
       "| Po       |   1      | 11.37366 | \n",
       "| TA       | 428      | 11.81303 | \n",
       "\n",
       "\n"
      ],
      "text/plain": [
       "  HeatingQC n   avg_price\n",
       "1 Ex        741 12.17922 \n",
       "2 Fa         49 11.72400 \n",
       "3 Gd        241 11.93164 \n",
       "4 Po          1 11.37366 \n",
       "5 TA        428 11.81303 "
      ]
     },
     "metadata": {},
     "output_type": "display_data"
    },
    {
     "data": {
      "text/html": [
       "<table>\n",
       "<thead><tr><th scope=col>HeatingQC</th><th scope=col>min(heating_quality)</th><th scope=col>max(heating_quality)</th><th scope=col>median(sale_price_log)</th></tr></thead>\n",
       "<tbody>\n",
       "\t<tr><td>Ex      </td><td>12.17922</td><td>12.17922</td><td>12.17922</td></tr>\n",
       "\t<tr><td>Fa      </td><td>11.72400</td><td>11.72400</td><td>11.72400</td></tr>\n",
       "\t<tr><td>Gd      </td><td>11.93164</td><td>11.93164</td><td>11.93164</td></tr>\n",
       "\t<tr><td>Po      </td><td>11.37366</td><td>11.37366</td><td>11.37366</td></tr>\n",
       "\t<tr><td>TA      </td><td>11.81303</td><td>11.81303</td><td>11.81303</td></tr>\n",
       "</tbody>\n",
       "</table>\n"
      ],
      "text/latex": [
       "\\begin{tabular}{r|llll}\n",
       " HeatingQC & min(heating\\_quality) & max(heating\\_quality) & median(sale\\_price\\_log)\\\\\n",
       "\\hline\n",
       "\t Ex       & 12.17922 & 12.17922 & 12.17922\\\\\n",
       "\t Fa       & 11.72400 & 11.72400 & 11.72400\\\\\n",
       "\t Gd       & 11.93164 & 11.93164 & 11.93164\\\\\n",
       "\t Po       & 11.37366 & 11.37366 & 11.37366\\\\\n",
       "\t TA       & 11.81303 & 11.81303 & 11.81303\\\\\n",
       "\\end{tabular}\n"
      ],
      "text/markdown": [
       "\n",
       "HeatingQC | min(heating_quality) | max(heating_quality) | median(sale_price_log) | \n",
       "|---|---|---|---|---|\n",
       "| Ex       | 12.17922 | 12.17922 | 12.17922 | \n",
       "| Fa       | 11.72400 | 11.72400 | 11.72400 | \n",
       "| Gd       | 11.93164 | 11.93164 | 11.93164 | \n",
       "| Po       | 11.37366 | 11.37366 | 11.37366 | \n",
       "| TA       | 11.81303 | 11.81303 | 11.81303 | \n",
       "\n",
       "\n"
      ],
      "text/plain": [
       "  HeatingQC min(heating_quality) max(heating_quality) median(sale_price_log)\n",
       "1 Ex        12.17922             12.17922             12.17922              \n",
       "2 Fa        11.72400             11.72400             11.72400              \n",
       "3 Gd        11.93164             11.93164             11.93164              \n",
       "4 Po        11.37366             11.37366             11.37366              \n",
       "5 TA        11.81303             11.81303             11.81303              "
      ]
     },
     "metadata": {},
     "output_type": "display_data"
    }
   ],
   "source": [
    "training %>% group_by(HeatingQC) %>% summarise(n=n(), avg_price=median(sale_price_log))\n",
    "\n",
    "transform$HeatingQC <- group_averaging_tran(HeatingQC, \"heating_quality\")\n",
    "\n",
    "tranformed <- transform$HeatingQC(training, remove=F)\n",
    "\n",
    "tranformed %>% group_by(HeatingQC) %>% \n",
    "summarise(min(heating_quality), max(heating_quality), median(sale_price_log))"
   ]
  },
  {
   "cell_type": "code",
   "execution_count": 154,
   "metadata": {},
   "outputs": [
    {
     "data": {
      "text/html": [
       "<table>\n",
       "<thead><tr><th scope=col>HouseStyle</th><th scope=col>n</th><th scope=col>avg_price</th></tr></thead>\n",
       "<tbody>\n",
       "\t<tr><td>1.5Fin  </td><td>154     </td><td>11.79055</td></tr>\n",
       "\t<tr><td>1.5Unf  </td><td> 14     </td><td>11.61941</td></tr>\n",
       "\t<tr><td>1Story  </td><td>726     </td><td>11.94956</td></tr>\n",
       "\t<tr><td>2.5Fin  </td><td>  8     </td><td>12.17549</td></tr>\n",
       "\t<tr><td>2.5Unf  </td><td> 11     </td><td>11.80485</td></tr>\n",
       "\t<tr><td>2Story  </td><td>445     </td><td>12.15478</td></tr>\n",
       "\t<tr><td>SFoyer  </td><td> 37     </td><td>11.82012</td></tr>\n",
       "\t<tr><td>SLvl    </td><td> 65     </td><td>12.01067</td></tr>\n",
       "</tbody>\n",
       "</table>\n"
      ],
      "text/latex": [
       "\\begin{tabular}{r|lll}\n",
       " HouseStyle & n & avg\\_price\\\\\n",
       "\\hline\n",
       "\t 1.5Fin   & 154      & 11.79055\\\\\n",
       "\t 1.5Unf   &  14      & 11.61941\\\\\n",
       "\t 1Story   & 726      & 11.94956\\\\\n",
       "\t 2.5Fin   &   8      & 12.17549\\\\\n",
       "\t 2.5Unf   &  11      & 11.80485\\\\\n",
       "\t 2Story   & 445      & 12.15478\\\\\n",
       "\t SFoyer   &  37      & 11.82012\\\\\n",
       "\t SLvl     &  65      & 12.01067\\\\\n",
       "\\end{tabular}\n"
      ],
      "text/markdown": [
       "\n",
       "HouseStyle | n | avg_price | \n",
       "|---|---|---|---|---|---|---|---|\n",
       "| 1.5Fin   | 154      | 11.79055 | \n",
       "| 1.5Unf   |  14      | 11.61941 | \n",
       "| 1Story   | 726      | 11.94956 | \n",
       "| 2.5Fin   |   8      | 12.17549 | \n",
       "| 2.5Unf   |  11      | 11.80485 | \n",
       "| 2Story   | 445      | 12.15478 | \n",
       "| SFoyer   |  37      | 11.82012 | \n",
       "| SLvl     |  65      | 12.01067 | \n",
       "\n",
       "\n"
      ],
      "text/plain": [
       "  HouseStyle n   avg_price\n",
       "1 1.5Fin     154 11.79055 \n",
       "2 1.5Unf      14 11.61941 \n",
       "3 1Story     726 11.94956 \n",
       "4 2.5Fin       8 12.17549 \n",
       "5 2.5Unf      11 11.80485 \n",
       "6 2Story     445 12.15478 \n",
       "7 SFoyer      37 11.82012 \n",
       "8 SLvl        65 12.01067 "
      ]
     },
     "metadata": {},
     "output_type": "display_data"
    },
    {
     "data": {
      "text/html": [
       "<table>\n",
       "<thead><tr><th scope=col>HouseStyle</th><th scope=col>min(house_style)</th><th scope=col>max(house_style)</th><th scope=col>median(sale_price_log)</th></tr></thead>\n",
       "<tbody>\n",
       "\t<tr><td>1.5Fin  </td><td>11.79055</td><td>11.79055</td><td>11.79055</td></tr>\n",
       "\t<tr><td>1.5Unf  </td><td>11.61941</td><td>11.61941</td><td>11.61941</td></tr>\n",
       "\t<tr><td>1Story  </td><td>11.94956</td><td>11.94956</td><td>11.94956</td></tr>\n",
       "\t<tr><td>2.5Fin  </td><td>12.17549</td><td>12.17549</td><td>12.17549</td></tr>\n",
       "\t<tr><td>2.5Unf  </td><td>11.80485</td><td>11.80485</td><td>11.80485</td></tr>\n",
       "\t<tr><td>2Story  </td><td>12.15478</td><td>12.15478</td><td>12.15478</td></tr>\n",
       "\t<tr><td>SFoyer  </td><td>11.82012</td><td>11.82012</td><td>11.82012</td></tr>\n",
       "\t<tr><td>SLvl    </td><td>12.01067</td><td>12.01067</td><td>12.01067</td></tr>\n",
       "</tbody>\n",
       "</table>\n"
      ],
      "text/latex": [
       "\\begin{tabular}{r|llll}\n",
       " HouseStyle & min(house\\_style) & max(house\\_style) & median(sale\\_price\\_log)\\\\\n",
       "\\hline\n",
       "\t 1.5Fin   & 11.79055 & 11.79055 & 11.79055\\\\\n",
       "\t 1.5Unf   & 11.61941 & 11.61941 & 11.61941\\\\\n",
       "\t 1Story   & 11.94956 & 11.94956 & 11.94956\\\\\n",
       "\t 2.5Fin   & 12.17549 & 12.17549 & 12.17549\\\\\n",
       "\t 2.5Unf   & 11.80485 & 11.80485 & 11.80485\\\\\n",
       "\t 2Story   & 12.15478 & 12.15478 & 12.15478\\\\\n",
       "\t SFoyer   & 11.82012 & 11.82012 & 11.82012\\\\\n",
       "\t SLvl     & 12.01067 & 12.01067 & 12.01067\\\\\n",
       "\\end{tabular}\n"
      ],
      "text/markdown": [
       "\n",
       "HouseStyle | min(house_style) | max(house_style) | median(sale_price_log) | \n",
       "|---|---|---|---|---|---|---|---|\n",
       "| 1.5Fin   | 11.79055 | 11.79055 | 11.79055 | \n",
       "| 1.5Unf   | 11.61941 | 11.61941 | 11.61941 | \n",
       "| 1Story   | 11.94956 | 11.94956 | 11.94956 | \n",
       "| 2.5Fin   | 12.17549 | 12.17549 | 12.17549 | \n",
       "| 2.5Unf   | 11.80485 | 11.80485 | 11.80485 | \n",
       "| 2Story   | 12.15478 | 12.15478 | 12.15478 | \n",
       "| SFoyer   | 11.82012 | 11.82012 | 11.82012 | \n",
       "| SLvl     | 12.01067 | 12.01067 | 12.01067 | \n",
       "\n",
       "\n"
      ],
      "text/plain": [
       "  HouseStyle min(house_style) max(house_style) median(sale_price_log)\n",
       "1 1.5Fin     11.79055         11.79055         11.79055              \n",
       "2 1.5Unf     11.61941         11.61941         11.61941              \n",
       "3 1Story     11.94956         11.94956         11.94956              \n",
       "4 2.5Fin     12.17549         12.17549         12.17549              \n",
       "5 2.5Unf     11.80485         11.80485         11.80485              \n",
       "6 2Story     12.15478         12.15478         12.15478              \n",
       "7 SFoyer     11.82012         11.82012         11.82012              \n",
       "8 SLvl       12.01067         12.01067         12.01067              "
      ]
     },
     "metadata": {},
     "output_type": "display_data"
    }
   ],
   "source": [
    "training %>% group_by(HouseStyle) %>% summarise(n=n(), avg_price=median(sale_price_log))\n",
    "\n",
    "transform$HouseStyle <- group_averaging_tran(HouseStyle, \"house_style\")\n",
    "\n",
    "tranformed <- transform$HouseStyle(training, remove=F)\n",
    "\n",
    "tranformed %>% group_by(HouseStyle) %>% \n",
    "summarise(min(house_style), max(house_style), median(sale_price_log))"
   ]
  },
  {
   "cell_type": "code",
   "execution_count": 157,
   "metadata": {},
   "outputs": [
    {
     "data": {
      "text/html": [
       "<table>\n",
       "<thead><tr><th scope=col>KitchenQual</th><th scope=col>n</th><th scope=col>avg_price</th></tr></thead>\n",
       "<tbody>\n",
       "\t<tr><td>Ex      </td><td>100     </td><td>12.66586</td></tr>\n",
       "\t<tr><td>Fa      </td><td> 39     </td><td>11.65269</td></tr>\n",
       "\t<tr><td>Gd      </td><td>586     </td><td>12.21305</td></tr>\n",
       "\t<tr><td>TA      </td><td>735     </td><td>11.82774</td></tr>\n",
       "</tbody>\n",
       "</table>\n"
      ],
      "text/latex": [
       "\\begin{tabular}{r|lll}\n",
       " KitchenQual & n & avg\\_price\\\\\n",
       "\\hline\n",
       "\t Ex       & 100      & 12.66586\\\\\n",
       "\t Fa       &  39      & 11.65269\\\\\n",
       "\t Gd       & 586      & 12.21305\\\\\n",
       "\t TA       & 735      & 11.82774\\\\\n",
       "\\end{tabular}\n"
      ],
      "text/markdown": [
       "\n",
       "KitchenQual | n | avg_price | \n",
       "|---|---|---|---|\n",
       "| Ex       | 100      | 12.66586 | \n",
       "| Fa       |  39      | 11.65269 | \n",
       "| Gd       | 586      | 12.21305 | \n",
       "| TA       | 735      | 11.82774 | \n",
       "\n",
       "\n"
      ],
      "text/plain": [
       "  KitchenQual n   avg_price\n",
       "1 Ex          100 12.66586 \n",
       "2 Fa           39 11.65269 \n",
       "3 Gd          586 12.21305 \n",
       "4 TA          735 11.82774 "
      ]
     },
     "metadata": {},
     "output_type": "display_data"
    },
    {
     "data": {
      "text/html": [
       "<table>\n",
       "<thead><tr><th scope=col>KitchenQual</th><th scope=col>min(kitchen_qual)</th><th scope=col>max(kitchen_qual)</th><th scope=col>median(sale_price_log)</th></tr></thead>\n",
       "<tbody>\n",
       "\t<tr><td>Ex      </td><td>12.66586</td><td>12.66586</td><td>12.66586</td></tr>\n",
       "\t<tr><td>Fa      </td><td>11.65269</td><td>11.65269</td><td>11.65269</td></tr>\n",
       "\t<tr><td>Gd      </td><td>12.21305</td><td>12.21305</td><td>12.21305</td></tr>\n",
       "\t<tr><td>TA      </td><td>11.82774</td><td>11.82774</td><td>11.82774</td></tr>\n",
       "</tbody>\n",
       "</table>\n"
      ],
      "text/latex": [
       "\\begin{tabular}{r|llll}\n",
       " KitchenQual & min(kitchen\\_qual) & max(kitchen\\_qual) & median(sale\\_price\\_log)\\\\\n",
       "\\hline\n",
       "\t Ex       & 12.66586 & 12.66586 & 12.66586\\\\\n",
       "\t Fa       & 11.65269 & 11.65269 & 11.65269\\\\\n",
       "\t Gd       & 12.21305 & 12.21305 & 12.21305\\\\\n",
       "\t TA       & 11.82774 & 11.82774 & 11.82774\\\\\n",
       "\\end{tabular}\n"
      ],
      "text/markdown": [
       "\n",
       "KitchenQual | min(kitchen_qual) | max(kitchen_qual) | median(sale_price_log) | \n",
       "|---|---|---|---|\n",
       "| Ex       | 12.66586 | 12.66586 | 12.66586 | \n",
       "| Fa       | 11.65269 | 11.65269 | 11.65269 | \n",
       "| Gd       | 12.21305 | 12.21305 | 12.21305 | \n",
       "| TA       | 11.82774 | 11.82774 | 11.82774 | \n",
       "\n",
       "\n"
      ],
      "text/plain": [
       "  KitchenQual min(kitchen_qual) max(kitchen_qual) median(sale_price_log)\n",
       "1 Ex          12.66586          12.66586          12.66586              \n",
       "2 Fa          11.65269          11.65269          11.65269              \n",
       "3 Gd          12.21305          12.21305          12.21305              \n",
       "4 TA          11.82774          11.82774          11.82774              "
      ]
     },
     "metadata": {},
     "output_type": "display_data"
    }
   ],
   "source": [
    "training %>% group_by(KitchenQual) %>% summarise(n=n(), avg_price=median(sale_price_log))\n",
    "\n",
    "transform$KitchenQual <- group_averaging_tran(KitchenQual, \"kitchen_qual\")\n",
    "\n",
    "tranformed <- transform$KitchenQual(training, remove=F)\n",
    "\n",
    "tranformed %>% group_by(KitchenQual) %>% \n",
    "summarise(min(kitchen_qual), max(kitchen_qual), median(sale_price_log))"
   ]
  },
  {
   "cell_type": "code",
   "execution_count": 164,
   "metadata": {},
   "outputs": [
    {
     "data": {
      "text/html": [
       "<table>\n",
       "<thead><tr><th scope=col>LotConfig</th><th scope=col>n</th><th scope=col>avg_price</th></tr></thead>\n",
       "<tbody>\n",
       "\t<tr><td>Corner  </td><td> 263    </td><td>11.98293</td></tr>\n",
       "\t<tr><td>CulDSac </td><td>  94    </td><td>12.20235</td></tr>\n",
       "\t<tr><td>FR2     </td><td>  47    </td><td>12.01370</td></tr>\n",
       "\t<tr><td>FR3     </td><td>   4    </td><td>12.18131</td></tr>\n",
       "\t<tr><td>Inside  </td><td>1052    </td><td>11.98104</td></tr>\n",
       "</tbody>\n",
       "</table>\n"
      ],
      "text/latex": [
       "\\begin{tabular}{r|lll}\n",
       " LotConfig & n & avg\\_price\\\\\n",
       "\\hline\n",
       "\t Corner   &  263     & 11.98293\\\\\n",
       "\t CulDSac  &   94     & 12.20235\\\\\n",
       "\t FR2      &   47     & 12.01370\\\\\n",
       "\t FR3      &    4     & 12.18131\\\\\n",
       "\t Inside   & 1052     & 11.98104\\\\\n",
       "\\end{tabular}\n"
      ],
      "text/markdown": [
       "\n",
       "LotConfig | n | avg_price | \n",
       "|---|---|---|---|---|\n",
       "| Corner   |  263     | 11.98293 | \n",
       "| CulDSac  |   94     | 12.20235 | \n",
       "| FR2      |   47     | 12.01370 | \n",
       "| FR3      |    4     | 12.18131 | \n",
       "| Inside   | 1052     | 11.98104 | \n",
       "\n",
       "\n"
      ],
      "text/plain": [
       "  LotConfig n    avg_price\n",
       "1 Corner     263 11.98293 \n",
       "2 CulDSac     94 12.20235 \n",
       "3 FR2         47 12.01370 \n",
       "4 FR3          4 12.18131 \n",
       "5 Inside    1052 11.98104 "
      ]
     },
     "metadata": {},
     "output_type": "display_data"
    },
    {
     "data": {
      "text/html": [
       "<table>\n",
       "<thead><tr><th scope=col>LotConfig</th><th scope=col>min(lot_config)</th><th scope=col>max(lot_config)</th><th scope=col>median(sale_price_log)</th></tr></thead>\n",
       "<tbody>\n",
       "\t<tr><td>Corner  </td><td>11.98293</td><td>11.98293</td><td>11.98293</td></tr>\n",
       "\t<tr><td>CulDSac </td><td>12.20235</td><td>12.20235</td><td>12.20235</td></tr>\n",
       "\t<tr><td>FR2     </td><td>12.01370</td><td>12.01370</td><td>12.01370</td></tr>\n",
       "\t<tr><td>FR3     </td><td>12.18131</td><td>12.18131</td><td>12.18131</td></tr>\n",
       "\t<tr><td>Inside  </td><td>11.98104</td><td>11.98104</td><td>11.98104</td></tr>\n",
       "</tbody>\n",
       "</table>\n"
      ],
      "text/latex": [
       "\\begin{tabular}{r|llll}\n",
       " LotConfig & min(lot\\_config) & max(lot\\_config) & median(sale\\_price\\_log)\\\\\n",
       "\\hline\n",
       "\t Corner   & 11.98293 & 11.98293 & 11.98293\\\\\n",
       "\t CulDSac  & 12.20235 & 12.20235 & 12.20235\\\\\n",
       "\t FR2      & 12.01370 & 12.01370 & 12.01370\\\\\n",
       "\t FR3      & 12.18131 & 12.18131 & 12.18131\\\\\n",
       "\t Inside   & 11.98104 & 11.98104 & 11.98104\\\\\n",
       "\\end{tabular}\n"
      ],
      "text/markdown": [
       "\n",
       "LotConfig | min(lot_config) | max(lot_config) | median(sale_price_log) | \n",
       "|---|---|---|---|---|\n",
       "| Corner   | 11.98293 | 11.98293 | 11.98293 | \n",
       "| CulDSac  | 12.20235 | 12.20235 | 12.20235 | \n",
       "| FR2      | 12.01370 | 12.01370 | 12.01370 | \n",
       "| FR3      | 12.18131 | 12.18131 | 12.18131 | \n",
       "| Inside   | 11.98104 | 11.98104 | 11.98104 | \n",
       "\n",
       "\n"
      ],
      "text/plain": [
       "  LotConfig min(lot_config) max(lot_config) median(sale_price_log)\n",
       "1 Corner    11.98293        11.98293        11.98293              \n",
       "2 CulDSac   12.20235        12.20235        12.20235              \n",
       "3 FR2       12.01370        12.01370        12.01370              \n",
       "4 FR3       12.18131        12.18131        12.18131              \n",
       "5 Inside    11.98104        11.98104        11.98104              "
      ]
     },
     "metadata": {},
     "output_type": "display_data"
    }
   ],
   "source": [
    "training %>% group_by(LotConfig) %>% summarise(n=n(), avg_price=median(sale_price_log))\n",
    "\n",
    "transform$LotConfig <- group_averaging_tran(LotConfig, \"lot_config\")\n",
    "\n",
    "tranformed <- transform$LotConfig(training, remove=F)\n",
    "\n",
    "tranformed %>% group_by(LotConfig) %>% \n",
    "summarise(min(lot_config), max(lot_config), median(sale_price_log))"
   ]
  },
  {
   "cell_type": "code",
   "execution_count": 165,
   "metadata": {},
   "outputs": [
    {
     "data": {
      "text/html": [
       "<ol class=list-inline>\n",
       "\t<li>'Condition1'</li>\n",
       "\t<li>'Condition2'</li>\n",
       "\t<li>'ExterCond'</li>\n",
       "\t<li>'Exterior1st'</li>\n",
       "\t<li>'Exterior2nd'</li>\n",
       "\t<li>'ExterQual'</li>\n",
       "\t<li>'GarageCond'</li>\n",
       "\t<li>'GarageQual'</li>\n",
       "\t<li>'MasVnrType'</li>\n",
       "\t<li>'MSZoning'</li>\n",
       "\t<li>'Neighborhood'</li>\n",
       "\t<li>'RoofStyle'</li>\n",
       "\t<li>'SaleCondition'</li>\n",
       "\t<li>'SaleType'</li>\n",
       "\t<li>'Utilities'</li>\n",
       "</ol>\n"
      ],
      "text/latex": [
       "\\begin{enumerate*}\n",
       "\\item 'Condition1'\n",
       "\\item 'Condition2'\n",
       "\\item 'ExterCond'\n",
       "\\item 'Exterior1st'\n",
       "\\item 'Exterior2nd'\n",
       "\\item 'ExterQual'\n",
       "\\item 'GarageCond'\n",
       "\\item 'GarageQual'\n",
       "\\item 'MasVnrType'\n",
       "\\item 'MSZoning'\n",
       "\\item 'Neighborhood'\n",
       "\\item 'RoofStyle'\n",
       "\\item 'SaleCondition'\n",
       "\\item 'SaleType'\n",
       "\\item 'Utilities'\n",
       "\\end{enumerate*}\n"
      ],
      "text/markdown": [
       "1. 'Condition1'\n",
       "2. 'Condition2'\n",
       "3. 'ExterCond'\n",
       "4. 'Exterior1st'\n",
       "5. 'Exterior2nd'\n",
       "6. 'ExterQual'\n",
       "7. 'GarageCond'\n",
       "8. 'GarageQual'\n",
       "9. 'MasVnrType'\n",
       "10. 'MSZoning'\n",
       "11. 'Neighborhood'\n",
       "12. 'RoofStyle'\n",
       "13. 'SaleCondition'\n",
       "14. 'SaleType'\n",
       "15. 'Utilities'\n",
       "\n",
       "\n"
      ],
      "text/plain": [
       " [1] \"Condition1\"    \"Condition2\"    \"ExterCond\"     \"Exterior1st\"  \n",
       " [5] \"Exterior2nd\"   \"ExterQual\"     \"GarageCond\"    \"GarageQual\"   \n",
       " [9] \"MasVnrType\"    \"MSZoning\"      \"Neighborhood\"  \"RoofStyle\"    \n",
       "[13] \"SaleCondition\" \"SaleType\"      \"Utilities\"    "
      ]
     },
     "metadata": {},
     "output_type": "display_data"
    }
   ],
   "source": [
    "setdiff(char_vars_names, transform %>% names) %>% sort"
   ]
  },
  {
   "cell_type": "code",
   "execution_count": 167,
   "metadata": {},
   "outputs": [
    {
     "data": {
      "text/html": [
       "<table>\n",
       "<thead><tr><th scope=col>MasVnrType</th><th scope=col>n</th><th scope=col>avg_price</th></tr></thead>\n",
       "<tbody>\n",
       "\t<tr><td>BrkCmn  </td><td> 15     </td><td>11.84223</td></tr>\n",
       "\t<tr><td>BrkFace </td><td>445     </td><td>12.10625</td></tr>\n",
       "\t<tr><td>None    </td><td>864     </td><td>11.87060</td></tr>\n",
       "\t<tr><td>Stone   </td><td>128     </td><td>12.41647</td></tr>\n",
       "\t<tr><td>NA      </td><td>  8     </td><td>12.22229</td></tr>\n",
       "</tbody>\n",
       "</table>\n"
      ],
      "text/latex": [
       "\\begin{tabular}{r|lll}\n",
       " MasVnrType & n & avg\\_price\\\\\n",
       "\\hline\n",
       "\t BrkCmn   &  15      & 11.84223\\\\\n",
       "\t BrkFace  & 445      & 12.10625\\\\\n",
       "\t None     & 864      & 11.87060\\\\\n",
       "\t Stone    & 128      & 12.41647\\\\\n",
       "\t NA       &   8      & 12.22229\\\\\n",
       "\\end{tabular}\n"
      ],
      "text/markdown": [
       "\n",
       "MasVnrType | n | avg_price | \n",
       "|---|---|---|---|---|\n",
       "| BrkCmn   |  15      | 11.84223 | \n",
       "| BrkFace  | 445      | 12.10625 | \n",
       "| None     | 864      | 11.87060 | \n",
       "| Stone    | 128      | 12.41647 | \n",
       "| NA       |   8      | 12.22229 | \n",
       "\n",
       "\n"
      ],
      "text/plain": [
       "  MasVnrType n   avg_price\n",
       "1 BrkCmn      15 11.84223 \n",
       "2 BrkFace    445 12.10625 \n",
       "3 None       864 11.87060 \n",
       "4 Stone      128 12.41647 \n",
       "5 NA           8 12.22229 "
      ]
     },
     "metadata": {},
     "output_type": "display_data"
    },
    {
     "data": {
      "text/html": [
       "<table>\n",
       "<thead><tr><th scope=col>MasVnrType</th><th scope=col>min(masonry_veneer_type)</th><th scope=col>max(masonry_veneer_type)</th><th scope=col>median(sale_price_log)</th></tr></thead>\n",
       "<tbody>\n",
       "\t<tr><td>BrkCmn  </td><td>11.84223</td><td>11.84223</td><td>11.84223</td></tr>\n",
       "\t<tr><td>BrkFace </td><td>12.10625</td><td>12.10625</td><td>12.10625</td></tr>\n",
       "\t<tr><td>None    </td><td>11.87060</td><td>11.87060</td><td>11.87060</td></tr>\n",
       "\t<tr><td>Stone   </td><td>12.41647</td><td>12.41647</td><td>12.41647</td></tr>\n",
       "\t<tr><td>NA      </td><td>12.22229</td><td>12.22229</td><td>12.22229</td></tr>\n",
       "</tbody>\n",
       "</table>\n"
      ],
      "text/latex": [
       "\\begin{tabular}{r|llll}\n",
       " MasVnrType & min(masonry\\_veneer\\_type) & max(masonry\\_veneer\\_type) & median(sale\\_price\\_log)\\\\\n",
       "\\hline\n",
       "\t BrkCmn   & 11.84223 & 11.84223 & 11.84223\\\\\n",
       "\t BrkFace  & 12.10625 & 12.10625 & 12.10625\\\\\n",
       "\t None     & 11.87060 & 11.87060 & 11.87060\\\\\n",
       "\t Stone    & 12.41647 & 12.41647 & 12.41647\\\\\n",
       "\t NA       & 12.22229 & 12.22229 & 12.22229\\\\\n",
       "\\end{tabular}\n"
      ],
      "text/markdown": [
       "\n",
       "MasVnrType | min(masonry_veneer_type) | max(masonry_veneer_type) | median(sale_price_log) | \n",
       "|---|---|---|---|---|\n",
       "| BrkCmn   | 11.84223 | 11.84223 | 11.84223 | \n",
       "| BrkFace  | 12.10625 | 12.10625 | 12.10625 | \n",
       "| None     | 11.87060 | 11.87060 | 11.87060 | \n",
       "| Stone    | 12.41647 | 12.41647 | 12.41647 | \n",
       "| NA       | 12.22229 | 12.22229 | 12.22229 | \n",
       "\n",
       "\n"
      ],
      "text/plain": [
       "  MasVnrType min(masonry_veneer_type) max(masonry_veneer_type)\n",
       "1 BrkCmn     11.84223                 11.84223                \n",
       "2 BrkFace    12.10625                 12.10625                \n",
       "3 None       11.87060                 11.87060                \n",
       "4 Stone      12.41647                 12.41647                \n",
       "5 NA         12.22229                 12.22229                \n",
       "  median(sale_price_log)\n",
       "1 11.84223              \n",
       "2 12.10625              \n",
       "3 11.87060              \n",
       "4 12.41647              \n",
       "5 12.22229              "
      ]
     },
     "metadata": {},
     "output_type": "display_data"
    }
   ],
   "source": [
    "training %>% group_by(MasVnrType) %>% summarise(n=n(), avg_price=median(sale_price_log))\n",
    "\n",
    "transform$MasVnrType <- group_averaging_tran(MasVnrType, \"masonry_veneer_type\")\n",
    "\n",
    "tranformed <- transform$MasVnrType(training, remove=F)\n",
    "\n",
    "tranformed %>% group_by(MasVnrType) %>% \n",
    "summarise(min(masonry_veneer_type), max(masonry_veneer_type), median(sale_price_log))"
   ]
  },
  {
   "cell_type": "code",
   "execution_count": 106,
   "metadata": {},
   "outputs": [
    {
     "data": {
      "text/html": [
       "<table>\n",
       "<thead><tr><th scope=col>Condition1</th><th scope=col>avg</th><th scope=col>n</th></tr></thead>\n",
       "<tbody>\n",
       "\t<tr><td>Artery  </td><td>11.69149</td><td>  48    </td></tr>\n",
       "\t<tr><td>Feedr   </td><td>11.84940</td><td>  81    </td></tr>\n",
       "\t<tr><td>Norm    </td><td>12.02275</td><td>1260    </td></tr>\n",
       "\t<tr><td>PosA    </td><td>12.26106</td><td>   8    </td></tr>\n",
       "\t<tr><td>PosN    </td><td>12.20607</td><td>  19    </td></tr>\n",
       "\t<tr><td>RRAe    </td><td>11.86710</td><td>  11    </td></tr>\n",
       "\t<tr><td>RRAn    </td><td>12.05227</td><td>  26    </td></tr>\n",
       "\t<tr><td>RRNe    </td><td>12.15853</td><td>   2    </td></tr>\n",
       "\t<tr><td>RRNn    </td><td>12.27373</td><td>   5    </td></tr>\n",
       "</tbody>\n",
       "</table>\n"
      ],
      "text/latex": [
       "\\begin{tabular}{r|lll}\n",
       " Condition1 & avg & n\\\\\n",
       "\\hline\n",
       "\t Artery   & 11.69149 &   48    \\\\\n",
       "\t Feedr    & 11.84940 &   81    \\\\\n",
       "\t Norm     & 12.02275 & 1260    \\\\\n",
       "\t PosA     & 12.26106 &    8    \\\\\n",
       "\t PosN     & 12.20607 &   19    \\\\\n",
       "\t RRAe     & 11.86710 &   11    \\\\\n",
       "\t RRAn     & 12.05227 &   26    \\\\\n",
       "\t RRNe     & 12.15853 &    2    \\\\\n",
       "\t RRNn     & 12.27373 &    5    \\\\\n",
       "\\end{tabular}\n"
      ],
      "text/markdown": [
       "\n",
       "Condition1 | avg | n | \n",
       "|---|---|---|---|---|---|---|---|---|\n",
       "| Artery   | 11.69149 |   48     | \n",
       "| Feedr    | 11.84940 |   81     | \n",
       "| Norm     | 12.02275 | 1260     | \n",
       "| PosA     | 12.26106 |    8     | \n",
       "| PosN     | 12.20607 |   19     | \n",
       "| RRAe     | 11.86710 |   11     | \n",
       "| RRAn     | 12.05227 |   26     | \n",
       "| RRNe     | 12.15853 |    2     | \n",
       "| RRNn     | 12.27373 |    5     | \n",
       "\n",
       "\n"
      ],
      "text/plain": [
       "  Condition1 avg      n   \n",
       "1 Artery     11.69149   48\n",
       "2 Feedr      11.84940   81\n",
       "3 Norm       12.02275 1260\n",
       "4 PosA       12.26106    8\n",
       "5 PosN       12.20607   19\n",
       "6 RRAe       11.86710   11\n",
       "7 RRAn       12.05227   26\n",
       "8 RRNe       12.15853    2\n",
       "9 RRNn       12.27373    5"
      ]
     },
     "metadata": {},
     "output_type": "display_data"
    },
    {
     "data": {
      "text/html": [
       "<table>\n",
       "<thead><tr><th scope=col>Condition2</th><th scope=col>avg</th><th scope=col>n</th></tr></thead>\n",
       "<tbody>\n",
       "\t<tr><td>Artery  </td><td>11.57004</td><td>   2    </td></tr>\n",
       "\t<tr><td>Feedr   </td><td>11.75586</td><td>   6    </td></tr>\n",
       "\t<tr><td>Norm    </td><td>12.00457</td><td>1445    </td></tr>\n",
       "\t<tr><td>PosA    </td><td>12.69158</td><td>   1    </td></tr>\n",
       "\t<tr><td>PosN    </td><td>12.49388</td><td>   2    </td></tr>\n",
       "\t<tr><td>RRAe    </td><td>12.15478</td><td>   1    </td></tr>\n",
       "\t<tr><td>RRAn    </td><td>11.82704</td><td>   1    </td></tr>\n",
       "\t<tr><td>RRNn    </td><td>11.43533</td><td>   2    </td></tr>\n",
       "</tbody>\n",
       "</table>\n"
      ],
      "text/latex": [
       "\\begin{tabular}{r|lll}\n",
       " Condition2 & avg & n\\\\\n",
       "\\hline\n",
       "\t Artery   & 11.57004 &    2    \\\\\n",
       "\t Feedr    & 11.75586 &    6    \\\\\n",
       "\t Norm     & 12.00457 & 1445    \\\\\n",
       "\t PosA     & 12.69158 &    1    \\\\\n",
       "\t PosN     & 12.49388 &    2    \\\\\n",
       "\t RRAe     & 12.15478 &    1    \\\\\n",
       "\t RRAn     & 11.82704 &    1    \\\\\n",
       "\t RRNn     & 11.43533 &    2    \\\\\n",
       "\\end{tabular}\n"
      ],
      "text/markdown": [
       "\n",
       "Condition2 | avg | n | \n",
       "|---|---|---|---|---|---|---|---|\n",
       "| Artery   | 11.57004 |    2     | \n",
       "| Feedr    | 11.75586 |    6     | \n",
       "| Norm     | 12.00457 | 1445     | \n",
       "| PosA     | 12.69158 |    1     | \n",
       "| PosN     | 12.49388 |    2     | \n",
       "| RRAe     | 12.15478 |    1     | \n",
       "| RRAn     | 11.82704 |    1     | \n",
       "| RRNn     | 11.43533 |    2     | \n",
       "\n",
       "\n"
      ],
      "text/plain": [
       "  Condition2 avg      n   \n",
       "1 Artery     11.57004    2\n",
       "2 Feedr      11.75586    6\n",
       "3 Norm       12.00457 1445\n",
       "4 PosA       12.69158    1\n",
       "5 PosN       12.49388    2\n",
       "6 RRAe       12.15478    1\n",
       "7 RRAn       11.82704    1\n",
       "8 RRNn       11.43533    2"
      ]
     },
     "metadata": {},
     "output_type": "display_data"
    },
    {
     "data": {
      "text/html": [
       "<table>\n",
       "<thead><tr><th scope=col>adjacent_railroad</th><th scope=col>adjacent_traffic_street</th><th scope=col>adjacent_positive</th><th scope=col>Condition1</th><th scope=col>Condition2</th><th scope=col>n</th></tr></thead>\n",
       "<tbody>\n",
       "\t<tr><td>0     </td><td>0     </td><td>0     </td><td>Norm  </td><td>Norm  </td><td>1260  </td></tr>\n",
       "\t<tr><td>0     </td><td>0     </td><td>1     </td><td>PosA  </td><td>Norm  </td><td>   8  </td></tr>\n",
       "\t<tr><td>0     </td><td>0     </td><td>1     </td><td>PosN  </td><td>Norm  </td><td>  17  </td></tr>\n",
       "\t<tr><td>0     </td><td>0     </td><td>1     </td><td>PosN  </td><td>PosN  </td><td>   2  </td></tr>\n",
       "\t<tr><td>0     </td><td>1     </td><td>0     </td><td>Artery</td><td>Artery</td><td>   2  </td></tr>\n",
       "\t<tr><td>0     </td><td>1     </td><td>0     </td><td>Artery</td><td>Norm  </td><td>  45  </td></tr>\n",
       "\t<tr><td>0     </td><td>1     </td><td>0     </td><td>Feedr </td><td>Feedr </td><td>   1  </td></tr>\n",
       "\t<tr><td>0     </td><td>1     </td><td>0     </td><td>Feedr </td><td>Norm  </td><td>  76  </td></tr>\n",
       "\t<tr><td>0     </td><td>1     </td><td>1     </td><td>Artery</td><td>PosA  </td><td>   1  </td></tr>\n",
       "\t<tr><td>1     </td><td>0     </td><td>0     </td><td>RRAe  </td><td>Norm  </td><td>  11  </td></tr>\n",
       "\t<tr><td>1     </td><td>0     </td><td>0     </td><td>RRAn  </td><td>Norm  </td><td>  22  </td></tr>\n",
       "\t<tr><td>1     </td><td>0     </td><td>0     </td><td>RRNe  </td><td>Norm  </td><td>   2  </td></tr>\n",
       "\t<tr><td>1     </td><td>0     </td><td>0     </td><td>RRNn  </td><td>Norm  </td><td>   4  </td></tr>\n",
       "\t<tr><td>1     </td><td>1     </td><td>0     </td><td>Feedr </td><td>RRAe  </td><td>   1  </td></tr>\n",
       "\t<tr><td>1     </td><td>1     </td><td>0     </td><td>Feedr </td><td>RRAn  </td><td>   1  </td></tr>\n",
       "\t<tr><td>1     </td><td>1     </td><td>0     </td><td>Feedr </td><td>RRNn  </td><td>   2  </td></tr>\n",
       "\t<tr><td>1     </td><td>1     </td><td>0     </td><td>RRAn  </td><td>Feedr </td><td>   4  </td></tr>\n",
       "\t<tr><td>1     </td><td>1     </td><td>0     </td><td>RRNn  </td><td>Feedr </td><td>   1  </td></tr>\n",
       "</tbody>\n",
       "</table>\n"
      ],
      "text/latex": [
       "\\begin{tabular}{r|llllll}\n",
       " adjacent\\_railroad & adjacent\\_traffic\\_street & adjacent\\_positive & Condition1 & Condition2 & n\\\\\n",
       "\\hline\n",
       "\t 0      & 0      & 0      & Norm   & Norm   & 1260  \\\\\n",
       "\t 0      & 0      & 1      & PosA   & Norm   &    8  \\\\\n",
       "\t 0      & 0      & 1      & PosN   & Norm   &   17  \\\\\n",
       "\t 0      & 0      & 1      & PosN   & PosN   &    2  \\\\\n",
       "\t 0      & 1      & 0      & Artery & Artery &    2  \\\\\n",
       "\t 0      & 1      & 0      & Artery & Norm   &   45  \\\\\n",
       "\t 0      & 1      & 0      & Feedr  & Feedr  &    1  \\\\\n",
       "\t 0      & 1      & 0      & Feedr  & Norm   &   76  \\\\\n",
       "\t 0      & 1      & 1      & Artery & PosA   &    1  \\\\\n",
       "\t 1      & 0      & 0      & RRAe   & Norm   &   11  \\\\\n",
       "\t 1      & 0      & 0      & RRAn   & Norm   &   22  \\\\\n",
       "\t 1      & 0      & 0      & RRNe   & Norm   &    2  \\\\\n",
       "\t 1      & 0      & 0      & RRNn   & Norm   &    4  \\\\\n",
       "\t 1      & 1      & 0      & Feedr  & RRAe   &    1  \\\\\n",
       "\t 1      & 1      & 0      & Feedr  & RRAn   &    1  \\\\\n",
       "\t 1      & 1      & 0      & Feedr  & RRNn   &    2  \\\\\n",
       "\t 1      & 1      & 0      & RRAn   & Feedr  &    4  \\\\\n",
       "\t 1      & 1      & 0      & RRNn   & Feedr  &    1  \\\\\n",
       "\\end{tabular}\n"
      ],
      "text/markdown": [
       "\n",
       "adjacent_railroad | adjacent_traffic_street | adjacent_positive | Condition1 | Condition2 | n | \n",
       "|---|---|---|---|---|---|---|---|---|---|---|---|---|---|---|---|---|---|\n",
       "| 0      | 0      | 0      | Norm   | Norm   | 1260   | \n",
       "| 0      | 0      | 1      | PosA   | Norm   |    8   | \n",
       "| 0      | 0      | 1      | PosN   | Norm   |   17   | \n",
       "| 0      | 0      | 1      | PosN   | PosN   |    2   | \n",
       "| 0      | 1      | 0      | Artery | Artery |    2   | \n",
       "| 0      | 1      | 0      | Artery | Norm   |   45   | \n",
       "| 0      | 1      | 0      | Feedr  | Feedr  |    1   | \n",
       "| 0      | 1      | 0      | Feedr  | Norm   |   76   | \n",
       "| 0      | 1      | 1      | Artery | PosA   |    1   | \n",
       "| 1      | 0      | 0      | RRAe   | Norm   |   11   | \n",
       "| 1      | 0      | 0      | RRAn   | Norm   |   22   | \n",
       "| 1      | 0      | 0      | RRNe   | Norm   |    2   | \n",
       "| 1      | 0      | 0      | RRNn   | Norm   |    4   | \n",
       "| 1      | 1      | 0      | Feedr  | RRAe   |    1   | \n",
       "| 1      | 1      | 0      | Feedr  | RRAn   |    1   | \n",
       "| 1      | 1      | 0      | Feedr  | RRNn   |    2   | \n",
       "| 1      | 1      | 0      | RRAn   | Feedr  |    4   | \n",
       "| 1      | 1      | 0      | RRNn   | Feedr  |    1   | \n",
       "\n",
       "\n"
      ],
      "text/plain": [
       "   adjacent_railroad adjacent_traffic_street adjacent_positive Condition1\n",
       "1  0                 0                       0                 Norm      \n",
       "2  0                 0                       1                 PosA      \n",
       "3  0                 0                       1                 PosN      \n",
       "4  0                 0                       1                 PosN      \n",
       "5  0                 1                       0                 Artery    \n",
       "6  0                 1                       0                 Artery    \n",
       "7  0                 1                       0                 Feedr     \n",
       "8  0                 1                       0                 Feedr     \n",
       "9  0                 1                       1                 Artery    \n",
       "10 1                 0                       0                 RRAe      \n",
       "11 1                 0                       0                 RRAn      \n",
       "12 1                 0                       0                 RRNe      \n",
       "13 1                 0                       0                 RRNn      \n",
       "14 1                 1                       0                 Feedr     \n",
       "15 1                 1                       0                 Feedr     \n",
       "16 1                 1                       0                 Feedr     \n",
       "17 1                 1                       0                 RRAn      \n",
       "18 1                 1                       0                 RRNn      \n",
       "   Condition2 n   \n",
       "1  Norm       1260\n",
       "2  Norm          8\n",
       "3  Norm         17\n",
       "4  PosN          2\n",
       "5  Artery        2\n",
       "6  Norm         45\n",
       "7  Feedr         1\n",
       "8  Norm         76\n",
       "9  PosA          1\n",
       "10 Norm         11\n",
       "11 Norm         22\n",
       "12 Norm          2\n",
       "13 Norm          4\n",
       "14 RRAe          1\n",
       "15 RRAn          1\n",
       "16 RRNn          2\n",
       "17 Feedr         4\n",
       "18 Feedr         1"
      ]
     },
     "metadata": {},
     "output_type": "display_data"
    }
   ],
   "source": [
    "transform$Condition1.Condition2 <- function (df) {\n",
    "    training %>% mutate(\n",
    "        adjacent_railroad = ifelse(Condition1 %in% c('RRAe', 'RRAn', 'RRNe', 'RRNn') | \n",
    "                                   Condition2 %in% c('RRAe', 'RRAn', 'RRNe', 'RRNn'),\n",
    "                                   1, 0),\n",
    "\n",
    "        adjacent_traffic_street = ifelse(Condition1 %in% c('Artery', 'Feedr') | \n",
    "                                   Condition2 %in% c('Artery', 'Feedr'),\n",
    "                                   1, 0),\n",
    "\n",
    "        adjacent_positive = ifelse(Condition1 %in% c('PosA', 'PosN') | \n",
    "                                   Condition2 %in% c('PosA', 'PosN'),\n",
    "                                   1, 0)\n",
    "    )\n",
    "}\n",
    "\n",
    "tranformed <- transform$Condition1.Condition2(training)\n",
    "\n",
    "training %>% group_by(Condition1) %>% summarise(avg = median(sale_price_log), n=n())\n",
    "training %>% group_by(Condition2) %>% summarise(avg = median(sale_price_log), n=n())\n",
    "\n",
    "tranformed %>% \n",
    "group_by(adjacent_railroad, adjacent_traffic_street, adjacent_positive, Condition1, Condition2) %>% \n",
    "count"
   ]
  },
  {
   "cell_type": "code",
   "execution_count": 121,
   "metadata": {},
   "outputs": [
    {
     "data": {
      "text/html": [
       "<table>\n",
       "<thead><tr><th scope=col>ExterQual</th><th scope=col>ExterCond</th><th scope=col>avg</th><th scope=col>n</th></tr></thead>\n",
       "<tbody>\n",
       "\t<tr><td>Ex      </td><td>Ex      </td><td>12.69158</td><td>  1     </td></tr>\n",
       "\t<tr><td>Ex      </td><td>Gd      </td><td>12.49313</td><td>  3     </td></tr>\n",
       "\t<tr><td>Ex      </td><td>TA      </td><td>12.83248</td><td> 48     </td></tr>\n",
       "\t<tr><td>Fa      </td><td>Fa      </td><td>11.01036</td><td>  6     </td></tr>\n",
       "\t<tr><td>Fa      </td><td>TA      </td><td>11.50104</td><td>  8     </td></tr>\n",
       "\t<tr><td>Gd      </td><td>Gd      </td><td>12.25486</td><td> 35     </td></tr>\n",
       "\t<tr><td>Gd      </td><td>TA      </td><td>12.30592</td><td>453     </td></tr>\n",
       "\t<tr><td>TA      </td><td>Ex      </td><td>11.83380</td><td>  2     </td></tr>\n",
       "\t<tr><td>TA      </td><td>Fa      </td><td>11.68462</td><td> 22     </td></tr>\n",
       "\t<tr><td>TA      </td><td>Gd      </td><td>11.84940</td><td>108     </td></tr>\n",
       "\t<tr><td>TA      </td><td>Po      </td><td>11.24505</td><td>  1     </td></tr>\n",
       "\t<tr><td>TA      </td><td>TA      </td><td>11.84904</td><td>773     </td></tr>\n",
       "</tbody>\n",
       "</table>\n"
      ],
      "text/latex": [
       "\\begin{tabular}{r|llll}\n",
       " ExterQual & ExterCond & avg & n\\\\\n",
       "\\hline\n",
       "\t Ex       & Ex       & 12.69158 &   1     \\\\\n",
       "\t Ex       & Gd       & 12.49313 &   3     \\\\\n",
       "\t Ex       & TA       & 12.83248 &  48     \\\\\n",
       "\t Fa       & Fa       & 11.01036 &   6     \\\\\n",
       "\t Fa       & TA       & 11.50104 &   8     \\\\\n",
       "\t Gd       & Gd       & 12.25486 &  35     \\\\\n",
       "\t Gd       & TA       & 12.30592 & 453     \\\\\n",
       "\t TA       & Ex       & 11.83380 &   2     \\\\\n",
       "\t TA       & Fa       & 11.68462 &  22     \\\\\n",
       "\t TA       & Gd       & 11.84940 & 108     \\\\\n",
       "\t TA       & Po       & 11.24505 &   1     \\\\\n",
       "\t TA       & TA       & 11.84904 & 773     \\\\\n",
       "\\end{tabular}\n"
      ],
      "text/markdown": [
       "\n",
       "ExterQual | ExterCond | avg | n | \n",
       "|---|---|---|---|---|---|---|---|---|---|---|---|\n",
       "| Ex       | Ex       | 12.69158 |   1      | \n",
       "| Ex       | Gd       | 12.49313 |   3      | \n",
       "| Ex       | TA       | 12.83248 |  48      | \n",
       "| Fa       | Fa       | 11.01036 |   6      | \n",
       "| Fa       | TA       | 11.50104 |   8      | \n",
       "| Gd       | Gd       | 12.25486 |  35      | \n",
       "| Gd       | TA       | 12.30592 | 453      | \n",
       "| TA       | Ex       | 11.83380 |   2      | \n",
       "| TA       | Fa       | 11.68462 |  22      | \n",
       "| TA       | Gd       | 11.84940 | 108      | \n",
       "| TA       | Po       | 11.24505 |   1      | \n",
       "| TA       | TA       | 11.84904 | 773      | \n",
       "\n",
       "\n"
      ],
      "text/plain": [
       "   ExterQual ExterCond avg      n  \n",
       "1  Ex        Ex        12.69158   1\n",
       "2  Ex        Gd        12.49313   3\n",
       "3  Ex        TA        12.83248  48\n",
       "4  Fa        Fa        11.01036   6\n",
       "5  Fa        TA        11.50104   8\n",
       "6  Gd        Gd        12.25486  35\n",
       "7  Gd        TA        12.30592 453\n",
       "8  TA        Ex        11.83380   2\n",
       "9  TA        Fa        11.68462  22\n",
       "10 TA        Gd        11.84940 108\n",
       "11 TA        Po        11.24505   1\n",
       "12 TA        TA        11.84904 773"
      ]
     },
     "metadata": {},
     "output_type": "display_data"
    },
    {
     "data": {
      "text/html": [
       "<table>\n",
       "<thead><tr><th scope=col>ExterQualCond</th><th scope=col>min(exterior_qual_cond)</th><th scope=col>max(exterior_qual_cond)</th><th scope=col>median(sale_price_log)</th></tr></thead>\n",
       "<tbody>\n",
       "\t<tr><td>Ex      </td><td>12.80655</td><td>12.80655</td><td>12.80655</td></tr>\n",
       "\t<tr><td>Fa      </td><td>11.31751</td><td>11.31751</td><td>11.31751</td></tr>\n",
       "\t<tr><td>Gd      </td><td>12.30138</td><td>12.30138</td><td>12.30138</td></tr>\n",
       "\t<tr><td>Po      </td><td>11.24505</td><td>11.24505</td><td>11.24505</td></tr>\n",
       "\t<tr><td>TA      </td><td>11.84582</td><td>11.84582</td><td>11.84582</td></tr>\n",
       "</tbody>\n",
       "</table>\n"
      ],
      "text/latex": [
       "\\begin{tabular}{r|llll}\n",
       " ExterQualCond & min(exterior\\_qual\\_cond) & max(exterior\\_qual\\_cond) & median(sale\\_price\\_log)\\\\\n",
       "\\hline\n",
       "\t Ex       & 12.80655 & 12.80655 & 12.80655\\\\\n",
       "\t Fa       & 11.31751 & 11.31751 & 11.31751\\\\\n",
       "\t Gd       & 12.30138 & 12.30138 & 12.30138\\\\\n",
       "\t Po       & 11.24505 & 11.24505 & 11.24505\\\\\n",
       "\t TA       & 11.84582 & 11.84582 & 11.84582\\\\\n",
       "\\end{tabular}\n"
      ],
      "text/markdown": [
       "\n",
       "ExterQualCond | min(exterior_qual_cond) | max(exterior_qual_cond) | median(sale_price_log) | \n",
       "|---|---|---|---|---|\n",
       "| Ex       | 12.80655 | 12.80655 | 12.80655 | \n",
       "| Fa       | 11.31751 | 11.31751 | 11.31751 | \n",
       "| Gd       | 12.30138 | 12.30138 | 12.30138 | \n",
       "| Po       | 11.24505 | 11.24505 | 11.24505 | \n",
       "| TA       | 11.84582 | 11.84582 | 11.84582 | \n",
       "\n",
       "\n"
      ],
      "text/plain": [
       "  ExterQualCond min(exterior_qual_cond) max(exterior_qual_cond)\n",
       "1 Ex            12.80655                12.80655               \n",
       "2 Fa            11.31751                11.31751               \n",
       "3 Gd            12.30138                12.30138               \n",
       "4 Po            11.24505                11.24505               \n",
       "5 TA            11.84582                11.84582               \n",
       "  median(sale_price_log)\n",
       "1 12.80655              \n",
       "2 11.31751              \n",
       "3 12.30138              \n",
       "4 11.24505              \n",
       "5 11.84582              "
      ]
     },
     "metadata": {},
     "output_type": "display_data"
    }
   ],
   "source": [
    "training %>% group_by(ExterQual, ExterCond) %>% summarise(avg = median(sale_price_log), n=n())\n",
    "\n",
    "step1 <- function (df) {\n",
    "    df %>% mutate(\n",
    "        ExterQualCond = case_when(\n",
    "            \n",
    "            ExterQual == 'Ex' & ExterCond %in% c('Ex', 'Gd', 'TA') ~ 'Ex',\n",
    "            ExterQual == 'Ex' & ExterCond == 'Fa' ~ 'good',\n",
    "            \n",
    "            ExterQual == 'Gd' & ExterCond %in% c('Ex', 'Gd', 'TA') ~ 'Gd',\n",
    "            ExterQual == 'Gd' & ExterCond == 'Fa' ~ 'typical',\n",
    "            \n",
    "            ExterQual == 'TA' & ExterCond != 'Po' ~ 'TA',\n",
    "            ExterQual == 'Fa' & ExterCond != 'Po' ~ 'Fa',\n",
    "            T ~ 'Po'\n",
    "        )\n",
    "    )\n",
    "}\n",
    "\n",
    "step2 <- group_averaging_tran(ExterQualCond, \"exterior_qual_cond\")\n",
    "\n",
    "transform$ExterQual.ExterCond <- function(df, remove=T) {\n",
    "    df.new <- step1(df)\n",
    "    df.new <- step2(df.new, remove=remove)\n",
    "    if ( remove ) {\n",
    "        df.new$ExterQual <- NULL\n",
    "        df.new$ExterQual <- NULL\n",
    "    }\n",
    "    df.new\n",
    "}\n",
    "\n",
    "tranformed %>% group_by(ExterQualCond) %>%\n",
    "summarise(min(exterior_qual_cond), max(exterior_qual_cond), median(sale_price_log))"
   ]
  },
  {
   "cell_type": "code",
   "execution_count": null,
   "metadata": {
    "collapsed": true
   },
   "outputs": [],
   "source": []
  },
  {
   "cell_type": "code",
   "execution_count": null,
   "metadata": {
    "collapsed": true
   },
   "outputs": [],
   "source": []
  },
  {
   "cell_type": "code",
   "execution_count": null,
   "metadata": {
    "collapsed": true
   },
   "outputs": [],
   "source": []
  },
  {
   "cell_type": "code",
   "execution_count": null,
   "metadata": {
    "collapsed": true
   },
   "outputs": [],
   "source": []
  },
  {
   "cell_type": "code",
   "execution_count": null,
   "metadata": {
    "collapsed": true
   },
   "outputs": [],
   "source": []
  },
  {
   "cell_type": "code",
   "execution_count": null,
   "metadata": {
    "collapsed": true
   },
   "outputs": [],
   "source": []
  },
  {
   "cell_type": "code",
   "execution_count": null,
   "metadata": {
    "collapsed": true
   },
   "outputs": [],
   "source": []
  },
  {
   "cell_type": "code",
   "execution_count": null,
   "metadata": {
    "collapsed": true
   },
   "outputs": [],
   "source": []
  },
  {
   "cell_type": "code",
   "execution_count": null,
   "metadata": {
    "collapsed": true
   },
   "outputs": [],
   "source": []
  },
  {
   "cell_type": "code",
   "execution_count": null,
   "metadata": {
    "collapsed": true
   },
   "outputs": [],
   "source": []
  },
  {
   "cell_type": "code",
   "execution_count": null,
   "metadata": {
    "collapsed": true
   },
   "outputs": [],
   "source": []
  },
  {
   "cell_type": "code",
   "execution_count": null,
   "metadata": {
    "collapsed": true
   },
   "outputs": [],
   "source": []
  },
  {
   "cell_type": "code",
   "execution_count": null,
   "metadata": {
    "collapsed": true
   },
   "outputs": [],
   "source": []
  },
  {
   "cell_type": "code",
   "execution_count": null,
   "metadata": {
    "collapsed": true
   },
   "outputs": [],
   "source": []
  },
  {
   "cell_type": "code",
   "execution_count": null,
   "metadata": {
    "collapsed": true
   },
   "outputs": [],
   "source": []
  },
  {
   "cell_type": "code",
   "execution_count": null,
   "metadata": {
    "collapsed": true
   },
   "outputs": [],
   "source": []
  },
  {
   "cell_type": "code",
   "execution_count": null,
   "metadata": {
    "collapsed": true
   },
   "outputs": [],
   "source": []
  },
  {
   "cell_type": "code",
   "execution_count": null,
   "metadata": {
    "collapsed": true
   },
   "outputs": [],
   "source": []
  },
  {
   "cell_type": "code",
   "execution_count": null,
   "metadata": {
    "collapsed": true
   },
   "outputs": [],
   "source": []
  },
  {
   "cell_type": "code",
   "execution_count": null,
   "metadata": {
    "collapsed": true
   },
   "outputs": [],
   "source": []
  },
  {
   "cell_type": "code",
   "execution_count": null,
   "metadata": {
    "collapsed": true
   },
   "outputs": [],
   "source": []
  },
  {
   "cell_type": "code",
   "execution_count": null,
   "metadata": {
    "collapsed": true
   },
   "outputs": [],
   "source": []
  },
  {
   "cell_type": "code",
   "execution_count": null,
   "metadata": {
    "collapsed": true
   },
   "outputs": [],
   "source": []
  },
  {
   "cell_type": "code",
   "execution_count": null,
   "metadata": {
    "collapsed": true
   },
   "outputs": [],
   "source": []
  },
  {
   "cell_type": "code",
   "execution_count": null,
   "metadata": {
    "collapsed": true
   },
   "outputs": [],
   "source": []
  },
  {
   "cell_type": "code",
   "execution_count": null,
   "metadata": {
    "collapsed": true
   },
   "outputs": [],
   "source": []
  }
 ],
 "metadata": {
  "kernelspec": {
   "display_name": "R",
   "language": "R",
   "name": "ir"
  },
  "language_info": {
   "codemirror_mode": "r",
   "file_extension": ".r",
   "mimetype": "text/x-r-source",
   "name": "R",
   "pygments_lexer": "r",
   "version": "3.4.0"
  }
 },
 "nbformat": 4,
 "nbformat_minor": 2
}
