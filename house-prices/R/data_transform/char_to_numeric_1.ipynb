{
 "cells": [
  {
   "cell_type": "code",
   "execution_count": 2,
   "metadata": {},
   "outputs": [
    {
     "data": {
      "text/html": [
       "'/mnt/hdd/develop/kaggle/house-prices/R'"
      ],
      "text/latex": [
       "'/mnt/hdd/develop/kaggle/house-prices/R'"
      ],
      "text/markdown": [
       "'/mnt/hdd/develop/kaggle/house-prices/R'"
      ],
      "text/plain": [
       "[1] \"/mnt/hdd/develop/kaggle/house-prices/R\""
      ]
     },
     "metadata": {},
     "output_type": "display_data"
    },
    {
     "data": {
      "text/html": [
       "'/mnt/hdd/develop/kaggle/house-prices/R'"
      ],
      "text/latex": [
       "'/mnt/hdd/develop/kaggle/house-prices/R'"
      ],
      "text/markdown": [
       "'/mnt/hdd/develop/kaggle/house-prices/R'"
      ],
      "text/plain": [
       "[1] \"/mnt/hdd/develop/kaggle/house-prices/R\""
      ]
     },
     "metadata": {},
     "output_type": "display_data"
    }
   ],
   "source": [
    "getwd()\n",
    "if ( is.null(environment()$this_notebook_dir) ) {\n",
    "    this_notebook_dir <- getwd()\n",
    "    setwd(paste0(getwd(), '/..'))\n",
    "}\n",
    "getwd()"
   ]
  },
  {
   "cell_type": "code",
   "execution_count": 4,
   "metadata": {},
   "outputs": [
    {
     "data": {
      "text/html": [
       "<ol class=list-inline>\n",
       "\t<li>1460</li>\n",
       "\t<li>81</li>\n",
       "\t<li>1459</li>\n",
       "\t<li>80</li>\n",
       "</ol>\n"
      ],
      "text/latex": [
       "\\begin{enumerate*}\n",
       "\\item 1460\n",
       "\\item 81\n",
       "\\item 1459\n",
       "\\item 80\n",
       "\\end{enumerate*}\n"
      ],
      "text/markdown": [
       "1. 1460\n",
       "2. 81\n",
       "3. 1459\n",
       "4. 80\n",
       "\n",
       "\n"
      ],
      "text/plain": [
       "[1] 1460   81 1459   80"
      ]
     },
     "metadata": {},
     "output_type": "display_data"
    }
   ],
   "source": [
    "source('helpers.R')\n",
    "source('validation_utils.R')\n",
    "\n",
    "kaggle.house.loadLibraries()\n",
    "data <- kaggle.house.loadData()\n",
    "\n",
    "training <- data$train\n",
    "testing <- data$test\n",
    "\n",
    "c(dim(training), dim(testing))"
   ]
  },
  {
   "cell_type": "code",
   "execution_count": 6,
   "metadata": {},
   "outputs": [
    {
     "data": {
      "text/html": [
       "<ol class=list-inline>\n",
       "\t<li>'Alley'</li>\n",
       "\t<li>'BldgType'</li>\n",
       "\t<li>'BsmtCond'</li>\n",
       "\t<li>'BsmtExposure'</li>\n",
       "\t<li>'BsmtFinType1'</li>\n",
       "\t<li>'BsmtFinType2'</li>\n",
       "\t<li>'BsmtQual'</li>\n",
       "\t<li>'CentralAir'</li>\n",
       "\t<li>'Condition1'</li>\n",
       "\t<li>'Condition2'</li>\n",
       "\t<li>'Electrical'</li>\n",
       "\t<li>'ExterCond'</li>\n",
       "\t<li>'Exterior1st'</li>\n",
       "\t<li>'Exterior2nd'</li>\n",
       "\t<li>'ExterQual'</li>\n",
       "\t<li>'Fence'</li>\n",
       "\t<li>'FireplaceQu'</li>\n",
       "\t<li>'Foundation'</li>\n",
       "\t<li>'Functional'</li>\n",
       "\t<li>'GarageCond'</li>\n",
       "\t<li>'GarageFinish'</li>\n",
       "\t<li>'GarageQual'</li>\n",
       "\t<li>'GarageType'</li>\n",
       "\t<li>'Heating'</li>\n",
       "\t<li>'HeatingQC'</li>\n",
       "\t<li>'HouseStyle'</li>\n",
       "\t<li>'KitchenQual'</li>\n",
       "\t<li>'LandContour'</li>\n",
       "\t<li>'LandSlope'</li>\n",
       "\t<li>'LotConfig'</li>\n",
       "\t<li>'LotShape'</li>\n",
       "\t<li>'MasVnrType'</li>\n",
       "\t<li>'MiscFeature'</li>\n",
       "\t<li>'MSZoning'</li>\n",
       "\t<li>'Neighborhood'</li>\n",
       "\t<li>'PavedDrive'</li>\n",
       "\t<li>'PoolQC'</li>\n",
       "\t<li>'RoofMatl'</li>\n",
       "\t<li>'RoofStyle'</li>\n",
       "\t<li>'SaleCondition'</li>\n",
       "\t<li>'SaleType'</li>\n",
       "\t<li>'Street'</li>\n",
       "\t<li>'Utilities'</li>\n",
       "</ol>\n"
      ],
      "text/latex": [
       "\\begin{enumerate*}\n",
       "\\item 'Alley'\n",
       "\\item 'BldgType'\n",
       "\\item 'BsmtCond'\n",
       "\\item 'BsmtExposure'\n",
       "\\item 'BsmtFinType1'\n",
       "\\item 'BsmtFinType2'\n",
       "\\item 'BsmtQual'\n",
       "\\item 'CentralAir'\n",
       "\\item 'Condition1'\n",
       "\\item 'Condition2'\n",
       "\\item 'Electrical'\n",
       "\\item 'ExterCond'\n",
       "\\item 'Exterior1st'\n",
       "\\item 'Exterior2nd'\n",
       "\\item 'ExterQual'\n",
       "\\item 'Fence'\n",
       "\\item 'FireplaceQu'\n",
       "\\item 'Foundation'\n",
       "\\item 'Functional'\n",
       "\\item 'GarageCond'\n",
       "\\item 'GarageFinish'\n",
       "\\item 'GarageQual'\n",
       "\\item 'GarageType'\n",
       "\\item 'Heating'\n",
       "\\item 'HeatingQC'\n",
       "\\item 'HouseStyle'\n",
       "\\item 'KitchenQual'\n",
       "\\item 'LandContour'\n",
       "\\item 'LandSlope'\n",
       "\\item 'LotConfig'\n",
       "\\item 'LotShape'\n",
       "\\item 'MasVnrType'\n",
       "\\item 'MiscFeature'\n",
       "\\item 'MSZoning'\n",
       "\\item 'Neighborhood'\n",
       "\\item 'PavedDrive'\n",
       "\\item 'PoolQC'\n",
       "\\item 'RoofMatl'\n",
       "\\item 'RoofStyle'\n",
       "\\item 'SaleCondition'\n",
       "\\item 'SaleType'\n",
       "\\item 'Street'\n",
       "\\item 'Utilities'\n",
       "\\end{enumerate*}\n"
      ],
      "text/markdown": [
       "1. 'Alley'\n",
       "2. 'BldgType'\n",
       "3. 'BsmtCond'\n",
       "4. 'BsmtExposure'\n",
       "5. 'BsmtFinType1'\n",
       "6. 'BsmtFinType2'\n",
       "7. 'BsmtQual'\n",
       "8. 'CentralAir'\n",
       "9. 'Condition1'\n",
       "10. 'Condition2'\n",
       "11. 'Electrical'\n",
       "12. 'ExterCond'\n",
       "13. 'Exterior1st'\n",
       "14. 'Exterior2nd'\n",
       "15. 'ExterQual'\n",
       "16. 'Fence'\n",
       "17. 'FireplaceQu'\n",
       "18. 'Foundation'\n",
       "19. 'Functional'\n",
       "20. 'GarageCond'\n",
       "21. 'GarageFinish'\n",
       "22. 'GarageQual'\n",
       "23. 'GarageType'\n",
       "24. 'Heating'\n",
       "25. 'HeatingQC'\n",
       "26. 'HouseStyle'\n",
       "27. 'KitchenQual'\n",
       "28. 'LandContour'\n",
       "29. 'LandSlope'\n",
       "30. 'LotConfig'\n",
       "31. 'LotShape'\n",
       "32. 'MasVnrType'\n",
       "33. 'MiscFeature'\n",
       "34. 'MSZoning'\n",
       "35. 'Neighborhood'\n",
       "36. 'PavedDrive'\n",
       "37. 'PoolQC'\n",
       "38. 'RoofMatl'\n",
       "39. 'RoofStyle'\n",
       "40. 'SaleCondition'\n",
       "41. 'SaleType'\n",
       "42. 'Street'\n",
       "43. 'Utilities'\n",
       "\n",
       "\n"
      ],
      "text/plain": [
       " [1] \"Alley\"         \"BldgType\"      \"BsmtCond\"      \"BsmtExposure\" \n",
       " [5] \"BsmtFinType1\"  \"BsmtFinType2\"  \"BsmtQual\"      \"CentralAir\"   \n",
       " [9] \"Condition1\"    \"Condition2\"    \"Electrical\"    \"ExterCond\"    \n",
       "[13] \"Exterior1st\"   \"Exterior2nd\"   \"ExterQual\"     \"Fence\"        \n",
       "[17] \"FireplaceQu\"   \"Foundation\"    \"Functional\"    \"GarageCond\"   \n",
       "[21] \"GarageFinish\"  \"GarageQual\"    \"GarageType\"    \"Heating\"      \n",
       "[25] \"HeatingQC\"     \"HouseStyle\"    \"KitchenQual\"   \"LandContour\"  \n",
       "[29] \"LandSlope\"     \"LotConfig\"     \"LotShape\"      \"MasVnrType\"   \n",
       "[33] \"MiscFeature\"   \"MSZoning\"      \"Neighborhood\"  \"PavedDrive\"   \n",
       "[37] \"PoolQC\"        \"RoofMatl\"      \"RoofStyle\"     \"SaleCondition\"\n",
       "[41] \"SaleType\"      \"Street\"        \"Utilities\"    "
      ]
     },
     "metadata": {},
     "output_type": "display_data"
    }
   ],
   "source": [
    "training %>% purrr::map(~is.character(.)) %>% purrr::keep(~.) %>% names %>% sort"
   ]
  },
  {
   "cell_type": "code",
   "execution_count": 7,
   "metadata": {
    "scrolled": true
   },
   "outputs": [
    {
     "data": {
      "text/html": [
       "<table>\n",
       "<thead><tr><th scope=col>Alley</th><th scope=col>n</th></tr></thead>\n",
       "<tbody>\n",
       "\t<tr><td>Grvl</td><td>  50</td></tr>\n",
       "\t<tr><td>Pave</td><td>  41</td></tr>\n",
       "\t<tr><td>NA  </td><td>1369</td></tr>\n",
       "</tbody>\n",
       "</table>\n"
      ],
      "text/latex": [
       "\\begin{tabular}{r|ll}\n",
       " Alley & n\\\\\n",
       "\\hline\n",
       "\t Grvl &   50\\\\\n",
       "\t Pave &   41\\\\\n",
       "\t NA   & 1369\\\\\n",
       "\\end{tabular}\n"
      ],
      "text/markdown": [
       "\n",
       "Alley | n | \n",
       "|---|---|---|\n",
       "| Grvl |   50 | \n",
       "| Pave |   41 | \n",
       "| NA   | 1369 | \n",
       "\n",
       "\n"
      ],
      "text/plain": [
       "  Alley n   \n",
       "1 Grvl    50\n",
       "2 Pave    41\n",
       "3 NA    1369"
      ]
     },
     "metadata": {},
     "output_type": "display_data"
    },
    {
     "data": {
      "text/html": [
       "<table>\n",
       "<thead><tr><th scope=col>has_alley_access</th><th scope=col>Alley</th><th scope=col>n</th></tr></thead>\n",
       "<tbody>\n",
       "\t<tr><td>0   </td><td>NA  </td><td>1369</td></tr>\n",
       "\t<tr><td>1   </td><td>Grvl</td><td>  50</td></tr>\n",
       "\t<tr><td>1   </td><td>Pave</td><td>  41</td></tr>\n",
       "</tbody>\n",
       "</table>\n"
      ],
      "text/latex": [
       "\\begin{tabular}{r|lll}\n",
       " has\\_alley\\_access & Alley & n\\\\\n",
       "\\hline\n",
       "\t 0    & NA   & 1369\\\\\n",
       "\t 1    & Grvl &   50\\\\\n",
       "\t 1    & Pave &   41\\\\\n",
       "\\end{tabular}\n"
      ],
      "text/markdown": [
       "\n",
       "has_alley_access | Alley | n | \n",
       "|---|---|---|\n",
       "| 0    | NA   | 1369 | \n",
       "| 1    | Grvl |   50 | \n",
       "| 1    | Pave |   41 | \n",
       "\n",
       "\n"
      ],
      "text/plain": [
       "  has_alley_access Alley n   \n",
       "1 0                NA    1369\n",
       "2 1                Grvl    50\n",
       "3 1                Pave    41"
      ]
     },
     "metadata": {},
     "output_type": "display_data"
    }
   ],
   "source": [
    "training %>% group_by(Alley) %>% count\n",
    "\n",
    "tranform.Alley <- function (df, remove=T) {\n",
    "    df <- df %>% mutate(has_alley_access = ifelse(!is.na(Alley), 1, 0))\n",
    "    if ( remove ) {\n",
    "        df$Alley <- NULL\n",
    "    }\n",
    "    df\n",
    "}\n",
    "\n",
    "tranformed <- tranform.Alley(training, remove=F)\n",
    "tranformed %>% group_by(has_alley_access, Alley) %>% count"
   ]
  },
  {
   "cell_type": "code",
   "execution_count": 8,
   "metadata": {},
   "outputs": [
    {
     "data": {
      "text/html": [
       "<table>\n",
       "<thead><tr><th scope=col>CentralAir</th><th scope=col>n</th></tr></thead>\n",
       "<tbody>\n",
       "\t<tr><td>N   </td><td>  95</td></tr>\n",
       "\t<tr><td>Y   </td><td>1365</td></tr>\n",
       "</tbody>\n",
       "</table>\n"
      ],
      "text/latex": [
       "\\begin{tabular}{r|ll}\n",
       " CentralAir & n\\\\\n",
       "\\hline\n",
       "\t N    &   95\\\\\n",
       "\t Y    & 1365\\\\\n",
       "\\end{tabular}\n"
      ],
      "text/markdown": [
       "\n",
       "CentralAir | n | \n",
       "|---|---|\n",
       "| N    |   95 | \n",
       "| Y    | 1365 | \n",
       "\n",
       "\n"
      ],
      "text/plain": [
       "  CentralAir n   \n",
       "1 N            95\n",
       "2 Y          1365"
      ]
     },
     "metadata": {},
     "output_type": "display_data"
    },
    {
     "data": {
      "text/html": [
       "<table>\n",
       "<thead><tr><th scope=col>has_central_air</th><th scope=col>CentralAir</th><th scope=col>n</th></tr></thead>\n",
       "<tbody>\n",
       "\t<tr><td>0   </td><td>N   </td><td>  95</td></tr>\n",
       "\t<tr><td>1   </td><td>Y   </td><td>1365</td></tr>\n",
       "</tbody>\n",
       "</table>\n"
      ],
      "text/latex": [
       "\\begin{tabular}{r|lll}\n",
       " has\\_central\\_air & CentralAir & n\\\\\n",
       "\\hline\n",
       "\t 0    & N    &   95\\\\\n",
       "\t 1    & Y    & 1365\\\\\n",
       "\\end{tabular}\n"
      ],
      "text/markdown": [
       "\n",
       "has_central_air | CentralAir | n | \n",
       "|---|---|\n",
       "| 0    | N    |   95 | \n",
       "| 1    | Y    | 1365 | \n",
       "\n",
       "\n"
      ],
      "text/plain": [
       "  has_central_air CentralAir n   \n",
       "1 0               N            95\n",
       "2 1               Y          1365"
      ]
     },
     "metadata": {},
     "output_type": "display_data"
    }
   ],
   "source": [
    "training %>% group_by(CentralAir) %>% count\n",
    "\n",
    "tranform.CentralAir <- function (df, remove=T) {\n",
    "    df <- df %>% mutate(has_central_air = ifelse(CentralAir == 'Y', 1, 0))\n",
    "    if ( remove ) {\n",
    "        df$CentralAir <- NULL\n",
    "    }\n",
    "    df\n",
    "}\n",
    "\n",
    "tranformed <- tranform.CentralAir(training, remove=F)\n",
    "tranformed %>% group_by(has_central_air, CentralAir) %>% count"
   ]
  },
  {
   "cell_type": "code",
   "execution_count": 9,
   "metadata": {},
   "outputs": [
    {
     "data": {
      "text/html": [
       "<table>\n",
       "<thead><tr><th scope=col>Heating</th><th scope=col>n</th></tr></thead>\n",
       "<tbody>\n",
       "\t<tr><td>Floor</td><td>   1 </td></tr>\n",
       "\t<tr><td>GasA </td><td>1428 </td></tr>\n",
       "\t<tr><td>GasW </td><td>  18 </td></tr>\n",
       "\t<tr><td>Grav </td><td>   7 </td></tr>\n",
       "\t<tr><td>OthW </td><td>   2 </td></tr>\n",
       "\t<tr><td>Wall </td><td>   4 </td></tr>\n",
       "</tbody>\n",
       "</table>\n"
      ],
      "text/latex": [
       "\\begin{tabular}{r|ll}\n",
       " Heating & n\\\\\n",
       "\\hline\n",
       "\t Floor &    1 \\\\\n",
       "\t GasA  & 1428 \\\\\n",
       "\t GasW  &   18 \\\\\n",
       "\t Grav  &    7 \\\\\n",
       "\t OthW  &    2 \\\\\n",
       "\t Wall  &    4 \\\\\n",
       "\\end{tabular}\n"
      ],
      "text/markdown": [
       "\n",
       "Heating | n | \n",
       "|---|---|---|---|---|---|\n",
       "| Floor |    1  | \n",
       "| GasA  | 1428  | \n",
       "| GasW  |   18  | \n",
       "| Grav  |    7  | \n",
       "| OthW  |    2  | \n",
       "| Wall  |    4  | \n",
       "\n",
       "\n"
      ],
      "text/plain": [
       "  Heating n   \n",
       "1 Floor      1\n",
       "2 GasA    1428\n",
       "3 GasW      18\n",
       "4 Grav       7\n",
       "5 OthW       2\n",
       "6 Wall       4"
      ]
     },
     "metadata": {},
     "output_type": "display_data"
    },
    {
     "data": {
      "text/html": [
       "<table>\n",
       "<thead><tr><th scope=col>heating_air_furnace</th><th scope=col>Heating</th><th scope=col>n</th></tr></thead>\n",
       "<tbody>\n",
       "\t<tr><td>0    </td><td>Floor</td><td>   1 </td></tr>\n",
       "\t<tr><td>0    </td><td>GasW </td><td>  18 </td></tr>\n",
       "\t<tr><td>0    </td><td>Grav </td><td>   7 </td></tr>\n",
       "\t<tr><td>0    </td><td>OthW </td><td>   2 </td></tr>\n",
       "\t<tr><td>0    </td><td>Wall </td><td>   4 </td></tr>\n",
       "\t<tr><td>1    </td><td>GasA </td><td>1428 </td></tr>\n",
       "</tbody>\n",
       "</table>\n"
      ],
      "text/latex": [
       "\\begin{tabular}{r|lll}\n",
       " heating\\_air\\_furnace & Heating & n\\\\\n",
       "\\hline\n",
       "\t 0     & Floor &    1 \\\\\n",
       "\t 0     & GasW  &   18 \\\\\n",
       "\t 0     & Grav  &    7 \\\\\n",
       "\t 0     & OthW  &    2 \\\\\n",
       "\t 0     & Wall  &    4 \\\\\n",
       "\t 1     & GasA  & 1428 \\\\\n",
       "\\end{tabular}\n"
      ],
      "text/markdown": [
       "\n",
       "heating_air_furnace | Heating | n | \n",
       "|---|---|---|---|---|---|\n",
       "| 0     | Floor |    1  | \n",
       "| 0     | GasW  |   18  | \n",
       "| 0     | Grav  |    7  | \n",
       "| 0     | OthW  |    2  | \n",
       "| 0     | Wall  |    4  | \n",
       "| 1     | GasA  | 1428  | \n",
       "\n",
       "\n"
      ],
      "text/plain": [
       "  heating_air_furnace Heating n   \n",
       "1 0                   Floor      1\n",
       "2 0                   GasW      18\n",
       "3 0                   Grav       7\n",
       "4 0                   OthW       2\n",
       "5 0                   Wall       4\n",
       "6 1                   GasA    1428"
      ]
     },
     "metadata": {},
     "output_type": "display_data"
    }
   ],
   "source": [
    "training %>% group_by(Heating) %>% count\n",
    "\n",
    "tranform.Heating <- function (df, remove=T) {\n",
    "    df <- df %>% mutate(heating_air_furnace = ifelse(Heating == 'GasA', 1, 0))\n",
    "    if ( remove ) {\n",
    "        df$Heating <- NULL\n",
    "    }\n",
    "    df\n",
    "}\n",
    "\n",
    "tranformed <- tranform.Heating(training, remove=F)\n",
    "tranformed %>% group_by(heating_air_furnace, Heating) %>% count"
   ]
  },
  {
   "cell_type": "code",
   "execution_count": 10,
   "metadata": {},
   "outputs": [
    {
     "data": {
      "text/html": [
       "<table>\n",
       "<thead><tr><th scope=col>LandContour</th><th scope=col>n</th></tr></thead>\n",
       "<tbody>\n",
       "\t<tr><td>Bnk </td><td>  63</td></tr>\n",
       "\t<tr><td>HLS </td><td>  50</td></tr>\n",
       "\t<tr><td>Low </td><td>  36</td></tr>\n",
       "\t<tr><td>Lvl </td><td>1311</td></tr>\n",
       "</tbody>\n",
       "</table>\n"
      ],
      "text/latex": [
       "\\begin{tabular}{r|ll}\n",
       " LandContour & n\\\\\n",
       "\\hline\n",
       "\t Bnk  &   63\\\\\n",
       "\t HLS  &   50\\\\\n",
       "\t Low  &   36\\\\\n",
       "\t Lvl  & 1311\\\\\n",
       "\\end{tabular}\n"
      ],
      "text/markdown": [
       "\n",
       "LandContour | n | \n",
       "|---|---|---|---|\n",
       "| Bnk  |   63 | \n",
       "| HLS  |   50 | \n",
       "| Low  |   36 | \n",
       "| Lvl  | 1311 | \n",
       "\n",
       "\n"
      ],
      "text/plain": [
       "  LandContour n   \n",
       "1 Bnk           63\n",
       "2 HLS           50\n",
       "3 Low           36\n",
       "4 Lvl         1311"
      ]
     },
     "metadata": {},
     "output_type": "display_data"
    },
    {
     "data": {
      "text/html": [
       "<table>\n",
       "<thead><tr><th scope=col>is_land_level</th><th scope=col>LandContour</th><th scope=col>n</th></tr></thead>\n",
       "<tbody>\n",
       "\t<tr><td>0   </td><td>Bnk </td><td>  63</td></tr>\n",
       "\t<tr><td>0   </td><td>HLS </td><td>  50</td></tr>\n",
       "\t<tr><td>0   </td><td>Low </td><td>  36</td></tr>\n",
       "\t<tr><td>1   </td><td>Lvl </td><td>1311</td></tr>\n",
       "</tbody>\n",
       "</table>\n"
      ],
      "text/latex": [
       "\\begin{tabular}{r|lll}\n",
       " is\\_land\\_level & LandContour & n\\\\\n",
       "\\hline\n",
       "\t 0    & Bnk  &   63\\\\\n",
       "\t 0    & HLS  &   50\\\\\n",
       "\t 0    & Low  &   36\\\\\n",
       "\t 1    & Lvl  & 1311\\\\\n",
       "\\end{tabular}\n"
      ],
      "text/markdown": [
       "\n",
       "is_land_level | LandContour | n | \n",
       "|---|---|---|---|\n",
       "| 0    | Bnk  |   63 | \n",
       "| 0    | HLS  |   50 | \n",
       "| 0    | Low  |   36 | \n",
       "| 1    | Lvl  | 1311 | \n",
       "\n",
       "\n"
      ],
      "text/plain": [
       "  is_land_level LandContour n   \n",
       "1 0             Bnk           63\n",
       "2 0             HLS           50\n",
       "3 0             Low           36\n",
       "4 1             Lvl         1311"
      ]
     },
     "metadata": {},
     "output_type": "display_data"
    }
   ],
   "source": [
    "training %>% group_by(LandContour) %>% count\n",
    "\n",
    "tranform.LandContour <- function (df, remove=T) {\n",
    "    df <- df %>% mutate(is_land_level = ifelse(LandContour == 'Lvl', 1, 0))\n",
    "    if ( remove ) {\n",
    "        df$Heating <- NULL\n",
    "    }\n",
    "    df\n",
    "}\n",
    "\n",
    "tranformed <- tranform.LandContour(training, remove=F)\n",
    "tranformed %>% group_by(is_land_level, LandContour) %>% count"
   ]
  },
  {
   "cell_type": "code",
   "execution_count": 11,
   "metadata": {},
   "outputs": [
    {
     "data": {
      "text/html": [
       "<table>\n",
       "<thead><tr><th scope=col>LotShape</th><th scope=col>n</th></tr></thead>\n",
       "<tbody>\n",
       "\t<tr><td>IR1</td><td>484</td></tr>\n",
       "\t<tr><td>IR2</td><td> 41</td></tr>\n",
       "\t<tr><td>IR3</td><td> 10</td></tr>\n",
       "\t<tr><td>Reg</td><td>925</td></tr>\n",
       "</tbody>\n",
       "</table>\n"
      ],
      "text/latex": [
       "\\begin{tabular}{r|ll}\n",
       " LotShape & n\\\\\n",
       "\\hline\n",
       "\t IR1 & 484\\\\\n",
       "\t IR2 &  41\\\\\n",
       "\t IR3 &  10\\\\\n",
       "\t Reg & 925\\\\\n",
       "\\end{tabular}\n"
      ],
      "text/markdown": [
       "\n",
       "LotShape | n | \n",
       "|---|---|---|---|\n",
       "| IR1 | 484 | \n",
       "| IR2 |  41 | \n",
       "| IR3 |  10 | \n",
       "| Reg | 925 | \n",
       "\n",
       "\n"
      ],
      "text/plain": [
       "  LotShape n  \n",
       "1 IR1      484\n",
       "2 IR2       41\n",
       "3 IR3       10\n",
       "4 Reg      925"
      ]
     },
     "metadata": {},
     "output_type": "display_data"
    },
    {
     "data": {
      "text/html": [
       "<table>\n",
       "<thead><tr><th scope=col>is_lotshape_regular</th><th scope=col>LotShape</th><th scope=col>n</th></tr></thead>\n",
       "<tbody>\n",
       "\t<tr><td>0  </td><td>IR1</td><td>484</td></tr>\n",
       "\t<tr><td>0  </td><td>IR2</td><td> 41</td></tr>\n",
       "\t<tr><td>0  </td><td>IR3</td><td> 10</td></tr>\n",
       "\t<tr><td>1  </td><td>Reg</td><td>925</td></tr>\n",
       "</tbody>\n",
       "</table>\n"
      ],
      "text/latex": [
       "\\begin{tabular}{r|lll}\n",
       " is\\_lotshape\\_regular & LotShape & n\\\\\n",
       "\\hline\n",
       "\t 0   & IR1 & 484\\\\\n",
       "\t 0   & IR2 &  41\\\\\n",
       "\t 0   & IR3 &  10\\\\\n",
       "\t 1   & Reg & 925\\\\\n",
       "\\end{tabular}\n"
      ],
      "text/markdown": [
       "\n",
       "is_lotshape_regular | LotShape | n | \n",
       "|---|---|---|---|\n",
       "| 0   | IR1 | 484 | \n",
       "| 0   | IR2 |  41 | \n",
       "| 0   | IR3 |  10 | \n",
       "| 1   | Reg | 925 | \n",
       "\n",
       "\n"
      ],
      "text/plain": [
       "  is_lotshape_regular LotShape n  \n",
       "1 0                   IR1      484\n",
       "2 0                   IR2       41\n",
       "3 0                   IR3       10\n",
       "4 1                   Reg      925"
      ]
     },
     "metadata": {},
     "output_type": "display_data"
    }
   ],
   "source": [
    "training %>% group_by(LotShape) %>% count\n",
    "\n",
    "tranform.LotShape <- function (df, remove=T) {\n",
    "    df <- df %>% mutate(is_lotshape_regular = ifelse(LotShape == 'Reg', 1, 0))\n",
    "    if ( remove ) {\n",
    "        df$LotShape <- NULL\n",
    "    }\n",
    "    df\n",
    "}\n",
    "\n",
    "tranformed <- tranform.LotShape(training, remove=F)\n",
    "tranformed %>% group_by(is_lotshape_regular, LotShape) %>% count"
   ]
  },
  {
   "cell_type": "code",
   "execution_count": 12,
   "metadata": {},
   "outputs": [
    {
     "data": {
      "text/html": [
       "<table>\n",
       "<thead><tr><th scope=col>MiscFeature</th><th scope=col>n</th></tr></thead>\n",
       "<tbody>\n",
       "\t<tr><td>Gar2</td><td>   2</td></tr>\n",
       "\t<tr><td>Othr</td><td>   2</td></tr>\n",
       "\t<tr><td>Shed</td><td>  49</td></tr>\n",
       "\t<tr><td>TenC</td><td>   1</td></tr>\n",
       "\t<tr><td>NA  </td><td>1406</td></tr>\n",
       "</tbody>\n",
       "</table>\n"
      ],
      "text/latex": [
       "\\begin{tabular}{r|ll}\n",
       " MiscFeature & n\\\\\n",
       "\\hline\n",
       "\t Gar2 &    2\\\\\n",
       "\t Othr &    2\\\\\n",
       "\t Shed &   49\\\\\n",
       "\t TenC &    1\\\\\n",
       "\t NA   & 1406\\\\\n",
       "\\end{tabular}\n"
      ],
      "text/markdown": [
       "\n",
       "MiscFeature | n | \n",
       "|---|---|---|---|---|\n",
       "| Gar2 |    2 | \n",
       "| Othr |    2 | \n",
       "| Shed |   49 | \n",
       "| TenC |    1 | \n",
       "| NA   | 1406 | \n",
       "\n",
       "\n"
      ],
      "text/plain": [
       "  MiscFeature n   \n",
       "1 Gar2           2\n",
       "2 Othr           2\n",
       "3 Shed          49\n",
       "4 TenC           1\n",
       "5 NA          1406"
      ]
     },
     "metadata": {},
     "output_type": "display_data"
    },
    {
     "data": {
      "text/html": [
       "<table>\n",
       "<thead><tr><th scope=col>has_misc_feature</th><th scope=col>MiscFeature</th><th scope=col>n</th></tr></thead>\n",
       "<tbody>\n",
       "\t<tr><td>0   </td><td>NA  </td><td>1406</td></tr>\n",
       "\t<tr><td>1   </td><td>Gar2</td><td>   2</td></tr>\n",
       "\t<tr><td>1   </td><td>Othr</td><td>   2</td></tr>\n",
       "\t<tr><td>1   </td><td>Shed</td><td>  49</td></tr>\n",
       "\t<tr><td>1   </td><td>TenC</td><td>   1</td></tr>\n",
       "</tbody>\n",
       "</table>\n"
      ],
      "text/latex": [
       "\\begin{tabular}{r|lll}\n",
       " has\\_misc\\_feature & MiscFeature & n\\\\\n",
       "\\hline\n",
       "\t 0    & NA   & 1406\\\\\n",
       "\t 1    & Gar2 &    2\\\\\n",
       "\t 1    & Othr &    2\\\\\n",
       "\t 1    & Shed &   49\\\\\n",
       "\t 1    & TenC &    1\\\\\n",
       "\\end{tabular}\n"
      ],
      "text/markdown": [
       "\n",
       "has_misc_feature | MiscFeature | n | \n",
       "|---|---|---|---|---|\n",
       "| 0    | NA   | 1406 | \n",
       "| 1    | Gar2 |    2 | \n",
       "| 1    | Othr |    2 | \n",
       "| 1    | Shed |   49 | \n",
       "| 1    | TenC |    1 | \n",
       "\n",
       "\n"
      ],
      "text/plain": [
       "  has_misc_feature MiscFeature n   \n",
       "1 0                NA          1406\n",
       "2 1                Gar2           2\n",
       "3 1                Othr           2\n",
       "4 1                Shed          49\n",
       "5 1                TenC           1"
      ]
     },
     "metadata": {},
     "output_type": "display_data"
    }
   ],
   "source": [
    "training %>% group_by(MiscFeature) %>% count\n",
    "\n",
    "tranform.MiscFeature <- function (df, remove=T) {\n",
    "    df <- df %>% mutate(has_misc_feature = ifelse(!is.na(MiscFeature), 1, 0))\n",
    "    if ( remove ) {\n",
    "        df$MiscFeature <- NULL\n",
    "    }\n",
    "    df\n",
    "}\n",
    "\n",
    "tranformed <- tranform.MiscFeature(training, remove=F)\n",
    "tranformed %>% group_by(has_misc_feature, MiscFeature) %>% count"
   ]
  },
  {
   "cell_type": "code",
   "execution_count": 14,
   "metadata": {},
   "outputs": [
    {
     "data": {
      "text/html": [
       "<table>\n",
       "<thead><tr><th scope=col>PavedDrive</th><th scope=col>n</th></tr></thead>\n",
       "<tbody>\n",
       "\t<tr><td>N   </td><td>  90</td></tr>\n",
       "\t<tr><td>P   </td><td>  30</td></tr>\n",
       "\t<tr><td>Y   </td><td>1340</td></tr>\n",
       "</tbody>\n",
       "</table>\n"
      ],
      "text/latex": [
       "\\begin{tabular}{r|ll}\n",
       " PavedDrive & n\\\\\n",
       "\\hline\n",
       "\t N    &   90\\\\\n",
       "\t P    &   30\\\\\n",
       "\t Y    & 1340\\\\\n",
       "\\end{tabular}\n"
      ],
      "text/markdown": [
       "\n",
       "PavedDrive | n | \n",
       "|---|---|---|\n",
       "| N    |   90 | \n",
       "| P    |   30 | \n",
       "| Y    | 1340 | \n",
       "\n",
       "\n"
      ],
      "text/plain": [
       "  PavedDrive n   \n",
       "1 N            90\n",
       "2 P            30\n",
       "3 Y          1340"
      ]
     },
     "metadata": {},
     "output_type": "display_data"
    },
    {
     "data": {
      "text/html": [
       "<table>\n",
       "<thead><tr><th scope=col>has_paved_drive</th><th scope=col>PavedDrive</th><th scope=col>n</th></tr></thead>\n",
       "<tbody>\n",
       "\t<tr><td>0   </td><td>N   </td><td>  90</td></tr>\n",
       "\t<tr><td>0   </td><td>P   </td><td>  30</td></tr>\n",
       "\t<tr><td>1   </td><td>Y   </td><td>1340</td></tr>\n",
       "</tbody>\n",
       "</table>\n"
      ],
      "text/latex": [
       "\\begin{tabular}{r|lll}\n",
       " has\\_paved\\_drive & PavedDrive & n\\\\\n",
       "\\hline\n",
       "\t 0    & N    &   90\\\\\n",
       "\t 0    & P    &   30\\\\\n",
       "\t 1    & Y    & 1340\\\\\n",
       "\\end{tabular}\n"
      ],
      "text/markdown": [
       "\n",
       "has_paved_drive | PavedDrive | n | \n",
       "|---|---|---|\n",
       "| 0    | N    |   90 | \n",
       "| 0    | P    |   30 | \n",
       "| 1    | Y    | 1340 | \n",
       "\n",
       "\n"
      ],
      "text/plain": [
       "  has_paved_drive PavedDrive n   \n",
       "1 0               N            90\n",
       "2 0               P            30\n",
       "3 1               Y          1340"
      ]
     },
     "metadata": {},
     "output_type": "display_data"
    }
   ],
   "source": [
    "training %>% group_by(PavedDrive) %>% count\n",
    "\n",
    "tranform.PavedDrive <- function (df, remove=T) {\n",
    "    df <- df %>% mutate(has_paved_drive = ifelse(PavedDrive == 'Y', 1, 0))\n",
    "    if ( remove ) {\n",
    "        df$PavedDrive <- NULL\n",
    "    }\n",
    "    df\n",
    "}\n",
    "\n",
    "tranformed <- tranform.PavedDrive(training, remove=F)\n",
    "tranformed %>% group_by(has_paved_drive, PavedDrive) %>% count"
   ]
  },
  {
   "cell_type": "code",
   "execution_count": 17,
   "metadata": {},
   "outputs": [
    {
     "data": {
      "text/html": [
       "<table>\n",
       "<thead><tr><th scope=col>PoolQC</th><th scope=col>n</th></tr></thead>\n",
       "<tbody>\n",
       "\t<tr><td>Ex  </td><td>   2</td></tr>\n",
       "\t<tr><td>Fa  </td><td>   2</td></tr>\n",
       "\t<tr><td>Gd  </td><td>   3</td></tr>\n",
       "\t<tr><td>NA  </td><td>1453</td></tr>\n",
       "</tbody>\n",
       "</table>\n"
      ],
      "text/latex": [
       "\\begin{tabular}{r|ll}\n",
       " PoolQC & n\\\\\n",
       "\\hline\n",
       "\t Ex   &    2\\\\\n",
       "\t Fa   &    2\\\\\n",
       "\t Gd   &    3\\\\\n",
       "\t NA   & 1453\\\\\n",
       "\\end{tabular}\n"
      ],
      "text/markdown": [
       "\n",
       "PoolQC | n | \n",
       "|---|---|---|---|\n",
       "| Ex   |    2 | \n",
       "| Fa   |    2 | \n",
       "| Gd   |    3 | \n",
       "| NA   | 1453 | \n",
       "\n",
       "\n"
      ],
      "text/plain": [
       "  PoolQC n   \n",
       "1 Ex        2\n",
       "2 Fa        2\n",
       "3 Gd        3\n",
       "4 NA     1453"
      ]
     },
     "metadata": {},
     "output_type": "display_data"
    },
    {
     "data": {
      "text/html": [
       "<table>\n",
       "<thead><tr><th scope=col>has_pool</th><th scope=col>PoolQC</th><th scope=col>n</th></tr></thead>\n",
       "<tbody>\n",
       "\t<tr><td>0   </td><td>NA  </td><td>1453</td></tr>\n",
       "\t<tr><td>1   </td><td>Ex  </td><td>   2</td></tr>\n",
       "\t<tr><td>1   </td><td>Fa  </td><td>   2</td></tr>\n",
       "\t<tr><td>1   </td><td>Gd  </td><td>   3</td></tr>\n",
       "</tbody>\n",
       "</table>\n"
      ],
      "text/latex": [
       "\\begin{tabular}{r|lll}\n",
       " has\\_pool & PoolQC & n\\\\\n",
       "\\hline\n",
       "\t 0    & NA   & 1453\\\\\n",
       "\t 1    & Ex   &    2\\\\\n",
       "\t 1    & Fa   &    2\\\\\n",
       "\t 1    & Gd   &    3\\\\\n",
       "\\end{tabular}\n"
      ],
      "text/markdown": [
       "\n",
       "has_pool | PoolQC | n | \n",
       "|---|---|---|---|\n",
       "| 0    | NA   | 1453 | \n",
       "| 1    | Ex   |    2 | \n",
       "| 1    | Fa   |    2 | \n",
       "| 1    | Gd   |    3 | \n",
       "\n",
       "\n"
      ],
      "text/plain": [
       "  has_pool PoolQC n   \n",
       "1 0        NA     1453\n",
       "2 1        Ex        2\n",
       "3 1        Fa        2\n",
       "4 1        Gd        3"
      ]
     },
     "metadata": {},
     "output_type": "display_data"
    }
   ],
   "source": [
    "training %>% group_by(PoolQC) %>% count\n",
    "\n",
    "tranform.PoolQC <- function (df, remove=T) {\n",
    "    df <- df %>% mutate(has_pool = ifelse(!is.na(PoolQC), 1, 0))\n",
    "    if ( remove ) {\n",
    "        df$PoolQC <- NULL\n",
    "    }\n",
    "    df\n",
    "}\n",
    "\n",
    "tranformed <- tranform.PoolQC(training, remove=F)\n",
    "tranformed %>% group_by(has_pool, PoolQC) %>% count"
   ]
  },
  {
   "cell_type": "code",
   "execution_count": 21,
   "metadata": {},
   "outputs": [
    {
     "data": {
      "text/html": [
       "<table>\n",
       "<thead><tr><th scope=col>RoofMatl</th><th scope=col>n</th></tr></thead>\n",
       "<tbody>\n",
       "\t<tr><td>ClyTile</td><td>   1   </td></tr>\n",
       "\t<tr><td>CompShg</td><td>1434   </td></tr>\n",
       "\t<tr><td>Membran</td><td>   1   </td></tr>\n",
       "\t<tr><td>Metal  </td><td>   1   </td></tr>\n",
       "\t<tr><td>Roll   </td><td>   1   </td></tr>\n",
       "\t<tr><td>Tar&amp;Grv                                 </td><td><span style=white-space:pre-wrap>  11</span></td></tr>\n",
       "\t<tr><td>WdShake</td><td>   5   </td></tr>\n",
       "\t<tr><td>WdShngl</td><td>   6   </td></tr>\n",
       "</tbody>\n",
       "</table>\n"
      ],
      "text/latex": [
       "\\begin{tabular}{r|ll}\n",
       " RoofMatl & n\\\\\n",
       "\\hline\n",
       "\t ClyTile &    1   \\\\\n",
       "\t CompShg & 1434   \\\\\n",
       "\t Membran &    1   \\\\\n",
       "\t Metal   &    1   \\\\\n",
       "\t Roll    &    1   \\\\\n",
       "\t Tar\\&Grv &   11     \\\\\n",
       "\t WdShake &    5   \\\\\n",
       "\t WdShngl &    6   \\\\\n",
       "\\end{tabular}\n"
      ],
      "text/markdown": [
       "\n",
       "RoofMatl | n | \n",
       "|---|---|---|---|---|---|---|---|\n",
       "| ClyTile |    1    | \n",
       "| CompShg | 1434    | \n",
       "| Membran |    1    | \n",
       "| Metal   |    1    | \n",
       "| Roll    |    1    | \n",
       "| Tar&Grv |   11    | \n",
       "| WdShake |    5    | \n",
       "| WdShngl |    6    | \n",
       "\n",
       "\n"
      ],
      "text/plain": [
       "  RoofMatl n   \n",
       "1 ClyTile     1\n",
       "2 CompShg  1434\n",
       "3 Membran     1\n",
       "4 Metal       1\n",
       "5 Roll        1\n",
       "6 Tar&Grv    11\n",
       "7 WdShake     5\n",
       "8 WdShngl     6"
      ]
     },
     "metadata": {},
     "output_type": "display_data"
    },
    {
     "data": {
      "text/html": [
       "<table>\n",
       "<thead><tr><th scope=col>has_standard_roof_material</th><th scope=col>RoofMatl</th><th scope=col>n</th></tr></thead>\n",
       "<tbody>\n",
       "\t<tr><td>0      </td><td>ClyTile</td><td>   1   </td></tr>\n",
       "\t<tr><td>0      </td><td>Membran</td><td>   1   </td></tr>\n",
       "\t<tr><td>0      </td><td>Metal  </td><td>   1   </td></tr>\n",
       "\t<tr><td>0      </td><td>Roll   </td><td>   1   </td></tr>\n",
       "\t<tr><td>0                                           </td><td>Tar&amp;Grv                                 </td><td><span style=white-space:pre-wrap>  11</span></td></tr>\n",
       "\t<tr><td>0      </td><td>WdShake</td><td>   5   </td></tr>\n",
       "\t<tr><td>0      </td><td>WdShngl</td><td>   6   </td></tr>\n",
       "\t<tr><td>1      </td><td>CompShg</td><td>1434   </td></tr>\n",
       "</tbody>\n",
       "</table>\n"
      ],
      "text/latex": [
       "\\begin{tabular}{r|lll}\n",
       " has\\_standard\\_roof\\_material & RoofMatl & n\\\\\n",
       "\\hline\n",
       "\t 0       & ClyTile &    1   \\\\\n",
       "\t 0       & Membran &    1   \\\\\n",
       "\t 0       & Metal   &    1   \\\\\n",
       "\t 0       & Roll    &    1   \\\\\n",
       "\t 0         & Tar\\&Grv &   11     \\\\\n",
       "\t 0       & WdShake &    5   \\\\\n",
       "\t 0       & WdShngl &    6   \\\\\n",
       "\t 1       & CompShg & 1434   \\\\\n",
       "\\end{tabular}\n"
      ],
      "text/markdown": [
       "\n",
       "has_standard_roof_material | RoofMatl | n | \n",
       "|---|---|---|---|---|---|---|---|\n",
       "| 0       | ClyTile |    1    | \n",
       "| 0       | Membran |    1    | \n",
       "| 0       | Metal   |    1    | \n",
       "| 0       | Roll    |    1    | \n",
       "| 0       | Tar&Grv |   11    | \n",
       "| 0       | WdShake |    5    | \n",
       "| 0       | WdShngl |    6    | \n",
       "| 1       | CompShg | 1434    | \n",
       "\n",
       "\n"
      ],
      "text/plain": [
       "  has_standard_roof_material RoofMatl n   \n",
       "1 0                          ClyTile     1\n",
       "2 0                          Membran     1\n",
       "3 0                          Metal       1\n",
       "4 0                          Roll        1\n",
       "5 0                          Tar&Grv    11\n",
       "6 0                          WdShake     5\n",
       "7 0                          WdShngl     6\n",
       "8 1                          CompShg  1434"
      ]
     },
     "metadata": {},
     "output_type": "display_data"
    }
   ],
   "source": [
    "training %>% group_by(RoofMatl) %>% count\n",
    "\n",
    "tranform.RoofMatl <- function (df, remove=T) {\n",
    "    df <- df %>% mutate(has_standard_roof_material = ifelse(RoofMatl == 'CompShg', 1, 0))\n",
    "    if ( remove ) {\n",
    "        df$RoofMatl <- NULL\n",
    "    }\n",
    "    df\n",
    "}\n",
    "\n",
    "tranformed <- tranform.RoofMatl(training, remove=F)\n",
    "tranformed %>% group_by(has_standard_roof_material, RoofMatl) %>% count"
   ]
  },
  {
   "cell_type": "code",
   "execution_count": 26,
   "metadata": {},
   "outputs": [
    {
     "data": {
      "text/html": [
       "<table>\n",
       "<thead><tr><th scope=col>Street</th><th scope=col>n</th></tr></thead>\n",
       "<tbody>\n",
       "\t<tr><td>Grvl</td><td>   6</td></tr>\n",
       "\t<tr><td>Pave</td><td>1454</td></tr>\n",
       "</tbody>\n",
       "</table>\n"
      ],
      "text/latex": [
       "\\begin{tabular}{r|ll}\n",
       " Street & n\\\\\n",
       "\\hline\n",
       "\t Grvl &    6\\\\\n",
       "\t Pave & 1454\\\\\n",
       "\\end{tabular}\n"
      ],
      "text/markdown": [
       "\n",
       "Street | n | \n",
       "|---|---|\n",
       "| Grvl |    6 | \n",
       "| Pave | 1454 | \n",
       "\n",
       "\n"
      ],
      "text/plain": [
       "  Street n   \n",
       "1 Grvl      6\n",
       "2 Pave   1454"
      ]
     },
     "metadata": {},
     "output_type": "display_data"
    },
    {
     "data": {
      "text/html": [
       "<table>\n",
       "<thead><tr><th scope=col>is_street_paved</th><th scope=col>Street</th><th scope=col>n</th></tr></thead>\n",
       "<tbody>\n",
       "\t<tr><td>0   </td><td>Grvl</td><td>   6</td></tr>\n",
       "\t<tr><td>1   </td><td>Pave</td><td>1454</td></tr>\n",
       "</tbody>\n",
       "</table>\n"
      ],
      "text/latex": [
       "\\begin{tabular}{r|lll}\n",
       " is\\_street\\_paved & Street & n\\\\\n",
       "\\hline\n",
       "\t 0    & Grvl &    6\\\\\n",
       "\t 1    & Pave & 1454\\\\\n",
       "\\end{tabular}\n"
      ],
      "text/markdown": [
       "\n",
       "is_street_paved | Street | n | \n",
       "|---|---|\n",
       "| 0    | Grvl |    6 | \n",
       "| 1    | Pave | 1454 | \n",
       "\n",
       "\n"
      ],
      "text/plain": [
       "  is_street_paved Street n   \n",
       "1 0               Grvl      6\n",
       "2 1               Pave   1454"
      ]
     },
     "metadata": {},
     "output_type": "display_data"
    }
   ],
   "source": [
    "training %>% group_by(Street) %>% count\n",
    "\n",
    "tranform.Street <- function (df, remove=T) {\n",
    "    df <- df %>% mutate(is_street_paved = ifelse(Street == 'Pave', 1, 0))\n",
    "    if ( remove ) {\n",
    "        df$Street <- NULL\n",
    "    }\n",
    "    df\n",
    "}\n",
    "\n",
    "tranformed <- tranform.Street(training, remove=F)\n",
    "tranformed %>% group_by(is_street_paved, Street) %>% count"
   ]
  },
  {
   "cell_type": "code",
   "execution_count": 27,
   "metadata": {},
   "outputs": [
    {
     "data": {
      "text/html": [
       "<ol class=list-inline>\n",
       "\t<li>'Alley'</li>\n",
       "\t<li>'BldgType'</li>\n",
       "\t<li>'BsmtCond'</li>\n",
       "\t<li>'BsmtExposure'</li>\n",
       "\t<li>'BsmtFinType1'</li>\n",
       "\t<li>'BsmtFinType2'</li>\n",
       "\t<li>'BsmtQual'</li>\n",
       "\t<li>'CentralAir'</li>\n",
       "\t<li>'Condition1'</li>\n",
       "\t<li>'Condition2'</li>\n",
       "\t<li>'Electrical'</li>\n",
       "\t<li>'ExterCond'</li>\n",
       "\t<li>'Exterior1st'</li>\n",
       "\t<li>'Exterior2nd'</li>\n",
       "\t<li>'ExterQual'</li>\n",
       "\t<li>'Fence'</li>\n",
       "\t<li>'FireplaceQu'</li>\n",
       "\t<li>'Foundation'</li>\n",
       "\t<li>'Functional'</li>\n",
       "\t<li>'GarageCond'</li>\n",
       "\t<li>'GarageFinish'</li>\n",
       "\t<li>'GarageQual'</li>\n",
       "\t<li>'GarageType'</li>\n",
       "\t<li>'Heating'</li>\n",
       "\t<li>'HeatingQC'</li>\n",
       "\t<li>'HouseStyle'</li>\n",
       "\t<li>'KitchenQual'</li>\n",
       "\t<li>'LandContour'</li>\n",
       "\t<li>'LandSlope'</li>\n",
       "\t<li>'LotConfig'</li>\n",
       "\t<li>'LotShape'</li>\n",
       "\t<li>'MasVnrType'</li>\n",
       "\t<li>'MiscFeature'</li>\n",
       "\t<li>'MSZoning'</li>\n",
       "\t<li>'Neighborhood'</li>\n",
       "\t<li>'PavedDrive'</li>\n",
       "\t<li>'PoolQC'</li>\n",
       "\t<li>'RoofMatl'</li>\n",
       "\t<li>'RoofStyle'</li>\n",
       "\t<li>'SaleCondition'</li>\n",
       "\t<li>'SaleType'</li>\n",
       "\t<li>'Street'</li>\n",
       "\t<li>'Utilities'</li>\n",
       "</ol>\n"
      ],
      "text/latex": [
       "\\begin{enumerate*}\n",
       "\\item 'Alley'\n",
       "\\item 'BldgType'\n",
       "\\item 'BsmtCond'\n",
       "\\item 'BsmtExposure'\n",
       "\\item 'BsmtFinType1'\n",
       "\\item 'BsmtFinType2'\n",
       "\\item 'BsmtQual'\n",
       "\\item 'CentralAir'\n",
       "\\item 'Condition1'\n",
       "\\item 'Condition2'\n",
       "\\item 'Electrical'\n",
       "\\item 'ExterCond'\n",
       "\\item 'Exterior1st'\n",
       "\\item 'Exterior2nd'\n",
       "\\item 'ExterQual'\n",
       "\\item 'Fence'\n",
       "\\item 'FireplaceQu'\n",
       "\\item 'Foundation'\n",
       "\\item 'Functional'\n",
       "\\item 'GarageCond'\n",
       "\\item 'GarageFinish'\n",
       "\\item 'GarageQual'\n",
       "\\item 'GarageType'\n",
       "\\item 'Heating'\n",
       "\\item 'HeatingQC'\n",
       "\\item 'HouseStyle'\n",
       "\\item 'KitchenQual'\n",
       "\\item 'LandContour'\n",
       "\\item 'LandSlope'\n",
       "\\item 'LotConfig'\n",
       "\\item 'LotShape'\n",
       "\\item 'MasVnrType'\n",
       "\\item 'MiscFeature'\n",
       "\\item 'MSZoning'\n",
       "\\item 'Neighborhood'\n",
       "\\item 'PavedDrive'\n",
       "\\item 'PoolQC'\n",
       "\\item 'RoofMatl'\n",
       "\\item 'RoofStyle'\n",
       "\\item 'SaleCondition'\n",
       "\\item 'SaleType'\n",
       "\\item 'Street'\n",
       "\\item 'Utilities'\n",
       "\\end{enumerate*}\n"
      ],
      "text/markdown": [
       "1. 'Alley'\n",
       "2. 'BldgType'\n",
       "3. 'BsmtCond'\n",
       "4. 'BsmtExposure'\n",
       "5. 'BsmtFinType1'\n",
       "6. 'BsmtFinType2'\n",
       "7. 'BsmtQual'\n",
       "8. 'CentralAir'\n",
       "9. 'Condition1'\n",
       "10. 'Condition2'\n",
       "11. 'Electrical'\n",
       "12. 'ExterCond'\n",
       "13. 'Exterior1st'\n",
       "14. 'Exterior2nd'\n",
       "15. 'ExterQual'\n",
       "16. 'Fence'\n",
       "17. 'FireplaceQu'\n",
       "18. 'Foundation'\n",
       "19. 'Functional'\n",
       "20. 'GarageCond'\n",
       "21. 'GarageFinish'\n",
       "22. 'GarageQual'\n",
       "23. 'GarageType'\n",
       "24. 'Heating'\n",
       "25. 'HeatingQC'\n",
       "26. 'HouseStyle'\n",
       "27. 'KitchenQual'\n",
       "28. 'LandContour'\n",
       "29. 'LandSlope'\n",
       "30. 'LotConfig'\n",
       "31. 'LotShape'\n",
       "32. 'MasVnrType'\n",
       "33. 'MiscFeature'\n",
       "34. 'MSZoning'\n",
       "35. 'Neighborhood'\n",
       "36. 'PavedDrive'\n",
       "37. 'PoolQC'\n",
       "38. 'RoofMatl'\n",
       "39. 'RoofStyle'\n",
       "40. 'SaleCondition'\n",
       "41. 'SaleType'\n",
       "42. 'Street'\n",
       "43. 'Utilities'\n",
       "\n",
       "\n"
      ],
      "text/plain": [
       " [1] \"Alley\"         \"BldgType\"      \"BsmtCond\"      \"BsmtExposure\" \n",
       " [5] \"BsmtFinType1\"  \"BsmtFinType2\"  \"BsmtQual\"      \"CentralAir\"   \n",
       " [9] \"Condition1\"    \"Condition2\"    \"Electrical\"    \"ExterCond\"    \n",
       "[13] \"Exterior1st\"   \"Exterior2nd\"   \"ExterQual\"     \"Fence\"        \n",
       "[17] \"FireplaceQu\"   \"Foundation\"    \"Functional\"    \"GarageCond\"   \n",
       "[21] \"GarageFinish\"  \"GarageQual\"    \"GarageType\"    \"Heating\"      \n",
       "[25] \"HeatingQC\"     \"HouseStyle\"    \"KitchenQual\"   \"LandContour\"  \n",
       "[29] \"LandSlope\"     \"LotConfig\"     \"LotShape\"      \"MasVnrType\"   \n",
       "[33] \"MiscFeature\"   \"MSZoning\"      \"Neighborhood\"  \"PavedDrive\"   \n",
       "[37] \"PoolQC\"        \"RoofMatl\"      \"RoofStyle\"     \"SaleCondition\"\n",
       "[41] \"SaleType\"      \"Street\"        \"Utilities\"    "
      ]
     },
     "metadata": {},
     "output_type": "display_data"
    }
   ],
   "source": [
    "training %>% purrr::map(~is.character(.)) %>% purrr::keep(~.) %>% names %>% sort"
   ]
  },
  {
   "cell_type": "code",
   "execution_count": null,
   "metadata": {},
   "outputs": [],
   "source": []
  },
  {
   "cell_type": "code",
   "execution_count": null,
   "metadata": {
    "collapsed": true
   },
   "outputs": [],
   "source": []
  },
  {
   "cell_type": "code",
   "execution_count": null,
   "metadata": {
    "collapsed": true
   },
   "outputs": [],
   "source": []
  },
  {
   "cell_type": "code",
   "execution_count": null,
   "metadata": {
    "collapsed": true
   },
   "outputs": [],
   "source": []
  },
  {
   "cell_type": "code",
   "execution_count": null,
   "metadata": {
    "collapsed": true
   },
   "outputs": [],
   "source": []
  },
  {
   "cell_type": "code",
   "execution_count": null,
   "metadata": {
    "collapsed": true
   },
   "outputs": [],
   "source": []
  },
  {
   "cell_type": "code",
   "execution_count": null,
   "metadata": {
    "collapsed": true
   },
   "outputs": [],
   "source": []
  },
  {
   "cell_type": "code",
   "execution_count": null,
   "metadata": {
    "collapsed": true
   },
   "outputs": [],
   "source": []
  },
  {
   "cell_type": "code",
   "execution_count": null,
   "metadata": {
    "collapsed": true
   },
   "outputs": [],
   "source": []
  },
  {
   "cell_type": "code",
   "execution_count": null,
   "metadata": {
    "collapsed": true
   },
   "outputs": [],
   "source": []
  },
  {
   "cell_type": "code",
   "execution_count": null,
   "metadata": {
    "collapsed": true
   },
   "outputs": [],
   "source": []
  },
  {
   "cell_type": "code",
   "execution_count": null,
   "metadata": {
    "collapsed": true
   },
   "outputs": [],
   "source": []
  },
  {
   "cell_type": "code",
   "execution_count": null,
   "metadata": {
    "collapsed": true
   },
   "outputs": [],
   "source": []
  },
  {
   "cell_type": "code",
   "execution_count": null,
   "metadata": {
    "collapsed": true
   },
   "outputs": [],
   "source": []
  },
  {
   "cell_type": "code",
   "execution_count": null,
   "metadata": {
    "collapsed": true
   },
   "outputs": [],
   "source": []
  }
 ],
 "metadata": {
  "kernelspec": {
   "display_name": "R",
   "language": "R",
   "name": "ir"
  },
  "language_info": {
   "codemirror_mode": "r",
   "file_extension": ".r",
   "mimetype": "text/x-r-source",
   "name": "R",
   "pygments_lexer": "r",
   "version": "3.4.0"
  }
 },
 "nbformat": 4,
 "nbformat_minor": 2
}
