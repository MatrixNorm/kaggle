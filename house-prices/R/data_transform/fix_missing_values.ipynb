{
 "cells": [
  {
   "cell_type": "code",
   "execution_count": 1,
   "metadata": {},
   "outputs": [
    {
     "data": {
      "text/html": [
       "'/mnt/hdd/develop/kaggle/house-prices/R/data_transform'"
      ],
      "text/latex": [
       "'/mnt/hdd/develop/kaggle/house-prices/R/data\\_transform'"
      ],
      "text/markdown": [
       "'/mnt/hdd/develop/kaggle/house-prices/R/data_transform'"
      ],
      "text/plain": [
       "[1] \"/mnt/hdd/develop/kaggle/house-prices/R/data_transform\""
      ]
     },
     "metadata": {},
     "output_type": "display_data"
    },
    {
     "data": {
      "text/html": [
       "'/mnt/hdd/develop/kaggle/house-prices/R'"
      ],
      "text/latex": [
       "'/mnt/hdd/develop/kaggle/house-prices/R'"
      ],
      "text/markdown": [
       "'/mnt/hdd/develop/kaggle/house-prices/R'"
      ],
      "text/plain": [
       "[1] \"/mnt/hdd/develop/kaggle/house-prices/R\""
      ]
     },
     "metadata": {},
     "output_type": "display_data"
    }
   ],
   "source": [
    "getwd()\n",
    "if ( is.null(environment()$this_notebook_dir) ) {\n",
    "    this_notebook_dir <- getwd()\n",
    "    setwd(paste0(getwd(), '/..'))\n",
    "}\n",
    "getwd()"
   ]
  },
  {
   "cell_type": "code",
   "execution_count": 3,
   "metadata": {},
   "outputs": [
    {
     "data": {
      "text/html": [
       "<ol class=list-inline>\n",
       "\t<li>1460</li>\n",
       "\t<li>1459</li>\n",
       "\t<li>2919</li>\n",
       "</ol>\n"
      ],
      "text/latex": [
       "\\begin{enumerate*}\n",
       "\\item 1460\n",
       "\\item 1459\n",
       "\\item 2919\n",
       "\\end{enumerate*}\n"
      ],
      "text/markdown": [
       "1. 1460\n",
       "2. 1459\n",
       "3. 2919\n",
       "\n",
       "\n"
      ],
      "text/plain": [
       "[1] 1460 1459 2919"
      ]
     },
     "metadata": {},
     "output_type": "display_data"
    },
    {
     "data": {
      "text/html": [
       "<ol class=list-inline>\n",
       "\t<li>80</li>\n",
       "\t<li>79</li>\n",
       "\t<li>81</li>\n",
       "</ol>\n"
      ],
      "text/latex": [
       "\\begin{enumerate*}\n",
       "\\item 80\n",
       "\\item 79\n",
       "\\item 81\n",
       "\\end{enumerate*}\n"
      ],
      "text/markdown": [
       "1. 80\n",
       "2. 79\n",
       "3. 81\n",
       "\n",
       "\n"
      ],
      "text/plain": [
       "[1] 80 79 81"
      ]
     },
     "metadata": {},
     "output_type": "display_data"
    }
   ],
   "source": [
    "source('helpers.R')\n",
    "source('validation_utils.R')\n",
    "\n",
    "kaggle.house$loadLibraries()\n",
    "data <- kaggle.house$loadData()\n",
    "\n",
    "df.training <- data$train\n",
    "df.testing <- data$test\n",
    "df.combined <- kaggle.house$getCombinedDataset(df.training, df.testing)\n",
    "\n",
    "c(nrow(df.training),   nrow(df.testing),   nrow(df.combined))\n",
    "c(length(df.training), length(df.testing), length(df.combined))"
   ]
  },
  {
   "cell_type": "code",
   "execution_count": 17,
   "metadata": {
    "collapsed": true
   },
   "outputs": [],
   "source": [
    "register_missing_fixer <- function (container, col_name, fixer, ...) {\n",
    "    container[[col_name]] <- fixer(col_name, ...)\n",
    "    container\n",
    "}\n",
    "\n",
    "fix_missing <- list()\n",
    "\n",
    "register <- purrr::partial(register_missing_fixer, container = fix_missing)"
   ]
  },
  {
   "cell_type": "code",
   "execution_count": 18,
   "metadata": {
    "collapsed": true
   },
   "outputs": [],
   "source": [
    "replace_na_with_value <- function (col_name, value) {\n",
    "    \n",
    "    function (df) {\n",
    "        df[df[, col_name] %>% `[[`(1) %>% is.na, col_name] <- value\n",
    "        df\n",
    "    }\n",
    "}\n",
    "\n",
    "replace_na_with_zero <- purrr::partial(replace_na_with_value, value = 0)"
   ]
  },
  {
   "cell_type": "code",
   "execution_count": 19,
   "metadata": {},
   "outputs": [],
   "source": [
    "fix_missing <- register(\"BsmtFinSF1\",   replace_na_with_zero)\n",
    "fix_missing <- register(\"BsmtFinSF2\",   replace_na_with_zero)\n",
    "fix_missing <- register(\"BsmtFullBath\", replace_na_with_zero)\n",
    "fix_missing <- register(\"BsmtHalfBath\", replace_na_with_zero)\n",
    "fix_missing <- register(\"BsmtUnfSF\",    replace_na_with_zero)\n",
    "fix_missing <- register(\"Electrical\",   replace_na_with_value, 'SBrkr')\n",
    "fix_missing <- register(\"Exterior1st\",  replace_na_with_value, 'VinylSd')\n",
    "fix_missing <- register(\"Exterior2nd\",  replace_na_with_value, 'VinylSd')\n",
    "fix_missing <- register(\"Functional\",   replace_na_with_value, 'Typ')\n",
    "fix_missing <- register(\"GarageYrBlt\",  replace_na_with_zero)\n",
    "fix_missing <- register(\"BsmtUnfSF\",    replace_na_with_zero)\n",
    "fix_missing <- register(\"KitchenQual\",  replace_na_with_value, 'TA')\n",
    "fix_missing <- register(\"LotFrontage\",  replace_na_with_zero)\n",
    "\n",
    "fix_missing$MasVnrArea <- function (df) {\n",
    "    df[df$MasVnrType == 'None' & \n",
    "       !is.na(df$MasVnrArea) & df$MasVnrArea > 0, \"MasVnrArea\"] <- 0\n",
    "    \n",
    "    df[is.na(df$MasVnrArea), \"MasVnrArea\"] <- 0\n",
    "    \n",
    "    df\n",
    "}\n",
    "\n",
    "fix_missing$MasVnrType <- function (df) {\n",
    "    df[is.na(df$MasVnrType) & \n",
    "       !is.na(df$MasVnrArea) & df$MasVnrArea > 0, \"MasVnrType\"] <- 'BrkFace'\n",
    "    \n",
    "    df[!is.na(df$MasVnrArea) & df$MasVnrArea == 0 &\n",
    "       df$MasVnrType != 'None', \"MasVnrType\"] <- 'None'\n",
    "    \n",
    "    df[is.na(df$MasVnrType), \"MasVnrType\"] <- 'None'\n",
    "    \n",
    "    df\n",
    "}\n",
    "\n",
    "fix_missing <- register(\"MSZoning\",  replace_na_with_value, 'RL')\n",
    "fix_missing <- register(\"SaleType\",  replace_na_with_value, 'Oth')\n",
    "\n",
    "fix_missing$TotalBsmtSF <- function (df) {\n",
    "    df[is.na(df$TotalBsmtSF) & is.na(df$BsmtCond), \"TotalBsmtSF\"] <- 0\n",
    "    df\n",
    "}"
   ]
  },
  {
   "cell_type": "code",
   "execution_count": 15,
   "metadata": {},
   "outputs": [],
   "source": [
    "test_that(\"BsmtFinSF1\", {\n",
    "    df <- fix_missing$BsmtFinSF1(df.combined)\n",
    "    \n",
    "    expect_equal(df %>% filter(is.na(BsmtFinSF1)) %>% nrow, 0)\n",
    "\n",
    "})\n",
    "\n",
    "test_that(\"MasVnrType & MasVnrArea\", {\n",
    "    df <- fix_missing$MasVnrType(df.combined)\n",
    "    df <- fix_missing$MasVnrArea(df)\n",
    "    \n",
    "    expect_equal(df %>% filter(is.na(MasVnrType)) %>% nrow, 0)\n",
    "    expect_equal(df %>% filter(is.na(MasVnrArea)) %>% nrow, 0)\n",
    "    expect_equal(df %>% filter(MasVnrArea == 0 & MasVnrType != 'None') %>% nrow, 0)\n",
    "    expect_equal(df %>% filter(MasVnrType == 'None' & MasVnrArea > 0) %>% nrow, 0)\n",
    "})\n",
    "\n",
    "test_that(\"MSZoning\", {\n",
    "    df <- fix_missing$MSZoning(df.combined)\n",
    "    \n",
    "    expect_equal(df %>% filter(is.na(MSZoning)) %>% nrow, 0)\n",
    "\n",
    "})\n",
    "\n",
    "test_that(\"TotalBsmtSF\", {\n",
    "    df <- fix_missing$TotalBsmtSF(df.combined)\n",
    "    \n",
    "    expect_equal(df %>% filter(is.na(TotalBsmtSF)) %>% nrow, 0)\n",
    "    expect_equal(df %>% filter(TotalBsmtSF == 0 & !is.na(BsmtCond)) %>% nrow, 0)\n",
    "\n",
    "})"
   ]
  },
  {
   "cell_type": "code",
   "execution_count": 20,
   "metadata": {},
   "outputs": [
    {
     "data": {
      "text/html": [
       "<ol class=list-inline>\n",
       "\t<li>'Alley'</li>\n",
       "\t<li>'BedroomAbvGr'</li>\n",
       "\t<li>'BldgType'</li>\n",
       "\t<li>'BsmtCond'</li>\n",
       "\t<li>'BsmtExposure'</li>\n",
       "\t<li>'BsmtFinType1'</li>\n",
       "\t<li>'BsmtFinType2'</li>\n",
       "\t<li>'BsmtQual'</li>\n",
       "\t<li>'CentralAir'</li>\n",
       "\t<li>'Condition1'</li>\n",
       "\t<li>'Condition2'</li>\n",
       "\t<li>'dataSource'</li>\n",
       "\t<li>'EnclosedPorch'</li>\n",
       "\t<li>'ExterCond'</li>\n",
       "\t<li>'ExterQual'</li>\n",
       "\t<li>'Fence'</li>\n",
       "\t<li>'FireplaceQu'</li>\n",
       "\t<li>'Fireplaces'</li>\n",
       "\t<li>'Foundation'</li>\n",
       "\t<li>'FullBath'</li>\n",
       "\t<li>'GarageArea'</li>\n",
       "\t<li>'GarageCars'</li>\n",
       "\t<li>'GarageCond'</li>\n",
       "\t<li>'GarageFinish'</li>\n",
       "\t<li>'GarageQual'</li>\n",
       "\t<li>'GarageType'</li>\n",
       "\t<li>'GrLivArea'</li>\n",
       "\t<li>'HalfBath'</li>\n",
       "\t<li>'Heating'</li>\n",
       "\t<li>'HeatingQC'</li>\n",
       "\t<li>'HouseStyle'</li>\n",
       "\t<li>'KitchenAbvGr'</li>\n",
       "\t<li>'LandContour'</li>\n",
       "\t<li>'LandSlope'</li>\n",
       "\t<li>'LotArea'</li>\n",
       "\t<li>'LotConfig'</li>\n",
       "\t<li>'LotShape'</li>\n",
       "\t<li>'LowQualFinSF'</li>\n",
       "\t<li>'MiscFeature'</li>\n",
       "\t<li>'MiscVal'</li>\n",
       "\t<li>'MoSold'</li>\n",
       "\t<li>'MSSubClass'</li>\n",
       "\t<li>'Neighborhood'</li>\n",
       "\t<li>'OpenPorchSF'</li>\n",
       "\t<li>'OverallCond'</li>\n",
       "\t<li>'OverallQual'</li>\n",
       "\t<li>'PavedDrive'</li>\n",
       "\t<li>'PoolArea'</li>\n",
       "\t<li>'PoolQC'</li>\n",
       "\t<li>'RoofMatl'</li>\n",
       "\t<li>'RoofStyle'</li>\n",
       "\t<li>'SaleCondition'</li>\n",
       "\t<li>'SalePrice'</li>\n",
       "\t<li>'ScreenPorch'</li>\n",
       "\t<li>'Street'</li>\n",
       "\t<li>'TotRmsAbvGrd'</li>\n",
       "\t<li>'Utilities'</li>\n",
       "\t<li>'WoodDeckSF'</li>\n",
       "\t<li>'X1stFlrSF'</li>\n",
       "\t<li>'X2ndFlrSF'</li>\n",
       "\t<li>'X3SsnPorch'</li>\n",
       "\t<li>'YearBuilt'</li>\n",
       "\t<li>'YearRemodAdd'</li>\n",
       "\t<li>'YrSold'</li>\n",
       "</ol>\n"
      ],
      "text/latex": [
       "\\begin{enumerate*}\n",
       "\\item 'Alley'\n",
       "\\item 'BedroomAbvGr'\n",
       "\\item 'BldgType'\n",
       "\\item 'BsmtCond'\n",
       "\\item 'BsmtExposure'\n",
       "\\item 'BsmtFinType1'\n",
       "\\item 'BsmtFinType2'\n",
       "\\item 'BsmtQual'\n",
       "\\item 'CentralAir'\n",
       "\\item 'Condition1'\n",
       "\\item 'Condition2'\n",
       "\\item 'dataSource'\n",
       "\\item 'EnclosedPorch'\n",
       "\\item 'ExterCond'\n",
       "\\item 'ExterQual'\n",
       "\\item 'Fence'\n",
       "\\item 'FireplaceQu'\n",
       "\\item 'Fireplaces'\n",
       "\\item 'Foundation'\n",
       "\\item 'FullBath'\n",
       "\\item 'GarageArea'\n",
       "\\item 'GarageCars'\n",
       "\\item 'GarageCond'\n",
       "\\item 'GarageFinish'\n",
       "\\item 'GarageQual'\n",
       "\\item 'GarageType'\n",
       "\\item 'GrLivArea'\n",
       "\\item 'HalfBath'\n",
       "\\item 'Heating'\n",
       "\\item 'HeatingQC'\n",
       "\\item 'HouseStyle'\n",
       "\\item 'KitchenAbvGr'\n",
       "\\item 'LandContour'\n",
       "\\item 'LandSlope'\n",
       "\\item 'LotArea'\n",
       "\\item 'LotConfig'\n",
       "\\item 'LotShape'\n",
       "\\item 'LowQualFinSF'\n",
       "\\item 'MiscFeature'\n",
       "\\item 'MiscVal'\n",
       "\\item 'MoSold'\n",
       "\\item 'MSSubClass'\n",
       "\\item 'Neighborhood'\n",
       "\\item 'OpenPorchSF'\n",
       "\\item 'OverallCond'\n",
       "\\item 'OverallQual'\n",
       "\\item 'PavedDrive'\n",
       "\\item 'PoolArea'\n",
       "\\item 'PoolQC'\n",
       "\\item 'RoofMatl'\n",
       "\\item 'RoofStyle'\n",
       "\\item 'SaleCondition'\n",
       "\\item 'SalePrice'\n",
       "\\item 'ScreenPorch'\n",
       "\\item 'Street'\n",
       "\\item 'TotRmsAbvGrd'\n",
       "\\item 'Utilities'\n",
       "\\item 'WoodDeckSF'\n",
       "\\item 'X1stFlrSF'\n",
       "\\item 'X2ndFlrSF'\n",
       "\\item 'X3SsnPorch'\n",
       "\\item 'YearBuilt'\n",
       "\\item 'YearRemodAdd'\n",
       "\\item 'YrSold'\n",
       "\\end{enumerate*}\n"
      ],
      "text/markdown": [
       "1. 'Alley'\n",
       "2. 'BedroomAbvGr'\n",
       "3. 'BldgType'\n",
       "4. 'BsmtCond'\n",
       "5. 'BsmtExposure'\n",
       "6. 'BsmtFinType1'\n",
       "7. 'BsmtFinType2'\n",
       "8. 'BsmtQual'\n",
       "9. 'CentralAir'\n",
       "10. 'Condition1'\n",
       "11. 'Condition2'\n",
       "12. 'dataSource'\n",
       "13. 'EnclosedPorch'\n",
       "14. 'ExterCond'\n",
       "15. 'ExterQual'\n",
       "16. 'Fence'\n",
       "17. 'FireplaceQu'\n",
       "18. 'Fireplaces'\n",
       "19. 'Foundation'\n",
       "20. 'FullBath'\n",
       "21. 'GarageArea'\n",
       "22. 'GarageCars'\n",
       "23. 'GarageCond'\n",
       "24. 'GarageFinish'\n",
       "25. 'GarageQual'\n",
       "26. 'GarageType'\n",
       "27. 'GrLivArea'\n",
       "28. 'HalfBath'\n",
       "29. 'Heating'\n",
       "30. 'HeatingQC'\n",
       "31. 'HouseStyle'\n",
       "32. 'KitchenAbvGr'\n",
       "33. 'LandContour'\n",
       "34. 'LandSlope'\n",
       "35. 'LotArea'\n",
       "36. 'LotConfig'\n",
       "37. 'LotShape'\n",
       "38. 'LowQualFinSF'\n",
       "39. 'MiscFeature'\n",
       "40. 'MiscVal'\n",
       "41. 'MoSold'\n",
       "42. 'MSSubClass'\n",
       "43. 'Neighborhood'\n",
       "44. 'OpenPorchSF'\n",
       "45. 'OverallCond'\n",
       "46. 'OverallQual'\n",
       "47. 'PavedDrive'\n",
       "48. 'PoolArea'\n",
       "49. 'PoolQC'\n",
       "50. 'RoofMatl'\n",
       "51. 'RoofStyle'\n",
       "52. 'SaleCondition'\n",
       "53. 'SalePrice'\n",
       "54. 'ScreenPorch'\n",
       "55. 'Street'\n",
       "56. 'TotRmsAbvGrd'\n",
       "57. 'Utilities'\n",
       "58. 'WoodDeckSF'\n",
       "59. 'X1stFlrSF'\n",
       "60. 'X2ndFlrSF'\n",
       "61. 'X3SsnPorch'\n",
       "62. 'YearBuilt'\n",
       "63. 'YearRemodAdd'\n",
       "64. 'YrSold'\n",
       "\n",
       "\n"
      ],
      "text/plain": [
       " [1] \"Alley\"         \"BedroomAbvGr\"  \"BldgType\"      \"BsmtCond\"     \n",
       " [5] \"BsmtExposure\"  \"BsmtFinType1\"  \"BsmtFinType2\"  \"BsmtQual\"     \n",
       " [9] \"CentralAir\"    \"Condition1\"    \"Condition2\"    \"dataSource\"   \n",
       "[13] \"EnclosedPorch\" \"ExterCond\"     \"ExterQual\"     \"Fence\"        \n",
       "[17] \"FireplaceQu\"   \"Fireplaces\"    \"Foundation\"    \"FullBath\"     \n",
       "[21] \"GarageArea\"    \"GarageCars\"    \"GarageCond\"    \"GarageFinish\" \n",
       "[25] \"GarageQual\"    \"GarageType\"    \"GrLivArea\"     \"HalfBath\"     \n",
       "[29] \"Heating\"       \"HeatingQC\"     \"HouseStyle\"    \"KitchenAbvGr\" \n",
       "[33] \"LandContour\"   \"LandSlope\"     \"LotArea\"       \"LotConfig\"    \n",
       "[37] \"LotShape\"      \"LowQualFinSF\"  \"MiscFeature\"   \"MiscVal\"      \n",
       "[41] \"MoSold\"        \"MSSubClass\"    \"Neighborhood\"  \"OpenPorchSF\"  \n",
       "[45] \"OverallCond\"   \"OverallQual\"   \"PavedDrive\"    \"PoolArea\"     \n",
       "[49] \"PoolQC\"        \"RoofMatl\"      \"RoofStyle\"     \"SaleCondition\"\n",
       "[53] \"SalePrice\"     \"ScreenPorch\"   \"Street\"        \"TotRmsAbvGrd\" \n",
       "[57] \"Utilities\"     \"WoodDeckSF\"    \"X1stFlrSF\"     \"X2ndFlrSF\"    \n",
       "[61] \"X3SsnPorch\"    \"YearBuilt\"     \"YearRemodAdd\"  \"YrSold\"       "
      ]
     },
     "metadata": {},
     "output_type": "display_data"
    }
   ],
   "source": [
    "setdiff(df.combined %>% names, fix_missing %>% names) %>% sort"
   ]
  },
  {
   "cell_type": "code",
   "execution_count": null,
   "metadata": {
    "collapsed": true
   },
   "outputs": [],
   "source": []
  },
  {
   "cell_type": "code",
   "execution_count": null,
   "metadata": {
    "collapsed": true
   },
   "outputs": [],
   "source": []
  },
  {
   "cell_type": "code",
   "execution_count": null,
   "metadata": {
    "collapsed": true
   },
   "outputs": [],
   "source": []
  },
  {
   "cell_type": "code",
   "execution_count": null,
   "metadata": {
    "collapsed": true
   },
   "outputs": [],
   "source": []
  },
  {
   "cell_type": "code",
   "execution_count": null,
   "metadata": {
    "collapsed": true
   },
   "outputs": [],
   "source": []
  },
  {
   "cell_type": "code",
   "execution_count": null,
   "metadata": {
    "collapsed": true
   },
   "outputs": [],
   "source": []
  },
  {
   "cell_type": "code",
   "execution_count": null,
   "metadata": {
    "collapsed": true
   },
   "outputs": [],
   "source": []
  },
  {
   "cell_type": "code",
   "execution_count": null,
   "metadata": {
    "collapsed": true
   },
   "outputs": [],
   "source": []
  },
  {
   "cell_type": "code",
   "execution_count": null,
   "metadata": {
    "collapsed": true
   },
   "outputs": [],
   "source": []
  },
  {
   "cell_type": "code",
   "execution_count": null,
   "metadata": {
    "collapsed": true
   },
   "outputs": [],
   "source": []
  },
  {
   "cell_type": "code",
   "execution_count": null,
   "metadata": {
    "collapsed": true
   },
   "outputs": [],
   "source": []
  },
  {
   "cell_type": "code",
   "execution_count": null,
   "metadata": {
    "collapsed": true
   },
   "outputs": [],
   "source": []
  },
  {
   "cell_type": "code",
   "execution_count": null,
   "metadata": {
    "collapsed": true
   },
   "outputs": [],
   "source": []
  },
  {
   "cell_type": "code",
   "execution_count": null,
   "metadata": {
    "collapsed": true
   },
   "outputs": [],
   "source": []
  },
  {
   "cell_type": "code",
   "execution_count": null,
   "metadata": {
    "collapsed": true
   },
   "outputs": [],
   "source": []
  },
  {
   "cell_type": "code",
   "execution_count": null,
   "metadata": {
    "collapsed": true
   },
   "outputs": [],
   "source": []
  },
  {
   "cell_type": "code",
   "execution_count": null,
   "metadata": {
    "collapsed": true
   },
   "outputs": [],
   "source": []
  },
  {
   "cell_type": "code",
   "execution_count": null,
   "metadata": {
    "collapsed": true
   },
   "outputs": [],
   "source": []
  },
  {
   "cell_type": "code",
   "execution_count": null,
   "metadata": {
    "collapsed": true
   },
   "outputs": [],
   "source": []
  },
  {
   "cell_type": "code",
   "execution_count": null,
   "metadata": {
    "collapsed": true
   },
   "outputs": [],
   "source": []
  },
  {
   "cell_type": "code",
   "execution_count": null,
   "metadata": {
    "collapsed": true
   },
   "outputs": [],
   "source": []
  },
  {
   "cell_type": "code",
   "execution_count": null,
   "metadata": {
    "collapsed": true
   },
   "outputs": [],
   "source": []
  },
  {
   "cell_type": "code",
   "execution_count": null,
   "metadata": {
    "collapsed": true
   },
   "outputs": [],
   "source": []
  },
  {
   "cell_type": "code",
   "execution_count": null,
   "metadata": {
    "collapsed": true
   },
   "outputs": [],
   "source": []
  },
  {
   "cell_type": "code",
   "execution_count": null,
   "metadata": {
    "collapsed": true
   },
   "outputs": [],
   "source": []
  },
  {
   "cell_type": "code",
   "execution_count": null,
   "metadata": {
    "collapsed": true
   },
   "outputs": [],
   "source": []
  },
  {
   "cell_type": "code",
   "execution_count": null,
   "metadata": {
    "collapsed": true
   },
   "outputs": [],
   "source": []
  },
  {
   "cell_type": "code",
   "execution_count": null,
   "metadata": {
    "collapsed": true
   },
   "outputs": [],
   "source": []
  },
  {
   "cell_type": "code",
   "execution_count": null,
   "metadata": {
    "collapsed": true
   },
   "outputs": [],
   "source": []
  },
  {
   "cell_type": "code",
   "execution_count": null,
   "metadata": {
    "collapsed": true
   },
   "outputs": [],
   "source": []
  }
 ],
 "metadata": {
  "kernelspec": {
   "display_name": "R",
   "language": "R",
   "name": "ir"
  },
  "language_info": {
   "codemirror_mode": "r",
   "file_extension": ".r",
   "mimetype": "text/x-r-source",
   "name": "R",
   "pygments_lexer": "r",
   "version": "3.4.0"
  }
 },
 "nbformat": 4,
 "nbformat_minor": 2
}
