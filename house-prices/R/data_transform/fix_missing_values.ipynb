{
 "cells": [
  {
   "cell_type": "code",
   "execution_count": 15,
   "metadata": {},
   "outputs": [
    {
     "data": {
      "text/html": [
       "'/mnt/hdd/develop/kaggle/house-prices/R'"
      ],
      "text/latex": [
       "'/mnt/hdd/develop/kaggle/house-prices/R'"
      ],
      "text/markdown": [
       "'/mnt/hdd/develop/kaggle/house-prices/R'"
      ],
      "text/plain": [
       "[1] \"/mnt/hdd/develop/kaggle/house-prices/R\""
      ]
     },
     "metadata": {},
     "output_type": "display_data"
    },
    {
     "data": {
      "text/html": [
       "'/mnt/hdd/develop/kaggle/house-prices/R'"
      ],
      "text/latex": [
       "'/mnt/hdd/develop/kaggle/house-prices/R'"
      ],
      "text/markdown": [
       "'/mnt/hdd/develop/kaggle/house-prices/R'"
      ],
      "text/plain": [
       "[1] \"/mnt/hdd/develop/kaggle/house-prices/R\""
      ]
     },
     "metadata": {},
     "output_type": "display_data"
    }
   ],
   "source": [
    "getwd()\n",
    "if ( is.null(environment()$this_notebook_dir) ) {\n",
    "    this_notebook_dir <- getwd()\n",
    "    setwd(paste0(getwd(), '/..'))\n",
    "}\n",
    "getwd()"
   ]
  },
  {
   "cell_type": "code",
   "execution_count": 23,
   "metadata": {},
   "outputs": [
    {
     "data": {
      "text/html": [
       "<pre class=language-r><code>function (data) \n",
       "{\n",
       "<span style=white-space:pre-wrap>    print(\"run tests ...\")</span>\n",
       "<span style=white-space:pre-wrap>    with(kaggle.house$na$fixerContainer, {</span>\n",
       "<span style=white-space:pre-wrap>        test_that(\"BsmtFinSF1\", {</span>\n",
       "<span style=white-space:pre-wrap>            df &lt;- BsmtFinSF1(data)</span>\n",
       "<span style=white-space:pre-wrap>            expect_equal(df %&gt;% filter(is.na(BsmtFinSF1)) %&gt;% </span>\n",
       "<span style=white-space:pre-wrap>                nrow, 0)</span>\n",
       "<span style=white-space:pre-wrap>        })</span>\n",
       "<span style=white-space:pre-wrap>        test_that(\"MasVnrType &amp; MasVnrArea\", {</span>\n",
       "<span style=white-space:pre-wrap>            df &lt;- MasVnrType(data)</span>\n",
       "<span style=white-space:pre-wrap>            df &lt;- MasVnrArea(df)</span>\n",
       "<span style=white-space:pre-wrap>            expect_equal(df %&gt;% filter(is.na(MasVnrType)) %&gt;% </span>\n",
       "<span style=white-space:pre-wrap>                nrow, 0)</span>\n",
       "<span style=white-space:pre-wrap>            expect_equal(df %&gt;% filter(is.na(MasVnrArea)) %&gt;% </span>\n",
       "<span style=white-space:pre-wrap>                nrow, 0)</span>\n",
       "<span style=white-space:pre-wrap>            expect_equal(df %&gt;% filter(MasVnrArea == 0 &amp; MasVnrType != </span>\n",
       "<span style=white-space:pre-wrap>                \"None\") %&gt;% nrow, 0)</span>\n",
       "<span style=white-space:pre-wrap>            expect_equal(df %&gt;% filter(MasVnrType == \"None\" &amp; </span>\n",
       "<span style=white-space:pre-wrap>                MasVnrArea &gt; 0) %&gt;% nrow, 0)</span>\n",
       "<span style=white-space:pre-wrap>        })</span>\n",
       "<span style=white-space:pre-wrap>        test_that(\"MSZoning\", {</span>\n",
       "<span style=white-space:pre-wrap>            df &lt;- MSZoning(data)</span>\n",
       "<span style=white-space:pre-wrap>            expect_equal(df %&gt;% filter(is.na(MSZoning)) %&gt;% nrow, </span>\n",
       "<span style=white-space:pre-wrap>                0)</span>\n",
       "<span style=white-space:pre-wrap>        })</span>\n",
       "<span style=white-space:pre-wrap>        test_that(\"TotalBsmtSF\", {</span>\n",
       "<span style=white-space:pre-wrap>            df &lt;- TotalBsmtSF(data)</span>\n",
       "<span style=white-space:pre-wrap>            expect_equal(df %&gt;% filter(is.na(TotalBsmtSF)) %&gt;% </span>\n",
       "<span style=white-space:pre-wrap>                nrow, 0)</span>\n",
       "<span style=white-space:pre-wrap>            expect_equal(df %&gt;% filter(TotalBsmtSF == 0 &amp; !is.na(BsmtCond)) %&gt;% </span>\n",
       "<span style=white-space:pre-wrap>                nrow, 0)</span>\n",
       "<span style=white-space:pre-wrap>        })</span>\n",
       "<span style=white-space:pre-wrap>    })</span>\n",
       "}</code></pre>"
      ],
      "text/latex": [
       "\\begin{minted}{r}\n",
       "function (data) \n",
       "\\{\n",
       "    print(\"run tests ...\")\n",
       "    with(kaggle.house\\$na\\$fixerContainer, \\{\n",
       "        test\\_that(\"BsmtFinSF1\", \\{\n",
       "            df <- BsmtFinSF1(data)\n",
       "            expect\\_equal(df \\%>\\% filter(is.na(BsmtFinSF1)) \\%>\\% \n",
       "                nrow, 0)\n",
       "        \\})\n",
       "        test\\_that(\"MasVnrType \\& MasVnrArea\", \\{\n",
       "            df <- MasVnrType(data)\n",
       "            df <- MasVnrArea(df)\n",
       "            expect\\_equal(df \\%>\\% filter(is.na(MasVnrType)) \\%>\\% \n",
       "                nrow, 0)\n",
       "            expect\\_equal(df \\%>\\% filter(is.na(MasVnrArea)) \\%>\\% \n",
       "                nrow, 0)\n",
       "            expect\\_equal(df \\%>\\% filter(MasVnrArea == 0 \\& MasVnrType != \n",
       "                \"None\") \\%>\\% nrow, 0)\n",
       "            expect\\_equal(df \\%>\\% filter(MasVnrType == \"None\" \\& \n",
       "                MasVnrArea > 0) \\%>\\% nrow, 0)\n",
       "        \\})\n",
       "        test\\_that(\"MSZoning\", \\{\n",
       "            df <- MSZoning(data)\n",
       "            expect\\_equal(df \\%>\\% filter(is.na(MSZoning)) \\%>\\% nrow, \n",
       "                0)\n",
       "        \\})\n",
       "        test\\_that(\"TotalBsmtSF\", \\{\n",
       "            df <- TotalBsmtSF(data)\n",
       "            expect\\_equal(df \\%>\\% filter(is.na(TotalBsmtSF)) \\%>\\% \n",
       "                nrow, 0)\n",
       "            expect\\_equal(df \\%>\\% filter(TotalBsmtSF == 0 \\& !is.na(BsmtCond)) \\%>\\% \n",
       "                nrow, 0)\n",
       "        \\})\n",
       "    \\})\n",
       "\\}\n",
       "\\end{minted}"
      ],
      "text/markdown": [
       "```r\n",
       "function (data) \n",
       "{\n",
       "    print(\"run tests ...\")\n",
       "    with(kaggle.house$na$fixerContainer, {\n",
       "        test_that(\"BsmtFinSF1\", {\n",
       "            df <- BsmtFinSF1(data)\n",
       "            expect_equal(df %>% filter(is.na(BsmtFinSF1)) %>% \n",
       "                nrow, 0)\n",
       "        })\n",
       "        test_that(\"MasVnrType & MasVnrArea\", {\n",
       "            df <- MasVnrType(data)\n",
       "            df <- MasVnrArea(df)\n",
       "            expect_equal(df %>% filter(is.na(MasVnrType)) %>% \n",
       "                nrow, 0)\n",
       "            expect_equal(df %>% filter(is.na(MasVnrArea)) %>% \n",
       "                nrow, 0)\n",
       "            expect_equal(df %>% filter(MasVnrArea == 0 & MasVnrType != \n",
       "                \"None\") %>% nrow, 0)\n",
       "            expect_equal(df %>% filter(MasVnrType == \"None\" & \n",
       "                MasVnrArea > 0) %>% nrow, 0)\n",
       "        })\n",
       "        test_that(\"MSZoning\", {\n",
       "            df <- MSZoning(data)\n",
       "            expect_equal(df %>% filter(is.na(MSZoning)) %>% nrow, \n",
       "                0)\n",
       "        })\n",
       "        test_that(\"TotalBsmtSF\", {\n",
       "            df <- TotalBsmtSF(data)\n",
       "            expect_equal(df %>% filter(is.na(TotalBsmtSF)) %>% \n",
       "                nrow, 0)\n",
       "            expect_equal(df %>% filter(TotalBsmtSF == 0 & !is.na(BsmtCond)) %>% \n",
       "                nrow, 0)\n",
       "        })\n",
       "    })\n",
       "}\n",
       "```"
      ],
      "text/plain": [
       "function (data) \n",
       "{\n",
       "    print(\"run tests ...\")\n",
       "    with(kaggle.house$na$fixerContainer, {\n",
       "        test_that(\"BsmtFinSF1\", {\n",
       "            df <- BsmtFinSF1(data)\n",
       "            expect_equal(df %>% filter(is.na(BsmtFinSF1)) %>% \n",
       "                nrow, 0)\n",
       "        })\n",
       "        test_that(\"MasVnrType & MasVnrArea\", {\n",
       "            df <- MasVnrType(data)\n",
       "            df <- MasVnrArea(df)\n",
       "            expect_equal(df %>% filter(is.na(MasVnrType)) %>% \n",
       "                nrow, 0)\n",
       "            expect_equal(df %>% filter(is.na(MasVnrArea)) %>% \n",
       "                nrow, 0)\n",
       "            expect_equal(df %>% filter(MasVnrArea == 0 & MasVnrType != \n",
       "                \"None\") %>% nrow, 0)\n",
       "            expect_equal(df %>% filter(MasVnrType == \"None\" & \n",
       "                MasVnrArea > 0) %>% nrow, 0)\n",
       "        })\n",
       "        test_that(\"MSZoning\", {\n",
       "            df <- MSZoning(data)\n",
       "            expect_equal(df %>% filter(is.na(MSZoning)) %>% nrow, \n",
       "                0)\n",
       "        })\n",
       "        test_that(\"TotalBsmtSF\", {\n",
       "            df <- TotalBsmtSF(data)\n",
       "            expect_equal(df %>% filter(is.na(TotalBsmtSF)) %>% \n",
       "                nrow, 0)\n",
       "            expect_equal(df %>% filter(TotalBsmtSF == 0 & !is.na(BsmtCond)) %>% \n",
       "                nrow, 0)\n",
       "        })\n",
       "    })\n",
       "}\n",
       "<environment: 0xa263510>"
      ]
     },
     "metadata": {},
     "output_type": "display_data"
    }
   ],
   "source": [
    "source('main.R')\n",
    "kaggle.house$na$test_na_fixers"
   ]
  },
  {
   "cell_type": "code",
   "execution_count": 49,
   "metadata": {},
   "outputs": [
    {
     "data": {
      "text/html": [
       "<ol class=list-inline>\n",
       "\t<li>1460</li>\n",
       "\t<li>1459</li>\n",
       "\t<li>2919</li>\n",
       "</ol>\n"
      ],
      "text/latex": [
       "\\begin{enumerate*}\n",
       "\\item 1460\n",
       "\\item 1459\n",
       "\\item 2919\n",
       "\\end{enumerate*}\n"
      ],
      "text/markdown": [
       "1. 1460\n",
       "2. 1459\n",
       "3. 2919\n",
       "\n",
       "\n"
      ],
      "text/plain": [
       "[1] 1460 1459 2919"
      ]
     },
     "metadata": {},
     "output_type": "display_data"
    },
    {
     "data": {
      "text/html": [
       "<ol class=list-inline>\n",
       "\t<li>80</li>\n",
       "\t<li>79</li>\n",
       "\t<li>81</li>\n",
       "</ol>\n"
      ],
      "text/latex": [
       "\\begin{enumerate*}\n",
       "\\item 80\n",
       "\\item 79\n",
       "\\item 81\n",
       "\\end{enumerate*}\n"
      ],
      "text/markdown": [
       "1. 80\n",
       "2. 79\n",
       "3. 81\n",
       "\n",
       "\n"
      ],
      "text/plain": [
       "[1] 80 79 81"
      ]
     },
     "metadata": {},
     "output_type": "display_data"
    }
   ],
   "source": [
    "source('helpers.R')\n",
    "\n",
    "kaggle.house$loadLibraries()\n",
    "data <- kaggle.house$loadData()\n",
    "\n",
    "df.training <- data$train\n",
    "df.testing <- data$test\n",
    "df.combined <- kaggle.house$getCombinedDataset(df.training, df.testing)\n",
    "\n",
    "c(nrow(df.training),   nrow(df.testing),   nrow(df.combined))\n",
    "c(length(df.training), length(df.testing), length(df.combined))"
   ]
  },
  {
   "cell_type": "code",
   "execution_count": 50,
   "metadata": {},
   "outputs": [
    {
     "name": "stdout",
     "output_type": "stream",
     "text": [
      "[1] \"run tests ...\"\n"
     ]
    }
   ],
   "source": [
    "source('fix_missing_values.R')\n",
    "source('test_fix_missing_values.R')\n",
    "\n",
    "kaggle.house$na$test_na_fixers(df.combined)\n",
    "\n",
    "df.combined.fixed <- kaggle.house$na$fixAll(df.combined)\n",
    "df.training.fixed <- df.combined %>% filter(dataSource == \"train\")\n",
    "df.testing.fixed <- df.combined %>% filter(dataSource == \"test\")"
   ]
  },
  {
   "cell_type": "code",
   "execution_count": null,
   "metadata": {
    "collapsed": true
   },
   "outputs": [],
   "source": []
  },
  {
   "cell_type": "code",
   "execution_count": null,
   "metadata": {
    "collapsed": true
   },
   "outputs": [],
   "source": []
  },
  {
   "cell_type": "code",
   "execution_count": 15,
   "metadata": {
    "collapsed": true
   },
   "outputs": [],
   "source": []
  },
  {
   "cell_type": "code",
   "execution_count": null,
   "metadata": {
    "collapsed": true
   },
   "outputs": [],
   "source": []
  },
  {
   "cell_type": "code",
   "execution_count": null,
   "metadata": {
    "collapsed": true
   },
   "outputs": [],
   "source": []
  },
  {
   "cell_type": "code",
   "execution_count": null,
   "metadata": {
    "collapsed": true
   },
   "outputs": [],
   "source": []
  },
  {
   "cell_type": "code",
   "execution_count": null,
   "metadata": {
    "collapsed": true
   },
   "outputs": [],
   "source": []
  },
  {
   "cell_type": "code",
   "execution_count": null,
   "metadata": {
    "collapsed": true
   },
   "outputs": [],
   "source": []
  },
  {
   "cell_type": "code",
   "execution_count": null,
   "metadata": {
    "collapsed": true
   },
   "outputs": [],
   "source": []
  },
  {
   "cell_type": "code",
   "execution_count": null,
   "metadata": {
    "collapsed": true
   },
   "outputs": [],
   "source": []
  },
  {
   "cell_type": "code",
   "execution_count": null,
   "metadata": {
    "collapsed": true
   },
   "outputs": [],
   "source": []
  },
  {
   "cell_type": "code",
   "execution_count": null,
   "metadata": {
    "collapsed": true
   },
   "outputs": [],
   "source": []
  },
  {
   "cell_type": "code",
   "execution_count": null,
   "metadata": {
    "collapsed": true
   },
   "outputs": [],
   "source": []
  },
  {
   "cell_type": "code",
   "execution_count": null,
   "metadata": {
    "collapsed": true
   },
   "outputs": [],
   "source": []
  },
  {
   "cell_type": "code",
   "execution_count": null,
   "metadata": {
    "collapsed": true
   },
   "outputs": [],
   "source": []
  },
  {
   "cell_type": "code",
   "execution_count": null,
   "metadata": {
    "collapsed": true
   },
   "outputs": [],
   "source": []
  },
  {
   "cell_type": "code",
   "execution_count": null,
   "metadata": {
    "collapsed": true
   },
   "outputs": [],
   "source": []
  },
  {
   "cell_type": "code",
   "execution_count": null,
   "metadata": {
    "collapsed": true
   },
   "outputs": [],
   "source": []
  },
  {
   "cell_type": "code",
   "execution_count": null,
   "metadata": {
    "collapsed": true
   },
   "outputs": [],
   "source": []
  },
  {
   "cell_type": "code",
   "execution_count": null,
   "metadata": {
    "collapsed": true
   },
   "outputs": [],
   "source": []
  },
  {
   "cell_type": "code",
   "execution_count": null,
   "metadata": {
    "collapsed": true
   },
   "outputs": [],
   "source": []
  },
  {
   "cell_type": "code",
   "execution_count": null,
   "metadata": {
    "collapsed": true
   },
   "outputs": [],
   "source": []
  },
  {
   "cell_type": "code",
   "execution_count": null,
   "metadata": {
    "collapsed": true
   },
   "outputs": [],
   "source": []
  },
  {
   "cell_type": "code",
   "execution_count": null,
   "metadata": {
    "collapsed": true
   },
   "outputs": [],
   "source": []
  },
  {
   "cell_type": "code",
   "execution_count": null,
   "metadata": {
    "collapsed": true
   },
   "outputs": [],
   "source": []
  },
  {
   "cell_type": "code",
   "execution_count": null,
   "metadata": {
    "collapsed": true
   },
   "outputs": [],
   "source": []
  },
  {
   "cell_type": "code",
   "execution_count": null,
   "metadata": {
    "collapsed": true
   },
   "outputs": [],
   "source": []
  },
  {
   "cell_type": "code",
   "execution_count": null,
   "metadata": {
    "collapsed": true
   },
   "outputs": [],
   "source": []
  },
  {
   "cell_type": "code",
   "execution_count": null,
   "metadata": {
    "collapsed": true
   },
   "outputs": [],
   "source": []
  },
  {
   "cell_type": "code",
   "execution_count": null,
   "metadata": {
    "collapsed": true
   },
   "outputs": [],
   "source": []
  },
  {
   "cell_type": "code",
   "execution_count": null,
   "metadata": {
    "collapsed": true
   },
   "outputs": [],
   "source": []
  },
  {
   "cell_type": "code",
   "execution_count": null,
   "metadata": {
    "collapsed": true
   },
   "outputs": [],
   "source": []
  },
  {
   "cell_type": "code",
   "execution_count": null,
   "metadata": {
    "collapsed": true
   },
   "outputs": [],
   "source": []
  },
  {
   "cell_type": "code",
   "execution_count": null,
   "metadata": {
    "collapsed": true
   },
   "outputs": [],
   "source": []
  }
 ],
 "metadata": {
  "kernelspec": {
   "display_name": "R",
   "language": "R",
   "name": "ir"
  },
  "language_info": {
   "codemirror_mode": "r",
   "file_extension": ".r",
   "mimetype": "text/x-r-source",
   "name": "R",
   "pygments_lexer": "r",
   "version": "3.4.0"
  }
 },
 "nbformat": 4,
 "nbformat_minor": 2
}
