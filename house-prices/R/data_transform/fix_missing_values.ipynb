{
 "cells": [
  {
   "cell_type": "code",
   "execution_count": 31,
   "metadata": {},
   "outputs": [
    {
     "data": {
      "text/html": [
       "'/mnt/hdd/develop/kaggle/house-prices/R'"
      ],
      "text/latex": [
       "'/mnt/hdd/develop/kaggle/house-prices/R'"
      ],
      "text/markdown": [
       "'/mnt/hdd/develop/kaggle/house-prices/R'"
      ],
      "text/plain": [
       "[1] \"/mnt/hdd/develop/kaggle/house-prices/R\""
      ]
     },
     "metadata": {},
     "output_type": "display_data"
    },
    {
     "data": {
      "text/html": [
       "'/mnt/hdd/develop/kaggle/house-prices/R'"
      ],
      "text/latex": [
       "'/mnt/hdd/develop/kaggle/house-prices/R'"
      ],
      "text/markdown": [
       "'/mnt/hdd/develop/kaggle/house-prices/R'"
      ],
      "text/plain": [
       "[1] \"/mnt/hdd/develop/kaggle/house-prices/R\""
      ]
     },
     "metadata": {},
     "output_type": "display_data"
    }
   ],
   "source": [
    "getwd()\n",
    "if ( is.null(environment()$this_notebook_dir) ) {\n",
    "    this_notebook_dir <- getwd()\n",
    "    setwd(paste0(getwd(), '/..'))\n",
    "}\n",
    "getwd()"
   ]
  },
  {
   "cell_type": "code",
   "execution_count": 33,
   "metadata": {},
   "outputs": [
    {
     "data": {
      "text/html": [
       "<ol class=list-inline>\n",
       "\t<li>1460</li>\n",
       "\t<li>1459</li>\n",
       "\t<li>2919</li>\n",
       "</ol>\n"
      ],
      "text/latex": [
       "\\begin{enumerate*}\n",
       "\\item 1460\n",
       "\\item 1459\n",
       "\\item 2919\n",
       "\\end{enumerate*}\n"
      ],
      "text/markdown": [
       "1. 1460\n",
       "2. 1459\n",
       "3. 2919\n",
       "\n",
       "\n"
      ],
      "text/plain": [
       "[1] 1460 1459 2919"
      ]
     },
     "metadata": {},
     "output_type": "display_data"
    },
    {
     "data": {
      "text/html": [
       "<ol class=list-inline>\n",
       "\t<li>80</li>\n",
       "\t<li>79</li>\n",
       "\t<li>81</li>\n",
       "</ol>\n"
      ],
      "text/latex": [
       "\\begin{enumerate*}\n",
       "\\item 80\n",
       "\\item 79\n",
       "\\item 81\n",
       "\\end{enumerate*}\n"
      ],
      "text/markdown": [
       "1. 80\n",
       "2. 79\n",
       "3. 81\n",
       "\n",
       "\n"
      ],
      "text/plain": [
       "[1] 80 79 81"
      ]
     },
     "metadata": {},
     "output_type": "display_data"
    }
   ],
   "source": [
    "source('helpers.R')\n",
    "source('validation_utils.R')\n",
    "\n",
    "kaggle.house$loadLibraries()\n",
    "data <- kaggle.house$loadData()\n",
    "\n",
    "df.training <- data$train\n",
    "df.testing <- data$test\n",
    "df.combined <- kaggle.house$getCombinedDataset(df.training, df.testing)\n",
    "\n",
    "c(nrow(df.training),   nrow(df.testing),   nrow(df.combined))\n",
    "c(length(df.training), length(df.testing), length(df.combined))"
   ]
  },
  {
   "cell_type": "code",
   "execution_count": 70,
   "metadata": {
    "collapsed": true
   },
   "outputs": [],
   "source": [
    "fix_missing <- list()\n",
    "\n",
    "register_missing_fixer <- function (container, col_name, fixer, ...) {\n",
    "    container[[col_name]] <- fixer(col_name, ...)\n",
    "    container\n",
    "}\n",
    "\n",
    "register <- purrr::partial(register_missing_fixer, container = fix_missing)"
   ]
  },
  {
   "cell_type": "code",
   "execution_count": 35,
   "metadata": {
    "collapsed": true
   },
   "outputs": [],
   "source": [
    "replace_na_with_value <- function (col_name, value) {\n",
    "    \n",
    "    function (df) {\n",
    "        df[df[, col_name] %>% `[[`(1) %>% is.na, col_name] <- value\n",
    "        df\n",
    "    }\n",
    "}\n",
    "\n",
    "replace_na_with_zero <- purrr::partial(replace_na_with_value, value = 0)"
   ]
  },
  {
   "cell_type": "code",
   "execution_count": 98,
   "metadata": {
    "collapsed": true
   },
   "outputs": [],
   "source": [
    "#fix_missing$BsmtFinSF1 <- replace_na_with_zero(\"BsmtFinSF1\")\n",
    "#fix_missing$BsmtFinSF2 <- replace_na_with_zero(\"BsmtFinSF2\")\n",
    "#fix_missing$BsmtFullBath <- replace_na_with_zero(\"BsmtFullBath\")\n",
    "#fix_missing$BsmtHalfBath <- replace_na_with_zero(\"BsmtHalfBath\")\n",
    "#fix_missing$BsmtUnfSF <- replace_na_with_zero(\"BsmtUnfSF\")\n",
    "# fix_missing$Electrical <- replace_na_with_value(\"Electrical\", 'SBrkr')\n",
    "# fix_missing$Exterior1st <- replace_na_with_value(\"Exterior1st\", 'VinylSd')\n",
    "# fix_missing$Exterior2nd <- replace_na_with_value(\"Exterior2nd\", 'VinylSd')\n",
    "# fix_missing$Functional <- replace_na_with_value(\"Functional\", 'Typ')\n",
    "# fix_missing$GarageArea <- replace_na_with_zero(\"GarageArea\")\n",
    "# fix_missing$GarageYrBlt <- replace_na_with_zero(\"GarageYrBlt\")\n",
    "# fix_missing$KitchenQual <- replace_na_with_value(\"KitchenQual\", 'TA')\n",
    "# fix_missing$LotFrontage <- replace_na_with_zero(\"LotFrontage\")\n",
    "# fix_missing$MasVnrArea <- replace_na_with_zero(\"MasVnrArea\")"
   ]
  },
  {
   "cell_type": "code",
   "execution_count": 130,
   "metadata": {},
   "outputs": [],
   "source": [
    "fix_missing <- register(\"BsmtFinSF1\",   replace_na_with_zero)\n",
    "fix_missing <- register(\"BsmtFinSF2\",   replace_na_with_zero)\n",
    "fix_missing <- register(\"BsmtFullBath\", replace_na_with_zero)\n",
    "fix_missing <- register(\"BsmtHalfBath\", replace_na_with_zero)\n",
    "fix_missing <- register(\"BsmtUnfSF\",    replace_na_with_zero)\n",
    "fix_missing <- register(\"Electrical\",   replace_na_with_value, 'SBrkr')\n",
    "fix_missing <- register(\"Exterior1st\",  replace_na_with_value, 'VinylSd')\n",
    "fix_missing <- register(\"Exterior2nd\",  replace_na_with_value, 'VinylSd')\n",
    "fix_missing <- register(\"Functional\",   replace_na_with_value, 'Typ')\n",
    "fix_missing <- register(\"GarageYrBlt\",  replace_na_with_zero)\n",
    "fix_missing <- register(\"BsmtUnfSF\",    replace_na_with_zero)\n",
    "fix_missing <- register(\"KitchenQual\",  replace_na_with_value, 'TA')\n",
    "fix_missing <- register(\"LotFrontage\",  replace_na_with_zero)\n",
    "fix_missing <- register(\"MasVnrArea\",   replace_na_with_zero)\n",
    "\n",
    "fix_missing$MasVnrType <- function (df) {\n",
    "    \n",
    "    df[is.na(df$MasVnrType) & \n",
    "       !is.na(df$MasVnrArea) & df$MasVnrArea > 0, \"MasVnrType\"] <- 'BrkFace'\n",
    "    \n",
    "    df[!is.na(df$MasVnrArea) & df$MasVnrArea == 0 &\n",
    "       df$MasVnrType != 'None', \"MasVnrType\"] <- 'None'\n",
    "    \n",
    "    df[is.na(df$MasVnrType), \"MasVnrType\"] <- 'None'\n",
    "    \n",
    "    df\n",
    "}\n",
    "\n",
    "fix_missing$MasVnrArea <- function (df) {\n",
    "    \n",
    "    df[df$MasVnrType == 'None' & \n",
    "       !is.na(df$MasVnrArea) & df$MasVnrArea > 0, \"MasVnrArea\"] <- 0\n",
    "    \n",
    "    df[is.na(df$MasVnrArea), \"MasVnrArea\"] <- 0\n",
    "    \n",
    "    df\n",
    "}"
   ]
  },
  {
   "cell_type": "code",
   "execution_count": 141,
   "metadata": {},
   "outputs": [],
   "source": [
    "library(testthat)\n",
    "\n",
    "test_that(\"MasVnrType & MasVnrArea\", {\n",
    "    df <- fix_missing$MasVnrType(df.combined)\n",
    "    df <- fix_missing$MasVnrArea(df)\n",
    "    \n",
    "    expect_equal(df %>% filter(is.na(MasVnrType)) %>% nrow, 0)\n",
    "    expect_equal(df %>% filter(is.na(MasVnrArea)) %>% nrow, 0)\n",
    "    expect_equal(df %>% filter(MasVnrArea == 0 & MasVnrType != 'None') %>% nrow, 0)\n",
    "    expect_equal(df %>% filter(MasVnrType == 'None' & MasVnrArea > 0) %>% nrow, 0)\n",
    "})"
   ]
  },
  {
   "cell_type": "code",
   "execution_count": 119,
   "metadata": {
    "scrolled": true
   },
   "outputs": [
    {
     "data": {
      "text/html": [
       "<table>\n",
       "<thead><tr><th scope=col>MasVnrArea</th><th scope=col>MasVnrType</th></tr></thead>\n",
       "<tbody>\n",
       "\t<tr><td>0      </td><td>BrkFace</td></tr>\n",
       "\t<tr><td>0      </td><td>Stone  </td></tr>\n",
       "\t<tr><td>0      </td><td>BrkFace</td></tr>\n",
       "</tbody>\n",
       "</table>\n"
      ],
      "text/latex": [
       "\\begin{tabular}{r|ll}\n",
       " MasVnrArea & MasVnrType\\\\\n",
       "\\hline\n",
       "\t 0       & BrkFace\\\\\n",
       "\t 0       & Stone  \\\\\n",
       "\t 0       & BrkFace\\\\\n",
       "\\end{tabular}\n"
      ],
      "text/markdown": [
       "\n",
       "MasVnrArea | MasVnrType | \n",
       "|---|---|---|\n",
       "| 0       | BrkFace | \n",
       "| 0       | Stone   | \n",
       "| 0       | BrkFace | \n",
       "\n",
       "\n"
      ],
      "text/plain": [
       "  MasVnrArea MasVnrType\n",
       "1 0          BrkFace   \n",
       "2 0          Stone     \n",
       "3 0          BrkFace   "
      ]
     },
     "metadata": {},
     "output_type": "display_data"
    }
   ],
   "source": [
    "df %>% filter(MasVnrArea == 0 & MasVnrType != 'None') %>% select(MasVnrArea, MasVnrType)"
   ]
  },
  {
   "cell_type": "code",
   "execution_count": 102,
   "metadata": {},
   "outputs": [
    {
     "data": {
      "text/html": [
       "<table>\n",
       "<thead><tr><th scope=col>MasVnrType</th><th scope=col>n</th></tr></thead>\n",
       "<tbody>\n",
       "\t<tr><td>BrkCmn </td><td>  25   </td></tr>\n",
       "\t<tr><td>BrkFace</td><td> 879   </td></tr>\n",
       "\t<tr><td>None   </td><td>1742   </td></tr>\n",
       "\t<tr><td>Stone  </td><td> 249   </td></tr>\n",
       "\t<tr><td>NA     </td><td>  24   </td></tr>\n",
       "</tbody>\n",
       "</table>\n"
      ],
      "text/latex": [
       "\\begin{tabular}{r|ll}\n",
       " MasVnrType & n\\\\\n",
       "\\hline\n",
       "\t BrkCmn  &   25   \\\\\n",
       "\t BrkFace &  879   \\\\\n",
       "\t None    & 1742   \\\\\n",
       "\t Stone   &  249   \\\\\n",
       "\t NA      &   24   \\\\\n",
       "\\end{tabular}\n"
      ],
      "text/markdown": [
       "\n",
       "MasVnrType | n | \n",
       "|---|---|---|---|---|\n",
       "| BrkCmn  |   25    | \n",
       "| BrkFace |  879    | \n",
       "| None    | 1742    | \n",
       "| Stone   |  249    | \n",
       "| NA      |   24    | \n",
       "\n",
       "\n"
      ],
      "text/plain": [
       "  MasVnrType n   \n",
       "1 BrkCmn       25\n",
       "2 BrkFace     879\n",
       "3 None       1742\n",
       "4 Stone       249\n",
       "5 NA           24"
      ]
     },
     "metadata": {},
     "output_type": "display_data"
    }
   ],
   "source": [
    "#df.combined %>% (fix_missing$KitchenQual) %>% group_by(KitchenQual) %>% count\n",
    "df.combined %>% group_by(MasVnrType) %>% count\n"
   ]
  },
  {
   "cell_type": "code",
   "execution_count": 97,
   "metadata": {},
   "outputs": [
    {
     "data": {
      "text/html": [
       "<table>\n",
       "<thead><tr><th scope=col>MasVnrType</th></tr></thead>\n",
       "<tbody>\n",
       "\t<tr><td>NA</td></tr>\n",
       "</tbody>\n",
       "</table>\n"
      ],
      "text/latex": [
       "\\begin{tabular}{r|l}\n",
       " MasVnrType\\\\\n",
       "\\hline\n",
       "\t NA\\\\\n",
       "\\end{tabular}\n"
      ],
      "text/markdown": [
       "\n",
       "MasVnrType | \n",
       "|---|\n",
       "| NA | \n",
       "\n",
       "\n"
      ],
      "text/plain": [
       "  MasVnrType\n",
       "1 NA        "
      ]
     },
     "metadata": {},
     "output_type": "display_data"
    }
   ],
   "source": [
    "df.combined[is.na(df.combined$MasVnrType) & \n",
    "            !is.na(df.combined$MasVnrArea) & \n",
    "            df.combined$MasVnrArea > 0, \"MasVnrType\"]"
   ]
  },
  {
   "cell_type": "code",
   "execution_count": 99,
   "metadata": {},
   "outputs": [
    {
     "data": {
      "text/html": [
       "<ol class=list-inline>\n",
       "\t<li>'Alley'</li>\n",
       "\t<li>'BedroomAbvGr'</li>\n",
       "\t<li>'BldgType'</li>\n",
       "\t<li>'BsmtCond'</li>\n",
       "\t<li>'BsmtExposure'</li>\n",
       "\t<li>'BsmtFinType1'</li>\n",
       "\t<li>'BsmtFinType2'</li>\n",
       "\t<li>'BsmtQual'</li>\n",
       "\t<li>'CentralAir'</li>\n",
       "\t<li>'Condition1'</li>\n",
       "\t<li>'Condition2'</li>\n",
       "\t<li>'dataSource'</li>\n",
       "\t<li>'EnclosedPorch'</li>\n",
       "\t<li>'ExterCond'</li>\n",
       "\t<li>'ExterQual'</li>\n",
       "\t<li>'Fence'</li>\n",
       "\t<li>'FireplaceQu'</li>\n",
       "\t<li>'Fireplaces'</li>\n",
       "\t<li>'Foundation'</li>\n",
       "\t<li>'FullBath'</li>\n",
       "\t<li>'GarageArea'</li>\n",
       "\t<li>'GarageCars'</li>\n",
       "\t<li>'GarageCond'</li>\n",
       "\t<li>'GarageFinish'</li>\n",
       "\t<li>'GarageQual'</li>\n",
       "\t<li>'GarageType'</li>\n",
       "\t<li>'GrLivArea'</li>\n",
       "\t<li>'HalfBath'</li>\n",
       "\t<li>'Heating'</li>\n",
       "\t<li>'HeatingQC'</li>\n",
       "\t<li>'HouseStyle'</li>\n",
       "\t<li>'KitchenAbvGr'</li>\n",
       "\t<li>'LandContour'</li>\n",
       "\t<li>'LandSlope'</li>\n",
       "\t<li>'LotArea'</li>\n",
       "\t<li>'LotConfig'</li>\n",
       "\t<li>'LotShape'</li>\n",
       "\t<li>'LowQualFinSF'</li>\n",
       "\t<li>'MasVnrType'</li>\n",
       "\t<li>'MiscFeature'</li>\n",
       "\t<li>'MiscVal'</li>\n",
       "\t<li>'MoSold'</li>\n",
       "\t<li>'MSSubClass'</li>\n",
       "\t<li>'MSZoning'</li>\n",
       "\t<li>'Neighborhood'</li>\n",
       "\t<li>'OpenPorchSF'</li>\n",
       "\t<li>'OverallCond'</li>\n",
       "\t<li>'OverallQual'</li>\n",
       "\t<li>'PavedDrive'</li>\n",
       "\t<li>'PoolArea'</li>\n",
       "\t<li>'PoolQC'</li>\n",
       "\t<li>'RoofMatl'</li>\n",
       "\t<li>'RoofStyle'</li>\n",
       "\t<li>'SaleCondition'</li>\n",
       "\t<li>'SalePrice'</li>\n",
       "\t<li>'SaleType'</li>\n",
       "\t<li>'ScreenPorch'</li>\n",
       "\t<li>'Street'</li>\n",
       "\t<li>'TotalBsmtSF'</li>\n",
       "\t<li>'TotRmsAbvGrd'</li>\n",
       "\t<li>'Utilities'</li>\n",
       "\t<li>'WoodDeckSF'</li>\n",
       "\t<li>'X1stFlrSF'</li>\n",
       "\t<li>'X2ndFlrSF'</li>\n",
       "\t<li>'X3SsnPorch'</li>\n",
       "\t<li>'YearBuilt'</li>\n",
       "\t<li>'YearRemodAdd'</li>\n",
       "\t<li>'YrSold'</li>\n",
       "</ol>\n"
      ],
      "text/latex": [
       "\\begin{enumerate*}\n",
       "\\item 'Alley'\n",
       "\\item 'BedroomAbvGr'\n",
       "\\item 'BldgType'\n",
       "\\item 'BsmtCond'\n",
       "\\item 'BsmtExposure'\n",
       "\\item 'BsmtFinType1'\n",
       "\\item 'BsmtFinType2'\n",
       "\\item 'BsmtQual'\n",
       "\\item 'CentralAir'\n",
       "\\item 'Condition1'\n",
       "\\item 'Condition2'\n",
       "\\item 'dataSource'\n",
       "\\item 'EnclosedPorch'\n",
       "\\item 'ExterCond'\n",
       "\\item 'ExterQual'\n",
       "\\item 'Fence'\n",
       "\\item 'FireplaceQu'\n",
       "\\item 'Fireplaces'\n",
       "\\item 'Foundation'\n",
       "\\item 'FullBath'\n",
       "\\item 'GarageArea'\n",
       "\\item 'GarageCars'\n",
       "\\item 'GarageCond'\n",
       "\\item 'GarageFinish'\n",
       "\\item 'GarageQual'\n",
       "\\item 'GarageType'\n",
       "\\item 'GrLivArea'\n",
       "\\item 'HalfBath'\n",
       "\\item 'Heating'\n",
       "\\item 'HeatingQC'\n",
       "\\item 'HouseStyle'\n",
       "\\item 'KitchenAbvGr'\n",
       "\\item 'LandContour'\n",
       "\\item 'LandSlope'\n",
       "\\item 'LotArea'\n",
       "\\item 'LotConfig'\n",
       "\\item 'LotShape'\n",
       "\\item 'LowQualFinSF'\n",
       "\\item 'MasVnrType'\n",
       "\\item 'MiscFeature'\n",
       "\\item 'MiscVal'\n",
       "\\item 'MoSold'\n",
       "\\item 'MSSubClass'\n",
       "\\item 'MSZoning'\n",
       "\\item 'Neighborhood'\n",
       "\\item 'OpenPorchSF'\n",
       "\\item 'OverallCond'\n",
       "\\item 'OverallQual'\n",
       "\\item 'PavedDrive'\n",
       "\\item 'PoolArea'\n",
       "\\item 'PoolQC'\n",
       "\\item 'RoofMatl'\n",
       "\\item 'RoofStyle'\n",
       "\\item 'SaleCondition'\n",
       "\\item 'SalePrice'\n",
       "\\item 'SaleType'\n",
       "\\item 'ScreenPorch'\n",
       "\\item 'Street'\n",
       "\\item 'TotalBsmtSF'\n",
       "\\item 'TotRmsAbvGrd'\n",
       "\\item 'Utilities'\n",
       "\\item 'WoodDeckSF'\n",
       "\\item 'X1stFlrSF'\n",
       "\\item 'X2ndFlrSF'\n",
       "\\item 'X3SsnPorch'\n",
       "\\item 'YearBuilt'\n",
       "\\item 'YearRemodAdd'\n",
       "\\item 'YrSold'\n",
       "\\end{enumerate*}\n"
      ],
      "text/markdown": [
       "1. 'Alley'\n",
       "2. 'BedroomAbvGr'\n",
       "3. 'BldgType'\n",
       "4. 'BsmtCond'\n",
       "5. 'BsmtExposure'\n",
       "6. 'BsmtFinType1'\n",
       "7. 'BsmtFinType2'\n",
       "8. 'BsmtQual'\n",
       "9. 'CentralAir'\n",
       "10. 'Condition1'\n",
       "11. 'Condition2'\n",
       "12. 'dataSource'\n",
       "13. 'EnclosedPorch'\n",
       "14. 'ExterCond'\n",
       "15. 'ExterQual'\n",
       "16. 'Fence'\n",
       "17. 'FireplaceQu'\n",
       "18. 'Fireplaces'\n",
       "19. 'Foundation'\n",
       "20. 'FullBath'\n",
       "21. 'GarageArea'\n",
       "22. 'GarageCars'\n",
       "23. 'GarageCond'\n",
       "24. 'GarageFinish'\n",
       "25. 'GarageQual'\n",
       "26. 'GarageType'\n",
       "27. 'GrLivArea'\n",
       "28. 'HalfBath'\n",
       "29. 'Heating'\n",
       "30. 'HeatingQC'\n",
       "31. 'HouseStyle'\n",
       "32. 'KitchenAbvGr'\n",
       "33. 'LandContour'\n",
       "34. 'LandSlope'\n",
       "35. 'LotArea'\n",
       "36. 'LotConfig'\n",
       "37. 'LotShape'\n",
       "38. 'LowQualFinSF'\n",
       "39. 'MasVnrType'\n",
       "40. 'MiscFeature'\n",
       "41. 'MiscVal'\n",
       "42. 'MoSold'\n",
       "43. 'MSSubClass'\n",
       "44. 'MSZoning'\n",
       "45. 'Neighborhood'\n",
       "46. 'OpenPorchSF'\n",
       "47. 'OverallCond'\n",
       "48. 'OverallQual'\n",
       "49. 'PavedDrive'\n",
       "50. 'PoolArea'\n",
       "51. 'PoolQC'\n",
       "52. 'RoofMatl'\n",
       "53. 'RoofStyle'\n",
       "54. 'SaleCondition'\n",
       "55. 'SalePrice'\n",
       "56. 'SaleType'\n",
       "57. 'ScreenPorch'\n",
       "58. 'Street'\n",
       "59. 'TotalBsmtSF'\n",
       "60. 'TotRmsAbvGrd'\n",
       "61. 'Utilities'\n",
       "62. 'WoodDeckSF'\n",
       "63. 'X1stFlrSF'\n",
       "64. 'X2ndFlrSF'\n",
       "65. 'X3SsnPorch'\n",
       "66. 'YearBuilt'\n",
       "67. 'YearRemodAdd'\n",
       "68. 'YrSold'\n",
       "\n",
       "\n"
      ],
      "text/plain": [
       " [1] \"Alley\"         \"BedroomAbvGr\"  \"BldgType\"      \"BsmtCond\"     \n",
       " [5] \"BsmtExposure\"  \"BsmtFinType1\"  \"BsmtFinType2\"  \"BsmtQual\"     \n",
       " [9] \"CentralAir\"    \"Condition1\"    \"Condition2\"    \"dataSource\"   \n",
       "[13] \"EnclosedPorch\" \"ExterCond\"     \"ExterQual\"     \"Fence\"        \n",
       "[17] \"FireplaceQu\"   \"Fireplaces\"    \"Foundation\"    \"FullBath\"     \n",
       "[21] \"GarageArea\"    \"GarageCars\"    \"GarageCond\"    \"GarageFinish\" \n",
       "[25] \"GarageQual\"    \"GarageType\"    \"GrLivArea\"     \"HalfBath\"     \n",
       "[29] \"Heating\"       \"HeatingQC\"     \"HouseStyle\"    \"KitchenAbvGr\" \n",
       "[33] \"LandContour\"   \"LandSlope\"     \"LotArea\"       \"LotConfig\"    \n",
       "[37] \"LotShape\"      \"LowQualFinSF\"  \"MasVnrType\"    \"MiscFeature\"  \n",
       "[41] \"MiscVal\"       \"MoSold\"        \"MSSubClass\"    \"MSZoning\"     \n",
       "[45] \"Neighborhood\"  \"OpenPorchSF\"   \"OverallCond\"   \"OverallQual\"  \n",
       "[49] \"PavedDrive\"    \"PoolArea\"      \"PoolQC\"        \"RoofMatl\"     \n",
       "[53] \"RoofStyle\"     \"SaleCondition\" \"SalePrice\"     \"SaleType\"     \n",
       "[57] \"ScreenPorch\"   \"Street\"        \"TotalBsmtSF\"   \"TotRmsAbvGrd\" \n",
       "[61] \"Utilities\"     \"WoodDeckSF\"    \"X1stFlrSF\"     \"X2ndFlrSF\"    \n",
       "[65] \"X3SsnPorch\"    \"YearBuilt\"     \"YearRemodAdd\"  \"YrSold\"       "
      ]
     },
     "metadata": {},
     "output_type": "display_data"
    }
   ],
   "source": [
    "setdiff(df.combined %>% names, fix_missing %>% names) %>% sort"
   ]
  },
  {
   "cell_type": "code",
   "execution_count": 293,
   "metadata": {},
   "outputs": [
    {
     "data": {
      "text/html": [
       "<table>\n",
       "<thead><tr><th scope=col>MasVnrArea</th></tr></thead>\n",
       "<tbody>\n",
       "\t<tr><td>198</td></tr>\n",
       "</tbody>\n",
       "</table>\n"
      ],
      "text/latex": [
       "\\begin{tabular}{r|l}\n",
       " MasVnrArea\\\\\n",
       "\\hline\n",
       "\t 198\\\\\n",
       "\\end{tabular}\n"
      ],
      "text/markdown": [
       "\n",
       "MasVnrArea | \n",
       "|---|\n",
       "| 198 | \n",
       "\n",
       "\n"
      ],
      "text/plain": [
       "  MasVnrArea\n",
       "1 198       "
      ]
     },
     "metadata": {},
     "output_type": "display_data"
    }
   ],
   "source": [
    "df.combined %>% filter(is.na(MasVnrType)) %>% filter(!is.na(MasVnrArea)) %>% select(MasVnrArea)"
   ]
  },
  {
   "cell_type": "code",
   "execution_count": 83,
   "metadata": {},
   "outputs": [
    {
     "data": {
      "text/html": [
       "23"
      ],
      "text/latex": [
       "23"
      ],
      "text/markdown": [
       "23"
      ],
      "text/plain": [
       "[1] 23"
      ]
     },
     "metadata": {},
     "output_type": "display_data"
    }
   ],
   "source": [
    "df.combined %>% filter(is.na(MasVnrArea)) %>% select(MasVnrArea, MasVnrType) %>% nrow"
   ]
  },
  {
   "cell_type": "code",
   "execution_count": 108,
   "metadata": {
    "scrolled": true
   },
   "outputs": [
    {
     "data": {
      "text/html": [
       "<table>\n",
       "<thead><tr><th scope=col>MasVnrArea</th></tr></thead>\n",
       "<tbody>\n",
       "\t<tr><td>288</td></tr>\n",
       "\t<tr><td>  1</td></tr>\n",
       "\t<tr><td>  1</td></tr>\n",
       "\t<tr><td>344</td></tr>\n",
       "\t<tr><td>312</td></tr>\n",
       "\t<tr><td>285</td></tr>\n",
       "\t<tr><td>  1</td></tr>\n",
       "\t<tr><td> NA</td></tr>\n",
       "</tbody>\n",
       "</table>\n"
      ],
      "text/latex": [
       "\\begin{tabular}{r|l}\n",
       " MasVnrArea\\\\\n",
       "\\hline\n",
       "\t 288\\\\\n",
       "\t   1\\\\\n",
       "\t   1\\\\\n",
       "\t 344\\\\\n",
       "\t 312\\\\\n",
       "\t 285\\\\\n",
       "\t   1\\\\\n",
       "\t  NA\\\\\n",
       "\\end{tabular}\n"
      ],
      "text/markdown": [
       "\n",
       "MasVnrArea | \n",
       "|---|---|---|---|---|---|---|---|\n",
       "| 288 | \n",
       "|   1 | \n",
       "|   1 | \n",
       "| 344 | \n",
       "| 312 | \n",
       "| 285 | \n",
       "|   1 | \n",
       "|  NA | \n",
       "\n",
       "\n"
      ],
      "text/plain": [
       "  MasVnrArea\n",
       "1 288       \n",
       "2   1       \n",
       "3   1       \n",
       "4 344       \n",
       "5 312       \n",
       "6 285       \n",
       "7   1       \n",
       "8  NA       "
      ]
     },
     "metadata": {},
     "output_type": "display_data"
    }
   ],
   "source": [
    "df = df.combined\n",
    "\n",
    "df[df$MasVnrType == 'None' & !is.na(df$MasVnrArea) & df$MasVnrArea > 0, \"MasVnrArea\"]"
   ]
  },
  {
   "cell_type": "code",
   "execution_count": 100,
   "metadata": {},
   "outputs": [
    {
     "data": {
      "text/html": [
       "<table>\n",
       "<thead><tr><th scope=col>MasVnrArea</th><th scope=col>MasVnrType</th></tr></thead>\n",
       "<tbody>\n",
       "\t<tr><td>288 </td><td>None</td></tr>\n",
       "\t<tr><td>  1 </td><td>None</td></tr>\n",
       "\t<tr><td>  1 </td><td>None</td></tr>\n",
       "\t<tr><td>344 </td><td>None</td></tr>\n",
       "\t<tr><td>312 </td><td>None</td></tr>\n",
       "\t<tr><td>285 </td><td>None</td></tr>\n",
       "\t<tr><td>  1 </td><td>None</td></tr>\n",
       "</tbody>\n",
       "</table>\n"
      ],
      "text/latex": [
       "\\begin{tabular}{r|ll}\n",
       " MasVnrArea & MasVnrType\\\\\n",
       "\\hline\n",
       "\t 288  & None\\\\\n",
       "\t   1  & None\\\\\n",
       "\t   1  & None\\\\\n",
       "\t 344  & None\\\\\n",
       "\t 312  & None\\\\\n",
       "\t 285  & None\\\\\n",
       "\t   1  & None\\\\\n",
       "\\end{tabular}\n"
      ],
      "text/markdown": [
       "\n",
       "MasVnrArea | MasVnrType | \n",
       "|---|---|---|---|---|---|---|\n",
       "| 288  | None | \n",
       "|   1  | None | \n",
       "|   1  | None | \n",
       "| 344  | None | \n",
       "| 312  | None | \n",
       "| 285  | None | \n",
       "|   1  | None | \n",
       "\n",
       "\n"
      ],
      "text/plain": [
       "  MasVnrArea MasVnrType\n",
       "1 288        None      \n",
       "2   1        None      \n",
       "3   1        None      \n",
       "4 344        None      \n",
       "5 312        None      \n",
       "6 285        None      \n",
       "7   1        None      "
      ]
     },
     "metadata": {},
     "output_type": "display_data"
    }
   ],
   "source": [
    "df.combined %>% filter(MasVnrType == 'None' & MasVnrArea > 0) %>% select(MasVnrArea, MasVnrType)"
   ]
  },
  {
   "cell_type": "code",
   "execution_count": null,
   "metadata": {
    "collapsed": true
   },
   "outputs": [],
   "source": []
  },
  {
   "cell_type": "code",
   "execution_count": null,
   "metadata": {
    "collapsed": true
   },
   "outputs": [],
   "source": []
  },
  {
   "cell_type": "code",
   "execution_count": null,
   "metadata": {
    "collapsed": true
   },
   "outputs": [],
   "source": []
  },
  {
   "cell_type": "code",
   "execution_count": null,
   "metadata": {
    "collapsed": true
   },
   "outputs": [],
   "source": []
  },
  {
   "cell_type": "code",
   "execution_count": null,
   "metadata": {
    "collapsed": true
   },
   "outputs": [],
   "source": []
  },
  {
   "cell_type": "code",
   "execution_count": null,
   "metadata": {
    "collapsed": true
   },
   "outputs": [],
   "source": []
  },
  {
   "cell_type": "code",
   "execution_count": null,
   "metadata": {
    "collapsed": true
   },
   "outputs": [],
   "source": []
  },
  {
   "cell_type": "code",
   "execution_count": null,
   "metadata": {
    "collapsed": true
   },
   "outputs": [],
   "source": []
  },
  {
   "cell_type": "code",
   "execution_count": null,
   "metadata": {
    "collapsed": true
   },
   "outputs": [],
   "source": []
  },
  {
   "cell_type": "code",
   "execution_count": null,
   "metadata": {
    "collapsed": true
   },
   "outputs": [],
   "source": []
  },
  {
   "cell_type": "code",
   "execution_count": null,
   "metadata": {
    "collapsed": true
   },
   "outputs": [],
   "source": []
  },
  {
   "cell_type": "code",
   "execution_count": null,
   "metadata": {
    "collapsed": true
   },
   "outputs": [],
   "source": []
  },
  {
   "cell_type": "code",
   "execution_count": null,
   "metadata": {
    "collapsed": true
   },
   "outputs": [],
   "source": []
  },
  {
   "cell_type": "code",
   "execution_count": null,
   "metadata": {
    "collapsed": true
   },
   "outputs": [],
   "source": []
  },
  {
   "cell_type": "code",
   "execution_count": null,
   "metadata": {
    "collapsed": true
   },
   "outputs": [],
   "source": []
  },
  {
   "cell_type": "code",
   "execution_count": null,
   "metadata": {
    "collapsed": true
   },
   "outputs": [],
   "source": []
  },
  {
   "cell_type": "code",
   "execution_count": null,
   "metadata": {
    "collapsed": true
   },
   "outputs": [],
   "source": []
  },
  {
   "cell_type": "code",
   "execution_count": null,
   "metadata": {
    "collapsed": true
   },
   "outputs": [],
   "source": []
  },
  {
   "cell_type": "code",
   "execution_count": null,
   "metadata": {
    "collapsed": true
   },
   "outputs": [],
   "source": []
  },
  {
   "cell_type": "code",
   "execution_count": null,
   "metadata": {
    "collapsed": true
   },
   "outputs": [],
   "source": []
  },
  {
   "cell_type": "code",
   "execution_count": null,
   "metadata": {
    "collapsed": true
   },
   "outputs": [],
   "source": []
  },
  {
   "cell_type": "code",
   "execution_count": null,
   "metadata": {
    "collapsed": true
   },
   "outputs": [],
   "source": []
  }
 ],
 "metadata": {
  "kernelspec": {
   "display_name": "R",
   "language": "R",
   "name": "ir"
  },
  "language_info": {
   "codemirror_mode": "r",
   "file_extension": ".r",
   "mimetype": "text/x-r-source",
   "name": "R",
   "pygments_lexer": "r",
   "version": "3.4.0"
  }
 },
 "nbformat": 4,
 "nbformat_minor": 2
}
