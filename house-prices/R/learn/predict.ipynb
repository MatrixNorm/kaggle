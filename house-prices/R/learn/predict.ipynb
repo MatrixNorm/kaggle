{
 "cells": [
  {
   "cell_type": "markdown",
   "metadata": {},
   "source": [
    "https://stackoverflow.com/questions/24356683/apply-grouped-model-back-onto-data"
   ]
  },
  {
   "cell_type": "code",
   "execution_count": 2,
   "metadata": {},
   "outputs": [],
   "source": [
    "library(dplyr)\n",
    "library(broom)\n",
    "library(tibble)\n",
    "library(tidyr)\n",
    "library(purrr)\n",
    "library(caret)"
   ]
  },
  {
   "cell_type": "code",
   "execution_count": 3,
   "metadata": {},
   "outputs": [
    {
     "data": {
      "text/html": [
       "<ol class=list-inline>\n",
       "\t<li>150</li>\n",
       "\t<li>5</li>\n",
       "</ol>\n"
      ],
      "text/latex": [
       "\\begin{enumerate*}\n",
       "\\item 150\n",
       "\\item 5\n",
       "\\end{enumerate*}\n"
      ],
      "text/markdown": [
       "1. 150\n",
       "2. 5\n",
       "\n",
       "\n"
      ],
      "text/plain": [
       "[1] 150   5"
      ]
     },
     "metadata": {},
     "output_type": "display_data"
    },
    {
     "data": {
      "text/html": [
       "<table>\n",
       "<thead><tr><th scope=col>Sepal.Length</th><th scope=col>Sepal.Width</th><th scope=col>Petal.Length</th><th scope=col>Petal.Width</th><th scope=col>Species</th></tr></thead>\n",
       "<tbody>\n",
       "\t<tr><td>5.1   </td><td>3.5   </td><td>1.4   </td><td>0.2   </td><td>setosa</td></tr>\n",
       "\t<tr><td>4.9   </td><td>3.0   </td><td>1.4   </td><td>0.2   </td><td>setosa</td></tr>\n",
       "\t<tr><td>4.7   </td><td>3.2   </td><td>1.3   </td><td>0.2   </td><td>setosa</td></tr>\n",
       "\t<tr><td>4.6   </td><td>3.1   </td><td>1.5   </td><td>0.2   </td><td>setosa</td></tr>\n",
       "\t<tr><td>5.0   </td><td>3.6   </td><td>1.4   </td><td>0.2   </td><td>setosa</td></tr>\n",
       "\t<tr><td>5.4   </td><td>3.9   </td><td>1.7   </td><td>0.4   </td><td>setosa</td></tr>\n",
       "</tbody>\n",
       "</table>\n"
      ],
      "text/latex": [
       "\\begin{tabular}{r|lllll}\n",
       " Sepal.Length & Sepal.Width & Petal.Length & Petal.Width & Species\\\\\n",
       "\\hline\n",
       "\t 5.1    & 3.5    & 1.4    & 0.2    & setosa\\\\\n",
       "\t 4.9    & 3.0    & 1.4    & 0.2    & setosa\\\\\n",
       "\t 4.7    & 3.2    & 1.3    & 0.2    & setosa\\\\\n",
       "\t 4.6    & 3.1    & 1.5    & 0.2    & setosa\\\\\n",
       "\t 5.0    & 3.6    & 1.4    & 0.2    & setosa\\\\\n",
       "\t 5.4    & 3.9    & 1.7    & 0.4    & setosa\\\\\n",
       "\\end{tabular}\n"
      ],
      "text/markdown": [
       "\n",
       "Sepal.Length | Sepal.Width | Petal.Length | Petal.Width | Species | \n",
       "|---|---|---|---|---|---|\n",
       "| 5.1    | 3.5    | 1.4    | 0.2    | setosa | \n",
       "| 4.9    | 3.0    | 1.4    | 0.2    | setosa | \n",
       "| 4.7    | 3.2    | 1.3    | 0.2    | setosa | \n",
       "| 4.6    | 3.1    | 1.5    | 0.2    | setosa | \n",
       "| 5.0    | 3.6    | 1.4    | 0.2    | setosa | \n",
       "| 5.4    | 3.9    | 1.7    | 0.4    | setosa | \n",
       "\n",
       "\n"
      ],
      "text/plain": [
       "  Sepal.Length Sepal.Width Petal.Length Petal.Width Species\n",
       "1 5.1          3.5         1.4          0.2         setosa \n",
       "2 4.9          3.0         1.4          0.2         setosa \n",
       "3 4.7          3.2         1.3          0.2         setosa \n",
       "4 4.6          3.1         1.5          0.2         setosa \n",
       "5 5.0          3.6         1.4          0.2         setosa \n",
       "6 5.4          3.9         1.7          0.4         setosa "
      ]
     },
     "metadata": {},
     "output_type": "display_data"
    }
   ],
   "source": [
    "dim(iris)\n",
    "head(iris)"
   ]
  },
  {
   "cell_type": "code",
   "execution_count": 4,
   "metadata": {},
   "outputs": [
    {
     "data": {
      "text/html": [
       "<table>\n",
       "<thead><tr><th scope=col>Species</th><th scope=col>n</th></tr></thead>\n",
       "<tbody>\n",
       "\t<tr><td>setosa    </td><td>40        </td></tr>\n",
       "\t<tr><td>versicolor</td><td>40        </td></tr>\n",
       "\t<tr><td>virginica </td><td>40        </td></tr>\n",
       "</tbody>\n",
       "</table>\n"
      ],
      "text/latex": [
       "\\begin{tabular}{r|ll}\n",
       " Species & n\\\\\n",
       "\\hline\n",
       "\t setosa     & 40        \\\\\n",
       "\t versicolor & 40        \\\\\n",
       "\t virginica  & 40        \\\\\n",
       "\\end{tabular}\n"
      ],
      "text/markdown": [
       "\n",
       "Species | n | \n",
       "|---|---|---|\n",
       "| setosa     | 40         | \n",
       "| versicolor | 40         | \n",
       "| virginica  | 40         | \n",
       "\n",
       "\n"
      ],
      "text/plain": [
       "  Species    n \n",
       "1 setosa     40\n",
       "2 versicolor 40\n",
       "3 virginica  40"
      ]
     },
     "metadata": {},
     "output_type": "display_data"
    },
    {
     "data": {
      "text/html": [
       "<table>\n",
       "<thead><tr><th scope=col>Species</th><th scope=col>n</th></tr></thead>\n",
       "<tbody>\n",
       "\t<tr><td>setosa    </td><td>10        </td></tr>\n",
       "\t<tr><td>versicolor</td><td>10        </td></tr>\n",
       "\t<tr><td>virginica </td><td>10        </td></tr>\n",
       "</tbody>\n",
       "</table>\n"
      ],
      "text/latex": [
       "\\begin{tabular}{r|ll}\n",
       " Species & n\\\\\n",
       "\\hline\n",
       "\t setosa     & 10        \\\\\n",
       "\t versicolor & 10        \\\\\n",
       "\t virginica  & 10        \\\\\n",
       "\\end{tabular}\n"
      ],
      "text/markdown": [
       "\n",
       "Species | n | \n",
       "|---|---|---|\n",
       "| setosa     | 10         | \n",
       "| versicolor | 10         | \n",
       "| virginica  | 10         | \n",
       "\n",
       "\n"
      ],
      "text/plain": [
       "  Species    n \n",
       "1 setosa     10\n",
       "2 versicolor 10\n",
       "3 virginica  10"
      ]
     },
     "metadata": {},
     "output_type": "display_data"
    }
   ],
   "source": [
    "set.seed(13579)\n",
    "trainIndex <- createDataPartition(iris$Species, p = .8, \n",
    "                                  list = FALSE, \n",
    "                                  times = 1)\n",
    "\n",
    "irisTrain <- iris[ trainIndex,] %>% tbl_df\n",
    "irisTest  <- iris[-trainIndex,] %>% tbl_df\n",
    "\n",
    "irisTrain %>% group_by(Species) %>% count()\n",
    "irisTest %>% group_by(Species) %>% count()"
   ]
  },
  {
   "cell_type": "code",
   "execution_count": 5,
   "metadata": {},
   "outputs": [
    {
     "name": "stdout",
     "output_type": "stream",
     "text": [
      "# A tibble: 3 x 3\n",
      "     Species              data      mod\n",
      "      <fctr>            <list>   <list>\n",
      "1     setosa <tibble [40 x 4]> <S3: lm>\n",
      "2 versicolor <tibble [40 x 4]> <S3: lm>\n",
      "3  virginica <tibble [40 x 4]> <S3: lm>\n"
     ]
    }
   ],
   "source": [
    "irisTrain %>%\n",
    "group_by(Species) %>%\n",
    "nest() %>%\n",
    "mutate(mod = map(data, ~lm(Sepal.Length ~ Sepal.Width, .) ) ) -> models\n",
    "\n",
    "print(models)"
   ]
  },
  {
   "cell_type": "code",
   "execution_count": 7,
   "metadata": {},
   "outputs": [
    {
     "name": "stdout",
     "output_type": "stream",
     "text": [
      "# A tibble: 3 x 3\n",
      "     Species              data      mod\n",
      "      <fctr>            <list>   <list>\n",
      "1     setosa <tibble [10 x 4]> <S3: lm>\n",
      "2 versicolor <tibble [10 x 4]> <S3: lm>\n",
      "3  virginica <tibble [10 x 4]> <S3: lm>\n",
      "# A tibble: 3 x 4\n",
      "     Species              data      mod Sepal.Length.Pred\n",
      "      <fctr>            <list>   <list>            <list>\n",
      "1     setosa <tibble [10 x 4]> <S3: lm>        <dbl [10]>\n",
      "2 versicolor <tibble [10 x 4]> <S3: lm>        <dbl [10]>\n",
      "3  virginica <tibble [10 x 4]> <S3: lm>        <dbl [10]>\n"
     ]
    },
    {
     "data": {
      "text/html": [
       "<table>\n",
       "<thead><tr><th scope=col>Species</th><th scope=col>Sepal.Length.Pred</th><th scope=col>Sepal.Length</th><th scope=col>Sepal.Width</th><th scope=col>Petal.Length</th><th scope=col>Petal.Width</th></tr></thead>\n",
       "<tbody>\n",
       "\t<tr><td>setosa  </td><td>5.045048</td><td>5.1     </td><td>3.5     </td><td>1.4     </td><td>0.2     </td></tr>\n",
       "\t<tr><td>setosa  </td><td>4.691156</td><td>4.9     </td><td>3.0     </td><td>1.4     </td><td>0.2     </td></tr>\n",
       "\t<tr><td>setosa  </td><td>4.974269</td><td>4.6     </td><td>3.4     </td><td>1.4     </td><td>0.3     </td></tr>\n",
       "\t<tr><td>setosa  </td><td>5.682054</td><td>5.7     </td><td>4.4     </td><td>1.5     </td><td>0.4     </td></tr>\n",
       "\t<tr><td>setosa  </td><td>5.328162</td><td>5.4     </td><td>3.9     </td><td>1.3     </td><td>0.4     </td></tr>\n",
       "\t<tr><td>setosa  </td><td>4.974269</td><td>5.0     </td><td>3.4     </td><td>1.6     </td><td>0.4     </td></tr>\n",
       "</tbody>\n",
       "</table>\n"
      ],
      "text/latex": [
       "\\begin{tabular}{r|llllll}\n",
       " Species & Sepal.Length.Pred & Sepal.Length & Sepal.Width & Petal.Length & Petal.Width\\\\\n",
       "\\hline\n",
       "\t setosa   & 5.045048 & 5.1      & 3.5      & 1.4      & 0.2     \\\\\n",
       "\t setosa   & 4.691156 & 4.9      & 3.0      & 1.4      & 0.2     \\\\\n",
       "\t setosa   & 4.974269 & 4.6      & 3.4      & 1.4      & 0.3     \\\\\n",
       "\t setosa   & 5.682054 & 5.7      & 4.4      & 1.5      & 0.4     \\\\\n",
       "\t setosa   & 5.328162 & 5.4      & 3.9      & 1.3      & 0.4     \\\\\n",
       "\t setosa   & 4.974269 & 5.0      & 3.4      & 1.6      & 0.4     \\\\\n",
       "\\end{tabular}\n"
      ],
      "text/markdown": [
       "\n",
       "Species | Sepal.Length.Pred | Sepal.Length | Sepal.Width | Petal.Length | Petal.Width | \n",
       "|---|---|---|---|---|---|\n",
       "| setosa   | 5.045048 | 5.1      | 3.5      | 1.4      | 0.2      | \n",
       "| setosa   | 4.691156 | 4.9      | 3.0      | 1.4      | 0.2      | \n",
       "| setosa   | 4.974269 | 4.6      | 3.4      | 1.4      | 0.3      | \n",
       "| setosa   | 5.682054 | 5.7      | 4.4      | 1.5      | 0.4      | \n",
       "| setosa   | 5.328162 | 5.4      | 3.9      | 1.3      | 0.4      | \n",
       "| setosa   | 4.974269 | 5.0      | 3.4      | 1.6      | 0.4      | \n",
       "\n",
       "\n"
      ],
      "text/plain": [
       "  Species Sepal.Length.Pred Sepal.Length Sepal.Width Petal.Length Petal.Width\n",
       "1 setosa  5.045048          5.1          3.5         1.4          0.2        \n",
       "2 setosa  4.691156          4.9          3.0         1.4          0.2        \n",
       "3 setosa  4.974269          4.6          3.4         1.4          0.3        \n",
       "4 setosa  5.682054          5.7          4.4         1.5          0.4        \n",
       "5 setosa  5.328162          5.4          3.9         1.3          0.4        \n",
       "6 setosa  4.974269          5.0          3.4         1.6          0.4        "
      ]
     },
     "metadata": {},
     "output_type": "display_data"
    },
    {
     "data": {},
     "metadata": {},
     "output_type": "display_data"
    },
    {
     "data": {
      "image/png": "[encoded data removed]",
      "text/plain": [
       "plot without title"
      ]
     },
     "metadata": {},
     "output_type": "display_data"
    }
   ],
   "source": [
    "irisTest %>% \n",
    "nest(-Species) %>%\n",
    "inner_join(models %>% select(-data), by=\"Species\") -> x\n",
    "\n",
    "x %>% print\n",
    "\n",
    "x %>% mutate(Sepal.Length.Pred = map2(mod, data, predict)) -> y\n",
    "y %>% print\n",
    "\n",
    "z = y %>% select(-mod) %>% unnest()\n",
    "z %>% head\n",
    "\n",
    "options(repr.plot.width = 10, repr.plot.height = 3)\n",
    "\n",
    "ggplot() +\n",
    "geom_count(data=z, aes(x=Sepal.Width, y=Sepal.Length, colour = Species), alpha=0.7) +\n",
    "geom_point(data=z, aes(x=Sepal.Width, y=Sepal.Length.Pred), alpha=0.7, color=\"black\", shape='x') +\n",
    "facet_wrap(~Species) +\n",
    "theme_bw()"
   ]
  },
  {
   "cell_type": "code",
   "execution_count": null,
   "metadata": {
    "collapsed": true
   },
   "outputs": [],
   "source": []
  },
  {
   "cell_type": "code",
   "execution_count": null,
   "metadata": {
    "collapsed": true
   },
   "outputs": [],
   "source": []
  },
  {
   "cell_type": "code",
   "execution_count": null,
   "metadata": {
    "collapsed": true
   },
   "outputs": [],
   "source": []
  },
  {
   "cell_type": "code",
   "execution_count": null,
   "metadata": {
    "collapsed": true
   },
   "outputs": [],
   "source": []
  },
  {
   "cell_type": "code",
   "execution_count": null,
   "metadata": {
    "collapsed": true
   },
   "outputs": [],
   "source": []
  },
  {
   "cell_type": "code",
   "execution_count": null,
   "metadata": {
    "collapsed": true
   },
   "outputs": [],
   "source": []
  },
  {
   "cell_type": "code",
   "execution_count": null,
   "metadata": {
    "collapsed": true
   },
   "outputs": [],
   "source": []
  },
  {
   "cell_type": "code",
   "execution_count": null,
   "metadata": {
    "collapsed": true
   },
   "outputs": [],
   "source": []
  },
  {
   "cell_type": "code",
   "execution_count": null,
   "metadata": {
    "collapsed": true
   },
   "outputs": [],
   "source": []
  },
  {
   "cell_type": "code",
   "execution_count": null,
   "metadata": {
    "collapsed": true
   },
   "outputs": [],
   "source": []
  },
  {
   "cell_type": "code",
   "execution_count": null,
   "metadata": {
    "collapsed": true
   },
   "outputs": [],
   "source": []
  },
  {
   "cell_type": "code",
   "execution_count": null,
   "metadata": {
    "collapsed": true
   },
   "outputs": [],
   "source": []
  },
  {
   "cell_type": "code",
   "execution_count": null,
   "metadata": {
    "collapsed": true
   },
   "outputs": [],
   "source": []
  },
  {
   "cell_type": "code",
   "execution_count": null,
   "metadata": {
    "collapsed": true
   },
   "outputs": [],
   "source": []
  },
  {
   "cell_type": "code",
   "execution_count": null,
   "metadata": {
    "collapsed": true
   },
   "outputs": [],
   "source": []
  },
  {
   "cell_type": "code",
   "execution_count": null,
   "metadata": {
    "collapsed": true
   },
   "outputs": [],
   "source": []
  },
  {
   "cell_type": "code",
   "execution_count": null,
   "metadata": {
    "collapsed": true
   },
   "outputs": [],
   "source": []
  },
  {
   "cell_type": "code",
   "execution_count": null,
   "metadata": {
    "collapsed": true
   },
   "outputs": [],
   "source": []
  },
  {
   "cell_type": "code",
   "execution_count": null,
   "metadata": {
    "collapsed": true
   },
   "outputs": [],
   "source": []
  },
  {
   "cell_type": "code",
   "execution_count": null,
   "metadata": {
    "collapsed": true
   },
   "outputs": [],
   "source": []
  },
  {
   "cell_type": "code",
   "execution_count": null,
   "metadata": {
    "collapsed": true
   },
   "outputs": [],
   "source": []
  },
  {
   "cell_type": "code",
   "execution_count": null,
   "metadata": {
    "collapsed": true
   },
   "outputs": [],
   "source": []
  },
  {
   "cell_type": "code",
   "execution_count": null,
   "metadata": {
    "collapsed": true
   },
   "outputs": [],
   "source": []
  },
  {
   "cell_type": "code",
   "execution_count": null,
   "metadata": {
    "collapsed": true
   },
   "outputs": [],
   "source": []
  }
 ],
 "metadata": {
  "kernelspec": {
   "display_name": "R",
   "language": "R",
   "name": "ir"
  },
  "language_info": {
   "codemirror_mode": "r",
   "file_extension": ".r",
   "mimetype": "text/x-r-source",
   "name": "R",
   "pygments_lexer": "r",
   "version": "3.4.0"
  }
 },
 "nbformat": 4,
 "nbformat_minor": 2
}
