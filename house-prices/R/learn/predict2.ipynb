{
 "cells": [
  {
   "cell_type": "code",
   "execution_count": 17,
   "metadata": {},
   "outputs": [],
   "source": [
    "library(dplyr)\n",
    "library(broom)\n",
    "library(tibble)\n",
    "library(tidyr)\n",
    "library(purrr)\n",
    "library(ggplot2)"
   ]
  },
  {
   "cell_type": "code",
   "execution_count": 3,
   "metadata": {},
   "outputs": [
    {
     "data": {
      "text/html": [
       "<ol class=list-inline>\n",
       "\t<li>150</li>\n",
       "\t<li>5</li>\n",
       "</ol>\n"
      ],
      "text/latex": [
       "\\begin{enumerate*}\n",
       "\\item 150\n",
       "\\item 5\n",
       "\\end{enumerate*}\n"
      ],
      "text/markdown": [
       "1. 150\n",
       "2. 5\n",
       "\n",
       "\n"
      ],
      "text/plain": [
       "[1] 150   5"
      ]
     },
     "metadata": {},
     "output_type": "display_data"
    },
    {
     "data": {
      "text/html": [
       "<table>\n",
       "<thead><tr><th scope=col>Sepal.Length</th><th scope=col>Sepal.Width</th><th scope=col>Petal.Length</th><th scope=col>Petal.Width</th><th scope=col>Species</th></tr></thead>\n",
       "<tbody>\n",
       "\t<tr><td>5.1   </td><td>3.5   </td><td>1.4   </td><td>0.2   </td><td>setosa</td></tr>\n",
       "\t<tr><td>4.9   </td><td>3.0   </td><td>1.4   </td><td>0.2   </td><td>setosa</td></tr>\n",
       "\t<tr><td>4.7   </td><td>3.2   </td><td>1.3   </td><td>0.2   </td><td>setosa</td></tr>\n",
       "\t<tr><td>4.6   </td><td>3.1   </td><td>1.5   </td><td>0.2   </td><td>setosa</td></tr>\n",
       "\t<tr><td>5.0   </td><td>3.6   </td><td>1.4   </td><td>0.2   </td><td>setosa</td></tr>\n",
       "\t<tr><td>5.4   </td><td>3.9   </td><td>1.7   </td><td>0.4   </td><td>setosa</td></tr>\n",
       "</tbody>\n",
       "</table>\n"
      ],
      "text/latex": [
       "\\begin{tabular}{r|lllll}\n",
       " Sepal.Length & Sepal.Width & Petal.Length & Petal.Width & Species\\\\\n",
       "\\hline\n",
       "\t 5.1    & 3.5    & 1.4    & 0.2    & setosa\\\\\n",
       "\t 4.9    & 3.0    & 1.4    & 0.2    & setosa\\\\\n",
       "\t 4.7    & 3.2    & 1.3    & 0.2    & setosa\\\\\n",
       "\t 4.6    & 3.1    & 1.5    & 0.2    & setosa\\\\\n",
       "\t 5.0    & 3.6    & 1.4    & 0.2    & setosa\\\\\n",
       "\t 5.4    & 3.9    & 1.7    & 0.4    & setosa\\\\\n",
       "\\end{tabular}\n"
      ],
      "text/markdown": [
       "\n",
       "Sepal.Length | Sepal.Width | Petal.Length | Petal.Width | Species | \n",
       "|---|---|---|---|---|---|\n",
       "| 5.1    | 3.5    | 1.4    | 0.2    | setosa | \n",
       "| 4.9    | 3.0    | 1.4    | 0.2    | setosa | \n",
       "| 4.7    | 3.2    | 1.3    | 0.2    | setosa | \n",
       "| 4.6    | 3.1    | 1.5    | 0.2    | setosa | \n",
       "| 5.0    | 3.6    | 1.4    | 0.2    | setosa | \n",
       "| 5.4    | 3.9    | 1.7    | 0.4    | setosa | \n",
       "\n",
       "\n"
      ],
      "text/plain": [
       "  Sepal.Length Sepal.Width Petal.Length Petal.Width Species\n",
       "1 5.1          3.5         1.4          0.2         setosa \n",
       "2 4.9          3.0         1.4          0.2         setosa \n",
       "3 4.7          3.2         1.3          0.2         setosa \n",
       "4 4.6          3.1         1.5          0.2         setosa \n",
       "5 5.0          3.6         1.4          0.2         setosa \n",
       "6 5.4          3.9         1.7          0.4         setosa "
      ]
     },
     "metadata": {},
     "output_type": "display_data"
    }
   ],
   "source": [
    "dim(iris)\n",
    "head(iris)"
   ]
  },
  {
   "cell_type": "code",
   "execution_count": 15,
   "metadata": {},
   "outputs": [
    {
     "data": {
      "text/html": [
       "<table>\n",
       "<thead><tr><th scope=col>Species</th><th scope=col>n</th></tr></thead>\n",
       "<tbody>\n",
       "\t<tr><td>setosa    </td><td>37        </td></tr>\n",
       "\t<tr><td>versicolor</td><td>33        </td></tr>\n",
       "\t<tr><td>virginica </td><td>35        </td></tr>\n",
       "</tbody>\n",
       "</table>\n"
      ],
      "text/latex": [
       "\\begin{tabular}{r|ll}\n",
       " Species & n\\\\\n",
       "\\hline\n",
       "\t setosa     & 37        \\\\\n",
       "\t versicolor & 33        \\\\\n",
       "\t virginica  & 35        \\\\\n",
       "\\end{tabular}\n"
      ],
      "text/markdown": [
       "\n",
       "Species | n | \n",
       "|---|---|---|\n",
       "| setosa     | 37         | \n",
       "| versicolor | 33         | \n",
       "| virginica  | 35         | \n",
       "\n",
       "\n"
      ],
      "text/plain": [
       "  Species    n \n",
       "1 setosa     37\n",
       "2 versicolor 33\n",
       "3 virginica  35"
      ]
     },
     "metadata": {},
     "output_type": "display_data"
    },
    {
     "data": {
      "text/html": [
       "<table>\n",
       "<thead><tr><th scope=col>Species</th><th scope=col>n</th></tr></thead>\n",
       "<tbody>\n",
       "\t<tr><td>setosa    </td><td>13        </td></tr>\n",
       "\t<tr><td>versicolor</td><td>17        </td></tr>\n",
       "\t<tr><td>virginica </td><td>15        </td></tr>\n",
       "</tbody>\n",
       "</table>\n"
      ],
      "text/latex": [
       "\\begin{tabular}{r|ll}\n",
       " Species & n\\\\\n",
       "\\hline\n",
       "\t setosa     & 13        \\\\\n",
       "\t versicolor & 17        \\\\\n",
       "\t virginica  & 15        \\\\\n",
       "\\end{tabular}\n"
      ],
      "text/markdown": [
       "\n",
       "Species | n | \n",
       "|---|---|---|\n",
       "| setosa     | 13         | \n",
       "| versicolor | 17         | \n",
       "| virginica  | 15         | \n",
       "\n",
       "\n"
      ],
      "text/plain": [
       "  Species    n \n",
       "1 setosa     13\n",
       "2 versicolor 17\n",
       "3 virginica  15"
      ]
     },
     "metadata": {},
     "output_type": "display_data"
    }
   ],
   "source": [
    "set.seed(13579)\n",
    "\n",
    "train_index = sample(index, trunc(length(1:nrow(iris)) * 0.7))\n",
    "\n",
    "irisTrain = iris[train_index, ] %>% tbl_df\n",
    "irisTest = iris[-train_index, ] %>% tbl_df\n",
    "\n",
    "irisTrain %>% group_by(Species) %>% count()\n",
    "irisTest %>% group_by(Species) %>% count()"
   ]
  },
  {
   "cell_type": "code",
   "execution_count": 136,
   "metadata": {},
   "outputs": [
    {
     "ename": "ERROR",
     "evalue": "Error in parse(text = x, srcfile = src): <text>:15:19: unexpected '$'\n14: \n15: tmp1$mod[[1]] %>% $\n                      ^\n",
     "output_type": "error",
     "traceback": [
      "Error in parse(text = x, srcfile = src): <text>:15:19: unexpected '$'\n14: \n15: tmp1$mod[[1]] %>% $\n                      ^\nTraceback:\n"
     ]
    }
   ],
   "source": [
    "irisTrain %>%\n",
    "group_by(Species) %>%\n",
    "nest() %>%\n",
    "mutate(mod = map(data, function (df) { lm(Sepal.Length ~ Sepal.Width, df) } ) ) -> tmp1\n",
    "\n",
    "irisTrain %>%\n",
    "group_by(Species) %>%\n",
    "nest() %>%\n",
    "mutate(mod = map(data, ~lm(Sepal.Length ~ Sepal.Width, .) ) ) -> models\n",
    "\n",
    "irisTrain %>%\n",
    "group_by(Species) %>%\n",
    "do(mod = lm(Sepal.Length ~ Sepal.Width, data = .)) -> tmp2\n",
    "\n",
    "tmp1$mod[[1]] %>% $coefficients\n",
    "tmp2$mod[[1]]\n",
    "models$mod[[1]]"
   ]
  },
  {
   "cell_type": "code",
   "execution_count": 130,
   "metadata": {},
   "outputs": [
    {
     "name": "stdout",
     "output_type": "stream",
     "text": [
      "# A tibble: 3 x 4\n",
      "     Species              data      mod Sepal.Length.Pred\n",
      "      <fctr>            <list>   <list>            <list>\n",
      "1     setosa <tibble [37 x 4]> <S3: lm>        <dbl [37]>\n",
      "2  virginica <tibble [35 x 4]> <S3: lm>        <dbl [35]>\n",
      "3 versicolor <tibble [33 x 4]> <S3: lm>        <dbl [33]>\n"
     ]
    },
    {
     "data": {
      "text/html": [
       "<table>\n",
       "<thead><tr><th scope=col>Species</th><th scope=col>Sepal.Length.Pred</th><th scope=col>Sepal.Length</th><th scope=col>Sepal.Width</th><th scope=col>Petal.Length</th><th scope=col>Petal.Width</th></tr></thead>\n",
       "<tbody>\n",
       "\t<tr><td>setosa  </td><td>5.299087</td><td>5.4     </td><td>3.9     </td><td>1.3     </td><td>0.4     </td></tr>\n",
       "\t<tr><td>setosa  </td><td>5.635171</td><td>5.7     </td><td>4.4     </td><td>1.5     </td><td>0.4     </td></tr>\n",
       "\t<tr><td>setosa  </td><td>5.231871</td><td>5.1     </td><td>3.8     </td><td>1.6     </td><td>0.2     </td></tr>\n",
       "\t<tr><td>setosa  </td><td>4.761353</td><td>4.9     </td><td>3.1     </td><td>1.5     </td><td>0.1     </td></tr>\n",
       "\t<tr><td>setosa  </td><td>4.963004</td><td>5.4     </td><td>3.4     </td><td>1.7     </td><td>0.2     </td></tr>\n",
       "\t<tr><td>setosa  </td><td>4.963004</td><td>4.8     </td><td>3.4     </td><td>1.9     </td><td>0.2     </td></tr>\n",
       "</tbody>\n",
       "</table>\n"
      ],
      "text/latex": [
       "\\begin{tabular}{r|llllll}\n",
       " Species & Sepal.Length.Pred & Sepal.Length & Sepal.Width & Petal.Length & Petal.Width\\\\\n",
       "\\hline\n",
       "\t setosa   & 5.299087 & 5.4      & 3.9      & 1.3      & 0.4     \\\\\n",
       "\t setosa   & 5.635171 & 5.7      & 4.4      & 1.5      & 0.4     \\\\\n",
       "\t setosa   & 5.231871 & 5.1      & 3.8      & 1.6      & 0.2     \\\\\n",
       "\t setosa   & 4.761353 & 4.9      & 3.1      & 1.5      & 0.1     \\\\\n",
       "\t setosa   & 4.963004 & 5.4      & 3.4      & 1.7      & 0.2     \\\\\n",
       "\t setosa   & 4.963004 & 4.8      & 3.4      & 1.9      & 0.2     \\\\\n",
       "\\end{tabular}\n"
      ],
      "text/markdown": [
       "\n",
       "Species | Sepal.Length.Pred | Sepal.Length | Sepal.Width | Petal.Length | Petal.Width | \n",
       "|---|---|---|---|---|---|\n",
       "| setosa   | 5.299087 | 5.4      | 3.9      | 1.3      | 0.4      | \n",
       "| setosa   | 5.635171 | 5.7      | 4.4      | 1.5      | 0.4      | \n",
       "| setosa   | 5.231871 | 5.1      | 3.8      | 1.6      | 0.2      | \n",
       "| setosa   | 4.761353 | 4.9      | 3.1      | 1.5      | 0.1      | \n",
       "| setosa   | 4.963004 | 5.4      | 3.4      | 1.7      | 0.2      | \n",
       "| setosa   | 4.963004 | 4.8      | 3.4      | 1.9      | 0.2      | \n",
       "\n",
       "\n"
      ],
      "text/plain": [
       "  Species Sepal.Length.Pred Sepal.Length Sepal.Width Petal.Length Petal.Width\n",
       "1 setosa  5.299087          5.4          3.9         1.3          0.4        \n",
       "2 setosa  5.635171          5.7          4.4         1.5          0.4        \n",
       "3 setosa  5.231871          5.1          3.8         1.6          0.2        \n",
       "4 setosa  4.761353          4.9          3.1         1.5          0.1        \n",
       "5 setosa  4.963004          5.4          3.4         1.7          0.2        \n",
       "6 setosa  4.963004          4.8          3.4         1.9          0.2        "
      ]
     },
     "metadata": {},
     "output_type": "display_data"
    },
    {
     "data": {},
     "metadata": {},
     "output_type": "display_data"
    },
    {
     "data": {
      "image/png": "[encoded data removed]",
      "text/plain": [
       "plot without title"
      ]
     },
     "metadata": {},
     "output_type": "display_data"
    }
   ],
   "source": [
    "models %>% mutate(Sepal.Length.Pred = map(mod, predict)) -> y\n",
    "y %>% print\n",
    "\n",
    "z = y %>% select(-mod) %>% unnest()\n",
    "z %>% head\n",
    "\n",
    "options(repr.plot.width = 10, repr.plot.height = 3)\n",
    "\n",
    "ggplot() +\n",
    "geom_count(data=z, aes(x=Sepal.Width, y=Sepal.Length, colour = Species), alpha=0.7) +\n",
    "geom_point(data=z, aes(x=Sepal.Width, y=Sepal.Length.Pred), alpha=0.7, color=\"black\", shape='x') +\n",
    "facet_wrap(~Species) +\n",
    "theme_bw()"
   ]
  },
  {
   "cell_type": "code",
   "execution_count": 133,
   "metadata": {
    "scrolled": false
   },
   "outputs": [
    {
     "name": "stdout",
     "output_type": "stream",
     "text": [
      "# A tibble: 3 x 4\n",
      "     Species            data.x            data.y      mod\n",
      "      <fctr>            <list>            <list>   <list>\n",
      "1     setosa <tibble [13 x 4]> <tibble [37 x 4]> <S3: lm>\n",
      "2 versicolor <tibble [17 x 4]> <tibble [33 x 4]> <S3: lm>\n",
      "3  virginica <tibble [15 x 4]> <tibble [35 x 4]> <S3: lm>\n"
     ]
    },
    {
     "ename": "ERROR",
     "evalue": "Error in mutate_impl(.data, dots): Evaluation error: `.y` is not a vector (closure).\n",
     "output_type": "error",
     "traceback": [
      "Error in mutate_impl(.data, dots): Evaluation error: `.y` is not a vector (closure).\nTraceback:\n",
      "1. x %>% mutate(Sepal.Length.Pred = map2(mod, data, predict))",
      "2. withVisible(eval(quote(`_fseq`(`_lhs`)), env, env))",
      "3. eval(quote(`_fseq`(`_lhs`)), env, env)",
      "4. eval(quote(`_fseq`(`_lhs`)), env, env)",
      "5. `_fseq`(`_lhs`)",
      "6. freduce(value, `_function_list`)",
      "7. withVisible(function_list[[k]](value))",
      "8. function_list[[k]](value)",
      "9. mutate(., Sepal.Length.Pred = map2(mod, data, predict))",
      "10. mutate.tbl_df(., Sepal.Length.Pred = map2(mod, data, predict))",
      "11. mutate_impl(.data, dots)"
     ]
    }
   ],
   "source": [
    "irisTest %>% \n",
    "nest(-Species) %>%\n",
    "inner_join(models, by=\"Species\")-> x\n",
    "\n",
    "x %>% print\n",
    "\n",
    "x %>% mutate(Sepal.Length.Pred = map2(mod, data, predict)) -> y\n",
    "y %>% print"
   ]
  },
  {
   "cell_type": "code",
   "execution_count": 107,
   "metadata": {},
   "outputs": [
    {
     "data": {
      "text/html": [
       "<table>\n",
       "<thead><tr><th scope=col>Species</th><th scope=col>Sepal.Length.Pred</th><th scope=col>Sepal.Length</th><th scope=col>Sepal.Width</th><th scope=col>Petal.Length</th><th scope=col>Petal.Width</th></tr></thead>\n",
       "<tbody>\n",
       "\t<tr><td>setosa  </td><td>5.030220</td><td>5.1     </td><td>3.5     </td><td>1.4     </td><td>0.2     </td></tr>\n",
       "\t<tr><td>setosa  </td><td>4.963004</td><td>5.0     </td><td>3.4     </td><td>1.5     </td><td>0.2     </td></tr>\n",
       "\t<tr><td>setosa  </td><td>5.164654</td><td>5.4     </td><td>3.7     </td><td>1.5     </td><td>0.2     </td></tr>\n",
       "\t<tr><td>setosa  </td><td>4.694137</td><td>4.8     </td><td>3.0     </td><td>1.4     </td><td>0.1     </td></tr>\n",
       "\t<tr><td>setosa  </td><td>5.366304</td><td>5.8     </td><td>4.0     </td><td>1.2     </td><td>0.2     </td></tr>\n",
       "\t<tr><td>setosa  </td><td>5.030220</td><td>5.1     </td><td>3.5     </td><td>1.4     </td><td>0.3     </td></tr>\n",
       "</tbody>\n",
       "</table>\n"
      ],
      "text/latex": [
       "\\begin{tabular}{r|llllll}\n",
       " Species & Sepal.Length.Pred & Sepal.Length & Sepal.Width & Petal.Length & Petal.Width\\\\\n",
       "\\hline\n",
       "\t setosa   & 5.030220 & 5.1      & 3.5      & 1.4      & 0.2     \\\\\n",
       "\t setosa   & 4.963004 & 5.0      & 3.4      & 1.5      & 0.2     \\\\\n",
       "\t setosa   & 5.164654 & 5.4      & 3.7      & 1.5      & 0.2     \\\\\n",
       "\t setosa   & 4.694137 & 4.8      & 3.0      & 1.4      & 0.1     \\\\\n",
       "\t setosa   & 5.366304 & 5.8      & 4.0      & 1.2      & 0.2     \\\\\n",
       "\t setosa   & 5.030220 & 5.1      & 3.5      & 1.4      & 0.3     \\\\\n",
       "\\end{tabular}\n"
      ],
      "text/markdown": [
       "\n",
       "Species | Sepal.Length.Pred | Sepal.Length | Sepal.Width | Petal.Length | Petal.Width | \n",
       "|---|---|---|---|---|---|\n",
       "| setosa   | 5.030220 | 5.1      | 3.5      | 1.4      | 0.2      | \n",
       "| setosa   | 4.963004 | 5.0      | 3.4      | 1.5      | 0.2      | \n",
       "| setosa   | 5.164654 | 5.4      | 3.7      | 1.5      | 0.2      | \n",
       "| setosa   | 4.694137 | 4.8      | 3.0      | 1.4      | 0.1      | \n",
       "| setosa   | 5.366304 | 5.8      | 4.0      | 1.2      | 0.2      | \n",
       "| setosa   | 5.030220 | 5.1      | 3.5      | 1.4      | 0.3      | \n",
       "\n",
       "\n"
      ],
      "text/plain": [
       "  Species Sepal.Length.Pred Sepal.Length Sepal.Width Petal.Length Petal.Width\n",
       "1 setosa  5.030220          5.1          3.5         1.4          0.2        \n",
       "2 setosa  4.963004          5.0          3.4         1.5          0.2        \n",
       "3 setosa  5.164654          5.4          3.7         1.5          0.2        \n",
       "4 setosa  4.694137          4.8          3.0         1.4          0.1        \n",
       "5 setosa  5.366304          5.8          4.0         1.2          0.2        \n",
       "6 setosa  5.030220          5.1          3.5         1.4          0.3        "
      ]
     },
     "metadata": {},
     "output_type": "display_data"
    },
    {
     "data": {},
     "metadata": {},
     "output_type": "display_data"
    },
    {
     "data": {
      "image/png": "[encoded data removed]",
      "text/plain": [
       "plot without title"
      ]
     },
     "metadata": {},
     "output_type": "display_data"
    }
   ],
   "source": [
    "z = y %>% select(-mod) %>% unnest()\n",
    "z %>% head\n",
    "\n",
    "options(repr.plot.width = 10, repr.plot.height = 3)\n",
    "\n",
    "ggplot() +\n",
    "geom_count(data=z, aes(x=Sepal.Width, y=Sepal.Length, colour = Species), alpha=0.7) +\n",
    "geom_point(data=z, aes(x=Sepal.Width, y=Sepal.Length.Pred), alpha=0.7, color=\"black\", shape='x') +\n",
    "facet_wrap(~Species) +\n",
    "theme_bw()"
   ]
  },
  {
   "cell_type": "code",
   "execution_count": null,
   "metadata": {
    "collapsed": true
   },
   "outputs": [],
   "source": []
  },
  {
   "cell_type": "code",
   "execution_count": null,
   "metadata": {
    "collapsed": true
   },
   "outputs": [],
   "source": []
  },
  {
   "cell_type": "code",
   "execution_count": null,
   "metadata": {
    "collapsed": true
   },
   "outputs": [],
   "source": []
  },
  {
   "cell_type": "code",
   "execution_count": null,
   "metadata": {
    "collapsed": true
   },
   "outputs": [],
   "source": []
  },
  {
   "cell_type": "code",
   "execution_count": null,
   "metadata": {
    "collapsed": true
   },
   "outputs": [],
   "source": []
  },
  {
   "cell_type": "code",
   "execution_count": null,
   "metadata": {
    "collapsed": true
   },
   "outputs": [],
   "source": []
  },
  {
   "cell_type": "code",
   "execution_count": null,
   "metadata": {
    "collapsed": true
   },
   "outputs": [],
   "source": []
  },
  {
   "cell_type": "code",
   "execution_count": null,
   "metadata": {
    "collapsed": true
   },
   "outputs": [],
   "source": []
  },
  {
   "cell_type": "code",
   "execution_count": null,
   "metadata": {
    "collapsed": true
   },
   "outputs": [],
   "source": []
  },
  {
   "cell_type": "code",
   "execution_count": null,
   "metadata": {
    "collapsed": true
   },
   "outputs": [],
   "source": []
  },
  {
   "cell_type": "code",
   "execution_count": null,
   "metadata": {
    "collapsed": true
   },
   "outputs": [],
   "source": []
  },
  {
   "cell_type": "code",
   "execution_count": null,
   "metadata": {
    "collapsed": true
   },
   "outputs": [],
   "source": []
  },
  {
   "cell_type": "code",
   "execution_count": null,
   "metadata": {
    "collapsed": true
   },
   "outputs": [],
   "source": []
  },
  {
   "cell_type": "code",
   "execution_count": null,
   "metadata": {
    "collapsed": true
   },
   "outputs": [],
   "source": []
  },
  {
   "cell_type": "code",
   "execution_count": null,
   "metadata": {
    "collapsed": true
   },
   "outputs": [],
   "source": []
  },
  {
   "cell_type": "code",
   "execution_count": null,
   "metadata": {
    "collapsed": true
   },
   "outputs": [],
   "source": []
  },
  {
   "cell_type": "code",
   "execution_count": null,
   "metadata": {
    "collapsed": true
   },
   "outputs": [],
   "source": []
  },
  {
   "cell_type": "code",
   "execution_count": null,
   "metadata": {
    "collapsed": true
   },
   "outputs": [],
   "source": []
  },
  {
   "cell_type": "code",
   "execution_count": null,
   "metadata": {
    "collapsed": true
   },
   "outputs": [],
   "source": []
  },
  {
   "cell_type": "code",
   "execution_count": null,
   "metadata": {
    "collapsed": true
   },
   "outputs": [],
   "source": []
  },
  {
   "cell_type": "code",
   "execution_count": null,
   "metadata": {
    "collapsed": true
   },
   "outputs": [],
   "source": []
  },
  {
   "cell_type": "code",
   "execution_count": null,
   "metadata": {
    "collapsed": true
   },
   "outputs": [],
   "source": []
  },
  {
   "cell_type": "code",
   "execution_count": null,
   "metadata": {
    "collapsed": true
   },
   "outputs": [],
   "source": []
  },
  {
   "cell_type": "code",
   "execution_count": null,
   "metadata": {
    "collapsed": true
   },
   "outputs": [],
   "source": []
  },
  {
   "cell_type": "code",
   "execution_count": null,
   "metadata": {
    "collapsed": true
   },
   "outputs": [],
   "source": []
  },
  {
   "cell_type": "code",
   "execution_count": null,
   "metadata": {
    "collapsed": true
   },
   "outputs": [],
   "source": []
  },
  {
   "cell_type": "code",
   "execution_count": null,
   "metadata": {
    "collapsed": true
   },
   "outputs": [],
   "source": []
  },
  {
   "cell_type": "code",
   "execution_count": null,
   "metadata": {
    "collapsed": true
   },
   "outputs": [],
   "source": []
  },
  {
   "cell_type": "code",
   "execution_count": null,
   "metadata": {
    "collapsed": true
   },
   "outputs": [],
   "source": []
  },
  {
   "cell_type": "code",
   "execution_count": null,
   "metadata": {
    "collapsed": true
   },
   "outputs": [],
   "source": []
  }
 ],
 "metadata": {
  "kernelspec": {
   "display_name": "R",
   "language": "R",
   "name": "ir"
  },
  "language_info": {
   "codemirror_mode": "r",
   "file_extension": ".r",
   "mimetype": "text/x-r-source",
   "name": "R",
   "pygments_lexer": "r",
   "version": "3.4.0"
  }
 },
 "nbformat": 4,
 "nbformat_minor": 2
}
