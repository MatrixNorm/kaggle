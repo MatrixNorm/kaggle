{
 "cells": [
  {
   "cell_type": "code",
   "execution_count": 35,
   "metadata": {
    "collapsed": true
   },
   "outputs": [],
   "source": [
    "source('helpers.R')\n",
    "df.combined = load_header()"
   ]
  },
  {
   "cell_type": "code",
   "execution_count": 33,
   "metadata": {
    "collapsed": false
   },
   "outputs": [
    {
     "data": {
      "text/html": [
       "<table>\n",
       "<thead><tr><th></th><th scope=col>LotFrontage</th><th scope=col>Factor</th><th scope=col>FactorIsNotZero</th><th scope=col>FactorSqrt</th><th scope=col>FactorLog</th><th scope=col>predicted</th><th scope=col>resudials</th><th scope=col>predictedSqrt</th><th scope=col>resudialsSqrt</th><th scope=col>predictedLog</th><th scope=col>resudialsLog</th></tr></thead>\n",
       "<tbody>\n",
       "\t<tr><th scope=row>1</th><td>60</td><td>272</td><td>TRUE</td><td>16.49242</td><td>2.434569</td><td>74.70714</td><td>-14.70714</td><td>74.29444</td><td>-14.29444</td><td>72.46708</td><td>-12.46708</td></tr>\n",
       "\t<tr><th scope=row>2</th><td>51</td><td>205</td><td>TRUE</td><td>14.31782</td><td>2.311754</td><td>70.43495</td><td>-19.43495</td><td>70.91648</td><td>-19.91648</td><td>70.41446</td><td>-19.41446</td></tr>\n",
       "\t<tr><th scope=row>3</th><td>57</td><td>205</td><td>TRUE</td><td>14.31782</td><td>2.311754</td><td>70.43495</td><td>-13.43495</td><td>70.91648</td><td>-13.91648</td><td>70.41446</td><td>-13.41446</td></tr>\n",
       "</tbody>\n",
       "</table>\n"
      ],
      "text/latex": [
       "\\begin{tabular}{r|lllllllllll}\n",
       "  & LotFrontage & Factor & FactorIsNotZero & FactorSqrt & FactorLog & predicted & resudials & predictedSqrt & resudialsSqrt & predictedLog & resudialsLog\\\\\n",
       "\\hline\n",
       "\t1 & 60 & 272 & TRUE & 16.49242 & 2.434569 & 74.70714 & -14.70714 & 74.29444 & -14.29444 & 72.46708 & -12.46708\\\\\n",
       "\t2 & 51 & 205 & TRUE & 14.31782 & 2.311754 & 70.43495 & -19.43495 & 70.91648 & -19.91648 & 70.41446 & -19.41446\\\\\n",
       "\t3 & 57 & 205 & TRUE & 14.31782 & 2.311754 & 70.43495 & -13.43495 & 70.91648 & -13.91648 & 70.41446 & -13.41446\\\\\n",
       "\\end{tabular}\n"
      ],
      "text/plain": [
       "  LotFrontage Factor FactorIsNotZero FactorSqrt FactorLog predicted resudials\n",
       "1          60    272            TRUE   16.49242  2.434569  74.70714 -14.70714\n",
       "2          51    205            TRUE   14.31782  2.311754  70.43495 -19.43495\n",
       "3          57    205            TRUE   14.31782  2.311754  70.43495 -13.43495\n",
       "  predictedSqrt resudialsSqrt predictedLog resudialsLog\n",
       "1      74.29444     -14.29444     72.46708    -12.46708\n",
       "2      70.91648     -19.91648     70.41446    -19.41446\n",
       "3      70.91648     -13.91648     70.41446    -13.41446"
      ]
     },
     "execution_count": 33,
     "metadata": {},
     "output_type": "execute_result"
    }
   ],
   "source": [
    "slim_df = get_slim_df(df.combined, 'EnclosedPorch')\n",
    "peek_tibble(slim_df)"
   ]
  },
  {
   "cell_type": "code",
   "execution_count": 36,
   "metadata": {
    "collapsed": false
   },
   "outputs": [
    {
     "data": {
      "text/html": [
       "<table>\n",
       "<thead><tr><th></th><th scope=col>LotFrontage</th><th scope=col>Factor</th><th scope=col>FactorSqrt</th><th scope=col>FactorLog</th><th scope=col>predicted</th><th scope=col>resudials</th><th scope=col>predictedSqrt</th><th scope=col>resudialsSqrt</th><th scope=col>predictedLog</th><th scope=col>resudialsLog</th></tr></thead>\n",
       "<tbody>\n",
       "\t<tr><th scope=row>1</th><td>60</td><td>272</td><td>16.49242</td><td>2.434569</td><td>74.70714</td><td>-14.70714</td><td>74.29444</td><td>-14.29444</td><td>72.46708</td><td>-12.46708</td></tr>\n",
       "\t<tr><th scope=row>2</th><td>51</td><td>205</td><td>14.31782</td><td>2.311754</td><td>70.43495</td><td>-19.43495</td><td>70.91648</td><td>-19.91648</td><td>70.41446</td><td>-19.41446</td></tr>\n",
       "\t<tr><th scope=row>3</th><td>57</td><td>205</td><td>14.31782</td><td>2.311754</td><td>70.43495</td><td>-13.43495</td><td>70.91648</td><td>-13.91648</td><td>70.41446</td><td>-13.41446</td></tr>\n",
       "</tbody>\n",
       "</table>\n"
      ],
      "text/latex": [
       "\\begin{tabular}{r|llllllllll}\n",
       "  & LotFrontage & Factor & FactorSqrt & FactorLog & predicted & resudials & predictedSqrt & resudialsSqrt & predictedLog & resudialsLog\\\\\n",
       "\\hline\n",
       "\t1 & 60 & 272 & 16.49242 & 2.434569 & 74.70714 & -14.70714 & 74.29444 & -14.29444 & 72.46708 & -12.46708\\\\\n",
       "\t2 & 51 & 205 & 14.31782 & 2.311754 & 70.43495 & -19.43495 & 70.91648 & -19.91648 & 70.41446 & -19.41446\\\\\n",
       "\t3 & 57 & 205 & 14.31782 & 2.311754 & 70.43495 & -13.43495 & 70.91648 & -13.91648 & 70.41446 & -13.41446\\\\\n",
       "\\end{tabular}\n"
      ],
      "text/plain": [
       "  LotFrontage Factor FactorSqrt FactorLog predicted resudials predictedSqrt\n",
       "1          60    272   16.49242  2.434569  74.70714 -14.70714      74.29444\n",
       "2          51    205   14.31782  2.311754  70.43495 -19.43495      70.91648\n",
       "3          57    205   14.31782  2.311754  70.43495 -13.43495      70.91648\n",
       "  resudialsSqrt predictedLog resudialsLog\n",
       "1     -14.29444     72.46708    -12.46708\n",
       "2     -19.91648     70.41446    -19.41446\n",
       "3     -13.91648     70.41446    -13.41446"
      ]
     },
     "execution_count": 36,
     "metadata": {},
     "output_type": "execute_result"
    }
   ],
   "source": [
    "nonzero_df = get_nonzero_factor_df(slim_df)\n",
    "peek_tibble(nonzero_df)"
   ]
  },
  {
   "cell_type": "code",
   "execution_count": null,
   "metadata": {
    "collapsed": false
   },
   "outputs": [],
   "source": []
  },
  {
   "cell_type": "code",
   "execution_count": null,
   "metadata": {
    "collapsed": true
   },
   "outputs": [],
   "source": []
  },
  {
   "cell_type": "code",
   "execution_count": null,
   "metadata": {
    "collapsed": true
   },
   "outputs": [],
   "source": []
  },
  {
   "cell_type": "code",
   "execution_count": null,
   "metadata": {
    "collapsed": true
   },
   "outputs": [],
   "source": []
  },
  {
   "cell_type": "code",
   "execution_count": null,
   "metadata": {
    "collapsed": true
   },
   "outputs": [],
   "source": []
  },
  {
   "cell_type": "code",
   "execution_count": null,
   "metadata": {
    "collapsed": true
   },
   "outputs": [],
   "source": []
  },
  {
   "cell_type": "code",
   "execution_count": null,
   "metadata": {
    "collapsed": true
   },
   "outputs": [],
   "source": []
  },
  {
   "cell_type": "code",
   "execution_count": null,
   "metadata": {
    "collapsed": true
   },
   "outputs": [],
   "source": []
  },
  {
   "cell_type": "code",
   "execution_count": null,
   "metadata": {
    "collapsed": true
   },
   "outputs": [],
   "source": []
  },
  {
   "cell_type": "code",
   "execution_count": null,
   "metadata": {
    "collapsed": true
   },
   "outputs": [],
   "source": []
  },
  {
   "cell_type": "code",
   "execution_count": null,
   "metadata": {
    "collapsed": true
   },
   "outputs": [],
   "source": []
  },
  {
   "cell_type": "code",
   "execution_count": null,
   "metadata": {
    "collapsed": true
   },
   "outputs": [],
   "source": []
  },
  {
   "cell_type": "code",
   "execution_count": null,
   "metadata": {
    "collapsed": true
   },
   "outputs": [],
   "source": []
  },
  {
   "cell_type": "code",
   "execution_count": null,
   "metadata": {
    "collapsed": true
   },
   "outputs": [],
   "source": []
  },
  {
   "cell_type": "code",
   "execution_count": null,
   "metadata": {
    "collapsed": true
   },
   "outputs": [],
   "source": []
  },
  {
   "cell_type": "code",
   "execution_count": null,
   "metadata": {
    "collapsed": true
   },
   "outputs": [],
   "source": []
  },
  {
   "cell_type": "code",
   "execution_count": null,
   "metadata": {
    "collapsed": true
   },
   "outputs": [],
   "source": []
  }
 ],
 "metadata": {
  "kernelspec": {
   "display_name": "R",
   "language": "R",
   "name": "ir"
  },
  "language_info": {
   "codemirror_mode": "r",
   "file_extension": ".r",
   "mimetype": "text/x-r-source",
   "name": "R",
   "pygments_lexer": "r",
   "version": "3.2.2"
  }
 },
 "nbformat": 4,
 "nbformat_minor": 0
}
