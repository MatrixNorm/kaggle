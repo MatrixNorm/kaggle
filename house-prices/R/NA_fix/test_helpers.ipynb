{
 "cells": [
  {
   "cell_type": "code",
   "execution_count": 104,
   "metadata": {
    "collapsed": true
   },
   "outputs": [],
   "source": [
    "source('helpers.R')\n",
    "df.combined = load_header()"
   ]
  },
  {
   "cell_type": "code",
   "execution_count": 64,
   "metadata": {
    "collapsed": false
   },
   "outputs": [
    {
     "data": {
      "text/html": [
       "<table>\n",
       "<thead><tr><th></th><th scope=col>LotFrontage</th><th scope=col>Factor</th><th scope=col>FactorIsNotZero</th></tr></thead>\n",
       "<tbody>\n",
       "\t<tr><th scope=row>1</th><td>65</td><td>0</td><td>FALSE</td></tr>\n",
       "\t<tr><th scope=row>2</th><td>80</td><td>0</td><td>FALSE</td></tr>\n",
       "\t<tr><th scope=row>3</th><td>68</td><td>0</td><td>FALSE</td></tr>\n",
       "</tbody>\n",
       "</table>\n"
      ],
      "text/latex": [
       "\\begin{tabular}{r|lll}\n",
       "  & LotFrontage & Factor & FactorIsNotZero\\\\\n",
       "\\hline\n",
       "\t1 & 65 & 0 & FALSE\\\\\n",
       "\t2 & 80 & 0 & FALSE\\\\\n",
       "\t3 & 68 & 0 & FALSE\\\\\n",
       "\\end{tabular}\n"
      ],
      "text/plain": [
       "  LotFrontage Factor FactorIsNotZero\n",
       "1          65      0           FALSE\n",
       "2          80      0           FALSE\n",
       "3          68      0           FALSE"
      ]
     },
     "execution_count": 64,
     "metadata": {},
     "output_type": "execute_result"
    }
   ],
   "source": [
    "slim_df = get_slim_df(df.combined, 'EnclosedPorch')\n",
    "peek_tibble(slim_df)"
   ]
  },
  {
   "cell_type": "code",
   "execution_count": 107,
   "metadata": {
    "collapsed": false
   },
   "outputs": [
    {
     "data": {
      "text/html": [
       "<ol class=list-inline>\n",
       "\t<li>399</li>\n",
       "\t<li>10</li>\n",
       "</ol>\n"
      ],
      "text/latex": [
       "\\begin{enumerate*}\n",
       "\\item 399\n",
       "\\item 10\n",
       "\\end{enumerate*}\n"
      ],
      "text/markdown": [
       "1. 399\n",
       "2. 10\n",
       "\n",
       "\n"
      ],
      "text/plain": [
       "[1] 399  10"
      ]
     },
     "execution_count": 107,
     "metadata": {},
     "output_type": "execute_result"
    },
    {
     "data": {
      "text/html": [
       "<table>\n",
       "<thead><tr><th></th><th scope=col>LotFrontage</th><th scope=col>Factor</th><th scope=col>FactorSqrt</th><th scope=col>FactorLog</th><th scope=col>predicted</th><th scope=col>resudials</th><th scope=col>predictedSqrt</th><th scope=col>resudialsSqrt</th><th scope=col>predictedLog</th><th scope=col>resudialsLog</th></tr></thead>\n",
       "<tbody>\n",
       "\t<tr><th scope=row>1</th><td>60</td><td>272</td><td>16.49242</td><td>2.434569</td><td>74.70714</td><td>-14.70714</td><td>74.29444</td><td>-14.29444</td><td>72.46708</td><td>-12.46708</td></tr>\n",
       "\t<tr><th scope=row>2</th><td>51</td><td>205</td><td>14.31782</td><td>2.311754</td><td>70.43495</td><td>-19.43495</td><td>70.91648</td><td>-19.91648</td><td>70.41446</td><td>-19.41446</td></tr>\n",
       "\t<tr><th scope=row>3</th><td>57</td><td>205</td><td>14.31782</td><td>2.311754</td><td>70.43495</td><td>-13.43495</td><td>70.91648</td><td>-13.91648</td><td>70.41446</td><td>-13.41446</td></tr>\n",
       "</tbody>\n",
       "</table>\n"
      ],
      "text/latex": [
       "\\begin{tabular}{r|llllllllll}\n",
       "  & LotFrontage & Factor & FactorSqrt & FactorLog & predicted & resudials & predictedSqrt & resudialsSqrt & predictedLog & resudialsLog\\\\\n",
       "\\hline\n",
       "\t1 & 60 & 272 & 16.49242 & 2.434569 & 74.70714 & -14.70714 & 74.29444 & -14.29444 & 72.46708 & -12.46708\\\\\n",
       "\t2 & 51 & 205 & 14.31782 & 2.311754 & 70.43495 & -19.43495 & 70.91648 & -19.91648 & 70.41446 & -19.41446\\\\\n",
       "\t3 & 57 & 205 & 14.31782 & 2.311754 & 70.43495 & -13.43495 & 70.91648 & -13.91648 & 70.41446 & -13.41446\\\\\n",
       "\\end{tabular}\n"
      ],
      "text/plain": [
       "  LotFrontage Factor FactorSqrt FactorLog predicted resudials predictedSqrt\n",
       "1          60    272   16.49242  2.434569  74.70714 -14.70714      74.29444\n",
       "2          51    205   14.31782  2.311754  70.43495 -19.43495      70.91648\n",
       "3          57    205   14.31782  2.311754  70.43495 -13.43495      70.91648\n",
       "  resudialsSqrt predictedLog resudialsLog\n",
       "1     -14.29444     72.46708    -12.46708\n",
       "2     -19.91648     70.41446    -19.41446\n",
       "3     -13.91648     70.41446    -13.41446"
      ]
     },
     "execution_count": 107,
     "metadata": {},
     "output_type": "execute_result"
    }
   ],
   "source": [
    "nonzero_df = get_nonzero_factor_df(slim_df)\n",
    "dim(nonzero_df)\n",
    "peek_tibble(nonzero_df)"
   ]
  },
  {
   "cell_type": "code",
   "execution_count": 106,
   "metadata": {
    "collapsed": false
   },
   "outputs": [
    {
     "data": {
      "text/html": [
       "<ol class=list-inline>\n",
       "\t<li>1197</li>\n",
       "\t<li>5</li>\n",
       "</ol>\n"
      ],
      "text/latex": [
       "\\begin{enumerate*}\n",
       "\\item 1197\n",
       "\\item 5\n",
       "\\end{enumerate*}\n"
      ],
      "text/markdown": [
       "1. 1197\n",
       "2. 5\n",
       "\n",
       "\n"
      ],
      "text/plain": [
       "[1] 1197    5"
      ]
     },
     "execution_count": 106,
     "metadata": {},
     "output_type": "execute_result"
    },
    {
     "data": {
      "text/html": [
       "<table>\n",
       "<thead><tr><th></th><th scope=col>LotFrontage</th><th scope=col>transform</th><th scope=col>value</th><th scope=col>resudial</th><th scope=col>predicted</th></tr></thead>\n",
       "<tbody>\n",
       "\t<tr><th scope=row>1</th><td>60</td><td>Factor</td><td>272</td><td>-14.70714</td><td>74.70714</td></tr>\n",
       "\t<tr><th scope=row>2</th><td>51</td><td>Factor</td><td>205</td><td>-19.43495</td><td>70.43495</td></tr>\n",
       "\t<tr><th scope=row>3</th><td>57</td><td>Factor</td><td>205</td><td>-13.43495</td><td>70.43495</td></tr>\n",
       "</tbody>\n",
       "</table>\n"
      ],
      "text/latex": [
       "\\begin{tabular}{r|lllll}\n",
       "  & LotFrontage & transform & value & resudial & predicted\\\\\n",
       "\\hline\n",
       "\t1 & 60 & Factor & 272 & -14.70714 & 74.70714\\\\\n",
       "\t2 & 51 & Factor & 205 & -19.43495 & 70.43495\\\\\n",
       "\t3 & 57 & Factor & 205 & -13.43495 & 70.43495\\\\\n",
       "\\end{tabular}\n"
      ],
      "text/plain": [
       "  LotFrontage transform value  resudial predicted\n",
       "1          60    Factor   272 -14.70714  74.70714\n",
       "2          51    Factor   205 -19.43495  70.43495\n",
       "3          57    Factor   205 -13.43495  70.43495"
      ]
     },
     "execution_count": 106,
     "metadata": {},
     "output_type": "execute_result"
    }
   ],
   "source": [
    "nonzero_df2 = get_nonzero_factor_df2(slim_df)\n",
    "dim(nonzero_df2)\n",
    "peek_tibble(nonzero_df2)"
   ]
  },
  {
   "cell_type": "code",
   "execution_count": null,
   "metadata": {
    "collapsed": false
   },
   "outputs": [],
   "source": []
  },
  {
   "cell_type": "code",
   "execution_count": null,
   "metadata": {
    "collapsed": false
   },
   "outputs": [],
   "source": []
  },
  {
   "cell_type": "code",
   "execution_count": null,
   "metadata": {
    "collapsed": true
   },
   "outputs": [],
   "source": []
  },
  {
   "cell_type": "code",
   "execution_count": null,
   "metadata": {
    "collapsed": true
   },
   "outputs": [],
   "source": []
  },
  {
   "cell_type": "code",
   "execution_count": null,
   "metadata": {
    "collapsed": true
   },
   "outputs": [],
   "source": []
  },
  {
   "cell_type": "code",
   "execution_count": null,
   "metadata": {
    "collapsed": true
   },
   "outputs": [],
   "source": []
  },
  {
   "cell_type": "code",
   "execution_count": null,
   "metadata": {
    "collapsed": true
   },
   "outputs": [],
   "source": []
  },
  {
   "cell_type": "code",
   "execution_count": null,
   "metadata": {
    "collapsed": true
   },
   "outputs": [],
   "source": []
  },
  {
   "cell_type": "code",
   "execution_count": null,
   "metadata": {
    "collapsed": true
   },
   "outputs": [],
   "source": []
  },
  {
   "cell_type": "code",
   "execution_count": null,
   "metadata": {
    "collapsed": true
   },
   "outputs": [],
   "source": []
  },
  {
   "cell_type": "code",
   "execution_count": null,
   "metadata": {
    "collapsed": true
   },
   "outputs": [],
   "source": []
  },
  {
   "cell_type": "code",
   "execution_count": null,
   "metadata": {
    "collapsed": true
   },
   "outputs": [],
   "source": []
  },
  {
   "cell_type": "code",
   "execution_count": null,
   "metadata": {
    "collapsed": true
   },
   "outputs": [],
   "source": []
  },
  {
   "cell_type": "code",
   "execution_count": null,
   "metadata": {
    "collapsed": true
   },
   "outputs": [],
   "source": []
  },
  {
   "cell_type": "code",
   "execution_count": null,
   "metadata": {
    "collapsed": true
   },
   "outputs": [],
   "source": []
  },
  {
   "cell_type": "code",
   "execution_count": null,
   "metadata": {
    "collapsed": true
   },
   "outputs": [],
   "source": []
  }
 ],
 "metadata": {
  "kernelspec": {
   "display_name": "R",
   "language": "R",
   "name": "ir"
  },
  "language_info": {
   "codemirror_mode": "r",
   "file_extension": ".r",
   "mimetype": "text/x-r-source",
   "name": "R",
   "pygments_lexer": "r",
   "version": "3.2.2"
  }
 },
 "nbformat": 4,
 "nbformat_minor": 0
}
