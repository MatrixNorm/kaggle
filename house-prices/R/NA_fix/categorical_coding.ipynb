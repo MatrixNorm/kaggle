{
 "cells": [
  {
   "cell_type": "code",
   "execution_count": 9,
   "metadata": {},
   "outputs": [
    {
     "data": {
      "text/html": [
       "'/mnt/hdd/develop/kaggle/house-prices/R'"
      ],
      "text/latex": [
       "'/mnt/hdd/develop/kaggle/house-prices/R'"
      ],
      "text/markdown": [
       "'/mnt/hdd/develop/kaggle/house-prices/R'"
      ],
      "text/plain": [
       "[1] \"/mnt/hdd/develop/kaggle/house-prices/R\""
      ]
     },
     "metadata": {},
     "output_type": "display_data"
    },
    {
     "data": {
      "text/html": [
       "'/mnt/hdd/develop/kaggle/house-prices/R'"
      ],
      "text/latex": [
       "'/mnt/hdd/develop/kaggle/house-prices/R'"
      ],
      "text/markdown": [
       "'/mnt/hdd/develop/kaggle/house-prices/R'"
      ],
      "text/plain": [
       "[1] \"/mnt/hdd/develop/kaggle/house-prices/R\""
      ]
     },
     "metadata": {},
     "output_type": "display_data"
    }
   ],
   "source": [
    "getwd()\n",
    "if ( is.null(environment()$this_notebook_dir) ) {\n",
    "    this_notebook_dir <- getwd()\n",
    "    setwd(paste0(getwd(), '/..'))\n",
    "}\n",
    "getwd()"
   ]
  },
  {
   "cell_type": "code",
   "execution_count": 10,
   "metadata": {},
   "outputs": [
    {
     "data": {
      "text/html": [
       "<ol class=list-inline>\n",
       "\t<li>2433</li>\n",
       "\t<li>81</li>\n",
       "</ol>\n"
      ],
      "text/latex": [
       "\\begin{enumerate*}\n",
       "\\item 2433\n",
       "\\item 81\n",
       "\\end{enumerate*}\n"
      ],
      "text/markdown": [
       "1. 2433\n",
       "2. 81\n",
       "\n",
       "\n"
      ],
      "text/plain": [
       "[1] 2433   81"
      ]
     },
     "metadata": {},
     "output_type": "display_data"
    }
   ],
   "source": [
    "source('helpers.R')\n",
    "\n",
    "kaggle.house.loadLibraries()\n",
    "data <- kaggle.house.loadData()\n",
    "\n",
    "data$combined %>% \n",
    "select(-dataSource) %>% \n",
    "filter(!is.na(LotFrontage)) %>% \n",
    "mutate(\n",
    "    LotFrontage.log = log(LotFrontage),\n",
    "    LotArea.log = log(LotArea)\n",
    ") -> df.LotFrontage\n",
    "\n",
    "df.LotFrontage %>% dim"
   ]
  },
  {
   "cell_type": "code",
   "execution_count": 42,
   "metadata": {},
   "outputs": [
    {
     "data": {
      "text/plain": [
       "\n",
       "Call:\n",
       "lm(formula = LotFrontage.log ~ LotArea.log, data = .)\n",
       "\n",
       "Residuals:\n",
       "     Min       1Q   Median       3Q      Max \n",
       "-1.33420 -0.12683  0.02732  0.13909  1.25960 \n",
       "\n",
       "Coefficients:\n",
       "             Estimate Std. Error t value Pr(>|t|)    \n",
       "(Intercept) -0.816932   0.085101    -9.6   <2e-16 ***\n",
       "LotArea.log  0.551207   0.009374    58.8   <2e-16 ***\n",
       "---\n",
       "Signif. codes:  0 ‘***’ 0.001 ‘**’ 0.01 ‘*’ 0.05 ‘.’ 0.1 ‘ ’ 1\n",
       "\n",
       "Residual standard error: 0.2299 on 2431 degrees of freedom\n",
       "Multiple R-squared:  0.5872,\tAdjusted R-squared:  0.587 \n",
       "F-statistic:  3458 on 1 and 2431 DF,  p-value: < 2.2e-16\n"
      ]
     },
     "metadata": {},
     "output_type": "display_data"
    },
    {
     "data": {
      "text/html": [
       "128.495325090466"
      ],
      "text/latex": [
       "128.495325090466"
      ],
      "text/markdown": [
       "128.495325090466"
      ],
      "text/plain": [
       "[1] 128.4953"
      ]
     },
     "metadata": {},
     "output_type": "display_data"
    }
   ],
   "source": [
    "df.LotFrontage %>% \n",
    "lm(LotFrontage.log ~ LotArea.log, data = .) -> model\n",
    "\n",
    "model %>% summary\n",
    "sum(model$residuals ^ 2)"
   ]
  },
  {
   "cell_type": "code",
   "execution_count": 32,
   "metadata": {},
   "outputs": [
    {
     "data": {
      "text/plain": [
       "\n",
       "Call:\n",
       "lm(formula = LotFrontage.log ~ LotArea.log + MSSubClass, data = .)\n",
       "\n",
       "Residuals:\n",
       "     Min       1Q   Median       3Q      Max \n",
       "-1.02965 -0.09845  0.00116  0.10641  1.14375 \n",
       "\n",
       "Coefficients:\n",
       "              Estimate Std. Error t value Pr(>|t|)    \n",
       "(Intercept)    0.87696    0.10829   8.098 8.75e-16 ***\n",
       "LotArea.log    0.33748    0.01253  26.935  < 2e-16 ***\n",
       "MSSubClass160 -0.24130    0.02740  -8.806  < 2e-16 ***\n",
       "MSSubClass180 -0.24097    0.05546  -4.345 1.45e-05 ***\n",
       "MSSubClass190  0.22774    0.03308   6.884 7.39e-12 ***\n",
       "MSSubClass20   0.32685    0.02032  16.082  < 2e-16 ***\n",
       "MSSubClass30   0.20083    0.02545   7.892 4.48e-15 ***\n",
       "MSSubClass40   0.04072    0.09436   0.431   0.6661    \n",
       "MSSubClass45   0.15438    0.05178   2.981   0.0029 ** \n",
       "MSSubClass50   0.19014    0.02214   8.589  < 2e-16 ***\n",
       "MSSubClass60   0.32849    0.02171  15.128  < 2e-16 ***\n",
       "MSSubClass70   0.19911    0.02635   7.556 5.86e-14 ***\n",
       "MSSubClass75   0.27565    0.04897   5.629 2.02e-08 ***\n",
       "MSSubClass80   0.34972    0.02940  11.893  < 2e-16 ***\n",
       "MSSubClass85   0.32481    0.04096   7.930 3.31e-15 ***\n",
       "MSSubClass90   0.29115    0.02831  10.286  < 2e-16 ***\n",
       "---\n",
       "Signif. codes:  0 ‘***’ 0.001 ‘**’ 0.01 ‘*’ 0.05 ‘.’ 0.1 ‘ ’ 1\n",
       "\n",
       "Residual standard error: 0.2071 on 2417 degrees of freedom\n",
       "Multiple R-squared:  0.6669,\tAdjusted R-squared:  0.6648 \n",
       "F-statistic: 322.6 on 15 and 2417 DF,  p-value: < 2.2e-16\n"
      ]
     },
     "metadata": {},
     "output_type": "display_data"
    },
    {
     "data": {
      "text/html": [
       "103.688229463177"
      ],
      "text/latex": [
       "103.688229463177"
      ],
      "text/markdown": [
       "103.688229463177"
      ],
      "text/plain": [
       "[1] 103.6882"
      ]
     },
     "metadata": {},
     "output_type": "display_data"
    }
   ],
   "source": [
    "df.LotFrontage %>% \n",
    "select(LotFrontage.log, LotArea.log, MSSubClass) %>%\n",
    "lm(LotFrontage.log ~ LotArea.log + MSSubClass, data = .) -> model\n",
    "\n",
    "model %>% summary\n",
    "sum(model$residuals ^ 2)"
   ]
  },
  {
   "cell_type": "code",
   "execution_count": 23,
   "metadata": {},
   "outputs": [
    {
     "data": {
      "text/html": [
       "<table>\n",
       "<thead><tr><th scope=col>MSSubClass</th><th scope=col>n</th><th scope=col>median</th><th scope=col>freq</th></tr></thead>\n",
       "<tbody>\n",
       "\t<tr><td>180       </td><td> 16       </td><td>3.044522  </td><td> 0.6576243</td></tr>\n",
       "\t<tr><td>160       </td><td>116       </td><td>3.178054  </td><td> 4.7677764</td></tr>\n",
       "\t<tr><td>120       </td><td>150       </td><td>3.761200  </td><td> 6.1652281</td></tr>\n",
       "\t<tr><td>40        </td><td>  5       </td><td>4.007333  </td><td> 0.2055076</td></tr>\n",
       "\t<tr><td>45        </td><td> 18       </td><td>4.007333  </td><td> 0.7398274</td></tr>\n",
       "\t<tr><td>190       </td><td> 57       </td><td>4.094345  </td><td> 2.3427867</td></tr>\n",
       "\t<tr><td>30        </td><td>126       </td><td>4.094345  </td><td> 5.1787916</td></tr>\n",
       "\t<tr><td>50        </td><td>262       </td><td>4.094345  </td><td>10.7685984</td></tr>\n",
       "\t<tr><td>70        </td><td>117       </td><td>4.094345  </td><td> 4.8088779</td></tr>\n",
       "\t<tr><td>75        </td><td> 21       </td><td>4.174387  </td><td> 0.8631319</td></tr>\n",
       "\t<tr><td>90        </td><td> 92       </td><td>4.248495  </td><td> 3.7813399</td></tr>\n",
       "\t<tr><td>85        </td><td> 32       </td><td>4.276666  </td><td> 1.3152487</td></tr>\n",
       "\t<tr><td>20        </td><td>894       </td><td>4.317488  </td><td>36.7447596</td></tr>\n",
       "\t<tr><td>60        </td><td>442       </td><td>4.317488  </td><td>18.1668722</td></tr>\n",
       "\t<tr><td>80        </td><td> 85       </td><td>4.356709  </td><td> 3.4936293</td></tr>\n",
       "</tbody>\n",
       "</table>\n"
      ],
      "text/latex": [
       "\\begin{tabular}{r|llll}\n",
       " MSSubClass & n & median & freq\\\\\n",
       "\\hline\n",
       "\t 180        &  16        & 3.044522   &  0.6576243\\\\\n",
       "\t 160        & 116        & 3.178054   &  4.7677764\\\\\n",
       "\t 120        & 150        & 3.761200   &  6.1652281\\\\\n",
       "\t 40         &   5        & 4.007333   &  0.2055076\\\\\n",
       "\t 45         &  18        & 4.007333   &  0.7398274\\\\\n",
       "\t 190        &  57        & 4.094345   &  2.3427867\\\\\n",
       "\t 30         & 126        & 4.094345   &  5.1787916\\\\\n",
       "\t 50         & 262        & 4.094345   & 10.7685984\\\\\n",
       "\t 70         & 117        & 4.094345   &  4.8088779\\\\\n",
       "\t 75         &  21        & 4.174387   &  0.8631319\\\\\n",
       "\t 90         &  92        & 4.248495   &  3.7813399\\\\\n",
       "\t 85         &  32        & 4.276666   &  1.3152487\\\\\n",
       "\t 20         & 894        & 4.317488   & 36.7447596\\\\\n",
       "\t 60         & 442        & 4.317488   & 18.1668722\\\\\n",
       "\t 80         &  85        & 4.356709   &  3.4936293\\\\\n",
       "\\end{tabular}\n"
      ],
      "text/markdown": [
       "\n",
       "MSSubClass | n | median | freq | \n",
       "|---|---|---|---|---|---|---|---|---|---|---|---|---|---|---|\n",
       "| 180        |  16        | 3.044522   |  0.6576243 | \n",
       "| 160        | 116        | 3.178054   |  4.7677764 | \n",
       "| 120        | 150        | 3.761200   |  6.1652281 | \n",
       "| 40         |   5        | 4.007333   |  0.2055076 | \n",
       "| 45         |  18        | 4.007333   |  0.7398274 | \n",
       "| 190        |  57        | 4.094345   |  2.3427867 | \n",
       "| 30         | 126        | 4.094345   |  5.1787916 | \n",
       "| 50         | 262        | 4.094345   | 10.7685984 | \n",
       "| 70         | 117        | 4.094345   |  4.8088779 | \n",
       "| 75         |  21        | 4.174387   |  0.8631319 | \n",
       "| 90         |  92        | 4.248495   |  3.7813399 | \n",
       "| 85         |  32        | 4.276666   |  1.3152487 | \n",
       "| 20         | 894        | 4.317488   | 36.7447596 | \n",
       "| 60         | 442        | 4.317488   | 18.1668722 | \n",
       "| 80         |  85        | 4.356709   |  3.4936293 | \n",
       "\n",
       "\n"
      ],
      "text/plain": [
       "   MSSubClass n   median   freq      \n",
       "1  180         16 3.044522  0.6576243\n",
       "2  160        116 3.178054  4.7677764\n",
       "3  120        150 3.761200  6.1652281\n",
       "4  40           5 4.007333  0.2055076\n",
       "5  45          18 4.007333  0.7398274\n",
       "6  190         57 4.094345  2.3427867\n",
       "7  30         126 4.094345  5.1787916\n",
       "8  50         262 4.094345 10.7685984\n",
       "9  70         117 4.094345  4.8088779\n",
       "10 75          21 4.174387  0.8631319\n",
       "11 90          92 4.248495  3.7813399\n",
       "12 85          32 4.276666  1.3152487\n",
       "13 20         894 4.317488 36.7447596\n",
       "14 60         442 4.317488 18.1668722\n",
       "15 80          85 4.356709  3.4936293"
      ]
     },
     "metadata": {},
     "output_type": "display_data"
    }
   ],
   "source": [
    "df.LotFrontage %>% select(MSSubClass, LotFrontage.log) %>%\n",
    "group_by(MSSubClass) %>%\n",
    "summarise(n = n(), median = median(LotFrontage.log)) %>%\n",
    "mutate(freq = (n / sum(n)) * 100) %>%\n",
    "arrange(median)"
   ]
  },
  {
   "cell_type": "code",
   "execution_count": 46,
   "metadata": {},
   "outputs": [
    {
     "data": {
      "text/html": [
       "<table>\n",
       "<thead><tr><th scope=col>MSSubClass2</th><th scope=col>n</th><th scope=col>median</th></tr></thead>\n",
       "<tbody>\n",
       "\t<tr><td>A       </td><td>894     </td><td>4.317488</td></tr>\n",
       "\t<tr><td>B       </td><td>789     </td><td>4.290459</td></tr>\n",
       "\t<tr><td>C       </td><td>750     </td><td>3.951244</td></tr>\n",
       "</tbody>\n",
       "</table>\n"
      ],
      "text/latex": [
       "\\begin{tabular}{r|lll}\n",
       " MSSubClass2 & n & median\\\\\n",
       "\\hline\n",
       "\t A        & 894      & 4.317488\\\\\n",
       "\t B        & 789      & 4.290459\\\\\n",
       "\t C        & 750      & 3.951244\\\\\n",
       "\\end{tabular}\n"
      ],
      "text/markdown": [
       "\n",
       "MSSubClass2 | n | median | \n",
       "|---|---|---|\n",
       "| A        | 894      | 4.317488 | \n",
       "| B        | 789      | 4.290459 | \n",
       "| C        | 750      | 3.951244 | \n",
       "\n",
       "\n"
      ],
      "text/plain": [
       "  MSSubClass2 n   median  \n",
       "1 A           894 4.317488\n",
       "2 B           789 4.290459\n",
       "3 C           750 3.951244"
      ]
     },
     "metadata": {},
     "output_type": "display_data"
    },
    {
     "data": {
      "text/plain": [
       "\n",
       "Call:\n",
       "lm(formula = LotFrontage.log ~ LotArea.log + MSSubClass2, data = .)\n",
       "\n",
       "Residuals:\n",
       "     Min       1Q   Median       3Q      Max \n",
       "-1.23635 -0.10151  0.01983  0.11829  1.31626 \n",
       "\n",
       "Coefficients:\n",
       "             Estimate Std. Error t value Pr(>|t|)    \n",
       "(Intercept)  -0.06416    0.09627  -0.667    0.505    \n",
       "LotArea.log   0.47461    0.01038  45.722   <2e-16 ***\n",
       "MSSubClass2B -0.01665    0.01077  -1.546    0.122    \n",
       "MSSubClass2C -0.17189    0.01233 -13.936   <2e-16 ***\n",
       "---\n",
       "Signif. codes:  0 ‘***’ 0.001 ‘**’ 0.01 ‘*’ 0.05 ‘.’ 0.1 ‘ ’ 1\n",
       "\n",
       "Residual standard error: 0.2204 on 2429 degrees of freedom\n",
       "Multiple R-squared:  0.6211,\tAdjusted R-squared:  0.6206 \n",
       "F-statistic:  1327 on 3 and 2429 DF,  p-value: < 2.2e-16\n"
      ]
     },
     "metadata": {},
     "output_type": "display_data"
    },
    {
     "data": {
      "text/html": [
       "117.940254893571"
      ],
      "text/latex": [
       "117.940254893571"
      ],
      "text/markdown": [
       "117.940254893571"
      ],
      "text/plain": [
       "[1] 117.9403"
      ]
     },
     "metadata": {},
     "output_type": "display_data"
    }
   ],
   "source": [
    "df <- df.LotFrontage %>%\n",
    "mutate(\n",
    "    MSSubClass2 = case_when(\n",
    "        MSSubClass == '20' ~ 'A',\n",
    "        MSSubClass %in% c('60', '70', '75', '80', '85', '90') ~ 'B',\n",
    "        TRUE ~ 'C'\n",
    ")) \n",
    "\n",
    "df %>%\n",
    "select(MSSubClass2, MSSubClass, LotFrontage.log) %>%\n",
    "group_by(MSSubClass2) %>%\n",
    "summarise(n = n(), median = median(LotFrontage.log))\n",
    "\n",
    "df %>% \n",
    "lm(LotFrontage.log ~ LotArea.log + MSSubClass2, data = .) -> model\n",
    "\n",
    "model %>% summary\n",
    "sum(model$residuals ^ 2)"
   ]
  },
  {
   "cell_type": "code",
   "execution_count": 47,
   "metadata": {},
   "outputs": [
    {
     "data": {
      "text/plain": [
       "\n",
       "Call:\n",
       "lm(formula = LotFrontage.log ~ LotArea.log + MSSubClass.avg, \n",
       "    data = .)\n",
       "\n",
       "Residuals:\n",
       "     Min       1Q   Median       3Q      Max \n",
       "-1.02247 -0.10112  0.00395  0.10651  1.13561 \n",
       "\n",
       "Coefficients:\n",
       "               Estimate Std. Error t value Pr(>|t|)    \n",
       "(Intercept)    -1.01192    0.07714  -13.12   <2e-16 ***\n",
       "LotArea.log     0.33655    0.01238   27.18   <2e-16 ***\n",
       "MSSubClass.avg  0.51427    0.02168   23.72   <2e-16 ***\n",
       "---\n",
       "Signif. codes:  0 ‘***’ 0.001 ‘**’ 0.01 ‘*’ 0.05 ‘.’ 0.1 ‘ ’ 1\n",
       "\n",
       "Residual standard error: 0.2072 on 2430 degrees of freedom\n",
       "Multiple R-squared:  0.6648,\tAdjusted R-squared:  0.6645 \n",
       "F-statistic:  2410 on 2 and 2430 DF,  p-value: < 2.2e-16\n"
      ]
     },
     "metadata": {},
     "output_type": "display_data"
    },
    {
     "data": {
      "text/html": [
       "104.341854941558"
      ],
      "text/latex": [
       "104.341854941558"
      ],
      "text/markdown": [
       "104.341854941558"
      ],
      "text/plain": [
       "[1] 104.3419"
      ]
     },
     "metadata": {},
     "output_type": "display_data"
    }
   ],
   "source": [
    "df <- df.LotFrontage %>%\n",
    "group_by(MSSubClass) %>%\n",
    "mutate(MSSubClass.avg = median(LotFrontage.log))\n",
    "\n",
    "df %>% \n",
    "lm(LotFrontage.log ~ LotArea.log + MSSubClass.avg, data = .) -> model\n",
    "\n",
    "model %>% summary\n",
    "sum(model$residuals ^ 2)"
   ]
  },
  {
   "cell_type": "code",
   "execution_count": 54,
   "metadata": {},
   "outputs": [
    {
     "data": {
      "text/plain": [
       "\n",
       "Call:\n",
       "lm(formula = LotFrontage.log ~ LotArea.log + MSSubClass.A + MSSubClass.B + \n",
       "    MSSubClass.C, data = .)\n",
       "\n",
       "Residuals:\n",
       "     Min       1Q   Median       3Q      Max \n",
       "-1.02793 -0.09510  0.00171  0.10500  1.15389 \n",
       "\n",
       "Coefficients:\n",
       "             Estimate Std. Error t value Pr(>|t|)    \n",
       "(Intercept)  -0.89727    0.09314  -9.634   <2e-16 ***\n",
       "LotArea.log   0.33770    0.01239  27.257   <2e-16 ***\n",
       "MSSubClass.A  0.48618    0.02516  19.325   <2e-16 ***\n",
       "MSSubClass.B  0.48608    0.02535  19.178   <2e-16 ***\n",
       "MSSubClass.C  0.47947    0.02689  17.833   <2e-16 ***\n",
       "---\n",
       "Signif. codes:  0 ‘***’ 0.001 ‘**’ 0.01 ‘*’ 0.05 ‘.’ 0.1 ‘ ’ 1\n",
       "\n",
       "Residual standard error: 0.2071 on 2428 degrees of freedom\n",
       "Multiple R-squared:  0.6655,\tAdjusted R-squared:  0.6649 \n",
       "F-statistic:  1207 on 4 and 2428 DF,  p-value: < 2.2e-16\n"
      ]
     },
     "metadata": {},
     "output_type": "display_data"
    },
    {
     "data": {
      "text/html": [
       "104.134093009774"
      ],
      "text/latex": [
       "104.134093009774"
      ],
      "text/markdown": [
       "104.134093009774"
      ],
      "text/plain": [
       "[1] 104.1341"
      ]
     },
     "metadata": {},
     "output_type": "display_data"
    }
   ],
   "source": [
    "df <- df.LotFrontage %>%\n",
    "select(LotFrontage.log, LotArea.log, MSSubClass) %>%\n",
    "mutate(\n",
    "    MSSubClass2 = case_when(\n",
    "        MSSubClass == '20' ~ 'A',\n",
    "        MSSubClass %in% c('60', '70', '75', '80', '85', '90') ~ 'B',\n",
    "        TRUE ~ 'C'\n",
    ")) %>%\n",
    "group_by(MSSubClass) %>%\n",
    "mutate(\n",
    "    MSSubClass.avg = median(LotFrontage.log),\n",
    "    MSSubClass.A = ifelse(MSSubClass2 == 'A', MSSubClass.avg, 0),\n",
    "    MSSubClass.B = ifelse(MSSubClass2 == 'B', MSSubClass.avg, 0),\n",
    "    MSSubClass.C = ifelse(MSSubClass2 == 'C', MSSubClass.avg, 0)\n",
    ") \n",
    "\n",
    "df %>% \n",
    "lm(LotFrontage.log ~ LotArea.log + MSSubClass.A + MSSubClass.B + MSSubClass.C, data = .) -> model\n",
    "\n",
    "model %>% summary\n",
    "sum(model$residuals ^ 2)"
   ]
  },
  {
   "cell_type": "markdown",
   "metadata": {},
   "source": [
    "# 2"
   ]
  },
  {
   "cell_type": "code",
   "execution_count": 70,
   "metadata": {},
   "outputs": [
    {
     "data": {
      "text/html": [
       "94.1569371585428"
      ],
      "text/latex": [
       "94.1569371585428"
      ],
      "text/markdown": [
       "94.1569371585428"
      ],
      "text/plain": [
       "[1] 94.15694"
      ]
     },
     "metadata": {},
     "output_type": "display_data"
    }
   ],
   "source": [
    "df <- df.LotFrontage %>%\n",
    "select(LotFrontage.log, LotArea.log, MSSubClass, Neighborhood) %>% \n",
    "lm(LotFrontage.log ~ LotArea.log + MSSubClass + Neighborhood, data = .) -> model\n",
    "\n",
    "#model %>% summary\n",
    "sum(model$residuals ^ 2)"
   ]
  },
  {
   "cell_type": "code",
   "execution_count": 59,
   "metadata": {},
   "outputs": [
    {
     "data": {
      "text/plain": [
       "\n",
       "Call:\n",
       "lm(formula = LotFrontage.log ~ LotArea.log + MSSubClass.avg + \n",
       "    Neighborhood, data = .)\n",
       "\n",
       "Residuals:\n",
       "     Min       1Q   Median       3Q      Max \n",
       "-0.96865 -0.08450  0.00012  0.09137  1.14781 \n",
       "\n",
       "Coefficients:\n",
       "                     Estimate Std. Error t value Pr(>|t|)    \n",
       "(Intercept)         -0.708634   0.108979  -6.502 9.57e-11 ***\n",
       "LotArea.log          0.316372   0.013373  23.658  < 2e-16 ***\n",
       "MSSubClass.avg       0.514920   0.024659  20.881  < 2e-16 ***\n",
       "NeighborhoodBlueste -0.154148   0.078124  -1.973 0.048596 *  \n",
       "NeighborhoodBrDale  -0.236865   0.059383  -3.989 6.84e-05 ***\n",
       "NeighborhoodBrkSide -0.179706   0.049795  -3.609 0.000314 ***\n",
       "NeighborhoodClearCr -0.106477   0.065729  -1.620 0.105377    \n",
       "NeighborhoodCollgCr -0.173570   0.048374  -3.588 0.000340 ***\n",
       "NeighborhoodCrawfor -0.090917   0.051179  -1.776 0.075786 .  \n",
       "NeighborhoodEdwards -0.156170   0.048430  -3.225 0.001278 ** \n",
       "NeighborhoodGilbert -0.192760   0.050398  -3.825 0.000134 ***\n",
       "NeighborhoodIDOTRR  -0.146139   0.050524  -2.892 0.003856 ** \n",
       "NeighborhoodMeadowV -0.130594   0.058301  -2.240 0.025182 *  \n",
       "NeighborhoodMitchel -0.154535   0.051140  -3.022 0.002539 ** \n",
       "NeighborhoodNAmes   -0.093621   0.047448  -1.973 0.048597 *  \n",
       "NeighborhoodNoRidge  0.004647   0.054380   0.085 0.931910    \n",
       "NeighborhoodNPkVill -0.239481   0.063093  -3.796 0.000151 ***\n",
       "NeighborhoodNridgHt  0.013580   0.049062   0.277 0.781962    \n",
       "NeighborhoodNWAmes  -0.067207   0.051557  -1.304 0.192514    \n",
       "NeighborhoodOldTown -0.150194   0.047551  -3.159 0.001605 ** \n",
       "NeighborhoodSawyer  -0.116919   0.050652  -2.308 0.021067 *  \n",
       "NeighborhoodSawyerW -0.134963   0.050227  -2.687 0.007258 ** \n",
       "NeighborhoodSomerst -0.087752   0.048106  -1.824 0.068256 .  \n",
       "NeighborhoodStoneBr -0.203041   0.054987  -3.693 0.000227 ***\n",
       "NeighborhoodSWISU   -0.158050   0.054624  -2.893 0.003845 ** \n",
       "NeighborhoodTimber  -0.131328   0.054054  -2.430 0.015189 *  \n",
       "NeighborhoodVeenker -0.262210   0.068901  -3.806 0.000145 ***\n",
       "---\n",
       "Signif. codes:  0 ‘***’ 0.001 ‘**’ 0.01 ‘*’ 0.05 ‘.’ 0.1 ‘ ’ 1\n",
       "\n",
       "Residual standard error: 0.2 on 2406 degrees of freedom\n",
       "Multiple R-squared:  0.6909,\tAdjusted R-squared:  0.6876 \n",
       "F-statistic: 206.9 on 26 and 2406 DF,  p-value: < 2.2e-16\n"
      ]
     },
     "metadata": {},
     "output_type": "display_data"
    },
    {
     "data": {
      "text/html": [
       "96.2001806356985"
      ],
      "text/latex": [
       "96.2001806356985"
      ],
      "text/markdown": [
       "96.2001806356985"
      ],
      "text/plain": [
       "[1] 96.20018"
      ]
     },
     "metadata": {},
     "output_type": "display_data"
    }
   ],
   "source": [
    "df <- df.LotFrontage %>%\n",
    "select(LotFrontage.log, LotArea.log, MSSubClass, Neighborhood) %>%\n",
    "group_by(MSSubClass) %>%\n",
    "mutate(MSSubClass.avg = median(LotFrontage.log))\n",
    "\n",
    "df %>% \n",
    "lm(LotFrontage.log ~ LotArea.log + MSSubClass.avg + Neighborhood, data = .) -> model\n",
    "\n",
    "model %>% summary\n",
    "sum(model$residuals ^ 2)"
   ]
  },
  {
   "cell_type": "code",
   "execution_count": 64,
   "metadata": {},
   "outputs": [
    {
     "data": {
      "text/plain": [
       "\n",
       "Call:\n",
       "lm(formula = LotFrontage.log ~ LotArea.log + MSSubClass.avg + \n",
       "    Neighborhood.avg, data = .)\n",
       "\n",
       "Residuals:\n",
       "     Min       1Q   Median       3Q      Max \n",
       "-1.01056 -0.09321  0.00605  0.10197  1.12914 \n",
       "\n",
       "Coefficients:\n",
       "                 Estimate Std. Error t value Pr(>|t|)    \n",
       "(Intercept)      -1.19407    0.07940 -15.039  < 2e-16 ***\n",
       "LotArea.log       0.30090    0.01299  23.164  < 2e-16 ***\n",
       "MSSubClass.avg    0.45987    0.02243  20.500  < 2e-16 ***\n",
       "Neighborhood.avg  0.17439    0.02155   8.092 9.17e-16 ***\n",
       "---\n",
       "Signif. codes:  0 ‘***’ 0.001 ‘**’ 0.01 ‘*’ 0.05 ‘.’ 0.1 ‘ ’ 1\n",
       "\n",
       "Residual standard error: 0.2045 on 2429 degrees of freedom\n",
       "Multiple R-squared:  0.6736,\tAdjusted R-squared:  0.6732 \n",
       "F-statistic:  1671 on 3 and 2429 DF,  p-value: < 2.2e-16\n"
      ]
     },
     "metadata": {},
     "output_type": "display_data"
    },
    {
     "data": {
      "text/html": [
       "101.602864239301"
      ],
      "text/latex": [
       "101.602864239301"
      ],
      "text/markdown": [
       "101.602864239301"
      ],
      "text/plain": [
       "[1] 101.6029"
      ]
     },
     "metadata": {},
     "output_type": "display_data"
    }
   ],
   "source": [
    "df <- df.LotFrontage %>%\n",
    "select(LotFrontage.log, LotArea.log, MSSubClass, Neighborhood) %>%\n",
    "group_by(MSSubClass) %>%\n",
    "mutate(MSSubClass.avg = median(LotFrontage.log)) %>%\n",
    "group_by(Neighborhood) %>%\n",
    "mutate(Neighborhood.avg = median(LotFrontage.log))\n",
    "\n",
    "df %>% \n",
    "lm(LotFrontage.log ~ LotArea.log + MSSubClass.avg + Neighborhood.avg, data = .) -> model\n",
    "\n",
    "model %>% summary\n",
    "sum(model$residuals ^ 2)"
   ]
  },
  {
   "cell_type": "code",
   "execution_count": 67,
   "metadata": {},
   "outputs": [
    {
     "data": {
      "text/html": [
       "<table>\n",
       "<thead><tr><th scope=col>Neighborhood</th><th scope=col>n</th><th scope=col>median</th><th scope=col>freq</th></tr></thead>\n",
       "<tbody>\n",
       "\t<tr><td>BrDale    </td><td> 30       </td><td>3.044522  </td><td> 1.2330456</td></tr>\n",
       "\t<tr><td>MeadowV   </td><td> 33       </td><td>3.044522  </td><td> 1.3563502</td></tr>\n",
       "\t<tr><td>Blueste   </td><td> 10       </td><td>3.178054  </td><td> 0.4110152</td></tr>\n",
       "\t<tr><td>NPkVill   </td><td> 21       </td><td>3.178054  </td><td> 0.8631319</td></tr>\n",
       "\t<tr><td>Blmngtn   </td><td> 20       </td><td>3.761200  </td><td> 0.8220304</td></tr>\n",
       "\t<tr><td>BrkSide   </td><td> 95       </td><td>3.931826  </td><td> 3.9046445</td></tr>\n",
       "\t<tr><td>IDOTRR    </td><td> 87       </td><td>4.094345  </td><td> 3.5758323</td></tr>\n",
       "\t<tr><td>OldTown   </td><td>229       </td><td>4.094345  </td><td> 9.4122483</td></tr>\n",
       "\t<tr><td>StoneBr   </td><td> 46       </td><td>4.094345  </td><td> 1.8906700</td></tr>\n",
       "\t<tr><td>SWISU     </td><td> 44       </td><td>4.094345  </td><td> 1.8084669</td></tr>\n",
       "\t<tr><td>Gilbert   </td><td>111       </td><td>4.158883  </td><td> 4.5622688</td></tr>\n",
       "\t<tr><td>Edwards   </td><td>178       </td><td>4.174387  </td><td> 7.3160707</td></tr>\n",
       "\t<tr><td>SawyerW   </td><td>106       </td><td>4.204693  </td><td> 4.3567612</td></tr>\n",
       "\t<tr><td>CollgCr   </td><td>220       </td><td>4.248495  </td><td> 9.0423346</td></tr>\n",
       "\t<tr><td>Crawfor   </td><td> 83       </td><td>4.248495  </td><td> 3.4114262</td></tr>\n",
       "\t<tr><td>Sawyer    </td><td> 98       </td><td>4.276666  </td><td> 4.0279490</td></tr>\n",
       "\t<tr><td>Somerst   </td><td>162       </td><td>4.283563  </td><td> 6.6584464</td></tr>\n",
       "\t<tr><td>NAmes     </td><td>375       </td><td>4.290459  </td><td>15.4130703</td></tr>\n",
       "\t<tr><td>Mitchel   </td><td> 90       </td><td>4.304065  </td><td> 3.6991369</td></tr>\n",
       "\t<tr><td>NWAmes    </td><td> 85       </td><td>4.382027  </td><td> 3.4936293</td></tr>\n",
       "\t<tr><td>Veenker   </td><td> 16       </td><td>4.382027  </td><td> 0.6576243</td></tr>\n",
       "\t<tr><td>ClearCr   </td><td> 20       </td><td>4.388238  </td><td> 0.8220304</td></tr>\n",
       "\t<tr><td>Timber    </td><td> 57       </td><td>4.406719  </td><td> 2.3427867</td></tr>\n",
       "\t<tr><td>NoRidge   </td><td> 54       </td><td>4.488636  </td><td> 2.2194821</td></tr>\n",
       "\t<tr><td>NridgHt   </td><td>163       </td><td>4.521789  </td><td> 6.6995479</td></tr>\n",
       "</tbody>\n",
       "</table>\n"
      ],
      "text/latex": [
       "\\begin{tabular}{r|llll}\n",
       " Neighborhood & n & median & freq\\\\\n",
       "\\hline\n",
       "\t BrDale     &  30        & 3.044522   &  1.2330456\\\\\n",
       "\t MeadowV    &  33        & 3.044522   &  1.3563502\\\\\n",
       "\t Blueste    &  10        & 3.178054   &  0.4110152\\\\\n",
       "\t NPkVill    &  21        & 3.178054   &  0.8631319\\\\\n",
       "\t Blmngtn    &  20        & 3.761200   &  0.8220304\\\\\n",
       "\t BrkSide    &  95        & 3.931826   &  3.9046445\\\\\n",
       "\t IDOTRR     &  87        & 4.094345   &  3.5758323\\\\\n",
       "\t OldTown    & 229        & 4.094345   &  9.4122483\\\\\n",
       "\t StoneBr    &  46        & 4.094345   &  1.8906700\\\\\n",
       "\t SWISU      &  44        & 4.094345   &  1.8084669\\\\\n",
       "\t Gilbert    & 111        & 4.158883   &  4.5622688\\\\\n",
       "\t Edwards    & 178        & 4.174387   &  7.3160707\\\\\n",
       "\t SawyerW    & 106        & 4.204693   &  4.3567612\\\\\n",
       "\t CollgCr    & 220        & 4.248495   &  9.0423346\\\\\n",
       "\t Crawfor    &  83        & 4.248495   &  3.4114262\\\\\n",
       "\t Sawyer     &  98        & 4.276666   &  4.0279490\\\\\n",
       "\t Somerst    & 162        & 4.283563   &  6.6584464\\\\\n",
       "\t NAmes      & 375        & 4.290459   & 15.4130703\\\\\n",
       "\t Mitchel    &  90        & 4.304065   &  3.6991369\\\\\n",
       "\t NWAmes     &  85        & 4.382027   &  3.4936293\\\\\n",
       "\t Veenker    &  16        & 4.382027   &  0.6576243\\\\\n",
       "\t ClearCr    &  20        & 4.388238   &  0.8220304\\\\\n",
       "\t Timber     &  57        & 4.406719   &  2.3427867\\\\\n",
       "\t NoRidge    &  54        & 4.488636   &  2.2194821\\\\\n",
       "\t NridgHt    & 163        & 4.521789   &  6.6995479\\\\\n",
       "\\end{tabular}\n"
      ],
      "text/markdown": [
       "\n",
       "Neighborhood | n | median | freq | \n",
       "|---|---|---|---|---|---|---|---|---|---|---|---|---|---|---|---|---|---|---|---|---|---|---|---|---|\n",
       "| BrDale     |  30        | 3.044522   |  1.2330456 | \n",
       "| MeadowV    |  33        | 3.044522   |  1.3563502 | \n",
       "| Blueste    |  10        | 3.178054   |  0.4110152 | \n",
       "| NPkVill    |  21        | 3.178054   |  0.8631319 | \n",
       "| Blmngtn    |  20        | 3.761200   |  0.8220304 | \n",
       "| BrkSide    |  95        | 3.931826   |  3.9046445 | \n",
       "| IDOTRR     |  87        | 4.094345   |  3.5758323 | \n",
       "| OldTown    | 229        | 4.094345   |  9.4122483 | \n",
       "| StoneBr    |  46        | 4.094345   |  1.8906700 | \n",
       "| SWISU      |  44        | 4.094345   |  1.8084669 | \n",
       "| Gilbert    | 111        | 4.158883   |  4.5622688 | \n",
       "| Edwards    | 178        | 4.174387   |  7.3160707 | \n",
       "| SawyerW    | 106        | 4.204693   |  4.3567612 | \n",
       "| CollgCr    | 220        | 4.248495   |  9.0423346 | \n",
       "| Crawfor    |  83        | 4.248495   |  3.4114262 | \n",
       "| Sawyer     |  98        | 4.276666   |  4.0279490 | \n",
       "| Somerst    | 162        | 4.283563   |  6.6584464 | \n",
       "| NAmes      | 375        | 4.290459   | 15.4130703 | \n",
       "| Mitchel    |  90        | 4.304065   |  3.6991369 | \n",
       "| NWAmes     |  85        | 4.382027   |  3.4936293 | \n",
       "| Veenker    |  16        | 4.382027   |  0.6576243 | \n",
       "| ClearCr    |  20        | 4.388238   |  0.8220304 | \n",
       "| Timber     |  57        | 4.406719   |  2.3427867 | \n",
       "| NoRidge    |  54        | 4.488636   |  2.2194821 | \n",
       "| NridgHt    | 163        | 4.521789   |  6.6995479 | \n",
       "\n",
       "\n"
      ],
      "text/plain": [
       "   Neighborhood n   median   freq      \n",
       "1  BrDale        30 3.044522  1.2330456\n",
       "2  MeadowV       33 3.044522  1.3563502\n",
       "3  Blueste       10 3.178054  0.4110152\n",
       "4  NPkVill       21 3.178054  0.8631319\n",
       "5  Blmngtn       20 3.761200  0.8220304\n",
       "6  BrkSide       95 3.931826  3.9046445\n",
       "7  IDOTRR        87 4.094345  3.5758323\n",
       "8  OldTown      229 4.094345  9.4122483\n",
       "9  StoneBr       46 4.094345  1.8906700\n",
       "10 SWISU         44 4.094345  1.8084669\n",
       "11 Gilbert      111 4.158883  4.5622688\n",
       "12 Edwards      178 4.174387  7.3160707\n",
       "13 SawyerW      106 4.204693  4.3567612\n",
       "14 CollgCr      220 4.248495  9.0423346\n",
       "15 Crawfor       83 4.248495  3.4114262\n",
       "16 Sawyer        98 4.276666  4.0279490\n",
       "17 Somerst      162 4.283563  6.6584464\n",
       "18 NAmes        375 4.290459 15.4130703\n",
       "19 Mitchel       90 4.304065  3.6991369\n",
       "20 NWAmes        85 4.382027  3.4936293\n",
       "21 Veenker       16 4.382027  0.6576243\n",
       "22 ClearCr       20 4.388238  0.8220304\n",
       "23 Timber        57 4.406719  2.3427867\n",
       "24 NoRidge       54 4.488636  2.2194821\n",
       "25 NridgHt      163 4.521789  6.6995479"
      ]
     },
     "metadata": {},
     "output_type": "display_data"
    }
   ],
   "source": [
    "df.LotFrontage %>% select(Neighborhood, LotFrontage.log) %>%\n",
    "group_by(Neighborhood) %>%\n",
    "summarise(n = n(), median = median(LotFrontage.log)) %>%\n",
    "mutate(freq = (n / sum(n)) * 100) %>%\n",
    "arrange(median)"
   ]
  },
  {
   "cell_type": "code",
   "execution_count": null,
   "metadata": {
    "collapsed": true
   },
   "outputs": [],
   "source": [
    "df <- df.LotFrontage %>%\n",
    "select(Neighborhood, LotFrontage.log) %>%\n",
    "group_by(Neighborhood) %>%\n",
    "mutate(n = n(), median = median(LotFrontage.log)) %>%\n",
    "mutate(\n",
    "    Neighborhood2 = case_when(\n",
    "        median < 4.1 ~ 'A',\n",
    "        MSSubClass %in% c('60', '70', '75', '80', '85', '90') ~ 'B',\n",
    "        TRUE ~ 'C'\n",
    ")) \n",
    "\n",
    "df %>%\n",
    "select(MSSubClass2, MSSubClass, LotFrontage.log) %>%\n",
    "group_by(MSSubClass2) %>%\n",
    "summarise(n = n(), median = median(LotFrontage.log))\n",
    "\n",
    "df %>% \n",
    "lm(LotFrontage.log ~ LotArea.log + MSSubClass2, data = .) -> model\n",
    "\n",
    "model %>% summary\n",
    "sum(model$residuals ^ 2)"
   ]
  },
  {
   "cell_type": "code",
   "execution_count": null,
   "metadata": {
    "collapsed": true
   },
   "outputs": [],
   "source": []
  },
  {
   "cell_type": "code",
   "execution_count": null,
   "metadata": {
    "collapsed": true
   },
   "outputs": [],
   "source": []
  },
  {
   "cell_type": "code",
   "execution_count": null,
   "metadata": {
    "collapsed": true
   },
   "outputs": [],
   "source": []
  },
  {
   "cell_type": "code",
   "execution_count": null,
   "metadata": {
    "collapsed": true
   },
   "outputs": [],
   "source": []
  },
  {
   "cell_type": "code",
   "execution_count": null,
   "metadata": {
    "collapsed": true
   },
   "outputs": [],
   "source": []
  },
  {
   "cell_type": "code",
   "execution_count": null,
   "metadata": {
    "collapsed": true
   },
   "outputs": [],
   "source": []
  },
  {
   "cell_type": "code",
   "execution_count": null,
   "metadata": {
    "collapsed": true
   },
   "outputs": [],
   "source": []
  },
  {
   "cell_type": "code",
   "execution_count": null,
   "metadata": {
    "collapsed": true
   },
   "outputs": [],
   "source": []
  },
  {
   "cell_type": "code",
   "execution_count": null,
   "metadata": {
    "collapsed": true
   },
   "outputs": [],
   "source": []
  },
  {
   "cell_type": "code",
   "execution_count": null,
   "metadata": {
    "collapsed": true
   },
   "outputs": [],
   "source": []
  },
  {
   "cell_type": "code",
   "execution_count": null,
   "metadata": {
    "collapsed": true
   },
   "outputs": [],
   "source": []
  },
  {
   "cell_type": "code",
   "execution_count": null,
   "metadata": {
    "collapsed": true
   },
   "outputs": [],
   "source": []
  },
  {
   "cell_type": "code",
   "execution_count": null,
   "metadata": {
    "collapsed": true
   },
   "outputs": [],
   "source": []
  },
  {
   "cell_type": "code",
   "execution_count": null,
   "metadata": {
    "collapsed": true
   },
   "outputs": [],
   "source": []
  },
  {
   "cell_type": "code",
   "execution_count": null,
   "metadata": {
    "collapsed": true
   },
   "outputs": [],
   "source": []
  },
  {
   "cell_type": "code",
   "execution_count": null,
   "metadata": {
    "collapsed": true
   },
   "outputs": [],
   "source": []
  },
  {
   "cell_type": "code",
   "execution_count": null,
   "metadata": {
    "collapsed": true
   },
   "outputs": [],
   "source": []
  },
  {
   "cell_type": "code",
   "execution_count": null,
   "metadata": {
    "collapsed": true
   },
   "outputs": [],
   "source": []
  },
  {
   "cell_type": "code",
   "execution_count": null,
   "metadata": {
    "collapsed": true
   },
   "outputs": [],
   "source": []
  },
  {
   "cell_type": "code",
   "execution_count": null,
   "metadata": {
    "collapsed": true
   },
   "outputs": [],
   "source": []
  },
  {
   "cell_type": "code",
   "execution_count": null,
   "metadata": {
    "collapsed": true
   },
   "outputs": [],
   "source": []
  },
  {
   "cell_type": "code",
   "execution_count": null,
   "metadata": {
    "collapsed": true
   },
   "outputs": [],
   "source": []
  },
  {
   "cell_type": "code",
   "execution_count": null,
   "metadata": {
    "collapsed": true
   },
   "outputs": [],
   "source": []
  },
  {
   "cell_type": "code",
   "execution_count": null,
   "metadata": {
    "collapsed": true
   },
   "outputs": [],
   "source": []
  },
  {
   "cell_type": "code",
   "execution_count": null,
   "metadata": {
    "collapsed": true
   },
   "outputs": [],
   "source": []
  },
  {
   "cell_type": "code",
   "execution_count": null,
   "metadata": {
    "collapsed": true
   },
   "outputs": [],
   "source": []
  },
  {
   "cell_type": "code",
   "execution_count": null,
   "metadata": {
    "collapsed": true
   },
   "outputs": [],
   "source": []
  },
  {
   "cell_type": "code",
   "execution_count": null,
   "metadata": {
    "collapsed": true
   },
   "outputs": [],
   "source": []
  },
  {
   "cell_type": "code",
   "execution_count": null,
   "metadata": {
    "collapsed": true
   },
   "outputs": [],
   "source": []
  },
  {
   "cell_type": "code",
   "execution_count": null,
   "metadata": {
    "collapsed": true
   },
   "outputs": [],
   "source": []
  },
  {
   "cell_type": "code",
   "execution_count": null,
   "metadata": {
    "collapsed": true
   },
   "outputs": [],
   "source": []
  },
  {
   "cell_type": "code",
   "execution_count": null,
   "metadata": {
    "collapsed": true
   },
   "outputs": [],
   "source": []
  }
 ],
 "metadata": {
  "kernelspec": {
   "display_name": "R",
   "language": "R",
   "name": "ir"
  },
  "language_info": {
   "codemirror_mode": "r",
   "file_extension": ".r",
   "mimetype": "text/x-r-source",
   "name": "R",
   "pygments_lexer": "r",
   "version": "3.4.0"
  }
 },
 "nbformat": 4,
 "nbformat_minor": 2
}
