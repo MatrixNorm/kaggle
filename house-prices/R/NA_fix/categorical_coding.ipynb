{
 "cells": [
  {
   "cell_type": "code",
   "execution_count": 1,
   "metadata": {},
   "outputs": [
    {
     "data": {
      "text/html": [
       "'/mnt/hdd/develop/kaggle/house-prices/R/NA_fix'"
      ],
      "text/latex": [
       "'/mnt/hdd/develop/kaggle/house-prices/R/NA\\_fix'"
      ],
      "text/markdown": [
       "'/mnt/hdd/develop/kaggle/house-prices/R/NA_fix'"
      ],
      "text/plain": [
       "[1] \"/mnt/hdd/develop/kaggle/house-prices/R/NA_fix\""
      ]
     },
     "metadata": {},
     "output_type": "display_data"
    },
    {
     "data": {
      "text/html": [
       "'/mnt/hdd/develop/kaggle/house-prices/R'"
      ],
      "text/latex": [
       "'/mnt/hdd/develop/kaggle/house-prices/R'"
      ],
      "text/markdown": [
       "'/mnt/hdd/develop/kaggle/house-prices/R'"
      ],
      "text/plain": [
       "[1] \"/mnt/hdd/develop/kaggle/house-prices/R\""
      ]
     },
     "metadata": {},
     "output_type": "display_data"
    }
   ],
   "source": [
    "getwd()\n",
    "if ( is.null(environment()$this_notebook_dir) ) {\n",
    "    this_notebook_dir <- getwd()\n",
    "    setwd(paste0(getwd(), '/..'))\n",
    "}\n",
    "getwd()"
   ]
  },
  {
   "cell_type": "code",
   "execution_count": 4,
   "metadata": {},
   "outputs": [
    {
     "data": {
      "text/html": [
       "<ol class=list-inline>\n",
       "\t<li>2433</li>\n",
       "\t<li>81</li>\n",
       "</ol>\n"
      ],
      "text/latex": [
       "\\begin{enumerate*}\n",
       "\\item 2433\n",
       "\\item 81\n",
       "\\end{enumerate*}\n"
      ],
      "text/markdown": [
       "1. 2433\n",
       "2. 81\n",
       "\n",
       "\n"
      ],
      "text/plain": [
       "[1] 2433   81"
      ]
     },
     "metadata": {},
     "output_type": "display_data"
    }
   ],
   "source": [
    "source('helpers.R')\n",
    "\n",
    "kaggle.house.loadLibraries()\n",
    "data <- kaggle.house.loadData()\n",
    "\n",
    "data$combined %>% \n",
    "select(-dataSource) %>% \n",
    "filter(!is.na(LotFrontage)) %>% \n",
    "mutate(\n",
    "    LotFrontage.log = log(LotFrontage),\n",
    "    LotArea.log = log(LotArea)\n",
    ") -> df.LotFrontage\n",
    "\n",
    "df.LotFrontage %>% dim"
   ]
  },
  {
   "cell_type": "markdown",
   "metadata": {},
   "source": [
    "# ~ LotArea.log"
   ]
  },
  {
   "cell_type": "code",
   "execution_count": 8,
   "metadata": {},
   "outputs": [
    {
     "data": {
      "text/plain": [
       "\n",
       "Call:\n",
       "lm(formula = LotFrontage.log ~ LotArea.log, data = .)\n",
       "\n",
       "Residuals:\n",
       "     Min       1Q   Median       3Q      Max \n",
       "-1.33420 -0.12683  0.02732  0.13909  1.25960 \n",
       "\n",
       "Coefficients:\n",
       "             Estimate Std. Error t value Pr(>|t|)    \n",
       "(Intercept) -0.816932   0.085101    -9.6   <2e-16 ***\n",
       "LotArea.log  0.551207   0.009374    58.8   <2e-16 ***\n",
       "---\n",
       "Signif. codes:  0 ‘***’ 0.001 ‘**’ 0.01 ‘*’ 0.05 ‘.’ 0.1 ‘ ’ 1\n",
       "\n",
       "Residual standard error: 0.2299 on 2431 degrees of freedom\n",
       "Multiple R-squared:  0.5872,\tAdjusted R-squared:  0.587 \n",
       "F-statistic:  3458 on 1 and 2431 DF,  p-value: < 2.2e-16\n"
      ]
     },
     "metadata": {},
     "output_type": "display_data"
    },
    {
     "data": {
      "text/html": [
       "128.495325090466"
      ],
      "text/latex": [
       "128.495325090466"
      ],
      "text/markdown": [
       "128.495325090466"
      ],
      "text/plain": [
       "[1] 128.4953"
      ]
     },
     "metadata": {},
     "output_type": "display_data"
    }
   ],
   "source": [
    "df.LotFrontage %>% \n",
    "lm(LotFrontage.log ~ LotArea.log, data = .) -> model\n",
    "\n",
    "model %>% summary\n",
    "sum(model$residuals ^ 2)"
   ]
  },
  {
   "cell_type": "markdown",
   "metadata": {},
   "source": [
    "# ~ LotArea.log + MSSubClass"
   ]
  },
  {
   "cell_type": "code",
   "execution_count": 9,
   "metadata": {},
   "outputs": [
    {
     "data": {
      "text/plain": [
       "\n",
       "Call:\n",
       "lm(formula = LotFrontage.log ~ LotArea.log + MSSubClass, data = .)\n",
       "\n",
       "Residuals:\n",
       "     Min       1Q   Median       3Q      Max \n",
       "-1.02965 -0.09845  0.00116  0.10641  1.14375 \n",
       "\n",
       "Coefficients:\n",
       "              Estimate Std. Error t value Pr(>|t|)    \n",
       "(Intercept)    0.87696    0.10829   8.098 8.75e-16 ***\n",
       "LotArea.log    0.33748    0.01253  26.935  < 2e-16 ***\n",
       "MSSubClass160 -0.24130    0.02740  -8.806  < 2e-16 ***\n",
       "MSSubClass180 -0.24097    0.05546  -4.345 1.45e-05 ***\n",
       "MSSubClass190  0.22774    0.03308   6.884 7.39e-12 ***\n",
       "MSSubClass20   0.32685    0.02032  16.082  < 2e-16 ***\n",
       "MSSubClass30   0.20083    0.02545   7.892 4.48e-15 ***\n",
       "MSSubClass40   0.04072    0.09436   0.431   0.6661    \n",
       "MSSubClass45   0.15438    0.05178   2.981   0.0029 ** \n",
       "MSSubClass50   0.19014    0.02214   8.589  < 2e-16 ***\n",
       "MSSubClass60   0.32849    0.02171  15.128  < 2e-16 ***\n",
       "MSSubClass70   0.19911    0.02635   7.556 5.86e-14 ***\n",
       "MSSubClass75   0.27565    0.04897   5.629 2.02e-08 ***\n",
       "MSSubClass80   0.34972    0.02940  11.893  < 2e-16 ***\n",
       "MSSubClass85   0.32481    0.04096   7.930 3.31e-15 ***\n",
       "MSSubClass90   0.29115    0.02831  10.286  < 2e-16 ***\n",
       "---\n",
       "Signif. codes:  0 ‘***’ 0.001 ‘**’ 0.01 ‘*’ 0.05 ‘.’ 0.1 ‘ ’ 1\n",
       "\n",
       "Residual standard error: 0.2071 on 2417 degrees of freedom\n",
       "Multiple R-squared:  0.6669,\tAdjusted R-squared:  0.6648 \n",
       "F-statistic: 322.6 on 15 and 2417 DF,  p-value: < 2.2e-16\n"
      ]
     },
     "metadata": {},
     "output_type": "display_data"
    },
    {
     "data": {
      "text/html": [
       "103.688229463177"
      ],
      "text/latex": [
       "103.688229463177"
      ],
      "text/markdown": [
       "103.688229463177"
      ],
      "text/plain": [
       "[1] 103.6882"
      ]
     },
     "metadata": {},
     "output_type": "display_data"
    }
   ],
   "source": [
    "df.LotFrontage %>% \n",
    "select(LotFrontage.log, LotArea.log, MSSubClass) %>%\n",
    "lm(LotFrontage.log ~ LotArea.log + MSSubClass, data = .) -> model\n",
    "\n",
    "model %>% summary\n",
    "sum(model$residuals ^ 2)"
   ]
  },
  {
   "cell_type": "markdown",
   "metadata": {},
   "source": [
    "## merging levels based on frequency"
   ]
  },
  {
   "cell_type": "code",
   "execution_count": 10,
   "metadata": {},
   "outputs": [
    {
     "data": {
      "text/html": [
       "<table>\n",
       "<thead><tr><th scope=col>MSSubClass</th><th scope=col>n</th><th scope=col>median</th><th scope=col>freq</th></tr></thead>\n",
       "<tbody>\n",
       "\t<tr><td>40        </td><td>  5       </td><td>4.007333  </td><td> 0.2055076</td></tr>\n",
       "\t<tr><td>180       </td><td> 16       </td><td>3.044522  </td><td> 0.6576243</td></tr>\n",
       "\t<tr><td>45        </td><td> 18       </td><td>4.007333  </td><td> 0.7398274</td></tr>\n",
       "\t<tr><td>75        </td><td> 21       </td><td>4.174387  </td><td> 0.8631319</td></tr>\n",
       "\t<tr><td>85        </td><td> 32       </td><td>4.276666  </td><td> 1.3152487</td></tr>\n",
       "\t<tr><td>190       </td><td> 57       </td><td>4.094345  </td><td> 2.3427867</td></tr>\n",
       "\t<tr><td>80        </td><td> 85       </td><td>4.356709  </td><td> 3.4936293</td></tr>\n",
       "\t<tr><td>90        </td><td> 92       </td><td>4.248495  </td><td> 3.7813399</td></tr>\n",
       "\t<tr><td>160       </td><td>116       </td><td>3.178054  </td><td> 4.7677764</td></tr>\n",
       "\t<tr><td>70        </td><td>117       </td><td>4.094345  </td><td> 4.8088779</td></tr>\n",
       "\t<tr><td>30        </td><td>126       </td><td>4.094345  </td><td> 5.1787916</td></tr>\n",
       "\t<tr><td>120       </td><td>150       </td><td>3.761200  </td><td> 6.1652281</td></tr>\n",
       "\t<tr><td>50        </td><td>262       </td><td>4.094345  </td><td>10.7685984</td></tr>\n",
       "\t<tr><td>60        </td><td>442       </td><td>4.317488  </td><td>18.1668722</td></tr>\n",
       "\t<tr><td>20        </td><td>894       </td><td>4.317488  </td><td>36.7447596</td></tr>\n",
       "</tbody>\n",
       "</table>\n"
      ],
      "text/latex": [
       "\\begin{tabular}{r|llll}\n",
       " MSSubClass & n & median & freq\\\\\n",
       "\\hline\n",
       "\t 40         &   5        & 4.007333   &  0.2055076\\\\\n",
       "\t 180        &  16        & 3.044522   &  0.6576243\\\\\n",
       "\t 45         &  18        & 4.007333   &  0.7398274\\\\\n",
       "\t 75         &  21        & 4.174387   &  0.8631319\\\\\n",
       "\t 85         &  32        & 4.276666   &  1.3152487\\\\\n",
       "\t 190        &  57        & 4.094345   &  2.3427867\\\\\n",
       "\t 80         &  85        & 4.356709   &  3.4936293\\\\\n",
       "\t 90         &  92        & 4.248495   &  3.7813399\\\\\n",
       "\t 160        & 116        & 3.178054   &  4.7677764\\\\\n",
       "\t 70         & 117        & 4.094345   &  4.8088779\\\\\n",
       "\t 30         & 126        & 4.094345   &  5.1787916\\\\\n",
       "\t 120        & 150        & 3.761200   &  6.1652281\\\\\n",
       "\t 50         & 262        & 4.094345   & 10.7685984\\\\\n",
       "\t 60         & 442        & 4.317488   & 18.1668722\\\\\n",
       "\t 20         & 894        & 4.317488   & 36.7447596\\\\\n",
       "\\end{tabular}\n"
      ],
      "text/markdown": [
       "\n",
       "MSSubClass | n | median | freq | \n",
       "|---|---|---|---|---|---|---|---|---|---|---|---|---|---|---|\n",
       "| 40         |   5        | 4.007333   |  0.2055076 | \n",
       "| 180        |  16        | 3.044522   |  0.6576243 | \n",
       "| 45         |  18        | 4.007333   |  0.7398274 | \n",
       "| 75         |  21        | 4.174387   |  0.8631319 | \n",
       "| 85         |  32        | 4.276666   |  1.3152487 | \n",
       "| 190        |  57        | 4.094345   |  2.3427867 | \n",
       "| 80         |  85        | 4.356709   |  3.4936293 | \n",
       "| 90         |  92        | 4.248495   |  3.7813399 | \n",
       "| 160        | 116        | 3.178054   |  4.7677764 | \n",
       "| 70         | 117        | 4.094345   |  4.8088779 | \n",
       "| 30         | 126        | 4.094345   |  5.1787916 | \n",
       "| 120        | 150        | 3.761200   |  6.1652281 | \n",
       "| 50         | 262        | 4.094345   | 10.7685984 | \n",
       "| 60         | 442        | 4.317488   | 18.1668722 | \n",
       "| 20         | 894        | 4.317488   | 36.7447596 | \n",
       "\n",
       "\n"
      ],
      "text/plain": [
       "   MSSubClass n   median   freq      \n",
       "1  40           5 4.007333  0.2055076\n",
       "2  180         16 3.044522  0.6576243\n",
       "3  45          18 4.007333  0.7398274\n",
       "4  75          21 4.174387  0.8631319\n",
       "5  85          32 4.276666  1.3152487\n",
       "6  190         57 4.094345  2.3427867\n",
       "7  80          85 4.356709  3.4936293\n",
       "8  90          92 4.248495  3.7813399\n",
       "9  160        116 3.178054  4.7677764\n",
       "10 70         117 4.094345  4.8088779\n",
       "11 30         126 4.094345  5.1787916\n",
       "12 120        150 3.761200  6.1652281\n",
       "13 50         262 4.094345 10.7685984\n",
       "14 60         442 4.317488 18.1668722\n",
       "15 20         894 4.317488 36.7447596"
      ]
     },
     "metadata": {},
     "output_type": "display_data"
    }
   ],
   "source": [
    "df.LotFrontage %>% select(MSSubClass, LotFrontage.log) %>%\n",
    "group_by(MSSubClass) %>%\n",
    "summarise(n = n(), median = median(LotFrontage.log)) %>%\n",
    "mutate(freq = (n / sum(n)) * 100) %>%\n",
    "arrange(n)"
   ]
  },
  {
   "cell_type": "code",
   "execution_count": 14,
   "metadata": {},
   "outputs": [
    {
     "data": {
      "text/html": [
       "<table>\n",
       "<thead><tr><th scope=col>MSSubClass2</th><th scope=col>n</th><th scope=col>median</th></tr></thead>\n",
       "<tbody>\n",
       "\t<tr><td>A       </td><td>894     </td><td>4.317488</td></tr>\n",
       "\t<tr><td>B       </td><td>704     </td><td>4.248495</td></tr>\n",
       "\t<tr><td>C       </td><td>835     </td><td>4.094345</td></tr>\n",
       "</tbody>\n",
       "</table>\n"
      ],
      "text/latex": [
       "\\begin{tabular}{r|lll}\n",
       " MSSubClass2 & n & median\\\\\n",
       "\\hline\n",
       "\t A        & 894      & 4.317488\\\\\n",
       "\t B        & 704      & 4.248495\\\\\n",
       "\t C        & 835      & 4.094345\\\\\n",
       "\\end{tabular}\n"
      ],
      "text/markdown": [
       "\n",
       "MSSubClass2 | n | median | \n",
       "|---|---|---|\n",
       "| A        | 894      | 4.317488 | \n",
       "| B        | 704      | 4.248495 | \n",
       "| C        | 835      | 4.094345 | \n",
       "\n",
       "\n"
      ],
      "text/plain": [
       "  MSSubClass2 n   median  \n",
       "1 A           894 4.317488\n",
       "2 B           704 4.248495\n",
       "3 C           835 4.094345"
      ]
     },
     "metadata": {},
     "output_type": "display_data"
    },
    {
     "data": {
      "text/plain": [
       "\n",
       "Call:\n",
       "lm(formula = LotFrontage.log ~ LotArea.log + MSSubClass2, data = .)\n",
       "\n",
       "Residuals:\n",
       "     Min       1Q   Median       3Q      Max \n",
       "-1.26593 -0.10980  0.01512  0.12746  1.29271 \n",
       "\n",
       "Coefficients:\n",
       "             Estimate Std. Error t value Pr(>|t|)    \n",
       "(Intercept)  -0.36997    0.09525  -3.884 0.000105 ***\n",
       "LotArea.log   0.50768    0.01027  49.438  < 2e-16 ***\n",
       "MSSubClass2B -0.04133    0.01137  -3.633 0.000285 ***\n",
       "MSSubClass2C -0.11779    0.01195  -9.858  < 2e-16 ***\n",
       "---\n",
       "Signif. codes:  0 ‘***’ 0.001 ‘**’ 0.01 ‘*’ 0.05 ‘.’ 0.1 ‘ ’ 1\n",
       "\n",
       "Residual standard error: 0.2255 on 2429 degrees of freedom\n",
       "Multiple R-squared:  0.6032,\tAdjusted R-squared:  0.6027 \n",
       "F-statistic:  1231 on 3 and 2429 DF,  p-value: < 2.2e-16\n"
      ]
     },
     "metadata": {},
     "output_type": "display_data"
    },
    {
     "data": {
      "text/html": [
       "123.523841593017"
      ],
      "text/latex": [
       "123.523841593017"
      ],
      "text/markdown": [
       "123.523841593017"
      ],
      "text/plain": [
       "[1] 123.5238"
      ]
     },
     "metadata": {},
     "output_type": "display_data"
    }
   ],
   "source": [
    "df <- df.LotFrontage %>%\n",
    "mutate(\n",
    "    MSSubClass2 = case_when(\n",
    "        MSSubClass == '20' ~ 'A',\n",
    "        MSSubClass %in% c('60', '50') ~ 'B',\n",
    "        TRUE ~ 'C'\n",
    ")) \n",
    "\n",
    "df %>%\n",
    "select(MSSubClass2, MSSubClass, LotFrontage.log) %>%\n",
    "group_by(MSSubClass2) %>%\n",
    "summarise(n = n(), median = median(LotFrontage.log))\n",
    "\n",
    "df %>% \n",
    "lm(LotFrontage.log ~ LotArea.log + MSSubClass2, data = .) -> model\n",
    "\n",
    "model %>% summary\n",
    "sum(model$residuals ^ 2)"
   ]
  },
  {
   "cell_type": "markdown",
   "metadata": {},
   "source": [
    "## merging levels based on response"
   ]
  },
  {
   "cell_type": "code",
   "execution_count": 76,
   "metadata": {},
   "outputs": [
    {
     "data": {
      "text/html": [
       "<table>\n",
       "<thead><tr><th scope=col>MSSubClass</th><th scope=col>n</th><th scope=col>median</th><th scope=col>freq</th></tr></thead>\n",
       "<tbody>\n",
       "\t<tr><td>180       </td><td> 16       </td><td>3.044522  </td><td> 0.6576243</td></tr>\n",
       "\t<tr><td>160       </td><td>116       </td><td>3.178054  </td><td> 4.7677764</td></tr>\n",
       "\t<tr><td>120       </td><td>150       </td><td>3.761200  </td><td> 6.1652281</td></tr>\n",
       "\t<tr><td>40        </td><td>  5       </td><td>4.007333  </td><td> 0.2055076</td></tr>\n",
       "\t<tr><td>45        </td><td> 18       </td><td>4.007333  </td><td> 0.7398274</td></tr>\n",
       "\t<tr><td>190       </td><td> 57       </td><td>4.094345  </td><td> 2.3427867</td></tr>\n",
       "\t<tr><td>30        </td><td>126       </td><td>4.094345  </td><td> 5.1787916</td></tr>\n",
       "\t<tr><td>50        </td><td>262       </td><td>4.094345  </td><td>10.7685984</td></tr>\n",
       "\t<tr><td>70        </td><td>117       </td><td>4.094345  </td><td> 4.8088779</td></tr>\n",
       "\t<tr><td>75        </td><td> 21       </td><td>4.174387  </td><td> 0.8631319</td></tr>\n",
       "\t<tr><td>90        </td><td> 92       </td><td>4.248495  </td><td> 3.7813399</td></tr>\n",
       "\t<tr><td>85        </td><td> 32       </td><td>4.276666  </td><td> 1.3152487</td></tr>\n",
       "\t<tr><td>20        </td><td>894       </td><td>4.317488  </td><td>36.7447596</td></tr>\n",
       "\t<tr><td>60        </td><td>442       </td><td>4.317488  </td><td>18.1668722</td></tr>\n",
       "\t<tr><td>80        </td><td> 85       </td><td>4.356709  </td><td> 3.4936293</td></tr>\n",
       "</tbody>\n",
       "</table>\n"
      ],
      "text/latex": [
       "\\begin{tabular}{r|llll}\n",
       " MSSubClass & n & median & freq\\\\\n",
       "\\hline\n",
       "\t 180        &  16        & 3.044522   &  0.6576243\\\\\n",
       "\t 160        & 116        & 3.178054   &  4.7677764\\\\\n",
       "\t 120        & 150        & 3.761200   &  6.1652281\\\\\n",
       "\t 40         &   5        & 4.007333   &  0.2055076\\\\\n",
       "\t 45         &  18        & 4.007333   &  0.7398274\\\\\n",
       "\t 190        &  57        & 4.094345   &  2.3427867\\\\\n",
       "\t 30         & 126        & 4.094345   &  5.1787916\\\\\n",
       "\t 50         & 262        & 4.094345   & 10.7685984\\\\\n",
       "\t 70         & 117        & 4.094345   &  4.8088779\\\\\n",
       "\t 75         &  21        & 4.174387   &  0.8631319\\\\\n",
       "\t 90         &  92        & 4.248495   &  3.7813399\\\\\n",
       "\t 85         &  32        & 4.276666   &  1.3152487\\\\\n",
       "\t 20         & 894        & 4.317488   & 36.7447596\\\\\n",
       "\t 60         & 442        & 4.317488   & 18.1668722\\\\\n",
       "\t 80         &  85        & 4.356709   &  3.4936293\\\\\n",
       "\\end{tabular}\n"
      ],
      "text/markdown": [
       "\n",
       "MSSubClass | n | median | freq | \n",
       "|---|---|---|---|---|---|---|---|---|---|---|---|---|---|---|\n",
       "| 180        |  16        | 3.044522   |  0.6576243 | \n",
       "| 160        | 116        | 3.178054   |  4.7677764 | \n",
       "| 120        | 150        | 3.761200   |  6.1652281 | \n",
       "| 40         |   5        | 4.007333   |  0.2055076 | \n",
       "| 45         |  18        | 4.007333   |  0.7398274 | \n",
       "| 190        |  57        | 4.094345   |  2.3427867 | \n",
       "| 30         | 126        | 4.094345   |  5.1787916 | \n",
       "| 50         | 262        | 4.094345   | 10.7685984 | \n",
       "| 70         | 117        | 4.094345   |  4.8088779 | \n",
       "| 75         |  21        | 4.174387   |  0.8631319 | \n",
       "| 90         |  92        | 4.248495   |  3.7813399 | \n",
       "| 85         |  32        | 4.276666   |  1.3152487 | \n",
       "| 20         | 894        | 4.317488   | 36.7447596 | \n",
       "| 60         | 442        | 4.317488   | 18.1668722 | \n",
       "| 80         |  85        | 4.356709   |  3.4936293 | \n",
       "\n",
       "\n"
      ],
      "text/plain": [
       "   MSSubClass n   median   freq      \n",
       "1  180         16 3.044522  0.6576243\n",
       "2  160        116 3.178054  4.7677764\n",
       "3  120        150 3.761200  6.1652281\n",
       "4  40           5 4.007333  0.2055076\n",
       "5  45          18 4.007333  0.7398274\n",
       "6  190         57 4.094345  2.3427867\n",
       "7  30         126 4.094345  5.1787916\n",
       "8  50         262 4.094345 10.7685984\n",
       "9  70         117 4.094345  4.8088779\n",
       "10 75          21 4.174387  0.8631319\n",
       "11 90          92 4.248495  3.7813399\n",
       "12 85          32 4.276666  1.3152487\n",
       "13 20         894 4.317488 36.7447596\n",
       "14 60         442 4.317488 18.1668722\n",
       "15 80          85 4.356709  3.4936293"
      ]
     },
     "metadata": {},
     "output_type": "display_data"
    }
   ],
   "source": [
    "df.LotFrontage %>% select(MSSubClass, LotFrontage.log) %>%\n",
    "group_by(MSSubClass) %>%\n",
    "summarise(n = n(), median = median(LotFrontage.log)) %>%\n",
    "mutate(freq = (n / sum(n)) * 100) %>%\n",
    "arrange(median)"
   ]
  },
  {
   "cell_type": "code",
   "execution_count": 78,
   "metadata": {},
   "outputs": [
    {
     "data": {
      "text/html": [
       "<table>\n",
       "<thead><tr><th scope=col>MSSubClass2</th><th scope=col>n</th><th scope=col>median</th></tr></thead>\n",
       "<tbody>\n",
       "\t<tr><td>A       </td><td>894     </td><td>4.317488</td></tr>\n",
       "\t<tr><td>B       </td><td>672     </td><td>4.317488</td></tr>\n",
       "\t<tr><td>C       </td><td>867     </td><td>4.007333</td></tr>\n",
       "</tbody>\n",
       "</table>\n"
      ],
      "text/latex": [
       "\\begin{tabular}{r|lll}\n",
       " MSSubClass2 & n & median\\\\\n",
       "\\hline\n",
       "\t A        & 894      & 4.317488\\\\\n",
       "\t B        & 672      & 4.317488\\\\\n",
       "\t C        & 867      & 4.007333\\\\\n",
       "\\end{tabular}\n"
      ],
      "text/markdown": [
       "\n",
       "MSSubClass2 | n | median | \n",
       "|---|---|---|\n",
       "| A        | 894      | 4.317488 | \n",
       "| B        | 672      | 4.317488 | \n",
       "| C        | 867      | 4.007333 | \n",
       "\n",
       "\n"
      ],
      "text/plain": [
       "  MSSubClass2 n   median  \n",
       "1 A           894 4.317488\n",
       "2 B           672 4.317488\n",
       "3 C           867 4.007333"
      ]
     },
     "metadata": {},
     "output_type": "display_data"
    },
    {
     "data": {
      "text/plain": [
       "\n",
       "Call:\n",
       "lm(formula = LotFrontage.log ~ LotArea.log + MSSubClass2, data = .)\n",
       "\n",
       "Residuals:\n",
       "     Min       1Q   Median       3Q      Max \n",
       "-1.25359 -0.09317  0.01800  0.11241  1.30736 \n",
       "\n",
       "Coefficients:\n",
       "              Estimate Std. Error t value Pr(>|t|)    \n",
       "(Intercept)  -0.078392   0.095077  -0.825    0.410    \n",
       "LotArea.log   0.476148   0.010251  46.447   <2e-16 ***\n",
       "MSSubClass2B -0.001931   0.011228  -0.172    0.863    \n",
       "MSSubClass2C -0.161562   0.011693 -13.817   <2e-16 ***\n",
       "---\n",
       "Signif. codes:  0 ‘***’ 0.001 ‘**’ 0.01 ‘*’ 0.05 ‘.’ 0.1 ‘ ’ 1\n",
       "\n",
       "Residual standard error: 0.2199 on 2429 degrees of freedom\n",
       "Multiple R-squared:  0.6226,\tAdjusted R-squared:  0.6222 \n",
       "F-statistic:  1336 on 3 and 2429 DF,  p-value: < 2.2e-16\n"
      ]
     },
     "metadata": {},
     "output_type": "display_data"
    },
    {
     "data": {
      "text/html": [
       "117.466038390053"
      ],
      "text/latex": [
       "117.466038390053"
      ],
      "text/markdown": [
       "117.466038390053"
      ],
      "text/plain": [
       "[1] 117.466"
      ]
     },
     "metadata": {},
     "output_type": "display_data"
    }
   ],
   "source": [
    "df <- df.LotFrontage %>%\n",
    "mutate(\n",
    "    MSSubClass2 = case_when(\n",
    "        MSSubClass == '20' ~ 'A',\n",
    "        MSSubClass %in% c('60', '80', '85', '90', '75') ~ 'B',\n",
    "        TRUE ~ 'C'\n",
    ")) \n",
    "\n",
    "df %>%\n",
    "select(MSSubClass2, MSSubClass, LotFrontage.log) %>%\n",
    "group_by(MSSubClass2) %>%\n",
    "summarise(n = n(), median = median(LotFrontage.log))\n",
    "\n",
    "df %>% \n",
    "lm(LotFrontage.log ~ LotArea.log + MSSubClass2, data = .) -> model\n",
    "\n",
    "model %>% summary\n",
    "sum(model$residuals ^ 2)"
   ]
  },
  {
   "cell_type": "markdown",
   "metadata": {},
   "source": [
    "# averaging trick"
   ]
  },
  {
   "cell_type": "code",
   "execution_count": 79,
   "metadata": {},
   "outputs": [
    {
     "data": {
      "text/plain": [
       "\n",
       "Call:\n",
       "lm(formula = LotFrontage.log ~ LotArea.log + MSSubClass.avg, \n",
       "    data = .)\n",
       "\n",
       "Residuals:\n",
       "     Min       1Q   Median       3Q      Max \n",
       "-1.02247 -0.10112  0.00395  0.10651  1.13561 \n",
       "\n",
       "Coefficients:\n",
       "               Estimate Std. Error t value Pr(>|t|)    \n",
       "(Intercept)    -1.01192    0.07714  -13.12   <2e-16 ***\n",
       "LotArea.log     0.33655    0.01238   27.18   <2e-16 ***\n",
       "MSSubClass.avg  0.51427    0.02168   23.72   <2e-16 ***\n",
       "---\n",
       "Signif. codes:  0 ‘***’ 0.001 ‘**’ 0.01 ‘*’ 0.05 ‘.’ 0.1 ‘ ’ 1\n",
       "\n",
       "Residual standard error: 0.2072 on 2430 degrees of freedom\n",
       "Multiple R-squared:  0.6648,\tAdjusted R-squared:  0.6645 \n",
       "F-statistic:  2410 on 2 and 2430 DF,  p-value: < 2.2e-16\n"
      ]
     },
     "metadata": {},
     "output_type": "display_data"
    },
    {
     "data": {
      "text/html": [
       "104.341854941558"
      ],
      "text/latex": [
       "104.341854941558"
      ],
      "text/markdown": [
       "104.341854941558"
      ],
      "text/plain": [
       "[1] 104.3419"
      ]
     },
     "metadata": {},
     "output_type": "display_data"
    }
   ],
   "source": [
    "df <- df.LotFrontage %>%\n",
    "group_by(MSSubClass) %>%\n",
    "mutate(MSSubClass.avg = median(LotFrontage.log))\n",
    "\n",
    "df %>% \n",
    "lm(LotFrontage.log ~ LotArea.log + MSSubClass.avg, data = .) -> model\n",
    "\n",
    "model %>% summary\n",
    "sum(model$residuals ^ 2)"
   ]
  },
  {
   "cell_type": "code",
   "execution_count": 80,
   "metadata": {},
   "outputs": [
    {
     "data": {
      "text/plain": [
       "\n",
       "Call:\n",
       "lm(formula = LotFrontage.log ~ LotArea.log + MSSubClass.A + MSSubClass.B + \n",
       "    MSSubClass.C, data = .)\n",
       "\n",
       "Residuals:\n",
       "    Min      1Q  Median      3Q     Max \n",
       "-1.0197 -0.1013  0.0035  0.1052  1.1386 \n",
       "\n",
       "Coefficients:\n",
       "             Estimate Std. Error t value Pr(>|t|)    \n",
       "(Intercept)  -0.99196    0.08661  -11.45   <2e-16 ***\n",
       "LotArea.log   0.33690    0.01242   27.12   <2e-16 ***\n",
       "MSSubClass.A  0.50982    0.02302   22.14   <2e-16 ***\n",
       "MSSubClass.B  0.50812    0.02338   21.73   <2e-16 ***\n",
       "MSSubClass.C  0.50795    0.02410   21.07   <2e-16 ***\n",
       "---\n",
       "Signif. codes:  0 ‘***’ 0.001 ‘**’ 0.01 ‘*’ 0.05 ‘.’ 0.1 ‘ ’ 1\n",
       "\n",
       "Residual standard error: 0.2073 on 2428 degrees of freedom\n",
       "Multiple R-squared:  0.6649,\tAdjusted R-squared:  0.6643 \n",
       "F-statistic:  1204 on 4 and 2428 DF,  p-value: < 2.2e-16\n"
      ]
     },
     "metadata": {},
     "output_type": "display_data"
    },
    {
     "data": {
      "text/html": [
       "104.314438377578"
      ],
      "text/latex": [
       "104.314438377578"
      ],
      "text/markdown": [
       "104.314438377578"
      ],
      "text/plain": [
       "[1] 104.3144"
      ]
     },
     "metadata": {},
     "output_type": "display_data"
    }
   ],
   "source": [
    "df <- df.LotFrontage %>%\n",
    "select(LotFrontage.log, LotArea.log, MSSubClass) %>%\n",
    "mutate(\n",
    "    MSSubClass2 = case_when(\n",
    "        MSSubClass == '20' ~ 'A',\n",
    "        MSSubClass %in% c('60', '50') ~ 'B',\n",
    "        TRUE ~ 'C'\n",
    ")) %>%\n",
    "group_by(MSSubClass) %>%\n",
    "mutate(\n",
    "    MSSubClass.avg = median(LotFrontage.log),\n",
    "    MSSubClass.A = ifelse(MSSubClass2 == 'A', MSSubClass.avg, 0),\n",
    "    MSSubClass.B = ifelse(MSSubClass2 == 'B', MSSubClass.avg, 0),\n",
    "    MSSubClass.C = ifelse(MSSubClass2 == 'C', MSSubClass.avg, 0)\n",
    ") \n",
    "\n",
    "df %>% \n",
    "lm(LotFrontage.log ~ LotArea.log + MSSubClass.A + MSSubClass.B + MSSubClass.C, data = .) -> model\n",
    "\n",
    "model %>% summary\n",
    "sum(model$residuals ^ 2)"
   ]
  },
  {
   "cell_type": "code",
   "execution_count": 81,
   "metadata": {},
   "outputs": [
    {
     "data": {
      "text/plain": [
       "\n",
       "Call:\n",
       "lm(formula = LotFrontage.log ~ LotArea.log + MSSubClass.A + MSSubClass.B + \n",
       "    MSSubClass.C, data = .)\n",
       "\n",
       "Residuals:\n",
       "     Min       1Q   Median       3Q      Max \n",
       "-1.03247 -0.09346  0.00203  0.10397  1.15374 \n",
       "\n",
       "Coefficients:\n",
       "             Estimate Std. Error t value Pr(>|t|)    \n",
       "(Intercept)  -0.89001    0.09238  -9.635   <2e-16 ***\n",
       "LotArea.log   0.33859    0.01240  27.300   <2e-16 ***\n",
       "MSSubClass.A  0.48259    0.02535  19.037   <2e-16 ***\n",
       "MSSubClass.B  0.48320    0.02542  19.009   <2e-16 ***\n",
       "MSSubClass.C  0.47592    0.02697  17.649   <2e-16 ***\n",
       "---\n",
       "Signif. codes:  0 ‘***’ 0.001 ‘**’ 0.01 ‘*’ 0.05 ‘.’ 0.1 ‘ ’ 1\n",
       "\n",
       "Residual standard error: 0.2071 on 2428 degrees of freedom\n",
       "Multiple R-squared:  0.6656,\tAdjusted R-squared:  0.665 \n",
       "F-statistic:  1208 on 4 and 2428 DF,  p-value: < 2.2e-16\n"
      ]
     },
     "metadata": {},
     "output_type": "display_data"
    },
    {
     "data": {
      "text/html": [
       "104.0921827399"
      ],
      "text/latex": [
       "104.0921827399"
      ],
      "text/markdown": [
       "104.0921827399"
      ],
      "text/plain": [
       "[1] 104.0922"
      ]
     },
     "metadata": {},
     "output_type": "display_data"
    }
   ],
   "source": [
    "df <- df.LotFrontage %>%\n",
    "select(LotFrontage.log, LotArea.log, MSSubClass) %>%\n",
    "mutate(\n",
    "    MSSubClass2 = case_when(\n",
    "        MSSubClass == '20' ~ 'A',\n",
    "        MSSubClass %in% c('60', '80', '85', '90', '75') ~ 'B',\n",
    "        TRUE ~ 'C'\n",
    ")) %>%\n",
    "group_by(MSSubClass) %>%\n",
    "mutate(\n",
    "    MSSubClass.avg = median(LotFrontage.log),\n",
    "    MSSubClass.A = ifelse(MSSubClass2 == 'A', MSSubClass.avg, 0),\n",
    "    MSSubClass.B = ifelse(MSSubClass2 == 'B', MSSubClass.avg, 0),\n",
    "    MSSubClass.C = ifelse(MSSubClass2 == 'C', MSSubClass.avg, 0)\n",
    ") \n",
    "\n",
    "df %>% \n",
    "lm(LotFrontage.log ~ LotArea.log + MSSubClass.A + MSSubClass.B + MSSubClass.C, data = .) -> model\n",
    "\n",
    "model %>% summary\n",
    "sum(model$residuals ^ 2)"
   ]
  },
  {
   "cell_type": "markdown",
   "metadata": {},
   "source": [
    "# ~ LotArea.log + Neighborhood"
   ]
  },
  {
   "cell_type": "code",
   "execution_count": 82,
   "metadata": {},
   "outputs": [
    {
     "data": {
      "text/plain": [
       "\n",
       "Call:\n",
       "lm(formula = LotFrontage.log ~ LotArea.log + Neighborhood, data = .)\n",
       "\n",
       "Residuals:\n",
       "     Min       1Q   Median       3Q      Max \n",
       "-1.16061 -0.09468  0.01633  0.11166  1.22417 \n",
       "\n",
       "Coefficients:\n",
       "                     Estimate Std. Error t value Pr(>|t|)    \n",
       "(Intercept)          0.067486   0.111318   0.606  0.54441    \n",
       "LotArea.log          0.464425   0.012320  37.695  < 2e-16 ***\n",
       "NeighborhoodBlueste -0.339746   0.084339  -4.028 5.79e-05 ***\n",
       "NeighborhoodBrDale  -0.488368   0.063186  -7.729 1.58e-14 ***\n",
       "NeighborhoodBrkSide -0.147554   0.054082  -2.728  0.00641 ** \n",
       "NeighborhoodClearCr -0.123757   0.071417  -1.733  0.08324 .  \n",
       "NeighborhoodCollgCr -0.091977   0.052392  -1.756  0.07929 .  \n",
       "NeighborhoodCrawfor -0.110890   0.055602  -1.994  0.04623 *  \n",
       "NeighborhoodEdwards -0.143807   0.052621  -2.733  0.00632 ** \n",
       "NeighborhoodGilbert -0.119620   0.054631  -2.190  0.02865 *  \n",
       "NeighborhoodIDOTRR  -0.132662   0.054895  -2.417  0.01574 *  \n",
       "NeighborhoodMeadowV -0.384902   0.061953  -6.213 6.11e-10 ***\n",
       "NeighborhoodMitchel -0.107018   0.055515  -1.928  0.05400 .  \n",
       "NeighborhoodNAmes   -0.021053   0.051420  -0.409  0.68226    \n",
       "NeighborhoodNoRidge  0.052206   0.059038   0.884  0.37664    \n",
       "NeighborhoodNPkVill -0.408335   0.067993  -6.006 2.20e-09 ***\n",
       "NeighborhoodNridgHt  0.005913   0.053310   0.111  0.91169    \n",
       "NeighborhoodNWAmes   0.000550   0.055912   0.010  0.99215    \n",
       "NeighborhoodOldTown -0.126687   0.051655  -2.453  0.01426 *  \n",
       "NeighborhoodSawyer  -0.051515   0.054934  -0.938  0.34846    \n",
       "NeighborhoodSawyerW -0.092871   0.054533  -1.703  0.08869 .  \n",
       "NeighborhoodSomerst -0.101450   0.052268  -1.941  0.05238 .  \n",
       "NeighborhoodStoneBr -0.267238   0.059656  -4.480 7.83e-06 ***\n",
       "NeighborhoodSWISU   -0.128273   0.059335  -2.162  0.03073 *  \n",
       "NeighborhoodTimber  -0.090655   0.058697  -1.544  0.12261    \n",
       "NeighborhoodVeenker -0.308534   0.074830  -4.123 3.86e-05 ***\n",
       "---\n",
       "Signif. codes:  0 ‘***’ 0.001 ‘**’ 0.01 ‘*’ 0.05 ‘.’ 0.1 ‘ ’ 1\n",
       "\n",
       "Residual standard error: 0.2173 on 2407 degrees of freedom\n",
       "Multiple R-squared:  0.6349,\tAdjusted R-squared:  0.6311 \n",
       "F-statistic: 167.5 on 25 and 2407 DF,  p-value: < 2.2e-16\n"
      ]
     },
     "metadata": {},
     "output_type": "display_data"
    },
    {
     "data": {
      "text/html": [
       "113.634346098486"
      ],
      "text/latex": [
       "113.634346098486"
      ],
      "text/markdown": [
       "113.634346098486"
      ],
      "text/plain": [
       "[1] 113.6343"
      ]
     },
     "metadata": {},
     "output_type": "display_data"
    }
   ],
   "source": [
    "df.LotFrontage %>% \n",
    "select(LotFrontage.log, LotArea.log, Neighborhood) %>%\n",
    "lm(LotFrontage.log ~ LotArea.log + Neighborhood, data = .) -> model\n",
    "\n",
    "model %>% summary\n",
    "sum(model$residuals ^ 2)"
   ]
  },
  {
   "cell_type": "markdown",
   "metadata": {},
   "source": [
    "## merging levels based on frequency"
   ]
  },
  {
   "cell_type": "code",
   "execution_count": 17,
   "metadata": {},
   "outputs": [
    {
     "data": {
      "text/html": [
       "<table>\n",
       "<thead><tr><th scope=col>Neighborhood</th><th scope=col>n</th><th scope=col>median</th><th scope=col>freq</th><th scope=col>cumfreq</th></tr></thead>\n",
       "<tbody>\n",
       "\t<tr><td>Blueste    </td><td> 10        </td><td>3.178054   </td><td> 0.4110152 </td><td>  0.4110152</td></tr>\n",
       "\t<tr><td>Veenker    </td><td> 16        </td><td>4.382027   </td><td> 0.6576243 </td><td>  1.0686395</td></tr>\n",
       "\t<tr><td>Blmngtn    </td><td> 20        </td><td>3.761200   </td><td> 0.8220304 </td><td>  1.8906700</td></tr>\n",
       "\t<tr><td>ClearCr    </td><td> 20        </td><td>4.388238   </td><td> 0.8220304 </td><td>  2.7127004</td></tr>\n",
       "\t<tr><td>NPkVill    </td><td> 21        </td><td>3.178054   </td><td> 0.8631319 </td><td>  3.5758323</td></tr>\n",
       "\t<tr><td>BrDale     </td><td> 30        </td><td>3.044522   </td><td> 1.2330456 </td><td>  4.8088779</td></tr>\n",
       "\t<tr><td>MeadowV    </td><td> 33        </td><td>3.044522   </td><td> 1.3563502 </td><td>  6.1652281</td></tr>\n",
       "\t<tr><td>SWISU      </td><td> 44        </td><td>4.094345   </td><td> 1.8084669 </td><td>  7.9736950</td></tr>\n",
       "\t<tr><td>StoneBr    </td><td> 46        </td><td>4.094345   </td><td> 1.8906700 </td><td>  9.8643650</td></tr>\n",
       "\t<tr><td>NoRidge    </td><td> 54        </td><td>4.488636   </td><td> 2.2194821 </td><td> 12.0838471</td></tr>\n",
       "\t<tr><td>Timber     </td><td> 57        </td><td>4.406719   </td><td> 2.3427867 </td><td> 14.4266338</td></tr>\n",
       "\t<tr><td>Crawfor    </td><td> 83        </td><td>4.248495   </td><td> 3.4114262 </td><td> 17.8380600</td></tr>\n",
       "\t<tr><td>NWAmes     </td><td> 85        </td><td>4.382027   </td><td> 3.4936293 </td><td> 21.3316893</td></tr>\n",
       "\t<tr><td>IDOTRR     </td><td> 87        </td><td>4.094345   </td><td> 3.5758323 </td><td> 24.9075216</td></tr>\n",
       "\t<tr><td>Mitchel    </td><td> 90        </td><td>4.304065   </td><td> 3.6991369 </td><td> 28.6066584</td></tr>\n",
       "\t<tr><td>BrkSide    </td><td> 95        </td><td>3.931826   </td><td> 3.9046445 </td><td> 32.5113029</td></tr>\n",
       "\t<tr><td>Sawyer     </td><td> 98        </td><td>4.276666   </td><td> 4.0279490 </td><td> 36.5392520</td></tr>\n",
       "\t<tr><td>SawyerW    </td><td>106        </td><td>4.204693   </td><td> 4.3567612 </td><td> 40.8960132</td></tr>\n",
       "\t<tr><td>Gilbert    </td><td>111        </td><td>4.158883   </td><td> 4.5622688 </td><td> 45.4582820</td></tr>\n",
       "\t<tr><td>Somerst    </td><td>162        </td><td>4.283563   </td><td> 6.6584464 </td><td> 52.1167283</td></tr>\n",
       "\t<tr><td>NridgHt    </td><td>163        </td><td>4.521789   </td><td> 6.6995479 </td><td> 58.8162762</td></tr>\n",
       "\t<tr><td>Edwards    </td><td>178        </td><td>4.174387   </td><td> 7.3160707 </td><td> 66.1323469</td></tr>\n",
       "\t<tr><td>CollgCr    </td><td>220        </td><td>4.248495   </td><td> 9.0423346 </td><td> 75.1746815</td></tr>\n",
       "\t<tr><td>OldTown    </td><td>229        </td><td>4.094345   </td><td> 9.4122483 </td><td> 84.5869297</td></tr>\n",
       "\t<tr><td>NAmes      </td><td>375        </td><td>4.290459   </td><td>15.4130703 </td><td>100.0000000</td></tr>\n",
       "</tbody>\n",
       "</table>\n"
      ],
      "text/latex": [
       "\\begin{tabular}{r|lllll}\n",
       " Neighborhood & n & median & freq & cumfreq\\\\\n",
       "\\hline\n",
       "\t Blueste     &  10         & 3.178054    &  0.4110152  &   0.4110152\\\\\n",
       "\t Veenker     &  16         & 4.382027    &  0.6576243  &   1.0686395\\\\\n",
       "\t Blmngtn     &  20         & 3.761200    &  0.8220304  &   1.8906700\\\\\n",
       "\t ClearCr     &  20         & 4.388238    &  0.8220304  &   2.7127004\\\\\n",
       "\t NPkVill     &  21         & 3.178054    &  0.8631319  &   3.5758323\\\\\n",
       "\t BrDale      &  30         & 3.044522    &  1.2330456  &   4.8088779\\\\\n",
       "\t MeadowV     &  33         & 3.044522    &  1.3563502  &   6.1652281\\\\\n",
       "\t SWISU       &  44         & 4.094345    &  1.8084669  &   7.9736950\\\\\n",
       "\t StoneBr     &  46         & 4.094345    &  1.8906700  &   9.8643650\\\\\n",
       "\t NoRidge     &  54         & 4.488636    &  2.2194821  &  12.0838471\\\\\n",
       "\t Timber      &  57         & 4.406719    &  2.3427867  &  14.4266338\\\\\n",
       "\t Crawfor     &  83         & 4.248495    &  3.4114262  &  17.8380600\\\\\n",
       "\t NWAmes      &  85         & 4.382027    &  3.4936293  &  21.3316893\\\\\n",
       "\t IDOTRR      &  87         & 4.094345    &  3.5758323  &  24.9075216\\\\\n",
       "\t Mitchel     &  90         & 4.304065    &  3.6991369  &  28.6066584\\\\\n",
       "\t BrkSide     &  95         & 3.931826    &  3.9046445  &  32.5113029\\\\\n",
       "\t Sawyer      &  98         & 4.276666    &  4.0279490  &  36.5392520\\\\\n",
       "\t SawyerW     & 106         & 4.204693    &  4.3567612  &  40.8960132\\\\\n",
       "\t Gilbert     & 111         & 4.158883    &  4.5622688  &  45.4582820\\\\\n",
       "\t Somerst     & 162         & 4.283563    &  6.6584464  &  52.1167283\\\\\n",
       "\t NridgHt     & 163         & 4.521789    &  6.6995479  &  58.8162762\\\\\n",
       "\t Edwards     & 178         & 4.174387    &  7.3160707  &  66.1323469\\\\\n",
       "\t CollgCr     & 220         & 4.248495    &  9.0423346  &  75.1746815\\\\\n",
       "\t OldTown     & 229         & 4.094345    &  9.4122483  &  84.5869297\\\\\n",
       "\t NAmes       & 375         & 4.290459    & 15.4130703  & 100.0000000\\\\\n",
       "\\end{tabular}\n"
      ],
      "text/markdown": [
       "\n",
       "Neighborhood | n | median | freq | cumfreq | \n",
       "|---|---|---|---|---|---|---|---|---|---|---|---|---|---|---|---|---|---|---|---|---|---|---|---|---|\n",
       "| Blueste     |  10         | 3.178054    |  0.4110152  |   0.4110152 | \n",
       "| Veenker     |  16         | 4.382027    |  0.6576243  |   1.0686395 | \n",
       "| Blmngtn     |  20         | 3.761200    |  0.8220304  |   1.8906700 | \n",
       "| ClearCr     |  20         | 4.388238    |  0.8220304  |   2.7127004 | \n",
       "| NPkVill     |  21         | 3.178054    |  0.8631319  |   3.5758323 | \n",
       "| BrDale      |  30         | 3.044522    |  1.2330456  |   4.8088779 | \n",
       "| MeadowV     |  33         | 3.044522    |  1.3563502  |   6.1652281 | \n",
       "| SWISU       |  44         | 4.094345    |  1.8084669  |   7.9736950 | \n",
       "| StoneBr     |  46         | 4.094345    |  1.8906700  |   9.8643650 | \n",
       "| NoRidge     |  54         | 4.488636    |  2.2194821  |  12.0838471 | \n",
       "| Timber      |  57         | 4.406719    |  2.3427867  |  14.4266338 | \n",
       "| Crawfor     |  83         | 4.248495    |  3.4114262  |  17.8380600 | \n",
       "| NWAmes      |  85         | 4.382027    |  3.4936293  |  21.3316893 | \n",
       "| IDOTRR      |  87         | 4.094345    |  3.5758323  |  24.9075216 | \n",
       "| Mitchel     |  90         | 4.304065    |  3.6991369  |  28.6066584 | \n",
       "| BrkSide     |  95         | 3.931826    |  3.9046445  |  32.5113029 | \n",
       "| Sawyer      |  98         | 4.276666    |  4.0279490  |  36.5392520 | \n",
       "| SawyerW     | 106         | 4.204693    |  4.3567612  |  40.8960132 | \n",
       "| Gilbert     | 111         | 4.158883    |  4.5622688  |  45.4582820 | \n",
       "| Somerst     | 162         | 4.283563    |  6.6584464  |  52.1167283 | \n",
       "| NridgHt     | 163         | 4.521789    |  6.6995479  |  58.8162762 | \n",
       "| Edwards     | 178         | 4.174387    |  7.3160707  |  66.1323469 | \n",
       "| CollgCr     | 220         | 4.248495    |  9.0423346  |  75.1746815 | \n",
       "| OldTown     | 229         | 4.094345    |  9.4122483  |  84.5869297 | \n",
       "| NAmes       | 375         | 4.290459    | 15.4130703  | 100.0000000 | \n",
       "\n",
       "\n"
      ],
      "text/plain": [
       "   Neighborhood n   median   freq       cumfreq    \n",
       "1  Blueste       10 3.178054  0.4110152   0.4110152\n",
       "2  Veenker       16 4.382027  0.6576243   1.0686395\n",
       "3  Blmngtn       20 3.761200  0.8220304   1.8906700\n",
       "4  ClearCr       20 4.388238  0.8220304   2.7127004\n",
       "5  NPkVill       21 3.178054  0.8631319   3.5758323\n",
       "6  BrDale        30 3.044522  1.2330456   4.8088779\n",
       "7  MeadowV       33 3.044522  1.3563502   6.1652281\n",
       "8  SWISU         44 4.094345  1.8084669   7.9736950\n",
       "9  StoneBr       46 4.094345  1.8906700   9.8643650\n",
       "10 NoRidge       54 4.488636  2.2194821  12.0838471\n",
       "11 Timber        57 4.406719  2.3427867  14.4266338\n",
       "12 Crawfor       83 4.248495  3.4114262  17.8380600\n",
       "13 NWAmes        85 4.382027  3.4936293  21.3316893\n",
       "14 IDOTRR        87 4.094345  3.5758323  24.9075216\n",
       "15 Mitchel       90 4.304065  3.6991369  28.6066584\n",
       "16 BrkSide       95 3.931826  3.9046445  32.5113029\n",
       "17 Sawyer        98 4.276666  4.0279490  36.5392520\n",
       "18 SawyerW      106 4.204693  4.3567612  40.8960132\n",
       "19 Gilbert      111 4.158883  4.5622688  45.4582820\n",
       "20 Somerst      162 4.283563  6.6584464  52.1167283\n",
       "21 NridgHt      163 4.521789  6.6995479  58.8162762\n",
       "22 Edwards      178 4.174387  7.3160707  66.1323469\n",
       "23 CollgCr      220 4.248495  9.0423346  75.1746815\n",
       "24 OldTown      229 4.094345  9.4122483  84.5869297\n",
       "25 NAmes        375 4.290459 15.4130703 100.0000000"
      ]
     },
     "metadata": {},
     "output_type": "display_data"
    }
   ],
   "source": [
    "df.LotFrontage %>% select(Neighborhood, LotFrontage.log) %>%\n",
    "group_by(Neighborhood) %>%\n",
    "summarise(n = n(), median = median(LotFrontage.log)) %>%\n",
    "mutate(freq = (n / sum(n)) * 100) %>%\n",
    "arrange(n) %>%\n",
    "mutate(cumfreq = cumsum(freq))"
   ]
  },
  {
   "cell_type": "code",
   "execution_count": 31,
   "metadata": {},
   "outputs": [
    {
     "data": {
      "text/html": [
       "<table>\n",
       "<thead><tr><th scope=col>Neighborhood2</th><th scope=col>n</th></tr></thead>\n",
       "<tbody>\n",
       "\t<tr><td>A   </td><td> 791</td></tr>\n",
       "\t<tr><td>B   </td><td> 640</td></tr>\n",
       "\t<tr><td>C   </td><td>1002</td></tr>\n",
       "</tbody>\n",
       "</table>\n"
      ],
      "text/latex": [
       "\\begin{tabular}{r|ll}\n",
       " Neighborhood2 & n\\\\\n",
       "\\hline\n",
       "\t A    &  791\\\\\n",
       "\t B    &  640\\\\\n",
       "\t C    & 1002\\\\\n",
       "\\end{tabular}\n"
      ],
      "text/markdown": [
       "\n",
       "Neighborhood2 | n | \n",
       "|---|---|---|\n",
       "| A    |  791 | \n",
       "| B    |  640 | \n",
       "| C    | 1002 | \n",
       "\n",
       "\n"
      ],
      "text/plain": [
       "  Neighborhood2 n   \n",
       "1 A              791\n",
       "2 B              640\n",
       "3 C             1002"
      ]
     },
     "metadata": {},
     "output_type": "display_data"
    },
    {
     "data": {
      "text/plain": [
       "\n",
       "Call:\n",
       "lm(formula = LotFrontage.log ~ LotArea.log + Neighborhood2, data = .)\n",
       "\n",
       "Residuals:\n",
       "     Min       1Q   Median       3Q      Max \n",
       "-1.28604 -0.12222  0.02109  0.13323  1.24195 \n",
       "\n",
       "Coefficients:\n",
       "               Estimate Std. Error t value Pr(>|t|)    \n",
       "(Intercept)    -0.78494    0.08489  -9.247  < 2e-16 ***\n",
       "LotArea.log     0.54385    0.00943  57.670  < 2e-16 ***\n",
       "Neighborhood2B  0.05860    0.01227   4.774 1.91e-06 ***\n",
       "Neighborhood2C  0.04694    0.01096   4.283 1.92e-05 ***\n",
       "---\n",
       "Signif. codes:  0 ‘***’ 0.001 ‘**’ 0.01 ‘*’ 0.05 ‘.’ 0.1 ‘ ’ 1\n",
       "\n",
       "Residual standard error: 0.2287 on 2429 degrees of freedom\n",
       "Multiple R-squared:  0.5918,\tAdjusted R-squared:  0.5913 \n",
       "F-statistic:  1174 on 3 and 2429 DF,  p-value: < 2.2e-16\n"
      ]
     },
     "metadata": {},
     "output_type": "display_data"
    },
    {
     "data": {
      "text/html": [
       "127.059990248316"
      ],
      "text/latex": [
       "127.059990248316"
      ],
      "text/markdown": [
       "127.059990248316"
      ],
      "text/plain": [
       "[1] 127.06"
      ]
     },
     "metadata": {},
     "output_type": "display_data"
    }
   ],
   "source": [
    "df <- df.LotFrontage %>%\n",
    "select(Neighborhood, LotFrontage.log, LotArea.log) %>%\n",
    "group_by(Neighborhood) %>%\n",
    "mutate(n = n()) %>%\n",
    "mutate(\n",
    "    Neighborhood2 = case_when(\n",
    "        n  <= 95 ~ 'A',\n",
    "        95 < n & n < 178 ~ 'B',\n",
    "        TRUE ~ 'C'\n",
    ")) \n",
    "\n",
    "df %>%\n",
    "group_by(Neighborhood2) %>%\n",
    "summarise(n = n())\n",
    "\n",
    "df %>% \n",
    "lm(LotFrontage.log ~ LotArea.log + Neighborhood2, data = .) -> model\n",
    "\n",
    "model %>% summary\n",
    "sum(model$residuals ^ 2)"
   ]
  },
  {
   "cell_type": "markdown",
   "metadata": {
    "collapsed": true
   },
   "source": [
    "## merging levels based on response"
   ]
  },
  {
   "cell_type": "code",
   "execution_count": 32,
   "metadata": {},
   "outputs": [
    {
     "data": {
      "text/html": [
       "<table>\n",
       "<thead><tr><th scope=col>Neighborhood</th><th scope=col>n</th><th scope=col>median</th><th scope=col>freq</th><th scope=col>cumfreq</th></tr></thead>\n",
       "<tbody>\n",
       "\t<tr><td>BrDale    </td><td> 30       </td><td>3.044522  </td><td> 1.2330456</td><td>  1.233046</td></tr>\n",
       "\t<tr><td>MeadowV   </td><td> 33       </td><td>3.044522  </td><td> 1.3563502</td><td>  2.589396</td></tr>\n",
       "\t<tr><td>Blueste   </td><td> 10       </td><td>3.178054  </td><td> 0.4110152</td><td>  3.000411</td></tr>\n",
       "\t<tr><td>NPkVill   </td><td> 21       </td><td>3.178054  </td><td> 0.8631319</td><td>  3.863543</td></tr>\n",
       "\t<tr><td>Blmngtn   </td><td> 20       </td><td>3.761200  </td><td> 0.8220304</td><td>  4.685573</td></tr>\n",
       "\t<tr><td>BrkSide   </td><td> 95       </td><td>3.931826  </td><td> 3.9046445</td><td>  8.590218</td></tr>\n",
       "\t<tr><td>IDOTRR    </td><td> 87       </td><td>4.094345  </td><td> 3.5758323</td><td> 12.166050</td></tr>\n",
       "\t<tr><td>OldTown   </td><td>229       </td><td>4.094345  </td><td> 9.4122483</td><td> 21.578298</td></tr>\n",
       "\t<tr><td>StoneBr   </td><td> 46       </td><td>4.094345  </td><td> 1.8906700</td><td> 23.468968</td></tr>\n",
       "\t<tr><td>SWISU     </td><td> 44       </td><td>4.094345  </td><td> 1.8084669</td><td> 25.277435</td></tr>\n",
       "\t<tr><td>Gilbert   </td><td>111       </td><td>4.158883  </td><td> 4.5622688</td><td> 29.839704</td></tr>\n",
       "\t<tr><td>Edwards   </td><td>178       </td><td>4.174387  </td><td> 7.3160707</td><td> 37.155775</td></tr>\n",
       "\t<tr><td>SawyerW   </td><td>106       </td><td>4.204693  </td><td> 4.3567612</td><td> 41.512536</td></tr>\n",
       "\t<tr><td>CollgCr   </td><td>220       </td><td>4.248495  </td><td> 9.0423346</td><td> 50.554871</td></tr>\n",
       "\t<tr><td>Crawfor   </td><td> 83       </td><td>4.248495  </td><td> 3.4114262</td><td> 53.966297</td></tr>\n",
       "\t<tr><td>Sawyer    </td><td> 98       </td><td>4.276666  </td><td> 4.0279490</td><td> 57.994246</td></tr>\n",
       "\t<tr><td>Somerst   </td><td>162       </td><td>4.283563  </td><td> 6.6584464</td><td> 64.652692</td></tr>\n",
       "\t<tr><td>NAmes     </td><td>375       </td><td>4.290459  </td><td>15.4130703</td><td> 80.065762</td></tr>\n",
       "\t<tr><td>Mitchel   </td><td> 90       </td><td>4.304065  </td><td> 3.6991369</td><td> 83.764899</td></tr>\n",
       "\t<tr><td>NWAmes    </td><td> 85       </td><td>4.382027  </td><td> 3.4936293</td><td> 87.258529</td></tr>\n",
       "\t<tr><td>Veenker   </td><td> 16       </td><td>4.382027  </td><td> 0.6576243</td><td> 87.916153</td></tr>\n",
       "\t<tr><td>ClearCr   </td><td> 20       </td><td>4.388238  </td><td> 0.8220304</td><td> 88.738183</td></tr>\n",
       "\t<tr><td>Timber    </td><td> 57       </td><td>4.406719  </td><td> 2.3427867</td><td> 91.080970</td></tr>\n",
       "\t<tr><td>NoRidge   </td><td> 54       </td><td>4.488636  </td><td> 2.2194821</td><td> 93.300452</td></tr>\n",
       "\t<tr><td>NridgHt   </td><td>163       </td><td>4.521789  </td><td> 6.6995479</td><td>100.000000</td></tr>\n",
       "</tbody>\n",
       "</table>\n"
      ],
      "text/latex": [
       "\\begin{tabular}{r|lllll}\n",
       " Neighborhood & n & median & freq & cumfreq\\\\\n",
       "\\hline\n",
       "\t BrDale     &  30        & 3.044522   &  1.2330456 &   1.233046\\\\\n",
       "\t MeadowV    &  33        & 3.044522   &  1.3563502 &   2.589396\\\\\n",
       "\t Blueste    &  10        & 3.178054   &  0.4110152 &   3.000411\\\\\n",
       "\t NPkVill    &  21        & 3.178054   &  0.8631319 &   3.863543\\\\\n",
       "\t Blmngtn    &  20        & 3.761200   &  0.8220304 &   4.685573\\\\\n",
       "\t BrkSide    &  95        & 3.931826   &  3.9046445 &   8.590218\\\\\n",
       "\t IDOTRR     &  87        & 4.094345   &  3.5758323 &  12.166050\\\\\n",
       "\t OldTown    & 229        & 4.094345   &  9.4122483 &  21.578298\\\\\n",
       "\t StoneBr    &  46        & 4.094345   &  1.8906700 &  23.468968\\\\\n",
       "\t SWISU      &  44        & 4.094345   &  1.8084669 &  25.277435\\\\\n",
       "\t Gilbert    & 111        & 4.158883   &  4.5622688 &  29.839704\\\\\n",
       "\t Edwards    & 178        & 4.174387   &  7.3160707 &  37.155775\\\\\n",
       "\t SawyerW    & 106        & 4.204693   &  4.3567612 &  41.512536\\\\\n",
       "\t CollgCr    & 220        & 4.248495   &  9.0423346 &  50.554871\\\\\n",
       "\t Crawfor    &  83        & 4.248495   &  3.4114262 &  53.966297\\\\\n",
       "\t Sawyer     &  98        & 4.276666   &  4.0279490 &  57.994246\\\\\n",
       "\t Somerst    & 162        & 4.283563   &  6.6584464 &  64.652692\\\\\n",
       "\t NAmes      & 375        & 4.290459   & 15.4130703 &  80.065762\\\\\n",
       "\t Mitchel    &  90        & 4.304065   &  3.6991369 &  83.764899\\\\\n",
       "\t NWAmes     &  85        & 4.382027   &  3.4936293 &  87.258529\\\\\n",
       "\t Veenker    &  16        & 4.382027   &  0.6576243 &  87.916153\\\\\n",
       "\t ClearCr    &  20        & 4.388238   &  0.8220304 &  88.738183\\\\\n",
       "\t Timber     &  57        & 4.406719   &  2.3427867 &  91.080970\\\\\n",
       "\t NoRidge    &  54        & 4.488636   &  2.2194821 &  93.300452\\\\\n",
       "\t NridgHt    & 163        & 4.521789   &  6.6995479 & 100.000000\\\\\n",
       "\\end{tabular}\n"
      ],
      "text/markdown": [
       "\n",
       "Neighborhood | n | median | freq | cumfreq | \n",
       "|---|---|---|---|---|---|---|---|---|---|---|---|---|---|---|---|---|---|---|---|---|---|---|---|---|\n",
       "| BrDale     |  30        | 3.044522   |  1.2330456 |   1.233046 | \n",
       "| MeadowV    |  33        | 3.044522   |  1.3563502 |   2.589396 | \n",
       "| Blueste    |  10        | 3.178054   |  0.4110152 |   3.000411 | \n",
       "| NPkVill    |  21        | 3.178054   |  0.8631319 |   3.863543 | \n",
       "| Blmngtn    |  20        | 3.761200   |  0.8220304 |   4.685573 | \n",
       "| BrkSide    |  95        | 3.931826   |  3.9046445 |   8.590218 | \n",
       "| IDOTRR     |  87        | 4.094345   |  3.5758323 |  12.166050 | \n",
       "| OldTown    | 229        | 4.094345   |  9.4122483 |  21.578298 | \n",
       "| StoneBr    |  46        | 4.094345   |  1.8906700 |  23.468968 | \n",
       "| SWISU      |  44        | 4.094345   |  1.8084669 |  25.277435 | \n",
       "| Gilbert    | 111        | 4.158883   |  4.5622688 |  29.839704 | \n",
       "| Edwards    | 178        | 4.174387   |  7.3160707 |  37.155775 | \n",
       "| SawyerW    | 106        | 4.204693   |  4.3567612 |  41.512536 | \n",
       "| CollgCr    | 220        | 4.248495   |  9.0423346 |  50.554871 | \n",
       "| Crawfor    |  83        | 4.248495   |  3.4114262 |  53.966297 | \n",
       "| Sawyer     |  98        | 4.276666   |  4.0279490 |  57.994246 | \n",
       "| Somerst    | 162        | 4.283563   |  6.6584464 |  64.652692 | \n",
       "| NAmes      | 375        | 4.290459   | 15.4130703 |  80.065762 | \n",
       "| Mitchel    |  90        | 4.304065   |  3.6991369 |  83.764899 | \n",
       "| NWAmes     |  85        | 4.382027   |  3.4936293 |  87.258529 | \n",
       "| Veenker    |  16        | 4.382027   |  0.6576243 |  87.916153 | \n",
       "| ClearCr    |  20        | 4.388238   |  0.8220304 |  88.738183 | \n",
       "| Timber     |  57        | 4.406719   |  2.3427867 |  91.080970 | \n",
       "| NoRidge    |  54        | 4.488636   |  2.2194821 |  93.300452 | \n",
       "| NridgHt    | 163        | 4.521789   |  6.6995479 | 100.000000 | \n",
       "\n",
       "\n"
      ],
      "text/plain": [
       "   Neighborhood n   median   freq       cumfreq   \n",
       "1  BrDale        30 3.044522  1.2330456   1.233046\n",
       "2  MeadowV       33 3.044522  1.3563502   2.589396\n",
       "3  Blueste       10 3.178054  0.4110152   3.000411\n",
       "4  NPkVill       21 3.178054  0.8631319   3.863543\n",
       "5  Blmngtn       20 3.761200  0.8220304   4.685573\n",
       "6  BrkSide       95 3.931826  3.9046445   8.590218\n",
       "7  IDOTRR        87 4.094345  3.5758323  12.166050\n",
       "8  OldTown      229 4.094345  9.4122483  21.578298\n",
       "9  StoneBr       46 4.094345  1.8906700  23.468968\n",
       "10 SWISU         44 4.094345  1.8084669  25.277435\n",
       "11 Gilbert      111 4.158883  4.5622688  29.839704\n",
       "12 Edwards      178 4.174387  7.3160707  37.155775\n",
       "13 SawyerW      106 4.204693  4.3567612  41.512536\n",
       "14 CollgCr      220 4.248495  9.0423346  50.554871\n",
       "15 Crawfor       83 4.248495  3.4114262  53.966297\n",
       "16 Sawyer        98 4.276666  4.0279490  57.994246\n",
       "17 Somerst      162 4.283563  6.6584464  64.652692\n",
       "18 NAmes        375 4.290459 15.4130703  80.065762\n",
       "19 Mitchel       90 4.304065  3.6991369  83.764899\n",
       "20 NWAmes        85 4.382027  3.4936293  87.258529\n",
       "21 Veenker       16 4.382027  0.6576243  87.916153\n",
       "22 ClearCr       20 4.388238  0.8220304  88.738183\n",
       "23 Timber        57 4.406719  2.3427867  91.080970\n",
       "24 NoRidge       54 4.488636  2.2194821  93.300452\n",
       "25 NridgHt      163 4.521789  6.6995479 100.000000"
      ]
     },
     "metadata": {},
     "output_type": "display_data"
    }
   ],
   "source": [
    "df.LotFrontage %>% select(Neighborhood, LotFrontage.log) %>%\n",
    "group_by(Neighborhood) %>%\n",
    "summarise(n = n(), median = median(LotFrontage.log)) %>%\n",
    "mutate(freq = (n / sum(n)) * 100) %>%\n",
    "arrange(median) %>%\n",
    "mutate(cumfreq = cumsum(freq))"
   ]
  },
  {
   "cell_type": "code",
   "execution_count": 34,
   "metadata": {},
   "outputs": [
    {
     "data": {
      "text/html": [
       "<table>\n",
       "<thead><tr><th scope=col>Neighborhood2</th><th scope=col>n</th></tr></thead>\n",
       "<tbody>\n",
       "\t<tr><td>A  </td><td>726</td></tr>\n",
       "\t<tr><td>B  </td><td>847</td></tr>\n",
       "\t<tr><td>C  </td><td>860</td></tr>\n",
       "</tbody>\n",
       "</table>\n"
      ],
      "text/latex": [
       "\\begin{tabular}{r|ll}\n",
       " Neighborhood2 & n\\\\\n",
       "\\hline\n",
       "\t A   & 726\\\\\n",
       "\t B   & 847\\\\\n",
       "\t C   & 860\\\\\n",
       "\\end{tabular}\n"
      ],
      "text/markdown": [
       "\n",
       "Neighborhood2 | n | \n",
       "|---|---|---|\n",
       "| A   | 726 | \n",
       "| B   | 847 | \n",
       "| C   | 860 | \n",
       "\n",
       "\n"
      ],
      "text/plain": [
       "  Neighborhood2 n  \n",
       "1 A             726\n",
       "2 B             847\n",
       "3 C             860"
      ]
     },
     "metadata": {},
     "output_type": "display_data"
    },
    {
     "data": {
      "text/plain": [
       "\n",
       "Call:\n",
       "lm(formula = LotFrontage.log ~ LotArea.log + Neighborhood2, data = .)\n",
       "\n",
       "Residuals:\n",
       "     Min       1Q   Median       3Q      Max \n",
       "-1.27351 -0.11104  0.02549  0.12207  1.29472 \n",
       "\n",
       "Coefficients:\n",
       "                Estimate Std. Error t value Pr(>|t|)    \n",
       "(Intercept)    -0.565464   0.087551  -6.459 1.27e-10 ***\n",
       "LotArea.log     0.516775   0.009905  52.176  < 2e-16 ***\n",
       "Neighborhood2B  0.054376   0.011806   4.606 4.32e-06 ***\n",
       "Neighborhood2C  0.118089   0.012223   9.661  < 2e-16 ***\n",
       "---\n",
       "Signif. codes:  0 ‘***’ 0.001 ‘**’ 0.01 ‘*’ 0.05 ‘.’ 0.1 ‘ ’ 1\n",
       "\n",
       "Residual standard error: 0.2256 on 2429 degrees of freedom\n",
       "Multiple R-squared:  0.6027,\tAdjusted R-squared:  0.6022 \n",
       "F-statistic:  1228 on 3 and 2429 DF,  p-value: < 2.2e-16\n"
      ]
     },
     "metadata": {},
     "output_type": "display_data"
    },
    {
     "data": {
      "text/html": [
       "123.667313652193"
      ],
      "text/latex": [
       "123.667313652193"
      ],
      "text/markdown": [
       "123.667313652193"
      ],
      "text/plain": [
       "[1] 123.6673"
      ]
     },
     "metadata": {},
     "output_type": "display_data"
    }
   ],
   "source": [
    "df <- df.LotFrontage %>%\n",
    "select(Neighborhood, LotFrontage.log, LotArea.log) %>%\n",
    "group_by(Neighborhood) %>%\n",
    "mutate(median = median(LotFrontage.log)) %>%\n",
    "mutate(\n",
    "    Neighborhood2 = case_when(\n",
    "        median <= 4.16 ~ 'A',\n",
    "        4.16 < median & median < 4.29 ~ 'B',\n",
    "        TRUE ~ 'C'\n",
    ")) \n",
    "\n",
    "df %>%\n",
    "group_by(Neighborhood2) %>%\n",
    "summarise(n = n())\n",
    "\n",
    "df %>% \n",
    "lm(LotFrontage.log ~ LotArea.log + Neighborhood2, data = .) -> model\n",
    "\n",
    "model %>% summary\n",
    "sum(model$residuals ^ 2)"
   ]
  },
  {
   "cell_type": "markdown",
   "metadata": {
    "collapsed": true
   },
   "source": [
    "## averaging trick"
   ]
  },
  {
   "cell_type": "code",
   "execution_count": 35,
   "metadata": {},
   "outputs": [
    {
     "data": {
      "text/plain": [
       "\n",
       "Call:\n",
       "lm(formula = LotFrontage.log ~ LotArea.log + Neighborhood.avg, \n",
       "    data = .)\n",
       "\n",
       "Residuals:\n",
       "     Min       1Q   Median       3Q      Max \n",
       "-1.25630 -0.10107  0.02113  0.12140  1.21467 \n",
       "\n",
       "Coefficients:\n",
       "                 Estimate Std. Error t value Pr(>|t|)    \n",
       "(Intercept)      -1.17368    0.08597  -13.65   <2e-16 ***\n",
       "LotArea.log       0.44854    0.01171   38.32   <2e-16 ***\n",
       "Neighborhood.avg  0.30680    0.02226   13.78   <2e-16 ***\n",
       "---\n",
       "Signif. codes:  0 ‘***’ 0.001 ‘**’ 0.01 ‘*’ 0.05 ‘.’ 0.1 ‘ ’ 1\n",
       "\n",
       "Residual standard error: 0.2215 on 2430 degrees of freedom\n",
       "Multiple R-squared:  0.6171,\tAdjusted R-squared:  0.6168 \n",
       "F-statistic:  1958 on 2 and 2430 DF,  p-value: < 2.2e-16\n"
      ]
     },
     "metadata": {},
     "output_type": "display_data"
    },
    {
     "data": {
      "text/html": [
       "119.181541535858"
      ],
      "text/latex": [
       "119.181541535858"
      ],
      "text/markdown": [
       "119.181541535858"
      ],
      "text/plain": [
       "[1] 119.1815"
      ]
     },
     "metadata": {},
     "output_type": "display_data"
    }
   ],
   "source": [
    "df <- df.LotFrontage %>%\n",
    "group_by(Neighborhood) %>%\n",
    "mutate(Neighborhood.avg = median(LotFrontage.log))\n",
    "\n",
    "df %>% \n",
    "lm(LotFrontage.log ~ LotArea.log + Neighborhood.avg, data = .) -> model\n",
    "\n",
    "model %>% summary\n",
    "sum(model$residuals ^ 2)"
   ]
  },
  {
   "cell_type": "code",
   "execution_count": null,
   "metadata": {
    "collapsed": true
   },
   "outputs": [],
   "source": []
  },
  {
   "cell_type": "code",
   "execution_count": null,
   "metadata": {
    "collapsed": true
   },
   "outputs": [],
   "source": []
  },
  {
   "cell_type": "code",
   "execution_count": null,
   "metadata": {
    "collapsed": true
   },
   "outputs": [],
   "source": []
  },
  {
   "cell_type": "code",
   "execution_count": null,
   "metadata": {
    "collapsed": true
   },
   "outputs": [],
   "source": []
  },
  {
   "cell_type": "code",
   "execution_count": null,
   "metadata": {
    "collapsed": true
   },
   "outputs": [],
   "source": []
  },
  {
   "cell_type": "code",
   "execution_count": null,
   "metadata": {
    "collapsed": true
   },
   "outputs": [],
   "source": []
  },
  {
   "cell_type": "code",
   "execution_count": null,
   "metadata": {
    "collapsed": true
   },
   "outputs": [],
   "source": []
  },
  {
   "cell_type": "code",
   "execution_count": null,
   "metadata": {
    "collapsed": true
   },
   "outputs": [],
   "source": []
  },
  {
   "cell_type": "code",
   "execution_count": null,
   "metadata": {},
   "outputs": [],
   "source": []
  },
  {
   "cell_type": "code",
   "execution_count": null,
   "metadata": {
    "collapsed": true
   },
   "outputs": [],
   "source": []
  },
  {
   "cell_type": "code",
   "execution_count": null,
   "metadata": {
    "collapsed": true
   },
   "outputs": [],
   "source": []
  },
  {
   "cell_type": "code",
   "execution_count": null,
   "metadata": {
    "collapsed": true
   },
   "outputs": [],
   "source": []
  },
  {
   "cell_type": "code",
   "execution_count": null,
   "metadata": {
    "collapsed": true
   },
   "outputs": [],
   "source": []
  },
  {
   "cell_type": "code",
   "execution_count": null,
   "metadata": {
    "collapsed": true
   },
   "outputs": [],
   "source": []
  },
  {
   "cell_type": "code",
   "execution_count": null,
   "metadata": {
    "collapsed": true
   },
   "outputs": [],
   "source": []
  },
  {
   "cell_type": "code",
   "execution_count": null,
   "metadata": {
    "collapsed": true
   },
   "outputs": [],
   "source": []
  },
  {
   "cell_type": "code",
   "execution_count": null,
   "metadata": {
    "collapsed": true
   },
   "outputs": [],
   "source": []
  },
  {
   "cell_type": "code",
   "execution_count": null,
   "metadata": {
    "collapsed": true
   },
   "outputs": [],
   "source": []
  },
  {
   "cell_type": "code",
   "execution_count": null,
   "metadata": {
    "collapsed": true
   },
   "outputs": [],
   "source": []
  },
  {
   "cell_type": "code",
   "execution_count": null,
   "metadata": {
    "collapsed": true
   },
   "outputs": [],
   "source": []
  },
  {
   "cell_type": "code",
   "execution_count": null,
   "metadata": {
    "collapsed": true
   },
   "outputs": [],
   "source": []
  },
  {
   "cell_type": "code",
   "execution_count": null,
   "metadata": {
    "collapsed": true
   },
   "outputs": [],
   "source": []
  },
  {
   "cell_type": "code",
   "execution_count": null,
   "metadata": {
    "collapsed": true
   },
   "outputs": [],
   "source": []
  },
  {
   "cell_type": "code",
   "execution_count": null,
   "metadata": {
    "collapsed": true
   },
   "outputs": [],
   "source": []
  },
  {
   "cell_type": "code",
   "execution_count": null,
   "metadata": {
    "collapsed": true
   },
   "outputs": [],
   "source": []
  },
  {
   "cell_type": "code",
   "execution_count": null,
   "metadata": {
    "collapsed": true
   },
   "outputs": [],
   "source": []
  },
  {
   "cell_type": "code",
   "execution_count": null,
   "metadata": {
    "collapsed": true
   },
   "outputs": [],
   "source": []
  },
  {
   "cell_type": "code",
   "execution_count": null,
   "metadata": {
    "collapsed": true
   },
   "outputs": [],
   "source": []
  },
  {
   "cell_type": "code",
   "execution_count": null,
   "metadata": {
    "collapsed": true
   },
   "outputs": [],
   "source": []
  },
  {
   "cell_type": "code",
   "execution_count": null,
   "metadata": {
    "collapsed": true
   },
   "outputs": [],
   "source": []
  },
  {
   "cell_type": "code",
   "execution_count": null,
   "metadata": {
    "collapsed": true
   },
   "outputs": [],
   "source": []
  },
  {
   "cell_type": "code",
   "execution_count": null,
   "metadata": {
    "collapsed": true
   },
   "outputs": [],
   "source": []
  },
  {
   "cell_type": "code",
   "execution_count": null,
   "metadata": {
    "collapsed": true
   },
   "outputs": [],
   "source": []
  },
  {
   "cell_type": "code",
   "execution_count": null,
   "metadata": {
    "collapsed": true
   },
   "outputs": [],
   "source": []
  },
  {
   "cell_type": "code",
   "execution_count": null,
   "metadata": {
    "collapsed": true
   },
   "outputs": [],
   "source": []
  },
  {
   "cell_type": "code",
   "execution_count": null,
   "metadata": {
    "collapsed": true
   },
   "outputs": [],
   "source": []
  },
  {
   "cell_type": "code",
   "execution_count": null,
   "metadata": {
    "collapsed": true
   },
   "outputs": [],
   "source": []
  },
  {
   "cell_type": "code",
   "execution_count": null,
   "metadata": {
    "collapsed": true
   },
   "outputs": [],
   "source": []
  },
  {
   "cell_type": "code",
   "execution_count": null,
   "metadata": {
    "collapsed": true
   },
   "outputs": [],
   "source": []
  },
  {
   "cell_type": "code",
   "execution_count": null,
   "metadata": {
    "collapsed": true
   },
   "outputs": [],
   "source": []
  },
  {
   "cell_type": "code",
   "execution_count": null,
   "metadata": {
    "collapsed": true
   },
   "outputs": [],
   "source": []
  }
 ],
 "metadata": {
  "kernelspec": {
   "display_name": "R",
   "language": "R",
   "name": "ir"
  },
  "language_info": {
   "codemirror_mode": "r",
   "file_extension": ".r",
   "mimetype": "text/x-r-source",
   "name": "R",
   "pygments_lexer": "r",
   "version": "3.4.0"
  }
 },
 "nbformat": 4,
 "nbformat_minor": 2
}
