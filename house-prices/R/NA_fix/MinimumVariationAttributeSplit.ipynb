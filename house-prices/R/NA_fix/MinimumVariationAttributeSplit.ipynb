{
 "cells": [
  {
   "cell_type": "code",
   "execution_count": 16,
   "metadata": {},
   "outputs": [],
   "source": [
    "source('helpers.R')\n",
    "source('../utils.R')\n",
    "kaggle.house.loadLibraries()"
   ]
  },
  {
   "cell_type": "code",
   "execution_count": 62,
   "metadata": {},
   "outputs": [],
   "source": [
    "df.combined = kaggle.house.PrepareCombinedDataSet()\n",
    "df.lot_frontage = df.combined %>% filter(!is.na(LotFrontage))\n",
    "df.lot_frontage99 = df.lot_frontage %>% filter(LotFrontage < quantile(LotFrontage, 0.99))"
   ]
  },
  {
   "cell_type": "code",
   "execution_count": 65,
   "metadata": {},
   "outputs": [
    {
     "data": {
      "text/html": [
       "2433"
      ],
      "text/latex": [
       "2433"
      ],
      "text/markdown": [
       "2433"
      ],
      "text/plain": [
       "[1] 2433"
      ]
     },
     "metadata": {},
     "output_type": "display_data"
    },
    {
     "data": {
      "text/html": [
       "544.98457577552"
      ],
      "text/latex": [
       "544.98457577552"
      ],
      "text/markdown": [
       "544.98457577552"
      ],
      "text/plain": [
       "[1] 544.9846"
      ]
     },
     "metadata": {},
     "output_type": "display_data"
    },
    {
     "data": {
      "text/html": [
       "2408"
      ],
      "text/latex": [
       "2408"
      ],
      "text/markdown": [
       "2408"
      ],
      "text/plain": [
       "[1] 2408"
      ]
     },
     "metadata": {},
     "output_type": "display_data"
    },
    {
     "data": {
      "text/html": [
       "424.070530719508"
      ],
      "text/latex": [
       "424.070530719508"
      ],
      "text/markdown": [
       "424.070530719508"
      ],
      "text/plain": [
       "[1] 424.0705"
      ]
     },
     "metadata": {},
     "output_type": "display_data"
    }
   ],
   "source": [
    "x = df.lot_frontage %>% \n",
    "    summarise(var=var(LotFrontage), \n",
    "              n=n())\n",
    "x$n\n",
    "x$var\n",
    "\n",
    "x99 = df.lot_frontage99 %>% \n",
    "    summarise(var=var(LotFrontage), \n",
    "              n=n())\n",
    "x99$n\n",
    "x99$var"
   ]
  },
  {
   "cell_type": "code",
   "execution_count": 67,
   "metadata": {},
   "outputs": [
    {
     "data": {
      "text/html": [
       "<table>\n",
       "<thead><tr><th scope=col>Neighborhood</th><th scope=col>var</th><th scope=col>p</th><th scope=col>psd</th><th scope=col>mean_var</th></tr></thead>\n",
       "<tbody>\n",
       "\t<tr><td>Blmngtn    </td><td> 24.200000 </td><td>0.008220304</td><td> 0.19893136</td><td>  0.1989314</td></tr>\n",
       "\t<tr><td>Blueste    </td><td> 28.233333 </td><td>0.004110152</td><td> 0.11604329</td><td>  0.3149747</td></tr>\n",
       "\t<tr><td>BrDale     </td><td>  1.293103 </td><td>0.012330456</td><td> 0.01594456</td><td>  0.3309192</td></tr>\n",
       "\t<tr><td>BrkSide    </td><td>161.870101 </td><td>0.039046445</td><td> 6.32045194</td><td>  6.6513712</td></tr>\n",
       "\t<tr><td>ClearCr    </td><td>512.028947 </td><td>0.008220304</td><td> 4.20903368</td><td> 10.8604048</td></tr>\n",
       "\t<tr><td>CollgCr    </td><td>254.096389 </td><td>0.090423346</td><td>22.97624557</td><td> 33.8366504</td></tr>\n",
       "\t<tr><td>Crawfor    </td><td>366.387893 </td><td>0.034114262</td><td>12.49905266</td><td> 46.3357031</td></tr>\n",
       "\t<tr><td>Edwards    </td><td>695.483400 </td><td>0.073160707</td><td>50.88205721</td><td> 97.2177603</td></tr>\n",
       "\t<tr><td>Gilbert    </td><td>805.802129 </td><td>0.045622688</td><td>36.76285917</td><td>133.9806194</td></tr>\n",
       "\t<tr><td>IDOTRR     </td><td>238.836407 </td><td>0.035758323</td><td> 8.54038941</td><td>142.5210089</td></tr>\n",
       "\t<tr><td>MeadowV    </td><td> 72.621212 </td><td>0.013563502</td><td> 0.98499794</td><td>143.5060068</td></tr>\n",
       "\t<tr><td>Mitchel    </td><td>717.945194 </td><td>0.036991369</td><td>26.55777535</td><td>170.0637822</td></tr>\n",
       "\t<tr><td>NAmes      </td><td>387.546410 </td><td>0.154130703</td><td>59.73280055</td><td>229.7965827</td></tr>\n",
       "\t<tr><td>NoRidge    </td><td>483.596087 </td><td>0.022194821</td><td>10.73332868</td><td>240.5299114</td></tr>\n",
       "\t<tr><td>NPkVill    </td><td>108.128571 </td><td>0.008631319</td><td> 0.93329223</td><td>241.4632036</td></tr>\n",
       "\t<tr><td>NridgHt    </td><td>712.126411 </td><td>0.066995479</td><td>47.70924987</td><td>289.1724535</td></tr>\n",
       "\t<tr><td>NWAmes     </td><td>147.776471 </td><td>0.034936293</td><td> 5.16276202</td><td>294.3352155</td></tr>\n",
       "\t<tr><td>OldTown    </td><td>244.700184 </td><td>0.094122483</td><td>23.03178878</td><td>317.3670043</td></tr>\n",
       "\t<tr><td>Sawyer     </td><td>229.981906 </td><td>0.040279490</td><td> 9.26355397</td><td>326.6305583</td></tr>\n",
       "\t<tr><td>SawyerW    </td><td>206.908985 </td><td>0.043567612</td><td> 9.01453037</td><td>335.6450886</td></tr>\n",
       "\t<tr><td>Somerst    </td><td>575.267733 </td><td>0.066584464</td><td>38.30389341</td><td>373.9489820</td></tr>\n",
       "\t<tr><td>StoneBr    </td><td>470.724638 </td><td>0.018906700</td><td> 8.89984929</td><td>382.8488313</td></tr>\n",
       "\t<tr><td>SWISU      </td><td> 98.251057 </td><td>0.018084669</td><td> 1.77683786</td><td>384.6256692</td></tr>\n",
       "\t<tr><td>Timber     </td><td>538.349624 </td><td>0.023427867</td><td>12.61238330</td><td>397.2380525</td></tr>\n",
       "\t<tr><td>Veenker    </td><td>820.133333 </td><td>0.006576243</td><td> 5.39339636</td><td>402.6314488</td></tr>\n",
       "</tbody>\n",
       "</table>\n"
      ],
      "text/latex": [
       "\\begin{tabular}{r|lllll}\n",
       " Neighborhood & var & p & psd & mean\\_var\\\\\n",
       "\\hline\n",
       "\t Blmngtn     &  24.200000  & 0.008220304 &  0.19893136 &   0.1989314\\\\\n",
       "\t Blueste     &  28.233333  & 0.004110152 &  0.11604329 &   0.3149747\\\\\n",
       "\t BrDale      &   1.293103  & 0.012330456 &  0.01594456 &   0.3309192\\\\\n",
       "\t BrkSide     & 161.870101  & 0.039046445 &  6.32045194 &   6.6513712\\\\\n",
       "\t ClearCr     & 512.028947  & 0.008220304 &  4.20903368 &  10.8604048\\\\\n",
       "\t CollgCr     & 254.096389  & 0.090423346 & 22.97624557 &  33.8366504\\\\\n",
       "\t Crawfor     & 366.387893  & 0.034114262 & 12.49905266 &  46.3357031\\\\\n",
       "\t Edwards     & 695.483400  & 0.073160707 & 50.88205721 &  97.2177603\\\\\n",
       "\t Gilbert     & 805.802129  & 0.045622688 & 36.76285917 & 133.9806194\\\\\n",
       "\t IDOTRR      & 238.836407  & 0.035758323 &  8.54038941 & 142.5210089\\\\\n",
       "\t MeadowV     &  72.621212  & 0.013563502 &  0.98499794 & 143.5060068\\\\\n",
       "\t Mitchel     & 717.945194  & 0.036991369 & 26.55777535 & 170.0637822\\\\\n",
       "\t NAmes       & 387.546410  & 0.154130703 & 59.73280055 & 229.7965827\\\\\n",
       "\t NoRidge     & 483.596087  & 0.022194821 & 10.73332868 & 240.5299114\\\\\n",
       "\t NPkVill     & 108.128571  & 0.008631319 &  0.93329223 & 241.4632036\\\\\n",
       "\t NridgHt     & 712.126411  & 0.066995479 & 47.70924987 & 289.1724535\\\\\n",
       "\t NWAmes      & 147.776471  & 0.034936293 &  5.16276202 & 294.3352155\\\\\n",
       "\t OldTown     & 244.700184  & 0.094122483 & 23.03178878 & 317.3670043\\\\\n",
       "\t Sawyer      & 229.981906  & 0.040279490 &  9.26355397 & 326.6305583\\\\\n",
       "\t SawyerW     & 206.908985  & 0.043567612 &  9.01453037 & 335.6450886\\\\\n",
       "\t Somerst     & 575.267733  & 0.066584464 & 38.30389341 & 373.9489820\\\\\n",
       "\t StoneBr     & 470.724638  & 0.018906700 &  8.89984929 & 382.8488313\\\\\n",
       "\t SWISU       &  98.251057  & 0.018084669 &  1.77683786 & 384.6256692\\\\\n",
       "\t Timber      & 538.349624  & 0.023427867 & 12.61238330 & 397.2380525\\\\\n",
       "\t Veenker     & 820.133333  & 0.006576243 &  5.39339636 & 402.6314488\\\\\n",
       "\\end{tabular}\n"
      ],
      "text/markdown": [
       "\n",
       "Neighborhood | var | p | psd | mean_var | \n",
       "|---|---|---|---|---|---|---|---|---|---|---|---|---|---|---|---|---|---|---|---|---|---|---|---|---|\n",
       "| Blmngtn     |  24.200000  | 0.008220304 |  0.19893136 |   0.1989314 | \n",
       "| Blueste     |  28.233333  | 0.004110152 |  0.11604329 |   0.3149747 | \n",
       "| BrDale      |   1.293103  | 0.012330456 |  0.01594456 |   0.3309192 | \n",
       "| BrkSide     | 161.870101  | 0.039046445 |  6.32045194 |   6.6513712 | \n",
       "| ClearCr     | 512.028947  | 0.008220304 |  4.20903368 |  10.8604048 | \n",
       "| CollgCr     | 254.096389  | 0.090423346 | 22.97624557 |  33.8366504 | \n",
       "| Crawfor     | 366.387893  | 0.034114262 | 12.49905266 |  46.3357031 | \n",
       "| Edwards     | 695.483400  | 0.073160707 | 50.88205721 |  97.2177603 | \n",
       "| Gilbert     | 805.802129  | 0.045622688 | 36.76285917 | 133.9806194 | \n",
       "| IDOTRR      | 238.836407  | 0.035758323 |  8.54038941 | 142.5210089 | \n",
       "| MeadowV     |  72.621212  | 0.013563502 |  0.98499794 | 143.5060068 | \n",
       "| Mitchel     | 717.945194  | 0.036991369 | 26.55777535 | 170.0637822 | \n",
       "| NAmes       | 387.546410  | 0.154130703 | 59.73280055 | 229.7965827 | \n",
       "| NoRidge     | 483.596087  | 0.022194821 | 10.73332868 | 240.5299114 | \n",
       "| NPkVill     | 108.128571  | 0.008631319 |  0.93329223 | 241.4632036 | \n",
       "| NridgHt     | 712.126411  | 0.066995479 | 47.70924987 | 289.1724535 | \n",
       "| NWAmes      | 147.776471  | 0.034936293 |  5.16276202 | 294.3352155 | \n",
       "| OldTown     | 244.700184  | 0.094122483 | 23.03178878 | 317.3670043 | \n",
       "| Sawyer      | 229.981906  | 0.040279490 |  9.26355397 | 326.6305583 | \n",
       "| SawyerW     | 206.908985  | 0.043567612 |  9.01453037 | 335.6450886 | \n",
       "| Somerst     | 575.267733  | 0.066584464 | 38.30389341 | 373.9489820 | \n",
       "| StoneBr     | 470.724638  | 0.018906700 |  8.89984929 | 382.8488313 | \n",
       "| SWISU       |  98.251057  | 0.018084669 |  1.77683786 | 384.6256692 | \n",
       "| Timber      | 538.349624  | 0.023427867 | 12.61238330 | 397.2380525 | \n",
       "| Veenker     | 820.133333  | 0.006576243 |  5.39339636 | 402.6314488 | \n",
       "\n",
       "\n"
      ],
      "text/plain": [
       "   Neighborhood var        p           psd         mean_var   \n",
       "1  Blmngtn       24.200000 0.008220304  0.19893136   0.1989314\n",
       "2  Blueste       28.233333 0.004110152  0.11604329   0.3149747\n",
       "3  BrDale         1.293103 0.012330456  0.01594456   0.3309192\n",
       "4  BrkSide      161.870101 0.039046445  6.32045194   6.6513712\n",
       "5  ClearCr      512.028947 0.008220304  4.20903368  10.8604048\n",
       "6  CollgCr      254.096389 0.090423346 22.97624557  33.8366504\n",
       "7  Crawfor      366.387893 0.034114262 12.49905266  46.3357031\n",
       "8  Edwards      695.483400 0.073160707 50.88205721  97.2177603\n",
       "9  Gilbert      805.802129 0.045622688 36.76285917 133.9806194\n",
       "10 IDOTRR       238.836407 0.035758323  8.54038941 142.5210089\n",
       "11 MeadowV       72.621212 0.013563502  0.98499794 143.5060068\n",
       "12 Mitchel      717.945194 0.036991369 26.55777535 170.0637822\n",
       "13 NAmes        387.546410 0.154130703 59.73280055 229.7965827\n",
       "14 NoRidge      483.596087 0.022194821 10.73332868 240.5299114\n",
       "15 NPkVill      108.128571 0.008631319  0.93329223 241.4632036\n",
       "16 NridgHt      712.126411 0.066995479 47.70924987 289.1724535\n",
       "17 NWAmes       147.776471 0.034936293  5.16276202 294.3352155\n",
       "18 OldTown      244.700184 0.094122483 23.03178878 317.3670043\n",
       "19 Sawyer       229.981906 0.040279490  9.26355397 326.6305583\n",
       "20 SawyerW      206.908985 0.043567612  9.01453037 335.6450886\n",
       "21 Somerst      575.267733 0.066584464 38.30389341 373.9489820\n",
       "22 StoneBr      470.724638 0.018906700  8.89984929 382.8488313\n",
       "23 SWISU         98.251057 0.018084669  1.77683786 384.6256692\n",
       "24 Timber       538.349624 0.023427867 12.61238330 397.2380525\n",
       "25 Veenker      820.133333 0.006576243  5.39339636 402.6314488"
      ]
     },
     "metadata": {},
     "output_type": "display_data"
    }
   ],
   "source": [
    "df.lot_frontage %>% group_by(Neighborhood) %>% \n",
    "    summarise(var=var(LotFrontage), p=n()/x$n) %>% mutate(psd=var * p) %>%\n",
    "    mutate(mean_var=cumsum(psd))"
   ]
  },
  {
   "cell_type": "code",
   "execution_count": 57,
   "metadata": {},
   "outputs": [
    {
     "data": {
      "text/html": [
       "<table>\n",
       "<thead><tr><th scope=col>MSSubClass</th><th scope=col>var</th><th scope=col>p</th><th scope=col>psd</th><th scope=col>mean_var</th></tr></thead>\n",
       "<tbody>\n",
       "\t<tr><td>120        </td><td>192.33539  </td><td>0.061652281</td><td> 11.8579156</td><td> 11.85792  </td></tr>\n",
       "\t<tr><td>160        </td><td> 76.56994  </td><td>0.047677764</td><td>  3.6506835</td><td> 15.50860  </td></tr>\n",
       "\t<tr><td>180        </td><td> 49.00000  </td><td>0.006576243</td><td>  0.3222359</td><td> 15.83084  </td></tr>\n",
       "\t<tr><td>190        </td><td>484.78634  </td><td>0.023427867</td><td> 11.3575098</td><td> 27.18834  </td></tr>\n",
       "\t<tr><td>20         </td><td>409.70026  </td><td>0.367447596</td><td>150.5433755</td><td>177.73172  </td></tr>\n",
       "\t<tr><td>30         </td><td>263.14971  </td><td>0.051787916</td><td> 13.6279753</td><td>191.35970  </td></tr>\n",
       "\t<tr><td>40         </td><td> 77.80000  </td><td>0.002055076</td><td>  0.1598849</td><td>191.51958  </td></tr>\n",
       "\t<tr><td>45         </td><td> 84.49673  </td><td>0.007398274</td><td>  0.6251300</td><td>192.14471  </td></tr>\n",
       "\t<tr><td>50         </td><td>266.82982  </td><td>0.107685984</td><td> 28.7338322</td><td>220.87854  </td></tr>\n",
       "\t<tr><td>60         </td><td>475.90518  </td><td>0.181668722</td><td> 86.4570853</td><td>307.33563  </td></tr>\n",
       "\t<tr><td>70         </td><td>321.84188  </td><td>0.048088779</td><td> 15.4769831</td><td>322.81261  </td></tr>\n",
       "\t<tr><td>75         </td><td>787.86190  </td><td>0.008631319</td><td>  6.8002877</td><td>329.61290  </td></tr>\n",
       "\t<tr><td>80         </td><td>333.82969  </td><td>0.034936293</td><td> 11.6627718</td><td>341.27567  </td></tr>\n",
       "\t<tr><td>85         </td><td>297.86694  </td><td>0.013152487</td><td>  3.9176909</td><td>345.19336  </td></tr>\n",
       "\t<tr><td>90         </td><td>225.41269  </td><td>0.037813399</td><td>  8.5236198</td><td>353.71698  </td></tr>\n",
       "</tbody>\n",
       "</table>\n"
      ],
      "text/latex": [
       "\\begin{tabular}{r|lllll}\n",
       " MSSubClass & var & p & psd & mean\\_var\\\\\n",
       "\\hline\n",
       "\t 120         & 192.33539   & 0.061652281 &  11.8579156 &  11.85792  \\\\\n",
       "\t 160         &  76.56994   & 0.047677764 &   3.6506835 &  15.50860  \\\\\n",
       "\t 180         &  49.00000   & 0.006576243 &   0.3222359 &  15.83084  \\\\\n",
       "\t 190         & 484.78634   & 0.023427867 &  11.3575098 &  27.18834  \\\\\n",
       "\t 20          & 409.70026   & 0.367447596 & 150.5433755 & 177.73172  \\\\\n",
       "\t 30          & 263.14971   & 0.051787916 &  13.6279753 & 191.35970  \\\\\n",
       "\t 40          &  77.80000   & 0.002055076 &   0.1598849 & 191.51958  \\\\\n",
       "\t 45          &  84.49673   & 0.007398274 &   0.6251300 & 192.14471  \\\\\n",
       "\t 50          & 266.82982   & 0.107685984 &  28.7338322 & 220.87854  \\\\\n",
       "\t 60          & 475.90518   & 0.181668722 &  86.4570853 & 307.33563  \\\\\n",
       "\t 70          & 321.84188   & 0.048088779 &  15.4769831 & 322.81261  \\\\\n",
       "\t 75          & 787.86190   & 0.008631319 &   6.8002877 & 329.61290  \\\\\n",
       "\t 80          & 333.82969   & 0.034936293 &  11.6627718 & 341.27567  \\\\\n",
       "\t 85          & 297.86694   & 0.013152487 &   3.9176909 & 345.19336  \\\\\n",
       "\t 90          & 225.41269   & 0.037813399 &   8.5236198 & 353.71698  \\\\\n",
       "\\end{tabular}\n"
      ],
      "text/markdown": [
       "\n",
       "MSSubClass | var | p | psd | mean_var | \n",
       "|---|---|---|---|---|---|---|---|---|---|---|---|---|---|---|\n",
       "| 120         | 192.33539   | 0.061652281 |  11.8579156 |  11.85792   | \n",
       "| 160         |  76.56994   | 0.047677764 |   3.6506835 |  15.50860   | \n",
       "| 180         |  49.00000   | 0.006576243 |   0.3222359 |  15.83084   | \n",
       "| 190         | 484.78634   | 0.023427867 |  11.3575098 |  27.18834   | \n",
       "| 20          | 409.70026   | 0.367447596 | 150.5433755 | 177.73172   | \n",
       "| 30          | 263.14971   | 0.051787916 |  13.6279753 | 191.35970   | \n",
       "| 40          |  77.80000   | 0.002055076 |   0.1598849 | 191.51958   | \n",
       "| 45          |  84.49673   | 0.007398274 |   0.6251300 | 192.14471   | \n",
       "| 50          | 266.82982   | 0.107685984 |  28.7338322 | 220.87854   | \n",
       "| 60          | 475.90518   | 0.181668722 |  86.4570853 | 307.33563   | \n",
       "| 70          | 321.84188   | 0.048088779 |  15.4769831 | 322.81261   | \n",
       "| 75          | 787.86190   | 0.008631319 |   6.8002877 | 329.61290   | \n",
       "| 80          | 333.82969   | 0.034936293 |  11.6627718 | 341.27567   | \n",
       "| 85          | 297.86694   | 0.013152487 |   3.9176909 | 345.19336   | \n",
       "| 90          | 225.41269   | 0.037813399 |   8.5236198 | 353.71698   | \n",
       "\n",
       "\n"
      ],
      "text/plain": [
       "   MSSubClass var       p           psd         mean_var \n",
       "1  120        192.33539 0.061652281  11.8579156  11.85792\n",
       "2  160         76.56994 0.047677764   3.6506835  15.50860\n",
       "3  180         49.00000 0.006576243   0.3222359  15.83084\n",
       "4  190        484.78634 0.023427867  11.3575098  27.18834\n",
       "5  20         409.70026 0.367447596 150.5433755 177.73172\n",
       "6  30         263.14971 0.051787916  13.6279753 191.35970\n",
       "7  40          77.80000 0.002055076   0.1598849 191.51958\n",
       "8  45          84.49673 0.007398274   0.6251300 192.14471\n",
       "9  50         266.82982 0.107685984  28.7338322 220.87854\n",
       "10 60         475.90518 0.181668722  86.4570853 307.33563\n",
       "11 70         321.84188 0.048088779  15.4769831 322.81261\n",
       "12 75         787.86190 0.008631319   6.8002877 329.61290\n",
       "13 80         333.82969 0.034936293  11.6627718 341.27567\n",
       "14 85         297.86694 0.013152487   3.9176909 345.19336\n",
       "15 90         225.41269 0.037813399   8.5236198 353.71698"
      ]
     },
     "metadata": {},
     "output_type": "display_data"
    }
   ],
   "source": [
    "df.lot_frontage %>% group_by(MSSubClass) %>% \n",
    "    summarise(var=var(LotFrontage), p=n()/x$n) %>% mutate(psd=var * p) %>%\n",
    "    mutate(mean_var=cumsum(psd))"
   ]
  },
  {
   "cell_type": "code",
   "execution_count": 44,
   "metadata": {},
   "outputs": [
    {
     "data": {
      "text/html": [
       "<table>\n",
       "<thead><tr><th scope=col>GarageType</th><th scope=col>sd</th><th scope=col>p</th><th scope=col>psd</th><th scope=col>cumsum</th></tr></thead>\n",
       "<tbody>\n",
       "\t<tr><td>2Types     </td><td>45.76442   </td><td>0.007398274</td><td> 0.3385777 </td><td> 0.3385777 </td></tr>\n",
       "\t<tr><td>Attchd     </td><td>23.39474   </td><td>0.572544184</td><td>13.3945232 </td><td>13.7331009 </td></tr>\n",
       "\t<tr><td>Basment    </td><td>32.55603   </td><td>0.010686395</td><td> 0.3479067 </td><td>14.0810076 </td></tr>\n",
       "\t<tr><td>BuiltIn    </td><td>23.57695   </td><td>0.057542129</td><td> 1.3566679 </td><td>15.4376755 </td></tr>\n",
       "\t<tr><td>CarPort    </td><td>27.20907   </td><td>0.004932182</td><td> 0.1342001 </td><td>15.5718756 </td></tr>\n",
       "\t<tr><td>Detchd     </td><td>17.71030   </td><td>0.286888615</td><td> 5.0808829 </td><td>20.6527585 </td></tr>\n",
       "\t<tr><td>NA         </td><td>21.04936   </td><td>0.060008220</td><td> 1.2631349 </td><td>21.9158933 </td></tr>\n",
       "</tbody>\n",
       "</table>\n"
      ],
      "text/latex": [
       "\\begin{tabular}{r|lllll}\n",
       " GarageType & sd & p & psd & cumsum\\\\\n",
       "\\hline\n",
       "\t 2Types      & 45.76442    & 0.007398274 &  0.3385777  &  0.3385777 \\\\\n",
       "\t Attchd      & 23.39474    & 0.572544184 & 13.3945232  & 13.7331009 \\\\\n",
       "\t Basment     & 32.55603    & 0.010686395 &  0.3479067  & 14.0810076 \\\\\n",
       "\t BuiltIn     & 23.57695    & 0.057542129 &  1.3566679  & 15.4376755 \\\\\n",
       "\t CarPort     & 27.20907    & 0.004932182 &  0.1342001  & 15.5718756 \\\\\n",
       "\t Detchd      & 17.71030    & 0.286888615 &  5.0808829  & 20.6527585 \\\\\n",
       "\t NA          & 21.04936    & 0.060008220 &  1.2631349  & 21.9158933 \\\\\n",
       "\\end{tabular}\n"
      ],
      "text/markdown": [
       "\n",
       "GarageType | sd | p | psd | cumsum | \n",
       "|---|---|---|---|---|---|---|\n",
       "| 2Types      | 45.76442    | 0.007398274 |  0.3385777  |  0.3385777  | \n",
       "| Attchd      | 23.39474    | 0.572544184 | 13.3945232  | 13.7331009  | \n",
       "| Basment     | 32.55603    | 0.010686395 |  0.3479067  | 14.0810076  | \n",
       "| BuiltIn     | 23.57695    | 0.057542129 |  1.3566679  | 15.4376755  | \n",
       "| CarPort     | 27.20907    | 0.004932182 |  0.1342001  | 15.5718756  | \n",
       "| Detchd      | 17.71030    | 0.286888615 |  5.0808829  | 20.6527585  | \n",
       "| NA          | 21.04936    | 0.060008220 |  1.2631349  | 21.9158933  | \n",
       "\n",
       "\n"
      ],
      "text/plain": [
       "  GarageType sd       p           psd        cumsum    \n",
       "1 2Types     45.76442 0.007398274  0.3385777  0.3385777\n",
       "2 Attchd     23.39474 0.572544184 13.3945232 13.7331009\n",
       "3 Basment    32.55603 0.010686395  0.3479067 14.0810076\n",
       "4 BuiltIn    23.57695 0.057542129  1.3566679 15.4376755\n",
       "5 CarPort    27.20907 0.004932182  0.1342001 15.5718756\n",
       "6 Detchd     17.71030 0.286888615  5.0808829 20.6527585\n",
       "7 NA         21.04936 0.060008220  1.2631349 21.9158933"
      ]
     },
     "metadata": {},
     "output_type": "display_data"
    }
   ],
   "source": [
    "df.lot_frontage %>% group_by(GarageType) %>% \n",
    "    summarise(sd=sd(LotFrontage), p=n()/x$n) %>% mutate(psd=sd * p) %>%\n",
    "    mutate(cumsum=cumsum(psd))"
   ]
  },
  {
   "cell_type": "code",
   "execution_count": null,
   "metadata": {
    "collapsed": true
   },
   "outputs": [],
   "source": []
  },
  {
   "cell_type": "code",
   "execution_count": null,
   "metadata": {
    "collapsed": true
   },
   "outputs": [],
   "source": []
  },
  {
   "cell_type": "code",
   "execution_count": null,
   "metadata": {
    "collapsed": true
   },
   "outputs": [],
   "source": []
  },
  {
   "cell_type": "code",
   "execution_count": null,
   "metadata": {
    "collapsed": true
   },
   "outputs": [],
   "source": []
  },
  {
   "cell_type": "code",
   "execution_count": null,
   "metadata": {
    "collapsed": true
   },
   "outputs": [],
   "source": []
  },
  {
   "cell_type": "code",
   "execution_count": null,
   "metadata": {
    "collapsed": true
   },
   "outputs": [],
   "source": []
  },
  {
   "cell_type": "code",
   "execution_count": null,
   "metadata": {
    "collapsed": true
   },
   "outputs": [],
   "source": []
  },
  {
   "cell_type": "code",
   "execution_count": null,
   "metadata": {
    "collapsed": true
   },
   "outputs": [],
   "source": []
  },
  {
   "cell_type": "code",
   "execution_count": null,
   "metadata": {
    "collapsed": true
   },
   "outputs": [],
   "source": []
  },
  {
   "cell_type": "code",
   "execution_count": null,
   "metadata": {
    "collapsed": true
   },
   "outputs": [],
   "source": []
  },
  {
   "cell_type": "code",
   "execution_count": null,
   "metadata": {
    "collapsed": true
   },
   "outputs": [],
   "source": []
  },
  {
   "cell_type": "code",
   "execution_count": null,
   "metadata": {
    "collapsed": true
   },
   "outputs": [],
   "source": []
  },
  {
   "cell_type": "code",
   "execution_count": null,
   "metadata": {
    "collapsed": true
   },
   "outputs": [],
   "source": []
  },
  {
   "cell_type": "code",
   "execution_count": null,
   "metadata": {
    "collapsed": true
   },
   "outputs": [],
   "source": []
  },
  {
   "cell_type": "code",
   "execution_count": null,
   "metadata": {
    "collapsed": true
   },
   "outputs": [],
   "source": []
  },
  {
   "cell_type": "code",
   "execution_count": null,
   "metadata": {
    "collapsed": true
   },
   "outputs": [],
   "source": []
  },
  {
   "cell_type": "code",
   "execution_count": null,
   "metadata": {
    "collapsed": true
   },
   "outputs": [],
   "source": []
  },
  {
   "cell_type": "code",
   "execution_count": null,
   "metadata": {
    "collapsed": true
   },
   "outputs": [],
   "source": []
  },
  {
   "cell_type": "code",
   "execution_count": null,
   "metadata": {
    "collapsed": true
   },
   "outputs": [],
   "source": []
  },
  {
   "cell_type": "code",
   "execution_count": null,
   "metadata": {
    "collapsed": true
   },
   "outputs": [],
   "source": []
  },
  {
   "cell_type": "code",
   "execution_count": null,
   "metadata": {
    "collapsed": true
   },
   "outputs": [],
   "source": []
  },
  {
   "cell_type": "code",
   "execution_count": null,
   "metadata": {
    "collapsed": true
   },
   "outputs": [],
   "source": []
  }
 ],
 "metadata": {
  "kernelspec": {
   "display_name": "R",
   "language": "R",
   "name": "ir"
  },
  "language_info": {
   "codemirror_mode": "r",
   "file_extension": ".r",
   "mimetype": "text/x-r-source",
   "name": "R",
   "pygments_lexer": "r",
   "version": "3.4.0"
  }
 },
 "nbformat": 4,
 "nbformat_minor": 2
}
