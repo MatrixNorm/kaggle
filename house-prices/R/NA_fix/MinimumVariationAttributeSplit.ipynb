{
 "cells": [
  {
   "cell_type": "code",
   "execution_count": 38,
   "metadata": {},
   "outputs": [],
   "source": [
    "source('helpers.R')\n",
    "kaggle.house.loadLibraries()"
   ]
  },
  {
   "cell_type": "code",
   "execution_count": 39,
   "metadata": {
    "collapsed": true
   },
   "outputs": [],
   "source": [
    "df.combined = kaggle.house.PrepareCombinedDataSet()\n",
    "df.lot_frontage = df.combined %>% filter(!is.na(LotFrontage))"
   ]
  },
  {
   "cell_type": "code",
   "execution_count": 41,
   "metadata": {},
   "outputs": [
    {
     "data": {
      "text/html": [
       "<table>\n",
       "<thead><tr><th scope=col>attr</th><th scope=col>attr_val</th><th scope=col>var</th><th scope=col>n</th></tr></thead>\n",
       "<tbody>\n",
       "\t<tr><td>Alley       </td><td>Grvl        </td><td> 213.33737  </td><td> 114        </td></tr>\n",
       "\t<tr><td>Alley       </td><td>Pave        </td><td> 343.13924  </td><td>  71        </td></tr>\n",
       "\t<tr><td>Alley       </td><td>NA          </td><td> 544.55426  </td><td>2248        </td></tr>\n",
       "\t<tr><td>BldgType    </td><td>1Fam        </td><td> 433.57365  </td><td>2002        </td></tr>\n",
       "\t<tr><td>BldgType    </td><td>2fmCon      </td><td> 471.29982  </td><td>  59        </td></tr>\n",
       "\t<tr><td>BldgType    </td><td>Duplex      </td><td> 225.41269  </td><td>  92        </td></tr>\n",
       "\t<tr><td>BldgType    </td><td>Twnhs       </td><td>  21.25983  </td><td>  91        </td></tr>\n",
       "\t<tr><td>BldgType    </td><td>TwnhsE      </td><td> 205.47034  </td><td> 189        </td></tr>\n",
       "\t<tr><td>BsmtCond    </td><td>Fa          </td><td> 328.38404  </td><td>  99        </td></tr>\n",
       "\t<tr><td>BsmtCond    </td><td>Gd          </td><td> 537.97563  </td><td> 103        </td></tr>\n",
       "\t<tr><td>BsmtCond    </td><td>Po          </td><td>  31.00000  </td><td>   4        </td></tr>\n",
       "\t<tr><td>BsmtCond    </td><td>TA          </td><td> 554.49257  </td><td>2158        </td></tr>\n",
       "\t<tr><td>BsmtCond    </td><td>NA          </td><td> 550.33632  </td><td>  69        </td></tr>\n",
       "\t<tr><td>BsmtExposure</td><td>Av          </td><td> 573.39561  </td><td> 348        </td></tr>\n",
       "\t<tr><td>BsmtExposure</td><td>Gd          </td><td>1232.63081  </td><td> 221        </td></tr>\n",
       "\t<tr><td>BsmtExposure</td><td>Mn          </td><td> 411.79709  </td><td> 192        </td></tr>\n",
       "\t<tr><td>BsmtExposure</td><td>No          </td><td> 429.26334  </td><td>1603        </td></tr>\n",
       "\t<tr><td>BsmtExposure</td><td>NA          </td><td> 538.52430  </td><td>  69        </td></tr>\n",
       "\t<tr><td>BsmtFinType1</td><td>ALQ         </td><td> 541.18890  </td><td> 339        </td></tr>\n",
       "\t<tr><td>BsmtFinType1</td><td>BLQ         </td><td> 505.12794  </td><td> 209        </td></tr>\n",
       "\t<tr><td>BsmtFinType1</td><td>GLQ         </td><td> 772.33181  </td><td> 687        </td></tr>\n",
       "\t<tr><td>BsmtFinType1</td><td>LwQ         </td><td> 445.91032  </td><td> 130        </td></tr>\n",
       "\t<tr><td>BsmtFinType1</td><td>Rec         </td><td> 342.06132  </td><td> 245        </td></tr>\n",
       "\t<tr><td>BsmtFinType1</td><td>Unf         </td><td> 423.30141  </td><td> 757        </td></tr>\n",
       "\t<tr><td>BsmtFinType1</td><td>NA          </td><td> 561.38951  </td><td>  66        </td></tr>\n",
       "\t<tr><td>BsmtFinType2</td><td>ALQ         </td><td> 456.97013  </td><td>  38        </td></tr>\n",
       "\t<tr><td>BsmtFinType2</td><td>BLQ         </td><td> 483.54286  </td><td>  56        </td></tr>\n",
       "\t<tr><td>BsmtFinType2</td><td>GLQ         </td><td> 934.67957  </td><td>  31        </td></tr>\n",
       "\t<tr><td>BsmtFinType2</td><td>LwQ         </td><td> 612.06340  </td><td>  66        </td></tr>\n",
       "\t<tr><td>BsmtFinType2</td><td>Rec         </td><td> 357.49750  </td><td>  83        </td></tr>\n",
       "\t<tr><td>⋮</td><td>⋮</td><td>⋮</td><td>⋮</td></tr>\n",
       "\t<tr><td>RoofMatl     </td><td>Roll         </td><td>        NA   </td><td>   1         </td></tr>\n",
       "\t<tr><td><span style=white-space:pre-wrap>RoofMatl     </span></td><td>Tar&amp;Grv                                          </td><td>4161.12381                                           </td><td><span style=white-space:pre-wrap>  15</span>         </td></tr>\n",
       "\t<tr><td>RoofMatl     </td><td>WdShake      </td><td> 413.30000   </td><td>   5         </td></tr>\n",
       "\t<tr><td>RoofMatl     </td><td>WdShngl      </td><td> 972.61905   </td><td>   7         </td></tr>\n",
       "\t<tr><td>RoofStyle    </td><td>Flat         </td><td>5245.78788   </td><td>  12         </td></tr>\n",
       "\t<tr><td>RoofStyle    </td><td>Gable        </td><td> 481.48359   </td><td>1925         </td></tr>\n",
       "\t<tr><td>RoofStyle    </td><td>Gambrel      </td><td>  37.63333   </td><td>  21         </td></tr>\n",
       "\t<tr><td>RoofStyle    </td><td>Hip          </td><td> 584.47387   </td><td> 463         </td></tr>\n",
       "\t<tr><td>RoofStyle    </td><td>Mansard      </td><td> 221.44444   </td><td>   9         </td></tr>\n",
       "\t<tr><td>RoofStyle    </td><td>Shed         </td><td>2910.33333   </td><td>   3         </td></tr>\n",
       "\t<tr><td>SaleCondition</td><td>Abnorml      </td><td> 580.44770   </td><td> 164         </td></tr>\n",
       "\t<tr><td>SaleCondition</td><td>AdjLand      </td><td> 158.38636   </td><td>  12         </td></tr>\n",
       "\t<tr><td>SaleCondition</td><td>Alloca       </td><td> 567.11429   </td><td>  21         </td></tr>\n",
       "\t<tr><td>SaleCondition</td><td>Family       </td><td> 546.37885   </td><td>  40         </td></tr>\n",
       "\t<tr><td>SaleCondition</td><td>Normal       </td><td> 512.67113   </td><td>1955         </td></tr>\n",
       "\t<tr><td>SaleCondition</td><td>Partial      </td><td> 723.87925   </td><td> 241         </td></tr>\n",
       "\t<tr><td>SaleType     </td><td>COD          </td><td> 449.65594   </td><td>  71         </td></tr>\n",
       "\t<tr><td>SaleType     </td><td>Con          </td><td> 337.80000   </td><td>   5         </td></tr>\n",
       "\t<tr><td>SaleType     </td><td>ConLD        </td><td> 782.54348   </td><td>  24         </td></tr>\n",
       "\t<tr><td>SaleType     </td><td>ConLI        </td><td> 226.78571   </td><td>   8         </td></tr>\n",
       "\t<tr><td>SaleType     </td><td>ConLw        </td><td> 105.69643   </td><td>   8         </td></tr>\n",
       "\t<tr><td>SaleType     </td><td>CWD          </td><td> 284.88889   </td><td>  10         </td></tr>\n",
       "\t<tr><td>SaleType     </td><td>New          </td><td> 730.97883   </td><td> 235         </td></tr>\n",
       "\t<tr><td>SaleType     </td><td>Oth          </td><td> 328.66667   </td><td>   6         </td></tr>\n",
       "\t<tr><td>SaleType     </td><td>WD           </td><td> 520.67205   </td><td>2065         </td></tr>\n",
       "\t<tr><td>SaleType     </td><td>NA           </td><td>        NA   </td><td>   1         </td></tr>\n",
       "\t<tr><td>Street       </td><td>Grvl         </td><td>1240.17778   </td><td>  10         </td></tr>\n",
       "\t<tr><td>Street       </td><td>Pave         </td><td> 541.14626   </td><td>2423         </td></tr>\n",
       "\t<tr><td>Utilities    </td><td>AllPub       </td><td> 544.56035   </td><td>2432         </td></tr>\n",
       "\t<tr><td>Utilities    </td><td>NA           </td><td>        NA   </td><td>   1         </td></tr>\n",
       "</tbody>\n",
       "</table>\n"
      ],
      "text/latex": [
       "\\begin{tabular}{r|llll}\n",
       " attr & attr\\_val & var & n\\\\\n",
       "\\hline\n",
       "\t Alley        & Grvl         &  213.33737   &  114        \\\\\n",
       "\t Alley        & Pave         &  343.13924   &   71        \\\\\n",
       "\t Alley        & NA           &  544.55426   & 2248        \\\\\n",
       "\t BldgType     & 1Fam         &  433.57365   & 2002        \\\\\n",
       "\t BldgType     & 2fmCon       &  471.29982   &   59        \\\\\n",
       "\t BldgType     & Duplex       &  225.41269   &   92        \\\\\n",
       "\t BldgType     & Twnhs        &   21.25983   &   91        \\\\\n",
       "\t BldgType     & TwnhsE       &  205.47034   &  189        \\\\\n",
       "\t BsmtCond     & Fa           &  328.38404   &   99        \\\\\n",
       "\t BsmtCond     & Gd           &  537.97563   &  103        \\\\\n",
       "\t BsmtCond     & Po           &   31.00000   &    4        \\\\\n",
       "\t BsmtCond     & TA           &  554.49257   & 2158        \\\\\n",
       "\t BsmtCond     & NA           &  550.33632   &   69        \\\\\n",
       "\t BsmtExposure & Av           &  573.39561   &  348        \\\\\n",
       "\t BsmtExposure & Gd           & 1232.63081   &  221        \\\\\n",
       "\t BsmtExposure & Mn           &  411.79709   &  192        \\\\\n",
       "\t BsmtExposure & No           &  429.26334   & 1603        \\\\\n",
       "\t BsmtExposure & NA           &  538.52430   &   69        \\\\\n",
       "\t BsmtFinType1 & ALQ          &  541.18890   &  339        \\\\\n",
       "\t BsmtFinType1 & BLQ          &  505.12794   &  209        \\\\\n",
       "\t BsmtFinType1 & GLQ          &  772.33181   &  687        \\\\\n",
       "\t BsmtFinType1 & LwQ          &  445.91032   &  130        \\\\\n",
       "\t BsmtFinType1 & Rec          &  342.06132   &  245        \\\\\n",
       "\t BsmtFinType1 & Unf          &  423.30141   &  757        \\\\\n",
       "\t BsmtFinType1 & NA           &  561.38951   &   66        \\\\\n",
       "\t BsmtFinType2 & ALQ          &  456.97013   &   38        \\\\\n",
       "\t BsmtFinType2 & BLQ          &  483.54286   &   56        \\\\\n",
       "\t BsmtFinType2 & GLQ          &  934.67957   &   31        \\\\\n",
       "\t BsmtFinType2 & LwQ          &  612.06340   &   66        \\\\\n",
       "\t BsmtFinType2 & Rec          &  357.49750   &   83        \\\\\n",
       "\t ⋮ & ⋮ & ⋮ & ⋮\\\\\n",
       "\t RoofMatl      & Roll          &         NA    &    1         \\\\\n",
       "\t RoofMatl      & Tar\\&Grv     & 4161.12381    &   15         \\\\\n",
       "\t RoofMatl      & WdShake       &  413.30000    &    5         \\\\\n",
       "\t RoofMatl      & WdShngl       &  972.61905    &    7         \\\\\n",
       "\t RoofStyle     & Flat          & 5245.78788    &   12         \\\\\n",
       "\t RoofStyle     & Gable         &  481.48359    & 1925         \\\\\n",
       "\t RoofStyle     & Gambrel       &   37.63333    &   21         \\\\\n",
       "\t RoofStyle     & Hip           &  584.47387    &  463         \\\\\n",
       "\t RoofStyle     & Mansard       &  221.44444    &    9         \\\\\n",
       "\t RoofStyle     & Shed          & 2910.33333    &    3         \\\\\n",
       "\t SaleCondition & Abnorml       &  580.44770    &  164         \\\\\n",
       "\t SaleCondition & AdjLand       &  158.38636    &   12         \\\\\n",
       "\t SaleCondition & Alloca        &  567.11429    &   21         \\\\\n",
       "\t SaleCondition & Family        &  546.37885    &   40         \\\\\n",
       "\t SaleCondition & Normal        &  512.67113    & 1955         \\\\\n",
       "\t SaleCondition & Partial       &  723.87925    &  241         \\\\\n",
       "\t SaleType      & COD           &  449.65594    &   71         \\\\\n",
       "\t SaleType      & Con           &  337.80000    &    5         \\\\\n",
       "\t SaleType      & ConLD         &  782.54348    &   24         \\\\\n",
       "\t SaleType      & ConLI         &  226.78571    &    8         \\\\\n",
       "\t SaleType      & ConLw         &  105.69643    &    8         \\\\\n",
       "\t SaleType      & CWD           &  284.88889    &   10         \\\\\n",
       "\t SaleType      & New           &  730.97883    &  235         \\\\\n",
       "\t SaleType      & Oth           &  328.66667    &    6         \\\\\n",
       "\t SaleType      & WD            &  520.67205    & 2065         \\\\\n",
       "\t SaleType      & NA            &         NA    &    1         \\\\\n",
       "\t Street        & Grvl          & 1240.17778    &   10         \\\\\n",
       "\t Street        & Pave          &  541.14626    & 2423         \\\\\n",
       "\t Utilities     & AllPub        &  544.56035    & 2432         \\\\\n",
       "\t Utilities     & NA            &         NA    &    1         \\\\\n",
       "\\end{tabular}\n"
      ],
      "text/markdown": [
       "\n",
       "attr | attr_val | var | n | \n",
       "|---|---|---|---|---|---|---|---|---|---|---|---|---|---|---|---|---|---|---|---|---|---|---|---|---|---|---|---|---|---|---|---|---|---|---|---|---|---|---|---|---|---|---|---|---|---|---|---|---|---|---|---|---|---|---|---|---|---|---|---|---|\n",
       "| Alley        | Grvl         |  213.33737   |  114         | \n",
       "| Alley        | Pave         |  343.13924   |   71         | \n",
       "| Alley        | NA           |  544.55426   | 2248         | \n",
       "| BldgType     | 1Fam         |  433.57365   | 2002         | \n",
       "| BldgType     | 2fmCon       |  471.29982   |   59         | \n",
       "| BldgType     | Duplex       |  225.41269   |   92         | \n",
       "| BldgType     | Twnhs        |   21.25983   |   91         | \n",
       "| BldgType     | TwnhsE       |  205.47034   |  189         | \n",
       "| BsmtCond     | Fa           |  328.38404   |   99         | \n",
       "| BsmtCond     | Gd           |  537.97563   |  103         | \n",
       "| BsmtCond     | Po           |   31.00000   |    4         | \n",
       "| BsmtCond     | TA           |  554.49257   | 2158         | \n",
       "| BsmtCond     | NA           |  550.33632   |   69         | \n",
       "| BsmtExposure | Av           |  573.39561   |  348         | \n",
       "| BsmtExposure | Gd           | 1232.63081   |  221         | \n",
       "| BsmtExposure | Mn           |  411.79709   |  192         | \n",
       "| BsmtExposure | No           |  429.26334   | 1603         | \n",
       "| BsmtExposure | NA           |  538.52430   |   69         | \n",
       "| BsmtFinType1 | ALQ          |  541.18890   |  339         | \n",
       "| BsmtFinType1 | BLQ          |  505.12794   |  209         | \n",
       "| BsmtFinType1 | GLQ          |  772.33181   |  687         | \n",
       "| BsmtFinType1 | LwQ          |  445.91032   |  130         | \n",
       "| BsmtFinType1 | Rec          |  342.06132   |  245         | \n",
       "| BsmtFinType1 | Unf          |  423.30141   |  757         | \n",
       "| BsmtFinType1 | NA           |  561.38951   |   66         | \n",
       "| BsmtFinType2 | ALQ          |  456.97013   |   38         | \n",
       "| BsmtFinType2 | BLQ          |  483.54286   |   56         | \n",
       "| BsmtFinType2 | GLQ          |  934.67957   |   31         | \n",
       "| BsmtFinType2 | LwQ          |  612.06340   |   66         | \n",
       "| BsmtFinType2 | Rec          |  357.49750   |   83         | \n",
       "| ⋮ | ⋮ | ⋮ | ⋮ | \n",
       "| RoofMatl      | Roll          |         NA    |    1          | \n",
       "| RoofMatl      | Tar&Grv       | 4161.12381    |   15          | \n",
       "| RoofMatl      | WdShake       |  413.30000    |    5          | \n",
       "| RoofMatl      | WdShngl       |  972.61905    |    7          | \n",
       "| RoofStyle     | Flat          | 5245.78788    |   12          | \n",
       "| RoofStyle     | Gable         |  481.48359    | 1925          | \n",
       "| RoofStyle     | Gambrel       |   37.63333    |   21          | \n",
       "| RoofStyle     | Hip           |  584.47387    |  463          | \n",
       "| RoofStyle     | Mansard       |  221.44444    |    9          | \n",
       "| RoofStyle     | Shed          | 2910.33333    |    3          | \n",
       "| SaleCondition | Abnorml       |  580.44770    |  164          | \n",
       "| SaleCondition | AdjLand       |  158.38636    |   12          | \n",
       "| SaleCondition | Alloca        |  567.11429    |   21          | \n",
       "| SaleCondition | Family        |  546.37885    |   40          | \n",
       "| SaleCondition | Normal        |  512.67113    | 1955          | \n",
       "| SaleCondition | Partial       |  723.87925    |  241          | \n",
       "| SaleType      | COD           |  449.65594    |   71          | \n",
       "| SaleType      | Con           |  337.80000    |    5          | \n",
       "| SaleType      | ConLD         |  782.54348    |   24          | \n",
       "| SaleType      | ConLI         |  226.78571    |    8          | \n",
       "| SaleType      | ConLw         |  105.69643    |    8          | \n",
       "| SaleType      | CWD           |  284.88889    |   10          | \n",
       "| SaleType      | New           |  730.97883    |  235          | \n",
       "| SaleType      | Oth           |  328.66667    |    6          | \n",
       "| SaleType      | WD            |  520.67205    | 2065          | \n",
       "| SaleType      | NA            |         NA    |    1          | \n",
       "| Street        | Grvl          | 1240.17778    |   10          | \n",
       "| Street        | Pave          |  541.14626    | 2423          | \n",
       "| Utilities     | AllPub        |  544.56035    | 2432          | \n",
       "| Utilities     | NA            |         NA    |    1          | \n",
       "\n",
       "\n"
      ],
      "text/plain": [
       "    attr          attr_val var        n   \n",
       "1   Alley         Grvl      213.33737  114\n",
       "2   Alley         Pave      343.13924   71\n",
       "3   Alley         NA        544.55426 2248\n",
       "4   BldgType      1Fam      433.57365 2002\n",
       "5   BldgType      2fmCon    471.29982   59\n",
       "6   BldgType      Duplex    225.41269   92\n",
       "7   BldgType      Twnhs      21.25983   91\n",
       "8   BldgType      TwnhsE    205.47034  189\n",
       "9   BsmtCond      Fa        328.38404   99\n",
       "10  BsmtCond      Gd        537.97563  103\n",
       "11  BsmtCond      Po         31.00000    4\n",
       "12  BsmtCond      TA        554.49257 2158\n",
       "13  BsmtCond      NA        550.33632   69\n",
       "14  BsmtExposure  Av        573.39561  348\n",
       "15  BsmtExposure  Gd       1232.63081  221\n",
       "16  BsmtExposure  Mn        411.79709  192\n",
       "17  BsmtExposure  No        429.26334 1603\n",
       "18  BsmtExposure  NA        538.52430   69\n",
       "19  BsmtFinType1  ALQ       541.18890  339\n",
       "20  BsmtFinType1  BLQ       505.12794  209\n",
       "21  BsmtFinType1  GLQ       772.33181  687\n",
       "22  BsmtFinType1  LwQ       445.91032  130\n",
       "23  BsmtFinType1  Rec       342.06132  245\n",
       "24  BsmtFinType1  Unf       423.30141  757\n",
       "25  BsmtFinType1  NA        561.38951   66\n",
       "26  BsmtFinType2  ALQ       456.97013   38\n",
       "27  BsmtFinType2  BLQ       483.54286   56\n",
       "28  BsmtFinType2  GLQ       934.67957   31\n",
       "29  BsmtFinType2  LwQ       612.06340   66\n",
       "30  BsmtFinType2  Rec       357.49750   83\n",
       "⋮   ⋮             ⋮        ⋮          ⋮   \n",
       "279 RoofMatl      Roll             NA    1\n",
       "280 RoofMatl      Tar&Grv  4161.12381   15\n",
       "281 RoofMatl      WdShake   413.30000    5\n",
       "282 RoofMatl      WdShngl   972.61905    7\n",
       "283 RoofStyle     Flat     5245.78788   12\n",
       "284 RoofStyle     Gable     481.48359 1925\n",
       "285 RoofStyle     Gambrel    37.63333   21\n",
       "286 RoofStyle     Hip       584.47387  463\n",
       "287 RoofStyle     Mansard   221.44444    9\n",
       "288 RoofStyle     Shed     2910.33333    3\n",
       "289 SaleCondition Abnorml   580.44770  164\n",
       "290 SaleCondition AdjLand   158.38636   12\n",
       "291 SaleCondition Alloca    567.11429   21\n",
       "292 SaleCondition Family    546.37885   40\n",
       "293 SaleCondition Normal    512.67113 1955\n",
       "294 SaleCondition Partial   723.87925  241\n",
       "295 SaleType      COD       449.65594   71\n",
       "296 SaleType      Con       337.80000    5\n",
       "297 SaleType      ConLD     782.54348   24\n",
       "298 SaleType      ConLI     226.78571    8\n",
       "299 SaleType      ConLw     105.69643    8\n",
       "300 SaleType      CWD       284.88889   10\n",
       "301 SaleType      New       730.97883  235\n",
       "302 SaleType      Oth       328.66667    6\n",
       "303 SaleType      WD        520.67205 2065\n",
       "304 SaleType      NA               NA    1\n",
       "305 Street        Grvl     1240.17778   10\n",
       "306 Street        Pave      541.14626 2423\n",
       "307 Utilities     AllPub    544.56035 2432\n",
       "308 Utilities     NA               NA    1"
      ]
     },
     "metadata": {},
     "output_type": "display_data"
    }
   ],
   "source": [
    "colNames = names(which(sapply(df.lot_frontage, is.character)))\n",
    "colNames = c(colNames, \"LotFrontage\")\n",
    "\n",
    "q = df.lot_frontage %>% select(colNames) %>% gather(attr, attr_val, -LotFrontage)\n",
    "q = q %>% group_by(attr, attr_val) %>% \n",
    "          summarise(var=var(LotFrontage), n=n())\n",
    "q"
   ]
  },
  {
   "cell_type": "code",
   "execution_count": null,
   "metadata": {},
   "outputs": [],
   "source": []
  },
  {
   "cell_type": "code",
   "execution_count": null,
   "metadata": {
    "collapsed": true
   },
   "outputs": [],
   "source": []
  },
  {
   "cell_type": "code",
   "execution_count": null,
   "metadata": {
    "collapsed": true
   },
   "outputs": [],
   "source": []
  },
  {
   "cell_type": "code",
   "execution_count": null,
   "metadata": {
    "collapsed": true
   },
   "outputs": [],
   "source": []
  },
  {
   "cell_type": "code",
   "execution_count": null,
   "metadata": {
    "collapsed": true
   },
   "outputs": [],
   "source": []
  },
  {
   "cell_type": "code",
   "execution_count": null,
   "metadata": {
    "collapsed": true
   },
   "outputs": [],
   "source": []
  },
  {
   "cell_type": "code",
   "execution_count": null,
   "metadata": {
    "collapsed": true
   },
   "outputs": [],
   "source": []
  },
  {
   "cell_type": "code",
   "execution_count": null,
   "metadata": {
    "collapsed": true
   },
   "outputs": [],
   "source": []
  },
  {
   "cell_type": "code",
   "execution_count": null,
   "metadata": {
    "collapsed": true
   },
   "outputs": [],
   "source": []
  },
  {
   "cell_type": "code",
   "execution_count": null,
   "metadata": {
    "collapsed": true
   },
   "outputs": [],
   "source": []
  },
  {
   "cell_type": "code",
   "execution_count": null,
   "metadata": {
    "collapsed": true
   },
   "outputs": [],
   "source": []
  },
  {
   "cell_type": "code",
   "execution_count": null,
   "metadata": {
    "collapsed": true
   },
   "outputs": [],
   "source": []
  },
  {
   "cell_type": "code",
   "execution_count": null,
   "metadata": {
    "collapsed": true
   },
   "outputs": [],
   "source": []
  },
  {
   "cell_type": "code",
   "execution_count": null,
   "metadata": {
    "collapsed": true
   },
   "outputs": [],
   "source": []
  },
  {
   "cell_type": "code",
   "execution_count": null,
   "metadata": {
    "collapsed": true
   },
   "outputs": [],
   "source": []
  },
  {
   "cell_type": "code",
   "execution_count": null,
   "metadata": {
    "collapsed": true
   },
   "outputs": [],
   "source": []
  },
  {
   "cell_type": "code",
   "execution_count": null,
   "metadata": {
    "collapsed": true
   },
   "outputs": [],
   "source": []
  },
  {
   "cell_type": "code",
   "execution_count": null,
   "metadata": {
    "collapsed": true
   },
   "outputs": [],
   "source": []
  },
  {
   "cell_type": "code",
   "execution_count": null,
   "metadata": {
    "collapsed": true
   },
   "outputs": [],
   "source": []
  },
  {
   "cell_type": "code",
   "execution_count": null,
   "metadata": {
    "collapsed": true
   },
   "outputs": [],
   "source": []
  },
  {
   "cell_type": "code",
   "execution_count": null,
   "metadata": {
    "collapsed": true
   },
   "outputs": [],
   "source": []
  },
  {
   "cell_type": "code",
   "execution_count": null,
   "metadata": {
    "collapsed": true
   },
   "outputs": [],
   "source": []
  },
  {
   "cell_type": "code",
   "execution_count": null,
   "metadata": {
    "collapsed": true
   },
   "outputs": [],
   "source": []
  },
  {
   "cell_type": "code",
   "execution_count": null,
   "metadata": {
    "collapsed": true
   },
   "outputs": [],
   "source": []
  },
  {
   "cell_type": "code",
   "execution_count": null,
   "metadata": {
    "collapsed": true
   },
   "outputs": [],
   "source": []
  },
  {
   "cell_type": "code",
   "execution_count": null,
   "metadata": {
    "collapsed": true
   },
   "outputs": [],
   "source": []
  },
  {
   "cell_type": "code",
   "execution_count": null,
   "metadata": {
    "collapsed": true
   },
   "outputs": [],
   "source": []
  },
  {
   "cell_type": "code",
   "execution_count": null,
   "metadata": {
    "collapsed": true
   },
   "outputs": [],
   "source": []
  },
  {
   "cell_type": "code",
   "execution_count": null,
   "metadata": {
    "collapsed": true
   },
   "outputs": [],
   "source": []
  },
  {
   "cell_type": "code",
   "execution_count": null,
   "metadata": {
    "collapsed": true
   },
   "outputs": [],
   "source": []
  },
  {
   "cell_type": "code",
   "execution_count": null,
   "metadata": {
    "collapsed": true
   },
   "outputs": [],
   "source": []
  },
  {
   "cell_type": "code",
   "execution_count": null,
   "metadata": {
    "collapsed": true
   },
   "outputs": [],
   "source": []
  },
  {
   "cell_type": "code",
   "execution_count": null,
   "metadata": {
    "collapsed": true
   },
   "outputs": [],
   "source": []
  }
 ],
 "metadata": {
  "kernelspec": {
   "display_name": "R",
   "language": "R",
   "name": "ir"
  },
  "language_info": {
   "codemirror_mode": "r",
   "file_extension": ".r",
   "mimetype": "text/x-r-source",
   "name": "R",
   "pygments_lexer": "r",
   "version": "3.4.0"
  }
 },
 "nbformat": 4,
 "nbformat_minor": 2
}
