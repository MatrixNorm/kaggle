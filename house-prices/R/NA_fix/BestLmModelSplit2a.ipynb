{
 "cells": [
  {
   "cell_type": "code",
   "execution_count": 1,
   "metadata": {},
   "outputs": [
    {
     "data": {
      "text/html": [
       "'/mnt/hdd/develop/kaggle/house-prices/R/NA_fix'"
      ],
      "text/latex": [
       "'/mnt/hdd/develop/kaggle/house-prices/R/NA\\_fix'"
      ],
      "text/markdown": [
       "'/mnt/hdd/develop/kaggle/house-prices/R/NA_fix'"
      ],
      "text/plain": [
       "[1] \"/mnt/hdd/develop/kaggle/house-prices/R/NA_fix\""
      ]
     },
     "metadata": {},
     "output_type": "display_data"
    },
    {
     "data": {
      "text/html": [
       "'/mnt/hdd/develop/kaggle/house-prices/R'"
      ],
      "text/latex": [
       "'/mnt/hdd/develop/kaggle/house-prices/R'"
      ],
      "text/markdown": [
       "'/mnt/hdd/develop/kaggle/house-prices/R'"
      ],
      "text/plain": [
       "[1] \"/mnt/hdd/develop/kaggle/house-prices/R\""
      ]
     },
     "metadata": {},
     "output_type": "display_data"
    }
   ],
   "source": [
    "getwd()\n",
    "setwd(paste0(getwd(), '/..'))\n",
    "getwd()"
   ]
  },
  {
   "cell_type": "code",
   "execution_count": 43,
   "metadata": {},
   "outputs": [
    {
     "data": {
      "text/html": [
       "<table>\n",
       "<thead><tr><th scope=col>n</th></tr></thead>\n",
       "<tbody>\n",
       "\t<tr><td>2433</td></tr>\n",
       "</tbody>\n",
       "</table>\n"
      ],
      "text/latex": [
       "\\begin{tabular}{r|l}\n",
       " n\\\\\n",
       "\\hline\n",
       "\t 2433\\\\\n",
       "\\end{tabular}\n"
      ],
      "text/markdown": [
       "\n",
       "n | \n",
       "|---|\n",
       "| 2433 | \n",
       "\n",
       "\n"
      ],
      "text/plain": [
       "  n   \n",
       "1 2433"
      ]
     },
     "metadata": {},
     "output_type": "display_data"
    }
   ],
   "source": [
    "source('helpers.R')\n",
    "\n",
    "kaggle.house.loadLibraries()\n",
    "data = kaggle.house.loadData()\n",
    "\n",
    "df.combined = data$combined %>% filter(!is.na(LotFrontage))\n",
    "df.combined %>% count"
   ]
  },
  {
   "cell_type": "code",
   "execution_count": 41,
   "metadata": {},
   "outputs": [
    {
     "data": {
      "text/html": [
       "<table>\n",
       "<thead><tr><th scope=col>LotFrontage</th><th scope=col>attr.name</th><th scope=col>attr.val</th><th scope=col>attr.val.log</th><th scope=col>LotFrontage.log</th></tr></thead>\n",
       "<tbody>\n",
       "\t<tr><td>65      </td><td>LotArea </td><td> 8450   </td><td>9.041922</td><td>4.174387</td></tr>\n",
       "\t<tr><td>80      </td><td>LotArea </td><td> 9600   </td><td>9.169518</td><td>4.382027</td></tr>\n",
       "\t<tr><td>68      </td><td>LotArea </td><td>11250   </td><td>9.328123</td><td>4.219508</td></tr>\n",
       "\t<tr><td>60      </td><td>LotArea </td><td> 9550   </td><td>9.164296</td><td>4.094345</td></tr>\n",
       "\t<tr><td>84      </td><td>LotArea </td><td>14260   </td><td>9.565214</td><td>4.430817</td></tr>\n",
       "\t<tr><td>85      </td><td>LotArea </td><td>14115   </td><td>9.554993</td><td>4.442651</td></tr>\n",
       "</tbody>\n",
       "</table>\n"
      ],
      "text/latex": [
       "\\begin{tabular}{r|lllll}\n",
       " LotFrontage & attr.name & attr.val & attr.val.log & LotFrontage.log\\\\\n",
       "\\hline\n",
       "\t 65       & LotArea  &  8450    & 9.041922 & 4.174387\\\\\n",
       "\t 80       & LotArea  &  9600    & 9.169518 & 4.382027\\\\\n",
       "\t 68       & LotArea  & 11250    & 9.328123 & 4.219508\\\\\n",
       "\t 60       & LotArea  &  9550    & 9.164296 & 4.094345\\\\\n",
       "\t 84       & LotArea  & 14260    & 9.565214 & 4.430817\\\\\n",
       "\t 85       & LotArea  & 14115    & 9.554993 & 4.442651\\\\\n",
       "\\end{tabular}\n"
      ],
      "text/markdown": [
       "\n",
       "LotFrontage | attr.name | attr.val | attr.val.log | LotFrontage.log | \n",
       "|---|---|---|---|---|---|\n",
       "| 65       | LotArea  |  8450    | 9.041922 | 4.174387 | \n",
       "| 80       | LotArea  |  9600    | 9.169518 | 4.382027 | \n",
       "| 68       | LotArea  | 11250    | 9.328123 | 4.219508 | \n",
       "| 60       | LotArea  |  9550    | 9.164296 | 4.094345 | \n",
       "| 84       | LotArea  | 14260    | 9.565214 | 4.430817 | \n",
       "| 85       | LotArea  | 14115    | 9.554993 | 4.442651 | \n",
       "\n",
       "\n"
      ],
      "text/plain": [
       "  LotFrontage attr.name attr.val attr.val.log LotFrontage.log\n",
       "1 65          LotArea    8450    9.041922     4.174387       \n",
       "2 80          LotArea    9600    9.169518     4.382027       \n",
       "3 68          LotArea   11250    9.328123     4.219508       \n",
       "4 60          LotArea    9550    9.164296     4.094345       \n",
       "5 84          LotArea   14260    9.565214     4.430817       \n",
       "6 85          LotArea   14115    9.554993     4.442651       "
      ]
     },
     "metadata": {},
     "output_type": "display_data"
    },
    {
     "data": {
      "text/html": [
       "<table>\n",
       "<thead><tr><th scope=col>n</th></tr></thead>\n",
       "<tbody>\n",
       "\t<tr><td>82722</td></tr>\n",
       "</tbody>\n",
       "</table>\n"
      ],
      "text/latex": [
       "\\begin{tabular}{r|l}\n",
       " n\\\\\n",
       "\\hline\n",
       "\t 82722\\\\\n",
       "\\end{tabular}\n"
      ],
      "text/markdown": [
       "\n",
       "n | \n",
       "|---|\n",
       "| 82722 | \n",
       "\n",
       "\n"
      ],
      "text/plain": [
       "  n    \n",
       "1 82722"
      ]
     },
     "metadata": {},
     "output_type": "display_data"
    }
   ],
   "source": [
    "df.combined %>% \n",
    "select_if(is.numeric) %>%\n",
    "gather(attr.name, attr.val, -LotFrontage) %>%\n",
    "mutate(\n",
    "    attr.val.log = ifelse(attr.val > 0, log(attr.val), 0),\n",
    "    LotFrontage.log = log(LotFrontage)\n",
    ") -> df.combined.long\n",
    "\n",
    "df.combined.long %>% head\n",
    "df.combined.long %>% count"
   ]
  },
  {
   "cell_type": "code",
   "execution_count": 37,
   "metadata": {},
   "outputs": [
    {
     "name": "stdout",
     "output_type": "stream",
     "text": [
      "# A tibble: 34 x 4\n",
      "      attr.name        rsq        rsq2        rsq3\n",
      "          <chr>      <dbl>       <dbl>       <dbl>\n",
      " 1      LotArea 0.23999767 0.467189030 0.587193938\n",
      " 2    X1stFlrSF 0.20999074 0.210587817 0.218847392\n",
      " 3    GrLivArea 0.14627714 0.125415343 0.108557166\n",
      " 4   GarageArea 0.12944610 0.033312216 0.033526172\n",
      " 5  TotalBsmtSF 0.12589894 0.008013407 0.007024319\n",
      " 6 TotRmsAbvGrd 0.12215963 0.123642972 0.126792650\n",
      " 7   GarageCars 0.09646429 0.090350458 0.077319103\n",
      " 8   Fireplaces 0.06862818 0.030197358 0.022495100\n",
      " 9 BedroomAbvGr 0.05517420 0.060886185 0.074960584\n",
      "10   MasVnrArea 0.04887582 0.038520767 0.023899711\n",
      "# ... with 24 more rows\n"
     ]
    }
   ],
   "source": [
    "df.combined.long %>% \n",
    "group_by(attr.name) %>% \n",
    "nest %>% \n",
    "mutate(\n",
    "    mod = map(data, ~lm(LotFrontage ~ attr.val, .)), \n",
    "    glance = map(mod, broom::glance),\n",
    "    rsq = glance %>% map_dbl(\"r.squared\"),\n",
    "    \n",
    "    mod2 = map(data, ~lm(LotFrontage ~ attr.val.log, .)), \n",
    "    glance2 = map(mod2, broom::glance),\n",
    "    rsq2 = glance2 %>% map_dbl(\"r.squared\"),\n",
    "    \n",
    "    mod3 = map(data, ~lm(LotFrontage.log ~ attr.val.log, .)), \n",
    "    glance3 = map(mod3, broom::glance),\n",
    "    rsq3 = glance3 %>% map_dbl(\"r.squared\")\n",
    ") %>%\n",
    "arrange(desc(rsq)) %>%\n",
    "select(attr.name, rsq, rsq2, rsq3) %>%\n",
    "print"
   ]
  },
  {
   "cell_type": "code",
   "execution_count": 45,
   "metadata": {},
   "outputs": [
    {
     "data": {
      "text/html": [
       "<table>\n",
       "<thead><tr><th scope=col>attr.name</th><th scope=col>attr.val</th><th scope=col>attr.val.log</th><th scope=col>LotFrontage.log</th><th scope=col>LotArea.log</th></tr></thead>\n",
       "<tbody>\n",
       "\t<tr><td>OverallQual</td><td>7          </td><td>1.945910   </td><td>4.174387   </td><td>9.041922   </td></tr>\n",
       "\t<tr><td>OverallQual</td><td>6          </td><td>1.791759   </td><td>4.382027   </td><td>9.169518   </td></tr>\n",
       "\t<tr><td>OverallQual</td><td>7          </td><td>1.945910   </td><td>4.219508   </td><td>9.328123   </td></tr>\n",
       "\t<tr><td>OverallQual</td><td>7          </td><td>1.945910   </td><td>4.094345   </td><td>9.164296   </td></tr>\n",
       "\t<tr><td>OverallQual</td><td>8          </td><td>2.079442   </td><td>4.430817   </td><td>9.565214   </td></tr>\n",
       "\t<tr><td>OverallQual</td><td>5          </td><td>1.609438   </td><td>4.442651   </td><td>9.554993   </td></tr>\n",
       "</tbody>\n",
       "</table>\n"
      ],
      "text/latex": [
       "\\begin{tabular}{r|lllll}\n",
       " attr.name & attr.val & attr.val.log & LotFrontage.log & LotArea.log\\\\\n",
       "\\hline\n",
       "\t OverallQual & 7           & 1.945910    & 4.174387    & 9.041922   \\\\\n",
       "\t OverallQual & 6           & 1.791759    & 4.382027    & 9.169518   \\\\\n",
       "\t OverallQual & 7           & 1.945910    & 4.219508    & 9.328123   \\\\\n",
       "\t OverallQual & 7           & 1.945910    & 4.094345    & 9.164296   \\\\\n",
       "\t OverallQual & 8           & 2.079442    & 4.430817    & 9.565214   \\\\\n",
       "\t OverallQual & 5           & 1.609438    & 4.442651    & 9.554993   \\\\\n",
       "\\end{tabular}\n"
      ],
      "text/markdown": [
       "\n",
       "attr.name | attr.val | attr.val.log | LotFrontage.log | LotArea.log | \n",
       "|---|---|---|---|---|---|\n",
       "| OverallQual | 7           | 1.945910    | 4.174387    | 9.041922    | \n",
       "| OverallQual | 6           | 1.791759    | 4.382027    | 9.169518    | \n",
       "| OverallQual | 7           | 1.945910    | 4.219508    | 9.328123    | \n",
       "| OverallQual | 7           | 1.945910    | 4.094345    | 9.164296    | \n",
       "| OverallQual | 8           | 2.079442    | 4.430817    | 9.565214    | \n",
       "| OverallQual | 5           | 1.609438    | 4.442651    | 9.554993    | \n",
       "\n",
       "\n"
      ],
      "text/plain": [
       "  attr.name   attr.val attr.val.log LotFrontage.log LotArea.log\n",
       "1 OverallQual 7        1.945910     4.174387        9.041922   \n",
       "2 OverallQual 6        1.791759     4.382027        9.169518   \n",
       "3 OverallQual 7        1.945910     4.219508        9.328123   \n",
       "4 OverallQual 7        1.945910     4.094345        9.164296   \n",
       "5 OverallQual 8        2.079442     4.430817        9.565214   \n",
       "6 OverallQual 5        1.609438     4.442651        9.554993   "
      ]
     },
     "metadata": {},
     "output_type": "display_data"
    },
    {
     "data": {
      "text/html": [
       "<table>\n",
       "<thead><tr><th scope=col>n</th></tr></thead>\n",
       "<tbody>\n",
       "\t<tr><td>80289</td></tr>\n",
       "</tbody>\n",
       "</table>\n"
      ],
      "text/latex": [
       "\\begin{tabular}{r|l}\n",
       " n\\\\\n",
       "\\hline\n",
       "\t 80289\\\\\n",
       "\\end{tabular}\n"
      ],
      "text/markdown": [
       "\n",
       "n | \n",
       "|---|\n",
       "| 80289 | \n",
       "\n",
       "\n"
      ],
      "text/plain": [
       "  n    \n",
       "1 80289"
      ]
     },
     "metadata": {},
     "output_type": "display_data"
    }
   ],
   "source": [
    "df.combined %>% \n",
    "select_if(is.numeric) %>%\n",
    "gather(attr.name, attr.val, -LotFrontage, -LotArea) %>%\n",
    "mutate(\n",
    "    attr.val.log = ifelse(attr.val > 0, log(attr.val), 0),\n",
    "    LotFrontage.log = log(LotFrontage),\n",
    "    LotArea.log = log(LotArea)\n",
    ") %>%\n",
    "select(-LotFrontage, -LotArea) -> df.combined.long2\n",
    "\n",
    "df.combined.long2 %>% head\n",
    "df.combined.long2 %>% count"
   ]
  },
  {
   "cell_type": "code",
   "execution_count": 46,
   "metadata": {},
   "outputs": [
    {
     "name": "stdout",
     "output_type": "stream",
     "text": [
      "# A tibble: 33 x 3\n",
      "      attr.name      rsq1      rsq2\n",
      "          <chr>     <dbl>     <dbl>\n",
      " 1    X1stFlrSF 0.5952974 0.5986197\n",
      " 2   GarageArea 0.5932784 0.5883477\n",
      " 3  TotalBsmtSF 0.5926353 0.5885418\n",
      " 4   MasVnrArea 0.5922331 0.5943946\n",
      " 5 TotRmsAbvGrd 0.5918779 0.5929072\n",
      " 6   GarageCars 0.5915473 0.5908690\n",
      " 7 BedroomAbvGr 0.5912319 0.5936016\n",
      " 8    BsmtUnfSF 0.5912117 0.5895906\n",
      " 9    GrLivArea 0.5891953 0.5892236\n",
      "10  OverallQual 0.5888413 0.5885256\n",
      "# ... with 23 more rows\n"
     ]
    }
   ],
   "source": [
    "df.combined.long2 %>% \n",
    "group_by(attr.name) %>% \n",
    "nest %>% \n",
    "mutate(\n",
    "    mod1 = map(data, ~lm(LotFrontage.log ~ LotArea.log + attr.val, .)), \n",
    "    glance1 = map(mod1, broom::glance),\n",
    "    rsq1 = glance1 %>% map_dbl(\"r.squared\"),\n",
    "    \n",
    "    mod2 = map(data, ~lm(LotFrontage.log ~ LotArea.log + attr.val.log, .)), \n",
    "    glance2 = map(mod2, broom::glance),\n",
    "    rsq2 = glance2 %>% map_dbl(\"r.squared\")\n",
    ") %>%\n",
    "arrange(desc(rsq1)) %>%\n",
    "select(attr.name, rsq1, rsq2) %>%\n",
    "print"
   ]
  },
  {
   "cell_type": "code",
   "execution_count": null,
   "metadata": {
    "collapsed": true
   },
   "outputs": [],
   "source": []
  },
  {
   "cell_type": "code",
   "execution_count": null,
   "metadata": {
    "collapsed": true
   },
   "outputs": [],
   "source": []
  },
  {
   "cell_type": "code",
   "execution_count": null,
   "metadata": {
    "collapsed": true
   },
   "outputs": [],
   "source": []
  },
  {
   "cell_type": "code",
   "execution_count": null,
   "metadata": {
    "collapsed": true
   },
   "outputs": [],
   "source": []
  },
  {
   "cell_type": "code",
   "execution_count": null,
   "metadata": {
    "collapsed": true
   },
   "outputs": [],
   "source": []
  },
  {
   "cell_type": "code",
   "execution_count": null,
   "metadata": {
    "collapsed": true
   },
   "outputs": [],
   "source": []
  },
  {
   "cell_type": "code",
   "execution_count": null,
   "metadata": {
    "collapsed": true
   },
   "outputs": [],
   "source": []
  },
  {
   "cell_type": "code",
   "execution_count": null,
   "metadata": {
    "collapsed": true
   },
   "outputs": [],
   "source": []
  },
  {
   "cell_type": "code",
   "execution_count": null,
   "metadata": {
    "collapsed": true
   },
   "outputs": [],
   "source": []
  },
  {
   "cell_type": "code",
   "execution_count": null,
   "metadata": {
    "collapsed": true
   },
   "outputs": [],
   "source": []
  },
  {
   "cell_type": "code",
   "execution_count": null,
   "metadata": {
    "collapsed": true
   },
   "outputs": [],
   "source": []
  },
  {
   "cell_type": "code",
   "execution_count": null,
   "metadata": {
    "collapsed": true
   },
   "outputs": [],
   "source": []
  },
  {
   "cell_type": "code",
   "execution_count": null,
   "metadata": {
    "collapsed": true
   },
   "outputs": [],
   "source": []
  },
  {
   "cell_type": "code",
   "execution_count": null,
   "metadata": {
    "collapsed": true
   },
   "outputs": [],
   "source": []
  },
  {
   "cell_type": "code",
   "execution_count": null,
   "metadata": {
    "collapsed": true
   },
   "outputs": [],
   "source": []
  },
  {
   "cell_type": "code",
   "execution_count": null,
   "metadata": {
    "collapsed": true
   },
   "outputs": [],
   "source": []
  },
  {
   "cell_type": "code",
   "execution_count": null,
   "metadata": {
    "collapsed": true
   },
   "outputs": [],
   "source": []
  },
  {
   "cell_type": "code",
   "execution_count": null,
   "metadata": {
    "collapsed": true
   },
   "outputs": [],
   "source": []
  },
  {
   "cell_type": "code",
   "execution_count": null,
   "metadata": {
    "collapsed": true
   },
   "outputs": [],
   "source": []
  },
  {
   "cell_type": "code",
   "execution_count": null,
   "metadata": {
    "collapsed": true
   },
   "outputs": [],
   "source": []
  }
 ],
 "metadata": {
  "kernelspec": {
   "display_name": "R",
   "language": "R",
   "name": "ir"
  },
  "language_info": {
   "codemirror_mode": "r",
   "file_extension": ".r",
   "mimetype": "text/x-r-source",
   "name": "R",
   "pygments_lexer": "r",
   "version": "3.4.0"
  }
 },
 "nbformat": 4,
 "nbformat_minor": 2
}
