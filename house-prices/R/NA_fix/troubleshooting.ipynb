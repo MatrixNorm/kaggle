{
 "cells": [
  {
   "cell_type": "code",
   "execution_count": 26,
   "metadata": {},
   "outputs": [],
   "source": [
    "source('helpers.R')\n",
    "source('../utils.R')\n",
    "\n",
    "loadLibraries()\n",
    "x = loadData()"
   ]
  },
  {
   "cell_type": "code",
   "execution_count": 28,
   "metadata": {},
   "outputs": [],
   "source": [
    "df.combined =  x$combined %>% \n",
    "    mutate(MSSubClass = as.character(MSSubClass), \n",
    "           YearBuiltChar = as.character(YearBuilt),\n",
    "           LotAreaSqrt = sqrt(LotArea),\n",
    "           LotAreaLog = log(LotFrontage)\n",
    "    )\n",
    "\n",
    "df.lot_frontage = df.combined %>% filter(!is.na(LotFrontage))\n",
    "df.lot_frontage.na = df.combined %>% filter(is.na(LotFrontage))\n",
    "df.lot_frontage.cutted = df.lot_frontage %>% filter(LotFrontage < 130)\n",
    "\n",
    "df.train = df.combined %>% filter(dataSource == \"train\") %>% mutate(LotFrontageCalc = NA)\n",
    "df.train.copy = df.combined %>% filter(dataSource == \"train\") %>% mutate(LotFrontageCalc = NA)"
   ]
  },
  {
   "cell_type": "code",
   "execution_count": 29,
   "metadata": {
    "collapsed": true
   },
   "outputs": [],
   "source": [
    "df.data.BrkSide = df.lot_frontage %>% filter(Neighborhood == 'BrkSide')\n",
    "df.data.BrkSide.RL = df.data.BrkSide %>% filter(MSZoning == \"RL\")\n",
    "df.data.BrkSide.RM = df.data.BrkSide %>% filter(MSZoning == \"RM\")\n",
    "\n",
    "df.train.BrkSide = df.train %>% filter(Neighborhood == 'BrkSide')\n",
    "df.train.BrkSide.RL = df.train.BrkSide %>% filter(MSZoning == \"RL\")\n",
    "df.train.BrkSide.RM = df.train.BrkSide %>% filter(MSZoning == \"RM\")\n",
    "\n",
    "lm.BrkSide.RL = lm(LotFrontage ~ LotAreaSqrt, data = df.data.BrkSide.RL)\n",
    "predicted = predict(lm.BrkSide.RL, df.train.BrkSide.RL)"
   ]
  },
  {
   "cell_type": "code",
   "execution_count": 35,
   "metadata": {},
   "outputs": [
    {
     "data": {
      "text/html": [
       "<table>\n",
       "<thead><tr><th scope=col>LotFrontageCalc</th></tr></thead>\n",
       "<tbody>\n",
       "\t<tr><td>59.57941</td></tr>\n",
       "\t<tr><td>59.64762</td></tr>\n",
       "\t<tr><td>51.09050</td></tr>\n",
       "\t<tr><td>58.98478</td></tr>\n",
       "\t<tr><td>64.34459</td></tr>\n",
       "\t<tr><td>74.53309</td></tr>\n",
       "</tbody>\n",
       "</table>\n"
      ],
      "text/latex": [
       "\\begin{tabular}{r|l}\n",
       " LotFrontageCalc\\\\\n",
       "\\hline\n",
       "\t 59.57941\\\\\n",
       "\t 59.64762\\\\\n",
       "\t 51.09050\\\\\n",
       "\t 58.98478\\\\\n",
       "\t 64.34459\\\\\n",
       "\t 74.53309\\\\\n",
       "\\end{tabular}\n"
      ],
      "text/markdown": [
       "\n",
       "LotFrontageCalc | \n",
       "|---|---|---|---|---|---|\n",
       "| 59.57941 | \n",
       "| 59.64762 | \n",
       "| 51.09050 | \n",
       "| 58.98478 | \n",
       "| 64.34459 | \n",
       "| 74.53309 | \n",
       "\n",
       "\n"
      ],
      "text/plain": [
       "  LotFrontageCalc\n",
       "1 59.57941       \n",
       "2 59.64762       \n",
       "3 51.09050       \n",
       "4 58.98478       \n",
       "5 64.34459       \n",
       "6 74.53309       "
      ]
     },
     "metadata": {},
     "output_type": "display_data"
    }
   ],
   "source": [
    "df.train[df.train$Neighborhood == 'BrkSide' & df.train$MSZoning == 'RL', \"LotFrontageCalc\"] = predicted\n",
    "\n",
    "head(df.train %>% filter(Neighborhood == 'BrkSide' & MSZoning == \"RL\") %>% select(LotFrontageCalc))"
   ]
  },
  {
   "cell_type": "code",
   "execution_count": 36,
   "metadata": {},
   "outputs": [
    {
     "data": {
      "text/html": [
       "<table>\n",
       "<thead><tr><th scope=col>LotFrontageCalc</th></tr></thead>\n",
       "<tbody>\n",
       "\t<tr><td>58.02228</td></tr>\n",
       "\t<tr><td>98.83280</td></tr>\n",
       "\t<tr><td>77.94128</td></tr>\n",
       "\t<tr><td>79.25051</td></tr>\n",
       "\t<tr><td>58.02228</td></tr>\n",
       "\t<tr><td>53.48631</td></tr>\n",
       "</tbody>\n",
       "</table>\n"
      ],
      "text/latex": [
       "\\begin{tabular}{r|l}\n",
       " LotFrontageCalc\\\\\n",
       "\\hline\n",
       "\t 58.02228\\\\\n",
       "\t 98.83280\\\\\n",
       "\t 77.94128\\\\\n",
       "\t 79.25051\\\\\n",
       "\t 58.02228\\\\\n",
       "\t 53.48631\\\\\n",
       "\\end{tabular}\n"
      ],
      "text/markdown": [
       "\n",
       "LotFrontageCalc | \n",
       "|---|---|---|---|---|---|\n",
       "| 58.02228 | \n",
       "| 98.83280 | \n",
       "| 77.94128 | \n",
       "| 79.25051 | \n",
       "| 58.02228 | \n",
       "| 53.48631 | \n",
       "\n",
       "\n"
      ],
      "text/plain": [
       "  LotFrontageCalc\n",
       "1 58.02228       \n",
       "2 98.83280       \n",
       "3 77.94128       \n",
       "4 79.25051       \n",
       "5 58.02228       \n",
       "6 53.48631       "
      ]
     },
     "metadata": {},
     "output_type": "display_data"
    }
   ],
   "source": [
    "df.train.modified = df.train.copy %>%\n",
    "    mutate(LotFrontageCalc = \n",
    "             ifelse(Neighborhood == 'BrkSide' & MSZoning == \"RL\", \n",
    "                  predicted,\n",
    "                  LotFrontageCalc\n",
    "             )\n",
    "    )\n",
    "\n",
    "head(df.train.modified %>% filter(Neighborhood == 'BrkSide' & MSZoning == \"RL\") %>% select(LotFrontageCalc))"
   ]
  },
  {
   "cell_type": "code",
   "execution_count": 37,
   "metadata": {},
   "outputs": [
    {
     "data": {
      "text/html": [
       "<table>\n",
       "<thead><tr><th scope=col>LotFrontageCalc</th></tr></thead>\n",
       "<tbody>\n",
       "\t<tr><td>59.57941</td></tr>\n",
       "\t<tr><td>59.57941</td></tr>\n",
       "\t<tr><td>59.57941</td></tr>\n",
       "\t<tr><td>59.57941</td></tr>\n",
       "\t<tr><td>59.57941</td></tr>\n",
       "\t<tr><td>59.57941</td></tr>\n",
       "</tbody>\n",
       "</table>\n"
      ],
      "text/latex": [
       "\\begin{tabular}{r|l}\n",
       " LotFrontageCalc\\\\\n",
       "\\hline\n",
       "\t 59.57941\\\\\n",
       "\t 59.57941\\\\\n",
       "\t 59.57941\\\\\n",
       "\t 59.57941\\\\\n",
       "\t 59.57941\\\\\n",
       "\t 59.57941\\\\\n",
       "\\end{tabular}\n"
      ],
      "text/markdown": [
       "\n",
       "LotFrontageCalc | \n",
       "|---|---|---|---|---|---|\n",
       "| 59.57941 | \n",
       "| 59.57941 | \n",
       "| 59.57941 | \n",
       "| 59.57941 | \n",
       "| 59.57941 | \n",
       "| 59.57941 | \n",
       "\n",
       "\n"
      ],
      "text/plain": [
       "  LotFrontageCalc\n",
       "1 59.57941       \n",
       "2 59.57941       \n",
       "3 59.57941       \n",
       "4 59.57941       \n",
       "5 59.57941       \n",
       "6 59.57941       "
      ]
     },
     "metadata": {},
     "output_type": "display_data"
    }
   ],
   "source": [
    "df.train.modified2 = df.train.copy %>% rowwise() %>%\n",
    "    mutate(LotFrontageCalc = \n",
    "             ifelse(Neighborhood == 'BrkSide' & MSZoning == \"RL\", \n",
    "                  predicted,\n",
    "                  LotFrontageCalc\n",
    "             )\n",
    "    )\n",
    "\n",
    "head(df.train.modified2 %>% filter(Neighborhood == 'BrkSide' & MSZoning == \"RL\") %>% select(LotFrontageCalc))"
   ]
  },
  {
   "cell_type": "code",
   "execution_count": null,
   "metadata": {},
   "outputs": [],
   "source": []
  },
  {
   "cell_type": "code",
   "execution_count": null,
   "metadata": {
    "collapsed": true
   },
   "outputs": [],
   "source": []
  },
  {
   "cell_type": "code",
   "execution_count": null,
   "metadata": {
    "collapsed": true
   },
   "outputs": [],
   "source": []
  },
  {
   "cell_type": "code",
   "execution_count": null,
   "metadata": {
    "collapsed": true
   },
   "outputs": [],
   "source": []
  },
  {
   "cell_type": "code",
   "execution_count": null,
   "metadata": {
    "collapsed": true
   },
   "outputs": [],
   "source": []
  },
  {
   "cell_type": "code",
   "execution_count": null,
   "metadata": {
    "collapsed": true
   },
   "outputs": [],
   "source": []
  },
  {
   "cell_type": "code",
   "execution_count": null,
   "metadata": {
    "collapsed": true
   },
   "outputs": [],
   "source": []
  },
  {
   "cell_type": "code",
   "execution_count": null,
   "metadata": {
    "collapsed": true
   },
   "outputs": [],
   "source": []
  },
  {
   "cell_type": "code",
   "execution_count": null,
   "metadata": {
    "collapsed": true
   },
   "outputs": [],
   "source": []
  },
  {
   "cell_type": "code",
   "execution_count": null,
   "metadata": {
    "collapsed": true
   },
   "outputs": [],
   "source": []
  },
  {
   "cell_type": "code",
   "execution_count": null,
   "metadata": {
    "collapsed": true
   },
   "outputs": [],
   "source": []
  },
  {
   "cell_type": "code",
   "execution_count": null,
   "metadata": {
    "collapsed": true
   },
   "outputs": [],
   "source": []
  },
  {
   "cell_type": "code",
   "execution_count": null,
   "metadata": {
    "collapsed": true
   },
   "outputs": [],
   "source": []
  },
  {
   "cell_type": "code",
   "execution_count": null,
   "metadata": {
    "collapsed": true
   },
   "outputs": [],
   "source": []
  },
  {
   "cell_type": "code",
   "execution_count": null,
   "metadata": {
    "collapsed": true
   },
   "outputs": [],
   "source": []
  },
  {
   "cell_type": "code",
   "execution_count": null,
   "metadata": {
    "collapsed": true
   },
   "outputs": [],
   "source": []
  },
  {
   "cell_type": "code",
   "execution_count": null,
   "metadata": {
    "collapsed": true
   },
   "outputs": [],
   "source": []
  },
  {
   "cell_type": "code",
   "execution_count": null,
   "metadata": {
    "collapsed": true
   },
   "outputs": [],
   "source": []
  },
  {
   "cell_type": "code",
   "execution_count": null,
   "metadata": {
    "collapsed": true
   },
   "outputs": [],
   "source": []
  },
  {
   "cell_type": "code",
   "execution_count": null,
   "metadata": {
    "collapsed": true
   },
   "outputs": [],
   "source": []
  },
  {
   "cell_type": "code",
   "execution_count": null,
   "metadata": {
    "collapsed": true
   },
   "outputs": [],
   "source": []
  },
  {
   "cell_type": "code",
   "execution_count": null,
   "metadata": {
    "collapsed": true
   },
   "outputs": [],
   "source": []
  }
 ],
 "metadata": {
  "kernelspec": {
   "display_name": "R",
   "language": "R",
   "name": "ir"
  },
  "language_info": {
   "codemirror_mode": "r",
   "file_extension": ".r",
   "mimetype": "text/x-r-source",
   "name": "R",
   "pygments_lexer": "r",
   "version": "3.4.0"
  }
 },
 "nbformat": 4,
 "nbformat_minor": 2
}
