{
 "cells": [
  {
   "cell_type": "code",
   "execution_count": 1,
   "metadata": {},
   "outputs": [
    {
     "data": {
      "text/html": [
       "'/mnt/hdd/develop/kaggle/house-prices/R/NA_fix'"
      ],
      "text/latex": [
       "'/mnt/hdd/develop/kaggle/house-prices/R/NA\\_fix'"
      ],
      "text/markdown": [
       "'/mnt/hdd/develop/kaggle/house-prices/R/NA_fix'"
      ],
      "text/plain": [
       "[1] \"/mnt/hdd/develop/kaggle/house-prices/R/NA_fix\""
      ]
     },
     "metadata": {},
     "output_type": "display_data"
    },
    {
     "data": {
      "text/html": [
       "'/mnt/hdd/develop/kaggle/house-prices/R'"
      ],
      "text/latex": [
       "'/mnt/hdd/develop/kaggle/house-prices/R'"
      ],
      "text/markdown": [
       "'/mnt/hdd/develop/kaggle/house-prices/R'"
      ],
      "text/plain": [
       "[1] \"/mnt/hdd/develop/kaggle/house-prices/R\""
      ]
     },
     "metadata": {},
     "output_type": "display_data"
    }
   ],
   "source": [
    "getwd()\n",
    "if ( is.null(environment()$this_notebook_dir) ) {\n",
    "    this_notebook_dir <- getwd()\n",
    "    setwd(paste0(getwd(), '/..'))\n",
    "}\n",
    "getwd()"
   ]
  },
  {
   "cell_type": "code",
   "execution_count": 3,
   "metadata": {},
   "outputs": [
    {
     "data": {
      "text/html": [
       "<ol class=list-inline>\n",
       "\t<li>2433</li>\n",
       "\t<li>81</li>\n",
       "</ol>\n"
      ],
      "text/latex": [
       "\\begin{enumerate*}\n",
       "\\item 2433\n",
       "\\item 81\n",
       "\\end{enumerate*}\n"
      ],
      "text/markdown": [
       "1. 2433\n",
       "2. 81\n",
       "\n",
       "\n"
      ],
      "text/plain": [
       "[1] 2433   81"
      ]
     },
     "metadata": {},
     "output_type": "display_data"
    }
   ],
   "source": [
    "source('helpers.R')\n",
    "\n",
    "kaggle.house.loadLibraries()\n",
    "data <- kaggle.house.loadData()\n",
    "\n",
    "data$combined %>% \n",
    "select(-dataSource) %>% \n",
    "filter(!is.na(LotFrontage)) %>% \n",
    "mutate(\n",
    "    LotFrontage.log = log(LotFrontage),\n",
    "    LotArea.log = log(LotArea)\n",
    ") -> df.LotFrontage\n",
    "\n",
    "df.LotFrontage %>% dim"
   ]
  },
  {
   "cell_type": "code",
   "execution_count": 4,
   "metadata": {},
   "outputs": [
    {
     "data": {
      "text/plain": [
       "\n",
       "Call:\n",
       "lm(formula = LotFrontage.log ~ LotArea.log + MSSubClass + Neighborhood, \n",
       "    data = .)\n",
       "\n",
       "Residuals:\n",
       "     Min       1Q   Median       3Q      Max \n",
       "-0.94486 -0.08362 -0.00344  0.09205  1.12980 \n",
       "\n",
       "Coefficients:\n",
       "                    Estimate Std. Error t value Pr(>|t|)    \n",
       "(Intercept)          1.33677    0.11911  11.223  < 2e-16 ***\n",
       "LotArea.log          0.30096    0.01377  21.849  < 2e-16 ***\n",
       "MSSubClass160       -0.16048    0.03153  -5.089 3.88e-07 ***\n",
       "MSSubClass180       -0.15344    0.05955  -2.577 0.010038 *  \n",
       "MSSubClass190        0.35306    0.03649   9.676  < 2e-16 ***\n",
       "MSSubClass20         0.39720    0.02245  17.696  < 2e-16 ***\n",
       "MSSubClass30         0.32701    0.03061  10.683  < 2e-16 ***\n",
       "MSSubClass40         0.16832    0.09232   1.823 0.068401 .  \n",
       "MSSubClass45         0.26417    0.05259   5.023 5.46e-07 ***\n",
       "MSSubClass50         0.31108    0.02731  11.390  < 2e-16 ***\n",
       "MSSubClass60         0.39258    0.02355  16.671  < 2e-16 ***\n",
       "MSSubClass70         0.31639    0.03152  10.039  < 2e-16 ***\n",
       "MSSubClass75         0.40268    0.05114   7.875 5.13e-15 ***\n",
       "MSSubClass80         0.44335    0.03080  14.395  < 2e-16 ***\n",
       "MSSubClass85         0.41882    0.04158  10.072  < 2e-16 ***\n",
       "MSSubClass90         0.37933    0.03014  12.586  < 2e-16 ***\n",
       "NeighborhoodBlueste -0.24242    0.07952  -3.048 0.002325 ** \n",
       "NeighborhoodBrDale  -0.36960    0.06455  -5.726 1.16e-08 ***\n",
       "NeighborhoodBrkSide -0.29349    0.05337  -5.499 4.22e-08 ***\n",
       "NeighborhoodClearCr -0.18512    0.06642  -2.787 0.005359 ** \n",
       "NeighborhoodCollgCr -0.24920    0.04958  -5.026 5.38e-07 ***\n",
       "NeighborhoodCrawfor -0.17993    0.05294  -3.399 0.000688 ***\n",
       "NeighborhoodEdwards -0.25482    0.05027  -5.069 4.30e-07 ***\n",
       "NeighborhoodGilbert -0.27036    0.05193  -5.206 2.09e-07 ***\n",
       "NeighborhoodIDOTRR  -0.26370    0.05368  -4.912 9.62e-07 ***\n",
       "NeighborhoodMeadowV -0.27262    0.06310  -4.320 1.62e-05 ***\n",
       "NeighborhoodMitchel -0.23452    0.05237  -4.478 7.89e-06 ***\n",
       "NeighborhoodNAmes   -0.17770    0.04884  -3.638 0.000280 ***\n",
       "NeighborhoodNoRidge -0.06828    0.05587  -1.222 0.221795    \n",
       "NeighborhoodNPkVill -0.30751    0.06416  -4.793 1.75e-06 ***\n",
       "NeighborhoodNridgHt -0.03535    0.04950  -0.714 0.475230    \n",
       "NeighborhoodNWAmes  -0.14460    0.05268  -2.745 0.006097 ** \n",
       "NeighborhoodOldTown -0.26805    0.05082  -5.275 1.45e-07 ***\n",
       "NeighborhoodSawyer  -0.20707    0.05204  -3.979 7.12e-05 ***\n",
       "NeighborhoodSawyerW -0.20707    0.05125  -4.040 5.50e-05 ***\n",
       "NeighborhoodSomerst -0.16529    0.04969  -3.326 0.000893 ***\n",
       "NeighborhoodStoneBr -0.23268    0.05494  -4.235 2.37e-05 ***\n",
       "NeighborhoodSWISU   -0.27903    0.05755  -4.849 1.32e-06 ***\n",
       "NeighborhoodTimber  -0.20343    0.05493  -3.703 0.000218 ***\n",
       "NeighborhoodVeenker -0.30536    0.06890  -4.432 9.76e-06 ***\n",
       "---\n",
       "Signif. codes:  0 ‘***’ 0.001 ‘**’ 0.01 ‘*’ 0.05 ‘.’ 0.1 ‘ ’ 1\n",
       "\n",
       "Residual standard error: 0.1984 on 2393 degrees of freedom\n",
       "Multiple R-squared:  0.6975,\tAdjusted R-squared:  0.6926 \n",
       "F-statistic: 141.5 on 39 and 2393 DF,  p-value: < 2.2e-16\n"
      ]
     },
     "metadata": {},
     "output_type": "display_data"
    },
    {
     "data": {
      "text/html": [
       "94.1569371585428"
      ],
      "text/latex": [
       "94.1569371585428"
      ],
      "text/markdown": [
       "94.1569371585428"
      ],
      "text/plain": [
       "[1] 94.15694"
      ]
     },
     "metadata": {},
     "output_type": "display_data"
    }
   ],
   "source": [
    "df <- df.LotFrontage %>%\n",
    "select(LotFrontage.log, LotArea.log, MSSubClass, Neighborhood) %>% \n",
    "lm(LotFrontage.log ~ LotArea.log + MSSubClass + Neighborhood, data = .) -> model\n",
    "\n",
    "model %>% summary\n",
    "sum(model$residuals ^ 2)"
   ]
  },
  {
   "cell_type": "code",
   "execution_count": null,
   "metadata": {
    "collapsed": true
   },
   "outputs": [],
   "source": []
  },
  {
   "cell_type": "code",
   "execution_count": null,
   "metadata": {
    "collapsed": true
   },
   "outputs": [],
   "source": []
  },
  {
   "cell_type": "code",
   "execution_count": null,
   "metadata": {
    "collapsed": true
   },
   "outputs": [],
   "source": []
  },
  {
   "cell_type": "code",
   "execution_count": null,
   "metadata": {
    "collapsed": true
   },
   "outputs": [],
   "source": []
  },
  {
   "cell_type": "code",
   "execution_count": null,
   "metadata": {
    "collapsed": true
   },
   "outputs": [],
   "source": []
  },
  {
   "cell_type": "code",
   "execution_count": null,
   "metadata": {
    "collapsed": true
   },
   "outputs": [],
   "source": []
  },
  {
   "cell_type": "code",
   "execution_count": null,
   "metadata": {
    "collapsed": true
   },
   "outputs": [],
   "source": []
  },
  {
   "cell_type": "code",
   "execution_count": null,
   "metadata": {
    "collapsed": true
   },
   "outputs": [],
   "source": []
  },
  {
   "cell_type": "code",
   "execution_count": null,
   "metadata": {
    "collapsed": true
   },
   "outputs": [],
   "source": []
  },
  {
   "cell_type": "code",
   "execution_count": null,
   "metadata": {
    "collapsed": true
   },
   "outputs": [],
   "source": []
  },
  {
   "cell_type": "code",
   "execution_count": null,
   "metadata": {
    "collapsed": true
   },
   "outputs": [],
   "source": []
  },
  {
   "cell_type": "code",
   "execution_count": null,
   "metadata": {
    "collapsed": true
   },
   "outputs": [],
   "source": []
  },
  {
   "cell_type": "code",
   "execution_count": null,
   "metadata": {
    "collapsed": true
   },
   "outputs": [],
   "source": []
  },
  {
   "cell_type": "code",
   "execution_count": null,
   "metadata": {
    "collapsed": true
   },
   "outputs": [],
   "source": []
  },
  {
   "cell_type": "code",
   "execution_count": null,
   "metadata": {
    "collapsed": true
   },
   "outputs": [],
   "source": []
  },
  {
   "cell_type": "code",
   "execution_count": null,
   "metadata": {
    "collapsed": true
   },
   "outputs": [],
   "source": []
  },
  {
   "cell_type": "code",
   "execution_count": null,
   "metadata": {
    "collapsed": true
   },
   "outputs": [],
   "source": []
  },
  {
   "cell_type": "code",
   "execution_count": null,
   "metadata": {
    "collapsed": true
   },
   "outputs": [],
   "source": []
  },
  {
   "cell_type": "code",
   "execution_count": null,
   "metadata": {
    "collapsed": true
   },
   "outputs": [],
   "source": []
  },
  {
   "cell_type": "code",
   "execution_count": null,
   "metadata": {
    "collapsed": true
   },
   "outputs": [],
   "source": []
  },
  {
   "cell_type": "code",
   "execution_count": null,
   "metadata": {
    "collapsed": true
   },
   "outputs": [],
   "source": []
  },
  {
   "cell_type": "code",
   "execution_count": null,
   "metadata": {
    "collapsed": true
   },
   "outputs": [],
   "source": []
  },
  {
   "cell_type": "code",
   "execution_count": null,
   "metadata": {
    "collapsed": true
   },
   "outputs": [],
   "source": []
  },
  {
   "cell_type": "code",
   "execution_count": null,
   "metadata": {
    "collapsed": true
   },
   "outputs": [],
   "source": []
  },
  {
   "cell_type": "code",
   "execution_count": null,
   "metadata": {
    "collapsed": true
   },
   "outputs": [],
   "source": []
  }
 ],
 "metadata": {
  "kernelspec": {
   "display_name": "R",
   "language": "R",
   "name": "ir"
  },
  "language_info": {
   "codemirror_mode": "r",
   "file_extension": ".r",
   "mimetype": "text/x-r-source",
   "name": "R",
   "pygments_lexer": "r",
   "version": "3.4.0"
  }
 },
 "nbformat": 4,
 "nbformat_minor": 2
}
