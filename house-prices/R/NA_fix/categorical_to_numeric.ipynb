{
 "cells": [
  {
   "cell_type": "code",
   "execution_count": 1,
   "metadata": {},
   "outputs": [
    {
     "data": {
      "text/html": [
       "'/mnt/hdd/develop/kaggle/house-prices/R/NA_fix'"
      ],
      "text/latex": [
       "'/mnt/hdd/develop/kaggle/house-prices/R/NA\\_fix'"
      ],
      "text/markdown": [
       "'/mnt/hdd/develop/kaggle/house-prices/R/NA_fix'"
      ],
      "text/plain": [
       "[1] \"/mnt/hdd/develop/kaggle/house-prices/R/NA_fix\""
      ]
     },
     "metadata": {},
     "output_type": "display_data"
    },
    {
     "data": {
      "text/html": [
       "'/mnt/hdd/develop/kaggle/house-prices/R'"
      ],
      "text/latex": [
       "'/mnt/hdd/develop/kaggle/house-prices/R'"
      ],
      "text/markdown": [
       "'/mnt/hdd/develop/kaggle/house-prices/R'"
      ],
      "text/plain": [
       "[1] \"/mnt/hdd/develop/kaggle/house-prices/R\""
      ]
     },
     "metadata": {},
     "output_type": "display_data"
    }
   ],
   "source": [
    "getwd()\n",
    "if ( is.null(environment()$this_notebook_dir) ) {\n",
    "    this_notebook_dir <- getwd()\n",
    "    setwd(paste0(getwd(), '/..'))\n",
    "}\n",
    "getwd()"
   ]
  },
  {
   "cell_type": "code",
   "execution_count": 20,
   "metadata": {},
   "outputs": [
    {
     "data": {
      "text/html": [
       "<ol class=list-inline>\n",
       "\t<li>2433</li>\n",
       "\t<li>79</li>\n",
       "</ol>\n"
      ],
      "text/latex": [
       "\\begin{enumerate*}\n",
       "\\item 2433\n",
       "\\item 79\n",
       "\\end{enumerate*}\n"
      ],
      "text/markdown": [
       "1. 2433\n",
       "2. 79\n",
       "\n",
       "\n"
      ],
      "text/plain": [
       "[1] 2433   79"
      ]
     },
     "metadata": {},
     "output_type": "display_data"
    },
    {
     "data": {
      "text/html": [
       "<ol class=list-inline>\n",
       "\t<li>2433</li>\n",
       "\t<li>35</li>\n",
       "</ol>\n"
      ],
      "text/latex": [
       "\\begin{enumerate*}\n",
       "\\item 2433\n",
       "\\item 35\n",
       "\\end{enumerate*}\n"
      ],
      "text/markdown": [
       "1. 2433\n",
       "2. 35\n",
       "\n",
       "\n"
      ],
      "text/plain": [
       "[1] 2433   35"
      ]
     },
     "metadata": {},
     "output_type": "display_data"
    },
    {
     "data": {
      "text/html": [
       "<ol class=list-inline>\n",
       "\t<li>2433</li>\n",
       "\t<li>45</li>\n",
       "</ol>\n"
      ],
      "text/latex": [
       "\\begin{enumerate*}\n",
       "\\item 2433\n",
       "\\item 45\n",
       "\\end{enumerate*}\n"
      ],
      "text/markdown": [
       "1. 2433\n",
       "2. 45\n",
       "\n",
       "\n"
      ],
      "text/plain": [
       "[1] 2433   45"
      ]
     },
     "metadata": {},
     "output_type": "display_data"
    }
   ],
   "source": [
    "source('helpers.R')\n",
    "\n",
    "kaggle.house.loadLibraries()\n",
    "data <- kaggle.house.loadData()\n",
    "\n",
    "df.LotFrontage <- data$combined %>% select(-dataSource) %>% filter(!is.na(LotFrontage))\n",
    "\n",
    "df.LotFrontage.vs.numeric <- df.LotFrontage %>% select_if(is.numeric)\n",
    "\n",
    "df.LotFrontage.vs.char <- df.LotFrontage %>% \n",
    "    select(starts_with('LotFrontage'),  \n",
    "           which(sapply(df.LotFrontage, is.character)) %>% names)\n",
    "\n",
    "df.LotFrontage %>% dim\n",
    "df.LotFrontage.vs.numeric %>% dim\n",
    "df.LotFrontage.vs.char %>% dim"
   ]
  },
  {
   "cell_type": "code",
   "execution_count": 21,
   "metadata": {},
   "outputs": [
    {
     "name": "stdout",
     "output_type": "stream",
     "text": [
      "# A tibble: 2 x 3\n",
      "         var      mod                glance\n",
      "       <chr>   <list>                <list>\n",
      "1 MSSubClass <S3: lm> <data.frame [1 x 11]>\n",
      "2   MSZoning <S3: lm> <data.frame [1 x 11]>\n"
     ]
    },
    {
     "data": {
      "text/html": [
       "<table>\n",
       "<thead><tr><th scope=col>var</th><th scope=col>r.squared</th><th scope=col>adj.r.squared</th><th scope=col>sigma</th><th scope=col>statistic</th><th scope=col>p.value</th><th scope=col>df</th><th scope=col>logLik</th><th scope=col>AIC</th><th scope=col>BIC</th><th scope=col>deviance</th><th scope=col>df.residual</th></tr></thead>\n",
       "<tbody>\n",
       "\t<tr><td>MSSubClass   </td><td>0.3539728    </td><td> 0.3502324   </td><td>18.81790     </td><td> 94.6340420  </td><td>3.433373e-217</td><td>15           </td><td>-10585.14332 </td><td>21202.2866   </td><td>21295.0367   </td><td> 856246.0    </td><td>2418         </td></tr>\n",
       "\t<tr><td>BldgType     </td><td>0.2787318    </td><td> 0.2775436   </td><td>19.84257     </td><td>234.5732511  </td><td>1.820384e-170</td><td> 5           </td><td>-10719.16444 </td><td>21450.3289   </td><td>21485.1102   </td><td> 955970.6    </td><td>2428         </td></tr>\n",
       "\t<tr><td>Neighborhood </td><td>0.2676187    </td><td> 0.2603192   </td><td>20.07771     </td><td> 36.6626965  </td><td>1.468147e-143</td><td>25           </td><td>-10737.76508 </td><td>21527.5302   </td><td>21678.2491   </td><td> 970700.0    </td><td>2408         </td></tr>\n",
       "\t<tr><td>LotArea      </td><td>0.2399977    </td><td> 0.2396850   </td><td>20.35583     </td><td>767.6744036  </td><td>4.455289e-147</td><td> 2           </td><td>-10782.80015 </td><td>21571.6003   </td><td>21588.9909   </td><td>1007309.0    </td><td>2431         </td></tr>\n",
       "\t<tr><td>X1stFlrSF    </td><td>0.2099907    </td><td> 0.2096658   </td><td>20.75379     </td><td>646.1791231  </td><td>1.315681e-126</td><td> 2           </td><td>-10829.90688 </td><td>21665.8138   </td><td>21683.2044   </td><td>1047080.2    </td><td>2431         </td></tr>\n",
       "\t<tr><td>PoolQC       </td><td>0.1712089    </td><td>-0.1050548   </td><td>82.69119     </td><td>  0.6197301  </td><td> 5.692922e-01</td><td> 3           </td><td>   -50.68187 </td><td>  109.3637   </td><td>  110.1526   </td><td>  41027.0    </td><td>   6         </td></tr>\n",
       "</tbody>\n",
       "</table>\n"
      ],
      "text/latex": [
       "\\begin{tabular}{r|llllllllllll}\n",
       " var & r.squared & adj.r.squared & sigma & statistic & p.value & df & logLik & AIC & BIC & deviance & df.residual\\\\\n",
       "\\hline\n",
       "\t MSSubClass    & 0.3539728     &  0.3502324    & 18.81790      &  94.6340420   & 3.433373e-217 & 15            & -10585.14332  & 21202.2866    & 21295.0367    &  856246.0     & 2418         \\\\\n",
       "\t BldgType      & 0.2787318     &  0.2775436    & 19.84257      & 234.5732511   & 1.820384e-170 &  5            & -10719.16444  & 21450.3289    & 21485.1102    &  955970.6     & 2428         \\\\\n",
       "\t Neighborhood  & 0.2676187     &  0.2603192    & 20.07771      &  36.6626965   & 1.468147e-143 & 25            & -10737.76508  & 21527.5302    & 21678.2491    &  970700.0     & 2408         \\\\\n",
       "\t LotArea       & 0.2399977     &  0.2396850    & 20.35583      & 767.6744036   & 4.455289e-147 &  2            & -10782.80015  & 21571.6003    & 21588.9909    & 1007309.0     & 2431         \\\\\n",
       "\t X1stFlrSF     & 0.2099907     &  0.2096658    & 20.75379      & 646.1791231   & 1.315681e-126 &  2            & -10829.90688  & 21665.8138    & 21683.2044    & 1047080.2     & 2431         \\\\\n",
       "\t PoolQC        & 0.1712089     & -0.1050548    & 82.69119      &   0.6197301   &  5.692922e-01 &  3            &    -50.68187  &   109.3637    &   110.1526    &   41027.0     &    6         \\\\\n",
       "\\end{tabular}\n"
      ],
      "text/markdown": [
       "\n",
       "var | r.squared | adj.r.squared | sigma | statistic | p.value | df | logLik | AIC | BIC | deviance | df.residual | \n",
       "|---|---|---|---|---|---|\n",
       "| MSSubClass    | 0.3539728     |  0.3502324    | 18.81790      |  94.6340420   | 3.433373e-217 | 15            | -10585.14332  | 21202.2866    | 21295.0367    |  856246.0     | 2418          | \n",
       "| BldgType      | 0.2787318     |  0.2775436    | 19.84257      | 234.5732511   | 1.820384e-170 |  5            | -10719.16444  | 21450.3289    | 21485.1102    |  955970.6     | 2428          | \n",
       "| Neighborhood  | 0.2676187     |  0.2603192    | 20.07771      |  36.6626965   | 1.468147e-143 | 25            | -10737.76508  | 21527.5302    | 21678.2491    |  970700.0     | 2408          | \n",
       "| LotArea       | 0.2399977     |  0.2396850    | 20.35583      | 767.6744036   | 4.455289e-147 |  2            | -10782.80015  | 21571.6003    | 21588.9909    | 1007309.0     | 2431          | \n",
       "| X1stFlrSF     | 0.2099907     |  0.2096658    | 20.75379      | 646.1791231   | 1.315681e-126 |  2            | -10829.90688  | 21665.8138    | 21683.2044    | 1047080.2     | 2431          | \n",
       "| PoolQC        | 0.1712089     | -0.1050548    | 82.69119      |   0.6197301   |  5.692922e-01 |  3            |    -50.68187  |   109.3637    |   110.1526    |   41027.0     |    6          | \n",
       "\n",
       "\n"
      ],
      "text/plain": [
       "  var          r.squared adj.r.squared sigma    statistic   p.value       df\n",
       "1 MSSubClass   0.3539728  0.3502324    18.81790  94.6340420 3.433373e-217 15\n",
       "2 BldgType     0.2787318  0.2775436    19.84257 234.5732511 1.820384e-170  5\n",
       "3 Neighborhood 0.2676187  0.2603192    20.07771  36.6626965 1.468147e-143 25\n",
       "4 LotArea      0.2399977  0.2396850    20.35583 767.6744036 4.455289e-147  2\n",
       "5 X1stFlrSF    0.2099907  0.2096658    20.75379 646.1791231 1.315681e-126  2\n",
       "6 PoolQC       0.1712089 -0.1050548    82.69119   0.6197301  5.692922e-01  3\n",
       "  logLik       AIC        BIC        deviance  df.residual\n",
       "1 -10585.14332 21202.2866 21295.0367  856246.0 2418       \n",
       "2 -10719.16444 21450.3289 21485.1102  955970.6 2428       \n",
       "3 -10737.76508 21527.5302 21678.2491  970700.0 2408       \n",
       "4 -10782.80015 21571.6003 21588.9909 1007309.0 2431       \n",
       "5 -10829.90688 21665.8138 21683.2044 1047080.2 2431       \n",
       "6    -50.68187   109.3637   110.1526   41027.0    6       "
      ]
     },
     "metadata": {},
     "output_type": "display_data"
    }
   ],
   "source": [
    "df.LotFrontage %>% select(-LotFrontage, -Utilities) %>% \n",
    "    map(function (col) {  \n",
    "            lm(LotFrontage ~ attr, tibble(attr=col, LotFrontage=df.LotFrontage$LotFrontage))\n",
    "    }) -> models.lst\n",
    "\n",
    "tibble(\n",
    "    var = names(models.lst),\n",
    "    mod = models.lst,\n",
    "    glance = map(mod, broom::glance)\n",
    ") -> models.df\n",
    "\n",
    "models.df %>% head(2) %>% print\n",
    "\n",
    "models.df %>% select(-mod) %>% unnest(glance) %>% arrange(desc(r.squared)) %>% head"
   ]
  },
  {
   "cell_type": "code",
   "execution_count": 32,
   "metadata": {},
   "outputs": [
    {
     "data": {
      "text/html": [
       "<table>\n",
       "<thead><tr><th scope=col>attr.name</th><th scope=col>r.squared</th><th scope=col>adj.r.squared</th><th scope=col>sigma</th><th scope=col>statistic</th><th scope=col>p.value</th><th scope=col>df</th><th scope=col>logLik</th><th scope=col>AIC</th><th scope=col>BIC</th><th scope=col>deviance</th><th scope=col>df.residual</th></tr></thead>\n",
       "<tbody>\n",
       "\t<tr><td>MSSubClass   </td><td>0.3539728    </td><td> 0.3502324   </td><td>18.81790     </td><td> 94.6340420  </td><td>3.433373e-217</td><td>15           </td><td>-10585.14332 </td><td>21202.2866   </td><td>21295.0367   </td><td> 856246.03   </td><td>2418         </td></tr>\n",
       "\t<tr><td>BldgType     </td><td>0.2787318    </td><td> 0.2775436   </td><td>19.84257     </td><td>234.5732511  </td><td>1.820384e-170</td><td> 5           </td><td>-10719.16444 </td><td>21450.3289   </td><td>21485.1102   </td><td> 955970.63   </td><td>2428         </td></tr>\n",
       "\t<tr><td>Neighborhood </td><td>0.2676187    </td><td> 0.2603192   </td><td>20.07771     </td><td> 36.6626965  </td><td>1.468147e-143</td><td>25           </td><td>-10737.76508 </td><td>21527.5302   </td><td>21678.2491   </td><td> 970700.03   </td><td>2408         </td></tr>\n",
       "\t<tr><td>PoolQC       </td><td>0.1712089    </td><td>-0.1050548   </td><td>82.69119     </td><td>  0.6197301  </td><td> 5.692922e-01</td><td> 3           </td><td>   -50.68187 </td><td>  109.3637   </td><td>  110.1526   </td><td>  41027.00   </td><td>   6         </td></tr>\n",
       "\t<tr><td>Alley        </td><td>0.1587058    </td><td> 0.1541085   </td><td>16.21692     </td><td> 34.5219924  </td><td> 1.953858e-08</td><td> 2           </td><td>  -776.91834 </td><td> 1559.8367   </td><td> 1569.4977   </td><td>  48126.87   </td><td> 183         </td></tr>\n",
       "\t<tr><td>MSZoning     </td><td>0.1374468    </td><td> 0.1360241   </td><td>21.67323     </td><td> 96.6052348  </td><td> 2.316218e-76</td><td> 5           </td><td>-10920.38758 </td><td>21852.7752   </td><td>21887.5490   </td><td>1139092.89   </td><td>2425         </td></tr>\n",
       "</tbody>\n",
       "</table>\n"
      ],
      "text/latex": [
       "\\begin{tabular}{r|llllllllllll}\n",
       " attr.name & r.squared & adj.r.squared & sigma & statistic & p.value & df & logLik & AIC & BIC & deviance & df.residual\\\\\n",
       "\\hline\n",
       "\t MSSubClass    & 0.3539728     &  0.3502324    & 18.81790      &  94.6340420   & 3.433373e-217 & 15            & -10585.14332  & 21202.2866    & 21295.0367    &  856246.03    & 2418         \\\\\n",
       "\t BldgType      & 0.2787318     &  0.2775436    & 19.84257      & 234.5732511   & 1.820384e-170 &  5            & -10719.16444  & 21450.3289    & 21485.1102    &  955970.63    & 2428         \\\\\n",
       "\t Neighborhood  & 0.2676187     &  0.2603192    & 20.07771      &  36.6626965   & 1.468147e-143 & 25            & -10737.76508  & 21527.5302    & 21678.2491    &  970700.03    & 2408         \\\\\n",
       "\t PoolQC        & 0.1712089     & -0.1050548    & 82.69119      &   0.6197301   &  5.692922e-01 &  3            &    -50.68187  &   109.3637    &   110.1526    &   41027.00    &    6         \\\\\n",
       "\t Alley         & 0.1587058     &  0.1541085    & 16.21692      &  34.5219924   &  1.953858e-08 &  2            &   -776.91834  &  1559.8367    &  1569.4977    &   48126.87    &  183         \\\\\n",
       "\t MSZoning      & 0.1374468     &  0.1360241    & 21.67323      &  96.6052348   &  2.316218e-76 &  5            & -10920.38758  & 21852.7752    & 21887.5490    & 1139092.89    & 2425         \\\\\n",
       "\\end{tabular}\n"
      ],
      "text/markdown": [
       "\n",
       "attr.name | r.squared | adj.r.squared | sigma | statistic | p.value | df | logLik | AIC | BIC | deviance | df.residual | \n",
       "|---|---|---|---|---|---|\n",
       "| MSSubClass    | 0.3539728     |  0.3502324    | 18.81790      |  94.6340420   | 3.433373e-217 | 15            | -10585.14332  | 21202.2866    | 21295.0367    |  856246.03    | 2418          | \n",
       "| BldgType      | 0.2787318     |  0.2775436    | 19.84257      | 234.5732511   | 1.820384e-170 |  5            | -10719.16444  | 21450.3289    | 21485.1102    |  955970.63    | 2428          | \n",
       "| Neighborhood  | 0.2676187     |  0.2603192    | 20.07771      |  36.6626965   | 1.468147e-143 | 25            | -10737.76508  | 21527.5302    | 21678.2491    |  970700.03    | 2408          | \n",
       "| PoolQC        | 0.1712089     | -0.1050548    | 82.69119      |   0.6197301   |  5.692922e-01 |  3            |    -50.68187  |   109.3637    |   110.1526    |   41027.00    |    6          | \n",
       "| Alley         | 0.1587058     |  0.1541085    | 16.21692      |  34.5219924   |  1.953858e-08 |  2            |   -776.91834  |  1559.8367    |  1569.4977    |   48126.87    |  183          | \n",
       "| MSZoning      | 0.1374468     |  0.1360241    | 21.67323      |  96.6052348   |  2.316218e-76 |  5            | -10920.38758  | 21852.7752    | 21887.5490    | 1139092.89    | 2425          | \n",
       "\n",
       "\n"
      ],
      "text/plain": [
       "  attr.name    r.squared adj.r.squared sigma    statistic   p.value       df\n",
       "1 MSSubClass   0.3539728  0.3502324    18.81790  94.6340420 3.433373e-217 15\n",
       "2 BldgType     0.2787318  0.2775436    19.84257 234.5732511 1.820384e-170  5\n",
       "3 Neighborhood 0.2676187  0.2603192    20.07771  36.6626965 1.468147e-143 25\n",
       "4 PoolQC       0.1712089 -0.1050548    82.69119   0.6197301  5.692922e-01  3\n",
       "5 Alley        0.1587058  0.1541085    16.21692  34.5219924  1.953858e-08  2\n",
       "6 MSZoning     0.1374468  0.1360241    21.67323  96.6052348  2.316218e-76  5\n",
       "  logLik       AIC        BIC        deviance   df.residual\n",
       "1 -10585.14332 21202.2866 21295.0367  856246.03 2418       \n",
       "2 -10719.16444 21450.3289 21485.1102  955970.63 2428       \n",
       "3 -10737.76508 21527.5302 21678.2491  970700.03 2408       \n",
       "4    -50.68187   109.3637   110.1526   41027.00    6       \n",
       "5   -776.91834  1559.8367  1569.4977   48126.87  183       \n",
       "6 -10920.38758 21852.7752 21887.5490 1139092.89 2425       "
      ]
     },
     "metadata": {},
     "output_type": "display_data"
    }
   ],
   "source": [
    "df.LotFrontage.vs.char %>%\n",
    "select(-Utilities) %>%\n",
    "gather(attr.name, attr.val, -LotFrontage) %>%\n",
    "group_by(attr.name) %>% \n",
    "nest %>% \n",
    "mutate(\n",
    "    mod = map(data, ~lm(LotFrontage ~ attr.val, .)),\n",
    "    glance = map(mod, broom::glance)\n",
    ") %>% \n",
    "select(-data, -mod) %>% \n",
    "unnest(glance) %>%\n",
    "arrange(desc(r.squared)) %>%\n",
    "head"
   ]
  },
  {
   "cell_type": "code",
   "execution_count": null,
   "metadata": {
    "collapsed": true
   },
   "outputs": [],
   "source": []
  },
  {
   "cell_type": "code",
   "execution_count": null,
   "metadata": {
    "collapsed": true
   },
   "outputs": [],
   "source": []
  },
  {
   "cell_type": "code",
   "execution_count": null,
   "metadata": {
    "collapsed": true
   },
   "outputs": [],
   "source": []
  },
  {
   "cell_type": "code",
   "execution_count": null,
   "metadata": {
    "collapsed": true
   },
   "outputs": [],
   "source": []
  },
  {
   "cell_type": "code",
   "execution_count": null,
   "metadata": {
    "collapsed": true
   },
   "outputs": [],
   "source": []
  },
  {
   "cell_type": "code",
   "execution_count": null,
   "metadata": {
    "collapsed": true
   },
   "outputs": [],
   "source": []
  },
  {
   "cell_type": "code",
   "execution_count": null,
   "metadata": {
    "collapsed": true
   },
   "outputs": [],
   "source": []
  },
  {
   "cell_type": "code",
   "execution_count": null,
   "metadata": {
    "collapsed": true
   },
   "outputs": [],
   "source": []
  },
  {
   "cell_type": "code",
   "execution_count": null,
   "metadata": {
    "collapsed": true
   },
   "outputs": [],
   "source": []
  },
  {
   "cell_type": "code",
   "execution_count": null,
   "metadata": {
    "collapsed": true
   },
   "outputs": [],
   "source": []
  },
  {
   "cell_type": "code",
   "execution_count": null,
   "metadata": {
    "collapsed": true
   },
   "outputs": [],
   "source": []
  },
  {
   "cell_type": "code",
   "execution_count": null,
   "metadata": {
    "collapsed": true
   },
   "outputs": [],
   "source": []
  },
  {
   "cell_type": "code",
   "execution_count": null,
   "metadata": {
    "collapsed": true
   },
   "outputs": [],
   "source": []
  },
  {
   "cell_type": "code",
   "execution_count": null,
   "metadata": {
    "collapsed": true
   },
   "outputs": [],
   "source": []
  },
  {
   "cell_type": "code",
   "execution_count": null,
   "metadata": {
    "collapsed": true
   },
   "outputs": [],
   "source": []
  },
  {
   "cell_type": "code",
   "execution_count": null,
   "metadata": {
    "collapsed": true
   },
   "outputs": [],
   "source": []
  }
 ],
 "metadata": {
  "kernelspec": {
   "display_name": "R",
   "language": "R",
   "name": "ir"
  },
  "language_info": {
   "codemirror_mode": "r",
   "file_extension": ".r",
   "mimetype": "text/x-r-source",
   "name": "R",
   "pygments_lexer": "r",
   "version": "3.4.0"
  }
 },
 "nbformat": 4,
 "nbformat_minor": 2
}
