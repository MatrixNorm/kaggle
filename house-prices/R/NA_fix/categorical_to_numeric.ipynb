{
 "cells": [
  {
   "cell_type": "code",
   "execution_count": 1,
   "metadata": {},
   "outputs": [
    {
     "data": {
      "text/html": [
       "'/mnt/hdd/develop/kaggle/house-prices/R/NA_fix'"
      ],
      "text/latex": [
       "'/mnt/hdd/develop/kaggle/house-prices/R/NA\\_fix'"
      ],
      "text/markdown": [
       "'/mnt/hdd/develop/kaggle/house-prices/R/NA_fix'"
      ],
      "text/plain": [
       "[1] \"/mnt/hdd/develop/kaggle/house-prices/R/NA_fix\""
      ]
     },
     "metadata": {},
     "output_type": "display_data"
    },
    {
     "data": {
      "text/html": [
       "'/mnt/hdd/develop/kaggle/house-prices/R'"
      ],
      "text/latex": [
       "'/mnt/hdd/develop/kaggle/house-prices/R'"
      ],
      "text/markdown": [
       "'/mnt/hdd/develop/kaggle/house-prices/R'"
      ],
      "text/plain": [
       "[1] \"/mnt/hdd/develop/kaggle/house-prices/R\""
      ]
     },
     "metadata": {},
     "output_type": "display_data"
    }
   ],
   "source": [
    "getwd()\n",
    "if ( is.null(environment()$this_notebook_dir) ) {\n",
    "    this_notebook_dir <- getwd()\n",
    "    setwd(paste0(getwd(), '/..'))\n",
    "}\n",
    "getwd()"
   ]
  },
  {
   "cell_type": "code",
   "execution_count": 3,
   "metadata": {},
   "outputs": [
    {
     "data": {
      "text/html": [
       "<ol class=list-inline>\n",
       "\t<li>2433</li>\n",
       "\t<li>79</li>\n",
       "</ol>\n"
      ],
      "text/latex": [
       "\\begin{enumerate*}\n",
       "\\item 2433\n",
       "\\item 79\n",
       "\\end{enumerate*}\n"
      ],
      "text/markdown": [
       "1. 2433\n",
       "2. 79\n",
       "\n",
       "\n"
      ],
      "text/plain": [
       "[1] 2433   79"
      ]
     },
     "metadata": {},
     "output_type": "display_data"
    },
    {
     "data": {
      "text/html": [
       "<ol class=list-inline>\n",
       "\t<li>2433</li>\n",
       "\t<li>35</li>\n",
       "</ol>\n"
      ],
      "text/latex": [
       "\\begin{enumerate*}\n",
       "\\item 2433\n",
       "\\item 35\n",
       "\\end{enumerate*}\n"
      ],
      "text/markdown": [
       "1. 2433\n",
       "2. 35\n",
       "\n",
       "\n"
      ],
      "text/plain": [
       "[1] 2433   35"
      ]
     },
     "metadata": {},
     "output_type": "display_data"
    },
    {
     "data": {
      "text/html": [
       "<ol class=list-inline>\n",
       "\t<li>2433</li>\n",
       "\t<li>45</li>\n",
       "</ol>\n"
      ],
      "text/latex": [
       "\\begin{enumerate*}\n",
       "\\item 2433\n",
       "\\item 45\n",
       "\\end{enumerate*}\n"
      ],
      "text/markdown": [
       "1. 2433\n",
       "2. 45\n",
       "\n",
       "\n"
      ],
      "text/plain": [
       "[1] 2433   45"
      ]
     },
     "metadata": {},
     "output_type": "display_data"
    }
   ],
   "source": [
    "source('helpers.R')\n",
    "\n",
    "kaggle.house.loadLibraries()\n",
    "data <- kaggle.house.loadData()\n",
    "\n",
    "df.LotFrontage <- data$combined %>% select(-dataSource) %>% filter(!is.na(LotFrontage))\n",
    "\n",
    "df.LotFrontage.vs.numeric <- df.LotFrontage %>% select_if(is.numeric)\n",
    "\n",
    "df.LotFrontage.vs.char <- df.LotFrontage %>% \n",
    "    select(starts_with('LotFrontage'),  \n",
    "           which(sapply(df.LotFrontage, is.character)) %>% names)\n",
    "\n",
    "df.LotFrontage %>% dim\n",
    "df.LotFrontage.vs.numeric %>% dim\n",
    "df.LotFrontage.vs.char %>% dim"
   ]
  },
  {
   "cell_type": "code",
   "execution_count": 4,
   "metadata": {},
   "outputs": [
    {
     "name": "stdout",
     "output_type": "stream",
     "text": [
      "# A tibble: 2 x 3\n",
      "         var      mod                glance\n",
      "       <chr>   <list>                <list>\n",
      "1 MSSubClass <S3: lm> <data.frame [1 x 11]>\n",
      "2   MSZoning <S3: lm> <data.frame [1 x 11]>\n"
     ]
    },
    {
     "data": {
      "text/html": [
       "<table>\n",
       "<thead><tr><th scope=col>var</th><th scope=col>r.squared</th><th scope=col>adj.r.squared</th><th scope=col>sigma</th><th scope=col>statistic</th><th scope=col>p.value</th><th scope=col>df</th><th scope=col>logLik</th><th scope=col>AIC</th><th scope=col>BIC</th><th scope=col>deviance</th><th scope=col>df.residual</th></tr></thead>\n",
       "<tbody>\n",
       "\t<tr><td>MSSubClass   </td><td>0.3539728    </td><td> 0.3502324   </td><td>18.81790     </td><td> 94.6340420  </td><td>3.433373e-217</td><td>15           </td><td>-10585.14332 </td><td>21202.2866   </td><td>21295.0367   </td><td> 856246.0    </td><td>2418         </td></tr>\n",
       "\t<tr><td>BldgType     </td><td>0.2787318    </td><td> 0.2775436   </td><td>19.84257     </td><td>234.5732511  </td><td>1.820384e-170</td><td> 5           </td><td>-10719.16444 </td><td>21450.3289   </td><td>21485.1102   </td><td> 955970.6    </td><td>2428         </td></tr>\n",
       "\t<tr><td>Neighborhood </td><td>0.2676187    </td><td> 0.2603192   </td><td>20.07771     </td><td> 36.6626965  </td><td>1.468147e-143</td><td>25           </td><td>-10737.76508 </td><td>21527.5302   </td><td>21678.2491   </td><td> 970700.0    </td><td>2408         </td></tr>\n",
       "\t<tr><td>LotArea      </td><td>0.2399977    </td><td> 0.2396850   </td><td>20.35583     </td><td>767.6744036  </td><td>4.455289e-147</td><td> 2           </td><td>-10782.80015 </td><td>21571.6003   </td><td>21588.9909   </td><td>1007309.0    </td><td>2431         </td></tr>\n",
       "\t<tr><td>X1stFlrSF    </td><td>0.2099907    </td><td> 0.2096658   </td><td>20.75379     </td><td>646.1791231  </td><td>1.315681e-126</td><td> 2           </td><td>-10829.90688 </td><td>21665.8138   </td><td>21683.2044   </td><td>1047080.2    </td><td>2431         </td></tr>\n",
       "\t<tr><td>PoolQC       </td><td>0.1712089    </td><td>-0.1050548   </td><td>82.69119     </td><td>  0.6197301  </td><td> 5.692922e-01</td><td> 3           </td><td>   -50.68187 </td><td>  109.3637   </td><td>  110.1526   </td><td>  41027.0    </td><td>   6         </td></tr>\n",
       "</tbody>\n",
       "</table>\n"
      ],
      "text/latex": [
       "\\begin{tabular}{r|llllllllllll}\n",
       " var & r.squared & adj.r.squared & sigma & statistic & p.value & df & logLik & AIC & BIC & deviance & df.residual\\\\\n",
       "\\hline\n",
       "\t MSSubClass    & 0.3539728     &  0.3502324    & 18.81790      &  94.6340420   & 3.433373e-217 & 15            & -10585.14332  & 21202.2866    & 21295.0367    &  856246.0     & 2418         \\\\\n",
       "\t BldgType      & 0.2787318     &  0.2775436    & 19.84257      & 234.5732511   & 1.820384e-170 &  5            & -10719.16444  & 21450.3289    & 21485.1102    &  955970.6     & 2428         \\\\\n",
       "\t Neighborhood  & 0.2676187     &  0.2603192    & 20.07771      &  36.6626965   & 1.468147e-143 & 25            & -10737.76508  & 21527.5302    & 21678.2491    &  970700.0     & 2408         \\\\\n",
       "\t LotArea       & 0.2399977     &  0.2396850    & 20.35583      & 767.6744036   & 4.455289e-147 &  2            & -10782.80015  & 21571.6003    & 21588.9909    & 1007309.0     & 2431         \\\\\n",
       "\t X1stFlrSF     & 0.2099907     &  0.2096658    & 20.75379      & 646.1791231   & 1.315681e-126 &  2            & -10829.90688  & 21665.8138    & 21683.2044    & 1047080.2     & 2431         \\\\\n",
       "\t PoolQC        & 0.1712089     & -0.1050548    & 82.69119      &   0.6197301   &  5.692922e-01 &  3            &    -50.68187  &   109.3637    &   110.1526    &   41027.0     &    6         \\\\\n",
       "\\end{tabular}\n"
      ],
      "text/markdown": [
       "\n",
       "var | r.squared | adj.r.squared | sigma | statistic | p.value | df | logLik | AIC | BIC | deviance | df.residual | \n",
       "|---|---|---|---|---|---|\n",
       "| MSSubClass    | 0.3539728     |  0.3502324    | 18.81790      |  94.6340420   | 3.433373e-217 | 15            | -10585.14332  | 21202.2866    | 21295.0367    |  856246.0     | 2418          | \n",
       "| BldgType      | 0.2787318     |  0.2775436    | 19.84257      | 234.5732511   | 1.820384e-170 |  5            | -10719.16444  | 21450.3289    | 21485.1102    |  955970.6     | 2428          | \n",
       "| Neighborhood  | 0.2676187     |  0.2603192    | 20.07771      |  36.6626965   | 1.468147e-143 | 25            | -10737.76508  | 21527.5302    | 21678.2491    |  970700.0     | 2408          | \n",
       "| LotArea       | 0.2399977     |  0.2396850    | 20.35583      | 767.6744036   | 4.455289e-147 |  2            | -10782.80015  | 21571.6003    | 21588.9909    | 1007309.0     | 2431          | \n",
       "| X1stFlrSF     | 0.2099907     |  0.2096658    | 20.75379      | 646.1791231   | 1.315681e-126 |  2            | -10829.90688  | 21665.8138    | 21683.2044    | 1047080.2     | 2431          | \n",
       "| PoolQC        | 0.1712089     | -0.1050548    | 82.69119      |   0.6197301   |  5.692922e-01 |  3            |    -50.68187  |   109.3637    |   110.1526    |   41027.0     |    6          | \n",
       "\n",
       "\n"
      ],
      "text/plain": [
       "  var          r.squared adj.r.squared sigma    statistic   p.value       df\n",
       "1 MSSubClass   0.3539728  0.3502324    18.81790  94.6340420 3.433373e-217 15\n",
       "2 BldgType     0.2787318  0.2775436    19.84257 234.5732511 1.820384e-170  5\n",
       "3 Neighborhood 0.2676187  0.2603192    20.07771  36.6626965 1.468147e-143 25\n",
       "4 LotArea      0.2399977  0.2396850    20.35583 767.6744036 4.455289e-147  2\n",
       "5 X1stFlrSF    0.2099907  0.2096658    20.75379 646.1791231 1.315681e-126  2\n",
       "6 PoolQC       0.1712089 -0.1050548    82.69119   0.6197301  5.692922e-01  3\n",
       "  logLik       AIC        BIC        deviance  df.residual\n",
       "1 -10585.14332 21202.2866 21295.0367  856246.0 2418       \n",
       "2 -10719.16444 21450.3289 21485.1102  955970.6 2428       \n",
       "3 -10737.76508 21527.5302 21678.2491  970700.0 2408       \n",
       "4 -10782.80015 21571.6003 21588.9909 1007309.0 2431       \n",
       "5 -10829.90688 21665.8138 21683.2044 1047080.2 2431       \n",
       "6    -50.68187   109.3637   110.1526   41027.0    6       "
      ]
     },
     "metadata": {},
     "output_type": "display_data"
    }
   ],
   "source": [
    "df.LotFrontage %>% select(-LotFrontage, -Utilities) %>% \n",
    "    map(function (col) {  \n",
    "            lm(LotFrontage ~ attr, tibble(attr=col, LotFrontage=df.LotFrontage$LotFrontage))\n",
    "    }) -> models.lst\n",
    "\n",
    "tibble(\n",
    "    var = names(models.lst),\n",
    "    mod = models.lst,\n",
    "    glance = map(mod, broom::glance)\n",
    ") -> models.df\n",
    "\n",
    "models.df %>% head(2) %>% print\n",
    "\n",
    "models.df %>% select(-mod) %>% unnest(glance) %>% arrange(desc(r.squared)) %>% head"
   ]
  },
  {
   "cell_type": "code",
   "execution_count": 6,
   "metadata": {},
   "outputs": [
    {
     "data": {
      "text/html": [
       "<table>\n",
       "<thead><tr><th scope=col>attr.name</th><th scope=col>r.squared</th><th scope=col>adj.r.squared</th><th scope=col>sigma</th><th scope=col>statistic</th><th scope=col>p.value</th><th scope=col>df</th><th scope=col>logLik</th><th scope=col>AIC</th><th scope=col>BIC</th><th scope=col>deviance</th><th scope=col>df.residual</th></tr></thead>\n",
       "<tbody>\n",
       "\t<tr><td>MSSubClass   </td><td>0.3539728    </td><td> 0.3502324   </td><td>18.81790     </td><td> 94.6340420  </td><td>3.433373e-217</td><td>15           </td><td>-10585.14332 </td><td>21202.2866   </td><td>21295.0367   </td><td> 856246.03   </td><td>2418         </td></tr>\n",
       "\t<tr><td>BldgType     </td><td>0.2787318    </td><td> 0.2775436   </td><td>19.84257     </td><td>234.5732511  </td><td>1.820384e-170</td><td> 5           </td><td>-10719.16444 </td><td>21450.3289   </td><td>21485.1102   </td><td> 955970.63   </td><td>2428         </td></tr>\n",
       "\t<tr><td>Neighborhood </td><td>0.2676187    </td><td> 0.2603192   </td><td>20.07771     </td><td> 36.6626965  </td><td>1.468147e-143</td><td>25           </td><td>-10737.76508 </td><td>21527.5302   </td><td>21678.2491   </td><td> 970700.03   </td><td>2408         </td></tr>\n",
       "\t<tr><td>PoolQC       </td><td>0.1712089    </td><td>-0.1050548   </td><td>82.69119     </td><td>  0.6197301  </td><td> 5.692922e-01</td><td> 3           </td><td>   -50.68187 </td><td>  109.3637   </td><td>  110.1526   </td><td>  41027.00   </td><td>   6         </td></tr>\n",
       "\t<tr><td>Alley        </td><td>0.1587058    </td><td> 0.1541085   </td><td>16.21692     </td><td> 34.5219924  </td><td> 1.953858e-08</td><td> 2           </td><td>  -776.91834 </td><td> 1559.8367   </td><td> 1569.4977   </td><td>  48126.87   </td><td> 183         </td></tr>\n",
       "\t<tr><td>MSZoning     </td><td>0.1374468    </td><td> 0.1360241   </td><td>21.67323     </td><td> 96.6052348  </td><td> 2.316218e-76</td><td> 5           </td><td>-10920.38758 </td><td>21852.7752   </td><td>21887.5490   </td><td>1139092.89   </td><td>2425         </td></tr>\n",
       "</tbody>\n",
       "</table>\n"
      ],
      "text/latex": [
       "\\begin{tabular}{r|llllllllllll}\n",
       " attr.name & r.squared & adj.r.squared & sigma & statistic & p.value & df & logLik & AIC & BIC & deviance & df.residual\\\\\n",
       "\\hline\n",
       "\t MSSubClass    & 0.3539728     &  0.3502324    & 18.81790      &  94.6340420   & 3.433373e-217 & 15            & -10585.14332  & 21202.2866    & 21295.0367    &  856246.03    & 2418         \\\\\n",
       "\t BldgType      & 0.2787318     &  0.2775436    & 19.84257      & 234.5732511   & 1.820384e-170 &  5            & -10719.16444  & 21450.3289    & 21485.1102    &  955970.63    & 2428         \\\\\n",
       "\t Neighborhood  & 0.2676187     &  0.2603192    & 20.07771      &  36.6626965   & 1.468147e-143 & 25            & -10737.76508  & 21527.5302    & 21678.2491    &  970700.03    & 2408         \\\\\n",
       "\t PoolQC        & 0.1712089     & -0.1050548    & 82.69119      &   0.6197301   &  5.692922e-01 &  3            &    -50.68187  &   109.3637    &   110.1526    &   41027.00    &    6         \\\\\n",
       "\t Alley         & 0.1587058     &  0.1541085    & 16.21692      &  34.5219924   &  1.953858e-08 &  2            &   -776.91834  &  1559.8367    &  1569.4977    &   48126.87    &  183         \\\\\n",
       "\t MSZoning      & 0.1374468     &  0.1360241    & 21.67323      &  96.6052348   &  2.316218e-76 &  5            & -10920.38758  & 21852.7752    & 21887.5490    & 1139092.89    & 2425         \\\\\n",
       "\\end{tabular}\n"
      ],
      "text/markdown": [
       "\n",
       "attr.name | r.squared | adj.r.squared | sigma | statistic | p.value | df | logLik | AIC | BIC | deviance | df.residual | \n",
       "|---|---|---|---|---|---|\n",
       "| MSSubClass    | 0.3539728     |  0.3502324    | 18.81790      |  94.6340420   | 3.433373e-217 | 15            | -10585.14332  | 21202.2866    | 21295.0367    |  856246.03    | 2418          | \n",
       "| BldgType      | 0.2787318     |  0.2775436    | 19.84257      | 234.5732511   | 1.820384e-170 |  5            | -10719.16444  | 21450.3289    | 21485.1102    |  955970.63    | 2428          | \n",
       "| Neighborhood  | 0.2676187     |  0.2603192    | 20.07771      |  36.6626965   | 1.468147e-143 | 25            | -10737.76508  | 21527.5302    | 21678.2491    |  970700.03    | 2408          | \n",
       "| PoolQC        | 0.1712089     | -0.1050548    | 82.69119      |   0.6197301   |  5.692922e-01 |  3            |    -50.68187  |   109.3637    |   110.1526    |   41027.00    |    6          | \n",
       "| Alley         | 0.1587058     |  0.1541085    | 16.21692      |  34.5219924   |  1.953858e-08 |  2            |   -776.91834  |  1559.8367    |  1569.4977    |   48126.87    |  183          | \n",
       "| MSZoning      | 0.1374468     |  0.1360241    | 21.67323      |  96.6052348   |  2.316218e-76 |  5            | -10920.38758  | 21852.7752    | 21887.5490    | 1139092.89    | 2425          | \n",
       "\n",
       "\n"
      ],
      "text/plain": [
       "  attr.name    r.squared adj.r.squared sigma    statistic   p.value       df\n",
       "1 MSSubClass   0.3539728  0.3502324    18.81790  94.6340420 3.433373e-217 15\n",
       "2 BldgType     0.2787318  0.2775436    19.84257 234.5732511 1.820384e-170  5\n",
       "3 Neighborhood 0.2676187  0.2603192    20.07771  36.6626965 1.468147e-143 25\n",
       "4 PoolQC       0.1712089 -0.1050548    82.69119   0.6197301  5.692922e-01  3\n",
       "5 Alley        0.1587058  0.1541085    16.21692  34.5219924  1.953858e-08  2\n",
       "6 MSZoning     0.1374468  0.1360241    21.67323  96.6052348  2.316218e-76  5\n",
       "  logLik       AIC        BIC        deviance   df.residual\n",
       "1 -10585.14332 21202.2866 21295.0367  856246.03 2418       \n",
       "2 -10719.16444 21450.3289 21485.1102  955970.63 2428       \n",
       "3 -10737.76508 21527.5302 21678.2491  970700.03 2408       \n",
       "4    -50.68187   109.3637   110.1526   41027.00    6       \n",
       "5   -776.91834  1559.8367  1569.4977   48126.87  183       \n",
       "6 -10920.38758 21852.7752 21887.5490 1139092.89 2425       "
      ]
     },
     "metadata": {},
     "output_type": "display_data"
    }
   ],
   "source": [
    "df.LotFrontage.vs.char %>%\n",
    "select(-Utilities) %>%\n",
    "gather(attr.name, attr.val, -LotFrontage) %>%\n",
    "group_by(attr.name) %>% \n",
    "nest %>% \n",
    "mutate(\n",
    "    mod = map(data, ~lm(LotFrontage ~ attr.val, .)),\n",
    "    glance = map(mod, broom::glance)\n",
    ") %>% \n",
    "select(-data, -mod) %>% \n",
    "unnest(glance) %>%\n",
    "arrange(desc(r.squared)) %>%\n",
    "head"
   ]
  },
  {
   "cell_type": "code",
   "execution_count": 7,
   "metadata": {},
   "outputs": [
    {
     "data": {
      "text/html": [
       "<table>\n",
       "<thead><tr><th scope=col>attr.name</th><th scope=col>r.squared</th><th scope=col>adj.r.squared</th><th scope=col>sigma</th><th scope=col>statistic</th><th scope=col>p.value</th><th scope=col>df</th><th scope=col>logLik</th><th scope=col>AIC</th><th scope=col>BIC</th><th scope=col>deviance</th><th scope=col>df.residual</th></tr></thead>\n",
       "<tbody>\n",
       "\t<tr><td>MSSubClass   </td><td>0.5668997    </td><td> 0.56439206  </td><td>0.2361222    </td><td>226.0715717  </td><td> 0.000000e+00</td><td>15           </td><td>  67.052563  </td><td>-102.10513   </td><td>  -9.35504   </td><td>134.812380   </td><td>2418         </td></tr>\n",
       "\t<tr><td>BldgType     </td><td>0.4982173    </td><td> 0.49739059  </td><td>0.2536321    </td><td>602.6868716  </td><td> 0.000000e+00</td><td> 5           </td><td>-112.013613  </td><td> 236.02723   </td><td> 270.80851   </td><td>156.191352   </td><td>2428         </td></tr>\n",
       "\t<tr><td>Neighborhood </td><td>0.4194256    </td><td> 0.41363914  </td><td>0.2739500    </td><td> 72.4840221  </td><td>7.064511e-263</td><td>25           </td><td>-289.441012  </td><td> 630.88202   </td><td> 781.60091   </td><td>180.717058   </td><td>2408         </td></tr>\n",
       "\t<tr><td>Alley        </td><td>0.2272434    </td><td> 0.22302066  </td><td>0.2978124    </td><td> 53.8145325  </td><td> 6.920491e-12</td><td> 2           </td><td> -37.409230  </td><td>  80.81846   </td><td>  90.47953   </td><td> 16.230673   </td><td> 183         </td></tr>\n",
       "\t<tr><td>MSZoning     </td><td>0.1853127    </td><td> 0.18396884  </td><td>0.3230017    </td><td>137.9005065  </td><td>2.691946e-106</td><td> 5           </td><td>-699.380737  </td><td>1410.76147   </td><td>1445.53535   </td><td>253.000503   </td><td>2425         </td></tr>\n",
       "\t<tr><td>PoolQC       </td><td>0.1761405    </td><td>-0.09847939  </td><td>0.5250374    </td><td>  0.6413974  </td><td> 5.591902e-01</td><td> 3           </td><td>  -5.147282  </td><td>  18.29456   </td><td>  19.08346   </td><td>  1.653986   </td><td>   6         </td></tr>\n",
       "</tbody>\n",
       "</table>\n"
      ],
      "text/latex": [
       "\\begin{tabular}{r|llllllllllll}\n",
       " attr.name & r.squared & adj.r.squared & sigma & statistic & p.value & df & logLik & AIC & BIC & deviance & df.residual\\\\\n",
       "\\hline\n",
       "\t MSSubClass    & 0.5668997     &  0.56439206   & 0.2361222     & 226.0715717   &  0.000000e+00 & 15            &   67.052563   & -102.10513    &   -9.35504    & 134.812380    & 2418         \\\\\n",
       "\t BldgType      & 0.4982173     &  0.49739059   & 0.2536321     & 602.6868716   &  0.000000e+00 &  5            & -112.013613   &  236.02723    &  270.80851    & 156.191352    & 2428         \\\\\n",
       "\t Neighborhood  & 0.4194256     &  0.41363914   & 0.2739500     &  72.4840221   & 7.064511e-263 & 25            & -289.441012   &  630.88202    &  781.60091    & 180.717058    & 2408         \\\\\n",
       "\t Alley         & 0.2272434     &  0.22302066   & 0.2978124     &  53.8145325   &  6.920491e-12 &  2            &  -37.409230   &   80.81846    &   90.47953    &  16.230673    &  183         \\\\\n",
       "\t MSZoning      & 0.1853127     &  0.18396884   & 0.3230017     & 137.9005065   & 2.691946e-106 &  5            & -699.380737   & 1410.76147    & 1445.53535    & 253.000503    & 2425         \\\\\n",
       "\t PoolQC        & 0.1761405     & -0.09847939   & 0.5250374     &   0.6413974   &  5.591902e-01 &  3            &   -5.147282   &   18.29456    &   19.08346    &   1.653986    &    6         \\\\\n",
       "\\end{tabular}\n"
      ],
      "text/markdown": [
       "\n",
       "attr.name | r.squared | adj.r.squared | sigma | statistic | p.value | df | logLik | AIC | BIC | deviance | df.residual | \n",
       "|---|---|---|---|---|---|\n",
       "| MSSubClass    | 0.5668997     |  0.56439206   | 0.2361222     | 226.0715717   |  0.000000e+00 | 15            |   67.052563   | -102.10513    |   -9.35504    | 134.812380    | 2418          | \n",
       "| BldgType      | 0.4982173     |  0.49739059   | 0.2536321     | 602.6868716   |  0.000000e+00 |  5            | -112.013613   |  236.02723    |  270.80851    | 156.191352    | 2428          | \n",
       "| Neighborhood  | 0.4194256     |  0.41363914   | 0.2739500     |  72.4840221   | 7.064511e-263 | 25            | -289.441012   |  630.88202    |  781.60091    | 180.717058    | 2408          | \n",
       "| Alley         | 0.2272434     |  0.22302066   | 0.2978124     |  53.8145325   |  6.920491e-12 |  2            |  -37.409230   |   80.81846    |   90.47953    |  16.230673    |  183          | \n",
       "| MSZoning      | 0.1853127     |  0.18396884   | 0.3230017     | 137.9005065   | 2.691946e-106 |  5            | -699.380737   | 1410.76147    | 1445.53535    | 253.000503    | 2425          | \n",
       "| PoolQC        | 0.1761405     | -0.09847939   | 0.5250374     |   0.6413974   |  5.591902e-01 |  3            |   -5.147282   |   18.29456    |   19.08346    |   1.653986    |    6          | \n",
       "\n",
       "\n"
      ],
      "text/plain": [
       "  attr.name    r.squared adj.r.squared sigma     statistic   p.value       df\n",
       "1 MSSubClass   0.5668997  0.56439206   0.2361222 226.0715717  0.000000e+00 15\n",
       "2 BldgType     0.4982173  0.49739059   0.2536321 602.6868716  0.000000e+00  5\n",
       "3 Neighborhood 0.4194256  0.41363914   0.2739500  72.4840221 7.064511e-263 25\n",
       "4 Alley        0.2272434  0.22302066   0.2978124  53.8145325  6.920491e-12  2\n",
       "5 MSZoning     0.1853127  0.18396884   0.3230017 137.9005065 2.691946e-106  5\n",
       "6 PoolQC       0.1761405 -0.09847939   0.5250374   0.6413974  5.591902e-01  3\n",
       "  logLik      AIC        BIC        deviance   df.residual\n",
       "1   67.052563 -102.10513   -9.35504 134.812380 2418       \n",
       "2 -112.013613  236.02723  270.80851 156.191352 2428       \n",
       "3 -289.441012  630.88202  781.60091 180.717058 2408       \n",
       "4  -37.409230   80.81846   90.47953  16.230673  183       \n",
       "5 -699.380737 1410.76147 1445.53535 253.000503 2425       \n",
       "6   -5.147282   18.29456   19.08346   1.653986    6       "
      ]
     },
     "metadata": {},
     "output_type": "display_data"
    }
   ],
   "source": [
    "df.LotFrontage.vs.char %>%\n",
    "mutate(LotFrontage.log = log(LotFrontage)) %>%\n",
    "select(-Utilities, -LotFrontage) %>%\n",
    "gather(attr.name, attr.val, -LotFrontage.log) %>%\n",
    "group_by(attr.name) %>% \n",
    "nest %>% \n",
    "mutate(\n",
    "    mod = map(data, ~lm(LotFrontage.log ~ attr.val, .)),\n",
    "    glance = map(mod, broom::glance)\n",
    ") %>% \n",
    "select(-data, -mod) %>% \n",
    "unnest(glance) %>%\n",
    "arrange(desc(r.squared)) %>%\n",
    "head"
   ]
  },
  {
   "cell_type": "code",
   "execution_count": 8,
   "metadata": {},
   "outputs": [
    {
     "data": {},
     "metadata": {},
     "output_type": "display_data"
    },
    {
     "data": {
      "image/png": "[encoded data removed]",
      "text/plain": [
       "plot without title"
      ]
     },
     "metadata": {},
     "output_type": "display_data"
    }
   ],
   "source": [
    "options(repr.plot.width = 6, repr.plot.height = 3)\n",
    "\n",
    "df.LotFrontage %>% select(LotFrontage) %>% \n",
    "mutate(LotFrontage.log = log(LotFrontage)) %>%\n",
    "gather(attr.name, attr.val) %>%\n",
    "ggplot() +\n",
    "geom_density(aes(attr.val), fill = \"red\", alpha = \"0.7\") +\n",
    "facet_wrap(~attr.name, scales=\"free\")"
   ]
  },
  {
   "cell_type": "code",
   "execution_count": 9,
   "metadata": {},
   "outputs": [
    {
     "data": {
      "text/plain": [
       "\n",
       "Call:\n",
       "lm(formula = LotFrontage.log ~ MSSubClass, data = .)\n",
       "\n",
       "Residuals:\n",
       "     Min       1Q   Median       3Q      Max \n",
       "-0.74116 -0.15002 -0.02235  0.11825  1.42180 \n",
       "\n",
       "Coefficients:\n",
       "              Estimate Std. Error t value Pr(>|t|)    \n",
       "(Intercept)    3.75802    0.01928 194.925  < 2e-16 ***\n",
       "MSSubClass160 -0.50398    0.02919 -17.263  < 2e-16 ***\n",
       "MSSubClass180 -0.52194    0.06210  -8.405  < 2e-16 ***\n",
       "MSSubClass190  0.42908    0.03674  11.679  < 2e-16 ***\n",
       "MSSubClass20   0.56638    0.02083  27.185  < 2e-16 ***\n",
       "MSSubClass30   0.32470    0.02853  11.379  < 2e-16 ***\n",
       "MSSubClass40   0.20792    0.10734   1.937   0.0529 .  \n",
       "MSSubClass45   0.24786    0.05890   4.208 2.67e-05 ***\n",
       "MSSubClass50   0.36105    0.02418  14.934  < 2e-16 ***\n",
       "MSSubClass60   0.58181    0.02231  26.076  < 2e-16 ***\n",
       "MSSubClass70   0.37314    0.02912  12.812  < 2e-16 ***\n",
       "MSSubClass75   0.49990    0.05501   9.087  < 2e-16 ***\n",
       "MSSubClass80   0.58133    0.03206  18.135  < 2e-16 ***\n",
       "MSSubClass85   0.51720    0.04598  11.249  < 2e-16 ***\n",
       "MSSubClass90   0.47964    0.03127  15.339  < 2e-16 ***\n",
       "---\n",
       "Signif. codes:  0 ‘***’ 0.001 ‘**’ 0.01 ‘*’ 0.05 ‘.’ 0.1 ‘ ’ 1\n",
       "\n",
       "Residual standard error: 0.2361 on 2418 degrees of freedom\n",
       "Multiple R-squared:  0.5669,\tAdjusted R-squared:  0.5644 \n",
       "F-statistic: 226.1 on 14 and 2418 DF,  p-value: < 2.2e-16\n"
      ]
     },
     "metadata": {},
     "output_type": "display_data"
    },
    {
     "data": {
      "text/html": [
       "134.812379528758"
      ],
      "text/latex": [
       "134.812379528758"
      ],
      "text/markdown": [
       "134.812379528758"
      ],
      "text/plain": [
       "[1] 134.8124"
      ]
     },
     "metadata": {},
     "output_type": "display_data"
    }
   ],
   "source": [
    "df.LotFrontage %>% \n",
    "select(LotFrontage, MSSubClass) %>%\n",
    "mutate(LotFrontage.log = log(LotFrontage)) %>%\n",
    "lm(LotFrontage.log ~ MSSubClass, data = .) -> model\n",
    "\n",
    "model %>% summary\n",
    "sum(model$residuals ^ 2)"
   ]
  },
  {
   "cell_type": "code",
   "execution_count": 8,
   "metadata": {},
   "outputs": [
    {
     "data": {
      "text/plain": [
       "\n",
       "Call:\n",
       "lm(formula = LotFrontage.log ~ MSSubClass.new, data = .)\n",
       "\n",
       "Residuals:\n",
       "     Min       1Q   Median       3Q      Max \n",
       "-0.74116 -0.15002 -0.02235  0.11825  1.42180 \n",
       "\n",
       "Coefficients:\n",
       "               Estimate Std. Error t value Pr(>|t|)    \n",
       "(Intercept)     3.23608    0.01740  185.99   <2e-16 ***\n",
       "MSSubClass.new  1.00000    0.01773   56.41   <2e-16 ***\n",
       "---\n",
       "Signif. codes:  0 ‘***’ 0.001 ‘**’ 0.01 ‘*’ 0.05 ‘.’ 0.1 ‘ ’ 1\n",
       "\n",
       "Residual standard error: 0.2355 on 2431 degrees of freedom\n",
       "Multiple R-squared:  0.5669,\tAdjusted R-squared:  0.5667 \n",
       "F-statistic:  3182 on 1 and 2431 DF,  p-value: < 2.2e-16\n"
      ]
     },
     "metadata": {},
     "output_type": "display_data"
    },
    {
     "data": {
      "text/html": [
       "134.812379528758"
      ],
      "text/latex": [
       "134.812379528758"
      ],
      "text/markdown": [
       "134.812379528758"
      ],
      "text/plain": [
       "[1] 134.8124"
      ]
     },
     "metadata": {},
     "output_type": "display_data"
    }
   ],
   "source": [
    "df.LotFrontage %>% \n",
    "select(LotFrontage, MSSubClass) %>%\n",
    "mutate(LotFrontage.log = log(LotFrontage)) %>%\n",
    "group_by(MSSubClass) -> df\n",
    "\n",
    "df %>%\n",
    "summarise(mean = mean(LotFrontage.log)) %>%\n",
    "arrange(mean) %>% head(1) %>% `$`(\"mean\") -> minimal_group_mean\n",
    "\n",
    "df %>%\n",
    "mutate(MSSubClass.new = mean(LotFrontage.log) - minimal_group_mean) %>% \n",
    "lm(LotFrontage.log ~ MSSubClass.new, data = .) -> model\n",
    "\n",
    "model %>% summary\n",
    "sum(model$residuals ^ 2)"
   ]
  },
  {
   "cell_type": "code",
   "execution_count": 40,
   "metadata": {},
   "outputs": [
    {
     "data": {
      "text/plain": [
       "\n",
       "Call:\n",
       "lm(formula = LotFrontage.log ~ MSSubClass.new, data = .)\n",
       "\n",
       "Residuals:\n",
       "     Min       1Q   Median       3Q      Max \n",
       "-0.74116 -0.15002 -0.02235  0.11825  1.42180 \n",
       "\n",
       "Coefficients:\n",
       "               Estimate Std. Error t value Pr(>|t|)    \n",
       "(Intercept)    4.179890   0.004774  875.51   <2e-16 ***\n",
       "MSSubClass.new 1.000000   0.017728   56.41   <2e-16 ***\n",
       "---\n",
       "Signif. codes:  0 ‘***’ 0.001 ‘**’ 0.01 ‘*’ 0.05 ‘.’ 0.1 ‘ ’ 1\n",
       "\n",
       "Residual standard error: 0.2355 on 2431 degrees of freedom\n",
       "Multiple R-squared:  0.5669,\tAdjusted R-squared:  0.5667 \n",
       "F-statistic:  3182 on 1 and 2431 DF,  p-value: < 2.2e-16\n"
      ]
     },
     "metadata": {},
     "output_type": "display_data"
    },
    {
     "data": {
      "text/html": [
       "134.812379528758"
      ],
      "text/latex": [
       "134.812379528758"
      ],
      "text/markdown": [
       "134.812379528758"
      ],
      "text/plain": [
       "[1] 134.8124"
      ]
     },
     "metadata": {},
     "output_type": "display_data"
    }
   ],
   "source": [
    "df.LotFrontage %>% \n",
    "select(LotFrontage, MSSubClass) %>%\n",
    "mutate(LotFrontage.log = log(LotFrontage)) %>%\n",
    "group_by(MSSubClass) -> df\n",
    "\n",
    "df %>% ungroup() %>% \n",
    "summarise(mean = mean(LotFrontage.log)) %>% `$`(\"mean\") -> total_mean\n",
    "\n",
    "df %>%\n",
    "mutate(MSSubClass.new = mean(LotFrontage.log) - total_mean) %>% \n",
    "lm(LotFrontage.log ~ MSSubClass.new, data = .) -> model\n",
    "\n",
    "model %>% summary\n",
    "sum(model$residuals ^ 2)"
   ]
  },
  {
   "cell_type": "code",
   "execution_count": 9,
   "metadata": {},
   "outputs": [
    {
     "data": {
      "text/plain": [
       "\n",
       "Call:\n",
       "lm(formula = LotFrontage.log ~ MSSubClass.new, data = .)\n",
       "\n",
       "Residuals:\n",
       "     Min       1Q   Median       3Q      Max \n",
       "-0.74116 -0.15002 -0.02235  0.11825  1.42180 \n",
       "\n",
       "Coefficients:\n",
       "                 Estimate Std. Error t value Pr(>|t|)    \n",
       "(Intercept)    -6.742e-14  7.425e-02    0.00        1    \n",
       "MSSubClass.new  1.000e+00  1.773e-02   56.41   <2e-16 ***\n",
       "---\n",
       "Signif. codes:  0 ‘***’ 0.001 ‘**’ 0.01 ‘*’ 0.05 ‘.’ 0.1 ‘ ’ 1\n",
       "\n",
       "Residual standard error: 0.2355 on 2431 degrees of freedom\n",
       "Multiple R-squared:  0.5669,\tAdjusted R-squared:  0.5667 \n",
       "F-statistic:  3182 on 1 and 2431 DF,  p-value: < 2.2e-16\n"
      ]
     },
     "metadata": {},
     "output_type": "display_data"
    },
    {
     "data": {
      "text/html": [
       "134.812379528758"
      ],
      "text/latex": [
       "134.812379528758"
      ],
      "text/markdown": [
       "134.812379528758"
      ],
      "text/plain": [
       "[1] 134.8124"
      ]
     },
     "metadata": {},
     "output_type": "display_data"
    }
   ],
   "source": [
    "df.LotFrontage %>% \n",
    "select(LotFrontage, MSSubClass) %>%\n",
    "mutate(LotFrontage.log = log(LotFrontage)) %>%\n",
    "group_by(MSSubClass) %>%\n",
    "mutate(MSSubClass.new = mean(LotFrontage.log)) %>% \n",
    "lm(LotFrontage.log ~ MSSubClass.new, data = .) -> model\n",
    "\n",
    "model %>% summary\n",
    "sum(model$residuals ^ 2)"
   ]
  },
  {
   "cell_type": "code",
   "execution_count": 10,
   "metadata": {},
   "outputs": [
    {
     "data": {
      "text/plain": [
       "\n",
       "Call:\n",
       "lm(formula = LotFrontage.log ~ LotArea.log, data = .)\n",
       "\n",
       "Residuals:\n",
       "     Min       1Q   Median       3Q      Max \n",
       "-1.33420 -0.12683  0.02732  0.13909  1.25960 \n",
       "\n",
       "Coefficients:\n",
       "             Estimate Std. Error t value Pr(>|t|)    \n",
       "(Intercept) -0.816932   0.085101    -9.6   <2e-16 ***\n",
       "LotArea.log  0.551207   0.009374    58.8   <2e-16 ***\n",
       "---\n",
       "Signif. codes:  0 ‘***’ 0.001 ‘**’ 0.01 ‘*’ 0.05 ‘.’ 0.1 ‘ ’ 1\n",
       "\n",
       "Residual standard error: 0.2299 on 2431 degrees of freedom\n",
       "Multiple R-squared:  0.5872,\tAdjusted R-squared:  0.587 \n",
       "F-statistic:  3458 on 1 and 2431 DF,  p-value: < 2.2e-16\n"
      ]
     },
     "metadata": {},
     "output_type": "display_data"
    },
    {
     "data": {
      "text/html": [
       "128.495325090466"
      ],
      "text/latex": [
       "128.495325090466"
      ],
      "text/markdown": [
       "128.495325090466"
      ],
      "text/plain": [
       "[1] 128.4953"
      ]
     },
     "metadata": {},
     "output_type": "display_data"
    }
   ],
   "source": [
    "df.LotFrontage %>% \n",
    "select(LotFrontage, LotArea) %>%\n",
    "mutate(\n",
    "    LotFrontage.log = log(LotFrontage),\n",
    "    LotArea.log = log(LotArea)\n",
    ") %>%\n",
    "lm(LotFrontage.log ~ LotArea.log, data = .) -> model\n",
    "\n",
    "model %>% summary\n",
    "sum(model$residuals ^ 2)"
   ]
  },
  {
   "cell_type": "code",
   "execution_count": 11,
   "metadata": {},
   "outputs": [
    {
     "data": {
      "text/plain": [
       "\n",
       "Call:\n",
       "lm(formula = LotFrontage.log ~ LotArea.log + MSSubClass.new, \n",
       "    data = .)\n",
       "\n",
       "Residuals:\n",
       "     Min       1Q   Median       3Q      Max \n",
       "-1.02441 -0.10275  0.00225  0.10683  1.15100 \n",
       "\n",
       "Coefficients:\n",
       "               Estimate Std. Error t value Pr(>|t|)    \n",
       "(Intercept)    -1.13092    0.07773  -14.55   <2e-16 ***\n",
       "LotArea.log     0.33310    0.01244   26.78   <2e-16 ***\n",
       "MSSubClass.new  0.54815    0.02297   23.87   <2e-16 ***\n",
       "---\n",
       "Signif. codes:  0 ‘***’ 0.001 ‘**’ 0.01 ‘*’ 0.05 ‘.’ 0.1 ‘ ’ 1\n",
       "\n",
       "Residual standard error: 0.207 on 2430 degrees of freedom\n",
       "Multiple R-squared:  0.6656,\tAdjusted R-squared:  0.6653 \n",
       "F-statistic:  2418 on 2 and 2430 DF,  p-value: < 2.2e-16\n"
      ]
     },
     "metadata": {},
     "output_type": "display_data"
    },
    {
     "data": {
      "text/html": [
       "104.092791846723"
      ],
      "text/latex": [
       "104.092791846723"
      ],
      "text/markdown": [
       "104.092791846723"
      ],
      "text/plain": [
       "[1] 104.0928"
      ]
     },
     "metadata": {},
     "output_type": "display_data"
    }
   ],
   "source": [
    "df.LotFrontage %>% \n",
    "select(LotFrontage, LotArea, MSSubClass) %>%\n",
    "mutate(\n",
    "    LotFrontage.log = log(LotFrontage),\n",
    "    LotArea.log = log(LotArea)\n",
    ") %>%\n",
    "group_by(MSSubClass) %>%\n",
    "mutate(MSSubClass.new = mean(LotFrontage.log)) %>% \n",
    "lm(LotFrontage.log ~ LotArea.log + MSSubClass.new, data = .) -> model\n",
    "\n",
    "model %>% summary\n",
    "sum(model$residuals ^ 2)"
   ]
  },
  {
   "cell_type": "code",
   "execution_count": 10,
   "metadata": {},
   "outputs": [
    {
     "data": {
      "text/plain": [
       "\n",
       "Call:\n",
       "lm(formula = LotFrontage.log ~ LotArea.log + MSSubClass.new, \n",
       "    data = .)\n",
       "\n",
       "Residuals:\n",
       "     Min       1Q   Median       3Q      Max \n",
       "-1.02441 -0.10275  0.00225  0.10683  1.15100 \n",
       "\n",
       "Coefficients:\n",
       "               Estimate Std. Error t value Pr(>|t|)    \n",
       "(Intercept)     1.16030    0.11284   10.28   <2e-16 ***\n",
       "LotArea.log     0.33310    0.01244   26.78   <2e-16 ***\n",
       "MSSubClass.new  0.54815    0.02297   23.87   <2e-16 ***\n",
       "---\n",
       "Signif. codes:  0 ‘***’ 0.001 ‘**’ 0.01 ‘*’ 0.05 ‘.’ 0.1 ‘ ’ 1\n",
       "\n",
       "Residual standard error: 0.207 on 2430 degrees of freedom\n",
       "Multiple R-squared:  0.6656,\tAdjusted R-squared:  0.6653 \n",
       "F-statistic:  2418 on 2 and 2430 DF,  p-value: < 2.2e-16\n"
      ]
     },
     "metadata": {},
     "output_type": "display_data"
    },
    {
     "data": {
      "text/html": [
       "104.092791846723"
      ],
      "text/latex": [
       "104.092791846723"
      ],
      "text/markdown": [
       "104.092791846723"
      ],
      "text/plain": [
       "[1] 104.0928"
      ]
     },
     "metadata": {},
     "output_type": "display_data"
    }
   ],
   "source": [
    "df.LotFrontage %>% \n",
    "select(LotFrontage, LotArea, MSSubClass) %>%\n",
    "mutate(\n",
    "    LotFrontage.log = log(LotFrontage),\n",
    "    LotArea.log = log(LotArea)\n",
    ") %>%\n",
    "group_by(MSSubClass) -> df\n",
    "\n",
    "df %>% ungroup() %>% \n",
    "summarise(mean = mean(LotFrontage.log)) %>% `$`(\"mean\") -> total_mean\n",
    "\n",
    "df %>% \n",
    "mutate(MSSubClass.new = mean(LotFrontage.log) - total_mean) %>% \n",
    "lm(LotFrontage.log ~ LotArea.log + MSSubClass.new, data = .) -> model\n",
    "\n",
    "model %>% summary\n",
    "sum(model$residuals ^ 2)"
   ]
  },
  {
   "cell_type": "code",
   "execution_count": 15,
   "metadata": {},
   "outputs": [
    {
     "data": {
      "text/plain": [
       "\n",
       "Call:\n",
       "lm(formula = LotFrontage.log ~ LotArea.log + MSSubClass, data = .)\n",
       "\n",
       "Residuals:\n",
       "     Min       1Q   Median       3Q      Max \n",
       "-1.02965 -0.09845  0.00116  0.10641  1.14375 \n",
       "\n",
       "Coefficients:\n",
       "              Estimate Std. Error t value Pr(>|t|)    \n",
       "(Intercept)    0.87696    0.10829   8.098 8.75e-16 ***\n",
       "LotArea.log    0.33748    0.01253  26.935  < 2e-16 ***\n",
       "MSSubClass160 -0.24130    0.02740  -8.806  < 2e-16 ***\n",
       "MSSubClass180 -0.24097    0.05546  -4.345 1.45e-05 ***\n",
       "MSSubClass190  0.22774    0.03308   6.884 7.39e-12 ***\n",
       "MSSubClass20   0.32685    0.02032  16.082  < 2e-16 ***\n",
       "MSSubClass30   0.20083    0.02545   7.892 4.48e-15 ***\n",
       "MSSubClass40   0.04072    0.09436   0.431   0.6661    \n",
       "MSSubClass45   0.15438    0.05178   2.981   0.0029 ** \n",
       "MSSubClass50   0.19014    0.02214   8.589  < 2e-16 ***\n",
       "MSSubClass60   0.32849    0.02171  15.128  < 2e-16 ***\n",
       "MSSubClass70   0.19911    0.02635   7.556 5.86e-14 ***\n",
       "MSSubClass75   0.27565    0.04897   5.629 2.02e-08 ***\n",
       "MSSubClass80   0.34972    0.02940  11.893  < 2e-16 ***\n",
       "MSSubClass85   0.32481    0.04096   7.930 3.31e-15 ***\n",
       "MSSubClass90   0.29115    0.02831  10.286  < 2e-16 ***\n",
       "---\n",
       "Signif. codes:  0 ‘***’ 0.001 ‘**’ 0.01 ‘*’ 0.05 ‘.’ 0.1 ‘ ’ 1\n",
       "\n",
       "Residual standard error: 0.2071 on 2417 degrees of freedom\n",
       "Multiple R-squared:  0.6669,\tAdjusted R-squared:  0.6648 \n",
       "F-statistic: 322.6 on 15 and 2417 DF,  p-value: < 2.2e-16\n"
      ]
     },
     "metadata": {},
     "output_type": "display_data"
    },
    {
     "data": {
      "text/html": [
       "103.688229463177"
      ],
      "text/latex": [
       "103.688229463177"
      ],
      "text/markdown": [
       "103.688229463177"
      ],
      "text/plain": [
       "[1] 103.6882"
      ]
     },
     "metadata": {},
     "output_type": "display_data"
    },
    {
     "data": {
      "text/html": [
       "92.1831335087671"
      ],
      "text/latex": [
       "92.1831335087671"
      ],
      "text/markdown": [
       "92.1831335087671"
      ],
      "text/plain": [
       "[1] 92.18313"
      ]
     },
     "metadata": {},
     "output_type": "display_data"
    }
   ],
   "source": [
    "df.LotFrontage %>% \n",
    "select(LotFrontage, LotArea, MSSubClass) %>%\n",
    "mutate(\n",
    "    LotFrontage.log = log(LotFrontage),\n",
    "    LotArea.log = log(LotArea)\n",
    ") %>%\n",
    "lm(LotFrontage.log ~ LotArea.log + MSSubClass, data = .) -> model\n",
    "\n",
    "model %>% summary\n",
    "sum(model$residuals ^ 2)\n",
    "\n",
    "df.LotFrontage %>% \n",
    "select(LotFrontage, LotArea, MSSubClass, BldgType, Neighborhood) %>%\n",
    "mutate(\n",
    "    LotFrontage.log = log(LotFrontage),\n",
    "    LotArea.log = log(LotArea)\n",
    ") %>%\n",
    "lm(LotFrontage.log ~ LotArea.log + MSSubClass + BldgType + Neighborhood, data = .) -> model\n",
    "\n",
    "sum(model$residuals ^ 2)"
   ]
  },
  {
   "cell_type": "code",
   "execution_count": 14,
   "metadata": {},
   "outputs": [
    {
     "data": {
      "text/plain": [
       "\n",
       "Call:\n",
       "lm(formula = LotFrontage.log ~ LotArea.log + MSSubClass.new + \n",
       "    BldgType.new + Neighborhood.new, data = .)\n",
       "\n",
       "Residuals:\n",
       "     Min       1Q   Median       3Q      Max \n",
       "-0.93307 -0.10356  0.00261  0.10092  1.13659 \n",
       "\n",
       "Coefficients:\n",
       "                 Estimate Std. Error t value Pr(>|t|)    \n",
       "(Intercept)      -1.43308    0.08508 -16.845  < 2e-16 ***\n",
       "LotArea.log       0.29350    0.01318  22.266  < 2e-16 ***\n",
       "MSSubClass.new    0.37045    0.03725   9.944  < 2e-16 ***\n",
       "BldgType.new      0.14215    0.03588   3.962 7.66e-05 ***\n",
       "Neighborhood.new  0.19371    0.02593   7.470 1.11e-13 ***\n",
       "---\n",
       "Signif. codes:  0 ‘***’ 0.001 ‘**’ 0.01 ‘*’ 0.05 ‘.’ 0.1 ‘ ’ 1\n",
       "\n",
       "Residual standard error: 0.2042 on 2428 degrees of freedom\n",
       "Multiple R-squared:  0.6747,\tAdjusted R-squared:  0.6742 \n",
       "F-statistic:  1259 on 4 and 2428 DF,  p-value: < 2.2e-16\n"
      ]
     },
     "metadata": {},
     "output_type": "display_data"
    },
    {
     "data": {
      "text/html": [
       "101.244287134238"
      ],
      "text/latex": [
       "101.244287134238"
      ],
      "text/markdown": [
       "101.244287134238"
      ],
      "text/plain": [
       "[1] 101.2443"
      ]
     },
     "metadata": {},
     "output_type": "display_data"
    }
   ],
   "source": [
    "df.LotFrontage %>% \n",
    "mutate(\n",
    "    LotFrontage.log = log(LotFrontage),\n",
    "    LotArea.log = log(LotArea)\n",
    ") %>%\n",
    "group_by(MSSubClass) %>%\n",
    "mutate(MSSubClass.new = mean(LotFrontage.log)) %>%\n",
    "group_by(BldgType) %>%\n",
    "mutate(BldgType.new = mean(LotFrontage.log)) %>%\n",
    "group_by(Neighborhood) %>%\n",
    "mutate(Neighborhood.new = mean(LotFrontage.log)) %>%\n",
    "lm(LotFrontage.log ~ LotArea.log + MSSubClass.new + BldgType.new + Neighborhood.new, data = .) -> model\n",
    "\n",
    "model %>% summary\n",
    "sum(model$residuals ^ 2)"
   ]
  },
  {
   "cell_type": "code",
   "execution_count": 16,
   "metadata": {},
   "outputs": [
    {
     "data": {
      "text/plain": [
       "\n",
       "Call:\n",
       "lm(formula = LotFrontage.log ~ LotArea.log + MSSubClass.new + \n",
       "    BldgType.new + Neighborhood.new, data = .)\n",
       "\n",
       "Residuals:\n",
       "     Min       1Q   Median       3Q      Max \n",
       "-0.97849 -0.10343  0.00498  0.09993  1.14624 \n",
       "\n",
       "Coefficients:\n",
       "                 Estimate Std. Error t value Pr(>|t|)    \n",
       "(Intercept)      -1.36604    0.08580 -15.921  < 2e-16 ***\n",
       "LotArea.log       0.28886    0.01313  21.993  < 2e-16 ***\n",
       "MSSubClass.new    0.33035    0.03369   9.806  < 2e-16 ***\n",
       "BldgType.new      0.18531    0.03611   5.132  3.1e-07 ***\n",
       "Neighborhood.new  0.18604    0.02156   8.629  < 2e-16 ***\n",
       "---\n",
       "Signif. codes:  0 ‘***’ 0.001 ‘**’ 0.01 ‘*’ 0.05 ‘.’ 0.1 ‘ ’ 1\n",
       "\n",
       "Residual standard error: 0.2035 on 2428 degrees of freedom\n",
       "Multiple R-squared:  0.6771,\tAdjusted R-squared:  0.6766 \n",
       "F-statistic:  1273 on 4 and 2428 DF,  p-value: < 2.2e-16\n"
      ]
     },
     "metadata": {},
     "output_type": "display_data"
    },
    {
     "data": {
      "text/html": [
       "100.512739287944"
      ],
      "text/latex": [
       "100.512739287944"
      ],
      "text/markdown": [
       "100.512739287944"
      ],
      "text/plain": [
       "[1] 100.5127"
      ]
     },
     "metadata": {},
     "output_type": "display_data"
    }
   ],
   "source": [
    "df.LotFrontage %>% \n",
    "mutate(\n",
    "    LotFrontage.log = log(LotFrontage),\n",
    "    LotArea.log = log(LotArea)\n",
    ") %>%\n",
    "group_by(MSSubClass) %>%\n",
    "mutate(MSSubClass.new = median(LotFrontage.log)) %>%\n",
    "group_by(BldgType) %>%\n",
    "mutate(BldgType.new = median(LotFrontage.log)) %>%\n",
    "group_by(Neighborhood) %>%\n",
    "mutate(Neighborhood.new = median(LotFrontage.log)) %>%\n",
    "lm(LotFrontage.log ~ LotArea.log + MSSubClass.new + BldgType.new + Neighborhood.new, data = .) -> model\n",
    "\n",
    "model %>% summary\n",
    "sum(model$residuals ^ 2)"
   ]
  },
  {
   "cell_type": "code",
   "execution_count": null,
   "metadata": {
    "collapsed": true
   },
   "outputs": [],
   "source": []
  },
  {
   "cell_type": "code",
   "execution_count": null,
   "metadata": {
    "collapsed": true
   },
   "outputs": [],
   "source": []
  },
  {
   "cell_type": "code",
   "execution_count": null,
   "metadata": {
    "collapsed": true
   },
   "outputs": [],
   "source": []
  },
  {
   "cell_type": "code",
   "execution_count": null,
   "metadata": {
    "collapsed": true
   },
   "outputs": [],
   "source": []
  },
  {
   "cell_type": "code",
   "execution_count": null,
   "metadata": {
    "collapsed": true
   },
   "outputs": [],
   "source": []
  },
  {
   "cell_type": "code",
   "execution_count": null,
   "metadata": {
    "collapsed": true
   },
   "outputs": [],
   "source": []
  }
 ],
 "metadata": {
  "kernelspec": {
   "display_name": "R",
   "language": "R",
   "name": "ir"
  },
  "language_info": {
   "codemirror_mode": "r",
   "file_extension": ".r",
   "mimetype": "text/x-r-source",
   "name": "R",
   "pygments_lexer": "r",
   "version": "3.4.0"
  }
 },
 "nbformat": 4,
 "nbformat_minor": 2
}
