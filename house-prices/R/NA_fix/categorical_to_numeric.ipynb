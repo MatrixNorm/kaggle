{
 "cells": [
  {
   "cell_type": "code",
   "execution_count": 1,
   "metadata": {},
   "outputs": [
    {
     "data": {
      "text/html": [
       "'/mnt/hdd/develop/kaggle/house-prices/R/NA_fix'"
      ],
      "text/latex": [
       "'/mnt/hdd/develop/kaggle/house-prices/R/NA\\_fix'"
      ],
      "text/markdown": [
       "'/mnt/hdd/develop/kaggle/house-prices/R/NA_fix'"
      ],
      "text/plain": [
       "[1] \"/mnt/hdd/develop/kaggle/house-prices/R/NA_fix\""
      ]
     },
     "metadata": {},
     "output_type": "display_data"
    },
    {
     "data": {
      "text/html": [
       "'/mnt/hdd/develop/kaggle/house-prices/R'"
      ],
      "text/latex": [
       "'/mnt/hdd/develop/kaggle/house-prices/R'"
      ],
      "text/markdown": [
       "'/mnt/hdd/develop/kaggle/house-prices/R'"
      ],
      "text/plain": [
       "[1] \"/mnt/hdd/develop/kaggle/house-prices/R\""
      ]
     },
     "metadata": {},
     "output_type": "display_data"
    }
   ],
   "source": [
    "getwd()\n",
    "if ( is.null(environment()$this_notebook_dir) ) {\n",
    "    this_notebook_dir <- getwd()\n",
    "    setwd(paste0(getwd(), '/..'))\n",
    "}\n",
    "getwd()"
   ]
  },
  {
   "cell_type": "code",
   "execution_count": 2,
   "metadata": {},
   "outputs": [
    {
     "name": "stderr",
     "output_type": "stream",
     "text": [
      "Loading required package: lattice\n",
      "Loading required package: ggplot2\n",
      "\n",
      "Attaching package: ‘dplyr’\n",
      "\n",
      "The following objects are masked from ‘package:stats’:\n",
      "\n",
      "    filter, lag\n",
      "\n",
      "The following objects are masked from ‘package:base’:\n",
      "\n",
      "    intersect, setdiff, setequal, union\n",
      "\n",
      "\n",
      "Attaching package: ‘gridExtra’\n",
      "\n",
      "The following object is masked from ‘package:dplyr’:\n",
      "\n",
      "    combine\n",
      "\n",
      "\n",
      "Attaching package: ‘tidyr’\n",
      "\n",
      "The following object is masked from ‘package:reshape2’:\n",
      "\n",
      "    smiths\n",
      "\n",
      "\n",
      "Attaching package: ‘purrr’\n",
      "\n",
      "The following object is masked from ‘package:caret’:\n",
      "\n",
      "    lift\n",
      "\n"
     ]
    },
    {
     "data": {
      "text/html": [
       "<ol class=list-inline>\n",
       "\t<li>2433</li>\n",
       "\t<li>79</li>\n",
       "</ol>\n"
      ],
      "text/latex": [
       "\\begin{enumerate*}\n",
       "\\item 2433\n",
       "\\item 79\n",
       "\\end{enumerate*}\n"
      ],
      "text/markdown": [
       "1. 2433\n",
       "2. 79\n",
       "\n",
       "\n"
      ],
      "text/plain": [
       "[1] 2433   79"
      ]
     },
     "metadata": {},
     "output_type": "display_data"
    },
    {
     "data": {
      "text/html": [
       "<ol class=list-inline>\n",
       "\t<li>2433</li>\n",
       "\t<li>35</li>\n",
       "</ol>\n"
      ],
      "text/latex": [
       "\\begin{enumerate*}\n",
       "\\item 2433\n",
       "\\item 35\n",
       "\\end{enumerate*}\n"
      ],
      "text/markdown": [
       "1. 2433\n",
       "2. 35\n",
       "\n",
       "\n"
      ],
      "text/plain": [
       "[1] 2433   35"
      ]
     },
     "metadata": {},
     "output_type": "display_data"
    },
    {
     "data": {
      "text/html": [
       "<ol class=list-inline>\n",
       "\t<li>2433</li>\n",
       "\t<li>45</li>\n",
       "</ol>\n"
      ],
      "text/latex": [
       "\\begin{enumerate*}\n",
       "\\item 2433\n",
       "\\item 45\n",
       "\\end{enumerate*}\n"
      ],
      "text/markdown": [
       "1. 2433\n",
       "2. 45\n",
       "\n",
       "\n"
      ],
      "text/plain": [
       "[1] 2433   45"
      ]
     },
     "metadata": {},
     "output_type": "display_data"
    }
   ],
   "source": [
    "source('helpers.R')\n",
    "\n",
    "kaggle.house.loadLibraries()\n",
    "data <- kaggle.house.loadData()\n",
    "\n",
    "df.LotFrontage <- data$combined %>% select(-dataSource) %>% filter(!is.na(LotFrontage))\n",
    "\n",
    "df.LotFrontage.vs.numeric <- df.LotFrontage %>% select_if(is.numeric)\n",
    "\n",
    "df.LotFrontage.vs.char <- df.LotFrontage %>% \n",
    "    select(starts_with('LotFrontage'),  \n",
    "           which(sapply(df.LotFrontage, is.character)) %>% names)\n",
    "\n",
    "df.LotFrontage %>% dim\n",
    "df.LotFrontage.vs.numeric %>% dim\n",
    "df.LotFrontage.vs.char %>% dim"
   ]
  },
  {
   "cell_type": "code",
   "execution_count": 12,
   "metadata": {},
   "outputs": [
    {
     "name": "stdout",
     "output_type": "stream",
     "text": [
      "# A tibble: 2 x 3\n",
      "         var      mod                glance\n",
      "       <chr>   <list>                <list>\n",
      "1 MSSubClass <S3: lm> <data.frame [1 x 11]>\n",
      "2   MSZoning <S3: lm> <data.frame [1 x 11]>\n"
     ]
    },
    {
     "data": {
      "text/html": [
       "<table>\n",
       "<thead><tr><th scope=col>var</th><th scope=col>r.squared</th><th scope=col>adj.r.squared</th><th scope=col>sigma</th><th scope=col>statistic</th><th scope=col>p.value</th><th scope=col>df</th><th scope=col>logLik</th><th scope=col>AIC</th><th scope=col>BIC</th><th scope=col>deviance</th><th scope=col>df.residual</th></tr></thead>\n",
       "<tbody>\n",
       "\t<tr><td>MSSubClass   </td><td>0.353972822  </td><td>0.350232383  </td><td>18.81790     </td><td> 94.634042   </td><td>3.433373e-217</td><td>15           </td><td>-10585.1433  </td><td>21202.287    </td><td>21295.037    </td><td> 856246.03   </td><td>2418         </td></tr>\n",
       "\t<tr><td>MSZoning     </td><td>0.137446845  </td><td>0.136024077  </td><td>21.67323     </td><td> 96.605235   </td><td> 2.316218e-76</td><td> 5           </td><td>-10920.3876  </td><td>21852.775    </td><td>21887.549    </td><td>1139092.89   </td><td>2425         </td></tr>\n",
       "\t<tr><td>LotArea      </td><td>0.239997670  </td><td>0.239685040  </td><td>20.35583     </td><td>767.674404   </td><td>4.455289e-147</td><td> 2           </td><td>-10782.8001  </td><td>21571.600    </td><td>21588.991    </td><td>1007308.98   </td><td>2431         </td></tr>\n",
       "\t<tr><td>Street       </td><td>0.002704569  </td><td>0.002294329  </td><td>23.31811     </td><td>  6.592639   </td><td> 1.029941e-02</td><td> 2           </td><td>-11113.3543  </td><td>22232.709    </td><td>22250.099    </td><td>1321817.85   </td><td>2431         </td></tr>\n",
       "\t<tr><td>Alley        </td><td>0.158705757  </td><td>0.154108521  </td><td>16.21692     </td><td> 34.521992   </td><td> 1.953858e-08</td><td> 2           </td><td>  -776.9183  </td><td> 1559.837    </td><td> 1569.498    </td><td>  48126.87   </td><td> 183         </td></tr>\n",
       "\t<tr><td>LotShape     </td><td>0.044227118  </td><td>0.043046666  </td><td>22.83692     </td><td> 37.466248   </td><td> 1.154066e-23</td><td> 4           </td><td>-11061.6205  </td><td>22133.241    </td><td>22162.225    </td><td>1266783.76   </td><td>2429         </td></tr>\n",
       "</tbody>\n",
       "</table>\n"
      ],
      "text/latex": [
       "\\begin{tabular}{r|llllllllllll}\n",
       " var & r.squared & adj.r.squared & sigma & statistic & p.value & df & logLik & AIC & BIC & deviance & df.residual\\\\\n",
       "\\hline\n",
       "\t MSSubClass    & 0.353972822   & 0.350232383   & 18.81790      &  94.634042    & 3.433373e-217 & 15            & -10585.1433   & 21202.287     & 21295.037     &  856246.03    & 2418         \\\\\n",
       "\t MSZoning      & 0.137446845   & 0.136024077   & 21.67323      &  96.605235    &  2.316218e-76 &  5            & -10920.3876   & 21852.775     & 21887.549     & 1139092.89    & 2425         \\\\\n",
       "\t LotArea       & 0.239997670   & 0.239685040   & 20.35583      & 767.674404    & 4.455289e-147 &  2            & -10782.8001   & 21571.600     & 21588.991     & 1007308.98    & 2431         \\\\\n",
       "\t Street        & 0.002704569   & 0.002294329   & 23.31811      &   6.592639    &  1.029941e-02 &  2            & -11113.3543   & 22232.709     & 22250.099     & 1321817.85    & 2431         \\\\\n",
       "\t Alley         & 0.158705757   & 0.154108521   & 16.21692      &  34.521992    &  1.953858e-08 &  2            &   -776.9183   &  1559.837     &  1569.498     &   48126.87    &  183         \\\\\n",
       "\t LotShape      & 0.044227118   & 0.043046666   & 22.83692      &  37.466248    &  1.154066e-23 &  4            & -11061.6205   & 22133.241     & 22162.225     & 1266783.76    & 2429         \\\\\n",
       "\\end{tabular}\n"
      ],
      "text/markdown": [
       "\n",
       "var | r.squared | adj.r.squared | sigma | statistic | p.value | df | logLik | AIC | BIC | deviance | df.residual | \n",
       "|---|---|---|---|---|---|\n",
       "| MSSubClass    | 0.353972822   | 0.350232383   | 18.81790      |  94.634042    | 3.433373e-217 | 15            | -10585.1433   | 21202.287     | 21295.037     |  856246.03    | 2418          | \n",
       "| MSZoning      | 0.137446845   | 0.136024077   | 21.67323      |  96.605235    |  2.316218e-76 |  5            | -10920.3876   | 21852.775     | 21887.549     | 1139092.89    | 2425          | \n",
       "| LotArea       | 0.239997670   | 0.239685040   | 20.35583      | 767.674404    | 4.455289e-147 |  2            | -10782.8001   | 21571.600     | 21588.991     | 1007308.98    | 2431          | \n",
       "| Street        | 0.002704569   | 0.002294329   | 23.31811      |   6.592639    |  1.029941e-02 |  2            | -11113.3543   | 22232.709     | 22250.099     | 1321817.85    | 2431          | \n",
       "| Alley         | 0.158705757   | 0.154108521   | 16.21692      |  34.521992    |  1.953858e-08 |  2            |   -776.9183   |  1559.837     |  1569.498     |   48126.87    |  183          | \n",
       "| LotShape      | 0.044227118   | 0.043046666   | 22.83692      |  37.466248    |  1.154066e-23 |  4            | -11061.6205   | 22133.241     | 22162.225     | 1266783.76    | 2429          | \n",
       "\n",
       "\n"
      ],
      "text/plain": [
       "  var        r.squared   adj.r.squared sigma    statistic  p.value       df\n",
       "1 MSSubClass 0.353972822 0.350232383   18.81790  94.634042 3.433373e-217 15\n",
       "2 MSZoning   0.137446845 0.136024077   21.67323  96.605235  2.316218e-76  5\n",
       "3 LotArea    0.239997670 0.239685040   20.35583 767.674404 4.455289e-147  2\n",
       "4 Street     0.002704569 0.002294329   23.31811   6.592639  1.029941e-02  2\n",
       "5 Alley      0.158705757 0.154108521   16.21692  34.521992  1.953858e-08  2\n",
       "6 LotShape   0.044227118 0.043046666   22.83692  37.466248  1.154066e-23  4\n",
       "  logLik      AIC       BIC       deviance   df.residual\n",
       "1 -10585.1433 21202.287 21295.037  856246.03 2418       \n",
       "2 -10920.3876 21852.775 21887.549 1139092.89 2425       \n",
       "3 -10782.8001 21571.600 21588.991 1007308.98 2431       \n",
       "4 -11113.3543 22232.709 22250.099 1321817.85 2431       \n",
       "5   -776.9183  1559.837  1569.498   48126.87  183       \n",
       "6 -11061.6205 22133.241 22162.225 1266783.76 2429       "
      ]
     },
     "metadata": {},
     "output_type": "display_data"
    }
   ],
   "source": [
    "df.LotFrontage %>% select(-LotFrontage, -Utilities) %>% \n",
    "    map(function (col) {  \n",
    "            lm(LotFrontage ~ attr, tibble(attr=col, LotFrontage=df.LotFrontage$LotFrontage))\n",
    "    }) -> models.lst\n",
    "\n",
    "tibble(\n",
    "    var = names(models.lst),\n",
    "    mod = models.lst,\n",
    "    glance = map(mod, broom::glance)\n",
    ") -> models.df\n",
    "\n",
    "models.df %>% head(2) %>% print\n",
    "\n",
    "models.df %>% select(-mod) %>% unnest(glance) %>% head"
   ]
  },
  {
   "cell_type": "code",
   "execution_count": null,
   "metadata": {},
   "outputs": [],
   "source": []
  },
  {
   "cell_type": "code",
   "execution_count": null,
   "metadata": {
    "collapsed": true
   },
   "outputs": [],
   "source": []
  },
  {
   "cell_type": "code",
   "execution_count": null,
   "metadata": {
    "collapsed": true
   },
   "outputs": [],
   "source": []
  },
  {
   "cell_type": "code",
   "execution_count": null,
   "metadata": {
    "collapsed": true
   },
   "outputs": [],
   "source": []
  },
  {
   "cell_type": "code",
   "execution_count": null,
   "metadata": {
    "collapsed": true
   },
   "outputs": [],
   "source": []
  },
  {
   "cell_type": "code",
   "execution_count": null,
   "metadata": {
    "collapsed": true
   },
   "outputs": [],
   "source": []
  },
  {
   "cell_type": "code",
   "execution_count": null,
   "metadata": {
    "collapsed": true
   },
   "outputs": [],
   "source": []
  },
  {
   "cell_type": "code",
   "execution_count": null,
   "metadata": {
    "collapsed": true
   },
   "outputs": [],
   "source": []
  },
  {
   "cell_type": "code",
   "execution_count": null,
   "metadata": {
    "collapsed": true
   },
   "outputs": [],
   "source": []
  },
  {
   "cell_type": "code",
   "execution_count": null,
   "metadata": {
    "collapsed": true
   },
   "outputs": [],
   "source": []
  },
  {
   "cell_type": "code",
   "execution_count": null,
   "metadata": {
    "collapsed": true
   },
   "outputs": [],
   "source": []
  },
  {
   "cell_type": "code",
   "execution_count": null,
   "metadata": {
    "collapsed": true
   },
   "outputs": [],
   "source": []
  },
  {
   "cell_type": "code",
   "execution_count": null,
   "metadata": {
    "collapsed": true
   },
   "outputs": [],
   "source": []
  },
  {
   "cell_type": "code",
   "execution_count": null,
   "metadata": {
    "collapsed": true
   },
   "outputs": [],
   "source": []
  },
  {
   "cell_type": "code",
   "execution_count": null,
   "metadata": {
    "collapsed": true
   },
   "outputs": [],
   "source": []
  },
  {
   "cell_type": "code",
   "execution_count": null,
   "metadata": {
    "collapsed": true
   },
   "outputs": [],
   "source": []
  },
  {
   "cell_type": "code",
   "execution_count": null,
   "metadata": {
    "collapsed": true
   },
   "outputs": [],
   "source": []
  }
 ],
 "metadata": {
  "kernelspec": {
   "display_name": "R",
   "language": "R",
   "name": "ir"
  },
  "language_info": {
   "codemirror_mode": "r",
   "file_extension": ".r",
   "mimetype": "text/x-r-source",
   "name": "R",
   "pygments_lexer": "r",
   "version": "3.4.0"
  }
 },
 "nbformat": 4,
 "nbformat_minor": 2
}
