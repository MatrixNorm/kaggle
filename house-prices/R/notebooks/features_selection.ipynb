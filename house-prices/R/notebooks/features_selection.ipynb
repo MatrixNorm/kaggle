{
 "cells": [
  {
   "cell_type": "code",
   "execution_count": 1,
   "metadata": {},
   "outputs": [
    {
     "data": {
      "text/html": [
       "'/mnt/hdd/develop/kaggle/house-prices/R/R'"
      ],
      "text/latex": [
       "'/mnt/hdd/develop/kaggle/house-prices/R/R'"
      ],
      "text/markdown": [
       "'/mnt/hdd/develop/kaggle/house-prices/R/R'"
      ],
      "text/plain": [
       "[1] \"/mnt/hdd/develop/kaggle/house-prices/R/R\""
      ]
     },
     "metadata": {},
     "output_type": "display_data"
    }
   ],
   "source": [
    "setwd(paste0(Sys.getenv('ROOT'), '/R'))\n",
    "getwd()"
   ]
  },
  {
   "cell_type": "code",
   "execution_count": 9,
   "metadata": {},
   "outputs": [],
   "source": [
    "library(Metrics)\n",
    "source('main.R')\n",
    "\n",
    "data <- kaggle.house$loadData()\n",
    "\n",
    "df.combined <- kaggle.house$getCombinedDataset(data$train, data$test) %>% (kaggle.house$na$fixAll)\n",
    "\n",
    "df.training <- \n",
    "    df.combined %>% \n",
    "    filter(dataSource == \"train\") %>% \n",
    "    mutate(sale_price_log = log(SalePrice)) %>%\n",
    "    select(-dataSource, -SalePrice)"
   ]
  },
  {
   "cell_type": "code",
   "execution_count": 10,
   "metadata": {},
   "outputs": [],
   "source": [
    "source('main.R')\n",
    "trainset <- kaggle.house$trans$doItAll(df.training)\n",
    "# Should be only numeric columns\n",
    "stopifnot(0 == trainset %>% purrr::map(function (col) { !is.numeric(col) }) %>% unlist %>% sum)"
   ]
  },
  {
   "cell_type": "code",
   "execution_count": 19,
   "metadata": {},
   "outputs": [
    {
     "data": {
      "text/html": [
       "<table>\n",
       "<thead><tr><th scope=col>name</th><th scope=col>r2</th><th scope=col>r2.log</th><th scope=col>best.r2</th></tr></thead>\n",
       "<tbody>\n",
       "\t<tr><td>OverallQual     </td><td>0.6677904       </td><td>0.6433122       </td><td>0.6677904       </td></tr>\n",
       "\t<tr><td>Neighborhood.new</td><td>0.5640165       </td><td>0.5640765       </td><td>0.5640765       </td></tr>\n",
       "\t<tr><td>GrLivArea       </td><td>0.4912982       </td><td>0.5332704       </td><td>0.5332704       </td></tr>\n",
       "\t<tr><td>GarageCars      </td><td>0.4632501       </td><td>0.4116007       </td><td>0.4632501       </td></tr>\n",
       "\t<tr><td>ExterQual.new   </td><td>0.4603784       </td><td>0.4606815       </td><td>0.4606815       </td></tr>\n",
       "\t<tr><td>BsmtQual.new    </td><td>0.4512077       </td><td>0.4516368       </td><td>0.4516368       </td></tr>\n",
       "\t<tr><td>KitchenQual.new </td><td>0.4437750       </td><td>0.4444692       </td><td>0.4444692       </td></tr>\n",
       "\t<tr><td>GarageArea      </td><td>0.4236546       </td><td>0.2069329       </td><td>0.4236546       </td></tr>\n",
       "\t<tr><td>GarageFinish.new</td><td>0.3807905       </td><td>0.3807381       </td><td>0.3807905       </td></tr>\n",
       "\t<tr><td>TotalBsmtSF     </td><td>0.3747080       </td><td>0.1390081       </td><td>0.3747080       </td></tr>\n",
       "\t<tr><td>X1stFlrSF       </td><td>0.3563864       </td><td>0.3708261       </td><td>0.3708261       </td></tr>\n",
       "\t<tr><td>FullBath        </td><td>0.3537520       </td><td>0.3367440       </td><td>0.3537520       </td></tr>\n",
       "\t<tr><td>YearBuilt       </td><td>0.3440646       </td><td>0.3415741       </td><td>0.3440646       </td></tr>\n",
       "\t<tr><td>GarageType.new  </td><td>0.3343282       </td><td>0.3343035       </td><td>0.3343282       </td></tr>\n",
       "\t<tr><td>YearRemodAdd    </td><td>0.3199122       </td><td>0.3198923       </td><td>0.3199122       </td></tr>\n",
       "\t<tr><td>MSSubClass.new  </td><td>0.3187033       </td><td>0.3189742       </td><td>0.3189742       </td></tr>\n",
       "\t<tr><td>FireplaceQu.new </td><td>0.3094090       </td><td>0.3096143       </td><td>0.3096143       </td></tr>\n",
       "\t<tr><td>Foundation.new  </td><td>0.3024879       </td><td>0.3025204       </td><td>0.3025204       </td></tr>\n",
       "\t<tr><td>TotRmsAbvGrd    </td><td>0.2856071       </td><td>0.2915979       </td><td>0.2915979       </td></tr>\n",
       "\t<tr><td>Fireplaces      </td><td>0.2395607       </td><td>0.2590042       </td><td>0.2590042       </td></tr>\n",
       "\t<tr><td>HeatingQC.new   </td><td>0.2316887       </td><td>0.2316696       </td><td>0.2316887       </td></tr>\n",
       "\t<tr><td>BsmtFinType1.new</td><td>0.2227834       </td><td>0.2225711       </td><td>0.2227834       </td></tr>\n",
       "\t<tr><td>OpenPorchSF     </td><td>0.1030750       </td><td>0.2115519       </td><td>0.2115519       </td></tr>\n",
       "</tbody>\n",
       "</table>\n"
      ],
      "text/latex": [
       "\\begin{tabular}{r|llll}\n",
       " name & r2 & r2.log & best.r2\\\\\n",
       "\\hline\n",
       "\t OverallQual      & 0.6677904        & 0.6433122        & 0.6677904       \\\\\n",
       "\t Neighborhood.new & 0.5640165        & 0.5640765        & 0.5640765       \\\\\n",
       "\t GrLivArea        & 0.4912982        & 0.5332704        & 0.5332704       \\\\\n",
       "\t GarageCars       & 0.4632501        & 0.4116007        & 0.4632501       \\\\\n",
       "\t ExterQual.new    & 0.4603784        & 0.4606815        & 0.4606815       \\\\\n",
       "\t BsmtQual.new     & 0.4512077        & 0.4516368        & 0.4516368       \\\\\n",
       "\t KitchenQual.new  & 0.4437750        & 0.4444692        & 0.4444692       \\\\\n",
       "\t GarageArea       & 0.4236546        & 0.2069329        & 0.4236546       \\\\\n",
       "\t GarageFinish.new & 0.3807905        & 0.3807381        & 0.3807905       \\\\\n",
       "\t TotalBsmtSF      & 0.3747080        & 0.1390081        & 0.3747080       \\\\\n",
       "\t X1stFlrSF        & 0.3563864        & 0.3708261        & 0.3708261       \\\\\n",
       "\t FullBath         & 0.3537520        & 0.3367440        & 0.3537520       \\\\\n",
       "\t YearBuilt        & 0.3440646        & 0.3415741        & 0.3440646       \\\\\n",
       "\t GarageType.new   & 0.3343282        & 0.3343035        & 0.3343282       \\\\\n",
       "\t YearRemodAdd     & 0.3199122        & 0.3198923        & 0.3199122       \\\\\n",
       "\t MSSubClass.new   & 0.3187033        & 0.3189742        & 0.3189742       \\\\\n",
       "\t FireplaceQu.new  & 0.3094090        & 0.3096143        & 0.3096143       \\\\\n",
       "\t Foundation.new   & 0.3024879        & 0.3025204        & 0.3025204       \\\\\n",
       "\t TotRmsAbvGrd     & 0.2856071        & 0.2915979        & 0.2915979       \\\\\n",
       "\t Fireplaces       & 0.2395607        & 0.2590042        & 0.2590042       \\\\\n",
       "\t HeatingQC.new    & 0.2316887        & 0.2316696        & 0.2316887       \\\\\n",
       "\t BsmtFinType1.new & 0.2227834        & 0.2225711        & 0.2227834       \\\\\n",
       "\t OpenPorchSF      & 0.1030750        & 0.2115519        & 0.2115519       \\\\\n",
       "\\end{tabular}\n"
      ],
      "text/markdown": [
       "\n",
       "name | r2 | r2.log | best.r2 | \n",
       "|---|---|---|---|---|---|---|---|---|---|---|---|---|---|---|---|---|---|---|---|---|---|---|\n",
       "| OverallQual      | 0.6677904        | 0.6433122        | 0.6677904        | \n",
       "| Neighborhood.new | 0.5640165        | 0.5640765        | 0.5640765        | \n",
       "| GrLivArea        | 0.4912982        | 0.5332704        | 0.5332704        | \n",
       "| GarageCars       | 0.4632501        | 0.4116007        | 0.4632501        | \n",
       "| ExterQual.new    | 0.4603784        | 0.4606815        | 0.4606815        | \n",
       "| BsmtQual.new     | 0.4512077        | 0.4516368        | 0.4516368        | \n",
       "| KitchenQual.new  | 0.4437750        | 0.4444692        | 0.4444692        | \n",
       "| GarageArea       | 0.4236546        | 0.2069329        | 0.4236546        | \n",
       "| GarageFinish.new | 0.3807905        | 0.3807381        | 0.3807905        | \n",
       "| TotalBsmtSF      | 0.3747080        | 0.1390081        | 0.3747080        | \n",
       "| X1stFlrSF        | 0.3563864        | 0.3708261        | 0.3708261        | \n",
       "| FullBath         | 0.3537520        | 0.3367440        | 0.3537520        | \n",
       "| YearBuilt        | 0.3440646        | 0.3415741        | 0.3440646        | \n",
       "| GarageType.new   | 0.3343282        | 0.3343035        | 0.3343282        | \n",
       "| YearRemodAdd     | 0.3199122        | 0.3198923        | 0.3199122        | \n",
       "| MSSubClass.new   | 0.3187033        | 0.3189742        | 0.3189742        | \n",
       "| FireplaceQu.new  | 0.3094090        | 0.3096143        | 0.3096143        | \n",
       "| Foundation.new   | 0.3024879        | 0.3025204        | 0.3025204        | \n",
       "| TotRmsAbvGrd     | 0.2856071        | 0.2915979        | 0.2915979        | \n",
       "| Fireplaces       | 0.2395607        | 0.2590042        | 0.2590042        | \n",
       "| HeatingQC.new    | 0.2316887        | 0.2316696        | 0.2316887        | \n",
       "| BsmtFinType1.new | 0.2227834        | 0.2225711        | 0.2227834        | \n",
       "| OpenPorchSF      | 0.1030750        | 0.2115519        | 0.2115519        | \n",
       "\n",
       "\n"
      ],
      "text/plain": [
       "   name             r2        r2.log    best.r2  \n",
       "1  OverallQual      0.6677904 0.6433122 0.6677904\n",
       "2  Neighborhood.new 0.5640165 0.5640765 0.5640765\n",
       "3  GrLivArea        0.4912982 0.5332704 0.5332704\n",
       "4  GarageCars       0.4632501 0.4116007 0.4632501\n",
       "5  ExterQual.new    0.4603784 0.4606815 0.4606815\n",
       "6  BsmtQual.new     0.4512077 0.4516368 0.4516368\n",
       "7  KitchenQual.new  0.4437750 0.4444692 0.4444692\n",
       "8  GarageArea       0.4236546 0.2069329 0.4236546\n",
       "9  GarageFinish.new 0.3807905 0.3807381 0.3807905\n",
       "10 TotalBsmtSF      0.3747080 0.1390081 0.3747080\n",
       "11 X1stFlrSF        0.3563864 0.3708261 0.3708261\n",
       "12 FullBath         0.3537520 0.3367440 0.3537520\n",
       "13 YearBuilt        0.3440646 0.3415741 0.3440646\n",
       "14 GarageType.new   0.3343282 0.3343035 0.3343282\n",
       "15 YearRemodAdd     0.3199122 0.3198923 0.3199122\n",
       "16 MSSubClass.new   0.3187033 0.3189742 0.3189742\n",
       "17 FireplaceQu.new  0.3094090 0.3096143 0.3096143\n",
       "18 Foundation.new   0.3024879 0.3025204 0.3025204\n",
       "19 TotRmsAbvGrd     0.2856071 0.2915979 0.2915979\n",
       "20 Fireplaces       0.2395607 0.2590042 0.2590042\n",
       "21 HeatingQC.new    0.2316887 0.2316696 0.2316887\n",
       "22 BsmtFinType1.new 0.2227834 0.2225711 0.2227834\n",
       "23 OpenPorchSF      0.1030750 0.2115519 0.2115519"
      ]
     },
     "metadata": {},
     "output_type": "display_data"
    }
   ],
   "source": [
    "trainset %>% \n",
    "    gather(name, value, -sale_price_log) %>%\n",
    "    mutate(value.log = log(value + 1)) %>%\n",
    "    group_by(name) %>% nest %>%\n",
    "    mutate(\n",
    "        model =  map(data, ~lm(sale_price_log ~ value, .)),\n",
    "        glance = map(model, broom::glance),\n",
    "        r2 = map_dbl(glance, 'r.squared'),\n",
    "        \n",
    "        model.log =  map(data, ~lm(sale_price_log ~ value.log, .)),\n",
    "        glance.log = map(model.log, broom::glance),\n",
    "        r2.log = map_dbl(glance.log, 'r.squared'),\n",
    "        \n",
    "        best.r2 = pmax(r2, r2.log)\n",
    "    ) %>%\n",
    "    select(name, r2, r2.log, best.r2) %>%\n",
    "    arrange(desc(best.r2)) %>%\n",
    "    filter(best.r2 > 0.2)\n",
    "    "
   ]
  },
  {
   "cell_type": "code",
   "execution_count": null,
   "metadata": {},
   "outputs": [],
   "source": []
  },
  {
   "cell_type": "code",
   "execution_count": null,
   "metadata": {
    "collapsed": true
   },
   "outputs": [],
   "source": []
  },
  {
   "cell_type": "code",
   "execution_count": null,
   "metadata": {
    "collapsed": true
   },
   "outputs": [],
   "source": []
  },
  {
   "cell_type": "code",
   "execution_count": null,
   "metadata": {
    "collapsed": true
   },
   "outputs": [],
   "source": []
  },
  {
   "cell_type": "code",
   "execution_count": null,
   "metadata": {
    "collapsed": true
   },
   "outputs": [],
   "source": []
  },
  {
   "cell_type": "code",
   "execution_count": null,
   "metadata": {
    "collapsed": true
   },
   "outputs": [],
   "source": []
  },
  {
   "cell_type": "code",
   "execution_count": null,
   "metadata": {
    "collapsed": true
   },
   "outputs": [],
   "source": []
  },
  {
   "cell_type": "code",
   "execution_count": null,
   "metadata": {
    "collapsed": true
   },
   "outputs": [],
   "source": []
  },
  {
   "cell_type": "code",
   "execution_count": null,
   "metadata": {
    "collapsed": true
   },
   "outputs": [],
   "source": []
  },
  {
   "cell_type": "code",
   "execution_count": null,
   "metadata": {
    "collapsed": true
   },
   "outputs": [],
   "source": []
  },
  {
   "cell_type": "code",
   "execution_count": null,
   "metadata": {
    "collapsed": true
   },
   "outputs": [],
   "source": []
  },
  {
   "cell_type": "code",
   "execution_count": null,
   "metadata": {
    "collapsed": true
   },
   "outputs": [],
   "source": []
  },
  {
   "cell_type": "code",
   "execution_count": null,
   "metadata": {
    "collapsed": true
   },
   "outputs": [],
   "source": []
  },
  {
   "cell_type": "code",
   "execution_count": null,
   "metadata": {
    "collapsed": true
   },
   "outputs": [],
   "source": []
  },
  {
   "cell_type": "code",
   "execution_count": null,
   "metadata": {
    "collapsed": true
   },
   "outputs": [],
   "source": []
  },
  {
   "cell_type": "code",
   "execution_count": null,
   "metadata": {
    "collapsed": true
   },
   "outputs": [],
   "source": []
  },
  {
   "cell_type": "code",
   "execution_count": null,
   "metadata": {
    "collapsed": true
   },
   "outputs": [],
   "source": []
  },
  {
   "cell_type": "code",
   "execution_count": null,
   "metadata": {
    "collapsed": true
   },
   "outputs": [],
   "source": []
  },
  {
   "cell_type": "code",
   "execution_count": null,
   "metadata": {
    "collapsed": true
   },
   "outputs": [],
   "source": []
  },
  {
   "cell_type": "code",
   "execution_count": null,
   "metadata": {
    "collapsed": true
   },
   "outputs": [],
   "source": []
  },
  {
   "cell_type": "code",
   "execution_count": null,
   "metadata": {
    "collapsed": true
   },
   "outputs": [],
   "source": []
  },
  {
   "cell_type": "code",
   "execution_count": null,
   "metadata": {
    "collapsed": true
   },
   "outputs": [],
   "source": []
  },
  {
   "cell_type": "code",
   "execution_count": null,
   "metadata": {
    "collapsed": true
   },
   "outputs": [],
   "source": []
  }
 ],
 "metadata": {
  "kernelspec": {
   "display_name": "R",
   "language": "R",
   "name": "ir"
  },
  "language_info": {
   "codemirror_mode": "r",
   "file_extension": ".r",
   "mimetype": "text/x-r-source",
   "name": "R",
   "pygments_lexer": "r",
   "version": "3.4.2"
  }
 },
 "nbformat": 4,
 "nbformat_minor": 2
}
