{
 "cells": [
  {
   "cell_type": "code",
   "execution_count": 27,
   "metadata": {},
   "outputs": [],
   "source": [
    "library(dplyr)\n",
    "library(tidyr)\n",
    "library(ggplot2)"
   ]
  },
  {
   "cell_type": "code",
   "execution_count": 37,
   "metadata": {},
   "outputs": [
    {
     "data": {
      "text/html": [
       "<table>\n",
       "<thead><tr><th scope=col>x</th><th scope=col>y</th></tr></thead>\n",
       "<tbody>\n",
       "\t<tr><td>a   </td><td>1.11</td></tr>\n",
       "\t<tr><td>b   </td><td>2.11</td></tr>\n",
       "\t<tr><td>c   </td><td>3.11</td></tr>\n",
       "\t<tr><td>a   </td><td>1.11</td></tr>\n",
       "\t<tr><td>b   </td><td>2.22</td></tr>\n",
       "\t<tr><td>c   </td><td>3.22</td></tr>\n",
       "\t<tr><td>a   </td><td>1.33</td></tr>\n",
       "\t<tr><td>b   </td><td>2.33</td></tr>\n",
       "\t<tr><td>c   </td><td>3.33</td></tr>\n",
       "</tbody>\n",
       "</table>\n"
      ],
      "text/latex": [
       "\\begin{tabular}{r|ll}\n",
       " x & y\\\\\n",
       "\\hline\n",
       "\t a    & 1.11\\\\\n",
       "\t b    & 2.11\\\\\n",
       "\t c    & 3.11\\\\\n",
       "\t a    & 1.11\\\\\n",
       "\t b    & 2.22\\\\\n",
       "\t c    & 3.22\\\\\n",
       "\t a    & 1.33\\\\\n",
       "\t b    & 2.33\\\\\n",
       "\t c    & 3.33\\\\\n",
       "\\end{tabular}\n"
      ],
      "text/markdown": [
       "\n",
       "x | y | \n",
       "|---|---|---|---|---|---|---|---|---|\n",
       "| a    | 1.11 | \n",
       "| b    | 2.11 | \n",
       "| c    | 3.11 | \n",
       "| a    | 1.11 | \n",
       "| b    | 2.22 | \n",
       "| c    | 3.22 | \n",
       "| a    | 1.33 | \n",
       "| b    | 2.33 | \n",
       "| c    | 3.33 | \n",
       "\n",
       "\n"
      ],
      "text/plain": [
       "  x y   \n",
       "1 a 1.11\n",
       "2 b 2.11\n",
       "3 c 3.11\n",
       "4 a 1.11\n",
       "5 b 2.22\n",
       "6 c 3.22\n",
       "7 a 1.33\n",
       "8 b 2.33\n",
       "9 c 3.33"
      ]
     },
     "metadata": {},
     "output_type": "display_data"
    }
   ],
   "source": [
    "df <- data.frame(\n",
    "    x = c('a',   'b',  'c',  'a',  'b',  'c',  'a',  'b', 'c'),\n",
    "    y = c(1.11, 2.11, 3.11, 1.11, 2.22, 3.22, 1.33, 2.33, 3.33)\n",
    ")\n",
    "df"
   ]
  },
  {
   "cell_type": "code",
   "execution_count": 38,
   "metadata": {},
   "outputs": [
    {
     "data": {
      "text/html": [
       "<table>\n",
       "<thead><tr><th scope=col>x</th><th scope=col>y</th><th scope=col>groupnum</th></tr></thead>\n",
       "<tbody>\n",
       "\t<tr><td>a   </td><td>1.11</td><td>0   </td></tr>\n",
       "\t<tr><td>b   </td><td>2.11</td><td>0   </td></tr>\n",
       "\t<tr><td>c   </td><td>3.11</td><td>0   </td></tr>\n",
       "\t<tr><td>a   </td><td>1.11</td><td>1   </td></tr>\n",
       "\t<tr><td>b   </td><td>2.22</td><td>1   </td></tr>\n",
       "\t<tr><td>c   </td><td>3.22</td><td>1   </td></tr>\n",
       "\t<tr><td>a   </td><td>1.33</td><td>2   </td></tr>\n",
       "\t<tr><td>b   </td><td>2.33</td><td>2   </td></tr>\n",
       "\t<tr><td>c   </td><td>3.33</td><td>2   </td></tr>\n",
       "</tbody>\n",
       "</table>\n"
      ],
      "text/latex": [
       "\\begin{tabular}{r|lll}\n",
       " x & y & groupnum\\\\\n",
       "\\hline\n",
       "\t a    & 1.11 & 0   \\\\\n",
       "\t b    & 2.11 & 0   \\\\\n",
       "\t c    & 3.11 & 0   \\\\\n",
       "\t a    & 1.11 & 1   \\\\\n",
       "\t b    & 2.22 & 1   \\\\\n",
       "\t c    & 3.22 & 1   \\\\\n",
       "\t a    & 1.33 & 2   \\\\\n",
       "\t b    & 2.33 & 2   \\\\\n",
       "\t c    & 3.33 & 2   \\\\\n",
       "\\end{tabular}\n"
      ],
      "text/markdown": [
       "\n",
       "x | y | groupnum | \n",
       "|---|---|---|---|---|---|---|---|---|\n",
       "| a    | 1.11 | 0    | \n",
       "| b    | 2.11 | 0    | \n",
       "| c    | 3.11 | 0    | \n",
       "| a    | 1.11 | 1    | \n",
       "| b    | 2.22 | 1    | \n",
       "| c    | 3.22 | 1    | \n",
       "| a    | 1.33 | 2    | \n",
       "| b    | 2.33 | 2    | \n",
       "| c    | 3.33 | 2    | \n",
       "\n",
       "\n"
      ],
      "text/plain": [
       "  x y    groupnum\n",
       "1 a 1.11 0       \n",
       "2 b 2.11 0       \n",
       "3 c 3.11 0       \n",
       "4 a 1.11 1       \n",
       "5 b 2.22 1       \n",
       "6 c 3.22 1       \n",
       "7 a 1.33 2       \n",
       "8 b 2.33 2       \n",
       "9 c 3.33 2       "
      ]
     },
     "metadata": {},
     "output_type": "display_data"
    }
   ],
   "source": [
    "df2 <- \n",
    "    df %>% \n",
    "    mutate(rownum = 1:n(), groupnum = ifelse(rownum %% 3, rownum %/% 3, rownum %/% 3 - 1)) %>%\n",
    "    select(-rownum)\n",
    "\n",
    "df2"
   ]
  },
  {
   "cell_type": "code",
   "execution_count": 39,
   "metadata": {},
   "outputs": [
    {
     "data": {
      "text/html": [
       "<table>\n",
       "<thead><tr><th scope=col>groupnum</th><th scope=col>a</th><th scope=col>b</th><th scope=col>c</th></tr></thead>\n",
       "<tbody>\n",
       "\t<tr><td>0   </td><td>1.11</td><td>2.11</td><td>3.11</td></tr>\n",
       "\t<tr><td>1   </td><td>1.11</td><td>2.22</td><td>3.22</td></tr>\n",
       "\t<tr><td>2   </td><td>1.33</td><td>2.33</td><td>3.33</td></tr>\n",
       "</tbody>\n",
       "</table>\n"
      ],
      "text/latex": [
       "\\begin{tabular}{r|llll}\n",
       " groupnum & a & b & c\\\\\n",
       "\\hline\n",
       "\t 0    & 1.11 & 2.11 & 3.11\\\\\n",
       "\t 1    & 1.11 & 2.22 & 3.22\\\\\n",
       "\t 2    & 1.33 & 2.33 & 3.33\\\\\n",
       "\\end{tabular}\n"
      ],
      "text/markdown": [
       "\n",
       "groupnum | a | b | c | \n",
       "|---|---|---|\n",
       "| 0    | 1.11 | 2.11 | 3.11 | \n",
       "| 1    | 1.11 | 2.22 | 3.22 | \n",
       "| 2    | 1.33 | 2.33 | 3.33 | \n",
       "\n",
       "\n"
      ],
      "text/plain": [
       "  groupnum a    b    c   \n",
       "1 0        1.11 2.11 3.11\n",
       "2 1        1.11 2.22 3.22\n",
       "3 2        1.33 2.33 3.33"
      ]
     },
     "metadata": {},
     "output_type": "display_data"
    }
   ],
   "source": [
    "df.ggplot <- tidyr::spread(df2, key = x, value = y)\n",
    "df.ggplot"
   ]
  },
  {
   "cell_type": "code",
   "execution_count": 40,
   "metadata": {},
   "outputs": [
    {
     "data": {},
     "metadata": {},
     "output_type": "display_data"
    },
    {
     "data": {
      "image/png": "[encoded data removed]",
      "text/plain": [
       "plot without title"
      ]
     },
     "metadata": {},
     "output_type": "display_data"
    }
   ],
   "source": [
    "ggplot(df.ggplot) + geom_abline(aes(intercept = a, slope = b))"
   ]
  },
  {
   "cell_type": "code",
   "execution_count": null,
   "metadata": {
    "collapsed": true
   },
   "outputs": [],
   "source": []
  },
  {
   "cell_type": "code",
   "execution_count": null,
   "metadata": {
    "collapsed": true
   },
   "outputs": [],
   "source": []
  },
  {
   "cell_type": "code",
   "execution_count": null,
   "metadata": {
    "collapsed": true
   },
   "outputs": [],
   "source": []
  },
  {
   "cell_type": "code",
   "execution_count": null,
   "metadata": {
    "collapsed": true
   },
   "outputs": [],
   "source": []
  },
  {
   "cell_type": "code",
   "execution_count": null,
   "metadata": {
    "collapsed": true
   },
   "outputs": [],
   "source": []
  },
  {
   "cell_type": "code",
   "execution_count": null,
   "metadata": {
    "collapsed": true
   },
   "outputs": [],
   "source": []
  },
  {
   "cell_type": "code",
   "execution_count": null,
   "metadata": {
    "collapsed": true
   },
   "outputs": [],
   "source": []
  },
  {
   "cell_type": "code",
   "execution_count": null,
   "metadata": {
    "collapsed": true
   },
   "outputs": [],
   "source": []
  }
 ],
 "metadata": {
  "kernelspec": {
   "display_name": "R",
   "language": "R",
   "name": "ir"
  },
  "language_info": {
   "codemirror_mode": "r",
   "file_extension": ".r",
   "mimetype": "text/x-r-source",
   "name": "R",
   "pygments_lexer": "r",
   "version": "3.4.0"
  }
 },
 "nbformat": 4,
 "nbformat_minor": 2
}
