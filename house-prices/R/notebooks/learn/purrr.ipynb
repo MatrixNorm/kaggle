{
 "cells": [
  {
   "cell_type": "code",
   "execution_count": 2,
   "metadata": {},
   "outputs": [],
   "source": [
    "library(purrr)  \n",
    "library(ggplot2)\n",
    "library(dplyr)\n",
    "library(broom)\n",
    "library(tidyr) "
   ]
  },
  {
   "cell_type": "code",
   "execution_count": 6,
   "metadata": {},
   "outputs": [
    {
     "data": {
      "text/html": [
       "<dl class=dl-horizontal>\n",
       "\t<dt>4</dt>\n",
       "\t\t<dd>0.50863259632314</dd>\n",
       "\t<dt>6</dt>\n",
       "\t\t<dd>0.464510150550548</dd>\n",
       "\t<dt>8</dt>\n",
       "\t\t<dd>0.422965536496111</dd>\n",
       "</dl>\n"
      ],
      "text/latex": [
       "\\begin{description*}\n",
       "\\item[4] 0.50863259632314\n",
       "\\item[6] 0.464510150550548\n",
       "\\item[8] 0.422965536496111\n",
       "\\end{description*}\n"
      ],
      "text/markdown": [
       "4\n",
       ":   0.508632596323146\n",
       ":   0.4645101505505488\n",
       ":   0.422965536496111\n",
       "\n"
      ],
      "text/plain": [
       "        4         6         8 \n",
       "0.5086326 0.4645102 0.4229655 "
      ]
     },
     "metadata": {},
     "output_type": "display_data"
    }
   ],
   "source": [
    "mtcars %>%\n",
    "    split(.$cyl) %>%\n",
    "    map(~ lm(mpg ~ wt, data = .)) %>%\n",
    "    map(summary) %>%\n",
    "    map_dbl(\"r.squared\")"
   ]
  },
  {
   "cell_type": "code",
   "execution_count": 7,
   "metadata": {},
   "outputs": [
    {
     "data": {
      "text/html": [
       "'list'"
      ],
      "text/latex": [
       "'list'"
      ],
      "text/markdown": [
       "'list'"
      ],
      "text/plain": [
       "[1] \"list\""
      ]
     },
     "metadata": {},
     "output_type": "display_data"
    },
    {
     "data": {
      "text/html": [
       "'data.frame'"
      ],
      "text/latex": [
       "'data.frame'"
      ],
      "text/markdown": [
       "'data.frame'"
      ],
      "text/plain": [
       "[1] \"data.frame\""
      ]
     },
     "metadata": {},
     "output_type": "display_data"
    }
   ],
   "source": [
    "x = mtcars %>% split(.$cyl)\n",
    "\n",
    "class(x)\n",
    "class(x[[1]])"
   ]
  },
  {
   "cell_type": "code",
   "execution_count": 9,
   "metadata": {},
   "outputs": [
    {
     "name": "stdout",
     "output_type": "stream",
     "text": [
      "Observations: 601\n",
      "Variables: 9\n",
      "$ sex        <fctr> male, female, female, male, male, female, female, male,...\n",
      "$ age        <dbl> 37, 27, 32, 57, 22, 32, 22, 57, 32, 22, 37, 27, 47, 22, ...\n",
      "$ ym         <dbl> 10.00, 4.00, 15.00, 15.00, 0.75, 1.50, 0.75, 15.00, 15.0...\n",
      "$ child      <fctr> no, no, yes, yes, no, no, no, yes, yes, no, yes, yes, y...\n",
      "$ religious  <int> 3, 4, 1, 5, 2, 2, 2, 2, 4, 4, 2, 4, 5, 2, 4, 1, 2, 3, 2,...\n",
      "$ education  <dbl> 18, 14, 12, 18, 17, 17, 12, 14, 16, 14, 20, 18, 17, 17, ...\n",
      "$ occupation <int> 7, 6, 1, 6, 6, 5, 1, 4, 1, 4, 7, 6, 6, 5, 5, 5, 4, 5, 5,...\n",
      "$ rate       <int> 4, 4, 4, 5, 3, 5, 3, 4, 2, 5, 2, 4, 4, 4, 4, 5, 3, 4, 5,...\n",
      "$ nbaffairs  <dbl> 0, 0, 0, 0, 0, 0, 0, 0, 0, 0, 0, 0, 0, 0, 0, 0, 0, 0, 0,...\n"
     ]
    },
    {
     "data": {
      "text/html": [
       "<table>\n",
       "<thead><tr><th scope=col>sex</th><th scope=col>age</th><th scope=col>ym</th><th scope=col>child</th><th scope=col>religious</th><th scope=col>education</th><th scope=col>occupation</th><th scope=col>rate</th><th scope=col>nbaffairs</th></tr></thead>\n",
       "<tbody>\n",
       "\t<tr><td>male  </td><td>37    </td><td>10.00 </td><td>no    </td><td>3     </td><td>18    </td><td>7     </td><td>4     </td><td>0     </td></tr>\n",
       "\t<tr><td>female</td><td>27    </td><td> 4.00 </td><td>no    </td><td>4     </td><td>14    </td><td>6     </td><td>4     </td><td>0     </td></tr>\n",
       "\t<tr><td>female</td><td>32    </td><td>15.00 </td><td>yes   </td><td>1     </td><td>12    </td><td>1     </td><td>4     </td><td>0     </td></tr>\n",
       "\t<tr><td>male  </td><td>57    </td><td>15.00 </td><td>yes   </td><td>5     </td><td>18    </td><td>6     </td><td>5     </td><td>0     </td></tr>\n",
       "\t<tr><td>male  </td><td>22    </td><td> 0.75 </td><td>no    </td><td>2     </td><td>17    </td><td>6     </td><td>3     </td><td>0     </td></tr>\n",
       "\t<tr><td>female</td><td>32    </td><td> 1.50 </td><td>no    </td><td>2     </td><td>17    </td><td>5     </td><td>5     </td><td>0     </td></tr>\n",
       "</tbody>\n",
       "</table>\n"
      ],
      "text/latex": [
       "\\begin{tabular}{r|lllllllll}\n",
       " sex & age & ym & child & religious & education & occupation & rate & nbaffairs\\\\\n",
       "\\hline\n",
       "\t male   & 37     & 10.00  & no     & 3      & 18     & 7      & 4      & 0     \\\\\n",
       "\t female & 27     &  4.00  & no     & 4      & 14     & 6      & 4      & 0     \\\\\n",
       "\t female & 32     & 15.00  & yes    & 1      & 12     & 1      & 4      & 0     \\\\\n",
       "\t male   & 57     & 15.00  & yes    & 5      & 18     & 6      & 5      & 0     \\\\\n",
       "\t male   & 22     &  0.75  & no     & 2      & 17     & 6      & 3      & 0     \\\\\n",
       "\t female & 32     &  1.50  & no     & 2      & 17     & 5      & 5      & 0     \\\\\n",
       "\\end{tabular}\n"
      ],
      "text/markdown": [
       "\n",
       "sex | age | ym | child | religious | education | occupation | rate | nbaffairs | \n",
       "|---|---|---|---|---|---|\n",
       "| male   | 37     | 10.00  | no     | 3      | 18     | 7      | 4      | 0      | \n",
       "| female | 27     |  4.00  | no     | 4      | 14     | 6      | 4      | 0      | \n",
       "| female | 32     | 15.00  | yes    | 1      | 12     | 1      | 4      | 0      | \n",
       "| male   | 57     | 15.00  | yes    | 5      | 18     | 6      | 5      | 0      | \n",
       "| male   | 22     |  0.75  | no     | 2      | 17     | 6      | 3      | 0      | \n",
       "| female | 32     |  1.50  | no     | 2      | 17     | 5      | 5      | 0      | \n",
       "\n",
       "\n"
      ],
      "text/plain": [
       "  sex    age ym    child religious education occupation rate nbaffairs\n",
       "1 male   37  10.00 no    3         18        7          4    0        \n",
       "2 female 27   4.00 no    4         14        6          4    0        \n",
       "3 female 32  15.00 yes   1         12        1          4    0        \n",
       "4 male   57  15.00 yes   5         18        6          5    0        \n",
       "5 male   22   0.75 no    2         17        6          3    0        \n",
       "6 female 32   1.50 no    2         17        5          5    0        "
      ]
     },
     "metadata": {},
     "output_type": "display_data"
    }
   ],
   "source": [
    "data(Fair, package = \"Ecdat\")\n",
    "glimpse(Fair)\n",
    "Fair %>% head"
   ]
  },
  {
   "cell_type": "code",
   "execution_count": 46,
   "metadata": {},
   "outputs": [
    {
     "data": {
      "text/html": [
       "'numeric'"
      ],
      "text/latex": [
       "'numeric'"
      ],
      "text/markdown": [
       "'numeric'"
      ],
      "text/plain": [
       "[1] \"numeric\""
      ]
     },
     "metadata": {},
     "output_type": "display_data"
    },
    {
     "data": {
      "text/html": [
       "<ol class=list-inline>\n",
       "\t<li>'tbl_df'</li>\n",
       "\t<li>'tbl'</li>\n",
       "\t<li>'data.frame'</li>\n",
       "</ol>\n"
      ],
      "text/latex": [
       "\\begin{enumerate*}\n",
       "\\item 'tbl\\_df'\n",
       "\\item 'tbl'\n",
       "\\item 'data.frame'\n",
       "\\end{enumerate*}\n"
      ],
      "text/markdown": [
       "1. 'tbl_df'\n",
       "2. 'tbl'\n",
       "3. 'data.frame'\n",
       "\n",
       "\n"
      ],
      "text/plain": [
       "[1] \"tbl_df\"     \"tbl\"        \"data.frame\""
      ]
     },
     "metadata": {},
     "output_type": "display_data"
    },
    {
     "data": {
      "text/html": [
       "<table>\n",
       "<thead><tr><th scope=col>names</th><th scope=col>r.squared</th></tr></thead>\n",
       "<tbody>\n",
       "\t<tr><td>rate        </td><td>7.812718e-02</td></tr>\n",
       "\t<tr><td>ym          </td><td>3.490982e-02</td></tr>\n",
       "\t<tr><td>religious   </td><td>2.088064e-02</td></tr>\n",
       "\t<tr><td>child       </td><td>1.081809e-02</td></tr>\n",
       "\t<tr><td>age         </td><td>9.070125e-03</td></tr>\n",
       "\t<tr><td>occupation  </td><td>2.461327e-03</td></tr>\n",
       "\t<tr><td>sex         </td><td>1.377396e-04</td></tr>\n",
       "\t<tr><td>education   </td><td>5.941117e-06</td></tr>\n",
       "</tbody>\n",
       "</table>\n"
      ],
      "text/latex": [
       "\\begin{tabular}{r|ll}\n",
       " names & r.squared\\\\\n",
       "\\hline\n",
       "\t rate         & 7.812718e-02\\\\\n",
       "\t ym           & 3.490982e-02\\\\\n",
       "\t religious    & 2.088064e-02\\\\\n",
       "\t child        & 1.081809e-02\\\\\n",
       "\t age          & 9.070125e-03\\\\\n",
       "\t occupation   & 2.461327e-03\\\\\n",
       "\t sex          & 1.377396e-04\\\\\n",
       "\t education    & 5.941117e-06\\\\\n",
       "\\end{tabular}\n"
      ],
      "text/markdown": [
       "\n",
       "names | r.squared | \n",
       "|---|---|---|---|---|---|---|---|\n",
       "| rate         | 7.812718e-02 | \n",
       "| ym           | 3.490982e-02 | \n",
       "| religious    | 2.088064e-02 | \n",
       "| child        | 1.081809e-02 | \n",
       "| age          | 9.070125e-03 | \n",
       "| occupation   | 2.461327e-03 | \n",
       "| sex          | 1.377396e-04 | \n",
       "| education    | 5.941117e-06 | \n",
       "\n",
       "\n"
      ],
      "text/plain": [
       "  names      r.squared   \n",
       "1 rate       7.812718e-02\n",
       "2 ym         3.490982e-02\n",
       "3 religious  2.088064e-02\n",
       "4 child      1.081809e-02\n",
       "5 age        9.070125e-03\n",
       "6 occupation 2.461327e-03\n",
       "7 sex        1.377396e-04\n",
       "8 education  5.941117e-06"
      ]
     },
     "metadata": {},
     "output_type": "display_data"
    }
   ],
   "source": [
    "Fair %>% \n",
    "    select(-nbaffairs) %>%  # exclude outcome, leave only predictors \n",
    "    map(function (x) { lm(Fair$nbaffairs ~ x, data = Fair) }) %>% \n",
    "    map(summary) %>% \n",
    "    map_dbl(\"r.squared\") -> tmp\n",
    "\n",
    "class(tmp)\n",
    "class(tmp %>% tidy)\n",
    "\n",
    "tmp %>%\n",
    "    tidy %>% \n",
    "    dplyr::arrange(desc(x)) %>% \n",
    "    rename(r.squared = x)"
   ]
  },
  {
   "cell_type": "code",
   "execution_count": 10,
   "metadata": {},
   "outputs": [
    {
     "name": "stdout",
     "output_type": "stream",
     "text": [
      "Observations: 601\n",
      "Variables: 9\n",
      "$ affairs       <dbl> 0, 0, 0, 0, 0, 0, 0, 0, 0, 0, 0, 0, 0, 0, 0, 0, 0, 0,...\n",
      "$ gender        <fctr> male, female, female, male, male, female, female, ma...\n",
      "$ age           <dbl> 37, 27, 32, 57, 22, 32, 22, 57, 32, 22, 37, 27, 47, 2...\n",
      "$ yearsmarried  <dbl> 10.00, 4.00, 15.00, 15.00, 0.75, 1.50, 0.75, 15.00, 1...\n",
      "$ children      <fctr> no, no, yes, yes, no, no, no, yes, yes, no, yes, yes...\n",
      "$ religiousness <int> 3, 4, 1, 5, 2, 2, 2, 2, 4, 4, 2, 4, 5, 2, 4, 1, 2, 3,...\n",
      "$ education     <dbl> 18, 14, 12, 18, 17, 17, 12, 14, 16, 14, 20, 18, 17, 1...\n",
      "$ occupation    <int> 7, 6, 1, 6, 6, 5, 1, 4, 1, 4, 7, 6, 6, 5, 5, 5, 4, 5,...\n",
      "$ rating        <int> 4, 4, 4, 5, 3, 5, 3, 4, 2, 5, 2, 4, 4, 4, 4, 5, 3, 4,...\n"
     ]
    },
    {
     "data": {
      "text/html": [
       "<table>\n",
       "<thead><tr><th></th><th scope=col>affairs</th><th scope=col>gender</th><th scope=col>age</th><th scope=col>yearsmarried</th><th scope=col>children</th><th scope=col>religiousness</th><th scope=col>education</th><th scope=col>occupation</th><th scope=col>rating</th></tr></thead>\n",
       "<tbody>\n",
       "\t<tr><th scope=row>4</th><td>0     </td><td>male  </td><td>37    </td><td>10.00 </td><td>no    </td><td>3     </td><td>18    </td><td>7     </td><td>4     </td></tr>\n",
       "\t<tr><th scope=row>5</th><td>0     </td><td>female</td><td>27    </td><td> 4.00 </td><td>no    </td><td>4     </td><td>14    </td><td>6     </td><td>4     </td></tr>\n",
       "\t<tr><th scope=row>11</th><td>0     </td><td>female</td><td>32    </td><td>15.00 </td><td>yes   </td><td>1     </td><td>12    </td><td>1     </td><td>4     </td></tr>\n",
       "\t<tr><th scope=row>16</th><td>0     </td><td>male  </td><td>57    </td><td>15.00 </td><td>yes   </td><td>5     </td><td>18    </td><td>6     </td><td>5     </td></tr>\n",
       "\t<tr><th scope=row>23</th><td>0     </td><td>male  </td><td>22    </td><td> 0.75 </td><td>no    </td><td>2     </td><td>17    </td><td>6     </td><td>3     </td></tr>\n",
       "\t<tr><th scope=row>29</th><td>0     </td><td>female</td><td>32    </td><td> 1.50 </td><td>no    </td><td>2     </td><td>17    </td><td>5     </td><td>5     </td></tr>\n",
       "</tbody>\n",
       "</table>\n"
      ],
      "text/latex": [
       "\\begin{tabular}{r|lllllllll}\n",
       "  & affairs & gender & age & yearsmarried & children & religiousness & education & occupation & rating\\\\\n",
       "\\hline\n",
       "\t4 & 0      & male   & 37     & 10.00  & no     & 3      & 18     & 7      & 4     \\\\\n",
       "\t5 & 0      & female & 27     &  4.00  & no     & 4      & 14     & 6      & 4     \\\\\n",
       "\t11 & 0      & female & 32     & 15.00  & yes    & 1      & 12     & 1      & 4     \\\\\n",
       "\t16 & 0      & male   & 57     & 15.00  & yes    & 5      & 18     & 6      & 5     \\\\\n",
       "\t23 & 0      & male   & 22     &  0.75  & no     & 2      & 17     & 6      & 3     \\\\\n",
       "\t29 & 0      & female & 32     &  1.50  & no     & 2      & 17     & 5      & 5     \\\\\n",
       "\\end{tabular}\n"
      ],
      "text/markdown": [
       "\n",
       "| <!--/--> | affairs | gender | age | yearsmarried | children | religiousness | education | occupation | rating | \n",
       "|---|---|---|---|---|---|\n",
       "| 4 | 0      | male   | 37     | 10.00  | no     | 3      | 18     | 7      | 4      | \n",
       "| 5 | 0      | female | 27     |  4.00  | no     | 4      | 14     | 6      | 4      | \n",
       "| 11 | 0      | female | 32     | 15.00  | yes    | 1      | 12     | 1      | 4      | \n",
       "| 16 | 0      | male   | 57     | 15.00  | yes    | 5      | 18     | 6      | 5      | \n",
       "| 23 | 0      | male   | 22     |  0.75  | no     | 2      | 17     | 6      | 3      | \n",
       "| 29 | 0      | female | 32     |  1.50  | no     | 2      | 17     | 5      | 5      | \n",
       "\n",
       "\n"
      ],
      "text/plain": [
       "   affairs gender age yearsmarried children religiousness education occupation\n",
       "4  0       male   37  10.00        no       3             18        7         \n",
       "5  0       female 27   4.00        no       4             14        6         \n",
       "11 0       female 32  15.00        yes      1             12        1         \n",
       "16 0       male   57  15.00        yes      5             18        6         \n",
       "23 0       male   22   0.75        no       2             17        6         \n",
       "29 0       female 32   1.50        no       2             17        5         \n",
       "   rating\n",
       "4  4     \n",
       "5  4     \n",
       "11 4     \n",
       "16 5     \n",
       "23 3     \n",
       "29 5     "
      ]
     },
     "metadata": {},
     "output_type": "display_data"
    }
   ],
   "source": [
    "data(Affairs, package = \"AER\")\n",
    "\n",
    "glimpse(Affairs)\n",
    "Affairs %>% head"
   ]
  },
  {
   "cell_type": "code",
   "execution_count": 14,
   "metadata": {},
   "outputs": [
    {
     "data": {
      "text/html": [
       "<table>\n",
       "<thead><tr><th></th><th scope=col>affairs</th><th scope=col>age</th><th scope=col>yearsmarried</th><th scope=col>religiousness</th><th scope=col>education</th><th scope=col>occupation</th><th scope=col>rating</th></tr></thead>\n",
       "<tbody>\n",
       "\t<tr><th scope=row>4</th><td>0    </td><td>37   </td><td>10.00</td><td>3    </td><td>18   </td><td>7    </td><td>4    </td></tr>\n",
       "\t<tr><th scope=row>5</th><td>0    </td><td>27   </td><td> 4.00</td><td>4    </td><td>14   </td><td>6    </td><td>4    </td></tr>\n",
       "\t<tr><th scope=row>11</th><td>0    </td><td>32   </td><td>15.00</td><td>1    </td><td>12   </td><td>1    </td><td>4    </td></tr>\n",
       "\t<tr><th scope=row>16</th><td>0    </td><td>57   </td><td>15.00</td><td>5    </td><td>18   </td><td>6    </td><td>5    </td></tr>\n",
       "\t<tr><th scope=row>23</th><td>0    </td><td>22   </td><td> 0.75</td><td>2    </td><td>17   </td><td>6    </td><td>3    </td></tr>\n",
       "\t<tr><th scope=row>29</th><td>0    </td><td>32   </td><td> 1.50</td><td>2    </td><td>17   </td><td>5    </td><td>5    </td></tr>\n",
       "</tbody>\n",
       "</table>\n"
      ],
      "text/latex": [
       "\\begin{tabular}{r|lllllll}\n",
       "  & affairs & age & yearsmarried & religiousness & education & occupation & rating\\\\\n",
       "\\hline\n",
       "\t4 & 0     & 37    & 10.00 & 3     & 18    & 7     & 4    \\\\\n",
       "\t5 & 0     & 27    &  4.00 & 4     & 14    & 6     & 4    \\\\\n",
       "\t11 & 0     & 32    & 15.00 & 1     & 12    & 1     & 4    \\\\\n",
       "\t16 & 0     & 57    & 15.00 & 5     & 18    & 6     & 5    \\\\\n",
       "\t23 & 0     & 22    &  0.75 & 2     & 17    & 6     & 3    \\\\\n",
       "\t29 & 0     & 32    &  1.50 & 2     & 17    & 5     & 5    \\\\\n",
       "\\end{tabular}\n"
      ],
      "text/markdown": [
       "\n",
       "| <!--/--> | affairs | age | yearsmarried | religiousness | education | occupation | rating | \n",
       "|---|---|---|---|---|---|\n",
       "| 4 | 0     | 37    | 10.00 | 3     | 18    | 7     | 4     | \n",
       "| 5 | 0     | 27    |  4.00 | 4     | 14    | 6     | 4     | \n",
       "| 11 | 0     | 32    | 15.00 | 1     | 12    | 1     | 4     | \n",
       "| 16 | 0     | 57    | 15.00 | 5     | 18    | 6     | 5     | \n",
       "| 23 | 0     | 22    |  0.75 | 2     | 17    | 6     | 3     | \n",
       "| 29 | 0     | 32    |  1.50 | 2     | 17    | 5     | 5     | \n",
       "\n",
       "\n"
      ],
      "text/plain": [
       "   affairs age yearsmarried religiousness education occupation rating\n",
       "4  0       37  10.00        3             18        7          4     \n",
       "5  0       27   4.00        4             14        6          4     \n",
       "11 0       32  15.00        1             12        1          4     \n",
       "16 0       57  15.00        5             18        6          5     \n",
       "23 0       22   0.75        2             17        6          3     \n",
       "29 0       32   1.50        2             17        5          5     "
      ]
     },
     "metadata": {},
     "output_type": "display_data"
    },
    {
     "data": {
      "text/html": [
       "'list'"
      ],
      "text/latex": [
       "'list'"
      ],
      "text/markdown": [
       "'list'"
      ],
      "text/plain": [
       "[1] \"list\""
      ]
     },
     "metadata": {},
     "output_type": "display_data"
    },
    {
     "data": {
      "text/html": [
       "7"
      ],
      "text/latex": [
       "7"
      ],
      "text/markdown": [
       "7"
      ],
      "text/plain": [
       "[1] 7"
      ]
     },
     "metadata": {},
     "output_type": "display_data"
    },
    {
     "data": {
      "text/plain": [
       "\n",
       "\tWelch Two Sample t-test\n",
       "\n",
       "data:  . by Affairs$gender\n",
       "t = -0.28733, df = 594.01, p-value = 0.774\n",
       "alternative hypothesis: true difference in means is not equal to 0\n",
       "95 percent confidence interval:\n",
       " -0.6068861  0.4519744\n",
       "sample estimates:\n",
       "mean in group female   mean in group male \n",
       "            1.419048             1.496503 \n"
      ]
     },
     "metadata": {},
     "output_type": "display_data"
    }
   ],
   "source": [
    "Affairs %>% select_if(is.numeric) %>% head\n",
    "\n",
    "Affairs %>% \n",
    "  select_if(is.numeric) %>%\n",
    "  map(~t.test(. ~ Affairs$gender)) -> results\n",
    "\n",
    "class(results)\n",
    "length(results)\n",
    "results[[1]]"
   ]
  },
  {
   "cell_type": "code",
   "execution_count": 15,
   "metadata": {},
   "outputs": [
    {
     "data": {
      "text/plain": [
       "\n",
       "\tWelch Two Sample t-test\n",
       "\n",
       "data:  x by Affairs$gender\n",
       "t = -0.28733, df = 594.01, p-value = 0.774\n",
       "alternative hypothesis: true difference in means is not equal to 0\n",
       "95 percent confidence interval:\n",
       " -0.6068861  0.4519744\n",
       "sample estimates:\n",
       "mean in group female   mean in group male \n",
       "            1.419048             1.496503 \n"
      ]
     },
     "metadata": {},
     "output_type": "display_data"
    }
   ],
   "source": [
    "df <- Affairs %>% select_if(is.numeric)\n",
    "test_results <- lapply(df, function(x) { t.test(x ~ Affairs$gender) })\n",
    "test_results[[1]]"
   ]
  },
  {
   "cell_type": "code",
   "execution_count": 24,
   "metadata": {},
   "outputs": [
    {
     "data": {
      "text/html": [
       "<dl>\n",
       "\t<dt>$affairs</dt>\n",
       "\t\t<dd>0.773960592035261</dd>\n",
       "\t<dt>$age</dt>\n",
       "\t\t<dd>2.84845173775507e-06</dd>\n",
       "\t<dt>$yearsmarried</dt>\n",
       "\t\t<dd>0.458245970124244</dd>\n",
       "\t<dt>$religiousness</dt>\n",
       "\t\t<dd>0.851399753884431</dd>\n",
       "\t<dt>$education</dt>\n",
       "\t\t<dd>9.77264348992728e-24</dd>\n",
       "\t<dt>$occupation</dt>\n",
       "\t\t<dd>8.88747069384093e-35</dd>\n",
       "\t<dt>$rating</dt>\n",
       "\t\t<dd>0.853362476598806</dd>\n",
       "</dl>\n"
      ],
      "text/latex": [
       "\\begin{description}\n",
       "\\item[\\$affairs] 0.773960592035261\n",
       "\\item[\\$age] 2.84845173775507e-06\n",
       "\\item[\\$yearsmarried] 0.458245970124244\n",
       "\\item[\\$religiousness] 0.851399753884431\n",
       "\\item[\\$education] 9.77264348992728e-24\n",
       "\\item[\\$occupation] 8.88747069384093e-35\n",
       "\\item[\\$rating] 0.853362476598806\n",
       "\\end{description}\n"
      ],
      "text/markdown": [
       "$affairs\n",
       ":   0.773960592035261\n",
       "$age\n",
       ":   2.84845173775507e-06\n",
       "$yearsmarried\n",
       ":   0.458245970124244\n",
       "$religiousness\n",
       ":   0.851399753884431\n",
       "$education\n",
       ":   9.77264348992728e-24\n",
       "$occupation\n",
       ":   8.88747069384093e-35\n",
       "$rating\n",
       ":   0.853362476598806\n",
       "\n",
       "\n"
      ],
      "text/plain": [
       "$affairs\n",
       "[1] 0.7739606\n",
       "\n",
       "$age\n",
       "[1] 2.848452e-06\n",
       "\n",
       "$yearsmarried\n",
       "[1] 0.458246\n",
       "\n",
       "$religiousness\n",
       "[1] 0.8513998\n",
       "\n",
       "$education\n",
       "[1] 9.772643e-24\n",
       "\n",
       "$occupation\n",
       "[1] 8.887471e-35\n",
       "\n",
       "$rating\n",
       "[1] 0.8533625\n"
      ]
     },
     "metadata": {},
     "output_type": "display_data"
    }
   ],
   "source": [
    "Affairs %>% \n",
    "  select_if(is.numeric) %>%\n",
    "  map(function(x) { t.test(x ~ Affairs$gender)$p.value })"
   ]
  },
  {
   "cell_type": "code",
   "execution_count": 27,
   "metadata": {},
   "outputs": [
    {
     "data": {
      "text/html": [
       "<dl>\n",
       "\t<dt>$affairs</dt>\n",
       "\t\t<dd>0.773960592035261</dd>\n",
       "\t<dt>$age</dt>\n",
       "\t\t<dd>2.84845173775507e-06</dd>\n",
       "\t<dt>$yearsmarried</dt>\n",
       "\t\t<dd>0.458245970124244</dd>\n",
       "\t<dt>$religiousness</dt>\n",
       "\t\t<dd>0.851399753884431</dd>\n",
       "\t<dt>$education</dt>\n",
       "\t\t<dd>9.77264348992728e-24</dd>\n",
       "\t<dt>$occupation</dt>\n",
       "\t\t<dd>8.88747069384093e-35</dd>\n",
       "\t<dt>$rating</dt>\n",
       "\t\t<dd>0.853362476598806</dd>\n",
       "</dl>\n"
      ],
      "text/latex": [
       "\\begin{description}\n",
       "\\item[\\$affairs] 0.773960592035261\n",
       "\\item[\\$age] 2.84845173775507e-06\n",
       "\\item[\\$yearsmarried] 0.458245970124244\n",
       "\\item[\\$religiousness] 0.851399753884431\n",
       "\\item[\\$education] 9.77264348992728e-24\n",
       "\\item[\\$occupation] 8.88747069384093e-35\n",
       "\\item[\\$rating] 0.853362476598806\n",
       "\\end{description}\n"
      ],
      "text/markdown": [
       "$affairs\n",
       ":   0.773960592035261\n",
       "$age\n",
       ":   2.84845173775507e-06\n",
       "$yearsmarried\n",
       ":   0.458245970124244\n",
       "$religiousness\n",
       ":   0.851399753884431\n",
       "$education\n",
       ":   9.77264348992728e-24\n",
       "$occupation\n",
       ":   8.88747069384093e-35\n",
       "$rating\n",
       ":   0.853362476598806\n",
       "\n",
       "\n"
      ],
      "text/plain": [
       "$affairs\n",
       "[1] 0.7739606\n",
       "\n",
       "$age\n",
       "[1] 2.848452e-06\n",
       "\n",
       "$yearsmarried\n",
       "[1] 0.458246\n",
       "\n",
       "$religiousness\n",
       "[1] 0.8513998\n",
       "\n",
       "$education\n",
       "[1] 9.772643e-24\n",
       "\n",
       "$occupation\n",
       "[1] 8.887471e-35\n",
       "\n",
       "$rating\n",
       "[1] 0.8533625\n"
      ]
     },
     "metadata": {},
     "output_type": "display_data"
    }
   ],
   "source": [
    "Affairs %>% \n",
    "  select_if(is.numeric) %>%\n",
    "  map(~t.test(.x ~ Affairs$gender)$p.value)"
   ]
  },
  {
   "cell_type": "code",
   "execution_count": null,
   "metadata": {
    "collapsed": true
   },
   "outputs": [],
   "source": []
  },
  {
   "cell_type": "code",
   "execution_count": null,
   "metadata": {
    "collapsed": true
   },
   "outputs": [],
   "source": []
  },
  {
   "cell_type": "code",
   "execution_count": null,
   "metadata": {
    "collapsed": true
   },
   "outputs": [],
   "source": []
  },
  {
   "cell_type": "code",
   "execution_count": null,
   "metadata": {
    "collapsed": true
   },
   "outputs": [],
   "source": []
  },
  {
   "cell_type": "code",
   "execution_count": null,
   "metadata": {
    "collapsed": true
   },
   "outputs": [],
   "source": []
  },
  {
   "cell_type": "code",
   "execution_count": null,
   "metadata": {
    "collapsed": true
   },
   "outputs": [],
   "source": []
  },
  {
   "cell_type": "code",
   "execution_count": null,
   "metadata": {
    "collapsed": true
   },
   "outputs": [],
   "source": []
  },
  {
   "cell_type": "code",
   "execution_count": null,
   "metadata": {
    "collapsed": true
   },
   "outputs": [],
   "source": []
  },
  {
   "cell_type": "code",
   "execution_count": null,
   "metadata": {
    "collapsed": true
   },
   "outputs": [],
   "source": []
  },
  {
   "cell_type": "code",
   "execution_count": null,
   "metadata": {
    "collapsed": true
   },
   "outputs": [],
   "source": []
  }
 ],
 "metadata": {
  "kernelspec": {
   "display_name": "R",
   "language": "R",
   "name": "ir"
  },
  "language_info": {
   "codemirror_mode": "r",
   "file_extension": ".r",
   "mimetype": "text/x-r-source",
   "name": "R",
   "pygments_lexer": "r",
   "version": "3.4.0"
  }
 },
 "nbformat": 4,
 "nbformat_minor": 2
}
