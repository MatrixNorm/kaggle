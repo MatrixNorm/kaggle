{
 "cells": [
  {
   "cell_type": "code",
   "execution_count": 1,
   "metadata": {},
   "outputs": [
    {
     "data": {
      "text/html": [
       "'/mnt/hdd/develop/kaggle/house-prices/R/R'"
      ],
      "text/latex": [
       "'/mnt/hdd/develop/kaggle/house-prices/R/R'"
      ],
      "text/markdown": [
       "'/mnt/hdd/develop/kaggle/house-prices/R/R'"
      ],
      "text/plain": [
       "[1] \"/mnt/hdd/develop/kaggle/house-prices/R/R\""
      ]
     },
     "metadata": {},
     "output_type": "display_data"
    }
   ],
   "source": [
    "setwd(paste0(Sys.getenv('ROOT'), '/R'))\n",
    "getwd()"
   ]
  },
  {
   "cell_type": "code",
   "execution_count": 8,
   "metadata": {
    "collapsed": true
   },
   "outputs": [],
   "source": [
    "source('main.R')\n",
    "\n",
    "data <- kaggle.house$loadData()\n",
    "\n",
    "df.combined <- kaggle.house$getCombinedDataset(data$train, data$test) %>% (kaggle.house$na$fixAll)\n",
    "\n",
    "dataset <- \n",
    "    df.combined %>% \n",
    "    filter(dataSource == \"train\") %>% \n",
    "    mutate(sale_price_log = log(SalePrice)) %>%\n",
    "    select(OverallQual, Neighborhood, SalePrice)"
   ]
  },
  {
   "cell_type": "code",
   "execution_count": 10,
   "metadata": {},
   "outputs": [
    {
     "data": {
      "text/html": [
       "<table>\n",
       "<thead><tr><th scope=col>OverallQual</th><th scope=col>n</th></tr></thead>\n",
       "<tbody>\n",
       "\t<tr><td> 1 </td><td>  2</td></tr>\n",
       "\t<tr><td> 2 </td><td>  3</td></tr>\n",
       "\t<tr><td> 3 </td><td> 20</td></tr>\n",
       "\t<tr><td> 4 </td><td>116</td></tr>\n",
       "\t<tr><td> 5 </td><td>397</td></tr>\n",
       "\t<tr><td> 6 </td><td>374</td></tr>\n",
       "\t<tr><td> 7 </td><td>319</td></tr>\n",
       "\t<tr><td> 8 </td><td>168</td></tr>\n",
       "\t<tr><td> 9 </td><td> 43</td></tr>\n",
       "\t<tr><td>10 </td><td> 18</td></tr>\n",
       "</tbody>\n",
       "</table>\n"
      ],
      "text/latex": [
       "\\begin{tabular}{r|ll}\n",
       " OverallQual & n\\\\\n",
       "\\hline\n",
       "\t  1  &   2\\\\\n",
       "\t  2  &   3\\\\\n",
       "\t  3  &  20\\\\\n",
       "\t  4  & 116\\\\\n",
       "\t  5  & 397\\\\\n",
       "\t  6  & 374\\\\\n",
       "\t  7  & 319\\\\\n",
       "\t  8  & 168\\\\\n",
       "\t  9  &  43\\\\\n",
       "\t 10  &  18\\\\\n",
       "\\end{tabular}\n"
      ],
      "text/markdown": [
       "\n",
       "OverallQual | n | \n",
       "|---|---|---|---|---|---|---|---|---|---|\n",
       "|  1  |   2 | \n",
       "|  2  |   3 | \n",
       "|  3  |  20 | \n",
       "|  4  | 116 | \n",
       "|  5  | 397 | \n",
       "|  6  | 374 | \n",
       "|  7  | 319 | \n",
       "|  8  | 168 | \n",
       "|  9  |  43 | \n",
       "| 10  |  18 | \n",
       "\n",
       "\n"
      ],
      "text/plain": [
       "   OverallQual n  \n",
       "1   1            2\n",
       "2   2            3\n",
       "3   3           20\n",
       "4   4          116\n",
       "5   5          397\n",
       "6   6          374\n",
       "7   7          319\n",
       "8   8          168\n",
       "9   9           43\n",
       "10 10           18"
      ]
     },
     "metadata": {},
     "output_type": "display_data"
    }
   ],
   "source": [
    "dataset %>%\n",
    "    group_by(OverallQual) %>%\n",
    "    count"
   ]
  },
  {
   "cell_type": "code",
   "execution_count": null,
   "metadata": {
    "collapsed": true
   },
   "outputs": [],
   "source": []
  },
  {
   "cell_type": "code",
   "execution_count": null,
   "metadata": {
    "collapsed": true
   },
   "outputs": [],
   "source": []
  },
  {
   "cell_type": "code",
   "execution_count": null,
   "metadata": {
    "collapsed": true
   },
   "outputs": [],
   "source": []
  },
  {
   "cell_type": "code",
   "execution_count": null,
   "metadata": {
    "collapsed": true
   },
   "outputs": [],
   "source": []
  },
  {
   "cell_type": "code",
   "execution_count": null,
   "metadata": {
    "collapsed": true
   },
   "outputs": [],
   "source": []
  },
  {
   "cell_type": "code",
   "execution_count": null,
   "metadata": {
    "collapsed": true
   },
   "outputs": [],
   "source": []
  },
  {
   "cell_type": "code",
   "execution_count": null,
   "metadata": {
    "collapsed": true
   },
   "outputs": [],
   "source": []
  },
  {
   "cell_type": "code",
   "execution_count": null,
   "metadata": {
    "collapsed": true
   },
   "outputs": [],
   "source": []
  },
  {
   "cell_type": "code",
   "execution_count": null,
   "metadata": {
    "collapsed": true
   },
   "outputs": [],
   "source": []
  },
  {
   "cell_type": "code",
   "execution_count": null,
   "metadata": {
    "collapsed": true
   },
   "outputs": [],
   "source": []
  },
  {
   "cell_type": "code",
   "execution_count": null,
   "metadata": {
    "collapsed": true
   },
   "outputs": [],
   "source": []
  },
  {
   "cell_type": "code",
   "execution_count": null,
   "metadata": {
    "collapsed": true
   },
   "outputs": [],
   "source": []
  },
  {
   "cell_type": "code",
   "execution_count": null,
   "metadata": {
    "collapsed": true
   },
   "outputs": [],
   "source": []
  },
  {
   "cell_type": "code",
   "execution_count": null,
   "metadata": {
    "collapsed": true
   },
   "outputs": [],
   "source": []
  },
  {
   "cell_type": "code",
   "execution_count": null,
   "metadata": {
    "collapsed": true
   },
   "outputs": [],
   "source": []
  },
  {
   "cell_type": "code",
   "execution_count": null,
   "metadata": {
    "collapsed": true
   },
   "outputs": [],
   "source": []
  }
 ],
 "metadata": {
  "kernelspec": {
   "display_name": "R",
   "language": "R",
   "name": "ir"
  },
  "language_info": {
   "codemirror_mode": "r",
   "file_extension": ".r",
   "mimetype": "text/x-r-source",
   "name": "R",
   "pygments_lexer": "r",
   "version": "3.4.2"
  }
 },
 "nbformat": 4,
 "nbformat_minor": 2
}
