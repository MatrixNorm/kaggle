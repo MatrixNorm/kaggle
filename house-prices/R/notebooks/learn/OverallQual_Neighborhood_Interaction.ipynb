{
 "cells": [
  {
   "cell_type": "code",
   "execution_count": 1,
   "metadata": {},
   "outputs": [
    {
     "data": {
      "text/html": [
       "'/mnt/hdd/develop/kaggle/house-prices/R/R'"
      ],
      "text/latex": [
       "'/mnt/hdd/develop/kaggle/house-prices/R/R'"
      ],
      "text/markdown": [
       "'/mnt/hdd/develop/kaggle/house-prices/R/R'"
      ],
      "text/plain": [
       "[1] \"/mnt/hdd/develop/kaggle/house-prices/R/R\""
      ]
     },
     "metadata": {},
     "output_type": "display_data"
    }
   ],
   "source": [
    "setwd(paste0(Sys.getenv('ROOT'), '/R'))\n",
    "getwd()"
   ]
  },
  {
   "cell_type": "code",
   "execution_count": 8,
   "metadata": {},
   "outputs": [],
   "source": [
    "source('main.R')\n",
    "\n",
    "data <- kaggle.house$loadData()\n",
    "\n",
    "df.combined <- kaggle.house$getCombinedDataset(data$train, data$test) %>% (kaggle.house$na$fixAll)\n",
    "\n",
    "dataset <- \n",
    "    df.combined %>% \n",
    "    filter(dataSource == \"train\") %>% \n",
    "    mutate(sale_price_log = log(SalePrice)) %>%\n",
    "    select(OverallQual, Neighborhood, SalePrice)"
   ]
  },
  {
   "cell_type": "code",
   "execution_count": 9,
   "metadata": {},
   "outputs": [
    {
     "data": {
      "text/html": [
       "<table>\n",
       "<thead><tr><th scope=col>Neighborhood</th><th scope=col>OverallQual</th><th scope=col>n</th></tr></thead>\n",
       "<tbody>\n",
       "\t<tr><td>Blmngtn</td><td>7      </td><td>14     </td></tr>\n",
       "\t<tr><td>Blmngtn</td><td>8      </td><td> 3     </td></tr>\n",
       "\t<tr><td>Blueste</td><td>6      </td><td> 2     </td></tr>\n",
       "\t<tr><td>BrDale </td><td>5      </td><td> 5     </td></tr>\n",
       "\t<tr><td>BrDale </td><td>6      </td><td>11     </td></tr>\n",
       "\t<tr><td>BrkSide</td><td>1      </td><td> 1     </td></tr>\n",
       "\t<tr><td>BrkSide</td><td>2      </td><td> 1     </td></tr>\n",
       "\t<tr><td>BrkSide</td><td>3      </td><td> 3     </td></tr>\n",
       "\t<tr><td>BrkSide</td><td>4      </td><td>10     </td></tr>\n",
       "\t<tr><td>BrkSide</td><td>5      </td><td>21     </td></tr>\n",
       "\t<tr><td>BrkSide</td><td>6      </td><td>18     </td></tr>\n",
       "\t<tr><td>BrkSide</td><td>7      </td><td> 4     </td></tr>\n",
       "\t<tr><td>ClearCr</td><td>4      </td><td> 3     </td></tr>\n",
       "\t<tr><td>ClearCr</td><td>5      </td><td> 6     </td></tr>\n",
       "\t<tr><td>ClearCr</td><td>6      </td><td>10     </td></tr>\n",
       "\t<tr><td>ClearCr</td><td>7      </td><td> 9     </td></tr>\n",
       "\t<tr><td>CollgCr</td><td>4      </td><td> 1     </td></tr>\n",
       "\t<tr><td>CollgCr</td><td>5      </td><td>28     </td></tr>\n",
       "\t<tr><td>CollgCr</td><td>6      </td><td>24     </td></tr>\n",
       "\t<tr><td>CollgCr</td><td>7      </td><td>71     </td></tr>\n",
       "\t<tr><td>CollgCr</td><td>8      </td><td>23     </td></tr>\n",
       "\t<tr><td>CollgCr</td><td>9      </td><td> 3     </td></tr>\n",
       "\t<tr><td>Crawfor</td><td>4      </td><td> 1     </td></tr>\n",
       "\t<tr><td>Crawfor</td><td>5      </td><td>11     </td></tr>\n",
       "\t<tr><td>Crawfor</td><td>6      </td><td>19     </td></tr>\n",
       "\t<tr><td>Crawfor</td><td>7      </td><td>13     </td></tr>\n",
       "\t<tr><td>Crawfor</td><td>8      </td><td> 7     </td></tr>\n",
       "\t<tr><td>Edwards</td><td>1      </td><td> 1     </td></tr>\n",
       "\t<tr><td>Edwards</td><td>3      </td><td> 5     </td></tr>\n",
       "\t<tr><td>Edwards</td><td>4      </td><td>25     </td></tr>\n",
       "\t<tr><td>⋮</td><td>⋮</td><td>⋮</td></tr>\n",
       "\t<tr><td>Sawyer </td><td> 6     </td><td>11     </td></tr>\n",
       "\t<tr><td>SawyerW</td><td> 4     </td><td> 2     </td></tr>\n",
       "\t<tr><td>SawyerW</td><td> 5     </td><td> 8     </td></tr>\n",
       "\t<tr><td>SawyerW</td><td> 6     </td><td>23     </td></tr>\n",
       "\t<tr><td>SawyerW</td><td> 7     </td><td>21     </td></tr>\n",
       "\t<tr><td>SawyerW</td><td> 8     </td><td> 5     </td></tr>\n",
       "\t<tr><td>Somerst</td><td> 6     </td><td>11     </td></tr>\n",
       "\t<tr><td>Somerst</td><td> 7     </td><td>41     </td></tr>\n",
       "\t<tr><td>Somerst</td><td> 8     </td><td>29     </td></tr>\n",
       "\t<tr><td>Somerst</td><td> 9     </td><td> 4     </td></tr>\n",
       "\t<tr><td>Somerst</td><td>10     </td><td> 1     </td></tr>\n",
       "\t<tr><td>StoneBr</td><td> 7     </td><td> 3     </td></tr>\n",
       "\t<tr><td>StoneBr</td><td> 8     </td><td>16     </td></tr>\n",
       "\t<tr><td>StoneBr</td><td> 9     </td><td> 5     </td></tr>\n",
       "\t<tr><td>StoneBr</td><td>10     </td><td> 1     </td></tr>\n",
       "\t<tr><td>SWISU  </td><td> 2     </td><td> 1     </td></tr>\n",
       "\t<tr><td>SWISU  </td><td> 4     </td><td> 2     </td></tr>\n",
       "\t<tr><td>SWISU  </td><td> 5     </td><td> 9     </td></tr>\n",
       "\t<tr><td>SWISU  </td><td> 6     </td><td>10     </td></tr>\n",
       "\t<tr><td>SWISU  </td><td> 7     </td><td> 3     </td></tr>\n",
       "\t<tr><td>Timber </td><td> 5     </td><td> 5     </td></tr>\n",
       "\t<tr><td>Timber </td><td> 6     </td><td> 6     </td></tr>\n",
       "\t<tr><td>Timber </td><td> 7     </td><td> 8     </td></tr>\n",
       "\t<tr><td>Timber </td><td> 8     </td><td>16     </td></tr>\n",
       "\t<tr><td>Timber </td><td> 9     </td><td> 3     </td></tr>\n",
       "\t<tr><td>Veenker</td><td> 5     </td><td> 2     </td></tr>\n",
       "\t<tr><td>Veenker</td><td> 6     </td><td> 4     </td></tr>\n",
       "\t<tr><td>Veenker</td><td> 7     </td><td> 1     </td></tr>\n",
       "\t<tr><td>Veenker</td><td> 8     </td><td> 3     </td></tr>\n",
       "\t<tr><td>Veenker</td><td> 9     </td><td> 1     </td></tr>\n",
       "</tbody>\n",
       "</table>\n"
      ],
      "text/latex": [
       "\\begin{tabular}{r|lll}\n",
       " Neighborhood & OverallQual & n\\\\\n",
       "\\hline\n",
       "\t Blmngtn & 7       & 14     \\\\\n",
       "\t Blmngtn & 8       &  3     \\\\\n",
       "\t Blueste & 6       &  2     \\\\\n",
       "\t BrDale  & 5       &  5     \\\\\n",
       "\t BrDale  & 6       & 11     \\\\\n",
       "\t BrkSide & 1       &  1     \\\\\n",
       "\t BrkSide & 2       &  1     \\\\\n",
       "\t BrkSide & 3       &  3     \\\\\n",
       "\t BrkSide & 4       & 10     \\\\\n",
       "\t BrkSide & 5       & 21     \\\\\n",
       "\t BrkSide & 6       & 18     \\\\\n",
       "\t BrkSide & 7       &  4     \\\\\n",
       "\t ClearCr & 4       &  3     \\\\\n",
       "\t ClearCr & 5       &  6     \\\\\n",
       "\t ClearCr & 6       & 10     \\\\\n",
       "\t ClearCr & 7       &  9     \\\\\n",
       "\t CollgCr & 4       &  1     \\\\\n",
       "\t CollgCr & 5       & 28     \\\\\n",
       "\t CollgCr & 6       & 24     \\\\\n",
       "\t CollgCr & 7       & 71     \\\\\n",
       "\t CollgCr & 8       & 23     \\\\\n",
       "\t CollgCr & 9       &  3     \\\\\n",
       "\t Crawfor & 4       &  1     \\\\\n",
       "\t Crawfor & 5       & 11     \\\\\n",
       "\t Crawfor & 6       & 19     \\\\\n",
       "\t Crawfor & 7       & 13     \\\\\n",
       "\t Crawfor & 8       &  7     \\\\\n",
       "\t Edwards & 1       &  1     \\\\\n",
       "\t Edwards & 3       &  5     \\\\\n",
       "\t Edwards & 4       & 25     \\\\\n",
       "\t ⋮ & ⋮ & ⋮\\\\\n",
       "\t Sawyer  &  6      & 11     \\\\\n",
       "\t SawyerW &  4      &  2     \\\\\n",
       "\t SawyerW &  5      &  8     \\\\\n",
       "\t SawyerW &  6      & 23     \\\\\n",
       "\t SawyerW &  7      & 21     \\\\\n",
       "\t SawyerW &  8      &  5     \\\\\n",
       "\t Somerst &  6      & 11     \\\\\n",
       "\t Somerst &  7      & 41     \\\\\n",
       "\t Somerst &  8      & 29     \\\\\n",
       "\t Somerst &  9      &  4     \\\\\n",
       "\t Somerst & 10      &  1     \\\\\n",
       "\t StoneBr &  7      &  3     \\\\\n",
       "\t StoneBr &  8      & 16     \\\\\n",
       "\t StoneBr &  9      &  5     \\\\\n",
       "\t StoneBr & 10      &  1     \\\\\n",
       "\t SWISU   &  2      &  1     \\\\\n",
       "\t SWISU   &  4      &  2     \\\\\n",
       "\t SWISU   &  5      &  9     \\\\\n",
       "\t SWISU   &  6      & 10     \\\\\n",
       "\t SWISU   &  7      &  3     \\\\\n",
       "\t Timber  &  5      &  5     \\\\\n",
       "\t Timber  &  6      &  6     \\\\\n",
       "\t Timber  &  7      &  8     \\\\\n",
       "\t Timber  &  8      & 16     \\\\\n",
       "\t Timber  &  9      &  3     \\\\\n",
       "\t Veenker &  5      &  2     \\\\\n",
       "\t Veenker &  6      &  4     \\\\\n",
       "\t Veenker &  7      &  1     \\\\\n",
       "\t Veenker &  8      &  3     \\\\\n",
       "\t Veenker &  9      &  1     \\\\\n",
       "\\end{tabular}\n"
      ],
      "text/markdown": [
       "\n",
       "Neighborhood | OverallQual | n | \n",
       "|---|---|---|---|---|---|---|---|---|---|---|---|---|---|---|---|---|---|---|---|---|---|---|---|---|---|---|---|---|---|---|---|---|---|---|---|---|---|---|---|---|---|---|---|---|---|---|---|---|---|---|---|---|---|---|---|---|---|---|---|---|\n",
       "| Blmngtn | 7       | 14      | \n",
       "| Blmngtn | 8       |  3      | \n",
       "| Blueste | 6       |  2      | \n",
       "| BrDale  | 5       |  5      | \n",
       "| BrDale  | 6       | 11      | \n",
       "| BrkSide | 1       |  1      | \n",
       "| BrkSide | 2       |  1      | \n",
       "| BrkSide | 3       |  3      | \n",
       "| BrkSide | 4       | 10      | \n",
       "| BrkSide | 5       | 21      | \n",
       "| BrkSide | 6       | 18      | \n",
       "| BrkSide | 7       |  4      | \n",
       "| ClearCr | 4       |  3      | \n",
       "| ClearCr | 5       |  6      | \n",
       "| ClearCr | 6       | 10      | \n",
       "| ClearCr | 7       |  9      | \n",
       "| CollgCr | 4       |  1      | \n",
       "| CollgCr | 5       | 28      | \n",
       "| CollgCr | 6       | 24      | \n",
       "| CollgCr | 7       | 71      | \n",
       "| CollgCr | 8       | 23      | \n",
       "| CollgCr | 9       |  3      | \n",
       "| Crawfor | 4       |  1      | \n",
       "| Crawfor | 5       | 11      | \n",
       "| Crawfor | 6       | 19      | \n",
       "| Crawfor | 7       | 13      | \n",
       "| Crawfor | 8       |  7      | \n",
       "| Edwards | 1       |  1      | \n",
       "| Edwards | 3       |  5      | \n",
       "| Edwards | 4       | 25      | \n",
       "| ⋮ | ⋮ | ⋮ | \n",
       "| Sawyer  |  6      | 11      | \n",
       "| SawyerW |  4      |  2      | \n",
       "| SawyerW |  5      |  8      | \n",
       "| SawyerW |  6      | 23      | \n",
       "| SawyerW |  7      | 21      | \n",
       "| SawyerW |  8      |  5      | \n",
       "| Somerst |  6      | 11      | \n",
       "| Somerst |  7      | 41      | \n",
       "| Somerst |  8      | 29      | \n",
       "| Somerst |  9      |  4      | \n",
       "| Somerst | 10      |  1      | \n",
       "| StoneBr |  7      |  3      | \n",
       "| StoneBr |  8      | 16      | \n",
       "| StoneBr |  9      |  5      | \n",
       "| StoneBr | 10      |  1      | \n",
       "| SWISU   |  2      |  1      | \n",
       "| SWISU   |  4      |  2      | \n",
       "| SWISU   |  5      |  9      | \n",
       "| SWISU   |  6      | 10      | \n",
       "| SWISU   |  7      |  3      | \n",
       "| Timber  |  5      |  5      | \n",
       "| Timber  |  6      |  6      | \n",
       "| Timber  |  7      |  8      | \n",
       "| Timber  |  8      | 16      | \n",
       "| Timber  |  9      |  3      | \n",
       "| Veenker |  5      |  2      | \n",
       "| Veenker |  6      |  4      | \n",
       "| Veenker |  7      |  1      | \n",
       "| Veenker |  8      |  3      | \n",
       "| Veenker |  9      |  1      | \n",
       "\n",
       "\n"
      ],
      "text/plain": [
       "    Neighborhood OverallQual n \n",
       "1   Blmngtn      7           14\n",
       "2   Blmngtn      8            3\n",
       "3   Blueste      6            2\n",
       "4   BrDale       5            5\n",
       "5   BrDale       6           11\n",
       "6   BrkSide      1            1\n",
       "7   BrkSide      2            1\n",
       "8   BrkSide      3            3\n",
       "9   BrkSide      4           10\n",
       "10  BrkSide      5           21\n",
       "11  BrkSide      6           18\n",
       "12  BrkSide      7            4\n",
       "13  ClearCr      4            3\n",
       "14  ClearCr      5            6\n",
       "15  ClearCr      6           10\n",
       "16  ClearCr      7            9\n",
       "17  CollgCr      4            1\n",
       "18  CollgCr      5           28\n",
       "19  CollgCr      6           24\n",
       "20  CollgCr      7           71\n",
       "21  CollgCr      8           23\n",
       "22  CollgCr      9            3\n",
       "23  Crawfor      4            1\n",
       "24  Crawfor      5           11\n",
       "25  Crawfor      6           19\n",
       "26  Crawfor      7           13\n",
       "27  Crawfor      8            7\n",
       "28  Edwards      1            1\n",
       "29  Edwards      3            5\n",
       "30  Edwards      4           25\n",
       "⋮   ⋮            ⋮           ⋮ \n",
       "85  Sawyer        6          11\n",
       "86  SawyerW       4           2\n",
       "87  SawyerW       5           8\n",
       "88  SawyerW       6          23\n",
       "89  SawyerW       7          21\n",
       "90  SawyerW       8           5\n",
       "91  Somerst       6          11\n",
       "92  Somerst       7          41\n",
       "93  Somerst       8          29\n",
       "94  Somerst       9           4\n",
       "95  Somerst      10           1\n",
       "96  StoneBr       7           3\n",
       "97  StoneBr       8          16\n",
       "98  StoneBr       9           5\n",
       "99  StoneBr      10           1\n",
       "100 SWISU         2           1\n",
       "101 SWISU         4           2\n",
       "102 SWISU         5           9\n",
       "103 SWISU         6          10\n",
       "104 SWISU         7           3\n",
       "105 Timber        5           5\n",
       "106 Timber        6           6\n",
       "107 Timber        7           8\n",
       "108 Timber        8          16\n",
       "109 Timber        9           3\n",
       "110 Veenker       5           2\n",
       "111 Veenker       6           4\n",
       "112 Veenker       7           1\n",
       "113 Veenker       8           3\n",
       "114 Veenker       9           1"
      ]
     },
     "metadata": {},
     "output_type": "display_data"
    }
   ],
   "source": [
    "dataset %>%\n",
    "    group_by(Neighborhood, OverallQual) %>%\n",
    "    count"
   ]
  },
  {
   "cell_type": "code",
   "execution_count": null,
   "metadata": {
    "collapsed": true
   },
   "outputs": [],
   "source": []
  },
  {
   "cell_type": "code",
   "execution_count": null,
   "metadata": {
    "collapsed": true
   },
   "outputs": [],
   "source": []
  },
  {
   "cell_type": "code",
   "execution_count": null,
   "metadata": {
    "collapsed": true
   },
   "outputs": [],
   "source": []
  },
  {
   "cell_type": "code",
   "execution_count": null,
   "metadata": {
    "collapsed": true
   },
   "outputs": [],
   "source": []
  },
  {
   "cell_type": "code",
   "execution_count": null,
   "metadata": {
    "collapsed": true
   },
   "outputs": [],
   "source": []
  },
  {
   "cell_type": "code",
   "execution_count": null,
   "metadata": {
    "collapsed": true
   },
   "outputs": [],
   "source": []
  },
  {
   "cell_type": "code",
   "execution_count": null,
   "metadata": {
    "collapsed": true
   },
   "outputs": [],
   "source": []
  },
  {
   "cell_type": "code",
   "execution_count": null,
   "metadata": {
    "collapsed": true
   },
   "outputs": [],
   "source": []
  },
  {
   "cell_type": "code",
   "execution_count": null,
   "metadata": {
    "collapsed": true
   },
   "outputs": [],
   "source": []
  },
  {
   "cell_type": "code",
   "execution_count": null,
   "metadata": {
    "collapsed": true
   },
   "outputs": [],
   "source": []
  },
  {
   "cell_type": "code",
   "execution_count": null,
   "metadata": {
    "collapsed": true
   },
   "outputs": [],
   "source": []
  },
  {
   "cell_type": "code",
   "execution_count": null,
   "metadata": {
    "collapsed": true
   },
   "outputs": [],
   "source": []
  },
  {
   "cell_type": "code",
   "execution_count": null,
   "metadata": {
    "collapsed": true
   },
   "outputs": [],
   "source": []
  },
  {
   "cell_type": "code",
   "execution_count": null,
   "metadata": {
    "collapsed": true
   },
   "outputs": [],
   "source": []
  },
  {
   "cell_type": "code",
   "execution_count": null,
   "metadata": {
    "collapsed": true
   },
   "outputs": [],
   "source": []
  },
  {
   "cell_type": "code",
   "execution_count": null,
   "metadata": {
    "collapsed": true
   },
   "outputs": [],
   "source": []
  }
 ],
 "metadata": {
  "kernelspec": {
   "display_name": "R",
   "language": "R",
   "name": "ir"
  },
  "language_info": {
   "codemirror_mode": "r",
   "file_extension": ".r",
   "mimetype": "text/x-r-source",
   "name": "R",
   "pygments_lexer": "r",
   "version": "3.4.2"
  }
 },
 "nbformat": 4,
 "nbformat_minor": 2
}
