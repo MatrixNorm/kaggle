{
 "cells": [
  {
   "cell_type": "code",
   "execution_count": 1,
   "metadata": {},
   "outputs": [
    {
     "data": {
      "text/html": [
       "'/mnt/hdd/develop/kaggle/house-prices/R/R'"
      ],
      "text/latex": [
       "'/mnt/hdd/develop/kaggle/house-prices/R/R'"
      ],
      "text/markdown": [
       "'/mnt/hdd/develop/kaggle/house-prices/R/R'"
      ],
      "text/plain": [
       "[1] \"/mnt/hdd/develop/kaggle/house-prices/R/R\""
      ]
     },
     "metadata": {},
     "output_type": "display_data"
    }
   ],
   "source": [
    "setwd(paste0(Sys.getenv('ROOT'), '/R'))\n",
    "getwd()"
   ]
  },
  {
   "cell_type": "code",
   "execution_count": 36,
   "metadata": {},
   "outputs": [
    {
     "data": {
      "text/html": [
       "<ol class=list-inline>\n",
       "\t<li>1460</li>\n",
       "\t<li>1459</li>\n",
       "\t<li>2919</li>\n",
       "</ol>\n"
      ],
      "text/latex": [
       "\\begin{enumerate*}\n",
       "\\item 1460\n",
       "\\item 1459\n",
       "\\item 2919\n",
       "\\end{enumerate*}\n"
      ],
      "text/markdown": [
       "1. 1460\n",
       "2. 1459\n",
       "3. 2919\n",
       "\n",
       "\n"
      ],
      "text/plain": [
       "[1] 1460 1459 2919"
      ]
     },
     "metadata": {},
     "output_type": "display_data"
    },
    {
     "data": {
      "text/html": [
       "'SalePrice'"
      ],
      "text/latex": [
       "'SalePrice'"
      ],
      "text/markdown": [
       "'SalePrice'"
      ],
      "text/plain": [
       "[1] \"SalePrice\""
      ]
     },
     "metadata": {},
     "output_type": "display_data"
    }
   ],
   "source": [
    "source('main.R')\n",
    "\n",
    "data <- kaggle.house$loadData()\n",
    "df.training <- data$train\n",
    "df.testing <- data$test\n",
    "df.combined <- kaggle.house$getCombinedDataset(df.training, df.testing)\n",
    "\n",
    "c(nrow(df.training),   nrow(df.testing),   nrow(df.combined))\n",
    "setdiff(df.training %>% colnames, df.testing %>% colnames)"
   ]
  },
  {
   "cell_type": "code",
   "execution_count": 26,
   "metadata": {
    "collapsed": true
   },
   "outputs": [],
   "source": [
    "?expand.grid"
   ]
  },
  {
   "cell_type": "code",
   "execution_count": 58,
   "metadata": {},
   "outputs": [
    {
     "data": {},
     "metadata": {},
     "output_type": "display_data"
    },
    {
     "data": {
      "image/png": "[encoded data removed]",
      "text/plain": [
       "plot without title"
      ]
     },
     "metadata": {},
     "output_type": "display_data"
    }
   ],
   "source": [
    "t1 <- df.combined[,colSums(is.na(df.combined)) > 0]\n",
    "t2 <- as.data.frame(ifelse(is.na(t1), 0, 1))\n",
    "t2 <- t2[,order(colSums(t2))]\n",
    "s <- expand.grid((list(x = 1:nrow(t2), y = colnames(t2))))\n",
    "s$m <- as.vector(as.matrix(t2))\n",
    "ggplot(s) + geom_tile(aes(x=x, y=y, fill=factor(m))) + scale_fill_manual(values=c(\"white\", \"black\"))"
   ]
  },
  {
   "cell_type": "code",
   "execution_count": 4,
   "metadata": {
    "collapsed": true
   },
   "outputs": [],
   "source": [
    "c('Alley', \n",
    "  'BsmtCond', \n",
    "  'BsmtExposure', \n",
    "  'BsmtFinType1', \n",
    "  'BsmtFinType2', \n",
    "  'BsmtQual',\n",
    "  'Fence',\n",
    "  'FireplaceQu',\n",
    "  'GarageCond',\n",
    "  'GarageFinish',\n",
    "  'GarageQual',\n",
    "  'GarageType',\n",
    "  'MasVnrType',\n",
    "  'MiscFeature',\n",
    "  'PoolQC') -> colums.with.good.na"
   ]
  },
  {
   "cell_type": "code",
   "execution_count": 5,
   "metadata": {},
   "outputs": [
    {
     "data": {
      "text/html": [
       "<dl>\n",
       "\t<dt>$Electrical</dt>\n",
       "\t\t<dd><table>\n",
       "<thead><tr><th scope=col>col</th><th scope=col>Freq</th></tr></thead>\n",
       "<tbody>\n",
       "\t<tr><td>FuseA</td><td> 188 </td></tr>\n",
       "\t<tr><td>FuseF</td><td>  50 </td></tr>\n",
       "\t<tr><td>FuseP</td><td>   8 </td></tr>\n",
       "\t<tr><td>Mix  </td><td>   1 </td></tr>\n",
       "\t<tr><td>SBrkr</td><td>2671 </td></tr>\n",
       "\t<tr><td>NA   </td><td>   1 </td></tr>\n",
       "</tbody>\n",
       "</table>\n",
       "</dd>\n",
       "\t<dt>$Exterior1st</dt>\n",
       "\t\t<dd><table>\n",
       "<thead><tr><th scope=col>col</th><th scope=col>Freq</th></tr></thead>\n",
       "<tbody>\n",
       "\t<tr><td>AsbShng</td><td>  44   </td></tr>\n",
       "\t<tr><td>AsphShn</td><td>   2   </td></tr>\n",
       "\t<tr><td>BrkComm</td><td>   6   </td></tr>\n",
       "\t<tr><td>BrkFace</td><td>  87   </td></tr>\n",
       "\t<tr><td>CBlock </td><td>   2   </td></tr>\n",
       "\t<tr><td>CemntBd</td><td> 126   </td></tr>\n",
       "\t<tr><td>HdBoard</td><td> 442   </td></tr>\n",
       "\t<tr><td>ImStucc</td><td>   1   </td></tr>\n",
       "\t<tr><td>MetalSd</td><td> 450   </td></tr>\n",
       "\t<tr><td>Plywood</td><td> 221   </td></tr>\n",
       "\t<tr><td>Stone  </td><td>   2   </td></tr>\n",
       "\t<tr><td>Stucco </td><td>  43   </td></tr>\n",
       "\t<tr><td>VinylSd</td><td>1025   </td></tr>\n",
       "\t<tr><td>Wd Sdng</td><td> 411   </td></tr>\n",
       "\t<tr><td>WdShing</td><td>  56   </td></tr>\n",
       "\t<tr><td>NA     </td><td>   1   </td></tr>\n",
       "</tbody>\n",
       "</table>\n",
       "</dd>\n",
       "\t<dt>$Exterior2nd</dt>\n",
       "\t\t<dd><table>\n",
       "<thead><tr><th scope=col>col</th><th scope=col>Freq</th></tr></thead>\n",
       "<tbody>\n",
       "\t<tr><td>AsbShng</td><td>  38   </td></tr>\n",
       "\t<tr><td>AsphShn</td><td>   4   </td></tr>\n",
       "\t<tr><td>Brk Cmn</td><td>  22   </td></tr>\n",
       "\t<tr><td>BrkFace</td><td>  47   </td></tr>\n",
       "\t<tr><td>CBlock </td><td>   3   </td></tr>\n",
       "\t<tr><td>CmentBd</td><td> 126   </td></tr>\n",
       "\t<tr><td>HdBoard</td><td> 406   </td></tr>\n",
       "\t<tr><td>ImStucc</td><td>  15   </td></tr>\n",
       "\t<tr><td>MetalSd</td><td> 447   </td></tr>\n",
       "\t<tr><td>Other  </td><td>   1   </td></tr>\n",
       "\t<tr><td>Plywood</td><td> 270   </td></tr>\n",
       "\t<tr><td>Stone  </td><td>   6   </td></tr>\n",
       "\t<tr><td>Stucco </td><td>  47   </td></tr>\n",
       "\t<tr><td>VinylSd</td><td>1014   </td></tr>\n",
       "\t<tr><td>Wd Sdng</td><td> 391   </td></tr>\n",
       "\t<tr><td>Wd Shng</td><td>  81   </td></tr>\n",
       "\t<tr><td>NA     </td><td>   1   </td></tr>\n",
       "</tbody>\n",
       "</table>\n",
       "</dd>\n",
       "\t<dt>$Functional</dt>\n",
       "\t\t<dd><table>\n",
       "<thead><tr><th scope=col>col</th><th scope=col>Freq</th></tr></thead>\n",
       "<tbody>\n",
       "\t<tr><td>Maj1</td><td>  19</td></tr>\n",
       "\t<tr><td>Maj2</td><td>   9</td></tr>\n",
       "\t<tr><td>Min1</td><td>  65</td></tr>\n",
       "\t<tr><td>Min2</td><td>  70</td></tr>\n",
       "\t<tr><td>Mod </td><td>  35</td></tr>\n",
       "\t<tr><td>Sev </td><td>   2</td></tr>\n",
       "\t<tr><td>Typ </td><td>2717</td></tr>\n",
       "\t<tr><td>NA  </td><td>   2</td></tr>\n",
       "</tbody>\n",
       "</table>\n",
       "</dd>\n",
       "\t<dt>$KitchenQual</dt>\n",
       "\t\t<dd><table>\n",
       "<thead><tr><th scope=col>col</th><th scope=col>Freq</th></tr></thead>\n",
       "<tbody>\n",
       "\t<tr><td>Ex  </td><td> 205</td></tr>\n",
       "\t<tr><td>Fa  </td><td>  70</td></tr>\n",
       "\t<tr><td>Gd  </td><td>1151</td></tr>\n",
       "\t<tr><td>TA  </td><td>1492</td></tr>\n",
       "\t<tr><td>NA  </td><td>   1</td></tr>\n",
       "</tbody>\n",
       "</table>\n",
       "</dd>\n",
       "\t<dt>$MSZoning</dt>\n",
       "\t\t<dd><table>\n",
       "<thead><tr><th scope=col>col</th><th scope=col>Freq</th></tr></thead>\n",
       "<tbody>\n",
       "\t<tr><td>C (all)</td><td>  25   </td></tr>\n",
       "\t<tr><td>FV     </td><td> 139   </td></tr>\n",
       "\t<tr><td>RH     </td><td>  26   </td></tr>\n",
       "\t<tr><td>RL     </td><td>2265   </td></tr>\n",
       "\t<tr><td>RM     </td><td> 460   </td></tr>\n",
       "\t<tr><td>NA     </td><td>   4   </td></tr>\n",
       "</tbody>\n",
       "</table>\n",
       "</dd>\n",
       "\t<dt>$SaleType</dt>\n",
       "\t\t<dd><table>\n",
       "<thead><tr><th scope=col>col</th><th scope=col>Freq</th></tr></thead>\n",
       "<tbody>\n",
       "\t<tr><td>COD  </td><td>  87 </td></tr>\n",
       "\t<tr><td>Con  </td><td>   5 </td></tr>\n",
       "\t<tr><td>ConLD</td><td>  26 </td></tr>\n",
       "\t<tr><td>ConLI</td><td>   9 </td></tr>\n",
       "\t<tr><td>ConLw</td><td>   8 </td></tr>\n",
       "\t<tr><td>CWD  </td><td>  12 </td></tr>\n",
       "\t<tr><td>New  </td><td> 239 </td></tr>\n",
       "\t<tr><td>Oth  </td><td>   7 </td></tr>\n",
       "\t<tr><td>WD   </td><td>2525 </td></tr>\n",
       "\t<tr><td>NA   </td><td>   1 </td></tr>\n",
       "</tbody>\n",
       "</table>\n",
       "</dd>\n",
       "\t<dt>$Utilities</dt>\n",
       "\t\t<dd><table>\n",
       "<thead><tr><th scope=col>col</th><th scope=col>Freq</th></tr></thead>\n",
       "<tbody>\n",
       "\t<tr><td>AllPub</td><td>2916  </td></tr>\n",
       "\t<tr><td>NoSeWa</td><td>   1  </td></tr>\n",
       "\t<tr><td>NA    </td><td>   2  </td></tr>\n",
       "</tbody>\n",
       "</table>\n",
       "</dd>\n",
       "</dl>\n"
      ],
      "text/latex": [
       "\\begin{description}\n",
       "\\item[\\$Electrical] \\begin{tabular}{r|ll}\n",
       " col & Freq\\\\\n",
       "\\hline\n",
       "\t FuseA &  188 \\\\\n",
       "\t FuseF &   50 \\\\\n",
       "\t FuseP &    8 \\\\\n",
       "\t Mix   &    1 \\\\\n",
       "\t SBrkr & 2671 \\\\\n",
       "\t NA    &    1 \\\\\n",
       "\\end{tabular}\n",
       "\n",
       "\\item[\\$Exterior1st] \\begin{tabular}{r|ll}\n",
       " col & Freq\\\\\n",
       "\\hline\n",
       "\t AsbShng &   44   \\\\\n",
       "\t AsphShn &    2   \\\\\n",
       "\t BrkComm &    6   \\\\\n",
       "\t BrkFace &   87   \\\\\n",
       "\t CBlock  &    2   \\\\\n",
       "\t CemntBd &  126   \\\\\n",
       "\t HdBoard &  442   \\\\\n",
       "\t ImStucc &    1   \\\\\n",
       "\t MetalSd &  450   \\\\\n",
       "\t Plywood &  221   \\\\\n",
       "\t Stone   &    2   \\\\\n",
       "\t Stucco  &   43   \\\\\n",
       "\t VinylSd & 1025   \\\\\n",
       "\t Wd Sdng &  411   \\\\\n",
       "\t WdShing &   56   \\\\\n",
       "\t NA      &    1   \\\\\n",
       "\\end{tabular}\n",
       "\n",
       "\\item[\\$Exterior2nd] \\begin{tabular}{r|ll}\n",
       " col & Freq\\\\\n",
       "\\hline\n",
       "\t AsbShng &   38   \\\\\n",
       "\t AsphShn &    4   \\\\\n",
       "\t Brk Cmn &   22   \\\\\n",
       "\t BrkFace &   47   \\\\\n",
       "\t CBlock  &    3   \\\\\n",
       "\t CmentBd &  126   \\\\\n",
       "\t HdBoard &  406   \\\\\n",
       "\t ImStucc &   15   \\\\\n",
       "\t MetalSd &  447   \\\\\n",
       "\t Other   &    1   \\\\\n",
       "\t Plywood &  270   \\\\\n",
       "\t Stone   &    6   \\\\\n",
       "\t Stucco  &   47   \\\\\n",
       "\t VinylSd & 1014   \\\\\n",
       "\t Wd Sdng &  391   \\\\\n",
       "\t Wd Shng &   81   \\\\\n",
       "\t NA      &    1   \\\\\n",
       "\\end{tabular}\n",
       "\n",
       "\\item[\\$Functional] \\begin{tabular}{r|ll}\n",
       " col & Freq\\\\\n",
       "\\hline\n",
       "\t Maj1 &   19\\\\\n",
       "\t Maj2 &    9\\\\\n",
       "\t Min1 &   65\\\\\n",
       "\t Min2 &   70\\\\\n",
       "\t Mod  &   35\\\\\n",
       "\t Sev  &    2\\\\\n",
       "\t Typ  & 2717\\\\\n",
       "\t NA   &    2\\\\\n",
       "\\end{tabular}\n",
       "\n",
       "\\item[\\$KitchenQual] \\begin{tabular}{r|ll}\n",
       " col & Freq\\\\\n",
       "\\hline\n",
       "\t Ex   &  205\\\\\n",
       "\t Fa   &   70\\\\\n",
       "\t Gd   & 1151\\\\\n",
       "\t TA   & 1492\\\\\n",
       "\t NA   &    1\\\\\n",
       "\\end{tabular}\n",
       "\n",
       "\\item[\\$MSZoning] \\begin{tabular}{r|ll}\n",
       " col & Freq\\\\\n",
       "\\hline\n",
       "\t C (all) &   25   \\\\\n",
       "\t FV      &  139   \\\\\n",
       "\t RH      &   26   \\\\\n",
       "\t RL      & 2265   \\\\\n",
       "\t RM      &  460   \\\\\n",
       "\t NA      &    4   \\\\\n",
       "\\end{tabular}\n",
       "\n",
       "\\item[\\$SaleType] \\begin{tabular}{r|ll}\n",
       " col & Freq\\\\\n",
       "\\hline\n",
       "\t COD   &   87 \\\\\n",
       "\t Con   &    5 \\\\\n",
       "\t ConLD &   26 \\\\\n",
       "\t ConLI &    9 \\\\\n",
       "\t ConLw &    8 \\\\\n",
       "\t CWD   &   12 \\\\\n",
       "\t New   &  239 \\\\\n",
       "\t Oth   &    7 \\\\\n",
       "\t WD    & 2525 \\\\\n",
       "\t NA    &    1 \\\\\n",
       "\\end{tabular}\n",
       "\n",
       "\\item[\\$Utilities] \\begin{tabular}{r|ll}\n",
       " col & Freq\\\\\n",
       "\\hline\n",
       "\t AllPub & 2916  \\\\\n",
       "\t NoSeWa &    1  \\\\\n",
       "\t NA     &    2  \\\\\n",
       "\\end{tabular}\n",
       "\n",
       "\\end{description}\n"
      ],
      "text/markdown": [
       "$Electrical\n",
       ":   \n",
       "col | Freq | \n",
       "|---|---|---|---|---|---|\n",
       "| FuseA |  188  | \n",
       "| FuseF |   50  | \n",
       "| FuseP |    8  | \n",
       "| Mix   |    1  | \n",
       "| SBrkr | 2671  | \n",
       "| NA    |    1  | \n",
       "\n",
       "\n",
       "\n",
       "$Exterior1st\n",
       ":   \n",
       "col | Freq | \n",
       "|---|---|---|---|---|---|---|---|---|---|---|---|---|---|---|---|\n",
       "| AsbShng |   44    | \n",
       "| AsphShn |    2    | \n",
       "| BrkComm |    6    | \n",
       "| BrkFace |   87    | \n",
       "| CBlock  |    2    | \n",
       "| CemntBd |  126    | \n",
       "| HdBoard |  442    | \n",
       "| ImStucc |    1    | \n",
       "| MetalSd |  450    | \n",
       "| Plywood |  221    | \n",
       "| Stone   |    2    | \n",
       "| Stucco  |   43    | \n",
       "| VinylSd | 1025    | \n",
       "| Wd Sdng |  411    | \n",
       "| WdShing |   56    | \n",
       "| NA      |    1    | \n",
       "\n",
       "\n",
       "\n",
       "$Exterior2nd\n",
       ":   \n",
       "col | Freq | \n",
       "|---|---|---|---|---|---|---|---|---|---|---|---|---|---|---|---|---|\n",
       "| AsbShng |   38    | \n",
       "| AsphShn |    4    | \n",
       "| Brk Cmn |   22    | \n",
       "| BrkFace |   47    | \n",
       "| CBlock  |    3    | \n",
       "| CmentBd |  126    | \n",
       "| HdBoard |  406    | \n",
       "| ImStucc |   15    | \n",
       "| MetalSd |  447    | \n",
       "| Other   |    1    | \n",
       "| Plywood |  270    | \n",
       "| Stone   |    6    | \n",
       "| Stucco  |   47    | \n",
       "| VinylSd | 1014    | \n",
       "| Wd Sdng |  391    | \n",
       "| Wd Shng |   81    | \n",
       "| NA      |    1    | \n",
       "\n",
       "\n",
       "\n",
       "$Functional\n",
       ":   \n",
       "col | Freq | \n",
       "|---|---|---|---|---|---|---|---|\n",
       "| Maj1 |   19 | \n",
       "| Maj2 |    9 | \n",
       "| Min1 |   65 | \n",
       "| Min2 |   70 | \n",
       "| Mod  |   35 | \n",
       "| Sev  |    2 | \n",
       "| Typ  | 2717 | \n",
       "| NA   |    2 | \n",
       "\n",
       "\n",
       "\n",
       "$KitchenQual\n",
       ":   \n",
       "col | Freq | \n",
       "|---|---|---|---|---|\n",
       "| Ex   |  205 | \n",
       "| Fa   |   70 | \n",
       "| Gd   | 1151 | \n",
       "| TA   | 1492 | \n",
       "| NA   |    1 | \n",
       "\n",
       "\n",
       "\n",
       "$MSZoning\n",
       ":   \n",
       "col | Freq | \n",
       "|---|---|---|---|---|---|\n",
       "| C (all) |   25    | \n",
       "| FV      |  139    | \n",
       "| RH      |   26    | \n",
       "| RL      | 2265    | \n",
       "| RM      |  460    | \n",
       "| NA      |    4    | \n",
       "\n",
       "\n",
       "\n",
       "$SaleType\n",
       ":   \n",
       "col | Freq | \n",
       "|---|---|---|---|---|---|---|---|---|---|\n",
       "| COD   |   87  | \n",
       "| Con   |    5  | \n",
       "| ConLD |   26  | \n",
       "| ConLI |    9  | \n",
       "| ConLw |    8  | \n",
       "| CWD   |   12  | \n",
       "| New   |  239  | \n",
       "| Oth   |    7  | \n",
       "| WD    | 2525  | \n",
       "| NA    |    1  | \n",
       "\n",
       "\n",
       "\n",
       "$Utilities\n",
       ":   \n",
       "col | Freq | \n",
       "|---|---|---|\n",
       "| AllPub | 2916   | \n",
       "| NoSeWa |    1   | \n",
       "| NA     |    2   | \n",
       "\n",
       "\n",
       "\n",
       "\n",
       "\n"
      ],
      "text/plain": [
       "$Electrical\n",
       "    col Freq\n",
       "1 FuseA  188\n",
       "2 FuseF   50\n",
       "3 FuseP    8\n",
       "4   Mix    1\n",
       "5 SBrkr 2671\n",
       "6  <NA>    1\n",
       "\n",
       "$Exterior1st\n",
       "       col Freq\n",
       "1  AsbShng   44\n",
       "2  AsphShn    2\n",
       "3  BrkComm    6\n",
       "4  BrkFace   87\n",
       "5   CBlock    2\n",
       "6  CemntBd  126\n",
       "7  HdBoard  442\n",
       "8  ImStucc    1\n",
       "9  MetalSd  450\n",
       "10 Plywood  221\n",
       "11   Stone    2\n",
       "12  Stucco   43\n",
       "13 VinylSd 1025\n",
       "14 Wd Sdng  411\n",
       "15 WdShing   56\n",
       "16    <NA>    1\n",
       "\n",
       "$Exterior2nd\n",
       "       col Freq\n",
       "1  AsbShng   38\n",
       "2  AsphShn    4\n",
       "3  Brk Cmn   22\n",
       "4  BrkFace   47\n",
       "5   CBlock    3\n",
       "6  CmentBd  126\n",
       "7  HdBoard  406\n",
       "8  ImStucc   15\n",
       "9  MetalSd  447\n",
       "10   Other    1\n",
       "11 Plywood  270\n",
       "12   Stone    6\n",
       "13  Stucco   47\n",
       "14 VinylSd 1014\n",
       "15 Wd Sdng  391\n",
       "16 Wd Shng   81\n",
       "17    <NA>    1\n",
       "\n",
       "$Functional\n",
       "   col Freq\n",
       "1 Maj1   19\n",
       "2 Maj2    9\n",
       "3 Min1   65\n",
       "4 Min2   70\n",
       "5  Mod   35\n",
       "6  Sev    2\n",
       "7  Typ 2717\n",
       "8 <NA>    2\n",
       "\n",
       "$KitchenQual\n",
       "   col Freq\n",
       "1   Ex  205\n",
       "2   Fa   70\n",
       "3   Gd 1151\n",
       "4   TA 1492\n",
       "5 <NA>    1\n",
       "\n",
       "$MSZoning\n",
       "      col Freq\n",
       "1 C (all)   25\n",
       "2      FV  139\n",
       "3      RH   26\n",
       "4      RL 2265\n",
       "5      RM  460\n",
       "6    <NA>    4\n",
       "\n",
       "$SaleType\n",
       "     col Freq\n",
       "1    COD   87\n",
       "2    Con    5\n",
       "3  ConLD   26\n",
       "4  ConLI    9\n",
       "5  ConLw    8\n",
       "6    CWD   12\n",
       "7    New  239\n",
       "8    Oth    7\n",
       "9     WD 2525\n",
       "10  <NA>    1\n",
       "\n",
       "$Utilities\n",
       "     col Freq\n",
       "1 AllPub 2916\n",
       "2 NoSeWa    1\n",
       "3   <NA>    2\n"
      ]
     },
     "metadata": {},
     "output_type": "display_data"
    }
   ],
   "source": [
    "df.combined %>% select_if(is.character) %>% \n",
    "select(-dplyr::one_of(colums.with.good.na)) %>%\n",
    "purrr::keep(function (col) { sum(is.na(col)) > 0 }) %>%\n",
    "purrr::map(function (col) { table(col, useNA='always') %>% as.data.frame }) -> tmp\n",
    "\n",
    "tmp[tmp %>% names %>% sort]"
   ]
  },
  {
   "cell_type": "code",
   "execution_count": 162,
   "metadata": {},
   "outputs": [
    {
     "data": {},
     "metadata": {},
     "output_type": "display_data"
    },
    {
     "data": {
      "image/png": "[encoded data removed]",
      "text/plain": [
       "plot without title"
      ]
     },
     "metadata": {},
     "output_type": "display_data"
    }
   ],
   "source": [
    "df.combined %>% select(-SalePrice) %>% select_if(is.numeric) %>%\n",
    "purrr::keep(function (col) { sum(is.na(col)) > 0 }) %>%\n",
    "select(order(colnames(.))) -> df.combined.numeric.na\n",
    "\n",
    "df.combined.numeric.na %>% \n",
    "gather(attr.name, attr.val) %>%\n",
    "mutate(is0 = ifelse(attr.val == 0, T, F)) %>%\n",
    "ggplot() + \n",
    "geom_bar(aes(is0, fill=is0)) + \n",
    "facet_wrap(~attr.name)"
   ]
  },
  {
   "cell_type": "code",
   "execution_count": 50,
   "metadata": {},
   "outputs": [
    {
     "name": "stdout",
     "output_type": "stream",
     "text": [
      "[1] \"run tests ...\"\n"
     ]
    }
   ],
   "source": [
    "kaggle.house$na$test_na_fixers(df.combined)\n",
    "\n",
    "df.combined.fixed <- kaggle.house$na$fixAll(df.combined)\n",
    "df.training.fixed <- df.combined %>% filter(dataSource == \"train\")\n",
    "df.testing.fixed <- df.combined %>% filter(dataSource == \"test\")"
   ]
  },
  {
   "cell_type": "code",
   "execution_count": 134,
   "metadata": {
    "collapsed": true
   },
   "outputs": [],
   "source": [
    "?gather"
   ]
  },
  {
   "cell_type": "code",
   "execution_count": null,
   "metadata": {
    "collapsed": true
   },
   "outputs": [],
   "source": []
  },
  {
   "cell_type": "code",
   "execution_count": 15,
   "metadata": {
    "collapsed": true
   },
   "outputs": [],
   "source": []
  },
  {
   "cell_type": "code",
   "execution_count": null,
   "metadata": {
    "collapsed": true
   },
   "outputs": [],
   "source": []
  },
  {
   "cell_type": "code",
   "execution_count": null,
   "metadata": {
    "collapsed": true
   },
   "outputs": [],
   "source": []
  },
  {
   "cell_type": "code",
   "execution_count": null,
   "metadata": {
    "collapsed": true
   },
   "outputs": [],
   "source": []
  },
  {
   "cell_type": "code",
   "execution_count": null,
   "metadata": {
    "collapsed": true
   },
   "outputs": [],
   "source": []
  },
  {
   "cell_type": "code",
   "execution_count": null,
   "metadata": {
    "collapsed": true
   },
   "outputs": [],
   "source": []
  },
  {
   "cell_type": "code",
   "execution_count": null,
   "metadata": {
    "collapsed": true
   },
   "outputs": [],
   "source": []
  },
  {
   "cell_type": "code",
   "execution_count": null,
   "metadata": {
    "collapsed": true
   },
   "outputs": [],
   "source": []
  },
  {
   "cell_type": "code",
   "execution_count": null,
   "metadata": {
    "collapsed": true
   },
   "outputs": [],
   "source": []
  },
  {
   "cell_type": "code",
   "execution_count": null,
   "metadata": {
    "collapsed": true
   },
   "outputs": [],
   "source": []
  },
  {
   "cell_type": "code",
   "execution_count": null,
   "metadata": {
    "collapsed": true
   },
   "outputs": [],
   "source": []
  },
  {
   "cell_type": "code",
   "execution_count": null,
   "metadata": {
    "collapsed": true
   },
   "outputs": [],
   "source": []
  },
  {
   "cell_type": "code",
   "execution_count": null,
   "metadata": {
    "collapsed": true
   },
   "outputs": [],
   "source": []
  },
  {
   "cell_type": "code",
   "execution_count": null,
   "metadata": {
    "collapsed": true
   },
   "outputs": [],
   "source": []
  },
  {
   "cell_type": "code",
   "execution_count": null,
   "metadata": {
    "collapsed": true
   },
   "outputs": [],
   "source": []
  },
  {
   "cell_type": "code",
   "execution_count": null,
   "metadata": {
    "collapsed": true
   },
   "outputs": [],
   "source": []
  },
  {
   "cell_type": "code",
   "execution_count": null,
   "metadata": {
    "collapsed": true
   },
   "outputs": [],
   "source": []
  },
  {
   "cell_type": "code",
   "execution_count": null,
   "metadata": {
    "collapsed": true
   },
   "outputs": [],
   "source": []
  },
  {
   "cell_type": "code",
   "execution_count": null,
   "metadata": {
    "collapsed": true
   },
   "outputs": [],
   "source": []
  },
  {
   "cell_type": "code",
   "execution_count": null,
   "metadata": {
    "collapsed": true
   },
   "outputs": [],
   "source": []
  },
  {
   "cell_type": "code",
   "execution_count": null,
   "metadata": {
    "collapsed": true
   },
   "outputs": [],
   "source": []
  },
  {
   "cell_type": "code",
   "execution_count": null,
   "metadata": {
    "collapsed": true
   },
   "outputs": [],
   "source": []
  },
  {
   "cell_type": "code",
   "execution_count": null,
   "metadata": {
    "collapsed": true
   },
   "outputs": [],
   "source": []
  },
  {
   "cell_type": "code",
   "execution_count": null,
   "metadata": {
    "collapsed": true
   },
   "outputs": [],
   "source": []
  },
  {
   "cell_type": "code",
   "execution_count": null,
   "metadata": {
    "collapsed": true
   },
   "outputs": [],
   "source": []
  },
  {
   "cell_type": "code",
   "execution_count": null,
   "metadata": {
    "collapsed": true
   },
   "outputs": [],
   "source": []
  },
  {
   "cell_type": "code",
   "execution_count": null,
   "metadata": {
    "collapsed": true
   },
   "outputs": [],
   "source": []
  },
  {
   "cell_type": "code",
   "execution_count": null,
   "metadata": {
    "collapsed": true
   },
   "outputs": [],
   "source": []
  },
  {
   "cell_type": "code",
   "execution_count": null,
   "metadata": {
    "collapsed": true
   },
   "outputs": [],
   "source": []
  },
  {
   "cell_type": "code",
   "execution_count": null,
   "metadata": {
    "collapsed": true
   },
   "outputs": [],
   "source": []
  },
  {
   "cell_type": "code",
   "execution_count": null,
   "metadata": {
    "collapsed": true
   },
   "outputs": [],
   "source": []
  },
  {
   "cell_type": "code",
   "execution_count": null,
   "metadata": {
    "collapsed": true
   },
   "outputs": [],
   "source": []
  }
 ],
 "metadata": {
  "kernelspec": {
   "display_name": "R",
   "language": "R",
   "name": "ir"
  },
  "language_info": {
   "codemirror_mode": "r",
   "file_extension": ".r",
   "mimetype": "text/x-r-source",
   "name": "R",
   "pygments_lexer": "r",
   "version": "3.4.2"
  }
 },
 "nbformat": 4,
 "nbformat_minor": 2
}
