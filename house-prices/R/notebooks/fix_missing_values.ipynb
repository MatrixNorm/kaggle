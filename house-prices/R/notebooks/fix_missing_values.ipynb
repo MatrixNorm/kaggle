{
 "cells": [
  {
   "cell_type": "code",
   "execution_count": 15,
   "metadata": {},
   "outputs": [
    {
     "data": {
      "text/html": [
       "'/mnt/hdd/develop/kaggle/house-prices/R'"
      ],
      "text/latex": [
       "'/mnt/hdd/develop/kaggle/house-prices/R'"
      ],
      "text/markdown": [
       "'/mnt/hdd/develop/kaggle/house-prices/R'"
      ],
      "text/plain": [
       "[1] \"/mnt/hdd/develop/kaggle/house-prices/R\""
      ]
     },
     "metadata": {},
     "output_type": "display_data"
    },
    {
     "data": {
      "text/html": [
       "'/mnt/hdd/develop/kaggle/house-prices/R'"
      ],
      "text/latex": [
       "'/mnt/hdd/develop/kaggle/house-prices/R'"
      ],
      "text/markdown": [
       "'/mnt/hdd/develop/kaggle/house-prices/R'"
      ],
      "text/plain": [
       "[1] \"/mnt/hdd/develop/kaggle/house-prices/R\""
      ]
     },
     "metadata": {},
     "output_type": "display_data"
    }
   ],
   "source": [
    "getwd()\n",
    "if ( is.null(environment()$this_notebook_dir) ) {\n",
    "    this_notebook_dir <- getwd()\n",
    "    setwd(paste0(getwd(), '/..'))\n",
    "}\n",
    "getwd()"
   ]
  },
  {
   "cell_type": "code",
   "execution_count": 26,
   "metadata": {},
   "outputs": [
    {
     "data": {
      "text/html": [
       "<pre class=language-r><code>function (df.training, df.testing) \n",
       "{\n",
       "<span style=white-space:pre-wrap>    print(\"run tests ...\")</span>\n",
       "<span style=white-space:pre-wrap>    with(kaggle.house$trans, {</span>\n",
       "<span style=white-space:pre-wrap>        with(list(), {</span>\n",
       "<span style=white-space:pre-wrap>            df.train &lt;- data_frame(categAttr = c(\"a\", \"a\", \"b\", </span>\n",
       "<span style=white-space:pre-wrap>                \"b\", \"b\", \"c\", \"c\"), sale_price_log = c(1, 2, </span>\n",
       "<span style=white-space:pre-wrap>                3, 4, 5, 6, 7))</span>\n",
       "<span style=white-space:pre-wrap>            df.test &lt;- data_frame(categAttr = c(\"a\", \"a\", \"b\", </span>\n",
       "<span style=white-space:pre-wrap>                \"b\", \"c\", \"c\", \"d\", \"d\", \"d\"))</span>\n",
       "<span style=white-space:pre-wrap>            trainTransformator &lt;- groupAveragingTranFactory(sale_price_log, </span>\n",
       "<span style=white-space:pre-wrap>                categAttr, \"categAttr.new\")</span>\n",
       "<span style=white-space:pre-wrap>            tmp &lt;- trainTransformator(df.train)</span>\n",
       "<span style=white-space:pre-wrap>            test_that(\"train set tranformation\", {</span>\n",
       "<span style=white-space:pre-wrap>                df.train.new &lt;- tmp$df.new</span>\n",
       "<span style=white-space:pre-wrap>                x &lt;- df.train.new %&gt;% group_by(categAttr) %&gt;% </span>\n",
       "<span style=white-space:pre-wrap>                  summarise(min = min(categAttr.new), max = max(categAttr.new))</span>\n",
       "<span style=white-space:pre-wrap>                y &lt;- df.train %&gt;% group_by(categAttr) %&gt;% summarise(median = median(sale_price_log))</span>\n",
       "<span style=white-space:pre-wrap>                expect_true(all(x[, \"min\"] == x[, \"max\"]))</span>\n",
       "<span style=white-space:pre-wrap>                expect_true(all(x[, \"min\"] == y[, \"median\"]))</span>\n",
       "<span style=white-space:pre-wrap>                expect_equal(df.train.new$categAttr.new, c(1.5, </span>\n",
       "<span style=white-space:pre-wrap>                  1.5, 4, 4, 4, 6.5, 6.5))</span>\n",
       "<span style=white-space:pre-wrap>            })</span>\n",
       "<span style=white-space:pre-wrap>            test_that(\"test set tranformation\", {</span>\n",
       "<span style=white-space:pre-wrap>                testTransformator &lt;- tmp$testset.transformator</span>\n",
       "<span style=white-space:pre-wrap>                df.test.new &lt;- testTransformator(df.test)</span>\n",
       "<span style=white-space:pre-wrap>                expect_equal(df.test.new$categAttr, df.test$categAttr)</span>\n",
       "<span style=white-space:pre-wrap>                expect_equal(df.test.new$categAttr.new, c(1.5, </span>\n",
       "<span style=white-space:pre-wrap>                  1.5, 4, 4, 6.5, 6.5, 4, 4, 4))</span>\n",
       "<span style=white-space:pre-wrap>            })</span>\n",
       "<span style=white-space:pre-wrap>        })</span>\n",
       "<span style=white-space:pre-wrap>        with(transformatorContainer, {</span>\n",
       "<span style=white-space:pre-wrap>            test_that(\"Alley\", {</span>\n",
       "<span style=white-space:pre-wrap>                df.new &lt;- Alley(df.training)</span>\n",
       "<span style=white-space:pre-wrap>                expect_equal(df.new %&gt;% filter(is.na(Alley) &amp; </span>\n",
       "<span style=white-space:pre-wrap>                  has_alley_access != 0) %&gt;% nrow, 0)</span>\n",
       "<span style=white-space:pre-wrap>                expect_equal(df.new %&gt;% filter(!is.na(Alley) &amp; </span>\n",
       "<span style=white-space:pre-wrap>                  has_alley_access != 1) %&gt;% nrow, 0)</span>\n",
       "<span style=white-space:pre-wrap>            })</span>\n",
       "<span style=white-space:pre-wrap>            test_that(\"CentralAir\", {</span>\n",
       "<span style=white-space:pre-wrap>                df &lt;- CentralAir(df.training)</span>\n",
       "<span style=white-space:pre-wrap>                expect_equal(df %&gt;% filter(CentralAir == \"Y\" &amp; </span>\n",
       "<span style=white-space:pre-wrap>                  has_central_air != 1) %&gt;% nrow, 0)</span>\n",
       "<span style=white-space:pre-wrap>                expect_equal(df %&gt;% filter(CentralAir != \"Y\" &amp; </span>\n",
       "<span style=white-space:pre-wrap>                  has_central_air != 0) %&gt;% nrow, 0)</span>\n",
       "<span style=white-space:pre-wrap>            })</span>\n",
       "<span style=white-space:pre-wrap>            test_that(\"Electrical\", {</span>\n",
       "<span style=white-space:pre-wrap>                df &lt;- Electrical(df.training)</span>\n",
       "<span style=white-space:pre-wrap>                expect_equal(df %&gt;% filter(Electrical == \"SBrkr\" &amp; </span>\n",
       "<span style=white-space:pre-wrap>                  standard_electrical != 1) %&gt;% nrow, 0)</span>\n",
       "<span style=white-space:pre-wrap>                expect_equal(df %&gt;% filter(is.na(Electrical) &amp; </span>\n",
       "<span style=white-space:pre-wrap>                  standard_electrical != 1) %&gt;% nrow, 0)</span>\n",
       "<span style=white-space:pre-wrap>                expect_equal(df %&gt;% filter(Electrical != \"SBrkr\" &amp; </span>\n",
       "<span style=white-space:pre-wrap>                  standard_electrical != 0) %&gt;% nrow, 0)</span>\n",
       "<span style=white-space:pre-wrap>            })</span>\n",
       "<span style=white-space:pre-wrap>            test_that(\"Functional\", {</span>\n",
       "<span style=white-space:pre-wrap>                df &lt;- Functional(df.training)</span>\n",
       "<span style=white-space:pre-wrap>                expect_equal(df %&gt;% filter(Functional == \"Typ\" &amp; </span>\n",
       "<span style=white-space:pre-wrap>                  is_full_functional != 1) %&gt;% nrow, 0)</span>\n",
       "<span style=white-space:pre-wrap>                expect_equal(df %&gt;% filter(Functional != \"Typ\" &amp; </span>\n",
       "<span style=white-space:pre-wrap>                  is_full_functional != 0) %&gt;% nrow, 0)</span>\n",
       "<span style=white-space:pre-wrap>            })</span>\n",
       "<span style=white-space:pre-wrap>            test_that(\"BldgType\", {</span>\n",
       "<span style=white-space:pre-wrap>                res &lt;- BldgType(df.training)</span>\n",
       "<span style=white-space:pre-wrap>                df.training.new &lt;- res$df.new</span>\n",
       "<span style=white-space:pre-wrap>                testTran &lt;- res$testset.transformator</span>\n",
       "<span style=white-space:pre-wrap>                res$df.new %&gt;% group_by(BldgType) %&gt;% summarise(min = min(building_type), </span>\n",
       "<span style=white-space:pre-wrap>                  max = max(building_type), avg = median(sale_price_log)) %&gt;% </span>\n",
       "<span style=white-space:pre-wrap>                  print</span>\n",
       "<span style=white-space:pre-wrap>                df.test.new &lt;- res$testset.transformator(df.testing)</span>\n",
       "<span style=white-space:pre-wrap>                df.test.new %&gt;% group_by(BldgType) %&gt;% summarise(min = min(building_type), </span>\n",
       "<span style=white-space:pre-wrap>                  max = max(building_type)) %&gt;% print</span>\n",
       "<span style=white-space:pre-wrap>            })</span>\n",
       "<span style=white-space:pre-wrap>        })</span>\n",
       "<span style=white-space:pre-wrap>    })</span>\n",
       "}</code></pre>"
      ],
      "text/latex": [
       "\\begin{minted}{r}\n",
       "function (df.training, df.testing) \n",
       "\\{\n",
       "    print(\"run tests ...\")\n",
       "    with(kaggle.house\\$trans, \\{\n",
       "        with(list(), \\{\n",
       "            df.train <- data\\_frame(categAttr = c(\"a\", \"a\", \"b\", \n",
       "                \"b\", \"b\", \"c\", \"c\"), sale\\_price\\_log = c(1, 2, \n",
       "                3, 4, 5, 6, 7))\n",
       "            df.test <- data\\_frame(categAttr = c(\"a\", \"a\", \"b\", \n",
       "                \"b\", \"c\", \"c\", \"d\", \"d\", \"d\"))\n",
       "            trainTransformator <- groupAveragingTranFactory(sale\\_price\\_log, \n",
       "                categAttr, \"categAttr.new\")\n",
       "            tmp <- trainTransformator(df.train)\n",
       "            test\\_that(\"train set tranformation\", \\{\n",
       "                df.train.new <- tmp\\$df.new\n",
       "                x <- df.train.new \\%>\\% group\\_by(categAttr) \\%>\\% \n",
       "                  summarise(min = min(categAttr.new), max = max(categAttr.new))\n",
       "                y <- df.train \\%>\\% group\\_by(categAttr) \\%>\\% summarise(median = median(sale\\_price\\_log))\n",
       "                expect\\_true(all(x{[}, \"min\"{]} == x{[}, \"max\"{]}))\n",
       "                expect\\_true(all(x{[}, \"min\"{]} == y{[}, \"median\"{]}))\n",
       "                expect\\_equal(df.train.new\\$categAttr.new, c(1.5, \n",
       "                  1.5, 4, 4, 4, 6.5, 6.5))\n",
       "            \\})\n",
       "            test\\_that(\"test set tranformation\", \\{\n",
       "                testTransformator <- tmp\\$testset.transformator\n",
       "                df.test.new <- testTransformator(df.test)\n",
       "                expect\\_equal(df.test.new\\$categAttr, df.test\\$categAttr)\n",
       "                expect\\_equal(df.test.new\\$categAttr.new, c(1.5, \n",
       "                  1.5, 4, 4, 6.5, 6.5, 4, 4, 4))\n",
       "            \\})\n",
       "        \\})\n",
       "        with(transformatorContainer, \\{\n",
       "            test\\_that(\"Alley\", \\{\n",
       "                df.new <- Alley(df.training)\n",
       "                expect\\_equal(df.new \\%>\\% filter(is.na(Alley) \\& \n",
       "                  has\\_alley\\_access != 0) \\%>\\% nrow, 0)\n",
       "                expect\\_equal(df.new \\%>\\% filter(!is.na(Alley) \\& \n",
       "                  has\\_alley\\_access != 1) \\%>\\% nrow, 0)\n",
       "            \\})\n",
       "            test\\_that(\"CentralAir\", \\{\n",
       "                df <- CentralAir(df.training)\n",
       "                expect\\_equal(df \\%>\\% filter(CentralAir == \"Y\" \\& \n",
       "                  has\\_central\\_air != 1) \\%>\\% nrow, 0)\n",
       "                expect\\_equal(df \\%>\\% filter(CentralAir != \"Y\" \\& \n",
       "                  has\\_central\\_air != 0) \\%>\\% nrow, 0)\n",
       "            \\})\n",
       "            test\\_that(\"Electrical\", \\{\n",
       "                df <- Electrical(df.training)\n",
       "                expect\\_equal(df \\%>\\% filter(Electrical == \"SBrkr\" \\& \n",
       "                  standard\\_electrical != 1) \\%>\\% nrow, 0)\n",
       "                expect\\_equal(df \\%>\\% filter(is.na(Electrical) \\& \n",
       "                  standard\\_electrical != 1) \\%>\\% nrow, 0)\n",
       "                expect\\_equal(df \\%>\\% filter(Electrical != \"SBrkr\" \\& \n",
       "                  standard\\_electrical != 0) \\%>\\% nrow, 0)\n",
       "            \\})\n",
       "            test\\_that(\"Functional\", \\{\n",
       "                df <- Functional(df.training)\n",
       "                expect\\_equal(df \\%>\\% filter(Functional == \"Typ\" \\& \n",
       "                  is\\_full\\_functional != 1) \\%>\\% nrow, 0)\n",
       "                expect\\_equal(df \\%>\\% filter(Functional != \"Typ\" \\& \n",
       "                  is\\_full\\_functional != 0) \\%>\\% nrow, 0)\n",
       "            \\})\n",
       "            test\\_that(\"BldgType\", \\{\n",
       "                res <- BldgType(df.training)\n",
       "                df.training.new <- res\\$df.new\n",
       "                testTran <- res\\$testset.transformator\n",
       "                res\\$df.new \\%>\\% group\\_by(BldgType) \\%>\\% summarise(min = min(building\\_type), \n",
       "                  max = max(building\\_type), avg = median(sale\\_price\\_log)) \\%>\\% \n",
       "                  print\n",
       "                df.test.new <- res\\$testset.transformator(df.testing)\n",
       "                df.test.new \\%>\\% group\\_by(BldgType) \\%>\\% summarise(min = min(building\\_type), \n",
       "                  max = max(building\\_type)) \\%>\\% print\n",
       "            \\})\n",
       "        \\})\n",
       "    \\})\n",
       "\\}\n",
       "\\end{minted}"
      ],
      "text/markdown": [
       "```r\n",
       "function (df.training, df.testing) \n",
       "{\n",
       "    print(\"run tests ...\")\n",
       "    with(kaggle.house$trans, {\n",
       "        with(list(), {\n",
       "            df.train <- data_frame(categAttr = c(\"a\", \"a\", \"b\", \n",
       "                \"b\", \"b\", \"c\", \"c\"), sale_price_log = c(1, 2, \n",
       "                3, 4, 5, 6, 7))\n",
       "            df.test <- data_frame(categAttr = c(\"a\", \"a\", \"b\", \n",
       "                \"b\", \"c\", \"c\", \"d\", \"d\", \"d\"))\n",
       "            trainTransformator <- groupAveragingTranFactory(sale_price_log, \n",
       "                categAttr, \"categAttr.new\")\n",
       "            tmp <- trainTransformator(df.train)\n",
       "            test_that(\"train set tranformation\", {\n",
       "                df.train.new <- tmp$df.new\n",
       "                x <- df.train.new %>% group_by(categAttr) %>% \n",
       "                  summarise(min = min(categAttr.new), max = max(categAttr.new))\n",
       "                y <- df.train %>% group_by(categAttr) %>% summarise(median = median(sale_price_log))\n",
       "                expect_true(all(x[, \"min\"] == x[, \"max\"]))\n",
       "                expect_true(all(x[, \"min\"] == y[, \"median\"]))\n",
       "                expect_equal(df.train.new$categAttr.new, c(1.5, \n",
       "                  1.5, 4, 4, 4, 6.5, 6.5))\n",
       "            })\n",
       "            test_that(\"test set tranformation\", {\n",
       "                testTransformator <- tmp$testset.transformator\n",
       "                df.test.new <- testTransformator(df.test)\n",
       "                expect_equal(df.test.new$categAttr, df.test$categAttr)\n",
       "                expect_equal(df.test.new$categAttr.new, c(1.5, \n",
       "                  1.5, 4, 4, 6.5, 6.5, 4, 4, 4))\n",
       "            })\n",
       "        })\n",
       "        with(transformatorContainer, {\n",
       "            test_that(\"Alley\", {\n",
       "                df.new <- Alley(df.training)\n",
       "                expect_equal(df.new %>% filter(is.na(Alley) & \n",
       "                  has_alley_access != 0) %>% nrow, 0)\n",
       "                expect_equal(df.new %>% filter(!is.na(Alley) & \n",
       "                  has_alley_access != 1) %>% nrow, 0)\n",
       "            })\n",
       "            test_that(\"CentralAir\", {\n",
       "                df <- CentralAir(df.training)\n",
       "                expect_equal(df %>% filter(CentralAir == \"Y\" & \n",
       "                  has_central_air != 1) %>% nrow, 0)\n",
       "                expect_equal(df %>% filter(CentralAir != \"Y\" & \n",
       "                  has_central_air != 0) %>% nrow, 0)\n",
       "            })\n",
       "            test_that(\"Electrical\", {\n",
       "                df <- Electrical(df.training)\n",
       "                expect_equal(df %>% filter(Electrical == \"SBrkr\" & \n",
       "                  standard_electrical != 1) %>% nrow, 0)\n",
       "                expect_equal(df %>% filter(is.na(Electrical) & \n",
       "                  standard_electrical != 1) %>% nrow, 0)\n",
       "                expect_equal(df %>% filter(Electrical != \"SBrkr\" & \n",
       "                  standard_electrical != 0) %>% nrow, 0)\n",
       "            })\n",
       "            test_that(\"Functional\", {\n",
       "                df <- Functional(df.training)\n",
       "                expect_equal(df %>% filter(Functional == \"Typ\" & \n",
       "                  is_full_functional != 1) %>% nrow, 0)\n",
       "                expect_equal(df %>% filter(Functional != \"Typ\" & \n",
       "                  is_full_functional != 0) %>% nrow, 0)\n",
       "            })\n",
       "            test_that(\"BldgType\", {\n",
       "                res <- BldgType(df.training)\n",
       "                df.training.new <- res$df.new\n",
       "                testTran <- res$testset.transformator\n",
       "                res$df.new %>% group_by(BldgType) %>% summarise(min = min(building_type), \n",
       "                  max = max(building_type), avg = median(sale_price_log)) %>% \n",
       "                  print\n",
       "                df.test.new <- res$testset.transformator(df.testing)\n",
       "                df.test.new %>% group_by(BldgType) %>% summarise(min = min(building_type), \n",
       "                  max = max(building_type)) %>% print\n",
       "            })\n",
       "        })\n",
       "    })\n",
       "}\n",
       "```"
      ],
      "text/plain": [
       "function (df.training, df.testing) \n",
       "{\n",
       "    print(\"run tests ...\")\n",
       "    with(kaggle.house$trans, {\n",
       "        with(list(), {\n",
       "            df.train <- data_frame(categAttr = c(\"a\", \"a\", \"b\", \n",
       "                \"b\", \"b\", \"c\", \"c\"), sale_price_log = c(1, 2, \n",
       "                3, 4, 5, 6, 7))\n",
       "            df.test <- data_frame(categAttr = c(\"a\", \"a\", \"b\", \n",
       "                \"b\", \"c\", \"c\", \"d\", \"d\", \"d\"))\n",
       "            trainTransformator <- groupAveragingTranFactory(sale_price_log, \n",
       "                categAttr, \"categAttr.new\")\n",
       "            tmp <- trainTransformator(df.train)\n",
       "            test_that(\"train set tranformation\", {\n",
       "                df.train.new <- tmp$df.new\n",
       "                x <- df.train.new %>% group_by(categAttr) %>% \n",
       "                  summarise(min = min(categAttr.new), max = max(categAttr.new))\n",
       "                y <- df.train %>% group_by(categAttr) %>% summarise(median = median(sale_price_log))\n",
       "                expect_true(all(x[, \"min\"] == x[, \"max\"]))\n",
       "                expect_true(all(x[, \"min\"] == y[, \"median\"]))\n",
       "                expect_equal(df.train.new$categAttr.new, c(1.5, \n",
       "                  1.5, 4, 4, 4, 6.5, 6.5))\n",
       "            })\n",
       "            test_that(\"test set tranformation\", {\n",
       "                testTransformator <- tmp$testset.transformator\n",
       "                df.test.new <- testTransformator(df.test)\n",
       "                expect_equal(df.test.new$categAttr, df.test$categAttr)\n",
       "                expect_equal(df.test.new$categAttr.new, c(1.5, \n",
       "                  1.5, 4, 4, 6.5, 6.5, 4, 4, 4))\n",
       "            })\n",
       "        })\n",
       "        with(transformatorContainer, {\n",
       "            test_that(\"Alley\", {\n",
       "                df.new <- Alley(df.training)\n",
       "                expect_equal(df.new %>% filter(is.na(Alley) & \n",
       "                  has_alley_access != 0) %>% nrow, 0)\n",
       "                expect_equal(df.new %>% filter(!is.na(Alley) & \n",
       "                  has_alley_access != 1) %>% nrow, 0)\n",
       "            })\n",
       "            test_that(\"CentralAir\", {\n",
       "                df <- CentralAir(df.training)\n",
       "                expect_equal(df %>% filter(CentralAir == \"Y\" & \n",
       "                  has_central_air != 1) %>% nrow, 0)\n",
       "                expect_equal(df %>% filter(CentralAir != \"Y\" & \n",
       "                  has_central_air != 0) %>% nrow, 0)\n",
       "            })\n",
       "            test_that(\"Electrical\", {\n",
       "                df <- Electrical(df.training)\n",
       "                expect_equal(df %>% filter(Electrical == \"SBrkr\" & \n",
       "                  standard_electrical != 1) %>% nrow, 0)\n",
       "                expect_equal(df %>% filter(is.na(Electrical) & \n",
       "                  standard_electrical != 1) %>% nrow, 0)\n",
       "                expect_equal(df %>% filter(Electrical != \"SBrkr\" & \n",
       "                  standard_electrical != 0) %>% nrow, 0)\n",
       "            })\n",
       "            test_that(\"Functional\", {\n",
       "                df <- Functional(df.training)\n",
       "                expect_equal(df %>% filter(Functional == \"Typ\" & \n",
       "                  is_full_functional != 1) %>% nrow, 0)\n",
       "                expect_equal(df %>% filter(Functional != \"Typ\" & \n",
       "                  is_full_functional != 0) %>% nrow, 0)\n",
       "            })\n",
       "            test_that(\"BldgType\", {\n",
       "                res <- BldgType(df.training)\n",
       "                df.training.new <- res$df.new\n",
       "                testTran <- res$testset.transformator\n",
       "                res$df.new %>% group_by(BldgType) %>% summarise(min = min(building_type), \n",
       "                  max = max(building_type), avg = median(sale_price_log)) %>% \n",
       "                  print\n",
       "                df.test.new <- res$testset.transformator(df.testing)\n",
       "                df.test.new %>% group_by(BldgType) %>% summarise(min = min(building_type), \n",
       "                  max = max(building_type)) %>% print\n",
       "            })\n",
       "        })\n",
       "    })\n",
       "}\n",
       "<environment: 0x8ca8b10>"
      ]
     },
     "metadata": {},
     "output_type": "display_data"
    }
   ],
   "source": [
    "source('main.R')\n",
    "kaggle.house$trans$test_trans"
   ]
  },
  {
   "cell_type": "code",
   "execution_count": 49,
   "metadata": {},
   "outputs": [
    {
     "data": {
      "text/html": [
       "<ol class=list-inline>\n",
       "\t<li>1460</li>\n",
       "\t<li>1459</li>\n",
       "\t<li>2919</li>\n",
       "</ol>\n"
      ],
      "text/latex": [
       "\\begin{enumerate*}\n",
       "\\item 1460\n",
       "\\item 1459\n",
       "\\item 2919\n",
       "\\end{enumerate*}\n"
      ],
      "text/markdown": [
       "1. 1460\n",
       "2. 1459\n",
       "3. 2919\n",
       "\n",
       "\n"
      ],
      "text/plain": [
       "[1] 1460 1459 2919"
      ]
     },
     "metadata": {},
     "output_type": "display_data"
    },
    {
     "data": {
      "text/html": [
       "<ol class=list-inline>\n",
       "\t<li>80</li>\n",
       "\t<li>79</li>\n",
       "\t<li>81</li>\n",
       "</ol>\n"
      ],
      "text/latex": [
       "\\begin{enumerate*}\n",
       "\\item 80\n",
       "\\item 79\n",
       "\\item 81\n",
       "\\end{enumerate*}\n"
      ],
      "text/markdown": [
       "1. 80\n",
       "2. 79\n",
       "3. 81\n",
       "\n",
       "\n"
      ],
      "text/plain": [
       "[1] 80 79 81"
      ]
     },
     "metadata": {},
     "output_type": "display_data"
    }
   ],
   "source": [
    "source('helpers.R')\n",
    "\n",
    "kaggle.house$loadLibraries()\n",
    "data <- kaggle.house$loadData()\n",
    "\n",
    "df.training <- data$train\n",
    "df.testing <- data$test\n",
    "df.combined <- kaggle.house$getCombinedDataset(df.training, df.testing)\n",
    "\n",
    "c(nrow(df.training),   nrow(df.testing),   nrow(df.combined))\n",
    "c(length(df.training), length(df.testing), length(df.combined))"
   ]
  },
  {
   "cell_type": "code",
   "execution_count": 50,
   "metadata": {},
   "outputs": [
    {
     "name": "stdout",
     "output_type": "stream",
     "text": [
      "[1] \"run tests ...\"\n"
     ]
    }
   ],
   "source": [
    "source('fix_missing_values.R')\n",
    "source('test_fix_missing_values.R')\n",
    "\n",
    "kaggle.house$na$test_na_fixers(df.combined)\n",
    "\n",
    "df.combined.fixed <- kaggle.house$na$fixAll(df.combined)\n",
    "df.training.fixed <- df.combined %>% filter(dataSource == \"train\")\n",
    "df.testing.fixed <- df.combined %>% filter(dataSource == \"test\")"
   ]
  },
  {
   "cell_type": "code",
   "execution_count": null,
   "metadata": {
    "collapsed": true
   },
   "outputs": [],
   "source": []
  },
  {
   "cell_type": "code",
   "execution_count": null,
   "metadata": {
    "collapsed": true
   },
   "outputs": [],
   "source": []
  },
  {
   "cell_type": "code",
   "execution_count": 15,
   "metadata": {
    "collapsed": true
   },
   "outputs": [],
   "source": []
  },
  {
   "cell_type": "code",
   "execution_count": null,
   "metadata": {
    "collapsed": true
   },
   "outputs": [],
   "source": []
  },
  {
   "cell_type": "code",
   "execution_count": null,
   "metadata": {
    "collapsed": true
   },
   "outputs": [],
   "source": []
  },
  {
   "cell_type": "code",
   "execution_count": null,
   "metadata": {
    "collapsed": true
   },
   "outputs": [],
   "source": []
  },
  {
   "cell_type": "code",
   "execution_count": null,
   "metadata": {
    "collapsed": true
   },
   "outputs": [],
   "source": []
  },
  {
   "cell_type": "code",
   "execution_count": null,
   "metadata": {
    "collapsed": true
   },
   "outputs": [],
   "source": []
  },
  {
   "cell_type": "code",
   "execution_count": null,
   "metadata": {
    "collapsed": true
   },
   "outputs": [],
   "source": []
  },
  {
   "cell_type": "code",
   "execution_count": null,
   "metadata": {
    "collapsed": true
   },
   "outputs": [],
   "source": []
  },
  {
   "cell_type": "code",
   "execution_count": null,
   "metadata": {
    "collapsed": true
   },
   "outputs": [],
   "source": []
  },
  {
   "cell_type": "code",
   "execution_count": null,
   "metadata": {
    "collapsed": true
   },
   "outputs": [],
   "source": []
  },
  {
   "cell_type": "code",
   "execution_count": null,
   "metadata": {
    "collapsed": true
   },
   "outputs": [],
   "source": []
  },
  {
   "cell_type": "code",
   "execution_count": null,
   "metadata": {
    "collapsed": true
   },
   "outputs": [],
   "source": []
  },
  {
   "cell_type": "code",
   "execution_count": null,
   "metadata": {
    "collapsed": true
   },
   "outputs": [],
   "source": []
  },
  {
   "cell_type": "code",
   "execution_count": null,
   "metadata": {
    "collapsed": true
   },
   "outputs": [],
   "source": []
  },
  {
   "cell_type": "code",
   "execution_count": null,
   "metadata": {
    "collapsed": true
   },
   "outputs": [],
   "source": []
  },
  {
   "cell_type": "code",
   "execution_count": null,
   "metadata": {
    "collapsed": true
   },
   "outputs": [],
   "source": []
  },
  {
   "cell_type": "code",
   "execution_count": null,
   "metadata": {
    "collapsed": true
   },
   "outputs": [],
   "source": []
  },
  {
   "cell_type": "code",
   "execution_count": null,
   "metadata": {
    "collapsed": true
   },
   "outputs": [],
   "source": []
  },
  {
   "cell_type": "code",
   "execution_count": null,
   "metadata": {
    "collapsed": true
   },
   "outputs": [],
   "source": []
  },
  {
   "cell_type": "code",
   "execution_count": null,
   "metadata": {
    "collapsed": true
   },
   "outputs": [],
   "source": []
  },
  {
   "cell_type": "code",
   "execution_count": null,
   "metadata": {
    "collapsed": true
   },
   "outputs": [],
   "source": []
  },
  {
   "cell_type": "code",
   "execution_count": null,
   "metadata": {
    "collapsed": true
   },
   "outputs": [],
   "source": []
  },
  {
   "cell_type": "code",
   "execution_count": null,
   "metadata": {
    "collapsed": true
   },
   "outputs": [],
   "source": []
  },
  {
   "cell_type": "code",
   "execution_count": null,
   "metadata": {
    "collapsed": true
   },
   "outputs": [],
   "source": []
  },
  {
   "cell_type": "code",
   "execution_count": null,
   "metadata": {
    "collapsed": true
   },
   "outputs": [],
   "source": []
  },
  {
   "cell_type": "code",
   "execution_count": null,
   "metadata": {
    "collapsed": true
   },
   "outputs": [],
   "source": []
  },
  {
   "cell_type": "code",
   "execution_count": null,
   "metadata": {
    "collapsed": true
   },
   "outputs": [],
   "source": []
  },
  {
   "cell_type": "code",
   "execution_count": null,
   "metadata": {
    "collapsed": true
   },
   "outputs": [],
   "source": []
  },
  {
   "cell_type": "code",
   "execution_count": null,
   "metadata": {
    "collapsed": true
   },
   "outputs": [],
   "source": []
  },
  {
   "cell_type": "code",
   "execution_count": null,
   "metadata": {
    "collapsed": true
   },
   "outputs": [],
   "source": []
  },
  {
   "cell_type": "code",
   "execution_count": null,
   "metadata": {
    "collapsed": true
   },
   "outputs": [],
   "source": []
  },
  {
   "cell_type": "code",
   "execution_count": null,
   "metadata": {
    "collapsed": true
   },
   "outputs": [],
   "source": []
  }
 ],
 "metadata": {
  "kernelspec": {
   "display_name": "R",
   "language": "R",
   "name": "ir"
  },
  "language_info": {
   "codemirror_mode": "r",
   "file_extension": ".r",
   "mimetype": "text/x-r-source",
   "name": "R",
   "pygments_lexer": "r",
   "version": "3.4.0"
  }
 },
 "nbformat": 4,
 "nbformat_minor": 2
}
