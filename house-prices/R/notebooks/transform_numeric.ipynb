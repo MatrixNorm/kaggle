{
 "cells": [
  {
   "cell_type": "code",
   "execution_count": 1,
   "metadata": {},
   "outputs": [
    {
     "data": {
      "text/html": [
       "'/mnt/hdd/develop/kaggle/house-prices/R/R'"
      ],
      "text/latex": [
       "'/mnt/hdd/develop/kaggle/house-prices/R/R'"
      ],
      "text/markdown": [
       "'/mnt/hdd/develop/kaggle/house-prices/R/R'"
      ],
      "text/plain": [
       "[1] \"/mnt/hdd/develop/kaggle/house-prices/R/R\""
      ]
     },
     "metadata": {},
     "output_type": "display_data"
    }
   ],
   "source": [
    "setwd(paste0(Sys.getenv('ROOT'), '/R'))\n",
    "getwd()"
   ]
  },
  {
   "cell_type": "code",
   "execution_count": 24,
   "metadata": {},
   "outputs": [],
   "source": [
    "source('main.R')\n",
    "\n",
    "data <- kaggle.house$loadData()\n",
    "\n",
    "df.combined <- kaggle.house$getCombinedDataset(data$train, data$test) %>% (kaggle.house$na$fixAll)\n",
    "\n",
    "df.training.raw <- \n",
    "    df.combined %>% \n",
    "    filter(dataSource == \"train\") %>% \n",
    "    mutate(sale_price_log = log(SalePrice)) %>%\n",
    "    select(-dataSource)\n",
    "    \n",
    "df.testing.raw  <- \n",
    "    df.combined %>% \n",
    "    filter(dataSource == \"test\") %>% \n",
    "    select(-dataSource, -SalePrice)"
   ]
  },
  {
   "cell_type": "code",
   "execution_count": 45,
   "metadata": {},
   "outputs": [
    {
     "data": {
      "text/html": [
       "TRUE"
      ],
      "text/latex": [
       "TRUE"
      ],
      "text/markdown": [
       "TRUE"
      ],
      "text/plain": [
       "[1] TRUE"
      ]
     },
     "metadata": {},
     "output_type": "display_data"
    },
    {
     "data": {
      "text/html": [
       "<ol class=list-inline>\n",
       "\t<li>'BedroomAbvGr'</li>\n",
       "\t<li>'BsmtFinSF1'</li>\n",
       "\t<li>'BsmtFinSF2'</li>\n",
       "\t<li>'BsmtFullBath'</li>\n",
       "\t<li>'BsmtHalfBath'</li>\n",
       "\t<li>'BsmtUnfSF'</li>\n",
       "\t<li>'EnclosedPorch'</li>\n",
       "\t<li>'Fireplaces'</li>\n",
       "\t<li>'FullBath'</li>\n",
       "\t<li>'GarageArea'</li>\n",
       "\t<li>'GarageCars'</li>\n",
       "\t<li>'GarageYrBlt'</li>\n",
       "\t<li>'GrLivArea'</li>\n",
       "\t<li>'HalfBath'</li>\n",
       "\t<li>'KitchenAbvGr'</li>\n",
       "\t<li>'LotArea'</li>\n",
       "\t<li>'LotFrontage'</li>\n",
       "\t<li>'LowQualFinSF'</li>\n",
       "\t<li>'MasVnrArea'</li>\n",
       "\t<li>'MiscVal'</li>\n",
       "\t<li>'MoSold'</li>\n",
       "\t<li>'OpenPorchSF'</li>\n",
       "\t<li>'OverallCond'</li>\n",
       "\t<li>'OverallQual'</li>\n",
       "\t<li>'PoolArea'</li>\n",
       "\t<li>'SalePrice'</li>\n",
       "\t<li>'sale_price_log'</li>\n",
       "\t<li>'ScreenPorch'</li>\n",
       "\t<li>'TotalBsmtSF'</li>\n",
       "\t<li>'TotRmsAbvGrd'</li>\n",
       "\t<li>'WoodDeckSF'</li>\n",
       "\t<li>'X1stFlrSF'</li>\n",
       "\t<li>'X2ndFlrSF'</li>\n",
       "\t<li>'X3SsnPorch'</li>\n",
       "\t<li>'YearBuilt'</li>\n",
       "\t<li>'YearRemodAdd'</li>\n",
       "\t<li>'YrSold'</li>\n",
       "</ol>\n"
      ],
      "text/latex": [
       "\\begin{enumerate*}\n",
       "\\item 'BedroomAbvGr'\n",
       "\\item 'BsmtFinSF1'\n",
       "\\item 'BsmtFinSF2'\n",
       "\\item 'BsmtFullBath'\n",
       "\\item 'BsmtHalfBath'\n",
       "\\item 'BsmtUnfSF'\n",
       "\\item 'EnclosedPorch'\n",
       "\\item 'Fireplaces'\n",
       "\\item 'FullBath'\n",
       "\\item 'GarageArea'\n",
       "\\item 'GarageCars'\n",
       "\\item 'GarageYrBlt'\n",
       "\\item 'GrLivArea'\n",
       "\\item 'HalfBath'\n",
       "\\item 'KitchenAbvGr'\n",
       "\\item 'LotArea'\n",
       "\\item 'LotFrontage'\n",
       "\\item 'LowQualFinSF'\n",
       "\\item 'MasVnrArea'\n",
       "\\item 'MiscVal'\n",
       "\\item 'MoSold'\n",
       "\\item 'OpenPorchSF'\n",
       "\\item 'OverallCond'\n",
       "\\item 'OverallQual'\n",
       "\\item 'PoolArea'\n",
       "\\item 'SalePrice'\n",
       "\\item 'sale\\_price\\_log'\n",
       "\\item 'ScreenPorch'\n",
       "\\item 'TotalBsmtSF'\n",
       "\\item 'TotRmsAbvGrd'\n",
       "\\item 'WoodDeckSF'\n",
       "\\item 'X1stFlrSF'\n",
       "\\item 'X2ndFlrSF'\n",
       "\\item 'X3SsnPorch'\n",
       "\\item 'YearBuilt'\n",
       "\\item 'YearRemodAdd'\n",
       "\\item 'YrSold'\n",
       "\\end{enumerate*}\n"
      ],
      "text/markdown": [
       "1. 'BedroomAbvGr'\n",
       "2. 'BsmtFinSF1'\n",
       "3. 'BsmtFinSF2'\n",
       "4. 'BsmtFullBath'\n",
       "5. 'BsmtHalfBath'\n",
       "6. 'BsmtUnfSF'\n",
       "7. 'EnclosedPorch'\n",
       "8. 'Fireplaces'\n",
       "9. 'FullBath'\n",
       "10. 'GarageArea'\n",
       "11. 'GarageCars'\n",
       "12. 'GarageYrBlt'\n",
       "13. 'GrLivArea'\n",
       "14. 'HalfBath'\n",
       "15. 'KitchenAbvGr'\n",
       "16. 'LotArea'\n",
       "17. 'LotFrontage'\n",
       "18. 'LowQualFinSF'\n",
       "19. 'MasVnrArea'\n",
       "20. 'MiscVal'\n",
       "21. 'MoSold'\n",
       "22. 'OpenPorchSF'\n",
       "23. 'OverallCond'\n",
       "24. 'OverallQual'\n",
       "25. 'PoolArea'\n",
       "26. 'SalePrice'\n",
       "27. 'sale_price_log'\n",
       "28. 'ScreenPorch'\n",
       "29. 'TotalBsmtSF'\n",
       "30. 'TotRmsAbvGrd'\n",
       "31. 'WoodDeckSF'\n",
       "32. 'X1stFlrSF'\n",
       "33. 'X2ndFlrSF'\n",
       "34. 'X3SsnPorch'\n",
       "35. 'YearBuilt'\n",
       "36. 'YearRemodAdd'\n",
       "37. 'YrSold'\n",
       "\n",
       "\n"
      ],
      "text/plain": [
       " [1] \"BedroomAbvGr\"   \"BsmtFinSF1\"     \"BsmtFinSF2\"     \"BsmtFullBath\"  \n",
       " [5] \"BsmtHalfBath\"   \"BsmtUnfSF\"      \"EnclosedPorch\"  \"Fireplaces\"    \n",
       " [9] \"FullBath\"       \"GarageArea\"     \"GarageCars\"     \"GarageYrBlt\"   \n",
       "[13] \"GrLivArea\"      \"HalfBath\"       \"KitchenAbvGr\"   \"LotArea\"       \n",
       "[17] \"LotFrontage\"    \"LowQualFinSF\"   \"MasVnrArea\"     \"MiscVal\"       \n",
       "[21] \"MoSold\"         \"OpenPorchSF\"    \"OverallCond\"    \"OverallQual\"   \n",
       "[25] \"PoolArea\"       \"SalePrice\"      \"sale_price_log\" \"ScreenPorch\"   \n",
       "[29] \"TotalBsmtSF\"    \"TotRmsAbvGrd\"   \"WoodDeckSF\"     \"X1stFlrSF\"     \n",
       "[33] \"X2ndFlrSF\"      \"X3SsnPorch\"     \"YearBuilt\"      \"YearRemodAdd\"  \n",
       "[37] \"YrSold\"        "
      ]
     },
     "metadata": {},
     "output_type": "display_data"
    }
   ],
   "source": [
    "df.training.numeric <- \n",
    "    df.training.raw %>%\n",
    "    select(-dplyr::one_of(kaggle.house$trans$type1TransContainer %>% names)) %>%\n",
    "    select(-dplyr::one_of(kaggle.house$trans$type2TransContainer %>% names))\n",
    "\n",
    "# Should be only numeric columns\n",
    "df.training.numeric %>% purrr::map(function (col) { !is.numeric(col) }) %>% unlist %>% sum == 0\n",
    "\n",
    "df.training.numeric %>% colnames %>% sort"
   ]
  },
  {
   "cell_type": "code",
   "execution_count": 47,
   "metadata": {},
   "outputs": [
    {
     "data": {
      "text/html": [
       "<table>\n",
       "<thead><tr><th scope=col>BedroomAbvGr</th><th scope=col>n</th></tr></thead>\n",
       "<tbody>\n",
       "\t<tr><td>0  </td><td>  6</td></tr>\n",
       "\t<tr><td>1  </td><td> 50</td></tr>\n",
       "\t<tr><td>2  </td><td>358</td></tr>\n",
       "\t<tr><td>3  </td><td>804</td></tr>\n",
       "\t<tr><td>4  </td><td>213</td></tr>\n",
       "\t<tr><td>5  </td><td> 21</td></tr>\n",
       "\t<tr><td>6  </td><td>  7</td></tr>\n",
       "\t<tr><td>8  </td><td>  1</td></tr>\n",
       "</tbody>\n",
       "</table>\n"
      ],
      "text/latex": [
       "\\begin{tabular}{r|ll}\n",
       " BedroomAbvGr & n\\\\\n",
       "\\hline\n",
       "\t 0   &   6\\\\\n",
       "\t 1   &  50\\\\\n",
       "\t 2   & 358\\\\\n",
       "\t 3   & 804\\\\\n",
       "\t 4   & 213\\\\\n",
       "\t 5   &  21\\\\\n",
       "\t 6   &   7\\\\\n",
       "\t 8   &   1\\\\\n",
       "\\end{tabular}\n"
      ],
      "text/markdown": [
       "\n",
       "BedroomAbvGr | n | \n",
       "|---|---|---|---|---|---|---|---|\n",
       "| 0   |   6 | \n",
       "| 1   |  50 | \n",
       "| 2   | 358 | \n",
       "| 3   | 804 | \n",
       "| 4   | 213 | \n",
       "| 5   |  21 | \n",
       "| 6   |   7 | \n",
       "| 8   |   1 | \n",
       "\n",
       "\n"
      ],
      "text/plain": [
       "  BedroomAbvGr n  \n",
       "1 0              6\n",
       "2 1             50\n",
       "3 2            358\n",
       "4 3            804\n",
       "5 4            213\n",
       "6 5             21\n",
       "7 6              7\n",
       "8 8              1"
      ]
     },
     "metadata": {},
     "output_type": "display_data"
    }
   ],
   "source": [
    "df.training.numeric %>% group_by(BedroomAbvGr) %>% count"
   ]
  },
  {
   "cell_type": "code",
   "execution_count": 59,
   "metadata": {},
   "outputs": [
    {
     "data": {
      "image/png": "[encoded data removed]",
      "text/plain": [
       "plot without title"
      ]
     },
     "metadata": {},
     "output_type": "display_data"
    }
   ],
   "source": [
    "options(repr.plot.width = 10, repr.plot.height = 5)\n",
    "\n",
    "df <- df.training #%>%  select(BsmtFinSF1) %>% filter(BsmtFinSF1 > 0)\n",
    "\n",
    "p1 <- ggplot() +\n",
    "      stat_qq(aes(sample=BsmtFinSF1), data=df)\n",
    "\n",
    "p2 <- ggplot() +\n",
    "      stat_qq(aes(sample=BsmtFinSF1), data=df %>% mutate(BsmtFinSF1=sqrt(BsmtFinSF1)))\n",
    "\n",
    "grid.arrange(p1, p2, layout_matrix=rbind(c(1, 2)))"
   ]
  },
  {
   "cell_type": "code",
   "execution_count": null,
   "metadata": {},
   "outputs": [],
   "source": []
  },
  {
   "cell_type": "code",
   "execution_count": null,
   "metadata": {
    "collapsed": true
   },
   "outputs": [],
   "source": []
  },
  {
   "cell_type": "code",
   "execution_count": null,
   "metadata": {
    "collapsed": true
   },
   "outputs": [],
   "source": []
  },
  {
   "cell_type": "code",
   "execution_count": null,
   "metadata": {
    "collapsed": true
   },
   "outputs": [],
   "source": []
  },
  {
   "cell_type": "code",
   "execution_count": null,
   "metadata": {
    "collapsed": true
   },
   "outputs": [],
   "source": []
  },
  {
   "cell_type": "code",
   "execution_count": null,
   "metadata": {
    "collapsed": true
   },
   "outputs": [],
   "source": []
  },
  {
   "cell_type": "code",
   "execution_count": null,
   "metadata": {
    "collapsed": true
   },
   "outputs": [],
   "source": []
  },
  {
   "cell_type": "code",
   "execution_count": null,
   "metadata": {
    "collapsed": true
   },
   "outputs": [],
   "source": []
  },
  {
   "cell_type": "code",
   "execution_count": null,
   "metadata": {
    "collapsed": true
   },
   "outputs": [],
   "source": []
  },
  {
   "cell_type": "code",
   "execution_count": null,
   "metadata": {
    "collapsed": true
   },
   "outputs": [],
   "source": []
  },
  {
   "cell_type": "code",
   "execution_count": null,
   "metadata": {
    "collapsed": true
   },
   "outputs": [],
   "source": []
  },
  {
   "cell_type": "code",
   "execution_count": null,
   "metadata": {
    "collapsed": true
   },
   "outputs": [],
   "source": []
  },
  {
   "cell_type": "code",
   "execution_count": null,
   "metadata": {
    "collapsed": true
   },
   "outputs": [],
   "source": []
  },
  {
   "cell_type": "code",
   "execution_count": null,
   "metadata": {
    "collapsed": true
   },
   "outputs": [],
   "source": []
  },
  {
   "cell_type": "code",
   "execution_count": null,
   "metadata": {
    "collapsed": true
   },
   "outputs": [],
   "source": []
  },
  {
   "cell_type": "code",
   "execution_count": null,
   "metadata": {
    "collapsed": true
   },
   "outputs": [],
   "source": []
  },
  {
   "cell_type": "code",
   "execution_count": null,
   "metadata": {
    "collapsed": true
   },
   "outputs": [],
   "source": []
  },
  {
   "cell_type": "code",
   "execution_count": null,
   "metadata": {
    "collapsed": true
   },
   "outputs": [],
   "source": []
  },
  {
   "cell_type": "code",
   "execution_count": null,
   "metadata": {
    "collapsed": true
   },
   "outputs": [],
   "source": []
  },
  {
   "cell_type": "code",
   "execution_count": null,
   "metadata": {
    "collapsed": true
   },
   "outputs": [],
   "source": []
  },
  {
   "cell_type": "code",
   "execution_count": null,
   "metadata": {
    "collapsed": true
   },
   "outputs": [],
   "source": []
  },
  {
   "cell_type": "code",
   "execution_count": null,
   "metadata": {
    "collapsed": true
   },
   "outputs": [],
   "source": []
  }
 ],
 "metadata": {
  "kernelspec": {
   "display_name": "R",
   "language": "R",
   "name": "ir"
  },
  "language_info": {
   "codemirror_mode": "r",
   "file_extension": ".r",
   "mimetype": "text/x-r-source",
   "name": "R",
   "pygments_lexer": "r",
   "version": "3.4.2"
  }
 },
 "nbformat": 4,
 "nbformat_minor": 2
}
