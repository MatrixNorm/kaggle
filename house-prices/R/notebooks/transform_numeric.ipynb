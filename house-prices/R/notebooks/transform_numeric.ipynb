{
 "cells": [
  {
   "cell_type": "code",
   "execution_count": 2,
   "metadata": {},
   "outputs": [
    {
     "data": {
      "text/html": [
       "'/mnt/hdd/develop/kaggle/house-prices/R/R'"
      ],
      "text/latex": [
       "'/mnt/hdd/develop/kaggle/house-prices/R/R'"
      ],
      "text/markdown": [
       "'/mnt/hdd/develop/kaggle/house-prices/R/R'"
      ],
      "text/plain": [
       "[1] \"/mnt/hdd/develop/kaggle/house-prices/R/R\""
      ]
     },
     "metadata": {},
     "output_type": "display_data"
    }
   ],
   "source": [
    "setwd(paste0(Sys.getenv('ROOT'), '/R'))\n",
    "getwd()"
   ]
  },
  {
   "cell_type": "code",
   "execution_count": 14,
   "metadata": {},
   "outputs": [],
   "source": [
    "source('main.R')\n",
    "\n",
    "data <- kaggle.house$loadData()\n",
    "\n",
    "df.combined <- kaggle.house$getCombinedDataset(data$train, data$test) %>% (kaggle.house$na$fixAll)\n",
    "\n",
    "df.training.raw <- \n",
    "    df.combined %>% \n",
    "    filter(dataSource == \"train\") %>% \n",
    "    mutate(sale_price_log = log(SalePrice)) %>%\n",
    "    select(-dataSource, -SalePrice)\n",
    "    \n",
    "df.testing.raw  <- \n",
    "    df.combined %>% \n",
    "    filter(dataSource == \"test\") %>% \n",
    "    select(-dataSource, -SalePrice)"
   ]
  },
  {
   "cell_type": "code",
   "execution_count": 15,
   "metadata": {},
   "outputs": [
    {
     "data": {
      "text/html": [
       "<ol class=list-inline>\n",
       "\t<li>'BedroomAbvGr'</li>\n",
       "\t<li>'BsmtFinSF1'</li>\n",
       "\t<li>'BsmtFinSF2'</li>\n",
       "\t<li>'BsmtFullBath'</li>\n",
       "\t<li>'BsmtHalfBath'</li>\n",
       "\t<li>'BsmtUnfSF'</li>\n",
       "\t<li>'EnclosedPorch'</li>\n",
       "\t<li>'Fireplaces'</li>\n",
       "\t<li>'FullBath'</li>\n",
       "\t<li>'GarageArea'</li>\n",
       "\t<li>'GarageCars'</li>\n",
       "\t<li>'GarageYrBlt'</li>\n",
       "\t<li>'GrLivArea'</li>\n",
       "\t<li>'HalfBath'</li>\n",
       "\t<li>'KitchenAbvGr'</li>\n",
       "\t<li>'LotArea'</li>\n",
       "\t<li>'LotFrontage'</li>\n",
       "\t<li>'LowQualFinSF'</li>\n",
       "\t<li>'MasVnrArea'</li>\n",
       "\t<li>'MiscVal'</li>\n",
       "\t<li>'MoSold'</li>\n",
       "\t<li>'OpenPorchSF'</li>\n",
       "\t<li>'OverallCond'</li>\n",
       "\t<li>'OverallQual'</li>\n",
       "\t<li>'PoolArea'</li>\n",
       "\t<li>'sale_price_log'</li>\n",
       "\t<li>'ScreenPorch'</li>\n",
       "\t<li>'TotalBsmtSF'</li>\n",
       "\t<li>'TotRmsAbvGrd'</li>\n",
       "\t<li>'WoodDeckSF'</li>\n",
       "\t<li>'X1stFlrSF'</li>\n",
       "\t<li>'X2ndFlrSF'</li>\n",
       "\t<li>'X3SsnPorch'</li>\n",
       "\t<li>'YearBuilt'</li>\n",
       "\t<li>'YearRemodAdd'</li>\n",
       "\t<li>'YrSold'</li>\n",
       "</ol>\n"
      ],
      "text/latex": [
       "\\begin{enumerate*}\n",
       "\\item 'BedroomAbvGr'\n",
       "\\item 'BsmtFinSF1'\n",
       "\\item 'BsmtFinSF2'\n",
       "\\item 'BsmtFullBath'\n",
       "\\item 'BsmtHalfBath'\n",
       "\\item 'BsmtUnfSF'\n",
       "\\item 'EnclosedPorch'\n",
       "\\item 'Fireplaces'\n",
       "\\item 'FullBath'\n",
       "\\item 'GarageArea'\n",
       "\\item 'GarageCars'\n",
       "\\item 'GarageYrBlt'\n",
       "\\item 'GrLivArea'\n",
       "\\item 'HalfBath'\n",
       "\\item 'KitchenAbvGr'\n",
       "\\item 'LotArea'\n",
       "\\item 'LotFrontage'\n",
       "\\item 'LowQualFinSF'\n",
       "\\item 'MasVnrArea'\n",
       "\\item 'MiscVal'\n",
       "\\item 'MoSold'\n",
       "\\item 'OpenPorchSF'\n",
       "\\item 'OverallCond'\n",
       "\\item 'OverallQual'\n",
       "\\item 'PoolArea'\n",
       "\\item 'sale\\_price\\_log'\n",
       "\\item 'ScreenPorch'\n",
       "\\item 'TotalBsmtSF'\n",
       "\\item 'TotRmsAbvGrd'\n",
       "\\item 'WoodDeckSF'\n",
       "\\item 'X1stFlrSF'\n",
       "\\item 'X2ndFlrSF'\n",
       "\\item 'X3SsnPorch'\n",
       "\\item 'YearBuilt'\n",
       "\\item 'YearRemodAdd'\n",
       "\\item 'YrSold'\n",
       "\\end{enumerate*}\n"
      ],
      "text/markdown": [
       "1. 'BedroomAbvGr'\n",
       "2. 'BsmtFinSF1'\n",
       "3. 'BsmtFinSF2'\n",
       "4. 'BsmtFullBath'\n",
       "5. 'BsmtHalfBath'\n",
       "6. 'BsmtUnfSF'\n",
       "7. 'EnclosedPorch'\n",
       "8. 'Fireplaces'\n",
       "9. 'FullBath'\n",
       "10. 'GarageArea'\n",
       "11. 'GarageCars'\n",
       "12. 'GarageYrBlt'\n",
       "13. 'GrLivArea'\n",
       "14. 'HalfBath'\n",
       "15. 'KitchenAbvGr'\n",
       "16. 'LotArea'\n",
       "17. 'LotFrontage'\n",
       "18. 'LowQualFinSF'\n",
       "19. 'MasVnrArea'\n",
       "20. 'MiscVal'\n",
       "21. 'MoSold'\n",
       "22. 'OpenPorchSF'\n",
       "23. 'OverallCond'\n",
       "24. 'OverallQual'\n",
       "25. 'PoolArea'\n",
       "26. 'sale_price_log'\n",
       "27. 'ScreenPorch'\n",
       "28. 'TotalBsmtSF'\n",
       "29. 'TotRmsAbvGrd'\n",
       "30. 'WoodDeckSF'\n",
       "31. 'X1stFlrSF'\n",
       "32. 'X2ndFlrSF'\n",
       "33. 'X3SsnPorch'\n",
       "34. 'YearBuilt'\n",
       "35. 'YearRemodAdd'\n",
       "36. 'YrSold'\n",
       "\n",
       "\n"
      ],
      "text/plain": [
       " [1] \"BedroomAbvGr\"   \"BsmtFinSF1\"     \"BsmtFinSF2\"     \"BsmtFullBath\"  \n",
       " [5] \"BsmtHalfBath\"   \"BsmtUnfSF\"      \"EnclosedPorch\"  \"Fireplaces\"    \n",
       " [9] \"FullBath\"       \"GarageArea\"     \"GarageCars\"     \"GarageYrBlt\"   \n",
       "[13] \"GrLivArea\"      \"HalfBath\"       \"KitchenAbvGr\"   \"LotArea\"       \n",
       "[17] \"LotFrontage\"    \"LowQualFinSF\"   \"MasVnrArea\"     \"MiscVal\"       \n",
       "[21] \"MoSold\"         \"OpenPorchSF\"    \"OverallCond\"    \"OverallQual\"   \n",
       "[25] \"PoolArea\"       \"sale_price_log\" \"ScreenPorch\"    \"TotalBsmtSF\"   \n",
       "[29] \"TotRmsAbvGrd\"   \"WoodDeckSF\"     \"X1stFlrSF\"      \"X2ndFlrSF\"     \n",
       "[33] \"X3SsnPorch\"     \"YearBuilt\"      \"YearRemodAdd\"   \"YrSold\"        "
      ]
     },
     "metadata": {},
     "output_type": "display_data"
    }
   ],
   "source": [
    "df.training.numeric <- \n",
    "    df.training.raw %>%\n",
    "    select(-dplyr::one_of(kaggle.house$trans$type1TransContainer %>% names)) %>%\n",
    "    select(-dplyr::one_of(kaggle.house$trans$type2TransContainer %>% names))\n",
    "\n",
    "# Should be only numeric columns\n",
    "stopifnot(0 == df.training.numeric %>% purrr::map(function (col) { !is.numeric(col) }) %>% unlist %>% sum)\n",
    "\n",
    "df.training.numeric %>% colnames %>% sort"
   ]
  },
  {
   "cell_type": "code",
   "execution_count": 91,
   "metadata": {},
   "outputs": [
    {
     "data": {
      "text/html": [
       "<table>\n",
       "<thead><tr><th scope=col>Attribute Name</th><th scope=col>Transformation</th><th scope=col>Transformation R.Squared Gain</th></tr></thead>\n",
       "<tbody>\n",
       "\t<tr><td>BsmtFinSF2   </td><td>log          </td><td>39.472132    </td></tr>\n",
       "\t<tr><td>MiscVal      </td><td>log          </td><td>11.217093    </td></tr>\n",
       "\t<tr><td>LotArea      </td><td>log          </td><td> 2.415495    </td></tr>\n",
       "\t<tr><td>LowQualFinSF </td><td>log          </td><td> 2.062000    </td></tr>\n",
       "\t<tr><td>OpenPorchSF  </td><td>log          </td><td> 2.052408    </td></tr>\n",
       "\t<tr><td>EnclosedPorch</td><td>log          </td><td> 1.933655    </td></tr>\n",
       "</tbody>\n",
       "</table>\n"
      ],
      "text/latex": [
       "\\begin{tabular}{r|lll}\n",
       " Attribute Name & Transformation & Transformation R.Squared Gain\\\\\n",
       "\\hline\n",
       "\t BsmtFinSF2    & log           & 39.472132    \\\\\n",
       "\t MiscVal       & log           & 11.217093    \\\\\n",
       "\t LotArea       & log           &  2.415495    \\\\\n",
       "\t LowQualFinSF  & log           &  2.062000    \\\\\n",
       "\t OpenPorchSF   & log           &  2.052408    \\\\\n",
       "\t EnclosedPorch & log           &  1.933655    \\\\\n",
       "\\end{tabular}\n"
      ],
      "text/markdown": [
       "\n",
       "Attribute Name | Transformation | Transformation R.Squared Gain | \n",
       "|---|---|---|---|---|---|\n",
       "| BsmtFinSF2    | log           | 39.472132     | \n",
       "| MiscVal       | log           | 11.217093     | \n",
       "| LotArea       | log           |  2.415495     | \n",
       "| LowQualFinSF  | log           |  2.062000     | \n",
       "| OpenPorchSF   | log           |  2.052408     | \n",
       "| EnclosedPorch | log           |  1.933655     | \n",
       "\n",
       "\n"
      ],
      "text/plain": [
       "  Attribute Name Transformation Transformation R.Squared Gain\n",
       "1 BsmtFinSF2     log            39.472132                    \n",
       "2 MiscVal        log            11.217093                    \n",
       "3 LotArea        log             2.415495                    \n",
       "4 LowQualFinSF   log             2.062000                    \n",
       "5 OpenPorchSF    log             2.052408                    \n",
       "6 EnclosedPorch  log             1.933655                    "
      ]
     },
     "metadata": {},
     "output_type": "display_data"
    }
   ],
   "source": [
    "x <- \n",
    "    df.training.numeric %>% \n",
    "    gather(name, value, -sale_price_log) %>%\n",
    "    group_by(name) %>%\n",
    "    nest %>% \n",
    "    mutate(\n",
    "        mod = map(data, ~lm(sale_price_log ~ value, .)),\n",
    "        glance = map(mod, broom::glance),\n",
    "        r.squared = map_dbl(glance, 'r.squared'),\n",
    "        \n",
    "        mod.log = map(data, ~lm(sale_price_log ~ log(value + 1), .)),\n",
    "        glance.log = map(mod.log, broom::glance),\n",
    "        r.squared.log = map_dbl(glance.log, 'r.squared'),\n",
    "        \n",
    "        mod.sqrt = map(data, ~lm(sale_price_log ~ sqrt(value ), .)),\n",
    "        glance.sqrt = map(mod.sqrt, broom::glance),\n",
    "        r.squared.sqrt = map_dbl(glance.sqrt, 'r.squared')\n",
    "    )\n",
    "\n",
    "x %>% \n",
    "    arrange(desc(r.squared)) %>% \n",
    "    select(name, r.squared, r.squared.log, r.squared.sqrt) %>%\n",
    "     mutate(\n",
    "         log = r.squared.log / r.squared, \n",
    "         sqrt = r.squared.sqrt / r.squared\n",
    "     ) %>%\n",
    "     select(name, log, sqrt) %>%\n",
    "     gather(fun, value, -name) %>%\n",
    "     arrange(name, desc(value)) %>%\n",
    "     group_by(name) %>%\n",
    "     filter(row_number() == 1) %>%\n",
    "     arrange(desc(value)) %>%\n",
    "     filter(value > 1.2) %>%\n",
    "     select(`Attribute Name` = name, `Transformation` = fun, `Transformation R.Squared Gain` = value)"
   ]
  },
  {
   "cell_type": "code",
   "execution_count": null,
   "metadata": {
    "collapsed": true
   },
   "outputs": [],
   "source": []
  },
  {
   "cell_type": "code",
   "execution_count": null,
   "metadata": {
    "collapsed": true
   },
   "outputs": [],
   "source": []
  },
  {
   "cell_type": "code",
   "execution_count": null,
   "metadata": {
    "collapsed": true
   },
   "outputs": [],
   "source": []
  },
  {
   "cell_type": "code",
   "execution_count": null,
   "metadata": {
    "collapsed": true
   },
   "outputs": [],
   "source": []
  },
  {
   "cell_type": "code",
   "execution_count": null,
   "metadata": {
    "collapsed": true
   },
   "outputs": [],
   "source": []
  },
  {
   "cell_type": "code",
   "execution_count": null,
   "metadata": {
    "collapsed": true
   },
   "outputs": [],
   "source": []
  },
  {
   "cell_type": "code",
   "execution_count": null,
   "metadata": {
    "collapsed": true
   },
   "outputs": [],
   "source": []
  },
  {
   "cell_type": "code",
   "execution_count": null,
   "metadata": {
    "collapsed": true
   },
   "outputs": [],
   "source": []
  },
  {
   "cell_type": "code",
   "execution_count": null,
   "metadata": {
    "collapsed": true
   },
   "outputs": [],
   "source": []
  },
  {
   "cell_type": "code",
   "execution_count": null,
   "metadata": {
    "collapsed": true
   },
   "outputs": [],
   "source": []
  },
  {
   "cell_type": "code",
   "execution_count": null,
   "metadata": {
    "collapsed": true
   },
   "outputs": [],
   "source": []
  },
  {
   "cell_type": "code",
   "execution_count": null,
   "metadata": {
    "collapsed": true
   },
   "outputs": [],
   "source": []
  },
  {
   "cell_type": "code",
   "execution_count": null,
   "metadata": {
    "collapsed": true
   },
   "outputs": [],
   "source": []
  },
  {
   "cell_type": "code",
   "execution_count": null,
   "metadata": {
    "collapsed": true
   },
   "outputs": [],
   "source": []
  },
  {
   "cell_type": "code",
   "execution_count": null,
   "metadata": {
    "collapsed": true
   },
   "outputs": [],
   "source": []
  },
  {
   "cell_type": "code",
   "execution_count": null,
   "metadata": {
    "collapsed": true
   },
   "outputs": [],
   "source": []
  },
  {
   "cell_type": "code",
   "execution_count": null,
   "metadata": {
    "collapsed": true
   },
   "outputs": [],
   "source": []
  },
  {
   "cell_type": "code",
   "execution_count": null,
   "metadata": {
    "collapsed": true
   },
   "outputs": [],
   "source": []
  },
  {
   "cell_type": "code",
   "execution_count": null,
   "metadata": {
    "collapsed": true
   },
   "outputs": [],
   "source": []
  },
  {
   "cell_type": "code",
   "execution_count": null,
   "metadata": {
    "collapsed": true
   },
   "outputs": [],
   "source": []
  },
  {
   "cell_type": "code",
   "execution_count": null,
   "metadata": {
    "collapsed": true
   },
   "outputs": [],
   "source": []
  },
  {
   "cell_type": "code",
   "execution_count": null,
   "metadata": {
    "collapsed": true
   },
   "outputs": [],
   "source": []
  }
 ],
 "metadata": {
  "kernelspec": {
   "display_name": "R",
   "language": "R",
   "name": "ir"
  },
  "language_info": {
   "codemirror_mode": "r",
   "file_extension": ".r",
   "mimetype": "text/x-r-source",
   "name": "R",
   "pygments_lexer": "r",
   "version": "3.4.2"
  }
 },
 "nbformat": 4,
 "nbformat_minor": 2
}
