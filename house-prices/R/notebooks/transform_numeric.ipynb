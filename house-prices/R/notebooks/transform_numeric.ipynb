{
 "cells": [
  {
   "cell_type": "code",
   "execution_count": 2,
   "metadata": {},
   "outputs": [
    {
     "data": {
      "text/html": [
       "'/mnt/hdd/develop/kaggle/house-prices/R/R'"
      ],
      "text/latex": [
       "'/mnt/hdd/develop/kaggle/house-prices/R/R'"
      ],
      "text/markdown": [
       "'/mnt/hdd/develop/kaggle/house-prices/R/R'"
      ],
      "text/plain": [
       "[1] \"/mnt/hdd/develop/kaggle/house-prices/R/R\""
      ]
     },
     "metadata": {},
     "output_type": "display_data"
    }
   ],
   "source": [
    "setwd(paste0(Sys.getenv('ROOT'), '/R'))\n",
    "getwd()"
   ]
  },
  {
   "cell_type": "code",
   "execution_count": 4,
   "metadata": {
    "collapsed": true
   },
   "outputs": [],
   "source": [
    "source('main.R')\n",
    "\n",
    "data <- kaggle.house$loadData()\n",
    "\n",
    "df.combined <- kaggle.house$getCombinedDataset(data$train, data$test) %>% (kaggle.house$na$fixAll)\n",
    "\n",
    "df.training.raw <- \n",
    "    df.combined %>% \n",
    "    filter(dataSource == \"train\") %>% \n",
    "    mutate(sale_price_log = log(SalePrice)) %>%\n",
    "    select(-dataSource, -SalePrice)\n",
    "    \n",
    "df.testing.raw  <- \n",
    "    df.combined %>% \n",
    "    filter(dataSource == \"test\") %>% \n",
    "    select(-dataSource, -SalePrice)"
   ]
  },
  {
   "cell_type": "code",
   "execution_count": 5,
   "metadata": {},
   "outputs": [
    {
     "data": {
      "text/html": [
       "<ol class=list-inline>\n",
       "\t<li>'BedroomAbvGr'</li>\n",
       "\t<li>'BsmtFinSF1'</li>\n",
       "\t<li>'BsmtFinSF2'</li>\n",
       "\t<li>'BsmtFullBath'</li>\n",
       "\t<li>'BsmtHalfBath'</li>\n",
       "\t<li>'BsmtUnfSF'</li>\n",
       "\t<li>'EnclosedPorch'</li>\n",
       "\t<li>'Fireplaces'</li>\n",
       "\t<li>'FullBath'</li>\n",
       "\t<li>'GarageArea'</li>\n",
       "\t<li>'GarageCars'</li>\n",
       "\t<li>'GarageYrBlt'</li>\n",
       "\t<li>'GrLivArea'</li>\n",
       "\t<li>'HalfBath'</li>\n",
       "\t<li>'KitchenAbvGr'</li>\n",
       "\t<li>'LotArea'</li>\n",
       "\t<li>'LotFrontage'</li>\n",
       "\t<li>'LowQualFinSF'</li>\n",
       "\t<li>'MasVnrArea'</li>\n",
       "\t<li>'MiscVal'</li>\n",
       "\t<li>'MoSold'</li>\n",
       "\t<li>'OpenPorchSF'</li>\n",
       "\t<li>'OverallCond'</li>\n",
       "\t<li>'OverallQual'</li>\n",
       "\t<li>'PoolArea'</li>\n",
       "\t<li>'sale_price_log'</li>\n",
       "\t<li>'ScreenPorch'</li>\n",
       "\t<li>'TotalBsmtSF'</li>\n",
       "\t<li>'TotRmsAbvGrd'</li>\n",
       "\t<li>'WoodDeckSF'</li>\n",
       "\t<li>'X1stFlrSF'</li>\n",
       "\t<li>'X2ndFlrSF'</li>\n",
       "\t<li>'X3SsnPorch'</li>\n",
       "\t<li>'YearBuilt'</li>\n",
       "\t<li>'YearRemodAdd'</li>\n",
       "\t<li>'YrSold'</li>\n",
       "</ol>\n"
      ],
      "text/latex": [
       "\\begin{enumerate*}\n",
       "\\item 'BedroomAbvGr'\n",
       "\\item 'BsmtFinSF1'\n",
       "\\item 'BsmtFinSF2'\n",
       "\\item 'BsmtFullBath'\n",
       "\\item 'BsmtHalfBath'\n",
       "\\item 'BsmtUnfSF'\n",
       "\\item 'EnclosedPorch'\n",
       "\\item 'Fireplaces'\n",
       "\\item 'FullBath'\n",
       "\\item 'GarageArea'\n",
       "\\item 'GarageCars'\n",
       "\\item 'GarageYrBlt'\n",
       "\\item 'GrLivArea'\n",
       "\\item 'HalfBath'\n",
       "\\item 'KitchenAbvGr'\n",
       "\\item 'LotArea'\n",
       "\\item 'LotFrontage'\n",
       "\\item 'LowQualFinSF'\n",
       "\\item 'MasVnrArea'\n",
       "\\item 'MiscVal'\n",
       "\\item 'MoSold'\n",
       "\\item 'OpenPorchSF'\n",
       "\\item 'OverallCond'\n",
       "\\item 'OverallQual'\n",
       "\\item 'PoolArea'\n",
       "\\item 'sale\\_price\\_log'\n",
       "\\item 'ScreenPorch'\n",
       "\\item 'TotalBsmtSF'\n",
       "\\item 'TotRmsAbvGrd'\n",
       "\\item 'WoodDeckSF'\n",
       "\\item 'X1stFlrSF'\n",
       "\\item 'X2ndFlrSF'\n",
       "\\item 'X3SsnPorch'\n",
       "\\item 'YearBuilt'\n",
       "\\item 'YearRemodAdd'\n",
       "\\item 'YrSold'\n",
       "\\end{enumerate*}\n"
      ],
      "text/markdown": [
       "1. 'BedroomAbvGr'\n",
       "2. 'BsmtFinSF1'\n",
       "3. 'BsmtFinSF2'\n",
       "4. 'BsmtFullBath'\n",
       "5. 'BsmtHalfBath'\n",
       "6. 'BsmtUnfSF'\n",
       "7. 'EnclosedPorch'\n",
       "8. 'Fireplaces'\n",
       "9. 'FullBath'\n",
       "10. 'GarageArea'\n",
       "11. 'GarageCars'\n",
       "12. 'GarageYrBlt'\n",
       "13. 'GrLivArea'\n",
       "14. 'HalfBath'\n",
       "15. 'KitchenAbvGr'\n",
       "16. 'LotArea'\n",
       "17. 'LotFrontage'\n",
       "18. 'LowQualFinSF'\n",
       "19. 'MasVnrArea'\n",
       "20. 'MiscVal'\n",
       "21. 'MoSold'\n",
       "22. 'OpenPorchSF'\n",
       "23. 'OverallCond'\n",
       "24. 'OverallQual'\n",
       "25. 'PoolArea'\n",
       "26. 'sale_price_log'\n",
       "27. 'ScreenPorch'\n",
       "28. 'TotalBsmtSF'\n",
       "29. 'TotRmsAbvGrd'\n",
       "30. 'WoodDeckSF'\n",
       "31. 'X1stFlrSF'\n",
       "32. 'X2ndFlrSF'\n",
       "33. 'X3SsnPorch'\n",
       "34. 'YearBuilt'\n",
       "35. 'YearRemodAdd'\n",
       "36. 'YrSold'\n",
       "\n",
       "\n"
      ],
      "text/plain": [
       " [1] \"BedroomAbvGr\"   \"BsmtFinSF1\"     \"BsmtFinSF2\"     \"BsmtFullBath\"  \n",
       " [5] \"BsmtHalfBath\"   \"BsmtUnfSF\"      \"EnclosedPorch\"  \"Fireplaces\"    \n",
       " [9] \"FullBath\"       \"GarageArea\"     \"GarageCars\"     \"GarageYrBlt\"   \n",
       "[13] \"GrLivArea\"      \"HalfBath\"       \"KitchenAbvGr\"   \"LotArea\"       \n",
       "[17] \"LotFrontage\"    \"LowQualFinSF\"   \"MasVnrArea\"     \"MiscVal\"       \n",
       "[21] \"MoSold\"         \"OpenPorchSF\"    \"OverallCond\"    \"OverallQual\"   \n",
       "[25] \"PoolArea\"       \"sale_price_log\" \"ScreenPorch\"    \"TotalBsmtSF\"   \n",
       "[29] \"TotRmsAbvGrd\"   \"WoodDeckSF\"     \"X1stFlrSF\"      \"X2ndFlrSF\"     \n",
       "[33] \"X3SsnPorch\"     \"YearBuilt\"      \"YearRemodAdd\"   \"YrSold\"        "
      ]
     },
     "metadata": {},
     "output_type": "display_data"
    }
   ],
   "source": [
    "df.training.numeric <- \n",
    "    df.training.raw %>%\n",
    "    select(-dplyr::one_of(kaggle.house$trans$type1TransContainer %>% names)) %>%\n",
    "    select(-dplyr::one_of(kaggle.house$trans$type2TransContainer %>% names))\n",
    "\n",
    "# Should be only numeric columns\n",
    "stopifnot(0 == df.training.numeric %>% purrr::map(function (col) { !is.numeric(col) }) %>% unlist %>% sum)\n",
    "\n",
    "df.training.numeric %>% colnames %>% sort"
   ]
  },
  {
   "cell_type": "code",
   "execution_count": 49,
   "metadata": {},
   "outputs": [
    {
     "data": {
      "text/html": [
       "<table>\n",
       "<thead><tr><th scope=col>name</th><th scope=col>r2</th><th scope=col>log.gain</th><th scope=col>sqrt.gain</th><th scope=col>max.gain</th></tr></thead>\n",
       "<tbody>\n",
       "\t<tr><td>GrLivArea    </td><td>49.129817225 </td><td> 1.0854313   </td><td> 1.063073    </td><td> 1.085431    </td></tr>\n",
       "\t<tr><td>X1stFlrSF    </td><td>35.638636813 </td><td> 1.0405171   </td><td> 1.039713    </td><td> 1.040517    </td></tr>\n",
       "\t<tr><td>TotRmsAbvGrd </td><td>28.560709183 </td><td> 1.0209757   </td><td> 1.019056    </td><td> 1.020976    </td></tr>\n",
       "\t<tr><td>Fireplaces   </td><td>23.956074218 </td><td> 1.0811631   </td><td> 1.099671    </td><td> 1.099671    </td></tr>\n",
       "\t<tr><td>MasVnrArea   </td><td>18.213701315 </td><td> 0.9379289   </td><td> 1.065036    </td><td> 1.065036    </td></tr>\n",
       "\t<tr><td>WoodDeckSF   </td><td>11.164624765 </td><td> 1.0540031   </td><td> 1.124479    </td><td> 1.124479    </td></tr>\n",
       "\t<tr><td>OpenPorchSF  </td><td>10.307501084 </td><td> 2.0524076   </td><td> 1.774221    </td><td> 2.052408    </td></tr>\n",
       "\t<tr><td>HalfBath     </td><td> 9.858485326 </td><td> 1.0447120   </td><td> 1.060540    </td><td> 1.060540    </td></tr>\n",
       "\t<tr><td>LotArea      </td><td> 6.621352700 </td><td> 2.4154951   </td><td> 2.038663    </td><td> 2.415495    </td></tr>\n",
       "\t<tr><td>BsmtFullBath </td><td> 5.580182959 </td><td> 1.0231674   </td><td> 1.027112    </td><td> 1.027112    </td></tr>\n",
       "\t<tr><td>EnclosedPorch</td><td> 2.221598639 </td><td> 1.9336554   </td><td> 1.581836    </td><td> 1.933655    </td></tr>\n",
       "\t<tr><td>PoolArea     </td><td> 0.487173372 </td><td> 1.0043302   </td><td> 1.006911    </td><td> 1.006911    </td></tr>\n",
       "\t<tr><td>X3SsnPorch   </td><td> 0.301403487 </td><td> 1.1481657   </td><td> 1.134712    </td><td> 1.148166    </td></tr>\n",
       "\t<tr><td>LowQualFinSF </td><td> 0.144117442 </td><td> 2.0620002   </td><td> 1.600845    </td><td> 2.062000    </td></tr>\n",
       "\t<tr><td>MiscVal      </td><td> 0.040083324 </td><td>11.2170925   </td><td> 5.810064    </td><td>11.217093    </td></tr>\n",
       "\t<tr><td>BsmtFinSF2   </td><td> 0.002335219 </td><td>39.4721322   </td><td>12.658867    </td><td>39.472132    </td></tr>\n",
       "</tbody>\n",
       "</table>\n"
      ],
      "text/latex": [
       "\\begin{tabular}{r|lllll}\n",
       " name & r2 & log.gain & sqrt.gain & max.gain\\\\\n",
       "\\hline\n",
       "\t GrLivArea     & 49.129817225  &  1.0854313    &  1.063073     &  1.085431    \\\\\n",
       "\t X1stFlrSF     & 35.638636813  &  1.0405171    &  1.039713     &  1.040517    \\\\\n",
       "\t TotRmsAbvGrd  & 28.560709183  &  1.0209757    &  1.019056     &  1.020976    \\\\\n",
       "\t Fireplaces    & 23.956074218  &  1.0811631    &  1.099671     &  1.099671    \\\\\n",
       "\t MasVnrArea    & 18.213701315  &  0.9379289    &  1.065036     &  1.065036    \\\\\n",
       "\t WoodDeckSF    & 11.164624765  &  1.0540031    &  1.124479     &  1.124479    \\\\\n",
       "\t OpenPorchSF   & 10.307501084  &  2.0524076    &  1.774221     &  2.052408    \\\\\n",
       "\t HalfBath      &  9.858485326  &  1.0447120    &  1.060540     &  1.060540    \\\\\n",
       "\t LotArea       &  6.621352700  &  2.4154951    &  2.038663     &  2.415495    \\\\\n",
       "\t BsmtFullBath  &  5.580182959  &  1.0231674    &  1.027112     &  1.027112    \\\\\n",
       "\t EnclosedPorch &  2.221598639  &  1.9336554    &  1.581836     &  1.933655    \\\\\n",
       "\t PoolArea      &  0.487173372  &  1.0043302    &  1.006911     &  1.006911    \\\\\n",
       "\t X3SsnPorch    &  0.301403487  &  1.1481657    &  1.134712     &  1.148166    \\\\\n",
       "\t LowQualFinSF  &  0.144117442  &  2.0620002    &  1.600845     &  2.062000    \\\\\n",
       "\t MiscVal       &  0.040083324  & 11.2170925    &  5.810064     & 11.217093    \\\\\n",
       "\t BsmtFinSF2    &  0.002335219  & 39.4721322    & 12.658867     & 39.472132    \\\\\n",
       "\\end{tabular}\n"
      ],
      "text/markdown": [
       "\n",
       "name | r2 | log.gain | sqrt.gain | max.gain | \n",
       "|---|---|---|---|---|---|---|---|---|---|---|---|---|---|---|---|\n",
       "| GrLivArea     | 49.129817225  |  1.0854313    |  1.063073     |  1.085431     | \n",
       "| X1stFlrSF     | 35.638636813  |  1.0405171    |  1.039713     |  1.040517     | \n",
       "| TotRmsAbvGrd  | 28.560709183  |  1.0209757    |  1.019056     |  1.020976     | \n",
       "| Fireplaces    | 23.956074218  |  1.0811631    |  1.099671     |  1.099671     | \n",
       "| MasVnrArea    | 18.213701315  |  0.9379289    |  1.065036     |  1.065036     | \n",
       "| WoodDeckSF    | 11.164624765  |  1.0540031    |  1.124479     |  1.124479     | \n",
       "| OpenPorchSF   | 10.307501084  |  2.0524076    |  1.774221     |  2.052408     | \n",
       "| HalfBath      |  9.858485326  |  1.0447120    |  1.060540     |  1.060540     | \n",
       "| LotArea       |  6.621352700  |  2.4154951    |  2.038663     |  2.415495     | \n",
       "| BsmtFullBath  |  5.580182959  |  1.0231674    |  1.027112     |  1.027112     | \n",
       "| EnclosedPorch |  2.221598639  |  1.9336554    |  1.581836     |  1.933655     | \n",
       "| PoolArea      |  0.487173372  |  1.0043302    |  1.006911     |  1.006911     | \n",
       "| X3SsnPorch    |  0.301403487  |  1.1481657    |  1.134712     |  1.148166     | \n",
       "| LowQualFinSF  |  0.144117442  |  2.0620002    |  1.600845     |  2.062000     | \n",
       "| MiscVal       |  0.040083324  | 11.2170925    |  5.810064     | 11.217093     | \n",
       "| BsmtFinSF2    |  0.002335219  | 39.4721322    | 12.658867     | 39.472132     | \n",
       "\n",
       "\n"
      ],
      "text/plain": [
       "   name          r2           log.gain   sqrt.gain max.gain \n",
       "1  GrLivArea     49.129817225  1.0854313  1.063073  1.085431\n",
       "2  X1stFlrSF     35.638636813  1.0405171  1.039713  1.040517\n",
       "3  TotRmsAbvGrd  28.560709183  1.0209757  1.019056  1.020976\n",
       "4  Fireplaces    23.956074218  1.0811631  1.099671  1.099671\n",
       "5  MasVnrArea    18.213701315  0.9379289  1.065036  1.065036\n",
       "6  WoodDeckSF    11.164624765  1.0540031  1.124479  1.124479\n",
       "7  OpenPorchSF   10.307501084  2.0524076  1.774221  2.052408\n",
       "8  HalfBath       9.858485326  1.0447120  1.060540  1.060540\n",
       "9  LotArea        6.621352700  2.4154951  2.038663  2.415495\n",
       "10 BsmtFullBath   5.580182959  1.0231674  1.027112  1.027112\n",
       "11 EnclosedPorch  2.221598639  1.9336554  1.581836  1.933655\n",
       "12 PoolArea       0.487173372  1.0043302  1.006911  1.006911\n",
       "13 X3SsnPorch     0.301403487  1.1481657  1.134712  1.148166\n",
       "14 LowQualFinSF   0.144117442  2.0620002  1.600845  2.062000\n",
       "15 MiscVal        0.040083324 11.2170925  5.810064 11.217093\n",
       "16 BsmtFinSF2     0.002335219 39.4721322 12.658867 39.472132"
      ]
     },
     "metadata": {},
     "output_type": "display_data"
    }
   ],
   "source": [
    "x <- \n",
    "    df.training.numeric %>% \n",
    "    gather(name, value, -sale_price_log) %>%\n",
    "    mutate(value.log = log(value + 1), value.sqrt = sqrt(value)) %>%\n",
    "    group_by(name) %>%\n",
    "    nest %>% \n",
    "    mutate(\n",
    "        mod = map(data, ~lm(sale_price_log ~ value, .)),\n",
    "        glance = map(mod, broom::glance),\n",
    "        r.squared = map_dbl(glance, 'r.squared'),\n",
    "        \n",
    "        mod.log = map(data, ~lm(sale_price_log ~ value.log, .)),\n",
    "        glance.log = map(mod.log, broom::glance),\n",
    "        r.squared.log = map_dbl(glance.log, 'r.squared'),\n",
    "        \n",
    "        mod.sqrt = map(data, ~lm(sale_price_log ~ value.sqrt, .)),\n",
    "        glance.sqrt = map(mod.sqrt, broom::glance),\n",
    "        r.squared.sqrt = map_dbl(glance.sqrt, 'r.squared')\n",
    "    ) %>%\n",
    "    select(-data)\n",
    "\n",
    "x %>% \n",
    "    select(name, r.squared, r.squared.log, r.squared.sqrt) %>%\n",
    "    mutate(\n",
    "        r2 = r.squared * 100,\n",
    "        log.gain = r.squared.log / r.squared, \n",
    "        sqrt.gain = r.squared.sqrt / r.squared,\n",
    "        max.gain = pmax(log.gain, sqrt.gain)\n",
    "     ) %>%\n",
    "    select(name, r2, log.gain, sqrt.gain,max.gain) %>%\n",
    "    filter(max.gain > 1) %>%\n",
    "    arrange(desc(r2), max.gain)\n",
    "\n",
    "#      gather(fun, value, -name) %>%\n",
    "#      arrange(name, desc(value)) %>%\n",
    "#      group_by(name) %>%\n",
    "#      filter(row_number() == 1) %>%\n",
    "#      arrange(desc(value)) %>%\n",
    "#      filter(value > 1.2) %>%\n",
    "#      select(`Attribute Name` = name, `Transformation` = fun, `Transformation R.Squared Gain` = value)"
   ]
  },
  {
   "cell_type": "code",
   "execution_count": 35,
   "metadata": {},
   "outputs": [
    {
     "data": {
      "text/html": [
       "<table>\n",
       "<thead><tr><th scope=col>name</th><th scope=col>x2</th><th scope=col>x15</th></tr></thead>\n",
       "<tbody>\n",
       "\t<tr><td>LotFrontage  </td><td>  1.301840   </td><td>  1.716061   </td></tr>\n",
       "\t<tr><td>LotArea      </td><td>  2.036836   </td><td>  2.261263   </td></tr>\n",
       "\t<tr><td>OverallCond  </td><td> 22.680661   </td><td> 26.521123   </td></tr>\n",
       "\t<tr><td>BsmtFinSF2   </td><td>364.816081   </td><td>361.474330   </td></tr>\n",
       "\t<tr><td>BsmtUnfSF    </td><td>  1.303291   </td><td>  1.196365   </td></tr>\n",
       "\t<tr><td>X2ndFlrSF    </td><td>  1.850655   </td><td>  1.951890   </td></tr>\n",
       "\t<tr><td>LowQualFinSF </td><td>  4.086344   </td><td>  4.030085   </td></tr>\n",
       "\t<tr><td>BsmtHalfBath </td><td>  1.601609   </td><td>  1.601609   </td></tr>\n",
       "\t<tr><td>GarageYrBlt  </td><td>  2.933359   </td><td>  2.928227   </td></tr>\n",
       "\t<tr><td>OpenPorchSF  </td><td>  1.731154   </td><td>  1.911578   </td></tr>\n",
       "\t<tr><td>EnclosedPorch</td><td>  2.083051   </td><td>  2.327988   </td></tr>\n",
       "\t<tr><td>X3SsnPorch   </td><td>  1.229957   </td><td>  1.214894   </td></tr>\n",
       "\t<tr><td>MiscVal      </td><td>  3.504537   </td><td>  4.541564   </td></tr>\n",
       "</tbody>\n",
       "</table>\n"
      ],
      "text/latex": [
       "\\begin{tabular}{r|lll}\n",
       " name & x2 & x15\\\\\n",
       "\\hline\n",
       "\t LotFrontage   &   1.301840    &   1.716061   \\\\\n",
       "\t LotArea       &   2.036836    &   2.261263   \\\\\n",
       "\t OverallCond   &  22.680661    &  26.521123   \\\\\n",
       "\t BsmtFinSF2    & 364.816081    & 361.474330   \\\\\n",
       "\t BsmtUnfSF     &   1.303291    &   1.196365   \\\\\n",
       "\t X2ndFlrSF     &   1.850655    &   1.951890   \\\\\n",
       "\t LowQualFinSF  &   4.086344    &   4.030085   \\\\\n",
       "\t BsmtHalfBath  &   1.601609    &   1.601609   \\\\\n",
       "\t GarageYrBlt   &   2.933359    &   2.928227   \\\\\n",
       "\t OpenPorchSF   &   1.731154    &   1.911578   \\\\\n",
       "\t EnclosedPorch &   2.083051    &   2.327988   \\\\\n",
       "\t X3SsnPorch    &   1.229957    &   1.214894   \\\\\n",
       "\t MiscVal       &   3.504537    &   4.541564   \\\\\n",
       "\\end{tabular}\n"
      ],
      "text/markdown": [
       "\n",
       "name | x2 | x15 | \n",
       "|---|---|---|---|---|---|---|---|---|---|---|---|---|\n",
       "| LotFrontage   |   1.301840    |   1.716061    | \n",
       "| LotArea       |   2.036836    |   2.261263    | \n",
       "| OverallCond   |  22.680661    |  26.521123    | \n",
       "| BsmtFinSF2    | 364.816081    | 361.474330    | \n",
       "| BsmtUnfSF     |   1.303291    |   1.196365    | \n",
       "| X2ndFlrSF     |   1.850655    |   1.951890    | \n",
       "| LowQualFinSF  |   4.086344    |   4.030085    | \n",
       "| BsmtHalfBath  |   1.601609    |   1.601609    | \n",
       "| GarageYrBlt   |   2.933359    |   2.928227    | \n",
       "| OpenPorchSF   |   1.731154    |   1.911578    | \n",
       "| EnclosedPorch |   2.083051    |   2.327988    | \n",
       "| X3SsnPorch    |   1.229957    |   1.214894    | \n",
       "| MiscVal       |   3.504537    |   4.541564    | \n",
       "\n",
       "\n"
      ],
      "text/plain": [
       "   name          x2         x15       \n",
       "1  LotFrontage     1.301840   1.716061\n",
       "2  LotArea         2.036836   2.261263\n",
       "3  OverallCond    22.680661  26.521123\n",
       "4  BsmtFinSF2    364.816081 361.474330\n",
       "5  BsmtUnfSF       1.303291   1.196365\n",
       "6  X2ndFlrSF       1.850655   1.951890\n",
       "7  LowQualFinSF    4.086344   4.030085\n",
       "8  BsmtHalfBath    1.601609   1.601609\n",
       "9  GarageYrBlt     2.933359   2.928227\n",
       "10 OpenPorchSF     1.731154   1.911578\n",
       "11 EnclosedPorch   2.083051   2.327988\n",
       "12 X3SsnPorch      1.229957   1.214894\n",
       "13 MiscVal         3.504537   4.541564"
      ]
     },
     "metadata": {},
     "output_type": "display_data"
    }
   ],
   "source": [
    "x <- \n",
    "    df.training.numeric %>% \n",
    "    gather(name, value, -sale_price_log) %>%\n",
    "    mutate(value.x2 = value*value, value.x15 = value^(1.5)) %>%\n",
    "    group_by(name) %>%\n",
    "    nest %>% \n",
    "    mutate(\n",
    "        mod = map(data, ~lm(sale_price_log ~ value, .)),\n",
    "        glance = map(mod, broom::glance),\n",
    "        r.squared = map_dbl(glance, 'r.squared'),\n",
    "        \n",
    "        mod.x2 = map(data, ~lm(sale_price_log ~ value + value.x2, .)),\n",
    "        glance.x2 = map(mod.x2, broom::glance),\n",
    "        r.squared.x2 = map_dbl(glance.x2, 'r.squared'),\n",
    "        \n",
    "        mod.x15 = map(data, ~lm(sale_price_log ~ value + value.x15, .)),\n",
    "        glance.x15 = map(mod.x15, broom::glance),\n",
    "        r.squared.x15 = map_dbl(glance.x15, 'r.squared')\n",
    "    ) %>%\n",
    "    select(-data, -contains(\"mod\"))\n",
    "\n",
    "x %>% \n",
    "    select(name, r.squared, r.squared.x2, r.squared.x15) %>%\n",
    "    mutate(\n",
    "        x2 = r.squared.x2 / r.squared,\n",
    "        x15 = r.squared.x15 / r.squared\n",
    "    ) %>%\n",
    "    select(name, x2, x15) %>%\n",
    "    filter(x2 > 1.2 | x15 > 1.2)"
   ]
  },
  {
   "cell_type": "code",
   "execution_count": null,
   "metadata": {
    "collapsed": true
   },
   "outputs": [],
   "source": []
  },
  {
   "cell_type": "code",
   "execution_count": null,
   "metadata": {
    "collapsed": true
   },
   "outputs": [],
   "source": []
  },
  {
   "cell_type": "code",
   "execution_count": null,
   "metadata": {
    "collapsed": true
   },
   "outputs": [],
   "source": []
  },
  {
   "cell_type": "code",
   "execution_count": null,
   "metadata": {
    "collapsed": true
   },
   "outputs": [],
   "source": []
  },
  {
   "cell_type": "code",
   "execution_count": null,
   "metadata": {
    "collapsed": true
   },
   "outputs": [],
   "source": []
  },
  {
   "cell_type": "code",
   "execution_count": null,
   "metadata": {
    "collapsed": true
   },
   "outputs": [],
   "source": []
  },
  {
   "cell_type": "code",
   "execution_count": null,
   "metadata": {
    "collapsed": true
   },
   "outputs": [],
   "source": []
  },
  {
   "cell_type": "code",
   "execution_count": null,
   "metadata": {
    "collapsed": true
   },
   "outputs": [],
   "source": []
  },
  {
   "cell_type": "code",
   "execution_count": null,
   "metadata": {
    "collapsed": true
   },
   "outputs": [],
   "source": []
  },
  {
   "cell_type": "code",
   "execution_count": null,
   "metadata": {
    "collapsed": true
   },
   "outputs": [],
   "source": []
  },
  {
   "cell_type": "code",
   "execution_count": null,
   "metadata": {
    "collapsed": true
   },
   "outputs": [],
   "source": []
  },
  {
   "cell_type": "code",
   "execution_count": null,
   "metadata": {
    "collapsed": true
   },
   "outputs": [],
   "source": []
  },
  {
   "cell_type": "code",
   "execution_count": null,
   "metadata": {
    "collapsed": true
   },
   "outputs": [],
   "source": []
  },
  {
   "cell_type": "code",
   "execution_count": null,
   "metadata": {
    "collapsed": true
   },
   "outputs": [],
   "source": []
  },
  {
   "cell_type": "code",
   "execution_count": null,
   "metadata": {
    "collapsed": true
   },
   "outputs": [],
   "source": []
  },
  {
   "cell_type": "code",
   "execution_count": null,
   "metadata": {
    "collapsed": true
   },
   "outputs": [],
   "source": []
  },
  {
   "cell_type": "code",
   "execution_count": null,
   "metadata": {
    "collapsed": true
   },
   "outputs": [],
   "source": []
  },
  {
   "cell_type": "code",
   "execution_count": null,
   "metadata": {
    "collapsed": true
   },
   "outputs": [],
   "source": []
  },
  {
   "cell_type": "code",
   "execution_count": null,
   "metadata": {
    "collapsed": true
   },
   "outputs": [],
   "source": []
  }
 ],
 "metadata": {
  "kernelspec": {
   "display_name": "R",
   "language": "R",
   "name": "ir"
  },
  "language_info": {
   "codemirror_mode": "r",
   "file_extension": ".r",
   "mimetype": "text/x-r-source",
   "name": "R",
   "pygments_lexer": "r",
   "version": "3.4.2"
  }
 },
 "nbformat": 4,
 "nbformat_minor": 2
}
