{
 "cells": [
  {
   "cell_type": "code",
   "execution_count": 2,
   "metadata": {},
   "outputs": [
    {
     "data": {
      "text/html": [
       "'/mnt/hdd/develop/kaggle/house-prices/R/R'"
      ],
      "text/latex": [
       "'/mnt/hdd/develop/kaggle/house-prices/R/R'"
      ],
      "text/markdown": [
       "'/mnt/hdd/develop/kaggle/house-prices/R/R'"
      ],
      "text/plain": [
       "[1] \"/mnt/hdd/develop/kaggle/house-prices/R/R\""
      ]
     },
     "metadata": {},
     "output_type": "display_data"
    }
   ],
   "source": [
    "setwd(paste0(Sys.getenv('ROOT'), '/R'))\n",
    "getwd()"
   ]
  },
  {
   "cell_type": "code",
   "execution_count": 4,
   "metadata": {
    "collapsed": true
   },
   "outputs": [],
   "source": [
    "source('main.R')\n",
    "\n",
    "data <- kaggle.house$loadData()\n",
    "\n",
    "df.combined <- kaggle.house$getCombinedDataset(data$train, data$test) %>% (kaggle.house$na$fixAll)\n",
    "\n",
    "df.training.raw <- \n",
    "    df.combined %>% \n",
    "    filter(dataSource == \"train\") %>% \n",
    "    mutate(sale_price_log = log(SalePrice)) %>%\n",
    "    select(-dataSource, -SalePrice)\n",
    "    \n",
    "df.testing.raw  <- \n",
    "    df.combined %>% \n",
    "    filter(dataSource == \"test\") %>% \n",
    "    select(-dataSource, -SalePrice)"
   ]
  },
  {
   "cell_type": "code",
   "execution_count": 5,
   "metadata": {},
   "outputs": [
    {
     "data": {
      "text/html": [
       "<ol class=list-inline>\n",
       "\t<li>'BedroomAbvGr'</li>\n",
       "\t<li>'BsmtFinSF1'</li>\n",
       "\t<li>'BsmtFinSF2'</li>\n",
       "\t<li>'BsmtFullBath'</li>\n",
       "\t<li>'BsmtHalfBath'</li>\n",
       "\t<li>'BsmtUnfSF'</li>\n",
       "\t<li>'EnclosedPorch'</li>\n",
       "\t<li>'Fireplaces'</li>\n",
       "\t<li>'FullBath'</li>\n",
       "\t<li>'GarageArea'</li>\n",
       "\t<li>'GarageCars'</li>\n",
       "\t<li>'GarageYrBlt'</li>\n",
       "\t<li>'GrLivArea'</li>\n",
       "\t<li>'HalfBath'</li>\n",
       "\t<li>'KitchenAbvGr'</li>\n",
       "\t<li>'LotArea'</li>\n",
       "\t<li>'LotFrontage'</li>\n",
       "\t<li>'LowQualFinSF'</li>\n",
       "\t<li>'MasVnrArea'</li>\n",
       "\t<li>'MiscVal'</li>\n",
       "\t<li>'MoSold'</li>\n",
       "\t<li>'OpenPorchSF'</li>\n",
       "\t<li>'OverallCond'</li>\n",
       "\t<li>'OverallQual'</li>\n",
       "\t<li>'PoolArea'</li>\n",
       "\t<li>'sale_price_log'</li>\n",
       "\t<li>'ScreenPorch'</li>\n",
       "\t<li>'TotalBsmtSF'</li>\n",
       "\t<li>'TotRmsAbvGrd'</li>\n",
       "\t<li>'WoodDeckSF'</li>\n",
       "\t<li>'X1stFlrSF'</li>\n",
       "\t<li>'X2ndFlrSF'</li>\n",
       "\t<li>'X3SsnPorch'</li>\n",
       "\t<li>'YearBuilt'</li>\n",
       "\t<li>'YearRemodAdd'</li>\n",
       "\t<li>'YrSold'</li>\n",
       "</ol>\n"
      ],
      "text/latex": [
       "\\begin{enumerate*}\n",
       "\\item 'BedroomAbvGr'\n",
       "\\item 'BsmtFinSF1'\n",
       "\\item 'BsmtFinSF2'\n",
       "\\item 'BsmtFullBath'\n",
       "\\item 'BsmtHalfBath'\n",
       "\\item 'BsmtUnfSF'\n",
       "\\item 'EnclosedPorch'\n",
       "\\item 'Fireplaces'\n",
       "\\item 'FullBath'\n",
       "\\item 'GarageArea'\n",
       "\\item 'GarageCars'\n",
       "\\item 'GarageYrBlt'\n",
       "\\item 'GrLivArea'\n",
       "\\item 'HalfBath'\n",
       "\\item 'KitchenAbvGr'\n",
       "\\item 'LotArea'\n",
       "\\item 'LotFrontage'\n",
       "\\item 'LowQualFinSF'\n",
       "\\item 'MasVnrArea'\n",
       "\\item 'MiscVal'\n",
       "\\item 'MoSold'\n",
       "\\item 'OpenPorchSF'\n",
       "\\item 'OverallCond'\n",
       "\\item 'OverallQual'\n",
       "\\item 'PoolArea'\n",
       "\\item 'sale\\_price\\_log'\n",
       "\\item 'ScreenPorch'\n",
       "\\item 'TotalBsmtSF'\n",
       "\\item 'TotRmsAbvGrd'\n",
       "\\item 'WoodDeckSF'\n",
       "\\item 'X1stFlrSF'\n",
       "\\item 'X2ndFlrSF'\n",
       "\\item 'X3SsnPorch'\n",
       "\\item 'YearBuilt'\n",
       "\\item 'YearRemodAdd'\n",
       "\\item 'YrSold'\n",
       "\\end{enumerate*}\n"
      ],
      "text/markdown": [
       "1. 'BedroomAbvGr'\n",
       "2. 'BsmtFinSF1'\n",
       "3. 'BsmtFinSF2'\n",
       "4. 'BsmtFullBath'\n",
       "5. 'BsmtHalfBath'\n",
       "6. 'BsmtUnfSF'\n",
       "7. 'EnclosedPorch'\n",
       "8. 'Fireplaces'\n",
       "9. 'FullBath'\n",
       "10. 'GarageArea'\n",
       "11. 'GarageCars'\n",
       "12. 'GarageYrBlt'\n",
       "13. 'GrLivArea'\n",
       "14. 'HalfBath'\n",
       "15. 'KitchenAbvGr'\n",
       "16. 'LotArea'\n",
       "17. 'LotFrontage'\n",
       "18. 'LowQualFinSF'\n",
       "19. 'MasVnrArea'\n",
       "20. 'MiscVal'\n",
       "21. 'MoSold'\n",
       "22. 'OpenPorchSF'\n",
       "23. 'OverallCond'\n",
       "24. 'OverallQual'\n",
       "25. 'PoolArea'\n",
       "26. 'sale_price_log'\n",
       "27. 'ScreenPorch'\n",
       "28. 'TotalBsmtSF'\n",
       "29. 'TotRmsAbvGrd'\n",
       "30. 'WoodDeckSF'\n",
       "31. 'X1stFlrSF'\n",
       "32. 'X2ndFlrSF'\n",
       "33. 'X3SsnPorch'\n",
       "34. 'YearBuilt'\n",
       "35. 'YearRemodAdd'\n",
       "36. 'YrSold'\n",
       "\n",
       "\n"
      ],
      "text/plain": [
       " [1] \"BedroomAbvGr\"   \"BsmtFinSF1\"     \"BsmtFinSF2\"     \"BsmtFullBath\"  \n",
       " [5] \"BsmtHalfBath\"   \"BsmtUnfSF\"      \"EnclosedPorch\"  \"Fireplaces\"    \n",
       " [9] \"FullBath\"       \"GarageArea\"     \"GarageCars\"     \"GarageYrBlt\"   \n",
       "[13] \"GrLivArea\"      \"HalfBath\"       \"KitchenAbvGr\"   \"LotArea\"       \n",
       "[17] \"LotFrontage\"    \"LowQualFinSF\"   \"MasVnrArea\"     \"MiscVal\"       \n",
       "[21] \"MoSold\"         \"OpenPorchSF\"    \"OverallCond\"    \"OverallQual\"   \n",
       "[25] \"PoolArea\"       \"sale_price_log\" \"ScreenPorch\"    \"TotalBsmtSF\"   \n",
       "[29] \"TotRmsAbvGrd\"   \"WoodDeckSF\"     \"X1stFlrSF\"      \"X2ndFlrSF\"     \n",
       "[33] \"X3SsnPorch\"     \"YearBuilt\"      \"YearRemodAdd\"   \"YrSold\"        "
      ]
     },
     "metadata": {},
     "output_type": "display_data"
    }
   ],
   "source": [
    "df.training.numeric <- \n",
    "    df.training.raw %>%\n",
    "    select(-dplyr::one_of(kaggle.house$trans$type1TransContainer %>% names)) %>%\n",
    "    select(-dplyr::one_of(kaggle.house$trans$type2TransContainer %>% names))\n",
    "\n",
    "# Should be only numeric columns\n",
    "stopifnot(0 == df.training.numeric %>% purrr::map(function (col) { !is.numeric(col) }) %>% unlist %>% sum)\n",
    "\n",
    "df.training.numeric %>% colnames %>% sort"
   ]
  },
  {
   "cell_type": "code",
   "execution_count": 82,
   "metadata": {},
   "outputs": [
    {
     "data": {},
     "metadata": {},
     "output_type": "display_data"
    },
    {
     "data": {
      "image/png": "[encoded data removed]",
      "text/plain": [
       "plot without title"
      ]
     },
     "metadata": {},
     "output_type": "display_data"
    }
   ],
   "source": [
    "options(repr.plot.width = 5, repr.plot.height = 4)\n",
    "\n",
    "ggplot(data.frame(x=c(0, 2)), aes(x)) + \n",
    "    stat_function(fun = function (x) { x }, colour = \"red\") +\n",
    "    stat_function(fun = function (x) { x^2 }, colour = \"blue\") +\n",
    "    stat_function(fun = function (x) { x + x^2 }, colour = \"green\") +\n",
    "    stat_function(fun = function (x) { log(x + 1) }, colour = \"black\")"
   ]
  },
  {
   "cell_type": "code",
   "execution_count": 54,
   "metadata": {},
   "outputs": [
    {
     "data": {
      "text/html": [
       "<table>\n",
       "<thead><tr><th scope=col>name</th><th scope=col>r2</th><th scope=col>log.gain</th><th scope=col>sqrt.gain</th><th scope=col>max.gain</th><th scope=col>r2.new</th></tr></thead>\n",
       "<tbody>\n",
       "\t<tr><td>GrLivArea  </td><td>49.129817  </td><td>1.0854313  </td><td>1.063073   </td><td>1.085431   </td><td>53.32704   </td></tr>\n",
       "\t<tr><td>Fireplaces </td><td>23.956074  </td><td>1.0811631  </td><td>1.099671   </td><td>1.099671   </td><td>26.34379   </td></tr>\n",
       "\t<tr><td>MasVnrArea </td><td>18.213701  </td><td>0.9379289  </td><td>1.065036   </td><td>1.065036   </td><td>19.39825   </td></tr>\n",
       "\t<tr><td>WoodDeckSF </td><td>11.164625  </td><td>1.0540031  </td><td>1.124479   </td><td>1.124479   </td><td>12.55438   </td></tr>\n",
       "\t<tr><td>OpenPorchSF</td><td>10.307501  </td><td>2.0524076  </td><td>1.774221   </td><td>2.052408   </td><td>21.15519   </td></tr>\n",
       "\t<tr><td>HalfBath   </td><td> 9.858485  </td><td>1.0447120  </td><td>1.060540   </td><td>1.060540   </td><td>10.45532   </td></tr>\n",
       "\t<tr><td>LotArea    </td><td> 6.621353  </td><td>2.4154951  </td><td>2.038663   </td><td>2.415495   </td><td>15.99384   </td></tr>\n",
       "</tbody>\n",
       "</table>\n"
      ],
      "text/latex": [
       "\\begin{tabular}{r|llllll}\n",
       " name & r2 & log.gain & sqrt.gain & max.gain & r2.new\\\\\n",
       "\\hline\n",
       "\t GrLivArea   & 49.129817   & 1.0854313   & 1.063073    & 1.085431    & 53.32704   \\\\\n",
       "\t Fireplaces  & 23.956074   & 1.0811631   & 1.099671    & 1.099671    & 26.34379   \\\\\n",
       "\t MasVnrArea  & 18.213701   & 0.9379289   & 1.065036    & 1.065036    & 19.39825   \\\\\n",
       "\t WoodDeckSF  & 11.164625   & 1.0540031   & 1.124479    & 1.124479    & 12.55438   \\\\\n",
       "\t OpenPorchSF & 10.307501   & 2.0524076   & 1.774221    & 2.052408    & 21.15519   \\\\\n",
       "\t HalfBath    &  9.858485   & 1.0447120   & 1.060540    & 1.060540    & 10.45532   \\\\\n",
       "\t LotArea     &  6.621353   & 2.4154951   & 2.038663    & 2.415495    & 15.99384   \\\\\n",
       "\\end{tabular}\n"
      ],
      "text/markdown": [
       "\n",
       "name | r2 | log.gain | sqrt.gain | max.gain | r2.new | \n",
       "|---|---|---|---|---|---|---|\n",
       "| GrLivArea   | 49.129817   | 1.0854313   | 1.063073    | 1.085431    | 53.32704    | \n",
       "| Fireplaces  | 23.956074   | 1.0811631   | 1.099671    | 1.099671    | 26.34379    | \n",
       "| MasVnrArea  | 18.213701   | 0.9379289   | 1.065036    | 1.065036    | 19.39825    | \n",
       "| WoodDeckSF  | 11.164625   | 1.0540031   | 1.124479    | 1.124479    | 12.55438    | \n",
       "| OpenPorchSF | 10.307501   | 2.0524076   | 1.774221    | 2.052408    | 21.15519    | \n",
       "| HalfBath    |  9.858485   | 1.0447120   | 1.060540    | 1.060540    | 10.45532    | \n",
       "| LotArea     |  6.621353   | 2.4154951   | 2.038663    | 2.415495    | 15.99384    | \n",
       "\n",
       "\n"
      ],
      "text/plain": [
       "  name        r2        log.gain  sqrt.gain max.gain r2.new  \n",
       "1 GrLivArea   49.129817 1.0854313 1.063073  1.085431 53.32704\n",
       "2 Fireplaces  23.956074 1.0811631 1.099671  1.099671 26.34379\n",
       "3 MasVnrArea  18.213701 0.9379289 1.065036  1.065036 19.39825\n",
       "4 WoodDeckSF  11.164625 1.0540031 1.124479  1.124479 12.55438\n",
       "5 OpenPorchSF 10.307501 2.0524076 1.774221  2.052408 21.15519\n",
       "6 HalfBath     9.858485 1.0447120 1.060540  1.060540 10.45532\n",
       "7 LotArea      6.621353 2.4154951 2.038663  2.415495 15.99384"
      ]
     },
     "metadata": {},
     "output_type": "display_data"
    }
   ],
   "source": [
    "x <- \n",
    "    df.training.numeric %>% \n",
    "    gather(name, value, -sale_price_log) %>%\n",
    "    mutate(value.log = log(value + 1), value.sqrt = sqrt(value)) %>%\n",
    "    group_by(name) %>%\n",
    "    nest %>% \n",
    "    mutate(\n",
    "        mod = map(data, ~lm(sale_price_log ~ value, .)),\n",
    "        glance = map(mod, broom::glance),\n",
    "        r.squared = map_dbl(glance, 'r.squared'),\n",
    "        \n",
    "        mod.log = map(data, ~lm(sale_price_log ~ value.log, .)),\n",
    "        glance.log = map(mod.log, broom::glance),\n",
    "        r.squared.log = map_dbl(glance.log, 'r.squared'),\n",
    "        \n",
    "        mod.sqrt = map(data, ~lm(sale_price_log ~ value.sqrt, .)),\n",
    "        glance.sqrt = map(mod.sqrt, broom::glance),\n",
    "        r.squared.sqrt = map_dbl(glance.sqrt, 'r.squared')\n",
    "    ) %>%\n",
    "    select(-data)\n",
    "\n",
    "x %>% \n",
    "    select(name, r.squared, r.squared.log, r.squared.sqrt) %>%\n",
    "    mutate(\n",
    "        r2 = r.squared * 100,\n",
    "        log.gain = r.squared.log / r.squared, \n",
    "        sqrt.gain = r.squared.sqrt / r.squared,\n",
    "        max.gain = pmax(log.gain, sqrt.gain),\n",
    "        r2.new = max.gain * r2\n",
    "     ) %>%\n",
    "    select(name, r2, log.gain, sqrt.gain,max.gain, r2.new) %>%\n",
    "    filter(max.gain > 1.05, r2.new > 10) %>%\n",
    "    arrange(desc(r2), max.gain)\n",
    "#      gather(fun, value, -name) %>%\n",
    "#      arrange(name, desc(value)) %>%\n",
    "#      group_by(name) %>%\n",
    "#      filter(row_number() == 1) %>%\n",
    "#      arrange(desc(value)) %>%\n",
    "#      filter(value > 1.2) %>%\n",
    "#      select(`Attribute Name` = name, `Transformation` = fun, `Transformation R.Squared Gain` = value)"
   ]
  },
  {
   "cell_type": "code",
   "execution_count": 55,
   "metadata": {},
   "outputs": [
    {
     "data": {
      "text/html": [
       "<table>\n",
       "<thead><tr><th scope=col>name</th><th scope=col>r2</th><th scope=col>log.gain</th><th scope=col>sqrt.gain</th><th scope=col>max.gain</th><th scope=col>r2.new</th></tr></thead>\n",
       "<tbody>\n",
       "\t<tr><td>GrLivArea  </td><td>49.129817  </td><td>1.086142   </td><td>1.089199   </td><td>1.089199   </td><td>53.51212   </td></tr>\n",
       "\t<tr><td>YearBuilt  </td><td>34.406465  </td><td>1.181568   </td><td>1.181558   </td><td>1.181568   </td><td>40.65358   </td></tr>\n",
       "\t<tr><td>Fireplaces </td><td>23.956074  </td><td>1.105279   </td><td>1.105926   </td><td>1.105926   </td><td>26.49363   </td></tr>\n",
       "\t<tr><td>MasVnrArea </td><td>18.213701  </td><td>1.077382   </td><td>1.075763   </td><td>1.077382   </td><td>19.62311   </td></tr>\n",
       "\t<tr><td>BsmtFinSF1 </td><td>13.840117  </td><td>1.149954   </td><td>1.136283   </td><td>1.149954   </td><td>15.91550   </td></tr>\n",
       "\t<tr><td>GarageYrBlt</td><td>12.181050  </td><td>2.914141   </td><td>2.917814   </td><td>2.917814   </td><td>35.54204   </td></tr>\n",
       "\t<tr><td>WoodDeckSF </td><td>11.164625  </td><td>1.105202   </td><td>1.125169   </td><td>1.125169   </td><td>12.56209   </td></tr>\n",
       "\t<tr><td>OpenPorchSF</td><td>10.307501  </td><td>2.096347   </td><td>2.130713   </td><td>2.130713   </td><td>21.96232   </td></tr>\n",
       "\t<tr><td>X2ndFlrSF  </td><td>10.195248  </td><td>2.142678   </td><td>2.118172   </td><td>2.142678   </td><td>21.84513   </td></tr>\n",
       "\t<tr><td>HalfBath   </td><td> 9.858485  </td><td>1.116047   </td><td>1.116047   </td><td>1.116047   </td><td>11.00253   </td></tr>\n",
       "\t<tr><td>LotArea    </td><td> 6.621353  </td><td>2.429517   </td><td>2.552576   </td><td>2.552576   </td><td>16.90151   </td></tr>\n",
       "\t<tr><td>LotFrontage</td><td> 3.214952  </td><td>3.318030   </td><td>3.046073   </td><td>3.318030   </td><td>10.66731   </td></tr>\n",
       "</tbody>\n",
       "</table>\n"
      ],
      "text/latex": [
       "\\begin{tabular}{r|llllll}\n",
       " name & r2 & log.gain & sqrt.gain & max.gain & r2.new\\\\\n",
       "\\hline\n",
       "\t GrLivArea   & 49.129817   & 1.086142    & 1.089199    & 1.089199    & 53.51212   \\\\\n",
       "\t YearBuilt   & 34.406465   & 1.181568    & 1.181558    & 1.181568    & 40.65358   \\\\\n",
       "\t Fireplaces  & 23.956074   & 1.105279    & 1.105926    & 1.105926    & 26.49363   \\\\\n",
       "\t MasVnrArea  & 18.213701   & 1.077382    & 1.075763    & 1.077382    & 19.62311   \\\\\n",
       "\t BsmtFinSF1  & 13.840117   & 1.149954    & 1.136283    & 1.149954    & 15.91550   \\\\\n",
       "\t GarageYrBlt & 12.181050   & 2.914141    & 2.917814    & 2.917814    & 35.54204   \\\\\n",
       "\t WoodDeckSF  & 11.164625   & 1.105202    & 1.125169    & 1.125169    & 12.56209   \\\\\n",
       "\t OpenPorchSF & 10.307501   & 2.096347    & 2.130713    & 2.130713    & 21.96232   \\\\\n",
       "\t X2ndFlrSF   & 10.195248   & 2.142678    & 2.118172    & 2.142678    & 21.84513   \\\\\n",
       "\t HalfBath    &  9.858485   & 1.116047    & 1.116047    & 1.116047    & 11.00253   \\\\\n",
       "\t LotArea     &  6.621353   & 2.429517    & 2.552576    & 2.552576    & 16.90151   \\\\\n",
       "\t LotFrontage &  3.214952   & 3.318030    & 3.046073    & 3.318030    & 10.66731   \\\\\n",
       "\\end{tabular}\n"
      ],
      "text/markdown": [
       "\n",
       "name | r2 | log.gain | sqrt.gain | max.gain | r2.new | \n",
       "|---|---|---|---|---|---|---|---|---|---|---|---|\n",
       "| GrLivArea   | 49.129817   | 1.086142    | 1.089199    | 1.089199    | 53.51212    | \n",
       "| YearBuilt   | 34.406465   | 1.181568    | 1.181558    | 1.181568    | 40.65358    | \n",
       "| Fireplaces  | 23.956074   | 1.105279    | 1.105926    | 1.105926    | 26.49363    | \n",
       "| MasVnrArea  | 18.213701   | 1.077382    | 1.075763    | 1.077382    | 19.62311    | \n",
       "| BsmtFinSF1  | 13.840117   | 1.149954    | 1.136283    | 1.149954    | 15.91550    | \n",
       "| GarageYrBlt | 12.181050   | 2.914141    | 2.917814    | 2.917814    | 35.54204    | \n",
       "| WoodDeckSF  | 11.164625   | 1.105202    | 1.125169    | 1.125169    | 12.56209    | \n",
       "| OpenPorchSF | 10.307501   | 2.096347    | 2.130713    | 2.130713    | 21.96232    | \n",
       "| X2ndFlrSF   | 10.195248   | 2.142678    | 2.118172    | 2.142678    | 21.84513    | \n",
       "| HalfBath    |  9.858485   | 1.116047    | 1.116047    | 1.116047    | 11.00253    | \n",
       "| LotArea     |  6.621353   | 2.429517    | 2.552576    | 2.552576    | 16.90151    | \n",
       "| LotFrontage |  3.214952   | 3.318030    | 3.046073    | 3.318030    | 10.66731    | \n",
       "\n",
       "\n"
      ],
      "text/plain": [
       "   name        r2        log.gain sqrt.gain max.gain r2.new  \n",
       "1  GrLivArea   49.129817 1.086142 1.089199  1.089199 53.51212\n",
       "2  YearBuilt   34.406465 1.181568 1.181558  1.181568 40.65358\n",
       "3  Fireplaces  23.956074 1.105279 1.105926  1.105926 26.49363\n",
       "4  MasVnrArea  18.213701 1.077382 1.075763  1.077382 19.62311\n",
       "5  BsmtFinSF1  13.840117 1.149954 1.136283  1.149954 15.91550\n",
       "6  GarageYrBlt 12.181050 2.914141 2.917814  2.917814 35.54204\n",
       "7  WoodDeckSF  11.164625 1.105202 1.125169  1.125169 12.56209\n",
       "8  OpenPorchSF 10.307501 2.096347 2.130713  2.130713 21.96232\n",
       "9  X2ndFlrSF   10.195248 2.142678 2.118172  2.142678 21.84513\n",
       "10 HalfBath     9.858485 1.116047 1.116047  1.116047 11.00253\n",
       "11 LotArea      6.621353 2.429517 2.552576  2.552576 16.90151\n",
       "12 LotFrontage  3.214952 3.318030 3.046073  3.318030 10.66731"
      ]
     },
     "metadata": {},
     "output_type": "display_data"
    }
   ],
   "source": [
    "x <- \n",
    "    df.training.numeric %>% \n",
    "    gather(name, value, -sale_price_log) %>%\n",
    "    mutate(value.log = log(value + 1), value.sqrt = sqrt(value)) %>%\n",
    "    group_by(name) %>%\n",
    "    nest %>% \n",
    "    mutate(\n",
    "        mod = map(data, ~lm(sale_price_log ~ value, .)),\n",
    "        glance = map(mod, broom::glance),\n",
    "        r.squared = map_dbl(glance, 'r.squared'),\n",
    "        \n",
    "        mod.log = map(data, ~lm(sale_price_log ~ value + value.log, .)),\n",
    "        glance.log = map(mod.log, broom::glance),\n",
    "        r.squared.log = map_dbl(glance.log, 'r.squared'),\n",
    "        \n",
    "        mod.sqrt = map(data, ~lm(sale_price_log ~ value + value.sqrt, .)),\n",
    "        glance.sqrt = map(mod.sqrt, broom::glance),\n",
    "        r.squared.sqrt = map_dbl(glance.sqrt, 'r.squared')\n",
    "    ) %>%\n",
    "    select(-data)\n",
    "\n",
    "x %>% \n",
    "    select(name, r.squared, r.squared.log, r.squared.sqrt) %>%\n",
    "    mutate(\n",
    "        r2 = r.squared * 100,\n",
    "        log.gain = r.squared.log / r.squared, \n",
    "        sqrt.gain = r.squared.sqrt / r.squared,\n",
    "        max.gain = pmax(log.gain, sqrt.gain),\n",
    "        r2.new = max.gain * r2\n",
    "     ) %>%\n",
    "    select(name, r2, log.gain, sqrt.gain,max.gain, r2.new) %>%\n",
    "    filter(max.gain > 1.05, r2.new > 10) %>%\n",
    "    arrange(desc(r2), max.gain)"
   ]
  },
  {
   "cell_type": "code",
   "execution_count": 57,
   "metadata": {},
   "outputs": [
    {
     "data": {
      "text/html": [
       "<table>\n",
       "<thead><tr><th scope=col>name</th><th scope=col>r2</th><th scope=col>x2.gain</th><th scope=col>x15.gain</th><th scope=col>max.gain</th><th scope=col>r2.new</th></tr></thead>\n",
       "<tbody>\n",
       "\t<tr><td>GrLivArea  </td><td>49.129817  </td><td>1.091454   </td><td>1.091912   </td><td>1.091912   </td><td>53.64545   </td></tr>\n",
       "\t<tr><td>TotalBsmtSF</td><td>37.470800  </td><td>1.074199   </td><td>1.048156   </td><td>1.074199   </td><td>40.25108   </td></tr>\n",
       "\t<tr><td>X1stFlrSF  </td><td>35.638637  </td><td>1.066107   </td><td>1.060283   </td><td>1.066107   </td><td>37.99461   </td></tr>\n",
       "\t<tr><td>YearBuilt  </td><td>34.406465  </td><td>1.181509   </td><td>1.181529   </td><td>1.181529   </td><td>40.65223   </td></tr>\n",
       "\t<tr><td>Fireplaces </td><td>23.956074  </td><td>1.101448   </td><td>1.104047   </td><td>1.104047   </td><td>26.44863   </td></tr>\n",
       "\t<tr><td>MasVnrArea </td><td>18.213701  </td><td>1.057797   </td><td>1.063730   </td><td>1.063730   </td><td>19.37445   </td></tr>\n",
       "\t<tr><td>GarageYrBlt</td><td>12.181050  </td><td>2.933359   </td><td>2.928227   </td><td>2.933359   </td><td>35.73140   </td></tr>\n",
       "\t<tr><td>WoodDeckSF </td><td>11.164625  </td><td>1.130706   </td><td>1.145405   </td><td>1.145405   </td><td>12.78802   </td></tr>\n",
       "\t<tr><td>OpenPorchSF</td><td>10.307501  </td><td>1.731154   </td><td>1.911578   </td><td>1.911578   </td><td>19.70359   </td></tr>\n",
       "\t<tr><td>X2ndFlrSF  </td><td>10.195248  </td><td>1.850655   </td><td>1.951890   </td><td>1.951890   </td><td>19.90000   </td></tr>\n",
       "\t<tr><td>HalfBath   </td><td> 9.858485  </td><td>1.116047   </td><td>1.116047   </td><td>1.116047   </td><td>11.00253   </td></tr>\n",
       "\t<tr><td>LotArea    </td><td> 6.621353  </td><td>2.036836   </td><td>2.261263   </td><td>2.261263   </td><td>14.97262   </td></tr>\n",
       "</tbody>\n",
       "</table>\n"
      ],
      "text/latex": [
       "\\begin{tabular}{r|llllll}\n",
       " name & r2 & x2.gain & x15.gain & max.gain & r2.new\\\\\n",
       "\\hline\n",
       "\t GrLivArea   & 49.129817   & 1.091454    & 1.091912    & 1.091912    & 53.64545   \\\\\n",
       "\t TotalBsmtSF & 37.470800   & 1.074199    & 1.048156    & 1.074199    & 40.25108   \\\\\n",
       "\t X1stFlrSF   & 35.638637   & 1.066107    & 1.060283    & 1.066107    & 37.99461   \\\\\n",
       "\t YearBuilt   & 34.406465   & 1.181509    & 1.181529    & 1.181529    & 40.65223   \\\\\n",
       "\t Fireplaces  & 23.956074   & 1.101448    & 1.104047    & 1.104047    & 26.44863   \\\\\n",
       "\t MasVnrArea  & 18.213701   & 1.057797    & 1.063730    & 1.063730    & 19.37445   \\\\\n",
       "\t GarageYrBlt & 12.181050   & 2.933359    & 2.928227    & 2.933359    & 35.73140   \\\\\n",
       "\t WoodDeckSF  & 11.164625   & 1.130706    & 1.145405    & 1.145405    & 12.78802   \\\\\n",
       "\t OpenPorchSF & 10.307501   & 1.731154    & 1.911578    & 1.911578    & 19.70359   \\\\\n",
       "\t X2ndFlrSF   & 10.195248   & 1.850655    & 1.951890    & 1.951890    & 19.90000   \\\\\n",
       "\t HalfBath    &  9.858485   & 1.116047    & 1.116047    & 1.116047    & 11.00253   \\\\\n",
       "\t LotArea     &  6.621353   & 2.036836    & 2.261263    & 2.261263    & 14.97262   \\\\\n",
       "\\end{tabular}\n"
      ],
      "text/markdown": [
       "\n",
       "name | r2 | x2.gain | x15.gain | max.gain | r2.new | \n",
       "|---|---|---|---|---|---|---|---|---|---|---|---|\n",
       "| GrLivArea   | 49.129817   | 1.091454    | 1.091912    | 1.091912    | 53.64545    | \n",
       "| TotalBsmtSF | 37.470800   | 1.074199    | 1.048156    | 1.074199    | 40.25108    | \n",
       "| X1stFlrSF   | 35.638637   | 1.066107    | 1.060283    | 1.066107    | 37.99461    | \n",
       "| YearBuilt   | 34.406465   | 1.181509    | 1.181529    | 1.181529    | 40.65223    | \n",
       "| Fireplaces  | 23.956074   | 1.101448    | 1.104047    | 1.104047    | 26.44863    | \n",
       "| MasVnrArea  | 18.213701   | 1.057797    | 1.063730    | 1.063730    | 19.37445    | \n",
       "| GarageYrBlt | 12.181050   | 2.933359    | 2.928227    | 2.933359    | 35.73140    | \n",
       "| WoodDeckSF  | 11.164625   | 1.130706    | 1.145405    | 1.145405    | 12.78802    | \n",
       "| OpenPorchSF | 10.307501   | 1.731154    | 1.911578    | 1.911578    | 19.70359    | \n",
       "| X2ndFlrSF   | 10.195248   | 1.850655    | 1.951890    | 1.951890    | 19.90000    | \n",
       "| HalfBath    |  9.858485   | 1.116047    | 1.116047    | 1.116047    | 11.00253    | \n",
       "| LotArea     |  6.621353   | 2.036836    | 2.261263    | 2.261263    | 14.97262    | \n",
       "\n",
       "\n"
      ],
      "text/plain": [
       "   name        r2        x2.gain  x15.gain max.gain r2.new  \n",
       "1  GrLivArea   49.129817 1.091454 1.091912 1.091912 53.64545\n",
       "2  TotalBsmtSF 37.470800 1.074199 1.048156 1.074199 40.25108\n",
       "3  X1stFlrSF   35.638637 1.066107 1.060283 1.066107 37.99461\n",
       "4  YearBuilt   34.406465 1.181509 1.181529 1.181529 40.65223\n",
       "5  Fireplaces  23.956074 1.101448 1.104047 1.104047 26.44863\n",
       "6  MasVnrArea  18.213701 1.057797 1.063730 1.063730 19.37445\n",
       "7  GarageYrBlt 12.181050 2.933359 2.928227 2.933359 35.73140\n",
       "8  WoodDeckSF  11.164625 1.130706 1.145405 1.145405 12.78802\n",
       "9  OpenPorchSF 10.307501 1.731154 1.911578 1.911578 19.70359\n",
       "10 X2ndFlrSF   10.195248 1.850655 1.951890 1.951890 19.90000\n",
       "11 HalfBath     9.858485 1.116047 1.116047 1.116047 11.00253\n",
       "12 LotArea      6.621353 2.036836 2.261263 2.261263 14.97262"
      ]
     },
     "metadata": {},
     "output_type": "display_data"
    }
   ],
   "source": [
    "x <- \n",
    "    df.training.numeric %>% \n",
    "    gather(name, value, -sale_price_log) %>%\n",
    "    mutate(value.x2 = value*value, value.x15 = value^(1.5)) %>%\n",
    "    group_by(name) %>%\n",
    "    nest %>% \n",
    "    mutate(\n",
    "        mod = map(data, ~lm(sale_price_log ~ value, .)),\n",
    "        glance = map(mod, broom::glance),\n",
    "        r.squared = map_dbl(glance, 'r.squared'),\n",
    "        \n",
    "        mod.x2 = map(data, ~lm(sale_price_log ~ value + value.x2, .)),\n",
    "        glance.x2 = map(mod.x2, broom::glance),\n",
    "        r.squared.x2 = map_dbl(glance.x2, 'r.squared'),\n",
    "        \n",
    "        mod.x15 = map(data, ~lm(sale_price_log ~ value + value.x15, .)),\n",
    "        glance.x15 = map(mod.x15, broom::glance),\n",
    "        r.squared.x15 = map_dbl(glance.x15, 'r.squared')\n",
    "    ) %>%\n",
    "    select(-data, -contains(\"mod\"))\n",
    "\n",
    "x %>% \n",
    "    select(name, r.squared, r.squared.x2, r.squared.x15) %>%\n",
    "    mutate(\n",
    "        r2 = r.squared * 100,\n",
    "        x2.gain = r.squared.x2 / r.squared, \n",
    "        x15.gain = r.squared.x15 / r.squared,\n",
    "        max.gain = pmax(x2.gain, x15.gain),\n",
    "        r2.new = max.gain * r2\n",
    "     ) %>%\n",
    "    select(name, r2, x2.gain, x15.gain, max.gain, r2.new) %>%\n",
    "    filter(max.gain > 1.05, r2.new > 10) %>%\n",
    "    arrange(desc(r2), max.gain)"
   ]
  },
  {
   "cell_type": "code",
   "execution_count": null,
   "metadata": {
    "collapsed": true
   },
   "outputs": [],
   "source": []
  },
  {
   "cell_type": "code",
   "execution_count": null,
   "metadata": {
    "collapsed": true
   },
   "outputs": [],
   "source": []
  },
  {
   "cell_type": "code",
   "execution_count": null,
   "metadata": {
    "collapsed": true
   },
   "outputs": [],
   "source": []
  },
  {
   "cell_type": "code",
   "execution_count": null,
   "metadata": {
    "collapsed": true
   },
   "outputs": [],
   "source": []
  },
  {
   "cell_type": "code",
   "execution_count": null,
   "metadata": {
    "collapsed": true
   },
   "outputs": [],
   "source": []
  },
  {
   "cell_type": "code",
   "execution_count": null,
   "metadata": {
    "collapsed": true
   },
   "outputs": [],
   "source": []
  },
  {
   "cell_type": "code",
   "execution_count": null,
   "metadata": {
    "collapsed": true
   },
   "outputs": [],
   "source": []
  },
  {
   "cell_type": "code",
   "execution_count": null,
   "metadata": {
    "collapsed": true
   },
   "outputs": [],
   "source": []
  },
  {
   "cell_type": "code",
   "execution_count": null,
   "metadata": {
    "collapsed": true
   },
   "outputs": [],
   "source": []
  },
  {
   "cell_type": "code",
   "execution_count": null,
   "metadata": {
    "collapsed": true
   },
   "outputs": [],
   "source": []
  },
  {
   "cell_type": "code",
   "execution_count": null,
   "metadata": {
    "collapsed": true
   },
   "outputs": [],
   "source": []
  },
  {
   "cell_type": "code",
   "execution_count": null,
   "metadata": {
    "collapsed": true
   },
   "outputs": [],
   "source": []
  },
  {
   "cell_type": "code",
   "execution_count": null,
   "metadata": {
    "collapsed": true
   },
   "outputs": [],
   "source": []
  },
  {
   "cell_type": "code",
   "execution_count": null,
   "metadata": {
    "collapsed": true
   },
   "outputs": [],
   "source": []
  },
  {
   "cell_type": "code",
   "execution_count": null,
   "metadata": {
    "collapsed": true
   },
   "outputs": [],
   "source": []
  },
  {
   "cell_type": "code",
   "execution_count": null,
   "metadata": {
    "collapsed": true
   },
   "outputs": [],
   "source": []
  },
  {
   "cell_type": "code",
   "execution_count": null,
   "metadata": {
    "collapsed": true
   },
   "outputs": [],
   "source": []
  },
  {
   "cell_type": "code",
   "execution_count": null,
   "metadata": {
    "collapsed": true
   },
   "outputs": [],
   "source": []
  },
  {
   "cell_type": "code",
   "execution_count": null,
   "metadata": {
    "collapsed": true
   },
   "outputs": [],
   "source": []
  }
 ],
 "metadata": {
  "kernelspec": {
   "display_name": "R",
   "language": "R",
   "name": "ir"
  },
  "language_info": {
   "codemirror_mode": "r",
   "file_extension": ".r",
   "mimetype": "text/x-r-source",
   "name": "R",
   "pygments_lexer": "r",
   "version": "3.4.2"
  }
 },
 "nbformat": 4,
 "nbformat_minor": 2
}
