{
 "cells": [
  {
   "cell_type": "code",
   "execution_count": 30,
   "metadata": {},
   "outputs": [
    {
     "data": {
      "text/html": [
       "'/mnt/hdd/develop/kaggle/house-prices/R/R'"
      ],
      "text/latex": [
       "'/mnt/hdd/develop/kaggle/house-prices/R/R'"
      ],
      "text/markdown": [
       "'/mnt/hdd/develop/kaggle/house-prices/R/R'"
      ],
      "text/plain": [
       "[1] \"/mnt/hdd/develop/kaggle/house-prices/R/R\""
      ]
     },
     "metadata": {},
     "output_type": "display_data"
    }
   ],
   "source": [
    "setwd(paste0(Sys.getenv('ROOT'), '/R'))\n",
    "getwd()"
   ]
  },
  {
   "cell_type": "code",
   "execution_count": 93,
   "metadata": {},
   "outputs": [
    {
     "data": {
      "text/html": [
       "<table>\n",
       "<thead><tr><th scope=col>BldgType</th><th scope=col>building_type</th></tr></thead>\n",
       "<tbody>\n",
       "\t<tr><td>1Fam    </td><td>12.03112</td></tr>\n",
       "\t<tr><td>1Fam    </td><td>12.03112</td></tr>\n",
       "\t<tr><td>1Fam    </td><td>12.03112</td></tr>\n",
       "\t<tr><td>1Fam    </td><td>12.03112</td></tr>\n",
       "\t<tr><td>1Fam    </td><td>12.03112</td></tr>\n",
       "\t<tr><td>1Fam    </td><td>12.03112</td></tr>\n",
       "</tbody>\n",
       "</table>\n"
      ],
      "text/latex": [
       "\\begin{tabular}{r|ll}\n",
       " BldgType & building\\_type\\\\\n",
       "\\hline\n",
       "\t 1Fam     & 12.03112\\\\\n",
       "\t 1Fam     & 12.03112\\\\\n",
       "\t 1Fam     & 12.03112\\\\\n",
       "\t 1Fam     & 12.03112\\\\\n",
       "\t 1Fam     & 12.03112\\\\\n",
       "\t 1Fam     & 12.03112\\\\\n",
       "\\end{tabular}\n"
      ],
      "text/markdown": [
       "\n",
       "BldgType | building_type | \n",
       "|---|---|---|---|---|---|\n",
       "| 1Fam     | 12.03112 | \n",
       "| 1Fam     | 12.03112 | \n",
       "| 1Fam     | 12.03112 | \n",
       "| 1Fam     | 12.03112 | \n",
       "| 1Fam     | 12.03112 | \n",
       "| 1Fam     | 12.03112 | \n",
       "\n",
       "\n"
      ],
      "text/plain": [
       "  BldgType building_type\n",
       "1 1Fam     12.03112     \n",
       "2 1Fam     12.03112     \n",
       "3 1Fam     12.03112     \n",
       "4 1Fam     12.03112     \n",
       "5 1Fam     12.03112     \n",
       "6 1Fam     12.03112     "
      ]
     },
     "metadata": {},
     "output_type": "display_data"
    },
    {
     "data": {
      "text/html": [
       "<table>\n",
       "<thead><tr><th scope=col>BldgType</th><th scope=col>building_type</th></tr></thead>\n",
       "<tbody>\n",
       "\t<tr><td>1Fam    </td><td>10.46024</td></tr>\n",
       "\t<tr><td>1Fam    </td><td>10.46024</td></tr>\n",
       "\t<tr><td>1Fam    </td><td>10.46024</td></tr>\n",
       "\t<tr><td>1Fam    </td><td>10.46024</td></tr>\n",
       "\t<tr><td>TwnhsE  </td><td>11.23189</td></tr>\n",
       "\t<tr><td>1Fam    </td><td>10.46024</td></tr>\n",
       "</tbody>\n",
       "</table>\n"
      ],
      "text/latex": [
       "\\begin{tabular}{r|ll}\n",
       " BldgType & building\\_type\\\\\n",
       "\\hline\n",
       "\t 1Fam     & 10.46024\\\\\n",
       "\t 1Fam     & 10.46024\\\\\n",
       "\t 1Fam     & 10.46024\\\\\n",
       "\t 1Fam     & 10.46024\\\\\n",
       "\t TwnhsE   & 11.23189\\\\\n",
       "\t 1Fam     & 10.46024\\\\\n",
       "\\end{tabular}\n"
      ],
      "text/markdown": [
       "\n",
       "BldgType | building_type | \n",
       "|---|---|---|---|---|---|\n",
       "| 1Fam     | 10.46024 | \n",
       "| 1Fam     | 10.46024 | \n",
       "| 1Fam     | 10.46024 | \n",
       "| 1Fam     | 10.46024 | \n",
       "| TwnhsE   | 11.23189 | \n",
       "| 1Fam     | 10.46024 | \n",
       "\n",
       "\n"
      ],
      "text/plain": [
       "  BldgType building_type\n",
       "1 1Fam     10.46024     \n",
       "2 1Fam     10.46024     \n",
       "3 1Fam     10.46024     \n",
       "4 1Fam     10.46024     \n",
       "5 TwnhsE   11.23189     \n",
       "6 1Fam     10.46024     "
      ]
     },
     "metadata": {},
     "output_type": "display_data"
    }
   ],
   "source": [
    "source('main.R')\n",
    "\n",
    "data <- kaggle.house$loadData()\n",
    "\n",
    "df.training <- data$train\n",
    "df.testing <- data$test\n",
    "df.combined <- kaggle.house$getCombinedDataset(df.training, df.testing)\n",
    "\n",
    "df.combined.bad.na.fixed <- kaggle.house$na$fixAll(df.combined)\n",
    "\n",
    "df.training.bad.na.fixed <- \n",
    "    df.combined.bad.na.fixed %>% \n",
    "    filter(dataSource == \"train\") %>% \n",
    "    mutate(sale_price_log = log(SalePrice)) %>%\n",
    "    select(-dataSource)\n",
    "    \n",
    "df.testing.bad.na.fixed  <- \n",
    "    df.combined.bad.na.fixed %>% \n",
    "    filter(dataSource == \"test\") %>% \n",
    "    select(-dataSource)\n",
    "\n",
    "res <- kaggle.house$trans$type2TransContainer$BldgType(df.training.bad.na.fixed)\n",
    "\n",
    "res$df.new %>% select(BldgType, building_type) %>% head\n",
    "testsetTransformator <- res$testsetTransformator\n",
    "testsetTransformator(df.testing.bad.na.fixed) %>% select(BldgType, building_type) %>% head"
   ]
  },
  {
   "cell_type": "code",
   "execution_count": 49,
   "metadata": {},
   "outputs": [
    {
     "data": {
      "text/html": [],
      "text/latex": [],
      "text/markdown": [],
      "text/plain": [
       "character(0)"
      ]
     },
     "metadata": {},
     "output_type": "display_data"
    }
   ],
   "source": [
    "allCategVars <- kaggle.house$getCategoricalColumnNames(df.combined.bad.na.fixed %>% select(-dataSource)) %>% sort\n",
    "type1CategVars <- kaggle.house$trans$type1TransContainer %>% names %>% sort\n",
    "type2CategVars <- kaggle.house$trans$type2TransContainer %>% names %>% sort\n",
    "\n",
    "stopifnot(intersect(type1CategVars, type2CategVars) %>% length == 0)\n",
    "\n",
    "setdiff(allCategVars, union(type1CategVars, type2CategVars))"
   ]
  },
  {
   "cell_type": "code",
   "execution_count": 33,
   "metadata": {
    "collapsed": true
   },
   "outputs": [],
   "source": [
    "library(IRdisplay)\n",
    "\n",
    "type1 <- function(attrName, newAttrName) {\n",
    "        \n",
    "    attrName <- enquo(attrName)\n",
    "    newAttrName <- enquo(newAttrName)\n",
    "    \n",
    "    tranFun <- kaggle.house$trans$type1TransContainer[[as.character(attrName)[2]]]\n",
    "    \n",
    "    trainBefore <- df.training.bad.na.fixed %>% \n",
    "                   group_by(!!attrName) %>% count %>% prepare_mimebundle \n",
    "    trainAfter  <- tranFun(df.training.bad.na.fixed) %>% \n",
    "                   group_by(!!newAttrName, !!attrName) %>% count %>% prepare_mimebundle\n",
    "    \n",
    "    testBefore <- df.testing.bad.na.fixed %>% \n",
    "                  group_by(!!attrName) %>% count %>% prepare_mimebundle\n",
    "    testAfter <- tranFun(df.testing.bad.na.fixed) %>% \n",
    "                 group_by(!!newAttrName, !!attrName) %>% count %>% prepare_mimebundle\n",
    "\n",
    "    z <- paste0('<table>\n",
    "                  <tr style=\"background: transparent\">', \n",
    "                   '<td style=\"padding-right: 20px\"><b>train before</b>', trainBefore$data[['text/html']], '</td>',\n",
    "                   '<td style=\"padding-right: 20px\"><b>train after</b>',  trainAfter$data[['text/html']],  '</td>',\n",
    "                   '<td style=\"padding-right: 20px\"><b>test before</b>',  testBefore$data[['text/html']],  '</td>',\n",
    "                   '<td><b>test before</b>',                              testAfter$data[['text/html']],   '</td>',\n",
    "                 '</tr>\n",
    "                </table>')\n",
    "    \n",
    "    trainBefore$data[['text/html']] <- z\n",
    "    publish_mimebundle(trainBefore$data, trainBefore$metadata)\n",
    "}"
   ]
  },
  {
   "cell_type": "code",
   "execution_count": 34,
   "metadata": {
    "scrolled": false
   },
   "outputs": [
    {
     "data": {
      "text/html": [
       "<table>\n",
       "                  <tr style=\"background: transparent\"><td style=\"padding-right: 20px\"><b>train before</b><table>\n",
       "<thead><tr><th scope=col>Alley</th><th scope=col>n</th></tr></thead>\n",
       "<tbody>\n",
       "\t<tr><td>Grvl</td><td>  50</td></tr>\n",
       "\t<tr><td>Pave</td><td>  41</td></tr>\n",
       "\t<tr><td>NA  </td><td>1369</td></tr>\n",
       "</tbody>\n",
       "</table>\n",
       "</td><td style=\"padding-right: 20px\"><b>train after</b><table>\n",
       "<thead><tr><th scope=col>has_alley_access</th><th scope=col>Alley</th><th scope=col>n</th></tr></thead>\n",
       "<tbody>\n",
       "\t<tr><td>0   </td><td>NA  </td><td>1369</td></tr>\n",
       "\t<tr><td>1   </td><td>Grvl</td><td>  50</td></tr>\n",
       "\t<tr><td>1   </td><td>Pave</td><td>  41</td></tr>\n",
       "</tbody>\n",
       "</table>\n",
       "</td><td style=\"padding-right: 20px\"><b>test before</b><table>\n",
       "<thead><tr><th scope=col>Alley</th><th scope=col>n</th></tr></thead>\n",
       "<tbody>\n",
       "\t<tr><td>Grvl</td><td>  70</td></tr>\n",
       "\t<tr><td>Pave</td><td>  37</td></tr>\n",
       "\t<tr><td>NA  </td><td>1352</td></tr>\n",
       "</tbody>\n",
       "</table>\n",
       "</td><td><b>test before</b><table>\n",
       "<thead><tr><th scope=col>has_alley_access</th><th scope=col>Alley</th><th scope=col>n</th></tr></thead>\n",
       "<tbody>\n",
       "\t<tr><td>0   </td><td>NA  </td><td>1352</td></tr>\n",
       "\t<tr><td>1   </td><td>Grvl</td><td>  70</td></tr>\n",
       "\t<tr><td>1   </td><td>Pave</td><td>  37</td></tr>\n",
       "</tbody>\n",
       "</table>\n",
       "</td></tr>\n",
       "                </table>"
      ],
      "text/latex": [
       "\\begin{tabular}{r|ll}\n",
       " Alley & n\\\\\n",
       "\\hline\n",
       "\t Grvl &   50\\\\\n",
       "\t Pave &   41\\\\\n",
       "\t NA   & 1369\\\\\n",
       "\\end{tabular}\n"
      ],
      "text/markdown": [
       "\n",
       "Alley | n | \n",
       "|---|---|---|\n",
       "| Grvl |   50 | \n",
       "| Pave |   41 | \n",
       "| NA   | 1369 | \n",
       "\n",
       "\n"
      ],
      "text/plain": [
       "  Alley n   \n",
       "1 Grvl    50\n",
       "2 Pave    41\n",
       "3 NA    1369"
      ]
     },
     "metadata": {},
     "output_type": "display_data"
    },
    {
     "data": {
      "text/html": [
       "<table>\n",
       "                  <tr style=\"background: transparent\"><td style=\"padding-right: 20px\"><b>train before</b><table>\n",
       "<thead><tr><th scope=col>CentralAir</th><th scope=col>n</th></tr></thead>\n",
       "<tbody>\n",
       "\t<tr><td>N   </td><td>  95</td></tr>\n",
       "\t<tr><td>Y   </td><td>1365</td></tr>\n",
       "</tbody>\n",
       "</table>\n",
       "</td><td style=\"padding-right: 20px\"><b>train after</b><table>\n",
       "<thead><tr><th scope=col>has_central_air</th><th scope=col>CentralAir</th><th scope=col>n</th></tr></thead>\n",
       "<tbody>\n",
       "\t<tr><td>0   </td><td>N   </td><td>  95</td></tr>\n",
       "\t<tr><td>1   </td><td>Y   </td><td>1365</td></tr>\n",
       "</tbody>\n",
       "</table>\n",
       "</td><td style=\"padding-right: 20px\"><b>test before</b><table>\n",
       "<thead><tr><th scope=col>CentralAir</th><th scope=col>n</th></tr></thead>\n",
       "<tbody>\n",
       "\t<tr><td>N   </td><td> 101</td></tr>\n",
       "\t<tr><td>Y   </td><td>1358</td></tr>\n",
       "</tbody>\n",
       "</table>\n",
       "</td><td><b>test before</b><table>\n",
       "<thead><tr><th scope=col>has_central_air</th><th scope=col>CentralAir</th><th scope=col>n</th></tr></thead>\n",
       "<tbody>\n",
       "\t<tr><td>0   </td><td>N   </td><td> 101</td></tr>\n",
       "\t<tr><td>1   </td><td>Y   </td><td>1358</td></tr>\n",
       "</tbody>\n",
       "</table>\n",
       "</td></tr>\n",
       "                </table>"
      ],
      "text/latex": [
       "\\begin{tabular}{r|ll}\n",
       " CentralAir & n\\\\\n",
       "\\hline\n",
       "\t N    &   95\\\\\n",
       "\t Y    & 1365\\\\\n",
       "\\end{tabular}\n"
      ],
      "text/markdown": [
       "\n",
       "CentralAir | n | \n",
       "|---|---|\n",
       "| N    |   95 | \n",
       "| Y    | 1365 | \n",
       "\n",
       "\n"
      ],
      "text/plain": [
       "  CentralAir n   \n",
       "1 N            95\n",
       "2 Y          1365"
      ]
     },
     "metadata": {},
     "output_type": "display_data"
    }
   ],
   "source": [
    "type1(Alley, has_alley_access)\n",
    "type1(CentralAir, has_central_air)"
   ]
  },
  {
   "cell_type": "code",
   "execution_count": 44,
   "metadata": {},
   "outputs": [
    {
     "data": {
      "text/html": [
       "<table>\n",
       "                  <tr style=\"background: transparent\"><td style=\"padding-right: 20px\"><b>train before</b><table>\n",
       "<thead><tr><th scope=col>Electrical</th><th scope=col>n</th></tr></thead>\n",
       "<tbody>\n",
       "\t<tr><td>FuseA</td><td>  94 </td></tr>\n",
       "\t<tr><td>FuseF</td><td>  27 </td></tr>\n",
       "\t<tr><td>FuseP</td><td>   3 </td></tr>\n",
       "\t<tr><td>Mix  </td><td>   1 </td></tr>\n",
       "\t<tr><td>SBrkr</td><td>1335 </td></tr>\n",
       "</tbody>\n",
       "</table>\n",
       "</td><td style=\"padding-right: 20px\"><b>train after</b><table>\n",
       "<thead><tr><th scope=col>standard_electrical</th><th scope=col>Electrical</th><th scope=col>n</th></tr></thead>\n",
       "<tbody>\n",
       "\t<tr><td>0    </td><td>FuseA</td><td>  94 </td></tr>\n",
       "\t<tr><td>0    </td><td>FuseF</td><td>  27 </td></tr>\n",
       "\t<tr><td>0    </td><td>FuseP</td><td>   3 </td></tr>\n",
       "\t<tr><td>0    </td><td>Mix  </td><td>   1 </td></tr>\n",
       "\t<tr><td>1    </td><td>SBrkr</td><td>1335 </td></tr>\n",
       "</tbody>\n",
       "</table>\n",
       "</td><td style=\"padding-right: 20px\"><b>test before</b><table>\n",
       "<thead><tr><th scope=col>Electrical</th><th scope=col>n</th></tr></thead>\n",
       "<tbody>\n",
       "\t<tr><td>FuseA</td><td>  94 </td></tr>\n",
       "\t<tr><td>FuseF</td><td>  23 </td></tr>\n",
       "\t<tr><td>FuseP</td><td>   5 </td></tr>\n",
       "\t<tr><td>SBrkr</td><td>1337 </td></tr>\n",
       "</tbody>\n",
       "</table>\n",
       "</td><td><b>test before</b><table>\n",
       "<thead><tr><th scope=col>standard_electrical</th><th scope=col>Electrical</th><th scope=col>n</th></tr></thead>\n",
       "<tbody>\n",
       "\t<tr><td>0    </td><td>FuseA</td><td>  94 </td></tr>\n",
       "\t<tr><td>0    </td><td>FuseF</td><td>  23 </td></tr>\n",
       "\t<tr><td>0    </td><td>FuseP</td><td>   5 </td></tr>\n",
       "\t<tr><td>1    </td><td>SBrkr</td><td>1337 </td></tr>\n",
       "</tbody>\n",
       "</table>\n",
       "</td></tr>\n",
       "                </table>"
      ],
      "text/latex": [
       "\\begin{tabular}{r|ll}\n",
       " Electrical & n\\\\\n",
       "\\hline\n",
       "\t FuseA &   94 \\\\\n",
       "\t FuseF &   27 \\\\\n",
       "\t FuseP &    3 \\\\\n",
       "\t Mix   &    1 \\\\\n",
       "\t SBrkr & 1335 \\\\\n",
       "\\end{tabular}\n"
      ],
      "text/markdown": [
       "\n",
       "Electrical | n | \n",
       "|---|---|---|---|---|\n",
       "| FuseA |   94  | \n",
       "| FuseF |   27  | \n",
       "| FuseP |    3  | \n",
       "| Mix   |    1  | \n",
       "| SBrkr | 1335  | \n",
       "\n",
       "\n"
      ],
      "text/plain": [
       "  Electrical n   \n",
       "1 FuseA        94\n",
       "2 FuseF        27\n",
       "3 FuseP         3\n",
       "4 Mix           1\n",
       "5 SBrkr      1335"
      ]
     },
     "metadata": {},
     "output_type": "display_data"
    },
    {
     "data": {
      "text/html": [
       "<table>\n",
       "                  <tr style=\"background: transparent\"><td style=\"padding-right: 20px\"><b>train before</b><table>\n",
       "<thead><tr><th scope=col>Functional</th><th scope=col>n</th></tr></thead>\n",
       "<tbody>\n",
       "\t<tr><td>Maj1</td><td>  14</td></tr>\n",
       "\t<tr><td>Maj2</td><td>   5</td></tr>\n",
       "\t<tr><td>Min1</td><td>  31</td></tr>\n",
       "\t<tr><td>Min2</td><td>  34</td></tr>\n",
       "\t<tr><td>Mod </td><td>  15</td></tr>\n",
       "\t<tr><td>Sev </td><td>   1</td></tr>\n",
       "\t<tr><td>Typ </td><td>1360</td></tr>\n",
       "</tbody>\n",
       "</table>\n",
       "</td><td style=\"padding-right: 20px\"><b>train after</b><table>\n",
       "<thead><tr><th scope=col>is_full_functional</th><th scope=col>Functional</th><th scope=col>n</th></tr></thead>\n",
       "<tbody>\n",
       "\t<tr><td>0   </td><td>Maj1</td><td>  14</td></tr>\n",
       "\t<tr><td>0   </td><td>Maj2</td><td>   5</td></tr>\n",
       "\t<tr><td>0   </td><td>Min1</td><td>  31</td></tr>\n",
       "\t<tr><td>0   </td><td>Min2</td><td>  34</td></tr>\n",
       "\t<tr><td>0   </td><td>Mod </td><td>  15</td></tr>\n",
       "\t<tr><td>0   </td><td>Sev </td><td>   1</td></tr>\n",
       "\t<tr><td>1   </td><td>Typ </td><td>1360</td></tr>\n",
       "</tbody>\n",
       "</table>\n",
       "</td><td style=\"padding-right: 20px\"><b>test before</b><table>\n",
       "<thead><tr><th scope=col>Functional</th><th scope=col>n</th></tr></thead>\n",
       "<tbody>\n",
       "\t<tr><td>Maj1</td><td>   5</td></tr>\n",
       "\t<tr><td>Maj2</td><td>   4</td></tr>\n",
       "\t<tr><td>Min1</td><td>  34</td></tr>\n",
       "\t<tr><td>Min2</td><td>  36</td></tr>\n",
       "\t<tr><td>Mod </td><td>  20</td></tr>\n",
       "\t<tr><td>Sev </td><td>   1</td></tr>\n",
       "\t<tr><td>Typ </td><td>1359</td></tr>\n",
       "</tbody>\n",
       "</table>\n",
       "</td><td><b>test before</b><table>\n",
       "<thead><tr><th scope=col>is_full_functional</th><th scope=col>Functional</th><th scope=col>n</th></tr></thead>\n",
       "<tbody>\n",
       "\t<tr><td>0   </td><td>Maj1</td><td>   5</td></tr>\n",
       "\t<tr><td>0   </td><td>Maj2</td><td>   4</td></tr>\n",
       "\t<tr><td>0   </td><td>Min1</td><td>  34</td></tr>\n",
       "\t<tr><td>0   </td><td>Min2</td><td>  36</td></tr>\n",
       "\t<tr><td>0   </td><td>Mod </td><td>  20</td></tr>\n",
       "\t<tr><td>0   </td><td>Sev </td><td>   1</td></tr>\n",
       "\t<tr><td>1   </td><td>Typ </td><td>1359</td></tr>\n",
       "</tbody>\n",
       "</table>\n",
       "</td></tr>\n",
       "                </table>"
      ],
      "text/latex": [
       "\\begin{tabular}{r|ll}\n",
       " Functional & n\\\\\n",
       "\\hline\n",
       "\t Maj1 &   14\\\\\n",
       "\t Maj2 &    5\\\\\n",
       "\t Min1 &   31\\\\\n",
       "\t Min2 &   34\\\\\n",
       "\t Mod  &   15\\\\\n",
       "\t Sev  &    1\\\\\n",
       "\t Typ  & 1360\\\\\n",
       "\\end{tabular}\n"
      ],
      "text/markdown": [
       "\n",
       "Functional | n | \n",
       "|---|---|---|---|---|---|---|\n",
       "| Maj1 |   14 | \n",
       "| Maj2 |    5 | \n",
       "| Min1 |   31 | \n",
       "| Min2 |   34 | \n",
       "| Mod  |   15 | \n",
       "| Sev  |    1 | \n",
       "| Typ  | 1360 | \n",
       "\n",
       "\n"
      ],
      "text/plain": [
       "  Functional n   \n",
       "1 Maj1         14\n",
       "2 Maj2          5\n",
       "3 Min1         31\n",
       "4 Min2         34\n",
       "5 Mod          15\n",
       "6 Sev           1\n",
       "7 Typ        1360"
      ]
     },
     "metadata": {},
     "output_type": "display_data"
    }
   ],
   "source": [
    "type1(Electrical, standard_electrical)\n",
    "type1(Functional, is_full_functional)"
   ]
  },
  {
   "cell_type": "code",
   "execution_count": 45,
   "metadata": {},
   "outputs": [
    {
     "data": {
      "text/html": [
       "<table>\n",
       "                  <tr style=\"background: transparent\"><td style=\"padding-right: 20px\"><b>train before</b><table>\n",
       "<thead><tr><th scope=col>Heating</th><th scope=col>n</th></tr></thead>\n",
       "<tbody>\n",
       "\t<tr><td>Floor</td><td>   1 </td></tr>\n",
       "\t<tr><td>GasA </td><td>1428 </td></tr>\n",
       "\t<tr><td>GasW </td><td>  18 </td></tr>\n",
       "\t<tr><td>Grav </td><td>   7 </td></tr>\n",
       "\t<tr><td>OthW </td><td>   2 </td></tr>\n",
       "\t<tr><td>Wall </td><td>   4 </td></tr>\n",
       "</tbody>\n",
       "</table>\n",
       "</td><td style=\"padding-right: 20px\"><b>train after</b><table>\n",
       "<thead><tr><th scope=col>heating_air_furnace</th><th scope=col>Heating</th><th scope=col>n</th></tr></thead>\n",
       "<tbody>\n",
       "\t<tr><td>0    </td><td>Floor</td><td>   1 </td></tr>\n",
       "\t<tr><td>0    </td><td>GasW </td><td>  18 </td></tr>\n",
       "\t<tr><td>0    </td><td>Grav </td><td>   7 </td></tr>\n",
       "\t<tr><td>0    </td><td>OthW </td><td>   2 </td></tr>\n",
       "\t<tr><td>0    </td><td>Wall </td><td>   4 </td></tr>\n",
       "\t<tr><td>1    </td><td>GasA </td><td>1428 </td></tr>\n",
       "</tbody>\n",
       "</table>\n",
       "</td><td style=\"padding-right: 20px\"><b>test before</b><table>\n",
       "<thead><tr><th scope=col>Heating</th><th scope=col>n</th></tr></thead>\n",
       "<tbody>\n",
       "\t<tr><td>GasA</td><td>1446</td></tr>\n",
       "\t<tr><td>GasW</td><td>   9</td></tr>\n",
       "\t<tr><td>Grav</td><td>   2</td></tr>\n",
       "\t<tr><td>Wall</td><td>   2</td></tr>\n",
       "</tbody>\n",
       "</table>\n",
       "</td><td><b>test before</b><table>\n",
       "<thead><tr><th scope=col>heating_air_furnace</th><th scope=col>Heating</th><th scope=col>n</th></tr></thead>\n",
       "<tbody>\n",
       "\t<tr><td>0   </td><td>GasW</td><td>   9</td></tr>\n",
       "\t<tr><td>0   </td><td>Grav</td><td>   2</td></tr>\n",
       "\t<tr><td>0   </td><td>Wall</td><td>   2</td></tr>\n",
       "\t<tr><td>1   </td><td>GasA</td><td>1446</td></tr>\n",
       "</tbody>\n",
       "</table>\n",
       "</td></tr>\n",
       "                </table>"
      ],
      "text/latex": [
       "\\begin{tabular}{r|ll}\n",
       " Heating & n\\\\\n",
       "\\hline\n",
       "\t Floor &    1 \\\\\n",
       "\t GasA  & 1428 \\\\\n",
       "\t GasW  &   18 \\\\\n",
       "\t Grav  &    7 \\\\\n",
       "\t OthW  &    2 \\\\\n",
       "\t Wall  &    4 \\\\\n",
       "\\end{tabular}\n"
      ],
      "text/markdown": [
       "\n",
       "Heating | n | \n",
       "|---|---|---|---|---|---|\n",
       "| Floor |    1  | \n",
       "| GasA  | 1428  | \n",
       "| GasW  |   18  | \n",
       "| Grav  |    7  | \n",
       "| OthW  |    2  | \n",
       "| Wall  |    4  | \n",
       "\n",
       "\n"
      ],
      "text/plain": [
       "  Heating n   \n",
       "1 Floor      1\n",
       "2 GasA    1428\n",
       "3 GasW      18\n",
       "4 Grav       7\n",
       "5 OthW       2\n",
       "6 Wall       4"
      ]
     },
     "metadata": {},
     "output_type": "display_data"
    },
    {
     "data": {
      "text/html": [
       "<table>\n",
       "                  <tr style=\"background: transparent\"><td style=\"padding-right: 20px\"><b>train before</b><table>\n",
       "<thead><tr><th scope=col>LandContour</th><th scope=col>n</th></tr></thead>\n",
       "<tbody>\n",
       "\t<tr><td>Bnk </td><td>  63</td></tr>\n",
       "\t<tr><td>HLS </td><td>  50</td></tr>\n",
       "\t<tr><td>Low </td><td>  36</td></tr>\n",
       "\t<tr><td>Lvl </td><td>1311</td></tr>\n",
       "</tbody>\n",
       "</table>\n",
       "</td><td style=\"padding-right: 20px\"><b>train after</b><table>\n",
       "<thead><tr><th scope=col>is_land_level</th><th scope=col>LandContour</th><th scope=col>n</th></tr></thead>\n",
       "<tbody>\n",
       "\t<tr><td>0   </td><td>Bnk </td><td>  63</td></tr>\n",
       "\t<tr><td>0   </td><td>HLS </td><td>  50</td></tr>\n",
       "\t<tr><td>0   </td><td>Low </td><td>  36</td></tr>\n",
       "\t<tr><td>1   </td><td>Lvl </td><td>1311</td></tr>\n",
       "</tbody>\n",
       "</table>\n",
       "</td><td style=\"padding-right: 20px\"><b>test before</b><table>\n",
       "<thead><tr><th scope=col>LandContour</th><th scope=col>n</th></tr></thead>\n",
       "<tbody>\n",
       "\t<tr><td>Bnk </td><td>  54</td></tr>\n",
       "\t<tr><td>HLS </td><td>  70</td></tr>\n",
       "\t<tr><td>Low </td><td>  24</td></tr>\n",
       "\t<tr><td>Lvl </td><td>1311</td></tr>\n",
       "</tbody>\n",
       "</table>\n",
       "</td><td><b>test before</b><table>\n",
       "<thead><tr><th scope=col>is_land_level</th><th scope=col>LandContour</th><th scope=col>n</th></tr></thead>\n",
       "<tbody>\n",
       "\t<tr><td>0   </td><td>Bnk </td><td>  54</td></tr>\n",
       "\t<tr><td>0   </td><td>HLS </td><td>  70</td></tr>\n",
       "\t<tr><td>0   </td><td>Low </td><td>  24</td></tr>\n",
       "\t<tr><td>1   </td><td>Lvl </td><td>1311</td></tr>\n",
       "</tbody>\n",
       "</table>\n",
       "</td></tr>\n",
       "                </table>"
      ],
      "text/latex": [
       "\\begin{tabular}{r|ll}\n",
       " LandContour & n\\\\\n",
       "\\hline\n",
       "\t Bnk  &   63\\\\\n",
       "\t HLS  &   50\\\\\n",
       "\t Low  &   36\\\\\n",
       "\t Lvl  & 1311\\\\\n",
       "\\end{tabular}\n"
      ],
      "text/markdown": [
       "\n",
       "LandContour | n | \n",
       "|---|---|---|---|\n",
       "| Bnk  |   63 | \n",
       "| HLS  |   50 | \n",
       "| Low  |   36 | \n",
       "| Lvl  | 1311 | \n",
       "\n",
       "\n"
      ],
      "text/plain": [
       "  LandContour n   \n",
       "1 Bnk           63\n",
       "2 HLS           50\n",
       "3 Low           36\n",
       "4 Lvl         1311"
      ]
     },
     "metadata": {},
     "output_type": "display_data"
    }
   ],
   "source": [
    "type1(Heating, heating_air_furnace)\n",
    "type1(LandContour, is_land_level)"
   ]
  },
  {
   "cell_type": "code",
   "execution_count": 46,
   "metadata": {},
   "outputs": [
    {
     "data": {
      "text/html": [
       "<table>\n",
       "                  <tr style=\"background: transparent\"><td style=\"padding-right: 20px\"><b>train before</b><table>\n",
       "<thead><tr><th scope=col>LandSlope</th><th scope=col>n</th></tr></thead>\n",
       "<tbody>\n",
       "\t<tr><td>Gtl </td><td>1382</td></tr>\n",
       "\t<tr><td>Mod </td><td>  65</td></tr>\n",
       "\t<tr><td>Sev </td><td>  13</td></tr>\n",
       "</tbody>\n",
       "</table>\n",
       "</td><td style=\"padding-right: 20px\"><b>train after</b><table>\n",
       "<thead><tr><th scope=col>is_slope</th><th scope=col>LandSlope</th><th scope=col>n</th></tr></thead>\n",
       "<tbody>\n",
       "\t<tr><td>0   </td><td>Gtl </td><td>1382</td></tr>\n",
       "\t<tr><td>1   </td><td>Mod </td><td>  65</td></tr>\n",
       "\t<tr><td>1   </td><td>Sev </td><td>  13</td></tr>\n",
       "</tbody>\n",
       "</table>\n",
       "</td><td style=\"padding-right: 20px\"><b>test before</b><table>\n",
       "<thead><tr><th scope=col>LandSlope</th><th scope=col>n</th></tr></thead>\n",
       "<tbody>\n",
       "\t<tr><td>Gtl </td><td>1396</td></tr>\n",
       "\t<tr><td>Mod </td><td>  60</td></tr>\n",
       "\t<tr><td>Sev </td><td>   3</td></tr>\n",
       "</tbody>\n",
       "</table>\n",
       "</td><td><b>test before</b><table>\n",
       "<thead><tr><th scope=col>is_slope</th><th scope=col>LandSlope</th><th scope=col>n</th></tr></thead>\n",
       "<tbody>\n",
       "\t<tr><td>0   </td><td>Gtl </td><td>1396</td></tr>\n",
       "\t<tr><td>1   </td><td>Mod </td><td>  60</td></tr>\n",
       "\t<tr><td>1   </td><td>Sev </td><td>   3</td></tr>\n",
       "</tbody>\n",
       "</table>\n",
       "</td></tr>\n",
       "                </table>"
      ],
      "text/latex": [
       "\\begin{tabular}{r|ll}\n",
       " LandSlope & n\\\\\n",
       "\\hline\n",
       "\t Gtl  & 1382\\\\\n",
       "\t Mod  &   65\\\\\n",
       "\t Sev  &   13\\\\\n",
       "\\end{tabular}\n"
      ],
      "text/markdown": [
       "\n",
       "LandSlope | n | \n",
       "|---|---|---|\n",
       "| Gtl  | 1382 | \n",
       "| Mod  |   65 | \n",
       "| Sev  |   13 | \n",
       "\n",
       "\n"
      ],
      "text/plain": [
       "  LandSlope n   \n",
       "1 Gtl       1382\n",
       "2 Mod         65\n",
       "3 Sev         13"
      ]
     },
     "metadata": {},
     "output_type": "display_data"
    },
    {
     "data": {
      "text/html": [
       "<table>\n",
       "                  <tr style=\"background: transparent\"><td style=\"padding-right: 20px\"><b>train before</b><table>\n",
       "<thead><tr><th scope=col>LotShape</th><th scope=col>n</th></tr></thead>\n",
       "<tbody>\n",
       "\t<tr><td>IR1</td><td>484</td></tr>\n",
       "\t<tr><td>IR2</td><td> 41</td></tr>\n",
       "\t<tr><td>IR3</td><td> 10</td></tr>\n",
       "\t<tr><td>Reg</td><td>925</td></tr>\n",
       "</tbody>\n",
       "</table>\n",
       "</td><td style=\"padding-right: 20px\"><b>train after</b><table>\n",
       "<thead><tr><th scope=col>is_lotshape_regular</th><th scope=col>LotShape</th><th scope=col>n</th></tr></thead>\n",
       "<tbody>\n",
       "\t<tr><td>0  </td><td>IR1</td><td>484</td></tr>\n",
       "\t<tr><td>0  </td><td>IR2</td><td> 41</td></tr>\n",
       "\t<tr><td>0  </td><td>IR3</td><td> 10</td></tr>\n",
       "\t<tr><td>1  </td><td>Reg</td><td>925</td></tr>\n",
       "</tbody>\n",
       "</table>\n",
       "</td><td style=\"padding-right: 20px\"><b>test before</b><table>\n",
       "<thead><tr><th scope=col>LotShape</th><th scope=col>n</th></tr></thead>\n",
       "<tbody>\n",
       "\t<tr><td>IR1</td><td>484</td></tr>\n",
       "\t<tr><td>IR2</td><td> 35</td></tr>\n",
       "\t<tr><td>IR3</td><td>  6</td></tr>\n",
       "\t<tr><td>Reg</td><td>934</td></tr>\n",
       "</tbody>\n",
       "</table>\n",
       "</td><td><b>test before</b><table>\n",
       "<thead><tr><th scope=col>is_lotshape_regular</th><th scope=col>LotShape</th><th scope=col>n</th></tr></thead>\n",
       "<tbody>\n",
       "\t<tr><td>0  </td><td>IR1</td><td>484</td></tr>\n",
       "\t<tr><td>0  </td><td>IR2</td><td> 35</td></tr>\n",
       "\t<tr><td>0  </td><td>IR3</td><td>  6</td></tr>\n",
       "\t<tr><td>1  </td><td>Reg</td><td>934</td></tr>\n",
       "</tbody>\n",
       "</table>\n",
       "</td></tr>\n",
       "                </table>"
      ],
      "text/latex": [
       "\\begin{tabular}{r|ll}\n",
       " LotShape & n\\\\\n",
       "\\hline\n",
       "\t IR1 & 484\\\\\n",
       "\t IR2 &  41\\\\\n",
       "\t IR3 &  10\\\\\n",
       "\t Reg & 925\\\\\n",
       "\\end{tabular}\n"
      ],
      "text/markdown": [
       "\n",
       "LotShape | n | \n",
       "|---|---|---|---|\n",
       "| IR1 | 484 | \n",
       "| IR2 |  41 | \n",
       "| IR3 |  10 | \n",
       "| Reg | 925 | \n",
       "\n",
       "\n"
      ],
      "text/plain": [
       "  LotShape n  \n",
       "1 IR1      484\n",
       "2 IR2       41\n",
       "3 IR3       10\n",
       "4 Reg      925"
      ]
     },
     "metadata": {},
     "output_type": "display_data"
    }
   ],
   "source": [
    "type1(LandSlope, is_slope)\n",
    "type1(LotShape, is_lotshape_regular)"
   ]
  },
  {
   "cell_type": "code",
   "execution_count": 47,
   "metadata": {},
   "outputs": [
    {
     "data": {
      "text/html": [
       "<table>\n",
       "                  <tr style=\"background: transparent\"><td style=\"padding-right: 20px\"><b>train before</b><table>\n",
       "<thead><tr><th scope=col>MiscFeature</th><th scope=col>n</th></tr></thead>\n",
       "<tbody>\n",
       "\t<tr><td>Gar2</td><td>   2</td></tr>\n",
       "\t<tr><td>Othr</td><td>   2</td></tr>\n",
       "\t<tr><td>Shed</td><td>  49</td></tr>\n",
       "\t<tr><td>TenC</td><td>   1</td></tr>\n",
       "\t<tr><td>NA  </td><td>1406</td></tr>\n",
       "</tbody>\n",
       "</table>\n",
       "</td><td style=\"padding-right: 20px\"><b>train after</b><table>\n",
       "<thead><tr><th scope=col>has_misc_feature</th><th scope=col>MiscFeature</th><th scope=col>n</th></tr></thead>\n",
       "<tbody>\n",
       "\t<tr><td>0   </td><td>NA  </td><td>1406</td></tr>\n",
       "\t<tr><td>1   </td><td>Gar2</td><td>   2</td></tr>\n",
       "\t<tr><td>1   </td><td>Othr</td><td>   2</td></tr>\n",
       "\t<tr><td>1   </td><td>Shed</td><td>  49</td></tr>\n",
       "\t<tr><td>1   </td><td>TenC</td><td>   1</td></tr>\n",
       "</tbody>\n",
       "</table>\n",
       "</td><td style=\"padding-right: 20px\"><b>test before</b><table>\n",
       "<thead><tr><th scope=col>MiscFeature</th><th scope=col>n</th></tr></thead>\n",
       "<tbody>\n",
       "\t<tr><td>Gar2</td><td>   3</td></tr>\n",
       "\t<tr><td>Othr</td><td>   2</td></tr>\n",
       "\t<tr><td>Shed</td><td>  46</td></tr>\n",
       "\t<tr><td>NA  </td><td>1408</td></tr>\n",
       "</tbody>\n",
       "</table>\n",
       "</td><td><b>test before</b><table>\n",
       "<thead><tr><th scope=col>has_misc_feature</th><th scope=col>MiscFeature</th><th scope=col>n</th></tr></thead>\n",
       "<tbody>\n",
       "\t<tr><td>0   </td><td>NA  </td><td>1408</td></tr>\n",
       "\t<tr><td>1   </td><td>Gar2</td><td>   3</td></tr>\n",
       "\t<tr><td>1   </td><td>Othr</td><td>   2</td></tr>\n",
       "\t<tr><td>1   </td><td>Shed</td><td>  46</td></tr>\n",
       "</tbody>\n",
       "</table>\n",
       "</td></tr>\n",
       "                </table>"
      ],
      "text/latex": [
       "\\begin{tabular}{r|ll}\n",
       " MiscFeature & n\\\\\n",
       "\\hline\n",
       "\t Gar2 &    2\\\\\n",
       "\t Othr &    2\\\\\n",
       "\t Shed &   49\\\\\n",
       "\t TenC &    1\\\\\n",
       "\t NA   & 1406\\\\\n",
       "\\end{tabular}\n"
      ],
      "text/markdown": [
       "\n",
       "MiscFeature | n | \n",
       "|---|---|---|---|---|\n",
       "| Gar2 |    2 | \n",
       "| Othr |    2 | \n",
       "| Shed |   49 | \n",
       "| TenC |    1 | \n",
       "| NA   | 1406 | \n",
       "\n",
       "\n"
      ],
      "text/plain": [
       "  MiscFeature n   \n",
       "1 Gar2           2\n",
       "2 Othr           2\n",
       "3 Shed          49\n",
       "4 TenC           1\n",
       "5 NA          1406"
      ]
     },
     "metadata": {},
     "output_type": "display_data"
    },
    {
     "data": {
      "text/html": [
       "<table>\n",
       "                  <tr style=\"background: transparent\"><td style=\"padding-right: 20px\"><b>train before</b><table>\n",
       "<thead><tr><th scope=col>PavedDrive</th><th scope=col>n</th></tr></thead>\n",
       "<tbody>\n",
       "\t<tr><td>N   </td><td>  90</td></tr>\n",
       "\t<tr><td>P   </td><td>  30</td></tr>\n",
       "\t<tr><td>Y   </td><td>1340</td></tr>\n",
       "</tbody>\n",
       "</table>\n",
       "</td><td style=\"padding-right: 20px\"><b>train after</b><table>\n",
       "<thead><tr><th scope=col>has_paved_drive</th><th scope=col>PavedDrive</th><th scope=col>n</th></tr></thead>\n",
       "<tbody>\n",
       "\t<tr><td>0   </td><td>N   </td><td>  90</td></tr>\n",
       "\t<tr><td>0   </td><td>P   </td><td>  30</td></tr>\n",
       "\t<tr><td>1   </td><td>Y   </td><td>1340</td></tr>\n",
       "</tbody>\n",
       "</table>\n",
       "</td><td style=\"padding-right: 20px\"><b>test before</b><table>\n",
       "<thead><tr><th scope=col>PavedDrive</th><th scope=col>n</th></tr></thead>\n",
       "<tbody>\n",
       "\t<tr><td>N   </td><td> 126</td></tr>\n",
       "\t<tr><td>P   </td><td>  32</td></tr>\n",
       "\t<tr><td>Y   </td><td>1301</td></tr>\n",
       "</tbody>\n",
       "</table>\n",
       "</td><td><b>test before</b><table>\n",
       "<thead><tr><th scope=col>has_paved_drive</th><th scope=col>PavedDrive</th><th scope=col>n</th></tr></thead>\n",
       "<tbody>\n",
       "\t<tr><td>0   </td><td>N   </td><td> 126</td></tr>\n",
       "\t<tr><td>0   </td><td>P   </td><td>  32</td></tr>\n",
       "\t<tr><td>1   </td><td>Y   </td><td>1301</td></tr>\n",
       "</tbody>\n",
       "</table>\n",
       "</td></tr>\n",
       "                </table>"
      ],
      "text/latex": [
       "\\begin{tabular}{r|ll}\n",
       " PavedDrive & n\\\\\n",
       "\\hline\n",
       "\t N    &   90\\\\\n",
       "\t P    &   30\\\\\n",
       "\t Y    & 1340\\\\\n",
       "\\end{tabular}\n"
      ],
      "text/markdown": [
       "\n",
       "PavedDrive | n | \n",
       "|---|---|---|\n",
       "| N    |   90 | \n",
       "| P    |   30 | \n",
       "| Y    | 1340 | \n",
       "\n",
       "\n"
      ],
      "text/plain": [
       "  PavedDrive n   \n",
       "1 N            90\n",
       "2 P            30\n",
       "3 Y          1340"
      ]
     },
     "metadata": {},
     "output_type": "display_data"
    }
   ],
   "source": [
    "type1(MiscFeature, has_misc_feature)\n",
    "type1(PavedDrive, has_paved_drive)"
   ]
  },
  {
   "cell_type": "code",
   "execution_count": 121,
   "metadata": {},
   "outputs": [
    {
     "data": {
      "text/html": [
       "<table>\n",
       "                  <tr style=\"background: transparent\"><td style=\"padding-right: 20px\"><b>train before</b><table>\n",
       "<thead><tr><th scope=col>PoolQC</th><th scope=col>n</th></tr></thead>\n",
       "<tbody>\n",
       "\t<tr><td>Ex  </td><td>   2</td></tr>\n",
       "\t<tr><td>Fa  </td><td>   2</td></tr>\n",
       "\t<tr><td>Gd  </td><td>   3</td></tr>\n",
       "\t<tr><td>NA  </td><td>1453</td></tr>\n",
       "</tbody>\n",
       "</table>\n",
       "</td><td style=\"padding-right: 20px\"><b>train after</b><table>\n",
       "<thead><tr><th scope=col>has_pool</th><th scope=col>PoolQC</th><th scope=col>n</th></tr></thead>\n",
       "<tbody>\n",
       "\t<tr><td>0   </td><td>NA  </td><td>1453</td></tr>\n",
       "\t<tr><td>1   </td><td>Ex  </td><td>   2</td></tr>\n",
       "\t<tr><td>1   </td><td>Fa  </td><td>   2</td></tr>\n",
       "\t<tr><td>1   </td><td>Gd  </td><td>   3</td></tr>\n",
       "</tbody>\n",
       "</table>\n",
       "</td><td style=\"padding-right: 20px\"><b>test before</b><table>\n",
       "<thead><tr><th scope=col>PoolQC</th><th scope=col>n</th></tr></thead>\n",
       "<tbody>\n",
       "\t<tr><td>Ex  </td><td>   2</td></tr>\n",
       "\t<tr><td>Gd  </td><td>   1</td></tr>\n",
       "\t<tr><td>NA  </td><td>1456</td></tr>\n",
       "</tbody>\n",
       "</table>\n",
       "</td><td><b>test before</b><table>\n",
       "<thead><tr><th scope=col>has_pool</th><th scope=col>PoolQC</th><th scope=col>n</th></tr></thead>\n",
       "<tbody>\n",
       "\t<tr><td>0   </td><td>NA  </td><td>1456</td></tr>\n",
       "\t<tr><td>1   </td><td>Ex  </td><td>   2</td></tr>\n",
       "\t<tr><td>1   </td><td>Gd  </td><td>   1</td></tr>\n",
       "</tbody>\n",
       "</table>\n",
       "</td></tr>\n",
       "                </table>"
      ],
      "text/latex": [
       "\\begin{tabular}{r|ll}\n",
       " PoolQC & n\\\\\n",
       "\\hline\n",
       "\t Ex   &    2\\\\\n",
       "\t Fa   &    2\\\\\n",
       "\t Gd   &    3\\\\\n",
       "\t NA   & 1453\\\\\n",
       "\\end{tabular}\n"
      ],
      "text/markdown": [
       "\n",
       "PoolQC | n | \n",
       "|---|---|---|---|\n",
       "| Ex   |    2 | \n",
       "| Fa   |    2 | \n",
       "| Gd   |    3 | \n",
       "| NA   | 1453 | \n",
       "\n",
       "\n"
      ],
      "text/plain": [
       "  PoolQC n   \n",
       "1 Ex        2\n",
       "2 Fa        2\n",
       "3 Gd        3\n",
       "4 NA     1453"
      ]
     },
     "metadata": {},
     "output_type": "display_data"
    },
    {
     "data": {
      "text/html": [
       "<table>\n",
       "                  <tr style=\"background: transparent\"><td style=\"padding-right: 20px\"><b>train before</b><table>\n",
       "<thead><tr><th scope=col>RoofMatl</th><th scope=col>n</th></tr></thead>\n",
       "<tbody>\n",
       "\t<tr><td>ClyTile</td><td>   1   </td></tr>\n",
       "\t<tr><td>CompShg</td><td>1434   </td></tr>\n",
       "\t<tr><td>Membran</td><td>   1   </td></tr>\n",
       "\t<tr><td>Metal  </td><td>   1   </td></tr>\n",
       "\t<tr><td>Roll   </td><td>   1   </td></tr>\n",
       "\t<tr><td>Tar&amp;Grv                                 </td><td><span style=white-space:pre-wrap>  11</span></td></tr>\n",
       "\t<tr><td>WdShake</td><td>   5   </td></tr>\n",
       "\t<tr><td>WdShngl</td><td>   6   </td></tr>\n",
       "</tbody>\n",
       "</table>\n",
       "</td><td style=\"padding-right: 20px\"><b>train after</b><table>\n",
       "<thead><tr><th scope=col>standard_roof_material</th><th scope=col>RoofMatl</th><th scope=col>n</th></tr></thead>\n",
       "<tbody>\n",
       "\t<tr><td>0      </td><td>ClyTile</td><td>   1   </td></tr>\n",
       "\t<tr><td>0      </td><td>Membran</td><td>   1   </td></tr>\n",
       "\t<tr><td>0      </td><td>Metal  </td><td>   1   </td></tr>\n",
       "\t<tr><td>0      </td><td>Roll   </td><td>   1   </td></tr>\n",
       "\t<tr><td>0                                           </td><td>Tar&amp;Grv                                 </td><td><span style=white-space:pre-wrap>  11</span></td></tr>\n",
       "\t<tr><td>0      </td><td>WdShake</td><td>   5   </td></tr>\n",
       "\t<tr><td>0      </td><td>WdShngl</td><td>   6   </td></tr>\n",
       "\t<tr><td>1      </td><td>CompShg</td><td>1434   </td></tr>\n",
       "</tbody>\n",
       "</table>\n",
       "</td><td style=\"padding-right: 20px\"><b>test before</b><table>\n",
       "<thead><tr><th scope=col>RoofMatl</th><th scope=col>n</th></tr></thead>\n",
       "<tbody>\n",
       "\t<tr><td>CompShg</td><td>1442   </td></tr>\n",
       "\t<tr><td>Tar&amp;Grv                                 </td><td><span style=white-space:pre-wrap>  12</span></td></tr>\n",
       "\t<tr><td>WdShake</td><td>   4   </td></tr>\n",
       "\t<tr><td>WdShngl</td><td>   1   </td></tr>\n",
       "</tbody>\n",
       "</table>\n",
       "</td><td><b>test before</b><table>\n",
       "<thead><tr><th scope=col>standard_roof_material</th><th scope=col>RoofMatl</th><th scope=col>n</th></tr></thead>\n",
       "<tbody>\n",
       "\t<tr><td>0                                           </td><td>Tar&amp;Grv                                 </td><td><span style=white-space:pre-wrap>  12</span></td></tr>\n",
       "\t<tr><td>0      </td><td>WdShake</td><td>   4   </td></tr>\n",
       "\t<tr><td>0      </td><td>WdShngl</td><td>   1   </td></tr>\n",
       "\t<tr><td>1      </td><td>CompShg</td><td>1442   </td></tr>\n",
       "</tbody>\n",
       "</table>\n",
       "</td></tr>\n",
       "                </table>"
      ],
      "text/latex": [
       "\\begin{tabular}{r|ll}\n",
       " RoofMatl & n\\\\\n",
       "\\hline\n",
       "\t ClyTile &    1   \\\\\n",
       "\t CompShg & 1434   \\\\\n",
       "\t Membran &    1   \\\\\n",
       "\t Metal   &    1   \\\\\n",
       "\t Roll    &    1   \\\\\n",
       "\t Tar\\&Grv &   11     \\\\\n",
       "\t WdShake &    5   \\\\\n",
       "\t WdShngl &    6   \\\\\n",
       "\\end{tabular}\n"
      ],
      "text/markdown": [
       "\n",
       "RoofMatl | n | \n",
       "|---|---|---|---|---|---|---|---|\n",
       "| ClyTile |    1    | \n",
       "| CompShg | 1434    | \n",
       "| Membran |    1    | \n",
       "| Metal   |    1    | \n",
       "| Roll    |    1    | \n",
       "| Tar&Grv |   11    | \n",
       "| WdShake |    5    | \n",
       "| WdShngl |    6    | \n",
       "\n",
       "\n"
      ],
      "text/plain": [
       "  RoofMatl n   \n",
       "1 ClyTile     1\n",
       "2 CompShg  1434\n",
       "3 Membran     1\n",
       "4 Metal       1\n",
       "5 Roll        1\n",
       "6 Tar&Grv    11\n",
       "7 WdShake     5\n",
       "8 WdShngl     6"
      ]
     },
     "metadata": {},
     "output_type": "display_data"
    }
   ],
   "source": [
    "type1(PoolQC, has_pool)\n",
    "type1(RoofMatl, standard_roof_material)"
   ]
  },
  {
   "cell_type": "code",
   "execution_count": 122,
   "metadata": {},
   "outputs": [
    {
     "data": {
      "text/html": [
       "<table>\n",
       "                  <tr style=\"background: transparent\"><td style=\"padding-right: 20px\"><b>train before</b><table>\n",
       "<thead><tr><th scope=col>Street</th><th scope=col>n</th></tr></thead>\n",
       "<tbody>\n",
       "\t<tr><td>Grvl</td><td>   6</td></tr>\n",
       "\t<tr><td>Pave</td><td>1454</td></tr>\n",
       "</tbody>\n",
       "</table>\n",
       "</td><td style=\"padding-right: 20px\"><b>train after</b><table>\n",
       "<thead><tr><th scope=col>is_street_paved</th><th scope=col>Street</th><th scope=col>n</th></tr></thead>\n",
       "<tbody>\n",
       "\t<tr><td>0   </td><td>Grvl</td><td>   6</td></tr>\n",
       "\t<tr><td>1   </td><td>Pave</td><td>1454</td></tr>\n",
       "</tbody>\n",
       "</table>\n",
       "</td><td style=\"padding-right: 20px\"><b>test before</b><table>\n",
       "<thead><tr><th scope=col>Street</th><th scope=col>n</th></tr></thead>\n",
       "<tbody>\n",
       "\t<tr><td>Grvl</td><td>   6</td></tr>\n",
       "\t<tr><td>Pave</td><td>1453</td></tr>\n",
       "</tbody>\n",
       "</table>\n",
       "</td><td><b>test before</b><table>\n",
       "<thead><tr><th scope=col>is_street_paved</th><th scope=col>Street</th><th scope=col>n</th></tr></thead>\n",
       "<tbody>\n",
       "\t<tr><td>0   </td><td>Grvl</td><td>   6</td></tr>\n",
       "\t<tr><td>1   </td><td>Pave</td><td>1453</td></tr>\n",
       "</tbody>\n",
       "</table>\n",
       "</td></tr>\n",
       "                </table>"
      ],
      "text/latex": [
       "\\begin{tabular}{r|ll}\n",
       " Street & n\\\\\n",
       "\\hline\n",
       "\t Grvl &    6\\\\\n",
       "\t Pave & 1454\\\\\n",
       "\\end{tabular}\n"
      ],
      "text/markdown": [
       "\n",
       "Street | n | \n",
       "|---|---|\n",
       "| Grvl |    6 | \n",
       "| Pave | 1454 | \n",
       "\n",
       "\n"
      ],
      "text/plain": [
       "  Street n   \n",
       "1 Grvl      6\n",
       "2 Pave   1454"
      ]
     },
     "metadata": {},
     "output_type": "display_data"
    },
    {
     "data": {
      "text/html": [
       "<table>\n",
       "                  <tr style=\"background: transparent\"><td style=\"padding-right: 20px\"><b>train before</b><table>\n",
       "<thead><tr><th scope=col>Utilities</th><th scope=col>n</th></tr></thead>\n",
       "<tbody>\n",
       "\t<tr><td>AllPub</td><td>1459  </td></tr>\n",
       "\t<tr><td>NoSeWa</td><td>   1  </td></tr>\n",
       "</tbody>\n",
       "</table>\n",
       "</td><td style=\"padding-right: 20px\"><b>train after</b><table>\n",
       "<thead><tr><th scope=col>all_utilities</th><th scope=col>Utilities</th><th scope=col>n</th></tr></thead>\n",
       "<tbody>\n",
       "\t<tr><td>0     </td><td>NoSeWa</td><td>   1  </td></tr>\n",
       "\t<tr><td>1     </td><td>AllPub</td><td>1459  </td></tr>\n",
       "</tbody>\n",
       "</table>\n",
       "</td><td style=\"padding-right: 20px\"><b>test before</b><table>\n",
       "<thead><tr><th scope=col>Utilities</th><th scope=col>n</th></tr></thead>\n",
       "<tbody>\n",
       "\t<tr><td>AllPub</td><td>1457  </td></tr>\n",
       "\t<tr><td>NA    </td><td>   2  </td></tr>\n",
       "</tbody>\n",
       "</table>\n",
       "</td><td><b>test before</b><table>\n",
       "<thead><tr><th scope=col>all_utilities</th><th scope=col>Utilities</th><th scope=col>n</th></tr></thead>\n",
       "<tbody>\n",
       "\t<tr><td> 1    </td><td>AllPub</td><td>1457  </td></tr>\n",
       "\t<tr><td>NA    </td><td>NA    </td><td>   2  </td></tr>\n",
       "</tbody>\n",
       "</table>\n",
       "</td></tr>\n",
       "                </table>"
      ],
      "text/latex": [
       "\\begin{tabular}{r|ll}\n",
       " Utilities & n\\\\\n",
       "\\hline\n",
       "\t AllPub & 1459  \\\\\n",
       "\t NoSeWa &    1  \\\\\n",
       "\\end{tabular}\n"
      ],
      "text/markdown": [
       "\n",
       "Utilities | n | \n",
       "|---|---|\n",
       "| AllPub | 1459   | \n",
       "| NoSeWa |    1   | \n",
       "\n",
       "\n"
      ],
      "text/plain": [
       "  Utilities n   \n",
       "1 AllPub    1459\n",
       "2 NoSeWa       1"
      ]
     },
     "metadata": {},
     "output_type": "display_data"
    }
   ],
   "source": [
    "type1(Street, is_street_paved)\n",
    "type1(Utilities, all_utilities)"
   ]
  },
  {
   "cell_type": "code",
   "execution_count": 89,
   "metadata": {
    "collapsed": true
   },
   "outputs": [],
   "source": [
    "library(IRdisplay)\n",
    "\n",
    "type2 <- function(attrName, newAttrName) {\n",
    "        \n",
    "    attrName <- enquo(attrName)\n",
    "    newAttrName <- enquo(newAttrName)\n",
    "    \n",
    "    tranFun <- kaggle.house$trans$type2TransContainer[[as.character(attrName)[2]]]\n",
    "    \n",
    "    result = tranFun(df.training.bad.na.fixed)\n",
    "    \n",
    "    df.trainAfter <- result$df.new\n",
    "    testsetTransformator <- result$testsetTransformator\n",
    "    df.testAfter <- testsetTransformator(df.testing.bad.na.fixed)\n",
    "    \n",
    "    x.train <- \n",
    "        df.trainAfter %>% \n",
    "        group_by(!!attrName) %>%\n",
    "        summarise(mi = min(!!newAttrName), ma = max(!!newAttrName), n = n()) %>% \n",
    "        mutate(mi == ma) %>% prepare_mimebundle\n",
    "    \n",
    "    x.test <- \n",
    "        df.trainAfter %>% \n",
    "        group_by(!!attrName) %>%\n",
    "        summarise(mi = min(!!newAttrName), ma = max(!!newAttrName), n = n()) %>% \n",
    "        mutate(mi == ma) %>% prepare_mimebundle\n",
    "\n",
    "    z <- paste0('<table>\n",
    "                  <tr style=\"background: transparent\">', \n",
    "                   '<td style=\"padding-right: 20px\"><b>train</b>', x.train$data[['text/html']], '</td>',\n",
    "                   '<td><b>test</b>',                              x.test$data[['text/html']],   '</td>',\n",
    "                 '</tr>\n",
    "                </table>')\n",
    "    \n",
    "    x.train$data[['text/html']] <- z\n",
    "    publish_mimebundle(x.train$data, x.train$metadata)\n",
    "}"
   ]
  },
  {
   "cell_type": "code",
   "execution_count": 91,
   "metadata": {},
   "outputs": [
    {
     "data": {
      "text/html": [
       "<table>\n",
       "                  <tr style=\"background: transparent\"><td style=\"padding-right: 20px\"><b>train</b><table>\n",
       "<thead><tr><th scope=col>BldgType</th><th scope=col>mi</th><th scope=col>ma</th><th scope=col>n</th><th scope=col>mi == ma</th></tr></thead>\n",
       "<tbody>\n",
       "\t<tr><td>1Fam    </td><td>12.03112</td><td>12.03112</td><td>1220    </td><td>TRUE    </td></tr>\n",
       "\t<tr><td>2fmCon  </td><td>11.75587</td><td>11.75587</td><td>  31    </td><td>TRUE    </td></tr>\n",
       "\t<tr><td>Duplex  </td><td>11.82026</td><td>11.82026</td><td>  52    </td><td>TRUE    </td></tr>\n",
       "\t<tr><td>Twnhs   </td><td>11.83138</td><td>11.83138</td><td>  43    </td><td>TRUE    </td></tr>\n",
       "\t<tr><td>TwnhsE  </td><td>12.05641</td><td>12.05641</td><td> 114    </td><td>TRUE    </td></tr>\n",
       "</tbody>\n",
       "</table>\n",
       "</td><td><b>test</b><table>\n",
       "<thead><tr><th scope=col>BldgType</th><th scope=col>mi</th><th scope=col>ma</th><th scope=col>n</th><th scope=col>mi == ma</th></tr></thead>\n",
       "<tbody>\n",
       "\t<tr><td>1Fam    </td><td>12.03112</td><td>12.03112</td><td>1220    </td><td>TRUE    </td></tr>\n",
       "\t<tr><td>2fmCon  </td><td>11.75587</td><td>11.75587</td><td>  31    </td><td>TRUE    </td></tr>\n",
       "\t<tr><td>Duplex  </td><td>11.82026</td><td>11.82026</td><td>  52    </td><td>TRUE    </td></tr>\n",
       "\t<tr><td>Twnhs   </td><td>11.83138</td><td>11.83138</td><td>  43    </td><td>TRUE    </td></tr>\n",
       "\t<tr><td>TwnhsE  </td><td>12.05641</td><td>12.05641</td><td> 114    </td><td>TRUE    </td></tr>\n",
       "</tbody>\n",
       "</table>\n",
       "</td></tr>\n",
       "                </table>"
      ],
      "text/latex": [
       "\\begin{tabular}{r|lllll}\n",
       " BldgType & mi & ma & n & mi == ma\\\\\n",
       "\\hline\n",
       "\t 1Fam     & 12.03112 & 12.03112 & 1220     & TRUE    \\\\\n",
       "\t 2fmCon   & 11.75587 & 11.75587 &   31     & TRUE    \\\\\n",
       "\t Duplex   & 11.82026 & 11.82026 &   52     & TRUE    \\\\\n",
       "\t Twnhs    & 11.83138 & 11.83138 &   43     & TRUE    \\\\\n",
       "\t TwnhsE   & 12.05641 & 12.05641 &  114     & TRUE    \\\\\n",
       "\\end{tabular}\n"
      ],
      "text/markdown": [
       "\n",
       "BldgType | mi | ma | n | mi == ma | \n",
       "|---|---|---|---|---|\n",
       "| 1Fam     | 12.03112 | 12.03112 | 1220     | TRUE     | \n",
       "| 2fmCon   | 11.75587 | 11.75587 |   31     | TRUE     | \n",
       "| Duplex   | 11.82026 | 11.82026 |   52     | TRUE     | \n",
       "| Twnhs    | 11.83138 | 11.83138 |   43     | TRUE     | \n",
       "| TwnhsE   | 12.05641 | 12.05641 |  114     | TRUE     | \n",
       "\n",
       "\n"
      ],
      "text/plain": [
       "  BldgType mi       ma       n    mi == ma\n",
       "1 1Fam     12.03112 12.03112 1220 TRUE    \n",
       "2 2fmCon   11.75587 11.75587   31 TRUE    \n",
       "3 Duplex   11.82026 11.82026   52 TRUE    \n",
       "4 Twnhs    11.83138 11.83138   43 TRUE    \n",
       "5 TwnhsE   12.05641 12.05641  114 TRUE    "
      ]
     },
     "metadata": {},
     "output_type": "display_data"
    }
   ],
   "source": [
    "type2(BldgType, building_type)\n",
    "#type2(BsmtCond, basement_condition)"
   ]
  },
  {
   "cell_type": "code",
   "execution_count": 60,
   "metadata": {},
   "outputs": [
    {
     "data": {
      "text/html": [
       "<table>\n",
       "                  <tr style=\"background: transparent\"><td style=\"padding-right: 20px\"><b>train</b><table>\n",
       "<thead><tr><th scope=col>BsmtExposure</th><th scope=col>mi</th><th scope=col>ma</th><th scope=col>n</th><th scope=col>mi == ma</th></tr></thead>\n",
       "<tbody>\n",
       "\t<tr><td>Av      </td><td>12.13270</td><td>12.13270</td><td>221     </td><td>TRUE    </td></tr>\n",
       "\t<tr><td>Gd      </td><td>12.33256</td><td>12.33256</td><td>134     </td><td>TRUE    </td></tr>\n",
       "\t<tr><td>Mn      </td><td>12.11413</td><td>12.11413</td><td>114     </td><td>TRUE    </td></tr>\n",
       "\t<tr><td>No      </td><td>11.94471</td><td>11.94471</td><td>953     </td><td>TRUE    </td></tr>\n",
       "\t<tr><td>NA      </td><td>11.55216</td><td>11.55216</td><td> 38     </td><td>TRUE    </td></tr>\n",
       "</tbody>\n",
       "</table>\n",
       "</td><td><b>test</b><table>\n",
       "<thead><tr><th scope=col>BsmtExposure</th><th scope=col>mi</th><th scope=col>ma</th><th scope=col>n</th><th scope=col>mi == ma</th></tr></thead>\n",
       "<tbody>\n",
       "\t<tr><td>Av      </td><td>12.13270</td><td>12.13270</td><td>221     </td><td>TRUE    </td></tr>\n",
       "\t<tr><td>Gd      </td><td>12.33256</td><td>12.33256</td><td>134     </td><td>TRUE    </td></tr>\n",
       "\t<tr><td>Mn      </td><td>12.11413</td><td>12.11413</td><td>114     </td><td>TRUE    </td></tr>\n",
       "\t<tr><td>No      </td><td>11.94471</td><td>11.94471</td><td>953     </td><td>TRUE    </td></tr>\n",
       "\t<tr><td>NA      </td><td>11.55216</td><td>11.55216</td><td> 38     </td><td>TRUE    </td></tr>\n",
       "</tbody>\n",
       "</table>\n",
       "</td></tr>\n",
       "                </table>"
      ],
      "text/latex": [
       "\\begin{tabular}{r|lllll}\n",
       " BsmtExposure & mi & ma & n & mi == ma\\\\\n",
       "\\hline\n",
       "\t Av       & 12.13270 & 12.13270 & 221      & TRUE    \\\\\n",
       "\t Gd       & 12.33256 & 12.33256 & 134      & TRUE    \\\\\n",
       "\t Mn       & 12.11413 & 12.11413 & 114      & TRUE    \\\\\n",
       "\t No       & 11.94471 & 11.94471 & 953      & TRUE    \\\\\n",
       "\t NA       & 11.55216 & 11.55216 &  38      & TRUE    \\\\\n",
       "\\end{tabular}\n"
      ],
      "text/markdown": [
       "\n",
       "BsmtExposure | mi | ma | n | mi == ma | \n",
       "|---|---|---|---|---|\n",
       "| Av       | 12.13270 | 12.13270 | 221      | TRUE     | \n",
       "| Gd       | 12.33256 | 12.33256 | 134      | TRUE     | \n",
       "| Mn       | 12.11413 | 12.11413 | 114      | TRUE     | \n",
       "| No       | 11.94471 | 11.94471 | 953      | TRUE     | \n",
       "| NA       | 11.55216 | 11.55216 |  38      | TRUE     | \n",
       "\n",
       "\n"
      ],
      "text/plain": [
       "  BsmtExposure mi       ma       n   mi == ma\n",
       "1 Av           12.13270 12.13270 221 TRUE    \n",
       "2 Gd           12.33256 12.33256 134 TRUE    \n",
       "3 Mn           12.11413 12.11413 114 TRUE    \n",
       "4 No           11.94471 11.94471 953 TRUE    \n",
       "5 NA           11.55216 11.55216  38 TRUE    "
      ]
     },
     "metadata": {},
     "output_type": "display_data"
    },
    {
     "data": {
      "text/html": [
       "<table>\n",
       "                  <tr style=\"background: transparent\"><td style=\"padding-right: 20px\"><b>train</b><table>\n",
       "<thead><tr><th scope=col>BsmtFinType1</th><th scope=col>mi</th><th scope=col>ma</th><th scope=col>n</th><th scope=col>mi == ma</th></tr></thead>\n",
       "<tbody>\n",
       "\t<tr><td>ALQ     </td><td>11.91338</td><td>11.91338</td><td>220     </td><td>TRUE    </td></tr>\n",
       "\t<tr><td>BLQ     </td><td>11.84295</td><td>11.84295</td><td>148     </td><td>TRUE    </td></tr>\n",
       "\t<tr><td>GLQ     </td><td>12.27256</td><td>12.27256</td><td>418     </td><td>TRUE    </td></tr>\n",
       "\t<tr><td>LwQ     </td><td>11.84223</td><td>11.84223</td><td> 74     </td><td>TRUE    </td></tr>\n",
       "\t<tr><td>Rec     </td><td>11.86358</td><td>11.86358</td><td>133     </td><td>TRUE    </td></tr>\n",
       "\t<tr><td>Unf     </td><td>11.99381</td><td>11.99381</td><td>430     </td><td>TRUE    </td></tr>\n",
       "\t<tr><td>NA      </td><td>11.53077</td><td>11.53077</td><td> 37     </td><td>TRUE    </td></tr>\n",
       "</tbody>\n",
       "</table>\n",
       "</td><td><b>test</b><table>\n",
       "<thead><tr><th scope=col>BsmtFinType1</th><th scope=col>mi</th><th scope=col>ma</th><th scope=col>n</th><th scope=col>mi == ma</th></tr></thead>\n",
       "<tbody>\n",
       "\t<tr><td>ALQ     </td><td>11.91338</td><td>11.91338</td><td>220     </td><td>TRUE    </td></tr>\n",
       "\t<tr><td>BLQ     </td><td>11.84295</td><td>11.84295</td><td>148     </td><td>TRUE    </td></tr>\n",
       "\t<tr><td>GLQ     </td><td>12.27256</td><td>12.27256</td><td>418     </td><td>TRUE    </td></tr>\n",
       "\t<tr><td>LwQ     </td><td>11.84223</td><td>11.84223</td><td> 74     </td><td>TRUE    </td></tr>\n",
       "\t<tr><td>Rec     </td><td>11.86358</td><td>11.86358</td><td>133     </td><td>TRUE    </td></tr>\n",
       "\t<tr><td>Unf     </td><td>11.99381</td><td>11.99381</td><td>430     </td><td>TRUE    </td></tr>\n",
       "\t<tr><td>NA      </td><td>11.53077</td><td>11.53077</td><td> 37     </td><td>TRUE    </td></tr>\n",
       "</tbody>\n",
       "</table>\n",
       "</td></tr>\n",
       "                </table>"
      ],
      "text/latex": [
       "\\begin{tabular}{r|lllll}\n",
       " BsmtFinType1 & mi & ma & n & mi == ma\\\\\n",
       "\\hline\n",
       "\t ALQ      & 11.91338 & 11.91338 & 220      & TRUE    \\\\\n",
       "\t BLQ      & 11.84295 & 11.84295 & 148      & TRUE    \\\\\n",
       "\t GLQ      & 12.27256 & 12.27256 & 418      & TRUE    \\\\\n",
       "\t LwQ      & 11.84223 & 11.84223 &  74      & TRUE    \\\\\n",
       "\t Rec      & 11.86358 & 11.86358 & 133      & TRUE    \\\\\n",
       "\t Unf      & 11.99381 & 11.99381 & 430      & TRUE    \\\\\n",
       "\t NA       & 11.53077 & 11.53077 &  37      & TRUE    \\\\\n",
       "\\end{tabular}\n"
      ],
      "text/markdown": [
       "\n",
       "BsmtFinType1 | mi | ma | n | mi == ma | \n",
       "|---|---|---|---|---|---|---|\n",
       "| ALQ      | 11.91338 | 11.91338 | 220      | TRUE     | \n",
       "| BLQ      | 11.84295 | 11.84295 | 148      | TRUE     | \n",
       "| GLQ      | 12.27256 | 12.27256 | 418      | TRUE     | \n",
       "| LwQ      | 11.84223 | 11.84223 |  74      | TRUE     | \n",
       "| Rec      | 11.86358 | 11.86358 | 133      | TRUE     | \n",
       "| Unf      | 11.99381 | 11.99381 | 430      | TRUE     | \n",
       "| NA       | 11.53077 | 11.53077 |  37      | TRUE     | \n",
       "\n",
       "\n"
      ],
      "text/plain": [
       "  BsmtFinType1 mi       ma       n   mi == ma\n",
       "1 ALQ          11.91338 11.91338 220 TRUE    \n",
       "2 BLQ          11.84295 11.84295 148 TRUE    \n",
       "3 GLQ          12.27256 12.27256 418 TRUE    \n",
       "4 LwQ          11.84223 11.84223  74 TRUE    \n",
       "5 Rec          11.86358 11.86358 133 TRUE    \n",
       "6 Unf          11.99381 11.99381 430 TRUE    \n",
       "7 NA           11.53077 11.53077  37 TRUE    "
      ]
     },
     "metadata": {},
     "output_type": "display_data"
    }
   ],
   "source": [
    "type2(BsmtExposure, basement_exposure)\n",
    "type2(BsmtFinType1, basement_finish1)"
   ]
  },
  {
   "cell_type": "code",
   "execution_count": 62,
   "metadata": {},
   "outputs": [
    {
     "data": {
      "text/html": [
       "<table>\n",
       "                  <tr style=\"background: transparent\"><td style=\"padding-right: 20px\"><b>train</b><table>\n",
       "<thead><tr><th scope=col>BsmtFinType2</th><th scope=col>mi</th><th scope=col>ma</th><th scope=col>n</th><th scope=col>mi == ma</th></tr></thead>\n",
       "<tbody>\n",
       "\t<tr><td>ALQ     </td><td>12.07197</td><td>12.07197</td><td>  19    </td><td>TRUE    </td></tr>\n",
       "\t<tr><td>BLQ     </td><td>11.87060</td><td>11.87060</td><td>  33    </td><td>TRUE    </td></tr>\n",
       "\t<tr><td>GLQ     </td><td>12.22033</td><td>12.22033</td><td>  14    </td><td>TRUE    </td></tr>\n",
       "\t<tr><td>LwQ     </td><td>11.94469</td><td>11.94469</td><td>  46    </td><td>TRUE    </td></tr>\n",
       "\t<tr><td>Rec     </td><td>11.90995</td><td>11.90995</td><td>  54    </td><td>TRUE    </td></tr>\n",
       "\t<tr><td>Unf     </td><td>12.02575</td><td>12.02575</td><td>1256    </td><td>TRUE    </td></tr>\n",
       "\t<tr><td>NA      </td><td>11.55216</td><td>11.55216</td><td>  38    </td><td>TRUE    </td></tr>\n",
       "</tbody>\n",
       "</table>\n",
       "</td><td><b>test</b><table>\n",
       "<thead><tr><th scope=col>BsmtFinType2</th><th scope=col>mi</th><th scope=col>ma</th><th scope=col>n</th><th scope=col>mi == ma</th></tr></thead>\n",
       "<tbody>\n",
       "\t<tr><td>ALQ     </td><td>12.07197</td><td>12.07197</td><td>  19    </td><td>TRUE    </td></tr>\n",
       "\t<tr><td>BLQ     </td><td>11.87060</td><td>11.87060</td><td>  33    </td><td>TRUE    </td></tr>\n",
       "\t<tr><td>GLQ     </td><td>12.22033</td><td>12.22033</td><td>  14    </td><td>TRUE    </td></tr>\n",
       "\t<tr><td>LwQ     </td><td>11.94469</td><td>11.94469</td><td>  46    </td><td>TRUE    </td></tr>\n",
       "\t<tr><td>Rec     </td><td>11.90995</td><td>11.90995</td><td>  54    </td><td>TRUE    </td></tr>\n",
       "\t<tr><td>Unf     </td><td>12.02575</td><td>12.02575</td><td>1256    </td><td>TRUE    </td></tr>\n",
       "\t<tr><td>NA      </td><td>11.55216</td><td>11.55216</td><td>  38    </td><td>TRUE    </td></tr>\n",
       "</tbody>\n",
       "</table>\n",
       "</td></tr>\n",
       "                </table>"
      ],
      "text/latex": [
       "\\begin{tabular}{r|lllll}\n",
       " BsmtFinType2 & mi & ma & n & mi == ma\\\\\n",
       "\\hline\n",
       "\t ALQ      & 12.07197 & 12.07197 &   19     & TRUE    \\\\\n",
       "\t BLQ      & 11.87060 & 11.87060 &   33     & TRUE    \\\\\n",
       "\t GLQ      & 12.22033 & 12.22033 &   14     & TRUE    \\\\\n",
       "\t LwQ      & 11.94469 & 11.94469 &   46     & TRUE    \\\\\n",
       "\t Rec      & 11.90995 & 11.90995 &   54     & TRUE    \\\\\n",
       "\t Unf      & 12.02575 & 12.02575 & 1256     & TRUE    \\\\\n",
       "\t NA       & 11.55216 & 11.55216 &   38     & TRUE    \\\\\n",
       "\\end{tabular}\n"
      ],
      "text/markdown": [
       "\n",
       "BsmtFinType2 | mi | ma | n | mi == ma | \n",
       "|---|---|---|---|---|---|---|\n",
       "| ALQ      | 12.07197 | 12.07197 |   19     | TRUE     | \n",
       "| BLQ      | 11.87060 | 11.87060 |   33     | TRUE     | \n",
       "| GLQ      | 12.22033 | 12.22033 |   14     | TRUE     | \n",
       "| LwQ      | 11.94469 | 11.94469 |   46     | TRUE     | \n",
       "| Rec      | 11.90995 | 11.90995 |   54     | TRUE     | \n",
       "| Unf      | 12.02575 | 12.02575 | 1256     | TRUE     | \n",
       "| NA       | 11.55216 | 11.55216 |   38     | TRUE     | \n",
       "\n",
       "\n"
      ],
      "text/plain": [
       "  BsmtFinType2 mi       ma       n    mi == ma\n",
       "1 ALQ          12.07197 12.07197   19 TRUE    \n",
       "2 BLQ          11.87060 11.87060   33 TRUE    \n",
       "3 GLQ          12.22033 12.22033   14 TRUE    \n",
       "4 LwQ          11.94469 11.94469   46 TRUE    \n",
       "5 Rec          11.90995 11.90995   54 TRUE    \n",
       "6 Unf          12.02575 12.02575 1256 TRUE    \n",
       "7 NA           11.55216 11.55216   38 TRUE    "
      ]
     },
     "metadata": {},
     "output_type": "display_data"
    },
    {
     "data": {
      "text/html": [
       "<table>\n",
       "                  <tr style=\"background: transparent\"><td style=\"padding-right: 20px\"><b>train</b><table>\n",
       "<thead><tr><th scope=col>BsmtQual</th><th scope=col>mi</th><th scope=col>ma</th><th scope=col>n</th><th scope=col>mi == ma</th></tr></thead>\n",
       "<tbody>\n",
       "\t<tr><td>Ex      </td><td>12.66981</td><td>12.66981</td><td>121     </td><td>TRUE    </td></tr>\n",
       "\t<tr><td>Fa      </td><td>11.62625</td><td>11.62625</td><td> 35     </td><td>TRUE    </td></tr>\n",
       "\t<tr><td>Gd      </td><td>12.16562</td><td>12.16562</td><td>618     </td><td>TRUE    </td></tr>\n",
       "\t<tr><td>TA      </td><td>11.81673</td><td>11.81673</td><td>649     </td><td>TRUE    </td></tr>\n",
       "\t<tr><td>NA      </td><td>11.53077</td><td>11.53077</td><td> 37     </td><td>TRUE    </td></tr>\n",
       "</tbody>\n",
       "</table>\n",
       "</td><td><b>test</b><table>\n",
       "<thead><tr><th scope=col>BsmtQual</th><th scope=col>mi</th><th scope=col>ma</th><th scope=col>n</th><th scope=col>mi == ma</th></tr></thead>\n",
       "<tbody>\n",
       "\t<tr><td>Ex      </td><td>12.66981</td><td>12.66981</td><td>121     </td><td>TRUE    </td></tr>\n",
       "\t<tr><td>Fa      </td><td>11.62625</td><td>11.62625</td><td> 35     </td><td>TRUE    </td></tr>\n",
       "\t<tr><td>Gd      </td><td>12.16562</td><td>12.16562</td><td>618     </td><td>TRUE    </td></tr>\n",
       "\t<tr><td>TA      </td><td>11.81673</td><td>11.81673</td><td>649     </td><td>TRUE    </td></tr>\n",
       "\t<tr><td>NA      </td><td>11.53077</td><td>11.53077</td><td> 37     </td><td>TRUE    </td></tr>\n",
       "</tbody>\n",
       "</table>\n",
       "</td></tr>\n",
       "                </table>"
      ],
      "text/latex": [
       "\\begin{tabular}{r|lllll}\n",
       " BsmtQual & mi & ma & n & mi == ma\\\\\n",
       "\\hline\n",
       "\t Ex       & 12.66981 & 12.66981 & 121      & TRUE    \\\\\n",
       "\t Fa       & 11.62625 & 11.62625 &  35      & TRUE    \\\\\n",
       "\t Gd       & 12.16562 & 12.16562 & 618      & TRUE    \\\\\n",
       "\t TA       & 11.81673 & 11.81673 & 649      & TRUE    \\\\\n",
       "\t NA       & 11.53077 & 11.53077 &  37      & TRUE    \\\\\n",
       "\\end{tabular}\n"
      ],
      "text/markdown": [
       "\n",
       "BsmtQual | mi | ma | n | mi == ma | \n",
       "|---|---|---|---|---|\n",
       "| Ex       | 12.66981 | 12.66981 | 121      | TRUE     | \n",
       "| Fa       | 11.62625 | 11.62625 |  35      | TRUE     | \n",
       "| Gd       | 12.16562 | 12.16562 | 618      | TRUE     | \n",
       "| TA       | 11.81673 | 11.81673 | 649      | TRUE     | \n",
       "| NA       | 11.53077 | 11.53077 |  37      | TRUE     | \n",
       "\n",
       "\n"
      ],
      "text/plain": [
       "  BsmtQual mi       ma       n   mi == ma\n",
       "1 Ex       12.66981 12.66981 121 TRUE    \n",
       "2 Fa       11.62625 11.62625  35 TRUE    \n",
       "3 Gd       12.16562 12.16562 618 TRUE    \n",
       "4 TA       11.81673 11.81673 649 TRUE    \n",
       "5 NA       11.53077 11.53077  37 TRUE    "
      ]
     },
     "metadata": {},
     "output_type": "display_data"
    }
   ],
   "source": [
    "type2(BsmtFinType2, basement_finish2)\n",
    "type2(BsmtQual, basement_height_quality)"
   ]
  },
  {
   "cell_type": "code",
   "execution_count": 12,
   "metadata": {},
   "outputs": [
    {
     "data": {
      "text/html": [
       "<table>\n",
       "                  <tr style=\"background: transparent\"><td style=\"padding-right: 20px\"><b>train</b><table>\n",
       "<thead><tr><th scope=col>Condition1</th><th scope=col>mi</th><th scope=col>ma</th><th scope=col>n</th><th scope=col>mi == ma</th></tr></thead>\n",
       "<tbody>\n",
       "\t<tr><td>Artery  </td><td>11.69149</td><td>11.69149</td><td>  48    </td><td>TRUE    </td></tr>\n",
       "\t<tr><td>Feedr   </td><td>11.84940</td><td>11.84940</td><td>  81    </td><td>TRUE    </td></tr>\n",
       "\t<tr><td>Norm    </td><td>12.02275</td><td>12.02275</td><td>1260    </td><td>TRUE    </td></tr>\n",
       "\t<tr><td>PosA    </td><td>12.26106</td><td>12.26106</td><td>   8    </td><td>TRUE    </td></tr>\n",
       "\t<tr><td>PosN    </td><td>12.20607</td><td>12.20607</td><td>  19    </td><td>TRUE    </td></tr>\n",
       "\t<tr><td>RRAe    </td><td>11.86710</td><td>11.86710</td><td>  11    </td><td>TRUE    </td></tr>\n",
       "\t<tr><td>RRAn    </td><td>12.05227</td><td>12.05227</td><td>  26    </td><td>TRUE    </td></tr>\n",
       "\t<tr><td>RRNe    </td><td>12.15853</td><td>12.15853</td><td>   2    </td><td>TRUE    </td></tr>\n",
       "\t<tr><td>RRNn    </td><td>12.27373</td><td>12.27373</td><td>   5    </td><td>TRUE    </td></tr>\n",
       "</tbody>\n",
       "</table>\n",
       "</td><td><b>test</b><table>\n",
       "<thead><tr><th scope=col>Condition1</th><th scope=col>mi</th><th scope=col>ma</th><th scope=col>n</th><th scope=col>mi == ma</th></tr></thead>\n",
       "<tbody>\n",
       "\t<tr><td>Artery  </td><td>11.69149</td><td>11.69149</td><td>  48    </td><td>TRUE    </td></tr>\n",
       "\t<tr><td>Feedr   </td><td>11.84940</td><td>11.84940</td><td>  81    </td><td>TRUE    </td></tr>\n",
       "\t<tr><td>Norm    </td><td>12.02275</td><td>12.02275</td><td>1260    </td><td>TRUE    </td></tr>\n",
       "\t<tr><td>PosA    </td><td>12.26106</td><td>12.26106</td><td>   8    </td><td>TRUE    </td></tr>\n",
       "\t<tr><td>PosN    </td><td>12.20607</td><td>12.20607</td><td>  19    </td><td>TRUE    </td></tr>\n",
       "\t<tr><td>RRAe    </td><td>11.86710</td><td>11.86710</td><td>  11    </td><td>TRUE    </td></tr>\n",
       "\t<tr><td>RRAn    </td><td>12.05227</td><td>12.05227</td><td>  26    </td><td>TRUE    </td></tr>\n",
       "\t<tr><td>RRNe    </td><td>12.15853</td><td>12.15853</td><td>   2    </td><td>TRUE    </td></tr>\n",
       "\t<tr><td>RRNn    </td><td>12.27373</td><td>12.27373</td><td>   5    </td><td>TRUE    </td></tr>\n",
       "</tbody>\n",
       "</table>\n",
       "</td></tr>\n",
       "                </table>"
      ],
      "text/latex": [
       "\\begin{tabular}{r|lllll}\n",
       " Condition1 & mi & ma & n & mi == ma\\\\\n",
       "\\hline\n",
       "\t Artery   & 11.69149 & 11.69149 &   48     & TRUE    \\\\\n",
       "\t Feedr    & 11.84940 & 11.84940 &   81     & TRUE    \\\\\n",
       "\t Norm     & 12.02275 & 12.02275 & 1260     & TRUE    \\\\\n",
       "\t PosA     & 12.26106 & 12.26106 &    8     & TRUE    \\\\\n",
       "\t PosN     & 12.20607 & 12.20607 &   19     & TRUE    \\\\\n",
       "\t RRAe     & 11.86710 & 11.86710 &   11     & TRUE    \\\\\n",
       "\t RRAn     & 12.05227 & 12.05227 &   26     & TRUE    \\\\\n",
       "\t RRNe     & 12.15853 & 12.15853 &    2     & TRUE    \\\\\n",
       "\t RRNn     & 12.27373 & 12.27373 &    5     & TRUE    \\\\\n",
       "\\end{tabular}\n"
      ],
      "text/markdown": [
       "\n",
       "Condition1 | mi | ma | n | mi == ma | \n",
       "|---|---|---|---|---|---|---|---|---|\n",
       "| Artery   | 11.69149 | 11.69149 |   48     | TRUE     | \n",
       "| Feedr    | 11.84940 | 11.84940 |   81     | TRUE     | \n",
       "| Norm     | 12.02275 | 12.02275 | 1260     | TRUE     | \n",
       "| PosA     | 12.26106 | 12.26106 |    8     | TRUE     | \n",
       "| PosN     | 12.20607 | 12.20607 |   19     | TRUE     | \n",
       "| RRAe     | 11.86710 | 11.86710 |   11     | TRUE     | \n",
       "| RRAn     | 12.05227 | 12.05227 |   26     | TRUE     | \n",
       "| RRNe     | 12.15853 | 12.15853 |    2     | TRUE     | \n",
       "| RRNn     | 12.27373 | 12.27373 |    5     | TRUE     | \n",
       "\n",
       "\n"
      ],
      "text/plain": [
       "  Condition1 mi       ma       n    mi == ma\n",
       "1 Artery     11.69149 11.69149   48 TRUE    \n",
       "2 Feedr      11.84940 11.84940   81 TRUE    \n",
       "3 Norm       12.02275 12.02275 1260 TRUE    \n",
       "4 PosA       12.26106 12.26106    8 TRUE    \n",
       "5 PosN       12.20607 12.20607   19 TRUE    \n",
       "6 RRAe       11.86710 11.86710   11 TRUE    \n",
       "7 RRAn       12.05227 12.05227   26 TRUE    \n",
       "8 RRNe       12.15853 12.15853    2 TRUE    \n",
       "9 RRNn       12.27373 12.27373    5 TRUE    "
      ]
     },
     "metadata": {},
     "output_type": "display_data"
    },
    {
     "data": {
      "text/html": [
       "<table>\n",
       "                  <tr style=\"background: transparent\"><td style=\"padding-right: 20px\"><b>train</b><table>\n",
       "<thead><tr><th scope=col>Condition2</th><th scope=col>mi</th><th scope=col>ma</th><th scope=col>n</th><th scope=col>mi == ma</th></tr></thead>\n",
       "<tbody>\n",
       "\t<tr><td>Artery  </td><td>11.57004</td><td>11.57004</td><td>   2    </td><td>TRUE    </td></tr>\n",
       "\t<tr><td>Feedr   </td><td>11.75586</td><td>11.75586</td><td>   6    </td><td>TRUE    </td></tr>\n",
       "\t<tr><td>Norm    </td><td>12.00457</td><td>12.00457</td><td>1445    </td><td>TRUE    </td></tr>\n",
       "\t<tr><td>PosA    </td><td>12.69158</td><td>12.69158</td><td>   1    </td><td>TRUE    </td></tr>\n",
       "\t<tr><td>PosN    </td><td>12.49388</td><td>12.49388</td><td>   2    </td><td>TRUE    </td></tr>\n",
       "\t<tr><td>RRAe    </td><td>12.15478</td><td>12.15478</td><td>   1    </td><td>TRUE    </td></tr>\n",
       "\t<tr><td>RRAn    </td><td>11.82704</td><td>11.82704</td><td>   1    </td><td>TRUE    </td></tr>\n",
       "\t<tr><td>RRNn    </td><td>11.43533</td><td>11.43533</td><td>   2    </td><td>TRUE    </td></tr>\n",
       "</tbody>\n",
       "</table>\n",
       "</td><td><b>test</b><table>\n",
       "<thead><tr><th scope=col>Condition2</th><th scope=col>mi</th><th scope=col>ma</th><th scope=col>n</th><th scope=col>mi == ma</th></tr></thead>\n",
       "<tbody>\n",
       "\t<tr><td>Artery  </td><td>11.57004</td><td>11.57004</td><td>   2    </td><td>TRUE    </td></tr>\n",
       "\t<tr><td>Feedr   </td><td>11.75586</td><td>11.75586</td><td>   6    </td><td>TRUE    </td></tr>\n",
       "\t<tr><td>Norm    </td><td>12.00457</td><td>12.00457</td><td>1445    </td><td>TRUE    </td></tr>\n",
       "\t<tr><td>PosA    </td><td>12.69158</td><td>12.69158</td><td>   1    </td><td>TRUE    </td></tr>\n",
       "\t<tr><td>PosN    </td><td>12.49388</td><td>12.49388</td><td>   2    </td><td>TRUE    </td></tr>\n",
       "\t<tr><td>RRAe    </td><td>12.15478</td><td>12.15478</td><td>   1    </td><td>TRUE    </td></tr>\n",
       "\t<tr><td>RRAn    </td><td>11.82704</td><td>11.82704</td><td>   1    </td><td>TRUE    </td></tr>\n",
       "\t<tr><td>RRNn    </td><td>11.43533</td><td>11.43533</td><td>   2    </td><td>TRUE    </td></tr>\n",
       "</tbody>\n",
       "</table>\n",
       "</td></tr>\n",
       "                </table>"
      ],
      "text/latex": [
       "\\begin{tabular}{r|lllll}\n",
       " Condition2 & mi & ma & n & mi == ma\\\\\n",
       "\\hline\n",
       "\t Artery   & 11.57004 & 11.57004 &    2     & TRUE    \\\\\n",
       "\t Feedr    & 11.75586 & 11.75586 &    6     & TRUE    \\\\\n",
       "\t Norm     & 12.00457 & 12.00457 & 1445     & TRUE    \\\\\n",
       "\t PosA     & 12.69158 & 12.69158 &    1     & TRUE    \\\\\n",
       "\t PosN     & 12.49388 & 12.49388 &    2     & TRUE    \\\\\n",
       "\t RRAe     & 12.15478 & 12.15478 &    1     & TRUE    \\\\\n",
       "\t RRAn     & 11.82704 & 11.82704 &    1     & TRUE    \\\\\n",
       "\t RRNn     & 11.43533 & 11.43533 &    2     & TRUE    \\\\\n",
       "\\end{tabular}\n"
      ],
      "text/markdown": [
       "\n",
       "Condition2 | mi | ma | n | mi == ma | \n",
       "|---|---|---|---|---|---|---|---|\n",
       "| Artery   | 11.57004 | 11.57004 |    2     | TRUE     | \n",
       "| Feedr    | 11.75586 | 11.75586 |    6     | TRUE     | \n",
       "| Norm     | 12.00457 | 12.00457 | 1445     | TRUE     | \n",
       "| PosA     | 12.69158 | 12.69158 |    1     | TRUE     | \n",
       "| PosN     | 12.49388 | 12.49388 |    2     | TRUE     | \n",
       "| RRAe     | 12.15478 | 12.15478 |    1     | TRUE     | \n",
       "| RRAn     | 11.82704 | 11.82704 |    1     | TRUE     | \n",
       "| RRNn     | 11.43533 | 11.43533 |    2     | TRUE     | \n",
       "\n",
       "\n"
      ],
      "text/plain": [
       "  Condition2 mi       ma       n    mi == ma\n",
       "1 Artery     11.57004 11.57004    2 TRUE    \n",
       "2 Feedr      11.75586 11.75586    6 TRUE    \n",
       "3 Norm       12.00457 12.00457 1445 TRUE    \n",
       "4 PosA       12.69158 12.69158    1 TRUE    \n",
       "5 PosN       12.49388 12.49388    2 TRUE    \n",
       "6 RRAe       12.15478 12.15478    1 TRUE    \n",
       "7 RRAn       11.82704 11.82704    1 TRUE    \n",
       "8 RRNn       11.43533 11.43533    2 TRUE    "
      ]
     },
     "metadata": {},
     "output_type": "display_data"
    }
   ],
   "source": [
    "type2(Condition1, cond1)\n",
    "type2(Condition2, cond2)"
   ]
  },
  {
   "cell_type": "code",
   "execution_count": 28,
   "metadata": {},
   "outputs": [
    {
     "data": {
      "text/html": [
       "<table>\n",
       "                  <tr style=\"background: transparent\"><td style=\"padding-right: 20px\"><b>train</b><table>\n",
       "<thead><tr><th scope=col>ExterCond</th><th scope=col>mi</th><th scope=col>ma</th><th scope=col>n</th><th scope=col>mi == ma</th></tr></thead>\n",
       "<tbody>\n",
       "\t<tr><td>Ex      </td><td>11.98916</td><td>11.98916</td><td>   3    </td><td>TRUE    </td></tr>\n",
       "\t<tr><td>Fa      </td><td>11.46736</td><td>11.46736</td><td>  28    </td><td>TRUE    </td></tr>\n",
       "\t<tr><td>Gd      </td><td>11.92669</td><td>11.92669</td><td> 146    </td><td>TRUE    </td></tr>\n",
       "\t<tr><td>Po      </td><td>11.24505</td><td>11.24505</td><td>   1    </td><td>TRUE    </td></tr>\n",
       "\t<tr><td>TA      </td><td>12.02796</td><td>12.02796</td><td>1282    </td><td>TRUE    </td></tr>\n",
       "</tbody>\n",
       "</table>\n",
       "</td><td><b>test</b><table>\n",
       "<thead><tr><th scope=col>ExterCond</th><th scope=col>mi</th><th scope=col>ma</th><th scope=col>n</th><th scope=col>mi == ma</th></tr></thead>\n",
       "<tbody>\n",
       "\t<tr><td>Ex      </td><td>11.98916</td><td>11.98916</td><td>   3    </td><td>TRUE    </td></tr>\n",
       "\t<tr><td>Fa      </td><td>11.46736</td><td>11.46736</td><td>  28    </td><td>TRUE    </td></tr>\n",
       "\t<tr><td>Gd      </td><td>11.92669</td><td>11.92669</td><td> 146    </td><td>TRUE    </td></tr>\n",
       "\t<tr><td>Po      </td><td>11.24505</td><td>11.24505</td><td>   1    </td><td>TRUE    </td></tr>\n",
       "\t<tr><td>TA      </td><td>12.02796</td><td>12.02796</td><td>1282    </td><td>TRUE    </td></tr>\n",
       "</tbody>\n",
       "</table>\n",
       "</td></tr>\n",
       "                </table>"
      ],
      "text/latex": [
       "\\begin{tabular}{r|lllll}\n",
       " ExterCond & mi & ma & n & mi == ma\\\\\n",
       "\\hline\n",
       "\t Ex       & 11.98916 & 11.98916 &    3     & TRUE    \\\\\n",
       "\t Fa       & 11.46736 & 11.46736 &   28     & TRUE    \\\\\n",
       "\t Gd       & 11.92669 & 11.92669 &  146     & TRUE    \\\\\n",
       "\t Po       & 11.24505 & 11.24505 &    1     & TRUE    \\\\\n",
       "\t TA       & 12.02796 & 12.02796 & 1282     & TRUE    \\\\\n",
       "\\end{tabular}\n"
      ],
      "text/markdown": [
       "\n",
       "ExterCond | mi | ma | n | mi == ma | \n",
       "|---|---|---|---|---|\n",
       "| Ex       | 11.98916 | 11.98916 |    3     | TRUE     | \n",
       "| Fa       | 11.46736 | 11.46736 |   28     | TRUE     | \n",
       "| Gd       | 11.92669 | 11.92669 |  146     | TRUE     | \n",
       "| Po       | 11.24505 | 11.24505 |    1     | TRUE     | \n",
       "| TA       | 12.02796 | 12.02796 | 1282     | TRUE     | \n",
       "\n",
       "\n"
      ],
      "text/plain": [
       "  ExterCond mi       ma       n    mi == ma\n",
       "1 Ex        11.98916 11.98916    3 TRUE    \n",
       "2 Fa        11.46736 11.46736   28 TRUE    \n",
       "3 Gd        11.92669 11.92669  146 TRUE    \n",
       "4 Po        11.24505 11.24505    1 TRUE    \n",
       "5 TA        12.02796 12.02796 1282 TRUE    "
      ]
     },
     "metadata": {},
     "output_type": "display_data"
    },
    {
     "data": {
      "text/html": [
       "<table>\n",
       "                  <tr style=\"background: transparent\"><td style=\"padding-right: 20px\"><b>train</b><table>\n",
       "<thead><tr><th scope=col>ExterQual</th><th scope=col>mi</th><th scope=col>ma</th><th scope=col>n</th><th scope=col>mi == ma</th></tr></thead>\n",
       "<tbody>\n",
       "\t<tr><td>Ex      </td><td>12.80655</td><td>12.80655</td><td> 52     </td><td>TRUE    </td></tr>\n",
       "\t<tr><td>Fa      </td><td>11.31751</td><td>11.31751</td><td> 14     </td><td>TRUE    </td></tr>\n",
       "\t<tr><td>Gd      </td><td>12.30138</td><td>12.30138</td><td>488     </td><td>TRUE    </td></tr>\n",
       "\t<tr><td>TA      </td><td>11.84546</td><td>11.84546</td><td>906     </td><td>TRUE    </td></tr>\n",
       "</tbody>\n",
       "</table>\n",
       "</td><td><b>test</b><table>\n",
       "<thead><tr><th scope=col>ExterQual</th><th scope=col>mi</th><th scope=col>ma</th><th scope=col>n</th><th scope=col>mi == ma</th></tr></thead>\n",
       "<tbody>\n",
       "\t<tr><td>Ex      </td><td>12.80655</td><td>12.80655</td><td> 52     </td><td>TRUE    </td></tr>\n",
       "\t<tr><td>Fa      </td><td>11.31751</td><td>11.31751</td><td> 14     </td><td>TRUE    </td></tr>\n",
       "\t<tr><td>Gd      </td><td>12.30138</td><td>12.30138</td><td>488     </td><td>TRUE    </td></tr>\n",
       "\t<tr><td>TA      </td><td>11.84546</td><td>11.84546</td><td>906     </td><td>TRUE    </td></tr>\n",
       "</tbody>\n",
       "</table>\n",
       "</td></tr>\n",
       "                </table>"
      ],
      "text/latex": [
       "\\begin{tabular}{r|lllll}\n",
       " ExterQual & mi & ma & n & mi == ma\\\\\n",
       "\\hline\n",
       "\t Ex       & 12.80655 & 12.80655 &  52      & TRUE    \\\\\n",
       "\t Fa       & 11.31751 & 11.31751 &  14      & TRUE    \\\\\n",
       "\t Gd       & 12.30138 & 12.30138 & 488      & TRUE    \\\\\n",
       "\t TA       & 11.84546 & 11.84546 & 906      & TRUE    \\\\\n",
       "\\end{tabular}\n"
      ],
      "text/markdown": [
       "\n",
       "ExterQual | mi | ma | n | mi == ma | \n",
       "|---|---|---|---|\n",
       "| Ex       | 12.80655 | 12.80655 |  52      | TRUE     | \n",
       "| Fa       | 11.31751 | 11.31751 |  14      | TRUE     | \n",
       "| Gd       | 12.30138 | 12.30138 | 488      | TRUE     | \n",
       "| TA       | 11.84546 | 11.84546 | 906      | TRUE     | \n",
       "\n",
       "\n"
      ],
      "text/plain": [
       "  ExterQual mi       ma       n   mi == ma\n",
       "1 Ex        12.80655 12.80655  52 TRUE    \n",
       "2 Fa        11.31751 11.31751  14 TRUE    \n",
       "3 Gd        12.30138 12.30138 488 TRUE    \n",
       "4 TA        11.84546 11.84546 906 TRUE    "
      ]
     },
     "metadata": {},
     "output_type": "display_data"
    }
   ],
   "source": [
    "type2(ExterCond, exter_cond)\n",
    "type2(ExterQual, exter_qual)"
   ]
  },
  {
   "cell_type": "code",
   "execution_count": 29,
   "metadata": {},
   "outputs": [
    {
     "data": {
      "text/html": [
       "<table>\n",
       "                  <tr style=\"background: transparent\"><td style=\"padding-right: 20px\"><b>train</b><table>\n",
       "<thead><tr><th scope=col>Exterior1st</th><th scope=col>mi</th><th scope=col>ma</th><th scope=col>n</th><th scope=col>mi == ma</th></tr></thead>\n",
       "<tbody>\n",
       "\t<tr><td>AsbShng </td><td>11.58972</td><td>11.58972</td><td> 20     </td><td>TRUE    </td></tr>\n",
       "\t<tr><td>AsphShn </td><td>11.51293</td><td>11.51293</td><td>  1     </td><td>TRUE    </td></tr>\n",
       "\t<tr><td>BrkComm </td><td>11.15829</td><td>11.15829</td><td>  2     </td><td>TRUE    </td></tr>\n",
       "\t<tr><td>BrkFace </td><td>12.01823</td><td>12.01823</td><td> 50     </td><td>TRUE    </td></tr>\n",
       "\t<tr><td>CBlock  </td><td>11.56172</td><td>11.56172</td><td>  1     </td><td>TRUE    </td></tr>\n",
       "\t<tr><td>CemntBd </td><td>12.37370</td><td>12.37370</td><td> 61     </td><td>TRUE    </td></tr>\n",
       "\t<tr><td>HdBoard </td><td>11.91772</td><td>11.91772</td><td>222     </td><td>TRUE    </td></tr>\n",
       "\t<tr><td>ImStucc </td><td>12.47610</td><td>12.47610</td><td>  1     </td><td>TRUE    </td></tr>\n",
       "\t<tr><td>MetalSd </td><td>11.84223</td><td>11.84223</td><td>220     </td><td>TRUE    </td></tr>\n",
       "\t<tr><td>Plywood </td><td>12.02844</td><td>12.02844</td><td>108     </td><td>TRUE    </td></tr>\n",
       "\t<tr><td>Stone   </td><td>12.45654</td><td>12.45654</td><td>  2     </td><td>TRUE    </td></tr>\n",
       "\t<tr><td>Stucco  </td><td>11.87757</td><td>11.87757</td><td> 25     </td><td>TRUE    </td></tr>\n",
       "\t<tr><td>VinylSd </td><td>12.20607</td><td>12.20607</td><td>515     </td><td>TRUE    </td></tr>\n",
       "\t<tr><td>Wd Sdng </td><td>11.84182</td><td>11.84182</td><td>206     </td><td>TRUE    </td></tr>\n",
       "\t<tr><td>WdShing </td><td>11.76520</td><td>11.76520</td><td> 26     </td><td>TRUE    </td></tr>\n",
       "</tbody>\n",
       "</table>\n",
       "</td><td><b>test</b><table>\n",
       "<thead><tr><th scope=col>Exterior1st</th><th scope=col>mi</th><th scope=col>ma</th><th scope=col>n</th><th scope=col>mi == ma</th></tr></thead>\n",
       "<tbody>\n",
       "\t<tr><td>AsbShng </td><td>11.58972</td><td>11.58972</td><td> 20     </td><td>TRUE    </td></tr>\n",
       "\t<tr><td>AsphShn </td><td>11.51293</td><td>11.51293</td><td>  1     </td><td>TRUE    </td></tr>\n",
       "\t<tr><td>BrkComm </td><td>11.15829</td><td>11.15829</td><td>  2     </td><td>TRUE    </td></tr>\n",
       "\t<tr><td>BrkFace </td><td>12.01823</td><td>12.01823</td><td> 50     </td><td>TRUE    </td></tr>\n",
       "\t<tr><td>CBlock  </td><td>11.56172</td><td>11.56172</td><td>  1     </td><td>TRUE    </td></tr>\n",
       "\t<tr><td>CemntBd </td><td>12.37370</td><td>12.37370</td><td> 61     </td><td>TRUE    </td></tr>\n",
       "\t<tr><td>HdBoard </td><td>11.91772</td><td>11.91772</td><td>222     </td><td>TRUE    </td></tr>\n",
       "\t<tr><td>ImStucc </td><td>12.47610</td><td>12.47610</td><td>  1     </td><td>TRUE    </td></tr>\n",
       "\t<tr><td>MetalSd </td><td>11.84223</td><td>11.84223</td><td>220     </td><td>TRUE    </td></tr>\n",
       "\t<tr><td>Plywood </td><td>12.02844</td><td>12.02844</td><td>108     </td><td>TRUE    </td></tr>\n",
       "\t<tr><td>Stone   </td><td>12.45654</td><td>12.45654</td><td>  2     </td><td>TRUE    </td></tr>\n",
       "\t<tr><td>Stucco  </td><td>11.87757</td><td>11.87757</td><td> 25     </td><td>TRUE    </td></tr>\n",
       "\t<tr><td>VinylSd </td><td>12.20607</td><td>12.20607</td><td>515     </td><td>TRUE    </td></tr>\n",
       "\t<tr><td>Wd Sdng </td><td>11.84182</td><td>11.84182</td><td>206     </td><td>TRUE    </td></tr>\n",
       "\t<tr><td>WdShing </td><td>11.76520</td><td>11.76520</td><td> 26     </td><td>TRUE    </td></tr>\n",
       "</tbody>\n",
       "</table>\n",
       "</td></tr>\n",
       "                </table>"
      ],
      "text/latex": [
       "\\begin{tabular}{r|lllll}\n",
       " Exterior1st & mi & ma & n & mi == ma\\\\\n",
       "\\hline\n",
       "\t AsbShng  & 11.58972 & 11.58972 &  20      & TRUE    \\\\\n",
       "\t AsphShn  & 11.51293 & 11.51293 &   1      & TRUE    \\\\\n",
       "\t BrkComm  & 11.15829 & 11.15829 &   2      & TRUE    \\\\\n",
       "\t BrkFace  & 12.01823 & 12.01823 &  50      & TRUE    \\\\\n",
       "\t CBlock   & 11.56172 & 11.56172 &   1      & TRUE    \\\\\n",
       "\t CemntBd  & 12.37370 & 12.37370 &  61      & TRUE    \\\\\n",
       "\t HdBoard  & 11.91772 & 11.91772 & 222      & TRUE    \\\\\n",
       "\t ImStucc  & 12.47610 & 12.47610 &   1      & TRUE    \\\\\n",
       "\t MetalSd  & 11.84223 & 11.84223 & 220      & TRUE    \\\\\n",
       "\t Plywood  & 12.02844 & 12.02844 & 108      & TRUE    \\\\\n",
       "\t Stone    & 12.45654 & 12.45654 &   2      & TRUE    \\\\\n",
       "\t Stucco   & 11.87757 & 11.87757 &  25      & TRUE    \\\\\n",
       "\t VinylSd  & 12.20607 & 12.20607 & 515      & TRUE    \\\\\n",
       "\t Wd Sdng  & 11.84182 & 11.84182 & 206      & TRUE    \\\\\n",
       "\t WdShing  & 11.76520 & 11.76520 &  26      & TRUE    \\\\\n",
       "\\end{tabular}\n"
      ],
      "text/markdown": [
       "\n",
       "Exterior1st | mi | ma | n | mi == ma | \n",
       "|---|---|---|---|---|---|---|---|---|---|---|---|---|---|---|\n",
       "| AsbShng  | 11.58972 | 11.58972 |  20      | TRUE     | \n",
       "| AsphShn  | 11.51293 | 11.51293 |   1      | TRUE     | \n",
       "| BrkComm  | 11.15829 | 11.15829 |   2      | TRUE     | \n",
       "| BrkFace  | 12.01823 | 12.01823 |  50      | TRUE     | \n",
       "| CBlock   | 11.56172 | 11.56172 |   1      | TRUE     | \n",
       "| CemntBd  | 12.37370 | 12.37370 |  61      | TRUE     | \n",
       "| HdBoard  | 11.91772 | 11.91772 | 222      | TRUE     | \n",
       "| ImStucc  | 12.47610 | 12.47610 |   1      | TRUE     | \n",
       "| MetalSd  | 11.84223 | 11.84223 | 220      | TRUE     | \n",
       "| Plywood  | 12.02844 | 12.02844 | 108      | TRUE     | \n",
       "| Stone    | 12.45654 | 12.45654 |   2      | TRUE     | \n",
       "| Stucco   | 11.87757 | 11.87757 |  25      | TRUE     | \n",
       "| VinylSd  | 12.20607 | 12.20607 | 515      | TRUE     | \n",
       "| Wd Sdng  | 11.84182 | 11.84182 | 206      | TRUE     | \n",
       "| WdShing  | 11.76520 | 11.76520 |  26      | TRUE     | \n",
       "\n",
       "\n"
      ],
      "text/plain": [
       "   Exterior1st mi       ma       n   mi == ma\n",
       "1  AsbShng     11.58972 11.58972  20 TRUE    \n",
       "2  AsphShn     11.51293 11.51293   1 TRUE    \n",
       "3  BrkComm     11.15829 11.15829   2 TRUE    \n",
       "4  BrkFace     12.01823 12.01823  50 TRUE    \n",
       "5  CBlock      11.56172 11.56172   1 TRUE    \n",
       "6  CemntBd     12.37370 12.37370  61 TRUE    \n",
       "7  HdBoard     11.91772 11.91772 222 TRUE    \n",
       "8  ImStucc     12.47610 12.47610   1 TRUE    \n",
       "9  MetalSd     11.84223 11.84223 220 TRUE    \n",
       "10 Plywood     12.02844 12.02844 108 TRUE    \n",
       "11 Stone       12.45654 12.45654   2 TRUE    \n",
       "12 Stucco      11.87757 11.87757  25 TRUE    \n",
       "13 VinylSd     12.20607 12.20607 515 TRUE    \n",
       "14 Wd Sdng     11.84182 11.84182 206 TRUE    \n",
       "15 WdShing     11.76520 11.76520  26 TRUE    "
      ]
     },
     "metadata": {},
     "output_type": "display_data"
    },
    {
     "data": {
      "text/html": [
       "<table>\n",
       "                  <tr style=\"background: transparent\"><td style=\"padding-right: 20px\"><b>train</b><table>\n",
       "<thead><tr><th scope=col>Exterior2nd</th><th scope=col>mi</th><th scope=col>ma</th><th scope=col>n</th><th scope=col>mi == ma</th></tr></thead>\n",
       "<tbody>\n",
       "\t<tr><td>AsbShng </td><td>11.61724</td><td>11.61724</td><td> 20     </td><td>TRUE    </td></tr>\n",
       "\t<tr><td>AsphShn </td><td>11.84223</td><td>11.84223</td><td>  3     </td><td>TRUE    </td></tr>\n",
       "\t<tr><td>Brk Cmn </td><td>11.89819</td><td>11.89819</td><td>  7     </td><td>TRUE    </td></tr>\n",
       "\t<tr><td>BrkFace </td><td>11.98293</td><td>11.98293</td><td> 25     </td><td>TRUE    </td></tr>\n",
       "\t<tr><td>CBlock  </td><td>11.56172</td><td>11.56172</td><td>  1     </td><td>TRUE    </td></tr>\n",
       "\t<tr><td>CmentBd </td><td>12.38313</td><td>12.38313</td><td> 60     </td><td>TRUE    </td></tr>\n",
       "\t<tr><td>HdBoard </td><td>11.95118</td><td>11.95118</td><td>207     </td><td>TRUE    </td></tr>\n",
       "\t<tr><td>ImStucc </td><td>12.14106</td><td>12.14106</td><td> 10     </td><td>TRUE    </td></tr>\n",
       "\t<tr><td>MetalSd </td><td>11.84043</td><td>11.84043</td><td>214     </td><td>TRUE    </td></tr>\n",
       "\t<tr><td>Other   </td><td>12.67295</td><td>12.67295</td><td>  1     </td><td>TRUE    </td></tr>\n",
       "\t<tr><td>Plywood </td><td>11.98758</td><td>11.98758</td><td>142     </td><td>TRUE    </td></tr>\n",
       "\t<tr><td>Stone   </td><td>12.08391</td><td>12.08391</td><td>  5     </td><td>TRUE    </td></tr>\n",
       "\t<tr><td>Stucco  </td><td>11.86348</td><td>11.86348</td><td> 26     </td><td>TRUE    </td></tr>\n",
       "\t<tr><td>VinylSd </td><td>12.20643</td><td>12.20643</td><td>504     </td><td>TRUE    </td></tr>\n",
       "\t<tr><td>Wd Sdng </td><td>11.83501</td><td>11.83501</td><td>197     </td><td>TRUE    </td></tr>\n",
       "\t<tr><td>Wd Shng </td><td>11.83662</td><td>11.83662</td><td> 38     </td><td>TRUE    </td></tr>\n",
       "</tbody>\n",
       "</table>\n",
       "</td><td><b>test</b><table>\n",
       "<thead><tr><th scope=col>Exterior2nd</th><th scope=col>mi</th><th scope=col>ma</th><th scope=col>n</th><th scope=col>mi == ma</th></tr></thead>\n",
       "<tbody>\n",
       "\t<tr><td>AsbShng </td><td>11.61724</td><td>11.61724</td><td> 20     </td><td>TRUE    </td></tr>\n",
       "\t<tr><td>AsphShn </td><td>11.84223</td><td>11.84223</td><td>  3     </td><td>TRUE    </td></tr>\n",
       "\t<tr><td>Brk Cmn </td><td>11.89819</td><td>11.89819</td><td>  7     </td><td>TRUE    </td></tr>\n",
       "\t<tr><td>BrkFace </td><td>11.98293</td><td>11.98293</td><td> 25     </td><td>TRUE    </td></tr>\n",
       "\t<tr><td>CBlock  </td><td>11.56172</td><td>11.56172</td><td>  1     </td><td>TRUE    </td></tr>\n",
       "\t<tr><td>CmentBd </td><td>12.38313</td><td>12.38313</td><td> 60     </td><td>TRUE    </td></tr>\n",
       "\t<tr><td>HdBoard </td><td>11.95118</td><td>11.95118</td><td>207     </td><td>TRUE    </td></tr>\n",
       "\t<tr><td>ImStucc </td><td>12.14106</td><td>12.14106</td><td> 10     </td><td>TRUE    </td></tr>\n",
       "\t<tr><td>MetalSd </td><td>11.84043</td><td>11.84043</td><td>214     </td><td>TRUE    </td></tr>\n",
       "\t<tr><td>Other   </td><td>12.67295</td><td>12.67295</td><td>  1     </td><td>TRUE    </td></tr>\n",
       "\t<tr><td>Plywood </td><td>11.98758</td><td>11.98758</td><td>142     </td><td>TRUE    </td></tr>\n",
       "\t<tr><td>Stone   </td><td>12.08391</td><td>12.08391</td><td>  5     </td><td>TRUE    </td></tr>\n",
       "\t<tr><td>Stucco  </td><td>11.86348</td><td>11.86348</td><td> 26     </td><td>TRUE    </td></tr>\n",
       "\t<tr><td>VinylSd </td><td>12.20643</td><td>12.20643</td><td>504     </td><td>TRUE    </td></tr>\n",
       "\t<tr><td>Wd Sdng </td><td>11.83501</td><td>11.83501</td><td>197     </td><td>TRUE    </td></tr>\n",
       "\t<tr><td>Wd Shng </td><td>11.83662</td><td>11.83662</td><td> 38     </td><td>TRUE    </td></tr>\n",
       "</tbody>\n",
       "</table>\n",
       "</td></tr>\n",
       "                </table>"
      ],
      "text/latex": [
       "\\begin{tabular}{r|lllll}\n",
       " Exterior2nd & mi & ma & n & mi == ma\\\\\n",
       "\\hline\n",
       "\t AsbShng  & 11.61724 & 11.61724 &  20      & TRUE    \\\\\n",
       "\t AsphShn  & 11.84223 & 11.84223 &   3      & TRUE    \\\\\n",
       "\t Brk Cmn  & 11.89819 & 11.89819 &   7      & TRUE    \\\\\n",
       "\t BrkFace  & 11.98293 & 11.98293 &  25      & TRUE    \\\\\n",
       "\t CBlock   & 11.56172 & 11.56172 &   1      & TRUE    \\\\\n",
       "\t CmentBd  & 12.38313 & 12.38313 &  60      & TRUE    \\\\\n",
       "\t HdBoard  & 11.95118 & 11.95118 & 207      & TRUE    \\\\\n",
       "\t ImStucc  & 12.14106 & 12.14106 &  10      & TRUE    \\\\\n",
       "\t MetalSd  & 11.84043 & 11.84043 & 214      & TRUE    \\\\\n",
       "\t Other    & 12.67295 & 12.67295 &   1      & TRUE    \\\\\n",
       "\t Plywood  & 11.98758 & 11.98758 & 142      & TRUE    \\\\\n",
       "\t Stone    & 12.08391 & 12.08391 &   5      & TRUE    \\\\\n",
       "\t Stucco   & 11.86348 & 11.86348 &  26      & TRUE    \\\\\n",
       "\t VinylSd  & 12.20643 & 12.20643 & 504      & TRUE    \\\\\n",
       "\t Wd Sdng  & 11.83501 & 11.83501 & 197      & TRUE    \\\\\n",
       "\t Wd Shng  & 11.83662 & 11.83662 &  38      & TRUE    \\\\\n",
       "\\end{tabular}\n"
      ],
      "text/markdown": [
       "\n",
       "Exterior2nd | mi | ma | n | mi == ma | \n",
       "|---|---|---|---|---|---|---|---|---|---|---|---|---|---|---|---|\n",
       "| AsbShng  | 11.61724 | 11.61724 |  20      | TRUE     | \n",
       "| AsphShn  | 11.84223 | 11.84223 |   3      | TRUE     | \n",
       "| Brk Cmn  | 11.89819 | 11.89819 |   7      | TRUE     | \n",
       "| BrkFace  | 11.98293 | 11.98293 |  25      | TRUE     | \n",
       "| CBlock   | 11.56172 | 11.56172 |   1      | TRUE     | \n",
       "| CmentBd  | 12.38313 | 12.38313 |  60      | TRUE     | \n",
       "| HdBoard  | 11.95118 | 11.95118 | 207      | TRUE     | \n",
       "| ImStucc  | 12.14106 | 12.14106 |  10      | TRUE     | \n",
       "| MetalSd  | 11.84043 | 11.84043 | 214      | TRUE     | \n",
       "| Other    | 12.67295 | 12.67295 |   1      | TRUE     | \n",
       "| Plywood  | 11.98758 | 11.98758 | 142      | TRUE     | \n",
       "| Stone    | 12.08391 | 12.08391 |   5      | TRUE     | \n",
       "| Stucco   | 11.86348 | 11.86348 |  26      | TRUE     | \n",
       "| VinylSd  | 12.20643 | 12.20643 | 504      | TRUE     | \n",
       "| Wd Sdng  | 11.83501 | 11.83501 | 197      | TRUE     | \n",
       "| Wd Shng  | 11.83662 | 11.83662 |  38      | TRUE     | \n",
       "\n",
       "\n"
      ],
      "text/plain": [
       "   Exterior2nd mi       ma       n   mi == ma\n",
       "1  AsbShng     11.61724 11.61724  20 TRUE    \n",
       "2  AsphShn     11.84223 11.84223   3 TRUE    \n",
       "3  Brk Cmn     11.89819 11.89819   7 TRUE    \n",
       "4  BrkFace     11.98293 11.98293  25 TRUE    \n",
       "5  CBlock      11.56172 11.56172   1 TRUE    \n",
       "6  CmentBd     12.38313 12.38313  60 TRUE    \n",
       "7  HdBoard     11.95118 11.95118 207 TRUE    \n",
       "8  ImStucc     12.14106 12.14106  10 TRUE    \n",
       "9  MetalSd     11.84043 11.84043 214 TRUE    \n",
       "10 Other       12.67295 12.67295   1 TRUE    \n",
       "11 Plywood     11.98758 11.98758 142 TRUE    \n",
       "12 Stone       12.08391 12.08391   5 TRUE    \n",
       "13 Stucco      11.86348 11.86348  26 TRUE    \n",
       "14 VinylSd     12.20643 12.20643 504 TRUE    \n",
       "15 Wd Sdng     11.83501 11.83501 197 TRUE    \n",
       "16 Wd Shng     11.83662 11.83662  38 TRUE    "
      ]
     },
     "metadata": {},
     "output_type": "display_data"
    }
   ],
   "source": [
    "type2(Exterior1st, exter_1)\n",
    "type2(Exterior2nd, exter_2)"
   ]
  },
  {
   "cell_type": "code",
   "execution_count": 138,
   "metadata": {},
   "outputs": [
    {
     "data": {
      "text/html": [
       "<table>\n",
       "                  <tr style=\"background: transparent\"><td style=\"padding-right: 20px\"><b>train</b><table>\n",
       "<thead><tr><th scope=col>Fence</th><th scope=col>mi</th><th scope=col>ma</th><th scope=col>n</th><th scope=col>mi == ma</th></tr></thead>\n",
       "<tbody>\n",
       "\t<tr><td>GdPrv   </td><td>12.02874</td><td>12.02874</td><td>  59    </td><td>TRUE    </td></tr>\n",
       "\t<tr><td>GdWo    </td><td>11.84043</td><td>11.84043</td><td>  54    </td><td>TRUE    </td></tr>\n",
       "\t<tr><td>MnPrv   </td><td>11.83102</td><td>11.83102</td><td> 157    </td><td>TRUE    </td></tr>\n",
       "\t<tr><td>MnWw    </td><td>11.77529</td><td>11.77529</td><td>  11    </td><td>TRUE    </td></tr>\n",
       "\t<tr><td>NA      </td><td>12.06105</td><td>12.06105</td><td>1179    </td><td>TRUE    </td></tr>\n",
       "</tbody>\n",
       "</table>\n",
       "</td><td><b>test</b><table>\n",
       "<thead><tr><th scope=col>Fence</th><th scope=col>mi</th><th scope=col>ma</th><th scope=col>n</th><th scope=col>mi == ma</th></tr></thead>\n",
       "<tbody>\n",
       "\t<tr><td>GdPrv   </td><td>12.02874</td><td>12.02874</td><td>  59    </td><td>TRUE    </td></tr>\n",
       "\t<tr><td>GdWo    </td><td>11.84043</td><td>11.84043</td><td>  54    </td><td>TRUE    </td></tr>\n",
       "\t<tr><td>MnPrv   </td><td>11.83102</td><td>11.83102</td><td> 157    </td><td>TRUE    </td></tr>\n",
       "\t<tr><td>MnWw    </td><td>11.77529</td><td>11.77529</td><td>  11    </td><td>TRUE    </td></tr>\n",
       "\t<tr><td>NA      </td><td>12.06105</td><td>12.06105</td><td>1179    </td><td>TRUE    </td></tr>\n",
       "</tbody>\n",
       "</table>\n",
       "</td></tr>\n",
       "                </table>"
      ],
      "text/latex": [
       "\\begin{tabular}{r|lllll}\n",
       " Fence & mi & ma & n & mi == ma\\\\\n",
       "\\hline\n",
       "\t GdPrv    & 12.02874 & 12.02874 &   59     & TRUE    \\\\\n",
       "\t GdWo     & 11.84043 & 11.84043 &   54     & TRUE    \\\\\n",
       "\t MnPrv    & 11.83102 & 11.83102 &  157     & TRUE    \\\\\n",
       "\t MnWw     & 11.77529 & 11.77529 &   11     & TRUE    \\\\\n",
       "\t NA       & 12.06105 & 12.06105 & 1179     & TRUE    \\\\\n",
       "\\end{tabular}\n"
      ],
      "text/markdown": [
       "\n",
       "Fence | mi | ma | n | mi == ma | \n",
       "|---|---|---|---|---|\n",
       "| GdPrv    | 12.02874 | 12.02874 |   59     | TRUE     | \n",
       "| GdWo     | 11.84043 | 11.84043 |   54     | TRUE     | \n",
       "| MnPrv    | 11.83102 | 11.83102 |  157     | TRUE     | \n",
       "| MnWw     | 11.77529 | 11.77529 |   11     | TRUE     | \n",
       "| NA       | 12.06105 | 12.06105 | 1179     | TRUE     | \n",
       "\n",
       "\n"
      ],
      "text/plain": [
       "  Fence mi       ma       n    mi == ma\n",
       "1 GdPrv 12.02874 12.02874   59 TRUE    \n",
       "2 GdWo  11.84043 11.84043   54 TRUE    \n",
       "3 MnPrv 11.83102 11.83102  157 TRUE    \n",
       "4 MnWw  11.77529 11.77529   11 TRUE    \n",
       "5 NA    12.06105 12.06105 1179 TRUE    "
      ]
     },
     "metadata": {},
     "output_type": "display_data"
    },
    {
     "data": {
      "text/html": [
       "<table>\n",
       "                  <tr style=\"background: transparent\"><td style=\"padding-right: 20px\"><b>train</b><table>\n",
       "<thead><tr><th scope=col>FireplaceQu</th><th scope=col>mi</th><th scope=col>ma</th><th scope=col>n</th><th scope=col>mi == ma</th></tr></thead>\n",
       "<tbody>\n",
       "\t<tr><td>Ex      </td><td>12.65794</td><td>12.65794</td><td> 24     </td><td>TRUE    </td></tr>\n",
       "\t<tr><td>Fa      </td><td>11.97035</td><td>11.97035</td><td> 33     </td><td>TRUE    </td></tr>\n",
       "\t<tr><td>Gd      </td><td>12.24023</td><td>12.24023</td><td>380     </td><td>TRUE    </td></tr>\n",
       "\t<tr><td>Po      </td><td>11.78658</td><td>11.78658</td><td> 20     </td><td>TRUE    </td></tr>\n",
       "\t<tr><td>TA      </td><td>12.14153</td><td>12.14153</td><td>313     </td><td>TRUE    </td></tr>\n",
       "\t<tr><td>NA      </td><td>11.81303</td><td>11.81303</td><td>690     </td><td>TRUE    </td></tr>\n",
       "</tbody>\n",
       "</table>\n",
       "</td><td><b>test</b><table>\n",
       "<thead><tr><th scope=col>FireplaceQu</th><th scope=col>mi</th><th scope=col>ma</th><th scope=col>n</th><th scope=col>mi == ma</th></tr></thead>\n",
       "<tbody>\n",
       "\t<tr><td>Ex      </td><td>12.65794</td><td>12.65794</td><td> 24     </td><td>TRUE    </td></tr>\n",
       "\t<tr><td>Fa      </td><td>11.97035</td><td>11.97035</td><td> 33     </td><td>TRUE    </td></tr>\n",
       "\t<tr><td>Gd      </td><td>12.24023</td><td>12.24023</td><td>380     </td><td>TRUE    </td></tr>\n",
       "\t<tr><td>Po      </td><td>11.78658</td><td>11.78658</td><td> 20     </td><td>TRUE    </td></tr>\n",
       "\t<tr><td>TA      </td><td>12.14153</td><td>12.14153</td><td>313     </td><td>TRUE    </td></tr>\n",
       "\t<tr><td>NA      </td><td>11.81303</td><td>11.81303</td><td>690     </td><td>TRUE    </td></tr>\n",
       "</tbody>\n",
       "</table>\n",
       "</td></tr>\n",
       "                </table>"
      ],
      "text/latex": [
       "\\begin{tabular}{r|lllll}\n",
       " FireplaceQu & mi & ma & n & mi == ma\\\\\n",
       "\\hline\n",
       "\t Ex       & 12.65794 & 12.65794 &  24      & TRUE    \\\\\n",
       "\t Fa       & 11.97035 & 11.97035 &  33      & TRUE    \\\\\n",
       "\t Gd       & 12.24023 & 12.24023 & 380      & TRUE    \\\\\n",
       "\t Po       & 11.78658 & 11.78658 &  20      & TRUE    \\\\\n",
       "\t TA       & 12.14153 & 12.14153 & 313      & TRUE    \\\\\n",
       "\t NA       & 11.81303 & 11.81303 & 690      & TRUE    \\\\\n",
       "\\end{tabular}\n"
      ],
      "text/markdown": [
       "\n",
       "FireplaceQu | mi | ma | n | mi == ma | \n",
       "|---|---|---|---|---|---|\n",
       "| Ex       | 12.65794 | 12.65794 |  24      | TRUE     | \n",
       "| Fa       | 11.97035 | 11.97035 |  33      | TRUE     | \n",
       "| Gd       | 12.24023 | 12.24023 | 380      | TRUE     | \n",
       "| Po       | 11.78658 | 11.78658 |  20      | TRUE     | \n",
       "| TA       | 12.14153 | 12.14153 | 313      | TRUE     | \n",
       "| NA       | 11.81303 | 11.81303 | 690      | TRUE     | \n",
       "\n",
       "\n"
      ],
      "text/plain": [
       "  FireplaceQu mi       ma       n   mi == ma\n",
       "1 Ex          12.65794 12.65794  24 TRUE    \n",
       "2 Fa          11.97035 11.97035  33 TRUE    \n",
       "3 Gd          12.24023 12.24023 380 TRUE    \n",
       "4 Po          11.78658 11.78658  20 TRUE    \n",
       "5 TA          12.14153 12.14153 313 TRUE    \n",
       "6 NA          11.81303 11.81303 690 TRUE    "
      ]
     },
     "metadata": {},
     "output_type": "display_data"
    },
    {
     "data": {
      "text/html": [
       "<table>\n",
       "                  <tr style=\"background: transparent\"><td style=\"padding-right: 20px\"><b>train</b><table>\n",
       "<thead><tr><th scope=col>Foundation</th><th scope=col>mi</th><th scope=col>ma</th><th scope=col>n</th><th scope=col>mi == ma</th></tr></thead>\n",
       "<tbody>\n",
       "\t<tr><td>BrkTil  </td><td>11.73807</td><td>11.73807</td><td>146     </td><td>TRUE    </td></tr>\n",
       "\t<tr><td>CBlock  </td><td>11.86005</td><td>11.86005</td><td>634     </td><td>TRUE    </td></tr>\n",
       "\t<tr><td>PConc   </td><td>12.23077</td><td>12.23077</td><td>647     </td><td>TRUE    </td></tr>\n",
       "\t<tr><td>Slab    </td><td>11.55333</td><td>11.55333</td><td> 24     </td><td>TRUE    </td></tr>\n",
       "\t<tr><td>Stone   </td><td>11.74454</td><td>11.74454</td><td>  6     </td><td>TRUE    </td></tr>\n",
       "\t<tr><td>Wood    </td><td>12.00762</td><td>12.00762</td><td>  3     </td><td>TRUE    </td></tr>\n",
       "</tbody>\n",
       "</table>\n",
       "</td><td><b>test</b><table>\n",
       "<thead><tr><th scope=col>Foundation</th><th scope=col>mi</th><th scope=col>ma</th><th scope=col>n</th><th scope=col>mi == ma</th></tr></thead>\n",
       "<tbody>\n",
       "\t<tr><td>BrkTil  </td><td>11.73807</td><td>11.73807</td><td>146     </td><td>TRUE    </td></tr>\n",
       "\t<tr><td>CBlock  </td><td>11.86005</td><td>11.86005</td><td>634     </td><td>TRUE    </td></tr>\n",
       "\t<tr><td>PConc   </td><td>12.23077</td><td>12.23077</td><td>647     </td><td>TRUE    </td></tr>\n",
       "\t<tr><td>Slab    </td><td>11.55333</td><td>11.55333</td><td> 24     </td><td>TRUE    </td></tr>\n",
       "\t<tr><td>Stone   </td><td>11.74454</td><td>11.74454</td><td>  6     </td><td>TRUE    </td></tr>\n",
       "\t<tr><td>Wood    </td><td>12.00762</td><td>12.00762</td><td>  3     </td><td>TRUE    </td></tr>\n",
       "</tbody>\n",
       "</table>\n",
       "</td></tr>\n",
       "                </table>"
      ],
      "text/latex": [
       "\\begin{tabular}{r|lllll}\n",
       " Foundation & mi & ma & n & mi == ma\\\\\n",
       "\\hline\n",
       "\t BrkTil   & 11.73807 & 11.73807 & 146      & TRUE    \\\\\n",
       "\t CBlock   & 11.86005 & 11.86005 & 634      & TRUE    \\\\\n",
       "\t PConc    & 12.23077 & 12.23077 & 647      & TRUE    \\\\\n",
       "\t Slab     & 11.55333 & 11.55333 &  24      & TRUE    \\\\\n",
       "\t Stone    & 11.74454 & 11.74454 &   6      & TRUE    \\\\\n",
       "\t Wood     & 12.00762 & 12.00762 &   3      & TRUE    \\\\\n",
       "\\end{tabular}\n"
      ],
      "text/markdown": [
       "\n",
       "Foundation | mi | ma | n | mi == ma | \n",
       "|---|---|---|---|---|---|\n",
       "| BrkTil   | 11.73807 | 11.73807 | 146      | TRUE     | \n",
       "| CBlock   | 11.86005 | 11.86005 | 634      | TRUE     | \n",
       "| PConc    | 12.23077 | 12.23077 | 647      | TRUE     | \n",
       "| Slab     | 11.55333 | 11.55333 |  24      | TRUE     | \n",
       "| Stone    | 11.74454 | 11.74454 |   6      | TRUE     | \n",
       "| Wood     | 12.00762 | 12.00762 |   3      | TRUE     | \n",
       "\n",
       "\n"
      ],
      "text/plain": [
       "  Foundation mi       ma       n   mi == ma\n",
       "1 BrkTil     11.73807 11.73807 146 TRUE    \n",
       "2 CBlock     11.86005 11.86005 634 TRUE    \n",
       "3 PConc      12.23077 12.23077 647 TRUE    \n",
       "4 Slab       11.55333 11.55333  24 TRUE    \n",
       "5 Stone      11.74454 11.74454   6 TRUE    \n",
       "6 Wood       12.00762 12.00762   3 TRUE    "
      ]
     },
     "metadata": {},
     "output_type": "display_data"
    }
   ],
   "source": [
    "type2(Fence, fence)\n",
    "type2(FireplaceQu, fireplace_qual)\n",
    "type2(Foundation, foundation)"
   ]
  },
  {
   "cell_type": "code",
   "execution_count": 82,
   "metadata": {},
   "outputs": [
    {
     "data": {
      "text/html": [
       "<table>\n",
       "                  <tr style=\"background: transparent\"><td style=\"padding-right: 20px\"><b>train</b><table>\n",
       "<thead><tr><th scope=col>GarageFinish</th><th scope=col>mi</th><th scope=col>ma</th><th scope=col>n</th><th scope=col>mi == ma</th></tr></thead>\n",
       "<tbody>\n",
       "\t<tr><td>Fin     </td><td>12.27839</td><td>12.27839</td><td>352     </td><td>TRUE    </td></tr>\n",
       "\t<tr><td>RFn     </td><td>12.15478</td><td>12.15478</td><td>422     </td><td>TRUE    </td></tr>\n",
       "\t<tr><td>Unf     </td><td>11.81303</td><td>11.81303</td><td>605     </td><td>TRUE    </td></tr>\n",
       "\t<tr><td>NA      </td><td>11.51293</td><td>11.51293</td><td> 81     </td><td>TRUE    </td></tr>\n",
       "</tbody>\n",
       "</table>\n",
       "</td><td><b>test</b><table>\n",
       "<thead><tr><th scope=col>GarageFinish</th><th scope=col>mi</th><th scope=col>ma</th><th scope=col>n</th><th scope=col>mi == ma</th></tr></thead>\n",
       "<tbody>\n",
       "\t<tr><td>Fin     </td><td>12.27839</td><td>12.27839</td><td>352     </td><td>TRUE    </td></tr>\n",
       "\t<tr><td>RFn     </td><td>12.15478</td><td>12.15478</td><td>422     </td><td>TRUE    </td></tr>\n",
       "\t<tr><td>Unf     </td><td>11.81303</td><td>11.81303</td><td>605     </td><td>TRUE    </td></tr>\n",
       "\t<tr><td>NA      </td><td>11.51293</td><td>11.51293</td><td> 81     </td><td>TRUE    </td></tr>\n",
       "</tbody>\n",
       "</table>\n",
       "</td></tr>\n",
       "                </table>"
      ],
      "text/latex": [
       "\\begin{tabular}{r|lllll}\n",
       " GarageFinish & mi & ma & n & mi == ma\\\\\n",
       "\\hline\n",
       "\t Fin      & 12.27839 & 12.27839 & 352      & TRUE    \\\\\n",
       "\t RFn      & 12.15478 & 12.15478 & 422      & TRUE    \\\\\n",
       "\t Unf      & 11.81303 & 11.81303 & 605      & TRUE    \\\\\n",
       "\t NA       & 11.51293 & 11.51293 &  81      & TRUE    \\\\\n",
       "\\end{tabular}\n"
      ],
      "text/markdown": [
       "\n",
       "GarageFinish | mi | ma | n | mi == ma | \n",
       "|---|---|---|---|\n",
       "| Fin      | 12.27839 | 12.27839 | 352      | TRUE     | \n",
       "| RFn      | 12.15478 | 12.15478 | 422      | TRUE     | \n",
       "| Unf      | 11.81303 | 11.81303 | 605      | TRUE     | \n",
       "| NA       | 11.51293 | 11.51293 |  81      | TRUE     | \n",
       "\n",
       "\n"
      ],
      "text/plain": [
       "  GarageFinish mi       ma       n   mi == ma\n",
       "1 Fin          12.27839 12.27839 352 TRUE    \n",
       "2 RFn          12.15478 12.15478 422 TRUE    \n",
       "3 Unf          11.81303 11.81303 605 TRUE    \n",
       "4 NA           11.51293 11.51293  81 TRUE    "
      ]
     },
     "metadata": {},
     "output_type": "display_data"
    },
    {
     "data": {
      "text/html": [
       "<table>\n",
       "                  <tr style=\"background: transparent\"><td style=\"padding-right: 20px\"><b>train</b><table>\n",
       "<thead><tr><th scope=col>GarageType</th><th scope=col>mi</th><th scope=col>ma</th><th scope=col>n</th><th scope=col>mi == ma</th></tr></thead>\n",
       "<tbody>\n",
       "\t<tr><td>2Types  </td><td>11.97505</td><td>11.97505</td><td>  6     </td><td>TRUE    </td></tr>\n",
       "\t<tr><td>Attchd  </td><td>12.12811</td><td>12.12811</td><td>870     </td><td>TRUE    </td></tr>\n",
       "\t<tr><td>Basment </td><td>11.90497</td><td>11.90497</td><td> 19     </td><td>TRUE    </td></tr>\n",
       "\t<tr><td>BuiltIn </td><td>12.33485</td><td>12.33485</td><td> 88     </td><td>TRUE    </td></tr>\n",
       "\t<tr><td>CarPort </td><td>11.58989</td><td>11.58989</td><td>  9     </td><td>TRUE    </td></tr>\n",
       "\t<tr><td>Detchd  </td><td>11.77144</td><td>11.77144</td><td>387     </td><td>TRUE    </td></tr>\n",
       "\t<tr><td>NA      </td><td>11.51293</td><td>11.51293</td><td> 81     </td><td>TRUE    </td></tr>\n",
       "</tbody>\n",
       "</table>\n",
       "</td><td><b>test</b><table>\n",
       "<thead><tr><th scope=col>GarageType</th><th scope=col>mi</th><th scope=col>ma</th><th scope=col>n</th><th scope=col>mi == ma</th></tr></thead>\n",
       "<tbody>\n",
       "\t<tr><td>2Types  </td><td>11.97505</td><td>11.97505</td><td>  6     </td><td>TRUE    </td></tr>\n",
       "\t<tr><td>Attchd  </td><td>12.12811</td><td>12.12811</td><td>870     </td><td>TRUE    </td></tr>\n",
       "\t<tr><td>Basment </td><td>11.90497</td><td>11.90497</td><td> 19     </td><td>TRUE    </td></tr>\n",
       "\t<tr><td>BuiltIn </td><td>12.33485</td><td>12.33485</td><td> 88     </td><td>TRUE    </td></tr>\n",
       "\t<tr><td>CarPort </td><td>11.58989</td><td>11.58989</td><td>  9     </td><td>TRUE    </td></tr>\n",
       "\t<tr><td>Detchd  </td><td>11.77144</td><td>11.77144</td><td>387     </td><td>TRUE    </td></tr>\n",
       "\t<tr><td>NA      </td><td>11.51293</td><td>11.51293</td><td> 81     </td><td>TRUE    </td></tr>\n",
       "</tbody>\n",
       "</table>\n",
       "</td></tr>\n",
       "                </table>"
      ],
      "text/latex": [
       "\\begin{tabular}{r|lllll}\n",
       " GarageType & mi & ma & n & mi == ma\\\\\n",
       "\\hline\n",
       "\t 2Types   & 11.97505 & 11.97505 &   6      & TRUE    \\\\\n",
       "\t Attchd   & 12.12811 & 12.12811 & 870      & TRUE    \\\\\n",
       "\t Basment  & 11.90497 & 11.90497 &  19      & TRUE    \\\\\n",
       "\t BuiltIn  & 12.33485 & 12.33485 &  88      & TRUE    \\\\\n",
       "\t CarPort  & 11.58989 & 11.58989 &   9      & TRUE    \\\\\n",
       "\t Detchd   & 11.77144 & 11.77144 & 387      & TRUE    \\\\\n",
       "\t NA       & 11.51293 & 11.51293 &  81      & TRUE    \\\\\n",
       "\\end{tabular}\n"
      ],
      "text/markdown": [
       "\n",
       "GarageType | mi | ma | n | mi == ma | \n",
       "|---|---|---|---|---|---|---|\n",
       "| 2Types   | 11.97505 | 11.97505 |   6      | TRUE     | \n",
       "| Attchd   | 12.12811 | 12.12811 | 870      | TRUE     | \n",
       "| Basment  | 11.90497 | 11.90497 |  19      | TRUE     | \n",
       "| BuiltIn  | 12.33485 | 12.33485 |  88      | TRUE     | \n",
       "| CarPort  | 11.58989 | 11.58989 |   9      | TRUE     | \n",
       "| Detchd   | 11.77144 | 11.77144 | 387      | TRUE     | \n",
       "| NA       | 11.51293 | 11.51293 |  81      | TRUE     | \n",
       "\n",
       "\n"
      ],
      "text/plain": [
       "  GarageType mi       ma       n   mi == ma\n",
       "1 2Types     11.97505 11.97505   6 TRUE    \n",
       "2 Attchd     12.12811 12.12811 870 TRUE    \n",
       "3 Basment    11.90497 11.90497  19 TRUE    \n",
       "4 BuiltIn    12.33485 12.33485  88 TRUE    \n",
       "5 CarPort    11.58989 11.58989   9 TRUE    \n",
       "6 Detchd     11.77144 11.77144 387 TRUE    \n",
       "7 NA         11.51293 11.51293  81 TRUE    "
      ]
     },
     "metadata": {},
     "output_type": "display_data"
    }
   ],
   "source": [
    "type2(GarageCond, garage_cond)\n",
    "type2(GarageFinish, garage_finish)\n",
    "type2(GarageQual, garage_qual)\n",
    "type2(GarageType, garage_type)"
   ]
  },
  {
   "cell_type": "code",
   "execution_count": 88,
   "metadata": {},
   "outputs": [
    {
     "data": {
      "text/html": [
       "<table>\n",
       "                  <tr style=\"background: transparent\"><td style=\"padding-right: 20px\"><b>train</b><table>\n",
       "<thead><tr><th scope=col>HeatingQC</th><th scope=col>mi</th><th scope=col>ma</th><th scope=col>n</th><th scope=col>mi == ma</th></tr></thead>\n",
       "<tbody>\n",
       "\t<tr><td>Ex      </td><td>12.17922</td><td>12.17922</td><td>741     </td><td>TRUE    </td></tr>\n",
       "\t<tr><td>Fa      </td><td>11.72400</td><td>11.72400</td><td> 49     </td><td>TRUE    </td></tr>\n",
       "\t<tr><td>Gd      </td><td>11.93164</td><td>11.93164</td><td>241     </td><td>TRUE    </td></tr>\n",
       "\t<tr><td>Po      </td><td>11.37366</td><td>11.37366</td><td>  1     </td><td>TRUE    </td></tr>\n",
       "\t<tr><td>TA      </td><td>11.81303</td><td>11.81303</td><td>428     </td><td>TRUE    </td></tr>\n",
       "</tbody>\n",
       "</table>\n",
       "</td><td><b>test</b><table>\n",
       "<thead><tr><th scope=col>HeatingQC</th><th scope=col>mi</th><th scope=col>ma</th><th scope=col>n</th><th scope=col>mi == ma</th></tr></thead>\n",
       "<tbody>\n",
       "\t<tr><td>Ex      </td><td>12.17922</td><td>12.17922</td><td>741     </td><td>TRUE    </td></tr>\n",
       "\t<tr><td>Fa      </td><td>11.72400</td><td>11.72400</td><td> 49     </td><td>TRUE    </td></tr>\n",
       "\t<tr><td>Gd      </td><td>11.93164</td><td>11.93164</td><td>241     </td><td>TRUE    </td></tr>\n",
       "\t<tr><td>Po      </td><td>11.37366</td><td>11.37366</td><td>  1     </td><td>TRUE    </td></tr>\n",
       "\t<tr><td>TA      </td><td>11.81303</td><td>11.81303</td><td>428     </td><td>TRUE    </td></tr>\n",
       "</tbody>\n",
       "</table>\n",
       "</td></tr>\n",
       "                </table>"
      ],
      "text/latex": [
       "\\begin{tabular}{r|lllll}\n",
       " HeatingQC & mi & ma & n & mi == ma\\\\\n",
       "\\hline\n",
       "\t Ex       & 12.17922 & 12.17922 & 741      & TRUE    \\\\\n",
       "\t Fa       & 11.72400 & 11.72400 &  49      & TRUE    \\\\\n",
       "\t Gd       & 11.93164 & 11.93164 & 241      & TRUE    \\\\\n",
       "\t Po       & 11.37366 & 11.37366 &   1      & TRUE    \\\\\n",
       "\t TA       & 11.81303 & 11.81303 & 428      & TRUE    \\\\\n",
       "\\end{tabular}\n"
      ],
      "text/markdown": [
       "\n",
       "HeatingQC | mi | ma | n | mi == ma | \n",
       "|---|---|---|---|---|\n",
       "| Ex       | 12.17922 | 12.17922 | 741      | TRUE     | \n",
       "| Fa       | 11.72400 | 11.72400 |  49      | TRUE     | \n",
       "| Gd       | 11.93164 | 11.93164 | 241      | TRUE     | \n",
       "| Po       | 11.37366 | 11.37366 |   1      | TRUE     | \n",
       "| TA       | 11.81303 | 11.81303 | 428      | TRUE     | \n",
       "\n",
       "\n"
      ],
      "text/plain": [
       "  HeatingQC mi       ma       n   mi == ma\n",
       "1 Ex        12.17922 12.17922 741 TRUE    \n",
       "2 Fa        11.72400 11.72400  49 TRUE    \n",
       "3 Gd        11.93164 11.93164 241 TRUE    \n",
       "4 Po        11.37366 11.37366   1 TRUE    \n",
       "5 TA        11.81303 11.81303 428 TRUE    "
      ]
     },
     "metadata": {},
     "output_type": "display_data"
    },
    {
     "data": {
      "text/html": [
       "<table>\n",
       "                  <tr style=\"background: transparent\"><td style=\"padding-right: 20px\"><b>train</b><table>\n",
       "<thead><tr><th scope=col>HouseStyle</th><th scope=col>mi</th><th scope=col>ma</th><th scope=col>n</th><th scope=col>mi == ma</th></tr></thead>\n",
       "<tbody>\n",
       "\t<tr><td>1.5Fin  </td><td>11.79055</td><td>11.79055</td><td>154     </td><td>TRUE    </td></tr>\n",
       "\t<tr><td>1.5Unf  </td><td>11.61941</td><td>11.61941</td><td> 14     </td><td>TRUE    </td></tr>\n",
       "\t<tr><td>1Story  </td><td>11.94956</td><td>11.94956</td><td>726     </td><td>TRUE    </td></tr>\n",
       "\t<tr><td>2.5Fin  </td><td>12.17549</td><td>12.17549</td><td>  8     </td><td>TRUE    </td></tr>\n",
       "\t<tr><td>2.5Unf  </td><td>11.80485</td><td>11.80485</td><td> 11     </td><td>TRUE    </td></tr>\n",
       "\t<tr><td>2Story  </td><td>12.15478</td><td>12.15478</td><td>445     </td><td>TRUE    </td></tr>\n",
       "\t<tr><td>SFoyer  </td><td>11.82012</td><td>11.82012</td><td> 37     </td><td>TRUE    </td></tr>\n",
       "\t<tr><td>SLvl    </td><td>12.01067</td><td>12.01067</td><td> 65     </td><td>TRUE    </td></tr>\n",
       "</tbody>\n",
       "</table>\n",
       "</td><td><b>test</b><table>\n",
       "<thead><tr><th scope=col>HouseStyle</th><th scope=col>mi</th><th scope=col>ma</th><th scope=col>n</th><th scope=col>mi == ma</th></tr></thead>\n",
       "<tbody>\n",
       "\t<tr><td>1.5Fin  </td><td>11.79055</td><td>11.79055</td><td>154     </td><td>TRUE    </td></tr>\n",
       "\t<tr><td>1.5Unf  </td><td>11.61941</td><td>11.61941</td><td> 14     </td><td>TRUE    </td></tr>\n",
       "\t<tr><td>1Story  </td><td>11.94956</td><td>11.94956</td><td>726     </td><td>TRUE    </td></tr>\n",
       "\t<tr><td>2.5Fin  </td><td>12.17549</td><td>12.17549</td><td>  8     </td><td>TRUE    </td></tr>\n",
       "\t<tr><td>2.5Unf  </td><td>11.80485</td><td>11.80485</td><td> 11     </td><td>TRUE    </td></tr>\n",
       "\t<tr><td>2Story  </td><td>12.15478</td><td>12.15478</td><td>445     </td><td>TRUE    </td></tr>\n",
       "\t<tr><td>SFoyer  </td><td>11.82012</td><td>11.82012</td><td> 37     </td><td>TRUE    </td></tr>\n",
       "\t<tr><td>SLvl    </td><td>12.01067</td><td>12.01067</td><td> 65     </td><td>TRUE    </td></tr>\n",
       "</tbody>\n",
       "</table>\n",
       "</td></tr>\n",
       "                </table>"
      ],
      "text/latex": [
       "\\begin{tabular}{r|lllll}\n",
       " HouseStyle & mi & ma & n & mi == ma\\\\\n",
       "\\hline\n",
       "\t 1.5Fin   & 11.79055 & 11.79055 & 154      & TRUE    \\\\\n",
       "\t 1.5Unf   & 11.61941 & 11.61941 &  14      & TRUE    \\\\\n",
       "\t 1Story   & 11.94956 & 11.94956 & 726      & TRUE    \\\\\n",
       "\t 2.5Fin   & 12.17549 & 12.17549 &   8      & TRUE    \\\\\n",
       "\t 2.5Unf   & 11.80485 & 11.80485 &  11      & TRUE    \\\\\n",
       "\t 2Story   & 12.15478 & 12.15478 & 445      & TRUE    \\\\\n",
       "\t SFoyer   & 11.82012 & 11.82012 &  37      & TRUE    \\\\\n",
       "\t SLvl     & 12.01067 & 12.01067 &  65      & TRUE    \\\\\n",
       "\\end{tabular}\n"
      ],
      "text/markdown": [
       "\n",
       "HouseStyle | mi | ma | n | mi == ma | \n",
       "|---|---|---|---|---|---|---|---|\n",
       "| 1.5Fin   | 11.79055 | 11.79055 | 154      | TRUE     | \n",
       "| 1.5Unf   | 11.61941 | 11.61941 |  14      | TRUE     | \n",
       "| 1Story   | 11.94956 | 11.94956 | 726      | TRUE     | \n",
       "| 2.5Fin   | 12.17549 | 12.17549 |   8      | TRUE     | \n",
       "| 2.5Unf   | 11.80485 | 11.80485 |  11      | TRUE     | \n",
       "| 2Story   | 12.15478 | 12.15478 | 445      | TRUE     | \n",
       "| SFoyer   | 11.82012 | 11.82012 |  37      | TRUE     | \n",
       "| SLvl     | 12.01067 | 12.01067 |  65      | TRUE     | \n",
       "\n",
       "\n"
      ],
      "text/plain": [
       "  HouseStyle mi       ma       n   mi == ma\n",
       "1 1.5Fin     11.79055 11.79055 154 TRUE    \n",
       "2 1.5Unf     11.61941 11.61941  14 TRUE    \n",
       "3 1Story     11.94956 11.94956 726 TRUE    \n",
       "4 2.5Fin     12.17549 12.17549   8 TRUE    \n",
       "5 2.5Unf     11.80485 11.80485  11 TRUE    \n",
       "6 2Story     12.15478 12.15478 445 TRUE    \n",
       "7 SFoyer     11.82012 11.82012  37 TRUE    \n",
       "8 SLvl       12.01067 12.01067  65 TRUE    "
      ]
     },
     "metadata": {},
     "output_type": "display_data"
    }
   ],
   "source": [
    "type2(HeatingQC, heating_qual)\n",
    "type2(HouseStyle, house_style)"
   ]
  },
  {
   "cell_type": "code",
   "execution_count": 98,
   "metadata": {},
   "outputs": [
    {
     "data": {
      "text/html": [
       "<table>\n",
       "                  <tr style=\"background: transparent\"><td style=\"padding-right: 20px\"><b>train</b><table>\n",
       "<thead><tr><th scope=col>KitchenQual</th><th scope=col>mi</th><th scope=col>ma</th><th scope=col>n</th><th scope=col>mi == ma</th></tr></thead>\n",
       "<tbody>\n",
       "\t<tr><td>Ex      </td><td>12.66586</td><td>12.66586</td><td>100     </td><td>TRUE    </td></tr>\n",
       "\t<tr><td>Fa      </td><td>11.65269</td><td>11.65269</td><td> 39     </td><td>TRUE    </td></tr>\n",
       "\t<tr><td>Gd      </td><td>12.21305</td><td>12.21305</td><td>586     </td><td>TRUE    </td></tr>\n",
       "\t<tr><td>TA      </td><td>11.82774</td><td>11.82774</td><td>735     </td><td>TRUE    </td></tr>\n",
       "</tbody>\n",
       "</table>\n",
       "</td><td><b>test</b><table>\n",
       "<thead><tr><th scope=col>KitchenQual</th><th scope=col>mi</th><th scope=col>ma</th><th scope=col>n</th><th scope=col>mi == ma</th></tr></thead>\n",
       "<tbody>\n",
       "\t<tr><td>Ex      </td><td>12.66586</td><td>12.66586</td><td>100     </td><td>TRUE    </td></tr>\n",
       "\t<tr><td>Fa      </td><td>11.65269</td><td>11.65269</td><td> 39     </td><td>TRUE    </td></tr>\n",
       "\t<tr><td>Gd      </td><td>12.21305</td><td>12.21305</td><td>586     </td><td>TRUE    </td></tr>\n",
       "\t<tr><td>TA      </td><td>11.82774</td><td>11.82774</td><td>735     </td><td>TRUE    </td></tr>\n",
       "</tbody>\n",
       "</table>\n",
       "</td></tr>\n",
       "                </table>"
      ],
      "text/latex": [
       "\\begin{tabular}{r|lllll}\n",
       " KitchenQual & mi & ma & n & mi == ma\\\\\n",
       "\\hline\n",
       "\t Ex       & 12.66586 & 12.66586 & 100      & TRUE    \\\\\n",
       "\t Fa       & 11.65269 & 11.65269 &  39      & TRUE    \\\\\n",
       "\t Gd       & 12.21305 & 12.21305 & 586      & TRUE    \\\\\n",
       "\t TA       & 11.82774 & 11.82774 & 735      & TRUE    \\\\\n",
       "\\end{tabular}\n"
      ],
      "text/markdown": [
       "\n",
       "KitchenQual | mi | ma | n | mi == ma | \n",
       "|---|---|---|---|\n",
       "| Ex       | 12.66586 | 12.66586 | 100      | TRUE     | \n",
       "| Fa       | 11.65269 | 11.65269 |  39      | TRUE     | \n",
       "| Gd       | 12.21305 | 12.21305 | 586      | TRUE     | \n",
       "| TA       | 11.82774 | 11.82774 | 735      | TRUE     | \n",
       "\n",
       "\n"
      ],
      "text/plain": [
       "  KitchenQual mi       ma       n   mi == ma\n",
       "1 Ex          12.66586 12.66586 100 TRUE    \n",
       "2 Fa          11.65269 11.65269  39 TRUE    \n",
       "3 Gd          12.21305 12.21305 586 TRUE    \n",
       "4 TA          11.82774 11.82774 735 TRUE    "
      ]
     },
     "metadata": {},
     "output_type": "display_data"
    },
    {
     "data": {
      "text/html": [
       "<table>\n",
       "                  <tr style=\"background: transparent\"><td style=\"padding-right: 20px\"><b>train</b><table>\n",
       "<thead><tr><th scope=col>LotConfig</th><th scope=col>mi</th><th scope=col>ma</th><th scope=col>n</th><th scope=col>mi == ma</th></tr></thead>\n",
       "<tbody>\n",
       "\t<tr><td>Corner  </td><td>11.98293</td><td>11.98293</td><td> 263    </td><td>TRUE    </td></tr>\n",
       "\t<tr><td>CulDSac </td><td>12.20235</td><td>12.20235</td><td>  94    </td><td>TRUE    </td></tr>\n",
       "\t<tr><td>FR2     </td><td>12.01370</td><td>12.01370</td><td>  47    </td><td>TRUE    </td></tr>\n",
       "\t<tr><td>FR3     </td><td>12.18131</td><td>12.18131</td><td>   4    </td><td>TRUE    </td></tr>\n",
       "\t<tr><td>Inside  </td><td>11.98104</td><td>11.98104</td><td>1052    </td><td>TRUE    </td></tr>\n",
       "</tbody>\n",
       "</table>\n",
       "</td><td><b>test</b><table>\n",
       "<thead><tr><th scope=col>LotConfig</th><th scope=col>mi</th><th scope=col>ma</th><th scope=col>n</th><th scope=col>mi == ma</th></tr></thead>\n",
       "<tbody>\n",
       "\t<tr><td>Corner  </td><td>11.98293</td><td>11.98293</td><td> 263    </td><td>TRUE    </td></tr>\n",
       "\t<tr><td>CulDSac </td><td>12.20235</td><td>12.20235</td><td>  94    </td><td>TRUE    </td></tr>\n",
       "\t<tr><td>FR2     </td><td>12.01370</td><td>12.01370</td><td>  47    </td><td>TRUE    </td></tr>\n",
       "\t<tr><td>FR3     </td><td>12.18131</td><td>12.18131</td><td>   4    </td><td>TRUE    </td></tr>\n",
       "\t<tr><td>Inside  </td><td>11.98104</td><td>11.98104</td><td>1052    </td><td>TRUE    </td></tr>\n",
       "</tbody>\n",
       "</table>\n",
       "</td></tr>\n",
       "                </table>"
      ],
      "text/latex": [
       "\\begin{tabular}{r|lllll}\n",
       " LotConfig & mi & ma & n & mi == ma\\\\\n",
       "\\hline\n",
       "\t Corner   & 11.98293 & 11.98293 &  263     & TRUE    \\\\\n",
       "\t CulDSac  & 12.20235 & 12.20235 &   94     & TRUE    \\\\\n",
       "\t FR2      & 12.01370 & 12.01370 &   47     & TRUE    \\\\\n",
       "\t FR3      & 12.18131 & 12.18131 &    4     & TRUE    \\\\\n",
       "\t Inside   & 11.98104 & 11.98104 & 1052     & TRUE    \\\\\n",
       "\\end{tabular}\n"
      ],
      "text/markdown": [
       "\n",
       "LotConfig | mi | ma | n | mi == ma | \n",
       "|---|---|---|---|---|\n",
       "| Corner   | 11.98293 | 11.98293 |  263     | TRUE     | \n",
       "| CulDSac  | 12.20235 | 12.20235 |   94     | TRUE     | \n",
       "| FR2      | 12.01370 | 12.01370 |   47     | TRUE     | \n",
       "| FR3      | 12.18131 | 12.18131 |    4     | TRUE     | \n",
       "| Inside   | 11.98104 | 11.98104 | 1052     | TRUE     | \n",
       "\n",
       "\n"
      ],
      "text/plain": [
       "  LotConfig mi       ma       n    mi == ma\n",
       "1 Corner    11.98293 11.98293  263 TRUE    \n",
       "2 CulDSac   12.20235 12.20235   94 TRUE    \n",
       "3 FR2       12.01370 12.01370   47 TRUE    \n",
       "4 FR3       12.18131 12.18131    4 TRUE    \n",
       "5 Inside    11.98104 11.98104 1052 TRUE    "
      ]
     },
     "metadata": {},
     "output_type": "display_data"
    }
   ],
   "source": [
    "type2(KitchenQual, kitchen_qual)\n",
    "type2(LotConfig, lot_config)"
   ]
  },
  {
   "cell_type": "code",
   "execution_count": 106,
   "metadata": {},
   "outputs": [
    {
     "data": {
      "text/html": [
       "<table>\n",
       "                  <tr style=\"background: transparent\"><td style=\"padding-right: 20px\"><b>train</b><table>\n",
       "<thead><tr><th scope=col>MasVnrType</th><th scope=col>mi</th><th scope=col>ma</th><th scope=col>n</th><th scope=col>mi == ma</th></tr></thead>\n",
       "<tbody>\n",
       "\t<tr><td>BrkCmn  </td><td>11.84223</td><td>11.84223</td><td> 15     </td><td>TRUE    </td></tr>\n",
       "\t<tr><td>BrkFace </td><td>12.10625</td><td>12.10625</td><td>445     </td><td>TRUE    </td></tr>\n",
       "\t<tr><td>None    </td><td>11.87060</td><td>11.87060</td><td>864     </td><td>TRUE    </td></tr>\n",
       "\t<tr><td>Stone   </td><td>12.41647</td><td>12.41647</td><td>128     </td><td>TRUE    </td></tr>\n",
       "\t<tr><td>NA      </td><td>12.22229</td><td>12.22229</td><td>  8     </td><td>TRUE    </td></tr>\n",
       "</tbody>\n",
       "</table>\n",
       "</td><td><b>test</b><table>\n",
       "<thead><tr><th scope=col>MasVnrType</th><th scope=col>mi</th><th scope=col>ma</th><th scope=col>n</th><th scope=col>mi == ma</th></tr></thead>\n",
       "<tbody>\n",
       "\t<tr><td>BrkCmn  </td><td>11.84223</td><td>11.84223</td><td> 15     </td><td>TRUE    </td></tr>\n",
       "\t<tr><td>BrkFace </td><td>12.10625</td><td>12.10625</td><td>445     </td><td>TRUE    </td></tr>\n",
       "\t<tr><td>None    </td><td>11.87060</td><td>11.87060</td><td>864     </td><td>TRUE    </td></tr>\n",
       "\t<tr><td>Stone   </td><td>12.41647</td><td>12.41647</td><td>128     </td><td>TRUE    </td></tr>\n",
       "\t<tr><td>NA      </td><td>12.22229</td><td>12.22229</td><td>  8     </td><td>TRUE    </td></tr>\n",
       "</tbody>\n",
       "</table>\n",
       "</td></tr>\n",
       "                </table>"
      ],
      "text/latex": [
       "\\begin{tabular}{r|lllll}\n",
       " MasVnrType & mi & ma & n & mi == ma\\\\\n",
       "\\hline\n",
       "\t BrkCmn   & 11.84223 & 11.84223 &  15      & TRUE    \\\\\n",
       "\t BrkFace  & 12.10625 & 12.10625 & 445      & TRUE    \\\\\n",
       "\t None     & 11.87060 & 11.87060 & 864      & TRUE    \\\\\n",
       "\t Stone    & 12.41647 & 12.41647 & 128      & TRUE    \\\\\n",
       "\t NA       & 12.22229 & 12.22229 &   8      & TRUE    \\\\\n",
       "\\end{tabular}\n"
      ],
      "text/markdown": [
       "\n",
       "MasVnrType | mi | ma | n | mi == ma | \n",
       "|---|---|---|---|---|\n",
       "| BrkCmn   | 11.84223 | 11.84223 |  15      | TRUE     | \n",
       "| BrkFace  | 12.10625 | 12.10625 | 445      | TRUE     | \n",
       "| None     | 11.87060 | 11.87060 | 864      | TRUE     | \n",
       "| Stone    | 12.41647 | 12.41647 | 128      | TRUE     | \n",
       "| NA       | 12.22229 | 12.22229 |   8      | TRUE     | \n",
       "\n",
       "\n"
      ],
      "text/plain": [
       "  MasVnrType mi       ma       n   mi == ma\n",
       "1 BrkCmn     11.84223 11.84223  15 TRUE    \n",
       "2 BrkFace    12.10625 12.10625 445 TRUE    \n",
       "3 None       11.87060 11.87060 864 TRUE    \n",
       "4 Stone      12.41647 12.41647 128 TRUE    \n",
       "5 NA         12.22229 12.22229   8 TRUE    "
      ]
     },
     "metadata": {},
     "output_type": "display_data"
    },
    {
     "data": {
      "text/html": [
       "<table>\n",
       "                  <tr style=\"background: transparent\"><td style=\"padding-right: 20px\"><b>train</b><table>\n",
       "<thead><tr><th scope=col>MSSubClass</th><th scope=col>mi</th><th scope=col>ma</th><th scope=col>n</th><th scope=col>mi == ma</th></tr></thead>\n",
       "<tbody>\n",
       "\t<tr><td>120     </td><td>12.16525</td><td>12.16525</td><td> 87     </td><td>TRUE    </td></tr>\n",
       "\t<tr><td>160     </td><td>11.89136</td><td>11.89136</td><td> 63     </td><td>TRUE    </td></tr>\n",
       "\t<tr><td>180     </td><td>11.39036</td><td>11.39036</td><td> 10     </td><td>TRUE    </td></tr>\n",
       "\t<tr><td>190     </td><td>11.76172</td><td>11.76172</td><td> 30     </td><td>TRUE    </td></tr>\n",
       "\t<tr><td>20      </td><td>11.97823</td><td>11.97823</td><td>536     </td><td>TRUE    </td></tr>\n",
       "\t<tr><td>30      </td><td>11.51192</td><td>11.51192</td><td> 69     </td><td>TRUE    </td></tr>\n",
       "\t<tr><td>40      </td><td>11.86487</td><td>11.86487</td><td>  4     </td><td>TRUE    </td></tr>\n",
       "\t<tr><td>45      </td><td>11.58507</td><td>11.58507</td><td> 12     </td><td>TRUE    </td></tr>\n",
       "\t<tr><td>50      </td><td>11.79055</td><td>11.79055</td><td>144     </td><td>TRUE    </td></tr>\n",
       "\t<tr><td>60      </td><td>12.27932</td><td>12.27932</td><td>299     </td><td>TRUE    </td></tr>\n",
       "\t<tr><td>70      </td><td>11.95759</td><td>11.95759</td><td> 60     </td><td>TRUE    </td></tr>\n",
       "\t<tr><td>75      </td><td>12.00456</td><td>12.00456</td><td> 16     </td><td>TRUE    </td></tr>\n",
       "\t<tr><td>80      </td><td>12.02273</td><td>12.02273</td><td> 58     </td><td>TRUE    </td></tr>\n",
       "\t<tr><td>85      </td><td>11.85447</td><td>11.85447</td><td> 20     </td><td>TRUE    </td></tr>\n",
       "\t<tr><td>90      </td><td>11.82026</td><td>11.82026</td><td> 52     </td><td>TRUE    </td></tr>\n",
       "</tbody>\n",
       "</table>\n",
       "</td><td><b>test</b><table>\n",
       "<thead><tr><th scope=col>MSSubClass</th><th scope=col>mi</th><th scope=col>ma</th><th scope=col>n</th><th scope=col>mi == ma</th></tr></thead>\n",
       "<tbody>\n",
       "\t<tr><td>120     </td><td>12.16525</td><td>12.16525</td><td> 87     </td><td>TRUE    </td></tr>\n",
       "\t<tr><td>160     </td><td>11.89136</td><td>11.89136</td><td> 63     </td><td>TRUE    </td></tr>\n",
       "\t<tr><td>180     </td><td>11.39036</td><td>11.39036</td><td> 10     </td><td>TRUE    </td></tr>\n",
       "\t<tr><td>190     </td><td>11.76172</td><td>11.76172</td><td> 30     </td><td>TRUE    </td></tr>\n",
       "\t<tr><td>20      </td><td>11.97823</td><td>11.97823</td><td>536     </td><td>TRUE    </td></tr>\n",
       "\t<tr><td>30      </td><td>11.51192</td><td>11.51192</td><td> 69     </td><td>TRUE    </td></tr>\n",
       "\t<tr><td>40      </td><td>11.86487</td><td>11.86487</td><td>  4     </td><td>TRUE    </td></tr>\n",
       "\t<tr><td>45      </td><td>11.58507</td><td>11.58507</td><td> 12     </td><td>TRUE    </td></tr>\n",
       "\t<tr><td>50      </td><td>11.79055</td><td>11.79055</td><td>144     </td><td>TRUE    </td></tr>\n",
       "\t<tr><td>60      </td><td>12.27932</td><td>12.27932</td><td>299     </td><td>TRUE    </td></tr>\n",
       "\t<tr><td>70      </td><td>11.95759</td><td>11.95759</td><td> 60     </td><td>TRUE    </td></tr>\n",
       "\t<tr><td>75      </td><td>12.00456</td><td>12.00456</td><td> 16     </td><td>TRUE    </td></tr>\n",
       "\t<tr><td>80      </td><td>12.02273</td><td>12.02273</td><td> 58     </td><td>TRUE    </td></tr>\n",
       "\t<tr><td>85      </td><td>11.85447</td><td>11.85447</td><td> 20     </td><td>TRUE    </td></tr>\n",
       "\t<tr><td>90      </td><td>11.82026</td><td>11.82026</td><td> 52     </td><td>TRUE    </td></tr>\n",
       "</tbody>\n",
       "</table>\n",
       "</td></tr>\n",
       "                </table>"
      ],
      "text/latex": [
       "\\begin{tabular}{r|lllll}\n",
       " MSSubClass & mi & ma & n & mi == ma\\\\\n",
       "\\hline\n",
       "\t 120      & 12.16525 & 12.16525 &  87      & TRUE    \\\\\n",
       "\t 160      & 11.89136 & 11.89136 &  63      & TRUE    \\\\\n",
       "\t 180      & 11.39036 & 11.39036 &  10      & TRUE    \\\\\n",
       "\t 190      & 11.76172 & 11.76172 &  30      & TRUE    \\\\\n",
       "\t 20       & 11.97823 & 11.97823 & 536      & TRUE    \\\\\n",
       "\t 30       & 11.51192 & 11.51192 &  69      & TRUE    \\\\\n",
       "\t 40       & 11.86487 & 11.86487 &   4      & TRUE    \\\\\n",
       "\t 45       & 11.58507 & 11.58507 &  12      & TRUE    \\\\\n",
       "\t 50       & 11.79055 & 11.79055 & 144      & TRUE    \\\\\n",
       "\t 60       & 12.27932 & 12.27932 & 299      & TRUE    \\\\\n",
       "\t 70       & 11.95759 & 11.95759 &  60      & TRUE    \\\\\n",
       "\t 75       & 12.00456 & 12.00456 &  16      & TRUE    \\\\\n",
       "\t 80       & 12.02273 & 12.02273 &  58      & TRUE    \\\\\n",
       "\t 85       & 11.85447 & 11.85447 &  20      & TRUE    \\\\\n",
       "\t 90       & 11.82026 & 11.82026 &  52      & TRUE    \\\\\n",
       "\\end{tabular}\n"
      ],
      "text/markdown": [
       "\n",
       "MSSubClass | mi | ma | n | mi == ma | \n",
       "|---|---|---|---|---|---|---|---|---|---|---|---|---|---|---|\n",
       "| 120      | 12.16525 | 12.16525 |  87      | TRUE     | \n",
       "| 160      | 11.89136 | 11.89136 |  63      | TRUE     | \n",
       "| 180      | 11.39036 | 11.39036 |  10      | TRUE     | \n",
       "| 190      | 11.76172 | 11.76172 |  30      | TRUE     | \n",
       "| 20       | 11.97823 | 11.97823 | 536      | TRUE     | \n",
       "| 30       | 11.51192 | 11.51192 |  69      | TRUE     | \n",
       "| 40       | 11.86487 | 11.86487 |   4      | TRUE     | \n",
       "| 45       | 11.58507 | 11.58507 |  12      | TRUE     | \n",
       "| 50       | 11.79055 | 11.79055 | 144      | TRUE     | \n",
       "| 60       | 12.27932 | 12.27932 | 299      | TRUE     | \n",
       "| 70       | 11.95759 | 11.95759 |  60      | TRUE     | \n",
       "| 75       | 12.00456 | 12.00456 |  16      | TRUE     | \n",
       "| 80       | 12.02273 | 12.02273 |  58      | TRUE     | \n",
       "| 85       | 11.85447 | 11.85447 |  20      | TRUE     | \n",
       "| 90       | 11.82026 | 11.82026 |  52      | TRUE     | \n",
       "\n",
       "\n"
      ],
      "text/plain": [
       "   MSSubClass mi       ma       n   mi == ma\n",
       "1  120        12.16525 12.16525  87 TRUE    \n",
       "2  160        11.89136 11.89136  63 TRUE    \n",
       "3  180        11.39036 11.39036  10 TRUE    \n",
       "4  190        11.76172 11.76172  30 TRUE    \n",
       "5  20         11.97823 11.97823 536 TRUE    \n",
       "6  30         11.51192 11.51192  69 TRUE    \n",
       "7  40         11.86487 11.86487   4 TRUE    \n",
       "8  45         11.58507 11.58507  12 TRUE    \n",
       "9  50         11.79055 11.79055 144 TRUE    \n",
       "10 60         12.27932 12.27932 299 TRUE    \n",
       "11 70         11.95759 11.95759  60 TRUE    \n",
       "12 75         12.00456 12.00456  16 TRUE    \n",
       "13 80         12.02273 12.02273  58 TRUE    \n",
       "14 85         11.85447 11.85447  20 TRUE    \n",
       "15 90         11.82026 11.82026  52 TRUE    "
      ]
     },
     "metadata": {},
     "output_type": "display_data"
    }
   ],
   "source": [
    "type2(MasVnrType, masonry_veneer_type)\n",
    "type2(MSSubClass, ms_sub_class)"
   ]
  },
  {
   "cell_type": "code",
   "execution_count": 109,
   "metadata": {},
   "outputs": [
    {
     "data": {
      "text/html": [
       "<table>\n",
       "                  <tr style=\"background: transparent\"><td style=\"padding-right: 20px\"><b>train</b><table>\n",
       "<thead><tr><th scope=col>MSZoning</th><th scope=col>mi</th><th scope=col>ma</th><th scope=col>n</th><th scope=col>mi == ma</th></tr></thead>\n",
       "<tbody>\n",
       "\t<tr><td>C (all) </td><td>11.21767</td><td>11.21767</td><td>  10    </td><td>TRUE    </td></tr>\n",
       "\t<tr><td>FV      </td><td>12.23539</td><td>12.23539</td><td>  65    </td><td>TRUE    </td></tr>\n",
       "\t<tr><td>RH      </td><td>11.82375</td><td>11.82375</td><td>  16    </td><td>TRUE    </td></tr>\n",
       "\t<tr><td>RL      </td><td>12.06681</td><td>12.06681</td><td>1151    </td><td>TRUE    </td></tr>\n",
       "\t<tr><td>RM      </td><td>11.69941</td><td>11.69941</td><td> 218    </td><td>TRUE    </td></tr>\n",
       "</tbody>\n",
       "</table>\n",
       "</td><td><b>test</b><table>\n",
       "<thead><tr><th scope=col>MSZoning</th><th scope=col>mi</th><th scope=col>ma</th><th scope=col>n</th><th scope=col>mi == ma</th></tr></thead>\n",
       "<tbody>\n",
       "\t<tr><td>C (all) </td><td>11.21767</td><td>11.21767</td><td>  10    </td><td>TRUE    </td></tr>\n",
       "\t<tr><td>FV      </td><td>12.23539</td><td>12.23539</td><td>  65    </td><td>TRUE    </td></tr>\n",
       "\t<tr><td>RH      </td><td>11.82375</td><td>11.82375</td><td>  16    </td><td>TRUE    </td></tr>\n",
       "\t<tr><td>RL      </td><td>12.06681</td><td>12.06681</td><td>1151    </td><td>TRUE    </td></tr>\n",
       "\t<tr><td>RM      </td><td>11.69941</td><td>11.69941</td><td> 218    </td><td>TRUE    </td></tr>\n",
       "</tbody>\n",
       "</table>\n",
       "</td></tr>\n",
       "                </table>"
      ],
      "text/latex": [
       "\\begin{tabular}{r|lllll}\n",
       " MSZoning & mi & ma & n & mi == ma\\\\\n",
       "\\hline\n",
       "\t C (all)  & 11.21767 & 11.21767 &   10     & TRUE    \\\\\n",
       "\t FV       & 12.23539 & 12.23539 &   65     & TRUE    \\\\\n",
       "\t RH       & 11.82375 & 11.82375 &   16     & TRUE    \\\\\n",
       "\t RL       & 12.06681 & 12.06681 & 1151     & TRUE    \\\\\n",
       "\t RM       & 11.69941 & 11.69941 &  218     & TRUE    \\\\\n",
       "\\end{tabular}\n"
      ],
      "text/markdown": [
       "\n",
       "MSZoning | mi | ma | n | mi == ma | \n",
       "|---|---|---|---|---|\n",
       "| C (all)  | 11.21767 | 11.21767 |   10     | TRUE     | \n",
       "| FV       | 12.23539 | 12.23539 |   65     | TRUE     | \n",
       "| RH       | 11.82375 | 11.82375 |   16     | TRUE     | \n",
       "| RL       | 12.06681 | 12.06681 | 1151     | TRUE     | \n",
       "| RM       | 11.69941 | 11.69941 |  218     | TRUE     | \n",
       "\n",
       "\n"
      ],
      "text/plain": [
       "  MSZoning mi       ma       n    mi == ma\n",
       "1 C (all)  11.21767 11.21767   10 TRUE    \n",
       "2 FV       12.23539 12.23539   65 TRUE    \n",
       "3 RH       11.82375 11.82375   16 TRUE    \n",
       "4 RL       12.06681 12.06681 1151 TRUE    \n",
       "5 RM       11.69941 11.69941  218 TRUE    "
      ]
     },
     "metadata": {},
     "output_type": "display_data"
    },
    {
     "data": {
      "text/html": [
       "<table>\n",
       "                  <tr style=\"background: transparent\"><td style=\"padding-right: 20px\"><b>train</b><table>\n",
       "<thead><tr><th scope=col>Neighborhood</th><th scope=col>mi</th><th scope=col>ma</th><th scope=col>n</th><th scope=col>mi == ma</th></tr></thead>\n",
       "<tbody>\n",
       "\t<tr><td>Blmngtn </td><td>12.16003</td><td>12.16003</td><td> 17     </td><td>TRUE    </td></tr>\n",
       "\t<tr><td>Blueste </td><td>11.82654</td><td>11.82654</td><td>  2     </td><td>TRUE    </td></tr>\n",
       "\t<tr><td>BrDale  </td><td>11.57119</td><td>11.57119</td><td> 16     </td><td>TRUE    </td></tr>\n",
       "\t<tr><td>BrkSide </td><td>11.73022</td><td>11.73022</td><td> 58     </td><td>TRUE    </td></tr>\n",
       "\t<tr><td>ClearCr </td><td>12.20732</td><td>12.20732</td><td> 28     </td><td>TRUE    </td></tr>\n",
       "\t<tr><td>CollgCr </td><td>12.19197</td><td>12.19197</td><td>150     </td><td>TRUE    </td></tr>\n",
       "\t<tr><td>Crawfor </td><td>12.20919</td><td>12.20919</td><td> 51     </td><td>TRUE    </td></tr>\n",
       "\t<tr><td>Edwards </td><td>11.70962</td><td>11.70962</td><td>100     </td><td>TRUE    </td></tr>\n",
       "\t<tr><td>Gilbert </td><td>12.10625</td><td>12.10625</td><td> 79     </td><td>TRUE    </td></tr>\n",
       "\t<tr><td>IDOTRR  </td><td>11.54248</td><td>11.54248</td><td> 37     </td><td>TRUE    </td></tr>\n",
       "\t<tr><td>MeadowV </td><td>11.38509</td><td>11.38509</td><td> 17     </td><td>TRUE    </td></tr>\n",
       "\t<tr><td>Mitchel </td><td>11.94146</td><td>11.94146</td><td> 49     </td><td>TRUE    </td></tr>\n",
       "\t<tr><td>NAmes   </td><td>11.84940</td><td>11.84940</td><td>225     </td><td>TRUE    </td></tr>\n",
       "\t<tr><td>NoRidge </td><td>12.61653</td><td>12.61653</td><td> 41     </td><td>TRUE    </td></tr>\n",
       "\t<tr><td>NPkVill </td><td>11.89136</td><td>11.89136</td><td>  9     </td><td>TRUE    </td></tr>\n",
       "\t<tr><td>NridgHt </td><td>12.66033</td><td>12.66033</td><td> 77     </td><td>TRUE    </td></tr>\n",
       "\t<tr><td>NWAmes  </td><td>12.11669</td><td>12.11669</td><td> 73     </td><td>TRUE    </td></tr>\n",
       "\t<tr><td>OldTown </td><td>11.68688</td><td>11.68688</td><td>113     </td><td>TRUE    </td></tr>\n",
       "\t<tr><td>Sawyer  </td><td>11.81303</td><td>11.81303</td><td> 74     </td><td>TRUE    </td></tr>\n",
       "\t<tr><td>SawyerW </td><td>12.10016</td><td>12.10016</td><td> 59     </td><td>TRUE    </td></tr>\n",
       "\t<tr><td>Somerst </td><td>12.32607</td><td>12.32607</td><td> 86     </td><td>TRUE    </td></tr>\n",
       "\t<tr><td>StoneBr </td><td>12.53538</td><td>12.53538</td><td> 25     </td><td>TRUE    </td></tr>\n",
       "\t<tr><td>SWISU   </td><td>11.84582</td><td>11.84582</td><td> 25     </td><td>TRUE    </td></tr>\n",
       "\t<tr><td>Timber  </td><td>12.33918</td><td>12.33918</td><td> 38     </td><td>TRUE    </td></tr>\n",
       "\t<tr><td>Veenker </td><td>12.29225</td><td>12.29225</td><td> 11     </td><td>TRUE    </td></tr>\n",
       "</tbody>\n",
       "</table>\n",
       "</td><td><b>test</b><table>\n",
       "<thead><tr><th scope=col>Neighborhood</th><th scope=col>mi</th><th scope=col>ma</th><th scope=col>n</th><th scope=col>mi == ma</th></tr></thead>\n",
       "<tbody>\n",
       "\t<tr><td>Blmngtn </td><td>12.16003</td><td>12.16003</td><td> 17     </td><td>TRUE    </td></tr>\n",
       "\t<tr><td>Blueste </td><td>11.82654</td><td>11.82654</td><td>  2     </td><td>TRUE    </td></tr>\n",
       "\t<tr><td>BrDale  </td><td>11.57119</td><td>11.57119</td><td> 16     </td><td>TRUE    </td></tr>\n",
       "\t<tr><td>BrkSide </td><td>11.73022</td><td>11.73022</td><td> 58     </td><td>TRUE    </td></tr>\n",
       "\t<tr><td>ClearCr </td><td>12.20732</td><td>12.20732</td><td> 28     </td><td>TRUE    </td></tr>\n",
       "\t<tr><td>CollgCr </td><td>12.19197</td><td>12.19197</td><td>150     </td><td>TRUE    </td></tr>\n",
       "\t<tr><td>Crawfor </td><td>12.20919</td><td>12.20919</td><td> 51     </td><td>TRUE    </td></tr>\n",
       "\t<tr><td>Edwards </td><td>11.70962</td><td>11.70962</td><td>100     </td><td>TRUE    </td></tr>\n",
       "\t<tr><td>Gilbert </td><td>12.10625</td><td>12.10625</td><td> 79     </td><td>TRUE    </td></tr>\n",
       "\t<tr><td>IDOTRR  </td><td>11.54248</td><td>11.54248</td><td> 37     </td><td>TRUE    </td></tr>\n",
       "\t<tr><td>MeadowV </td><td>11.38509</td><td>11.38509</td><td> 17     </td><td>TRUE    </td></tr>\n",
       "\t<tr><td>Mitchel </td><td>11.94146</td><td>11.94146</td><td> 49     </td><td>TRUE    </td></tr>\n",
       "\t<tr><td>NAmes   </td><td>11.84940</td><td>11.84940</td><td>225     </td><td>TRUE    </td></tr>\n",
       "\t<tr><td>NoRidge </td><td>12.61653</td><td>12.61653</td><td> 41     </td><td>TRUE    </td></tr>\n",
       "\t<tr><td>NPkVill </td><td>11.89136</td><td>11.89136</td><td>  9     </td><td>TRUE    </td></tr>\n",
       "\t<tr><td>NridgHt </td><td>12.66033</td><td>12.66033</td><td> 77     </td><td>TRUE    </td></tr>\n",
       "\t<tr><td>NWAmes  </td><td>12.11669</td><td>12.11669</td><td> 73     </td><td>TRUE    </td></tr>\n",
       "\t<tr><td>OldTown </td><td>11.68688</td><td>11.68688</td><td>113     </td><td>TRUE    </td></tr>\n",
       "\t<tr><td>Sawyer  </td><td>11.81303</td><td>11.81303</td><td> 74     </td><td>TRUE    </td></tr>\n",
       "\t<tr><td>SawyerW </td><td>12.10016</td><td>12.10016</td><td> 59     </td><td>TRUE    </td></tr>\n",
       "\t<tr><td>Somerst </td><td>12.32607</td><td>12.32607</td><td> 86     </td><td>TRUE    </td></tr>\n",
       "\t<tr><td>StoneBr </td><td>12.53538</td><td>12.53538</td><td> 25     </td><td>TRUE    </td></tr>\n",
       "\t<tr><td>SWISU   </td><td>11.84582</td><td>11.84582</td><td> 25     </td><td>TRUE    </td></tr>\n",
       "\t<tr><td>Timber  </td><td>12.33918</td><td>12.33918</td><td> 38     </td><td>TRUE    </td></tr>\n",
       "\t<tr><td>Veenker </td><td>12.29225</td><td>12.29225</td><td> 11     </td><td>TRUE    </td></tr>\n",
       "</tbody>\n",
       "</table>\n",
       "</td></tr>\n",
       "                </table>"
      ],
      "text/latex": [
       "\\begin{tabular}{r|lllll}\n",
       " Neighborhood & mi & ma & n & mi == ma\\\\\n",
       "\\hline\n",
       "\t Blmngtn  & 12.16003 & 12.16003 &  17      & TRUE    \\\\\n",
       "\t Blueste  & 11.82654 & 11.82654 &   2      & TRUE    \\\\\n",
       "\t BrDale   & 11.57119 & 11.57119 &  16      & TRUE    \\\\\n",
       "\t BrkSide  & 11.73022 & 11.73022 &  58      & TRUE    \\\\\n",
       "\t ClearCr  & 12.20732 & 12.20732 &  28      & TRUE    \\\\\n",
       "\t CollgCr  & 12.19197 & 12.19197 & 150      & TRUE    \\\\\n",
       "\t Crawfor  & 12.20919 & 12.20919 &  51      & TRUE    \\\\\n",
       "\t Edwards  & 11.70962 & 11.70962 & 100      & TRUE    \\\\\n",
       "\t Gilbert  & 12.10625 & 12.10625 &  79      & TRUE    \\\\\n",
       "\t IDOTRR   & 11.54248 & 11.54248 &  37      & TRUE    \\\\\n",
       "\t MeadowV  & 11.38509 & 11.38509 &  17      & TRUE    \\\\\n",
       "\t Mitchel  & 11.94146 & 11.94146 &  49      & TRUE    \\\\\n",
       "\t NAmes    & 11.84940 & 11.84940 & 225      & TRUE    \\\\\n",
       "\t NoRidge  & 12.61653 & 12.61653 &  41      & TRUE    \\\\\n",
       "\t NPkVill  & 11.89136 & 11.89136 &   9      & TRUE    \\\\\n",
       "\t NridgHt  & 12.66033 & 12.66033 &  77      & TRUE    \\\\\n",
       "\t NWAmes   & 12.11669 & 12.11669 &  73      & TRUE    \\\\\n",
       "\t OldTown  & 11.68688 & 11.68688 & 113      & TRUE    \\\\\n",
       "\t Sawyer   & 11.81303 & 11.81303 &  74      & TRUE    \\\\\n",
       "\t SawyerW  & 12.10016 & 12.10016 &  59      & TRUE    \\\\\n",
       "\t Somerst  & 12.32607 & 12.32607 &  86      & TRUE    \\\\\n",
       "\t StoneBr  & 12.53538 & 12.53538 &  25      & TRUE    \\\\\n",
       "\t SWISU    & 11.84582 & 11.84582 &  25      & TRUE    \\\\\n",
       "\t Timber   & 12.33918 & 12.33918 &  38      & TRUE    \\\\\n",
       "\t Veenker  & 12.29225 & 12.29225 &  11      & TRUE    \\\\\n",
       "\\end{tabular}\n"
      ],
      "text/markdown": [
       "\n",
       "Neighborhood | mi | ma | n | mi == ma | \n",
       "|---|---|---|---|---|---|---|---|---|---|---|---|---|---|---|---|---|---|---|---|---|---|---|---|---|\n",
       "| Blmngtn  | 12.16003 | 12.16003 |  17      | TRUE     | \n",
       "| Blueste  | 11.82654 | 11.82654 |   2      | TRUE     | \n",
       "| BrDale   | 11.57119 | 11.57119 |  16      | TRUE     | \n",
       "| BrkSide  | 11.73022 | 11.73022 |  58      | TRUE     | \n",
       "| ClearCr  | 12.20732 | 12.20732 |  28      | TRUE     | \n",
       "| CollgCr  | 12.19197 | 12.19197 | 150      | TRUE     | \n",
       "| Crawfor  | 12.20919 | 12.20919 |  51      | TRUE     | \n",
       "| Edwards  | 11.70962 | 11.70962 | 100      | TRUE     | \n",
       "| Gilbert  | 12.10625 | 12.10625 |  79      | TRUE     | \n",
       "| IDOTRR   | 11.54248 | 11.54248 |  37      | TRUE     | \n",
       "| MeadowV  | 11.38509 | 11.38509 |  17      | TRUE     | \n",
       "| Mitchel  | 11.94146 | 11.94146 |  49      | TRUE     | \n",
       "| NAmes    | 11.84940 | 11.84940 | 225      | TRUE     | \n",
       "| NoRidge  | 12.61653 | 12.61653 |  41      | TRUE     | \n",
       "| NPkVill  | 11.89136 | 11.89136 |   9      | TRUE     | \n",
       "| NridgHt  | 12.66033 | 12.66033 |  77      | TRUE     | \n",
       "| NWAmes   | 12.11669 | 12.11669 |  73      | TRUE     | \n",
       "| OldTown  | 11.68688 | 11.68688 | 113      | TRUE     | \n",
       "| Sawyer   | 11.81303 | 11.81303 |  74      | TRUE     | \n",
       "| SawyerW  | 12.10016 | 12.10016 |  59      | TRUE     | \n",
       "| Somerst  | 12.32607 | 12.32607 |  86      | TRUE     | \n",
       "| StoneBr  | 12.53538 | 12.53538 |  25      | TRUE     | \n",
       "| SWISU    | 11.84582 | 11.84582 |  25      | TRUE     | \n",
       "| Timber   | 12.33918 | 12.33918 |  38      | TRUE     | \n",
       "| Veenker  | 12.29225 | 12.29225 |  11      | TRUE     | \n",
       "\n",
       "\n"
      ],
      "text/plain": [
       "   Neighborhood mi       ma       n   mi == ma\n",
       "1  Blmngtn      12.16003 12.16003  17 TRUE    \n",
       "2  Blueste      11.82654 11.82654   2 TRUE    \n",
       "3  BrDale       11.57119 11.57119  16 TRUE    \n",
       "4  BrkSide      11.73022 11.73022  58 TRUE    \n",
       "5  ClearCr      12.20732 12.20732  28 TRUE    \n",
       "6  CollgCr      12.19197 12.19197 150 TRUE    \n",
       "7  Crawfor      12.20919 12.20919  51 TRUE    \n",
       "8  Edwards      11.70962 11.70962 100 TRUE    \n",
       "9  Gilbert      12.10625 12.10625  79 TRUE    \n",
       "10 IDOTRR       11.54248 11.54248  37 TRUE    \n",
       "11 MeadowV      11.38509 11.38509  17 TRUE    \n",
       "12 Mitchel      11.94146 11.94146  49 TRUE    \n",
       "13 NAmes        11.84940 11.84940 225 TRUE    \n",
       "14 NoRidge      12.61653 12.61653  41 TRUE    \n",
       "15 NPkVill      11.89136 11.89136   9 TRUE    \n",
       "16 NridgHt      12.66033 12.66033  77 TRUE    \n",
       "17 NWAmes       12.11669 12.11669  73 TRUE    \n",
       "18 OldTown      11.68688 11.68688 113 TRUE    \n",
       "19 Sawyer       11.81303 11.81303  74 TRUE    \n",
       "20 SawyerW      12.10016 12.10016  59 TRUE    \n",
       "21 Somerst      12.32607 12.32607  86 TRUE    \n",
       "22 StoneBr      12.53538 12.53538  25 TRUE    \n",
       "23 SWISU        11.84582 11.84582  25 TRUE    \n",
       "24 Timber       12.33918 12.33918  38 TRUE    \n",
       "25 Veenker      12.29225 12.29225  11 TRUE    "
      ]
     },
     "metadata": {},
     "output_type": "display_data"
    }
   ],
   "source": [
    "type2(MSZoning, ms_zoning)\n",
    "type2(Neighborhood, nbhood)"
   ]
  },
  {
   "cell_type": "code",
   "execution_count": 112,
   "metadata": {},
   "outputs": [
    {
     "data": {
      "text/html": [
       "<table>\n",
       "                  <tr style=\"background: transparent\"><td style=\"padding-right: 20px\"><b>train</b><table>\n",
       "<thead><tr><th scope=col>RoofStyle</th><th scope=col>mi</th><th scope=col>ma</th><th scope=col>n</th><th scope=col>mi == ma</th></tr></thead>\n",
       "<tbody>\n",
       "\t<tr><td>Flat    </td><td>12.12811</td><td>12.12811</td><td>  13    </td><td>TRUE    </td></tr>\n",
       "\t<tr><td>Gable   </td><td>11.98293</td><td>11.98293</td><td>1141    </td><td>TRUE    </td></tr>\n",
       "\t<tr><td>Gambrel </td><td>11.84223</td><td>11.84223</td><td>  11    </td><td>TRUE    </td></tr>\n",
       "\t<tr><td>Hip     </td><td>12.08108</td><td>12.08108</td><td> 286    </td><td>TRUE    </td></tr>\n",
       "\t<tr><td>Mansard </td><td>12.07254</td><td>12.07254</td><td>   7    </td><td>TRUE    </td></tr>\n",
       "\t<tr><td>Shed    </td><td>12.31161</td><td>12.31161</td><td>   2    </td><td>TRUE    </td></tr>\n",
       "</tbody>\n",
       "</table>\n",
       "</td><td><b>test</b><table>\n",
       "<thead><tr><th scope=col>RoofStyle</th><th scope=col>mi</th><th scope=col>ma</th><th scope=col>n</th><th scope=col>mi == ma</th></tr></thead>\n",
       "<tbody>\n",
       "\t<tr><td>Flat    </td><td>12.12811</td><td>12.12811</td><td>  13    </td><td>TRUE    </td></tr>\n",
       "\t<tr><td>Gable   </td><td>11.98293</td><td>11.98293</td><td>1141    </td><td>TRUE    </td></tr>\n",
       "\t<tr><td>Gambrel </td><td>11.84223</td><td>11.84223</td><td>  11    </td><td>TRUE    </td></tr>\n",
       "\t<tr><td>Hip     </td><td>12.08108</td><td>12.08108</td><td> 286    </td><td>TRUE    </td></tr>\n",
       "\t<tr><td>Mansard </td><td>12.07254</td><td>12.07254</td><td>   7    </td><td>TRUE    </td></tr>\n",
       "\t<tr><td>Shed    </td><td>12.31161</td><td>12.31161</td><td>   2    </td><td>TRUE    </td></tr>\n",
       "</tbody>\n",
       "</table>\n",
       "</td></tr>\n",
       "                </table>"
      ],
      "text/latex": [
       "\\begin{tabular}{r|lllll}\n",
       " RoofStyle & mi & ma & n & mi == ma\\\\\n",
       "\\hline\n",
       "\t Flat     & 12.12811 & 12.12811 &   13     & TRUE    \\\\\n",
       "\t Gable    & 11.98293 & 11.98293 & 1141     & TRUE    \\\\\n",
       "\t Gambrel  & 11.84223 & 11.84223 &   11     & TRUE    \\\\\n",
       "\t Hip      & 12.08108 & 12.08108 &  286     & TRUE    \\\\\n",
       "\t Mansard  & 12.07254 & 12.07254 &    7     & TRUE    \\\\\n",
       "\t Shed     & 12.31161 & 12.31161 &    2     & TRUE    \\\\\n",
       "\\end{tabular}\n"
      ],
      "text/markdown": [
       "\n",
       "RoofStyle | mi | ma | n | mi == ma | \n",
       "|---|---|---|---|---|---|\n",
       "| Flat     | 12.12811 | 12.12811 |   13     | TRUE     | \n",
       "| Gable    | 11.98293 | 11.98293 | 1141     | TRUE     | \n",
       "| Gambrel  | 11.84223 | 11.84223 |   11     | TRUE     | \n",
       "| Hip      | 12.08108 | 12.08108 |  286     | TRUE     | \n",
       "| Mansard  | 12.07254 | 12.07254 |    7     | TRUE     | \n",
       "| Shed     | 12.31161 | 12.31161 |    2     | TRUE     | \n",
       "\n",
       "\n"
      ],
      "text/plain": [
       "  RoofStyle mi       ma       n    mi == ma\n",
       "1 Flat      12.12811 12.12811   13 TRUE    \n",
       "2 Gable     11.98293 11.98293 1141 TRUE    \n",
       "3 Gambrel   11.84223 11.84223   11 TRUE    \n",
       "4 Hip       12.08108 12.08108  286 TRUE    \n",
       "5 Mansard   12.07254 12.07254    7 TRUE    \n",
       "6 Shed      12.31161 12.31161    2 TRUE    "
      ]
     },
     "metadata": {},
     "output_type": "display_data"
    },
    {
     "data": {
      "text/html": [
       "<table>\n",
       "                  <tr style=\"background: transparent\"><td style=\"padding-right: 20px\"><b>train</b><table>\n",
       "<thead><tr><th scope=col>SaleCondition</th><th scope=col>mi</th><th scope=col>ma</th><th scope=col>n</th><th scope=col>mi == ma</th></tr></thead>\n",
       "<tbody>\n",
       "\t<tr><td>Abnorml </td><td>11.77529</td><td>11.77529</td><td> 101    </td><td>TRUE    </td></tr>\n",
       "\t<tr><td>AdjLand </td><td>11.52926</td><td>11.52926</td><td>   4    </td><td>TRUE    </td></tr>\n",
       "\t<tr><td>Alloca  </td><td>11.90533</td><td>11.90533</td><td>  12    </td><td>TRUE    </td></tr>\n",
       "\t<tr><td>Family  </td><td>11.85245</td><td>11.85245</td><td>  20    </td><td>TRUE    </td></tr>\n",
       "\t<tr><td>Normal  </td><td>11.98293</td><td>11.98293</td><td>1198    </td><td>TRUE    </td></tr>\n",
       "\t<tr><td>Partial </td><td>12.40738</td><td>12.40738</td><td> 125    </td><td>TRUE    </td></tr>\n",
       "</tbody>\n",
       "</table>\n",
       "</td><td><b>test</b><table>\n",
       "<thead><tr><th scope=col>SaleCondition</th><th scope=col>mi</th><th scope=col>ma</th><th scope=col>n</th><th scope=col>mi == ma</th></tr></thead>\n",
       "<tbody>\n",
       "\t<tr><td>Abnorml </td><td>11.77529</td><td>11.77529</td><td> 101    </td><td>TRUE    </td></tr>\n",
       "\t<tr><td>AdjLand </td><td>11.52926</td><td>11.52926</td><td>   4    </td><td>TRUE    </td></tr>\n",
       "\t<tr><td>Alloca  </td><td>11.90533</td><td>11.90533</td><td>  12    </td><td>TRUE    </td></tr>\n",
       "\t<tr><td>Family  </td><td>11.85245</td><td>11.85245</td><td>  20    </td><td>TRUE    </td></tr>\n",
       "\t<tr><td>Normal  </td><td>11.98293</td><td>11.98293</td><td>1198    </td><td>TRUE    </td></tr>\n",
       "\t<tr><td>Partial </td><td>12.40738</td><td>12.40738</td><td> 125    </td><td>TRUE    </td></tr>\n",
       "</tbody>\n",
       "</table>\n",
       "</td></tr>\n",
       "                </table>"
      ],
      "text/latex": [
       "\\begin{tabular}{r|lllll}\n",
       " SaleCondition & mi & ma & n & mi == ma\\\\\n",
       "\\hline\n",
       "\t Abnorml  & 11.77529 & 11.77529 &  101     & TRUE    \\\\\n",
       "\t AdjLand  & 11.52926 & 11.52926 &    4     & TRUE    \\\\\n",
       "\t Alloca   & 11.90533 & 11.90533 &   12     & TRUE    \\\\\n",
       "\t Family   & 11.85245 & 11.85245 &   20     & TRUE    \\\\\n",
       "\t Normal   & 11.98293 & 11.98293 & 1198     & TRUE    \\\\\n",
       "\t Partial  & 12.40738 & 12.40738 &  125     & TRUE    \\\\\n",
       "\\end{tabular}\n"
      ],
      "text/markdown": [
       "\n",
       "SaleCondition | mi | ma | n | mi == ma | \n",
       "|---|---|---|---|---|---|\n",
       "| Abnorml  | 11.77529 | 11.77529 |  101     | TRUE     | \n",
       "| AdjLand  | 11.52926 | 11.52926 |    4     | TRUE     | \n",
       "| Alloca   | 11.90533 | 11.90533 |   12     | TRUE     | \n",
       "| Family   | 11.85245 | 11.85245 |   20     | TRUE     | \n",
       "| Normal   | 11.98293 | 11.98293 | 1198     | TRUE     | \n",
       "| Partial  | 12.40738 | 12.40738 |  125     | TRUE     | \n",
       "\n",
       "\n"
      ],
      "text/plain": [
       "  SaleCondition mi       ma       n    mi == ma\n",
       "1 Abnorml       11.77529 11.77529  101 TRUE    \n",
       "2 AdjLand       11.52926 11.52926    4 TRUE    \n",
       "3 Alloca        11.90533 11.90533   12 TRUE    \n",
       "4 Family        11.85245 11.85245   20 TRUE    \n",
       "5 Normal        11.98293 11.98293 1198 TRUE    \n",
       "6 Partial       12.40738 12.40738  125 TRUE    "
      ]
     },
     "metadata": {},
     "output_type": "display_data"
    }
   ],
   "source": [
    "type2(RoofStyle, roof_style)\n",
    "type2(SaleCondition, sale_cond)"
   ]
  },
  {
   "cell_type": "code",
   "execution_count": 117,
   "metadata": {},
   "outputs": [
    {
     "data": {
      "text/html": [
       "<table>\n",
       "                  <tr style=\"background: transparent\"><td style=\"padding-right: 20px\"><b>train</b><table>\n",
       "<thead><tr><th scope=col>SaleType</th><th scope=col>mi</th><th scope=col>ma</th><th scope=col>n</th><th scope=col>mi == ma</th></tr></thead>\n",
       "<tbody>\n",
       "\t<tr><td>COD     </td><td>11.84223</td><td>11.84223</td><td>  43    </td><td>TRUE    </td></tr>\n",
       "\t<tr><td>Con     </td><td>12.48391</td><td>12.48391</td><td>   2    </td><td>TRUE    </td></tr>\n",
       "\t<tr><td>ConLD   </td><td>11.84940</td><td>11.84940</td><td>   9    </td><td>TRUE    </td></tr>\n",
       "\t<tr><td>ConLI   </td><td>11.73607</td><td>11.73607</td><td>   5    </td><td>TRUE    </td></tr>\n",
       "\t<tr><td>ConLw   </td><td>11.87757</td><td>11.87757</td><td>   5    </td><td>TRUE    </td></tr>\n",
       "\t<tr><td>CWD     </td><td>12.13473</td><td>12.13473</td><td>   4    </td><td>TRUE    </td></tr>\n",
       "\t<tr><td>New     </td><td>12.41897</td><td>12.41897</td><td> 122    </td><td>TRUE    </td></tr>\n",
       "\t<tr><td>Oth     </td><td>11.66178</td><td>11.66178</td><td>   3    </td><td>TRUE    </td></tr>\n",
       "\t<tr><td>WD      </td><td>11.97035</td><td>11.97035</td><td>1267    </td><td>TRUE    </td></tr>\n",
       "</tbody>\n",
       "</table>\n",
       "</td><td><b>test</b><table>\n",
       "<thead><tr><th scope=col>SaleType</th><th scope=col>mi</th><th scope=col>ma</th><th scope=col>n</th><th scope=col>mi == ma</th></tr></thead>\n",
       "<tbody>\n",
       "\t<tr><td>COD     </td><td>11.84223</td><td>11.84223</td><td>  43    </td><td>TRUE    </td></tr>\n",
       "\t<tr><td>Con     </td><td>12.48391</td><td>12.48391</td><td>   2    </td><td>TRUE    </td></tr>\n",
       "\t<tr><td>ConLD   </td><td>11.84940</td><td>11.84940</td><td>   9    </td><td>TRUE    </td></tr>\n",
       "\t<tr><td>ConLI   </td><td>11.73607</td><td>11.73607</td><td>   5    </td><td>TRUE    </td></tr>\n",
       "\t<tr><td>ConLw   </td><td>11.87757</td><td>11.87757</td><td>   5    </td><td>TRUE    </td></tr>\n",
       "\t<tr><td>CWD     </td><td>12.13473</td><td>12.13473</td><td>   4    </td><td>TRUE    </td></tr>\n",
       "\t<tr><td>New     </td><td>12.41897</td><td>12.41897</td><td> 122    </td><td>TRUE    </td></tr>\n",
       "\t<tr><td>Oth     </td><td>11.66178</td><td>11.66178</td><td>   3    </td><td>TRUE    </td></tr>\n",
       "\t<tr><td>WD      </td><td>11.97035</td><td>11.97035</td><td>1267    </td><td>TRUE    </td></tr>\n",
       "</tbody>\n",
       "</table>\n",
       "</td></tr>\n",
       "                </table>"
      ],
      "text/latex": [
       "\\begin{tabular}{r|lllll}\n",
       " SaleType & mi & ma & n & mi == ma\\\\\n",
       "\\hline\n",
       "\t COD      & 11.84223 & 11.84223 &   43     & TRUE    \\\\\n",
       "\t Con      & 12.48391 & 12.48391 &    2     & TRUE    \\\\\n",
       "\t ConLD    & 11.84940 & 11.84940 &    9     & TRUE    \\\\\n",
       "\t ConLI    & 11.73607 & 11.73607 &    5     & TRUE    \\\\\n",
       "\t ConLw    & 11.87757 & 11.87757 &    5     & TRUE    \\\\\n",
       "\t CWD      & 12.13473 & 12.13473 &    4     & TRUE    \\\\\n",
       "\t New      & 12.41897 & 12.41897 &  122     & TRUE    \\\\\n",
       "\t Oth      & 11.66178 & 11.66178 &    3     & TRUE    \\\\\n",
       "\t WD       & 11.97035 & 11.97035 & 1267     & TRUE    \\\\\n",
       "\\end{tabular}\n"
      ],
      "text/markdown": [
       "\n",
       "SaleType | mi | ma | n | mi == ma | \n",
       "|---|---|---|---|---|---|---|---|---|\n",
       "| COD      | 11.84223 | 11.84223 |   43     | TRUE     | \n",
       "| Con      | 12.48391 | 12.48391 |    2     | TRUE     | \n",
       "| ConLD    | 11.84940 | 11.84940 |    9     | TRUE     | \n",
       "| ConLI    | 11.73607 | 11.73607 |    5     | TRUE     | \n",
       "| ConLw    | 11.87757 | 11.87757 |    5     | TRUE     | \n",
       "| CWD      | 12.13473 | 12.13473 |    4     | TRUE     | \n",
       "| New      | 12.41897 | 12.41897 |  122     | TRUE     | \n",
       "| Oth      | 11.66178 | 11.66178 |    3     | TRUE     | \n",
       "| WD       | 11.97035 | 11.97035 | 1267     | TRUE     | \n",
       "\n",
       "\n"
      ],
      "text/plain": [
       "  SaleType mi       ma       n    mi == ma\n",
       "1 COD      11.84223 11.84223   43 TRUE    \n",
       "2 Con      12.48391 12.48391    2 TRUE    \n",
       "3 ConLD    11.84940 11.84940    9 TRUE    \n",
       "4 ConLI    11.73607 11.73607    5 TRUE    \n",
       "5 ConLw    11.87757 11.87757    5 TRUE    \n",
       "6 CWD      12.13473 12.13473    4 TRUE    \n",
       "7 New      12.41897 12.41897  122 TRUE    \n",
       "8 Oth      11.66178 11.66178    3 TRUE    \n",
       "9 WD       11.97035 11.97035 1267 TRUE    "
      ]
     },
     "metadata": {},
     "output_type": "display_data"
    }
   ],
   "source": [
    "type2(SaleType, sale_type)"
   ]
  },
  {
   "cell_type": "code",
   "execution_count": null,
   "metadata": {
    "collapsed": true
   },
   "outputs": [],
   "source": []
  },
  {
   "cell_type": "code",
   "execution_count": null,
   "metadata": {
    "collapsed": true
   },
   "outputs": [],
   "source": []
  },
  {
   "cell_type": "code",
   "execution_count": null,
   "metadata": {
    "collapsed": true
   },
   "outputs": [],
   "source": []
  },
  {
   "cell_type": "code",
   "execution_count": null,
   "metadata": {
    "collapsed": true
   },
   "outputs": [],
   "source": []
  },
  {
   "cell_type": "code",
   "execution_count": null,
   "metadata": {
    "collapsed": true
   },
   "outputs": [],
   "source": []
  },
  {
   "cell_type": "code",
   "execution_count": null,
   "metadata": {
    "collapsed": true
   },
   "outputs": [],
   "source": []
  },
  {
   "cell_type": "code",
   "execution_count": null,
   "metadata": {
    "collapsed": true
   },
   "outputs": [],
   "source": []
  },
  {
   "cell_type": "code",
   "execution_count": null,
   "metadata": {
    "collapsed": true
   },
   "outputs": [],
   "source": []
  },
  {
   "cell_type": "code",
   "execution_count": null,
   "metadata": {
    "collapsed": true
   },
   "outputs": [],
   "source": []
  },
  {
   "cell_type": "code",
   "execution_count": null,
   "metadata": {
    "collapsed": true
   },
   "outputs": [],
   "source": []
  },
  {
   "cell_type": "code",
   "execution_count": null,
   "metadata": {
    "collapsed": true
   },
   "outputs": [],
   "source": []
  },
  {
   "cell_type": "code",
   "execution_count": null,
   "metadata": {
    "collapsed": true
   },
   "outputs": [],
   "source": []
  },
  {
   "cell_type": "code",
   "execution_count": null,
   "metadata": {
    "collapsed": true
   },
   "outputs": [],
   "source": []
  },
  {
   "cell_type": "code",
   "execution_count": null,
   "metadata": {
    "collapsed": true
   },
   "outputs": [],
   "source": []
  },
  {
   "cell_type": "code",
   "execution_count": null,
   "metadata": {
    "collapsed": true
   },
   "outputs": [],
   "source": []
  },
  {
   "cell_type": "code",
   "execution_count": null,
   "metadata": {
    "collapsed": true
   },
   "outputs": [],
   "source": []
  },
  {
   "cell_type": "code",
   "execution_count": null,
   "metadata": {
    "collapsed": true
   },
   "outputs": [],
   "source": []
  },
  {
   "cell_type": "code",
   "execution_count": null,
   "metadata": {
    "collapsed": true
   },
   "outputs": [],
   "source": []
  }
 ],
 "metadata": {
  "kernelspec": {
   "display_name": "R",
   "language": "R",
   "name": "ir"
  },
  "language_info": {
   "codemirror_mode": "r",
   "file_extension": ".r",
   "mimetype": "text/x-r-source",
   "name": "R",
   "pygments_lexer": "r",
   "version": "3.4.2"
  }
 },
 "nbformat": 4,
 "nbformat_minor": 2
}
