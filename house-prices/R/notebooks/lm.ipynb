{
 "cells": [
  {
   "cell_type": "code",
   "execution_count": 1,
   "metadata": {},
   "outputs": [
    {
     "data": {
      "text/html": [
       "'/mnt/hdd/develop/kaggle/house-prices/R/R'"
      ],
      "text/latex": [
       "'/mnt/hdd/develop/kaggle/house-prices/R/R'"
      ],
      "text/markdown": [
       "'/mnt/hdd/develop/kaggle/house-prices/R/R'"
      ],
      "text/plain": [
       "[1] \"/mnt/hdd/develop/kaggle/house-prices/R/R\""
      ]
     },
     "metadata": {},
     "output_type": "display_data"
    }
   ],
   "source": [
    "setwd(paste0(Sys.getenv('ROOT'), '/R'))\n",
    "getwd()"
   ]
  },
  {
   "cell_type": "code",
   "execution_count": 3,
   "metadata": {},
   "outputs": [],
   "source": [
    "library(Metrics)\n",
    "source('main.R')\n",
    "\n",
    "data <- kaggle.house$loadData()\n",
    "\n",
    "df.combined <- kaggle.house$getCombinedDataset(data$train, data$test) %>% (kaggle.house$na$fixAll)\n",
    "\n",
    "df.training <- \n",
    "    df.combined %>% \n",
    "    filter(dataSource == \"train\") %>% \n",
    "    mutate(sale_price_log = log(SalePrice)) %>%\n",
    "    select(-dataSource)"
   ]
  },
  {
   "cell_type": "code",
   "execution_count": 4,
   "metadata": {},
   "outputs": [
    {
     "data": {
      "text/html": [
       "'sale_price_log'"
      ],
      "text/latex": [
       "'sale\\_price\\_log'"
      ],
      "text/markdown": [
       "'sale_price_log'"
      ],
      "text/plain": [
       "[1] \"sale_price_log\""
      ]
     },
     "metadata": {},
     "output_type": "display_data"
    },
    {
     "data": {
      "text/html": [
       "'SalePrice'"
      ],
      "text/latex": [
       "'SalePrice'"
      ],
      "text/markdown": [
       "'SalePrice'"
      ],
      "text/plain": [
       "[1] \"SalePrice\""
      ]
     },
     "metadata": {},
     "output_type": "display_data"
    }
   ],
   "source": [
    "partition <- caret::createDataPartition(y=df.training$sale_price_log, p=.5, list=F, times=1)\n",
    "\n",
    "trainset <- df.training[partition,] %>% select(-SalePrice)\n",
    "\n",
    "testset <- df.training[-partition,] %>% select(-sale_price_log)\n",
    "\n",
    "setdiff(trainset %>% colnames, testset %>% colnames)\n",
    "setdiff(testset %>% colnames, trainset %>% colnames)"
   ]
  },
  {
   "cell_type": "code",
   "execution_count": 5,
   "metadata": {},
   "outputs": [
    {
     "data": {
      "text/html": [
       "<ol class=list-inline>\n",
       "\t<li>731</li>\n",
       "\t<li>729</li>\n",
       "</ol>\n"
      ],
      "text/latex": [
       "\\begin{enumerate*}\n",
       "\\item 731\n",
       "\\item 729\n",
       "\\end{enumerate*}\n"
      ],
      "text/markdown": [
       "1. 731\n",
       "2. 729\n",
       "\n",
       "\n"
      ],
      "text/plain": [
       "[1] 731 729"
      ]
     },
     "metadata": {},
     "output_type": "display_data"
    },
    {
     "data": {
      "text/html": [
       "<ol class=list-inline>\n",
       "\t<li>'1. '</li>\n",
       "\t<li>'sale_price_log'</li>\n",
       "</ol>\n"
      ],
      "text/latex": [
       "\\begin{enumerate*}\n",
       "\\item '1. '\n",
       "\\item 'sale\\_price\\_log'\n",
       "\\end{enumerate*}\n"
      ],
      "text/markdown": [
       "1. '1. '\n",
       "2. 'sale_price_log'\n",
       "\n",
       "\n"
      ],
      "text/plain": [
       "[1] \"1. \"            \"sale_price_log\""
      ]
     },
     "metadata": {},
     "output_type": "display_data"
    },
    {
     "data": {
      "text/html": [
       "'2. '"
      ],
      "text/latex": [
       "'2. '"
      ],
      "text/markdown": [
       "'2. '"
      ],
      "text/plain": [
       "[1] \"2. \""
      ]
     },
     "metadata": {},
     "output_type": "display_data"
    }
   ],
   "source": [
    "tran.res <- kaggle.house$trans$doItAll(trainset, testset %>% select(-SalePrice))\n",
    "trainset.ready <- tran.res$df.training\n",
    "testset.ready <- tran.res$df.testing\n",
    "\n",
    "# Should be only numeric columns\n",
    "stopifnot(0 == trainset.ready %>% purrr::map(function (col) { !is.numeric(col) }) %>% unlist %>% sum)\n",
    "stopifnot(0 == testset.ready %>% purrr::map(function (col) { !is.numeric(col) }) %>% unlist %>% sum)\n",
    "\n",
    "c(trainset.ready %>% nrow, testset.ready %>% nrow)\n",
    "\n",
    "c('1. ', setdiff(trainset.ready %>% colnames, testset.ready %>% colnames))\n",
    "c('2. ', setdiff(testset.ready %>% colnames, trainset.ready %>% colnames))"
   ]
  },
  {
   "cell_type": "code",
   "execution_count": 6,
   "metadata": {},
   "outputs": [
    {
     "data": {
      "text/html": [
       "<table>\n",
       "<thead><tr><th scope=col>BldgType</th><th scope=col>median(log(SalePrice))</th></tr></thead>\n",
       "<tbody>\n",
       "\t<tr><td>1Fam    </td><td>12.02874</td></tr>\n",
       "\t<tr><td>2fmCon  </td><td>11.75587</td></tr>\n",
       "\t<tr><td>Duplex  </td><td>11.81303</td></tr>\n",
       "\t<tr><td>Twnhs   </td><td>11.65235</td></tr>\n",
       "\t<tr><td>TwnhsE  </td><td>12.05467</td></tr>\n",
       "</tbody>\n",
       "</table>\n"
      ],
      "text/latex": [
       "\\begin{tabular}{r|ll}\n",
       " BldgType & median(log(SalePrice))\\\\\n",
       "\\hline\n",
       "\t 1Fam     & 12.02874\\\\\n",
       "\t 2fmCon   & 11.75587\\\\\n",
       "\t Duplex   & 11.81303\\\\\n",
       "\t Twnhs    & 11.65235\\\\\n",
       "\t TwnhsE   & 12.05467\\\\\n",
       "\\end{tabular}\n"
      ],
      "text/markdown": [
       "\n",
       "BldgType | median(log(SalePrice)) | \n",
       "|---|---|---|---|---|\n",
       "| 1Fam     | 12.02874 | \n",
       "| 2fmCon   | 11.75587 | \n",
       "| Duplex   | 11.81303 | \n",
       "| Twnhs    | 11.65235 | \n",
       "| TwnhsE   | 12.05467 | \n",
       "\n",
       "\n"
      ],
      "text/plain": [
       "  BldgType median(log(SalePrice))\n",
       "1 1Fam     12.02874              \n",
       "2 2fmCon   11.75587              \n",
       "3 Duplex   11.81303              \n",
       "4 Twnhs    11.65235              \n",
       "5 TwnhsE   12.05467              "
      ]
     },
     "metadata": {},
     "output_type": "display_data"
    },
    {
     "data": {
      "text/html": [
       "<table>\n",
       "<thead><tr><th scope=col>BldgType</th><th scope=col>min(BldgType.new)</th><th scope=col>max(BldgType.new)</th></tr></thead>\n",
       "<tbody>\n",
       "\t<tr><td>1Fam    </td><td>12.03469</td><td>12.03469</td></tr>\n",
       "\t<tr><td>2fmCon  </td><td>11.75182</td><td>11.75182</td></tr>\n",
       "\t<tr><td>Duplex  </td><td>11.83822</td><td>11.83822</td></tr>\n",
       "\t<tr><td>Twnhs   </td><td>11.90834</td><td>11.90834</td></tr>\n",
       "\t<tr><td>TwnhsE  </td><td>12.05815</td><td>12.05815</td></tr>\n",
       "</tbody>\n",
       "</table>\n"
      ],
      "text/latex": [
       "\\begin{tabular}{r|lll}\n",
       " BldgType & min(BldgType.new) & max(BldgType.new)\\\\\n",
       "\\hline\n",
       "\t 1Fam     & 12.03469 & 12.03469\\\\\n",
       "\t 2fmCon   & 11.75182 & 11.75182\\\\\n",
       "\t Duplex   & 11.83822 & 11.83822\\\\\n",
       "\t Twnhs    & 11.90834 & 11.90834\\\\\n",
       "\t TwnhsE   & 12.05815 & 12.05815\\\\\n",
       "\\end{tabular}\n"
      ],
      "text/markdown": [
       "\n",
       "BldgType | min(BldgType.new) | max(BldgType.new) | \n",
       "|---|---|---|---|---|\n",
       "| 1Fam     | 12.03469 | 12.03469 | \n",
       "| 2fmCon   | 11.75182 | 11.75182 | \n",
       "| Duplex   | 11.83822 | 11.83822 | \n",
       "| Twnhs    | 11.90834 | 11.90834 | \n",
       "| TwnhsE   | 12.05815 | 12.05815 | \n",
       "\n",
       "\n"
      ],
      "text/plain": [
       "  BldgType min(BldgType.new) max(BldgType.new)\n",
       "1 1Fam     12.03469          12.03469         \n",
       "2 2fmCon   11.75182          11.75182         \n",
       "3 Duplex   11.83822          11.83822         \n",
       "4 Twnhs    11.90834          11.90834         \n",
       "5 TwnhsE   12.05815          12.05815         "
      ]
     },
     "metadata": {},
     "output_type": "display_data"
    }
   ],
   "source": [
    "# sanity check\n",
    "\n",
    "testset %>% group_by(BldgType) %>% summarise(median(log(SalePrice)))\n",
    "\n",
    "cbind(testset.ready %>% select(BldgType.new), testset %>% select(BldgType)) %>% \n",
    "    group_by(BldgType) %>% summarise(min(BldgType.new), max(BldgType.new))\n"
   ]
  },
  {
   "cell_type": "code",
   "execution_count": 7,
   "metadata": {},
   "outputs": [
    {
     "name": "stderr",
     "output_type": "stream",
     "text": [
      "Warning message in predict.lm(model.lm, testset.ready):\n",
      "“prediction from a rank-deficient fit may be misleading”"
     ]
    },
    {
     "data": {
      "text/html": [
       "0.145844743559256"
      ],
      "text/latex": [
       "0.145844743559256"
      ],
      "text/markdown": [
       "0.145844743559256"
      ],
      "text/plain": [
       "[1] 0.1458447"
      ]
     },
     "metadata": {},
     "output_type": "display_data"
    },
    {
     "data": {
      "text/html": [
       "10.5037366611836"
      ],
      "text/latex": [
       "10.5037366611836"
      ],
      "text/markdown": [
       "10.5037366611836"
      ],
      "text/plain": [
       "[1] 10.50374"
      ]
     },
     "metadata": {},
     "output_type": "display_data"
    },
    {
     "data": {
      "text/html": [
       "<table>\n",
       "<thead><tr><th scope=col>r.squared</th><th scope=col>adj.r.squared</th><th scope=col>sigma</th><th scope=col>statistic</th><th scope=col>p.value</th><th scope=col>df</th><th scope=col>logLik</th><th scope=col>AIC</th><th scope=col>BIC</th><th scope=col>deviance</th><th scope=col>df.residual</th></tr></thead>\n",
       "<tbody>\n",
       "\t<tr><td>0.9189375    </td><td>0.9095174    </td><td>0.118725     </td><td>97.55062     </td><td>4.261013e-308</td><td>77           </td><td>561.1596     </td><td>-966.3192    </td><td>-607.9549    </td><td>9.218534     </td><td>654          </td></tr>\n",
       "</tbody>\n",
       "</table>\n"
      ],
      "text/latex": [
       "\\begin{tabular}{r|lllllllllll}\n",
       " r.squared & adj.r.squared & sigma & statistic & p.value & df & logLik & AIC & BIC & deviance & df.residual\\\\\n",
       "\\hline\n",
       "\t 0.9189375     & 0.9095174     & 0.118725      & 97.55062      & 4.261013e-308 & 77            & 561.1596      & -966.3192     & -607.9549     & 9.218534      & 654          \\\\\n",
       "\\end{tabular}\n"
      ],
      "text/markdown": [
       "\n",
       "r.squared | adj.r.squared | sigma | statistic | p.value | df | logLik | AIC | BIC | deviance | df.residual | \n",
       "|---|\n",
       "| 0.9189375     | 0.9095174     | 0.118725      | 97.55062      | 4.261013e-308 | 77            | 561.1596      | -966.3192     | -607.9549     | 9.218534      | 654           | \n",
       "\n",
       "\n"
      ],
      "text/plain": [
       "  r.squared adj.r.squared sigma    statistic p.value       df logLik  \n",
       "1 0.9189375 0.9095174     0.118725 97.55062  4.261013e-308 77 561.1596\n",
       "  AIC       BIC       deviance df.residual\n",
       "1 -966.3192 -607.9549 9.218534 654        "
      ]
     },
     "metadata": {},
     "output_type": "display_data"
    },
    {
     "data": {
      "text/html": [
       "<table>\n",
       "<thead><tr><th scope=col>term</th><th scope=col>estimate</th><th scope=col>std.error</th><th scope=col>statistic</th><th scope=col>p.value</th></tr></thead>\n",
       "<tbody>\n",
       "\t<tr><td>OverallQual           </td><td> 6.447665e-02         </td><td>7.105403e-03          </td><td> 9.074312             </td><td>1.328270e-18          </td></tr>\n",
       "\t<tr><td>has_pool              </td><td>-3.241782e+00         </td><td>4.364825e-01          </td><td>-7.427060             </td><td>3.478020e-13          </td></tr>\n",
       "\t<tr><td>PoolArea              </td><td> 5.220754e-03         </td><td>7.184423e-04          </td><td> 7.266769             </td><td>1.052473e-12          </td></tr>\n",
       "\t<tr><td>X1stFlrSF             </td><td> 2.534552e-04         </td><td>3.512151e-05          </td><td> 7.216523             </td><td>1.483164e-12          </td></tr>\n",
       "\t<tr><td>OverallCond           </td><td> 3.752664e-02         </td><td>5.630715e-03          </td><td> 6.664630             </td><td>5.640727e-11          </td></tr>\n",
       "\t<tr><td>X2ndFlrSF             </td><td> 1.622815e-04         </td><td>2.764535e-05          </td><td> 5.870119             </td><td>6.925416e-09          </td></tr>\n",
       "\t<tr><td>Neighborhood.new      </td><td> 1.682946e-01         </td><td>2.884632e-02          </td><td> 5.834179             </td><td>8.504370e-09          </td></tr>\n",
       "\t<tr><td>MSZoning.new          </td><td> 2.130467e-01         </td><td>4.085844e-02          </td><td> 5.214264             </td><td>2.478842e-07          </td></tr>\n",
       "\t<tr><td>BsmtFullBath          </td><td> 6.721038e-02         </td><td>1.325704e-02          </td><td> 5.069789             </td><td>5.191475e-07          </td></tr>\n",
       "\t<tr><td>standard_roof_material</td><td> 1.883262e-01         </td><td>4.158228e-02          </td><td> 4.529002             </td><td>7.043557e-06          </td></tr>\n",
       "\t<tr><td>BsmtExposure.new      </td><td> 1.559933e-01         </td><td>4.057350e-02          </td><td> 3.844710             </td><td>1.324874e-04          </td></tr>\n",
       "\t<tr><td>ScreenPorch           </td><td> 2.839800e-04         </td><td>8.652553e-05          </td><td> 3.282038             </td><td>1.085421e-03          </td></tr>\n",
       "\t<tr><td>RoofStyle.new         </td><td> 2.387710e-01         </td><td>7.464571e-02          </td><td> 3.198724             </td><td>1.447031e-03          </td></tr>\n",
       "\t<tr><td>LotArea               </td><td> 1.661180e-06         </td><td>5.429994e-07          </td><td> 3.059267             </td><td>2.309516e-03          </td></tr>\n",
       "\t<tr><td>Foundation.new        </td><td> 1.018805e-01         </td><td>3.734316e-02          </td><td> 2.728224             </td><td>6.538653e-03          </td></tr>\n",
       "\t<tr><td>is_full_functional    </td><td> 6.043312e-02         </td><td>2.227261e-02          </td><td> 2.713338             </td><td>6.836310e-03          </td></tr>\n",
       "\t<tr><td>FullBath              </td><td> 3.924000e-02         </td><td>1.461151e-02          </td><td> 2.685554             </td><td>7.424677e-03          </td></tr>\n",
       "\t<tr><td>is_lotshape_regular   </td><td> 2.852518e-02         </td><td>1.129478e-02          </td><td> 2.525519             </td><td>1.178788e-02          </td></tr>\n",
       "\t<tr><td>MSSubClass.new        </td><td> 1.047099e-01         </td><td>4.201623e-02          </td><td> 2.492129             </td><td>1.294447e-02          </td></tr>\n",
       "\t<tr><td>FireplaceQu.new       </td><td> 1.054200e-01         </td><td>4.394553e-02          </td><td> 2.398878             </td><td>1.672436e-02          </td></tr>\n",
       "\t<tr><td>has_central_air       </td><td> 5.665774e-02         </td><td>2.419202e-02          </td><td> 2.342002             </td><td>1.947973e-02          </td></tr>\n",
       "\t<tr><td>KitchenQual.new       </td><td> 6.895307e-02         </td><td>3.000312e-02          </td><td> 2.298196             </td><td>2.186525e-02          </td></tr>\n",
       "\t<tr><td>WoodDeckSF            </td><td> 8.241321e-05         </td><td>3.959840e-05          </td><td> 2.081226             </td><td>3.780170e-02          </td></tr>\n",
       "\t<tr><td>GarageCars            </td><td> 3.041846e-02         </td><td>1.466168e-02          </td><td> 2.074692             </td><td>3.840563e-02          </td></tr>\n",
       "\t<tr><td>is_slope              </td><td> 4.793984e-02         </td><td>2.545378e-02          </td><td> 1.883408             </td><td>6.008861e-02          </td></tr>\n",
       "\t<tr><td>SaleType.new          </td><td> 1.448981e-01         </td><td>8.084056e-02          </td><td> 1.792394             </td><td>7.353203e-02          </td></tr>\n",
       "\t<tr><td>LotConfig.new         </td><td> 1.342788e-01         </td><td>7.582845e-02          </td><td> 1.770823             </td><td>7.705583e-02          </td></tr>\n",
       "</tbody>\n",
       "</table>\n"
      ],
      "text/latex": [
       "\\begin{tabular}{r|lllll}\n",
       " term & estimate & std.error & statistic & p.value\\\\\n",
       "\\hline\n",
       "\t OverallQual            &  6.447665e-02          & 7.105403e-03           &  9.074312              & 1.328270e-18          \\\\\n",
       "\t has\\_pool               & -3.241782e+00            & 4.364825e-01             & -7.427060                & 3.478020e-13            \\\\\n",
       "\t PoolArea               &  5.220754e-03          & 7.184423e-04           &  7.266769              & 1.052473e-12          \\\\\n",
       "\t X1stFlrSF              &  2.534552e-04          & 3.512151e-05           &  7.216523              & 1.483164e-12          \\\\\n",
       "\t OverallCond            &  3.752664e-02          & 5.630715e-03           &  6.664630              & 5.640727e-11          \\\\\n",
       "\t X2ndFlrSF              &  1.622815e-04          & 2.764535e-05           &  5.870119              & 6.925416e-09          \\\\\n",
       "\t Neighborhood.new       &  1.682946e-01          & 2.884632e-02           &  5.834179              & 8.504370e-09          \\\\\n",
       "\t MSZoning.new           &  2.130467e-01          & 4.085844e-02           &  5.214264              & 2.478842e-07          \\\\\n",
       "\t BsmtFullBath           &  6.721038e-02          & 1.325704e-02           &  5.069789              & 5.191475e-07          \\\\\n",
       "\t standard\\_roof\\_material &  1.883262e-01              & 4.158228e-02               &  4.529002                  & 7.043557e-06              \\\\\n",
       "\t BsmtExposure.new       &  1.559933e-01          & 4.057350e-02           &  3.844710              & 1.324874e-04          \\\\\n",
       "\t ScreenPorch            &  2.839800e-04          & 8.652553e-05           &  3.282038              & 1.085421e-03          \\\\\n",
       "\t RoofStyle.new          &  2.387710e-01          & 7.464571e-02           &  3.198724              & 1.447031e-03          \\\\\n",
       "\t LotArea                &  1.661180e-06          & 5.429994e-07           &  3.059267              & 2.309516e-03          \\\\\n",
       "\t Foundation.new         &  1.018805e-01          & 3.734316e-02           &  2.728224              & 6.538653e-03          \\\\\n",
       "\t is\\_full\\_functional     &  6.043312e-02              & 2.227261e-02               &  2.713338                  & 6.836310e-03              \\\\\n",
       "\t FullBath               &  3.924000e-02          & 1.461151e-02           &  2.685554              & 7.424677e-03          \\\\\n",
       "\t is\\_lotshape\\_regular    &  2.852518e-02              & 1.129478e-02               &  2.525519                  & 1.178788e-02              \\\\\n",
       "\t MSSubClass.new         &  1.047099e-01          & 4.201623e-02           &  2.492129              & 1.294447e-02          \\\\\n",
       "\t FireplaceQu.new        &  1.054200e-01          & 4.394553e-02           &  2.398878              & 1.672436e-02          \\\\\n",
       "\t has\\_central\\_air        &  5.665774e-02              & 2.419202e-02               &  2.342002                  & 1.947973e-02              \\\\\n",
       "\t KitchenQual.new        &  6.895307e-02          & 3.000312e-02           &  2.298196              & 2.186525e-02          \\\\\n",
       "\t WoodDeckSF             &  8.241321e-05          & 3.959840e-05           &  2.081226              & 3.780170e-02          \\\\\n",
       "\t GarageCars             &  3.041846e-02          & 1.466168e-02           &  2.074692              & 3.840563e-02          \\\\\n",
       "\t is\\_slope               &  4.793984e-02            & 2.545378e-02             &  1.883408                & 6.008861e-02            \\\\\n",
       "\t SaleType.new           &  1.448981e-01          & 8.084056e-02           &  1.792394              & 7.353203e-02          \\\\\n",
       "\t LotConfig.new          &  1.342788e-01          & 7.582845e-02           &  1.770823              & 7.705583e-02          \\\\\n",
       "\\end{tabular}\n"
      ],
      "text/markdown": [
       "\n",
       "term | estimate | std.error | statistic | p.value | \n",
       "|---|---|---|---|---|---|---|---|---|---|---|---|---|---|---|---|---|---|---|---|---|---|---|---|---|---|---|\n",
       "| OverallQual            |  6.447665e-02          | 7.105403e-03           |  9.074312              | 1.328270e-18           | \n",
       "| has_pool               | -3.241782e+00          | 4.364825e-01           | -7.427060              | 3.478020e-13           | \n",
       "| PoolArea               |  5.220754e-03          | 7.184423e-04           |  7.266769              | 1.052473e-12           | \n",
       "| X1stFlrSF              |  2.534552e-04          | 3.512151e-05           |  7.216523              | 1.483164e-12           | \n",
       "| OverallCond            |  3.752664e-02          | 5.630715e-03           |  6.664630              | 5.640727e-11           | \n",
       "| X2ndFlrSF              |  1.622815e-04          | 2.764535e-05           |  5.870119              | 6.925416e-09           | \n",
       "| Neighborhood.new       |  1.682946e-01          | 2.884632e-02           |  5.834179              | 8.504370e-09           | \n",
       "| MSZoning.new           |  2.130467e-01          | 4.085844e-02           |  5.214264              | 2.478842e-07           | \n",
       "| BsmtFullBath           |  6.721038e-02          | 1.325704e-02           |  5.069789              | 5.191475e-07           | \n",
       "| standard_roof_material |  1.883262e-01          | 4.158228e-02           |  4.529002              | 7.043557e-06           | \n",
       "| BsmtExposure.new       |  1.559933e-01          | 4.057350e-02           |  3.844710              | 1.324874e-04           | \n",
       "| ScreenPorch            |  2.839800e-04          | 8.652553e-05           |  3.282038              | 1.085421e-03           | \n",
       "| RoofStyle.new          |  2.387710e-01          | 7.464571e-02           |  3.198724              | 1.447031e-03           | \n",
       "| LotArea                |  1.661180e-06          | 5.429994e-07           |  3.059267              | 2.309516e-03           | \n",
       "| Foundation.new         |  1.018805e-01          | 3.734316e-02           |  2.728224              | 6.538653e-03           | \n",
       "| is_full_functional     |  6.043312e-02          | 2.227261e-02           |  2.713338              | 6.836310e-03           | \n",
       "| FullBath               |  3.924000e-02          | 1.461151e-02           |  2.685554              | 7.424677e-03           | \n",
       "| is_lotshape_regular    |  2.852518e-02          | 1.129478e-02           |  2.525519              | 1.178788e-02           | \n",
       "| MSSubClass.new         |  1.047099e-01          | 4.201623e-02           |  2.492129              | 1.294447e-02           | \n",
       "| FireplaceQu.new        |  1.054200e-01          | 4.394553e-02           |  2.398878              | 1.672436e-02           | \n",
       "| has_central_air        |  5.665774e-02          | 2.419202e-02           |  2.342002              | 1.947973e-02           | \n",
       "| KitchenQual.new        |  6.895307e-02          | 3.000312e-02           |  2.298196              | 2.186525e-02           | \n",
       "| WoodDeckSF             |  8.241321e-05          | 3.959840e-05           |  2.081226              | 3.780170e-02           | \n",
       "| GarageCars             |  3.041846e-02          | 1.466168e-02           |  2.074692              | 3.840563e-02           | \n",
       "| is_slope               |  4.793984e-02          | 2.545378e-02           |  1.883408              | 6.008861e-02           | \n",
       "| SaleType.new           |  1.448981e-01          | 8.084056e-02           |  1.792394              | 7.353203e-02           | \n",
       "| LotConfig.new          |  1.342788e-01          | 7.582845e-02           |  1.770823              | 7.705583e-02           | \n",
       "\n",
       "\n"
      ],
      "text/plain": [
       "   term                   estimate      std.error    statistic p.value     \n",
       "1  OverallQual             6.447665e-02 7.105403e-03  9.074312 1.328270e-18\n",
       "2  has_pool               -3.241782e+00 4.364825e-01 -7.427060 3.478020e-13\n",
       "3  PoolArea                5.220754e-03 7.184423e-04  7.266769 1.052473e-12\n",
       "4  X1stFlrSF               2.534552e-04 3.512151e-05  7.216523 1.483164e-12\n",
       "5  OverallCond             3.752664e-02 5.630715e-03  6.664630 5.640727e-11\n",
       "6  X2ndFlrSF               1.622815e-04 2.764535e-05  5.870119 6.925416e-09\n",
       "7  Neighborhood.new        1.682946e-01 2.884632e-02  5.834179 8.504370e-09\n",
       "8  MSZoning.new            2.130467e-01 4.085844e-02  5.214264 2.478842e-07\n",
       "9  BsmtFullBath            6.721038e-02 1.325704e-02  5.069789 5.191475e-07\n",
       "10 standard_roof_material  1.883262e-01 4.158228e-02  4.529002 7.043557e-06\n",
       "11 BsmtExposure.new        1.559933e-01 4.057350e-02  3.844710 1.324874e-04\n",
       "12 ScreenPorch             2.839800e-04 8.652553e-05  3.282038 1.085421e-03\n",
       "13 RoofStyle.new           2.387710e-01 7.464571e-02  3.198724 1.447031e-03\n",
       "14 LotArea                 1.661180e-06 5.429994e-07  3.059267 2.309516e-03\n",
       "15 Foundation.new          1.018805e-01 3.734316e-02  2.728224 6.538653e-03\n",
       "16 is_full_functional      6.043312e-02 2.227261e-02  2.713338 6.836310e-03\n",
       "17 FullBath                3.924000e-02 1.461151e-02  2.685554 7.424677e-03\n",
       "18 is_lotshape_regular     2.852518e-02 1.129478e-02  2.525519 1.178788e-02\n",
       "19 MSSubClass.new          1.047099e-01 4.201623e-02  2.492129 1.294447e-02\n",
       "20 FireplaceQu.new         1.054200e-01 4.394553e-02  2.398878 1.672436e-02\n",
       "21 has_central_air         5.665774e-02 2.419202e-02  2.342002 1.947973e-02\n",
       "22 KitchenQual.new         6.895307e-02 3.000312e-02  2.298196 2.186525e-02\n",
       "23 WoodDeckSF              8.241321e-05 3.959840e-05  2.081226 3.780170e-02\n",
       "24 GarageCars              3.041846e-02 1.466168e-02  2.074692 3.840563e-02\n",
       "25 is_slope                4.793984e-02 2.545378e-02  1.883408 6.008861e-02\n",
       "26 SaleType.new            1.448981e-01 8.084056e-02  1.792394 7.353203e-02\n",
       "27 LotConfig.new           1.342788e-01 7.582845e-02  1.770823 7.705583e-02"
      ]
     },
     "metadata": {},
     "output_type": "display_data"
    }
   ],
   "source": [
    "model.lm <- lm(sale_price_log ~ ., data=trainset.ready)\n",
    "\n",
    "y_predicted <- predict(model.lm, testset.ready) %>% as.vector\n",
    "y_actual <- testset %>% mutate(sale_price_log = log(SalePrice)) %>% select(sale_price_log) %>% `[[`(1)\n",
    "rmse(y_predicted, y_actual)\n",
    "\n",
    "sp_predicted <- y_predicted %>% exp\n",
    "sp_actual <- testset %>% select(SalePrice) %>% `[[`(1)\n",
    "mean(100 * abs(sp_actual - sp_predicted) / sp_actual)\n",
    "\n",
    "glance(model.lm)\n",
    "tidy(model.lm) %>% arrange(p.value) %>% filter(p.value < 0.1)"
   ]
  },
  {
   "cell_type": "code",
   "execution_count": 8,
   "metadata": {},
   "outputs": [
    {
     "name": "stderr",
     "output_type": "stream",
     "text": [
      "Warning message in predict.lm(model, testset.ready):\n",
      "“prediction from a rank-deficient fit may be misleading”Warning message in predict.lm(model, testset.ready):\n",
      "“prediction from a rank-deficient fit may be misleading”Warning message in predict.lm(model, testset.ready):\n",
      "“prediction from a rank-deficient fit may be misleading”Warning message in predict.lm(model, testset.ready):\n",
      "“prediction from a rank-deficient fit may be misleading”Warning message in predict.lm(model, testset.ready):\n",
      "“prediction from a rank-deficient fit may be misleading”Warning message in predict.lm(model, testset.ready):\n",
      "“prediction from a rank-deficient fit may be misleading”Warning message in predict.lm(model, testset.ready):\n",
      "“prediction from a rank-deficient fit may be misleading”Warning message in predict.lm(model, testset.ready):\n",
      "“prediction from a rank-deficient fit may be misleading”Warning message in predict.lm(model, testset.ready):\n",
      "“prediction from a rank-deficient fit may be misleading”Warning message in predict.lm(model, testset.ready):\n",
      "“prediction from a rank-deficient fit may be misleading”Warning message in predict.lm(model, testset.ready):\n",
      "“prediction from a rank-deficient fit may be misleading”Warning message in predict.lm(model, testset.ready):\n",
      "“prediction from a rank-deficient fit may be misleading”Warning message in predict.lm(model, testset.ready):\n",
      "“prediction from a rank-deficient fit may be misleading”Warning message in predict.lm(model, testset.ready):\n",
      "“prediction from a rank-deficient fit may be misleading”Warning message in predict.lm(model, testset.ready):\n",
      "“prediction from a rank-deficient fit may be misleading”Warning message in predict.lm(model, testset.ready):\n",
      "“prediction from a rank-deficient fit may be misleading”Warning message in predict.lm(model, testset.ready):\n",
      "“prediction from a rank-deficient fit may be misleading”Warning message in predict.lm(model, testset.ready):\n",
      "“prediction from a rank-deficient fit may be misleading”Warning message in predict.lm(model, testset.ready):\n",
      "“prediction from a rank-deficient fit may be misleading”Warning message in predict.lm(model, testset.ready):\n",
      "“prediction from a rank-deficient fit may be misleading”"
     ]
    }
   ],
   "source": [
    "N = 20\n",
    "\n",
    "partitions <- caret::createDataPartition(y=df.training$sale_price_log, p=.5, list=F, times=N) %>% \n",
    "                as.data.frame %>% as.list\n",
    "\n",
    "buildModel <- function (partition) { \n",
    "    trainset <- df.training[partition,] %>% select(-SalePrice)\n",
    "    testset <- df.training[-partition,] %>% select(-sale_price_log)\n",
    "\n",
    "    tran.res <- kaggle.house$trans$doItAll(trainset, testset %>% select(-SalePrice))\n",
    "    trainset.ready <- tran.res$df.training\n",
    "    testset.ready <- tran.res$df.testing\n",
    "\n",
    "    model <- lm(sale_price_log ~ ., data=trainset.ready)\n",
    "    \n",
    "    y_predicted <- predict(model, testset.ready) %>% as.vector\n",
    "    y_actual <- testset %>% mutate(sale_price_log = log(SalePrice)) %>% select(sale_price_log) %>% `[[`(1)\n",
    "    \n",
    "    list(model=model, rmse=rmse(y_predicted, y_actual))\n",
    "}\n",
    "\n",
    "fits <- partitions %>% as.data.frame %>% as.list %>% map(buildModel)"
   ]
  },
  {
   "cell_type": "code",
   "execution_count": 9,
   "metadata": {},
   "outputs": [
    {
     "data": {
      "text/html": [
       "<ol class=list-inline>\n",
       "\t<li>0.146496400471705</li>\n",
       "\t<li>0.146701816649882</li>\n",
       "\t<li>0.163409560773935</li>\n",
       "\t<li>0.13295038548885</li>\n",
       "\t<li>0.171517906827583</li>\n",
       "\t<li>0.133409890619286</li>\n",
       "\t<li>0.166490215723652</li>\n",
       "\t<li>0.265142619858507</li>\n",
       "\t<li>0.144354067242578</li>\n",
       "\t<li>0.142038593058173</li>\n",
       "\t<li>0.194216194595337</li>\n",
       "\t<li>0.140482344274675</li>\n",
       "\t<li>0.150837284980002</li>\n",
       "\t<li>0.141351798994917</li>\n",
       "\t<li>0.13439865808395</li>\n",
       "\t<li>0.156096962791501</li>\n",
       "\t<li>0.456799319848039</li>\n",
       "\t<li>0.154302708966774</li>\n",
       "\t<li>0.129201050916751</li>\n",
       "\t<li>0.180407368687923</li>\n",
       "</ol>\n"
      ],
      "text/latex": [
       "\\begin{enumerate*}\n",
       "\\item 0.146496400471705\n",
       "\\item 0.146701816649882\n",
       "\\item 0.163409560773935\n",
       "\\item 0.13295038548885\n",
       "\\item 0.171517906827583\n",
       "\\item 0.133409890619286\n",
       "\\item 0.166490215723652\n",
       "\\item 0.265142619858507\n",
       "\\item 0.144354067242578\n",
       "\\item 0.142038593058173\n",
       "\\item 0.194216194595337\n",
       "\\item 0.140482344274675\n",
       "\\item 0.150837284980002\n",
       "\\item 0.141351798994917\n",
       "\\item 0.13439865808395\n",
       "\\item 0.156096962791501\n",
       "\\item 0.456799319848039\n",
       "\\item 0.154302708966774\n",
       "\\item 0.129201050916751\n",
       "\\item 0.180407368687923\n",
       "\\end{enumerate*}\n"
      ],
      "text/markdown": [
       "1. 0.146496400471705\n",
       "2. 0.146701816649882\n",
       "3. 0.163409560773935\n",
       "4. 0.13295038548885\n",
       "5. 0.171517906827583\n",
       "6. 0.133409890619286\n",
       "7. 0.166490215723652\n",
       "8. 0.265142619858507\n",
       "9. 0.144354067242578\n",
       "10. 0.142038593058173\n",
       "11. 0.194216194595337\n",
       "12. 0.140482344274675\n",
       "13. 0.150837284980002\n",
       "14. 0.141351798994917\n",
       "15. 0.13439865808395\n",
       "16. 0.156096962791501\n",
       "17. 0.456799319848039\n",
       "18. 0.154302708966774\n",
       "19. 0.129201050916751\n",
       "20. 0.180407368687923\n",
       "\n",
       "\n"
      ],
      "text/plain": [
       " [1] 0.1464964 0.1467018 0.1634096 0.1329504 0.1715179 0.1334099 0.1664902\n",
       " [8] 0.2651426 0.1443541 0.1420386 0.1942162 0.1404823 0.1508373 0.1413518\n",
       "[15] 0.1343987 0.1560970 0.4567993 0.1543027 0.1292011 0.1804074"
      ]
     },
     "metadata": {},
     "output_type": "display_data"
    }
   ],
   "source": [
    "rmse.sample <- fits %>% map(function(item) { item$rmse }) %>% unlist %>% as.vector\n",
    "rmse.sample"
   ]
  },
  {
   "cell_type": "code",
   "execution_count": 10,
   "metadata": {},
   "outputs": [
    {
     "data": {
      "text/html": [
       "<ol class=list-inline>\n",
       "\t<li>0.921354469091557</li>\n",
       "\t<li>0.922523904125126</li>\n",
       "\t<li>0.931662700110471</li>\n",
       "\t<li>0.903263848857996</li>\n",
       "\t<li>0.946633729911482</li>\n",
       "\t<li>0.910739452864301</li>\n",
       "\t<li>0.931827146162098</li>\n",
       "\t<li>0.913405051126095</li>\n",
       "\t<li>0.919709876706743</li>\n",
       "\t<li>0.91243210970072</li>\n",
       "\t<li>0.918490882681892</li>\n",
       "\t<li>0.904221902253224</li>\n",
       "\t<li>0.921357289265682</li>\n",
       "\t<li>0.909117110191407</li>\n",
       "\t<li>0.906139955166118</li>\n",
       "\t<li>0.921706324302495</li>\n",
       "\t<li>0.914640300142655</li>\n",
       "\t<li>0.925025430100359</li>\n",
       "\t<li>0.898804479472366</li>\n",
       "\t<li>0.903147869614318</li>\n",
       "</ol>\n"
      ],
      "text/latex": [
       "\\begin{enumerate*}\n",
       "\\item 0.921354469091557\n",
       "\\item 0.922523904125126\n",
       "\\item 0.931662700110471\n",
       "\\item 0.903263848857996\n",
       "\\item 0.946633729911482\n",
       "\\item 0.910739452864301\n",
       "\\item 0.931827146162098\n",
       "\\item 0.913405051126095\n",
       "\\item 0.919709876706743\n",
       "\\item 0.91243210970072\n",
       "\\item 0.918490882681892\n",
       "\\item 0.904221902253224\n",
       "\\item 0.921357289265682\n",
       "\\item 0.909117110191407\n",
       "\\item 0.906139955166118\n",
       "\\item 0.921706324302495\n",
       "\\item 0.914640300142655\n",
       "\\item 0.925025430100359\n",
       "\\item 0.898804479472366\n",
       "\\item 0.903147869614318\n",
       "\\end{enumerate*}\n"
      ],
      "text/markdown": [
       "1. 0.921354469091557\n",
       "2. 0.922523904125126\n",
       "3. 0.931662700110471\n",
       "4. 0.903263848857996\n",
       "5. 0.946633729911482\n",
       "6. 0.910739452864301\n",
       "7. 0.931827146162098\n",
       "8. 0.913405051126095\n",
       "9. 0.919709876706743\n",
       "10. 0.91243210970072\n",
       "11. 0.918490882681892\n",
       "12. 0.904221902253224\n",
       "13. 0.921357289265682\n",
       "14. 0.909117110191407\n",
       "15. 0.906139955166118\n",
       "16. 0.921706324302495\n",
       "17. 0.914640300142655\n",
       "18. 0.925025430100359\n",
       "19. 0.898804479472366\n",
       "20. 0.903147869614318\n",
       "\n",
       "\n"
      ],
      "text/plain": [
       " [1] 0.9213545 0.9225239 0.9316627 0.9032638 0.9466337 0.9107395 0.9318271\n",
       " [8] 0.9134051 0.9197099 0.9124321 0.9184909 0.9042219 0.9213573 0.9091171\n",
       "[15] 0.9061400 0.9217063 0.9146403 0.9250254 0.8988045 0.9031479"
      ]
     },
     "metadata": {},
     "output_type": "display_data"
    }
   ],
   "source": [
    "r.squared.sample <- fits %>% map(function(item) { glance(item$model)[['r.squared']] }) %>% unlist %>% as.vector\n",
    "r.squared.sample"
   ]
  },
  {
   "cell_type": "code",
   "execution_count": 36,
   "metadata": {},
   "outputs": [
    {
     "data": {
      "text/html": [
       "'BsmtFinSF1+Condition2.new+has_pool+MSZoning.new+Neighborhood.new+OverallCond+OverallQual+PoolArea+X1stFlrSF+X2ndFlrSF'"
      ],
      "text/latex": [
       "'BsmtFinSF1+Condition2.new+has\\_pool+MSZoning.new+Neighborhood.new+OverallCond+OverallQual+PoolArea+X1stFlrSF+X2ndFlrSF'"
      ],
      "text/markdown": [
       "'BsmtFinSF1+Condition2.new+has_pool+MSZoning.new+Neighborhood.new+OverallCond+OverallQual+PoolArea+X1stFlrSF+X2ndFlrSF'"
      ],
      "text/plain": [
       "[1] \"BsmtFinSF1+Condition2.new+has_pool+MSZoning.new+Neighborhood.new+OverallCond+OverallQual+PoolArea+X1stFlrSF+X2ndFlrSF\""
      ]
     },
     "metadata": {},
     "output_type": "display_data"
    }
   ],
   "source": [
    "coeff.sample <- fits %>% map(function(item) { tidy(item$model) }) %>% bind_rows\n",
    "coeff.sample %>% \n",
    "    arrange(term, estimate) %>% \n",
    "    group_by(term) %>% \n",
    "    mutate(n=n()) %>% \n",
    "    filter(p.value < 0.00000001, n == N) %>%\n",
    "    distinct(term) %>%\n",
    "    `[[`(1) %>% paste(collapse = '+')"
   ]
  },
  {
   "cell_type": "code",
   "execution_count": 60,
   "metadata": {},
   "outputs": [
    {
     "data": {
      "text/html": [
       "<table>\n",
       "<thead><tr><th scope=col>r.squared</th><th scope=col>adj.r.squared</th><th scope=col>sigma</th><th scope=col>statistic</th><th scope=col>p.value</th><th scope=col>df</th><th scope=col>logLik</th><th scope=col>AIC</th><th scope=col>BIC</th><th scope=col>deviance</th><th scope=col>df.residual</th></tr></thead>\n",
       "<tbody>\n",
       "\t<tr><td>0.8309533    </td><td>0.8300219    </td><td>0.1627256    </td><td>892.1679     </td><td>1.767394e-278</td><td>5            </td><td>292.5338     </td><td>-573.0677    </td><td>-545.5012    </td><td>19.22421     </td><td>726          </td></tr>\n",
       "</tbody>\n",
       "</table>\n"
      ],
      "text/latex": [
       "\\begin{tabular}{r|lllllllllll}\n",
       " r.squared & adj.r.squared & sigma & statistic & p.value & df & logLik & AIC & BIC & deviance & df.residual\\\\\n",
       "\\hline\n",
       "\t 0.8309533     & 0.8300219     & 0.1627256     & 892.1679      & 1.767394e-278 & 5             & 292.5338      & -573.0677     & -545.5012     & 19.22421      & 726          \\\\\n",
       "\\end{tabular}\n"
      ],
      "text/markdown": [
       "\n",
       "r.squared | adj.r.squared | sigma | statistic | p.value | df | logLik | AIC | BIC | deviance | df.residual | \n",
       "|---|\n",
       "| 0.8309533     | 0.8300219     | 0.1627256     | 892.1679      | 1.767394e-278 | 5             | 292.5338      | -573.0677     | -545.5012     | 19.22421      | 726           | \n",
       "\n",
       "\n"
      ],
      "text/plain": [
       "  r.squared adj.r.squared sigma     statistic p.value       df logLik  \n",
       "1 0.8309533 0.8300219     0.1627256 892.1679  1.767394e-278 5  292.5338\n",
       "  AIC       BIC       deviance df.residual\n",
       "1 -573.0677 -545.5012 19.22421 726        "
      ]
     },
     "metadata": {},
     "output_type": "display_data"
    },
    {
     "data": {
      "text/html": [
       "<table>\n",
       "<thead><tr><th scope=col>term</th><th scope=col>estimate</th><th scope=col>std.error</th><th scope=col>statistic</th><th scope=col>p.value</th></tr></thead>\n",
       "<tbody>\n",
       "\t<tr><td>(Intercept)       </td><td>2.92591496        </td><td>0.330627490       </td><td> 8.849582         </td><td>6.637788e-18      </td></tr>\n",
       "\t<tr><td>Neighborhood.new  </td><td>0.43420367        </td><td>0.028021325       </td><td>15.495472         </td><td>5.336370e-47      </td></tr>\n",
       "\t<tr><td>OverallQual       </td><td>0.11097429        </td><td>0.006850603       </td><td>16.199199         </td><td>1.302660e-50      </td></tr>\n",
       "\t<tr><td>log(X1stFlrSF + 1)</td><td>0.44541666        </td><td>0.024945126       </td><td>17.855859         </td><td>2.157191e-59      </td></tr>\n",
       "\t<tr><td>log(X2ndFlrSF + 1)</td><td>0.02412738        </td><td>0.002145638       </td><td>11.244853         </td><td>3.716413e-27      </td></tr>\n",
       "</tbody>\n",
       "</table>\n"
      ],
      "text/latex": [
       "\\begin{tabular}{r|lllll}\n",
       " term & estimate & std.error & statistic & p.value\\\\\n",
       "\\hline\n",
       "\t (Intercept)        & 2.92591496         & 0.330627490        &  8.849582          & 6.637788e-18      \\\\\n",
       "\t Neighborhood.new   & 0.43420367         & 0.028021325        & 15.495472          & 5.336370e-47      \\\\\n",
       "\t OverallQual        & 0.11097429         & 0.006850603        & 16.199199          & 1.302660e-50      \\\\\n",
       "\t log(X1stFlrSF + 1) & 0.44541666         & 0.024945126        & 17.855859          & 2.157191e-59      \\\\\n",
       "\t log(X2ndFlrSF + 1) & 0.02412738         & 0.002145638        & 11.244853          & 3.716413e-27      \\\\\n",
       "\\end{tabular}\n"
      ],
      "text/markdown": [
       "\n",
       "term | estimate | std.error | statistic | p.value | \n",
       "|---|---|---|---|---|\n",
       "| (Intercept)        | 2.92591496         | 0.330627490        |  8.849582          | 6.637788e-18       | \n",
       "| Neighborhood.new   | 0.43420367         | 0.028021325        | 15.495472          | 5.336370e-47       | \n",
       "| OverallQual        | 0.11097429         | 0.006850603        | 16.199199          | 1.302660e-50       | \n",
       "| log(X1stFlrSF + 1) | 0.44541666         | 0.024945126        | 17.855859          | 2.157191e-59       | \n",
       "| log(X2ndFlrSF + 1) | 0.02412738         | 0.002145638        | 11.244853          | 3.716413e-27       | \n",
       "\n",
       "\n"
      ],
      "text/plain": [
       "  term               estimate   std.error   statistic p.value     \n",
       "1 (Intercept)        2.92591496 0.330627490  8.849582 6.637788e-18\n",
       "2 Neighborhood.new   0.43420367 0.028021325 15.495472 5.336370e-47\n",
       "3 OverallQual        0.11097429 0.006850603 16.199199 1.302660e-50\n",
       "4 log(X1stFlrSF + 1) 0.44541666 0.024945126 17.855859 2.157191e-59\n",
       "5 log(X2ndFlrSF + 1) 0.02412738 0.002145638 11.244853 3.716413e-27"
      ]
     },
     "metadata": {},
     "output_type": "display_data"
    },
    {
     "data": {
      "text/html": [
       "0.179674207804042"
      ],
      "text/latex": [
       "0.179674207804042"
      ],
      "text/markdown": [
       "0.179674207804042"
      ],
      "text/plain": [
       "[1] 0.1796742"
      ]
     },
     "metadata": {},
     "output_type": "display_data"
    },
    {
     "data": {
      "text/html": [
       "13.7153991825779"
      ],
      "text/latex": [
       "13.7153991825779"
      ],
      "text/markdown": [
       "13.7153991825779"
      ],
      "text/plain": [
       "[1] 13.7154"
      ]
     },
     "metadata": {},
     "output_type": "display_data"
    }
   ],
   "source": [
    "model.lm <- lm(sale_price_log ~ Neighborhood.new+OverallQual+log(X1stFlrSF+1)+log(X2ndFlrSF+1), data=trainset.ready)\n",
    "glance(model.lm)\n",
    "tidy(model.lm)\n",
    "\n",
    "y_predicted <- predict(model.lm, testset.ready) %>% as.vector\n",
    "y_actual <- testset %>% mutate(sale_price_log = log(SalePrice)) %>% select(sale_price_log) %>% `[[`(1)\n",
    "rmse(y_predicted, y_actual)\n",
    "\n",
    "sp_predicted <- y_predicted %>% exp\n",
    "sp_actual <- testset %>% select(SalePrice) %>% `[[`(1)\n",
    "mean(100 * abs(sp_actual - sp_predicted) / sp_actual)"
   ]
  },
  {
   "cell_type": "code",
   "execution_count": null,
   "metadata": {
    "collapsed": true
   },
   "outputs": [],
   "source": []
  },
  {
   "cell_type": "code",
   "execution_count": null,
   "metadata": {
    "collapsed": true
   },
   "outputs": [],
   "source": []
  },
  {
   "cell_type": "code",
   "execution_count": null,
   "metadata": {
    "collapsed": true
   },
   "outputs": [],
   "source": []
  },
  {
   "cell_type": "code",
   "execution_count": null,
   "metadata": {
    "collapsed": true
   },
   "outputs": [],
   "source": []
  },
  {
   "cell_type": "code",
   "execution_count": null,
   "metadata": {
    "collapsed": true
   },
   "outputs": [],
   "source": []
  },
  {
   "cell_type": "code",
   "execution_count": null,
   "metadata": {
    "collapsed": true
   },
   "outputs": [],
   "source": []
  },
  {
   "cell_type": "code",
   "execution_count": null,
   "metadata": {
    "collapsed": true
   },
   "outputs": [],
   "source": []
  },
  {
   "cell_type": "code",
   "execution_count": null,
   "metadata": {
    "collapsed": true
   },
   "outputs": [],
   "source": []
  },
  {
   "cell_type": "code",
   "execution_count": null,
   "metadata": {
    "collapsed": true
   },
   "outputs": [],
   "source": []
  },
  {
   "cell_type": "code",
   "execution_count": null,
   "metadata": {
    "collapsed": true
   },
   "outputs": [],
   "source": []
  },
  {
   "cell_type": "code",
   "execution_count": null,
   "metadata": {
    "collapsed": true
   },
   "outputs": [],
   "source": []
  },
  {
   "cell_type": "code",
   "execution_count": null,
   "metadata": {
    "collapsed": true
   },
   "outputs": [],
   "source": []
  }
 ],
 "metadata": {
  "kernelspec": {
   "display_name": "R",
   "language": "R",
   "name": "ir"
  },
  "language_info": {
   "codemirror_mode": "r",
   "file_extension": ".r",
   "mimetype": "text/x-r-source",
   "name": "R",
   "pygments_lexer": "r",
   "version": "3.4.2"
  }
 },
 "nbformat": 4,
 "nbformat_minor": 2
}
