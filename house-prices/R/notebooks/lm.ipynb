{
 "cells": [
  {
   "cell_type": "code",
   "execution_count": 1,
   "metadata": {},
   "outputs": [
    {
     "data": {
      "text/html": [
       "'/mnt/hdd/develop/kaggle/house-prices/R/R'"
      ],
      "text/latex": [
       "'/mnt/hdd/develop/kaggle/house-prices/R/R'"
      ],
      "text/markdown": [
       "'/mnt/hdd/develop/kaggle/house-prices/R/R'"
      ],
      "text/plain": [
       "[1] \"/mnt/hdd/develop/kaggle/house-prices/R/R\""
      ]
     },
     "metadata": {},
     "output_type": "display_data"
    }
   ],
   "source": [
    "setwd(paste0(Sys.getenv('ROOT'), '/R'))\n",
    "getwd()"
   ]
  },
  {
   "cell_type": "code",
   "execution_count": 97,
   "metadata": {
    "collapsed": true
   },
   "outputs": [],
   "source": [
    "source('main.R')\n",
    "\n",
    "data <- kaggle.house$loadData()\n",
    "\n",
    "df.combined <- kaggle.house$getCombinedDataset(data$train, data$test) %>% (kaggle.house$na$fixAll)\n",
    "\n",
    "df.training <- \n",
    "    df.combined %>% \n",
    "    filter(dataSource == \"train\") %>% \n",
    "    mutate(sale_price_log = log(SalePrice)) %>%\n",
    "    select(-dataSource)"
   ]
  },
  {
   "cell_type": "code",
   "execution_count": 107,
   "metadata": {},
   "outputs": [
    {
     "data": {
      "text/html": [
       "'Testset RMSE of sale_price_log: 0.139268551268354'"
      ],
      "text/latex": [
       "'Testset RMSE of sale\\_price\\_log: 0.139268551268354'"
      ],
      "text/markdown": [
       "'Testset RMSE of sale_price_log: 0.139268551268354'"
      ],
      "text/plain": [
       "[1] \"Testset RMSE of sale_price_log: 0.139268551268354\""
      ]
     },
     "metadata": {},
     "output_type": "display_data"
    },
    {
     "data": {
      "text/html": [
       "'Testset SalePrice mean prediction error in %: 10.053643037849'"
      ],
      "text/latex": [
       "'Testset SalePrice mean prediction error in \\%: 10.053643037849'"
      ],
      "text/markdown": [
       "'Testset SalePrice mean prediction error in %: 10.053643037849'"
      ],
      "text/plain": [
       "[1] \"Testset SalePrice mean prediction error in %: 10.053643037849\""
      ]
     },
     "metadata": {},
     "output_type": "display_data"
    },
    {
     "data": {
      "text/html": [
       "<table>\n",
       "<thead><tr><th scope=col>r.squared</th><th scope=col>adj.r.squared</th><th scope=col>sigma</th><th scope=col>statistic</th><th scope=col>p.value</th><th scope=col>df</th><th scope=col>logLik</th><th scope=col>AIC</th><th scope=col>BIC</th><th scope=col>deviance</th><th scope=col>df.residual</th></tr></thead>\n",
       "<tbody>\n",
       "\t<tr><td>0.9032026</td><td>0.8940183</td><td>0.1257676</td><td>98.34228 </td><td>0        </td><td>77       </td><td>614.8402 </td><td>-1073.68 </td><td>-701.024 </td><td>12.66981 </td><td>801      </td></tr>\n",
       "</tbody>\n",
       "</table>\n"
      ],
      "text/latex": [
       "\\begin{tabular}{r|lllllllllll}\n",
       " r.squared & adj.r.squared & sigma & statistic & p.value & df & logLik & AIC & BIC & deviance & df.residual\\\\\n",
       "\\hline\n",
       "\t 0.9032026 & 0.8940183 & 0.1257676 & 98.34228  & 0         & 77        & 614.8402  & -1073.68  & -701.024  & 12.66981  & 801      \\\\\n",
       "\\end{tabular}\n"
      ],
      "text/markdown": [
       "\n",
       "r.squared | adj.r.squared | sigma | statistic | p.value | df | logLik | AIC | BIC | deviance | df.residual | \n",
       "|---|\n",
       "| 0.9032026 | 0.8940183 | 0.1257676 | 98.34228  | 0         | 77        | 614.8402  | -1073.68  | -701.024  | 12.66981  | 801       | \n",
       "\n",
       "\n"
      ],
      "text/plain": [
       "  r.squared adj.r.squared sigma     statistic p.value df logLik   AIC     \n",
       "1 0.9032026 0.8940183     0.1257676 98.34228  0       77 614.8402 -1073.68\n",
       "  BIC      deviance df.residual\n",
       "1 -701.024 12.66981 801        "
      ]
     },
     "metadata": {},
     "output_type": "display_data"
    },
    {
     "data": {
      "text/html": [
       "<table>\n",
       "<thead><tr><th scope=col>term</th><th scope=col>estimate</th><th scope=col>std.error</th><th scope=col>statistic</th><th scope=col>p.value</th></tr></thead>\n",
       "<tbody>\n",
       "\t<tr><td>Neighborhood.new      </td><td> 2.831238e-01         </td><td>2.735925e-02          </td><td>10.348373             </td><td>1.215210e-23          </td></tr>\n",
       "\t<tr><td>OverallQual           </td><td> 5.066913e-02         </td><td>6.332933e-03          </td><td> 8.000895             </td><td>4.323464e-15          </td></tr>\n",
       "\t<tr><td>has_pool              </td><td>-3.136063e+00         </td><td>4.492431e-01          </td><td>-6.980770             </td><td>6.163344e-12          </td></tr>\n",
       "\t<tr><td>PoolArea              </td><td> 5.044335e-03         </td><td>7.498415e-04          </td><td> 6.727201             </td><td>3.291033e-11          </td></tr>\n",
       "\t<tr><td>X1stFlrSF             </td><td> 1.983647e-04         </td><td>3.000340e-05          </td><td> 6.611407             </td><td>6.948901e-11          </td></tr>\n",
       "\t<tr><td>OverallCond           </td><td> 3.338949e-02         </td><td>5.734437e-03          </td><td> 5.822628             </td><td>8.381679e-09          </td></tr>\n",
       "\t<tr><td>X2ndFlrSF             </td><td> 1.267307e-04         </td><td>2.500392e-05          </td><td> 5.068432             </td><td>4.984195e-07          </td></tr>\n",
       "\t<tr><td>BsmtFullBath          </td><td> 5.081346e-02         </td><td>1.273792e-02          </td><td> 3.989150             </td><td>7.238399e-05          </td></tr>\n",
       "\t<tr><td>HeatingQC.new         </td><td> 1.292361e-01         </td><td>3.384704e-02          </td><td> 3.818240             </td><td>1.447829e-04          </td></tr>\n",
       "\t<tr><td>Condition1.new        </td><td> 2.146989e-01         </td><td>5.794800e-02          </td><td> 3.705026             </td><td>2.258917e-04          </td></tr>\n",
       "\t<tr><td>LotArea               </td><td> 1.783256e-06         </td><td>5.219233e-07          </td><td> 3.416700             </td><td>6.658014e-04          </td></tr>\n",
       "\t<tr><td>HouseStyle.new        </td><td>-1.764039e-01         </td><td>5.307896e-02          </td><td>-3.323425             </td><td>9.295641e-04          </td></tr>\n",
       "\t<tr><td>is_land_level         </td><td> 5.896995e-02         </td><td>1.800466e-02          </td><td> 3.275260             </td><td>1.101015e-03          </td></tr>\n",
       "\t<tr><td>MSSubClass.new        </td><td> 1.185964e-01         </td><td>3.867693e-02          </td><td> 3.066334             </td><td>2.239829e-03          </td></tr>\n",
       "\t<tr><td>is_street_paved       </td><td> 3.062951e-01         </td><td>1.043416e-01          </td><td> 2.935504             </td><td>3.425334e-03          </td></tr>\n",
       "\t<tr><td>ScreenPorch           </td><td> 2.543874e-04         </td><td>8.943628e-05          </td><td> 2.844342             </td><td>4.563755e-03          </td></tr>\n",
       "\t<tr><td>standard_roof_material</td><td> 1.249248e-01         </td><td>4.421221e-02          </td><td> 2.825574             </td><td>4.837021e-03          </td></tr>\n",
       "\t<tr><td>is_full_functional    </td><td> 5.888672e-02         </td><td>2.086465e-02          </td><td> 2.822320             </td><td>4.885880e-03          </td></tr>\n",
       "\t<tr><td>LowQualFinSF          </td><td> 2.830408e-04         </td><td>1.042074e-04          </td><td> 2.716128             </td><td>6.747408e-03          </td></tr>\n",
       "\t<tr><td>BsmtExposure.new      </td><td> 1.137110e-01         </td><td>4.285305e-02          </td><td> 2.653510             </td><td>8.123793e-03          </td></tr>\n",
       "\t<tr><td>Foundation.new        </td><td> 9.679295e-02         </td><td>3.829034e-02          </td><td> 2.527869             </td><td>1.166691e-02          </td></tr>\n",
       "\t<tr><td>is_slope              </td><td> 6.300639e-02         </td><td>2.514607e-02          </td><td> 2.505616             </td><td>1.242117e-02          </td></tr>\n",
       "\t<tr><td>BedroomAbvGr          </td><td> 2.144788e-02         </td><td>8.661280e-03          </td><td> 2.476295             </td><td>1.348097e-02          </td></tr>\n",
       "\t<tr><td>GarageCars            </td><td> 3.840733e-02         </td><td>1.562306e-02          </td><td> 2.458374             </td><td>1.416742e-02          </td></tr>\n",
       "\t<tr><td>FireplaceQu.new       </td><td> 1.026271e-01         </td><td>4.260159e-02          </td><td> 2.408997             </td><td>1.622119e-02          </td></tr>\n",
       "\t<tr><td>KitchenQual.new       </td><td> 6.812482e-02         </td><td>2.916980e-02          </td><td> 2.335457             </td><td>1.976555e-02          </td></tr>\n",
       "\t<tr><td>FullBath              </td><td> 3.271838e-02         </td><td>1.410302e-02          </td><td> 2.319955             </td><td>2.059383e-02          </td></tr>\n",
       "\t<tr><td>RoofStyle.new         </td><td> 2.251551e-01         </td><td>1.028362e-01          </td><td> 2.189453             </td><td>2.885175e-02          </td></tr>\n",
       "\t<tr><td>BsmtCond.new          </td><td> 1.203863e-01         </td><td>5.723286e-02          </td><td> 2.103447             </td><td>3.573804e-02          </td></tr>\n",
       "\t<tr><td>HalfBath              </td><td> 2.402203e-02         </td><td>1.282455e-02          </td><td> 1.873129             </td><td>6.141462e-02          </td></tr>\n",
       "\t<tr><td>Exterior1st.new       </td><td> 1.167332e-01         </td><td>6.290985e-02          </td><td> 1.855562             </td><td>6.388312e-02          </td></tr>\n",
       "\t<tr><td>MSZoning.new          </td><td> 8.333910e-02         </td><td>4.519968e-02          </td><td> 1.843798             </td><td>6.558172e-02          </td></tr>\n",
       "\t<tr><td>TotRmsAbvGrd          </td><td> 1.052923e-02         </td><td>5.982982e-03          </td><td> 1.759863             </td><td>7.881271e-02          </td></tr>\n",
       "\t<tr><td>standard_electrical   </td><td>-3.008258e-02         </td><td>1.742580e-02          </td><td>-1.726324             </td><td>8.467470e-02          </td></tr>\n",
       "\t<tr><td>BsmtQual.new          </td><td> 5.320387e-02         </td><td>3.151394e-02          </td><td> 1.688264             </td><td>9.174973e-02          </td></tr>\n",
       "\t<tr><td>YearRemodAdd          </td><td> 6.105740e-04         </td><td>3.620936e-04          </td><td> 1.686233             </td><td>9.214042e-02          </td></tr>\n",
       "</tbody>\n",
       "</table>\n"
      ],
      "text/latex": [
       "\\begin{tabular}{r|lllll}\n",
       " term & estimate & std.error & statistic & p.value\\\\\n",
       "\\hline\n",
       "\t Neighborhood.new       &  2.831238e-01          & 2.735925e-02           & 10.348373              & 1.215210e-23          \\\\\n",
       "\t OverallQual            &  5.066913e-02          & 6.332933e-03           &  8.000895              & 4.323464e-15          \\\\\n",
       "\t has\\_pool               & -3.136063e+00            & 4.492431e-01             & -6.980770                & 6.163344e-12            \\\\\n",
       "\t PoolArea               &  5.044335e-03          & 7.498415e-04           &  6.727201              & 3.291033e-11          \\\\\n",
       "\t X1stFlrSF              &  1.983647e-04          & 3.000340e-05           &  6.611407              & 6.948901e-11          \\\\\n",
       "\t OverallCond            &  3.338949e-02          & 5.734437e-03           &  5.822628              & 8.381679e-09          \\\\\n",
       "\t X2ndFlrSF              &  1.267307e-04          & 2.500392e-05           &  5.068432              & 4.984195e-07          \\\\\n",
       "\t BsmtFullBath           &  5.081346e-02          & 1.273792e-02           &  3.989150              & 7.238399e-05          \\\\\n",
       "\t HeatingQC.new          &  1.292361e-01          & 3.384704e-02           &  3.818240              & 1.447829e-04          \\\\\n",
       "\t Condition1.new         &  2.146989e-01          & 5.794800e-02           &  3.705026              & 2.258917e-04          \\\\\n",
       "\t LotArea                &  1.783256e-06          & 5.219233e-07           &  3.416700              & 6.658014e-04          \\\\\n",
       "\t HouseStyle.new         & -1.764039e-01          & 5.307896e-02           & -3.323425              & 9.295641e-04          \\\\\n",
       "\t is\\_land\\_level          &  5.896995e-02              & 1.800466e-02               &  3.275260                  & 1.101015e-03              \\\\\n",
       "\t MSSubClass.new         &  1.185964e-01          & 3.867693e-02           &  3.066334              & 2.239829e-03          \\\\\n",
       "\t is\\_street\\_paved        &  3.062951e-01              & 1.043416e-01               &  2.935504                  & 3.425334e-03              \\\\\n",
       "\t ScreenPorch            &  2.543874e-04          & 8.943628e-05           &  2.844342              & 4.563755e-03          \\\\\n",
       "\t standard\\_roof\\_material &  1.249248e-01              & 4.421221e-02               &  2.825574                  & 4.837021e-03              \\\\\n",
       "\t is\\_full\\_functional     &  5.888672e-02              & 2.086465e-02               &  2.822320                  & 4.885880e-03              \\\\\n",
       "\t LowQualFinSF           &  2.830408e-04          & 1.042074e-04           &  2.716128              & 6.747408e-03          \\\\\n",
       "\t BsmtExposure.new       &  1.137110e-01          & 4.285305e-02           &  2.653510              & 8.123793e-03          \\\\\n",
       "\t Foundation.new         &  9.679295e-02          & 3.829034e-02           &  2.527869              & 1.166691e-02          \\\\\n",
       "\t is\\_slope               &  6.300639e-02            & 2.514607e-02             &  2.505616                & 1.242117e-02            \\\\\n",
       "\t BedroomAbvGr           &  2.144788e-02          & 8.661280e-03           &  2.476295              & 1.348097e-02          \\\\\n",
       "\t GarageCars             &  3.840733e-02          & 1.562306e-02           &  2.458374              & 1.416742e-02          \\\\\n",
       "\t FireplaceQu.new        &  1.026271e-01          & 4.260159e-02           &  2.408997              & 1.622119e-02          \\\\\n",
       "\t KitchenQual.new        &  6.812482e-02          & 2.916980e-02           &  2.335457              & 1.976555e-02          \\\\\n",
       "\t FullBath               &  3.271838e-02          & 1.410302e-02           &  2.319955              & 2.059383e-02          \\\\\n",
       "\t RoofStyle.new          &  2.251551e-01          & 1.028362e-01           &  2.189453              & 2.885175e-02          \\\\\n",
       "\t BsmtCond.new           &  1.203863e-01          & 5.723286e-02           &  2.103447              & 3.573804e-02          \\\\\n",
       "\t HalfBath               &  2.402203e-02          & 1.282455e-02           &  1.873129              & 6.141462e-02          \\\\\n",
       "\t Exterior1st.new        &  1.167332e-01          & 6.290985e-02           &  1.855562              & 6.388312e-02          \\\\\n",
       "\t MSZoning.new           &  8.333910e-02          & 4.519968e-02           &  1.843798              & 6.558172e-02          \\\\\n",
       "\t TotRmsAbvGrd           &  1.052923e-02          & 5.982982e-03           &  1.759863              & 7.881271e-02          \\\\\n",
       "\t standard\\_electrical    & -3.008258e-02            & 1.742580e-02             & -1.726324                & 8.467470e-02            \\\\\n",
       "\t BsmtQual.new           &  5.320387e-02          & 3.151394e-02           &  1.688264              & 9.174973e-02          \\\\\n",
       "\t YearRemodAdd           &  6.105740e-04          & 3.620936e-04           &  1.686233              & 9.214042e-02          \\\\\n",
       "\\end{tabular}\n"
      ],
      "text/markdown": [
       "\n",
       "term | estimate | std.error | statistic | p.value | \n",
       "|---|---|---|---|---|---|---|---|---|---|---|---|---|---|---|---|---|---|---|---|---|---|---|---|---|---|---|---|---|---|---|---|---|---|---|---|\n",
       "| Neighborhood.new       |  2.831238e-01          | 2.735925e-02           | 10.348373              | 1.215210e-23           | \n",
       "| OverallQual            |  5.066913e-02          | 6.332933e-03           |  8.000895              | 4.323464e-15           | \n",
       "| has_pool               | -3.136063e+00          | 4.492431e-01           | -6.980770              | 6.163344e-12           | \n",
       "| PoolArea               |  5.044335e-03          | 7.498415e-04           |  6.727201              | 3.291033e-11           | \n",
       "| X1stFlrSF              |  1.983647e-04          | 3.000340e-05           |  6.611407              | 6.948901e-11           | \n",
       "| OverallCond            |  3.338949e-02          | 5.734437e-03           |  5.822628              | 8.381679e-09           | \n",
       "| X2ndFlrSF              |  1.267307e-04          | 2.500392e-05           |  5.068432              | 4.984195e-07           | \n",
       "| BsmtFullBath           |  5.081346e-02          | 1.273792e-02           |  3.989150              | 7.238399e-05           | \n",
       "| HeatingQC.new          |  1.292361e-01          | 3.384704e-02           |  3.818240              | 1.447829e-04           | \n",
       "| Condition1.new         |  2.146989e-01          | 5.794800e-02           |  3.705026              | 2.258917e-04           | \n",
       "| LotArea                |  1.783256e-06          | 5.219233e-07           |  3.416700              | 6.658014e-04           | \n",
       "| HouseStyle.new         | -1.764039e-01          | 5.307896e-02           | -3.323425              | 9.295641e-04           | \n",
       "| is_land_level          |  5.896995e-02          | 1.800466e-02           |  3.275260              | 1.101015e-03           | \n",
       "| MSSubClass.new         |  1.185964e-01          | 3.867693e-02           |  3.066334              | 2.239829e-03           | \n",
       "| is_street_paved        |  3.062951e-01          | 1.043416e-01           |  2.935504              | 3.425334e-03           | \n",
       "| ScreenPorch            |  2.543874e-04          | 8.943628e-05           |  2.844342              | 4.563755e-03           | \n",
       "| standard_roof_material |  1.249248e-01          | 4.421221e-02           |  2.825574              | 4.837021e-03           | \n",
       "| is_full_functional     |  5.888672e-02          | 2.086465e-02           |  2.822320              | 4.885880e-03           | \n",
       "| LowQualFinSF           |  2.830408e-04          | 1.042074e-04           |  2.716128              | 6.747408e-03           | \n",
       "| BsmtExposure.new       |  1.137110e-01          | 4.285305e-02           |  2.653510              | 8.123793e-03           | \n",
       "| Foundation.new         |  9.679295e-02          | 3.829034e-02           |  2.527869              | 1.166691e-02           | \n",
       "| is_slope               |  6.300639e-02          | 2.514607e-02           |  2.505616              | 1.242117e-02           | \n",
       "| BedroomAbvGr           |  2.144788e-02          | 8.661280e-03           |  2.476295              | 1.348097e-02           | \n",
       "| GarageCars             |  3.840733e-02          | 1.562306e-02           |  2.458374              | 1.416742e-02           | \n",
       "| FireplaceQu.new        |  1.026271e-01          | 4.260159e-02           |  2.408997              | 1.622119e-02           | \n",
       "| KitchenQual.new        |  6.812482e-02          | 2.916980e-02           |  2.335457              | 1.976555e-02           | \n",
       "| FullBath               |  3.271838e-02          | 1.410302e-02           |  2.319955              | 2.059383e-02           | \n",
       "| RoofStyle.new          |  2.251551e-01          | 1.028362e-01           |  2.189453              | 2.885175e-02           | \n",
       "| BsmtCond.new           |  1.203863e-01          | 5.723286e-02           |  2.103447              | 3.573804e-02           | \n",
       "| HalfBath               |  2.402203e-02          | 1.282455e-02           |  1.873129              | 6.141462e-02           | \n",
       "| Exterior1st.new        |  1.167332e-01          | 6.290985e-02           |  1.855562              | 6.388312e-02           | \n",
       "| MSZoning.new           |  8.333910e-02          | 4.519968e-02           |  1.843798              | 6.558172e-02           | \n",
       "| TotRmsAbvGrd           |  1.052923e-02          | 5.982982e-03           |  1.759863              | 7.881271e-02           | \n",
       "| standard_electrical    | -3.008258e-02          | 1.742580e-02           | -1.726324              | 8.467470e-02           | \n",
       "| BsmtQual.new           |  5.320387e-02          | 3.151394e-02           |  1.688264              | 9.174973e-02           | \n",
       "| YearRemodAdd           |  6.105740e-04          | 3.620936e-04           |  1.686233              | 9.214042e-02           | \n",
       "\n",
       "\n"
      ],
      "text/plain": [
       "   term                   estimate      std.error    statistic p.value     \n",
       "1  Neighborhood.new        2.831238e-01 2.735925e-02 10.348373 1.215210e-23\n",
       "2  OverallQual             5.066913e-02 6.332933e-03  8.000895 4.323464e-15\n",
       "3  has_pool               -3.136063e+00 4.492431e-01 -6.980770 6.163344e-12\n",
       "4  PoolArea                5.044335e-03 7.498415e-04  6.727201 3.291033e-11\n",
       "5  X1stFlrSF               1.983647e-04 3.000340e-05  6.611407 6.948901e-11\n",
       "6  OverallCond             3.338949e-02 5.734437e-03  5.822628 8.381679e-09\n",
       "7  X2ndFlrSF               1.267307e-04 2.500392e-05  5.068432 4.984195e-07\n",
       "8  BsmtFullBath            5.081346e-02 1.273792e-02  3.989150 7.238399e-05\n",
       "9  HeatingQC.new           1.292361e-01 3.384704e-02  3.818240 1.447829e-04\n",
       "10 Condition1.new          2.146989e-01 5.794800e-02  3.705026 2.258917e-04\n",
       "11 LotArea                 1.783256e-06 5.219233e-07  3.416700 6.658014e-04\n",
       "12 HouseStyle.new         -1.764039e-01 5.307896e-02 -3.323425 9.295641e-04\n",
       "13 is_land_level           5.896995e-02 1.800466e-02  3.275260 1.101015e-03\n",
       "14 MSSubClass.new          1.185964e-01 3.867693e-02  3.066334 2.239829e-03\n",
       "15 is_street_paved         3.062951e-01 1.043416e-01  2.935504 3.425334e-03\n",
       "16 ScreenPorch             2.543874e-04 8.943628e-05  2.844342 4.563755e-03\n",
       "17 standard_roof_material  1.249248e-01 4.421221e-02  2.825574 4.837021e-03\n",
       "18 is_full_functional      5.888672e-02 2.086465e-02  2.822320 4.885880e-03\n",
       "19 LowQualFinSF            2.830408e-04 1.042074e-04  2.716128 6.747408e-03\n",
       "20 BsmtExposure.new        1.137110e-01 4.285305e-02  2.653510 8.123793e-03\n",
       "21 Foundation.new          9.679295e-02 3.829034e-02  2.527869 1.166691e-02\n",
       "22 is_slope                6.300639e-02 2.514607e-02  2.505616 1.242117e-02\n",
       "23 BedroomAbvGr            2.144788e-02 8.661280e-03  2.476295 1.348097e-02\n",
       "24 GarageCars              3.840733e-02 1.562306e-02  2.458374 1.416742e-02\n",
       "25 FireplaceQu.new         1.026271e-01 4.260159e-02  2.408997 1.622119e-02\n",
       "26 KitchenQual.new         6.812482e-02 2.916980e-02  2.335457 1.976555e-02\n",
       "27 FullBath                3.271838e-02 1.410302e-02  2.319955 2.059383e-02\n",
       "28 RoofStyle.new           2.251551e-01 1.028362e-01  2.189453 2.885175e-02\n",
       "29 BsmtCond.new            1.203863e-01 5.723286e-02  2.103447 3.573804e-02\n",
       "30 HalfBath                2.402203e-02 1.282455e-02  1.873129 6.141462e-02\n",
       "31 Exterior1st.new         1.167332e-01 6.290985e-02  1.855562 6.388312e-02\n",
       "32 MSZoning.new            8.333910e-02 4.519968e-02  1.843798 6.558172e-02\n",
       "33 TotRmsAbvGrd            1.052923e-02 5.982982e-03  1.759863 7.881271e-02\n",
       "34 standard_electrical    -3.008258e-02 1.742580e-02 -1.726324 8.467470e-02\n",
       "35 BsmtQual.new            5.320387e-02 3.151394e-02  1.688264 9.174973e-02\n",
       "36 YearRemodAdd            6.105740e-04 3.620936e-04  1.686233 9.214042e-02"
      ]
     },
     "metadata": {},
     "output_type": "display_data"
    }
   ],
   "source": [
    "partition <- caret::createDataPartition(y=df.training$sale_price_log, p=.6, list=F, times=1)\n",
    "\n",
    "trainset <- df.training[partition,] %>% select(-SalePrice)\n",
    "testset <- df.training[-partition,] %>% select(-sale_price_log)\n",
    "\n",
    "stopifnot(setdiff(trainset %>% colnames, testset %>% colnames) == 'sale_price_log')\n",
    "stopifnot(setdiff(testset %>% colnames, trainset %>% colnames) == 'SalePrice')\n",
    "\n",
    "tran.res <- kaggle.house$trans$doItAll(trainset, testset %>% select(-SalePrice))\n",
    "trainset.ready <- tran.res$trainset\n",
    "testset.ready <- tran.res$testset\n",
    "\n",
    "# Should be only numeric columns\n",
    "stopifnot(0 == trainset.ready %>% purrr::map(function (col) { !is.numeric(col) }) %>% unlist %>% sum)\n",
    "stopifnot(0 == testset.ready %>% purrr::map(function (col) { !is.numeric(col) }) %>% unlist %>% sum)\n",
    "\n",
    "stopifnot(setdiff(trainset.ready %>% colnames, testset.ready %>% colnames) == 'sale_price_log')\n",
    "stopifnot(setdiff(testset.ready %>% colnames, trainset.ready %>% colnames) == '')\n",
    "\n",
    "# sanity check\n",
    "#testset %>% group_by(BldgType) %>% summarise(median(log(SalePrice)))\n",
    "#cbind(testset.ready %>% select(BldgType.new), testset %>% select(BldgType)) %>% \n",
    "#    group_by(BldgType) %>% summarise(min(BldgType.new), max(BldgType.new))\n",
    "\n",
    "model.lm <- lm(sale_price_log ~ ., data=trainset.ready)\n",
    "\n",
    "suppressWarnings({\n",
    "    y_predicted <- predict(model.lm, testset.ready) %>% as.vector\n",
    "})\n",
    "y_actual <- testset %>% mutate(sale_price_log = log(SalePrice)) %>% select(sale_price_log) %>% `[[`(1)\n",
    "\n",
    "paste0(\"Testset RMSE of sale_price_log: \", rmse(y_predicted, y_actual))\n",
    "\n",
    "sp_predicted <- y_predicted %>% exp\n",
    "sp_actual <- testset %>% select(SalePrice) %>% `[[`(1)\n",
    "\n",
    "paste0(\"Testset SalePrice mean prediction error in %: \", mean(100 * abs(sp_actual - sp_predicted) / sp_actual))\n",
    "\n",
    "glance(model.lm)\n",
    "tidy(model.lm) %>% arrange(p.value) %>% filter(p.value < 0.1)"
   ]
  },
  {
   "cell_type": "code",
   "execution_count": 77,
   "metadata": {},
   "outputs": [],
   "source": [
    "source('main.R')\n",
    "\n",
    "suppressWarnings({\n",
    "    N = 50\n",
    "\n",
    "    runs <- c(1:N) %>% map(function (i) { \n",
    "        sample <- df.training %>% sample_n(round(0.75 * nrow(df.training)))\n",
    "        sample.partition.index <- caret::createDataPartition(y=sample$sale_price_log, p=.6, list=F, times=1)\n",
    "\n",
    "        trainset <- sample[sample.partition.index,] %>% select(-SalePrice)\n",
    "        testset <- sample[-sample.partition.index,] %>% select(-sale_price_log)\n",
    "\n",
    "        tranform.results <- kaggle.house$trans$doItAll(trainset, testset)\n",
    "\n",
    "        trainset <- tranform.results$trainset\n",
    "        testset <- tranform.results$testset\n",
    "\n",
    "        model <- lm(sale_price_log ~ ., data=trainset)\n",
    "        y_predicted <- predict(model, testset) %>% as.vector\n",
    "        y_actual <- testset %>% mutate(sale_price_log = log(SalePrice)) %>% select(sale_price_log) %>% `[[`(1)\n",
    "\n",
    "        list(model=model, y_test_predicted=y_predicted, y_test_actual=y_actual)\n",
    "    })    \n",
    "})"
   ]
  },
  {
   "cell_type": "code",
   "execution_count": 96,
   "metadata": {},
   "outputs": [
    {
     "data": {
      "text/plain": [
       "   Min. 1st Qu.  Median    Mean 3rd Qu.    Max. \n",
       " 0.1165  0.1350  0.1522  0.1584  0.1747  0.2807 "
      ]
     },
     "metadata": {},
     "output_type": "display_data"
    },
    {
     "data": {
      "text/plain": [
       "   Min. 1st Qu.  Median    Mean 3rd Qu.    Max. \n",
       "  8.294   9.735  10.362  10.976  11.184  29.313 "
      ]
     },
     "metadata": {},
     "output_type": "display_data"
    },
    {
     "data": {
      "text/plain": [
       "   Min. 1st Qu.  Median    Mean 3rd Qu.    Max. \n",
       " 0.9063  0.9138  0.9201  0.9220  0.9295  0.9437 "
      ]
     },
     "metadata": {},
     "output_type": "display_data"
    },
    {
     "data": {
      "text/plain": [
       "    estimate      \n",
       " Min.   :0.03311  \n",
       " 1st Qu.:0.04880  \n",
       " Median :0.05322  \n",
       " Mean   :0.05319  \n",
       " 3rd Qu.:0.05732  \n",
       " Max.   :0.07169  "
      ]
     },
     "metadata": {},
     "output_type": "display_data"
    },
    {
     "data": {
      "text/plain": [
       "    estimate      \n",
       " Min.   :0.09182  \n",
       " 1st Qu.:0.13161  \n",
       " Median :0.19841  \n",
       " Mean   :0.18593  \n",
       " 3rd Qu.:0.22514  \n",
       " Max.   :0.29069  "
      ]
     },
     "metadata": {},
     "output_type": "display_data"
    }
   ],
   "source": [
    "rmse.sample <- \n",
    "    runs %>%\n",
    "    map(function(item) { rmse(item$y_test_actual, item$y_test_predicted) }) %>% \n",
    "    unlist %>% as.vector\n",
    "\n",
    "SalePrice.predictionError.sample <- \n",
    "    runs %>%\n",
    "    map(function(item) { \n",
    "            actual <- item$y_test_actual\n",
    "            predicted <- item$y_test_predicted\n",
    "            mean(100 * abs(exp(actual) - exp(predicted)) / exp(actual)) \n",
    "    }) %>% \n",
    "    unlist %>% as.vector\n",
    "\n",
    "r2.sample <- \n",
    "    runs %>% \n",
    "    map(function(item) { glance(item$model)[['r.squared']] }) %>% \n",
    "    unlist %>% as.vector\n",
    "\n",
    "coeff.sample <- \n",
    "    runs %>% \n",
    "    map(function(item) { tidy(item$model) %>% select(term, estimate, p.value) }) %>%\n",
    "    bind_rows %>% arrange(term)\n",
    "\n",
    "summary(rmse.sample)\n",
    "summary(SalePrice.predictionError.sample)\n",
    "summary(r2.sample)\n",
    "\n",
    "coeff.sample %>% filter(term == 'OverallQual') %>% select(estimate) %>% summary\n",
    "coeff.sample %>% filter(term == 'Neighborhood.new') %>% select(estimate) %>% summary"
   ]
  },
  {
   "cell_type": "code",
   "execution_count": 36,
   "metadata": {},
   "outputs": [
    {
     "data": {
      "text/html": [
       "'BsmtFinSF1+Condition2.new+has_pool+MSZoning.new+Neighborhood.new+OverallCond+OverallQual+PoolArea+X1stFlrSF+X2ndFlrSF'"
      ],
      "text/latex": [
       "'BsmtFinSF1+Condition2.new+has\\_pool+MSZoning.new+Neighborhood.new+OverallCond+OverallQual+PoolArea+X1stFlrSF+X2ndFlrSF'"
      ],
      "text/markdown": [
       "'BsmtFinSF1+Condition2.new+has_pool+MSZoning.new+Neighborhood.new+OverallCond+OverallQual+PoolArea+X1stFlrSF+X2ndFlrSF'"
      ],
      "text/plain": [
       "[1] \"BsmtFinSF1+Condition2.new+has_pool+MSZoning.new+Neighborhood.new+OverallCond+OverallQual+PoolArea+X1stFlrSF+X2ndFlrSF\""
      ]
     },
     "metadata": {},
     "output_type": "display_data"
    }
   ],
   "source": [
    "coeff.sample <- fits %>% map(function(item) { tidy(item$model) }) %>% bind_rows\n",
    "coeff.sample %>% \n",
    "    arrange(term, estimate) %>% \n",
    "    group_by(term) %>% \n",
    "    mutate(n=n()) %>% \n",
    "    filter(p.value < 0.00000001, n == N) %>%\n",
    "    distinct(term) %>%\n",
    "    `[[`(1) %>% paste(collapse = '+')"
   ]
  },
  {
   "cell_type": "code",
   "execution_count": 160,
   "metadata": {},
   "outputs": [
    {
     "data": {
      "text/html": [
       "<table>\n",
       "<thead><tr><th scope=col>r.squared</th><th scope=col>adj.r.squared</th><th scope=col>sigma</th><th scope=col>statistic</th><th scope=col>p.value</th><th scope=col>df</th><th scope=col>logLik</th><th scope=col>AIC</th><th scope=col>BIC</th><th scope=col>deviance</th><th scope=col>df.residual</th></tr></thead>\n",
       "<tbody>\n",
       "\t<tr><td>0.8668367    </td><td>0.8651745    </td><td>0.1483862    </td><td>521.4895     </td><td>1.039939e-308</td><td>10           </td><td>362.4922     </td><td>-702.9843    </td><td>-652.4458    </td><td>15.87532     </td><td>721          </td></tr>\n",
       "</tbody>\n",
       "</table>\n"
      ],
      "text/latex": [
       "\\begin{tabular}{r|lllllllllll}\n",
       " r.squared & adj.r.squared & sigma & statistic & p.value & df & logLik & AIC & BIC & deviance & df.residual\\\\\n",
       "\\hline\n",
       "\t 0.8668367     & 0.8651745     & 0.1483862     & 521.4895      & 1.039939e-308 & 10            & 362.4922      & -702.9843     & -652.4458     & 15.87532      & 721          \\\\\n",
       "\\end{tabular}\n"
      ],
      "text/markdown": [
       "\n",
       "r.squared | adj.r.squared | sigma | statistic | p.value | df | logLik | AIC | BIC | deviance | df.residual | \n",
       "|---|\n",
       "| 0.8668367     | 0.8651745     | 0.1483862     | 521.4895      | 1.039939e-308 | 10            | 362.4922      | -702.9843     | -652.4458     | 15.87532      | 721           | \n",
       "\n",
       "\n"
      ],
      "text/plain": [
       "  r.squared adj.r.squared sigma     statistic p.value       df logLik  \n",
       "1 0.8668367 0.8651745     0.1483862 521.4895  1.039939e-308 10 362.4922\n",
       "  AIC       BIC       deviance df.residual\n",
       "1 -702.9843 -652.4458 15.87532 721        "
      ]
     },
     "metadata": {},
     "output_type": "display_data"
    },
    {
     "data": {
      "text/html": [
       "<table>\n",
       "<thead><tr><th scope=col>term</th><th scope=col>estimate</th><th scope=col>std.error</th><th scope=col>statistic</th><th scope=col>p.value</th></tr></thead>\n",
       "<tbody>\n",
       "\t<tr><td>(Intercept)     </td><td>0.51335179      </td><td>0.6846550006    </td><td> 0.7497963      </td><td>4.536220e-01    </td></tr>\n",
       "\t<tr><td>OverallQual     </td><td>0.08052613      </td><td>0.0069156870    </td><td>11.6439812      </td><td>7.804972e-29    </td></tr>\n",
       "\t<tr><td>Neighborhood.new</td><td>0.27587930      </td><td>0.0272502951    </td><td>10.1239013      </td><td>1.292317e-22    </td></tr>\n",
       "\t<tr><td>GrLivArea.log   </td><td>0.31553726      </td><td>0.0235967954    </td><td>13.3720388      </td><td>1.365706e-36    </td></tr>\n",
       "\t<tr><td>X1stFlrSF.log   </td><td>0.09243856      </td><td>0.0232050584    </td><td> 3.9835522      </td><td>7.478674e-05    </td></tr>\n",
       "\t<tr><td>BsmtFullBath    </td><td>0.06390370      </td><td>0.0113162861    </td><td> 5.6470563      </td><td>2.348617e-08    </td></tr>\n",
       "\t<tr><td>LotArea.log     </td><td>0.08222360      </td><td>0.0128285174    </td><td> 6.4094389      </td><td>2.638188e-10    </td></tr>\n",
       "\t<tr><td>has_central_air </td><td>0.16017446      </td><td>0.0221639189    </td><td> 7.2268112      </td><td>1.262187e-12    </td></tr>\n",
       "\t<tr><td>YearRemodAdd    </td><td>0.00187511      </td><td>0.0003446257    </td><td> 5.4410047      </td><td>7.264625e-08    </td></tr>\n",
       "\t<tr><td>GarageCars      </td><td>0.06376398      </td><td>0.0100036715    </td><td> 6.3740579      </td><td>3.284150e-10    </td></tr>\n",
       "</tbody>\n",
       "</table>\n"
      ],
      "text/latex": [
       "\\begin{tabular}{r|lllll}\n",
       " term & estimate & std.error & statistic & p.value\\\\\n",
       "\\hline\n",
       "\t (Intercept)      & 0.51335179       & 0.6846550006     &  0.7497963       & 4.536220e-01    \\\\\n",
       "\t OverallQual      & 0.08052613       & 0.0069156870     & 11.6439812       & 7.804972e-29    \\\\\n",
       "\t Neighborhood.new & 0.27587930       & 0.0272502951     & 10.1239013       & 1.292317e-22    \\\\\n",
       "\t GrLivArea.log    & 0.31553726       & 0.0235967954     & 13.3720388       & 1.365706e-36    \\\\\n",
       "\t X1stFlrSF.log    & 0.09243856       & 0.0232050584     &  3.9835522       & 7.478674e-05    \\\\\n",
       "\t BsmtFullBath     & 0.06390370       & 0.0113162861     &  5.6470563       & 2.348617e-08    \\\\\n",
       "\t LotArea.log      & 0.08222360       & 0.0128285174     &  6.4094389       & 2.638188e-10    \\\\\n",
       "\t has\\_central\\_air  & 0.16017446           & 0.0221639189         &  7.2268112           & 1.262187e-12        \\\\\n",
       "\t YearRemodAdd     & 0.00187511       & 0.0003446257     &  5.4410047       & 7.264625e-08    \\\\\n",
       "\t GarageCars       & 0.06376398       & 0.0100036715     &  6.3740579       & 3.284150e-10    \\\\\n",
       "\\end{tabular}\n"
      ],
      "text/markdown": [
       "\n",
       "term | estimate | std.error | statistic | p.value | \n",
       "|---|---|---|---|---|---|---|---|---|---|\n",
       "| (Intercept)      | 0.51335179       | 0.6846550006     |  0.7497963       | 4.536220e-01     | \n",
       "| OverallQual      | 0.08052613       | 0.0069156870     | 11.6439812       | 7.804972e-29     | \n",
       "| Neighborhood.new | 0.27587930       | 0.0272502951     | 10.1239013       | 1.292317e-22     | \n",
       "| GrLivArea.log    | 0.31553726       | 0.0235967954     | 13.3720388       | 1.365706e-36     | \n",
       "| X1stFlrSF.log    | 0.09243856       | 0.0232050584     |  3.9835522       | 7.478674e-05     | \n",
       "| BsmtFullBath     | 0.06390370       | 0.0113162861     |  5.6470563       | 2.348617e-08     | \n",
       "| LotArea.log      | 0.08222360       | 0.0128285174     |  6.4094389       | 2.638188e-10     | \n",
       "| has_central_air  | 0.16017446       | 0.0221639189     |  7.2268112       | 1.262187e-12     | \n",
       "| YearRemodAdd     | 0.00187511       | 0.0003446257     |  5.4410047       | 7.264625e-08     | \n",
       "| GarageCars       | 0.06376398       | 0.0100036715     |  6.3740579       | 3.284150e-10     | \n",
       "\n",
       "\n"
      ],
      "text/plain": [
       "   term             estimate   std.error    statistic  p.value     \n",
       "1  (Intercept)      0.51335179 0.6846550006  0.7497963 4.536220e-01\n",
       "2  OverallQual      0.08052613 0.0069156870 11.6439812 7.804972e-29\n",
       "3  Neighborhood.new 0.27587930 0.0272502951 10.1239013 1.292317e-22\n",
       "4  GrLivArea.log    0.31553726 0.0235967954 13.3720388 1.365706e-36\n",
       "5  X1stFlrSF.log    0.09243856 0.0232050584  3.9835522 7.478674e-05\n",
       "6  BsmtFullBath     0.06390370 0.0113162861  5.6470563 2.348617e-08\n",
       "7  LotArea.log      0.08222360 0.0128285174  6.4094389 2.638188e-10\n",
       "8  has_central_air  0.16017446 0.0221639189  7.2268112 1.262187e-12\n",
       "9  YearRemodAdd     0.00187511 0.0003446257  5.4410047 7.264625e-08\n",
       "10 GarageCars       0.06376398 0.0100036715  6.3740579 3.284150e-10"
      ]
     },
     "metadata": {},
     "output_type": "display_data"
    },
    {
     "data": {
      "text/html": [
       "0.141227969389379"
      ],
      "text/latex": [
       "0.141227969389379"
      ],
      "text/markdown": [
       "0.141227969389379"
      ],
      "text/plain": [
       "[1] 0.141228"
      ]
     },
     "metadata": {},
     "output_type": "display_data"
    },
    {
     "data": {
      "text/html": [
       "10.519395550725"
      ],
      "text/latex": [
       "10.519395550725"
      ],
      "text/markdown": [
       "10.519395550725"
      ],
      "text/plain": [
       "[1] 10.5194"
      ]
     },
     "metadata": {},
     "output_type": "display_data"
    }
   ],
   "source": [
    "df.tr <- \n",
    "    trainset.ready %>% \n",
    "    mutate(\n",
    "        GrLivArea.log = log(GrLivArea),\n",
    "        X1stFlrSF.log = log(X1stFlrSF),\n",
    "        X2ndFlrSF.log = log(X2ndFlrSF + 1),\n",
    "        LotArea.log = log(LotArea)\n",
    "    )\n",
    "\n",
    "df.te <- \n",
    "    testset.ready %>% \n",
    "    mutate(\n",
    "        GrLivArea.log = log(GrLivArea),\n",
    "        X1stFlrSF.log = log(X1stFlrSF),\n",
    "        X2ndFlrSF.log = log(X2ndFlrSF + 1),\n",
    "        LotArea.log = log(LotArea)\n",
    "    )\n",
    "\n",
    "model.lm <- lm(\n",
    "    sale_price_log ~ OverallQual+Neighborhood.new+GrLivArea.log+X1stFlrSF.log+BsmtFullBath+\n",
    "                     LotArea.log+has_central_air+YearRemodAdd+GarageCars, \n",
    "    data=df.tr)\n",
    "\n",
    "\n",
    "glance(model.lm)\n",
    "tidy(model.lm)\n",
    "\n",
    "y_predicted <- predict(model.lm, df.te) %>% as.vector\n",
    "y_actual <- testset %>% mutate(sale_price_log = log(SalePrice)) %>% select(sale_price_log) %>% `[[`(1)\n",
    "rmse(y_predicted, y_actual)\n",
    "\n",
    "sp_predicted <- y_predicted %>% exp\n",
    "sp_actual <- testset %>% select(SalePrice) %>% `[[`(1)\n",
    "mean(100 * abs(sp_actual - sp_predicted) / sp_actual)"
   ]
  },
  {
   "cell_type": "code",
   "execution_count": null,
   "metadata": {
    "collapsed": true
   },
   "outputs": [],
   "source": []
  },
  {
   "cell_type": "code",
   "execution_count": null,
   "metadata": {
    "collapsed": true
   },
   "outputs": [],
   "source": []
  },
  {
   "cell_type": "code",
   "execution_count": null,
   "metadata": {
    "collapsed": true
   },
   "outputs": [],
   "source": []
  },
  {
   "cell_type": "code",
   "execution_count": null,
   "metadata": {
    "collapsed": true
   },
   "outputs": [],
   "source": []
  },
  {
   "cell_type": "code",
   "execution_count": null,
   "metadata": {
    "collapsed": true
   },
   "outputs": [],
   "source": []
  },
  {
   "cell_type": "code",
   "execution_count": null,
   "metadata": {
    "collapsed": true
   },
   "outputs": [],
   "source": []
  },
  {
   "cell_type": "code",
   "execution_count": null,
   "metadata": {
    "collapsed": true
   },
   "outputs": [],
   "source": []
  },
  {
   "cell_type": "code",
   "execution_count": null,
   "metadata": {
    "collapsed": true
   },
   "outputs": [],
   "source": []
  },
  {
   "cell_type": "code",
   "execution_count": null,
   "metadata": {
    "collapsed": true
   },
   "outputs": [],
   "source": []
  },
  {
   "cell_type": "code",
   "execution_count": null,
   "metadata": {
    "collapsed": true
   },
   "outputs": [],
   "source": []
  },
  {
   "cell_type": "code",
   "execution_count": null,
   "metadata": {
    "collapsed": true
   },
   "outputs": [],
   "source": []
  }
 ],
 "metadata": {
  "kernelspec": {
   "display_name": "R",
   "language": "R",
   "name": "ir"
  },
  "language_info": {
   "codemirror_mode": "r",
   "file_extension": ".r",
   "mimetype": "text/x-r-source",
   "name": "R",
   "pygments_lexer": "r",
   "version": "3.4.2"
  }
 },
 "nbformat": 4,
 "nbformat_minor": 2
}
