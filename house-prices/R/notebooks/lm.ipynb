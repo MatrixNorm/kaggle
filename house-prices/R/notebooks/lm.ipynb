{
 "cells": [
  {
   "cell_type": "code",
   "execution_count": 1,
   "metadata": {},
   "outputs": [
    {
     "data": {
      "text/html": [
       "'/mnt/hdd/develop/kaggle/house-prices/R/R'"
      ],
      "text/latex": [
       "'/mnt/hdd/develop/kaggle/house-prices/R/R'"
      ],
      "text/markdown": [
       "'/mnt/hdd/develop/kaggle/house-prices/R/R'"
      ],
      "text/plain": [
       "[1] \"/mnt/hdd/develop/kaggle/house-prices/R/R\""
      ]
     },
     "metadata": {},
     "output_type": "display_data"
    }
   ],
   "source": [
    "setwd(paste0(Sys.getenv('ROOT'), '/R'))\n",
    "getwd()"
   ]
  },
  {
   "cell_type": "code",
   "execution_count": 30,
   "metadata": {},
   "outputs": [],
   "source": [
    "source('main.R')\n",
    "\n",
    "data <- kaggle.house$loadData()\n",
    "\n",
    "df.combined <- kaggle.house$getCombinedDataset(data$train, data$test) %>% (kaggle.house$na$fixAll)\n",
    "\n",
    "df.training.raw <- \n",
    "    df.combined %>% \n",
    "    filter(dataSource == \"train\") %>% \n",
    "    mutate(sale_price_log = log(SalePrice)) %>%\n",
    "    select(-dataSource, -SalePrice)\n",
    "    \n",
    "df.testing.raw  <- \n",
    "    df.combined %>% \n",
    "    filter(dataSource == \"test\") %>% \n",
    "    select(-dataSource, -SalePrice)\n",
    "\n",
    "tran.res <- kaggle.house$trans$doItAll(df.training.raw, df.testing.raw)\n",
    "df.training <- tran.res$df.training\n",
    "df.testing <- tran.res$df.testing\n",
    "\n",
    "# Should be only numeric columns\n",
    "stopifnot(0 == df.training %>% purrr::map(function (col) { !is.numeric(col) }) %>% unlist %>% sum)\n",
    "stopifnot(0 == df.testing %>% purrr::map(function (col) { !is.numeric(col) }) %>% unlist %>% sum)\n",
    "\n",
    "df.training2 <- \n",
    "    df.training %>% mutate(\n",
    "        BsmtFinSF2=log(BsmtFinSF2 + 1),\n",
    "        MiscVal=log(MiscVal + 1),\n",
    "        LotArea=log(LotArea + 1),\n",
    "        LowQualFinSF=log(LowQualFinSF + 1),\n",
    "        OpenPorchSF=log(OpenPorchSF + 1),\n",
    "        EnclosedPorch=log(EnclosedPorch + 1)\n",
    "    )\n",
    "df.testing2 <- \n",
    "    df.testing %>% mutate(\n",
    "        BsmtFinSF2=log(BsmtFinSF2 + 1),\n",
    "        MiscVal=log(MiscVal + 1),\n",
    "        LotArea=log(LotArea + 1),\n",
    "        LowQualFinSF=log(LowQualFinSF + 1),\n",
    "        OpenPorchSF=log(OpenPorchSF + 1),\n",
    "        EnclosedPorch=log(EnclosedPorch + 1)\n",
    "    )"
   ]
  },
  {
   "cell_type": "code",
   "execution_count": 32,
   "metadata": {},
   "outputs": [
    {
     "data": {
      "text/plain": [
       "\n",
       "Call:\n",
       "lm(formula = sale_price_log ~ ., data = df.training.train)\n",
       "\n",
       "Residuals:\n",
       "     Min       1Q   Median       3Q      Max \n",
       "-0.97293 -0.05842  0.00794  0.06647  0.40379 \n",
       "\n",
       "Coefficients: (2 not defined because of singularities)\n",
       "                         Estimate Std. Error t value Pr(>|t|)    \n",
       "(Intercept)             6.141e+00  8.540e+00   0.719 0.472366    \n",
       "LotFrontage             1.654e-04  1.670e-04   0.990 0.322561    \n",
       "LotArea                 1.381e-06  6.959e-07   1.984 0.047629 *  \n",
       "OverallQual             4.964e-02  7.134e-03   6.958 8.40e-12 ***\n",
       "OverallCond             5.099e-02  6.396e-03   7.972 6.99e-15 ***\n",
       "YearBuilt               1.086e-03  4.864e-04   2.234 0.025845 *  \n",
       "YearRemodAdd            7.126e-05  4.059e-04   0.176 0.860708    \n",
       "MasVnrArea             -2.125e-05  3.838e-05  -0.554 0.579866    \n",
       "BsmtFinSF1              1.012e-04  3.092e-05   3.272 0.001123 ** \n",
       "BsmtFinSF2              5.885e-05  3.999e-05   1.471 0.141638    \n",
       "BsmtUnfSF               3.480e-05  2.867e-05   1.214 0.225222    \n",
       "TotalBsmtSF                    NA         NA      NA       NA    \n",
       "X1stFlrSF               2.183e-04  3.730e-05   5.851 7.72e-09 ***\n",
       "X2ndFlrSF               1.786e-04  3.047e-05   5.863 7.23e-09 ***\n",
       "LowQualFinSF            1.907e-04  1.522e-04   1.253 0.210614    \n",
       "GrLivArea                      NA         NA      NA       NA    \n",
       "BsmtFullBath            4.785e-02  1.451e-02   3.297 0.001029 ** \n",
       "BsmtHalfBath            9.359e-03  2.053e-02   0.456 0.648710    \n",
       "FullBath                2.175e-02  1.572e-02   1.383 0.167020    \n",
       "HalfBath                3.270e-02  1.502e-02   2.177 0.029807 *  \n",
       "BedroomAbvGr            1.057e-02  1.001e-02   1.056 0.291419    \n",
       "KitchenAbvGr           -5.912e-02  3.602e-02  -1.641 0.101241    \n",
       "TotRmsAbvGrd            1.845e-02  6.909e-03   2.670 0.007768 ** \n",
       "Fireplaces              3.213e-02  1.473e-02   2.182 0.029460 *  \n",
       "GarageYrBlt            -4.044e-06  2.859e-05  -0.141 0.887560    \n",
       "GarageCars              3.831e-02  1.609e-02   2.380 0.017575 *  \n",
       "GarageArea              5.652e-05  5.183e-05   1.091 0.275873    \n",
       "WoodDeckSF              9.483e-05  4.502e-05   2.106 0.035554 *  \n",
       "OpenPorchSF            -1.579e-04  9.100e-05  -1.735 0.083209 .  \n",
       "EnclosedPorch           2.397e-04  9.383e-05   2.554 0.010870 *  \n",
       "X3SsnPorch              1.682e-04  1.594e-04   1.055 0.291736    \n",
       "ScreenPorch             3.612e-04  9.643e-05   3.746 0.000195 ***\n",
       "PoolArea                2.427e-02  2.302e-03  10.541  < 2e-16 ***\n",
       "MiscVal                 6.569e-05  5.439e-05   1.208 0.227572    \n",
       "MoSold                 -5.554e-04  1.879e-03  -0.296 0.767611    \n",
       "YrSold                 -4.208e-03  3.841e-03  -1.096 0.273630    \n",
       "has_alley_access        1.237e-02  2.600e-02   0.476 0.634443    \n",
       "has_central_air         6.950e-02  2.803e-02   2.479 0.013416 *  \n",
       "standard_electrical    -2.261e-02  2.099e-02  -1.077 0.281834    \n",
       "is_full_functional      7.287e-02  2.199e-02   3.313 0.000974 ***\n",
       "heating_air_furnace    -1.264e-02  3.904e-02  -0.324 0.746166    \n",
       "is_land_level           2.220e-02  2.015e-02   1.102 0.270871    \n",
       "is_slope                2.715e-02  2.736e-02   0.992 0.321534    \n",
       "is_lotshape_regular     1.774e-02  1.190e-02   1.491 0.136483    \n",
       "has_misc_feature       -2.237e-02  5.568e-02  -0.402 0.687949    \n",
       "has_paved_drive         2.243e-02  2.214e-02   1.013 0.311421    \n",
       "has_pool               -1.385e+01  1.254e+00 -11.047  < 2e-16 ***\n",
       "standard_roof_material -5.013e-02  4.049e-02  -1.238 0.216120    \n",
       "is_street_paved         7.207e-02  6.649e-02   1.084 0.278794    \n",
       "all_utilities           2.584e-01  1.397e-01   1.849 0.064908 .  \n",
       "BldgType.new            8.269e-02  1.190e-01   0.695 0.487559    \n",
       "BsmtCond.new           -4.042e-02  6.262e-02  -0.645 0.518861    \n",
       "BsmtExposure.new        1.039e-01  4.764e-02   2.181 0.029553 *  \n",
       "BsmtFinType1.new       -9.137e-03  4.131e-02  -0.221 0.825034    \n",
       "BsmtFinType2.new       -1.235e-02  8.348e-02  -0.148 0.882416    \n",
       "BsmtQual.new            5.622e-02  3.411e-02   1.648 0.099782 .  \n",
       "Condition1.new          2.479e-01  6.534e-02   3.794 0.000162 ***\n",
       "Condition2.new         -7.908e-01  1.421e-01  -5.564 3.86e-08 ***\n",
       "ExterCond.new           1.842e-02  6.729e-02   0.274 0.784413    \n",
       "ExterQual.new           1.088e-02  3.340e-02   0.326 0.744686    \n",
       "Exterior1st.new         9.308e-03  6.967e-02   0.134 0.893758    \n",
       "Exterior2nd.new         2.661e-02  7.475e-02   0.356 0.722008    \n",
       "Fence.new               1.040e-02  6.845e-02   0.152 0.879334    \n",
       "FireplaceQu.new         4.775e-03  4.706e-02   0.101 0.919218    \n",
       "Foundation.new          9.219e-02  4.111e-02   2.242 0.025271 *  \n",
       "GarageCond.new          2.138e-01  8.986e-02   2.379 0.017651 *  \n",
       "GarageFinish.new        1.233e-03  3.874e-02   0.032 0.974617    \n",
       "GarageQual.new         -8.656e-02  8.453e-02  -1.024 0.306174    \n",
       "GarageType.new         -2.916e-02  4.130e-02  -0.706 0.480386    \n",
       "HeatingQC.new           5.604e-02  4.016e-02   1.395 0.163385    \n",
       "HouseStyle.new         -1.310e-01  6.332e-02  -2.068 0.038989 *  \n",
       "KitchenQual.new         7.727e-02  3.195e-02   2.418 0.015862 *  \n",
       "LotConfig.new           2.918e-01  1.023e-01   2.853 0.004465 ** \n",
       "MasVnrType.new          3.784e-02  3.969e-02   0.953 0.340742    \n",
       "MSSubClass.new          3.572e-02  4.724e-02   0.756 0.449882    \n",
       "MSZoning.new            2.030e-01  4.168e-02   4.871 1.40e-06 ***\n",
       "Neighborhood.new        1.817e-01  3.132e-02   5.801 1.03e-08 ***\n",
       "RoofStyle.new           6.373e-02  1.234e-01   0.517 0.605634    \n",
       "SaleCondition.new       4.656e-01  8.015e-02   5.809 9.84e-09 ***\n",
       "SaleType.new           -3.309e-01  8.464e-02  -3.909 0.000102 ***\n",
       "---\n",
       "Signif. codes:  0 ‘***’ 0.001 ‘**’ 0.01 ‘*’ 0.05 ‘.’ 0.1 ‘ ’ 1\n",
       "\n",
       "Residual standard error: 0.1277 on 653 degrees of freedom\n",
       "Multiple R-squared:  0.9164,\tAdjusted R-squared:  0.9065 \n",
       "F-statistic: 92.91 on 77 and 653 DF,  p-value: < 2.2e-16\n"
      ]
     },
     "metadata": {},
     "output_type": "display_data"
    },
    {
     "data": {
      "text/plain": [
       "\n",
       "Call:\n",
       "lm(formula = sale_price_log ~ ., data = df.training2.train)\n",
       "\n",
       "Residuals:\n",
       "     Min       1Q   Median       3Q      Max \n",
       "-1.00213 -0.06121  0.00794  0.06605  0.40286 \n",
       "\n",
       "Coefficients: (4 not defined because of singularities)\n",
       "                         Estimate Std. Error t value Pr(>|t|)    \n",
       "(Intercept)             4.335e+00  8.560e+00   0.506 0.612731    \n",
       "LotFrontage             1.837e-04  1.676e-04   1.097 0.273218    \n",
       "LotArea                 1.889e-01  2.063e-01   0.916 0.360245    \n",
       "OverallQual             5.094e-02  7.159e-03   7.115 2.94e-12 ***\n",
       "OverallCond             4.990e-02  6.411e-03   7.783 2.77e-14 ***\n",
       "YearBuilt               6.466e-04  4.716e-04   1.371 0.170835    \n",
       "YearRemodAdd            1.286e-04  4.074e-04   0.316 0.752334    \n",
       "MasVnrArea             -1.408e-05  3.844e-05  -0.366 0.714330    \n",
       "BsmtFinSF1             -1.551e-04  1.287e-04  -1.204 0.228837    \n",
       "BsmtFinSF2             -7.922e-02  7.666e-02  -1.033 0.301828    \n",
       "BsmtUnfSF              -2.154e-04  1.294e-04  -1.665 0.096411 .  \n",
       "TotalBsmtSF             2.558e-04  1.330e-04   1.923 0.054854 .  \n",
       "X1stFlrSF               4.825e-05  1.541e-04   0.313 0.754325    \n",
       "X2ndFlrSF               1.338e-05  1.523e-04   0.088 0.930004    \n",
       "LowQualFinSF                   NA         NA      NA       NA    \n",
       "GrLivArea               1.691e-04  1.530e-04   1.105 0.269501    \n",
       "BsmtFullBath            5.196e-02  1.452e-02   3.579 0.000370 ***\n",
       "BsmtHalfBath            1.332e-02  2.061e-02   0.646 0.518353    \n",
       "FullBath                2.073e-02  1.581e-02   1.311 0.190252    \n",
       "HalfBath                2.800e-02  1.499e-02   1.868 0.062239 .  \n",
       "BedroomAbvGr            1.251e-02  1.003e-02   1.247 0.212729    \n",
       "KitchenAbvGr           -6.736e-02  3.621e-02  -1.860 0.063293 .  \n",
       "TotRmsAbvGrd            1.823e-02  6.948e-03   2.623 0.008917 ** \n",
       "Fireplaces              3.704e-02  1.450e-02   2.554 0.010884 *  \n",
       "GarageYrBlt            -1.266e-05  2.863e-05  -0.442 0.658620    \n",
       "GarageCars              4.056e-02  1.612e-02   2.517 0.012070 *  \n",
       "GarageArea              5.762e-05  5.175e-05   1.114 0.265889    \n",
       "WoodDeckSF              9.038e-05  4.485e-05   2.015 0.044279 *  \n",
       "OpenPorchSF                    NA         NA      NA       NA    \n",
       "EnclosedPorch                  NA         NA      NA       NA    \n",
       "X3SsnPorch              1.420e-04  1.608e-04   0.883 0.377656    \n",
       "ScreenPorch             3.116e-04  9.555e-05   3.261 0.001166 ** \n",
       "PoolArea                2.389e-02  2.308e-03  10.349  < 2e-16 ***\n",
       "MiscVal                        NA         NA      NA       NA    \n",
       "MoSold                 -8.670e-04  1.885e-03  -0.460 0.645685    \n",
       "YrSold                 -3.253e-03  3.852e-03  -0.844 0.398750    \n",
       "has_alley_access        1.179e-02  2.597e-02   0.454 0.650029    \n",
       "has_central_air         7.344e-02  2.817e-02   2.607 0.009344 ** \n",
       "standard_electrical    -1.833e-02  2.113e-02  -0.868 0.385978    \n",
       "is_full_functional      7.190e-02  2.215e-02   3.246 0.001229 ** \n",
       "heating_air_furnace    -8.954e-03  3.919e-02  -0.228 0.819344    \n",
       "is_land_level           1.837e-02  2.019e-02   0.910 0.363148    \n",
       "is_slope                3.754e-02  2.729e-02   1.376 0.169400    \n",
       "is_lotshape_regular     1.704e-02  1.195e-02   1.426 0.154376    \n",
       "has_misc_feature        4.112e-02  3.341e-02   1.231 0.218859    \n",
       "has_paved_drive         1.971e-02  2.224e-02   0.886 0.375919    \n",
       "has_pool               -1.364e+01  1.256e+00 -10.858  < 2e-16 ***\n",
       "standard_roof_material -5.133e-02  4.057e-02  -1.265 0.206227    \n",
       "is_street_paved         9.988e-02  6.612e-02   1.511 0.131367    \n",
       "all_utilities           2.514e-01  1.413e-01   1.779 0.075736 .  \n",
       "BldgType.new            9.496e-02  1.194e-01   0.795 0.426816    \n",
       "BsmtCond.new           -1.842e-02  6.398e-02  -0.288 0.773542    \n",
       "BsmtExposure.new        1.255e-01  4.788e-02   2.620 0.008988 ** \n",
       "BsmtFinType1.new       -4.851e-03  4.147e-02  -0.117 0.906906    \n",
       "BsmtFinType2.new       -8.458e-02  8.991e-02  -0.941 0.347159    \n",
       "BsmtQual.new            5.460e-02  3.421e-02   1.596 0.110961    \n",
       "Condition1.new          2.579e-01  6.582e-02   3.919 9.84e-05 ***\n",
       "Condition2.new         -7.632e-01  1.425e-01  -5.356 1.18e-07 ***\n",
       "ExterCond.new           3.875e-02  6.732e-02   0.576 0.565123    \n",
       "ExterQual.new           1.375e-02  3.351e-02   0.410 0.681775    \n",
       "Exterior1st.new         1.499e-02  7.010e-02   0.214 0.830761    \n",
       "Exterior2nd.new         1.577e-02  7.512e-02   0.210 0.833774    \n",
       "Fence.new               3.098e-02  6.821e-02   0.454 0.649888    \n",
       "FireplaceQu.new        -1.264e-02  4.668e-02  -0.271 0.786699    \n",
       "Foundation.new          8.684e-02  4.129e-02   2.103 0.035831 *  \n",
       "GarageCond.new          1.946e-01  9.018e-02   2.158 0.031267 *  \n",
       "GarageFinish.new        2.059e-04  3.892e-02   0.005 0.995781    \n",
       "GarageQual.new         -4.006e-02  8.395e-02  -0.477 0.633369    \n",
       "GarageType.new         -1.889e-02  4.143e-02  -0.456 0.648540    \n",
       "HeatingQC.new           5.565e-02  4.042e-02   1.377 0.169049    \n",
       "HouseStyle.new         -1.350e-01  6.368e-02  -2.120 0.034419 *  \n",
       "KitchenQual.new         6.701e-02  3.249e-02   2.063 0.039531 *  \n",
       "LotConfig.new           3.320e-01  1.000e-01   3.320 0.000952 ***\n",
       "MasVnrType.new          2.694e-02  3.981e-02   0.677 0.498796    \n",
       "MSSubClass.new          2.987e-02  4.737e-02   0.631 0.528512    \n",
       "MSZoning.new            2.081e-01  4.150e-02   5.015 6.85e-07 ***\n",
       "Neighborhood.new        1.878e-01  3.147e-02   5.968 3.93e-09 ***\n",
       "RoofStyle.new           2.512e-02  1.246e-01   0.202 0.840317    \n",
       "SaleCondition.new       4.820e-01  8.059e-02   5.981 3.66e-09 ***\n",
       "SaleType.new           -3.516e-01  8.495e-02  -4.139 3.94e-05 ***\n",
       "---\n",
       "Signif. codes:  0 ‘***’ 0.001 ‘**’ 0.01 ‘*’ 0.05 ‘.’ 0.1 ‘ ’ 1\n",
       "\n",
       "Residual standard error: 0.1285 on 655 degrees of freedom\n",
       "Multiple R-squared:  0.915,\tAdjusted R-squared:  0.9053 \n",
       "F-statistic: 94.07 on 75 and 655 DF,  p-value: < 2.2e-16\n"
      ]
     },
     "metadata": {},
     "output_type": "display_data"
    }
   ],
   "source": [
    "partition <- createDataPartition(y=df.training$sale_price_log, p=.5, list=F)\n",
    "\n",
    "df.training.train <- df.training[partition,]\n",
    "df.training.test <- df.training[-partition,]\n",
    "\n",
    "model_1 = lm(sale_price_log ~ ., data=df.training.train)\n",
    "summary(model_1)\n",
    "\n",
    "df.training2.train <- df.training2[partition,]\n",
    "df.training2.test <- df.training2[-partition,]\n",
    "\n",
    "model_2 = lm(sale_price_log ~ ., data=df.training2.train)\n",
    "summary(model_2)"
   ]
  },
  {
   "cell_type": "code",
   "execution_count": 28,
   "metadata": {},
   "outputs": [],
   "source": []
  },
  {
   "cell_type": "code",
   "execution_count": null,
   "metadata": {
    "collapsed": true
   },
   "outputs": [],
   "source": []
  },
  {
   "cell_type": "code",
   "execution_count": null,
   "metadata": {
    "collapsed": true
   },
   "outputs": [],
   "source": []
  },
  {
   "cell_type": "code",
   "execution_count": null,
   "metadata": {
    "collapsed": true
   },
   "outputs": [],
   "source": []
  },
  {
   "cell_type": "code",
   "execution_count": null,
   "metadata": {
    "collapsed": true
   },
   "outputs": [],
   "source": []
  },
  {
   "cell_type": "code",
   "execution_count": null,
   "metadata": {
    "collapsed": true
   },
   "outputs": [],
   "source": []
  },
  {
   "cell_type": "code",
   "execution_count": null,
   "metadata": {
    "collapsed": true
   },
   "outputs": [],
   "source": []
  },
  {
   "cell_type": "code",
   "execution_count": null,
   "metadata": {
    "collapsed": true
   },
   "outputs": [],
   "source": []
  },
  {
   "cell_type": "code",
   "execution_count": null,
   "metadata": {
    "collapsed": true
   },
   "outputs": [],
   "source": []
  },
  {
   "cell_type": "code",
   "execution_count": null,
   "metadata": {
    "collapsed": true
   },
   "outputs": [],
   "source": []
  },
  {
   "cell_type": "code",
   "execution_count": null,
   "metadata": {
    "collapsed": true
   },
   "outputs": [],
   "source": []
  },
  {
   "cell_type": "code",
   "execution_count": null,
   "metadata": {
    "collapsed": true
   },
   "outputs": [],
   "source": []
  }
 ],
 "metadata": {
  "kernelspec": {
   "display_name": "R",
   "language": "R",
   "name": "ir"
  },
  "language_info": {
   "codemirror_mode": "r",
   "file_extension": ".r",
   "mimetype": "text/x-r-source",
   "name": "R",
   "pygments_lexer": "r",
   "version": "3.4.2"
  }
 },
 "nbformat": 4,
 "nbformat_minor": 2
}
