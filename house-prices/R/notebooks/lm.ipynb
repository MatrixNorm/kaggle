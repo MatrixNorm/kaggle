{
 "cells": [
  {
   "cell_type": "code",
   "execution_count": 35,
   "metadata": {},
   "outputs": [
    {
     "data": {
      "text/html": [
       "'/mnt/hdd/develop/kaggle/house-prices/R/R'"
      ],
      "text/latex": [
       "'/mnt/hdd/develop/kaggle/house-prices/R/R'"
      ],
      "text/markdown": [
       "'/mnt/hdd/develop/kaggle/house-prices/R/R'"
      ],
      "text/plain": [
       "[1] \"/mnt/hdd/develop/kaggle/house-prices/R/R\""
      ]
     },
     "metadata": {},
     "output_type": "display_data"
    }
   ],
   "source": [
    "setwd(paste0(Sys.getenv('ROOT'), '/R'))\n",
    "getwd()"
   ]
  },
  {
   "cell_type": "code",
   "execution_count": 52,
   "metadata": {
    "collapsed": true
   },
   "outputs": [],
   "source": [
    "source('main.R')\n",
    "\n",
    "data <- kaggle.house$loadData()\n",
    "\n",
    "df.combined <- kaggle.house$getCombinedDataset(data$train, data$test) %>% (kaggle.house$na$fixAll)\n",
    "\n",
    "df.training <- \n",
    "    df.combined %>% \n",
    "    filter(dataSource == \"train\") %>% \n",
    "    mutate(sale_price_log = log(SalePrice)) %>%\n",
    "    select(-dataSource)"
   ]
  },
  {
   "cell_type": "code",
   "execution_count": 37,
   "metadata": {},
   "outputs": [
    {
     "data": {
      "text/html": [
       "'Testset RMSE of sale_price_log: 0.16778399878052'"
      ],
      "text/latex": [
       "'Testset RMSE of sale\\_price\\_log: 0.16778399878052'"
      ],
      "text/markdown": [
       "'Testset RMSE of sale_price_log: 0.16778399878052'"
      ],
      "text/plain": [
       "[1] \"Testset RMSE of sale_price_log: 0.16778399878052\""
      ]
     },
     "metadata": {},
     "output_type": "display_data"
    },
    {
     "data": {
      "text/html": [
       "'Testset SalePrice mean prediction error in %: 11.2637416973607'"
      ],
      "text/latex": [
       "'Testset SalePrice mean prediction error in \\%: 11.2637416973607'"
      ],
      "text/markdown": [
       "'Testset SalePrice mean prediction error in %: 11.2637416973607'"
      ],
      "text/plain": [
       "[1] \"Testset SalePrice mean prediction error in %: 11.2637416973607\""
      ]
     },
     "metadata": {},
     "output_type": "display_data"
    },
    {
     "data": {
      "text/html": [
       "<table>\n",
       "<thead><tr><th scope=col>r.squared</th><th scope=col>adj.r.squared</th><th scope=col>sigma</th><th scope=col>statistic</th><th scope=col>p.value</th><th scope=col>df</th><th scope=col>logLik</th><th scope=col>AIC</th><th scope=col>BIC</th><th scope=col>deviance</th><th scope=col>df.residual</th></tr></thead>\n",
       "<tbody>\n",
       "\t<tr><td>0.9399326</td><td>0.9328496</td><td>0.1002553</td><td>132.7028 </td><td>0        </td><td>78       </td><td>685.3234 </td><td>-1212.647</td><td>-849.6882</td><td>6.563385 </td><td>653      </td></tr>\n",
       "</tbody>\n",
       "</table>\n"
      ],
      "text/latex": [
       "\\begin{tabular}{r|lllllllllll}\n",
       " r.squared & adj.r.squared & sigma & statistic & p.value & df & logLik & AIC & BIC & deviance & df.residual\\\\\n",
       "\\hline\n",
       "\t 0.9399326 & 0.9328496 & 0.1002553 & 132.7028  & 0         & 78        & 685.3234  & -1212.647 & -849.6882 & 6.563385  & 653      \\\\\n",
       "\\end{tabular}\n"
      ],
      "text/markdown": [
       "\n",
       "r.squared | adj.r.squared | sigma | statistic | p.value | df | logLik | AIC | BIC | deviance | df.residual | \n",
       "|---|\n",
       "| 0.9399326 | 0.9328496 | 0.1002553 | 132.7028  | 0         | 78        | 685.3234  | -1212.647 | -849.6882 | 6.563385  | 653       | \n",
       "\n",
       "\n"
      ],
      "text/plain": [
       "  r.squared adj.r.squared sigma     statistic p.value df logLik   AIC      \n",
       "1 0.9399326 0.9328496     0.1002553 132.7028  0       78 685.3234 -1212.647\n",
       "  BIC       deviance df.residual\n",
       "1 -849.6882 6.563385 653        "
      ]
     },
     "metadata": {},
     "output_type": "display_data"
    },
    {
     "data": {
      "text/html": [
       "<table>\n",
       "<thead><tr><th scope=col>term</th><th scope=col>estimate</th><th scope=col>std.error</th><th scope=col>statistic</th><th scope=col>p.value</th></tr></thead>\n",
       "<tbody>\n",
       "\t<tr><td>X2ndFlrSF          </td><td> 2.377235e-04      </td><td>2.408838e-05       </td><td> 9.868802          </td><td>1.662192e-21       </td></tr>\n",
       "\t<tr><td>X1stFlrSF          </td><td> 2.630662e-04      </td><td>3.076407e-05       </td><td> 8.551084          </td><td>8.645254e-17       </td></tr>\n",
       "\t<tr><td>OverallCond        </td><td> 4.172092e-02      </td><td>5.119886e-03       </td><td> 8.148797          </td><td>1.875653e-15       </td></tr>\n",
       "\t<tr><td>OverallQual        </td><td> 4.258193e-02      </td><td>5.682838e-03       </td><td> 7.493076          </td><td>2.195593e-13       </td></tr>\n",
       "\t<tr><td>BsmtFinSF1         </td><td> 1.601635e-04      </td><td>2.793732e-05       </td><td> 5.732957          </td><td>1.508772e-08       </td></tr>\n",
       "\t<tr><td>Neighborhood.new   </td><td> 1.408396e-01      </td><td>2.487221e-02       </td><td> 5.662529          </td><td>2.235988e-08       </td></tr>\n",
       "\t<tr><td>MSZoning.new       </td><td> 1.856737e-01      </td><td>3.563519e-02       </td><td> 5.210403          </td><td>2.529998e-07       </td></tr>\n",
       "\t<tr><td>LotArea            </td><td> 2.389362e-06      </td><td>4.939044e-07       </td><td> 4.837701          </td><td>1.640212e-06       </td></tr>\n",
       "\t<tr><td>is_full_functional </td><td> 7.391372e-02      </td><td>1.817254e-02       </td><td> 4.067330          </td><td>5.336618e-05       </td></tr>\n",
       "\t<tr><td>BsmtUnfSF          </td><td> 9.636478e-05      </td><td>2.537551e-05       </td><td> 3.797550          </td><td>1.597592e-04       </td></tr>\n",
       "\t<tr><td>YearRemodAdd       </td><td> 1.199141e-03      </td><td>3.330415e-04       </td><td> 3.600575          </td><td>3.415950e-04       </td></tr>\n",
       "\t<tr><td>ScreenPorch        </td><td> 2.524495e-04      </td><td>7.451810e-05       </td><td> 3.387760          </td><td>7.469886e-04       </td></tr>\n",
       "\t<tr><td>SaleCondition.new  </td><td> 1.745944e-01      </td><td>5.335728e-02       </td><td> 3.272175          </td><td>1.123452e-03       </td></tr>\n",
       "\t<tr><td>KitchenQual.new    </td><td> 8.200579e-02      </td><td>2.588833e-02       </td><td> 3.167674          </td><td>1.608288e-03       </td></tr>\n",
       "\t<tr><td>Condition1.new     </td><td> 1.393757e-01      </td><td>5.396414e-02       </td><td> 2.582746          </td><td>1.001819e-02       </td></tr>\n",
       "\t<tr><td>HouseStyle.new     </td><td>-1.253792e-01      </td><td>4.897559e-02       </td><td>-2.560035          </td><td>1.069007e-02       </td></tr>\n",
       "\t<tr><td>has_central_air    </td><td> 4.713663e-02      </td><td>1.954738e-02       </td><td> 2.411404          </td><td>1.616622e-02       </td></tr>\n",
       "\t<tr><td>HeatingQC.new      </td><td> 7.600552e-02      </td><td>3.177348e-02       </td><td> 2.392105          </td><td>1.703383e-02       </td></tr>\n",
       "\t<tr><td>HalfBath           </td><td> 2.765852e-02      </td><td>1.188318e-02       </td><td> 2.327536          </td><td>2.024146e-02       </td></tr>\n",
       "\t<tr><td>all_utilities      </td><td> 2.526027e-01      </td><td>1.099768e-01       </td><td> 2.296872          </td><td>2.194168e-02       </td></tr>\n",
       "\t<tr><td>Exterior1st.new    </td><td> 1.284777e-01      </td><td>5.611354e-02       </td><td> 2.289603          </td><td>2.236251e-02       </td></tr>\n",
       "\t<tr><td>BsmtFinSF2         </td><td> 8.375014e-05      </td><td>3.686345e-05       </td><td> 2.271902          </td><td>2.341686e-02       </td></tr>\n",
       "\t<tr><td>PoolArea           </td><td> 1.666436e-03      </td><td>7.545693e-04       </td><td> 2.208460          </td><td>2.755887e-02       </td></tr>\n",
       "\t<tr><td>EnclosedPorch      </td><td> 1.543429e-04      </td><td>7.260013e-05       </td><td> 2.125931          </td><td>3.388358e-02       </td></tr>\n",
       "\t<tr><td>Fireplaces         </td><td> 2.518766e-02      </td><td>1.203850e-02       </td><td> 2.092259          </td><td>3.680089e-02       </td></tr>\n",
       "\t<tr><td>has_pool           </td><td>-1.004509e+00      </td><td>4.871333e-01       </td><td>-2.062083          </td><td>3.959494e-02       </td></tr>\n",
       "\t<tr><td>BsmtQual.new       </td><td> 5.689137e-02      </td><td>2.774696e-02       </td><td> 2.050364          </td><td>4.072763e-02       </td></tr>\n",
       "\t<tr><td>BsmtExposure.new   </td><td> 8.926346e-02      </td><td>4.493935e-02       </td><td> 1.986309          </td><td>4.741658e-02       </td></tr>\n",
       "\t<tr><td>standard_electrical</td><td>-3.031910e-02      </td><td>1.536382e-02       </td><td>-1.973409          </td><td>4.887018e-02       </td></tr>\n",
       "\t<tr><td>RoofStyle.new      </td><td> 1.265509e-01      </td><td>6.457395e-02       </td><td> 1.959783          </td><td>5.044616e-02       </td></tr>\n",
       "\t<tr><td>OpenPorchSF        </td><td> 1.182317e-04      </td><td>6.737919e-05       </td><td> 1.754722          </td><td>7.977585e-02       </td></tr>\n",
       "\t<tr><td>GarageCars         </td><td> 2.359456e-02      </td><td>1.417069e-02       </td><td> 1.665026          </td><td>9.638730e-02       </td></tr>\n",
       "</tbody>\n",
       "</table>\n"
      ],
      "text/latex": [
       "\\begin{tabular}{r|lllll}\n",
       " term & estimate & std.error & statistic & p.value\\\\\n",
       "\\hline\n",
       "\t X2ndFlrSF           &  2.377235e-04       & 2.408838e-05        &  9.868802           & 1.662192e-21       \\\\\n",
       "\t X1stFlrSF           &  2.630662e-04       & 3.076407e-05        &  8.551084           & 8.645254e-17       \\\\\n",
       "\t OverallCond         &  4.172092e-02       & 5.119886e-03        &  8.148797           & 1.875653e-15       \\\\\n",
       "\t OverallQual         &  4.258193e-02       & 5.682838e-03        &  7.493076           & 2.195593e-13       \\\\\n",
       "\t BsmtFinSF1          &  1.601635e-04       & 2.793732e-05        &  5.732957           & 1.508772e-08       \\\\\n",
       "\t Neighborhood.new    &  1.408396e-01       & 2.487221e-02        &  5.662529           & 2.235988e-08       \\\\\n",
       "\t MSZoning.new        &  1.856737e-01       & 3.563519e-02        &  5.210403           & 2.529998e-07       \\\\\n",
       "\t LotArea             &  2.389362e-06       & 4.939044e-07        &  4.837701           & 1.640212e-06       \\\\\n",
       "\t is\\_full\\_functional  &  7.391372e-02           & 1.817254e-02            &  4.067330               & 5.336618e-05           \\\\\n",
       "\t BsmtUnfSF           &  9.636478e-05       & 2.537551e-05        &  3.797550           & 1.597592e-04       \\\\\n",
       "\t YearRemodAdd        &  1.199141e-03       & 3.330415e-04        &  3.600575           & 3.415950e-04       \\\\\n",
       "\t ScreenPorch         &  2.524495e-04       & 7.451810e-05        &  3.387760           & 7.469886e-04       \\\\\n",
       "\t SaleCondition.new   &  1.745944e-01       & 5.335728e-02        &  3.272175           & 1.123452e-03       \\\\\n",
       "\t KitchenQual.new     &  8.200579e-02       & 2.588833e-02        &  3.167674           & 1.608288e-03       \\\\\n",
       "\t Condition1.new      &  1.393757e-01       & 5.396414e-02        &  2.582746           & 1.001819e-02       \\\\\n",
       "\t HouseStyle.new      & -1.253792e-01       & 4.897559e-02        & -2.560035           & 1.069007e-02       \\\\\n",
       "\t has\\_central\\_air     &  4.713663e-02           & 1.954738e-02            &  2.411404               & 1.616622e-02           \\\\\n",
       "\t HeatingQC.new       &  7.600552e-02       & 3.177348e-02        &  2.392105           & 1.703383e-02       \\\\\n",
       "\t HalfBath            &  2.765852e-02       & 1.188318e-02        &  2.327536           & 2.024146e-02       \\\\\n",
       "\t all\\_utilities       &  2.526027e-01         & 1.099768e-01          &  2.296872             & 2.194168e-02         \\\\\n",
       "\t Exterior1st.new     &  1.284777e-01       & 5.611354e-02        &  2.289603           & 2.236251e-02       \\\\\n",
       "\t BsmtFinSF2          &  8.375014e-05       & 3.686345e-05        &  2.271902           & 2.341686e-02       \\\\\n",
       "\t PoolArea            &  1.666436e-03       & 7.545693e-04        &  2.208460           & 2.755887e-02       \\\\\n",
       "\t EnclosedPorch       &  1.543429e-04       & 7.260013e-05        &  2.125931           & 3.388358e-02       \\\\\n",
       "\t Fireplaces          &  2.518766e-02       & 1.203850e-02        &  2.092259           & 3.680089e-02       \\\\\n",
       "\t has\\_pool            & -1.004509e+00         & 4.871333e-01          & -2.062083             & 3.959494e-02         \\\\\n",
       "\t BsmtQual.new        &  5.689137e-02       & 2.774696e-02        &  2.050364           & 4.072763e-02       \\\\\n",
       "\t BsmtExposure.new    &  8.926346e-02       & 4.493935e-02        &  1.986309           & 4.741658e-02       \\\\\n",
       "\t standard\\_electrical & -3.031910e-02         & 1.536382e-02          & -1.973409             & 4.887018e-02         \\\\\n",
       "\t RoofStyle.new       &  1.265509e-01       & 6.457395e-02        &  1.959783           & 5.044616e-02       \\\\\n",
       "\t OpenPorchSF         &  1.182317e-04       & 6.737919e-05        &  1.754722           & 7.977585e-02       \\\\\n",
       "\t GarageCars          &  2.359456e-02       & 1.417069e-02        &  1.665026           & 9.638730e-02       \\\\\n",
       "\\end{tabular}\n"
      ],
      "text/markdown": [
       "\n",
       "term | estimate | std.error | statistic | p.value | \n",
       "|---|---|---|---|---|---|---|---|---|---|---|---|---|---|---|---|---|---|---|---|---|---|---|---|---|---|---|---|---|---|---|---|\n",
       "| X2ndFlrSF           |  2.377235e-04       | 2.408838e-05        |  9.868802           | 1.662192e-21        | \n",
       "| X1stFlrSF           |  2.630662e-04       | 3.076407e-05        |  8.551084           | 8.645254e-17        | \n",
       "| OverallCond         |  4.172092e-02       | 5.119886e-03        |  8.148797           | 1.875653e-15        | \n",
       "| OverallQual         |  4.258193e-02       | 5.682838e-03        |  7.493076           | 2.195593e-13        | \n",
       "| BsmtFinSF1          |  1.601635e-04       | 2.793732e-05        |  5.732957           | 1.508772e-08        | \n",
       "| Neighborhood.new    |  1.408396e-01       | 2.487221e-02        |  5.662529           | 2.235988e-08        | \n",
       "| MSZoning.new        |  1.856737e-01       | 3.563519e-02        |  5.210403           | 2.529998e-07        | \n",
       "| LotArea             |  2.389362e-06       | 4.939044e-07        |  4.837701           | 1.640212e-06        | \n",
       "| is_full_functional  |  7.391372e-02       | 1.817254e-02        |  4.067330           | 5.336618e-05        | \n",
       "| BsmtUnfSF           |  9.636478e-05       | 2.537551e-05        |  3.797550           | 1.597592e-04        | \n",
       "| YearRemodAdd        |  1.199141e-03       | 3.330415e-04        |  3.600575           | 3.415950e-04        | \n",
       "| ScreenPorch         |  2.524495e-04       | 7.451810e-05        |  3.387760           | 7.469886e-04        | \n",
       "| SaleCondition.new   |  1.745944e-01       | 5.335728e-02        |  3.272175           | 1.123452e-03        | \n",
       "| KitchenQual.new     |  8.200579e-02       | 2.588833e-02        |  3.167674           | 1.608288e-03        | \n",
       "| Condition1.new      |  1.393757e-01       | 5.396414e-02        |  2.582746           | 1.001819e-02        | \n",
       "| HouseStyle.new      | -1.253792e-01       | 4.897559e-02        | -2.560035           | 1.069007e-02        | \n",
       "| has_central_air     |  4.713663e-02       | 1.954738e-02        |  2.411404           | 1.616622e-02        | \n",
       "| HeatingQC.new       |  7.600552e-02       | 3.177348e-02        |  2.392105           | 1.703383e-02        | \n",
       "| HalfBath            |  2.765852e-02       | 1.188318e-02        |  2.327536           | 2.024146e-02        | \n",
       "| all_utilities       |  2.526027e-01       | 1.099768e-01        |  2.296872           | 2.194168e-02        | \n",
       "| Exterior1st.new     |  1.284777e-01       | 5.611354e-02        |  2.289603           | 2.236251e-02        | \n",
       "| BsmtFinSF2          |  8.375014e-05       | 3.686345e-05        |  2.271902           | 2.341686e-02        | \n",
       "| PoolArea            |  1.666436e-03       | 7.545693e-04        |  2.208460           | 2.755887e-02        | \n",
       "| EnclosedPorch       |  1.543429e-04       | 7.260013e-05        |  2.125931           | 3.388358e-02        | \n",
       "| Fireplaces          |  2.518766e-02       | 1.203850e-02        |  2.092259           | 3.680089e-02        | \n",
       "| has_pool            | -1.004509e+00       | 4.871333e-01        | -2.062083           | 3.959494e-02        | \n",
       "| BsmtQual.new        |  5.689137e-02       | 2.774696e-02        |  2.050364           | 4.072763e-02        | \n",
       "| BsmtExposure.new    |  8.926346e-02       | 4.493935e-02        |  1.986309           | 4.741658e-02        | \n",
       "| standard_electrical | -3.031910e-02       | 1.536382e-02        | -1.973409           | 4.887018e-02        | \n",
       "| RoofStyle.new       |  1.265509e-01       | 6.457395e-02        |  1.959783           | 5.044616e-02        | \n",
       "| OpenPorchSF         |  1.182317e-04       | 6.737919e-05        |  1.754722           | 7.977585e-02        | \n",
       "| GarageCars          |  2.359456e-02       | 1.417069e-02        |  1.665026           | 9.638730e-02        | \n",
       "\n",
       "\n"
      ],
      "text/plain": [
       "   term                estimate      std.error    statistic p.value     \n",
       "1  X2ndFlrSF            2.377235e-04 2.408838e-05  9.868802 1.662192e-21\n",
       "2  X1stFlrSF            2.630662e-04 3.076407e-05  8.551084 8.645254e-17\n",
       "3  OverallCond          4.172092e-02 5.119886e-03  8.148797 1.875653e-15\n",
       "4  OverallQual          4.258193e-02 5.682838e-03  7.493076 2.195593e-13\n",
       "5  BsmtFinSF1           1.601635e-04 2.793732e-05  5.732957 1.508772e-08\n",
       "6  Neighborhood.new     1.408396e-01 2.487221e-02  5.662529 2.235988e-08\n",
       "7  MSZoning.new         1.856737e-01 3.563519e-02  5.210403 2.529998e-07\n",
       "8  LotArea              2.389362e-06 4.939044e-07  4.837701 1.640212e-06\n",
       "9  is_full_functional   7.391372e-02 1.817254e-02  4.067330 5.336618e-05\n",
       "10 BsmtUnfSF            9.636478e-05 2.537551e-05  3.797550 1.597592e-04\n",
       "11 YearRemodAdd         1.199141e-03 3.330415e-04  3.600575 3.415950e-04\n",
       "12 ScreenPorch          2.524495e-04 7.451810e-05  3.387760 7.469886e-04\n",
       "13 SaleCondition.new    1.745944e-01 5.335728e-02  3.272175 1.123452e-03\n",
       "14 KitchenQual.new      8.200579e-02 2.588833e-02  3.167674 1.608288e-03\n",
       "15 Condition1.new       1.393757e-01 5.396414e-02  2.582746 1.001819e-02\n",
       "16 HouseStyle.new      -1.253792e-01 4.897559e-02 -2.560035 1.069007e-02\n",
       "17 has_central_air      4.713663e-02 1.954738e-02  2.411404 1.616622e-02\n",
       "18 HeatingQC.new        7.600552e-02 3.177348e-02  2.392105 1.703383e-02\n",
       "19 HalfBath             2.765852e-02 1.188318e-02  2.327536 2.024146e-02\n",
       "20 all_utilities        2.526027e-01 1.099768e-01  2.296872 2.194168e-02\n",
       "21 Exterior1st.new      1.284777e-01 5.611354e-02  2.289603 2.236251e-02\n",
       "22 BsmtFinSF2           8.375014e-05 3.686345e-05  2.271902 2.341686e-02\n",
       "23 PoolArea             1.666436e-03 7.545693e-04  2.208460 2.755887e-02\n",
       "24 EnclosedPorch        1.543429e-04 7.260013e-05  2.125931 3.388358e-02\n",
       "25 Fireplaces           2.518766e-02 1.203850e-02  2.092259 3.680089e-02\n",
       "26 has_pool            -1.004509e+00 4.871333e-01 -2.062083 3.959494e-02\n",
       "27 BsmtQual.new         5.689137e-02 2.774696e-02  2.050364 4.072763e-02\n",
       "28 BsmtExposure.new     8.926346e-02 4.493935e-02  1.986309 4.741658e-02\n",
       "29 standard_electrical -3.031910e-02 1.536382e-02 -1.973409 4.887018e-02\n",
       "30 RoofStyle.new        1.265509e-01 6.457395e-02  1.959783 5.044616e-02\n",
       "31 OpenPorchSF          1.182317e-04 6.737919e-05  1.754722 7.977585e-02\n",
       "32 GarageCars           2.359456e-02 1.417069e-02  1.665026 9.638730e-02"
      ]
     },
     "metadata": {},
     "output_type": "display_data"
    }
   ],
   "source": [
    "set.seed(12345)\n",
    "\n",
    "partition <- caret::createDataPartition(y=df.training$sale_price_log, p=.5, list=F, times=1)\n",
    "trainset <- df.training[partition,] %>% select(-SalePrice)\n",
    "testset <- df.training[-partition,] %>% select(-sale_price_log)\n",
    "\n",
    "stopifnot(setdiff(trainset %>% colnames, testset %>% colnames) == 'sale_price_log')\n",
    "stopifnot(setdiff(testset %>% colnames, trainset %>% colnames) == 'SalePrice')\n",
    "\n",
    "tran.res <- kaggle.house$trans$doItAll(trainset, testset %>% select(-SalePrice))\n",
    "trainset.ready <- tran.res$trainset\n",
    "testset.ready <- tran.res$testset\n",
    "\n",
    "# Should be only numeric columns\n",
    "stopifnot(0 == trainset.ready %>% purrr::map(function (col) { !is.numeric(col) }) %>% unlist %>% sum)\n",
    "stopifnot(0 == testset.ready %>% purrr::map(function (col) { !is.numeric(col) }) %>% unlist %>% sum)\n",
    "\n",
    "stopifnot(setdiff(trainset.ready %>% colnames, testset.ready %>% colnames) == 'sale_price_log')\n",
    "stopifnot(setdiff(testset.ready %>% colnames, trainset.ready %>% colnames) == '')\n",
    "stopifnot( !('SalePrice' %in% colnames(testset.ready)) )\n",
    "\n",
    "model.lm <- lm(sale_price_log ~ ., data=trainset.ready)\n",
    "\n",
    "suppressWarnings({\n",
    "    y_test_predicted <- predict(model.lm, testset.ready) %>% as.vector\n",
    "    y_test_actual <- testset %>% mutate(sale_price_log = log(SalePrice)) %>% select(sale_price_log) %>% `[[`(1)\n",
    "})\n",
    "\n",
    "paste0(\"Testset RMSE of sale_price_log: \", \n",
    "       rmse(y_test_predicted, y_test_actual))\n",
    "\n",
    "sp_test_predicted <- y_test_predicted %>% exp\n",
    "sp_test_actual <- testset %>% select(SalePrice) %>% `[[`(1)\n",
    "\n",
    "paste0(\"Testset SalePrice mean prediction error in %: \", \n",
    "       mean(100 * abs(sp_test_actual - sp_test_predicted) / sp_test_actual))\n",
    "\n",
    "glance(model.lm)\n",
    "tidy(model.lm) %>% arrange(p.value) %>% filter(p.value < 0.1)"
   ]
  },
  {
   "cell_type": "code",
   "execution_count": 59,
   "metadata": {},
   "outputs": [],
   "source": [
    "set.seed(12345)\n",
    "source('main.R')\n",
    "suppressWarnings({\n",
    "    runs <- kaggle.house$validate$trainMany(\n",
    "        dataset=df.training, \n",
    "        N=50, \n",
    "        sample.share=0.8, \n",
    "        trainset.share=0.5, \n",
    "        modelFactory=function (df) {\n",
    "            lm(sale_price_log ~ ., data=df)\n",
    "        }\n",
    "    )\n",
    "})"
   ]
  },
  {
   "cell_type": "code",
   "execution_count": 49,
   "metadata": {},
   "outputs": [
    {
     "data": {
      "text/plain": [
       "   Min. 1st Qu.  Median    Mean 3rd Qu.    Max. \n",
       " 0.1161  0.1418  0.1517  0.1663  0.1714  0.4347 "
      ]
     },
     "metadata": {},
     "output_type": "display_data"
    },
    {
     "data": {
      "text/plain": [
       "    Min.  1st Qu.   Median     Mean  3rd Qu.     Max. \n",
       "   8.483    9.806   10.077   33.675   11.106 1151.956 "
      ]
     },
     "metadata": {},
     "output_type": "display_data"
    },
    {
     "data": {
      "text/plain": [
       "   Min. 1st Qu.  Median    Mean 3rd Qu.    Max. \n",
       " 0.8890  0.9176  0.9287  0.9268  0.9366  0.9482 "
      ]
     },
     "metadata": {},
     "output_type": "display_data"
    },
    {
     "data": {
      "text/plain": [
       "    estimate      \n",
       " Min.   :0.03378  \n",
       " 1st Qu.:0.04666  \n",
       " Median :0.05142  \n",
       " Mean   :0.05152  \n",
       " 3rd Qu.:0.05751  \n",
       " Max.   :0.06369  "
      ]
     },
     "metadata": {},
     "output_type": "display_data"
    },
    {
     "data": {
      "text/plain": [
       "    estimate        \n",
       " Min.   :2.135e-07  \n",
       " 1st Qu.:1.239e-06  \n",
       " Median :1.559e-06  \n",
       " Mean   :1.625e-06  \n",
       " 3rd Qu.:1.890e-06  \n",
       " Max.   :3.228e-06  "
      ]
     },
     "metadata": {},
     "output_type": "display_data"
    },
    {
     "data": {
      "text/plain": [
       "    estimate        \n",
       " Min.   :-0.002698  \n",
       " 1st Qu.: 0.044455  \n",
       " Median : 0.060826  \n",
       " Mean   : 0.060903  \n",
       " 3rd Qu.: 0.073960  \n",
       " Max.   : 0.135755  "
      ]
     },
     "metadata": {},
     "output_type": "display_data"
    },
    {
     "data": {
      "text/html": [
       "<table>\n",
       "<thead><tr><th scope=col>term</th></tr></thead>\n",
       "<tbody>\n",
       "\t<tr><td>BsmtFinSF1        </td></tr>\n",
       "\t<tr><td>BsmtFinSF2        </td></tr>\n",
       "\t<tr><td>BsmtFullBath      </td></tr>\n",
       "\t<tr><td>BsmtUnfSF         </td></tr>\n",
       "\t<tr><td>Condition1.new    </td></tr>\n",
       "\t<tr><td>Condition2.new    </td></tr>\n",
       "\t<tr><td>ExterCond.new     </td></tr>\n",
       "\t<tr><td>Exterior1st.new   </td></tr>\n",
       "\t<tr><td>Exterior2nd.new   </td></tr>\n",
       "\t<tr><td>GarageCars        </td></tr>\n",
       "\t<tr><td>has_pool          </td></tr>\n",
       "\t<tr><td>is_full_functional</td></tr>\n",
       "\t<tr><td>is_street_paved   </td></tr>\n",
       "\t<tr><td>LotArea           </td></tr>\n",
       "\t<tr><td>LowQualFinSF      </td></tr>\n",
       "\t<tr><td>MSZoning.new      </td></tr>\n",
       "\t<tr><td>Neighborhood.new  </td></tr>\n",
       "\t<tr><td>OverallCond       </td></tr>\n",
       "\t<tr><td>OverallQual       </td></tr>\n",
       "\t<tr><td>PoolArea          </td></tr>\n",
       "\t<tr><td>SaleCondition.new </td></tr>\n",
       "\t<tr><td>ScreenPorch       </td></tr>\n",
       "\t<tr><td>X1stFlrSF         </td></tr>\n",
       "\t<tr><td>X2ndFlrSF         </td></tr>\n",
       "</tbody>\n",
       "</table>\n"
      ],
      "text/latex": [
       "\\begin{tabular}{r|l}\n",
       " term\\\\\n",
       "\\hline\n",
       "\t BsmtFinSF1        \\\\\n",
       "\t BsmtFinSF2        \\\\\n",
       "\t BsmtFullBath      \\\\\n",
       "\t BsmtUnfSF         \\\\\n",
       "\t Condition1.new    \\\\\n",
       "\t Condition2.new    \\\\\n",
       "\t ExterCond.new     \\\\\n",
       "\t Exterior1st.new   \\\\\n",
       "\t Exterior2nd.new   \\\\\n",
       "\t GarageCars        \\\\\n",
       "\t has\\_pool          \\\\\n",
       "\t is\\_full\\_functional\\\\\n",
       "\t is\\_street\\_paved   \\\\\n",
       "\t LotArea           \\\\\n",
       "\t LowQualFinSF      \\\\\n",
       "\t MSZoning.new      \\\\\n",
       "\t Neighborhood.new  \\\\\n",
       "\t OverallCond       \\\\\n",
       "\t OverallQual       \\\\\n",
       "\t PoolArea          \\\\\n",
       "\t SaleCondition.new \\\\\n",
       "\t ScreenPorch       \\\\\n",
       "\t X1stFlrSF         \\\\\n",
       "\t X2ndFlrSF         \\\\\n",
       "\\end{tabular}\n"
      ],
      "text/markdown": [
       "\n",
       "term | \n",
       "|---|---|---|---|---|---|---|---|---|---|---|---|---|---|---|---|---|---|---|---|---|---|---|---|\n",
       "| BsmtFinSF1         | \n",
       "| BsmtFinSF2         | \n",
       "| BsmtFullBath       | \n",
       "| BsmtUnfSF          | \n",
       "| Condition1.new     | \n",
       "| Condition2.new     | \n",
       "| ExterCond.new      | \n",
       "| Exterior1st.new    | \n",
       "| Exterior2nd.new    | \n",
       "| GarageCars         | \n",
       "| has_pool           | \n",
       "| is_full_functional | \n",
       "| is_street_paved    | \n",
       "| LotArea            | \n",
       "| LowQualFinSF       | \n",
       "| MSZoning.new       | \n",
       "| Neighborhood.new   | \n",
       "| OverallCond        | \n",
       "| OverallQual        | \n",
       "| PoolArea           | \n",
       "| SaleCondition.new  | \n",
       "| ScreenPorch        | \n",
       "| X1stFlrSF          | \n",
       "| X2ndFlrSF          | \n",
       "\n",
       "\n"
      ],
      "text/plain": [
       "   term              \n",
       "1  BsmtFinSF1        \n",
       "2  BsmtFinSF2        \n",
       "3  BsmtFullBath      \n",
       "4  BsmtUnfSF         \n",
       "5  Condition1.new    \n",
       "6  Condition2.new    \n",
       "7  ExterCond.new     \n",
       "8  Exterior1st.new   \n",
       "9  Exterior2nd.new   \n",
       "10 GarageCars        \n",
       "11 has_pool          \n",
       "12 is_full_functional\n",
       "13 is_street_paved   \n",
       "14 LotArea           \n",
       "15 LowQualFinSF      \n",
       "16 MSZoning.new      \n",
       "17 Neighborhood.new  \n",
       "18 OverallCond       \n",
       "19 OverallQual       \n",
       "20 PoolArea          \n",
       "21 SaleCondition.new \n",
       "22 ScreenPorch       \n",
       "23 X1stFlrSF         \n",
       "24 X2ndFlrSF         "
      ]
     },
     "metadata": {},
     "output_type": "display_data"
    }
   ],
   "source": [
    "rmse.sample <- \n",
    "    runs %>%\n",
    "    map(function(item) { rmse(item$y_test_actual, item$y_test_predicted) }) %>% \n",
    "    unlist %>% as.vector\n",
    "\n",
    "SalePrice.predictionError.sample <- \n",
    "    runs %>%\n",
    "    map(function(item) { \n",
    "            actual <- item$y_test_actual\n",
    "            predicted <- item$y_test_predicted\n",
    "            mean(100 * abs(exp(actual) - exp(predicted)) / exp(actual)) \n",
    "    }) %>% \n",
    "    unlist %>% as.vector\n",
    "\n",
    "r2.sample <- \n",
    "    runs %>% \n",
    "    map(function(item) { glance(item$model)[['r.squared']] }) %>% \n",
    "    unlist %>% as.vector\n",
    "\n",
    "coeff.sample <- \n",
    "    runs %>% \n",
    "    map(function(item) { tidy(item$model) %>% select(term, estimate, p.value) }) %>%\n",
    "    bind_rows %>% arrange(term)\n",
    "\n",
    "summary(rmse.sample)\n",
    "summary(SalePrice.predictionError.sample)\n",
    "summary(r2.sample)\n",
    "\n",
    "coeff.sample %>% filter(term == 'OverallQual') %>% select(estimate) %>% summary\n",
    "coeff.sample %>% filter(term == 'LotArea') %>% select(estimate) %>% summary\n",
    "coeff.sample %>% filter(term == 'has_central_air') %>% select(estimate) %>% summary\n",
    "\n",
    "coeff.sample %>% \n",
    "    arrange(term, estimate) %>% \n",
    "    group_by(term) %>%\n",
    "    filter(p.value < 1e-5) %>%\n",
    "    mutate(n = n()) %>%\n",
    "    distinct(term)"
   ]
  },
  {
   "cell_type": "code",
   "execution_count": 160,
   "metadata": {},
   "outputs": [
    {
     "data": {
      "text/html": [
       "<table>\n",
       "<thead><tr><th scope=col>r.squared</th><th scope=col>adj.r.squared</th><th scope=col>sigma</th><th scope=col>statistic</th><th scope=col>p.value</th><th scope=col>df</th><th scope=col>logLik</th><th scope=col>AIC</th><th scope=col>BIC</th><th scope=col>deviance</th><th scope=col>df.residual</th></tr></thead>\n",
       "<tbody>\n",
       "\t<tr><td>0.8668367    </td><td>0.8651745    </td><td>0.1483862    </td><td>521.4895     </td><td>1.039939e-308</td><td>10           </td><td>362.4922     </td><td>-702.9843    </td><td>-652.4458    </td><td>15.87532     </td><td>721          </td></tr>\n",
       "</tbody>\n",
       "</table>\n"
      ],
      "text/latex": [
       "\\begin{tabular}{r|lllllllllll}\n",
       " r.squared & adj.r.squared & sigma & statistic & p.value & df & logLik & AIC & BIC & deviance & df.residual\\\\\n",
       "\\hline\n",
       "\t 0.8668367     & 0.8651745     & 0.1483862     & 521.4895      & 1.039939e-308 & 10            & 362.4922      & -702.9843     & -652.4458     & 15.87532      & 721          \\\\\n",
       "\\end{tabular}\n"
      ],
      "text/markdown": [
       "\n",
       "r.squared | adj.r.squared | sigma | statistic | p.value | df | logLik | AIC | BIC | deviance | df.residual | \n",
       "|---|\n",
       "| 0.8668367     | 0.8651745     | 0.1483862     | 521.4895      | 1.039939e-308 | 10            | 362.4922      | -702.9843     | -652.4458     | 15.87532      | 721           | \n",
       "\n",
       "\n"
      ],
      "text/plain": [
       "  r.squared adj.r.squared sigma     statistic p.value       df logLik  \n",
       "1 0.8668367 0.8651745     0.1483862 521.4895  1.039939e-308 10 362.4922\n",
       "  AIC       BIC       deviance df.residual\n",
       "1 -702.9843 -652.4458 15.87532 721        "
      ]
     },
     "metadata": {},
     "output_type": "display_data"
    },
    {
     "data": {
      "text/html": [
       "<table>\n",
       "<thead><tr><th scope=col>term</th><th scope=col>estimate</th><th scope=col>std.error</th><th scope=col>statistic</th><th scope=col>p.value</th></tr></thead>\n",
       "<tbody>\n",
       "\t<tr><td>(Intercept)     </td><td>0.51335179      </td><td>0.6846550006    </td><td> 0.7497963      </td><td>4.536220e-01    </td></tr>\n",
       "\t<tr><td>OverallQual     </td><td>0.08052613      </td><td>0.0069156870    </td><td>11.6439812      </td><td>7.804972e-29    </td></tr>\n",
       "\t<tr><td>Neighborhood.new</td><td>0.27587930      </td><td>0.0272502951    </td><td>10.1239013      </td><td>1.292317e-22    </td></tr>\n",
       "\t<tr><td>GrLivArea.log   </td><td>0.31553726      </td><td>0.0235967954    </td><td>13.3720388      </td><td>1.365706e-36    </td></tr>\n",
       "\t<tr><td>X1stFlrSF.log   </td><td>0.09243856      </td><td>0.0232050584    </td><td> 3.9835522      </td><td>7.478674e-05    </td></tr>\n",
       "\t<tr><td>BsmtFullBath    </td><td>0.06390370      </td><td>0.0113162861    </td><td> 5.6470563      </td><td>2.348617e-08    </td></tr>\n",
       "\t<tr><td>LotArea.log     </td><td>0.08222360      </td><td>0.0128285174    </td><td> 6.4094389      </td><td>2.638188e-10    </td></tr>\n",
       "\t<tr><td>has_central_air </td><td>0.16017446      </td><td>0.0221639189    </td><td> 7.2268112      </td><td>1.262187e-12    </td></tr>\n",
       "\t<tr><td>YearRemodAdd    </td><td>0.00187511      </td><td>0.0003446257    </td><td> 5.4410047      </td><td>7.264625e-08    </td></tr>\n",
       "\t<tr><td>GarageCars      </td><td>0.06376398      </td><td>0.0100036715    </td><td> 6.3740579      </td><td>3.284150e-10    </td></tr>\n",
       "</tbody>\n",
       "</table>\n"
      ],
      "text/latex": [
       "\\begin{tabular}{r|lllll}\n",
       " term & estimate & std.error & statistic & p.value\\\\\n",
       "\\hline\n",
       "\t (Intercept)      & 0.51335179       & 0.6846550006     &  0.7497963       & 4.536220e-01    \\\\\n",
       "\t OverallQual      & 0.08052613       & 0.0069156870     & 11.6439812       & 7.804972e-29    \\\\\n",
       "\t Neighborhood.new & 0.27587930       & 0.0272502951     & 10.1239013       & 1.292317e-22    \\\\\n",
       "\t GrLivArea.log    & 0.31553726       & 0.0235967954     & 13.3720388       & 1.365706e-36    \\\\\n",
       "\t X1stFlrSF.log    & 0.09243856       & 0.0232050584     &  3.9835522       & 7.478674e-05    \\\\\n",
       "\t BsmtFullBath     & 0.06390370       & 0.0113162861     &  5.6470563       & 2.348617e-08    \\\\\n",
       "\t LotArea.log      & 0.08222360       & 0.0128285174     &  6.4094389       & 2.638188e-10    \\\\\n",
       "\t has\\_central\\_air  & 0.16017446           & 0.0221639189         &  7.2268112           & 1.262187e-12        \\\\\n",
       "\t YearRemodAdd     & 0.00187511       & 0.0003446257     &  5.4410047       & 7.264625e-08    \\\\\n",
       "\t GarageCars       & 0.06376398       & 0.0100036715     &  6.3740579       & 3.284150e-10    \\\\\n",
       "\\end{tabular}\n"
      ],
      "text/markdown": [
       "\n",
       "term | estimate | std.error | statistic | p.value | \n",
       "|---|---|---|---|---|---|---|---|---|---|\n",
       "| (Intercept)      | 0.51335179       | 0.6846550006     |  0.7497963       | 4.536220e-01     | \n",
       "| OverallQual      | 0.08052613       | 0.0069156870     | 11.6439812       | 7.804972e-29     | \n",
       "| Neighborhood.new | 0.27587930       | 0.0272502951     | 10.1239013       | 1.292317e-22     | \n",
       "| GrLivArea.log    | 0.31553726       | 0.0235967954     | 13.3720388       | 1.365706e-36     | \n",
       "| X1stFlrSF.log    | 0.09243856       | 0.0232050584     |  3.9835522       | 7.478674e-05     | \n",
       "| BsmtFullBath     | 0.06390370       | 0.0113162861     |  5.6470563       | 2.348617e-08     | \n",
       "| LotArea.log      | 0.08222360       | 0.0128285174     |  6.4094389       | 2.638188e-10     | \n",
       "| has_central_air  | 0.16017446       | 0.0221639189     |  7.2268112       | 1.262187e-12     | \n",
       "| YearRemodAdd     | 0.00187511       | 0.0003446257     |  5.4410047       | 7.264625e-08     | \n",
       "| GarageCars       | 0.06376398       | 0.0100036715     |  6.3740579       | 3.284150e-10     | \n",
       "\n",
       "\n"
      ],
      "text/plain": [
       "   term             estimate   std.error    statistic  p.value     \n",
       "1  (Intercept)      0.51335179 0.6846550006  0.7497963 4.536220e-01\n",
       "2  OverallQual      0.08052613 0.0069156870 11.6439812 7.804972e-29\n",
       "3  Neighborhood.new 0.27587930 0.0272502951 10.1239013 1.292317e-22\n",
       "4  GrLivArea.log    0.31553726 0.0235967954 13.3720388 1.365706e-36\n",
       "5  X1stFlrSF.log    0.09243856 0.0232050584  3.9835522 7.478674e-05\n",
       "6  BsmtFullBath     0.06390370 0.0113162861  5.6470563 2.348617e-08\n",
       "7  LotArea.log      0.08222360 0.0128285174  6.4094389 2.638188e-10\n",
       "8  has_central_air  0.16017446 0.0221639189  7.2268112 1.262187e-12\n",
       "9  YearRemodAdd     0.00187511 0.0003446257  5.4410047 7.264625e-08\n",
       "10 GarageCars       0.06376398 0.0100036715  6.3740579 3.284150e-10"
      ]
     },
     "metadata": {},
     "output_type": "display_data"
    },
    {
     "data": {
      "text/html": [
       "0.141227969389379"
      ],
      "text/latex": [
       "0.141227969389379"
      ],
      "text/markdown": [
       "0.141227969389379"
      ],
      "text/plain": [
       "[1] 0.141228"
      ]
     },
     "metadata": {},
     "output_type": "display_data"
    },
    {
     "data": {
      "text/html": [
       "10.519395550725"
      ],
      "text/latex": [
       "10.519395550725"
      ],
      "text/markdown": [
       "10.519395550725"
      ],
      "text/plain": [
       "[1] 10.5194"
      ]
     },
     "metadata": {},
     "output_type": "display_data"
    }
   ],
   "source": [
    "df.tr <- \n",
    "    trainset.ready %>% \n",
    "    mutate(\n",
    "        GrLivArea.log = log(GrLivArea),\n",
    "        X1stFlrSF.log = log(X1stFlrSF),\n",
    "        X2ndFlrSF.log = log(X2ndFlrSF + 1),\n",
    "        LotArea.log = log(LotArea)\n",
    "    )\n",
    "\n",
    "df.te <- \n",
    "    testset.ready %>% \n",
    "    mutate(\n",
    "        GrLivArea.log = log(GrLivArea),\n",
    "        X1stFlrSF.log = log(X1stFlrSF),\n",
    "        X2ndFlrSF.log = log(X2ndFlrSF + 1),\n",
    "        LotArea.log = log(LotArea)\n",
    "    )\n",
    "\n",
    "model.lm <- lm(\n",
    "    sale_price_log ~ OverallQual+Neighborhood.new+GrLivArea.log+X1stFlrSF.log+BsmtFullBath+\n",
    "                     LotArea.log+has_central_air+YearRemodAdd+GarageCars, \n",
    "    data=df.tr)\n",
    "\n",
    "\n",
    "glance(model.lm)\n",
    "tidy(model.lm)\n",
    "\n",
    "y_predicted <- predict(model.lm, df.te) %>% as.vector\n",
    "y_actual <- testset %>% mutate(sale_price_log = log(SalePrice)) %>% select(sale_price_log) %>% `[[`(1)\n",
    "rmse(y_predicted, y_actual)\n",
    "\n",
    "sp_predicted <- y_predicted %>% exp\n",
    "sp_actual <- testset %>% select(SalePrice) %>% `[[`(1)\n",
    "mean(100 * abs(sp_actual - sp_predicted) / sp_actual)"
   ]
  },
  {
   "cell_type": "code",
   "execution_count": null,
   "metadata": {
    "collapsed": true
   },
   "outputs": [],
   "source": []
  },
  {
   "cell_type": "code",
   "execution_count": null,
   "metadata": {
    "collapsed": true
   },
   "outputs": [],
   "source": []
  },
  {
   "cell_type": "code",
   "execution_count": null,
   "metadata": {
    "collapsed": true
   },
   "outputs": [],
   "source": []
  },
  {
   "cell_type": "code",
   "execution_count": null,
   "metadata": {
    "collapsed": true
   },
   "outputs": [],
   "source": []
  },
  {
   "cell_type": "code",
   "execution_count": null,
   "metadata": {
    "collapsed": true
   },
   "outputs": [],
   "source": []
  },
  {
   "cell_type": "code",
   "execution_count": null,
   "metadata": {
    "collapsed": true
   },
   "outputs": [],
   "source": []
  },
  {
   "cell_type": "code",
   "execution_count": null,
   "metadata": {
    "collapsed": true
   },
   "outputs": [],
   "source": []
  },
  {
   "cell_type": "code",
   "execution_count": null,
   "metadata": {
    "collapsed": true
   },
   "outputs": [],
   "source": []
  },
  {
   "cell_type": "code",
   "execution_count": null,
   "metadata": {
    "collapsed": true
   },
   "outputs": [],
   "source": []
  },
  {
   "cell_type": "code",
   "execution_count": null,
   "metadata": {
    "collapsed": true
   },
   "outputs": [],
   "source": []
  },
  {
   "cell_type": "code",
   "execution_count": null,
   "metadata": {
    "collapsed": true
   },
   "outputs": [],
   "source": []
  }
 ],
 "metadata": {
  "kernelspec": {
   "display_name": "R",
   "language": "R",
   "name": "ir"
  },
  "language_info": {
   "codemirror_mode": "r",
   "file_extension": ".r",
   "mimetype": "text/x-r-source",
   "name": "R",
   "pygments_lexer": "r",
   "version": "3.4.2"
  }
 },
 "nbformat": 4,
 "nbformat_minor": 2
}
