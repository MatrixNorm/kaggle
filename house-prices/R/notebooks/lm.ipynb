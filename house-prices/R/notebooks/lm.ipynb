{
 "cells": [
  {
   "cell_type": "code",
   "execution_count": 1,
   "metadata": {},
   "outputs": [
    {
     "data": {
      "text/html": [
       "'/mnt/hdd/develop/kaggle/house-prices/R/R'"
      ],
      "text/latex": [
       "'/mnt/hdd/develop/kaggle/house-prices/R/R'"
      ],
      "text/markdown": [
       "'/mnt/hdd/develop/kaggle/house-prices/R/R'"
      ],
      "text/plain": [
       "[1] \"/mnt/hdd/develop/kaggle/house-prices/R/R\""
      ]
     },
     "metadata": {},
     "output_type": "display_data"
    }
   ],
   "source": [
    "setwd(paste0(Sys.getenv('ROOT'), '/R'))\n",
    "getwd()"
   ]
  },
  {
   "cell_type": "code",
   "execution_count": 3,
   "metadata": {},
   "outputs": [],
   "source": [
    "library(Metrics)\n",
    "source('main.R')\n",
    "\n",
    "data <- kaggle.house$loadData()\n",
    "\n",
    "df.combined <- kaggle.house$getCombinedDataset(data$train, data$test) %>% (kaggle.house$na$fixAll)\n",
    "\n",
    "df.training <- \n",
    "    df.combined %>% \n",
    "    filter(dataSource == \"train\") %>% \n",
    "    mutate(sale_price_log = log(SalePrice)) %>%\n",
    "    select(-dataSource)"
   ]
  },
  {
   "cell_type": "code",
   "execution_count": 4,
   "metadata": {},
   "outputs": [
    {
     "data": {
      "text/html": [
       "'sale_price_log'"
      ],
      "text/latex": [
       "'sale\\_price\\_log'"
      ],
      "text/markdown": [
       "'sale_price_log'"
      ],
      "text/plain": [
       "[1] \"sale_price_log\""
      ]
     },
     "metadata": {},
     "output_type": "display_data"
    },
    {
     "data": {
      "text/html": [
       "'SalePrice'"
      ],
      "text/latex": [
       "'SalePrice'"
      ],
      "text/markdown": [
       "'SalePrice'"
      ],
      "text/plain": [
       "[1] \"SalePrice\""
      ]
     },
     "metadata": {},
     "output_type": "display_data"
    }
   ],
   "source": [
    "partition <- caret::createDataPartition(y=df.training$sale_price_log, p=.5, list=F, times=1)\n",
    "\n",
    "trainset <- df.training[partition,] %>% select(-SalePrice)\n",
    "\n",
    "testset <- df.training[-partition,] %>% select(-sale_price_log)\n",
    "\n",
    "setdiff(trainset %>% colnames, testset %>% colnames)\n",
    "setdiff(testset %>% colnames, trainset %>% colnames)"
   ]
  },
  {
   "cell_type": "code",
   "execution_count": 5,
   "metadata": {},
   "outputs": [
    {
     "data": {
      "text/html": [
       "<ol class=list-inline>\n",
       "\t<li>731</li>\n",
       "\t<li>729</li>\n",
       "</ol>\n"
      ],
      "text/latex": [
       "\\begin{enumerate*}\n",
       "\\item 731\n",
       "\\item 729\n",
       "\\end{enumerate*}\n"
      ],
      "text/markdown": [
       "1. 731\n",
       "2. 729\n",
       "\n",
       "\n"
      ],
      "text/plain": [
       "[1] 731 729"
      ]
     },
     "metadata": {},
     "output_type": "display_data"
    },
    {
     "data": {
      "text/html": [
       "<ol class=list-inline>\n",
       "\t<li>'1. '</li>\n",
       "\t<li>'sale_price_log'</li>\n",
       "</ol>\n"
      ],
      "text/latex": [
       "\\begin{enumerate*}\n",
       "\\item '1. '\n",
       "\\item 'sale\\_price\\_log'\n",
       "\\end{enumerate*}\n"
      ],
      "text/markdown": [
       "1. '1. '\n",
       "2. 'sale_price_log'\n",
       "\n",
       "\n"
      ],
      "text/plain": [
       "[1] \"1. \"            \"sale_price_log\""
      ]
     },
     "metadata": {},
     "output_type": "display_data"
    },
    {
     "data": {
      "text/html": [
       "'2. '"
      ],
      "text/latex": [
       "'2. '"
      ],
      "text/markdown": [
       "'2. '"
      ],
      "text/plain": [
       "[1] \"2. \""
      ]
     },
     "metadata": {},
     "output_type": "display_data"
    }
   ],
   "source": [
    "tran.res <- kaggle.house$trans$doItAll(trainset, testset %>% select(-SalePrice))\n",
    "trainset.ready <- tran.res$df.training\n",
    "testset.ready <- tran.res$df.testing\n",
    "\n",
    "# Should be only numeric columns\n",
    "stopifnot(0 == trainset.ready %>% purrr::map(function (col) { !is.numeric(col) }) %>% unlist %>% sum)\n",
    "stopifnot(0 == testset.ready %>% purrr::map(function (col) { !is.numeric(col) }) %>% unlist %>% sum)\n",
    "\n",
    "c(trainset.ready %>% nrow, testset.ready %>% nrow)\n",
    "\n",
    "c('1. ', setdiff(trainset.ready %>% colnames, testset.ready %>% colnames))\n",
    "c('2. ', setdiff(testset.ready %>% colnames, trainset.ready %>% colnames))"
   ]
  },
  {
   "cell_type": "code",
   "execution_count": 6,
   "metadata": {},
   "outputs": [
    {
     "data": {
      "text/html": [
       "<table>\n",
       "<thead><tr><th scope=col>BldgType</th><th scope=col>median(log(SalePrice))</th></tr></thead>\n",
       "<tbody>\n",
       "\t<tr><td>1Fam    </td><td>12.03112</td></tr>\n",
       "\t<tr><td>2fmCon  </td><td>11.72597</td></tr>\n",
       "\t<tr><td>Duplex  </td><td>11.75587</td></tr>\n",
       "\t<tr><td>Twnhs   </td><td>11.73318</td></tr>\n",
       "\t<tr><td>TwnhsE  </td><td>12.02719</td></tr>\n",
       "</tbody>\n",
       "</table>\n"
      ],
      "text/latex": [
       "\\begin{tabular}{r|ll}\n",
       " BldgType & median(log(SalePrice))\\\\\n",
       "\\hline\n",
       "\t 1Fam     & 12.03112\\\\\n",
       "\t 2fmCon   & 11.72597\\\\\n",
       "\t Duplex   & 11.75587\\\\\n",
       "\t Twnhs    & 11.73318\\\\\n",
       "\t TwnhsE   & 12.02719\\\\\n",
       "\\end{tabular}\n"
      ],
      "text/markdown": [
       "\n",
       "BldgType | median(log(SalePrice)) | \n",
       "|---|---|---|---|---|\n",
       "| 1Fam     | 12.03112 | \n",
       "| 2fmCon   | 11.72597 | \n",
       "| Duplex   | 11.75587 | \n",
       "| Twnhs    | 11.73318 | \n",
       "| TwnhsE   | 12.02719 | \n",
       "\n",
       "\n"
      ],
      "text/plain": [
       "  BldgType median(log(SalePrice))\n",
       "1 1Fam     12.03112              \n",
       "2 2fmCon   11.72597              \n",
       "3 Duplex   11.75587              \n",
       "4 Twnhs    11.73318              \n",
       "5 TwnhsE   12.02719              "
      ]
     },
     "metadata": {},
     "output_type": "display_data"
    },
    {
     "data": {
      "text/html": [
       "<table>\n",
       "<thead><tr><th scope=col>BldgType</th><th scope=col>min(BldgType.new)</th><th scope=col>max(BldgType.new)</th></tr></thead>\n",
       "<tbody>\n",
       "\t<tr><td>1Fam    </td><td>12.02874</td><td>12.02874</td></tr>\n",
       "\t<tr><td>2fmCon  </td><td>11.81967</td><td>11.81967</td></tr>\n",
       "\t<tr><td>Duplex  </td><td>11.82704</td><td>11.82704</td></tr>\n",
       "\t<tr><td>Twnhs   </td><td>11.90834</td><td>11.90834</td></tr>\n",
       "\t<tr><td>TwnhsE  </td><td>12.06681</td><td>12.06681</td></tr>\n",
       "</tbody>\n",
       "</table>\n"
      ],
      "text/latex": [
       "\\begin{tabular}{r|lll}\n",
       " BldgType & min(BldgType.new) & max(BldgType.new)\\\\\n",
       "\\hline\n",
       "\t 1Fam     & 12.02874 & 12.02874\\\\\n",
       "\t 2fmCon   & 11.81967 & 11.81967\\\\\n",
       "\t Duplex   & 11.82704 & 11.82704\\\\\n",
       "\t Twnhs    & 11.90834 & 11.90834\\\\\n",
       "\t TwnhsE   & 12.06681 & 12.06681\\\\\n",
       "\\end{tabular}\n"
      ],
      "text/markdown": [
       "\n",
       "BldgType | min(BldgType.new) | max(BldgType.new) | \n",
       "|---|---|---|---|---|\n",
       "| 1Fam     | 12.02874 | 12.02874 | \n",
       "| 2fmCon   | 11.81967 | 11.81967 | \n",
       "| Duplex   | 11.82704 | 11.82704 | \n",
       "| Twnhs    | 11.90834 | 11.90834 | \n",
       "| TwnhsE   | 12.06681 | 12.06681 | \n",
       "\n",
       "\n"
      ],
      "text/plain": [
       "  BldgType min(BldgType.new) max(BldgType.new)\n",
       "1 1Fam     12.02874          12.02874         \n",
       "2 2fmCon   11.81967          11.81967         \n",
       "3 Duplex   11.82704          11.82704         \n",
       "4 Twnhs    11.90834          11.90834         \n",
       "5 TwnhsE   12.06681          12.06681         "
      ]
     },
     "metadata": {},
     "output_type": "display_data"
    }
   ],
   "source": [
    "# sanity check\n",
    "\n",
    "testset %>% group_by(BldgType) %>% summarise(median(log(SalePrice)))\n",
    "\n",
    "cbind(testset.ready %>% select(BldgType.new), testset %>% select(BldgType)) %>% \n",
    "    group_by(BldgType) %>% summarise(min(BldgType.new), max(BldgType.new))\n"
   ]
  },
  {
   "cell_type": "code",
   "execution_count": 14,
   "metadata": {},
   "outputs": [
    {
     "name": "stderr",
     "output_type": "stream",
     "text": [
      "Warning message in predict.lm(model.lm, testset.ready):\n",
      "“prediction from a rank-deficient fit may be misleading”"
     ]
    },
    {
     "data": {
      "text/html": [
       "'Testset RMSE of sale_price_log: 0.164441396534423'"
      ],
      "text/latex": [
       "'Testset RMSE of sale\\_price\\_log: 0.164441396534423'"
      ],
      "text/markdown": [
       "'Testset RMSE of sale_price_log: 0.164441396534423'"
      ],
      "text/plain": [
       "[1] \"Testset RMSE of sale_price_log: 0.164441396534423\""
      ]
     },
     "metadata": {},
     "output_type": "display_data"
    },
    {
     "data": {
      "text/html": [
       "'Testset SalePrice mean prediction error in %: 10.9175977723496'"
      ],
      "text/latex": [
       "'Testset SalePrice mean prediction error in \\%: 10.9175977723496'"
      ],
      "text/markdown": [
       "'Testset SalePrice mean prediction error in %: 10.9175977723496'"
      ],
      "text/plain": [
       "[1] \"Testset SalePrice mean prediction error in %: 10.9175977723496\""
      ]
     },
     "metadata": {},
     "output_type": "display_data"
    },
    {
     "data": {
      "text/html": [
       "<table>\n",
       "<thead><tr><th scope=col>r.squared</th><th scope=col>adj.r.squared</th><th scope=col>sigma</th><th scope=col>statistic</th><th scope=col>p.value</th><th scope=col>df</th><th scope=col>logLik</th><th scope=col>AIC</th><th scope=col>BIC</th><th scope=col>deviance</th><th scope=col>df.residual</th></tr></thead>\n",
       "<tbody>\n",
       "\t<tr><td>0.9198736    </td><td>0.9105622    </td><td>0.1183822    </td><td>98.79078     </td><td>9.916579e-310</td><td>77           </td><td>563.2732     </td><td>-970.5464    </td><td>-612.1822    </td><td>9.165379     </td><td>654          </td></tr>\n",
       "</tbody>\n",
       "</table>\n"
      ],
      "text/latex": [
       "\\begin{tabular}{r|lllllllllll}\n",
       " r.squared & adj.r.squared & sigma & statistic & p.value & df & logLik & AIC & BIC & deviance & df.residual\\\\\n",
       "\\hline\n",
       "\t 0.9198736     & 0.9105622     & 0.1183822     & 98.79078      & 9.916579e-310 & 77            & 563.2732      & -970.5464     & -612.1822     & 9.165379      & 654          \\\\\n",
       "\\end{tabular}\n"
      ],
      "text/markdown": [
       "\n",
       "r.squared | adj.r.squared | sigma | statistic | p.value | df | logLik | AIC | BIC | deviance | df.residual | \n",
       "|---|\n",
       "| 0.9198736     | 0.9105622     | 0.1183822     | 98.79078      | 9.916579e-310 | 77            | 563.2732      | -970.5464     | -612.1822     | 9.165379      | 654           | \n",
       "\n",
       "\n"
      ],
      "text/plain": [
       "  r.squared adj.r.squared sigma     statistic p.value       df logLik  \n",
       "1 0.9198736 0.9105622     0.1183822 98.79078  9.916579e-310 77 563.2732\n",
       "  AIC       BIC       deviance df.residual\n",
       "1 -970.5464 -612.1822 9.165379 654        "
      ]
     },
     "metadata": {},
     "output_type": "display_data"
    },
    {
     "data": {
      "text/html": [
       "<table>\n",
       "<thead><tr><th scope=col>term</th><th scope=col>estimate</th><th scope=col>std.error</th><th scope=col>statistic</th><th scope=col>p.value</th></tr></thead>\n",
       "<tbody>\n",
       "\t<tr><td>has_pool              </td><td>-3.915731e+00         </td><td>4.461804e-01          </td><td>-8.776115             </td><td>1.466269e-17          </td></tr>\n",
       "\t<tr><td>PoolArea              </td><td> 6.295255e-03         </td><td>7.462382e-04          </td><td> 8.435986             </td><td>2.104228e-16          </td></tr>\n",
       "\t<tr><td>OverallQual           </td><td> 5.372890e-02         </td><td>6.740840e-03          </td><td> 7.970654             </td><td>7.043781e-15          </td></tr>\n",
       "\t<tr><td>X2ndFlrSF             </td><td> 1.993465e-04         </td><td>2.587912e-05          </td><td> 7.702988             </td><td>4.939619e-14          </td></tr>\n",
       "\t<tr><td>X1stFlrSF             </td><td> 2.666292e-04         </td><td>3.507409e-05          </td><td> 7.601886             </td><td>1.016644e-13          </td></tr>\n",
       "\t<tr><td>OverallCond           </td><td> 4.046574e-02         </td><td>5.699261e-03          </td><td> 7.100173             </td><td>3.257721e-12          </td></tr>\n",
       "\t<tr><td>Neighborhood.new      </td><td> 1.982228e-01         </td><td>2.952735e-02          </td><td> 6.713195             </td><td>4.134913e-11          </td></tr>\n",
       "\t<tr><td>Condition1.new        </td><td> 2.402280e-01         </td><td>4.573909e-02          </td><td> 5.252138             </td><td>2.036153e-07          </td></tr>\n",
       "\t<tr><td>GarageCars            </td><td> 6.607362e-02         </td><td>1.483146e-02          </td><td> 4.454963             </td><td>9.869009e-06          </td></tr>\n",
       "\t<tr><td>MSZoning.new          </td><td> 1.688297e-01         </td><td>3.964042e-02          </td><td> 4.259028             </td><td>2.354441e-05          </td></tr>\n",
       "\t<tr><td>standard_roof_material</td><td> 1.374265e-01         </td><td>3.614225e-02          </td><td> 3.802378             </td><td>1.567222e-04          </td></tr>\n",
       "\t<tr><td>has_central_air       </td><td> 9.890447e-02         </td><td>2.686668e-02          </td><td> 3.681305             </td><td>2.511854e-04          </td></tr>\n",
       "\t<tr><td>BsmtFullBath          </td><td> 4.744566e-02         </td><td>1.328835e-02          </td><td> 3.570471             </td><td>3.824641e-04          </td></tr>\n",
       "\t<tr><td>is_street_paved       </td><td> 2.771223e-01         </td><td>8.431702e-02          </td><td> 3.286671             </td><td>1.068007e-03          </td></tr>\n",
       "\t<tr><td>BsmtExposure.new      </td><td> 1.392000e-01         </td><td>4.309334e-02          </td><td> 3.230199             </td><td>1.299017e-03          </td></tr>\n",
       "\t<tr><td>LotArea               </td><td> 1.317137e-06         </td><td>4.671576e-07          </td><td> 2.819470             </td><td>4.955913e-03          </td></tr>\n",
       "\t<tr><td>HouseStyle.new        </td><td>-1.437974e-01         </td><td>5.498586e-02          </td><td>-2.615170             </td><td>9.123916e-03          </td></tr>\n",
       "\t<tr><td>ScreenPorch           </td><td> 2.388500e-04         </td><td>9.393896e-05          </td><td> 2.542608             </td><td>1.123222e-02          </td></tr>\n",
       "\t<tr><td>MiscVal               </td><td> 1.326789e-04         </td><td>5.625257e-05          </td><td> 2.358628             </td><td>1.863583e-02          </td></tr>\n",
       "\t<tr><td>KitchenQual.new       </td><td> 6.496869e-02         </td><td>2.850475e-02          </td><td> 2.279223             </td><td>2.297515e-02          </td></tr>\n",
       "\t<tr><td>standard_electrical   </td><td>-4.438979e-02         </td><td>1.951175e-02          </td><td>-2.275029             </td><td>2.322700e-02          </td></tr>\n",
       "\t<tr><td>MSSubClass.new        </td><td> 8.698971e-02         </td><td>3.972796e-02          </td><td> 2.189634             </td><td>2.890334e-02          </td></tr>\n",
       "\t<tr><td>HalfBath              </td><td> 2.876003e-02         </td><td>1.348207e-02          </td><td> 2.133206             </td><td>3.327943e-02          </td></tr>\n",
       "\t<tr><td>GarageYrBlt           </td><td>-4.084112e-05         </td><td>2.057374e-05          </td><td>-1.985109             </td><td>4.754961e-02          </td></tr>\n",
       "\t<tr><td>WoodDeckSF            </td><td> 7.647542e-05         </td><td>4.070114e-05          </td><td> 1.878950             </td><td>6.069577e-02          </td></tr>\n",
       "\t<tr><td>is_slope              </td><td> 5.007052e-02         </td><td>2.667672e-02          </td><td> 1.876937             </td><td>6.097173e-02          </td></tr>\n",
       "\t<tr><td>SaleCondition.new     </td><td> 9.898370e-02         </td><td>5.565041e-02          </td><td> 1.778670             </td><td>7.575834e-02          </td></tr>\n",
       "\t<tr><td>Foundation.new        </td><td> 6.913947e-02         </td><td>3.963769e-02          </td><td> 1.744286             </td><td>8.157902e-02          </td></tr>\n",
       "\t<tr><td>HeatingQC.new         </td><td> 6.171467e-02         </td><td>3.565501e-02          </td><td> 1.730883             </td><td>8.394422e-02          </td></tr>\n",
       "\t<tr><td>FireplaceQu.new       </td><td> 8.258909e-02         </td><td>4.844063e-02          </td><td> 1.704955             </td><td>8.867770e-02          </td></tr>\n",
       "\t<tr><td>has_misc_feature      </td><td>-8.176556e-02         </td><td>4.801934e-02          </td><td>-1.702763             </td><td>8.908759e-02          </td></tr>\n",
       "</tbody>\n",
       "</table>\n"
      ],
      "text/latex": [
       "\\begin{tabular}{r|lllll}\n",
       " term & estimate & std.error & statistic & p.value\\\\\n",
       "\\hline\n",
       "\t has\\_pool               & -3.915731e+00            & 4.461804e-01             & -8.776115                & 1.466269e-17            \\\\\n",
       "\t PoolArea               &  6.295255e-03          & 7.462382e-04           &  8.435986              & 2.104228e-16          \\\\\n",
       "\t OverallQual            &  5.372890e-02          & 6.740840e-03           &  7.970654              & 7.043781e-15          \\\\\n",
       "\t X2ndFlrSF              &  1.993465e-04          & 2.587912e-05           &  7.702988              & 4.939619e-14          \\\\\n",
       "\t X1stFlrSF              &  2.666292e-04          & 3.507409e-05           &  7.601886              & 1.016644e-13          \\\\\n",
       "\t OverallCond            &  4.046574e-02          & 5.699261e-03           &  7.100173              & 3.257721e-12          \\\\\n",
       "\t Neighborhood.new       &  1.982228e-01          & 2.952735e-02           &  6.713195              & 4.134913e-11          \\\\\n",
       "\t Condition1.new         &  2.402280e-01          & 4.573909e-02           &  5.252138              & 2.036153e-07          \\\\\n",
       "\t GarageCars             &  6.607362e-02          & 1.483146e-02           &  4.454963              & 9.869009e-06          \\\\\n",
       "\t MSZoning.new           &  1.688297e-01          & 3.964042e-02           &  4.259028              & 2.354441e-05          \\\\\n",
       "\t standard\\_roof\\_material &  1.374265e-01              & 3.614225e-02               &  3.802378                  & 1.567222e-04              \\\\\n",
       "\t has\\_central\\_air        &  9.890447e-02              & 2.686668e-02               &  3.681305                  & 2.511854e-04              \\\\\n",
       "\t BsmtFullBath           &  4.744566e-02          & 1.328835e-02           &  3.570471              & 3.824641e-04          \\\\\n",
       "\t is\\_street\\_paved        &  2.771223e-01              & 8.431702e-02               &  3.286671                  & 1.068007e-03              \\\\\n",
       "\t BsmtExposure.new       &  1.392000e-01          & 4.309334e-02           &  3.230199              & 1.299017e-03          \\\\\n",
       "\t LotArea                &  1.317137e-06          & 4.671576e-07           &  2.819470              & 4.955913e-03          \\\\\n",
       "\t HouseStyle.new         & -1.437974e-01          & 5.498586e-02           & -2.615170              & 9.123916e-03          \\\\\n",
       "\t ScreenPorch            &  2.388500e-04          & 9.393896e-05           &  2.542608              & 1.123222e-02          \\\\\n",
       "\t MiscVal                &  1.326789e-04          & 5.625257e-05           &  2.358628              & 1.863583e-02          \\\\\n",
       "\t KitchenQual.new        &  6.496869e-02          & 2.850475e-02           &  2.279223              & 2.297515e-02          \\\\\n",
       "\t standard\\_electrical    & -4.438979e-02            & 1.951175e-02             & -2.275029                & 2.322700e-02            \\\\\n",
       "\t MSSubClass.new         &  8.698971e-02          & 3.972796e-02           &  2.189634              & 2.890334e-02          \\\\\n",
       "\t HalfBath               &  2.876003e-02          & 1.348207e-02           &  2.133206              & 3.327943e-02          \\\\\n",
       "\t GarageYrBlt            & -4.084112e-05          & 2.057374e-05           & -1.985109              & 4.754961e-02          \\\\\n",
       "\t WoodDeckSF             &  7.647542e-05          & 4.070114e-05           &  1.878950              & 6.069577e-02          \\\\\n",
       "\t is\\_slope               &  5.007052e-02            & 2.667672e-02             &  1.876937                & 6.097173e-02            \\\\\n",
       "\t SaleCondition.new      &  9.898370e-02          & 5.565041e-02           &  1.778670              & 7.575834e-02          \\\\\n",
       "\t Foundation.new         &  6.913947e-02          & 3.963769e-02           &  1.744286              & 8.157902e-02          \\\\\n",
       "\t HeatingQC.new          &  6.171467e-02          & 3.565501e-02           &  1.730883              & 8.394422e-02          \\\\\n",
       "\t FireplaceQu.new        &  8.258909e-02          & 4.844063e-02           &  1.704955              & 8.867770e-02          \\\\\n",
       "\t has\\_misc\\_feature       & -8.176556e-02              & 4.801934e-02               & -1.702763                  & 8.908759e-02              \\\\\n",
       "\\end{tabular}\n"
      ],
      "text/markdown": [
       "\n",
       "term | estimate | std.error | statistic | p.value | \n",
       "|---|---|---|---|---|---|---|---|---|---|---|---|---|---|---|---|---|---|---|---|---|---|---|---|---|---|---|---|---|---|---|\n",
       "| has_pool               | -3.915731e+00          | 4.461804e-01           | -8.776115              | 1.466269e-17           | \n",
       "| PoolArea               |  6.295255e-03          | 7.462382e-04           |  8.435986              | 2.104228e-16           | \n",
       "| OverallQual            |  5.372890e-02          | 6.740840e-03           |  7.970654              | 7.043781e-15           | \n",
       "| X2ndFlrSF              |  1.993465e-04          | 2.587912e-05           |  7.702988              | 4.939619e-14           | \n",
       "| X1stFlrSF              |  2.666292e-04          | 3.507409e-05           |  7.601886              | 1.016644e-13           | \n",
       "| OverallCond            |  4.046574e-02          | 5.699261e-03           |  7.100173              | 3.257721e-12           | \n",
       "| Neighborhood.new       |  1.982228e-01          | 2.952735e-02           |  6.713195              | 4.134913e-11           | \n",
       "| Condition1.new         |  2.402280e-01          | 4.573909e-02           |  5.252138              | 2.036153e-07           | \n",
       "| GarageCars             |  6.607362e-02          | 1.483146e-02           |  4.454963              | 9.869009e-06           | \n",
       "| MSZoning.new           |  1.688297e-01          | 3.964042e-02           |  4.259028              | 2.354441e-05           | \n",
       "| standard_roof_material |  1.374265e-01          | 3.614225e-02           |  3.802378              | 1.567222e-04           | \n",
       "| has_central_air        |  9.890447e-02          | 2.686668e-02           |  3.681305              | 2.511854e-04           | \n",
       "| BsmtFullBath           |  4.744566e-02          | 1.328835e-02           |  3.570471              | 3.824641e-04           | \n",
       "| is_street_paved        |  2.771223e-01          | 8.431702e-02           |  3.286671              | 1.068007e-03           | \n",
       "| BsmtExposure.new       |  1.392000e-01          | 4.309334e-02           |  3.230199              | 1.299017e-03           | \n",
       "| LotArea                |  1.317137e-06          | 4.671576e-07           |  2.819470              | 4.955913e-03           | \n",
       "| HouseStyle.new         | -1.437974e-01          | 5.498586e-02           | -2.615170              | 9.123916e-03           | \n",
       "| ScreenPorch            |  2.388500e-04          | 9.393896e-05           |  2.542608              | 1.123222e-02           | \n",
       "| MiscVal                |  1.326789e-04          | 5.625257e-05           |  2.358628              | 1.863583e-02           | \n",
       "| KitchenQual.new        |  6.496869e-02          | 2.850475e-02           |  2.279223              | 2.297515e-02           | \n",
       "| standard_electrical    | -4.438979e-02          | 1.951175e-02           | -2.275029              | 2.322700e-02           | \n",
       "| MSSubClass.new         |  8.698971e-02          | 3.972796e-02           |  2.189634              | 2.890334e-02           | \n",
       "| HalfBath               |  2.876003e-02          | 1.348207e-02           |  2.133206              | 3.327943e-02           | \n",
       "| GarageYrBlt            | -4.084112e-05          | 2.057374e-05           | -1.985109              | 4.754961e-02           | \n",
       "| WoodDeckSF             |  7.647542e-05          | 4.070114e-05           |  1.878950              | 6.069577e-02           | \n",
       "| is_slope               |  5.007052e-02          | 2.667672e-02           |  1.876937              | 6.097173e-02           | \n",
       "| SaleCondition.new      |  9.898370e-02          | 5.565041e-02           |  1.778670              | 7.575834e-02           | \n",
       "| Foundation.new         |  6.913947e-02          | 3.963769e-02           |  1.744286              | 8.157902e-02           | \n",
       "| HeatingQC.new          |  6.171467e-02          | 3.565501e-02           |  1.730883              | 8.394422e-02           | \n",
       "| FireplaceQu.new        |  8.258909e-02          | 4.844063e-02           |  1.704955              | 8.867770e-02           | \n",
       "| has_misc_feature       | -8.176556e-02          | 4.801934e-02           | -1.702763              | 8.908759e-02           | \n",
       "\n",
       "\n"
      ],
      "text/plain": [
       "   term                   estimate      std.error    statistic p.value     \n",
       "1  has_pool               -3.915731e+00 4.461804e-01 -8.776115 1.466269e-17\n",
       "2  PoolArea                6.295255e-03 7.462382e-04  8.435986 2.104228e-16\n",
       "3  OverallQual             5.372890e-02 6.740840e-03  7.970654 7.043781e-15\n",
       "4  X2ndFlrSF               1.993465e-04 2.587912e-05  7.702988 4.939619e-14\n",
       "5  X1stFlrSF               2.666292e-04 3.507409e-05  7.601886 1.016644e-13\n",
       "6  OverallCond             4.046574e-02 5.699261e-03  7.100173 3.257721e-12\n",
       "7  Neighborhood.new        1.982228e-01 2.952735e-02  6.713195 4.134913e-11\n",
       "8  Condition1.new          2.402280e-01 4.573909e-02  5.252138 2.036153e-07\n",
       "9  GarageCars              6.607362e-02 1.483146e-02  4.454963 9.869009e-06\n",
       "10 MSZoning.new            1.688297e-01 3.964042e-02  4.259028 2.354441e-05\n",
       "11 standard_roof_material  1.374265e-01 3.614225e-02  3.802378 1.567222e-04\n",
       "12 has_central_air         9.890447e-02 2.686668e-02  3.681305 2.511854e-04\n",
       "13 BsmtFullBath            4.744566e-02 1.328835e-02  3.570471 3.824641e-04\n",
       "14 is_street_paved         2.771223e-01 8.431702e-02  3.286671 1.068007e-03\n",
       "15 BsmtExposure.new        1.392000e-01 4.309334e-02  3.230199 1.299017e-03\n",
       "16 LotArea                 1.317137e-06 4.671576e-07  2.819470 4.955913e-03\n",
       "17 HouseStyle.new         -1.437974e-01 5.498586e-02 -2.615170 9.123916e-03\n",
       "18 ScreenPorch             2.388500e-04 9.393896e-05  2.542608 1.123222e-02\n",
       "19 MiscVal                 1.326789e-04 5.625257e-05  2.358628 1.863583e-02\n",
       "20 KitchenQual.new         6.496869e-02 2.850475e-02  2.279223 2.297515e-02\n",
       "21 standard_electrical    -4.438979e-02 1.951175e-02 -2.275029 2.322700e-02\n",
       "22 MSSubClass.new          8.698971e-02 3.972796e-02  2.189634 2.890334e-02\n",
       "23 HalfBath                2.876003e-02 1.348207e-02  2.133206 3.327943e-02\n",
       "24 GarageYrBlt            -4.084112e-05 2.057374e-05 -1.985109 4.754961e-02\n",
       "25 WoodDeckSF              7.647542e-05 4.070114e-05  1.878950 6.069577e-02\n",
       "26 is_slope                5.007052e-02 2.667672e-02  1.876937 6.097173e-02\n",
       "27 SaleCondition.new       9.898370e-02 5.565041e-02  1.778670 7.575834e-02\n",
       "28 Foundation.new          6.913947e-02 3.963769e-02  1.744286 8.157902e-02\n",
       "29 HeatingQC.new           6.171467e-02 3.565501e-02  1.730883 8.394422e-02\n",
       "30 FireplaceQu.new         8.258909e-02 4.844063e-02  1.704955 8.867770e-02\n",
       "31 has_misc_feature       -8.176556e-02 4.801934e-02 -1.702763 8.908759e-02"
      ]
     },
     "metadata": {},
     "output_type": "display_data"
    }
   ],
   "source": [
    "model.lm <- lm(sale_price_log ~ ., data=trainset.ready)\n",
    "\n",
    "y_predicted <- predict(model.lm, testset.ready) %>% as.vector\n",
    "y_actual <- testset %>% mutate(sale_price_log = log(SalePrice)) %>% select(sale_price_log) %>% `[[`(1)\n",
    "\n",
    "paste0(\"Testset RMSE of sale_price_log: \", rmse(y_predicted, y_actual))\n",
    "\n",
    "sp_predicted <- y_predicted %>% exp\n",
    "sp_actual <- testset %>% select(SalePrice) %>% `[[`(1)\n",
    "\n",
    "paste0(\"Testset SalePrice mean prediction error in %: \", mean(100 * abs(sp_actual - sp_predicted) / sp_actual))\n",
    "\n",
    "glance(model.lm)\n",
    "tidy(model.lm) %>% arrange(p.value) %>% filter(p.value < 0.1)"
   ]
  },
  {
   "cell_type": "code",
   "execution_count": 30,
   "metadata": {},
   "outputs": [
    {
     "data": {
      "text/html": [
       "1095"
      ],
      "text/latex": [
       "1095"
      ],
      "text/markdown": [
       "1095"
      ],
      "text/plain": [
       "[1] 1095"
      ]
     },
     "metadata": {},
     "output_type": "display_data"
    },
    {
     "data": {
      "text/html": [
       "659"
      ],
      "text/latex": [
       "659"
      ],
      "text/markdown": [
       "659"
      ],
      "text/plain": [
       "[1] 659"
      ]
     },
     "metadata": {},
     "output_type": "display_data"
    }
   ],
   "source": [
    "sample.data <- df.training %>% sample_n(round(0.75 * nrow(df.training)))\n",
    "sample.data %>% nrow\n",
    "N = 3\n",
    "partitions <- caret::createDataPartition(y=sample.data$sale_price_log, p=.6, list=F, times=N) %>% \n",
    "                as.data.frame %>% as.list\n",
    "\n",
    "partitions[[1]] %>% length"
   ]
  },
  {
   "cell_type": "code",
   "execution_count": 162,
   "metadata": {},
   "outputs": [
    {
     "name": "stderr",
     "output_type": "stream",
     "text": [
      "Warning message in predict.lm(model, testset.ready):\n",
      "“prediction from a rank-deficient fit may be misleading”Warning message in predict.lm(model, testset.ready):\n",
      "“prediction from a rank-deficient fit may be misleading”Warning message in predict.lm(model, testset.ready):\n",
      "“prediction from a rank-deficient fit may be misleading”"
     ]
    }
   ],
   "source": [
    "N = 3\n",
    "\n",
    "partitions <- caret::createDataPartition(y=df.training$sale_price_log, p=.5, list=F, times=N) %>% \n",
    "                as.data.frame %>% as.list\n",
    "\n",
    "buildModel <- function (partition) { \n",
    "    trainset <- df.training[partition,] %>% select(-SalePrice)\n",
    "    testset <- df.training[-partition,] %>% select(-sale_price_log)\n",
    "\n",
    "    tran.res <- kaggle.house$trans$doItAll(trainset, testset %>% select(-SalePrice))\n",
    "    trainset.ready <- tran.res$df.training\n",
    "    testset.ready <- tran.res$df.testing\n",
    "\n",
    "    model <- lm(sale_price_log ~ ., data=trainset.ready)\n",
    "    \n",
    "    y_predicted <- predict(model, testset.ready) %>% as.vector\n",
    "    y_actual <- testset %>% mutate(sale_price_log = log(SalePrice)) %>% select(sale_price_log) %>% `[[`(1)\n",
    "    \n",
    "    list(model=model, rmse=rmse(y_predicted, y_actual))\n",
    "}\n",
    "\n",
    "fits <- partitions %>% as.data.frame %>% as.list %>% map(buildModel)"
   ]
  },
  {
   "cell_type": "code",
   "execution_count": 9,
   "metadata": {},
   "outputs": [
    {
     "data": {
      "text/html": [
       "<ol class=list-inline>\n",
       "\t<li>0.146496400471705</li>\n",
       "\t<li>0.146701816649882</li>\n",
       "\t<li>0.163409560773935</li>\n",
       "\t<li>0.13295038548885</li>\n",
       "\t<li>0.171517906827583</li>\n",
       "\t<li>0.133409890619286</li>\n",
       "\t<li>0.166490215723652</li>\n",
       "\t<li>0.265142619858507</li>\n",
       "\t<li>0.144354067242578</li>\n",
       "\t<li>0.142038593058173</li>\n",
       "\t<li>0.194216194595337</li>\n",
       "\t<li>0.140482344274675</li>\n",
       "\t<li>0.150837284980002</li>\n",
       "\t<li>0.141351798994917</li>\n",
       "\t<li>0.13439865808395</li>\n",
       "\t<li>0.156096962791501</li>\n",
       "\t<li>0.456799319848039</li>\n",
       "\t<li>0.154302708966774</li>\n",
       "\t<li>0.129201050916751</li>\n",
       "\t<li>0.180407368687923</li>\n",
       "</ol>\n"
      ],
      "text/latex": [
       "\\begin{enumerate*}\n",
       "\\item 0.146496400471705\n",
       "\\item 0.146701816649882\n",
       "\\item 0.163409560773935\n",
       "\\item 0.13295038548885\n",
       "\\item 0.171517906827583\n",
       "\\item 0.133409890619286\n",
       "\\item 0.166490215723652\n",
       "\\item 0.265142619858507\n",
       "\\item 0.144354067242578\n",
       "\\item 0.142038593058173\n",
       "\\item 0.194216194595337\n",
       "\\item 0.140482344274675\n",
       "\\item 0.150837284980002\n",
       "\\item 0.141351798994917\n",
       "\\item 0.13439865808395\n",
       "\\item 0.156096962791501\n",
       "\\item 0.456799319848039\n",
       "\\item 0.154302708966774\n",
       "\\item 0.129201050916751\n",
       "\\item 0.180407368687923\n",
       "\\end{enumerate*}\n"
      ],
      "text/markdown": [
       "1. 0.146496400471705\n",
       "2. 0.146701816649882\n",
       "3. 0.163409560773935\n",
       "4. 0.13295038548885\n",
       "5. 0.171517906827583\n",
       "6. 0.133409890619286\n",
       "7. 0.166490215723652\n",
       "8. 0.265142619858507\n",
       "9. 0.144354067242578\n",
       "10. 0.142038593058173\n",
       "11. 0.194216194595337\n",
       "12. 0.140482344274675\n",
       "13. 0.150837284980002\n",
       "14. 0.141351798994917\n",
       "15. 0.13439865808395\n",
       "16. 0.156096962791501\n",
       "17. 0.456799319848039\n",
       "18. 0.154302708966774\n",
       "19. 0.129201050916751\n",
       "20. 0.180407368687923\n",
       "\n",
       "\n"
      ],
      "text/plain": [
       " [1] 0.1464964 0.1467018 0.1634096 0.1329504 0.1715179 0.1334099 0.1664902\n",
       " [8] 0.2651426 0.1443541 0.1420386 0.1942162 0.1404823 0.1508373 0.1413518\n",
       "[15] 0.1343987 0.1560970 0.4567993 0.1543027 0.1292011 0.1804074"
      ]
     },
     "metadata": {},
     "output_type": "display_data"
    }
   ],
   "source": [
    "rmse.sample <- fits %>% map(function(item) { item$rmse }) %>% unlist %>% as.vector\n",
    "rmse.sample"
   ]
  },
  {
   "cell_type": "code",
   "execution_count": 10,
   "metadata": {},
   "outputs": [
    {
     "data": {
      "text/html": [
       "<ol class=list-inline>\n",
       "\t<li>0.921354469091557</li>\n",
       "\t<li>0.922523904125126</li>\n",
       "\t<li>0.931662700110471</li>\n",
       "\t<li>0.903263848857996</li>\n",
       "\t<li>0.946633729911482</li>\n",
       "\t<li>0.910739452864301</li>\n",
       "\t<li>0.931827146162098</li>\n",
       "\t<li>0.913405051126095</li>\n",
       "\t<li>0.919709876706743</li>\n",
       "\t<li>0.91243210970072</li>\n",
       "\t<li>0.918490882681892</li>\n",
       "\t<li>0.904221902253224</li>\n",
       "\t<li>0.921357289265682</li>\n",
       "\t<li>0.909117110191407</li>\n",
       "\t<li>0.906139955166118</li>\n",
       "\t<li>0.921706324302495</li>\n",
       "\t<li>0.914640300142655</li>\n",
       "\t<li>0.925025430100359</li>\n",
       "\t<li>0.898804479472366</li>\n",
       "\t<li>0.903147869614318</li>\n",
       "</ol>\n"
      ],
      "text/latex": [
       "\\begin{enumerate*}\n",
       "\\item 0.921354469091557\n",
       "\\item 0.922523904125126\n",
       "\\item 0.931662700110471\n",
       "\\item 0.903263848857996\n",
       "\\item 0.946633729911482\n",
       "\\item 0.910739452864301\n",
       "\\item 0.931827146162098\n",
       "\\item 0.913405051126095\n",
       "\\item 0.919709876706743\n",
       "\\item 0.91243210970072\n",
       "\\item 0.918490882681892\n",
       "\\item 0.904221902253224\n",
       "\\item 0.921357289265682\n",
       "\\item 0.909117110191407\n",
       "\\item 0.906139955166118\n",
       "\\item 0.921706324302495\n",
       "\\item 0.914640300142655\n",
       "\\item 0.925025430100359\n",
       "\\item 0.898804479472366\n",
       "\\item 0.903147869614318\n",
       "\\end{enumerate*}\n"
      ],
      "text/markdown": [
       "1. 0.921354469091557\n",
       "2. 0.922523904125126\n",
       "3. 0.931662700110471\n",
       "4. 0.903263848857996\n",
       "5. 0.946633729911482\n",
       "6. 0.910739452864301\n",
       "7. 0.931827146162098\n",
       "8. 0.913405051126095\n",
       "9. 0.919709876706743\n",
       "10. 0.91243210970072\n",
       "11. 0.918490882681892\n",
       "12. 0.904221902253224\n",
       "13. 0.921357289265682\n",
       "14. 0.909117110191407\n",
       "15. 0.906139955166118\n",
       "16. 0.921706324302495\n",
       "17. 0.914640300142655\n",
       "18. 0.925025430100359\n",
       "19. 0.898804479472366\n",
       "20. 0.903147869614318\n",
       "\n",
       "\n"
      ],
      "text/plain": [
       " [1] 0.9213545 0.9225239 0.9316627 0.9032638 0.9466337 0.9107395 0.9318271\n",
       " [8] 0.9134051 0.9197099 0.9124321 0.9184909 0.9042219 0.9213573 0.9091171\n",
       "[15] 0.9061400 0.9217063 0.9146403 0.9250254 0.8988045 0.9031479"
      ]
     },
     "metadata": {},
     "output_type": "display_data"
    }
   ],
   "source": [
    "r.squared.sample <- fits %>% map(function(item) { glance(item$model)[['r.squared']] }) %>% unlist %>% as.vector\n",
    "r.squared.sample"
   ]
  },
  {
   "cell_type": "code",
   "execution_count": 36,
   "metadata": {},
   "outputs": [
    {
     "data": {
      "text/html": [
       "'BsmtFinSF1+Condition2.new+has_pool+MSZoning.new+Neighborhood.new+OverallCond+OverallQual+PoolArea+X1stFlrSF+X2ndFlrSF'"
      ],
      "text/latex": [
       "'BsmtFinSF1+Condition2.new+has\\_pool+MSZoning.new+Neighborhood.new+OverallCond+OverallQual+PoolArea+X1stFlrSF+X2ndFlrSF'"
      ],
      "text/markdown": [
       "'BsmtFinSF1+Condition2.new+has_pool+MSZoning.new+Neighborhood.new+OverallCond+OverallQual+PoolArea+X1stFlrSF+X2ndFlrSF'"
      ],
      "text/plain": [
       "[1] \"BsmtFinSF1+Condition2.new+has_pool+MSZoning.new+Neighborhood.new+OverallCond+OverallQual+PoolArea+X1stFlrSF+X2ndFlrSF\""
      ]
     },
     "metadata": {},
     "output_type": "display_data"
    }
   ],
   "source": [
    "coeff.sample <- fits %>% map(function(item) { tidy(item$model) }) %>% bind_rows\n",
    "coeff.sample %>% \n",
    "    arrange(term, estimate) %>% \n",
    "    group_by(term) %>% \n",
    "    mutate(n=n()) %>% \n",
    "    filter(p.value < 0.00000001, n == N) %>%\n",
    "    distinct(term) %>%\n",
    "    `[[`(1) %>% paste(collapse = '+')"
   ]
  },
  {
   "cell_type": "code",
   "execution_count": 160,
   "metadata": {},
   "outputs": [
    {
     "data": {
      "text/html": [
       "<table>\n",
       "<thead><tr><th scope=col>r.squared</th><th scope=col>adj.r.squared</th><th scope=col>sigma</th><th scope=col>statistic</th><th scope=col>p.value</th><th scope=col>df</th><th scope=col>logLik</th><th scope=col>AIC</th><th scope=col>BIC</th><th scope=col>deviance</th><th scope=col>df.residual</th></tr></thead>\n",
       "<tbody>\n",
       "\t<tr><td>0.8668367    </td><td>0.8651745    </td><td>0.1483862    </td><td>521.4895     </td><td>1.039939e-308</td><td>10           </td><td>362.4922     </td><td>-702.9843    </td><td>-652.4458    </td><td>15.87532     </td><td>721          </td></tr>\n",
       "</tbody>\n",
       "</table>\n"
      ],
      "text/latex": [
       "\\begin{tabular}{r|lllllllllll}\n",
       " r.squared & adj.r.squared & sigma & statistic & p.value & df & logLik & AIC & BIC & deviance & df.residual\\\\\n",
       "\\hline\n",
       "\t 0.8668367     & 0.8651745     & 0.1483862     & 521.4895      & 1.039939e-308 & 10            & 362.4922      & -702.9843     & -652.4458     & 15.87532      & 721          \\\\\n",
       "\\end{tabular}\n"
      ],
      "text/markdown": [
       "\n",
       "r.squared | adj.r.squared | sigma | statistic | p.value | df | logLik | AIC | BIC | deviance | df.residual | \n",
       "|---|\n",
       "| 0.8668367     | 0.8651745     | 0.1483862     | 521.4895      | 1.039939e-308 | 10            | 362.4922      | -702.9843     | -652.4458     | 15.87532      | 721           | \n",
       "\n",
       "\n"
      ],
      "text/plain": [
       "  r.squared adj.r.squared sigma     statistic p.value       df logLik  \n",
       "1 0.8668367 0.8651745     0.1483862 521.4895  1.039939e-308 10 362.4922\n",
       "  AIC       BIC       deviance df.residual\n",
       "1 -702.9843 -652.4458 15.87532 721        "
      ]
     },
     "metadata": {},
     "output_type": "display_data"
    },
    {
     "data": {
      "text/html": [
       "<table>\n",
       "<thead><tr><th scope=col>term</th><th scope=col>estimate</th><th scope=col>std.error</th><th scope=col>statistic</th><th scope=col>p.value</th></tr></thead>\n",
       "<tbody>\n",
       "\t<tr><td>(Intercept)     </td><td>0.51335179      </td><td>0.6846550006    </td><td> 0.7497963      </td><td>4.536220e-01    </td></tr>\n",
       "\t<tr><td>OverallQual     </td><td>0.08052613      </td><td>0.0069156870    </td><td>11.6439812      </td><td>7.804972e-29    </td></tr>\n",
       "\t<tr><td>Neighborhood.new</td><td>0.27587930      </td><td>0.0272502951    </td><td>10.1239013      </td><td>1.292317e-22    </td></tr>\n",
       "\t<tr><td>GrLivArea.log   </td><td>0.31553726      </td><td>0.0235967954    </td><td>13.3720388      </td><td>1.365706e-36    </td></tr>\n",
       "\t<tr><td>X1stFlrSF.log   </td><td>0.09243856      </td><td>0.0232050584    </td><td> 3.9835522      </td><td>7.478674e-05    </td></tr>\n",
       "\t<tr><td>BsmtFullBath    </td><td>0.06390370      </td><td>0.0113162861    </td><td> 5.6470563      </td><td>2.348617e-08    </td></tr>\n",
       "\t<tr><td>LotArea.log     </td><td>0.08222360      </td><td>0.0128285174    </td><td> 6.4094389      </td><td>2.638188e-10    </td></tr>\n",
       "\t<tr><td>has_central_air </td><td>0.16017446      </td><td>0.0221639189    </td><td> 7.2268112      </td><td>1.262187e-12    </td></tr>\n",
       "\t<tr><td>YearRemodAdd    </td><td>0.00187511      </td><td>0.0003446257    </td><td> 5.4410047      </td><td>7.264625e-08    </td></tr>\n",
       "\t<tr><td>GarageCars      </td><td>0.06376398      </td><td>0.0100036715    </td><td> 6.3740579      </td><td>3.284150e-10    </td></tr>\n",
       "</tbody>\n",
       "</table>\n"
      ],
      "text/latex": [
       "\\begin{tabular}{r|lllll}\n",
       " term & estimate & std.error & statistic & p.value\\\\\n",
       "\\hline\n",
       "\t (Intercept)      & 0.51335179       & 0.6846550006     &  0.7497963       & 4.536220e-01    \\\\\n",
       "\t OverallQual      & 0.08052613       & 0.0069156870     & 11.6439812       & 7.804972e-29    \\\\\n",
       "\t Neighborhood.new & 0.27587930       & 0.0272502951     & 10.1239013       & 1.292317e-22    \\\\\n",
       "\t GrLivArea.log    & 0.31553726       & 0.0235967954     & 13.3720388       & 1.365706e-36    \\\\\n",
       "\t X1stFlrSF.log    & 0.09243856       & 0.0232050584     &  3.9835522       & 7.478674e-05    \\\\\n",
       "\t BsmtFullBath     & 0.06390370       & 0.0113162861     &  5.6470563       & 2.348617e-08    \\\\\n",
       "\t LotArea.log      & 0.08222360       & 0.0128285174     &  6.4094389       & 2.638188e-10    \\\\\n",
       "\t has\\_central\\_air  & 0.16017446           & 0.0221639189         &  7.2268112           & 1.262187e-12        \\\\\n",
       "\t YearRemodAdd     & 0.00187511       & 0.0003446257     &  5.4410047       & 7.264625e-08    \\\\\n",
       "\t GarageCars       & 0.06376398       & 0.0100036715     &  6.3740579       & 3.284150e-10    \\\\\n",
       "\\end{tabular}\n"
      ],
      "text/markdown": [
       "\n",
       "term | estimate | std.error | statistic | p.value | \n",
       "|---|---|---|---|---|---|---|---|---|---|\n",
       "| (Intercept)      | 0.51335179       | 0.6846550006     |  0.7497963       | 4.536220e-01     | \n",
       "| OverallQual      | 0.08052613       | 0.0069156870     | 11.6439812       | 7.804972e-29     | \n",
       "| Neighborhood.new | 0.27587930       | 0.0272502951     | 10.1239013       | 1.292317e-22     | \n",
       "| GrLivArea.log    | 0.31553726       | 0.0235967954     | 13.3720388       | 1.365706e-36     | \n",
       "| X1stFlrSF.log    | 0.09243856       | 0.0232050584     |  3.9835522       | 7.478674e-05     | \n",
       "| BsmtFullBath     | 0.06390370       | 0.0113162861     |  5.6470563       | 2.348617e-08     | \n",
       "| LotArea.log      | 0.08222360       | 0.0128285174     |  6.4094389       | 2.638188e-10     | \n",
       "| has_central_air  | 0.16017446       | 0.0221639189     |  7.2268112       | 1.262187e-12     | \n",
       "| YearRemodAdd     | 0.00187511       | 0.0003446257     |  5.4410047       | 7.264625e-08     | \n",
       "| GarageCars       | 0.06376398       | 0.0100036715     |  6.3740579       | 3.284150e-10     | \n",
       "\n",
       "\n"
      ],
      "text/plain": [
       "   term             estimate   std.error    statistic  p.value     \n",
       "1  (Intercept)      0.51335179 0.6846550006  0.7497963 4.536220e-01\n",
       "2  OverallQual      0.08052613 0.0069156870 11.6439812 7.804972e-29\n",
       "3  Neighborhood.new 0.27587930 0.0272502951 10.1239013 1.292317e-22\n",
       "4  GrLivArea.log    0.31553726 0.0235967954 13.3720388 1.365706e-36\n",
       "5  X1stFlrSF.log    0.09243856 0.0232050584  3.9835522 7.478674e-05\n",
       "6  BsmtFullBath     0.06390370 0.0113162861  5.6470563 2.348617e-08\n",
       "7  LotArea.log      0.08222360 0.0128285174  6.4094389 2.638188e-10\n",
       "8  has_central_air  0.16017446 0.0221639189  7.2268112 1.262187e-12\n",
       "9  YearRemodAdd     0.00187511 0.0003446257  5.4410047 7.264625e-08\n",
       "10 GarageCars       0.06376398 0.0100036715  6.3740579 3.284150e-10"
      ]
     },
     "metadata": {},
     "output_type": "display_data"
    },
    {
     "data": {
      "text/html": [
       "0.141227969389379"
      ],
      "text/latex": [
       "0.141227969389379"
      ],
      "text/markdown": [
       "0.141227969389379"
      ],
      "text/plain": [
       "[1] 0.141228"
      ]
     },
     "metadata": {},
     "output_type": "display_data"
    },
    {
     "data": {
      "text/html": [
       "10.519395550725"
      ],
      "text/latex": [
       "10.519395550725"
      ],
      "text/markdown": [
       "10.519395550725"
      ],
      "text/plain": [
       "[1] 10.5194"
      ]
     },
     "metadata": {},
     "output_type": "display_data"
    }
   ],
   "source": [
    "df.tr <- \n",
    "    trainset.ready %>% \n",
    "    mutate(\n",
    "        GrLivArea.log = log(GrLivArea),\n",
    "        X1stFlrSF.log = log(X1stFlrSF),\n",
    "        X2ndFlrSF.log = log(X2ndFlrSF + 1),\n",
    "        LotArea.log = log(LotArea)\n",
    "    )\n",
    "\n",
    "df.te <- \n",
    "    testset.ready %>% \n",
    "    mutate(\n",
    "        GrLivArea.log = log(GrLivArea),\n",
    "        X1stFlrSF.log = log(X1stFlrSF),\n",
    "        X2ndFlrSF.log = log(X2ndFlrSF + 1),\n",
    "        LotArea.log = log(LotArea)\n",
    "    )\n",
    "\n",
    "model.lm <- lm(\n",
    "    sale_price_log ~ OverallQual+Neighborhood.new+GrLivArea.log+X1stFlrSF.log+BsmtFullBath+\n",
    "                     LotArea.log+has_central_air+YearRemodAdd+GarageCars, \n",
    "    data=df.tr)\n",
    "\n",
    "\n",
    "glance(model.lm)\n",
    "tidy(model.lm)\n",
    "\n",
    "y_predicted <- predict(model.lm, df.te) %>% as.vector\n",
    "y_actual <- testset %>% mutate(sale_price_log = log(SalePrice)) %>% select(sale_price_log) %>% `[[`(1)\n",
    "rmse(y_predicted, y_actual)\n",
    "\n",
    "sp_predicted <- y_predicted %>% exp\n",
    "sp_actual <- testset %>% select(SalePrice) %>% `[[`(1)\n",
    "mean(100 * abs(sp_actual - sp_predicted) / sp_actual)"
   ]
  },
  {
   "cell_type": "code",
   "execution_count": null,
   "metadata": {
    "collapsed": true
   },
   "outputs": [],
   "source": [
    "N = 20\n",
    "\n",
    "partitions <- caret::createDataPartition(y=df.training$sale_price_log, p=.5, list=F, times=N) %>% \n",
    "                as.data.frame %>% as.list\n",
    "\n",
    "\n",
    "fits <- partitions %>% as.data.frame %>% as.list %>% map(buildModel)"
   ]
  },
  {
   "cell_type": "code",
   "execution_count": null,
   "metadata": {
    "collapsed": true
   },
   "outputs": [],
   "source": []
  },
  {
   "cell_type": "code",
   "execution_count": null,
   "metadata": {
    "collapsed": true
   },
   "outputs": [],
   "source": []
  },
  {
   "cell_type": "code",
   "execution_count": null,
   "metadata": {
    "collapsed": true
   },
   "outputs": [],
   "source": []
  },
  {
   "cell_type": "code",
   "execution_count": null,
   "metadata": {
    "collapsed": true
   },
   "outputs": [],
   "source": []
  },
  {
   "cell_type": "code",
   "execution_count": null,
   "metadata": {
    "collapsed": true
   },
   "outputs": [],
   "source": []
  },
  {
   "cell_type": "code",
   "execution_count": null,
   "metadata": {
    "collapsed": true
   },
   "outputs": [],
   "source": []
  },
  {
   "cell_type": "code",
   "execution_count": null,
   "metadata": {
    "collapsed": true
   },
   "outputs": [],
   "source": []
  },
  {
   "cell_type": "code",
   "execution_count": null,
   "metadata": {
    "collapsed": true
   },
   "outputs": [],
   "source": []
  },
  {
   "cell_type": "code",
   "execution_count": null,
   "metadata": {
    "collapsed": true
   },
   "outputs": [],
   "source": []
  },
  {
   "cell_type": "code",
   "execution_count": null,
   "metadata": {
    "collapsed": true
   },
   "outputs": [],
   "source": []
  },
  {
   "cell_type": "code",
   "execution_count": null,
   "metadata": {
    "collapsed": true
   },
   "outputs": [],
   "source": []
  }
 ],
 "metadata": {
  "kernelspec": {
   "display_name": "R",
   "language": "R",
   "name": "ir"
  },
  "language_info": {
   "codemirror_mode": "r",
   "file_extension": ".r",
   "mimetype": "text/x-r-source",
   "name": "R",
   "pygments_lexer": "r",
   "version": "3.4.2"
  }
 },
 "nbformat": 4,
 "nbformat_minor": 2
}
