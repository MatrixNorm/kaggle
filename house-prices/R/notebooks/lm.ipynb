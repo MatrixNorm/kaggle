{
 "cells": [
  {
   "cell_type": "code",
   "execution_count": 2,
   "metadata": {},
   "outputs": [
    {
     "data": {
      "text/html": [
       "'/mnt/hdd/develop/kaggle/house-prices/R/R'"
      ],
      "text/latex": [
       "'/mnt/hdd/develop/kaggle/house-prices/R/R'"
      ],
      "text/markdown": [
       "'/mnt/hdd/develop/kaggle/house-prices/R/R'"
      ],
      "text/plain": [
       "[1] \"/mnt/hdd/develop/kaggle/house-prices/R/R\""
      ]
     },
     "metadata": {},
     "output_type": "display_data"
    }
   ],
   "source": [
    "setwd(paste0(Sys.getenv('ROOT'), '/R'))\n",
    "getwd()"
   ]
  },
  {
   "cell_type": "code",
   "execution_count": 4,
   "metadata": {},
   "outputs": [],
   "source": [
    "library(Metrics)\n",
    "source('main.R')\n",
    "\n",
    "data <- kaggle.house$loadData()\n",
    "\n",
    "df.combined <- kaggle.house$getCombinedDataset(data$train, data$test) %>% (kaggle.house$na$fixAll)\n",
    "\n",
    "df.training <- \n",
    "    df.combined %>% \n",
    "    filter(dataSource == \"train\") %>% \n",
    "    mutate(sale_price_log = log(SalePrice)) %>%\n",
    "    select(-dataSource)"
   ]
  },
  {
   "cell_type": "code",
   "execution_count": 5,
   "metadata": {},
   "outputs": [
    {
     "data": {
      "text/html": [
       "'sale_price_log'"
      ],
      "text/latex": [
       "'sale\\_price\\_log'"
      ],
      "text/markdown": [
       "'sale_price_log'"
      ],
      "text/plain": [
       "[1] \"sale_price_log\""
      ]
     },
     "metadata": {},
     "output_type": "display_data"
    },
    {
     "data": {
      "text/html": [
       "'SalePrice'"
      ],
      "text/latex": [
       "'SalePrice'"
      ],
      "text/markdown": [
       "'SalePrice'"
      ],
      "text/plain": [
       "[1] \"SalePrice\""
      ]
     },
     "metadata": {},
     "output_type": "display_data"
    }
   ],
   "source": [
    "partition <- caret::createDataPartition(y=df.training$sale_price_log, p=.5, list=F, times=1)\n",
    "\n",
    "trainset <- df.training[partition,] %>% select(-SalePrice)\n",
    "\n",
    "testset <- df.training[-partition,] %>% select(-sale_price_log)\n",
    "\n",
    "setdiff(trainset %>% colnames, testset %>% colnames)\n",
    "setdiff(testset %>% colnames, trainset %>% colnames)"
   ]
  },
  {
   "cell_type": "code",
   "execution_count": 6,
   "metadata": {},
   "outputs": [
    {
     "data": {
      "text/html": [
       "<ol class=list-inline>\n",
       "\t<li>731</li>\n",
       "\t<li>729</li>\n",
       "</ol>\n"
      ],
      "text/latex": [
       "\\begin{enumerate*}\n",
       "\\item 731\n",
       "\\item 729\n",
       "\\end{enumerate*}\n"
      ],
      "text/markdown": [
       "1. 731\n",
       "2. 729\n",
       "\n",
       "\n"
      ],
      "text/plain": [
       "[1] 731 729"
      ]
     },
     "metadata": {},
     "output_type": "display_data"
    },
    {
     "data": {
      "text/html": [
       "<ol class=list-inline>\n",
       "\t<li>'1. '</li>\n",
       "\t<li>'sale_price_log'</li>\n",
       "</ol>\n"
      ],
      "text/latex": [
       "\\begin{enumerate*}\n",
       "\\item '1. '\n",
       "\\item 'sale\\_price\\_log'\n",
       "\\end{enumerate*}\n"
      ],
      "text/markdown": [
       "1. '1. '\n",
       "2. 'sale_price_log'\n",
       "\n",
       "\n"
      ],
      "text/plain": [
       "[1] \"1. \"            \"sale_price_log\""
      ]
     },
     "metadata": {},
     "output_type": "display_data"
    },
    {
     "data": {
      "text/html": [
       "'2. '"
      ],
      "text/latex": [
       "'2. '"
      ],
      "text/markdown": [
       "'2. '"
      ],
      "text/plain": [
       "[1] \"2. \""
      ]
     },
     "metadata": {},
     "output_type": "display_data"
    }
   ],
   "source": [
    "tran.res <- kaggle.house$trans$doItAll(trainset, testset %>% select(-SalePrice))\n",
    "trainset.ready <- tran.res$df.training\n",
    "testset.ready <- tran.res$df.testing\n",
    "\n",
    "# Should be only numeric columns\n",
    "stopifnot(0 == trainset.ready %>% purrr::map(function (col) { !is.numeric(col) }) %>% unlist %>% sum)\n",
    "stopifnot(0 == testset.ready %>% purrr::map(function (col) { !is.numeric(col) }) %>% unlist %>% sum)\n",
    "\n",
    "c(trainset.ready %>% nrow, testset.ready %>% nrow)\n",
    "\n",
    "c('1. ', setdiff(trainset.ready %>% colnames, testset.ready %>% colnames))\n",
    "c('2. ', setdiff(testset.ready %>% colnames, trainset.ready %>% colnames))"
   ]
  },
  {
   "cell_type": "code",
   "execution_count": 7,
   "metadata": {},
   "outputs": [
    {
     "data": {
      "text/html": [
       "<table>\n",
       "<thead><tr><th scope=col>BldgType</th><th scope=col>median(log(SalePrice))</th></tr></thead>\n",
       "<tbody>\n",
       "\t<tr><td>1Fam    </td><td>12.01854</td></tr>\n",
       "\t<tr><td>2fmCon  </td><td>11.72597</td></tr>\n",
       "\t<tr><td>Duplex  </td><td>11.82026</td></tr>\n",
       "\t<tr><td>Twnhs   </td><td>11.77529</td></tr>\n",
       "\t<tr><td>TwnhsE  </td><td>12.06248</td></tr>\n",
       "</tbody>\n",
       "</table>\n"
      ],
      "text/latex": [
       "\\begin{tabular}{r|ll}\n",
       " BldgType & median(log(SalePrice))\\\\\n",
       "\\hline\n",
       "\t 1Fam     & 12.01854\\\\\n",
       "\t 2fmCon   & 11.72597\\\\\n",
       "\t Duplex   & 11.82026\\\\\n",
       "\t Twnhs    & 11.77529\\\\\n",
       "\t TwnhsE   & 12.06248\\\\\n",
       "\\end{tabular}\n"
      ],
      "text/markdown": [
       "\n",
       "BldgType | median(log(SalePrice)) | \n",
       "|---|---|---|---|---|\n",
       "| 1Fam     | 12.01854 | \n",
       "| 2fmCon   | 11.72597 | \n",
       "| Duplex   | 11.82026 | \n",
       "| Twnhs    | 11.77529 | \n",
       "| TwnhsE   | 12.06248 | \n",
       "\n",
       "\n"
      ],
      "text/plain": [
       "  BldgType median(log(SalePrice))\n",
       "1 1Fam     12.01854              \n",
       "2 2fmCon   11.72597              \n",
       "3 Duplex   11.82026              \n",
       "4 Twnhs    11.77529              \n",
       "5 TwnhsE   12.06248              "
      ]
     },
     "metadata": {},
     "output_type": "display_data"
    },
    {
     "data": {
      "text/html": [
       "<table>\n",
       "<thead><tr><th scope=col>BldgType</th><th scope=col>min(BldgType.new)</th><th scope=col>max(BldgType.new)</th></tr></thead>\n",
       "<tbody>\n",
       "\t<tr><td>1Fam    </td><td>12.04649</td><td>12.04649</td></tr>\n",
       "\t<tr><td>2fmCon  </td><td>11.80485</td><td>11.80485</td></tr>\n",
       "\t<tr><td>Duplex  </td><td>11.81855</td><td>11.81855</td></tr>\n",
       "\t<tr><td>Twnhs   </td><td>11.86137</td><td>11.86137</td></tr>\n",
       "\t<tr><td>TwnhsE  </td><td>12.02457</td><td>12.02457</td></tr>\n",
       "</tbody>\n",
       "</table>\n"
      ],
      "text/latex": [
       "\\begin{tabular}{r|lll}\n",
       " BldgType & min(BldgType.new) & max(BldgType.new)\\\\\n",
       "\\hline\n",
       "\t 1Fam     & 12.04649 & 12.04649\\\\\n",
       "\t 2fmCon   & 11.80485 & 11.80485\\\\\n",
       "\t Duplex   & 11.81855 & 11.81855\\\\\n",
       "\t Twnhs    & 11.86137 & 11.86137\\\\\n",
       "\t TwnhsE   & 12.02457 & 12.02457\\\\\n",
       "\\end{tabular}\n"
      ],
      "text/markdown": [
       "\n",
       "BldgType | min(BldgType.new) | max(BldgType.new) | \n",
       "|---|---|---|---|---|\n",
       "| 1Fam     | 12.04649 | 12.04649 | \n",
       "| 2fmCon   | 11.80485 | 11.80485 | \n",
       "| Duplex   | 11.81855 | 11.81855 | \n",
       "| Twnhs    | 11.86137 | 11.86137 | \n",
       "| TwnhsE   | 12.02457 | 12.02457 | \n",
       "\n",
       "\n"
      ],
      "text/plain": [
       "  BldgType min(BldgType.new) max(BldgType.new)\n",
       "1 1Fam     12.04649          12.04649         \n",
       "2 2fmCon   11.80485          11.80485         \n",
       "3 Duplex   11.81855          11.81855         \n",
       "4 Twnhs    11.86137          11.86137         \n",
       "5 TwnhsE   12.02457          12.02457         "
      ]
     },
     "metadata": {},
     "output_type": "display_data"
    }
   ],
   "source": [
    "# sanity check\n",
    "\n",
    "testset %>% group_by(BldgType) %>% summarise(median(log(SalePrice)))\n",
    "\n",
    "cbind(testset.ready %>% select(BldgType.new), testset %>% select(BldgType)) %>% \n",
    "    group_by(BldgType) %>% summarise(min(BldgType.new), max(BldgType.new))\n"
   ]
  },
  {
   "cell_type": "code",
   "execution_count": 8,
   "metadata": {},
   "outputs": [
    {
     "name": "stderr",
     "output_type": "stream",
     "text": [
      "Warning message in predict.lm(model.lm, testset.ready):\n",
      "“prediction from a rank-deficient fit may be misleading”"
     ]
    },
    {
     "data": {
      "text/html": [
       "0.145351063413167"
      ],
      "text/latex": [
       "0.145351063413167"
      ],
      "text/markdown": [
       "0.145351063413167"
      ],
      "text/plain": [
       "[1] 0.1453511"
      ]
     },
     "metadata": {},
     "output_type": "display_data"
    },
    {
     "data": {
      "text/html": [
       "10.3225000651289"
      ],
      "text/latex": [
       "10.3225000651289"
      ],
      "text/markdown": [
       "10.3225000651289"
      ],
      "text/plain": [
       "[1] 10.3225"
      ]
     },
     "metadata": {},
     "output_type": "display_data"
    },
    {
     "data": {
      "text/html": [
       "<table>\n",
       "<thead><tr><th scope=col>r.squared</th><th scope=col>adj.r.squared</th><th scope=col>sigma</th><th scope=col>statistic</th><th scope=col>p.value</th><th scope=col>df</th><th scope=col>logLik</th><th scope=col>AIC</th><th scope=col>BIC</th><th scope=col>deviance</th><th scope=col>df.residual</th></tr></thead>\n",
       "<tbody>\n",
       "\t<tr><td>0.9137315</td><td>0.903559 </td><td>0.1254985</td><td>89.82326 </td><td>0        </td><td>78       </td><td>521.1599 </td><td>-884.3199</td><td>-521.3612</td><td>10.28467 </td><td>653      </td></tr>\n",
       "</tbody>\n",
       "</table>\n"
      ],
      "text/latex": [
       "\\begin{tabular}{r|lllllllllll}\n",
       " r.squared & adj.r.squared & sigma & statistic & p.value & df & logLik & AIC & BIC & deviance & df.residual\\\\\n",
       "\\hline\n",
       "\t 0.9137315 & 0.903559  & 0.1254985 & 89.82326  & 0         & 78        & 521.1599  & -884.3199 & -521.3612 & 10.28467  & 653      \\\\\n",
       "\\end{tabular}\n"
      ],
      "text/markdown": [
       "\n",
       "r.squared | adj.r.squared | sigma | statistic | p.value | df | logLik | AIC | BIC | deviance | df.residual | \n",
       "|---|\n",
       "| 0.9137315 | 0.903559  | 0.1254985 | 89.82326  | 0         | 78        | 521.1599  | -884.3199 | -521.3612 | 10.28467  | 653       | \n",
       "\n",
       "\n"
      ],
      "text/plain": [
       "  r.squared adj.r.squared sigma     statistic p.value df logLik   AIC      \n",
       "1 0.9137315 0.903559      0.1254985 89.82326  0       78 521.1599 -884.3199\n",
       "  BIC       deviance df.residual\n",
       "1 -521.3612 10.28467 653        "
      ]
     },
     "metadata": {},
     "output_type": "display_data"
    },
    {
     "data": {
      "text/html": [
       "<table>\n",
       "<thead><tr><th scope=col>term</th><th scope=col>estimate</th><th scope=col>std.error</th><th scope=col>statistic</th><th scope=col>p.value</th></tr></thead>\n",
       "<tbody>\n",
       "\t<tr><td>has_pool           </td><td>-4.028008e+00      </td><td>4.698745e-01       </td><td>-8.572520          </td><td>7.314185e-17       </td></tr>\n",
       "\t<tr><td>PoolArea           </td><td> 6.069919e-03      </td><td>7.571164e-04       </td><td> 8.017154          </td><td>5.005725e-15       </td></tr>\n",
       "\t<tr><td>OverallQual        </td><td> 5.733988e-02      </td><td>7.266367e-03       </td><td> 7.891135          </td><td>1.265933e-14       </td></tr>\n",
       "\t<tr><td>OverallCond        </td><td> 4.797452e-02      </td><td>6.316445e-03       </td><td> 7.595176          </td><td>1.068160e-13       </td></tr>\n",
       "\t<tr><td>Neighborhood.new   </td><td> 2.174003e-01      </td><td>3.023997e-02       </td><td> 7.189171          </td><td>1.788831e-12       </td></tr>\n",
       "\t<tr><td>X2ndFlrSF          </td><td> 1.470715e-04      </td><td>2.775301e-05       </td><td> 5.299298          </td><td>1.591791e-07       </td></tr>\n",
       "\t<tr><td>ScreenPorch        </td><td> 4.622124e-04      </td><td>9.290397e-05       </td><td> 4.975163          </td><td>8.346758e-07       </td></tr>\n",
       "\t<tr><td>Condition1.new     </td><td> 2.798898e-01      </td><td>6.056245e-02       </td><td> 4.621507          </td><td>4.591810e-06       </td></tr>\n",
       "\t<tr><td>standard_electrical</td><td>-8.618088e-02      </td><td>2.046677e-02       </td><td>-4.210771          </td><td>2.902254e-05       </td></tr>\n",
       "\t<tr><td>X1stFlrSF          </td><td> 1.487414e-04      </td><td>3.685698e-05       </td><td> 4.035636          </td><td>6.090530e-05       </td></tr>\n",
       "\t<tr><td>HouseStyle.new     </td><td>-2.348860e-01      </td><td>6.019107e-02       </td><td>-3.902339          </td><td>1.051504e-04       </td></tr>\n",
       "\t<tr><td>BsmtFullBath       </td><td> 5.177741e-02      </td><td>1.466653e-02       </td><td> 3.530310          </td><td>4.442563e-04       </td></tr>\n",
       "\t<tr><td>Condition2.new     </td><td>-9.329215e-01      </td><td>2.697883e-01       </td><td>-3.457976          </td><td>5.795997e-04       </td></tr>\n",
       "\t<tr><td>TotRmsAbvGrd       </td><td> 2.212949e-02      </td><td>6.515321e-03       </td><td> 3.396531          </td><td>7.238588e-04       </td></tr>\n",
       "\t<tr><td>all_utilities      </td><td> 4.555341e-01      </td><td>1.370346e-01       </td><td> 3.324227          </td><td>9.362125e-04       </td></tr>\n",
       "\t<tr><td>is_land_level      </td><td> 6.855403e-02      </td><td>2.077732e-02       </td><td> 3.299465          </td><td>1.021344e-03       </td></tr>\n",
       "\t<tr><td>BsmtExposure.new   </td><td> 1.548797e-01      </td><td>4.717916e-02       </td><td> 3.282799          </td><td>1.082627e-03       </td></tr>\n",
       "\t<tr><td>GarageCars         </td><td> 4.508280e-02      </td><td>1.580048e-02       </td><td> 2.853255          </td><td>4.464425e-03       </td></tr>\n",
       "\t<tr><td>YearBuilt          </td><td> 1.323249e-03      </td><td>4.718916e-04       </td><td> 2.804137          </td><td>5.195092e-03       </td></tr>\n",
       "\t<tr><td>EnclosedPorch      </td><td> 2.546132e-04      </td><td>9.299805e-05       </td><td> 2.737834          </td><td>6.353024e-03       </td></tr>\n",
       "\t<tr><td>is_full_functional </td><td> 5.745125e-02      </td><td>2.125159e-02       </td><td> 2.703387          </td><td>7.042304e-03       </td></tr>\n",
       "\t<tr><td>is_slope           </td><td> 7.174659e-02      </td><td>2.840599e-02       </td><td> 2.525756          </td><td>1.178038e-02       </td></tr>\n",
       "\t<tr><td>RoofStyle.new      </td><td> 2.986039e-01      </td><td>1.381305e-01       </td><td> 2.161752          </td><td>3.099995e-02       </td></tr>\n",
       "\t<tr><td>MSSubClass.new     </td><td> 8.344702e-02      </td><td>3.862767e-02       </td><td> 2.160292          </td><td>3.111321e-02       </td></tr>\n",
       "\t<tr><td>SaleCondition.new  </td><td> 1.903308e-01      </td><td>8.865912e-02       </td><td> 2.146771          </td><td>3.217919e-02       </td></tr>\n",
       "\t<tr><td>MSZoning.new       </td><td> 9.203302e-02      </td><td>4.563838e-02       </td><td> 2.016571          </td><td>4.414921e-02       </td></tr>\n",
       "\t<tr><td>BsmtQual.new       </td><td> 6.446413e-02      </td><td>3.271965e-02       </td><td> 1.970196          </td><td>4.923803e-02       </td></tr>\n",
       "\t<tr><td>is_street_paved    </td><td> 1.914990e-01      </td><td>9.827142e-02       </td><td> 1.948674          </td><td>5.176231e-02       </td></tr>\n",
       "\t<tr><td>GarageYrBlt        </td><td>-5.710327e-05      </td><td>2.953928e-05       </td><td>-1.933130          </td><td>5.365219e-02       </td></tr>\n",
       "\t<tr><td>BedroomAbvGr       </td><td> 1.822229e-02      </td><td>9.459373e-03       </td><td> 1.926374          </td><td>5.449140e-02       </td></tr>\n",
       "\t<tr><td>LowQualFinSF       </td><td> 1.938333e-04      </td><td>1.022768e-04       </td><td> 1.895183          </td><td>5.850960e-02       </td></tr>\n",
       "\t<tr><td>Fireplaces         </td><td> 2.801621e-02      </td><td>1.483094e-02       </td><td> 1.889039          </td><td>5.932948e-02       </td></tr>\n",
       "\t<tr><td>LotArea            </td><td> 1.784819e-06      </td><td>9.752095e-07       </td><td> 1.830191          </td><td>6.767710e-02       </td></tr>\n",
       "\t<tr><td>GarageArea         </td><td> 9.227635e-05      </td><td>5.150492e-05       </td><td> 1.791603          </td><td>7.365957e-02       </td></tr>\n",
       "\t<tr><td>WoodDeckSF         </td><td> 7.858506e-05      </td><td>4.396689e-05       </td><td> 1.787369          </td><td>7.434150e-02       </td></tr>\n",
       "\t<tr><td>X3SsnPorch         </td><td> 3.258421e-04      </td><td>1.946350e-04       </td><td> 1.674119          </td><td>9.458612e-02       </td></tr>\n",
       "</tbody>\n",
       "</table>\n"
      ],
      "text/latex": [
       "\\begin{tabular}{r|lllll}\n",
       " term & estimate & std.error & statistic & p.value\\\\\n",
       "\\hline\n",
       "\t has\\_pool            & -4.028008e+00         & 4.698745e-01          & -8.572520             & 7.314185e-17         \\\\\n",
       "\t PoolArea            &  6.069919e-03       & 7.571164e-04        &  8.017154           & 5.005725e-15       \\\\\n",
       "\t OverallQual         &  5.733988e-02       & 7.266367e-03        &  7.891135           & 1.265933e-14       \\\\\n",
       "\t OverallCond         &  4.797452e-02       & 6.316445e-03        &  7.595176           & 1.068160e-13       \\\\\n",
       "\t Neighborhood.new    &  2.174003e-01       & 3.023997e-02        &  7.189171           & 1.788831e-12       \\\\\n",
       "\t X2ndFlrSF           &  1.470715e-04       & 2.775301e-05        &  5.299298           & 1.591791e-07       \\\\\n",
       "\t ScreenPorch         &  4.622124e-04       & 9.290397e-05        &  4.975163           & 8.346758e-07       \\\\\n",
       "\t Condition1.new      &  2.798898e-01       & 6.056245e-02        &  4.621507           & 4.591810e-06       \\\\\n",
       "\t standard\\_electrical & -8.618088e-02         & 2.046677e-02          & -4.210771             & 2.902254e-05         \\\\\n",
       "\t X1stFlrSF           &  1.487414e-04       & 3.685698e-05        &  4.035636           & 6.090530e-05       \\\\\n",
       "\t HouseStyle.new      & -2.348860e-01       & 6.019107e-02        & -3.902339           & 1.051504e-04       \\\\\n",
       "\t BsmtFullBath        &  5.177741e-02       & 1.466653e-02        &  3.530310           & 4.442563e-04       \\\\\n",
       "\t Condition2.new      & -9.329215e-01       & 2.697883e-01        & -3.457976           & 5.795997e-04       \\\\\n",
       "\t TotRmsAbvGrd        &  2.212949e-02       & 6.515321e-03        &  3.396531           & 7.238588e-04       \\\\\n",
       "\t all\\_utilities       &  4.555341e-01         & 1.370346e-01          &  3.324227             & 9.362125e-04         \\\\\n",
       "\t is\\_land\\_level       &  6.855403e-02           & 2.077732e-02            &  3.299465               & 1.021344e-03           \\\\\n",
       "\t BsmtExposure.new    &  1.548797e-01       & 4.717916e-02        &  3.282799           & 1.082627e-03       \\\\\n",
       "\t GarageCars          &  4.508280e-02       & 1.580048e-02        &  2.853255           & 4.464425e-03       \\\\\n",
       "\t YearBuilt           &  1.323249e-03       & 4.718916e-04        &  2.804137           & 5.195092e-03       \\\\\n",
       "\t EnclosedPorch       &  2.546132e-04       & 9.299805e-05        &  2.737834           & 6.353024e-03       \\\\\n",
       "\t is\\_full\\_functional  &  5.745125e-02           & 2.125159e-02            &  2.703387               & 7.042304e-03           \\\\\n",
       "\t is\\_slope            &  7.174659e-02         & 2.840599e-02          &  2.525756             & 1.178038e-02         \\\\\n",
       "\t RoofStyle.new       &  2.986039e-01       & 1.381305e-01        &  2.161752           & 3.099995e-02       \\\\\n",
       "\t MSSubClass.new      &  8.344702e-02       & 3.862767e-02        &  2.160292           & 3.111321e-02       \\\\\n",
       "\t SaleCondition.new   &  1.903308e-01       & 8.865912e-02        &  2.146771           & 3.217919e-02       \\\\\n",
       "\t MSZoning.new        &  9.203302e-02       & 4.563838e-02        &  2.016571           & 4.414921e-02       \\\\\n",
       "\t BsmtQual.new        &  6.446413e-02       & 3.271965e-02        &  1.970196           & 4.923803e-02       \\\\\n",
       "\t is\\_street\\_paved     &  1.914990e-01           & 9.827142e-02            &  1.948674               & 5.176231e-02           \\\\\n",
       "\t GarageYrBlt         & -5.710327e-05       & 2.953928e-05        & -1.933130           & 5.365219e-02       \\\\\n",
       "\t BedroomAbvGr        &  1.822229e-02       & 9.459373e-03        &  1.926374           & 5.449140e-02       \\\\\n",
       "\t LowQualFinSF        &  1.938333e-04       & 1.022768e-04        &  1.895183           & 5.850960e-02       \\\\\n",
       "\t Fireplaces          &  2.801621e-02       & 1.483094e-02        &  1.889039           & 5.932948e-02       \\\\\n",
       "\t LotArea             &  1.784819e-06       & 9.752095e-07        &  1.830191           & 6.767710e-02       \\\\\n",
       "\t GarageArea          &  9.227635e-05       & 5.150492e-05        &  1.791603           & 7.365957e-02       \\\\\n",
       "\t WoodDeckSF          &  7.858506e-05       & 4.396689e-05        &  1.787369           & 7.434150e-02       \\\\\n",
       "\t X3SsnPorch          &  3.258421e-04       & 1.946350e-04        &  1.674119           & 9.458612e-02       \\\\\n",
       "\\end{tabular}\n"
      ],
      "text/markdown": [
       "\n",
       "term | estimate | std.error | statistic | p.value | \n",
       "|---|---|---|---|---|---|---|---|---|---|---|---|---|---|---|---|---|---|---|---|---|---|---|---|---|---|---|---|---|---|---|---|---|---|---|---|\n",
       "| has_pool            | -4.028008e+00       | 4.698745e-01        | -8.572520           | 7.314185e-17        | \n",
       "| PoolArea            |  6.069919e-03       | 7.571164e-04        |  8.017154           | 5.005725e-15        | \n",
       "| OverallQual         |  5.733988e-02       | 7.266367e-03        |  7.891135           | 1.265933e-14        | \n",
       "| OverallCond         |  4.797452e-02       | 6.316445e-03        |  7.595176           | 1.068160e-13        | \n",
       "| Neighborhood.new    |  2.174003e-01       | 3.023997e-02        |  7.189171           | 1.788831e-12        | \n",
       "| X2ndFlrSF           |  1.470715e-04       | 2.775301e-05        |  5.299298           | 1.591791e-07        | \n",
       "| ScreenPorch         |  4.622124e-04       | 9.290397e-05        |  4.975163           | 8.346758e-07        | \n",
       "| Condition1.new      |  2.798898e-01       | 6.056245e-02        |  4.621507           | 4.591810e-06        | \n",
       "| standard_electrical | -8.618088e-02       | 2.046677e-02        | -4.210771           | 2.902254e-05        | \n",
       "| X1stFlrSF           |  1.487414e-04       | 3.685698e-05        |  4.035636           | 6.090530e-05        | \n",
       "| HouseStyle.new      | -2.348860e-01       | 6.019107e-02        | -3.902339           | 1.051504e-04        | \n",
       "| BsmtFullBath        |  5.177741e-02       | 1.466653e-02        |  3.530310           | 4.442563e-04        | \n",
       "| Condition2.new      | -9.329215e-01       | 2.697883e-01        | -3.457976           | 5.795997e-04        | \n",
       "| TotRmsAbvGrd        |  2.212949e-02       | 6.515321e-03        |  3.396531           | 7.238588e-04        | \n",
       "| all_utilities       |  4.555341e-01       | 1.370346e-01        |  3.324227           | 9.362125e-04        | \n",
       "| is_land_level       |  6.855403e-02       | 2.077732e-02        |  3.299465           | 1.021344e-03        | \n",
       "| BsmtExposure.new    |  1.548797e-01       | 4.717916e-02        |  3.282799           | 1.082627e-03        | \n",
       "| GarageCars          |  4.508280e-02       | 1.580048e-02        |  2.853255           | 4.464425e-03        | \n",
       "| YearBuilt           |  1.323249e-03       | 4.718916e-04        |  2.804137           | 5.195092e-03        | \n",
       "| EnclosedPorch       |  2.546132e-04       | 9.299805e-05        |  2.737834           | 6.353024e-03        | \n",
       "| is_full_functional  |  5.745125e-02       | 2.125159e-02        |  2.703387           | 7.042304e-03        | \n",
       "| is_slope            |  7.174659e-02       | 2.840599e-02        |  2.525756           | 1.178038e-02        | \n",
       "| RoofStyle.new       |  2.986039e-01       | 1.381305e-01        |  2.161752           | 3.099995e-02        | \n",
       "| MSSubClass.new      |  8.344702e-02       | 3.862767e-02        |  2.160292           | 3.111321e-02        | \n",
       "| SaleCondition.new   |  1.903308e-01       | 8.865912e-02        |  2.146771           | 3.217919e-02        | \n",
       "| MSZoning.new        |  9.203302e-02       | 4.563838e-02        |  2.016571           | 4.414921e-02        | \n",
       "| BsmtQual.new        |  6.446413e-02       | 3.271965e-02        |  1.970196           | 4.923803e-02        | \n",
       "| is_street_paved     |  1.914990e-01       | 9.827142e-02        |  1.948674           | 5.176231e-02        | \n",
       "| GarageYrBlt         | -5.710327e-05       | 2.953928e-05        | -1.933130           | 5.365219e-02        | \n",
       "| BedroomAbvGr        |  1.822229e-02       | 9.459373e-03        |  1.926374           | 5.449140e-02        | \n",
       "| LowQualFinSF        |  1.938333e-04       | 1.022768e-04        |  1.895183           | 5.850960e-02        | \n",
       "| Fireplaces          |  2.801621e-02       | 1.483094e-02        |  1.889039           | 5.932948e-02        | \n",
       "| LotArea             |  1.784819e-06       | 9.752095e-07        |  1.830191           | 6.767710e-02        | \n",
       "| GarageArea          |  9.227635e-05       | 5.150492e-05        |  1.791603           | 7.365957e-02        | \n",
       "| WoodDeckSF          |  7.858506e-05       | 4.396689e-05        |  1.787369           | 7.434150e-02        | \n",
       "| X3SsnPorch          |  3.258421e-04       | 1.946350e-04        |  1.674119           | 9.458612e-02        | \n",
       "\n",
       "\n"
      ],
      "text/plain": [
       "   term                estimate      std.error    statistic p.value     \n",
       "1  has_pool            -4.028008e+00 4.698745e-01 -8.572520 7.314185e-17\n",
       "2  PoolArea             6.069919e-03 7.571164e-04  8.017154 5.005725e-15\n",
       "3  OverallQual          5.733988e-02 7.266367e-03  7.891135 1.265933e-14\n",
       "4  OverallCond          4.797452e-02 6.316445e-03  7.595176 1.068160e-13\n",
       "5  Neighborhood.new     2.174003e-01 3.023997e-02  7.189171 1.788831e-12\n",
       "6  X2ndFlrSF            1.470715e-04 2.775301e-05  5.299298 1.591791e-07\n",
       "7  ScreenPorch          4.622124e-04 9.290397e-05  4.975163 8.346758e-07\n",
       "8  Condition1.new       2.798898e-01 6.056245e-02  4.621507 4.591810e-06\n",
       "9  standard_electrical -8.618088e-02 2.046677e-02 -4.210771 2.902254e-05\n",
       "10 X1stFlrSF            1.487414e-04 3.685698e-05  4.035636 6.090530e-05\n",
       "11 HouseStyle.new      -2.348860e-01 6.019107e-02 -3.902339 1.051504e-04\n",
       "12 BsmtFullBath         5.177741e-02 1.466653e-02  3.530310 4.442563e-04\n",
       "13 Condition2.new      -9.329215e-01 2.697883e-01 -3.457976 5.795997e-04\n",
       "14 TotRmsAbvGrd         2.212949e-02 6.515321e-03  3.396531 7.238588e-04\n",
       "15 all_utilities        4.555341e-01 1.370346e-01  3.324227 9.362125e-04\n",
       "16 is_land_level        6.855403e-02 2.077732e-02  3.299465 1.021344e-03\n",
       "17 BsmtExposure.new     1.548797e-01 4.717916e-02  3.282799 1.082627e-03\n",
       "18 GarageCars           4.508280e-02 1.580048e-02  2.853255 4.464425e-03\n",
       "19 YearBuilt            1.323249e-03 4.718916e-04  2.804137 5.195092e-03\n",
       "20 EnclosedPorch        2.546132e-04 9.299805e-05  2.737834 6.353024e-03\n",
       "21 is_full_functional   5.745125e-02 2.125159e-02  2.703387 7.042304e-03\n",
       "22 is_slope             7.174659e-02 2.840599e-02  2.525756 1.178038e-02\n",
       "23 RoofStyle.new        2.986039e-01 1.381305e-01  2.161752 3.099995e-02\n",
       "24 MSSubClass.new       8.344702e-02 3.862767e-02  2.160292 3.111321e-02\n",
       "25 SaleCondition.new    1.903308e-01 8.865912e-02  2.146771 3.217919e-02\n",
       "26 MSZoning.new         9.203302e-02 4.563838e-02  2.016571 4.414921e-02\n",
       "27 BsmtQual.new         6.446413e-02 3.271965e-02  1.970196 4.923803e-02\n",
       "28 is_street_paved      1.914990e-01 9.827142e-02  1.948674 5.176231e-02\n",
       "29 GarageYrBlt         -5.710327e-05 2.953928e-05 -1.933130 5.365219e-02\n",
       "30 BedroomAbvGr         1.822229e-02 9.459373e-03  1.926374 5.449140e-02\n",
       "31 LowQualFinSF         1.938333e-04 1.022768e-04  1.895183 5.850960e-02\n",
       "32 Fireplaces           2.801621e-02 1.483094e-02  1.889039 5.932948e-02\n",
       "33 LotArea              1.784819e-06 9.752095e-07  1.830191 6.767710e-02\n",
       "34 GarageArea           9.227635e-05 5.150492e-05  1.791603 7.365957e-02\n",
       "35 WoodDeckSF           7.858506e-05 4.396689e-05  1.787369 7.434150e-02\n",
       "36 X3SsnPorch           3.258421e-04 1.946350e-04  1.674119 9.458612e-02"
      ]
     },
     "metadata": {},
     "output_type": "display_data"
    }
   ],
   "source": [
    "model.lm <- lm(sale_price_log ~ ., data=trainset.ready)\n",
    "\n",
    "y_predicted <- predict(model.lm, testset.ready) %>% as.vector\n",
    "y_actual <- testset %>% mutate(sale_price_log = log(SalePrice)) %>% select(sale_price_log) %>% `[[`(1)\n",
    "rmse(y_predicted, y_actual)\n",
    "\n",
    "sp_predicted <- y_predicted %>% exp\n",
    "sp_actual <- testset %>% select(SalePrice) %>% `[[`(1)\n",
    "mean(100 * abs(sp_actual - sp_predicted) / sp_actual)\n",
    "\n",
    "glance(model.lm)\n",
    "tidy(model.lm) %>% arrange(p.value) %>% filter(p.value < 0.1)"
   ]
  },
  {
   "cell_type": "code",
   "execution_count": 8,
   "metadata": {},
   "outputs": [
    {
     "name": "stderr",
     "output_type": "stream",
     "text": [
      "Warning message in predict.lm(model, testset.ready):\n",
      "“prediction from a rank-deficient fit may be misleading”Warning message in predict.lm(model, testset.ready):\n",
      "“prediction from a rank-deficient fit may be misleading”Warning message in predict.lm(model, testset.ready):\n",
      "“prediction from a rank-deficient fit may be misleading”Warning message in predict.lm(model, testset.ready):\n",
      "“prediction from a rank-deficient fit may be misleading”Warning message in predict.lm(model, testset.ready):\n",
      "“prediction from a rank-deficient fit may be misleading”Warning message in predict.lm(model, testset.ready):\n",
      "“prediction from a rank-deficient fit may be misleading”Warning message in predict.lm(model, testset.ready):\n",
      "“prediction from a rank-deficient fit may be misleading”Warning message in predict.lm(model, testset.ready):\n",
      "“prediction from a rank-deficient fit may be misleading”Warning message in predict.lm(model, testset.ready):\n",
      "“prediction from a rank-deficient fit may be misleading”Warning message in predict.lm(model, testset.ready):\n",
      "“prediction from a rank-deficient fit may be misleading”Warning message in predict.lm(model, testset.ready):\n",
      "“prediction from a rank-deficient fit may be misleading”Warning message in predict.lm(model, testset.ready):\n",
      "“prediction from a rank-deficient fit may be misleading”Warning message in predict.lm(model, testset.ready):\n",
      "“prediction from a rank-deficient fit may be misleading”Warning message in predict.lm(model, testset.ready):\n",
      "“prediction from a rank-deficient fit may be misleading”Warning message in predict.lm(model, testset.ready):\n",
      "“prediction from a rank-deficient fit may be misleading”Warning message in predict.lm(model, testset.ready):\n",
      "“prediction from a rank-deficient fit may be misleading”Warning message in predict.lm(model, testset.ready):\n",
      "“prediction from a rank-deficient fit may be misleading”Warning message in predict.lm(model, testset.ready):\n",
      "“prediction from a rank-deficient fit may be misleading”Warning message in predict.lm(model, testset.ready):\n",
      "“prediction from a rank-deficient fit may be misleading”Warning message in predict.lm(model, testset.ready):\n",
      "“prediction from a rank-deficient fit may be misleading”"
     ]
    }
   ],
   "source": [
    "N = 20\n",
    "\n",
    "partitions <- caret::createDataPartition(y=df.training$sale_price_log, p=.5, list=F, times=N) %>% \n",
    "                as.data.frame %>% as.list\n",
    "\n",
    "buildModel <- function (partition) { \n",
    "    trainset <- df.training[partition,] %>% select(-SalePrice)\n",
    "    testset <- df.training[-partition,] %>% select(-sale_price_log)\n",
    "\n",
    "    tran.res <- kaggle.house$trans$doItAll(trainset, testset %>% select(-SalePrice))\n",
    "    trainset.ready <- tran.res$df.training\n",
    "    testset.ready <- tran.res$df.testing\n",
    "\n",
    "    model <- lm(sale_price_log ~ ., data=trainset.ready)\n",
    "    \n",
    "    y_predicted <- predict(model, testset.ready) %>% as.vector\n",
    "    y_actual <- testset %>% mutate(sale_price_log = log(SalePrice)) %>% select(sale_price_log) %>% `[[`(1)\n",
    "    \n",
    "    list(model=model, rmse=rmse(y_predicted, y_actual))\n",
    "}\n",
    "\n",
    "fits <- partitions %>% as.data.frame %>% as.list %>% map(buildModel)"
   ]
  },
  {
   "cell_type": "code",
   "execution_count": 9,
   "metadata": {},
   "outputs": [
    {
     "data": {
      "text/html": [
       "<ol class=list-inline>\n",
       "\t<li>0.146496400471705</li>\n",
       "\t<li>0.146701816649882</li>\n",
       "\t<li>0.163409560773935</li>\n",
       "\t<li>0.13295038548885</li>\n",
       "\t<li>0.171517906827583</li>\n",
       "\t<li>0.133409890619286</li>\n",
       "\t<li>0.166490215723652</li>\n",
       "\t<li>0.265142619858507</li>\n",
       "\t<li>0.144354067242578</li>\n",
       "\t<li>0.142038593058173</li>\n",
       "\t<li>0.194216194595337</li>\n",
       "\t<li>0.140482344274675</li>\n",
       "\t<li>0.150837284980002</li>\n",
       "\t<li>0.141351798994917</li>\n",
       "\t<li>0.13439865808395</li>\n",
       "\t<li>0.156096962791501</li>\n",
       "\t<li>0.456799319848039</li>\n",
       "\t<li>0.154302708966774</li>\n",
       "\t<li>0.129201050916751</li>\n",
       "\t<li>0.180407368687923</li>\n",
       "</ol>\n"
      ],
      "text/latex": [
       "\\begin{enumerate*}\n",
       "\\item 0.146496400471705\n",
       "\\item 0.146701816649882\n",
       "\\item 0.163409560773935\n",
       "\\item 0.13295038548885\n",
       "\\item 0.171517906827583\n",
       "\\item 0.133409890619286\n",
       "\\item 0.166490215723652\n",
       "\\item 0.265142619858507\n",
       "\\item 0.144354067242578\n",
       "\\item 0.142038593058173\n",
       "\\item 0.194216194595337\n",
       "\\item 0.140482344274675\n",
       "\\item 0.150837284980002\n",
       "\\item 0.141351798994917\n",
       "\\item 0.13439865808395\n",
       "\\item 0.156096962791501\n",
       "\\item 0.456799319848039\n",
       "\\item 0.154302708966774\n",
       "\\item 0.129201050916751\n",
       "\\item 0.180407368687923\n",
       "\\end{enumerate*}\n"
      ],
      "text/markdown": [
       "1. 0.146496400471705\n",
       "2. 0.146701816649882\n",
       "3. 0.163409560773935\n",
       "4. 0.13295038548885\n",
       "5. 0.171517906827583\n",
       "6. 0.133409890619286\n",
       "7. 0.166490215723652\n",
       "8. 0.265142619858507\n",
       "9. 0.144354067242578\n",
       "10. 0.142038593058173\n",
       "11. 0.194216194595337\n",
       "12. 0.140482344274675\n",
       "13. 0.150837284980002\n",
       "14. 0.141351798994917\n",
       "15. 0.13439865808395\n",
       "16. 0.156096962791501\n",
       "17. 0.456799319848039\n",
       "18. 0.154302708966774\n",
       "19. 0.129201050916751\n",
       "20. 0.180407368687923\n",
       "\n",
       "\n"
      ],
      "text/plain": [
       " [1] 0.1464964 0.1467018 0.1634096 0.1329504 0.1715179 0.1334099 0.1664902\n",
       " [8] 0.2651426 0.1443541 0.1420386 0.1942162 0.1404823 0.1508373 0.1413518\n",
       "[15] 0.1343987 0.1560970 0.4567993 0.1543027 0.1292011 0.1804074"
      ]
     },
     "metadata": {},
     "output_type": "display_data"
    }
   ],
   "source": [
    "rmse.sample <- fits %>% map(function(item) { item$rmse }) %>% unlist %>% as.vector\n",
    "rmse.sample"
   ]
  },
  {
   "cell_type": "code",
   "execution_count": 10,
   "metadata": {},
   "outputs": [
    {
     "data": {
      "text/html": [
       "<ol class=list-inline>\n",
       "\t<li>0.921354469091557</li>\n",
       "\t<li>0.922523904125126</li>\n",
       "\t<li>0.931662700110471</li>\n",
       "\t<li>0.903263848857996</li>\n",
       "\t<li>0.946633729911482</li>\n",
       "\t<li>0.910739452864301</li>\n",
       "\t<li>0.931827146162098</li>\n",
       "\t<li>0.913405051126095</li>\n",
       "\t<li>0.919709876706743</li>\n",
       "\t<li>0.91243210970072</li>\n",
       "\t<li>0.918490882681892</li>\n",
       "\t<li>0.904221902253224</li>\n",
       "\t<li>0.921357289265682</li>\n",
       "\t<li>0.909117110191407</li>\n",
       "\t<li>0.906139955166118</li>\n",
       "\t<li>0.921706324302495</li>\n",
       "\t<li>0.914640300142655</li>\n",
       "\t<li>0.925025430100359</li>\n",
       "\t<li>0.898804479472366</li>\n",
       "\t<li>0.903147869614318</li>\n",
       "</ol>\n"
      ],
      "text/latex": [
       "\\begin{enumerate*}\n",
       "\\item 0.921354469091557\n",
       "\\item 0.922523904125126\n",
       "\\item 0.931662700110471\n",
       "\\item 0.903263848857996\n",
       "\\item 0.946633729911482\n",
       "\\item 0.910739452864301\n",
       "\\item 0.931827146162098\n",
       "\\item 0.913405051126095\n",
       "\\item 0.919709876706743\n",
       "\\item 0.91243210970072\n",
       "\\item 0.918490882681892\n",
       "\\item 0.904221902253224\n",
       "\\item 0.921357289265682\n",
       "\\item 0.909117110191407\n",
       "\\item 0.906139955166118\n",
       "\\item 0.921706324302495\n",
       "\\item 0.914640300142655\n",
       "\\item 0.925025430100359\n",
       "\\item 0.898804479472366\n",
       "\\item 0.903147869614318\n",
       "\\end{enumerate*}\n"
      ],
      "text/markdown": [
       "1. 0.921354469091557\n",
       "2. 0.922523904125126\n",
       "3. 0.931662700110471\n",
       "4. 0.903263848857996\n",
       "5. 0.946633729911482\n",
       "6. 0.910739452864301\n",
       "7. 0.931827146162098\n",
       "8. 0.913405051126095\n",
       "9. 0.919709876706743\n",
       "10. 0.91243210970072\n",
       "11. 0.918490882681892\n",
       "12. 0.904221902253224\n",
       "13. 0.921357289265682\n",
       "14. 0.909117110191407\n",
       "15. 0.906139955166118\n",
       "16. 0.921706324302495\n",
       "17. 0.914640300142655\n",
       "18. 0.925025430100359\n",
       "19. 0.898804479472366\n",
       "20. 0.903147869614318\n",
       "\n",
       "\n"
      ],
      "text/plain": [
       " [1] 0.9213545 0.9225239 0.9316627 0.9032638 0.9466337 0.9107395 0.9318271\n",
       " [8] 0.9134051 0.9197099 0.9124321 0.9184909 0.9042219 0.9213573 0.9091171\n",
       "[15] 0.9061400 0.9217063 0.9146403 0.9250254 0.8988045 0.9031479"
      ]
     },
     "metadata": {},
     "output_type": "display_data"
    }
   ],
   "source": [
    "r.squared.sample <- fits %>% map(function(item) { glance(item$model)[['r.squared']] }) %>% unlist %>% as.vector\n",
    "r.squared.sample"
   ]
  },
  {
   "cell_type": "code",
   "execution_count": 36,
   "metadata": {},
   "outputs": [
    {
     "data": {
      "text/html": [
       "'BsmtFinSF1+Condition2.new+has_pool+MSZoning.new+Neighborhood.new+OverallCond+OverallQual+PoolArea+X1stFlrSF+X2ndFlrSF'"
      ],
      "text/latex": [
       "'BsmtFinSF1+Condition2.new+has\\_pool+MSZoning.new+Neighborhood.new+OverallCond+OverallQual+PoolArea+X1stFlrSF+X2ndFlrSF'"
      ],
      "text/markdown": [
       "'BsmtFinSF1+Condition2.new+has_pool+MSZoning.new+Neighborhood.new+OverallCond+OverallQual+PoolArea+X1stFlrSF+X2ndFlrSF'"
      ],
      "text/plain": [
       "[1] \"BsmtFinSF1+Condition2.new+has_pool+MSZoning.new+Neighborhood.new+OverallCond+OverallQual+PoolArea+X1stFlrSF+X2ndFlrSF\""
      ]
     },
     "metadata": {},
     "output_type": "display_data"
    }
   ],
   "source": [
    "coeff.sample <- fits %>% map(function(item) { tidy(item$model) }) %>% bind_rows\n",
    "coeff.sample %>% \n",
    "    arrange(term, estimate) %>% \n",
    "    group_by(term) %>% \n",
    "    mutate(n=n()) %>% \n",
    "    filter(p.value < 0.00000001, n == N) %>%\n",
    "    distinct(term) %>%\n",
    "    `[[`(1) %>% paste(collapse = '+')"
   ]
  },
  {
   "cell_type": "code",
   "execution_count": 73,
   "metadata": {},
   "outputs": [
    {
     "data": {
      "text/html": [
       "<table>\n",
       "<thead><tr><th scope=col>r.squared</th><th scope=col>adj.r.squared</th><th scope=col>sigma</th><th scope=col>statistic</th><th scope=col>p.value</th><th scope=col>df</th><th scope=col>logLik</th><th scope=col>AIC</th><th scope=col>BIC</th><th scope=col>deviance</th><th scope=col>df.residual</th></tr></thead>\n",
       "<tbody>\n",
       "\t<tr><td>0.821786     </td><td>0.8208041    </td><td>0.1710691    </td><td>836.9385     </td><td>3.698344e-270</td><td>5            </td><td>255.9821     </td><td>-499.9643    </td><td>-472.3978    </td><td>21.24613     </td><td>726          </td></tr>\n",
       "</tbody>\n",
       "</table>\n"
      ],
      "text/latex": [
       "\\begin{tabular}{r|lllllllllll}\n",
       " r.squared & adj.r.squared & sigma & statistic & p.value & df & logLik & AIC & BIC & deviance & df.residual\\\\\n",
       "\\hline\n",
       "\t 0.821786      & 0.8208041     & 0.1710691     & 836.9385      & 3.698344e-270 & 5             & 255.9821      & -499.9643     & -472.3978     & 21.24613      & 726          \\\\\n",
       "\\end{tabular}\n"
      ],
      "text/markdown": [
       "\n",
       "r.squared | adj.r.squared | sigma | statistic | p.value | df | logLik | AIC | BIC | deviance | df.residual | \n",
       "|---|\n",
       "| 0.821786      | 0.8208041     | 0.1710691     | 836.9385      | 3.698344e-270 | 5             | 255.9821      | -499.9643     | -472.3978     | 21.24613      | 726           | \n",
       "\n",
       "\n"
      ],
      "text/plain": [
       "  r.squared adj.r.squared sigma     statistic p.value       df logLik  \n",
       "1 0.821786  0.8208041     0.1710691 836.9385  3.698344e-270 5  255.9821\n",
       "  AIC       BIC       deviance df.residual\n",
       "1 -499.9643 -472.3978 21.24613 726        "
      ]
     },
     "metadata": {},
     "output_type": "display_data"
    },
    {
     "data": {
      "text/html": [
       "<table>\n",
       "<thead><tr><th scope=col>term</th><th scope=col>estimate</th><th scope=col>std.error</th><th scope=col>statistic</th><th scope=col>p.value</th></tr></thead>\n",
       "<tbody>\n",
       "\t<tr><td>(Intercept)     </td><td> 2.68547163     </td><td>0.356883505     </td><td> 7.524785       </td><td>1.565977e-13    </td></tr>\n",
       "\t<tr><td>OverallQual     </td><td> 0.10007796     </td><td>0.007335438     </td><td>13.643079       </td><td>6.806402e-38    </td></tr>\n",
       "\t<tr><td>Neighborhood.new</td><td> 0.40180848     </td><td>0.029131816     </td><td>13.792771       </td><td>1.321210e-38    </td></tr>\n",
       "\t<tr><td>GrLivArea.log   </td><td> 0.54423481     </td><td>0.029830676     </td><td>18.244133       </td><td>1.685223e-61    </td></tr>\n",
       "\t<tr><td>X2ndFlrSF.log   </td><td>-0.02067125     </td><td>0.002435807     </td><td>-8.486408       </td><td>1.193861e-16    </td></tr>\n",
       "</tbody>\n",
       "</table>\n"
      ],
      "text/latex": [
       "\\begin{tabular}{r|lllll}\n",
       " term & estimate & std.error & statistic & p.value\\\\\n",
       "\\hline\n",
       "\t (Intercept)      &  2.68547163      & 0.356883505      &  7.524785        & 1.565977e-13    \\\\\n",
       "\t OverallQual      &  0.10007796      & 0.007335438      & 13.643079        & 6.806402e-38    \\\\\n",
       "\t Neighborhood.new &  0.40180848      & 0.029131816      & 13.792771        & 1.321210e-38    \\\\\n",
       "\t GrLivArea.log    &  0.54423481      & 0.029830676      & 18.244133        & 1.685223e-61    \\\\\n",
       "\t X2ndFlrSF.log    & -0.02067125      & 0.002435807      & -8.486408        & 1.193861e-16    \\\\\n",
       "\\end{tabular}\n"
      ],
      "text/markdown": [
       "\n",
       "term | estimate | std.error | statistic | p.value | \n",
       "|---|---|---|---|---|\n",
       "| (Intercept)      |  2.68547163      | 0.356883505      |  7.524785        | 1.565977e-13     | \n",
       "| OverallQual      |  0.10007796      | 0.007335438      | 13.643079        | 6.806402e-38     | \n",
       "| Neighborhood.new |  0.40180848      | 0.029131816      | 13.792771        | 1.321210e-38     | \n",
       "| GrLivArea.log    |  0.54423481      | 0.029830676      | 18.244133        | 1.685223e-61     | \n",
       "| X2ndFlrSF.log    | -0.02067125      | 0.002435807      | -8.486408        | 1.193861e-16     | \n",
       "\n",
       "\n"
      ],
      "text/plain": [
       "  term             estimate    std.error   statistic p.value     \n",
       "1 (Intercept)       2.68547163 0.356883505  7.524785 1.565977e-13\n",
       "2 OverallQual       0.10007796 0.007335438 13.643079 6.806402e-38\n",
       "3 Neighborhood.new  0.40180848 0.029131816 13.792771 1.321210e-38\n",
       "4 GrLivArea.log     0.54423481 0.029830676 18.244133 1.685223e-61\n",
       "5 X2ndFlrSF.log    -0.02067125 0.002435807 -8.486408 1.193861e-16"
      ]
     },
     "metadata": {},
     "output_type": "display_data"
    },
    {
     "data": {
      "text/html": [
       "0.16552787815165"
      ],
      "text/latex": [
       "0.16552787815165"
      ],
      "text/markdown": [
       "0.16552787815165"
      ],
      "text/plain": [
       "[1] 0.1655279"
      ]
     },
     "metadata": {},
     "output_type": "display_data"
    },
    {
     "data": {
      "text/html": [
       "12.5718343865702"
      ],
      "text/latex": [
       "12.5718343865702"
      ],
      "text/markdown": [
       "12.5718343865702"
      ],
      "text/plain": [
       "[1] 12.57183"
      ]
     },
     "metadata": {},
     "output_type": "display_data"
    }
   ],
   "source": [
    "df.tr <- \n",
    "    trainset.ready %>% \n",
    "    mutate(\n",
    "        GrLivArea.log = log(GrLivArea),\n",
    "        X1stFlrSF.log = log(X1stFlrSF),\n",
    "        X2ndFlrSF.log = log(X2ndFlrSF + 1)\n",
    "    )\n",
    "\n",
    "df.te <- \n",
    "    testset.ready %>% \n",
    "    mutate(\n",
    "        GrLivArea.log = log(GrLivArea),\n",
    "        X1stFlrSF.log = log(X1stFlrSF),\n",
    "        X2ndFlrSF.log = log(X2ndFlrSF + 1)\n",
    "    )\n",
    "\n",
    "model.lm <- lm(\n",
    "    sale_price_log ~ OverallQual+Neighborhood.new+GrLivArea.log+X2ndFlrSF.log, \n",
    "    data=df.tr)\n",
    "\n",
    "\n",
    "glance(model.lm)\n",
    "tidy(model.lm)\n",
    "\n",
    "y_predicted <- predict(model.lm, df.te) %>% as.vector\n",
    "y_actual <- testset %>% mutate(sale_price_log = log(SalePrice)) %>% select(sale_price_log) %>% `[[`(1)\n",
    "rmse(y_predicted, y_actual)\n",
    "\n",
    "sp_predicted <- y_predicted %>% exp\n",
    "sp_actual <- testset %>% select(SalePrice) %>% `[[`(1)\n",
    "mean(100 * abs(sp_actual - sp_predicted) / sp_actual)"
   ]
  },
  {
   "cell_type": "code",
   "execution_count": null,
   "metadata": {
    "collapsed": true
   },
   "outputs": [],
   "source": []
  },
  {
   "cell_type": "code",
   "execution_count": null,
   "metadata": {
    "collapsed": true
   },
   "outputs": [],
   "source": []
  },
  {
   "cell_type": "code",
   "execution_count": null,
   "metadata": {
    "collapsed": true
   },
   "outputs": [],
   "source": []
  },
  {
   "cell_type": "code",
   "execution_count": null,
   "metadata": {
    "collapsed": true
   },
   "outputs": [],
   "source": []
  },
  {
   "cell_type": "code",
   "execution_count": null,
   "metadata": {
    "collapsed": true
   },
   "outputs": [],
   "source": []
  },
  {
   "cell_type": "code",
   "execution_count": null,
   "metadata": {
    "collapsed": true
   },
   "outputs": [],
   "source": []
  },
  {
   "cell_type": "code",
   "execution_count": null,
   "metadata": {
    "collapsed": true
   },
   "outputs": [],
   "source": []
  },
  {
   "cell_type": "code",
   "execution_count": null,
   "metadata": {
    "collapsed": true
   },
   "outputs": [],
   "source": []
  },
  {
   "cell_type": "code",
   "execution_count": null,
   "metadata": {
    "collapsed": true
   },
   "outputs": [],
   "source": []
  },
  {
   "cell_type": "code",
   "execution_count": null,
   "metadata": {
    "collapsed": true
   },
   "outputs": [],
   "source": []
  },
  {
   "cell_type": "code",
   "execution_count": null,
   "metadata": {
    "collapsed": true
   },
   "outputs": [],
   "source": []
  },
  {
   "cell_type": "code",
   "execution_count": null,
   "metadata": {
    "collapsed": true
   },
   "outputs": [],
   "source": []
  }
 ],
 "metadata": {
  "kernelspec": {
   "display_name": "R",
   "language": "R",
   "name": "ir"
  },
  "language_info": {
   "codemirror_mode": "r",
   "file_extension": ".r",
   "mimetype": "text/x-r-source",
   "name": "R",
   "pygments_lexer": "r",
   "version": "3.4.2"
  }
 },
 "nbformat": 4,
 "nbformat_minor": 2
}
