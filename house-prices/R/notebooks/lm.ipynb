{
 "cells": [
  {
   "cell_type": "code",
   "execution_count": 78,
   "metadata": {},
   "outputs": [
    {
     "data": {
      "text/html": [
       "'/mnt/hdd/develop/kaggle/house-prices/R/R'"
      ],
      "text/latex": [
       "'/mnt/hdd/develop/kaggle/house-prices/R/R'"
      ],
      "text/markdown": [
       "'/mnt/hdd/develop/kaggle/house-prices/R/R'"
      ],
      "text/plain": [
       "[1] \"/mnt/hdd/develop/kaggle/house-prices/R/R\""
      ]
     },
     "metadata": {},
     "output_type": "display_data"
    }
   ],
   "source": [
    "setwd(paste0(Sys.getenv('ROOT'), '/R'))\n",
    "getwd()"
   ]
  },
  {
   "cell_type": "code",
   "execution_count": 79,
   "metadata": {
    "collapsed": true
   },
   "outputs": [],
   "source": [
    "library(Metrics)\n",
    "source('main.R')\n",
    "\n",
    "data <- kaggle.house$loadData()\n",
    "\n",
    "df.combined <- kaggle.house$getCombinedDataset(data$train, data$test) %>% (kaggle.house$na$fixAll)\n",
    "\n",
    "df.training <- \n",
    "    df.combined %>% \n",
    "    filter(dataSource == \"train\") %>% \n",
    "    mutate(sale_price_log = log(SalePrice)) %>%\n",
    "    select(-dataSource)"
   ]
  },
  {
   "cell_type": "code",
   "execution_count": 88,
   "metadata": {},
   "outputs": [
    {
     "data": {
      "text/html": [
       "'sale_price_log'"
      ],
      "text/latex": [
       "'sale\\_price\\_log'"
      ],
      "text/markdown": [
       "'sale_price_log'"
      ],
      "text/plain": [
       "[1] \"sale_price_log\""
      ]
     },
     "metadata": {},
     "output_type": "display_data"
    },
    {
     "data": {
      "text/html": [
       "'SalePrice'"
      ],
      "text/latex": [
       "'SalePrice'"
      ],
      "text/markdown": [
       "'SalePrice'"
      ],
      "text/plain": [
       "[1] \"SalePrice\""
      ]
     },
     "metadata": {},
     "output_type": "display_data"
    }
   ],
   "source": [
    "partition <- caret::createDataPartition(y=df.training$sale_price_log, p=.5, list=F, times=1)\n",
    "\n",
    "trainset <- df.training[partition,] %>% select(-SalePrice)\n",
    "\n",
    "testset <- df.training[-partition,] %>% select(-sale_price_log)\n",
    "\n",
    "setdiff(trainset %>% colnames, testset %>% colnames)\n",
    "setdiff(testset %>% colnames, trainset %>% colnames)"
   ]
  },
  {
   "cell_type": "code",
   "execution_count": 89,
   "metadata": {},
   "outputs": [
    {
     "data": {
      "text/html": [
       "<ol class=list-inline>\n",
       "\t<li>731</li>\n",
       "\t<li>729</li>\n",
       "</ol>\n"
      ],
      "text/latex": [
       "\\begin{enumerate*}\n",
       "\\item 731\n",
       "\\item 729\n",
       "\\end{enumerate*}\n"
      ],
      "text/markdown": [
       "1. 731\n",
       "2. 729\n",
       "\n",
       "\n"
      ],
      "text/plain": [
       "[1] 731 729"
      ]
     },
     "metadata": {},
     "output_type": "display_data"
    },
    {
     "data": {
      "text/html": [
       "<ol class=list-inline>\n",
       "\t<li>'1. '</li>\n",
       "\t<li>'sale_price_log'</li>\n",
       "</ol>\n"
      ],
      "text/latex": [
       "\\begin{enumerate*}\n",
       "\\item '1. '\n",
       "\\item 'sale\\_price\\_log'\n",
       "\\end{enumerate*}\n"
      ],
      "text/markdown": [
       "1. '1. '\n",
       "2. 'sale_price_log'\n",
       "\n",
       "\n"
      ],
      "text/plain": [
       "[1] \"1. \"            \"sale_price_log\""
      ]
     },
     "metadata": {},
     "output_type": "display_data"
    },
    {
     "data": {
      "text/html": [
       "'2. '"
      ],
      "text/latex": [
       "'2. '"
      ],
      "text/markdown": [
       "'2. '"
      ],
      "text/plain": [
       "[1] \"2. \""
      ]
     },
     "metadata": {},
     "output_type": "display_data"
    }
   ],
   "source": [
    "tran.res <- kaggle.house$trans$doItAll(trainset, testset %>% select(-SalePrice))\n",
    "trainset.ready <- tran.res$df.training\n",
    "testset.ready <- tran.res$df.testing\n",
    "\n",
    "# Should be only numeric columns\n",
    "stopifnot(0 == trainset.ready %>% purrr::map(function (col) { !is.numeric(col) }) %>% unlist %>% sum)\n",
    "stopifnot(0 == testset.ready %>% purrr::map(function (col) { !is.numeric(col) }) %>% unlist %>% sum)\n",
    "\n",
    "c(trainset.ready %>% nrow, testset.ready %>% nrow)\n",
    "\n",
    "c('1. ', setdiff(trainset.ready %>% colnames, testset.ready %>% colnames))\n",
    "c('2. ', setdiff(testset.ready %>% colnames, trainset.ready %>% colnames))"
   ]
  },
  {
   "cell_type": "code",
   "execution_count": 90,
   "metadata": {},
   "outputs": [
    {
     "data": {
      "text/html": [
       "<table>\n",
       "<thead><tr><th scope=col>BldgType</th><th scope=col>median(log(SalePrice))</th></tr></thead>\n",
       "<tbody>\n",
       "\t<tr><td>1Fam    </td><td>12.02575</td></tr>\n",
       "\t<tr><td>2fmCon  </td><td>11.71587</td></tr>\n",
       "\t<tr><td>Duplex  </td><td>11.82591</td></tr>\n",
       "\t<tr><td>Twnhs   </td><td>11.89613</td></tr>\n",
       "\t<tr><td>TwnhsE  </td><td>12.05641</td></tr>\n",
       "</tbody>\n",
       "</table>\n"
      ],
      "text/latex": [
       "\\begin{tabular}{r|ll}\n",
       " BldgType & median(log(SalePrice))\\\\\n",
       "\\hline\n",
       "\t 1Fam     & 12.02575\\\\\n",
       "\t 2fmCon   & 11.71587\\\\\n",
       "\t Duplex   & 11.82591\\\\\n",
       "\t Twnhs    & 11.89613\\\\\n",
       "\t TwnhsE   & 12.05641\\\\\n",
       "\\end{tabular}\n"
      ],
      "text/markdown": [
       "\n",
       "BldgType | median(log(SalePrice)) | \n",
       "|---|---|---|---|---|\n",
       "| 1Fam     | 12.02575 | \n",
       "| 2fmCon   | 11.71587 | \n",
       "| Duplex   | 11.82591 | \n",
       "| Twnhs    | 11.89613 | \n",
       "| TwnhsE   | 12.05641 | \n",
       "\n",
       "\n"
      ],
      "text/plain": [
       "  BldgType median(log(SalePrice))\n",
       "1 1Fam     12.02575              \n",
       "2 2fmCon   11.71587              \n",
       "3 Duplex   11.82591              \n",
       "4 Twnhs    11.89613              \n",
       "5 TwnhsE   12.05641              "
      ]
     },
     "metadata": {},
     "output_type": "display_data"
    },
    {
     "data": {
      "text/html": [
       "<table>\n",
       "<thead><tr><th scope=col>BldgType</th><th scope=col>min(BldgType.new)</th><th scope=col>max(BldgType.new)</th></tr></thead>\n",
       "<tbody>\n",
       "\t<tr><td>1Fam    </td><td>12.03913</td><td>12.03913</td></tr>\n",
       "\t<tr><td>2fmCon  </td><td>11.81226</td><td>11.81226</td></tr>\n",
       "\t<tr><td>Duplex  </td><td>11.73407</td><td>11.73407</td></tr>\n",
       "\t<tr><td>Twnhs   </td><td>11.77529</td><td>11.77529</td></tr>\n",
       "\t<tr><td>TwnhsE  </td><td>12.05597</td><td>12.05597</td></tr>\n",
       "</tbody>\n",
       "</table>\n"
      ],
      "text/latex": [
       "\\begin{tabular}{r|lll}\n",
       " BldgType & min(BldgType.new) & max(BldgType.new)\\\\\n",
       "\\hline\n",
       "\t 1Fam     & 12.03913 & 12.03913\\\\\n",
       "\t 2fmCon   & 11.81226 & 11.81226\\\\\n",
       "\t Duplex   & 11.73407 & 11.73407\\\\\n",
       "\t Twnhs    & 11.77529 & 11.77529\\\\\n",
       "\t TwnhsE   & 12.05597 & 12.05597\\\\\n",
       "\\end{tabular}\n"
      ],
      "text/markdown": [
       "\n",
       "BldgType | min(BldgType.new) | max(BldgType.new) | \n",
       "|---|---|---|---|---|\n",
       "| 1Fam     | 12.03913 | 12.03913 | \n",
       "| 2fmCon   | 11.81226 | 11.81226 | \n",
       "| Duplex   | 11.73407 | 11.73407 | \n",
       "| Twnhs    | 11.77529 | 11.77529 | \n",
       "| TwnhsE   | 12.05597 | 12.05597 | \n",
       "\n",
       "\n"
      ],
      "text/plain": [
       "  BldgType min(BldgType.new) max(BldgType.new)\n",
       "1 1Fam     12.03913          12.03913         \n",
       "2 2fmCon   11.81226          11.81226         \n",
       "3 Duplex   11.73407          11.73407         \n",
       "4 Twnhs    11.77529          11.77529         \n",
       "5 TwnhsE   12.05597          12.05597         "
      ]
     },
     "metadata": {},
     "output_type": "display_data"
    }
   ],
   "source": [
    "# sanity check\n",
    "\n",
    "testset %>% group_by(BldgType) %>% summarise(median(log(SalePrice)))\n",
    "\n",
    "cbind(testset.ready %>% select(BldgType.new), testset %>% select(BldgType)) %>% \n",
    "    group_by(BldgType) %>% summarise(min(BldgType.new), max(BldgType.new))\n"
   ]
  },
  {
   "cell_type": "code",
   "execution_count": 92,
   "metadata": {},
   "outputs": [
    {
     "name": "stderr",
     "output_type": "stream",
     "text": [
      "Warning message in predict.lm(model.lm, testset.ready):\n",
      "“prediction from a rank-deficient fit may be misleading”"
     ]
    },
    {
     "data": {
      "text/html": [
       "0.174675509383704"
      ],
      "text/latex": [
       "0.174675509383704"
      ],
      "text/markdown": [
       "0.174675509383704"
      ],
      "text/plain": [
       "[1] 0.1746755"
      ]
     },
     "metadata": {},
     "output_type": "display_data"
    },
    {
     "data": {
      "text/html": [
       "11.5660650436396"
      ],
      "text/latex": [
       "11.5660650436396"
      ],
      "text/markdown": [
       "11.5660650436396"
      ],
      "text/plain": [
       "[1] 11.56607"
      ]
     },
     "metadata": {},
     "output_type": "display_data"
    },
    {
     "data": {
      "text/html": [
       "<table>\n",
       "<thead><tr><th scope=col>r.squared</th><th scope=col>adj.r.squared</th><th scope=col>sigma</th><th scope=col>statistic</th><th scope=col>p.value</th><th scope=col>df</th><th scope=col>logLik</th><th scope=col>AIC</th><th scope=col>BIC</th><th scope=col>deviance</th><th scope=col>df.residual</th></tr></thead>\n",
       "<tbody>\n",
       "\t<tr><td>0.9370307</td><td>0.9297132</td><td>0.1058743</td><td>128.0528 </td><td>0        </td><td>77       </td><td>644.9006 </td><td>-1133.801</td><td>-775.4369</td><td>7.330931 </td><td>654      </td></tr>\n",
       "</tbody>\n",
       "</table>\n"
      ],
      "text/latex": [
       "\\begin{tabular}{r|lllllllllll}\n",
       " r.squared & adj.r.squared & sigma & statistic & p.value & df & logLik & AIC & BIC & deviance & df.residual\\\\\n",
       "\\hline\n",
       "\t 0.9370307 & 0.9297132 & 0.1058743 & 128.0528  & 0         & 77        & 644.9006  & -1133.801 & -775.4369 & 7.330931  & 654      \\\\\n",
       "\\end{tabular}\n"
      ],
      "text/markdown": [
       "\n",
       "r.squared | adj.r.squared | sigma | statistic | p.value | df | logLik | AIC | BIC | deviance | df.residual | \n",
       "|---|\n",
       "| 0.9370307 | 0.9297132 | 0.1058743 | 128.0528  | 0         | 77        | 644.9006  | -1133.801 | -775.4369 | 7.330931  | 654       | \n",
       "\n",
       "\n"
      ],
      "text/plain": [
       "  r.squared adj.r.squared sigma     statistic p.value df logLik   AIC      \n",
       "1 0.9370307 0.9297132     0.1058743 128.0528  0       77 644.9006 -1133.801\n",
       "  BIC       deviance df.residual\n",
       "1 -775.4369 7.330931 654        "
      ]
     },
     "metadata": {},
     "output_type": "display_data"
    },
    {
     "data": {
      "text/html": [
       "<table>\n",
       "<thead><tr><th scope=col>term</th><th scope=col>estimate</th><th scope=col>std.error</th><th scope=col>statistic</th><th scope=col>p.value</th></tr></thead>\n",
       "<tbody>\n",
       "\t<tr><td>X2ndFlrSF          </td><td> 2.534787e-04      </td><td>2.346005e-05       </td><td>10.804699          </td><td>3.757998e-25       </td></tr>\n",
       "\t<tr><td>OverallQual        </td><td> 5.464718e-02      </td><td>6.297153e-03       </td><td> 8.678078          </td><td>3.186243e-17       </td></tr>\n",
       "\t<tr><td>X1stFlrSF          </td><td> 2.397066e-04      </td><td>2.854763e-05       </td><td> 8.396724          </td><td>2.846766e-16       </td></tr>\n",
       "\t<tr><td>OverallCond        </td><td> 4.067998e-02      </td><td>5.254481e-03       </td><td> 7.741960          </td><td>3.732257e-14       </td></tr>\n",
       "\t<tr><td>MSZoning.new       </td><td> 2.519823e-01      </td><td>3.738822e-02       </td><td> 6.739616          </td><td>3.489388e-11       </td></tr>\n",
       "\t<tr><td>BsmtFinSF1         </td><td> 1.664376e-04      </td><td>2.483797e-05       </td><td> 6.700932          </td><td>4.472988e-11       </td></tr>\n",
       "\t<tr><td>SaleCondition.new  </td><td> 4.055894e-01      </td><td>6.653294e-02       </td><td> 6.096069          </td><td>1.858089e-09       </td></tr>\n",
       "\t<tr><td>Neighborhood.new   </td><td> 1.263385e-01      </td><td>2.544617e-02       </td><td> 4.964930          </td><td>8.778951e-07       </td></tr>\n",
       "\t<tr><td>is_full_functional </td><td> 7.884250e-02      </td><td>1.805382e-02       </td><td> 4.367081          </td><td>1.463685e-05       </td></tr>\n",
       "\t<tr><td>ScreenPorch        </td><td> 3.090737e-04      </td><td>7.238177e-05       </td><td> 4.270049          </td><td>2.244068e-05       </td></tr>\n",
       "\t<tr><td>SaleType.new       </td><td>-2.531752e-01      </td><td>7.028287e-02       </td><td>-3.602232          </td><td>3.394297e-04       </td></tr>\n",
       "\t<tr><td>BsmtUnfSF          </td><td> 8.113806e-05      </td><td>2.294322e-05       </td><td> 3.536472          </td><td>4.341656e-04       </td></tr>\n",
       "\t<tr><td>BsmtFinSF2         </td><td> 1.145795e-04      </td><td>3.472732e-05       </td><td> 3.299405          </td><td>1.021479e-03       </td></tr>\n",
       "\t<tr><td>has_central_air    </td><td> 7.469221e-02      </td><td>2.396745e-02       </td><td> 3.116402          </td><td>1.910914e-03       </td></tr>\n",
       "\t<tr><td>OpenPorchSF        </td><td> 2.375716e-04      </td><td>7.750354e-05       </td><td> 3.065300          </td><td>2.264082e-03       </td></tr>\n",
       "\t<tr><td>Exterior1st.new    </td><td> 1.726778e-01      </td><td>5.801782e-02       </td><td> 2.976289          </td><td>3.025340e-03       </td></tr>\n",
       "\t<tr><td>Foundation.new     </td><td> 8.809689e-02      </td><td>3.172703e-02       </td><td> 2.776714          </td><td>5.648371e-03       </td></tr>\n",
       "\t<tr><td>BsmtExposure.new   </td><td> 1.020867e-01      </td><td>3.678841e-02       </td><td> 2.774969          </td><td>5.678408e-03       </td></tr>\n",
       "\t<tr><td>EnclosedPorch      </td><td> 2.032469e-04      </td><td>7.519101e-05       </td><td> 2.703074          </td><td>7.048571e-03       </td></tr>\n",
       "\t<tr><td>LotArea            </td><td> 1.620325e-06      </td><td>6.209613e-07       </td><td> 2.609382          </td><td>9.278062e-03       </td></tr>\n",
       "\t<tr><td>LowQualFinSF       </td><td> 2.225646e-04      </td><td>8.587995e-05       </td><td> 2.591578          </td><td>9.766916e-03       </td></tr>\n",
       "\t<tr><td>ExterCond.new      </td><td> 1.189005e-01      </td><td>4.825274e-02       </td><td> 2.464120          </td><td>1.399116e-02       </td></tr>\n",
       "\t<tr><td>GarageCars         </td><td> 3.401848e-02      </td><td>1.409768e-02       </td><td> 2.413056          </td><td>1.609338e-02       </td></tr>\n",
       "\t<tr><td>Condition1.new     </td><td> 1.091698e-01      </td><td>4.655749e-02       </td><td> 2.344838          </td><td>1.933347e-02       </td></tr>\n",
       "\t<tr><td>HeatingQC.new      </td><td> 6.761159e-02      </td><td>2.895943e-02       </td><td> 2.334700          </td><td>1.986078e-02       </td></tr>\n",
       "\t<tr><td>heating_air_furnace</td><td> 7.396947e-02      </td><td>3.535228e-02       </td><td> 2.092354          </td><td>3.679181e-02       </td></tr>\n",
       "\t<tr><td>is_street_paved    </td><td> 1.234122e-01      </td><td>6.421515e-02       </td><td> 1.921855          </td><td>5.505822e-02       </td></tr>\n",
       "\t<tr><td>LotFrontage        </td><td> 2.530402e-04      </td><td>1.317084e-04       </td><td> 1.921216          </td><td>5.513888e-02       </td></tr>\n",
       "\t<tr><td>is_lotshape_regular</td><td>-1.716513e-02      </td><td>9.563731e-03       </td><td>-1.794815          </td><td>7.314481e-02       </td></tr>\n",
       "\t<tr><td>ExterQual.new      </td><td> 4.853416e-02      </td><td>2.719570e-02       </td><td> 1.784626          </td><td>7.478539e-02       </td></tr>\n",
       "\t<tr><td>BsmtCond.new       </td><td>-1.175361e-01      </td><td>6.747425e-02       </td><td>-1.741940          </td><td>8.198908e-02       </td></tr>\n",
       "\t<tr><td>YearRemodAdd       </td><td> 5.517391e-04      </td><td>3.252145e-04       </td><td> 1.696539          </td><td>9.025971e-02       </td></tr>\n",
       "\t<tr><td>has_alley_access   </td><td>-3.107440e-02      </td><td>1.877185e-02       </td><td>-1.655372          </td><td>9.832872e-02       </td></tr>\n",
       "\t<tr><td>BsmtFullBath       </td><td> 1.949142e-02      </td><td>1.179136e-02       </td><td> 1.653026          </td><td>9.880551e-02       </td></tr>\n",
       "</tbody>\n",
       "</table>\n"
      ],
      "text/latex": [
       "\\begin{tabular}{r|lllll}\n",
       " term & estimate & std.error & statistic & p.value\\\\\n",
       "\\hline\n",
       "\t X2ndFlrSF           &  2.534787e-04       & 2.346005e-05        & 10.804699           & 3.757998e-25       \\\\\n",
       "\t OverallQual         &  5.464718e-02       & 6.297153e-03        &  8.678078           & 3.186243e-17       \\\\\n",
       "\t X1stFlrSF           &  2.397066e-04       & 2.854763e-05        &  8.396724           & 2.846766e-16       \\\\\n",
       "\t OverallCond         &  4.067998e-02       & 5.254481e-03        &  7.741960           & 3.732257e-14       \\\\\n",
       "\t MSZoning.new        &  2.519823e-01       & 3.738822e-02        &  6.739616           & 3.489388e-11       \\\\\n",
       "\t BsmtFinSF1          &  1.664376e-04       & 2.483797e-05        &  6.700932           & 4.472988e-11       \\\\\n",
       "\t SaleCondition.new   &  4.055894e-01       & 6.653294e-02        &  6.096069           & 1.858089e-09       \\\\\n",
       "\t Neighborhood.new    &  1.263385e-01       & 2.544617e-02        &  4.964930           & 8.778951e-07       \\\\\n",
       "\t is\\_full\\_functional  &  7.884250e-02           & 1.805382e-02            &  4.367081               & 1.463685e-05           \\\\\n",
       "\t ScreenPorch         &  3.090737e-04       & 7.238177e-05        &  4.270049           & 2.244068e-05       \\\\\n",
       "\t SaleType.new        & -2.531752e-01       & 7.028287e-02        & -3.602232           & 3.394297e-04       \\\\\n",
       "\t BsmtUnfSF           &  8.113806e-05       & 2.294322e-05        &  3.536472           & 4.341656e-04       \\\\\n",
       "\t BsmtFinSF2          &  1.145795e-04       & 3.472732e-05        &  3.299405           & 1.021479e-03       \\\\\n",
       "\t has\\_central\\_air     &  7.469221e-02           & 2.396745e-02            &  3.116402               & 1.910914e-03           \\\\\n",
       "\t OpenPorchSF         &  2.375716e-04       & 7.750354e-05        &  3.065300           & 2.264082e-03       \\\\\n",
       "\t Exterior1st.new     &  1.726778e-01       & 5.801782e-02        &  2.976289           & 3.025340e-03       \\\\\n",
       "\t Foundation.new      &  8.809689e-02       & 3.172703e-02        &  2.776714           & 5.648371e-03       \\\\\n",
       "\t BsmtExposure.new    &  1.020867e-01       & 3.678841e-02        &  2.774969           & 5.678408e-03       \\\\\n",
       "\t EnclosedPorch       &  2.032469e-04       & 7.519101e-05        &  2.703074           & 7.048571e-03       \\\\\n",
       "\t LotArea             &  1.620325e-06       & 6.209613e-07        &  2.609382           & 9.278062e-03       \\\\\n",
       "\t LowQualFinSF        &  2.225646e-04       & 8.587995e-05        &  2.591578           & 9.766916e-03       \\\\\n",
       "\t ExterCond.new       &  1.189005e-01       & 4.825274e-02        &  2.464120           & 1.399116e-02       \\\\\n",
       "\t GarageCars          &  3.401848e-02       & 1.409768e-02        &  2.413056           & 1.609338e-02       \\\\\n",
       "\t Condition1.new      &  1.091698e-01       & 4.655749e-02        &  2.344838           & 1.933347e-02       \\\\\n",
       "\t HeatingQC.new       &  6.761159e-02       & 2.895943e-02        &  2.334700           & 1.986078e-02       \\\\\n",
       "\t heating\\_air\\_furnace &  7.396947e-02           & 3.535228e-02            &  2.092354               & 3.679181e-02           \\\\\n",
       "\t is\\_street\\_paved     &  1.234122e-01           & 6.421515e-02            &  1.921855               & 5.505822e-02           \\\\\n",
       "\t LotFrontage         &  2.530402e-04       & 1.317084e-04        &  1.921216           & 5.513888e-02       \\\\\n",
       "\t is\\_lotshape\\_regular & -1.716513e-02           & 9.563731e-03            & -1.794815               & 7.314481e-02           \\\\\n",
       "\t ExterQual.new       &  4.853416e-02       & 2.719570e-02        &  1.784626           & 7.478539e-02       \\\\\n",
       "\t BsmtCond.new        & -1.175361e-01       & 6.747425e-02        & -1.741940           & 8.198908e-02       \\\\\n",
       "\t YearRemodAdd        &  5.517391e-04       & 3.252145e-04        &  1.696539           & 9.025971e-02       \\\\\n",
       "\t has\\_alley\\_access    & -3.107440e-02           & 1.877185e-02            & -1.655372               & 9.832872e-02           \\\\\n",
       "\t BsmtFullBath        &  1.949142e-02       & 1.179136e-02        &  1.653026           & 9.880551e-02       \\\\\n",
       "\\end{tabular}\n"
      ],
      "text/markdown": [
       "\n",
       "term | estimate | std.error | statistic | p.value | \n",
       "|---|---|---|---|---|---|---|---|---|---|---|---|---|---|---|---|---|---|---|---|---|---|---|---|---|---|---|---|---|---|---|---|---|---|\n",
       "| X2ndFlrSF           |  2.534787e-04       | 2.346005e-05        | 10.804699           | 3.757998e-25        | \n",
       "| OverallQual         |  5.464718e-02       | 6.297153e-03        |  8.678078           | 3.186243e-17        | \n",
       "| X1stFlrSF           |  2.397066e-04       | 2.854763e-05        |  8.396724           | 2.846766e-16        | \n",
       "| OverallCond         |  4.067998e-02       | 5.254481e-03        |  7.741960           | 3.732257e-14        | \n",
       "| MSZoning.new        |  2.519823e-01       | 3.738822e-02        |  6.739616           | 3.489388e-11        | \n",
       "| BsmtFinSF1          |  1.664376e-04       | 2.483797e-05        |  6.700932           | 4.472988e-11        | \n",
       "| SaleCondition.new   |  4.055894e-01       | 6.653294e-02        |  6.096069           | 1.858089e-09        | \n",
       "| Neighborhood.new    |  1.263385e-01       | 2.544617e-02        |  4.964930           | 8.778951e-07        | \n",
       "| is_full_functional  |  7.884250e-02       | 1.805382e-02        |  4.367081           | 1.463685e-05        | \n",
       "| ScreenPorch         |  3.090737e-04       | 7.238177e-05        |  4.270049           | 2.244068e-05        | \n",
       "| SaleType.new        | -2.531752e-01       | 7.028287e-02        | -3.602232           | 3.394297e-04        | \n",
       "| BsmtUnfSF           |  8.113806e-05       | 2.294322e-05        |  3.536472           | 4.341656e-04        | \n",
       "| BsmtFinSF2          |  1.145795e-04       | 3.472732e-05        |  3.299405           | 1.021479e-03        | \n",
       "| has_central_air     |  7.469221e-02       | 2.396745e-02        |  3.116402           | 1.910914e-03        | \n",
       "| OpenPorchSF         |  2.375716e-04       | 7.750354e-05        |  3.065300           | 2.264082e-03        | \n",
       "| Exterior1st.new     |  1.726778e-01       | 5.801782e-02        |  2.976289           | 3.025340e-03        | \n",
       "| Foundation.new      |  8.809689e-02       | 3.172703e-02        |  2.776714           | 5.648371e-03        | \n",
       "| BsmtExposure.new    |  1.020867e-01       | 3.678841e-02        |  2.774969           | 5.678408e-03        | \n",
       "| EnclosedPorch       |  2.032469e-04       | 7.519101e-05        |  2.703074           | 7.048571e-03        | \n",
       "| LotArea             |  1.620325e-06       | 6.209613e-07        |  2.609382           | 9.278062e-03        | \n",
       "| LowQualFinSF        |  2.225646e-04       | 8.587995e-05        |  2.591578           | 9.766916e-03        | \n",
       "| ExterCond.new       |  1.189005e-01       | 4.825274e-02        |  2.464120           | 1.399116e-02        | \n",
       "| GarageCars          |  3.401848e-02       | 1.409768e-02        |  2.413056           | 1.609338e-02        | \n",
       "| Condition1.new      |  1.091698e-01       | 4.655749e-02        |  2.344838           | 1.933347e-02        | \n",
       "| HeatingQC.new       |  6.761159e-02       | 2.895943e-02        |  2.334700           | 1.986078e-02        | \n",
       "| heating_air_furnace |  7.396947e-02       | 3.535228e-02        |  2.092354           | 3.679181e-02        | \n",
       "| is_street_paved     |  1.234122e-01       | 6.421515e-02        |  1.921855           | 5.505822e-02        | \n",
       "| LotFrontage         |  2.530402e-04       | 1.317084e-04        |  1.921216           | 5.513888e-02        | \n",
       "| is_lotshape_regular | -1.716513e-02       | 9.563731e-03        | -1.794815           | 7.314481e-02        | \n",
       "| ExterQual.new       |  4.853416e-02       | 2.719570e-02        |  1.784626           | 7.478539e-02        | \n",
       "| BsmtCond.new        | -1.175361e-01       | 6.747425e-02        | -1.741940           | 8.198908e-02        | \n",
       "| YearRemodAdd        |  5.517391e-04       | 3.252145e-04        |  1.696539           | 9.025971e-02        | \n",
       "| has_alley_access    | -3.107440e-02       | 1.877185e-02        | -1.655372           | 9.832872e-02        | \n",
       "| BsmtFullBath        |  1.949142e-02       | 1.179136e-02        |  1.653026           | 9.880551e-02        | \n",
       "\n",
       "\n"
      ],
      "text/plain": [
       "   term                estimate      std.error    statistic p.value     \n",
       "1  X2ndFlrSF            2.534787e-04 2.346005e-05 10.804699 3.757998e-25\n",
       "2  OverallQual          5.464718e-02 6.297153e-03  8.678078 3.186243e-17\n",
       "3  X1stFlrSF            2.397066e-04 2.854763e-05  8.396724 2.846766e-16\n",
       "4  OverallCond          4.067998e-02 5.254481e-03  7.741960 3.732257e-14\n",
       "5  MSZoning.new         2.519823e-01 3.738822e-02  6.739616 3.489388e-11\n",
       "6  BsmtFinSF1           1.664376e-04 2.483797e-05  6.700932 4.472988e-11\n",
       "7  SaleCondition.new    4.055894e-01 6.653294e-02  6.096069 1.858089e-09\n",
       "8  Neighborhood.new     1.263385e-01 2.544617e-02  4.964930 8.778951e-07\n",
       "9  is_full_functional   7.884250e-02 1.805382e-02  4.367081 1.463685e-05\n",
       "10 ScreenPorch          3.090737e-04 7.238177e-05  4.270049 2.244068e-05\n",
       "11 SaleType.new        -2.531752e-01 7.028287e-02 -3.602232 3.394297e-04\n",
       "12 BsmtUnfSF            8.113806e-05 2.294322e-05  3.536472 4.341656e-04\n",
       "13 BsmtFinSF2           1.145795e-04 3.472732e-05  3.299405 1.021479e-03\n",
       "14 has_central_air      7.469221e-02 2.396745e-02  3.116402 1.910914e-03\n",
       "15 OpenPorchSF          2.375716e-04 7.750354e-05  3.065300 2.264082e-03\n",
       "16 Exterior1st.new      1.726778e-01 5.801782e-02  2.976289 3.025340e-03\n",
       "17 Foundation.new       8.809689e-02 3.172703e-02  2.776714 5.648371e-03\n",
       "18 BsmtExposure.new     1.020867e-01 3.678841e-02  2.774969 5.678408e-03\n",
       "19 EnclosedPorch        2.032469e-04 7.519101e-05  2.703074 7.048571e-03\n",
       "20 LotArea              1.620325e-06 6.209613e-07  2.609382 9.278062e-03\n",
       "21 LowQualFinSF         2.225646e-04 8.587995e-05  2.591578 9.766916e-03\n",
       "22 ExterCond.new        1.189005e-01 4.825274e-02  2.464120 1.399116e-02\n",
       "23 GarageCars           3.401848e-02 1.409768e-02  2.413056 1.609338e-02\n",
       "24 Condition1.new       1.091698e-01 4.655749e-02  2.344838 1.933347e-02\n",
       "25 HeatingQC.new        6.761159e-02 2.895943e-02  2.334700 1.986078e-02\n",
       "26 heating_air_furnace  7.396947e-02 3.535228e-02  2.092354 3.679181e-02\n",
       "27 is_street_paved      1.234122e-01 6.421515e-02  1.921855 5.505822e-02\n",
       "28 LotFrontage          2.530402e-04 1.317084e-04  1.921216 5.513888e-02\n",
       "29 is_lotshape_regular -1.716513e-02 9.563731e-03 -1.794815 7.314481e-02\n",
       "30 ExterQual.new        4.853416e-02 2.719570e-02  1.784626 7.478539e-02\n",
       "31 BsmtCond.new        -1.175361e-01 6.747425e-02 -1.741940 8.198908e-02\n",
       "32 YearRemodAdd         5.517391e-04 3.252145e-04  1.696539 9.025971e-02\n",
       "33 has_alley_access    -3.107440e-02 1.877185e-02 -1.655372 9.832872e-02\n",
       "34 BsmtFullBath         1.949142e-02 1.179136e-02  1.653026 9.880551e-02"
      ]
     },
     "metadata": {},
     "output_type": "display_data"
    }
   ],
   "source": [
    "model.lm <- lm(sale_price_log ~ ., data=trainset.ready)\n",
    "\n",
    "y_predicted <- predict(model.lm, testset.ready) %>% as.vector\n",
    "y_actual <- testset %>% mutate(sale_price_log = log(SalePrice)) %>% select(sale_price_log) %>% `[[`(1)\n",
    "rmse(y_predicted, y_actual)\n",
    "\n",
    "sp_predicted <- y_predicted %>% exp\n",
    "sp_actual <- testset %>% select(SalePrice) %>% `[[`(1)\n",
    "mean(100 * abs(sp_actual - sp_predicted) / sp_actual)\n",
    "\n",
    "glance(model.lm)\n",
    "tidy(model.lm) %>% arrange(p.value) %>% filter(p.value < 0.1)"
   ]
  },
  {
   "cell_type": "code",
   "execution_count": 93,
   "metadata": {},
   "outputs": [
    {
     "name": "stderr",
     "output_type": "stream",
     "text": [
      "Warning message in predict.lm(model.lm, testset.ready):\n",
      "“prediction from a rank-deficient fit may be misleading”"
     ]
    },
    {
     "data": {
      "text/html": [
       "0.175884838410578"
      ],
      "text/latex": [
       "0.175884838410578"
      ],
      "text/markdown": [
       "0.175884838410578"
      ],
      "text/plain": [
       "[1] 0.1758848"
      ]
     },
     "metadata": {},
     "output_type": "display_data"
    },
    {
     "data": {
      "text/html": [
       "11.684651429717"
      ],
      "text/latex": [
       "11.684651429717"
      ],
      "text/markdown": [
       "11.684651429717"
      ],
      "text/plain": [
       "[1] 11.68465"
      ]
     },
     "metadata": {},
     "output_type": "display_data"
    },
    {
     "data": {
      "text/html": [
       "<table>\n",
       "<thead><tr><th scope=col>r.squared</th><th scope=col>adj.r.squared</th><th scope=col>sigma</th><th scope=col>statistic</th><th scope=col>p.value</th><th scope=col>df</th><th scope=col>logLik</th><th scope=col>AIC</th><th scope=col>BIC</th><th scope=col>deviance</th><th scope=col>df.residual</th></tr></thead>\n",
       "<tbody>\n",
       "\t<tr><td>0.9370247</td><td>0.9298138</td><td>0.1057985</td><td>129.9454 </td><td>0        </td><td>76       </td><td>644.8659 </td><td>-1135.732</td><td>-781.962 </td><td>7.331626 </td><td>655      </td></tr>\n",
       "</tbody>\n",
       "</table>\n"
      ],
      "text/latex": [
       "\\begin{tabular}{r|lllllllllll}\n",
       " r.squared & adj.r.squared & sigma & statistic & p.value & df & logLik & AIC & BIC & deviance & df.residual\\\\\n",
       "\\hline\n",
       "\t 0.9370247 & 0.9298138 & 0.1057985 & 129.9454  & 0         & 76        & 644.8659  & -1135.732 & -781.962  & 7.331626  & 655      \\\\\n",
       "\\end{tabular}\n"
      ],
      "text/markdown": [
       "\n",
       "r.squared | adj.r.squared | sigma | statistic | p.value | df | logLik | AIC | BIC | deviance | df.residual | \n",
       "|---|\n",
       "| 0.9370247 | 0.9298138 | 0.1057985 | 129.9454  | 0         | 76        | 644.8659  | -1135.732 | -781.962  | 7.331626  | 655       | \n",
       "\n",
       "\n"
      ],
      "text/plain": [
       "  r.squared adj.r.squared sigma     statistic p.value df logLik   AIC      \n",
       "1 0.9370247 0.9298138     0.1057985 129.9454  0       76 644.8659 -1135.732\n",
       "  BIC      deviance df.residual\n",
       "1 -781.962 7.331626 655        "
      ]
     },
     "metadata": {},
     "output_type": "display_data"
    },
    {
     "data": {
      "text/html": [
       "<table>\n",
       "<thead><tr><th scope=col>term</th><th scope=col>estimate</th><th scope=col>std.error</th><th scope=col>statistic</th><th scope=col>p.value</th></tr></thead>\n",
       "<tbody>\n",
       "\t<tr><td>X2ndFlrSF          </td><td> 2.534780e-04      </td><td>2.344324e-05       </td><td>10.812410          </td><td>3.476620e-25       </td></tr>\n",
       "\t<tr><td>OverallQual        </td><td> 5.446424e-02      </td><td>6.249640e-03       </td><td> 8.714781          </td><td>2.377568e-17       </td></tr>\n",
       "\t<tr><td>X1stFlrSF          </td><td> 2.400520e-04      </td><td>2.849345e-05       </td><td> 8.424816          </td><td>2.287399e-16       </td></tr>\n",
       "\t<tr><td>OverallCond        </td><td> 4.068455e-02      </td><td>5.250685e-03       </td><td> 7.748428          </td><td>3.555334e-14       </td></tr>\n",
       "\t<tr><td>MSZoning.new       </td><td> 2.521952e-01      </td><td>3.735166e-02       </td><td> 6.751915          </td><td>3.219963e-11       </td></tr>\n",
       "\t<tr><td>BsmtFinSF1         </td><td> 1.660724e-04      </td><td>2.477685e-05       </td><td> 6.702724          </td><td>4.416976e-11       </td></tr>\n",
       "\t<tr><td>SaleCondition.new  </td><td> 4.060677e-01      </td><td>6.645755e-02       </td><td> 6.110181          </td><td>1.707772e-09       </td></tr>\n",
       "\t<tr><td>Neighborhood.new   </td><td> 1.261320e-01      </td><td>2.541443e-02       </td><td> 4.963006          </td><td>8.859959e-07       </td></tr>\n",
       "\t<tr><td>is_full_functional </td><td> 7.898600e-02      </td><td>1.803169e-02       </td><td> 4.380399          </td><td>1.379104e-05       </td></tr>\n",
       "\t<tr><td>ScreenPorch        </td><td> 3.086220e-04      </td><td>7.230719e-05       </td><td> 4.268206          </td><td>2.261704e-05       </td></tr>\n",
       "\t<tr><td>SaleType.new       </td><td>-2.536294e-01      </td><td>7.020886e-02       </td><td>-3.612498          </td><td>3.264828e-04       </td></tr>\n",
       "\t<tr><td>BsmtUnfSF          </td><td> 8.062082e-05      </td><td>2.283256e-05       </td><td> 3.530958          </td><td>4.430985e-04       </td></tr>\n",
       "\t<tr><td>BsmtFinSF2         </td><td> 1.143807e-04      </td><td>3.469327e-05       </td><td> 3.296914          </td><td>1.030346e-03       </td></tr>\n",
       "\t<tr><td>has_central_air    </td><td> 7.473502e-02      </td><td>2.394966e-02       </td><td> 3.120504          </td><td>1.884766e-03       </td></tr>\n",
       "\t<tr><td>OpenPorchSF        </td><td> 2.391185e-04      </td><td>7.719867e-05       </td><td> 3.097443          </td><td>2.035428e-03       </td></tr>\n",
       "\t<tr><td>Exterior1st.new    </td><td> 1.727342e-01      </td><td>5.797582e-02       </td><td> 2.979418          </td><td>2.994862e-03       </td></tr>\n",
       "\t<tr><td>Foundation.new     </td><td> 8.824046e-02      </td><td>3.169907e-02       </td><td> 2.783693          </td><td>5.529444e-03       </td></tr>\n",
       "\t<tr><td>BsmtExposure.new   </td><td> 1.020103e-01      </td><td>3.676078e-02       </td><td> 2.774976          </td><td>5.678041e-03       </td></tr>\n",
       "\t<tr><td>EnclosedPorch      </td><td> 2.036090e-04      </td><td>7.512308e-05       </td><td> 2.710339          </td><td>6.897455e-03       </td></tr>\n",
       "\t<tr><td>PoolArea           </td><td> 3.251095e-04      </td><td>1.218377e-04       </td><td> 2.668381          </td><td>7.810431e-03       </td></tr>\n",
       "\t<tr><td>LotArea            </td><td> 1.618917e-06      </td><td>6.204907e-07       </td><td> 2.609091          </td><td>9.285563e-03       </td></tr>\n",
       "\t<tr><td>LowQualFinSF       </td><td> 2.224491e-04      </td><td>8.581718e-05       </td><td> 2.592128          </td><td>9.751149e-03       </td></tr>\n",
       "\t<tr><td>ExterCond.new      </td><td> 1.182788e-01      </td><td>4.815353e-02       </td><td> 2.456285          </td><td>1.429665e-02       </td></tr>\n",
       "\t<tr><td>GarageCars         </td><td> 3.426050e-02      </td><td>1.405404e-02       </td><td> 2.437769          </td><td>1.504312e-02       </td></tr>\n",
       "\t<tr><td>HeatingQC.new      </td><td> 6.771107e-02      </td><td>2.893593e-02       </td><td> 2.340035          </td><td>1.958130e-02       </td></tr>\n",
       "\t<tr><td>Condition1.new     </td><td> 1.087332e-01      </td><td>4.649112e-02       </td><td> 2.338795          </td><td>1.964585e-02       </td></tr>\n",
       "\t<tr><td>heating_air_furnace</td><td> 7.404685e-02      </td><td>3.532559e-02       </td><td> 2.096125          </td><td>3.645425e-02       </td></tr>\n",
       "\t<tr><td>is_street_paved    </td><td> 1.229770e-01      </td><td>6.414537e-02       </td><td> 1.917161          </td><td>5.565214e-02       </td></tr>\n",
       "\t<tr><td>LotFrontage        </td><td> 2.508024e-04      </td><td>1.313071e-04       </td><td> 1.910045          </td><td>5.656393e-02       </td></tr>\n",
       "\t<tr><td>ExterQual.new      </td><td> 4.892988e-02      </td><td>2.712975e-02       </td><td> 1.803551          </td><td>7.176118e-02       </td></tr>\n",
       "\t<tr><td>is_lotshape_regular</td><td>-1.717564e-02      </td><td>9.556787e-03       </td><td>-1.797220          </td><td>7.276129e-02       </td></tr>\n",
       "\t<tr><td>BsmtCond.new       </td><td>-1.172392e-01      </td><td>6.741539e-02       </td><td>-1.739058          </td><td>8.249442e-02       </td></tr>\n",
       "\t<tr><td>YearRemodAdd       </td><td> 5.484639e-04      </td><td>3.247155e-04       </td><td> 1.689060          </td><td>9.168386e-02       </td></tr>\n",
       "\t<tr><td>has_alley_access   </td><td>-3.112849e-02      </td><td>1.875714e-02       </td><td>-1.659554          </td><td>9.748282e-02       </td></tr>\n",
       "</tbody>\n",
       "</table>\n"
      ],
      "text/latex": [
       "\\begin{tabular}{r|lllll}\n",
       " term & estimate & std.error & statistic & p.value\\\\\n",
       "\\hline\n",
       "\t X2ndFlrSF           &  2.534780e-04       & 2.344324e-05        & 10.812410           & 3.476620e-25       \\\\\n",
       "\t OverallQual         &  5.446424e-02       & 6.249640e-03        &  8.714781           & 2.377568e-17       \\\\\n",
       "\t X1stFlrSF           &  2.400520e-04       & 2.849345e-05        &  8.424816           & 2.287399e-16       \\\\\n",
       "\t OverallCond         &  4.068455e-02       & 5.250685e-03        &  7.748428           & 3.555334e-14       \\\\\n",
       "\t MSZoning.new        &  2.521952e-01       & 3.735166e-02        &  6.751915           & 3.219963e-11       \\\\\n",
       "\t BsmtFinSF1          &  1.660724e-04       & 2.477685e-05        &  6.702724           & 4.416976e-11       \\\\\n",
       "\t SaleCondition.new   &  4.060677e-01       & 6.645755e-02        &  6.110181           & 1.707772e-09       \\\\\n",
       "\t Neighborhood.new    &  1.261320e-01       & 2.541443e-02        &  4.963006           & 8.859959e-07       \\\\\n",
       "\t is\\_full\\_functional  &  7.898600e-02           & 1.803169e-02            &  4.380399               & 1.379104e-05           \\\\\n",
       "\t ScreenPorch         &  3.086220e-04       & 7.230719e-05        &  4.268206           & 2.261704e-05       \\\\\n",
       "\t SaleType.new        & -2.536294e-01       & 7.020886e-02        & -3.612498           & 3.264828e-04       \\\\\n",
       "\t BsmtUnfSF           &  8.062082e-05       & 2.283256e-05        &  3.530958           & 4.430985e-04       \\\\\n",
       "\t BsmtFinSF2          &  1.143807e-04       & 3.469327e-05        &  3.296914           & 1.030346e-03       \\\\\n",
       "\t has\\_central\\_air     &  7.473502e-02           & 2.394966e-02            &  3.120504               & 1.884766e-03           \\\\\n",
       "\t OpenPorchSF         &  2.391185e-04       & 7.719867e-05        &  3.097443           & 2.035428e-03       \\\\\n",
       "\t Exterior1st.new     &  1.727342e-01       & 5.797582e-02        &  2.979418           & 2.994862e-03       \\\\\n",
       "\t Foundation.new      &  8.824046e-02       & 3.169907e-02        &  2.783693           & 5.529444e-03       \\\\\n",
       "\t BsmtExposure.new    &  1.020103e-01       & 3.676078e-02        &  2.774976           & 5.678041e-03       \\\\\n",
       "\t EnclosedPorch       &  2.036090e-04       & 7.512308e-05        &  2.710339           & 6.897455e-03       \\\\\n",
       "\t PoolArea            &  3.251095e-04       & 1.218377e-04        &  2.668381           & 7.810431e-03       \\\\\n",
       "\t LotArea             &  1.618917e-06       & 6.204907e-07        &  2.609091           & 9.285563e-03       \\\\\n",
       "\t LowQualFinSF        &  2.224491e-04       & 8.581718e-05        &  2.592128           & 9.751149e-03       \\\\\n",
       "\t ExterCond.new       &  1.182788e-01       & 4.815353e-02        &  2.456285           & 1.429665e-02       \\\\\n",
       "\t GarageCars          &  3.426050e-02       & 1.405404e-02        &  2.437769           & 1.504312e-02       \\\\\n",
       "\t HeatingQC.new       &  6.771107e-02       & 2.893593e-02        &  2.340035           & 1.958130e-02       \\\\\n",
       "\t Condition1.new      &  1.087332e-01       & 4.649112e-02        &  2.338795           & 1.964585e-02       \\\\\n",
       "\t heating\\_air\\_furnace &  7.404685e-02           & 3.532559e-02            &  2.096125               & 3.645425e-02           \\\\\n",
       "\t is\\_street\\_paved     &  1.229770e-01           & 6.414537e-02            &  1.917161               & 5.565214e-02           \\\\\n",
       "\t LotFrontage         &  2.508024e-04       & 1.313071e-04        &  1.910045           & 5.656393e-02       \\\\\n",
       "\t ExterQual.new       &  4.892988e-02       & 2.712975e-02        &  1.803551           & 7.176118e-02       \\\\\n",
       "\t is\\_lotshape\\_regular & -1.717564e-02           & 9.556787e-03            & -1.797220               & 7.276129e-02           \\\\\n",
       "\t BsmtCond.new        & -1.172392e-01       & 6.741539e-02        & -1.739058           & 8.249442e-02       \\\\\n",
       "\t YearRemodAdd        &  5.484639e-04       & 3.247155e-04        &  1.689060           & 9.168386e-02       \\\\\n",
       "\t has\\_alley\\_access    & -3.112849e-02           & 1.875714e-02            & -1.659554               & 9.748282e-02           \\\\\n",
       "\\end{tabular}\n"
      ],
      "text/markdown": [
       "\n",
       "term | estimate | std.error | statistic | p.value | \n",
       "|---|---|---|---|---|---|---|---|---|---|---|---|---|---|---|---|---|---|---|---|---|---|---|---|---|---|---|---|---|---|---|---|---|---|\n",
       "| X2ndFlrSF           |  2.534780e-04       | 2.344324e-05        | 10.812410           | 3.476620e-25        | \n",
       "| OverallQual         |  5.446424e-02       | 6.249640e-03        |  8.714781           | 2.377568e-17        | \n",
       "| X1stFlrSF           |  2.400520e-04       | 2.849345e-05        |  8.424816           | 2.287399e-16        | \n",
       "| OverallCond         |  4.068455e-02       | 5.250685e-03        |  7.748428           | 3.555334e-14        | \n",
       "| MSZoning.new        |  2.521952e-01       | 3.735166e-02        |  6.751915           | 3.219963e-11        | \n",
       "| BsmtFinSF1          |  1.660724e-04       | 2.477685e-05        |  6.702724           | 4.416976e-11        | \n",
       "| SaleCondition.new   |  4.060677e-01       | 6.645755e-02        |  6.110181           | 1.707772e-09        | \n",
       "| Neighborhood.new    |  1.261320e-01       | 2.541443e-02        |  4.963006           | 8.859959e-07        | \n",
       "| is_full_functional  |  7.898600e-02       | 1.803169e-02        |  4.380399           | 1.379104e-05        | \n",
       "| ScreenPorch         |  3.086220e-04       | 7.230719e-05        |  4.268206           | 2.261704e-05        | \n",
       "| SaleType.new        | -2.536294e-01       | 7.020886e-02        | -3.612498           | 3.264828e-04        | \n",
       "| BsmtUnfSF           |  8.062082e-05       | 2.283256e-05        |  3.530958           | 4.430985e-04        | \n",
       "| BsmtFinSF2          |  1.143807e-04       | 3.469327e-05        |  3.296914           | 1.030346e-03        | \n",
       "| has_central_air     |  7.473502e-02       | 2.394966e-02        |  3.120504           | 1.884766e-03        | \n",
       "| OpenPorchSF         |  2.391185e-04       | 7.719867e-05        |  3.097443           | 2.035428e-03        | \n",
       "| Exterior1st.new     |  1.727342e-01       | 5.797582e-02        |  2.979418           | 2.994862e-03        | \n",
       "| Foundation.new      |  8.824046e-02       | 3.169907e-02        |  2.783693           | 5.529444e-03        | \n",
       "| BsmtExposure.new    |  1.020103e-01       | 3.676078e-02        |  2.774976           | 5.678041e-03        | \n",
       "| EnclosedPorch       |  2.036090e-04       | 7.512308e-05        |  2.710339           | 6.897455e-03        | \n",
       "| PoolArea            |  3.251095e-04       | 1.218377e-04        |  2.668381           | 7.810431e-03        | \n",
       "| LotArea             |  1.618917e-06       | 6.204907e-07        |  2.609091           | 9.285563e-03        | \n",
       "| LowQualFinSF        |  2.224491e-04       | 8.581718e-05        |  2.592128           | 9.751149e-03        | \n",
       "| ExterCond.new       |  1.182788e-01       | 4.815353e-02        |  2.456285           | 1.429665e-02        | \n",
       "| GarageCars          |  3.426050e-02       | 1.405404e-02        |  2.437769           | 1.504312e-02        | \n",
       "| HeatingQC.new       |  6.771107e-02       | 2.893593e-02        |  2.340035           | 1.958130e-02        | \n",
       "| Condition1.new      |  1.087332e-01       | 4.649112e-02        |  2.338795           | 1.964585e-02        | \n",
       "| heating_air_furnace |  7.404685e-02       | 3.532559e-02        |  2.096125           | 3.645425e-02        | \n",
       "| is_street_paved     |  1.229770e-01       | 6.414537e-02        |  1.917161           | 5.565214e-02        | \n",
       "| LotFrontage         |  2.508024e-04       | 1.313071e-04        |  1.910045           | 5.656393e-02        | \n",
       "| ExterQual.new       |  4.892988e-02       | 2.712975e-02        |  1.803551           | 7.176118e-02        | \n",
       "| is_lotshape_regular | -1.717564e-02       | 9.556787e-03        | -1.797220           | 7.276129e-02        | \n",
       "| BsmtCond.new        | -1.172392e-01       | 6.741539e-02        | -1.739058           | 8.249442e-02        | \n",
       "| YearRemodAdd        |  5.484639e-04       | 3.247155e-04        |  1.689060           | 9.168386e-02        | \n",
       "| has_alley_access    | -3.112849e-02       | 1.875714e-02        | -1.659554           | 9.748282e-02        | \n",
       "\n",
       "\n"
      ],
      "text/plain": [
       "   term                estimate      std.error    statistic p.value     \n",
       "1  X2ndFlrSF            2.534780e-04 2.344324e-05 10.812410 3.476620e-25\n",
       "2  OverallQual          5.446424e-02 6.249640e-03  8.714781 2.377568e-17\n",
       "3  X1stFlrSF            2.400520e-04 2.849345e-05  8.424816 2.287399e-16\n",
       "4  OverallCond          4.068455e-02 5.250685e-03  7.748428 3.555334e-14\n",
       "5  MSZoning.new         2.521952e-01 3.735166e-02  6.751915 3.219963e-11\n",
       "6  BsmtFinSF1           1.660724e-04 2.477685e-05  6.702724 4.416976e-11\n",
       "7  SaleCondition.new    4.060677e-01 6.645755e-02  6.110181 1.707772e-09\n",
       "8  Neighborhood.new     1.261320e-01 2.541443e-02  4.963006 8.859959e-07\n",
       "9  is_full_functional   7.898600e-02 1.803169e-02  4.380399 1.379104e-05\n",
       "10 ScreenPorch          3.086220e-04 7.230719e-05  4.268206 2.261704e-05\n",
       "11 SaleType.new        -2.536294e-01 7.020886e-02 -3.612498 3.264828e-04\n",
       "12 BsmtUnfSF            8.062082e-05 2.283256e-05  3.530958 4.430985e-04\n",
       "13 BsmtFinSF2           1.143807e-04 3.469327e-05  3.296914 1.030346e-03\n",
       "14 has_central_air      7.473502e-02 2.394966e-02  3.120504 1.884766e-03\n",
       "15 OpenPorchSF          2.391185e-04 7.719867e-05  3.097443 2.035428e-03\n",
       "16 Exterior1st.new      1.727342e-01 5.797582e-02  2.979418 2.994862e-03\n",
       "17 Foundation.new       8.824046e-02 3.169907e-02  2.783693 5.529444e-03\n",
       "18 BsmtExposure.new     1.020103e-01 3.676078e-02  2.774976 5.678041e-03\n",
       "19 EnclosedPorch        2.036090e-04 7.512308e-05  2.710339 6.897455e-03\n",
       "20 PoolArea             3.251095e-04 1.218377e-04  2.668381 7.810431e-03\n",
       "21 LotArea              1.618917e-06 6.204907e-07  2.609091 9.285563e-03\n",
       "22 LowQualFinSF         2.224491e-04 8.581718e-05  2.592128 9.751149e-03\n",
       "23 ExterCond.new        1.182788e-01 4.815353e-02  2.456285 1.429665e-02\n",
       "24 GarageCars           3.426050e-02 1.405404e-02  2.437769 1.504312e-02\n",
       "25 HeatingQC.new        6.771107e-02 2.893593e-02  2.340035 1.958130e-02\n",
       "26 Condition1.new       1.087332e-01 4.649112e-02  2.338795 1.964585e-02\n",
       "27 heating_air_furnace  7.404685e-02 3.532559e-02  2.096125 3.645425e-02\n",
       "28 is_street_paved      1.229770e-01 6.414537e-02  1.917161 5.565214e-02\n",
       "29 LotFrontage          2.508024e-04 1.313071e-04  1.910045 5.656393e-02\n",
       "30 ExterQual.new        4.892988e-02 2.712975e-02  1.803551 7.176118e-02\n",
       "31 is_lotshape_regular -1.717564e-02 9.556787e-03 -1.797220 7.276129e-02\n",
       "32 BsmtCond.new        -1.172392e-01 6.741539e-02 -1.739058 8.249442e-02\n",
       "33 YearRemodAdd         5.484639e-04 3.247155e-04  1.689060 9.168386e-02\n",
       "34 has_alley_access    -3.112849e-02 1.875714e-02 -1.659554 9.748282e-02"
      ]
     },
     "metadata": {},
     "output_type": "display_data"
    }
   ],
   "source": [
    "model.lm <- lm(sale_price_log ~ ., data=trainset.ready %>% select(-has_pool))\n",
    "\n",
    "y_predicted <- predict(model.lm, testset.ready) %>% as.vector\n",
    "y_actual <- testset %>% mutate(sale_price_log = log(SalePrice)) %>% select(sale_price_log) %>% `[[`(1)\n",
    "rmse(y_predicted, y_actual)\n",
    "\n",
    "sp_predicted <- y_predicted %>% exp\n",
    "sp_actual <- testset %>% select(SalePrice) %>% `[[`(1)\n",
    "mean(100 * abs(sp_actual - sp_predicted) / sp_actual)\n",
    "\n",
    "glance(model.lm)\n",
    "tidy(model.lm) %>% arrange(p.value) %>% filter(p.value < 0.1)"
   ]
  },
  {
   "cell_type": "code",
   "execution_count": null,
   "metadata": {},
   "outputs": [],
   "source": []
  },
  {
   "cell_type": "code",
   "execution_count": null,
   "metadata": {
    "collapsed": true
   },
   "outputs": [],
   "source": []
  },
  {
   "cell_type": "code",
   "execution_count": null,
   "metadata": {
    "collapsed": true
   },
   "outputs": [],
   "source": []
  },
  {
   "cell_type": "code",
   "execution_count": null,
   "metadata": {
    "collapsed": true
   },
   "outputs": [],
   "source": []
  },
  {
   "cell_type": "code",
   "execution_count": null,
   "metadata": {
    "collapsed": true
   },
   "outputs": [],
   "source": []
  },
  {
   "cell_type": "code",
   "execution_count": null,
   "metadata": {
    "collapsed": true
   },
   "outputs": [],
   "source": []
  },
  {
   "cell_type": "code",
   "execution_count": null,
   "metadata": {
    "collapsed": true
   },
   "outputs": [],
   "source": []
  },
  {
   "cell_type": "code",
   "execution_count": null,
   "metadata": {
    "collapsed": true
   },
   "outputs": [],
   "source": []
  },
  {
   "cell_type": "code",
   "execution_count": null,
   "metadata": {
    "collapsed": true
   },
   "outputs": [],
   "source": []
  },
  {
   "cell_type": "code",
   "execution_count": null,
   "metadata": {
    "collapsed": true
   },
   "outputs": [],
   "source": []
  },
  {
   "cell_type": "code",
   "execution_count": null,
   "metadata": {
    "collapsed": true
   },
   "outputs": [],
   "source": []
  },
  {
   "cell_type": "code",
   "execution_count": null,
   "metadata": {
    "collapsed": true
   },
   "outputs": [],
   "source": []
  },
  {
   "cell_type": "code",
   "execution_count": null,
   "metadata": {
    "collapsed": true
   },
   "outputs": [],
   "source": []
  },
  {
   "cell_type": "code",
   "execution_count": null,
   "metadata": {
    "collapsed": true
   },
   "outputs": [],
   "source": []
  },
  {
   "cell_type": "code",
   "execution_count": null,
   "metadata": {
    "collapsed": true
   },
   "outputs": [],
   "source": []
  },
  {
   "cell_type": "code",
   "execution_count": null,
   "metadata": {
    "collapsed": true
   },
   "outputs": [],
   "source": []
  },
  {
   "cell_type": "code",
   "execution_count": null,
   "metadata": {
    "collapsed": true
   },
   "outputs": [],
   "source": []
  }
 ],
 "metadata": {
  "kernelspec": {
   "display_name": "R",
   "language": "R",
   "name": "ir"
  },
  "language_info": {
   "codemirror_mode": "r",
   "file_extension": ".r",
   "mimetype": "text/x-r-source",
   "name": "R",
   "pygments_lexer": "r",
   "version": "3.4.2"
  }
 },
 "nbformat": 4,
 "nbformat_minor": 2
}
