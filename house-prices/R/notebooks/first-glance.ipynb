{
 "cells": [
  {
   "cell_type": "code",
   "execution_count": 1,
   "metadata": {},
   "outputs": [
    {
     "data": {
      "text/html": [
       "'/mnt/hdd/develop/kaggle/house-prices/R/R'"
      ],
      "text/latex": [
       "'/mnt/hdd/develop/kaggle/house-prices/R/R'"
      ],
      "text/markdown": [
       "'/mnt/hdd/develop/kaggle/house-prices/R/R'"
      ],
      "text/plain": [
       "[1] \"/mnt/hdd/develop/kaggle/house-prices/R/R\""
      ]
     },
     "metadata": {},
     "output_type": "display_data"
    }
   ],
   "source": [
    "setwd(paste0(Sys.getenv('ROOT'), '/R'))\n",
    "getwd()"
   ]
  },
  {
   "cell_type": "code",
   "execution_count": 27,
   "metadata": {},
   "outputs": [
    {
     "data": {
      "text/html": [
       "1460"
      ],
      "text/latex": [
       "1460"
      ],
      "text/markdown": [
       "1460"
      ],
      "text/plain": [
       "[1] 1460"
      ]
     },
     "metadata": {},
     "output_type": "display_data"
    }
   ],
   "source": [
    "source('main.R')\n",
    "\n",
    "data <- kaggle.house$loadData()\n",
    "\n",
    "df.combined <- kaggle.house$getCombinedDataset(data$train, data$test)\n",
    "\n",
    "trainset <- \n",
    "    df.combined %>% \n",
    "    filter(dataSource == \"train\") %>% \n",
    "    select(-dataSource)\n",
    "\n",
    "trainset %>% nrow"
   ]
  },
  {
   "cell_type": "code",
   "execution_count": 50,
   "metadata": {},
   "outputs": [],
   "source": [
    "trainset.cat <- trainset %>% select(one_of(union(kaggle.house$getCategoricalColumnNames(.), \"SalePrice\")))\n",
    "trainset.num <- trainset %>% select_if(is.numeric)\n",
    "\n",
    "stopifnot(\n",
    "    length(trainset.cat %>% select(-SalePrice)) + length(trainset.num) == length(trainset)\n",
    ")"
   ]
  },
  {
   "cell_type": "code",
   "execution_count": 55,
   "metadata": {},
   "outputs": [
    {
     "data": {
      "text/html": [
       "<table>\n",
       "<tbody>\n",
       "\t<tr><th scope=row>var.name</th><td>Neighborhood </td><td>ExterQual    </td><td>KitchenQual  </td><td>BsmtQual     </td><td>PoolQC       </td><td>Alley        </td><td>GarageFinish </td><td>Foundation   </td><td>MSSubClass   </td><td>GarageType   </td><td>⋯            </td><td>BsmtFinType1 </td><td>MasVnrType   </td><td>Exterior2nd  </td><td>Exterior1st  </td><td>SaleType     </td><td>SaleCondition</td><td>BsmtExposure </td><td>MiscFeature  </td><td>FireplaceQu  </td><td>MSZoning     </td></tr>\n",
       "\t<tr><th scope=row>r2</th><td>0.5455750    </td><td>0.4773878    </td><td>0.4565986    </td><td>0.4537561    </td><td>0.4486514    </td><td>0.2854967    </td><td>0.2672764    </td><td>0.2563684    </td><td>0.2463160    </td><td>0.2066384    </td><td>⋯            </td><td>0.1925976    </td><td>0.1878934    </td><td>0.1538299    </td><td>0.1527731    </td><td>0.1372875    </td><td>0.1354975    </td><td>0.1304156    </td><td>0.1146050    </td><td>0.1131419    </td><td>0.1075597    </td></tr>\n",
       "</tbody>\n",
       "</table>\n"
      ],
      "text/latex": [
       "\\begin{tabular}{r|lllllllllllllllllllll}\n",
       "\tvar.name & Neighborhood  & ExterQual     & KitchenQual   & BsmtQual      & PoolQC        & Alley         & GarageFinish  & Foundation    & MSSubClass    & GarageType    & ⋯             & BsmtFinType1  & MasVnrType    & Exterior2nd   & Exterior1st   & SaleType      & SaleCondition & BsmtExposure  & MiscFeature   & FireplaceQu   & MSZoning     \\\\\n",
       "\tr2 & 0.5455750     & 0.4773878     & 0.4565986     & 0.4537561     & 0.4486514     & 0.2854967     & 0.2672764     & 0.2563684     & 0.2463160     & 0.2066384     & ⋯             & 0.1925976     & 0.1878934     & 0.1538299     & 0.1527731     & 0.1372875     & 0.1354975     & 0.1304156     & 0.1146050     & 0.1131419     & 0.1075597    \\\\\n",
       "\\end{tabular}\n"
      ],
      "text/markdown": [
       "\n",
       "| var.name | Neighborhood  | ExterQual     | KitchenQual   | BsmtQual      | PoolQC        | Alley         | GarageFinish  | Foundation    | MSSubClass    | GarageType    | ⋯             | BsmtFinType1  | MasVnrType    | Exterior2nd   | Exterior1st   | SaleType      | SaleCondition | BsmtExposure  | MiscFeature   | FireplaceQu   | MSZoning      | \n",
       "| r2 | 0.5455750     | 0.4773878     | 0.4565986     | 0.4537561     | 0.4486514     | 0.2854967     | 0.2672764     | 0.2563684     | 0.2463160     | 0.2066384     | ⋯             | 0.1925976     | 0.1878934     | 0.1538299     | 0.1527731     | 0.1372875     | 0.1354975     | 0.1304156     | 0.1146050     | 0.1131419     | 0.1075597     | \n",
       "\n",
       "\n"
      ],
      "text/plain": [
       "         [,1]         [,2]      [,3]        [,4]      [,5]      [,6]     \n",
       "var.name Neighborhood ExterQual KitchenQual BsmtQual  PoolQC    Alley    \n",
       "r2       0.5455750    0.4773878 0.4565986   0.4537561 0.4486514 0.2854967\n",
       "         [,7]         [,8]       [,9]       [,10]      [,11] [,12]       \n",
       "var.name GarageFinish Foundation MSSubClass GarageType ⋯     BsmtFinType1\n",
       "r2       0.2672764    0.2563684  0.2463160  0.2066384  ⋯     0.1925976   \n",
       "         [,13]      [,14]       [,15]       [,16]     [,17]        \n",
       "var.name MasVnrType Exterior2nd Exterior1st SaleType  SaleCondition\n",
       "r2       0.1878934  0.1538299   0.1527731   0.1372875 0.1354975    \n",
       "         [,18]        [,19]       [,20]       [,21]    \n",
       "var.name BsmtExposure MiscFeature FireplaceQu MSZoning \n",
       "r2       0.1304156    0.1146050   0.1131419   0.1075597"
      ]
     },
     "metadata": {},
     "output_type": "display_data"
    }
   ],
   "source": [
    "r2.SalePrice.vs.cat <- trainset.cat %>%\n",
    "    gather(var.name, var.value, -SalePrice) %>%\n",
    "    group_by(var.name) %>%\n",
    "    nest %>% \n",
    "    mutate(\n",
    "        mod = map(data, ~lm(SalePrice ~ var.value, .)),\n",
    "        glance = map(mod, broom::glance),\n",
    "        r2 = map_dbl(glance, 'r.squared')\n",
    "    ) %>%\n",
    "    select(var.name, r2) %>%\n",
    "    arrange(desc(r2))\n",
    "\n",
    "r2.SalePrice.vs.cat %>% filter(r2 > 0.09) %>% t"
   ]
  },
  {
   "cell_type": "code",
   "execution_count": 56,
   "metadata": {},
   "outputs": [
    {
     "data": {
      "text/html": [
       "<table>\n",
       "<tbody>\n",
       "\t<tr><th scope=row>var.name</th><td>OverallQual </td><td>GrLivArea   </td><td>GarageCars  </td><td>GarageArea  </td><td>TotalBsmtSF </td><td>X1stFlrSF   </td><td>FullBath    </td><td>TotRmsAbvGrd</td><td>YearBuilt   </td><td>YearRemodAdd</td><td>GarageYrBlt </td><td>MasVnrArea  </td><td>Fireplaces  </td><td>BsmtFinSF1  </td><td>LotFrontage </td><td>WoodDeckSF  </td><td>X2ndFlrSF   </td><td>OpenPorchSF </td></tr>\n",
       "\t<tr><th scope=row>r2</th><td>0.62565189  </td><td>0.50214865  </td><td>0.41012394  </td><td>0.38866676  </td><td>0.37648109  </td><td>0.36705687  </td><td>0.31434385  </td><td>0.28486041  </td><td>0.27342162  </td><td>0.25715139  </td><td>0.23654768  </td><td>0.22799961  </td><td>0.21802254  </td><td>0.14932027  </td><td>0.12376260  </td><td>0.10524408  </td><td>0.10197408  </td><td>0.09976516  </td></tr>\n",
       "</tbody>\n",
       "</table>\n"
      ],
      "text/latex": [
       "\\begin{tabular}{r|llllllllllllllllll}\n",
       "\tvar.name & OverallQual  & GrLivArea    & GarageCars   & GarageArea   & TotalBsmtSF  & X1stFlrSF    & FullBath     & TotRmsAbvGrd & YearBuilt    & YearRemodAdd & GarageYrBlt  & MasVnrArea   & Fireplaces   & BsmtFinSF1   & LotFrontage  & WoodDeckSF   & X2ndFlrSF    & OpenPorchSF \\\\\n",
       "\tr2 & 0.62565189   & 0.50214865   & 0.41012394   & 0.38866676   & 0.37648109   & 0.36705687   & 0.31434385   & 0.28486041   & 0.27342162   & 0.25715139   & 0.23654768   & 0.22799961   & 0.21802254   & 0.14932027   & 0.12376260   & 0.10524408   & 0.10197408   & 0.09976516  \\\\\n",
       "\\end{tabular}\n"
      ],
      "text/markdown": [
       "\n",
       "| var.name | OverallQual  | GrLivArea    | GarageCars   | GarageArea   | TotalBsmtSF  | X1stFlrSF    | FullBath     | TotRmsAbvGrd | YearBuilt    | YearRemodAdd | GarageYrBlt  | MasVnrArea   | Fireplaces   | BsmtFinSF1   | LotFrontage  | WoodDeckSF   | X2ndFlrSF    | OpenPorchSF  | \n",
       "| r2 | 0.62565189   | 0.50214865   | 0.41012394   | 0.38866676   | 0.37648109   | 0.36705687   | 0.31434385   | 0.28486041   | 0.27342162   | 0.25715139   | 0.23654768   | 0.22799961   | 0.21802254   | 0.14932027   | 0.12376260   | 0.10524408   | 0.10197408   | 0.09976516   | \n",
       "\n",
       "\n"
      ],
      "text/plain": [
       "         [,1]        [,2]       [,3]       [,4]       [,5]        [,6]      \n",
       "var.name OverallQual GrLivArea  GarageCars GarageArea TotalBsmtSF X1stFlrSF \n",
       "r2       0.62565189  0.50214865 0.41012394 0.38866676 0.37648109  0.36705687\n",
       "         [,7]       [,8]         [,9]       [,10]        [,11]       [,12]     \n",
       "var.name FullBath   TotRmsAbvGrd YearBuilt  YearRemodAdd GarageYrBlt MasVnrArea\n",
       "r2       0.31434385 0.28486041   0.27342162 0.25715139   0.23654768  0.22799961\n",
       "         [,13]      [,14]      [,15]       [,16]      [,17]      [,18]      \n",
       "var.name Fireplaces BsmtFinSF1 LotFrontage WoodDeckSF X2ndFlrSF  OpenPorchSF\n",
       "r2       0.21802254 0.14932027 0.12376260  0.10524408 0.10197408 0.09976516 "
      ]
     },
     "metadata": {},
     "output_type": "display_data"
    }
   ],
   "source": [
    "r2.SalePrice.vs.num <- trainset.num %>%\n",
    "    gather(var.name, var.value, -SalePrice) %>%\n",
    "    group_by(var.name) %>%\n",
    "    nest %>% \n",
    "    mutate(\n",
    "        mod = map(data, ~lm(SalePrice ~ var.value, .)),\n",
    "        glance = map(mod, broom::glance),\n",
    "        r2 = map_dbl(glance, 'r.squared')\n",
    "    ) %>%\n",
    "    select(var.name, r2) %>%\n",
    "    arrange(desc(r2))\n",
    "\n",
    "r2.SalePrice.vs.num %>% filter(r2 > 0.09) %>% t"
   ]
  },
  {
   "cell_type": "code",
   "execution_count": null,
   "metadata": {
    "collapsed": true
   },
   "outputs": [],
   "source": []
  },
  {
   "cell_type": "code",
   "execution_count": null,
   "metadata": {
    "collapsed": true
   },
   "outputs": [],
   "source": []
  },
  {
   "cell_type": "code",
   "execution_count": null,
   "metadata": {
    "collapsed": true
   },
   "outputs": [],
   "source": []
  },
  {
   "cell_type": "code",
   "execution_count": null,
   "metadata": {
    "collapsed": true
   },
   "outputs": [],
   "source": []
  },
  {
   "cell_type": "code",
   "execution_count": null,
   "metadata": {
    "collapsed": true
   },
   "outputs": [],
   "source": []
  },
  {
   "cell_type": "code",
   "execution_count": null,
   "metadata": {
    "collapsed": true
   },
   "outputs": [],
   "source": []
  },
  {
   "cell_type": "code",
   "execution_count": null,
   "metadata": {
    "collapsed": true
   },
   "outputs": [],
   "source": []
  },
  {
   "cell_type": "code",
   "execution_count": null,
   "metadata": {
    "collapsed": true
   },
   "outputs": [],
   "source": []
  },
  {
   "cell_type": "code",
   "execution_count": null,
   "metadata": {
    "collapsed": true
   },
   "outputs": [],
   "source": []
  },
  {
   "cell_type": "code",
   "execution_count": null,
   "metadata": {
    "collapsed": true
   },
   "outputs": [],
   "source": []
  },
  {
   "cell_type": "code",
   "execution_count": null,
   "metadata": {
    "collapsed": true
   },
   "outputs": [],
   "source": []
  },
  {
   "cell_type": "code",
   "execution_count": null,
   "metadata": {
    "collapsed": true
   },
   "outputs": [],
   "source": []
  },
  {
   "cell_type": "code",
   "execution_count": null,
   "metadata": {
    "collapsed": true
   },
   "outputs": [],
   "source": []
  },
  {
   "cell_type": "code",
   "execution_count": null,
   "metadata": {
    "collapsed": true
   },
   "outputs": [],
   "source": []
  },
  {
   "cell_type": "code",
   "execution_count": null,
   "metadata": {
    "collapsed": true
   },
   "outputs": [],
   "source": []
  },
  {
   "cell_type": "code",
   "execution_count": null,
   "metadata": {
    "collapsed": true
   },
   "outputs": [],
   "source": []
  }
 ],
 "metadata": {
  "kernelspec": {
   "display_name": "R",
   "language": "R",
   "name": "ir"
  },
  "language_info": {
   "codemirror_mode": "r",
   "file_extension": ".r",
   "mimetype": "text/x-r-source",
   "name": "R",
   "pygments_lexer": "r",
   "version": "3.4.2"
  }
 },
 "nbformat": 4,
 "nbformat_minor": 2
}
