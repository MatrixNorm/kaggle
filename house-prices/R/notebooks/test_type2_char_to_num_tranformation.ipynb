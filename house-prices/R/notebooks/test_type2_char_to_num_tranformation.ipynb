{
 "cells": [
  {
   "cell_type": "code",
   "execution_count": 1,
   "metadata": {},
   "outputs": [
    {
     "data": {
      "text/html": [
       "'/mnt/hdd/develop/kaggle/house-prices/R/R'"
      ],
      "text/latex": [
       "'/mnt/hdd/develop/kaggle/house-prices/R/R'"
      ],
      "text/markdown": [
       "'/mnt/hdd/develop/kaggle/house-prices/R/R'"
      ],
      "text/plain": [
       "[1] \"/mnt/hdd/develop/kaggle/house-prices/R/R\""
      ]
     },
     "metadata": {},
     "output_type": "display_data"
    }
   ],
   "source": [
    "setwd(paste0(Sys.getenv('ROOT'), '/R'))\n",
    "getwd()"
   ]
  },
  {
   "cell_type": "code",
   "execution_count": 16,
   "metadata": {},
   "outputs": [
    {
     "data": {
      "text/html": [
       "<table>\n",
       "<thead><tr><th scope=col>BldgType</th><th scope=col>Quality</th><th scope=col>price</th><th scope=col>id</th></tr></thead>\n",
       "<tbody>\n",
       "\t<tr><td>A </td><td>1 </td><td>50</td><td>1 </td></tr>\n",
       "\t<tr><td>A </td><td>1 </td><td>40</td><td>2 </td></tr>\n",
       "\t<tr><td>A </td><td>2 </td><td>30</td><td>3 </td></tr>\n",
       "\t<tr><td>B </td><td>1 </td><td>30</td><td>4 </td></tr>\n",
       "\t<tr><td>B </td><td>3 </td><td>20</td><td>5 </td></tr>\n",
       "\t<tr><td>C </td><td>3 </td><td>10</td><td>6 </td></tr>\n",
       "\t<tr><td>C </td><td>2 </td><td>20</td><td>7 </td></tr>\n",
       "</tbody>\n",
       "</table>\n"
      ],
      "text/latex": [
       "\\begin{tabular}{r|llll}\n",
       " BldgType & Quality & price & id\\\\\n",
       "\\hline\n",
       "\t A  & 1  & 50 & 1 \\\\\n",
       "\t A  & 1  & 40 & 2 \\\\\n",
       "\t A  & 2  & 30 & 3 \\\\\n",
       "\t B  & 1  & 30 & 4 \\\\\n",
       "\t B  & 3  & 20 & 5 \\\\\n",
       "\t C  & 3  & 10 & 6 \\\\\n",
       "\t C  & 2  & 20 & 7 \\\\\n",
       "\\end{tabular}\n"
      ],
      "text/markdown": [
       "\n",
       "BldgType | Quality | price | id | \n",
       "|---|---|---|---|---|---|---|\n",
       "| A  | 1  | 50 | 1  | \n",
       "| A  | 1  | 40 | 2  | \n",
       "| A  | 2  | 30 | 3  | \n",
       "| B  | 1  | 30 | 4  | \n",
       "| B  | 3  | 20 | 5  | \n",
       "| C  | 3  | 10 | 6  | \n",
       "| C  | 2  | 20 | 7  | \n",
       "\n",
       "\n"
      ],
      "text/plain": [
       "  BldgType Quality price id\n",
       "1 A        1       50    1 \n",
       "2 A        1       40    2 \n",
       "3 A        2       30    3 \n",
       "4 B        1       30    4 \n",
       "5 B        3       20    5 \n",
       "6 C        3       10    6 \n",
       "7 C        2       20    7 "
      ]
     },
     "metadata": {},
     "output_type": "display_data"
    },
    {
     "data": {
      "text/html": [
       "<table>\n",
       "<thead><tr><th scope=col>BldgType</th><th scope=col>Quality</th><th scope=col>id</th></tr></thead>\n",
       "<tbody>\n",
       "\t<tr><td>A</td><td>2</td><td>1</td></tr>\n",
       "\t<tr><td>A</td><td>1</td><td>2</td></tr>\n",
       "\t<tr><td>B</td><td>2</td><td>3</td></tr>\n",
       "\t<tr><td>B</td><td>2</td><td>4</td></tr>\n",
       "\t<tr><td>C</td><td>4</td><td>5</td></tr>\n",
       "\t<tr><td>D</td><td>3</td><td>6</td></tr>\n",
       "</tbody>\n",
       "</table>\n"
      ],
      "text/latex": [
       "\\begin{tabular}{r|lll}\n",
       " BldgType & Quality & id\\\\\n",
       "\\hline\n",
       "\t A & 2 & 1\\\\\n",
       "\t A & 1 & 2\\\\\n",
       "\t B & 2 & 3\\\\\n",
       "\t B & 2 & 4\\\\\n",
       "\t C & 4 & 5\\\\\n",
       "\t D & 3 & 6\\\\\n",
       "\\end{tabular}\n"
      ],
      "text/markdown": [
       "\n",
       "BldgType | Quality | id | \n",
       "|---|---|---|---|---|---|\n",
       "| A | 2 | 1 | \n",
       "| A | 1 | 2 | \n",
       "| B | 2 | 3 | \n",
       "| B | 2 | 4 | \n",
       "| C | 4 | 5 | \n",
       "| D | 3 | 6 | \n",
       "\n",
       "\n"
      ],
      "text/plain": [
       "  BldgType Quality id\n",
       "1 A        2       1 \n",
       "2 A        1       2 \n",
       "3 B        2       3 \n",
       "4 B        2       4 \n",
       "5 C        4       5 \n",
       "6 D        3       6 "
      ]
     },
     "metadata": {},
     "output_type": "display_data"
    }
   ],
   "source": [
    "source('main.R')\n",
    "\n",
    "df.train <- data_frame(\n",
    "    BldgType       = c('A', 'A', 'A', 'B', 'B', 'C', 'C'),\n",
    "    Quality        = c( 1,   1,   2,   1,   3,   3,   2),\n",
    "    price          = c(50,   40,  30,  30,   20,   10,   20)\n",
    ") %>% mutate(id = 1:nrow(.))\n",
    "\n",
    "df.test <- data_frame(\n",
    "    BldgType       = c('A', 'A', 'B', 'B', 'C', 'D'),\n",
    "    Quality        = c( 2,   1,   2,   2,   4,   3),\n",
    ") %>% mutate(id = 1:nrow(.))\n",
    "\n",
    "df.train\n",
    "df.test"
   ]
  },
  {
   "cell_type": "code",
   "execution_count": 56,
   "metadata": {},
   "outputs": [
    {
     "data": {
      "text/html": [
       "<table>\n",
       "<thead><tr><th scope=col>id</th><th scope=col>BldgType</th><th scope=col>Quality</th></tr></thead>\n",
       "<tbody>\n",
       "\t<tr><td>1 </td><td>40</td><td>40</td></tr>\n",
       "\t<tr><td>2 </td><td>40</td><td>40</td></tr>\n",
       "\t<tr><td>3 </td><td>40</td><td>25</td></tr>\n",
       "\t<tr><td>4 </td><td>25</td><td>40</td></tr>\n",
       "\t<tr><td>5 </td><td>25</td><td>15</td></tr>\n",
       "\t<tr><td>6 </td><td>15</td><td>15</td></tr>\n",
       "\t<tr><td>7 </td><td>15</td><td>25</td></tr>\n",
       "</tbody>\n",
       "</table>\n"
      ],
      "text/latex": [
       "\\begin{tabular}{r|lll}\n",
       " id & BldgType & Quality\\\\\n",
       "\\hline\n",
       "\t 1  & 40 & 40\\\\\n",
       "\t 2  & 40 & 40\\\\\n",
       "\t 3  & 40 & 25\\\\\n",
       "\t 4  & 25 & 40\\\\\n",
       "\t 5  & 25 & 15\\\\\n",
       "\t 6  & 15 & 15\\\\\n",
       "\t 7  & 15 & 25\\\\\n",
       "\\end{tabular}\n"
      ],
      "text/markdown": [
       "\n",
       "id | BldgType | Quality | \n",
       "|---|---|---|---|---|---|---|\n",
       "| 1  | 40 | 40 | \n",
       "| 2  | 40 | 40 | \n",
       "| 3  | 40 | 25 | \n",
       "| 4  | 25 | 40 | \n",
       "| 5  | 25 | 15 | \n",
       "| 6  | 15 | 15 | \n",
       "| 7  | 15 | 25 | \n",
       "\n",
       "\n"
      ],
      "text/plain": [
       "  id BldgType Quality\n",
       "1 1  40       40     \n",
       "2 2  40       40     \n",
       "3 3  40       25     \n",
       "4 4  25       40     \n",
       "5 5  25       15     \n",
       "6 6  15       15     \n",
       "7 7  15       25     "
      ]
     },
     "metadata": {},
     "output_type": "display_data"
    }
   ],
   "source": [
    "df.train.tran <-\n",
    "    df.train %>%\n",
    "    gather(var.name, var.value, -price, -id) %>%\n",
    "    group_by(var.name, var.value) %>%\n",
    "    mutate(avg.price = mean(price)) %>%\n",
    "    ungroup %>% \n",
    "    select(-var.value, -price) %>% \n",
    "    spread(var.name, avg.price) %>% \n",
    "    arrange(id)\n",
    "\n",
    "df.train.tran\n",
    "\n",
    "Z <- \n",
    "    df.train.tran %>% \n",
    "    inner_join(df.train %>% rename(old.BldgType=BldgType, old.Quality=Quality), by='id')"
   ]
  },
  {
   "cell_type": "code",
   "execution_count": 62,
   "metadata": {},
   "outputs": [
    {
     "data": {
      "text/html": [
       "<table>\n",
       "<thead><tr><th scope=col>id</th><th scope=col>BldgType</th><th scope=col>Quality</th><th scope=col>old.BldgType</th><th scope=col>old.Quality</th><th scope=col>price</th><th scope=col>avg.BldgType</th><th scope=col>avg.Quality</th><th scope=col>avg.BldgType == BldgType</th><th scope=col>avg.Quality == Quality</th></tr></thead>\n",
       "<tbody>\n",
       "\t<tr><td>1   </td><td>40  </td><td>40  </td><td>A   </td><td>1   </td><td>50  </td><td>40  </td><td>40  </td><td>TRUE</td><td>TRUE</td></tr>\n",
       "\t<tr><td>2   </td><td>40  </td><td>40  </td><td>A   </td><td>1   </td><td>40  </td><td>40  </td><td>40  </td><td>TRUE</td><td>TRUE</td></tr>\n",
       "\t<tr><td>3   </td><td>40  </td><td>25  </td><td>A   </td><td>2   </td><td>30  </td><td>40  </td><td>25  </td><td>TRUE</td><td>TRUE</td></tr>\n",
       "\t<tr><td>4   </td><td>25  </td><td>40  </td><td>B   </td><td>1   </td><td>30  </td><td>25  </td><td>40  </td><td>TRUE</td><td>TRUE</td></tr>\n",
       "\t<tr><td>5   </td><td>25  </td><td>15  </td><td>B   </td><td>3   </td><td>20  </td><td>25  </td><td>15  </td><td>TRUE</td><td>TRUE</td></tr>\n",
       "\t<tr><td>6   </td><td>15  </td><td>15  </td><td>C   </td><td>3   </td><td>10  </td><td>15  </td><td>15  </td><td>TRUE</td><td>TRUE</td></tr>\n",
       "\t<tr><td>7   </td><td>15  </td><td>25  </td><td>C   </td><td>2   </td><td>20  </td><td>15  </td><td>25  </td><td>TRUE</td><td>TRUE</td></tr>\n",
       "</tbody>\n",
       "</table>\n"
      ],
      "text/latex": [
       "\\begin{tabular}{r|llllllllll}\n",
       " id & BldgType & Quality & old.BldgType & old.Quality & price & avg.BldgType & avg.Quality & avg.BldgType == BldgType & avg.Quality == Quality\\\\\n",
       "\\hline\n",
       "\t 1    & 40   & 40   & A    & 1    & 50   & 40   & 40   & TRUE & TRUE\\\\\n",
       "\t 2    & 40   & 40   & A    & 1    & 40   & 40   & 40   & TRUE & TRUE\\\\\n",
       "\t 3    & 40   & 25   & A    & 2    & 30   & 40   & 25   & TRUE & TRUE\\\\\n",
       "\t 4    & 25   & 40   & B    & 1    & 30   & 25   & 40   & TRUE & TRUE\\\\\n",
       "\t 5    & 25   & 15   & B    & 3    & 20   & 25   & 15   & TRUE & TRUE\\\\\n",
       "\t 6    & 15   & 15   & C    & 3    & 10   & 15   & 15   & TRUE & TRUE\\\\\n",
       "\t 7    & 15   & 25   & C    & 2    & 20   & 15   & 25   & TRUE & TRUE\\\\\n",
       "\\end{tabular}\n"
      ],
      "text/markdown": [
       "\n",
       "id | BldgType | Quality | old.BldgType | old.Quality | price | avg.BldgType | avg.Quality | avg.BldgType == BldgType | avg.Quality == Quality | \n",
       "|---|---|---|---|---|---|---|\n",
       "| 1    | 40   | 40   | A    | 1    | 50   | 40   | 40   | TRUE | TRUE | \n",
       "| 2    | 40   | 40   | A    | 1    | 40   | 40   | 40   | TRUE | TRUE | \n",
       "| 3    | 40   | 25   | A    | 2    | 30   | 40   | 25   | TRUE | TRUE | \n",
       "| 4    | 25   | 40   | B    | 1    | 30   | 25   | 40   | TRUE | TRUE | \n",
       "| 5    | 25   | 15   | B    | 3    | 20   | 25   | 15   | TRUE | TRUE | \n",
       "| 6    | 15   | 15   | C    | 3    | 10   | 15   | 15   | TRUE | TRUE | \n",
       "| 7    | 15   | 25   | C    | 2    | 20   | 15   | 25   | TRUE | TRUE | \n",
       "\n",
       "\n"
      ],
      "text/plain": [
       "  id BldgType Quality old.BldgType old.Quality price avg.BldgType avg.Quality\n",
       "1 1  40       40      A            1           50    40           40         \n",
       "2 2  40       40      A            1           40    40           40         \n",
       "3 3  40       25      A            2           30    40           25         \n",
       "4 4  25       40      B            1           30    25           40         \n",
       "5 5  25       15      B            3           20    25           15         \n",
       "6 6  15       15      C            3           10    15           15         \n",
       "7 7  15       25      C            2           20    15           25         \n",
       "  avg.BldgType == BldgType avg.Quality == Quality\n",
       "1 TRUE                     TRUE                  \n",
       "2 TRUE                     TRUE                  \n",
       "3 TRUE                     TRUE                  \n",
       "4 TRUE                     TRUE                  \n",
       "5 TRUE                     TRUE                  \n",
       "6 TRUE                     TRUE                  \n",
       "7 TRUE                     TRUE                  "
      ]
     },
     "metadata": {},
     "output_type": "display_data"
    }
   ],
   "source": [
    "Z %>%\n",
    "    group_by(old.BldgType) %>%\n",
    "    mutate(avg.BldgType = mean(price)) %>%\n",
    "    group_by(old.Quality) %>%\n",
    "    mutate(avg.Quality = mean(price)) %>%\n",
    "    mutate(\n",
    "        avg.BldgType == BldgType,\n",
    "         avg.Quality == Quality\n",
    "    )"
   ]
  },
  {
   "cell_type": "code",
   "execution_count": 83,
   "metadata": {},
   "outputs": [
    {
     "data": {
      "text/html": [
       "<table>\n",
       "<thead><tr><th scope=col>price</th><th scope=col>id</th><th scope=col>var.name</th><th scope=col>var.value</th><th scope=col>src</th></tr></thead>\n",
       "<tbody>\n",
       "\t<tr><td>50      </td><td>1       </td><td>BldgType</td><td>A       </td><td>train   </td></tr>\n",
       "\t<tr><td>40      </td><td>2       </td><td>BldgType</td><td>A       </td><td>train   </td></tr>\n",
       "\t<tr><td>30      </td><td>3       </td><td>BldgType</td><td>A       </td><td>train   </td></tr>\n",
       "\t<tr><td>30      </td><td>4       </td><td>BldgType</td><td>B       </td><td>train   </td></tr>\n",
       "\t<tr><td>20      </td><td>5       </td><td>BldgType</td><td>B       </td><td>train   </td></tr>\n",
       "\t<tr><td>10      </td><td>6       </td><td>BldgType</td><td>C       </td><td>train   </td></tr>\n",
       "</tbody>\n",
       "</table>\n"
      ],
      "text/latex": [
       "\\begin{tabular}{r|lllll}\n",
       " price & id & var.name & var.value & src\\\\\n",
       "\\hline\n",
       "\t 50       & 1        & BldgType & A        & train   \\\\\n",
       "\t 40       & 2        & BldgType & A        & train   \\\\\n",
       "\t 30       & 3        & BldgType & A        & train   \\\\\n",
       "\t 30       & 4        & BldgType & B        & train   \\\\\n",
       "\t 20       & 5        & BldgType & B        & train   \\\\\n",
       "\t 10       & 6        & BldgType & C        & train   \\\\\n",
       "\\end{tabular}\n"
      ],
      "text/markdown": [
       "\n",
       "price | id | var.name | var.value | src | \n",
       "|---|---|---|---|---|---|\n",
       "| 50       | 1        | BldgType | A        | train    | \n",
       "| 40       | 2        | BldgType | A        | train    | \n",
       "| 30       | 3        | BldgType | A        | train    | \n",
       "| 30       | 4        | BldgType | B        | train    | \n",
       "| 20       | 5        | BldgType | B        | train    | \n",
       "| 10       | 6        | BldgType | C        | train    | \n",
       "\n",
       "\n"
      ],
      "text/plain": [
       "  price id var.name var.value src  \n",
       "1 50    1  BldgType A         train\n",
       "2 40    2  BldgType A         train\n",
       "3 30    3  BldgType A         train\n",
       "4 30    4  BldgType B         train\n",
       "5 20    5  BldgType B         train\n",
       "6 10    6  BldgType C         train"
      ]
     },
     "metadata": {},
     "output_type": "display_data"
    }
   ],
   "source": [
    "train.log <- \n",
    "    df.train %>%\n",
    "    gather(var.name, var.value, -price, -id) %>%\n",
    "    mutate(src = 'train')\n",
    "\n",
    "test.long <-\n",
    "    df.test %>%\n",
    "        gather(var.name, var.value, -id) %>%\n",
    "        mutate(src = 'test')\n",
    "\n",
    "long <- train.log %>% bind_rows(test.long)\n",
    "\n",
    "long %>% head"
   ]
  },
  {
   "cell_type": "code",
   "execution_count": 87,
   "metadata": {},
   "outputs": [
    {
     "data": {
      "text/html": [
       "<table>\n",
       "<thead><tr><th scope=col>price</th><th scope=col>id</th><th scope=col>var.name</th><th scope=col>var.value</th><th scope=col>src</th><th scope=col>avg.price</th></tr></thead>\n",
       "<tbody>\n",
       "\t<tr><td>50      </td><td>1       </td><td>BldgType</td><td>A       </td><td>train   </td><td> 40     </td></tr>\n",
       "\t<tr><td>40      </td><td>2       </td><td>BldgType</td><td>A       </td><td>train   </td><td> 40     </td></tr>\n",
       "\t<tr><td>30      </td><td>3       </td><td>BldgType</td><td>A       </td><td>train   </td><td> 40     </td></tr>\n",
       "\t<tr><td>NA      </td><td>1       </td><td>BldgType</td><td>A       </td><td>test    </td><td> 40     </td></tr>\n",
       "\t<tr><td>NA      </td><td>2       </td><td>BldgType</td><td>A       </td><td>test    </td><td> 40     </td></tr>\n",
       "\t<tr><td>30      </td><td>4       </td><td>BldgType</td><td>B       </td><td>train   </td><td> 25     </td></tr>\n",
       "\t<tr><td>20      </td><td>5       </td><td>BldgType</td><td>B       </td><td>train   </td><td> 25     </td></tr>\n",
       "\t<tr><td>NA      </td><td>3       </td><td>BldgType</td><td>B       </td><td>test    </td><td> 25     </td></tr>\n",
       "\t<tr><td>NA      </td><td>4       </td><td>BldgType</td><td>B       </td><td>test    </td><td> 25     </td></tr>\n",
       "\t<tr><td>10      </td><td>6       </td><td>BldgType</td><td>C       </td><td>train   </td><td> 15     </td></tr>\n",
       "\t<tr><td>20      </td><td>7       </td><td>BldgType</td><td>C       </td><td>train   </td><td> 15     </td></tr>\n",
       "\t<tr><td>NA      </td><td>5       </td><td>BldgType</td><td>C       </td><td>test    </td><td> 15     </td></tr>\n",
       "\t<tr><td>NA      </td><td>6       </td><td>BldgType</td><td>D       </td><td>test    </td><td>NaN     </td></tr>\n",
       "\t<tr><td>50      </td><td>1       </td><td>Quality </td><td>1       </td><td>train   </td><td> 40     </td></tr>\n",
       "\t<tr><td>40      </td><td>2       </td><td>Quality </td><td>1       </td><td>train   </td><td> 40     </td></tr>\n",
       "\t<tr><td>30      </td><td>4       </td><td>Quality </td><td>1       </td><td>train   </td><td> 40     </td></tr>\n",
       "\t<tr><td>NA      </td><td>2       </td><td>Quality </td><td>1       </td><td>test    </td><td> 40     </td></tr>\n",
       "\t<tr><td>30      </td><td>3       </td><td>Quality </td><td>2       </td><td>train   </td><td> 25     </td></tr>\n",
       "\t<tr><td>20      </td><td>7       </td><td>Quality </td><td>2       </td><td>train   </td><td> 25     </td></tr>\n",
       "\t<tr><td>NA      </td><td>1       </td><td>Quality </td><td>2       </td><td>test    </td><td> 25     </td></tr>\n",
       "\t<tr><td>NA      </td><td>3       </td><td>Quality </td><td>2       </td><td>test    </td><td> 25     </td></tr>\n",
       "\t<tr><td>NA      </td><td>4       </td><td>Quality </td><td>2       </td><td>test    </td><td> 25     </td></tr>\n",
       "\t<tr><td>20      </td><td>5       </td><td>Quality </td><td>3       </td><td>train   </td><td> 15     </td></tr>\n",
       "\t<tr><td>10      </td><td>6       </td><td>Quality </td><td>3       </td><td>train   </td><td> 15     </td></tr>\n",
       "\t<tr><td>NA      </td><td>6       </td><td>Quality </td><td>3       </td><td>test    </td><td> 15     </td></tr>\n",
       "\t<tr><td>NA      </td><td>5       </td><td>Quality </td><td>4       </td><td>test    </td><td>NaN     </td></tr>\n",
       "</tbody>\n",
       "</table>\n"
      ],
      "text/latex": [
       "\\begin{tabular}{r|llllll}\n",
       " price & id & var.name & var.value & src & avg.price\\\\\n",
       "\\hline\n",
       "\t 50       & 1        & BldgType & A        & train    &  40     \\\\\n",
       "\t 40       & 2        & BldgType & A        & train    &  40     \\\\\n",
       "\t 30       & 3        & BldgType & A        & train    &  40     \\\\\n",
       "\t NA       & 1        & BldgType & A        & test     &  40     \\\\\n",
       "\t NA       & 2        & BldgType & A        & test     &  40     \\\\\n",
       "\t 30       & 4        & BldgType & B        & train    &  25     \\\\\n",
       "\t 20       & 5        & BldgType & B        & train    &  25     \\\\\n",
       "\t NA       & 3        & BldgType & B        & test     &  25     \\\\\n",
       "\t NA       & 4        & BldgType & B        & test     &  25     \\\\\n",
       "\t 10       & 6        & BldgType & C        & train    &  15     \\\\\n",
       "\t 20       & 7        & BldgType & C        & train    &  15     \\\\\n",
       "\t NA       & 5        & BldgType & C        & test     &  15     \\\\\n",
       "\t NA       & 6        & BldgType & D        & test     & NaN     \\\\\n",
       "\t 50       & 1        & Quality  & 1        & train    &  40     \\\\\n",
       "\t 40       & 2        & Quality  & 1        & train    &  40     \\\\\n",
       "\t 30       & 4        & Quality  & 1        & train    &  40     \\\\\n",
       "\t NA       & 2        & Quality  & 1        & test     &  40     \\\\\n",
       "\t 30       & 3        & Quality  & 2        & train    &  25     \\\\\n",
       "\t 20       & 7        & Quality  & 2        & train    &  25     \\\\\n",
       "\t NA       & 1        & Quality  & 2        & test     &  25     \\\\\n",
       "\t NA       & 3        & Quality  & 2        & test     &  25     \\\\\n",
       "\t NA       & 4        & Quality  & 2        & test     &  25     \\\\\n",
       "\t 20       & 5        & Quality  & 3        & train    &  15     \\\\\n",
       "\t 10       & 6        & Quality  & 3        & train    &  15     \\\\\n",
       "\t NA       & 6        & Quality  & 3        & test     &  15     \\\\\n",
       "\t NA       & 5        & Quality  & 4        & test     & NaN     \\\\\n",
       "\\end{tabular}\n"
      ],
      "text/markdown": [
       "\n",
       "price | id | var.name | var.value | src | avg.price | \n",
       "|---|---|---|---|---|---|---|---|---|---|---|---|---|---|---|---|---|---|---|---|---|---|---|---|---|---|\n",
       "| 50       | 1        | BldgType | A        | train    |  40      | \n",
       "| 40       | 2        | BldgType | A        | train    |  40      | \n",
       "| 30       | 3        | BldgType | A        | train    |  40      | \n",
       "| NA       | 1        | BldgType | A        | test     |  40      | \n",
       "| NA       | 2        | BldgType | A        | test     |  40      | \n",
       "| 30       | 4        | BldgType | B        | train    |  25      | \n",
       "| 20       | 5        | BldgType | B        | train    |  25      | \n",
       "| NA       | 3        | BldgType | B        | test     |  25      | \n",
       "| NA       | 4        | BldgType | B        | test     |  25      | \n",
       "| 10       | 6        | BldgType | C        | train    |  15      | \n",
       "| 20       | 7        | BldgType | C        | train    |  15      | \n",
       "| NA       | 5        | BldgType | C        | test     |  15      | \n",
       "| NA       | 6        | BldgType | D        | test     | NaN      | \n",
       "| 50       | 1        | Quality  | 1        | train    |  40      | \n",
       "| 40       | 2        | Quality  | 1        | train    |  40      | \n",
       "| 30       | 4        | Quality  | 1        | train    |  40      | \n",
       "| NA       | 2        | Quality  | 1        | test     |  40      | \n",
       "| 30       | 3        | Quality  | 2        | train    |  25      | \n",
       "| 20       | 7        | Quality  | 2        | train    |  25      | \n",
       "| NA       | 1        | Quality  | 2        | test     |  25      | \n",
       "| NA       | 3        | Quality  | 2        | test     |  25      | \n",
       "| NA       | 4        | Quality  | 2        | test     |  25      | \n",
       "| 20       | 5        | Quality  | 3        | train    |  15      | \n",
       "| 10       | 6        | Quality  | 3        | train    |  15      | \n",
       "| NA       | 6        | Quality  | 3        | test     |  15      | \n",
       "| NA       | 5        | Quality  | 4        | test     | NaN      | \n",
       "\n",
       "\n"
      ],
      "text/plain": [
       "   price id var.name var.value src   avg.price\n",
       "1  50    1  BldgType A         train  40      \n",
       "2  40    2  BldgType A         train  40      \n",
       "3  30    3  BldgType A         train  40      \n",
       "4  NA    1  BldgType A         test   40      \n",
       "5  NA    2  BldgType A         test   40      \n",
       "6  30    4  BldgType B         train  25      \n",
       "7  20    5  BldgType B         train  25      \n",
       "8  NA    3  BldgType B         test   25      \n",
       "9  NA    4  BldgType B         test   25      \n",
       "10 10    6  BldgType C         train  15      \n",
       "11 20    7  BldgType C         train  15      \n",
       "12 NA    5  BldgType C         test   15      \n",
       "13 NA    6  BldgType D         test  NaN      \n",
       "14 50    1  Quality  1         train  40      \n",
       "15 40    2  Quality  1         train  40      \n",
       "16 30    4  Quality  1         train  40      \n",
       "17 NA    2  Quality  1         test   40      \n",
       "18 30    3  Quality  2         train  25      \n",
       "19 20    7  Quality  2         train  25      \n",
       "20 NA    1  Quality  2         test   25      \n",
       "21 NA    3  Quality  2         test   25      \n",
       "22 NA    4  Quality  2         test   25      \n",
       "23 20    5  Quality  3         train  15      \n",
       "24 10    6  Quality  3         train  15      \n",
       "25 NA    6  Quality  3         test   15      \n",
       "26 NA    5  Quality  4         test  NaN      "
      ]
     },
     "metadata": {},
     "output_type": "display_data"
    }
   ],
   "source": [
    "long %>%\n",
    "    group_by(var.name, var.value) %>%\n",
    "    arrange(var.name, var.value) %>%\n",
    "    mutate(avg.price = mean(price, na.rm=T))"
   ]
  },
  {
   "cell_type": "code",
   "execution_count": null,
   "metadata": {
    "collapsed": true
   },
   "outputs": [],
   "source": []
  },
  {
   "cell_type": "code",
   "execution_count": null,
   "metadata": {
    "collapsed": true
   },
   "outputs": [],
   "source": []
  },
  {
   "cell_type": "code",
   "execution_count": null,
   "metadata": {
    "collapsed": true
   },
   "outputs": [],
   "source": []
  },
  {
   "cell_type": "code",
   "execution_count": null,
   "metadata": {
    "collapsed": true
   },
   "outputs": [],
   "source": []
  },
  {
   "cell_type": "code",
   "execution_count": null,
   "metadata": {
    "collapsed": true
   },
   "outputs": [],
   "source": []
  },
  {
   "cell_type": "code",
   "execution_count": null,
   "metadata": {
    "collapsed": true
   },
   "outputs": [],
   "source": []
  }
 ],
 "metadata": {
  "kernelspec": {
   "display_name": "R",
   "language": "R",
   "name": "ir"
  },
  "language_info": {
   "codemirror_mode": "r",
   "file_extension": ".r",
   "mimetype": "text/x-r-source",
   "name": "R",
   "pygments_lexer": "r",
   "version": "3.4.2"
  }
 },
 "nbformat": 4,
 "nbformat_minor": 2
}
