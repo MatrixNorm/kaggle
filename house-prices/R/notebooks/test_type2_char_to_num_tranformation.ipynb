{
 "cells": [
  {
   "cell_type": "code",
   "execution_count": 1,
   "metadata": {},
   "outputs": [
    {
     "data": {
      "text/html": [
       "'/mnt/hdd/develop/kaggle/house-prices/R/R'"
      ],
      "text/latex": [
       "'/mnt/hdd/develop/kaggle/house-prices/R/R'"
      ],
      "text/markdown": [
       "'/mnt/hdd/develop/kaggle/house-prices/R/R'"
      ],
      "text/plain": [
       "[1] \"/mnt/hdd/develop/kaggle/house-prices/R/R\""
      ]
     },
     "metadata": {},
     "output_type": "display_data"
    }
   ],
   "source": [
    "setwd(paste0(Sys.getenv('ROOT'), '/R'))\n",
    "getwd()"
   ]
  },
  {
   "cell_type": "code",
   "execution_count": 15,
   "metadata": {},
   "outputs": [
    {
     "data": {
      "text/html": [
       "<table>\n",
       "<thead><tr><th scope=col>BldgType</th><th scope=col>Quality</th><th scope=col>price</th><th scope=col>id</th></tr></thead>\n",
       "<tbody>\n",
       "\t<tr><td>A </td><td>1 </td><td>50</td><td>1 </td></tr>\n",
       "\t<tr><td>A </td><td>1 </td><td>40</td><td>2 </td></tr>\n",
       "\t<tr><td>A </td><td>2 </td><td>30</td><td>3 </td></tr>\n",
       "\t<tr><td>B </td><td>1 </td><td>30</td><td>4 </td></tr>\n",
       "\t<tr><td>B </td><td>3 </td><td>20</td><td>5 </td></tr>\n",
       "\t<tr><td>C </td><td>3 </td><td>10</td><td>6 </td></tr>\n",
       "\t<tr><td>C </td><td>2 </td><td>20</td><td>7 </td></tr>\n",
       "</tbody>\n",
       "</table>\n"
      ],
      "text/latex": [
       "\\begin{tabular}{r|llll}\n",
       " BldgType & Quality & price & id\\\\\n",
       "\\hline\n",
       "\t A  & 1  & 50 & 1 \\\\\n",
       "\t A  & 1  & 40 & 2 \\\\\n",
       "\t A  & 2  & 30 & 3 \\\\\n",
       "\t B  & 1  & 30 & 4 \\\\\n",
       "\t B  & 3  & 20 & 5 \\\\\n",
       "\t C  & 3  & 10 & 6 \\\\\n",
       "\t C  & 2  & 20 & 7 \\\\\n",
       "\\end{tabular}\n"
      ],
      "text/markdown": [
       "\n",
       "BldgType | Quality | price | id | \n",
       "|---|---|---|---|---|---|---|\n",
       "| A  | 1  | 50 | 1  | \n",
       "| A  | 1  | 40 | 2  | \n",
       "| A  | 2  | 30 | 3  | \n",
       "| B  | 1  | 30 | 4  | \n",
       "| B  | 3  | 20 | 5  | \n",
       "| C  | 3  | 10 | 6  | \n",
       "| C  | 2  | 20 | 7  | \n",
       "\n",
       "\n"
      ],
      "text/plain": [
       "  BldgType Quality price id\n",
       "1 A        1       50    1 \n",
       "2 A        1       40    2 \n",
       "3 A        2       30    3 \n",
       "4 B        1       30    4 \n",
       "5 B        3       20    5 \n",
       "6 C        3       10    6 \n",
       "7 C        2       20    7 "
      ]
     },
     "metadata": {},
     "output_type": "display_data"
    },
    {
     "data": {
      "text/html": [
       "<table>\n",
       "<thead><tr><th scope=col>BldgType</th><th scope=col>Quality</th><th scope=col>id</th></tr></thead>\n",
       "<tbody>\n",
       "\t<tr><td>A</td><td>2</td><td>1</td></tr>\n",
       "\t<tr><td>A</td><td>1</td><td>2</td></tr>\n",
       "\t<tr><td>B</td><td>2</td><td>3</td></tr>\n",
       "\t<tr><td>B</td><td>2</td><td>4</td></tr>\n",
       "\t<tr><td>C</td><td>4</td><td>5</td></tr>\n",
       "\t<tr><td>D</td><td>3</td><td>6</td></tr>\n",
       "</tbody>\n",
       "</table>\n"
      ],
      "text/latex": [
       "\\begin{tabular}{r|lll}\n",
       " BldgType & Quality & id\\\\\n",
       "\\hline\n",
       "\t A & 2 & 1\\\\\n",
       "\t A & 1 & 2\\\\\n",
       "\t B & 2 & 3\\\\\n",
       "\t B & 2 & 4\\\\\n",
       "\t C & 4 & 5\\\\\n",
       "\t D & 3 & 6\\\\\n",
       "\\end{tabular}\n"
      ],
      "text/markdown": [
       "\n",
       "BldgType | Quality | id | \n",
       "|---|---|---|---|---|---|\n",
       "| A | 2 | 1 | \n",
       "| A | 1 | 2 | \n",
       "| B | 2 | 3 | \n",
       "| B | 2 | 4 | \n",
       "| C | 4 | 5 | \n",
       "| D | 3 | 6 | \n",
       "\n",
       "\n"
      ],
      "text/plain": [
       "  BldgType Quality id\n",
       "1 A        2       1 \n",
       "2 A        1       2 \n",
       "3 B        2       3 \n",
       "4 B        2       4 \n",
       "5 C        4       5 \n",
       "6 D        3       6 "
      ]
     },
     "metadata": {},
     "output_type": "display_data"
    }
   ],
   "source": [
    "source('main.R')\n",
    "\n",
    "df.train <- data_frame(\n",
    "    BldgType       = c('A', 'A', 'A', 'B', 'B', 'C', 'C'),\n",
    "    Quality        = c( 1,   1,   2,   1,   3,   3,   2),\n",
    "    price          = c(50,   40,  30,  30,   20,   10,   20)\n",
    ") %>% mutate(id = 1:nrow(.))\n",
    "\n",
    "df.test <- data_frame(\n",
    "    BldgType       = c('A', 'A', 'B', 'B', 'C', 'D'),\n",
    "    Quality        = c( 2,   1,   2,   2,   4,   3),\n",
    ") %>% mutate(id = 1:nrow(.))\n",
    "\n",
    "\n",
    "df.train\n",
    "df.test"
   ]
  },
  {
   "cell_type": "code",
   "execution_count": 4,
   "metadata": {},
   "outputs": [
    {
     "data": {
      "text/html": [
       "<table>\n",
       "<thead><tr><th scope=col>id</th><th scope=col>BldgType</th><th scope=col>Quality</th></tr></thead>\n",
       "<tbody>\n",
       "\t<tr><td>1 </td><td>40</td><td>40</td></tr>\n",
       "\t<tr><td>2 </td><td>40</td><td>40</td></tr>\n",
       "\t<tr><td>3 </td><td>40</td><td>25</td></tr>\n",
       "\t<tr><td>4 </td><td>25</td><td>40</td></tr>\n",
       "\t<tr><td>5 </td><td>25</td><td>15</td></tr>\n",
       "\t<tr><td>6 </td><td>15</td><td>15</td></tr>\n",
       "\t<tr><td>7 </td><td>15</td><td>25</td></tr>\n",
       "</tbody>\n",
       "</table>\n"
      ],
      "text/latex": [
       "\\begin{tabular}{r|lll}\n",
       " id & BldgType & Quality\\\\\n",
       "\\hline\n",
       "\t 1  & 40 & 40\\\\\n",
       "\t 2  & 40 & 40\\\\\n",
       "\t 3  & 40 & 25\\\\\n",
       "\t 4  & 25 & 40\\\\\n",
       "\t 5  & 25 & 15\\\\\n",
       "\t 6  & 15 & 15\\\\\n",
       "\t 7  & 15 & 25\\\\\n",
       "\\end{tabular}\n"
      ],
      "text/markdown": [
       "\n",
       "id | BldgType | Quality | \n",
       "|---|---|---|---|---|---|---|\n",
       "| 1  | 40 | 40 | \n",
       "| 2  | 40 | 40 | \n",
       "| 3  | 40 | 25 | \n",
       "| 4  | 25 | 40 | \n",
       "| 5  | 25 | 15 | \n",
       "| 6  | 15 | 15 | \n",
       "| 7  | 15 | 25 | \n",
       "\n",
       "\n"
      ],
      "text/plain": [
       "  id BldgType Quality\n",
       "1 1  40       40     \n",
       "2 2  40       40     \n",
       "3 3  40       25     \n",
       "4 4  25       40     \n",
       "5 5  25       15     \n",
       "6 6  15       15     \n",
       "7 7  15       25     "
      ]
     },
     "metadata": {},
     "output_type": "display_data"
    }
   ],
   "source": [
    "df.train.tran <-\n",
    "    df.train %>%\n",
    "    gather(var.name, var.value, -price, -id) %>%\n",
    "    group_by(var.name, var.value) %>%\n",
    "    mutate(avg.price = mean(price)) %>%\n",
    "    ungroup %>% \n",
    "    select(-var.value, -price) %>% \n",
    "    spread(var.name, avg.price) %>% \n",
    "    arrange(id)\n",
    "\n",
    "df.train.tran\n",
    "\n",
    "Z <- \n",
    "    df.train.tran %>% \n",
    "    inner_join(df.train %>% rename(old.BldgType=BldgType, old.Quality=Quality), by='id')"
   ]
  },
  {
   "cell_type": "code",
   "execution_count": 5,
   "metadata": {},
   "outputs": [
    {
     "data": {
      "text/html": [
       "<table>\n",
       "<thead><tr><th scope=col>id</th><th scope=col>BldgType</th><th scope=col>Quality</th><th scope=col>old.BldgType</th><th scope=col>old.Quality</th><th scope=col>price</th><th scope=col>avg.BldgType</th><th scope=col>avg.Quality</th><th scope=col>avg.BldgType == BldgType</th><th scope=col>avg.Quality == Quality</th></tr></thead>\n",
       "<tbody>\n",
       "\t<tr><td>1   </td><td>40  </td><td>40  </td><td>A   </td><td>1   </td><td>50  </td><td>40  </td><td>40  </td><td>TRUE</td><td>TRUE</td></tr>\n",
       "\t<tr><td>2   </td><td>40  </td><td>40  </td><td>A   </td><td>1   </td><td>40  </td><td>40  </td><td>40  </td><td>TRUE</td><td>TRUE</td></tr>\n",
       "\t<tr><td>3   </td><td>40  </td><td>25  </td><td>A   </td><td>2   </td><td>30  </td><td>40  </td><td>25  </td><td>TRUE</td><td>TRUE</td></tr>\n",
       "\t<tr><td>4   </td><td>25  </td><td>40  </td><td>B   </td><td>1   </td><td>30  </td><td>25  </td><td>40  </td><td>TRUE</td><td>TRUE</td></tr>\n",
       "\t<tr><td>5   </td><td>25  </td><td>15  </td><td>B   </td><td>3   </td><td>20  </td><td>25  </td><td>15  </td><td>TRUE</td><td>TRUE</td></tr>\n",
       "\t<tr><td>6   </td><td>15  </td><td>15  </td><td>C   </td><td>3   </td><td>10  </td><td>15  </td><td>15  </td><td>TRUE</td><td>TRUE</td></tr>\n",
       "\t<tr><td>7   </td><td>15  </td><td>25  </td><td>C   </td><td>2   </td><td>20  </td><td>15  </td><td>25  </td><td>TRUE</td><td>TRUE</td></tr>\n",
       "</tbody>\n",
       "</table>\n"
      ],
      "text/latex": [
       "\\begin{tabular}{r|llllllllll}\n",
       " id & BldgType & Quality & old.BldgType & old.Quality & price & avg.BldgType & avg.Quality & avg.BldgType == BldgType & avg.Quality == Quality\\\\\n",
       "\\hline\n",
       "\t 1    & 40   & 40   & A    & 1    & 50   & 40   & 40   & TRUE & TRUE\\\\\n",
       "\t 2    & 40   & 40   & A    & 1    & 40   & 40   & 40   & TRUE & TRUE\\\\\n",
       "\t 3    & 40   & 25   & A    & 2    & 30   & 40   & 25   & TRUE & TRUE\\\\\n",
       "\t 4    & 25   & 40   & B    & 1    & 30   & 25   & 40   & TRUE & TRUE\\\\\n",
       "\t 5    & 25   & 15   & B    & 3    & 20   & 25   & 15   & TRUE & TRUE\\\\\n",
       "\t 6    & 15   & 15   & C    & 3    & 10   & 15   & 15   & TRUE & TRUE\\\\\n",
       "\t 7    & 15   & 25   & C    & 2    & 20   & 15   & 25   & TRUE & TRUE\\\\\n",
       "\\end{tabular}\n"
      ],
      "text/markdown": [
       "\n",
       "id | BldgType | Quality | old.BldgType | old.Quality | price | avg.BldgType | avg.Quality | avg.BldgType == BldgType | avg.Quality == Quality | \n",
       "|---|---|---|---|---|---|---|\n",
       "| 1    | 40   | 40   | A    | 1    | 50   | 40   | 40   | TRUE | TRUE | \n",
       "| 2    | 40   | 40   | A    | 1    | 40   | 40   | 40   | TRUE | TRUE | \n",
       "| 3    | 40   | 25   | A    | 2    | 30   | 40   | 25   | TRUE | TRUE | \n",
       "| 4    | 25   | 40   | B    | 1    | 30   | 25   | 40   | TRUE | TRUE | \n",
       "| 5    | 25   | 15   | B    | 3    | 20   | 25   | 15   | TRUE | TRUE | \n",
       "| 6    | 15   | 15   | C    | 3    | 10   | 15   | 15   | TRUE | TRUE | \n",
       "| 7    | 15   | 25   | C    | 2    | 20   | 15   | 25   | TRUE | TRUE | \n",
       "\n",
       "\n"
      ],
      "text/plain": [
       "  id BldgType Quality old.BldgType old.Quality price avg.BldgType avg.Quality\n",
       "1 1  40       40      A            1           50    40           40         \n",
       "2 2  40       40      A            1           40    40           40         \n",
       "3 3  40       25      A            2           30    40           25         \n",
       "4 4  25       40      B            1           30    25           40         \n",
       "5 5  25       15      B            3           20    25           15         \n",
       "6 6  15       15      C            3           10    15           15         \n",
       "7 7  15       25      C            2           20    15           25         \n",
       "  avg.BldgType == BldgType avg.Quality == Quality\n",
       "1 TRUE                     TRUE                  \n",
       "2 TRUE                     TRUE                  \n",
       "3 TRUE                     TRUE                  \n",
       "4 TRUE                     TRUE                  \n",
       "5 TRUE                     TRUE                  \n",
       "6 TRUE                     TRUE                  \n",
       "7 TRUE                     TRUE                  "
      ]
     },
     "metadata": {},
     "output_type": "display_data"
    }
   ],
   "source": [
    "Z %>%\n",
    "    group_by(old.BldgType) %>%\n",
    "    mutate(avg.BldgType = mean(price)) %>%\n",
    "    group_by(old.Quality) %>%\n",
    "    mutate(avg.Quality = mean(price)) %>%\n",
    "    mutate(\n",
    "        avg.BldgType == BldgType,\n",
    "         avg.Quality == Quality\n",
    "    )"
   ]
  },
  {
   "cell_type": "code",
   "execution_count": 24,
   "metadata": {},
   "outputs": [
    {
     "data": {
      "text/html": [
       "<table>\n",
       "<thead><tr><th scope=col>price.x</th><th scope=col>id</th><th scope=col>BldgType.x</th><th scope=col>Quality.x</th><th scope=col>BldgType.y</th><th scope=col>Quality.y</th><th scope=col>price.y</th></tr></thead>\n",
       "<tbody>\n",
       "\t<tr><td>50</td><td>1 </td><td>40</td><td>40</td><td>A </td><td>1 </td><td>50</td></tr>\n",
       "\t<tr><td>40</td><td>2 </td><td>40</td><td>40</td><td>A </td><td>1 </td><td>40</td></tr>\n",
       "\t<tr><td>30</td><td>3 </td><td>40</td><td>25</td><td>A </td><td>2 </td><td>30</td></tr>\n",
       "\t<tr><td>30</td><td>4 </td><td>25</td><td>40</td><td>B </td><td>1 </td><td>30</td></tr>\n",
       "\t<tr><td>20</td><td>5 </td><td>25</td><td>15</td><td>B </td><td>3 </td><td>20</td></tr>\n",
       "\t<tr><td>10</td><td>6 </td><td>15</td><td>15</td><td>C </td><td>3 </td><td>10</td></tr>\n",
       "\t<tr><td>20</td><td>7 </td><td>15</td><td>25</td><td>C </td><td>2 </td><td>20</td></tr>\n",
       "</tbody>\n",
       "</table>\n"
      ],
      "text/latex": [
       "\\begin{tabular}{r|lllllll}\n",
       " price.x & id & BldgType.x & Quality.x & BldgType.y & Quality.y & price.y\\\\\n",
       "\\hline\n",
       "\t 50 & 1  & 40 & 40 & A  & 1  & 50\\\\\n",
       "\t 40 & 2  & 40 & 40 & A  & 1  & 40\\\\\n",
       "\t 30 & 3  & 40 & 25 & A  & 2  & 30\\\\\n",
       "\t 30 & 4  & 25 & 40 & B  & 1  & 30\\\\\n",
       "\t 20 & 5  & 25 & 15 & B  & 3  & 20\\\\\n",
       "\t 10 & 6  & 15 & 15 & C  & 3  & 10\\\\\n",
       "\t 20 & 7  & 15 & 25 & C  & 2  & 20\\\\\n",
       "\\end{tabular}\n"
      ],
      "text/markdown": [
       "\n",
       "price.x | id | BldgType.x | Quality.x | BldgType.y | Quality.y | price.y | \n",
       "|---|---|---|---|---|---|---|\n",
       "| 50 | 1  | 40 | 40 | A  | 1  | 50 | \n",
       "| 40 | 2  | 40 | 40 | A  | 1  | 40 | \n",
       "| 30 | 3  | 40 | 25 | A  | 2  | 30 | \n",
       "| 30 | 4  | 25 | 40 | B  | 1  | 30 | \n",
       "| 20 | 5  | 25 | 15 | B  | 3  | 20 | \n",
       "| 10 | 6  | 15 | 15 | C  | 3  | 10 | \n",
       "| 20 | 7  | 15 | 25 | C  | 2  | 20 | \n",
       "\n",
       "\n"
      ],
      "text/plain": [
       "  price.x id BldgType.x Quality.x BldgType.y Quality.y price.y\n",
       "1 50      1  40         40        A          1         50     \n",
       "2 40      2  40         40        A          1         40     \n",
       "3 30      3  40         25        A          2         30     \n",
       "4 30      4  25         40        B          1         30     \n",
       "5 20      5  25         15        B          3         20     \n",
       "6 10      6  15         15        C          3         10     \n",
       "7 20      7  15         25        C          2         20     "
      ]
     },
     "metadata": {},
     "output_type": "display_data"
    },
    {
     "data": {
      "text/html": [
       "<table>\n",
       "<thead><tr><th scope=col>price</th><th scope=col>id</th><th scope=col>BldgType.x</th><th scope=col>Quality.x</th><th scope=col>BldgType.y</th><th scope=col>Quality.y</th></tr></thead>\n",
       "<tbody>\n",
       "\t<tr><td>NA      </td><td>1       </td><td>40.00000</td><td>25.00000</td><td>A       </td><td>2       </td></tr>\n",
       "\t<tr><td>NA      </td><td>2       </td><td>40.00000</td><td>40.00000</td><td>A       </td><td>1       </td></tr>\n",
       "\t<tr><td>NA      </td><td>3       </td><td>25.00000</td><td>25.00000</td><td>B       </td><td>2       </td></tr>\n",
       "\t<tr><td>NA      </td><td>4       </td><td>25.00000</td><td>25.00000</td><td>B       </td><td>2       </td></tr>\n",
       "\t<tr><td>NA      </td><td>5       </td><td>15.00000</td><td>28.57143</td><td>C       </td><td>4       </td></tr>\n",
       "\t<tr><td>NA      </td><td>6       </td><td>28.57143</td><td>15.00000</td><td>D       </td><td>3       </td></tr>\n",
       "</tbody>\n",
       "</table>\n"
      ],
      "text/latex": [
       "\\begin{tabular}{r|llllll}\n",
       " price & id & BldgType.x & Quality.x & BldgType.y & Quality.y\\\\\n",
       "\\hline\n",
       "\t NA       & 1        & 40.00000 & 25.00000 & A        & 2       \\\\\n",
       "\t NA       & 2        & 40.00000 & 40.00000 & A        & 1       \\\\\n",
       "\t NA       & 3        & 25.00000 & 25.00000 & B        & 2       \\\\\n",
       "\t NA       & 4        & 25.00000 & 25.00000 & B        & 2       \\\\\n",
       "\t NA       & 5        & 15.00000 & 28.57143 & C        & 4       \\\\\n",
       "\t NA       & 6        & 28.57143 & 15.00000 & D        & 3       \\\\\n",
       "\\end{tabular}\n"
      ],
      "text/markdown": [
       "\n",
       "price | id | BldgType.x | Quality.x | BldgType.y | Quality.y | \n",
       "|---|---|---|---|---|---|\n",
       "| NA       | 1        | 40.00000 | 25.00000 | A        | 2        | \n",
       "| NA       | 2        | 40.00000 | 40.00000 | A        | 1        | \n",
       "| NA       | 3        | 25.00000 | 25.00000 | B        | 2        | \n",
       "| NA       | 4        | 25.00000 | 25.00000 | B        | 2        | \n",
       "| NA       | 5        | 15.00000 | 28.57143 | C        | 4        | \n",
       "| NA       | 6        | 28.57143 | 15.00000 | D        | 3        | \n",
       "\n",
       "\n"
      ],
      "text/plain": [
       "  price id BldgType.x Quality.x BldgType.y Quality.y\n",
       "1 NA    1  40.00000   25.00000  A          2        \n",
       "2 NA    2  40.00000   40.00000  A          1        \n",
       "3 NA    3  25.00000   25.00000  B          2        \n",
       "4 NA    4  25.00000   25.00000  B          2        \n",
       "5 NA    5  15.00000   28.57143  C          4        \n",
       "6 NA    6  28.57143   15.00000  D          3        "
      ]
     },
     "metadata": {},
     "output_type": "display_data"
    }
   ],
   "source": [
    "source('main.R')\n",
    "\n",
    "x <- kaggle.house$trans$averagingTransform(df.train, df.test, price, id)\n",
    "\n",
    "train.tran <- x %>% filter(src == \"train\") %>% select(-src) %>% arrange(id)\n",
    "test.tran <- x %>% filter(src == \"test\") %>% select(-src) %>% arrange(id)\n",
    "\n",
    "train.tran %>% inner_join(df.train, by='id')\n",
    "test.tran %>% inner_join(df.test, by='id')"
   ]
  },
  {
   "cell_type": "code",
   "execution_count": 25,
   "metadata": {},
   "outputs": [
    {
     "data": {
      "text/html": [
       "<table>\n",
       "<thead><tr><th scope=col>price.x</th><th scope=col>id</th><th scope=col>BldgType.x</th><th scope=col>Quality.x</th><th scope=col>BldgType.y</th><th scope=col>Quality.y</th><th scope=col>price.y</th></tr></thead>\n",
       "<tbody>\n",
       "\t<tr><td>50        </td><td>1         </td><td> 11.428571</td><td> 11.428571</td><td>A         </td><td>1         </td><td>50        </td></tr>\n",
       "\t<tr><td>40        </td><td>2         </td><td> 11.428571</td><td> 11.428571</td><td>A         </td><td>1         </td><td>40        </td></tr>\n",
       "\t<tr><td>30        </td><td>3         </td><td> 11.428571</td><td> -3.571429</td><td>A         </td><td>2         </td><td>30        </td></tr>\n",
       "\t<tr><td>30        </td><td>4         </td><td> -3.571429</td><td> 11.428571</td><td>B         </td><td>1         </td><td>30        </td></tr>\n",
       "\t<tr><td>20        </td><td>5         </td><td> -3.571429</td><td>-13.571429</td><td>B         </td><td>3         </td><td>20        </td></tr>\n",
       "\t<tr><td>10        </td><td>6         </td><td>-13.571429</td><td>-13.571429</td><td>C         </td><td>3         </td><td>10        </td></tr>\n",
       "\t<tr><td>20        </td><td>7         </td><td>-13.571429</td><td> -3.571429</td><td>C         </td><td>2         </td><td>20        </td></tr>\n",
       "</tbody>\n",
       "</table>\n"
      ],
      "text/latex": [
       "\\begin{tabular}{r|lllllll}\n",
       " price.x & id & BldgType.x & Quality.x & BldgType.y & Quality.y & price.y\\\\\n",
       "\\hline\n",
       "\t 50         & 1          &  11.428571 &  11.428571 & A          & 1          & 50        \\\\\n",
       "\t 40         & 2          &  11.428571 &  11.428571 & A          & 1          & 40        \\\\\n",
       "\t 30         & 3          &  11.428571 &  -3.571429 & A          & 2          & 30        \\\\\n",
       "\t 30         & 4          &  -3.571429 &  11.428571 & B          & 1          & 30        \\\\\n",
       "\t 20         & 5          &  -3.571429 & -13.571429 & B          & 3          & 20        \\\\\n",
       "\t 10         & 6          & -13.571429 & -13.571429 & C          & 3          & 10        \\\\\n",
       "\t 20         & 7          & -13.571429 &  -3.571429 & C          & 2          & 20        \\\\\n",
       "\\end{tabular}\n"
      ],
      "text/markdown": [
       "\n",
       "price.x | id | BldgType.x | Quality.x | BldgType.y | Quality.y | price.y | \n",
       "|---|---|---|---|---|---|---|\n",
       "| 50         | 1          |  11.428571 |  11.428571 | A          | 1          | 50         | \n",
       "| 40         | 2          |  11.428571 |  11.428571 | A          | 1          | 40         | \n",
       "| 30         | 3          |  11.428571 |  -3.571429 | A          | 2          | 30         | \n",
       "| 30         | 4          |  -3.571429 |  11.428571 | B          | 1          | 30         | \n",
       "| 20         | 5          |  -3.571429 | -13.571429 | B          | 3          | 20         | \n",
       "| 10         | 6          | -13.571429 | -13.571429 | C          | 3          | 10         | \n",
       "| 20         | 7          | -13.571429 |  -3.571429 | C          | 2          | 20         | \n",
       "\n",
       "\n"
      ],
      "text/plain": [
       "  price.x id BldgType.x Quality.x  BldgType.y Quality.y price.y\n",
       "1 50      1   11.428571  11.428571 A          1         50     \n",
       "2 40      2   11.428571  11.428571 A          1         40     \n",
       "3 30      3   11.428571  -3.571429 A          2         30     \n",
       "4 30      4   -3.571429  11.428571 B          1         30     \n",
       "5 20      5   -3.571429 -13.571429 B          3         20     \n",
       "6 10      6  -13.571429 -13.571429 C          3         10     \n",
       "7 20      7  -13.571429  -3.571429 C          2         20     "
      ]
     },
     "metadata": {},
     "output_type": "display_data"
    },
    {
     "data": {
      "text/html": [
       "<table>\n",
       "<thead><tr><th scope=col>price</th><th scope=col>id</th><th scope=col>BldgType.x</th><th scope=col>Quality.x</th><th scope=col>BldgType.y</th><th scope=col>Quality.y</th></tr></thead>\n",
       "<tbody>\n",
       "\t<tr><td>NA        </td><td>1         </td><td> 11.428571</td><td> -3.571429</td><td>A         </td><td>2         </td></tr>\n",
       "\t<tr><td>NA        </td><td>2         </td><td> 11.428571</td><td> 11.428571</td><td>A         </td><td>1         </td></tr>\n",
       "\t<tr><td>NA        </td><td>3         </td><td> -3.571429</td><td> -3.571429</td><td>B         </td><td>2         </td></tr>\n",
       "\t<tr><td>NA        </td><td>4         </td><td> -3.571429</td><td> -3.571429</td><td>B         </td><td>2         </td></tr>\n",
       "\t<tr><td>NA        </td><td>5         </td><td>-13.571429</td><td>  0.000000</td><td>C         </td><td>4         </td></tr>\n",
       "\t<tr><td>NA        </td><td>6         </td><td>  0.000000</td><td>-13.571429</td><td>D         </td><td>3         </td></tr>\n",
       "</tbody>\n",
       "</table>\n"
      ],
      "text/latex": [
       "\\begin{tabular}{r|llllll}\n",
       " price & id & BldgType.x & Quality.x & BldgType.y & Quality.y\\\\\n",
       "\\hline\n",
       "\t NA         & 1          &  11.428571 &  -3.571429 & A          & 2         \\\\\n",
       "\t NA         & 2          &  11.428571 &  11.428571 & A          & 1         \\\\\n",
       "\t NA         & 3          &  -3.571429 &  -3.571429 & B          & 2         \\\\\n",
       "\t NA         & 4          &  -3.571429 &  -3.571429 & B          & 2         \\\\\n",
       "\t NA         & 5          & -13.571429 &   0.000000 & C          & 4         \\\\\n",
       "\t NA         & 6          &   0.000000 & -13.571429 & D          & 3         \\\\\n",
       "\\end{tabular}\n"
      ],
      "text/markdown": [
       "\n",
       "price | id | BldgType.x | Quality.x | BldgType.y | Quality.y | \n",
       "|---|---|---|---|---|---|\n",
       "| NA         | 1          |  11.428571 |  -3.571429 | A          | 2          | \n",
       "| NA         | 2          |  11.428571 |  11.428571 | A          | 1          | \n",
       "| NA         | 3          |  -3.571429 |  -3.571429 | B          | 2          | \n",
       "| NA         | 4          |  -3.571429 |  -3.571429 | B          | 2          | \n",
       "| NA         | 5          | -13.571429 |   0.000000 | C          | 4          | \n",
       "| NA         | 6          |   0.000000 | -13.571429 | D          | 3          | \n",
       "\n",
       "\n"
      ],
      "text/plain": [
       "  price id BldgType.x Quality.x  BldgType.y Quality.y\n",
       "1 NA    1   11.428571  -3.571429 A          2        \n",
       "2 NA    2   11.428571  11.428571 A          1        \n",
       "3 NA    3   -3.571429  -3.571429 B          2        \n",
       "4 NA    4   -3.571429  -3.571429 B          2        \n",
       "5 NA    5  -13.571429   0.000000 C          4        \n",
       "6 NA    6    0.000000 -13.571429 D          3        "
      ]
     },
     "metadata": {},
     "output_type": "display_data"
    }
   ],
   "source": [
    "source('main.R')\n",
    "\n",
    "x <- kaggle.house$trans$averagingTransform(df.train, df.test, price, id, diff=T)\n",
    "\n",
    "train.tran <- x %>% filter(src == \"train\") %>% select(-src) %>% arrange(id)\n",
    "test.tran <- x %>% filter(src == \"test\") %>% select(-src) %>% arrange(id)\n",
    "\n",
    "train.tran %>% inner_join(df.train, by='id')\n",
    "test.tran %>% inner_join(df.test, by='id')"
   ]
  },
  {
   "cell_type": "code",
   "execution_count": null,
   "metadata": {
    "collapsed": true
   },
   "outputs": [],
   "source": []
  },
  {
   "cell_type": "code",
   "execution_count": null,
   "metadata": {
    "collapsed": true
   },
   "outputs": [],
   "source": []
  },
  {
   "cell_type": "code",
   "execution_count": null,
   "metadata": {
    "collapsed": true
   },
   "outputs": [],
   "source": []
  },
  {
   "cell_type": "code",
   "execution_count": null,
   "metadata": {
    "collapsed": true
   },
   "outputs": [],
   "source": []
  }
 ],
 "metadata": {
  "kernelspec": {
   "display_name": "R",
   "language": "R",
   "name": "ir"
  },
  "language_info": {
   "codemirror_mode": "r",
   "file_extension": ".r",
   "mimetype": "text/x-r-source",
   "name": "R",
   "pygments_lexer": "r",
   "version": "3.4.2"
  }
 },
 "nbformat": 4,
 "nbformat_minor": 2
}
