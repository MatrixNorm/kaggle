{
 "cells": [
  {
   "cell_type": "code",
   "execution_count": 1,
   "metadata": {},
   "outputs": [
    {
     "data": {
      "text/html": [
       "'/mnt/hdd/develop/kaggle/house-prices/R/R'"
      ],
      "text/latex": [
       "'/mnt/hdd/develop/kaggle/house-prices/R/R'"
      ],
      "text/markdown": [
       "'/mnt/hdd/develop/kaggle/house-prices/R/R'"
      ],
      "text/plain": [
       "[1] \"/mnt/hdd/develop/kaggle/house-prices/R/R\""
      ]
     },
     "metadata": {},
     "output_type": "display_data"
    }
   ],
   "source": [
    "setwd(paste0(Sys.getenv('ROOT'), '/R'))\n",
    "getwd()"
   ]
  },
  {
   "cell_type": "code",
   "execution_count": 12,
   "metadata": {},
   "outputs": [
    {
     "data": {
      "text/html": [
       "<table>\n",
       "<thead><tr><th scope=col>BldgType</th><th scope=col>sale_price_log</th><th scope=col>building_type</th></tr></thead>\n",
       "<tbody>\n",
       "\t<tr><td>A  </td><td>1  </td><td>2.0</td></tr>\n",
       "\t<tr><td>A  </td><td>2  </td><td>2.0</td></tr>\n",
       "\t<tr><td>A  </td><td>3  </td><td>2.0</td></tr>\n",
       "\t<tr><td>B  </td><td>4  </td><td>4.5</td></tr>\n",
       "\t<tr><td>B  </td><td>5  </td><td>4.5</td></tr>\n",
       "\t<tr><td>C  </td><td>6  </td><td>6.5</td></tr>\n",
       "\t<tr><td>C  </td><td>7  </td><td>6.5</td></tr>\n",
       "</tbody>\n",
       "</table>\n"
      ],
      "text/latex": [
       "\\begin{tabular}{r|lll}\n",
       " BldgType & sale\\_price\\_log & building\\_type\\\\\n",
       "\\hline\n",
       "\t A   & 1   & 2.0\\\\\n",
       "\t A   & 2   & 2.0\\\\\n",
       "\t A   & 3   & 2.0\\\\\n",
       "\t B   & 4   & 4.5\\\\\n",
       "\t B   & 5   & 4.5\\\\\n",
       "\t C   & 6   & 6.5\\\\\n",
       "\t C   & 7   & 6.5\\\\\n",
       "\\end{tabular}\n"
      ],
      "text/markdown": [
       "\n",
       "BldgType | sale_price_log | building_type | \n",
       "|---|---|---|---|---|---|---|\n",
       "| A   | 1   | 2.0 | \n",
       "| A   | 2   | 2.0 | \n",
       "| A   | 3   | 2.0 | \n",
       "| B   | 4   | 4.5 | \n",
       "| B   | 5   | 4.5 | \n",
       "| C   | 6   | 6.5 | \n",
       "| C   | 7   | 6.5 | \n",
       "\n",
       "\n"
      ],
      "text/plain": [
       "  BldgType sale_price_log building_type\n",
       "1 A        1              2.0          \n",
       "2 A        2              2.0          \n",
       "3 A        3              2.0          \n",
       "4 B        4              4.5          \n",
       "5 B        5              4.5          \n",
       "6 C        6              6.5          \n",
       "7 C        7              6.5          "
      ]
     },
     "metadata": {},
     "output_type": "display_data"
    },
    {
     "data": {
      "text/html": [
       "<table>\n",
       "<thead><tr><th scope=col>BldgType</th><th scope=col>building_type</th></tr></thead>\n",
       "<tbody>\n",
       "\t<tr><td>A</td><td>1</td></tr>\n",
       "\t<tr><td>A</td><td>1</td></tr>\n",
       "\t<tr><td>B</td><td>4</td></tr>\n",
       "\t<tr><td>B</td><td>4</td></tr>\n",
       "\t<tr><td>C</td><td>6</td></tr>\n",
       "</tbody>\n",
       "</table>\n"
      ],
      "text/latex": [
       "\\begin{tabular}{r|ll}\n",
       " BldgType & building\\_type\\\\\n",
       "\\hline\n",
       "\t A & 1\\\\\n",
       "\t A & 1\\\\\n",
       "\t B & 4\\\\\n",
       "\t B & 4\\\\\n",
       "\t C & 6\\\\\n",
       "\\end{tabular}\n"
      ],
      "text/markdown": [
       "\n",
       "BldgType | building_type | \n",
       "|---|---|---|---|---|\n",
       "| A | 1 | \n",
       "| A | 1 | \n",
       "| B | 4 | \n",
       "| B | 4 | \n",
       "| C | 6 | \n",
       "\n",
       "\n"
      ],
      "text/plain": [
       "  BldgType building_type\n",
       "1 A        1            \n",
       "2 A        1            \n",
       "3 B        4            \n",
       "4 B        4            \n",
       "5 C        6            "
      ]
     },
     "metadata": {},
     "output_type": "display_data"
    }
   ],
   "source": [
    "source('main.R')\n",
    "\n",
    "df.train <- data_frame(\n",
    "    BldgType       = c('A', 'A', 'A', 'B', 'B', 'C', 'C'),\n",
    "    sale_price_log = c(1,   2,   3,   4,   5,   6,   7)\n",
    ")\n",
    "\n",
    "df.test <- data_frame(\n",
    "    BldgType       = c('A', 'A', 'B', 'B', 'C')\n",
    ")\n",
    "\n",
    "res <- kaggle.house$trans$type2TransContainer$BldgType(df.train)\n",
    "\n",
    "res$df.new\n",
    "res$testsetTransformator(df.test)"
   ]
  },
  {
   "cell_type": "code",
   "execution_count": null,
   "metadata": {},
   "outputs": [],
   "source": []
  },
  {
   "cell_type": "code",
   "execution_count": null,
   "metadata": {
    "collapsed": true
   },
   "outputs": [],
   "source": []
  },
  {
   "cell_type": "code",
   "execution_count": null,
   "metadata": {
    "collapsed": true
   },
   "outputs": [],
   "source": []
  },
  {
   "cell_type": "code",
   "execution_count": null,
   "metadata": {
    "collapsed": true
   },
   "outputs": [],
   "source": []
  },
  {
   "cell_type": "code",
   "execution_count": null,
   "metadata": {
    "collapsed": true
   },
   "outputs": [],
   "source": []
  },
  {
   "cell_type": "code",
   "execution_count": null,
   "metadata": {
    "collapsed": true
   },
   "outputs": [],
   "source": []
  },
  {
   "cell_type": "code",
   "execution_count": null,
   "metadata": {
    "collapsed": true
   },
   "outputs": [],
   "source": []
  },
  {
   "cell_type": "code",
   "execution_count": null,
   "metadata": {
    "collapsed": true
   },
   "outputs": [],
   "source": []
  }
 ],
 "metadata": {
  "kernelspec": {
   "display_name": "R",
   "language": "R",
   "name": "ir"
  },
  "language_info": {
   "codemirror_mode": "r",
   "file_extension": ".r",
   "mimetype": "text/x-r-source",
   "name": "R",
   "pygments_lexer": "r",
   "version": "3.4.2"
  }
 },
 "nbformat": 4,
 "nbformat_minor": 2
}
