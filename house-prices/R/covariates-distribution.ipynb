{
 "cells": [
  {
   "cell_type": "code",
   "execution_count": 2,
   "metadata": {
    "collapsed": false
   },
   "outputs": [],
   "source": [
    "library(dplyr)\n",
    "library(ggplot2)\n",
    "library(grid)\n",
    "library(gridExtra)"
   ]
  },
  {
   "cell_type": "code",
   "execution_count": 3,
   "metadata": {
    "collapsed": true
   },
   "outputs": [],
   "source": [
    "houses = tbl_df(read.csv(\"../kagel-house-prices-data/train.csv\", stringsAsFactors = FALSE))"
   ]
  },
  {
   "cell_type": "code",
   "execution_count": 31,
   "metadata": {
    "collapsed": false
   },
   "outputs": [
    {
     "data": {
      "text/html": [
       "<table>\n",
       "<thead><tr><th></th><th scope=col>x</th><th scope=col>x_log</th></tr></thead>\n",
       "<tbody>\n",
       "\t<tr><th scope=row>1</th><td>65</td><td>4.174387</td></tr>\n",
       "\t<tr><th scope=row>2</th><td>80</td><td>4.382027</td></tr>\n",
       "\t<tr><th scope=row>3</th><td>68</td><td>4.219508</td></tr>\n",
       "\t<tr><th scope=row>4</th><td>60</td><td>4.094345</td></tr>\n",
       "\t<tr><th scope=row>5</th><td>84</td><td>4.430817</td></tr>\n",
       "\t<tr><th scope=row>6</th><td>85</td><td>4.442651</td></tr>\n",
       "</tbody>\n",
       "</table>\n"
      ],
      "text/latex": [
       "\\begin{tabular}{r|ll}\n",
       "  & x & x_log\\\\\n",
       "\\hline\n",
       "\t1 & 65 & 4.174387\\\\\n",
       "\t2 & 80 & 4.382027\\\\\n",
       "\t3 & 68 & 4.219508\\\\\n",
       "\t4 & 60 & 4.094345\\\\\n",
       "\t5 & 84 & 4.430817\\\\\n",
       "\t6 & 85 & 4.442651\\\\\n",
       "\\end{tabular}\n"
      ],
      "text/plain": [
       "# A tibble: 6 × 2\n",
       "      x    x_log\n",
       "  <int>    <dbl>\n",
       "1    65 4.174387\n",
       "2    80 4.382027\n",
       "3    68 4.219508\n",
       "4    60 4.094345\n",
       "5    84 4.430817\n",
       "6    85 4.442651"
      ]
     },
     "execution_count": 31,
     "metadata": {},
     "output_type": "execute_result"
    }
   ],
   "source": [
    "LotFrontage = houses %>% select(LotFrontage) %>% na.omit() %>% rename(x=LotFrontage)\n",
    "LotFrontage = LotFrontage %>% mutate(x_log=log(x))\n",
    "head(LotFrontage)"
   ]
  },
  {
   "cell_type": "code",
   "execution_count": 47,
   "metadata": {
    "collapsed": false
   },
   "outputs": [],
   "source": [
    "get_hist_binwidth <- function(df, col_name){\n",
    "    x = df %>% .[[col_name]]\n",
    "    q25 = quantile(x, 0.25)[[1]]\n",
    "    q75 = quantile(x, 0.75)[[1]]\n",
    "    n = length(x)\n",
    "    return(2 * (q75 - q25) * (n ** (- 1/3)))\n",
    "}\n"
   ]
  },
  {
   "cell_type": "code",
   "execution_count": 50,
   "metadata": {
    "collapsed": false
   },
   "outputs": [
    {
     "data": {
      "image/png": "[encoded data removed]",
      "image/svg+xml": [
       "<?xml version=\"1.0\" encoding=\"UTF-8\"?>\n",
       "<svg xmlns=\"http://www.w3.org/2000/svg\" xmlns:xlink=\"http://www.w3.org/1999/xlink\" width=\"720pt\" height=\"288pt\" viewBox=\"0 0 720 288\" version=\"1.1\">\n",
       "<defs>\n",
       "<g>\n",
       "<symbol overflow=\"visible\" id=\"glyph0-0\">\n",
       "<path style=\"stroke:none;\" d=\"\"/>\n",
       "</symbol>\n",
       "<symbol overflow=\"visible\" id=\"glyph0-1\">\n",
       "<path style=\"stroke:none;\" d=\"M 4.609375 -3.125 C 4.609375 -5.296875 3.78125 -6.5 2.421875 -6.5 C 1.078125 -6.5 0.21875 -5.28125 0.21875 -3.1875 C 0.21875 -1.078125 1.078125 0.125 2.421875 0.125 C 3.734375 0.125 4.609375 -1.078125 4.609375 -3.125 Z M 3.515625 -3.203125 C 3.515625 -1.4375 3.265625 -0.78125 2.40625 -0.78125 C 1.578125 -0.78125 1.3125 -1.46875 1.3125 -3.171875 C 1.3125 -4.875 1.578125 -5.546875 2.421875 -5.546875 C 3.25 -5.546875 3.515625 -4.875 3.515625 -3.203125 Z M 3.515625 -3.203125 \"/>\n",
       "</symbol>\n",
       "<symbol overflow=\"visible\" id=\"glyph0-2\">\n",
       "<path style=\"stroke:none;\" d=\"M 4.65625 -2.203125 C 4.65625 -3.4375 3.6875 -4.375 2.5 -4.375 C 2.0625 -4.375 1.59375 -4.21875 1.546875 -4.1875 L 1.71875 -5.34375 L 4.34375 -5.34375 L 4.34375 -6.375 L 0.828125 -6.375 L 0.3125 -2.84375 L 1.28125 -2.84375 C 1.6875 -3.3125 1.875 -3.421875 2.359375 -3.421875 C 3.1875 -3.421875 3.5625 -3.015625 3.5625 -2.09375 C 3.5625 -1.203125 3.203125 -0.8125 2.359375 -0.8125 C 1.6875 -0.8125 1.421875 -1.03125 1.203125 -1.859375 L 0.125 -1.859375 C 0.40625 -0.5 1.265625 0.125 2.375 0.125 C 3.640625 0.125 4.65625 -0.875 4.65625 -2.203125 Z M 4.65625 -2.203125 \"/>\n",
       "</symbol>\n",
       "<symbol overflow=\"visible\" id=\"glyph0-3\">\n",
       "<path style=\"stroke:none;\" d=\"M 3.203125 -0.125 L 3.203125 -6.5 L 2.421875 -6.5 C 2.109375 -5.421875 2.09375 -5.40625 0.734375 -5.25 L 0.734375 -4.4375 L 2.125 -4.4375 L 2.125 0 L 3.203125 0 Z M 3.203125 -0.125 \"/>\n",
       "</symbol>\n",
       "<symbol overflow=\"visible\" id=\"glyph0-4\">\n",
       "<path style=\"stroke:none;\" d=\"M 4.640625 -4.546875 C 4.640625 -5.59375 3.671875 -6.5 2.5 -6.5 C 1.21875 -6.5 0.328125 -5.734375 0.265625 -4.078125 L 1.359375 -4.078125 C 1.421875 -5.25 1.703125 -5.5625 2.46875 -5.5625 C 3.171875 -5.5625 3.546875 -5.1875 3.546875 -4.515625 C 3.546875 -4.03125 3.296875 -3.703125 2.75 -3.390625 L 1.9375 -2.921875 C 0.640625 -2.1875 0.21875 -1.515625 0.125 0 L 4.59375 0 L 4.59375 -1.03125 L 1.34375 -1.03125 C 1.40625 -1.40625 1.640625 -1.640625 2.40625 -2.078125 L 3.28125 -2.5625 C 4.15625 -3.03125 4.640625 -3.78125 4.640625 -4.546875 Z M 4.640625 -4.546875 \"/>\n",
       "</symbol>\n",
       "<symbol overflow=\"visible\" id=\"glyph0-5\">\n",
       "<path style=\"stroke:none;\" d=\"M 4.59375 -1.9375 C 4.59375 -2.703125 4.140625 -3.265625 3.390625 -3.53125 L 3.390625 -3.265625 C 3.96875 -3.5 4.421875 -4.03125 4.421875 -4.65625 C 4.421875 -5.734375 3.546875 -6.5 2.359375 -6.5 C 1.109375 -6.5 0.28125 -5.703125 0.25 -4.21875 L 1.34375 -4.21875 C 1.359375 -5.28125 1.578125 -5.5625 2.375 -5.5625 C 3.0625 -5.5625 3.3125 -5.28125 3.3125 -4.625 C 3.3125 -3.953125 3.1875 -3.8125 1.78125 -3.8125 L 1.78125 -2.90625 L 2.359375 -2.90625 C 3.21875 -2.90625 3.5 -2.625 3.5 -1.9375 C 3.5 -1.15625 3.171875 -0.8125 2.359375 -0.8125 C 1.515625 -0.8125 1.265625 -1.109375 1.203125 -2.140625 L 0.109375 -2.140625 C 0.21875 -0.625 1.0625 0.125 2.34375 0.125 C 3.625 0.125 4.59375 -0.765625 4.59375 -1.9375 Z M 4.59375 -1.9375 \"/>\n",
       "</symbol>\n",
       "<symbol overflow=\"visible\" id=\"glyph0-6\">\n",
       "<path style=\"stroke:none;\" d=\"M 4.71875 -1.625 L 4.71875 -2.453125 L 3.796875 -2.453125 L 3.796875 -6.5 L 3 -6.5 L 0.09375 -2.46875 L 0.09375 -1.5 L 2.71875 -1.5 L 2.71875 0 L 3.796875 0 L 3.796875 -1.5 L 4.71875 -1.5 Z M 2.875 -2.453125 L 1.203125 -2.453125 L 2.984375 -4.953125 L 2.71875 -5.046875 L 2.71875 -2.453125 Z M 2.875 -2.453125 \"/>\n",
       "</symbol>\n",
       "<symbol overflow=\"visible\" id=\"glyph0-7\">\n",
       "<path style=\"stroke:none;\" d=\"M 4.65625 -2.0625 C 4.65625 -3.234375 3.71875 -4.140625 2.609375 -4.140625 C 1.984375 -4.140625 1.390625 -3.875 1.0625 -3.40625 L 1.3125 -3.3125 C 1.328125 -4.84375 1.671875 -5.546875 2.5625 -5.546875 C 3.109375 -5.546875 3.328125 -5.34375 3.46875 -4.609375 L 4.546875 -4.609375 C 4.375 -5.765625 3.5625 -6.5 2.609375 -6.5 C 1.15625 -6.5 0.21875 -5.140625 0.21875 -2.96875 C 0.21875 -1.03125 1.046875 0.125 2.46875 0.125 C 3.65625 0.125 4.65625 -0.84375 4.65625 -2.0625 Z M 3.5625 -2 C 3.5625 -1.21875 3.1875 -0.8125 2.484375 -0.8125 C 1.765625 -0.8125 1.359375 -1.25 1.359375 -2.046875 C 1.359375 -2.828125 1.734375 -3.1875 2.5 -3.1875 C 3.25 -3.1875 3.5625 -2.84375 3.5625 -2 Z M 3.5625 -2 \"/>\n",
       "</symbol>\n",
       "<symbol overflow=\"visible\" id=\"glyph1-0\">\n",
       "<path style=\"stroke:none;\" d=\"\"/>\n",
       "</symbol>\n",
       "<symbol overflow=\"visible\" id=\"glyph1-1\">\n",
       "<path style=\"stroke:none;\" d=\"M 5.296875 -0.234375 L 3.359375 -3.109375 L 5.40625 -6.03125 L 4.03125 -6.03125 L 2.734375 -4.046875 L 1.40625 -6.03125 L 0.03125 -6.03125 L 2.0625 -3.0625 L -0.078125 0 L 1.296875 0 L 2.6875 -2.09375 L 4.0625 0 L 5.4375 0 Z M 5.296875 -0.234375 \"/>\n",
       "</symbol>\n",
       "<symbol overflow=\"visible\" id=\"glyph1-2\">\n",
       "<path style=\"stroke:none;\" d=\"M 6.484375 1.8125 L 6.484375 1.125 L -0.390625 1.125 L -0.390625 1.953125 L 6.484375 1.953125 Z M 6.484375 1.8125 \"/>\n",
       "</symbol>\n",
       "<symbol overflow=\"visible\" id=\"glyph1-3\">\n",
       "<path style=\"stroke:none;\" d=\"M 1.796875 -0.125 L 1.796875 -8.296875 L 0.609375 -8.296875 L 0.609375 0 L 1.796875 0 Z M 1.796875 -0.125 \"/>\n",
       "</symbol>\n",
       "<symbol overflow=\"visible\" id=\"glyph1-4\">\n",
       "<path style=\"stroke:none;\" d=\"M 5.734375 -2.96875 C 5.734375 -4.96875 4.65625 -6.203125 2.984375 -6.203125 C 1.375 -6.203125 0.25 -4.953125 0.25 -3.015625 C 0.25 -1.078125 1.359375 0.171875 3 0.171875 C 4.625 0.171875 5.734375 -1.078125 5.734375 -2.96875 Z M 4.515625 -2.984375 C 4.515625 -1.625 4.015625 -0.953125 3 -0.953125 C 1.984375 -0.953125 1.484375 -1.609375 1.484375 -3.015625 C 1.484375 -4.40625 1.984375 -5.078125 3 -5.078125 C 4.03125 -5.078125 4.515625 -4.40625 4.515625 -2.984375 Z M 4.515625 -2.984375 \"/>\n",
       "</symbol>\n",
       "<symbol overflow=\"visible\" id=\"glyph1-5\">\n",
       "<path style=\"stroke:none;\" d=\"M 5.515625 -1.078125 L 5.515625 -6.03125 L 4.390625 -6.03125 L 4.390625 -5.0625 L 4.625 -5.15625 C 4.15625 -5.84375 3.515625 -6.203125 2.765625 -6.203125 C 1.3125 -6.203125 0.171875 -4.828125 0.171875 -2.953125 C 0.171875 -1.140625 1.34375 0.171875 2.6875 0.171875 C 3.421875 0.171875 4.015625 -0.171875 4.625 -0.90625 L 4.390625 -1 L 4.390625 -0.609375 C 4.390625 0.90625 3.90625 1.359375 2.84375 1.359375 C 2.109375 1.359375 1.6875 1.234375 1.546875 0.390625 L 0.359375 0.390625 C 0.46875 1.609375 1.453125 2.390625 2.8125 2.390625 C 4.609375 2.390625 5.515625 1.46875 5.515625 -1.078125 Z M 4.296875 -2.984375 C 4.296875 -1.609375 3.84375 -0.953125 2.875 -0.953125 C 1.875 -0.953125 1.40625 -1.609375 1.40625 -3.015625 C 1.40625 -4.40625 1.890625 -5.078125 2.875 -5.078125 C 3.859375 -5.078125 4.296875 -4.375 4.296875 -2.984375 Z M 4.296875 -2.984375 \"/>\n",
       "</symbol>\n",
       "<symbol overflow=\"visible\" id=\"glyph2-0\">\n",
       "<path style=\"stroke:none;\" d=\"\"/>\n",
       "</symbol>\n",
       "<symbol overflow=\"visible\" id=\"glyph2-1\">\n",
       "<path style=\"stroke:none;\" d=\"M -2.25 -5.25 L -2.25 -4.203125 C -1.1875 -4.03125 -0.953125 -3.703125 -0.953125 -2.921875 C -0.953125 -1.90625 -1.59375 -1.4375 -2.953125 -1.4375 C -4.40625 -1.4375 -5.078125 -1.890625 -5.078125 -2.890625 C -5.078125 -3.65625 -4.765625 -4 -3.828125 -4.140625 L -3.828125 -5.328125 C -5.375 -5.203125 -6.203125 -4.1875 -6.203125 -2.90625 C -6.203125 -1.359375 -4.875 -0.203125 -2.953125 -0.203125 C -1.09375 -0.203125 0.171875 -1.328125 0.171875 -2.890625 C 0.171875 -4.265625 -0.796875 -5.265625 -2.25 -5.390625 Z M -2.25 -5.25 \"/>\n",
       "</symbol>\n",
       "<symbol overflow=\"visible\" id=\"glyph2-2\">\n",
       "<path style=\"stroke:none;\" d=\"M -2.96875 -5.734375 C -4.96875 -5.734375 -6.203125 -4.65625 -6.203125 -2.984375 C -6.203125 -1.375 -4.953125 -0.25 -3.015625 -0.25 C -1.078125 -0.25 0.171875 -1.359375 0.171875 -3 C 0.171875 -4.625 -1.078125 -5.734375 -2.96875 -5.734375 Z M -2.984375 -4.515625 C -1.625 -4.515625 -0.953125 -4.015625 -0.953125 -3 C -0.953125 -1.984375 -1.609375 -1.484375 -3.015625 -1.484375 C -4.40625 -1.484375 -5.078125 -1.984375 -5.078125 -3 C -5.078125 -4.03125 -4.40625 -4.515625 -2.984375 -4.515625 Z M -2.984375 -4.515625 \"/>\n",
       "</symbol>\n",
       "<symbol overflow=\"visible\" id=\"glyph2-3\">\n",
       "<path style=\"stroke:none;\" d=\"M -0.125 -5.4375 L -6.03125 -5.4375 L -6.03125 -4.25 L -2.71875 -4.25 C -1.546875 -4.25 -0.90625 -3.765625 -0.90625 -2.8125 C -0.90625 -2.09375 -1.203125 -1.765625 -1.90625 -1.765625 L -6.03125 -1.765625 L -6.03125 -0.578125 L -1.546875 -0.578125 C -0.578125 -0.578125 0.171875 -1.4375 0.171875 -2.546875 C 0.171875 -3.40625 -0.171875 -4.03125 -0.921875 -4.5625 L -1.015625 -4.328125 L 0 -4.328125 L 0 -5.4375 Z M -0.125 -5.4375 \"/>\n",
       "</symbol>\n",
       "<symbol overflow=\"visible\" id=\"glyph2-4\">\n",
       "<path style=\"stroke:none;\" d=\"M -0.125 -5.484375 L -4.484375 -5.484375 C -5.4375 -5.484375 -6.203125 -4.640625 -6.203125 -3.53125 C -6.203125 -2.671875 -5.828125 -2.03125 -5.03125 -1.515625 L -4.921875 -1.75 L -6.03125 -1.75 L -6.03125 -0.625 L 0 -0.625 L 0 -1.8125 L -3.3125 -1.8125 C -4.484375 -1.8125 -5.125 -2.328125 -5.125 -3.25 C -5.125 -3.984375 -4.8125 -4.296875 -4.125 -4.296875 L 0 -4.296875 L 0 -5.484375 Z M -0.125 -5.484375 \"/>\n",
       "</symbol>\n",
       "<symbol overflow=\"visible\" id=\"glyph2-5\">\n",
       "<path style=\"stroke:none;\" d=\"M -0.125 -2.921875 L -1.078125 -2.921875 C -1.015625 -2.671875 -1 -2.53125 -1 -2.359375 C -1 -1.953125 -0.96875 -1.984375 -1.375 -1.984375 L -5.015625 -1.984375 L -5.015625 -2.921875 L -6.03125 -2.921875 L -6.03125 -1.984375 L -7.625 -1.984375 L -7.625 -0.796875 L -6.03125 -0.796875 L -6.03125 -0.015625 L -5.015625 -0.015625 L -5.015625 -0.796875 L -0.96875 -0.796875 C -0.390625 -0.796875 0.078125 -1.328125 0.078125 -2.046875 C 0.078125 -2.265625 0.0625 -2.484375 -0.015625 -2.921875 Z M -0.125 -2.921875 \"/>\n",
       "</symbol>\n",
       "</g>\n",
       "<clipPath id=\"clip1\">\n",
       "  <path d=\"M 40.984375 5.480469 L 355 5.480469 L 355 256 L 40.984375 256 Z M 40.984375 5.480469 \"/>\n",
       "</clipPath>\n",
       "<clipPath id=\"clip2\">\n",
       "  <path d=\"M 40.984375 216 L 355 216 L 355 218 L 40.984375 218 Z M 40.984375 216 \"/>\n",
       "</clipPath>\n",
       "<clipPath id=\"clip3\">\n",
       "  <path d=\"M 40.984375 163 L 355 163 L 355 165 L 40.984375 165 Z M 40.984375 163 \"/>\n",
       "</clipPath>\n",
       "<clipPath id=\"clip4\">\n",
       "  <path d=\"M 40.984375 110 L 355 110 L 355 112 L 40.984375 112 Z M 40.984375 110 \"/>\n",
       "</clipPath>\n",
       "<clipPath id=\"clip5\">\n",
       "  <path d=\"M 40.984375 57 L 355 57 L 355 59 L 40.984375 59 Z M 40.984375 57 \"/>\n",
       "</clipPath>\n",
       "<clipPath id=\"clip6\">\n",
       "  <path d=\"M 92 5.480469 L 94 5.480469 L 94 256 L 92 256 Z M 92 5.480469 \"/>\n",
       "</clipPath>\n",
       "<clipPath id=\"clip7\">\n",
       "  <path d=\"M 183 5.480469 L 184 5.480469 L 184 256 L 183 256 Z M 183 5.480469 \"/>\n",
       "</clipPath>\n",
       "<clipPath id=\"clip8\">\n",
       "  <path d=\"M 273 5.480469 L 274 5.480469 L 274 256 L 273 256 Z M 273 5.480469 \"/>\n",
       "</clipPath>\n",
       "<clipPath id=\"clip9\">\n",
       "  <path d=\"M 40.984375 243 L 355.519531 243 L 355.519531 245 L 40.984375 245 Z M 40.984375 243 \"/>\n",
       "</clipPath>\n",
       "<clipPath id=\"clip10\">\n",
       "  <path d=\"M 40.984375 190 L 355.519531 190 L 355.519531 192 L 40.984375 192 Z M 40.984375 190 \"/>\n",
       "</clipPath>\n",
       "<clipPath id=\"clip11\">\n",
       "  <path d=\"M 40.984375 137 L 355.519531 137 L 355.519531 139 L 40.984375 139 Z M 40.984375 137 \"/>\n",
       "</clipPath>\n",
       "<clipPath id=\"clip12\">\n",
       "  <path d=\"M 40.984375 84 L 355.519531 84 L 355.519531 86 L 40.984375 86 Z M 40.984375 84 \"/>\n",
       "</clipPath>\n",
       "<clipPath id=\"clip13\">\n",
       "  <path d=\"M 40.984375 31 L 355.519531 31 L 355.519531 33 L 40.984375 33 Z M 40.984375 31 \"/>\n",
       "</clipPath>\n",
       "<clipPath id=\"clip14\">\n",
       "  <path d=\"M 47 5.480469 L 49 5.480469 L 49 256 L 47 256 Z M 47 5.480469 \"/>\n",
       "</clipPath>\n",
       "<clipPath id=\"clip15\">\n",
       "  <path d=\"M 137 5.480469 L 139 5.480469 L 139 256 L 137 256 Z M 137 5.480469 \"/>\n",
       "</clipPath>\n",
       "<clipPath id=\"clip16\">\n",
       "  <path d=\"M 227 5.480469 L 229 5.480469 L 229 256 L 227 256 Z M 227 5.480469 \"/>\n",
       "</clipPath>\n",
       "<clipPath id=\"clip17\">\n",
       "  <path d=\"M 318 5.480469 L 320 5.480469 L 320 256 L 318 256 Z M 318 5.480469 \"/>\n",
       "</clipPath>\n",
       "<clipPath id=\"clip18\">\n",
       "  <path d=\"M 360 0 L 720 0 L 720 288 L 360 288 Z M 360 0 \"/>\n",
       "</clipPath>\n",
       "<clipPath id=\"clip19\">\n",
       "  <path d=\"M 400.984375 5.480469 L 715 5.480469 L 715 256 L 400.984375 256 Z M 400.984375 5.480469 \"/>\n",
       "</clipPath>\n",
       "<clipPath id=\"clip20\">\n",
       "  <path d=\"M 400.984375 215 L 715 215 L 715 217 L 400.984375 217 Z M 400.984375 215 \"/>\n",
       "</clipPath>\n",
       "<clipPath id=\"clip21\">\n",
       "  <path d=\"M 400.984375 160 L 715 160 L 715 161 L 400.984375 161 Z M 400.984375 160 \"/>\n",
       "</clipPath>\n",
       "<clipPath id=\"clip22\">\n",
       "  <path d=\"M 400.984375 105 L 715 105 L 715 106 L 400.984375 106 Z M 400.984375 105 \"/>\n",
       "</clipPath>\n",
       "<clipPath id=\"clip23\">\n",
       "  <path d=\"M 400.984375 49 L 715 49 L 715 51 L 400.984375 51 Z M 400.984375 49 \"/>\n",
       "</clipPath>\n",
       "<clipPath id=\"clip24\">\n",
       "  <path d=\"M 473 5.480469 L 475 5.480469 L 475 256 L 473 256 Z M 473 5.480469 \"/>\n",
       "</clipPath>\n",
       "<clipPath id=\"clip25\">\n",
       "  <path d=\"M 565 5.480469 L 567 5.480469 L 567 256 L 565 256 Z M 565 5.480469 \"/>\n",
       "</clipPath>\n",
       "<clipPath id=\"clip26\">\n",
       "  <path d=\"M 657 5.480469 L 659 5.480469 L 659 256 L 657 256 Z M 657 5.480469 \"/>\n",
       "</clipPath>\n",
       "<clipPath id=\"clip27\">\n",
       "  <path d=\"M 400.984375 243 L 715.519531 243 L 715.519531 245 L 400.984375 245 Z M 400.984375 243 \"/>\n",
       "</clipPath>\n",
       "<clipPath id=\"clip28\">\n",
       "  <path d=\"M 400.984375 187 L 715.519531 187 L 715.519531 189 L 400.984375 189 Z M 400.984375 187 \"/>\n",
       "</clipPath>\n",
       "<clipPath id=\"clip29\">\n",
       "  <path d=\"M 400.984375 132 L 715.519531 132 L 715.519531 134 L 400.984375 134 Z M 400.984375 132 \"/>\n",
       "</clipPath>\n",
       "<clipPath id=\"clip30\">\n",
       "  <path d=\"M 400.984375 77 L 715.519531 77 L 715.519531 79 L 400.984375 79 Z M 400.984375 77 \"/>\n",
       "</clipPath>\n",
       "<clipPath id=\"clip31\">\n",
       "  <path d=\"M 400.984375 21 L 715.519531 21 L 715.519531 23 L 400.984375 23 Z M 400.984375 21 \"/>\n",
       "</clipPath>\n",
       "<clipPath id=\"clip32\">\n",
       "  <path d=\"M 427 5.480469 L 429 5.480469 L 429 256 L 427 256 Z M 427 5.480469 \"/>\n",
       "</clipPath>\n",
       "<clipPath id=\"clip33\">\n",
       "  <path d=\"M 519 5.480469 L 521 5.480469 L 521 256 L 519 256 Z M 519 5.480469 \"/>\n",
       "</clipPath>\n",
       "<clipPath id=\"clip34\">\n",
       "  <path d=\"M 611 5.480469 L 613 5.480469 L 613 256 L 611 256 Z M 611 5.480469 \"/>\n",
       "</clipPath>\n",
       "<clipPath id=\"clip35\">\n",
       "  <path d=\"M 703 5.480469 L 705 5.480469 L 705 256 L 703 256 Z M 703 5.480469 \"/>\n",
       "</clipPath>\n",
       "</defs>\n",
       "<g id=\"surface661\">\n",
       "<rect x=\"0\" y=\"0\" width=\"720\" height=\"288\" style=\"fill:rgb(100%,100%,100%);fill-opacity:1;stroke:none;\"/>\n",
       "<path style=\"fill-rule:nonzero;fill:rgb(100%,100%,100%);fill-opacity:1;stroke-width:1.066978;stroke-linecap:round;stroke-linejoin:round;stroke:rgb(100%,100%,100%);stroke-opacity:1;stroke-miterlimit:10;\" d=\"M 0 288 L 360 288 L 360 0 L 0 0 Z M 0 288 \"/>\n",
       "<g clip-path=\"url(#clip1)\" clip-rule=\"nonzero\">\n",
       "<path style=\" stroke:none;fill-rule:nonzero;fill:rgb(92.156863%,92.156863%,92.156863%);fill-opacity:1;\" d=\"M 40.984375 255.015625 L 354.519531 255.015625 L 354.519531 5.480469 L 40.984375 5.480469 Z M 40.984375 255.015625 \"/>\n",
       "</g>\n",
       "<g clip-path=\"url(#clip2)\" clip-rule=\"nonzero\">\n",
       "<path style=\"fill:none;stroke-width:0.533489;stroke-linecap:butt;stroke-linejoin:round;stroke:rgb(100%,100%,100%);stroke-opacity:1;stroke-miterlimit:10;\" d=\"M 40.984375 217.171875 L 354.519531 217.171875 \"/>\n",
       "</g>\n",
       "<g clip-path=\"url(#clip3)\" clip-rule=\"nonzero\">\n",
       "<path style=\"fill:none;stroke-width:0.533489;stroke-linecap:butt;stroke-linejoin:round;stroke:rgb(100%,100%,100%);stroke-opacity:1;stroke-miterlimit:10;\" d=\"M 40.984375 164.167969 L 354.519531 164.167969 \"/>\n",
       "</g>\n",
       "<g clip-path=\"url(#clip4)\" clip-rule=\"nonzero\">\n",
       "<path style=\"fill:none;stroke-width:0.533489;stroke-linecap:butt;stroke-linejoin:round;stroke:rgb(100%,100%,100%);stroke-opacity:1;stroke-miterlimit:10;\" d=\"M 40.984375 111.164062 L 354.519531 111.164062 \"/>\n",
       "</g>\n",
       "<g clip-path=\"url(#clip5)\" clip-rule=\"nonzero\">\n",
       "<path style=\"fill:none;stroke-width:0.533489;stroke-linecap:butt;stroke-linejoin:round;stroke:rgb(100%,100%,100%);stroke-opacity:1;stroke-miterlimit:10;\" d=\"M 40.984375 58.164062 L 354.519531 58.164062 \"/>\n",
       "</g>\n",
       "<g clip-path=\"url(#clip6)\" clip-rule=\"nonzero\">\n",
       "<path style=\"fill:none;stroke-width:0.533489;stroke-linecap:butt;stroke-linejoin:round;stroke:rgb(100%,100%,100%);stroke-opacity:1;stroke-miterlimit:10;\" d=\"M 93.199219 255.015625 L 93.199219 5.480469 \"/>\n",
       "</g>\n",
       "<g clip-path=\"url(#clip7)\" clip-rule=\"nonzero\">\n",
       "<path style=\"fill:none;stroke-width:0.533489;stroke-linecap:butt;stroke-linejoin:round;stroke:rgb(100%,100%,100%);stroke-opacity:1;stroke-miterlimit:10;\" d=\"M 183.367188 255.015625 L 183.367188 5.480469 \"/>\n",
       "</g>\n",
       "<g clip-path=\"url(#clip8)\" clip-rule=\"nonzero\">\n",
       "<path style=\"fill:none;stroke-width:0.533489;stroke-linecap:butt;stroke-linejoin:round;stroke:rgb(100%,100%,100%);stroke-opacity:1;stroke-miterlimit:10;\" d=\"M 273.539062 255.015625 L 273.539062 5.480469 \"/>\n",
       "</g>\n",
       "<g clip-path=\"url(#clip9)\" clip-rule=\"nonzero\">\n",
       "<path style=\"fill:none;stroke-width:1.066978;stroke-linecap:butt;stroke-linejoin:round;stroke:rgb(100%,100%,100%);stroke-opacity:1;stroke-miterlimit:10;\" d=\"M 40.984375 243.671875 L 354.519531 243.671875 \"/>\n",
       "</g>\n",
       "<g clip-path=\"url(#clip10)\" clip-rule=\"nonzero\">\n",
       "<path style=\"fill:none;stroke-width:1.066978;stroke-linecap:butt;stroke-linejoin:round;stroke:rgb(100%,100%,100%);stroke-opacity:1;stroke-miterlimit:10;\" d=\"M 40.984375 190.667969 L 354.519531 190.667969 \"/>\n",
       "</g>\n",
       "<g clip-path=\"url(#clip11)\" clip-rule=\"nonzero\">\n",
       "<path style=\"fill:none;stroke-width:1.066978;stroke-linecap:butt;stroke-linejoin:round;stroke:rgb(100%,100%,100%);stroke-opacity:1;stroke-miterlimit:10;\" d=\"M 40.984375 137.667969 L 354.519531 137.667969 \"/>\n",
       "</g>\n",
       "<g clip-path=\"url(#clip12)\" clip-rule=\"nonzero\">\n",
       "<path style=\"fill:none;stroke-width:1.066978;stroke-linecap:butt;stroke-linejoin:round;stroke:rgb(100%,100%,100%);stroke-opacity:1;stroke-miterlimit:10;\" d=\"M 40.984375 84.664062 L 354.519531 84.664062 \"/>\n",
       "</g>\n",
       "<g clip-path=\"url(#clip13)\" clip-rule=\"nonzero\">\n",
       "<path style=\"fill:none;stroke-width:1.066978;stroke-linecap:butt;stroke-linejoin:round;stroke:rgb(100%,100%,100%);stroke-opacity:1;stroke-miterlimit:10;\" d=\"M 40.984375 31.664062 L 354.519531 31.664062 \"/>\n",
       "</g>\n",
       "<g clip-path=\"url(#clip14)\" clip-rule=\"nonzero\">\n",
       "<path style=\"fill:none;stroke-width:1.066978;stroke-linecap:butt;stroke-linejoin:round;stroke:rgb(100%,100%,100%);stroke-opacity:1;stroke-miterlimit:10;\" d=\"M 48.113281 255.015625 L 48.113281 5.480469 \"/>\n",
       "</g>\n",
       "<g clip-path=\"url(#clip15)\" clip-rule=\"nonzero\">\n",
       "<path style=\"fill:none;stroke-width:1.066978;stroke-linecap:butt;stroke-linejoin:round;stroke:rgb(100%,100%,100%);stroke-opacity:1;stroke-miterlimit:10;\" d=\"M 138.28125 255.015625 L 138.28125 5.480469 \"/>\n",
       "</g>\n",
       "<g clip-path=\"url(#clip16)\" clip-rule=\"nonzero\">\n",
       "<path style=\"fill:none;stroke-width:1.066978;stroke-linecap:butt;stroke-linejoin:round;stroke:rgb(100%,100%,100%);stroke-opacity:1;stroke-miterlimit:10;\" d=\"M 228.453125 255.015625 L 228.453125 5.480469 \"/>\n",
       "</g>\n",
       "<g clip-path=\"url(#clip17)\" clip-rule=\"nonzero\">\n",
       "<path style=\"fill:none;stroke-width:1.066978;stroke-linecap:butt;stroke-linejoin:round;stroke:rgb(100%,100%,100%);stroke-opacity:1;stroke-miterlimit:10;\" d=\"M 318.625 255.015625 L 318.625 5.480469 \"/>\n",
       "</g>\n",
       "<path style=\" stroke:none;fill-rule:nonzero;fill:rgb(34.901961%,34.901961%,34.901961%);fill-opacity:1;\" d=\"M 62.363281 243.671875 L 69.488281 243.671875 L 69.488281 219.289062 L 62.363281 219.289062 Z M 62.363281 243.671875 \"/>\n",
       "<path style=\" stroke:none;fill-rule:nonzero;fill:rgb(34.901961%,34.901961%,34.901961%);fill-opacity:1;\" d=\"M 69.488281 243.671875 L 76.613281 243.671875 L 76.613281 217.171875 L 69.488281 217.171875 Z M 69.488281 243.671875 \"/>\n",
       "<path style=\" stroke:none;fill-rule:nonzero;fill:rgb(34.901961%,34.901961%,34.901961%);fill-opacity:1;\" d=\"M 76.613281 243.671875 L 83.738281 243.671875 L 83.738281 203.390625 L 76.613281 203.390625 Z M 76.613281 243.671875 \"/>\n",
       "<path style=\" stroke:none;fill-rule:nonzero;fill:rgb(34.901961%,34.901961%,34.901961%);fill-opacity:1;\" d=\"M 83.742188 243.671875 L 90.867188 243.671875 L 90.867188 188.550781 L 83.742188 188.550781 Z M 83.742188 243.671875 \"/>\n",
       "<path style=\" stroke:none;fill-rule:nonzero;fill:rgb(34.901961%,34.901961%,34.901961%);fill-opacity:1;\" d=\"M 90.867188 243.671875 L 97.992188 243.671875 L 97.992188 106.925781 L 90.867188 106.925781 Z M 90.867188 243.671875 \"/>\n",
       "<path style=\" stroke:none;fill-rule:nonzero;fill:rgb(34.901961%,34.901961%,34.901961%);fill-opacity:1;\" d=\"M 97.992188 243.671875 L 105.117188 243.671875 L 105.117188 16.824219 L 97.992188 16.824219 Z M 97.992188 243.671875 \"/>\n",
       "<path style=\" stroke:none;fill-rule:nonzero;fill:rgb(34.901961%,34.901961%,34.901961%);fill-opacity:1;\" d=\"M 105.117188 243.671875 L 112.242188 243.671875 L 112.242188 29.542969 L 105.117188 29.542969 Z M 105.117188 243.671875 \"/>\n",
       "<path style=\" stroke:none;fill-rule:nonzero;fill:rgb(34.901961%,34.901961%,34.901961%);fill-opacity:1;\" d=\"M 112.242188 243.671875 L 119.367188 243.671875 L 119.367188 68.765625 L 112.242188 68.765625 Z M 112.242188 243.671875 \"/>\n",
       "<path style=\" stroke:none;fill-rule:nonzero;fill:rgb(34.901961%,34.901961%,34.901961%);fill-opacity:1;\" d=\"M 119.371094 243.671875 L 126.496094 243.671875 L 126.496094 83.605469 L 119.371094 83.605469 Z M 119.371094 243.671875 \"/>\n",
       "<path style=\" stroke:none;fill-rule:nonzero;fill:rgb(34.901961%,34.901961%,34.901961%);fill-opacity:1;\" d=\"M 126.496094 243.671875 L 133.621094 243.671875 L 133.621094 165.230469 L 126.496094 165.230469 Z M 126.496094 243.671875 \"/>\n",
       "<path style=\" stroke:none;fill-rule:nonzero;fill:rgb(34.901961%,34.901961%,34.901961%);fill-opacity:1;\" d=\"M 133.621094 243.671875 L 140.746094 243.671875 L 140.746094 190.667969 L 133.621094 190.667969 Z M 133.621094 243.671875 \"/>\n",
       "<path style=\" stroke:none;fill-rule:nonzero;fill:rgb(34.901961%,34.901961%,34.901961%);fill-opacity:1;\" d=\"M 140.746094 243.671875 L 147.871094 243.671875 L 147.871094 210.808594 L 140.746094 210.808594 Z M 140.746094 243.671875 \"/>\n",
       "<path style=\" stroke:none;fill-rule:nonzero;fill:rgb(34.901961%,34.901961%,34.901961%);fill-opacity:1;\" d=\"M 147.871094 243.671875 L 154.996094 243.671875 L 154.996094 233.070312 L 147.871094 233.070312 Z M 147.871094 243.671875 \"/>\n",
       "<path style=\" stroke:none;fill-rule:nonzero;fill:rgb(34.901961%,34.901961%,34.901961%);fill-opacity:1;\" d=\"M 155 243.671875 L 162.125 243.671875 L 162.125 229.890625 L 155 229.890625 Z M 155 243.671875 \"/>\n",
       "<path style=\" stroke:none;fill-rule:nonzero;fill:rgb(34.901961%,34.901961%,34.901961%);fill-opacity:1;\" d=\"M 162.125 243.671875 L 169.25 243.671875 L 169.25 235.191406 L 162.125 235.191406 Z M 162.125 243.671875 \"/>\n",
       "<path style=\" stroke:none;fill-rule:nonzero;fill:rgb(34.901961%,34.901961%,34.901961%);fill-opacity:1;\" d=\"M 169.25 243.671875 L 176.375 243.671875 L 176.375 239.433594 L 169.25 239.433594 Z M 169.25 243.671875 \"/>\n",
       "<path style=\" stroke:none;fill-rule:nonzero;fill:rgb(34.901961%,34.901961%,34.901961%);fill-opacity:1;\" d=\"M 176.375 243.671875 L 183.5 243.671875 L 183.5 240.492188 L 176.375 240.492188 Z M 176.375 243.671875 \"/>\n",
       "<path style=\" stroke:none;fill-rule:nonzero;fill:rgb(34.901961%,34.901961%,34.901961%);fill-opacity:1;\" d=\"M 183.5 243.671875 L 190.625 243.671875 L 190.625 241.550781 L 183.5 241.550781 Z M 183.5 243.671875 \"/>\n",
       "<path style=\" stroke:none;fill-rule:nonzero;fill:rgb(34.901961%,34.901961%,34.901961%);fill-opacity:1;\" d=\"M 190.628906 243.671875 L 197.753906 243.671875 L 197.753906 242.613281 L 190.628906 242.613281 Z M 190.628906 243.671875 \"/>\n",
       "<path style=\" stroke:none;fill-rule:nonzero;fill:rgb(34.901961%,34.901961%,34.901961%);fill-opacity:1;\" d=\"M 197.753906 243.671875 L 204.878906 243.671875 L 204.878906 242.613281 L 197.753906 242.613281 Z M 197.753906 243.671875 \"/>\n",
       "<path style=\" stroke:none;fill-rule:nonzero;fill:rgb(34.901961%,34.901961%,34.901961%);fill-opacity:1;\" d=\"M 204.878906 243.671875 L 212.003906 243.671875 L 212.003906 241.550781 L 204.878906 241.550781 Z M 204.878906 243.671875 \"/>\n",
       "<path style=\" stroke:none;fill-rule:nonzero;fill:rgb(34.901961%,34.901961%,34.901961%);fill-opacity:1;\" d=\"M 212.003906 243.671875 L 219.128906 243.671875 L 219.128906 242.613281 L 212.003906 242.613281 Z M 212.003906 243.671875 \"/>\n",
       "<path style=\" stroke:none;fill-rule:nonzero;fill:rgb(34.901961%,34.901961%,34.901961%);fill-opacity:1;\" d=\"M 326.015625 243.671875 L 333.140625 243.671875 L 333.140625 241.550781 L 326.015625 241.550781 Z M 326.015625 243.671875 \"/>\n",
       "<g style=\"fill:rgb(30.196078%,30.196078%,30.196078%);fill-opacity:1;\">\n",
       "  <use xlink:href=\"#glyph0-1\" x=\"31.054688\" y=\"246.274414\"/>\n",
       "</g>\n",
       "<g style=\"fill:rgb(30.196078%,30.196078%,30.196078%);fill-opacity:1;\">\n",
       "  <use xlink:href=\"#glyph0-2\" x=\"26.054688\" y=\"193.270508\"/>\n",
       "  <use xlink:href=\"#glyph0-1\" x=\"30.945312\" y=\"193.270508\"/>\n",
       "</g>\n",
       "<g style=\"fill:rgb(30.196078%,30.196078%,30.196078%);fill-opacity:1;\">\n",
       "  <use xlink:href=\"#glyph0-3\" x=\"21.054688\" y=\"140.270508\"/>\n",
       "  <use xlink:href=\"#glyph0-1\" x=\"25.945312\" y=\"140.270508\"/>\n",
       "  <use xlink:href=\"#glyph0-1\" x=\"30.835938\" y=\"140.270508\"/>\n",
       "</g>\n",
       "<g style=\"fill:rgb(30.196078%,30.196078%,30.196078%);fill-opacity:1;\">\n",
       "  <use xlink:href=\"#glyph0-3\" x=\"21.054688\" y=\"87.266602\"/>\n",
       "  <use xlink:href=\"#glyph0-2\" x=\"25.945312\" y=\"87.266602\"/>\n",
       "  <use xlink:href=\"#glyph0-1\" x=\"30.835938\" y=\"87.266602\"/>\n",
       "</g>\n",
       "<g style=\"fill:rgb(30.196078%,30.196078%,30.196078%);fill-opacity:1;\">\n",
       "  <use xlink:href=\"#glyph0-4\" x=\"21.054688\" y=\"34.266602\"/>\n",
       "  <use xlink:href=\"#glyph0-1\" x=\"25.945312\" y=\"34.266602\"/>\n",
       "  <use xlink:href=\"#glyph0-1\" x=\"30.835938\" y=\"34.266602\"/>\n",
       "</g>\n",
       "<path style=\"fill:none;stroke-width:1.066978;stroke-linecap:butt;stroke-linejoin:round;stroke:rgb(20%,20%,20%);stroke-opacity:1;stroke-miterlimit:10;\" d=\"M 38.246094 243.671875 L 40.984375 243.671875 \"/>\n",
       "<path style=\"fill:none;stroke-width:1.066978;stroke-linecap:butt;stroke-linejoin:round;stroke:rgb(20%,20%,20%);stroke-opacity:1;stroke-miterlimit:10;\" d=\"M 38.246094 190.667969 L 40.984375 190.667969 \"/>\n",
       "<path style=\"fill:none;stroke-width:1.066978;stroke-linecap:butt;stroke-linejoin:round;stroke:rgb(20%,20%,20%);stroke-opacity:1;stroke-miterlimit:10;\" d=\"M 38.246094 137.667969 L 40.984375 137.667969 \"/>\n",
       "<path style=\"fill:none;stroke-width:1.066978;stroke-linecap:butt;stroke-linejoin:round;stroke:rgb(20%,20%,20%);stroke-opacity:1;stroke-miterlimit:10;\" d=\"M 38.246094 84.664062 L 40.984375 84.664062 \"/>\n",
       "<path style=\"fill:none;stroke-width:1.066978;stroke-linecap:butt;stroke-linejoin:round;stroke:rgb(20%,20%,20%);stroke-opacity:1;stroke-miterlimit:10;\" d=\"M 38.246094 31.664062 L 40.984375 31.664062 \"/>\n",
       "<path style=\"fill:none;stroke-width:1.066978;stroke-linecap:butt;stroke-linejoin:round;stroke:rgb(20%,20%,20%);stroke-opacity:1;stroke-miterlimit:10;\" d=\"M 48.113281 257.753906 L 48.113281 255.015625 \"/>\n",
       "<path style=\"fill:none;stroke-width:1.066978;stroke-linecap:butt;stroke-linejoin:round;stroke:rgb(20%,20%,20%);stroke-opacity:1;stroke-miterlimit:10;\" d=\"M 138.28125 257.753906 L 138.28125 255.015625 \"/>\n",
       "<path style=\"fill:none;stroke-width:1.066978;stroke-linecap:butt;stroke-linejoin:round;stroke:rgb(20%,20%,20%);stroke-opacity:1;stroke-miterlimit:10;\" d=\"M 228.453125 257.753906 L 228.453125 255.015625 \"/>\n",
       "<path style=\"fill:none;stroke-width:1.066978;stroke-linecap:butt;stroke-linejoin:round;stroke:rgb(20%,20%,20%);stroke-opacity:1;stroke-miterlimit:10;\" d=\"M 318.625 257.753906 L 318.625 255.015625 \"/>\n",
       "<g style=\"fill:rgb(30.196078%,30.196078%,30.196078%);fill-opacity:1;\">\n",
       "  <use xlink:href=\"#glyph0-1\" x=\"45.613281\" y=\"266.047852\"/>\n",
       "</g>\n",
       "<g style=\"fill:rgb(30.196078%,30.196078%,30.196078%);fill-opacity:1;\">\n",
       "  <use xlink:href=\"#glyph0-3\" x=\"130.78125\" y=\"266.047852\"/>\n",
       "  <use xlink:href=\"#glyph0-1\" x=\"135.671875\" y=\"266.047852\"/>\n",
       "  <use xlink:href=\"#glyph0-1\" x=\"140.5625\" y=\"266.047852\"/>\n",
       "</g>\n",
       "<g style=\"fill:rgb(30.196078%,30.196078%,30.196078%);fill-opacity:1;\">\n",
       "  <use xlink:href=\"#glyph0-4\" x=\"220.953125\" y=\"266.047852\"/>\n",
       "  <use xlink:href=\"#glyph0-1\" x=\"225.84375\" y=\"266.047852\"/>\n",
       "  <use xlink:href=\"#glyph0-1\" x=\"230.734375\" y=\"266.047852\"/>\n",
       "</g>\n",
       "<g style=\"fill:rgb(30.196078%,30.196078%,30.196078%);fill-opacity:1;\">\n",
       "  <use xlink:href=\"#glyph0-5\" x=\"311.125\" y=\"266.047852\"/>\n",
       "  <use xlink:href=\"#glyph0-1\" x=\"316.015625\" y=\"266.047852\"/>\n",
       "  <use xlink:href=\"#glyph0-1\" x=\"320.90625\" y=\"266.047852\"/>\n",
       "</g>\n",
       "<g style=\"fill:rgb(0%,0%,0%);fill-opacity:1;\">\n",
       "  <use xlink:href=\"#glyph1-1\" x=\"194.753906\" y=\"279.956055\"/>\n",
       "</g>\n",
       "<g style=\"fill:rgb(0%,0%,0%);fill-opacity:1;\">\n",
       "  <use xlink:href=\"#glyph2-1\" x=\"16.299805\" y=\"143.746094\"/>\n",
       "  <use xlink:href=\"#glyph2-2\" x=\"16.299805\" y=\"138.246094\"/>\n",
       "  <use xlink:href=\"#glyph2-3\" x=\"16.299805\" y=\"132.129883\"/>\n",
       "  <use xlink:href=\"#glyph2-4\" x=\"16.299805\" y=\"126.013672\"/>\n",
       "  <use xlink:href=\"#glyph2-5\" x=\"16.299805\" y=\"119.897461\"/>\n",
       "</g>\n",
       "<path style=\" stroke:none;fill-rule:nonzero;fill:rgb(100%,100%,100%);fill-opacity:1;\" d=\"M 360 288 L 720 288 L 720 0 L 360 0 Z M 360 288 \"/>\n",
       "<g clip-path=\"url(#clip18)\" clip-rule=\"nonzero\">\n",
       "<path style=\"fill:none;stroke-width:1.066978;stroke-linecap:round;stroke-linejoin:round;stroke:rgb(100%,100%,100%);stroke-opacity:1;stroke-miterlimit:10;\" d=\"M 360 288 L 720 288 L 720 0 L 360 0 Z M 360 288 \"/>\n",
       "</g>\n",
       "<g clip-path=\"url(#clip19)\" clip-rule=\"nonzero\">\n",
       "<path style=\" stroke:none;fill-rule:nonzero;fill:rgb(92.156863%,92.156863%,92.156863%);fill-opacity:1;\" d=\"M 400.984375 255.015625 L 714.519531 255.015625 L 714.519531 5.480469 L 400.984375 5.480469 Z M 400.984375 255.015625 \"/>\n",
       "</g>\n",
       "<g clip-path=\"url(#clip20)\" clip-rule=\"nonzero\">\n",
       "<path style=\"fill:none;stroke-width:0.533489;stroke-linecap:butt;stroke-linejoin:round;stroke:rgb(100%,100%,100%);stroke-opacity:1;stroke-miterlimit:10;\" d=\"M 400.984375 216.007812 L 714.519531 216.007812 \"/>\n",
       "</g>\n",
       "<g clip-path=\"url(#clip21)\" clip-rule=\"nonzero\">\n",
       "<path style=\"fill:none;stroke-width:0.533489;stroke-linecap:butt;stroke-linejoin:round;stroke:rgb(100%,100%,100%);stroke-opacity:1;stroke-miterlimit:10;\" d=\"M 400.984375 160.675781 L 714.519531 160.675781 \"/>\n",
       "</g>\n",
       "<g clip-path=\"url(#clip22)\" clip-rule=\"nonzero\">\n",
       "<path style=\"fill:none;stroke-width:0.533489;stroke-linecap:butt;stroke-linejoin:round;stroke:rgb(100%,100%,100%);stroke-opacity:1;stroke-miterlimit:10;\" d=\"M 400.984375 105.347656 L 714.519531 105.347656 \"/>\n",
       "</g>\n",
       "<g clip-path=\"url(#clip23)\" clip-rule=\"nonzero\">\n",
       "<path style=\"fill:none;stroke-width:0.533489;stroke-linecap:butt;stroke-linejoin:round;stroke:rgb(100%,100%,100%);stroke-opacity:1;stroke-miterlimit:10;\" d=\"M 400.984375 50.019531 L 714.519531 50.019531 \"/>\n",
       "</g>\n",
       "<g clip-path=\"url(#clip24)\" clip-rule=\"nonzero\">\n",
       "<path style=\"fill:none;stroke-width:0.533489;stroke-linecap:butt;stroke-linejoin:round;stroke:rgb(100%,100%,100%);stroke-opacity:1;stroke-miterlimit:10;\" d=\"M 473.78125 255.015625 L 473.78125 5.480469 \"/>\n",
       "</g>\n",
       "<g clip-path=\"url(#clip25)\" clip-rule=\"nonzero\">\n",
       "<path style=\"fill:none;stroke-width:0.533489;stroke-linecap:butt;stroke-linejoin:round;stroke:rgb(100%,100%,100%);stroke-opacity:1;stroke-miterlimit:10;\" d=\"M 565.914062 255.015625 L 565.914062 5.480469 \"/>\n",
       "</g>\n",
       "<g clip-path=\"url(#clip26)\" clip-rule=\"nonzero\">\n",
       "<path style=\"fill:none;stroke-width:0.533489;stroke-linecap:butt;stroke-linejoin:round;stroke:rgb(100%,100%,100%);stroke-opacity:1;stroke-miterlimit:10;\" d=\"M 658.046875 255.015625 L 658.046875 5.480469 \"/>\n",
       "</g>\n",
       "<g clip-path=\"url(#clip27)\" clip-rule=\"nonzero\">\n",
       "<path style=\"fill:none;stroke-width:1.066978;stroke-linecap:butt;stroke-linejoin:round;stroke:rgb(100%,100%,100%);stroke-opacity:1;stroke-miterlimit:10;\" d=\"M 400.984375 243.671875 L 714.519531 243.671875 \"/>\n",
       "</g>\n",
       "<g clip-path=\"url(#clip28)\" clip-rule=\"nonzero\">\n",
       "<path style=\"fill:none;stroke-width:1.066978;stroke-linecap:butt;stroke-linejoin:round;stroke:rgb(100%,100%,100%);stroke-opacity:1;stroke-miterlimit:10;\" d=\"M 400.984375 188.34375 L 714.519531 188.34375 \"/>\n",
       "</g>\n",
       "<g clip-path=\"url(#clip29)\" clip-rule=\"nonzero\">\n",
       "<path style=\"fill:none;stroke-width:1.066978;stroke-linecap:butt;stroke-linejoin:round;stroke:rgb(100%,100%,100%);stroke-opacity:1;stroke-miterlimit:10;\" d=\"M 400.984375 133.011719 L 714.519531 133.011719 \"/>\n",
       "</g>\n",
       "<g clip-path=\"url(#clip30)\" clip-rule=\"nonzero\">\n",
       "<path style=\"fill:none;stroke-width:1.066978;stroke-linecap:butt;stroke-linejoin:round;stroke:rgb(100%,100%,100%);stroke-opacity:1;stroke-miterlimit:10;\" d=\"M 400.984375 77.683594 L 714.519531 77.683594 \"/>\n",
       "</g>\n",
       "<g clip-path=\"url(#clip31)\" clip-rule=\"nonzero\">\n",
       "<path style=\"fill:none;stroke-width:1.066978;stroke-linecap:butt;stroke-linejoin:round;stroke:rgb(100%,100%,100%);stroke-opacity:1;stroke-miterlimit:10;\" d=\"M 400.984375 22.355469 L 714.519531 22.355469 \"/>\n",
       "</g>\n",
       "<g clip-path=\"url(#clip32)\" clip-rule=\"nonzero\">\n",
       "<path style=\"fill:none;stroke-width:1.066978;stroke-linecap:butt;stroke-linejoin:round;stroke:rgb(100%,100%,100%);stroke-opacity:1;stroke-miterlimit:10;\" d=\"M 427.714844 255.015625 L 427.714844 5.480469 \"/>\n",
       "</g>\n",
       "<g clip-path=\"url(#clip33)\" clip-rule=\"nonzero\">\n",
       "<path style=\"fill:none;stroke-width:1.066978;stroke-linecap:butt;stroke-linejoin:round;stroke:rgb(100%,100%,100%);stroke-opacity:1;stroke-miterlimit:10;\" d=\"M 519.847656 255.015625 L 519.847656 5.480469 \"/>\n",
       "</g>\n",
       "<g clip-path=\"url(#clip34)\" clip-rule=\"nonzero\">\n",
       "<path style=\"fill:none;stroke-width:1.066978;stroke-linecap:butt;stroke-linejoin:round;stroke:rgb(100%,100%,100%);stroke-opacity:1;stroke-miterlimit:10;\" d=\"M 611.980469 255.015625 L 611.980469 5.480469 \"/>\n",
       "</g>\n",
       "<g clip-path=\"url(#clip35)\" clip-rule=\"nonzero\">\n",
       "<path style=\"fill:none;stroke-width:1.066978;stroke-linecap:butt;stroke-linejoin:round;stroke:rgb(100%,100%,100%);stroke-opacity:1;stroke-miterlimit:10;\" d=\"M 704.113281 255.015625 L 704.113281 5.480469 \"/>\n",
       "</g>\n",
       "<path style=\" stroke:none;fill-rule:nonzero;fill:rgb(34.901961%,34.901961%,34.901961%);fill-opacity:1;\" d=\"M 425.792969 243.671875 L 436.351562 243.671875 L 436.351562 218.21875 L 425.792969 218.21875 Z M 425.792969 243.671875 \"/>\n",
       "<path style=\" stroke:none;fill-rule:nonzero;fill:rgb(34.901961%,34.901961%,34.901961%);fill-opacity:1;\" d=\"M 436.351562 243.671875 L 446.910156 243.671875 L 446.910156 222.648438 L 436.351562 222.648438 Z M 436.351562 243.671875 \"/>\n",
       "<path style=\" stroke:none;fill-rule:nonzero;fill:rgb(34.901961%,34.901961%,34.901961%);fill-opacity:1;\" d=\"M 457.464844 243.671875 L 468.023438 243.671875 L 468.023438 237.03125 L 457.464844 237.03125 Z M 457.464844 243.671875 \"/>\n",
       "<path style=\" stroke:none;fill-rule:nonzero;fill:rgb(34.901961%,34.901961%,34.901961%);fill-opacity:1;\" d=\"M 468.019531 243.671875 L 478.578125 243.671875 L 478.578125 225.964844 L 468.019531 225.964844 Z M 468.019531 243.671875 \"/>\n",
       "<path style=\" stroke:none;fill-rule:nonzero;fill:rgb(34.901961%,34.901961%,34.901961%);fill-opacity:1;\" d=\"M 478.578125 243.671875 L 489.136719 243.671875 L 489.136719 219.328125 L 478.578125 219.328125 Z M 478.578125 243.671875 \"/>\n",
       "<path style=\" stroke:none;fill-rule:nonzero;fill:rgb(34.901961%,34.901961%,34.901961%);fill-opacity:1;\" d=\"M 489.136719 243.671875 L 499.695312 243.671875 L 499.695312 206.046875 L 489.136719 206.046875 Z M 489.136719 243.671875 \"/>\n",
       "<path style=\" stroke:none;fill-rule:nonzero;fill:rgb(34.901961%,34.901961%,34.901961%);fill-opacity:1;\" d=\"M 499.691406 243.671875 L 510.25 243.671875 L 510.25 212.6875 L 499.691406 212.6875 Z M 499.691406 243.671875 \"/>\n",
       "<path style=\" stroke:none;fill-rule:nonzero;fill:rgb(34.901961%,34.901961%,34.901961%);fill-opacity:1;\" d=\"M 510.25 243.671875 L 520.808594 243.671875 L 520.808594 111.988281 L 510.25 111.988281 Z M 510.25 243.671875 \"/>\n",
       "<path style=\" stroke:none;fill-rule:nonzero;fill:rgb(34.901961%,34.901961%,34.901961%);fill-opacity:1;\" d=\"M 520.804688 243.671875 L 531.363281 243.671875 L 531.363281 35.632812 L 520.804688 35.632812 Z M 520.804688 243.671875 \"/>\n",
       "<path style=\" stroke:none;fill-rule:nonzero;fill:rgb(34.901961%,34.901961%,34.901961%);fill-opacity:1;\" d=\"M 531.363281 243.671875 L 541.921875 243.671875 L 541.921875 82.109375 L 531.363281 82.109375 Z M 531.363281 243.671875 \"/>\n",
       "<path style=\" stroke:none;fill-rule:nonzero;fill:rgb(34.901961%,34.901961%,34.901961%);fill-opacity:1;\" d=\"M 541.917969 243.671875 L 552.476562 243.671875 L 552.476562 16.824219 L 541.917969 16.824219 Z M 541.917969 243.671875 \"/>\n",
       "<path style=\" stroke:none;fill-rule:nonzero;fill:rgb(34.901961%,34.901961%,34.901961%);fill-opacity:1;\" d=\"M 552.476562 243.671875 L 563.035156 243.671875 L 563.035156 24.570312 L 552.476562 24.570312 Z M 552.476562 243.671875 \"/>\n",
       "<path style=\" stroke:none;fill-rule:nonzero;fill:rgb(34.901961%,34.901961%,34.901961%);fill-opacity:1;\" d=\"M 563.03125 243.671875 L 573.589844 243.671875 L 573.589844 148.503906 L 563.03125 148.503906 Z M 563.03125 243.671875 \"/>\n",
       "<path style=\" stroke:none;fill-rule:nonzero;fill:rgb(34.901961%,34.901961%,34.901961%);fill-opacity:1;\" d=\"M 573.589844 243.671875 L 584.148438 243.671875 L 584.148438 179.488281 L 573.589844 179.488281 Z M 573.589844 243.671875 \"/>\n",
       "<path style=\" stroke:none;fill-rule:nonzero;fill:rgb(34.901961%,34.901961%,34.901961%);fill-opacity:1;\" d=\"M 584.144531 243.671875 L 594.703125 243.671875 L 594.703125 213.792969 L 584.144531 213.792969 Z M 584.144531 243.671875 \"/>\n",
       "<path style=\" stroke:none;fill-rule:nonzero;fill:rgb(34.901961%,34.901961%,34.901961%);fill-opacity:1;\" d=\"M 594.703125 243.671875 L 605.261719 243.671875 L 605.261719 231.5 L 594.703125 231.5 Z M 594.703125 243.671875 \"/>\n",
       "<path style=\" stroke:none;fill-rule:nonzero;fill:rgb(34.901961%,34.901961%,34.901961%);fill-opacity:1;\" d=\"M 605.257812 243.671875 L 615.816406 243.671875 L 615.816406 234.820312 L 605.257812 234.820312 Z M 605.257812 243.671875 \"/>\n",
       "<path style=\" stroke:none;fill-rule:nonzero;fill:rgb(34.901961%,34.901961%,34.901961%);fill-opacity:1;\" d=\"M 615.816406 243.671875 L 626.375 243.671875 L 626.375 241.457031 L 615.816406 241.457031 Z M 615.816406 243.671875 \"/>\n",
       "<path style=\" stroke:none;fill-rule:nonzero;fill:rgb(34.901961%,34.901961%,34.901961%);fill-opacity:1;\" d=\"M 626.371094 243.671875 L 636.929688 243.671875 L 636.929688 240.351562 L 626.371094 240.351562 Z M 626.371094 243.671875 \"/>\n",
       "<path style=\" stroke:none;fill-rule:nonzero;fill:rgb(34.901961%,34.901961%,34.901961%);fill-opacity:1;\" d=\"M 679.15625 243.671875 L 689.714844 243.671875 L 689.714844 241.457031 L 679.15625 241.457031 Z M 679.15625 243.671875 \"/>\n",
       "<g style=\"fill:rgb(30.196078%,30.196078%,30.196078%);fill-opacity:1;\">\n",
       "  <use xlink:href=\"#glyph0-1\" x=\"391.054688\" y=\"246.274414\"/>\n",
       "</g>\n",
       "<g style=\"fill:rgb(30.196078%,30.196078%,30.196078%);fill-opacity:1;\">\n",
       "  <use xlink:href=\"#glyph0-2\" x=\"386.054688\" y=\"190.946289\"/>\n",
       "  <use xlink:href=\"#glyph0-1\" x=\"390.945312\" y=\"190.946289\"/>\n",
       "</g>\n",
       "<g style=\"fill:rgb(30.196078%,30.196078%,30.196078%);fill-opacity:1;\">\n",
       "  <use xlink:href=\"#glyph0-3\" x=\"381.054688\" y=\"135.614258\"/>\n",
       "  <use xlink:href=\"#glyph0-1\" x=\"385.945312\" y=\"135.614258\"/>\n",
       "  <use xlink:href=\"#glyph0-1\" x=\"390.835938\" y=\"135.614258\"/>\n",
       "</g>\n",
       "<g style=\"fill:rgb(30.196078%,30.196078%,30.196078%);fill-opacity:1;\">\n",
       "  <use xlink:href=\"#glyph0-3\" x=\"381.054688\" y=\"80.286133\"/>\n",
       "  <use xlink:href=\"#glyph0-2\" x=\"385.945312\" y=\"80.286133\"/>\n",
       "  <use xlink:href=\"#glyph0-1\" x=\"390.835938\" y=\"80.286133\"/>\n",
       "</g>\n",
       "<g style=\"fill:rgb(30.196078%,30.196078%,30.196078%);fill-opacity:1;\">\n",
       "  <use xlink:href=\"#glyph0-4\" x=\"381.054688\" y=\"24.958008\"/>\n",
       "  <use xlink:href=\"#glyph0-1\" x=\"385.945312\" y=\"24.958008\"/>\n",
       "  <use xlink:href=\"#glyph0-1\" x=\"390.835938\" y=\"24.958008\"/>\n",
       "</g>\n",
       "<path style=\"fill:none;stroke-width:1.066978;stroke-linecap:butt;stroke-linejoin:round;stroke:rgb(20%,20%,20%);stroke-opacity:1;stroke-miterlimit:10;\" d=\"M 398.246094 243.671875 L 400.984375 243.671875 \"/>\n",
       "<path style=\"fill:none;stroke-width:1.066978;stroke-linecap:butt;stroke-linejoin:round;stroke:rgb(20%,20%,20%);stroke-opacity:1;stroke-miterlimit:10;\" d=\"M 398.246094 188.34375 L 400.984375 188.34375 \"/>\n",
       "<path style=\"fill:none;stroke-width:1.066978;stroke-linecap:butt;stroke-linejoin:round;stroke:rgb(20%,20%,20%);stroke-opacity:1;stroke-miterlimit:10;\" d=\"M 398.246094 133.011719 L 400.984375 133.011719 \"/>\n",
       "<path style=\"fill:none;stroke-width:1.066978;stroke-linecap:butt;stroke-linejoin:round;stroke:rgb(20%,20%,20%);stroke-opacity:1;stroke-miterlimit:10;\" d=\"M 398.246094 77.683594 L 400.984375 77.683594 \"/>\n",
       "<path style=\"fill:none;stroke-width:1.066978;stroke-linecap:butt;stroke-linejoin:round;stroke:rgb(20%,20%,20%);stroke-opacity:1;stroke-miterlimit:10;\" d=\"M 398.246094 22.355469 L 400.984375 22.355469 \"/>\n",
       "<path style=\"fill:none;stroke-width:1.066978;stroke-linecap:butt;stroke-linejoin:round;stroke:rgb(20%,20%,20%);stroke-opacity:1;stroke-miterlimit:10;\" d=\"M 427.714844 257.753906 L 427.714844 255.015625 \"/>\n",
       "<path style=\"fill:none;stroke-width:1.066978;stroke-linecap:butt;stroke-linejoin:round;stroke:rgb(20%,20%,20%);stroke-opacity:1;stroke-miterlimit:10;\" d=\"M 519.847656 257.753906 L 519.847656 255.015625 \"/>\n",
       "<path style=\"fill:none;stroke-width:1.066978;stroke-linecap:butt;stroke-linejoin:round;stroke:rgb(20%,20%,20%);stroke-opacity:1;stroke-miterlimit:10;\" d=\"M 611.980469 257.753906 L 611.980469 255.015625 \"/>\n",
       "<path style=\"fill:none;stroke-width:1.066978;stroke-linecap:butt;stroke-linejoin:round;stroke:rgb(20%,20%,20%);stroke-opacity:1;stroke-miterlimit:10;\" d=\"M 704.113281 257.753906 L 704.113281 255.015625 \"/>\n",
       "<g style=\"fill:rgb(30.196078%,30.196078%,30.196078%);fill-opacity:1;\">\n",
       "  <use xlink:href=\"#glyph0-5\" x=\"425.214844\" y=\"266.047852\"/>\n",
       "</g>\n",
       "<g style=\"fill:rgb(30.196078%,30.196078%,30.196078%);fill-opacity:1;\">\n",
       "  <use xlink:href=\"#glyph0-6\" x=\"517.347656\" y=\"266.047852\"/>\n",
       "</g>\n",
       "<g style=\"fill:rgb(30.196078%,30.196078%,30.196078%);fill-opacity:1;\">\n",
       "  <use xlink:href=\"#glyph0-2\" x=\"609.480469\" y=\"266.047852\"/>\n",
       "</g>\n",
       "<g style=\"fill:rgb(30.196078%,30.196078%,30.196078%);fill-opacity:1;\">\n",
       "  <use xlink:href=\"#glyph0-7\" x=\"701.613281\" y=\"266.047852\"/>\n",
       "</g>\n",
       "<g style=\"fill:rgb(0%,0%,0%);fill-opacity:1;\">\n",
       "  <use xlink:href=\"#glyph1-1\" x=\"544.253906\" y=\"279.956055\"/>\n",
       "  <use xlink:href=\"#glyph1-2\" x=\"549.753906\" y=\"279.956055\"/>\n",
       "  <use xlink:href=\"#glyph1-3\" x=\"555.870117\" y=\"279.956055\"/>\n",
       "  <use xlink:href=\"#glyph1-4\" x=\"558.3125\" y=\"279.956055\"/>\n",
       "  <use xlink:href=\"#glyph1-5\" x=\"564.428711\" y=\"279.956055\"/>\n",
       "</g>\n",
       "<g style=\"fill:rgb(0%,0%,0%);fill-opacity:1;\">\n",
       "  <use xlink:href=\"#glyph2-1\" x=\"376.299805\" y=\"143.746094\"/>\n",
       "  <use xlink:href=\"#glyph2-2\" x=\"376.299805\" y=\"138.246094\"/>\n",
       "  <use xlink:href=\"#glyph2-3\" x=\"376.299805\" y=\"132.129883\"/>\n",
       "  <use xlink:href=\"#glyph2-4\" x=\"376.299805\" y=\"126.013672\"/>\n",
       "  <use xlink:href=\"#glyph2-5\" x=\"376.299805\" y=\"119.897461\"/>\n",
       "</g>\n",
       "</g>\n",
       "</svg>\n"
      ],
      "text/plain": [
       "plot without title"
      ]
     },
     "metadata": {
      "image/svg+xml": {
       "isolated": true
      }
     },
     "output_type": "display_data"
    }
   ],
   "source": [
    "options(repr.plot.width = 10, repr.plot.height = 4)\n",
    "\n",
    "g1 = ggplot(LotFrontage, aes(x))\n",
    "g1 = g1 + geom_histogram(binwidth=2*get_hist_binwidth(LotFrontage, \"x\"))\n",
    "\n",
    "g2 = ggplot(LotFrontage, aes(x_log))\n",
    "g2 = g2 + geom_histogram(binwidth=2*get_hist_binwidth(LotFrontage, \"x_log\"))\n",
    "\n",
    "grid.arrange(g1, g2, layout_matrix=rbind(c(1, 2)))"
   ]
  },
  {
   "cell_type": "code",
   "execution_count": null,
   "metadata": {
    "collapsed": true
   },
   "outputs": [],
   "source": []
  },
  {
   "cell_type": "code",
   "execution_count": null,
   "metadata": {
    "collapsed": true
   },
   "outputs": [],
   "source": []
  },
  {
   "cell_type": "code",
   "execution_count": null,
   "metadata": {
    "collapsed": true
   },
   "outputs": [],
   "source": []
  },
  {
   "cell_type": "code",
   "execution_count": null,
   "metadata": {
    "collapsed": true
   },
   "outputs": [],
   "source": []
  },
  {
   "cell_type": "code",
   "execution_count": null,
   "metadata": {
    "collapsed": true
   },
   "outputs": [],
   "source": []
  },
  {
   "cell_type": "code",
   "execution_count": null,
   "metadata": {
    "collapsed": true
   },
   "outputs": [],
   "source": []
  },
  {
   "cell_type": "code",
   "execution_count": null,
   "metadata": {
    "collapsed": true
   },
   "outputs": [],
   "source": []
  },
  {
   "cell_type": "code",
   "execution_count": null,
   "metadata": {
    "collapsed": true
   },
   "outputs": [],
   "source": []
  },
  {
   "cell_type": "code",
   "execution_count": null,
   "metadata": {
    "collapsed": true
   },
   "outputs": [],
   "source": []
  },
  {
   "cell_type": "code",
   "execution_count": null,
   "metadata": {
    "collapsed": true
   },
   "outputs": [],
   "source": []
  },
  {
   "cell_type": "code",
   "execution_count": null,
   "metadata": {
    "collapsed": true
   },
   "outputs": [],
   "source": []
  },
  {
   "cell_type": "code",
   "execution_count": null,
   "metadata": {
    "collapsed": true
   },
   "outputs": [],
   "source": []
  },
  {
   "cell_type": "code",
   "execution_count": null,
   "metadata": {
    "collapsed": true
   },
   "outputs": [],
   "source": []
  },
  {
   "cell_type": "code",
   "execution_count": null,
   "metadata": {
    "collapsed": true
   },
   "outputs": [],
   "source": []
  },
  {
   "cell_type": "code",
   "execution_count": null,
   "metadata": {
    "collapsed": true
   },
   "outputs": [],
   "source": []
  },
  {
   "cell_type": "code",
   "execution_count": null,
   "metadata": {
    "collapsed": true
   },
   "outputs": [],
   "source": []
  },
  {
   "cell_type": "code",
   "execution_count": null,
   "metadata": {
    "collapsed": true
   },
   "outputs": [],
   "source": []
  },
  {
   "cell_type": "code",
   "execution_count": null,
   "metadata": {
    "collapsed": true
   },
   "outputs": [],
   "source": []
  },
  {
   "cell_type": "code",
   "execution_count": null,
   "metadata": {
    "collapsed": true
   },
   "outputs": [],
   "source": []
  },
  {
   "cell_type": "code",
   "execution_count": null,
   "metadata": {
    "collapsed": true
   },
   "outputs": [],
   "source": []
  },
  {
   "cell_type": "code",
   "execution_count": null,
   "metadata": {
    "collapsed": true
   },
   "outputs": [],
   "source": []
  },
  {
   "cell_type": "code",
   "execution_count": null,
   "metadata": {
    "collapsed": true
   },
   "outputs": [],
   "source": []
  },
  {
   "cell_type": "code",
   "execution_count": null,
   "metadata": {
    "collapsed": true
   },
   "outputs": [],
   "source": []
  },
  {
   "cell_type": "code",
   "execution_count": null,
   "metadata": {
    "collapsed": true
   },
   "outputs": [],
   "source": []
  },
  {
   "cell_type": "code",
   "execution_count": null,
   "metadata": {
    "collapsed": true
   },
   "outputs": [],
   "source": []
  },
  {
   "cell_type": "code",
   "execution_count": null,
   "metadata": {
    "collapsed": true
   },
   "outputs": [],
   "source": []
  },
  {
   "cell_type": "code",
   "execution_count": null,
   "metadata": {
    "collapsed": true
   },
   "outputs": [],
   "source": []
  },
  {
   "cell_type": "code",
   "execution_count": null,
   "metadata": {
    "collapsed": true
   },
   "outputs": [],
   "source": []
  },
  {
   "cell_type": "code",
   "execution_count": null,
   "metadata": {
    "collapsed": true
   },
   "outputs": [],
   "source": []
  },
  {
   "cell_type": "code",
   "execution_count": null,
   "metadata": {
    "collapsed": true
   },
   "outputs": [],
   "source": []
  },
  {
   "cell_type": "code",
   "execution_count": null,
   "metadata": {
    "collapsed": true
   },
   "outputs": [],
   "source": []
  },
  {
   "cell_type": "code",
   "execution_count": null,
   "metadata": {
    "collapsed": true
   },
   "outputs": [],
   "source": []
  }
 ],
 "metadata": {
  "kernelspec": {
   "display_name": "R",
   "language": "R",
   "name": "ir"
  },
  "language_info": {
   "codemirror_mode": "r",
   "file_extension": ".r",
   "mimetype": "text/x-r-source",
   "name": "R",
   "pygments_lexer": "r",
   "version": "3.2.2"
  }
 },
 "nbformat": 4,
 "nbformat_minor": 0
}
