{
 "cells": [
  {
   "cell_type": "code",
   "execution_count": 2,
   "metadata": {
    "collapsed": false
   },
   "outputs": [],
   "source": [
    "library(dplyr)\n",
    "library(ggplot2)\n",
    "library(grid)\n",
    "library(gridExtra)\n",
    "library(reshape2)"
   ]
  },
  {
   "cell_type": "code",
   "execution_count": 3,
   "metadata": {
    "collapsed": true
   },
   "outputs": [],
   "source": [
    "df.train = tbl_df(read.csv(\"../data/train.csv\", stringsAsFactors = FALSE))\n",
    "df.test = tbl_df(read.csv(\"../data/test.csv\", stringsAsFactors = FALSE))\n",
    "df.combined = rbind(within(df.train, rm('Id','SalePrice')), within(df.test, rm('Id')))\n",
    "df.combined2 = rbind(df.combined)"
   ]
  },
  {
   "cell_type": "code",
   "execution_count": 8,
   "metadata": {
    "collapsed": false
   },
   "outputs": [
    {
     "data": {
      "text/html": [
       "<table>\n",
       "<thead><tr><th></th><th scope=col>LotFrontage</th><th scope=col>MSSubClass</th><th scope=col>MSZoning</th><th scope=col>LotArea</th><th scope=col>LotShape</th><th scope=col>LandContour</th><th scope=col>LotConfig</th><th scope=col>Neighborhood</th><th scope=col>BldgType</th><th scope=col>HouseStyle</th><th scope=col>YearBuilt</th><th scope=col>X1stFlrSF</th><th scope=col>LotAreaSqrt</th><th scope=col>X1stFlrSFSqrt</th></tr></thead>\n",
       "<tbody>\n",
       "\t<tr><th scope=row>1</th><td>65</td><td>60</td><td>RL</td><td>8450</td><td>Reg</td><td>Lvl</td><td>Inside</td><td>CollgCr</td><td>1Fam</td><td>2Story</td><td>2003</td><td>856</td><td>91.92388</td><td>29.25748</td></tr>\n",
       "\t<tr><th scope=row>2</th><td>80</td><td>20</td><td>RL</td><td>9600</td><td>Reg</td><td>Lvl</td><td>FR2</td><td>Veenker</td><td>1Fam</td><td>1Story</td><td>1976</td><td>1262</td><td>97.97959</td><td>35.52464</td></tr>\n",
       "\t<tr><th scope=row>3</th><td>68</td><td>60</td><td>RL</td><td>11250</td><td>IR1</td><td>Lvl</td><td>Inside</td><td>CollgCr</td><td>1Fam</td><td>2Story</td><td>2001</td><td>920</td><td>106.066</td><td>30.3315</td></tr>\n",
       "\t<tr><th scope=row>4</th><td>60</td><td>70</td><td>RL</td><td>9550</td><td>IR1</td><td>Lvl</td><td>Corner</td><td>Crawfor</td><td>1Fam</td><td>2Story</td><td>1915</td><td>961</td><td>97.7241</td><td>31</td></tr>\n",
       "\t<tr><th scope=row>5</th><td>84</td><td>60</td><td>RL</td><td>14260</td><td>IR1</td><td>Lvl</td><td>FR2</td><td>NoRidge</td><td>1Fam</td><td>2Story</td><td>2000</td><td>1145</td><td>119.4152</td><td>33.83785</td></tr>\n",
       "\t<tr><th scope=row>6</th><td>85</td><td>50</td><td>RL</td><td>14115</td><td>IR1</td><td>Lvl</td><td>Inside</td><td>Mitchel</td><td>1Fam</td><td>1.5Fin</td><td>1993</td><td>796</td><td>118.8066</td><td>28.21347</td></tr>\n",
       "</tbody>\n",
       "</table>\n"
      ],
      "text/latex": [
       "\\begin{tabular}{r|llllllllllllll}\n",
       "  & LotFrontage & MSSubClass & MSZoning & LotArea & LotShape & LandContour & LotConfig & Neighborhood & BldgType & HouseStyle & YearBuilt & X1stFlrSF & LotAreaSqrt & X1stFlrSFSqrt\\\\\n",
       "\\hline\n",
       "\t1 & 65 & 60 & RL & 8450 & Reg & Lvl & Inside & CollgCr & 1Fam & 2Story & 2003 & 856 & 91.92388 & 29.25748\\\\\n",
       "\t2 & 80 & 20 & RL & 9600 & Reg & Lvl & FR2 & Veenker & 1Fam & 1Story & 1976 & 1262 & 97.97959 & 35.52464\\\\\n",
       "\t3 & 68 & 60 & RL & 11250 & IR1 & Lvl & Inside & CollgCr & 1Fam & 2Story & 2001 & 920 & 106.066 & 30.3315\\\\\n",
       "\t4 & 60 & 70 & RL & 9550 & IR1 & Lvl & Corner & Crawfor & 1Fam & 2Story & 1915 & 961 & 97.7241 & 31\\\\\n",
       "\t5 & 84 & 60 & RL & 14260 & IR1 & Lvl & FR2 & NoRidge & 1Fam & 2Story & 2000 & 1145 & 119.4152 & 33.83785\\\\\n",
       "\t6 & 85 & 50 & RL & 14115 & IR1 & Lvl & Inside & Mitchel & 1Fam & 1.5Fin & 1993 & 796 & 118.8066 & 28.21347\\\\\n",
       "\\end{tabular}\n"
      ],
      "text/plain": [
       "# A tibble: 6 × 14\n",
       "  LotFrontage MSSubClass MSZoning LotArea LotShape LandContour LotConfig\n",
       "        <int>      <int>    <chr>   <int>    <chr>       <chr>     <chr>\n",
       "1          65         60       RL    8450      Reg         Lvl    Inside\n",
       "2          80         20       RL    9600      Reg         Lvl       FR2\n",
       "3          68         60       RL   11250      IR1         Lvl    Inside\n",
       "4          60         70       RL    9550      IR1         Lvl    Corner\n",
       "5          84         60       RL   14260      IR1         Lvl       FR2\n",
       "6          85         50       RL   14115      IR1         Lvl    Inside\n",
       "# ... with 7 more variables: Neighborhood <chr>, BldgType <chr>,\n",
       "#   HouseStyle <chr>, YearBuilt <int>, X1stFlrSF <int>, LotAreaSqrt <dbl>,\n",
       "#   X1stFlrSFSqrt <dbl>"
      ]
     },
     "execution_count": 8,
     "metadata": {},
     "output_type": "execute_result"
    }
   ],
   "source": [
    "df.lot.frontage = df.combined %>% filter(!is.na(LotFrontage)) %>%\n",
    "select(LotFrontage, MSSubClass, MSZoning, LotArea, LotShape, LandContour, LotConfig, \n",
    "       Neighborhood, BldgType, HouseStyle, YearBuilt, X1stFlrSF) %>% na.omit() %>%\n",
    "mutate(LotAreaSqrt=sqrt(LotArea), X1stFlrSFSqrt=sqrt(X1stFlrSF))\n",
    "head(df.lot.frontage)"
   ]
  },
  {
   "cell_type": "markdown",
   "metadata": {},
   "source": [
    "* LotFrontage - Linear feet of street connected to property\n",
    "* LotArea - Lot size in square feet\n",
    "* X1stFlrSF - First Floor square feet\n",
    "* MSSubClass - Identifies the type of dwelling involved in the sale\n",
    "* MSZoning - Identifies the general zoning classification of the sale\n",
    "* LotShape - General shape of property \n",
    "* LandContour - Flatness of the property\n",
    "* LotConfig - Lot configuration \n",
    "* Neighborhood - Physical locations within Ames city limits\n",
    "* BldgType - Type of dwelling \n",
    "* HouseStyle - Style of dwelling \n",
    "* YearBuilt - Original construction date"
   ]
  },
  {
   "cell_type": "code",
   "execution_count": 9,
   "metadata": {
    "collapsed": false
   },
   "outputs": [
    {
     "data": {
      "text/html": [
       "0.237724571118515"
      ],
      "text/latex": [
       "0.237724571118515"
      ],
      "text/markdown": [
       "0.237724571118515"
      ],
      "text/plain": [
       "[1] 0.2377246"
      ]
     },
     "execution_count": 9,
     "metadata": {},
     "output_type": "execute_result"
    }
   ],
   "source": [
    "model.lm <- lm(LotFrontage ~ LotArea, data = df.lot.frontage)\n",
    "summary(model.lm)$r.squared"
   ]
  },
  {
   "cell_type": "code",
   "execution_count": 10,
   "metadata": {
    "collapsed": false
   },
   "outputs": [
    {
     "data": {
      "text/html": [
       "0.417415144745822"
      ],
      "text/latex": [
       "0.417415144745822"
      ],
      "text/markdown": [
       "0.417415144745822"
      ],
      "text/plain": [
       "[1] 0.4174151"
      ]
     },
     "execution_count": 10,
     "metadata": {},
     "output_type": "execute_result"
    }
   ],
   "source": [
    "model.lm <- lm(LotFrontage ~ LotAreaSqrt, data = df.lot.frontage)\n",
    "summary(model.lm)$r.squared"
   ]
  },
  {
   "cell_type": "code",
   "execution_count": 11,
   "metadata": {
    "collapsed": false
   },
   "outputs": [
    {
     "data": {
      "text/html": [
       "0.210749413602866"
      ],
      "text/latex": [
       "0.210749413602866"
      ],
      "text/markdown": [
       "0.210749413602866"
      ],
      "text/plain": [
       "[1] 0.2107494"
      ]
     },
     "execution_count": 11,
     "metadata": {},
     "output_type": "execute_result"
    }
   ],
   "source": [
    "model.lm <- lm(LotFrontage ~ X1stFlrSF, data = df.lot.frontage)\n",
    "summary(model.lm)$r.squared"
   ]
  },
  {
   "cell_type": "code",
   "execution_count": 12,
   "metadata": {
    "collapsed": false
   },
   "outputs": [
    {
     "data": {
      "text/html": [
       "0.212603514385434"
      ],
      "text/latex": [
       "0.212603514385434"
      ],
      "text/markdown": [
       "0.212603514385434"
      ],
      "text/plain": [
       "[1] 0.2126035"
      ]
     },
     "execution_count": 12,
     "metadata": {},
     "output_type": "execute_result"
    }
   ],
   "source": [
    "model.lm <- lm(LotFrontage ~ X1stFlrSFSqrt, data = df.lot.frontage)\n",
    "summary(model.lm)$r.squared"
   ]
  },
  {
   "cell_type": "code",
   "execution_count": null,
   "metadata": {
    "collapsed": true
   },
   "outputs": [],
   "source": [
    "model.lm <- lm(LotFrontage ~ MSSubClass, data = df.lot.frontage)\n",
    "summary(model.lm)$r.squared"
   ]
  },
  {
   "cell_type": "code",
   "execution_count": null,
   "metadata": {
    "collapsed": true
   },
   "outputs": [],
   "source": [
    "model.lm <- lm(LotFrontage ~ MSZoning, data = df.lot.frontage)\n",
    "summary(model.lm)$r.squared"
   ]
  },
  {
   "cell_type": "code",
   "execution_count": null,
   "metadata": {
    "collapsed": true
   },
   "outputs": [],
   "source": [
    "model.lm <- lm(LotFrontage ~ LotShape, data = df.lot.frontage)\n",
    "summary(model.lm)$r.squared"
   ]
  },
  {
   "cell_type": "code",
   "execution_count": null,
   "metadata": {
    "collapsed": true
   },
   "outputs": [],
   "source": [
    "model.lm <- lm(LotFrontage ~ LandContour, data = df.lot.frontage)\n",
    "summary(model.lm)$r.squared"
   ]
  },
  {
   "cell_type": "code",
   "execution_count": null,
   "metadata": {
    "collapsed": true
   },
   "outputs": [],
   "source": [
    "model.lm <- lm(LotFrontage ~ X1stFlrSFSqrt, data = df.lot.frontage)\n",
    "summary(model.lm)$r.squared"
   ]
  },
  {
   "cell_type": "code",
   "execution_count": null,
   "metadata": {
    "collapsed": true
   },
   "outputs": [],
   "source": [
    "model.lm <- lm(LotFrontage ~ X1stFlrSFSqrt, data = df.lot.frontage)\n",
    "summary(model.lm)$r.squared"
   ]
  },
  {
   "cell_type": "code",
   "execution_count": null,
   "metadata": {
    "collapsed": true
   },
   "outputs": [],
   "source": []
  },
  {
   "cell_type": "code",
   "execution_count": null,
   "metadata": {
    "collapsed": true
   },
   "outputs": [],
   "source": []
  },
  {
   "cell_type": "code",
   "execution_count": null,
   "metadata": {
    "collapsed": true
   },
   "outputs": [],
   "source": []
  },
  {
   "cell_type": "code",
   "execution_count": null,
   "metadata": {
    "collapsed": true
   },
   "outputs": [],
   "source": []
  },
  {
   "cell_type": "code",
   "execution_count": null,
   "metadata": {
    "collapsed": true
   },
   "outputs": [],
   "source": []
  },
  {
   "cell_type": "code",
   "execution_count": null,
   "metadata": {
    "collapsed": true
   },
   "outputs": [],
   "source": []
  },
  {
   "cell_type": "code",
   "execution_count": null,
   "metadata": {
    "collapsed": true
   },
   "outputs": [],
   "source": []
  },
  {
   "cell_type": "code",
   "execution_count": null,
   "metadata": {
    "collapsed": true
   },
   "outputs": [],
   "source": []
  },
  {
   "cell_type": "code",
   "execution_count": null,
   "metadata": {
    "collapsed": true
   },
   "outputs": [],
   "source": []
  },
  {
   "cell_type": "code",
   "execution_count": null,
   "metadata": {
    "collapsed": true
   },
   "outputs": [],
   "source": []
  },
  {
   "cell_type": "code",
   "execution_count": null,
   "metadata": {
    "collapsed": true
   },
   "outputs": [],
   "source": []
  }
 ],
 "metadata": {
  "kernelspec": {
   "display_name": "R",
   "language": "R",
   "name": "ir"
  },
  "language_info": {
   "codemirror_mode": "r",
   "file_extension": ".r",
   "mimetype": "text/x-r-source",
   "name": "R",
   "pygments_lexer": "r",
   "version": "3.2.2"
  }
 },
 "nbformat": 4,
 "nbformat_minor": 0
}
