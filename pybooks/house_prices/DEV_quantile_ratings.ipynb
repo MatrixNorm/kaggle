{
 "cells": [
  {
   "cell_type": "code",
   "execution_count": 115,
   "metadata": {},
   "outputs": [
    {
     "name": "stdout",
     "output_type": "stream",
     "text": [
      "The rpy2.ipython extension is already loaded. To reload it, use:\n",
      "  %reload_ext rpy2.ipython\n"
     ]
    }
   ],
   "source": [
    "from IPython.core.interactiveshell import InteractiveShell\n",
    "InteractiveShell.ast_node_interactivity = \"all\"\n",
    "\n",
    "%load_ext rpy2.ipython"
   ]
  },
  {
   "cell_type": "code",
   "execution_count": 116,
   "metadata": {},
   "outputs": [
    {
     "data": {
      "text/plain": [
       "(2917, 81)"
      ]
     },
     "execution_count": 116,
     "metadata": {},
     "output_type": "execute_result"
    }
   ],
   "source": [
    "import numpy as np\n",
    "import pandas as pd\n",
    "\n",
    "from statsmodels.distributions.empirical_distribution import ECDF\n",
    "\n",
    "from kaggle.house_prices import helpers\n",
    "from kaggle.house_prices import missing\n",
    "from kaggle.house_prices import outliers\n",
    "\n",
    "combined_dataset = helpers.load_data()\n",
    "combined_dataset = missing.fix_all(combined_dataset)\n",
    "combined_dataset = outliers.remove_outliers(combined_dataset)\n",
    "combined_dataset['price_log'] = np.log(combined_dataset['SalePrice'])\n",
    "combined_dataset = combined_dataset.drop(['SalePrice', 'Id'], axis=1)\n",
    "combined_dataset.shape"
   ]
  },
  {
   "cell_type": "code",
   "execution_count": 37,
   "metadata": {},
   "outputs": [
    {
     "data": {
      "text/plain": [
       "0.25    11.774713\n",
       "0.50    12.001505\n",
       "0.75    12.273731\n",
       "Name: price_log, dtype: float64"
      ]
     },
     "execution_count": 37,
     "metadata": {},
     "output_type": "execute_result"
    }
   ],
   "source": [
    "def calc_quantiles(sample, probs=None):\n",
    "    if probs is None:\n",
    "        probs = [.25, .5, .75]\n",
    "    return (\n",
    "        sample\n",
    "        .dropna()\n",
    "        .quantile(probs)\n",
    "    )\n",
    "\n",
    "calc_quantiles(combined_dataset['price_log'])"
   ]
  },
  {
   "cell_type": "code",
   "execution_count": 110,
   "metadata": {},
   "outputs": [
    {
     "data": {
      "text/plain": [
       "0.25    11.770372\n",
       "0.50    11.943082\n",
       "0.75    12.244089\n",
       "Name: price_log, dtype: float64"
      ]
     },
     "execution_count": 110,
     "metadata": {},
     "output_type": "execute_result"
    },
    {
     "data": {
      "text/plain": [
       "2.5816186556927296"
      ]
     },
     "execution_count": 110,
     "metadata": {},
     "output_type": "execute_result"
    }
   ],
   "source": [
    "def calc_rating_for_sample(sample, rating_quantiles):\n",
    "    sample = sample.dropna()\n",
    "    cdf = ECDF(sample)\n",
    "    cdf_points = [0] + [cdf(q) for q in rating_quantiles.tolist()] + [1]\n",
    "    probs = [pair[0] - pair[1] for pair in zip(cdf_points[1:], cdf_points[:-1])]\n",
    "    rating = sum((i+1)*p for i, p in enumerate(probs))\n",
    "    return rating\n",
    "\n",
    "quantiles = calc_quantiles(combined_dataset['price_log'].dropna().head(100))\n",
    "quantiles\n",
    "\n",
    "calc_rating_for_sample(combined_dataset['price_log'], quantiles)"
   ]
  },
  {
   "cell_type": "code",
   "execution_count": 117,
   "metadata": {},
   "outputs": [
    {
     "data": {
      "text/html": [
       "<div>\n",
       "<style scoped>\n",
       "    .dataframe tbody tr th:only-of-type {\n",
       "        vertical-align: middle;\n",
       "    }\n",
       "\n",
       "    .dataframe tbody tr th {\n",
       "        vertical-align: top;\n",
       "    }\n",
       "\n",
       "    .dataframe thead th {\n",
       "        text-align: right;\n",
       "    }\n",
       "</style>\n",
       "<table border=\"1\" class=\"dataframe\">\n",
       "  <thead>\n",
       "    <tr style=\"text-align: right;\">\n",
       "      <th></th>\n",
       "      <th>var</th>\n",
       "      <th>value</th>\n",
       "      <th>rating</th>\n",
       "    </tr>\n",
       "  </thead>\n",
       "  <tbody>\n",
       "    <tr>\n",
       "      <th>0</th>\n",
       "      <td>Alley</td>\n",
       "      <td>Grvl</td>\n",
       "      <td>1.500000</td>\n",
       "    </tr>\n",
       "    <tr>\n",
       "      <th>1</th>\n",
       "      <td>Alley</td>\n",
       "      <td>Pave</td>\n",
       "      <td>2.536585</td>\n",
       "    </tr>\n",
       "    <tr>\n",
       "      <th>2</th>\n",
       "      <td>Alley</td>\n",
       "      <td>_none_</td>\n",
       "      <td>2.531822</td>\n",
       "    </tr>\n",
       "    <tr>\n",
       "      <th>3</th>\n",
       "      <td>BldgType</td>\n",
       "      <td>1Fam</td>\n",
       "      <td>2.564039</td>\n",
       "    </tr>\n",
       "    <tr>\n",
       "      <th>4</th>\n",
       "      <td>BldgType</td>\n",
       "      <td>2fmCon</td>\n",
       "      <td>1.580645</td>\n",
       "    </tr>\n",
       "    <tr>\n",
       "      <th>5</th>\n",
       "      <td>BldgType</td>\n",
       "      <td>Duplex</td>\n",
       "      <td>1.692308</td>\n",
       "    </tr>\n",
       "    <tr>\n",
       "      <th>6</th>\n",
       "      <td>BldgType</td>\n",
       "      <td>Twnhs</td>\n",
       "      <td>1.883721</td>\n",
       "    </tr>\n",
       "    <tr>\n",
       "      <th>7</th>\n",
       "      <td>BldgType</td>\n",
       "      <td>TwnhsE</td>\n",
       "      <td>2.622807</td>\n",
       "    </tr>\n",
       "  </tbody>\n",
       "</table>\n",
       "</div>"
      ],
      "text/plain": [
       "        var   value    rating\n",
       "0     Alley    Grvl  1.500000\n",
       "1     Alley    Pave  2.536585\n",
       "2     Alley  _none_  2.531822\n",
       "3  BldgType    1Fam  2.564039\n",
       "4  BldgType  2fmCon  1.580645\n",
       "5  BldgType  Duplex  1.692308\n",
       "6  BldgType   Twnhs  1.883721\n",
       "7  BldgType  TwnhsE  2.622807"
      ]
     },
     "execution_count": 117,
     "metadata": {},
     "output_type": "execute_result"
    }
   ],
   "source": [
    "def calc_rating_for_groups(df):\n",
    "    \"\"\" XXX \"\"\"\n",
    "    global_quantiles = calc_quantiles(df['price_log'])\n",
    "    df = (\n",
    "        df[['Alley', 'BldgType', 'price_log']]\n",
    "        .dropna(subset=['price_log'])\n",
    "    )\n",
    "    return (\n",
    "        pd.melt(\n",
    "            frame=df,\n",
    "            id_vars=['price_log'],\n",
    "            var_name='var', \n",
    "            value_name='value'\n",
    "        )\n",
    "        .groupby(['var', 'value'])\n",
    "        .apply(\n",
    "            lambda df: calc_rating_for_sample(df['price_log'], global_quantiles)\n",
    "        )\n",
    "        .to_frame('rating')\n",
    "        .reset_index()\n",
    "    )\n",
    "\n",
    "x = calc_rating_for_groups(combined_dataset)\n",
    "x"
   ]
  },
  {
   "cell_type": "code",
   "execution_count": 124,
   "metadata": {},
   "outputs": [
    {
     "data": {
      "text/html": [
       "<div>\n",
       "<style scoped>\n",
       "    .dataframe tbody tr th:only-of-type {\n",
       "        vertical-align: middle;\n",
       "    }\n",
       "\n",
       "    .dataframe tbody tr th {\n",
       "        vertical-align: top;\n",
       "    }\n",
       "\n",
       "    .dataframe thead th {\n",
       "        text-align: right;\n",
       "    }\n",
       "</style>\n",
       "<table border=\"1\" class=\"dataframe\">\n",
       "  <thead>\n",
       "    <tr style=\"text-align: right;\">\n",
       "      <th></th>\n",
       "      <th>Alley</th>\n",
       "      <th>BldgType</th>\n",
       "      <th>BsmtCond</th>\n",
       "      <th>BsmtExposure</th>\n",
       "      <th>BsmtFinType1</th>\n",
       "      <th>BsmtFinType2</th>\n",
       "      <th>BsmtQual</th>\n",
       "      <th>CentralAir</th>\n",
       "      <th>Condition1</th>\n",
       "      <th>Condition2</th>\n",
       "      <th>...</th>\n",
       "      <th>Neighborhood</th>\n",
       "      <th>PavedDrive</th>\n",
       "      <th>PoolQC</th>\n",
       "      <th>RoofMatl</th>\n",
       "      <th>RoofStyle</th>\n",
       "      <th>SaleCondition</th>\n",
       "      <th>SaleType</th>\n",
       "      <th>Street</th>\n",
       "      <th>Utilities</th>\n",
       "      <th>dataSource</th>\n",
       "    </tr>\n",
       "  </thead>\n",
       "  <tbody>\n",
       "    <tr>\n",
       "      <th>0</th>\n",
       "      <td>_none_</td>\n",
       "      <td>1Fam</td>\n",
       "      <td>TA</td>\n",
       "      <td>No</td>\n",
       "      <td>GLQ</td>\n",
       "      <td>Unf</td>\n",
       "      <td>Gd</td>\n",
       "      <td>Y</td>\n",
       "      <td>Norm</td>\n",
       "      <td>Norm</td>\n",
       "      <td>...</td>\n",
       "      <td>CollgCr</td>\n",
       "      <td>Y</td>\n",
       "      <td>_none_</td>\n",
       "      <td>CompShg</td>\n",
       "      <td>Gable</td>\n",
       "      <td>Normal</td>\n",
       "      <td>WD</td>\n",
       "      <td>Pave</td>\n",
       "      <td>AllPub</td>\n",
       "      <td>train</td>\n",
       "    </tr>\n",
       "    <tr>\n",
       "      <th>1</th>\n",
       "      <td>_none_</td>\n",
       "      <td>1Fam</td>\n",
       "      <td>TA</td>\n",
       "      <td>Gd</td>\n",
       "      <td>ALQ</td>\n",
       "      <td>Unf</td>\n",
       "      <td>Gd</td>\n",
       "      <td>Y</td>\n",
       "      <td>Feedr</td>\n",
       "      <td>Norm</td>\n",
       "      <td>...</td>\n",
       "      <td>Veenker</td>\n",
       "      <td>Y</td>\n",
       "      <td>_none_</td>\n",
       "      <td>CompShg</td>\n",
       "      <td>Gable</td>\n",
       "      <td>Normal</td>\n",
       "      <td>WD</td>\n",
       "      <td>Pave</td>\n",
       "      <td>AllPub</td>\n",
       "      <td>train</td>\n",
       "    </tr>\n",
       "  </tbody>\n",
       "</table>\n",
       "<p>2 rows × 46 columns</p>\n",
       "</div>"
      ],
      "text/plain": [
       "    Alley BldgType BsmtCond BsmtExposure BsmtFinType1 BsmtFinType2 BsmtQual  \\\n",
       "0  _none_     1Fam       TA           No          GLQ          Unf       Gd   \n",
       "1  _none_     1Fam       TA           Gd          ALQ          Unf       Gd   \n",
       "\n",
       "  CentralAir Condition1 Condition2    ...     Neighborhood PavedDrive  PoolQC  \\\n",
       "0          Y       Norm       Norm    ...          CollgCr          Y  _none_   \n",
       "1          Y      Feedr       Norm    ...          Veenker          Y  _none_   \n",
       "\n",
       "  RoofMatl RoofStyle SaleCondition SaleType Street Utilities dataSource  \n",
       "0  CompShg     Gable        Normal       WD   Pave    AllPub      train  \n",
       "1  CompShg     Gable        Normal       WD   Pave    AllPub      train  \n",
       "\n",
       "[2 rows x 46 columns]"
      ]
     },
     "execution_count": 124,
     "metadata": {},
     "output_type": "execute_result"
    },
    {
     "data": {
      "text/plain": [
       "['Alley',\n",
       " 'BldgType',\n",
       " 'BsmtCond',\n",
       " 'BsmtExposure',\n",
       " 'BsmtFinType1',\n",
       " 'BsmtFinType2',\n",
       " 'BsmtQual',\n",
       " 'CentralAir',\n",
       " 'Condition1',\n",
       " 'Condition2',\n",
       " 'Electrical',\n",
       " 'ExterCond',\n",
       " 'ExterQual',\n",
       " 'Exterior1st',\n",
       " 'Exterior2nd',\n",
       " 'Fence',\n",
       " 'FireplaceQu',\n",
       " 'Foundation',\n",
       " 'Functional',\n",
       " 'GarageCond',\n",
       " 'GarageFinish',\n",
       " 'GarageQual',\n",
       " 'GarageType',\n",
       " 'Heating',\n",
       " 'HeatingQC',\n",
       " 'HouseStyle',\n",
       " 'KitchenQual',\n",
       " 'LandContour',\n",
       " 'LandSlope',\n",
       " 'LotConfig',\n",
       " 'LotShape',\n",
       " 'MSSubClass',\n",
       " 'MSZoning',\n",
       " 'MasVnrType',\n",
       " 'MiscFeature',\n",
       " 'MoSold',\n",
       " 'Neighborhood',\n",
       " 'PavedDrive',\n",
       " 'PoolQC',\n",
       " 'RoofMatl',\n",
       " 'RoofStyle',\n",
       " 'SaleCondition',\n",
       " 'SaleType',\n",
       " 'Street',\n",
       " 'Utilities',\n",
       " 'dataSource']"
      ]
     },
     "execution_count": 124,
     "metadata": {},
     "output_type": "execute_result"
    }
   ],
   "source": [
    "# get character columns\n",
    "combined_dataset.select_dtypes(include=['object']).head(2)\n",
    "\n",
    "[col[1].name for col in combined_dataset.items() if col[1].dtype.kind == 'O']"
   ]
  },
  {
   "cell_type": "code",
   "execution_count": null,
   "metadata": {
    "collapsed": true
   },
   "outputs": [],
   "source": []
  },
  {
   "cell_type": "code",
   "execution_count": null,
   "metadata": {
    "collapsed": true
   },
   "outputs": [],
   "source": []
  },
  {
   "cell_type": "code",
   "execution_count": null,
   "metadata": {
    "collapsed": true
   },
   "outputs": [],
   "source": []
  },
  {
   "cell_type": "code",
   "execution_count": null,
   "metadata": {
    "collapsed": true
   },
   "outputs": [],
   "source": []
  },
  {
   "cell_type": "code",
   "execution_count": null,
   "metadata": {
    "collapsed": true
   },
   "outputs": [],
   "source": []
  },
  {
   "cell_type": "code",
   "execution_count": null,
   "metadata": {
    "collapsed": true
   },
   "outputs": [],
   "source": []
  },
  {
   "cell_type": "code",
   "execution_count": null,
   "metadata": {
    "collapsed": true
   },
   "outputs": [],
   "source": []
  },
  {
   "cell_type": "code",
   "execution_count": null,
   "metadata": {
    "collapsed": true
   },
   "outputs": [],
   "source": []
  },
  {
   "cell_type": "code",
   "execution_count": null,
   "metadata": {
    "collapsed": true
   },
   "outputs": [],
   "source": []
  }
 ],
 "metadata": {
  "kernelspec": {
   "display_name": "Python 3",
   "language": "python",
   "name": "python3"
  },
  "language_info": {
   "codemirror_mode": {
    "name": "ipython",
    "version": 3
   },
   "file_extension": ".py",
   "mimetype": "text/x-python",
   "name": "python",
   "nbconvert_exporter": "python",
   "pygments_lexer": "ipython3",
   "version": "3.6.3"
  }
 },
 "nbformat": 4,
 "nbformat_minor": 2
}
