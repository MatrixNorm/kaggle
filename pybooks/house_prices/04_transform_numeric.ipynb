{
 "cells": [
  {
   "cell_type": "code",
   "execution_count": 1,
   "metadata": {
    "collapsed": true
   },
   "outputs": [],
   "source": [
    "from IPython.core.interactiveshell import InteractiveShell\n",
    "InteractiveShell.ast_node_interactivity = \"all\"\n",
    "\n",
    "%reload_ext rpy2.ipython"
   ]
  },
  {
   "cell_type": "code",
   "execution_count": 32,
   "metadata": {},
   "outputs": [
    {
     "data": {
      "text/plain": [
       "(2917, 81)"
      ]
     },
     "execution_count": 32,
     "metadata": {},
     "output_type": "execute_result"
    }
   ],
   "source": [
    "import numpy as np\n",
    "import pandas as pd\n",
    "import scipy.stats as stats\n",
    "\n",
    "from kaggle.house_prices import helpers\n",
    "from kaggle.house_prices import missing\n",
    "from kaggle.house_prices import outliers\n",
    "from kaggle.house_prices import transform_numeric as TN\n",
    "from kaggle.house_prices import api\n",
    "\n",
    "combined_dataset = helpers.load_data()\n",
    "combined_dataset = missing.fix_all(combined_dataset)\n",
    "combined_dataset = outliers.remove_outliers(combined_dataset)\n",
    "combined_dataset = (\n",
    "    combined_dataset\n",
    "    .assign(\n",
    "        price_log=lambda df: np.log(df['SalePrice'])\n",
    "    )\n",
    "    .drop(columns=['Id', 'SalePrice'])\n",
    ")\n",
    "\n",
    "combined_dataset.shape"
   ]
  },
  {
   "cell_type": "code",
   "execution_count": 33,
   "metadata": {},
   "outputs": [
    {
     "data": {
      "text/html": [
       "<div>\n",
       "<style scoped>\n",
       "    .dataframe tbody tr th:only-of-type {\n",
       "        vertical-align: middle;\n",
       "    }\n",
       "\n",
       "    .dataframe tbody tr th {\n",
       "        vertical-align: top;\n",
       "    }\n",
       "\n",
       "    .dataframe thead th {\n",
       "        text-align: right;\n",
       "    }\n",
       "</style>\n",
       "<table border=\"1\" class=\"dataframe\">\n",
       "  <thead>\n",
       "    <tr style=\"text-align: right;\">\n",
       "      <th></th>\n",
       "      <th>var</th>\n",
       "      <th>progress_score</th>\n",
       "      <th>tran</th>\n",
       "      <th>tran_fn</th>\n",
       "    </tr>\n",
       "  </thead>\n",
       "  <tbody>\n",
       "    <tr>\n",
       "      <th>0</th>\n",
       "      <td>GrLivArea</td>\n",
       "      <td>91.157942</td>\n",
       "      <td>log</td>\n",
       "      <td>&lt;function &lt;lambda&gt; at 0x7f6cc9a3f9d8&gt;</td>\n",
       "    </tr>\n",
       "    <tr>\n",
       "      <th>1</th>\n",
       "      <td>X1stFlrSF</td>\n",
       "      <td>90.771657</td>\n",
       "      <td>log</td>\n",
       "      <td>&lt;function &lt;lambda&gt; at 0x7f6cc9a3f9d8&gt;</td>\n",
       "    </tr>\n",
       "    <tr>\n",
       "      <th>2</th>\n",
       "      <td>BsmtUnfSF</td>\n",
       "      <td>79.976031</td>\n",
       "      <td>sqrt</td>\n",
       "      <td>&lt;function &lt;lambda&gt; at 0x7f6cc9a3f488&gt;</td>\n",
       "    </tr>\n",
       "    <tr>\n",
       "      <th>3</th>\n",
       "      <td>LotArea</td>\n",
       "      <td>78.864026</td>\n",
       "      <td>inv4</td>\n",
       "      <td>&lt;function &lt;lambda&gt; at 0x7f6cc9a3f8c8&gt;</td>\n",
       "    </tr>\n",
       "    <tr>\n",
       "      <th>4</th>\n",
       "      <td>TotRmsAbvGrd</td>\n",
       "      <td>30.685015</td>\n",
       "      <td>log</td>\n",
       "      <td>&lt;function &lt;lambda&gt; at 0x7f6cc9a3f9d8&gt;</td>\n",
       "    </tr>\n",
       "    <tr>\n",
       "      <th>5</th>\n",
       "      <td>OverallQual</td>\n",
       "      <td>29.944357</td>\n",
       "      <td>log</td>\n",
       "      <td>&lt;function &lt;lambda&gt; at 0x7f6cc9a3f9d8&gt;</td>\n",
       "    </tr>\n",
       "    <tr>\n",
       "      <th>6</th>\n",
       "      <td>GarageCars</td>\n",
       "      <td>24.956765</td>\n",
       "      <td>log</td>\n",
       "      <td>&lt;function &lt;lambda&gt; at 0x7f6cc9a3f9d8&gt;</td>\n",
       "    </tr>\n",
       "    <tr>\n",
       "      <th>7</th>\n",
       "      <td>BedroomAbvGr</td>\n",
       "      <td>22.375086</td>\n",
       "      <td>log</td>\n",
       "      <td>&lt;function &lt;lambda&gt; at 0x7f6cc9a3f9d8&gt;</td>\n",
       "    </tr>\n",
       "    <tr>\n",
       "      <th>8</th>\n",
       "      <td>OverallCond</td>\n",
       "      <td>16.247239</td>\n",
       "      <td>log</td>\n",
       "      <td>&lt;function &lt;lambda&gt; at 0x7f6cc9a3f9d8&gt;</td>\n",
       "    </tr>\n",
       "    <tr>\n",
       "      <th>9</th>\n",
       "      <td>FullBath</td>\n",
       "      <td>12.073778</td>\n",
       "      <td>inv4</td>\n",
       "      <td>&lt;function &lt;lambda&gt; at 0x7f6cc9a3f8c8&gt;</td>\n",
       "    </tr>\n",
       "    <tr>\n",
       "      <th>10</th>\n",
       "      <td>KitchenAbvGr</td>\n",
       "      <td>8.608750</td>\n",
       "      <td>inv4</td>\n",
       "      <td>&lt;function &lt;lambda&gt; at 0x7f6cc9a3f8c8&gt;</td>\n",
       "    </tr>\n",
       "    <tr>\n",
       "      <th>11</th>\n",
       "      <td>Fireplaces</td>\n",
       "      <td>3.801495</td>\n",
       "      <td>inv4</td>\n",
       "      <td>&lt;function &lt;lambda&gt; at 0x7f6cc9a3f8c8&gt;</td>\n",
       "    </tr>\n",
       "    <tr>\n",
       "      <th>12</th>\n",
       "      <td>YrSold</td>\n",
       "      <td>0.055614</td>\n",
       "      <td>log</td>\n",
       "      <td>&lt;function &lt;lambda&gt; at 0x7f6cc9a3f9d8&gt;</td>\n",
       "    </tr>\n",
       "  </tbody>\n",
       "</table>\n",
       "</div>"
      ],
      "text/plain": [
       "             var  progress_score  tran                                tran_fn\n",
       "0      GrLivArea       91.157942   log  <function <lambda> at 0x7f6cc9a3f9d8>\n",
       "1      X1stFlrSF       90.771657   log  <function <lambda> at 0x7f6cc9a3f9d8>\n",
       "2      BsmtUnfSF       79.976031  sqrt  <function <lambda> at 0x7f6cc9a3f488>\n",
       "3        LotArea       78.864026  inv4  <function <lambda> at 0x7f6cc9a3f8c8>\n",
       "4   TotRmsAbvGrd       30.685015   log  <function <lambda> at 0x7f6cc9a3f9d8>\n",
       "5    OverallQual       29.944357   log  <function <lambda> at 0x7f6cc9a3f9d8>\n",
       "6     GarageCars       24.956765   log  <function <lambda> at 0x7f6cc9a3f9d8>\n",
       "7   BedroomAbvGr       22.375086   log  <function <lambda> at 0x7f6cc9a3f9d8>\n",
       "8    OverallCond       16.247239   log  <function <lambda> at 0x7f6cc9a3f9d8>\n",
       "9       FullBath       12.073778  inv4  <function <lambda> at 0x7f6cc9a3f8c8>\n",
       "10  KitchenAbvGr        8.608750  inv4  <function <lambda> at 0x7f6cc9a3f8c8>\n",
       "11    Fireplaces        3.801495  inv4  <function <lambda> at 0x7f6cc9a3f8c8>\n",
       "12        YrSold        0.055614   log  <function <lambda> at 0x7f6cc9a3f9d8>"
      ]
     },
     "execution_count": 33,
     "metadata": {},
     "output_type": "execute_result"
    }
   ],
   "source": [
    "Trans = {\n",
    "    'log':  lambda x: np.log(x + 1),\n",
    "    'sqrt': lambda x: np.sqrt(x),\n",
    "    'inv3': lambda x: x**(1/3),\n",
    "    'inv4': lambda x: x**(1/4)\n",
    "}\n",
    "\n",
    "trans_config = TN.get_transformation_config(\n",
    "    df=(\n",
    "        combined_dataset\n",
    "        .select_dtypes(include=[np.number])\n",
    "        .drop(columns=['price_log'])\n",
    "    ),\n",
    "    trans=Trans\n",
    ")\n",
    "\n",
    "\n",
    "trans_config2 = TN.get_transformation_config(\n",
    "    df=(\n",
    "        combined_dataset\n",
    "        .drop(columns=['price_log'])\n",
    "    ),\n",
    "    trans=Trans\n",
    ")\n",
    "\n",
    "pd.testing.assert_frame_equal(\n",
    "    trans_config.sort_index(axis=1), \n",
    "    trans_config2.sort_index(axis=1)\n",
    ")\n",
    "\n",
    "trans_config"
   ]
  },
  {
   "cell_type": "code",
   "execution_count": 34,
   "metadata": {},
   "outputs": [
    {
     "data": {
      "text/html": [
       "<div>\n",
       "<style scoped>\n",
       "    .dataframe tbody tr th:only-of-type {\n",
       "        vertical-align: middle;\n",
       "    }\n",
       "\n",
       "    .dataframe tbody tr th {\n",
       "        vertical-align: top;\n",
       "    }\n",
       "\n",
       "    .dataframe thead th {\n",
       "        text-align: right;\n",
       "    }\n",
       "</style>\n",
       "<table border=\"1\" class=\"dataframe\">\n",
       "  <thead>\n",
       "    <tr style=\"text-align: right;\">\n",
       "      <th></th>\n",
       "      <th>var</th>\n",
       "      <th>progress_score</th>\n",
       "      <th>tran</th>\n",
       "      <th>tran_fn</th>\n",
       "      <th>r2_x</th>\n",
       "      <th>r2_tran</th>\n",
       "    </tr>\n",
       "  </thead>\n",
       "  <tbody>\n",
       "    <tr>\n",
       "      <th>0</th>\n",
       "      <td>GrLivArea</td>\n",
       "      <td>91.157942</td>\n",
       "      <td>log</td>\n",
       "      <td>&lt;function &lt;lambda&gt; at 0x7f6cc9a3f9d8&gt;</td>\n",
       "      <td>0.525931</td>\n",
       "      <td>0.543804</td>\n",
       "    </tr>\n",
       "    <tr>\n",
       "      <th>3</th>\n",
       "      <td>LotArea</td>\n",
       "      <td>78.864026</td>\n",
       "      <td>inv4</td>\n",
       "      <td>&lt;function &lt;lambda&gt; at 0x7f6cc9a3f8c8&gt;</td>\n",
       "      <td>0.067883</td>\n",
       "      <td>0.159187</td>\n",
       "    </tr>\n",
       "    <tr>\n",
       "      <th>4</th>\n",
       "      <td>TotRmsAbvGrd</td>\n",
       "      <td>30.685015</td>\n",
       "      <td>log</td>\n",
       "      <td>&lt;function &lt;lambda&gt; at 0x7f6cc9a3f9d8&gt;</td>\n",
       "      <td>0.289123</td>\n",
       "      <td>0.293868</td>\n",
       "    </tr>\n",
       "    <tr>\n",
       "      <th>11</th>\n",
       "      <td>Fireplaces</td>\n",
       "      <td>3.801495</td>\n",
       "      <td>inv4</td>\n",
       "      <td>&lt;function &lt;lambda&gt; at 0x7f6cc9a3f8c8&gt;</td>\n",
       "      <td>0.242062</td>\n",
       "      <td>0.265132</td>\n",
       "    </tr>\n",
       "  </tbody>\n",
       "</table>\n",
       "</div>"
      ],
      "text/plain": [
       "             var  progress_score  tran                                tran_fn  \\\n",
       "0      GrLivArea       91.157942   log  <function <lambda> at 0x7f6cc9a3f9d8>   \n",
       "3        LotArea       78.864026  inv4  <function <lambda> at 0x7f6cc9a3f8c8>   \n",
       "4   TotRmsAbvGrd       30.685015   log  <function <lambda> at 0x7f6cc9a3f9d8>   \n",
       "11    Fireplaces        3.801495  inv4  <function <lambda> at 0x7f6cc9a3f8c8>   \n",
       "\n",
       "        r2_x   r2_tran  \n",
       "0   0.525931  0.543804  \n",
       "3   0.067883  0.159187  \n",
       "4   0.289123  0.293868  \n",
       "11  0.242062  0.265132  "
      ]
     },
     "execution_count": 34,
     "metadata": {},
     "output_type": "execute_result"
    }
   ],
   "source": [
    "trans_config3 = api.get_functional_transformation_config(\n",
    "    data=combined_dataset, \n",
    "    target=\"price_log\", \n",
    "    trans=Trans, \n",
    "    threshold=0\n",
    ")\n",
    "\n",
    "trans_config3"
   ]
  },
  {
   "cell_type": "code",
   "execution_count": 40,
   "metadata": {},
   "outputs": [],
   "source": [
    "transformed_dataset = api.functional_transform(combined_dataset, trans_config3)\n",
    "\n",
    "\n",
    "pd.testing.assert_series_equal(\n",
    "    transformed_dataset['GrLivArea'],\n",
    "    np.log(combined_dataset['GrLivArea'] + 1)\n",
    ")\n",
    "\n",
    "pd.testing.assert_series_equal(\n",
    "    transformed_dataset['LotArea'],\n",
    "    np.power(combined_dataset['LotArea'], 1/4)\n",
    ")\n",
    "\n",
    "pd.testing.assert_frame_equal(\n",
    "    transformed_dataset.select_dtypes(exclude=[np.number]), \n",
    "    combined_dataset.select_dtypes(exclude=[np.number])\n",
    ")\n",
    "\n",
    "pd.testing.assert_frame_equal(\n",
    "    transformed_dataset.select_dtypes(include=[np.number]).drop(columns=trans_config3['var']), \n",
    "    combined_dataset.select_dtypes(include=[np.number]).drop(columns=trans_config3['var'])\n",
    ")"
   ]
  },
  {
   "cell_type": "code",
   "execution_count": 36,
   "metadata": {
    "collapsed": true
   },
   "outputs": [],
   "source": []
  },
  {
   "cell_type": "code",
   "execution_count": null,
   "metadata": {
    "collapsed": true
   },
   "outputs": [],
   "source": []
  },
  {
   "cell_type": "code",
   "execution_count": null,
   "metadata": {
    "collapsed": true
   },
   "outputs": [],
   "source": []
  },
  {
   "cell_type": "code",
   "execution_count": null,
   "metadata": {
    "collapsed": true
   },
   "outputs": [],
   "source": []
  },
  {
   "cell_type": "code",
   "execution_count": null,
   "metadata": {
    "collapsed": true
   },
   "outputs": [],
   "source": []
  },
  {
   "cell_type": "code",
   "execution_count": null,
   "metadata": {
    "collapsed": true
   },
   "outputs": [],
   "source": []
  },
  {
   "cell_type": "code",
   "execution_count": null,
   "metadata": {
    "collapsed": true
   },
   "outputs": [],
   "source": []
  },
  {
   "cell_type": "code",
   "execution_count": null,
   "metadata": {
    "collapsed": true
   },
   "outputs": [],
   "source": []
  },
  {
   "cell_type": "code",
   "execution_count": null,
   "metadata": {
    "collapsed": true
   },
   "outputs": [],
   "source": []
  },
  {
   "cell_type": "code",
   "execution_count": null,
   "metadata": {
    "collapsed": true
   },
   "outputs": [],
   "source": []
  },
  {
   "cell_type": "code",
   "execution_count": null,
   "metadata": {
    "collapsed": true
   },
   "outputs": [],
   "source": []
  },
  {
   "cell_type": "code",
   "execution_count": null,
   "metadata": {
    "collapsed": true
   },
   "outputs": [],
   "source": []
  },
  {
   "cell_type": "code",
   "execution_count": null,
   "metadata": {
    "collapsed": true
   },
   "outputs": [],
   "source": []
  },
  {
   "cell_type": "code",
   "execution_count": null,
   "metadata": {
    "collapsed": true
   },
   "outputs": [],
   "source": []
  }
 ],
 "metadata": {
  "kernelspec": {
   "display_name": "Python 3",
   "language": "python",
   "name": "python3"
  },
  "language_info": {
   "codemirror_mode": {
    "name": "ipython",
    "version": 3
   },
   "file_extension": ".py",
   "mimetype": "text/x-python",
   "name": "python",
   "nbconvert_exporter": "python",
   "pygments_lexer": "ipython3",
   "version": "3.6.3"
  }
 },
 "nbformat": 4,
 "nbformat_minor": 2
}
