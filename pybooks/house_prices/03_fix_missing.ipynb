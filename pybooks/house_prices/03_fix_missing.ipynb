{
 "cells": [
  {
   "cell_type": "code",
   "execution_count": 1,
   "metadata": {
    "collapsed": true
   },
   "outputs": [],
   "source": [
    "from IPython.core.interactiveshell import InteractiveShell\n",
    "InteractiveShell.ast_node_interactivity = \"all\"\n",
    "\n",
    "%load_ext rpy2.ipython"
   ]
  },
  {
   "cell_type": "code",
   "execution_count": 4,
   "metadata": {},
   "outputs": [
    {
     "data": {
      "text/plain": [
       "(2919, 82)"
      ]
     },
     "execution_count": 4,
     "metadata": {},
     "output_type": "execute_result"
    }
   ],
   "source": [
    "import numpy as np\n",
    "import pandas as pd\n",
    "\n",
    "from kaggle.house_prices import helpers\n",
    "from kaggle.house_prices import missing\n",
    "\n",
    "combined_dataset = helpers.load_data()\n",
    "combined_dataset.shape"
   ]
  },
  {
   "cell_type": "code",
   "execution_count": 28,
   "metadata": {},
   "outputs": [],
   "source": [
    "# testing replace_with_most_common\n",
    "#\n",
    "fix_by_most_common = missing.replace_with_most_common(combined_dataset)\n",
    "\n",
    "# numeric columns should not be affected\n",
    "pd.testing.assert_frame_equal(\n",
    "    fix_by_most_common.select_dtypes(include=[np.number]).sort_index(axis=1), \n",
    "    combined_dataset.select_dtypes(include=[np.number]).sort_index(axis=1)\n",
    ")\n",
    " \n",
    "# categ columns with `good` NAs should not be affected\n",
    "pd.testing.assert_frame_equal(\n",
    "    fix_by_most_common[missing.colums_with_valid_na].sort_index(axis=1), \n",
    "    combined_dataset[missing.colums_with_valid_na].sort_index(axis=1)\n",
    ")\n",
    "\n",
    "# there should not be NAs in processed columns\n",
    "affected_columns = list(\n",
    "    set(helpers.get_character_colnames(combined_dataset)) -  \n",
    "    set(missing.colums_with_valid_na)\n",
    ")\n",
    "assert fix_by_most_common[affected_columns].isnull().values.sum() == 0"
   ]
  },
  {
   "cell_type": "code",
   "execution_count": 29,
   "metadata": {},
   "outputs": [],
   "source": [
    "# testing fix_valid\n",
    "#\n",
    "fix_valid = missing.fix_valid(combined_dataset)\n",
    "\n",
    "# numeric columns should not be affected\n",
    "pd.testing.assert_frame_equal(\n",
    "    fix_valid.select_dtypes(include=[np.number]).sort_index(axis=1), \n",
    "    combined_dataset.select_dtypes(include=[np.number]).sort_index(axis=1)\n",
    ")\n",
    " \n",
    "# categ columns with `bad` NAs should not be affected\n",
    "bad_columns = list(\n",
    "    set(helpers.get_character_colnames(combined_dataset)) -  \n",
    "    set(missing.colums_with_valid_na)\n",
    ")\n",
    "pd.testing.assert_frame_equal(\n",
    "    fix_valid[bad_columns].sort_index(axis=1), \n",
    "    combined_dataset[bad_columns].sort_index(axis=1)\n",
    ")\n",
    "\n",
    "# there should not be NAs in processed columns\n",
    "assert fix_valid[missing.colums_with_valid_na].isnull().values.sum() == 0"
   ]
  },
  {
   "cell_type": "code",
   "execution_count": 30,
   "metadata": {},
   "outputs": [],
   "source": [
    "# testing replace_with_zero\n",
    "#\n",
    "fix_by_zero = missing.replace_with_zero(combined_dataset)\n",
    "\n",
    "# categ columns should not be affected\n",
    "pd.testing.assert_frame_equal(\n",
    "    fix_by_zero.select_dtypes(exclude=[np.number]).sort_index(axis=1), \n",
    "    combined_dataset.select_dtypes(exclude=[np.number]).sort_index(axis=1)\n",
    ")\n",
    "\n",
    "# SalePrice should not be affected\n",
    "pd.testing.assert_series_equal(\n",
    "    fix_by_zero['SalePrice'],\n",
    "    combined_dataset['SalePrice']\n",
    ")\n",
    "\n",
    "# there should not be NAs in processed columns\n",
    "assert fix_by_zero.select_dtypes(include=[np.number]).drop(['SalePrice'], axis=1).isnull().values.sum() == 0"
   ]
  },
  {
   "cell_type": "code",
   "execution_count": 31,
   "metadata": {},
   "outputs": [],
   "source": [
    "# testing all together\n",
    "#\n",
    "fixed = missing.fix_all(combined_dataset)\n",
    "\n",
    "# should be no NA values except SalePrice column\n",
    "assert fixed.drop(['SalePrice'], axis=1).isnull().values.sum() == 0\n",
    "\n",
    "# SalePrice should not be affected\n",
    "pd.testing.assert_series_equal(\n",
    "    fixed['SalePrice'],\n",
    "    combined_dataset['SalePrice']\n",
    ")"
   ]
  },
  {
   "cell_type": "code",
   "execution_count": null,
   "metadata": {},
   "outputs": [],
   "source": []
  },
  {
   "cell_type": "code",
   "execution_count": 26,
   "metadata": {
    "collapsed": true
   },
   "outputs": [],
   "source": []
  },
  {
   "cell_type": "code",
   "execution_count": null,
   "metadata": {
    "collapsed": true
   },
   "outputs": [],
   "source": []
  },
  {
   "cell_type": "code",
   "execution_count": null,
   "metadata": {
    "collapsed": true
   },
   "outputs": [],
   "source": []
  },
  {
   "cell_type": "code",
   "execution_count": null,
   "metadata": {
    "collapsed": true
   },
   "outputs": [],
   "source": []
  },
  {
   "cell_type": "code",
   "execution_count": null,
   "metadata": {
    "collapsed": true
   },
   "outputs": [],
   "source": []
  },
  {
   "cell_type": "code",
   "execution_count": null,
   "metadata": {
    "collapsed": true
   },
   "outputs": [],
   "source": []
  },
  {
   "cell_type": "code",
   "execution_count": null,
   "metadata": {
    "collapsed": true
   },
   "outputs": [],
   "source": []
  },
  {
   "cell_type": "code",
   "execution_count": null,
   "metadata": {
    "collapsed": true
   },
   "outputs": [],
   "source": []
  },
  {
   "cell_type": "code",
   "execution_count": null,
   "metadata": {
    "collapsed": true
   },
   "outputs": [],
   "source": []
  },
  {
   "cell_type": "code",
   "execution_count": null,
   "metadata": {
    "collapsed": true
   },
   "outputs": [],
   "source": []
  },
  {
   "cell_type": "code",
   "execution_count": null,
   "metadata": {
    "collapsed": true
   },
   "outputs": [],
   "source": []
  },
  {
   "cell_type": "code",
   "execution_count": null,
   "metadata": {
    "collapsed": true
   },
   "outputs": [],
   "source": []
  },
  {
   "cell_type": "code",
   "execution_count": null,
   "metadata": {
    "collapsed": true
   },
   "outputs": [],
   "source": []
  },
  {
   "cell_type": "code",
   "execution_count": null,
   "metadata": {
    "collapsed": true
   },
   "outputs": [],
   "source": []
  },
  {
   "cell_type": "code",
   "execution_count": null,
   "metadata": {
    "collapsed": true
   },
   "outputs": [],
   "source": []
  },
  {
   "cell_type": "code",
   "execution_count": null,
   "metadata": {
    "collapsed": true
   },
   "outputs": [],
   "source": []
  },
  {
   "cell_type": "code",
   "execution_count": null,
   "metadata": {
    "collapsed": true
   },
   "outputs": [],
   "source": []
  },
  {
   "cell_type": "code",
   "execution_count": null,
   "metadata": {
    "collapsed": true
   },
   "outputs": [],
   "source": []
  },
  {
   "cell_type": "code",
   "execution_count": null,
   "metadata": {
    "collapsed": true
   },
   "outputs": [],
   "source": []
  },
  {
   "cell_type": "code",
   "execution_count": null,
   "metadata": {
    "collapsed": true
   },
   "outputs": [],
   "source": []
  },
  {
   "cell_type": "code",
   "execution_count": null,
   "metadata": {
    "collapsed": true
   },
   "outputs": [],
   "source": []
  },
  {
   "cell_type": "code",
   "execution_count": null,
   "metadata": {
    "collapsed": true
   },
   "outputs": [],
   "source": []
  },
  {
   "cell_type": "code",
   "execution_count": null,
   "metadata": {
    "collapsed": true
   },
   "outputs": [],
   "source": []
  },
  {
   "cell_type": "code",
   "execution_count": null,
   "metadata": {
    "collapsed": true
   },
   "outputs": [],
   "source": []
  }
 ],
 "metadata": {
  "kernelspec": {
   "display_name": "Python 3",
   "language": "python",
   "name": "python3"
  },
  "language_info": {
   "codemirror_mode": {
    "name": "ipython",
    "version": 3
   },
   "file_extension": ".py",
   "mimetype": "text/x-python",
   "name": "python",
   "nbconvert_exporter": "python",
   "pygments_lexer": "ipython3",
   "version": "3.6.3"
  }
 },
 "nbformat": 4,
 "nbformat_minor": 2
}
