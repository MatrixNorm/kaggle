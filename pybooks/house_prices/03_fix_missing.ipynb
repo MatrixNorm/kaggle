{
 "cells": [
  {
   "cell_type": "code",
   "execution_count": 1,
   "metadata": {
    "collapsed": true
   },
   "outputs": [],
   "source": [
    "from IPython.core.interactiveshell import InteractiveShell\n",
    "InteractiveShell.ast_node_interactivity = \"all\"\n",
    "\n",
    "%load_ext rpy2.ipython"
   ]
  },
  {
   "cell_type": "code",
   "execution_count": 2,
   "metadata": {
    "collapsed": true
   },
   "outputs": [],
   "source": [
    "from kaggle.house_prices import helpers\n",
    "from kaggle.house_prices import outliers\n",
    "\n",
    "combined_dataset = helpers.load_data()\n",
    "training_dataset = combined_dataset.query(\"dataSource == 'train'\")"
   ]
  },
  {
   "cell_type": "code",
   "execution_count": 114,
   "metadata": {},
   "outputs": [
    {
     "data": {
      "text/plain": [
       "{'1stFlrSF': 1,\n",
       " '2ndFlrSF': 1,\n",
       " '3SsnPorch': 1,\n",
       " 'Alley': 1,\n",
       " 'BedroomAbvGr': 1,\n",
       " 'BldgType': 1,\n",
       " 'BsmtCond': 1,\n",
       " 'BsmtExposure': 1,\n",
       " 'BsmtFinSF1': 1,\n",
       " 'BsmtFinSF2': 1,\n",
       " 'BsmtFinType1': 1,\n",
       " 'BsmtFinType2': 1,\n",
       " 'BsmtFullBath': 1,\n",
       " 'BsmtHalfBath': 1,\n",
       " 'BsmtQual': 1,\n",
       " 'BsmtUnfSF': 1,\n",
       " 'CentralAir': 1,\n",
       " 'Condition1': 1,\n",
       " 'Condition2': 1,\n",
       " 'Electrical': 1,\n",
       " 'EnclosedPorch': 1,\n",
       " 'ExterCond': 1,\n",
       " 'ExterQual': 1,\n",
       " 'Exterior1st': 1,\n",
       " 'Exterior2nd': 1,\n",
       " 'Fence': 1,\n",
       " 'FireplaceQu': 1,\n",
       " 'Fireplaces': 1,\n",
       " 'Foundation': 1,\n",
       " 'FullBath': 1,\n",
       " 'Functional': 1,\n",
       " 'GarageArea': 1,\n",
       " 'GarageCars': 1,\n",
       " 'GarageCond': 1,\n",
       " 'GarageFinish': 1,\n",
       " 'GarageQual': 1,\n",
       " 'GarageType': 1,\n",
       " 'GarageYrBlt': 1,\n",
       " 'GrLivArea': 1,\n",
       " 'HalfBath': 1,\n",
       " 'Heating': 1,\n",
       " 'HeatingQC': 1,\n",
       " 'HouseStyle': 1,\n",
       " 'Id': 1,\n",
       " 'KitchenAbvGr': 1,\n",
       " 'KitchenQual': 1,\n",
       " 'LandContour': 1,\n",
       " 'LandSlope': 1,\n",
       " 'LotArea': 1,\n",
       " 'LotConfig': 1,\n",
       " 'LotFrontage': 1,\n",
       " 'LotShape': 1,\n",
       " 'LowQualFinSF': 1,\n",
       " 'MSSubClass': 1,\n",
       " 'MSZoning': 1,\n",
       " 'MasVnrArea': 1,\n",
       " 'MasVnrType': 1,\n",
       " 'MiscFeature': 1,\n",
       " 'MiscVal': 1,\n",
       " 'MoSold': 1,\n",
       " 'Neighborhood': 1,\n",
       " 'OpenPorchSF': 1,\n",
       " 'OverallCond': 1,\n",
       " 'OverallQual': 1,\n",
       " 'PavedDrive': 1,\n",
       " 'PoolArea': 1,\n",
       " 'PoolQC': 1,\n",
       " 'RoofMatl': 1,\n",
       " 'RoofStyle': 1,\n",
       " 'SaleCondition': 1,\n",
       " 'SalePrice': 1,\n",
       " 'SaleType': 1,\n",
       " 'ScreenPorch': 1,\n",
       " 'Street': 1,\n",
       " 'TotRmsAbvGrd': 1,\n",
       " 'TotalBsmtSF': 1,\n",
       " 'Utilities': 1,\n",
       " 'WoodDeckSF': 1,\n",
       " 'YearBuilt': 1,\n",
       " 'YearRemodAdd': 1,\n",
       " 'YrSold': 1,\n",
       " 'dataSource': 1}"
      ]
     },
     "execution_count": 114,
     "metadata": {},
     "output_type": "execute_result"
    }
   ],
   "source": [
    "import pandas as pd\n",
    "\n",
    "df = combined_dataset\n",
    "\n",
    "dict((c, 1)for c in list(df))"
   ]
  },
  {
   "cell_type": "code",
   "execution_count": 109,
   "metadata": {
    "collapsed": true
   },
   "outputs": [],
   "source": []
  },
  {
   "cell_type": "code",
   "execution_count": null,
   "metadata": {
    "collapsed": true
   },
   "outputs": [],
   "source": []
  },
  {
   "cell_type": "code",
   "execution_count": null,
   "metadata": {
    "collapsed": true
   },
   "outputs": [],
   "source": []
  },
  {
   "cell_type": "code",
   "execution_count": null,
   "metadata": {
    "collapsed": true
   },
   "outputs": [],
   "source": []
  },
  {
   "cell_type": "code",
   "execution_count": null,
   "metadata": {
    "collapsed": true
   },
   "outputs": [],
   "source": []
  },
  {
   "cell_type": "code",
   "execution_count": null,
   "metadata": {
    "collapsed": true
   },
   "outputs": [],
   "source": []
  },
  {
   "cell_type": "code",
   "execution_count": null,
   "metadata": {
    "collapsed": true
   },
   "outputs": [],
   "source": []
  },
  {
   "cell_type": "code",
   "execution_count": null,
   "metadata": {
    "collapsed": true
   },
   "outputs": [],
   "source": []
  },
  {
   "cell_type": "code",
   "execution_count": null,
   "metadata": {
    "collapsed": true
   },
   "outputs": [],
   "source": []
  },
  {
   "cell_type": "code",
   "execution_count": null,
   "metadata": {
    "collapsed": true
   },
   "outputs": [],
   "source": []
  },
  {
   "cell_type": "code",
   "execution_count": null,
   "metadata": {
    "collapsed": true
   },
   "outputs": [],
   "source": []
  },
  {
   "cell_type": "code",
   "execution_count": null,
   "metadata": {
    "collapsed": true
   },
   "outputs": [],
   "source": []
  },
  {
   "cell_type": "code",
   "execution_count": null,
   "metadata": {
    "collapsed": true
   },
   "outputs": [],
   "source": []
  },
  {
   "cell_type": "code",
   "execution_count": null,
   "metadata": {
    "collapsed": true
   },
   "outputs": [],
   "source": []
  },
  {
   "cell_type": "code",
   "execution_count": null,
   "metadata": {
    "collapsed": true
   },
   "outputs": [],
   "source": []
  },
  {
   "cell_type": "code",
   "execution_count": null,
   "metadata": {
    "collapsed": true
   },
   "outputs": [],
   "source": []
  },
  {
   "cell_type": "code",
   "execution_count": null,
   "metadata": {
    "collapsed": true
   },
   "outputs": [],
   "source": []
  },
  {
   "cell_type": "code",
   "execution_count": null,
   "metadata": {
    "collapsed": true
   },
   "outputs": [],
   "source": []
  },
  {
   "cell_type": "code",
   "execution_count": null,
   "metadata": {
    "collapsed": true
   },
   "outputs": [],
   "source": []
  },
  {
   "cell_type": "code",
   "execution_count": null,
   "metadata": {
    "collapsed": true
   },
   "outputs": [],
   "source": []
  },
  {
   "cell_type": "code",
   "execution_count": null,
   "metadata": {
    "collapsed": true
   },
   "outputs": [],
   "source": []
  },
  {
   "cell_type": "code",
   "execution_count": null,
   "metadata": {
    "collapsed": true
   },
   "outputs": [],
   "source": []
  },
  {
   "cell_type": "code",
   "execution_count": null,
   "metadata": {
    "collapsed": true
   },
   "outputs": [],
   "source": []
  },
  {
   "cell_type": "code",
   "execution_count": null,
   "metadata": {
    "collapsed": true
   },
   "outputs": [],
   "source": []
  },
  {
   "cell_type": "code",
   "execution_count": null,
   "metadata": {
    "collapsed": true
   },
   "outputs": [],
   "source": []
  },
  {
   "cell_type": "code",
   "execution_count": null,
   "metadata": {
    "collapsed": true
   },
   "outputs": [],
   "source": []
  }
 ],
 "metadata": {
  "kernelspec": {
   "display_name": "Python 3",
   "language": "python",
   "name": "python3"
  },
  "language_info": {
   "codemirror_mode": {
    "name": "ipython",
    "version": 3
   },
   "file_extension": ".py",
   "mimetype": "text/x-python",
   "name": "python",
   "nbconvert_exporter": "python",
   "pygments_lexer": "ipython3",
   "version": "3.6.3"
  }
 },
 "nbformat": 4,
 "nbformat_minor": 2
}
