{
 "cells": [
  {
   "cell_type": "code",
   "execution_count": 2,
   "metadata": {
    "collapsed": true
   },
   "outputs": [],
   "source": [
    "from IPython.core.interactiveshell import InteractiveShell\n",
    "InteractiveShell.ast_node_interactivity = \"all\"\n",
    "\n",
    "%load_ext rpy2.ipython"
   ]
  },
  {
   "cell_type": "code",
   "execution_count": 5,
   "metadata": {
    "cell_style": "split",
    "collapsed": true
   },
   "outputs": [],
   "source": [
    "import numpy as np\n",
    "import pandas as pd\n",
    "\n",
    "from kaggle.house_prices.utils import Plot"
   ]
  },
  {
   "cell_type": "code",
   "execution_count": 6,
   "metadata": {
    "cell_style": "split",
    "collapsed": true
   },
   "outputs": [],
   "source": [
    "from rpy2 import robjects\n",
    "from rpy2.robjects.lib import ggplot2\n",
    "\n",
    "robjects.pandas2ri.activate()"
   ]
  },
  {
   "cell_type": "code",
   "execution_count": 16,
   "metadata": {},
   "outputs": [],
   "source": [
    "from kaggle.house_prices import helpers\n",
    "from kaggle.house_prices import outliers\n",
    "\n",
    "combined_dataset = helpers.load_data()\n",
    "training_dataset = combined_dataset.query(\"dataSource == 'train'\")"
   ]
  },
  {
   "cell_type": "code",
   "execution_count": 22,
   "metadata": {},
   "outputs": [],
   "source": [
    "#check some basic invariants\n",
    "\n",
    "combined_strange_cases = outliers.get_strange_cases(combined_dataset)\n",
    "combined_outliers_removed = outliers.remove_outliers(combined_dataset)\n",
    "\n",
    "training_strange_cases = outliers.get_strange_cases(training_dataset)\n",
    "training_outliers_removed = outliers.remove_outliers(training_dataset)\n",
    "\n",
    "assert len(combined_strange_cases) + len(combined_outliers_removed) == len(combined_dataset)\n",
    "assert len(training_strange_cases) + len(training_outliers_removed) == len(training_dataset)\n",
    "pd.testing.assert_frame_equal(combined_strange_cases, training_strange_cases)"
   ]
  },
  {
   "cell_type": "code",
   "execution_count": 28,
   "metadata": {},
   "outputs": [
    {
     "data": {
      "text/html": [
       "<div>\n",
       "<style scoped>\n",
       "    .dataframe tbody tr th:only-of-type {\n",
       "        vertical-align: middle;\n",
       "    }\n",
       "\n",
       "    .dataframe tbody tr th {\n",
       "        vertical-align: top;\n",
       "    }\n",
       "\n",
       "    .dataframe thead th {\n",
       "        text-align: right;\n",
       "    }\n",
       "</style>\n",
       "<table border=\"1\" class=\"dataframe\">\n",
       "  <thead>\n",
       "    <tr style=\"text-align: right;\">\n",
       "      <th></th>\n",
       "      <th>Neighborhood</th>\n",
       "      <th>SalePrice</th>\n",
       "    </tr>\n",
       "  </thead>\n",
       "  <tbody>\n",
       "    <tr>\n",
       "      <th>0</th>\n",
       "      <td>CollgCr</td>\n",
       "      <td>208500.0</td>\n",
       "    </tr>\n",
       "    <tr>\n",
       "      <th>1</th>\n",
       "      <td>Veenker</td>\n",
       "      <td>181500.0</td>\n",
       "    </tr>\n",
       "    <tr>\n",
       "      <th>2</th>\n",
       "      <td>CollgCr</td>\n",
       "      <td>223500.0</td>\n",
       "    </tr>\n",
       "    <tr>\n",
       "      <th>3</th>\n",
       "      <td>Crawfor</td>\n",
       "      <td>140000.0</td>\n",
       "    </tr>\n",
       "    <tr>\n",
       "      <th>4</th>\n",
       "      <td>NoRidge</td>\n",
       "      <td>250000.0</td>\n",
       "    </tr>\n",
       "  </tbody>\n",
       "</table>\n",
       "</div>"
      ],
      "text/plain": [
       "  Neighborhood  SalePrice\n",
       "0      CollgCr   208500.0\n",
       "1      Veenker   181500.0\n",
       "2      CollgCr   223500.0\n",
       "3      Crawfor   140000.0\n",
       "4      NoRidge   250000.0"
      ]
     },
     "execution_count": 28,
     "metadata": {},
     "output_type": "execute_result"
    },
    {
     "data": {
      "text/plain": [
       "Neighborhood\n",
       "Blmngtn    191000.0\n",
       "Blueste    137500.0\n",
       "BrDale     106000.0\n",
       "BrkSide    124300.0\n",
       "ClearCr    200250.0\n",
       "CollgCr    197200.0\n",
       "Crawfor    200624.0\n",
       "Edwards    121750.0\n",
       "Gilbert    181000.0\n",
       "IDOTRR     103000.0\n",
       "MeadowV     88000.0\n",
       "Mitchel    153500.0\n",
       "NAmes      140000.0\n",
       "NPkVill    146000.0\n",
       "NWAmes     182900.0\n",
       "NoRidge    301500.0\n",
       "NridgHt    315000.0\n",
       "OldTown    119000.0\n",
       "SWISU      139500.0\n",
       "Sawyer     135000.0\n",
       "SawyerW    179900.0\n",
       "Somerst    225500.0\n",
       "StoneBr    278000.0\n",
       "Timber     228475.0\n",
       "Veenker    218000.0\n",
       "Name: SalePrice, dtype: float64"
      ]
     },
     "execution_count": 28,
     "metadata": {},
     "output_type": "execute_result"
    }
   ],
   "source": [
    "(\n",
    "    training_dataset\n",
    "    [['Neighborhood', 'SalePrice']]\n",
    ").head()\n",
    "\n",
    "x = (\n",
    "    training_dataset\n",
    "    .groupby('Neighborhood')\n",
    "    ['SalePrice']\n",
    "    .apply(lambda x: np.median(x))\n",
    ")\n",
    "\n",
    "x"
   ]
  },
  {
   "cell_type": "code",
   "execution_count": null,
   "metadata": {},
   "outputs": [],
   "source": [
    "#\n",
    "# SPDANM - deviation of price from neighborhood's median price\n",
    "# price_per_sq - price per living area square feet\n",
    "#\n",
    "\n",
    "def calc_quality(df):\n",
    "    q = df['OverallQual']\n",
    "    if q in (1, 2, 3):\n",
    "        return 'Bad'\n",
    "    if q in (4, 5, 6):\n",
    "        return 'Fair'\n",
    "    if q in (7, 8):\n",
    "        return 'Good'\n",
    "    return 'Excellent'\n",
    "\n",
    "def calc_SPDANM(df):\n",
    "    \n",
    "\n",
    "training_dataset = (\n",
    "    training_dataset\n",
    "    .assign(\n",
    "        quality=calc_quality,\n",
    "        price_per_sq=lambda df: df['SalePrice'] / df['GrLivArea'],\n",
    "        SPDANM=lambda df: (\n",
    "            df\n",
    "            .groupby('Neighborhood')\n",
    "            ['SalePrice']\n",
    "            .apply(lambda x: np.median(x))\n",
    "        )\n",
    "    )\n",
    "    .groupby('Neighborhood', as_index = False)\n",
    "    .assign(\n",
    "    )\n",
    "    mutate(\n",
    "        quality = case_when(\n",
    "            OverallQual %in% c(1, 2, 3) ~ 'Bad',\n",
    "            OverallQual %in% c(4, 5, 6) ~ 'Fair',\n",
    "            OverallQual %in% c(7, 8)    ~ 'Good',\n",
    "            TRUE                        ~ 'Excellent'\n",
    "        ),\n",
    "        price_per_sq = SalePrice / GrLivArea\n",
    "    ) %>%\n",
    "    group_by(Neighborhood) %>%\n",
    "    mutate(\n",
    "        SPDANM = SalePrice - median(SalePrice)\n",
    "    )\n",
    ") \n",
    "    \n",
    "\n",
    "strange_cases <- house_prices$outliers$get_strange_cases(training_dataset)\n",
    "EdwardsExcellent <- training_dataset %>% filter(Neighborhood == 'Edwards', quality == 'Excellent')"
   ]
  },
  {
   "cell_type": "code",
   "execution_count": null,
   "metadata": {
    "collapsed": true
   },
   "outputs": [],
   "source": []
  },
  {
   "cell_type": "code",
   "execution_count": null,
   "metadata": {
    "collapsed": true
   },
   "outputs": [],
   "source": []
  },
  {
   "cell_type": "code",
   "execution_count": null,
   "metadata": {
    "collapsed": true
   },
   "outputs": [],
   "source": []
  },
  {
   "cell_type": "code",
   "execution_count": null,
   "metadata": {
    "collapsed": true
   },
   "outputs": [],
   "source": []
  },
  {
   "cell_type": "code",
   "execution_count": null,
   "metadata": {
    "collapsed": true
   },
   "outputs": [],
   "source": []
  },
  {
   "cell_type": "code",
   "execution_count": null,
   "metadata": {
    "collapsed": true
   },
   "outputs": [],
   "source": []
  },
  {
   "cell_type": "code",
   "execution_count": null,
   "metadata": {
    "collapsed": true
   },
   "outputs": [],
   "source": []
  }
 ],
 "metadata": {
  "kernelspec": {
   "display_name": "Python 3",
   "language": "python",
   "name": "python3"
  },
  "language_info": {
   "codemirror_mode": {
    "name": "ipython",
    "version": 3
   },
   "file_extension": ".py",
   "mimetype": "text/x-python",
   "name": "python",
   "nbconvert_exporter": "python",
   "pygments_lexer": "ipython3",
   "version": "3.6.3"
  }
 },
 "nbformat": 4,
 "nbformat_minor": 2
}
