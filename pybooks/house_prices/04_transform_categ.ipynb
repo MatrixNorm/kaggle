{
 "cells": [
  {
   "cell_type": "code",
   "execution_count": 36,
   "metadata": {},
   "outputs": [
    {
     "name": "stdout",
     "output_type": "stream",
     "text": [
      "The rpy2.ipython extension is already loaded. To reload it, use:\n",
      "  %reload_ext rpy2.ipython\n"
     ]
    }
   ],
   "source": [
    "from IPython.core.interactiveshell import InteractiveShell\n",
    "InteractiveShell.ast_node_interactivity = \"all\"\n",
    "\n",
    "%load_ext rpy2.ipython"
   ]
  },
  {
   "cell_type": "code",
   "execution_count": 37,
   "metadata": {},
   "outputs": [
    {
     "data": {
      "text/plain": [
       "(2917, 83)"
      ]
     },
     "execution_count": 37,
     "metadata": {},
     "output_type": "execute_result"
    }
   ],
   "source": [
    "import numpy as np\n",
    "import pandas as pd\n",
    "\n",
    "from kaggle.house_prices import helpers\n",
    "from kaggle.house_prices import missing\n",
    "from kaggle.house_prices import outliers\n",
    "\n",
    "combined_dataset = helpers.load_data()\n",
    "combined_dataset = missing.fix_all(combined_dataset)\n",
    "combined_dataset = outliers.remove_outliers(combined_dataset)\n",
    "combined_dataset['price_log'] = np.log(combined_dataset['SalePrice'])\n",
    "combined_dataset = combined_dataset.drop(['SalePrice', 'Id'], axis=1)\n",
    "combined_dataset.shape"
   ]
  },
  {
   "cell_type": "code",
   "execution_count": 38,
   "metadata": {},
   "outputs": [
    {
     "data": {
      "text/plain": [
       "0.25    11.774713\n",
       "0.50    12.001505\n",
       "0.75    12.273731\n",
       "Name: price_log, dtype: float64"
      ]
     },
     "execution_count": 38,
     "metadata": {},
     "output_type": "execute_result"
    }
   ],
   "source": [
    "#\n",
    "# Global quantiles\n",
    "#\n",
    "from kaggle.house_prices.quantile_rating import calc_quantiles\n",
    "\n",
    "calc_quantiles(\n",
    "    sample=combined_dataset['price_log'],\n",
    "    probs=[0.25, 0.5, 0.75]\n",
    ")"
   ]
  },
  {
   "cell_type": "code",
   "execution_count": 45,
   "metadata": {
    "collapsed": true
   },
   "outputs": [],
   "source": [
    "#\n",
    "# Quantile ratings calculation\n",
    "#\n",
    "from kaggle.house_prices import quantile_rating as QR\n",
    "from kaggle.house_prices import topapi\n",
    "\n",
    "ratings1 = QR.calc_ratings(\n",
    "    df=combined_dataset, \n",
    "    target_var='price_log', \n",
    "    rating_quantiles=calc_quantiles(\n",
    "        sample=combined_dataset['price_log'],\n",
    "        probs=[0.25, 0.5, 0.75]\n",
    "    ), \n",
    "    categ_vars=helpers.get_character_colnames(combined_dataset)\n",
    ")\n",
    "\n",
    "ratings2 = topapi.calc_ratings(combined_dataset, 'price_log')\n",
    "\n",
    "pd.testing.assert_frame_equal(\n",
    "    ratings1.sort_index(axis=1), \n",
    "    ratings2.sort_index(axis=1)\n",
    ")"
   ]
  },
  {
   "cell_type": "code",
   "execution_count": 40,
   "metadata": {
    "cell_style": "split"
   },
   "outputs": [
    {
     "data": {
      "text/html": [
       "<div>\n",
       "<style scoped>\n",
       "    .dataframe tbody tr th:only-of-type {\n",
       "        vertical-align: middle;\n",
       "    }\n",
       "\n",
       "    .dataframe tbody tr th {\n",
       "        vertical-align: top;\n",
       "    }\n",
       "\n",
       "    .dataframe thead th {\n",
       "        text-align: right;\n",
       "    }\n",
       "</style>\n",
       "<table border=\"1\" class=\"dataframe\">\n",
       "  <thead>\n",
       "    <tr style=\"text-align: right;\">\n",
       "      <th></th>\n",
       "      <th>var</th>\n",
       "      <th>value</th>\n",
       "      <th>rating</th>\n",
       "    </tr>\n",
       "  </thead>\n",
       "  <tbody>\n",
       "    <tr>\n",
       "      <th>0</th>\n",
       "      <td>Alley</td>\n",
       "      <td>Grvl</td>\n",
       "      <td>1.500000</td>\n",
       "    </tr>\n",
       "    <tr>\n",
       "      <th>2</th>\n",
       "      <td>Alley</td>\n",
       "      <td>_none_</td>\n",
       "      <td>2.531822</td>\n",
       "    </tr>\n",
       "    <tr>\n",
       "      <th>1</th>\n",
       "      <td>Alley</td>\n",
       "      <td>Pave</td>\n",
       "      <td>2.536585</td>\n",
       "    </tr>\n",
       "    <tr>\n",
       "      <th>4</th>\n",
       "      <td>BldgType</td>\n",
       "      <td>2fmCon</td>\n",
       "      <td>1.580645</td>\n",
       "    </tr>\n",
       "    <tr>\n",
       "      <th>5</th>\n",
       "      <td>BldgType</td>\n",
       "      <td>Duplex</td>\n",
       "      <td>1.692308</td>\n",
       "    </tr>\n",
       "    <tr>\n",
       "      <th>6</th>\n",
       "      <td>BldgType</td>\n",
       "      <td>Twnhs</td>\n",
       "      <td>1.883721</td>\n",
       "    </tr>\n",
       "    <tr>\n",
       "      <th>3</th>\n",
       "      <td>BldgType</td>\n",
       "      <td>1Fam</td>\n",
       "      <td>2.564039</td>\n",
       "    </tr>\n",
       "    <tr>\n",
       "      <th>7</th>\n",
       "      <td>BldgType</td>\n",
       "      <td>TwnhsE</td>\n",
       "      <td>2.622807</td>\n",
       "    </tr>\n",
       "    <tr>\n",
       "      <th>10</th>\n",
       "      <td>BsmtCond</td>\n",
       "      <td>Po</td>\n",
       "      <td>1.000000</td>\n",
       "    </tr>\n",
       "  </tbody>\n",
       "</table>\n",
       "</div>"
      ],
      "text/plain": [
       "         var   value    rating\n",
       "0      Alley    Grvl  1.500000\n",
       "2      Alley  _none_  2.531822\n",
       "1      Alley    Pave  2.536585\n",
       "4   BldgType  2fmCon  1.580645\n",
       "5   BldgType  Duplex  1.692308\n",
       "6   BldgType   Twnhs  1.883721\n",
       "3   BldgType    1Fam  2.564039\n",
       "7   BldgType  TwnhsE  2.622807\n",
       "10  BsmtCond      Po  1.000000"
      ]
     },
     "execution_count": 40,
     "metadata": {},
     "output_type": "execute_result"
    }
   ],
   "source": [
    "ratings1.sort_values(['var', 'rating']).head(9)"
   ]
  },
  {
   "cell_type": "code",
   "execution_count": 41,
   "metadata": {
    "cell_style": "split"
   },
   "outputs": [
    {
     "data": {
      "text/html": [
       "<div>\n",
       "<style scoped>\n",
       "    .dataframe tbody tr th:only-of-type {\n",
       "        vertical-align: middle;\n",
       "    }\n",
       "\n",
       "    .dataframe tbody tr th {\n",
       "        vertical-align: top;\n",
       "    }\n",
       "\n",
       "    .dataframe thead th {\n",
       "        text-align: right;\n",
       "    }\n",
       "</style>\n",
       "<table border=\"1\" class=\"dataframe\">\n",
       "  <thead>\n",
       "    <tr style=\"text-align: right;\">\n",
       "      <th></th>\n",
       "      <th>var</th>\n",
       "      <th>value</th>\n",
       "      <th>rating</th>\n",
       "    </tr>\n",
       "  </thead>\n",
       "  <tbody>\n",
       "    <tr>\n",
       "      <th>288</th>\n",
       "      <td>SaleType</td>\n",
       "      <td>WD</td>\n",
       "      <td>2.421468</td>\n",
       "    </tr>\n",
       "    <tr>\n",
       "      <th>281</th>\n",
       "      <td>SaleType</td>\n",
       "      <td>CWD</td>\n",
       "      <td>3.000000</td>\n",
       "    </tr>\n",
       "    <tr>\n",
       "      <th>286</th>\n",
       "      <td>SaleType</td>\n",
       "      <td>New</td>\n",
       "      <td>3.583333</td>\n",
       "    </tr>\n",
       "    <tr>\n",
       "      <th>282</th>\n",
       "      <td>SaleType</td>\n",
       "      <td>Con</td>\n",
       "      <td>4.000000</td>\n",
       "    </tr>\n",
       "    <tr>\n",
       "      <th>289</th>\n",
       "      <td>Street</td>\n",
       "      <td>Grvl</td>\n",
       "      <td>1.833333</td>\n",
       "    </tr>\n",
       "    <tr>\n",
       "      <th>290</th>\n",
       "      <td>Street</td>\n",
       "      <td>Pave</td>\n",
       "      <td>2.499311</td>\n",
       "    </tr>\n",
       "    <tr>\n",
       "      <th>292</th>\n",
       "      <td>Utilities</td>\n",
       "      <td>NoSeWa</td>\n",
       "      <td>2.000000</td>\n",
       "    </tr>\n",
       "    <tr>\n",
       "      <th>291</th>\n",
       "      <td>Utilities</td>\n",
       "      <td>AllPub</td>\n",
       "      <td>2.496911</td>\n",
       "    </tr>\n",
       "    <tr>\n",
       "      <th>293</th>\n",
       "      <td>NaN</td>\n",
       "      <td>NaN</td>\n",
       "      <td>2.500000</td>\n",
       "    </tr>\n",
       "  </tbody>\n",
       "</table>\n",
       "</div>"
      ],
      "text/plain": [
       "           var   value    rating\n",
       "288   SaleType      WD  2.421468\n",
       "281   SaleType     CWD  3.000000\n",
       "286   SaleType     New  3.583333\n",
       "282   SaleType     Con  4.000000\n",
       "289     Street    Grvl  1.833333\n",
       "290     Street    Pave  2.499311\n",
       "292  Utilities  NoSeWa  2.000000\n",
       "291  Utilities  AllPub  2.496911\n",
       "293        NaN     NaN  2.500000"
      ]
     },
     "execution_count": 41,
     "metadata": {},
     "output_type": "execute_result"
    }
   ],
   "source": [
    "ratings1.sort_values(['var', 'rating']).tail(9)"
   ]
  },
  {
   "cell_type": "code",
   "execution_count": 47,
   "metadata": {},
   "outputs": [
    {
     "data": {
      "text/html": [
       "<div>\n",
       "<style scoped>\n",
       "    .dataframe tbody tr th:only-of-type {\n",
       "        vertical-align: middle;\n",
       "    }\n",
       "\n",
       "    .dataframe tbody tr th {\n",
       "        vertical-align: top;\n",
       "    }\n",
       "\n",
       "    .dataframe thead th {\n",
       "        text-align: right;\n",
       "    }\n",
       "</style>\n",
       "<table border=\"1\" class=\"dataframe\">\n",
       "  <thead>\n",
       "    <tr style=\"text-align: right;\">\n",
       "      <th></th>\n",
       "      <th>Alley</th>\n",
       "      <th>BldgType</th>\n",
       "      <th>BsmtCond</th>\n",
       "      <th>BsmtExposure</th>\n",
       "      <th>BsmtFinType1</th>\n",
       "      <th>BsmtFinType2</th>\n",
       "      <th>BsmtQual</th>\n",
       "      <th>CentralAir</th>\n",
       "      <th>Condition1</th>\n",
       "      <th>Condition2</th>\n",
       "      <th>...</th>\n",
       "      <th>PoolArea</th>\n",
       "      <th>ScreenPorch</th>\n",
       "      <th>TotRmsAbvGrd</th>\n",
       "      <th>TotalBsmtSF</th>\n",
       "      <th>WoodDeckSF</th>\n",
       "      <th>YearBuilt</th>\n",
       "      <th>YearRemodAdd</th>\n",
       "      <th>YrSold</th>\n",
       "      <th>dataSource</th>\n",
       "      <th>price_log</th>\n",
       "    </tr>\n",
       "  </thead>\n",
       "  <tbody>\n",
       "    <tr>\n",
       "      <th>0</th>\n",
       "      <td>2.531822</td>\n",
       "      <td>2.564039</td>\n",
       "      <td>2.540871</td>\n",
       "      <td>2.320042</td>\n",
       "      <td>3.262019</td>\n",
       "      <td>2.553429</td>\n",
       "      <td>3.066343</td>\n",
       "      <td>2.57887</td>\n",
       "      <td>2.547619</td>\n",
       "      <td>2.50277</td>\n",
       "      <td>...</td>\n",
       "      <td>0</td>\n",
       "      <td>0</td>\n",
       "      <td>8</td>\n",
       "      <td>856.0</td>\n",
       "      <td>0</td>\n",
       "      <td>2003</td>\n",
       "      <td>2003</td>\n",
       "      <td>2008</td>\n",
       "      <td>train</td>\n",
       "      <td>12.247694</td>\n",
       "    </tr>\n",
       "    <tr>\n",
       "      <th>1</th>\n",
       "      <td>2.531822</td>\n",
       "      <td>2.564039</td>\n",
       "      <td>2.540871</td>\n",
       "      <td>3.295455</td>\n",
       "      <td>2.231818</td>\n",
       "      <td>2.553429</td>\n",
       "      <td>3.066343</td>\n",
       "      <td>2.57887</td>\n",
       "      <td>1.987500</td>\n",
       "      <td>2.50277</td>\n",
       "      <td>...</td>\n",
       "      <td>0</td>\n",
       "      <td>0</td>\n",
       "      <td>6</td>\n",
       "      <td>1262.0</td>\n",
       "      <td>298</td>\n",
       "      <td>1976</td>\n",
       "      <td>1976</td>\n",
       "      <td>2007</td>\n",
       "      <td>train</td>\n",
       "      <td>12.109011</td>\n",
       "    </tr>\n",
       "    <tr>\n",
       "      <th>2</th>\n",
       "      <td>2.531822</td>\n",
       "      <td>2.564039</td>\n",
       "      <td>2.540871</td>\n",
       "      <td>2.675439</td>\n",
       "      <td>3.262019</td>\n",
       "      <td>2.553429</td>\n",
       "      <td>3.066343</td>\n",
       "      <td>2.57887</td>\n",
       "      <td>2.547619</td>\n",
       "      <td>2.50277</td>\n",
       "      <td>...</td>\n",
       "      <td>0</td>\n",
       "      <td>0</td>\n",
       "      <td>6</td>\n",
       "      <td>920.0</td>\n",
       "      <td>0</td>\n",
       "      <td>2001</td>\n",
       "      <td>2002</td>\n",
       "      <td>2008</td>\n",
       "      <td>train</td>\n",
       "      <td>12.317167</td>\n",
       "    </tr>\n",
       "    <tr>\n",
       "      <th>3</th>\n",
       "      <td>2.531822</td>\n",
       "      <td>2.564039</td>\n",
       "      <td>3.046154</td>\n",
       "      <td>2.320042</td>\n",
       "      <td>2.231818</td>\n",
       "      <td>2.553429</td>\n",
       "      <td>1.847458</td>\n",
       "      <td>2.57887</td>\n",
       "      <td>2.547619</td>\n",
       "      <td>2.50277</td>\n",
       "      <td>...</td>\n",
       "      <td>0</td>\n",
       "      <td>0</td>\n",
       "      <td>7</td>\n",
       "      <td>756.0</td>\n",
       "      <td>0</td>\n",
       "      <td>1915</td>\n",
       "      <td>1970</td>\n",
       "      <td>2006</td>\n",
       "      <td>train</td>\n",
       "      <td>11.849398</td>\n",
       "    </tr>\n",
       "    <tr>\n",
       "      <th>4</th>\n",
       "      <td>2.531822</td>\n",
       "      <td>2.564039</td>\n",
       "      <td>2.540871</td>\n",
       "      <td>2.900452</td>\n",
       "      <td>3.262019</td>\n",
       "      <td>2.553429</td>\n",
       "      <td>3.066343</td>\n",
       "      <td>2.57887</td>\n",
       "      <td>2.547619</td>\n",
       "      <td>2.50277</td>\n",
       "      <td>...</td>\n",
       "      <td>0</td>\n",
       "      <td>0</td>\n",
       "      <td>9</td>\n",
       "      <td>1145.0</td>\n",
       "      <td>192</td>\n",
       "      <td>2000</td>\n",
       "      <td>2000</td>\n",
       "      <td>2008</td>\n",
       "      <td>train</td>\n",
       "      <td>12.429216</td>\n",
       "    </tr>\n",
       "  </tbody>\n",
       "</table>\n",
       "<p>5 rows × 83 columns</p>\n",
       "</div>"
      ],
      "text/plain": [
       "      Alley  BldgType  BsmtCond  BsmtExposure  BsmtFinType1  BsmtFinType2  \\\n",
       "0  2.531822  2.564039  2.540871      2.320042      3.262019      2.553429   \n",
       "1  2.531822  2.564039  2.540871      3.295455      2.231818      2.553429   \n",
       "2  2.531822  2.564039  2.540871      2.675439      3.262019      2.553429   \n",
       "3  2.531822  2.564039  3.046154      2.320042      2.231818      2.553429   \n",
       "4  2.531822  2.564039  2.540871      2.900452      3.262019      2.553429   \n",
       "\n",
       "   BsmtQual  CentralAir  Condition1  Condition2    ...      PoolArea  \\\n",
       "0  3.066343     2.57887    2.547619     2.50277    ...             0   \n",
       "1  3.066343     2.57887    1.987500     2.50277    ...             0   \n",
       "2  3.066343     2.57887    2.547619     2.50277    ...             0   \n",
       "3  1.847458     2.57887    2.547619     2.50277    ...             0   \n",
       "4  3.066343     2.57887    2.547619     2.50277    ...             0   \n",
       "\n",
       "   ScreenPorch  TotRmsAbvGrd  TotalBsmtSF  WoodDeckSF  YearBuilt  \\\n",
       "0            0             8        856.0           0       2003   \n",
       "1            0             6       1262.0         298       1976   \n",
       "2            0             6        920.0           0       2001   \n",
       "3            0             7        756.0           0       1915   \n",
       "4            0             9       1145.0         192       2000   \n",
       "\n",
       "   YearRemodAdd  YrSold  dataSource  price_log  \n",
       "0          2003    2008       train  12.247694  \n",
       "1          1976    2007       train  12.109011  \n",
       "2          2002    2008       train  12.317167  \n",
       "3          1970    2006       train  11.849398  \n",
       "4          2000    2008       train  12.429216  \n",
       "\n",
       "[5 rows x 83 columns]"
      ]
     },
     "execution_count": 47,
     "metadata": {},
     "output_type": "execute_result"
    }
   ],
   "source": [
    "#\n",
    "# Quantile ratings transformation\n",
    "#\n",
    "from kaggle.house_prices import topapi\n",
    "from kaggle.house_prices.transform_categ import rating_transform\n",
    "\n",
    "ratings = topapi.calc_ratings(combined_dataset, 'price_log')\n",
    "\n",
    "df1 = rating_transform(\n",
    "    dataset=combined_dataset, \n",
    "    columns=helpers.get_character_colnames(combined_dataset), \n",
    "    ratings=ratings\n",
    ")\n",
    "\n",
    "df2 = topapi.rating_transform(combined_dataset, 'price_log')\n",
    "\n",
    "pd.testing.assert_frame_equal(\n",
    "    df1.sort_index(axis=1), \n",
    "    df2.sort_index(axis=1)\n",
    ")\n",
    "\n",
    "df1.head(5)"
   ]
  },
  {
   "cell_type": "code",
   "execution_count": null,
   "metadata": {
    "collapsed": true
   },
   "outputs": [],
   "source": []
  },
  {
   "cell_type": "code",
   "execution_count": null,
   "metadata": {
    "collapsed": true
   },
   "outputs": [],
   "source": []
  },
  {
   "cell_type": "code",
   "execution_count": null,
   "metadata": {
    "collapsed": true
   },
   "outputs": [],
   "source": []
  },
  {
   "cell_type": "code",
   "execution_count": null,
   "metadata": {
    "collapsed": true
   },
   "outputs": [],
   "source": []
  },
  {
   "cell_type": "code",
   "execution_count": null,
   "metadata": {
    "collapsed": true
   },
   "outputs": [],
   "source": []
  },
  {
   "cell_type": "code",
   "execution_count": null,
   "metadata": {
    "collapsed": true
   },
   "outputs": [],
   "source": []
  },
  {
   "cell_type": "code",
   "execution_count": null,
   "metadata": {
    "collapsed": true
   },
   "outputs": [],
   "source": []
  },
  {
   "cell_type": "code",
   "execution_count": null,
   "metadata": {
    "collapsed": true
   },
   "outputs": [],
   "source": []
  },
  {
   "cell_type": "code",
   "execution_count": null,
   "metadata": {
    "collapsed": true
   },
   "outputs": [],
   "source": []
  },
  {
   "cell_type": "code",
   "execution_count": null,
   "metadata": {
    "collapsed": true
   },
   "outputs": [],
   "source": []
  },
  {
   "cell_type": "code",
   "execution_count": null,
   "metadata": {
    "collapsed": true
   },
   "outputs": [],
   "source": []
  },
  {
   "cell_type": "code",
   "execution_count": null,
   "metadata": {
    "collapsed": true
   },
   "outputs": [],
   "source": []
  },
  {
   "cell_type": "code",
   "execution_count": null,
   "metadata": {
    "collapsed": true
   },
   "outputs": [],
   "source": []
  },
  {
   "cell_type": "code",
   "execution_count": null,
   "metadata": {
    "collapsed": true
   },
   "outputs": [],
   "source": []
  },
  {
   "cell_type": "code",
   "execution_count": null,
   "metadata": {
    "collapsed": true
   },
   "outputs": [],
   "source": []
  },
  {
   "cell_type": "code",
   "execution_count": null,
   "metadata": {
    "collapsed": true
   },
   "outputs": [],
   "source": []
  }
 ],
 "metadata": {
  "kernelspec": {
   "display_name": "Python 3",
   "language": "python",
   "name": "python3"
  },
  "language_info": {
   "codemirror_mode": {
    "name": "ipython",
    "version": 3
   },
   "file_extension": ".py",
   "mimetype": "text/x-python",
   "name": "python",
   "nbconvert_exporter": "python",
   "pygments_lexer": "ipython3",
   "version": "3.6.3"
  }
 },
 "nbformat": 4,
 "nbformat_minor": 2
}
