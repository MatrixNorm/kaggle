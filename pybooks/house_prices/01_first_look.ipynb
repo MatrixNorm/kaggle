{
 "cells": [
  {
   "cell_type": "code",
   "execution_count": 2,
   "metadata": {
    "collapsed": true
   },
   "outputs": [],
   "source": [
    "import os\n",
    "import sys\n",
    "\n",
    "if os.environ['PY_SOURCES'] not in sys.path:\n",
    "    sys.path.append(os.environ['PY_SOURCES'])\n",
    "\n",
    "from IPython.core.interactiveshell import InteractiveShell\n",
    "InteractiveShell.ast_node_interactivity = \"all\"\n",
    "\n",
    "%load_ext rpy2.ipython"
   ]
  },
  {
   "cell_type": "code",
   "execution_count": 3,
   "metadata": {
    "cell_style": "split",
    "collapsed": true
   },
   "outputs": [],
   "source": [
    "import IPython\n",
    "import numpy as np\n",
    "import pandas as pd\n",
    "import kaggle.house_prices.helpers as helpers\n",
    "\n",
    "combined_dataset = helpers.load_data()"
   ]
  },
  {
   "cell_type": "code",
   "execution_count": 4,
   "metadata": {
    "cell_style": "split",
    "collapsed": true
   },
   "outputs": [],
   "source": [
    "from rpy2 import robjects\n",
    "from rpy2.robjects.lib import ggplot2\n",
    "from rpy2.robjects.lib import grdevices\n",
    "\n",
    "robjects.pandas2ri.activate()"
   ]
  },
  {
   "cell_type": "code",
   "execution_count": 5,
   "metadata": {
    "cell_style": "center"
   },
   "outputs": [
    {
     "data": {
      "text/plain": [
       "(2919, 82)"
      ]
     },
     "execution_count": 5,
     "metadata": {},
     "output_type": "execute_result"
    },
    {
     "data": {
      "text/plain": [
       "(1460, 82)"
      ]
     },
     "execution_count": 5,
     "metadata": {},
     "output_type": "execute_result"
    },
    {
     "data": {
      "text/plain": [
       "(1459, 82)"
      ]
     },
     "execution_count": 5,
     "metadata": {},
     "output_type": "execute_result"
    }
   ],
   "source": [
    "combined_dataset.shape\n",
    "combined_dataset[combined_dataset['dataSource'] == 'train'].shape\n",
    "combined_dataset[combined_dataset['dataSource'] == 'test'].shape"
   ]
  },
  {
   "cell_type": "code",
   "execution_count": 6,
   "metadata": {
    "cell_style": "split"
   },
   "outputs": [
    {
     "name": "stdout",
     "output_type": "stream",
     "text": [
      "<class 'pandas.core.frame.DataFrame'>\n",
      "Int64Index: 2919 entries, 0 to 1458\n",
      "Data columns (total 45 columns):\n",
      "Alley            198 non-null object\n",
      "BldgType         2919 non-null object\n",
      "BsmtCond         2837 non-null object\n",
      "BsmtExposure     2837 non-null object\n",
      "BsmtFinType1     2840 non-null object\n",
      "BsmtFinType2     2839 non-null object\n",
      "BsmtQual         2838 non-null object\n",
      "CentralAir       2919 non-null object\n",
      "Condition1       2919 non-null object\n",
      "Condition2       2919 non-null object\n",
      "Electrical       2918 non-null object\n",
      "ExterCond        2919 non-null object\n",
      "ExterQual        2919 non-null object\n",
      "Exterior1st      2918 non-null object\n",
      "Exterior2nd      2918 non-null object\n",
      "Fence            571 non-null object\n",
      "FireplaceQu      1499 non-null object\n",
      "Foundation       2919 non-null object\n",
      "Functional       2917 non-null object\n",
      "GarageCond       2760 non-null object\n",
      "GarageFinish     2760 non-null object\n",
      "GarageQual       2760 non-null object\n",
      "GarageType       2762 non-null object\n",
      "Heating          2919 non-null object\n",
      "HeatingQC        2919 non-null object\n",
      "HouseStyle       2919 non-null object\n",
      "KitchenQual      2918 non-null object\n",
      "LandContour      2919 non-null object\n",
      "LandSlope        2919 non-null object\n",
      "LotConfig        2919 non-null object\n",
      "LotShape         2919 non-null object\n",
      "MSSubClass       2919 non-null object\n",
      "MSZoning         2915 non-null object\n",
      "MasVnrType       2895 non-null object\n",
      "MiscFeature      105 non-null object\n",
      "Neighborhood     2919 non-null object\n",
      "PavedDrive       2919 non-null object\n",
      "PoolQC           10 non-null object\n",
      "RoofMatl         2919 non-null object\n",
      "RoofStyle        2919 non-null object\n",
      "SaleCondition    2919 non-null object\n",
      "SaleType         2918 non-null object\n",
      "Street           2919 non-null object\n",
      "Utilities        2917 non-null object\n",
      "SalePrice        1460 non-null float64\n",
      "dtypes: float64(1), object(44)\n",
      "memory usage: 1.0+ MB\n"
     ]
    }
   ],
   "source": [
    "colnames = helpers.get_character_colnames(combined_dataset)\n",
    "colnames.remove('dataSource')\n",
    "colnames.append('SalePrice')\n",
    "\n",
    "categ_data = combined_dataset[colnames]\n",
    "categ_data.info()"
   ]
  },
  {
   "cell_type": "code",
   "execution_count": 7,
   "metadata": {
    "cell_style": "split"
   },
   "outputs": [
    {
     "name": "stdout",
     "output_type": "stream",
     "text": [
      "<class 'pandas.core.frame.DataFrame'>\n",
      "Int64Index: 2919 entries, 0 to 1458\n",
      "Data columns (total 36 columns):\n",
      "1stFlrSF         2919 non-null int64\n",
      "2ndFlrSF         2919 non-null int64\n",
      "3SsnPorch        2919 non-null int64\n",
      "BedroomAbvGr     2919 non-null int64\n",
      "BsmtFinSF1       2918 non-null float64\n",
      "BsmtFinSF2       2918 non-null float64\n",
      "BsmtFullBath     2917 non-null float64\n",
      "BsmtHalfBath     2917 non-null float64\n",
      "BsmtUnfSF        2918 non-null float64\n",
      "EnclosedPorch    2919 non-null int64\n",
      "Fireplaces       2919 non-null int64\n",
      "FullBath         2919 non-null int64\n",
      "GarageArea       2918 non-null float64\n",
      "GarageCars       2918 non-null float64\n",
      "GarageYrBlt      2760 non-null float64\n",
      "GrLivArea        2919 non-null int64\n",
      "HalfBath         2919 non-null int64\n",
      "KitchenAbvGr     2919 non-null int64\n",
      "LotArea          2919 non-null int64\n",
      "LotFrontage      2433 non-null float64\n",
      "LowQualFinSF     2919 non-null int64\n",
      "MasVnrArea       2896 non-null float64\n",
      "MiscVal          2919 non-null int64\n",
      "MoSold           2919 non-null int64\n",
      "OpenPorchSF      2919 non-null int64\n",
      "OverallCond      2919 non-null int64\n",
      "OverallQual      2919 non-null int64\n",
      "PoolArea         2919 non-null int64\n",
      "SalePrice        1460 non-null float64\n",
      "ScreenPorch      2919 non-null int64\n",
      "TotRmsAbvGrd     2919 non-null int64\n",
      "TotalBsmtSF      2918 non-null float64\n",
      "WoodDeckSF       2919 non-null int64\n",
      "YearBuilt        2919 non-null int64\n",
      "YearRemodAdd     2919 non-null int64\n",
      "YrSold           2919 non-null int64\n",
      "dtypes: float64(12), int64(24)\n",
      "memory usage: 843.8 KB\n"
     ]
    }
   ],
   "source": [
    "colnames = helpers.get_numeric_colnames(combined_dataset)\n",
    "colnames.remove('Id')\n",
    "\n",
    "numeric_data = combined_dataset[colnames]\n",
    "numeric_data.info()"
   ]
  },
  {
   "cell_type": "code",
   "execution_count": 8,
   "metadata": {
    "collapsed": true
   },
   "outputs": [],
   "source": [
    "def entropy(col):\n",
    "    freqs = col.value_counts(dropna=False) / len(col)\n",
    "    return -np.sum(freqs * np.log2(freqs))"
   ]
  },
  {
   "cell_type": "code",
   "execution_count": 9,
   "metadata": {
    "cell_style": "split"
   },
   "outputs": [
    {
     "data": {
      "text/plain": [
       "Utilities      0.012627\n",
       "PoolQC         0.038203\n",
       "Street         0.038504\n",
       "Condition2     0.106434\n",
       "RoofMatl       0.138519\n",
       "Heating        0.139775\n",
       "MiscFeature    0.244488\n",
       "LandSlope      0.303799\n",
       "CentralAir     0.355183\n",
       "Alley          0.423391\n",
       "dtype: float64"
      ]
     },
     "execution_count": 9,
     "metadata": {},
     "output_type": "execute_result"
    },
    {
     "data": {
      "text/plain": [
       "BsmtFinType1    2.454724\n",
       "Exterior1st     2.723429\n",
       "Exterior2nd     2.800720\n",
       "MSSubClass      2.920021\n",
       "Neighborhood    4.212100\n",
       "dtype: float64"
      ]
     },
     "execution_count": 9,
     "metadata": {},
     "output_type": "execute_result"
    }
   ],
   "source": [
    "categ_vars_by_entropy = (\n",
    "    categ_data\n",
    "    .drop('SalePrice', 1)\n",
    "    .apply(entropy)\n",
    "    .sort_values()\n",
    ")\n",
    "    \n",
    "categ_vars_by_entropy.head(10)\n",
    "categ_vars_by_entropy.tail()"
   ]
  },
  {
   "cell_type": "code",
   "execution_count": 10,
   "metadata": {
    "cell_style": "split"
   },
   "outputs": [
    {
     "data": {
      "text/plain": [
       "PoolArea        0.057677\n",
       "3SsnPorch       0.158769\n",
       "LowQualFinSF    0.173265\n",
       "KitchenAbvGr    0.280959\n",
       "BsmtHalfBath    0.344808\n",
       "MiscVal         0.374903\n",
       "ScreenPorch     0.991907\n",
       "HalfBath        1.010771\n",
       "BsmtFullBath    1.077617\n",
       "FullBath        1.173785\n",
       "dtype: float64"
      ]
     },
     "execution_count": 10,
     "metadata": {},
     "output_type": "execute_result"
    },
    {
     "data": {
      "text/plain": [
       "TotalBsmtSF     9.348757\n",
       "BsmtUnfSF       9.390885\n",
       "1stFlrSF        9.601608\n",
       "GrLivArea       9.882939\n",
       "LotArea        10.400602\n",
       "dtype: float64"
      ]
     },
     "execution_count": 10,
     "metadata": {},
     "output_type": "execute_result"
    }
   ],
   "source": [
    "numeric_vars_by_entropy = (\n",
    "    numeric_data\n",
    "    .drop('SalePrice', 1)\n",
    "    .apply(entropy)\n",
    "    .sort_values())\n",
    "    \n",
    "numeric_vars_by_entropy.head(10)\n",
    "numeric_vars_by_entropy.tail()"
   ]
  },
  {
   "cell_type": "code",
   "execution_count": 11,
   "metadata": {
    "cell_style": "center",
    "collapsed": true
   },
   "outputs": [],
   "source": [
    "target_normal_paper = pd.melt(\n",
    "    (\n",
    "        combined_dataset[['SalePrice']]\n",
    "        .dropna()\n",
    "        .rename(\n",
    "            columns={\"SalePrice\": \"price\"}\n",
    "        )\n",
    "        .assign(\n",
    "            **{\n",
    "                'price.log': \n",
    "                lambda df: np.log(df.price)\n",
    "              }\n",
    "        )\n",
    "    ), \n",
    "    var_name='var', \n",
    "    value_name='value'\n",
    ").assign(\n",
    "    normed_value = lambda df: (\n",
    "        df.groupby('var', group_keys=False)\n",
    "          .apply(\n",
    "              lambda df: (df.value - np.mean(df.value)) / np.std(df.value, ddof=1)\n",
    "          )\n",
    "    )\n",
    ")"
   ]
  },
  {
   "cell_type": "code",
   "execution_count": 13,
   "metadata": {
    "cell_style": "center"
   },
   "outputs": [
    {
     "data": {
      "text/html": [
       "<div>\n",
       "<style scoped>\n",
       "    .dataframe tbody tr th:only-of-type {\n",
       "        vertical-align: middle;\n",
       "    }\n",
       "\n",
       "    .dataframe tbody tr th {\n",
       "        vertical-align: top;\n",
       "    }\n",
       "\n",
       "    .dataframe thead th {\n",
       "        text-align: right;\n",
       "    }\n",
       "</style>\n",
       "<table border=\"1\" class=\"dataframe\">\n",
       "  <thead>\n",
       "    <tr style=\"text-align: right;\">\n",
       "      <th></th>\n",
       "      <th>var</th>\n",
       "      <th>value</th>\n",
       "      <th>normed_value</th>\n",
       "    </tr>\n",
       "  </thead>\n",
       "  <tbody>\n",
       "    <tr>\n",
       "      <th>1169</th>\n",
       "      <td>price</td>\n",
       "      <td>625000.000000</td>\n",
       "      <td>5.589940</td>\n",
       "    </tr>\n",
       "    <tr>\n",
       "      <th>1182</th>\n",
       "      <td>price</td>\n",
       "      <td>745000.000000</td>\n",
       "      <td>7.100466</td>\n",
       "    </tr>\n",
       "    <tr>\n",
       "      <th>691</th>\n",
       "      <td>price</td>\n",
       "      <td>755000.000000</td>\n",
       "      <td>7.226343</td>\n",
       "    </tr>\n",
       "    <tr>\n",
       "      <th>2629</th>\n",
       "      <td>price.log</td>\n",
       "      <td>13.345507</td>\n",
       "      <td>3.308173</td>\n",
       "    </tr>\n",
       "    <tr>\n",
       "      <th>2642</th>\n",
       "      <td>price.log</td>\n",
       "      <td>13.521139</td>\n",
       "      <td>3.747857</td>\n",
       "    </tr>\n",
       "    <tr>\n",
       "      <th>2151</th>\n",
       "      <td>price.log</td>\n",
       "      <td>13.534473</td>\n",
       "      <td>3.781237</td>\n",
       "    </tr>\n",
       "  </tbody>\n",
       "</table>\n",
       "</div>"
      ],
      "text/plain": [
       "            var          value  normed_value\n",
       "1169      price  625000.000000      5.589940\n",
       "1182      price  745000.000000      7.100466\n",
       "691       price  755000.000000      7.226343\n",
       "2629  price.log      13.345507      3.308173\n",
       "2642  price.log      13.521139      3.747857\n",
       "2151  price.log      13.534473      3.781237"
      ]
     },
     "execution_count": 13,
     "metadata": {},
     "output_type": "execute_result"
    }
   ],
   "source": [
    "(target_normal_paper\n",
    "    .sort_values(['var', 'value'])\n",
    "    .groupby('var')\n",
    "    .tail(3)\n",
    ")"
   ]
  },
  {
   "cell_type": "code",
   "execution_count": 28,
   "metadata": {
    "cell_style": "center"
   },
   "outputs": [
    {
     "name": "stdout",
     "output_type": "stream",
     "text": [
      "\n"
     ]
    },
    {
     "data": {
      "image/png": "[encoded data removed]",
      "text/plain": [
       "<IPython.core.display.Image object>"
      ]
     },
     "metadata": {},
     "output_type": "display_data"
    }
   ],
   "source": [
    "with grdevices.render_to_bytesio(grdevices.png, width=2200, height=800, res=180) as img:\n",
    "    g = (\n",
    "        ggplot2.ggplot(target_normal_paper) +\n",
    "        ggplot2.stat_qq(ggplot2.aes_string(sample='normed_value'), alpha=0.2) +\n",
    "        ggplot2.facet_wrap(robjects.Formula('~var'), ncol=2) +\n",
    "        ggplot2.geom_abline(slope=1) +\n",
    "        ggplot2.theme_bw()\n",
    "    )\n",
    "    print(g)\n",
    "\n",
    "from IPython.display import Image, display\n",
    "data = img.getvalue()\n",
    "display(Image(data=data, format='png', embed=True))"
   ]
  },
  {
   "cell_type": "code",
   "execution_count": 47,
   "metadata": {
    "scrolled": false
   },
   "outputs": [
    {
     "data": {
      "text/html": [
       "<div>\n",
       "<style scoped>\n",
       "    .dataframe tbody tr th:only-of-type {\n",
       "        vertical-align: middle;\n",
       "    }\n",
       "\n",
       "    .dataframe tbody tr th {\n",
       "        vertical-align: top;\n",
       "    }\n",
       "\n",
       "    .dataframe thead th {\n",
       "        text-align: right;\n",
       "    }\n",
       "</style>\n",
       "<table border=\"1\" class=\"dataframe\">\n",
       "  <thead>\n",
       "    <tr style=\"text-align: right;\">\n",
       "      <th></th>\n",
       "      <th>var</th>\n",
       "      <th>value</th>\n",
       "      <th>n</th>\n",
       "      <th>mean</th>\n",
       "      <th>std</th>\n",
       "      <th>freq</th>\n",
       "      <th>lead_mean</th>\n",
       "      <th>lead_freq</th>\n",
       "      <th>lead_std</th>\n",
       "    </tr>\n",
       "  </thead>\n",
       "  <tbody>\n",
       "    <tr>\n",
       "      <th>0</th>\n",
       "      <td>Alley</td>\n",
       "      <td>Grvl</td>\n",
       "      <td>50.0</td>\n",
       "      <td>122219.080000</td>\n",
       "      <td>34780.780734</td>\n",
       "      <td>0.034247</td>\n",
       "      <td>168000.585366</td>\n",
       "      <td>0.028082</td>\n",
       "      <td>38370.375243</td>\n",
       "    </tr>\n",
       "    <tr>\n",
       "      <th>1</th>\n",
       "      <td>Alley</td>\n",
       "      <td>Pave</td>\n",
       "      <td>41.0</td>\n",
       "      <td>168000.585366</td>\n",
       "      <td>38370.375243</td>\n",
       "      <td>0.028082</td>\n",
       "      <td>183452.131483</td>\n",
       "      <td>0.937671</td>\n",
       "      <td>80667.145180</td>\n",
       "    </tr>\n",
       "    <tr>\n",
       "      <th>2</th>\n",
       "      <td>Alley</td>\n",
       "      <td>__missing__</td>\n",
       "      <td>1369.0</td>\n",
       "      <td>183452.131483</td>\n",
       "      <td>80667.145180</td>\n",
       "      <td>0.937671</td>\n",
       "      <td>NaN</td>\n",
       "      <td>NaN</td>\n",
       "      <td>NaN</td>\n",
       "    </tr>\n",
       "    <tr>\n",
       "      <th>4</th>\n",
       "      <td>BldgType</td>\n",
       "      <td>2fmCon</td>\n",
       "      <td>31.0</td>\n",
       "      <td>128432.258065</td>\n",
       "      <td>35458.545158</td>\n",
       "      <td>0.021233</td>\n",
       "      <td>133541.076923</td>\n",
       "      <td>0.035616</td>\n",
       "      <td>27833.249197</td>\n",
       "    </tr>\n",
       "    <tr>\n",
       "      <th>5</th>\n",
       "      <td>BldgType</td>\n",
       "      <td>Duplex</td>\n",
       "      <td>52.0</td>\n",
       "      <td>133541.076923</td>\n",
       "      <td>27833.249197</td>\n",
       "      <td>0.035616</td>\n",
       "      <td>135911.627907</td>\n",
       "      <td>0.029452</td>\n",
       "      <td>41013.222080</td>\n",
       "    </tr>\n",
       "    <tr>\n",
       "      <th>6</th>\n",
       "      <td>BldgType</td>\n",
       "      <td>Twnhs</td>\n",
       "      <td>43.0</td>\n",
       "      <td>135911.627907</td>\n",
       "      <td>41013.222080</td>\n",
       "      <td>0.029452</td>\n",
       "      <td>181959.342105</td>\n",
       "      <td>0.078082</td>\n",
       "      <td>60626.108918</td>\n",
       "    </tr>\n",
       "    <tr>\n",
       "      <th>7</th>\n",
       "      <td>BldgType</td>\n",
       "      <td>TwnhsE</td>\n",
       "      <td>114.0</td>\n",
       "      <td>181959.342105</td>\n",
       "      <td>60626.108918</td>\n",
       "      <td>0.078082</td>\n",
       "      <td>185763.807377</td>\n",
       "      <td>0.835616</td>\n",
       "      <td>82648.502922</td>\n",
       "    </tr>\n",
       "    <tr>\n",
       "      <th>3</th>\n",
       "      <td>BldgType</td>\n",
       "      <td>1Fam</td>\n",
       "      <td>1220.0</td>\n",
       "      <td>185763.807377</td>\n",
       "      <td>82648.502922</td>\n",
       "      <td>0.835616</td>\n",
       "      <td>NaN</td>\n",
       "      <td>NaN</td>\n",
       "      <td>NaN</td>\n",
       "    </tr>\n",
       "    <tr>\n",
       "      <th>10</th>\n",
       "      <td>BsmtCond</td>\n",
       "      <td>Po</td>\n",
       "      <td>2.0</td>\n",
       "      <td>64000.000000</td>\n",
       "      <td>4242.640687</td>\n",
       "      <td>0.001370</td>\n",
       "      <td>105652.891892</td>\n",
       "      <td>0.025342</td>\n",
       "      <td>29278.694797</td>\n",
       "    </tr>\n",
       "    <tr>\n",
       "      <th>12</th>\n",
       "      <td>BsmtCond</td>\n",
       "      <td>__missing__</td>\n",
       "      <td>37.0</td>\n",
       "      <td>105652.891892</td>\n",
       "      <td>29278.694797</td>\n",
       "      <td>0.025342</td>\n",
       "      <td>121809.533333</td>\n",
       "      <td>0.030822</td>\n",
       "      <td>43467.796975</td>\n",
       "    </tr>\n",
       "  </tbody>\n",
       "</table>\n",
       "</div>"
      ],
      "text/plain": [
       "         var        value       n           mean           std      freq  \\\n",
       "0      Alley         Grvl    50.0  122219.080000  34780.780734  0.034247   \n",
       "1      Alley         Pave    41.0  168000.585366  38370.375243  0.028082   \n",
       "2      Alley  __missing__  1369.0  183452.131483  80667.145180  0.937671   \n",
       "4   BldgType       2fmCon    31.0  128432.258065  35458.545158  0.021233   \n",
       "5   BldgType       Duplex    52.0  133541.076923  27833.249197  0.035616   \n",
       "6   BldgType        Twnhs    43.0  135911.627907  41013.222080  0.029452   \n",
       "7   BldgType       TwnhsE   114.0  181959.342105  60626.108918  0.078082   \n",
       "3   BldgType         1Fam  1220.0  185763.807377  82648.502922  0.835616   \n",
       "10  BsmtCond           Po     2.0   64000.000000   4242.640687  0.001370   \n",
       "12  BsmtCond  __missing__    37.0  105652.891892  29278.694797  0.025342   \n",
       "\n",
       "        lead_mean  lead_freq      lead_std  \n",
       "0   168000.585366   0.028082  38370.375243  \n",
       "1   183452.131483   0.937671  80667.145180  \n",
       "2             NaN        NaN           NaN  \n",
       "4   133541.076923   0.035616  27833.249197  \n",
       "5   135911.627907   0.029452  41013.222080  \n",
       "6   181959.342105   0.078082  60626.108918  \n",
       "7   185763.807377   0.835616  82648.502922  \n",
       "3             NaN        NaN           NaN  \n",
       "10  105652.891892   0.025342  29278.694797  \n",
       "12  121809.533333   0.030822  43467.796975  "
      ]
     },
     "execution_count": 47,
     "metadata": {},
     "output_type": "execute_result"
    }
   ],
   "source": [
    "class CategVarsVsTarget:\n",
    "    def __init__(self, categ_data):\n",
    "        self.categ_data = categ_data\n",
    "        self.long = None\n",
    "        self.precalculated = None\n",
    "        self.global_std = np.std(categ_data['SalePrice'], ddof=1)\n",
    "    \n",
    "    def calc_std(self, vec):\n",
    "        if len(vec) == 1:\n",
    "            return self.global_std\n",
    "        if len(vec) > 1:\n",
    "            return np.std(vec, ddof=1)\n",
    "        \n",
    "    def get_long(self):\n",
    "        if self.long:\n",
    "            return self.long\n",
    "        \n",
    "        df = self.categ_data.dropna(subset=['SalePrice']).fillna('__missing__')\n",
    "        \n",
    "        self.long = pd.melt(\n",
    "            frame=df, \n",
    "            id_vars=['SalePrice'], \n",
    "            var_name='var', \n",
    "            value_name='value'\n",
    "        )\n",
    "        return self.long\n",
    "        \n",
    "    def get_precalculated(self):\n",
    "        \"\"\"\n",
    "            Pandas group by is not a friend with NaN. \n",
    "            So all NaNs are replaced with string `__missing__`.\n",
    "        \"\"\"\n",
    "        if self.precalculated:\n",
    "            return self.precalculated\n",
    "        global_std = self.categ_data['SalePrice'].std()\n",
    "\n",
    "        long = self.get_long().groupby(['var', 'value'])\n",
    "\n",
    "        long = long.agg({\n",
    "            'SalePrice': [('n',    np.count_nonzero), \n",
    "                          ('mean', np.mean), \n",
    "                          ('std',  lambda vec: self.calc_std(vec))]}\n",
    "        )\n",
    "\n",
    "        long.columns = long.columns.get_level_values(1)\n",
    "\n",
    "        long = (long\n",
    "                .assign(freq = long.groupby('var')['n'].apply(lambda n: n / np.sum(n)))\n",
    "                .reset_index()\n",
    "                .sort_values(['var', 'mean']))\n",
    "\n",
    "        grp = long.groupby(['var'], group_keys=False)\n",
    "        long['lead_mean'] = grp.apply(lambda df: df['mean'].shift(-1))\n",
    "        long['lead_freq'] = grp.apply(lambda df: df['freq'].shift(-1))\n",
    "        long['lead_std'] = grp.apply(lambda df: df['std'].shift(-1))\n",
    "        \n",
    "        self.precalculated = long\n",
    "        return self.precalculated\n",
    "    \n",
    "    def get_separation(self):\n",
    "        x = self.get_precalculated().assign(additive = self.calc_additive)\n",
    "        x = x.groupby(['var'], group_keys=False)['additive'].sum().sort_values()\n",
    "        return x\n",
    "    \n",
    "    @staticmethod    \n",
    "    def calc_additive(df):\n",
    "        up = (df['lead_mean'] - df['mean'])**2\n",
    "        down = df['std']**2 / df['freq'] + df['lead_std']**2 / df['lead_freq']\n",
    "        return up / down\n",
    "\n",
    "precalculated = CategVarsVsTarget(categ_data).get_precalculated()\n",
    "categ_vars_by_target_separation = CategVarsVsTarget(categ_data).get_separation()\n",
    "\n",
    "precalculated.head(10)"
   ]
  },
  {
   "cell_type": "code",
   "execution_count": 45,
   "metadata": {
    "cell_style": "split"
   },
   "outputs": [
    {
     "data": {
      "text/plain": [
       "var\n",
       "Utilities     0.000205\n",
       "LotConfig     0.000507\n",
       "Functional    0.000648\n",
       "PoolQC        0.001066\n",
       "Condition2    0.001223\n",
       "Name: additive, dtype: float64"
      ]
     },
     "execution_count": 45,
     "metadata": {},
     "output_type": "execute_result"
    }
   ],
   "source": [
    "categ_vars_by_target_separation.head(5)"
   ]
  },
  {
   "cell_type": "code",
   "execution_count": 46,
   "metadata": {
    "cell_style": "split"
   },
   "outputs": [
    {
     "data": {
      "text/plain": [
       "var\n",
       "CentralAir      0.204230\n",
       "GarageFinish    0.275604\n",
       "BsmtQual        0.421098\n",
       "KitchenQual     0.477529\n",
       "ExterQual       0.487153\n",
       "Name: additive, dtype: float64"
      ]
     },
     "execution_count": 46,
     "metadata": {},
     "output_type": "execute_result"
    }
   ],
   "source": [
    "categ_vars_by_target_separation.tail(5)"
   ]
  },
  {
   "cell_type": "code",
   "execution_count": 52,
   "metadata": {},
   "outputs": [
    {
     "data": {
      "text/html": [
       "<div>\n",
       "<style scoped>\n",
       "    .dataframe tbody tr th:only-of-type {\n",
       "        vertical-align: middle;\n",
       "    }\n",
       "\n",
       "    .dataframe tbody tr th {\n",
       "        vertical-align: top;\n",
       "    }\n",
       "\n",
       "    .dataframe thead th {\n",
       "        text-align: right;\n",
       "    }\n",
       "</style>\n",
       "<table border=\"1\" class=\"dataframe\">\n",
       "  <thead>\n",
       "    <tr style=\"text-align: right;\">\n",
       "      <th></th>\n",
       "      <th>SalePrice</th>\n",
       "      <th>ExterQual</th>\n",
       "    </tr>\n",
       "  </thead>\n",
       "  <tbody>\n",
       "    <tr>\n",
       "      <th>0</th>\n",
       "      <td>208500.0</td>\n",
       "      <td>Gd</td>\n",
       "    </tr>\n",
       "    <tr>\n",
       "      <th>1</th>\n",
       "      <td>181500.0</td>\n",
       "      <td>TA</td>\n",
       "    </tr>\n",
       "    <tr>\n",
       "      <th>2</th>\n",
       "      <td>223500.0</td>\n",
       "      <td>Gd</td>\n",
       "    </tr>\n",
       "    <tr>\n",
       "      <th>3</th>\n",
       "      <td>140000.0</td>\n",
       "      <td>TA</td>\n",
       "    </tr>\n",
       "    <tr>\n",
       "      <th>4</th>\n",
       "      <td>250000.0</td>\n",
       "      <td>Gd</td>\n",
       "    </tr>\n",
       "  </tbody>\n",
       "</table>\n",
       "</div>"
      ],
      "text/plain": [
       "   SalePrice ExterQual\n",
       "0   208500.0        Gd\n",
       "1   181500.0        TA\n",
       "2   223500.0        Gd\n",
       "3   140000.0        TA\n",
       "4   250000.0        Gd"
      ]
     },
     "execution_count": 52,
     "metadata": {},
     "output_type": "execute_result"
    },
    {
     "data": {
      "text/plain": [
       "CategoricalDtype(categories=['Fa', 'TA', 'Gd', 'Ex'], ordered=True)"
      ]
     },
     "execution_count": 52,
     "metadata": {},
     "output_type": "execute_result"
    }
   ],
   "source": [
    "tmp = (\n",
    "    categ_data\n",
    "    .dropna(subset=['SalePrice'])\n",
    "    [['SalePrice', 'ExterQual']]\n",
    "    .fillna('__missing__')\n",
    ")\n",
    "\n",
    "factor_ordering = (\n",
    "    tmp\n",
    "    .groupby('ExterQual', as_index=False)\n",
    "    .agg(np.mean)\n",
    "    .sort_values('SalePrice')\n",
    "    ['ExterQual']\n",
    ")\n",
    "\n",
    "tmp = (\n",
    "    tmp\n",
    "    .assign(ExterQual=(\n",
    "        lambda df: df[\"ExterQual\"]\n",
    "                   .astype('category')\n",
    "                   .cat.reorder_categories(factor_ordering, ordered=True)))\n",
    ")\n",
    "\n",
    "tmp.head()\n",
    "tmp['ExterQual'].dtype"
   ]
  },
  {
   "cell_type": "code",
   "execution_count": 51,
   "metadata": {},
   "outputs": [
    {
     "name": "stdout",
     "output_type": "stream",
     "text": [
      "<class 'pandas.core.frame.DataFrame'>\n",
      "Int64Index: 1460 entries, 0 to 1459\n",
      "Data columns (total 2 columns):\n",
      "SalePrice    1460 non-null float64\n",
      "ExterQual    1460 non-null category\n",
      "dtypes: category(1), float64(1)\n",
      "memory usage: 24.4 KB\n"
     ]
    }
   ],
   "source": [
    "tmp.info()"
   ]
  },
  {
   "cell_type": "code",
   "execution_count": null,
   "metadata": {
    "collapsed": true
   },
   "outputs": [],
   "source": []
  },
  {
   "cell_type": "code",
   "execution_count": 54,
   "metadata": {
    "collapsed": true
   },
   "outputs": [],
   "source": [
    "import rpy2.robjects.lib.ggplot2 as ggplot2\n",
    "from rpy2 import robjects\n",
    "from rpy2.robjects import pandas2ri\n",
    "pandas2ri.activate()\n",
    "\n",
    "# gp = ggplot2.ggplot(tmp)\n",
    "\n",
    "# pp = gp + \\\n",
    "#      ggplot2.aes_string(x='SalePrice', color='ExterQual') + \\\n",
    "#      ggplot2.geom_density(ggplot2.aes_string(y='..scaled..', fill='ExterQual'), alpha=0.2) + \\\n",
    "#      ggplot2.facet_wrap(robjects.Formula('~ ExterQual'), nrow=1) + \\\n",
    "#      ggplot2.coord_flip() + \\\n",
    "#      ggplot2.theme_bw() + \\\n",
    "\n",
    "#      ggplot2.theme(**{'legend.position': 'bottom'})\n",
    "\n",
    "# pp.plot()\n",
    "# pp.__class__"
   ]
  },
  {
   "cell_type": "code",
   "execution_count": 57,
   "metadata": {},
   "outputs": [
    {
     "name": "stderr",
     "output_type": "stream",
     "text": [
      "/home/me/opt/miniconda3/lib/python3.6/site-packages/rpy2/robjects/pandas2ri.py:61: UserWarning: Error while trying to convert the column \"ExterQual\". Fall back to string conversion. The error is: function takes at most 1 argument (2 given)\n",
      "  (name, str(e)))\n"
     ]
    },
    {
     "name": "stdout",
     "output_type": "stream",
     "text": [
      "\n"
     ]
    },
    {
     "data": {
      "image/png": "[encoded data removed]",
      "text/plain": [
       "<IPython.core.display.Image object>"
      ]
     },
     "metadata": {},
     "output_type": "display_data"
    }
   ],
   "source": [
    "import rpy2\n",
    "import IPython\n",
    "from rpy2.robjects.lib import grdevices\n",
    "\n",
    "\n",
    "with grdevices.render_to_bytesio(grdevices.png, width=1300, height=500, res=150) as img:\n",
    "    g = ggplot2.ggplot(pandas2ri.py2ri(tmp)) + \\\n",
    "    ggplot2.aes_string(x='SalePrice', color='ExterQual') + \\\n",
    "    ggplot2.geom_density(ggplot2.aes_string(y='..scaled..', fill='ExterQual'), alpha=0.2) + \\\n",
    "    ggplot2.facet_wrap(robjects.Formula('~ ExterQual'), nrow=1) + \\\n",
    "    ggplot2.coord_flip() + \\\n",
    "    ggplot2.theme_bw() + \\\n",
    "    ggplot2.theme(**{'legend.position': 'bottom'})\n",
    "    print(g)\n",
    "\n",
    "from IPython.display import Image, display\n",
    "data = img.getvalue()\n",
    "display(Image(data=data, format='png', embed=True))"
   ]
  },
  {
   "cell_type": "code",
   "execution_count": 60,
   "metadata": {},
   "outputs": [
    {
     "name": "stderr",
     "output_type": "stream",
     "text": [
      "/home/me/opt/miniconda3/lib/python3.6/site-packages/rpy2/robjects/pandas2ri.py:61: UserWarning: Error while trying to convert the column \"ExterQual\". Fall back to string conversion. The error is: function takes at most 1 argument (2 given)\n",
      "  (name, str(e)))\n"
     ]
    },
    {
     "data": {
      "text/html": [
       "\n",
       "    <span>StrVector with 2 elements.</span>\n",
       "    <table>\n",
       "      <tbody>\n",
       "      <tr>\n",
       "      \n",
       "      <td>\n",
       "        'SalePrice'\n",
       "      </td>\n",
       "      \n",
       "      <td>\n",
       "        'ExterQual'\n",
       "      </td>\n",
       "      \n",
       "      </tr>\n",
       "      </tbody>\n",
       "    </table>\n",
       "    "
      ],
      "text/plain": [
       "R object with classes: ('character',) mapped to:\n",
       "<StrVector - Python:0x7fc44feeda08 / R:0x55eb9ca2b408>\n",
       "['SalePrice', 'ExterQual']"
      ]
     },
     "execution_count": 60,
     "metadata": {},
     "output_type": "execute_result"
    }
   ],
   "source": [
    "x = pandas2ri.py2ri(tmp)\n"
   ]
  },
  {
   "cell_type": "code",
   "execution_count": null,
   "metadata": {
    "collapsed": true
   },
   "outputs": [],
   "source": []
  },
  {
   "cell_type": "code",
   "execution_count": null,
   "metadata": {
    "collapsed": true
   },
   "outputs": [],
   "source": []
  },
  {
   "cell_type": "code",
   "execution_count": null,
   "metadata": {
    "collapsed": true
   },
   "outputs": [],
   "source": []
  },
  {
   "cell_type": "code",
   "execution_count": null,
   "metadata": {
    "collapsed": true
   },
   "outputs": [],
   "source": []
  },
  {
   "cell_type": "code",
   "execution_count": null,
   "metadata": {
    "collapsed": true
   },
   "outputs": [],
   "source": []
  },
  {
   "cell_type": "code",
   "execution_count": null,
   "metadata": {
    "collapsed": true
   },
   "outputs": [],
   "source": []
  },
  {
   "cell_type": "code",
   "execution_count": null,
   "metadata": {
    "collapsed": true
   },
   "outputs": [],
   "source": []
  },
  {
   "cell_type": "code",
   "execution_count": null,
   "metadata": {
    "collapsed": true
   },
   "outputs": [],
   "source": []
  },
  {
   "cell_type": "code",
   "execution_count": null,
   "metadata": {
    "collapsed": true
   },
   "outputs": [],
   "source": []
  },
  {
   "cell_type": "code",
   "execution_count": null,
   "metadata": {
    "collapsed": true
   },
   "outputs": [],
   "source": []
  },
  {
   "cell_type": "code",
   "execution_count": null,
   "metadata": {
    "collapsed": true
   },
   "outputs": [],
   "source": []
  },
  {
   "cell_type": "code",
   "execution_count": null,
   "metadata": {
    "collapsed": true
   },
   "outputs": [],
   "source": []
  },
  {
   "cell_type": "code",
   "execution_count": null,
   "metadata": {
    "collapsed": true
   },
   "outputs": [],
   "source": []
  },
  {
   "cell_type": "code",
   "execution_count": null,
   "metadata": {
    "collapsed": true
   },
   "outputs": [],
   "source": []
  },
  {
   "cell_type": "code",
   "execution_count": null,
   "metadata": {
    "collapsed": true
   },
   "outputs": [],
   "source": []
  },
  {
   "cell_type": "code",
   "execution_count": null,
   "metadata": {
    "collapsed": true
   },
   "outputs": [],
   "source": []
  },
  {
   "cell_type": "code",
   "execution_count": null,
   "metadata": {
    "collapsed": true
   },
   "outputs": [],
   "source": []
  },
  {
   "cell_type": "code",
   "execution_count": null,
   "metadata": {
    "collapsed": true
   },
   "outputs": [],
   "source": []
  },
  {
   "cell_type": "code",
   "execution_count": null,
   "metadata": {
    "collapsed": true
   },
   "outputs": [],
   "source": []
  },
  {
   "cell_type": "code",
   "execution_count": null,
   "metadata": {
    "collapsed": true
   },
   "outputs": [],
   "source": []
  }
 ],
 "metadata": {
  "kernelspec": {
   "display_name": "Python 3",
   "language": "python",
   "name": "python3"
  },
  "language_info": {
   "codemirror_mode": {
    "name": "ipython",
    "version": 3
   },
   "file_extension": ".py",
   "mimetype": "text/x-python",
   "name": "python",
   "nbconvert_exporter": "python",
   "pygments_lexer": "ipython3",
   "version": "3.6.3"
  }
 },
 "nbformat": 4,
 "nbformat_minor": 2
}
